{
 "cells": [
  {
   "cell_type": "code",
   "execution_count": 160,
   "metadata": {
    "collapsed": true
   },
   "outputs": [],
   "source": [
    "%matplotlib inline\n",
    "import matplotlib.pyplot as plt\n",
    "import seaborn as sns\n",
    "import pandas as pd\n",
    "import numpy as np\n",
    "import os\n",
    "import glob\n",
    "import matplotlib.patches as mpatches\n",
    "\n",
    "from itertools import izip"
   ]
  },
  {
   "cell_type": "code",
   "execution_count": 12,
   "metadata": {
    "collapsed": true
   },
   "outputs": [],
   "source": [
    "wd = '/home/bay001/projects/tbos_clipseq_20160809/analysis/v3_8-15-2016'\n",
    "bedhead = ['chrom','start','end','l10pval','l2fc','strand','ann','gene']\n",
    "regions = ['3utr','5utr','CDS','5utr_and_3utr','intron','noncoding_exon','noncoding_intron','intergenic']\n",
    "suffix = '.peaks.l2inputnormnew.bed.compressed.bed.annotated'\n",
    "\n",
    "FOLD_CHANGE_CUTOFF = 3\n",
    "PVALUE_CUTOFF = 5"
   ]
  },
  {
   "cell_type": "code",
   "execution_count": 15,
   "metadata": {
    "collapsed": true
   },
   "outputs": [],
   "source": [
    "import re\n",
    "def get_counts(wd):\n",
    "    samples = {}\n",
    "    for f in glob.glob(os.path.join(wd,'*.annotated')):\n",
    "        df = pd.read_table(f,names=bedhead)\n",
    "        df = df[(df['l10pval'] > PVALUE_CUTOFF) & (df['l2fc'] > FOLD_CHANGE_CUTOFF)]\n",
    "        basename = f.replace(wd+'/','').replace(suffix,'')\n",
    "        basename = re.sub(r'\\.basedon_\\w+','',basename)\n",
    "        samples[basename] = {}\n",
    "        df['region'] = df.apply(return_region,axis=1)\n",
    "        for key,value in df['region'].value_counts().iteritems():\n",
    "            samples[basename][key] = value\n",
    "        for region in regions:\n",
    "            if region not in samples[basename]:\n",
    "                samples[basename][region] = 0\n",
    "    return samples\n",
    "def return_region(row):\n",
    "    region = row['ann'].split('|')[0]\n",
    "    \n",
    "    return region"
   ]
  },
  {
   "cell_type": "code",
   "execution_count": 336,
   "metadata": {
    "collapsed": false
   },
   "outputs": [
    {
     "data": {
      "text/html": [
       "<div>\n",
       "<table border=\"1\" class=\"dataframe\">\n",
       "  <thead>\n",
       "    <tr style=\"text-align: right;\">\n",
       "      <th></th>\n",
       "      <th>3utr</th>\n",
       "      <th>5utr</th>\n",
       "      <th>CDS</th>\n",
       "      <th>intron</th>\n",
       "      <th>noncoding_exon</th>\n",
       "      <th>noncoding_intron</th>\n",
       "    </tr>\n",
       "  </thead>\n",
       "  <tbody>\n",
       "    <tr>\n",
       "      <th>A11_01_01</th>\n",
       "      <td>1314</td>\n",
       "      <td>156</td>\n",
       "      <td>1562</td>\n",
       "      <td>231</td>\n",
       "      <td>82</td>\n",
       "      <td>62</td>\n",
       "    </tr>\n",
       "    <tr>\n",
       "      <th>A11_02_01</th>\n",
       "      <td>1088</td>\n",
       "      <td>263</td>\n",
       "      <td>1247</td>\n",
       "      <td>234</td>\n",
       "      <td>90</td>\n",
       "      <td>72</td>\n",
       "    </tr>\n",
       "    <tr>\n",
       "      <th>A1_01_01</th>\n",
       "      <td>2821</td>\n",
       "      <td>42</td>\n",
       "      <td>34</td>\n",
       "      <td>1592</td>\n",
       "      <td>140</td>\n",
       "      <td>62</td>\n",
       "    </tr>\n",
       "    <tr>\n",
       "      <th>A1_02_01</th>\n",
       "      <td>3177</td>\n",
       "      <td>45</td>\n",
       "      <td>36</td>\n",
       "      <td>1757</td>\n",
       "      <td>138</td>\n",
       "      <td>65</td>\n",
       "    </tr>\n",
       "    <tr>\n",
       "      <th>A2_01_01</th>\n",
       "      <td>41</td>\n",
       "      <td>31</td>\n",
       "      <td>11</td>\n",
       "      <td>119</td>\n",
       "      <td>9</td>\n",
       "      <td>2</td>\n",
       "    </tr>\n",
       "  </tbody>\n",
       "</table>\n",
       "</div>"
      ],
      "text/plain": [
       "           3utr  5utr   CDS  intron  noncoding_exon  noncoding_intron\n",
       "A11_01_01  1314   156  1562     231              82                62\n",
       "A11_02_01  1088   263  1247     234              90                72\n",
       "A1_01_01   2821    42    34    1592             140                62\n",
       "A1_02_01   3177    45    36    1757             138                65\n",
       "A2_01_01     41    31    11     119               9                 2"
      ]
     },
     "execution_count": 336,
     "metadata": {},
     "output_type": "execute_result"
    }
   ],
   "source": [
    "# take out intergenic and 3_and_5prime annotations per discussion 8-25-2016\n",
    "samples = get_counts(wd)\n",
    "df = pd.DataFrame(samples)\n",
    "df.drop('5utr_and_3utr',inplace=True)\n",
    "df.drop('intergenic',inplace=True)\n",
    "df = df.T\n",
    "df.head()"
   ]
  },
  {
   "cell_type": "code",
   "execution_count": 412,
   "metadata": {
    "collapsed": false
   },
   "outputs": [
    {
     "data": {
      "text/plain": [
       "([<matplotlib.axis.XTick at 0x2afff455b610>,\n",
       "  <matplotlib.axis.XTick at 0x2afff455b650>,\n",
       "  <matplotlib.axis.XTick at 0x2afff3ad5710>,\n",
       "  <matplotlib.axis.XTick at 0x2afff2dce390>,\n",
       "  <matplotlib.axis.XTick at 0x2afff2b72c90>],\n",
       " <a list of 5 Text xticklabel objects>)"
      ]
     },
     "execution_count": 412,
     "metadata": {},
     "output_type": "execute_result"
    },
    {
     "data": {
      "image/png": "[encoded data removed]",
      "text/plain": [
       "<matplotlib.figure.Figure at 0x2afff158c090>"
      ]
     },
     "metadata": {},
     "output_type": "display_data"
    }
   ],
   "source": [
    "df = df.head(5)\n",
    "s = sns.color_palette(\"hls\", 6)\n",
    "col = {'3utr':s[0],'5utr':s[1],'CDS':s[2],'intron':s[3],'noncoding_exon':s[4],'noncoding_intron':s[5]}\n",
    "plt.figure(figsize=(30,5))\n",
    "utr3 = mpatches.Patch(color=s[0], label='3UTR')\n",
    "utr5 = mpatches.Patch(color=s[1], label='5UTR')\n",
    "cds = mpatches.Patch(color=s[2], label='CDS')\n",
    "intron = mpatches.Patch(color=s[3], label='intron')\n",
    "ncexon = mpatches.Patch(color=s[4], label='ncexon')\n",
    "ncintron = mpatches.Patch(color=s[5], label='ncintron')\n",
    "ax = fig.add_subplot(1, 1, 1, frameon=False)\n",
    "plt.legend(handles=[utr3,utr5,cds,intron,ncexon,ncintron])\n",
    "for x in range(0,len(df.index)):\n",
    "    offset = df.ix[x].sum()\n",
    "    for splicetype in (df.ix[x].sort_values().index):\n",
    "        offset = offset - df.ix[x][splicetype]\n",
    "        plt.bar(x,offset+df.ix[x][splicetype],color=col[splicetype])\n",
    "\n",
    "plt.xticks(range(0,len(df.index), 1), df.index, rotation=90,)\n"
   ]
  },
  {
   "cell_type": "code",
   "execution_count": 407,
   "metadata": {
    "collapsed": false
   },
   "outputs": [
    {
     "data": {
      "text/plain": [
       "Index([u'A11_01_01', u'A11_02_01', u'A1_01_01', u'A1_02_01'], dtype='object')"
      ]
     },
     "execution_count": 407,
     "metadata": {},
     "output_type": "execute_result"
    }
   ],
   "source": [
    "dx.index"
   ]
  },
  {
   "cell_type": "code",
   "execution_count": 324,
   "metadata": {
    "collapsed": false
   },
   "outputs": [
    {
     "data": {
      "text/html": [
       "<div>\n",
       "<table border=\"1\" class=\"dataframe\">\n",
       "  <thead>\n",
       "    <tr style=\"text-align: right;\">\n",
       "      <th></th>\n",
       "      <th>0</th>\n",
       "      <th>1</th>\n",
       "      <th>2</th>\n",
       "      <th>3</th>\n",
       "      <th>4</th>\n",
       "      <th>5</th>\n",
       "    </tr>\n",
       "  </thead>\n",
       "  <tbody>\n",
       "    <tr>\n",
       "      <th>A11_01_01</th>\n",
       "      <td>1314</td>\n",
       "      <td>156</td>\n",
       "      <td>1562</td>\n",
       "      <td>231</td>\n",
       "      <td>82</td>\n",
       "      <td>62</td>\n",
       "    </tr>\n",
       "    <tr>\n",
       "      <th>A11_02_01</th>\n",
       "      <td>1088</td>\n",
       "      <td>263</td>\n",
       "      <td>1247</td>\n",
       "      <td>234</td>\n",
       "      <td>90</td>\n",
       "      <td>72</td>\n",
       "    </tr>\n",
       "    <tr>\n",
       "      <th>A1_01_01</th>\n",
       "      <td>2821</td>\n",
       "      <td>42</td>\n",
       "      <td>34</td>\n",
       "      <td>1592</td>\n",
       "      <td>140</td>\n",
       "      <td>62</td>\n",
       "    </tr>\n",
       "    <tr>\n",
       "      <th>A1_02_01</th>\n",
       "      <td>3177</td>\n",
       "      <td>45</td>\n",
       "      <td>36</td>\n",
       "      <td>1757</td>\n",
       "      <td>138</td>\n",
       "      <td>65</td>\n",
       "    </tr>\n",
       "  </tbody>\n",
       "</table>\n",
       "</div>"
      ],
      "text/plain": [
       "              0    1     2     3    4   5\n",
       "A11_01_01  1314  156  1562   231   82  62\n",
       "A11_02_01  1088  263  1247   234   90  72\n",
       "A1_01_01   2821   42    34  1592  140  62\n",
       "A1_02_01   3177   45    36  1757  138  65"
      ]
     },
     "execution_count": 324,
     "metadata": {},
     "output_type": "execute_result"
    }
   ],
   "source": [
    "# this is just messing around with a maps function, but i'm too lazy to make a new notebook :) \n",
    "df2 = df.head(4)\n",
    "df2.columns = range(0,6)\n",
    "df2"
   ]
  },
  {
   "cell_type": "code",
   "execution_count": 325,
   "metadata": {
    "collapsed": false
   },
   "outputs": [
    {
     "data": {
      "text/html": [
       "<div>\n",
       "<table border=\"1\" class=\"dataframe\">\n",
       "  <thead>\n",
       "    <tr style=\"text-align: right;\">\n",
       "      <th></th>\n",
       "      <th>lowsum</th>\n",
       "      <th>0</th>\n",
       "      <th>1</th>\n",
       "      <th>2</th>\n",
       "      <th>3</th>\n",
       "      <th>4</th>\n",
       "      <th>5</th>\n",
       "    </tr>\n",
       "  </thead>\n",
       "  <tbody>\n",
       "    <tr>\n",
       "      <th>A11_01_01</th>\n",
       "      <td>144</td>\n",
       "      <td>1314</td>\n",
       "      <td>0</td>\n",
       "      <td>1562</td>\n",
       "      <td>0</td>\n",
       "      <td>0</td>\n",
       "      <td>0</td>\n",
       "    </tr>\n",
       "    <tr>\n",
       "      <th>A11_02_01</th>\n",
       "      <td>162</td>\n",
       "      <td>1088</td>\n",
       "      <td>0</td>\n",
       "      <td>1247</td>\n",
       "      <td>0</td>\n",
       "      <td>0</td>\n",
       "      <td>0</td>\n",
       "    </tr>\n",
       "    <tr>\n",
       "      <th>A1_01_01</th>\n",
       "      <td>138</td>\n",
       "      <td>2821</td>\n",
       "      <td>0</td>\n",
       "      <td>0</td>\n",
       "      <td>1592</td>\n",
       "      <td>0</td>\n",
       "      <td>0</td>\n",
       "    </tr>\n",
       "    <tr>\n",
       "      <th>A1_02_01</th>\n",
       "      <td>146</td>\n",
       "      <td>3177</td>\n",
       "      <td>0</td>\n",
       "      <td>0</td>\n",
       "      <td>1757</td>\n",
       "      <td>0</td>\n",
       "      <td>0</td>\n",
       "    </tr>\n",
       "  </tbody>\n",
       "</table>\n",
       "</div>"
      ],
      "text/plain": [
       "           lowsum     0  1     2     3  4  5\n",
       "A11_01_01     144  1314  0  1562     0  0  0\n",
       "A11_02_01     162  1088  0  1247     0  0  0\n",
       "A1_01_01      138  2821  0     0  1592  0  0\n",
       "A1_02_01      146  3177  0     0  1757  0  0"
      ]
     },
     "execution_count": 325,
     "metadata": {},
     "output_type": "execute_result"
    }
   ],
   "source": [
    "\n",
    "def lowsum(row):\n",
    "    summed = 0\n",
    "    for col, value in row.iteritems():\n",
    "        if (value < 100):\n",
    "            summed = summed + value\n",
    "    return summed\n",
    "\n",
    "df3 = df2.apply(lowsum,axis=1)\n",
    "df3.rename('lowsum',inplace=True)\n",
    "df2 = df2.where(df2 > 300, other=0)\n",
    "dx = pd.concat([df3,df2],axis=1)\n",
    "dx"
   ]
  },
  {
   "cell_type": "code",
   "execution_count": 326,
   "metadata": {
    "collapsed": false
   },
   "outputs": [],
   "source": [
    "colordict = {}\n",
    "i = 0\n",
    "for col in dx.columns:\n",
    "    colordict[col] = sns.color_palette(\"hls\",7)[i]\n",
    "    i = i + 1"
   ]
  },
  {
   "cell_type": "code",
   "execution_count": 309,
   "metadata": {
    "collapsed": false
   },
   "outputs": [
    {
     "data": {
      "text/plain": [
       "{0: (0.86, 0.8169142857142857, 0.33999999999999997),\n",
       " 1: (0.45737142857142832, 0.86, 0.33999999999999997),\n",
       " 2: (0.33999999999999997, 0.86, 0.66834285714285713),\n",
       " 3: (0.33999999999999997, 0.60594285714285712, 0.86),\n",
       " 4: (0.51977142857142811, 0.33999999999999997, 0.86),\n",
       " 5: (0.86, 0.33999999999999997, 0.7545142857142858),\n",
       " 'lowsum': (0.86, 0.37119999999999997, 0.33999999999999997)}"
      ]
     },
     "execution_count": 309,
     "metadata": {},
     "output_type": "execute_result"
    }
   ],
   "source": [
    "colordict"
   ]
  },
  {
   "cell_type": "code",
   "execution_count": 333,
   "metadata": {
    "collapsed": false
   },
   "outputs": [
    {
     "data": {
      "text/plain": [
       "<matplotlib.figure.Figure at 0x2afff05dd190>"
      ]
     },
     "execution_count": 333,
     "metadata": {},
     "output_type": "execute_result"
    },
    {
     "data": {
      "text/plain": [
       "<matplotlib.figure.Figure at 0x2afff05dd190>"
      ]
     },
     "metadata": {},
     "output_type": "display_data"
    }
   ],
   "source": [
    "plt.figure(figsize=(20,10))\n"
   ]
  },
  {
   "cell_type": "code",
   "execution_count": 331,
   "metadata": {
    "collapsed": false
   },
   "outputs": [
    {
     "data": {
      "text/html": [
       "<div>\n",
       "<table border=\"1\" class=\"dataframe\">\n",
       "  <thead>\n",
       "    <tr style=\"text-align: right;\">\n",
       "      <th></th>\n",
       "      <th>lowsum</th>\n",
       "      <th>0</th>\n",
       "      <th>1</th>\n",
       "      <th>2</th>\n",
       "      <th>3</th>\n",
       "      <th>4</th>\n",
       "      <th>5</th>\n",
       "    </tr>\n",
       "  </thead>\n",
       "  <tbody>\n",
       "    <tr>\n",
       "      <th>A1_02_01</th>\n",
       "      <td>146</td>\n",
       "      <td>3177</td>\n",
       "      <td>0</td>\n",
       "      <td>0</td>\n",
       "      <td>1757</td>\n",
       "      <td>0</td>\n",
       "      <td>0</td>\n",
       "    </tr>\n",
       "    <tr>\n",
       "      <th>A1_01_01</th>\n",
       "      <td>138</td>\n",
       "      <td>2821</td>\n",
       "      <td>0</td>\n",
       "      <td>0</td>\n",
       "      <td>1592</td>\n",
       "      <td>0</td>\n",
       "      <td>0</td>\n",
       "    </tr>\n",
       "    <tr>\n",
       "      <th>A11_01_01</th>\n",
       "      <td>144</td>\n",
       "      <td>1314</td>\n",
       "      <td>0</td>\n",
       "      <td>1562</td>\n",
       "      <td>0</td>\n",
       "      <td>0</td>\n",
       "      <td>0</td>\n",
       "    </tr>\n",
       "    <tr>\n",
       "      <th>A11_02_01</th>\n",
       "      <td>162</td>\n",
       "      <td>1088</td>\n",
       "      <td>0</td>\n",
       "      <td>1247</td>\n",
       "      <td>0</td>\n",
       "      <td>0</td>\n",
       "      <td>0</td>\n",
       "    </tr>\n",
       "  </tbody>\n",
       "</table>\n",
       "</div>"
      ],
      "text/plain": [
       "           lowsum     0  1     2     3  4  5\n",
       "A1_02_01      146  3177  0     0  1757  0  0\n",
       "A1_01_01      138  2821  0     0  1592  0  0\n",
       "A11_01_01     144  1314  0  1562     0  0  0\n",
       "A11_02_01     162  1088  0  1247     0  0  0"
      ]
     },
     "execution_count": 331,
     "metadata": {},
     "output_type": "execute_result"
    }
   ],
   "source": [
    "dx.ix[idx]"
   ]
  },
  {
   "cell_type": "code",
   "execution_count": null,
   "metadata": {
    "collapsed": false
   },
   "outputs": [],
   "source": []
  },
  {
   "cell_type": "code",
   "execution_count": null,
   "metadata": {
    "collapsed": false
   },
   "outputs": [],
   "source": []
  },
  {
   "cell_type": "code",
   "execution_count": null,
   "metadata": {
    "collapsed": false
   },
   "outputs": [],
   "source": []
  },
  {
   "cell_type": "code",
   "execution_count": null,
   "metadata": {
    "collapsed": true
   },
   "outputs": [],
   "source": []
  },
  {
   "cell_type": "code",
   "execution_count": null,
   "metadata": {
    "collapsed": true
   },
   "outputs": [],
   "source": []
  },
  {
   "cell_type": "code",
   "execution_count": null,
   "metadata": {
    "collapsed": true
   },
   "outputs": [],
   "source": []
  },
  {
   "cell_type": "code",
   "execution_count": null,
   "metadata": {
    "collapsed": true
   },
   "outputs": [],
   "source": []
  }
 ],
 "metadata": {
  "kernelspec": {
   "display_name": "Python 2",
   "language": "python",
   "name": "python2"
  },
  "language_info": {
   "codemirror_mode": {
    "name": "ipython",
    "version": 2
   },
   "file_extension": ".py",
   "mimetype": "text/x-python",
   "name": "python",
   "nbconvert_exporter": "python",
   "pygments_lexer": "ipython2",
   "version": "2.7.12"
  }
 },
 "nbformat": 4,
 "nbformat_minor": 0
}
