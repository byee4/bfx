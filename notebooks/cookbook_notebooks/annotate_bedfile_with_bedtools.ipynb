{
 "cells": [
  {
   "cell_type": "markdown",
   "metadata": {},
   "source": [
    "# Iteratively annotate each region using a priority\n",
    "- This notebook shows how you can annotate regions with pybedtools."
   ]
  },
  {
   "cell_type": "code",
   "execution_count": 1,
   "metadata": {},
   "outputs": [],
   "source": [
    "%matplotlib inline\n",
    "import matplotlib.pyplot as plt\n",
    "import seaborn as sns\n",
    "import pandas as pd\n",
    "import pybedtools\n",
    "import numpy as np\n",
    "from collections import OrderedDict\n",
    "import os"
   ]
  },
  {
   "cell_type": "code",
   "execution_count": 2,
   "metadata": {},
   "outputs": [
    {
     "name": "stdout",
     "output_type": "stream",
     "text": [
      "gencode.v19.annotation.basic.gtf\n",
      "gencode.v19.annotation.basic.gtf.png\n",
      "gencode.v19.annotation.gtf\n",
      "gencode.v19.annotation.gtf.db\n",
      "gencode.v19.lncRNA_transcripts.fa\n",
      "gencode.v19.pc_transcripts.fa\n",
      "gencode.v19.transcript.fa.1\n",
      "gencode.v19.transcript.gtf.1\n",
      "gencode.v19.transcripts.fa\n",
      "generate_representative_encode_transcripts.ipynb\n",
      "hg19_v19_basic_cds.bed\n",
      "hg19_v19_basic_cds_and_three_prime_utrs.SAF\n",
      "hg19_v19_basic_cds_and_three_prime_utrs.bed\n",
      "hg19_v19_basic_cds_and_three_prime_utrs.subtract_basic_introns.bed\n",
      "hg19_v19_basic_distintron500.bed\n",
      "hg19_v19_basic_exons.bed\n",
      "hg19_v19_basic_five_prime_utrs.bed\n",
      "hg19_v19_basic_genes.bed\n",
      "hg19_v19_basic_introns.bed\n",
      "hg19_v19_basic_proxintron500.bed\n",
      "hg19_v19_basic_three_prime_utrs.bed\n",
      "hg19_v19_cds.bed\n",
      "hg19_v19_cds.transcripts.HepG2_topENSTbyTPM.wnoncoding.tpm1.bed\n",
      "hg19_v19_cds.transcripts.bed\n",
      "hg19_v19_cds_and_three_prime_utrs.bed\n",
      "hg19_v19_distintron500.bed\n",
      "hg19_v19_distintron500.transcripts.bed\n",
      "hg19_v19_exons.bed\n",
      "hg19_v19_exons.transcripts.bed\n",
      "hg19_v19_five_prime_utrs.bed\n",
      "hg19_v19_five_prime_utrs.transcripts.HepG2_topENSTbyTPM.wnoncoding.tpm1.bed\n",
      "hg19_v19_five_prime_utrs.transcripts.bed\n",
      "hg19_v19_genes.bed\n",
      "hg19_v19_introns.bed\n",
      "hg19_v19_introns.transcripts.bed\n",
      "hg19_v19_proxintron500.bed\n",
      "hg19_v19_proxintron500.transcripts.bed\n",
      "hg19_v19_three_prime_utrs.bed\n",
      "hg19_v19_three_prime_utrs.transcripts.HepG2_topENSTbyTPM.wnoncoding.tpm1.bed\n",
      "hg19_v19_three_prime_utrs.transcripts.bed\n",
      "kallisto_index\n",
      "rsem_index\n",
      "run_basic_create_region_bedfiles.sh\n",
      "run_build_gffutils_db.sh\n",
      "run_create_region_bedfiles.sh\n",
      "run_create_transcript_region_bedfiles.sh\n",
      "run_get_transcript_fa.sh\n",
      "run_get_transcript_fa.sh.1\n",
      "run_kallisto_index.sh\n",
      "run_make_gencode.v19.transcript.gtf.sh\n",
      "run_rsem_prepare_reference.sh\n",
      "run_salmon_index.sh\n",
      "run_subtract_basic_introns_from_basic_cds_and_three_prime_utrs.sh\n",
      "salmon_index\n",
      "toil-rnaseq\n"
     ]
    }
   ],
   "source": [
    "# Just listing my own files so I know what annotations I have\n",
    "input_dir = '/projects/ps-yeolab3/bay001/annotations/hg19/gencode_v19/'\n",
    "\n",
    "! ls $input_dir"
   ]
  },
  {
   "cell_type": "markdown",
   "metadata": {},
   "source": [
    "# Define annotation files (BED6 format). These files should describe gene-level or transcript-level regions.\n",
    "- This can be parsed from a GTF/GFF annotation file\n",
    "- This can also be downloaded from either UCSC's table browser or ENSEMBL's Biomart."
   ]
  },
  {
   "cell_type": "code",
   "execution_count": 3,
   "metadata": {},
   "outputs": [],
   "source": [
    "cds_annotation = pybedtools.BedTool(os.path.join(input_dir, 'hg19_v19_cds.transcripts.bed'))\n",
    "three_prime_utr_annotation = pybedtools.BedTool(os.path.join(input_dir, 'hg19_v19_three_prime_utrs.transcripts.bed'))\n",
    "five_prime_utr_annotation = pybedtools.BedTool(os.path.join(input_dir, 'hg19_v19_five_prime_utrs.transcripts.bed'))\n",
    "prox_intron_annotation = pybedtools.BedTool(os.path.join(input_dir, 'hg19_v19_proxintron500.transcripts.bed'))\n",
    "dist_intron_annotation = pybedtools.BedTool(os.path.join(input_dir, 'hg19_v19_distintron500.transcripts.bed'))"
   ]
  },
  {
   "cell_type": "markdown",
   "metadata": {},
   "source": [
    "# Define a BED6 file that you want annotated:\n",
    "- This can be any BED6 file"
   ]
  },
  {
   "cell_type": "code",
   "execution_count": 4,
   "metadata": {},
   "outputs": [],
   "source": [
    "# this can be any BED6 file\n",
    "unannotated_bed_file = '/home/elvannostrand/data/clip/CLIPseq_analysis/ENCODE_FINALforpapers_20180205/hg19/IDR/204.01v02.IDR.out.0102merged.bed'\n",
    "to_be_annotated = pybedtools.BedTool(unannotated_bed_file)"
   ]
  },
  {
   "cell_type": "markdown",
   "metadata": {},
   "source": [
    "# First, intersect entries with the highest chosen priority region\n",
    "- In this case, we're choosing CDS to be the highest priority (ie. if an entry overlaps both the CDS of transcript1 but also a UTR of transcript2, we'll choose CDS/tx1)\n",
    "- Let's store these entries in: \n",
    "\n",
    "```\n",
    "annotated_cds\n",
    "```\n",
    "\n",
    "# Then, use the -v flag to do a \"reverse intersect,\" returning any entry that does NOT intersect a CDS.\n",
    "- Let's store these entries in \n",
    "\n",
    "```\n",
    "unannotated\n",
    "```\n",
    "- Let's also re-assign the \n",
    "\n",
    "```\n",
    "unnannotated\n",
    "``` \n",
    "\n",
    "entries to:\n",
    "\n",
    "```\n",
    "to_be_annotated\n",
    "```"
   ]
  },
  {
   "cell_type": "code",
   "execution_count": 5,
   "metadata": {},
   "outputs": [
    {
     "name": "stdout",
     "output_type": "stream",
     "text": [
      "Annotated + Unannotated entries. This should add up to the total number of entries in the unannotated BED6 file.  7339\n"
     ]
    }
   ],
   "source": [
    "annotated_cds = to_be_annotated.intersect(cds_annotation, u=True, s=True).to_dataframe()\n",
    "unannotated = to_be_annotated.intersect(cds_annotation, s=True, v=True).to_dataframe()\n",
    "print(\n",
    "    \"Annotated + Unannotated entries. This should add up to the total number of entries in the unannotated BED6 file. \",\n",
    "    annotated_cds.shape[0] + \\\n",
    "    unannotated.shape[0]\n",
    ")\n",
    "\n",
    "to_be_annotated = pybedtools.BedTool.from_dataframe(unannotated)"
   ]
  },
  {
   "cell_type": "markdown",
   "metadata": {},
   "source": [
    "# The following cells are rinse/repeat for the rest of the entries. I've arbitrarily decided that the priority order for annotation is: CDS, 3'UTR, 5'UTR, proxintron, distintron (prox/dist = intronic positions less than/greater than 500nt away from an exon)."
   ]
  },
  {
   "cell_type": "code",
   "execution_count": 6,
   "metadata": {},
   "outputs": [
    {
     "name": "stdout",
     "output_type": "stream",
     "text": [
      "Annotated + Unannotated entries. This should add up to the total number of entries in the unannotated BED6 file.  7339\n"
     ]
    }
   ],
   "source": [
    "annotated_three_prime_utr = to_be_annotated.intersect(three_prime_utr_annotation, u=True, s=True).to_dataframe()\n",
    "unannotated = to_be_annotated.intersect(three_prime_utr_annotation, s=True, v=True).to_dataframe()\n",
    "print(\n",
    "    \"Annotated + Unannotated entries. This should add up to the total number of entries in the unannotated BED6 file. \",\n",
    "    annotated_cds.shape[0] + \\\n",
    "    annotated_three_prime_utr.shape[0] + \\\n",
    "    unannotated.shape[0]\n",
    ")\n",
    "\n",
    "to_be_annotated = pybedtools.BedTool.from_dataframe(unannotated)"
   ]
  },
  {
   "cell_type": "code",
   "execution_count": 7,
   "metadata": {},
   "outputs": [
    {
     "name": "stdout",
     "output_type": "stream",
     "text": [
      "Annotated + Unannotated entries. This should add up to the total number of entries in the unannotated BED6 file.  7339\n"
     ]
    }
   ],
   "source": [
    "annotated_five_prime_utr = to_be_annotated.intersect(five_prime_utr_annotation, u=True, s=True).to_dataframe()\n",
    "unannotated = to_be_annotated.intersect(five_prime_utr_annotation, s=True, v=True).to_dataframe()\n",
    "print(\n",
    "    \"Annotated + Unannotated entries. This should add up to the total number of entries in the unannotated BED6 file. \",\n",
    "    annotated_cds.shape[0] + \\\n",
    "    annotated_three_prime_utr.shape[0] + \\\n",
    "    annotated_five_prime_utr.shape[0] + \\\n",
    "    unannotated.shape[0]\n",
    ")\n",
    "\n",
    "to_be_annotated = pybedtools.BedTool.from_dataframe(unannotated)"
   ]
  },
  {
   "cell_type": "code",
   "execution_count": 8,
   "metadata": {},
   "outputs": [
    {
     "name": "stdout",
     "output_type": "stream",
     "text": [
      "Annotated + Unannotated entries. This should add up to the total number of entries in the unannotated BED6 file.  7339\n"
     ]
    }
   ],
   "source": [
    "annotated_proxintron = to_be_annotated.intersect(prox_intron_annotation, u=True, s=True).to_dataframe()\n",
    "unannotated = to_be_annotated.intersect(prox_intron_annotation, s=True, v=True).to_dataframe()\n",
    "print(\n",
    "    \"Annotated + Unannotated entries. This should add up to the total number of entries in the unannotated BED6 file. \",\n",
    "    annotated_cds.shape[0] + \\\n",
    "    annotated_three_prime_utr.shape[0] + \\\n",
    "    annotated_five_prime_utr.shape[0] + \\\n",
    "    annotated_proxintron.shape[0] + \\\n",
    "    unannotated.shape[0]\n",
    ")\n",
    "\n",
    "to_be_annotated = pybedtools.BedTool.from_dataframe(unannotated)"
   ]
  },
  {
   "cell_type": "code",
   "execution_count": 9,
   "metadata": {},
   "outputs": [
    {
     "name": "stdout",
     "output_type": "stream",
     "text": [
      "Annotated + Unannotated entries. This should add up to the total number of entries in the unannotated BED6 file.  7339\n"
     ]
    }
   ],
   "source": [
    "annotated_distintron = to_be_annotated.intersect(dist_intron_annotation, u=True, s=True).to_dataframe()\n",
    "unannotated = to_be_annotated.intersect(dist_intron_annotation, s=True, v=True).to_dataframe()\n",
    "print(\n",
    "    \"Annotated + Unannotated entries. This should add up to the total number of entries in the unannotated BED6 file. \",\n",
    "    annotated_cds.shape[0] + \\\n",
    "    annotated_three_prime_utr.shape[0] + \\\n",
    "    annotated_five_prime_utr.shape[0] + \\\n",
    "    annotated_proxintron.shape[0] + \\\n",
    "    annotated_distintron.shape[0] + \\\n",
    "    unannotated.shape[0]\n",
    ")\n",
    "\n",
    "to_be_annotated = pybedtools.BedTool.from_dataframe(unannotated)"
   ]
  },
  {
   "cell_type": "markdown",
   "metadata": {},
   "source": [
    "# When finished annotating, look at the leftover unannotated entries on a genome browser to ensure that you're not missing anything.\n",
    "- Always good practice to look at a few entries on the browser!"
   ]
  },
  {
   "cell_type": "code",
   "execution_count": 10,
   "metadata": {},
   "outputs": [
    {
     "name": "stdout",
     "output_type": "stream",
     "text": [
      "69\n"
     ]
    },
    {
     "data": {
      "text/html": [
       "<div>\n",
       "<style scoped>\n",
       "    .dataframe tbody tr th:only-of-type {\n",
       "        vertical-align: middle;\n",
       "    }\n",
       "\n",
       "    .dataframe tbody tr th {\n",
       "        vertical-align: top;\n",
       "    }\n",
       "\n",
       "    .dataframe thead th {\n",
       "        text-align: right;\n",
       "    }\n",
       "</style>\n",
       "<table border=\"1\" class=\"dataframe\">\n",
       "  <thead>\n",
       "    <tr style=\"text-align: right;\">\n",
       "      <th></th>\n",
       "      <th>chrom</th>\n",
       "      <th>start</th>\n",
       "      <th>end</th>\n",
       "      <th>name</th>\n",
       "      <th>score</th>\n",
       "      <th>strand</th>\n",
       "    </tr>\n",
       "  </thead>\n",
       "  <tbody>\n",
       "    <tr>\n",
       "      <th>0</th>\n",
       "      <td>chr20</td>\n",
       "      <td>62668107</td>\n",
       "      <td>62668191</td>\n",
       "      <td>39.183898</td>\n",
       "      <td>4.407180</td>\n",
       "      <td>+</td>\n",
       "    </tr>\n",
       "    <tr>\n",
       "      <th>1</th>\n",
       "      <td>chr5</td>\n",
       "      <td>180710526</td>\n",
       "      <td>180710608</td>\n",
       "      <td>11.790986</td>\n",
       "      <td>3.753058</td>\n",
       "      <td>+</td>\n",
       "    </tr>\n",
       "    <tr>\n",
       "      <th>2</th>\n",
       "      <td>chr11</td>\n",
       "      <td>859573</td>\n",
       "      <td>859645</td>\n",
       "      <td>14.381159</td>\n",
       "      <td>4.844781</td>\n",
       "      <td>-</td>\n",
       "    </tr>\n",
       "    <tr>\n",
       "      <th>3</th>\n",
       "      <td>chr7</td>\n",
       "      <td>72440377</td>\n",
       "      <td>72440482</td>\n",
       "      <td>6.106787</td>\n",
       "      <td>4.897991</td>\n",
       "      <td>-</td>\n",
       "    </tr>\n",
       "    <tr>\n",
       "      <th>4</th>\n",
       "      <td>chr20</td>\n",
       "      <td>62667793</td>\n",
       "      <td>62667926</td>\n",
       "      <td>400.000000</td>\n",
       "      <td>5.987712</td>\n",
       "      <td>+</td>\n",
       "    </tr>\n",
       "  </tbody>\n",
       "</table>\n",
       "</div>"
      ],
      "text/plain": [
       "   chrom      start        end        name     score strand\n",
       "0  chr20   62668107   62668191   39.183898  4.407180      +\n",
       "1   chr5  180710526  180710608   11.790986  3.753058      +\n",
       "2  chr11     859573     859645   14.381159  4.844781      -\n",
       "3   chr7   72440377   72440482    6.106787  4.897991      -\n",
       "4  chr20   62667793   62667926  400.000000  5.987712      +"
      ]
     },
     "execution_count": 10,
     "metadata": {},
     "output_type": "execute_result"
    }
   ],
   "source": [
    "print(unannotated.shape[0])\n",
    "unannotated.head()"
   ]
  },
  {
   "cell_type": "markdown",
   "metadata": {},
   "source": [
    "# Since most of this code is the same, let's turn this into a loop"
   ]
  },
  {
   "cell_type": "code",
   "execution_count": 11,
   "metadata": {},
   "outputs": [
    {
     "name": "stdout",
     "output_type": "stream",
     "text": [
      "Events left to be annotated: 6993\n",
      "Events left to be annotated: 6566\n",
      "Events left to be annotated: 6279\n",
      "Events left to be annotated: 2975\n",
      "Events left to be annotated: 69\n",
      "69\n"
     ]
    },
    {
     "data": {
      "text/html": [
       "<div>\n",
       "<style scoped>\n",
       "    .dataframe tbody tr th:only-of-type {\n",
       "        vertical-align: middle;\n",
       "    }\n",
       "\n",
       "    .dataframe tbody tr th {\n",
       "        vertical-align: top;\n",
       "    }\n",
       "\n",
       "    .dataframe thead th {\n",
       "        text-align: right;\n",
       "    }\n",
       "</style>\n",
       "<table border=\"1\" class=\"dataframe\">\n",
       "  <thead>\n",
       "    <tr style=\"text-align: right;\">\n",
       "      <th></th>\n",
       "      <th>chrom</th>\n",
       "      <th>start</th>\n",
       "      <th>end</th>\n",
       "      <th>name</th>\n",
       "      <th>score</th>\n",
       "      <th>strand</th>\n",
       "    </tr>\n",
       "  </thead>\n",
       "  <tbody>\n",
       "    <tr>\n",
       "      <th>0</th>\n",
       "      <td>chr20</td>\n",
       "      <td>62668107</td>\n",
       "      <td>62668191</td>\n",
       "      <td>39.183898</td>\n",
       "      <td>4.407180</td>\n",
       "      <td>+</td>\n",
       "    </tr>\n",
       "    <tr>\n",
       "      <th>1</th>\n",
       "      <td>chr5</td>\n",
       "      <td>180710526</td>\n",
       "      <td>180710608</td>\n",
       "      <td>11.790986</td>\n",
       "      <td>3.753058</td>\n",
       "      <td>+</td>\n",
       "    </tr>\n",
       "    <tr>\n",
       "      <th>2</th>\n",
       "      <td>chr11</td>\n",
       "      <td>859573</td>\n",
       "      <td>859645</td>\n",
       "      <td>14.381159</td>\n",
       "      <td>4.844781</td>\n",
       "      <td>-</td>\n",
       "    </tr>\n",
       "    <tr>\n",
       "      <th>3</th>\n",
       "      <td>chr7</td>\n",
       "      <td>72440377</td>\n",
       "      <td>72440482</td>\n",
       "      <td>6.106787</td>\n",
       "      <td>4.897991</td>\n",
       "      <td>-</td>\n",
       "    </tr>\n",
       "    <tr>\n",
       "      <th>4</th>\n",
       "      <td>chr20</td>\n",
       "      <td>62667793</td>\n",
       "      <td>62667926</td>\n",
       "      <td>400.000000</td>\n",
       "      <td>5.987712</td>\n",
       "      <td>+</td>\n",
       "    </tr>\n",
       "  </tbody>\n",
       "</table>\n",
       "</div>"
      ],
      "text/plain": [
       "   chrom      start        end        name     score strand\n",
       "0  chr20   62668107   62668191   39.183898  4.407180      +\n",
       "1   chr5  180710526  180710608   11.790986  3.753058      +\n",
       "2  chr11     859573     859645   14.381159  4.844781      -\n",
       "3   chr7   72440377   72440482    6.106787  4.897991      -\n",
       "4  chr20   62667793   62667926  400.000000  5.987712      +"
      ]
     },
     "execution_count": 11,
     "metadata": {},
     "output_type": "execute_result"
    }
   ],
   "source": [
    "regions = OrderedDict(\n",
    "    {\n",
    "        'cds':cds_annotation,\n",
    "        'utr3':three_prime_utr_annotation,\n",
    "        'utr5':five_prime_utr_annotation,\n",
    "        'proxintron':prox_intron_annotation,\n",
    "        'distintron':dist_intron_annotation\n",
    "    }\n",
    ")\n",
    "\n",
    "to_be_annotated = pybedtools.BedTool(unannotated_bed_file)\n",
    "regions_dict = {}\n",
    "\n",
    "for region, coordinates in regions.items():\n",
    "    annotated = to_be_annotated.intersect(coordinates, u=True, s=True).to_dataframe()\n",
    "    unannotated = to_be_annotated.intersect(coordinates, s=True, v=True).to_dataframe()\n",
    "    regions_dict[region] = annotated\n",
    "    print(\n",
    "        \"Events left to be annotated: {}\".format(unannotated.shape[0])\n",
    "    )\n",
    "    to_be_annotated = pybedtools.BedTool.from_dataframe(unannotated)\n",
    "    \n",
    "print(unannotated.shape[0])\n",
    "unannotated.head()"
   ]
  },
  {
   "cell_type": "markdown",
   "metadata": {},
   "source": [
    "# Each dataframe generated is stored in the regions_dict{}"
   ]
  },
  {
   "cell_type": "code",
   "execution_count": 12,
   "metadata": {},
   "outputs": [
    {
     "data": {
      "text/html": [
       "<div>\n",
       "<style scoped>\n",
       "    .dataframe tbody tr th:only-of-type {\n",
       "        vertical-align: middle;\n",
       "    }\n",
       "\n",
       "    .dataframe tbody tr th {\n",
       "        vertical-align: top;\n",
       "    }\n",
       "\n",
       "    .dataframe thead th {\n",
       "        text-align: right;\n",
       "    }\n",
       "</style>\n",
       "<table border=\"1\" class=\"dataframe\">\n",
       "  <thead>\n",
       "    <tr style=\"text-align: right;\">\n",
       "      <th></th>\n",
       "      <th>chrom</th>\n",
       "      <th>start</th>\n",
       "      <th>end</th>\n",
       "      <th>name</th>\n",
       "      <th>score</th>\n",
       "      <th>strand</th>\n",
       "    </tr>\n",
       "  </thead>\n",
       "  <tbody>\n",
       "    <tr>\n",
       "      <th>0</th>\n",
       "      <td>chr11</td>\n",
       "      <td>118984416</td>\n",
       "      <td>118984526</td>\n",
       "      <td>6.894678</td>\n",
       "      <td>4.810281</td>\n",
       "      <td>+</td>\n",
       "    </tr>\n",
       "    <tr>\n",
       "      <th>1</th>\n",
       "      <td>chr17</td>\n",
       "      <td>79987346</td>\n",
       "      <td>79987424</td>\n",
       "      <td>6.061249</td>\n",
       "      <td>3.356835</td>\n",
       "      <td>+</td>\n",
       "    </tr>\n",
       "    <tr>\n",
       "      <th>2</th>\n",
       "      <td>chr20</td>\n",
       "      <td>61915198</td>\n",
       "      <td>61915233</td>\n",
       "      <td>84.310443</td>\n",
       "      <td>6.136575</td>\n",
       "      <td>+</td>\n",
       "    </tr>\n",
       "    <tr>\n",
       "      <th>3</th>\n",
       "      <td>chr11</td>\n",
       "      <td>1775399</td>\n",
       "      <td>1775475</td>\n",
       "      <td>5.306684</td>\n",
       "      <td>4.946639</td>\n",
       "      <td>-</td>\n",
       "    </tr>\n",
       "    <tr>\n",
       "      <th>4</th>\n",
       "      <td>chr16</td>\n",
       "      <td>28847558</td>\n",
       "      <td>28847584</td>\n",
       "      <td>400.000000</td>\n",
       "      <td>4.673242</td>\n",
       "      <td>+</td>\n",
       "    </tr>\n",
       "    <tr>\n",
       "      <th>...</th>\n",
       "      <td>...</td>\n",
       "      <td>...</td>\n",
       "      <td>...</td>\n",
       "      <td>...</td>\n",
       "      <td>...</td>\n",
       "      <td>...</td>\n",
       "    </tr>\n",
       "    <tr>\n",
       "      <th>341</th>\n",
       "      <td>chr1</td>\n",
       "      <td>44820539</td>\n",
       "      <td>44820591</td>\n",
       "      <td>5.558435</td>\n",
       "      <td>3.899280</td>\n",
       "      <td>-</td>\n",
       "    </tr>\n",
       "    <tr>\n",
       "      <th>342</th>\n",
       "      <td>chr10</td>\n",
       "      <td>103589610</td>\n",
       "      <td>103589651</td>\n",
       "      <td>4.010876</td>\n",
       "      <td>3.776724</td>\n",
       "      <td>-</td>\n",
       "    </tr>\n",
       "    <tr>\n",
       "      <th>343</th>\n",
       "      <td>chr21</td>\n",
       "      <td>34941850</td>\n",
       "      <td>34941894</td>\n",
       "      <td>6.132100</td>\n",
       "      <td>3.024328</td>\n",
       "      <td>+</td>\n",
       "    </tr>\n",
       "    <tr>\n",
       "      <th>344</th>\n",
       "      <td>chr4</td>\n",
       "      <td>114468798</td>\n",
       "      <td>114468902</td>\n",
       "      <td>13.192881</td>\n",
       "      <td>4.785826</td>\n",
       "      <td>-</td>\n",
       "    </tr>\n",
       "    <tr>\n",
       "      <th>345</th>\n",
       "      <td>chr19</td>\n",
       "      <td>17440047</td>\n",
       "      <td>17440143</td>\n",
       "      <td>6.882581</td>\n",
       "      <td>4.368019</td>\n",
       "      <td>-</td>\n",
       "    </tr>\n",
       "  </tbody>\n",
       "</table>\n",
       "<p>346 rows × 6 columns</p>\n",
       "</div>"
      ],
      "text/plain": [
       "     chrom      start        end        name     score strand\n",
       "0    chr11  118984416  118984526    6.894678  4.810281      +\n",
       "1    chr17   79987346   79987424    6.061249  3.356835      +\n",
       "2    chr20   61915198   61915233   84.310443  6.136575      +\n",
       "3    chr11    1775399    1775475    5.306684  4.946639      -\n",
       "4    chr16   28847558   28847584  400.000000  4.673242      +\n",
       "..     ...        ...        ...         ...       ...    ...\n",
       "341   chr1   44820539   44820591    5.558435  3.899280      -\n",
       "342  chr10  103589610  103589651    4.010876  3.776724      -\n",
       "343  chr21   34941850   34941894    6.132100  3.024328      +\n",
       "344   chr4  114468798  114468902   13.192881  4.785826      -\n",
       "345  chr19   17440047   17440143    6.882581  4.368019      -\n",
       "\n",
       "[346 rows x 6 columns]"
      ]
     },
     "execution_count": 12,
     "metadata": {},
     "output_type": "execute_result"
    }
   ],
   "source": [
    "regions_dict['cds']"
   ]
  },
  {
   "cell_type": "markdown",
   "metadata": {},
   "source": [
    "# Finally, let's plot the distribution of regions in a pie chart:"
   ]
  },
  {
   "cell_type": "code",
   "execution_count": 13,
   "metadata": {},
   "outputs": [
    {
     "data": {
      "text/html": [
       "<div>\n",
       "<style scoped>\n",
       "    .dataframe tbody tr th:only-of-type {\n",
       "        vertical-align: middle;\n",
       "    }\n",
       "\n",
       "    .dataframe tbody tr th {\n",
       "        vertical-align: top;\n",
       "    }\n",
       "\n",
       "    .dataframe thead th {\n",
       "        text-align: right;\n",
       "    }\n",
       "</style>\n",
       "<table border=\"1\" class=\"dataframe\">\n",
       "  <thead>\n",
       "    <tr style=\"text-align: right;\">\n",
       "      <th></th>\n",
       "      <th>regions</th>\n",
       "    </tr>\n",
       "  </thead>\n",
       "  <tbody>\n",
       "    <tr>\n",
       "      <th>cds</th>\n",
       "      <td>346</td>\n",
       "    </tr>\n",
       "    <tr>\n",
       "      <th>3utr</th>\n",
       "      <td>427</td>\n",
       "    </tr>\n",
       "    <tr>\n",
       "      <th>5utr</th>\n",
       "      <td>287</td>\n",
       "    </tr>\n",
       "    <tr>\n",
       "      <th>proxintron</th>\n",
       "      <td>3304</td>\n",
       "    </tr>\n",
       "    <tr>\n",
       "      <th>distintron</th>\n",
       "      <td>2906</td>\n",
       "    </tr>\n",
       "    <tr>\n",
       "      <th>other</th>\n",
       "      <td>69</td>\n",
       "    </tr>\n",
       "  </tbody>\n",
       "</table>\n",
       "</div>"
      ],
      "text/plain": [
       "            regions\n",
       "cds             346\n",
       "3utr            427\n",
       "5utr            287\n",
       "proxintron     3304\n",
       "distintron     2906\n",
       "other            69"
      ]
     },
     "execution_count": 13,
     "metadata": {},
     "output_type": "execute_result"
    }
   ],
   "source": [
    "regions = {\n",
    "    'cds':regions_dict['cds'].shape[0],\n",
    "    '3utr':regions_dict['utr3'].shape[0],\n",
    "    '5utr':regions_dict['utr5'].shape[0],\n",
    "    'proxintron':regions_dict['proxintron'].shape[0],\n",
    "    'distintron':regions_dict['distintron'].shape[0],\n",
    "    'other':unannotated.shape[0],\n",
    "}\n",
    "regions = pd.DataFrame(regions, index=['regions']).T\n",
    "regions"
   ]
  },
  {
   "cell_type": "code",
   "execution_count": 14,
   "metadata": {},
   "outputs": [
    {
     "data": {
      "text/plain": [
       "(-1.0999975378619686,\n",
       " 1.099999882755332,\n",
       " -1.0999929110494115,\n",
       " 1.0999994623969889)"
      ]
     },
     "execution_count": 14,
     "metadata": {},
     "output_type": "execute_result"
    },
    {
     "data": {
      "image/png": "[encoded data removed]",
      "text/plain": [
       "<Figure size 640x480 with 1 Axes>"
      ]
     },
     "metadata": {},
     "output_type": "display_data"
    }
   ],
   "source": [
    "fig, ax = plt.subplots()\n",
    "regions.plot(kind='pie', ax=ax, y='regions')\n",
    "ax.axis('equal')"
   ]
  },
  {
   "cell_type": "markdown",
   "metadata": {},
   "source": [
    "# If you want to \"extend\" regions, use \"slop\":\n",
    "- b extends both sides\n",
    "- l extends from the start\n",
    "- r extends from the end"
   ]
  },
  {
   "cell_type": "code",
   "execution_count": 15,
   "metadata": {},
   "outputs": [
    {
     "data": {
      "text/html": [
       "<div>\n",
       "<style scoped>\n",
       "    .dataframe tbody tr th:only-of-type {\n",
       "        vertical-align: middle;\n",
       "    }\n",
       "\n",
       "    .dataframe tbody tr th {\n",
       "        vertical-align: top;\n",
       "    }\n",
       "\n",
       "    .dataframe thead th {\n",
       "        text-align: right;\n",
       "    }\n",
       "</style>\n",
       "<table border=\"1\" class=\"dataframe\">\n",
       "  <thead>\n",
       "    <tr style=\"text-align: right;\">\n",
       "      <th></th>\n",
       "      <th>chrom</th>\n",
       "      <th>start</th>\n",
       "      <th>end</th>\n",
       "      <th>name</th>\n",
       "      <th>score</th>\n",
       "      <th>strand</th>\n",
       "    </tr>\n",
       "  </thead>\n",
       "  <tbody>\n",
       "    <tr>\n",
       "      <th>0</th>\n",
       "      <td>chr1</td>\n",
       "      <td>70005</td>\n",
       "      <td>70008</td>\n",
       "      <td>ENST00000335137.3</td>\n",
       "      <td>0</td>\n",
       "      <td>+</td>\n",
       "    </tr>\n",
       "    <tr>\n",
       "      <th>1</th>\n",
       "      <td>chr1</td>\n",
       "      <td>137620</td>\n",
       "      <td>138532</td>\n",
       "      <td>ENST00000423372.3</td>\n",
       "      <td>0</td>\n",
       "      <td>-</td>\n",
       "    </tr>\n",
       "    <tr>\n",
       "      <th>2</th>\n",
       "      <td>chr1</td>\n",
       "      <td>134900</td>\n",
       "      <td>135802</td>\n",
       "      <td>ENST00000423372.3</td>\n",
       "      <td>0</td>\n",
       "      <td>-</td>\n",
       "    </tr>\n",
       "    <tr>\n",
       "      <th>3</th>\n",
       "      <td>chr1</td>\n",
       "      <td>368594</td>\n",
       "      <td>368634</td>\n",
       "      <td>ENST00000426406.1</td>\n",
       "      <td>0</td>\n",
       "      <td>+</td>\n",
       "    </tr>\n",
       "    <tr>\n",
       "      <th>4</th>\n",
       "      <td>chr1</td>\n",
       "      <td>621058</td>\n",
       "      <td>621098</td>\n",
       "      <td>ENST00000332831.2</td>\n",
       "      <td>0</td>\n",
       "      <td>-</td>\n",
       "    </tr>\n",
       "  </tbody>\n",
       "</table>\n",
       "</div>"
      ],
      "text/plain": [
       "  chrom   start     end               name  score strand\n",
       "0  chr1   70005   70008  ENST00000335137.3      0      +\n",
       "1  chr1  137620  138532  ENST00000423372.3      0      -\n",
       "2  chr1  134900  135802  ENST00000423372.3      0      -\n",
       "3  chr1  368594  368634  ENST00000426406.1      0      +\n",
       "4  chr1  621058  621098  ENST00000332831.2      0      -"
      ]
     },
     "execution_count": 15,
     "metadata": {},
     "output_type": "execute_result"
    }
   ],
   "source": [
    "chrom_sizes = '/projects/ps-yeolab3/bay001/annotations/hg19/hg19.chrom.sizes'\n",
    "three_prime_utr_annotation = pybedtools.BedTool(os.path.join(input_dir, 'hg19_v19_three_prime_utrs.transcripts.bed'))\n",
    "three_prime_utr_annotation.to_dataframe().head()"
   ]
  },
  {
   "cell_type": "code",
   "execution_count": 16,
   "metadata": {},
   "outputs": [
    {
     "data": {
      "text/html": [
       "<div>\n",
       "<style scoped>\n",
       "    .dataframe tbody tr th:only-of-type {\n",
       "        vertical-align: middle;\n",
       "    }\n",
       "\n",
       "    .dataframe tbody tr th {\n",
       "        vertical-align: top;\n",
       "    }\n",
       "\n",
       "    .dataframe thead th {\n",
       "        text-align: right;\n",
       "    }\n",
       "</style>\n",
       "<table border=\"1\" class=\"dataframe\">\n",
       "  <thead>\n",
       "    <tr style=\"text-align: right;\">\n",
       "      <th></th>\n",
       "      <th>chrom</th>\n",
       "      <th>start</th>\n",
       "      <th>end</th>\n",
       "      <th>name</th>\n",
       "      <th>score</th>\n",
       "      <th>strand</th>\n",
       "    </tr>\n",
       "  </thead>\n",
       "  <tbody>\n",
       "    <tr>\n",
       "      <th>0</th>\n",
       "      <td>chr1</td>\n",
       "      <td>69505</td>\n",
       "      <td>70508</td>\n",
       "      <td>ENST00000335137.3</td>\n",
       "      <td>0</td>\n",
       "      <td>+</td>\n",
       "    </tr>\n",
       "    <tr>\n",
       "      <th>1</th>\n",
       "      <td>chr1</td>\n",
       "      <td>137120</td>\n",
       "      <td>139032</td>\n",
       "      <td>ENST00000423372.3</td>\n",
       "      <td>0</td>\n",
       "      <td>-</td>\n",
       "    </tr>\n",
       "    <tr>\n",
       "      <th>2</th>\n",
       "      <td>chr1</td>\n",
       "      <td>134400</td>\n",
       "      <td>136302</td>\n",
       "      <td>ENST00000423372.3</td>\n",
       "      <td>0</td>\n",
       "      <td>-</td>\n",
       "    </tr>\n",
       "    <tr>\n",
       "      <th>3</th>\n",
       "      <td>chr1</td>\n",
       "      <td>368094</td>\n",
       "      <td>369134</td>\n",
       "      <td>ENST00000426406.1</td>\n",
       "      <td>0</td>\n",
       "      <td>+</td>\n",
       "    </tr>\n",
       "    <tr>\n",
       "      <th>4</th>\n",
       "      <td>chr1</td>\n",
       "      <td>620558</td>\n",
       "      <td>621598</td>\n",
       "      <td>ENST00000332831.2</td>\n",
       "      <td>0</td>\n",
       "      <td>-</td>\n",
       "    </tr>\n",
       "  </tbody>\n",
       "</table>\n",
       "</div>"
      ],
      "text/plain": [
       "  chrom   start     end               name  score strand\n",
       "0  chr1   69505   70508  ENST00000335137.3      0      +\n",
       "1  chr1  137120  139032  ENST00000423372.3      0      -\n",
       "2  chr1  134400  136302  ENST00000423372.3      0      -\n",
       "3  chr1  368094  369134  ENST00000426406.1      0      +\n",
       "4  chr1  620558  621598  ENST00000332831.2      0      -"
      ]
     },
     "execution_count": 16,
     "metadata": {},
     "output_type": "execute_result"
    }
   ],
   "source": [
    "three_prime_utr_annotation.slop(g=chrom_sizes, b=500).to_dataframe().head()"
   ]
  },
  {
   "cell_type": "code",
   "execution_count": null,
   "metadata": {},
   "outputs": [],
   "source": []
  }
 ],
 "metadata": {
  "kernelspec": {
   "display_name": "python3essential 0.0.4 (tscc)",
   "language": "python",
   "name": "python3essential-0.0.4"
  },
  "language_info": {
   "codemirror_mode": {
    "name": "ipython",
    "version": 3
   },
   "file_extension": ".py",
   "mimetype": "text/x-python",
   "name": "python",
   "nbconvert_exporter": "python",
   "pygments_lexer": "ipython3",
   "version": "3.10.6"
  }
 },
 "nbformat": 4,
 "nbformat_minor": 4
}
