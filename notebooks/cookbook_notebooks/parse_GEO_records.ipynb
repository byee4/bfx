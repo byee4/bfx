{
 "cells": [
  {
   "cell_type": "markdown",
   "id": "ccf8708a-0016-46c8-9f13-b24f1f450244",
   "metadata": {},
   "source": [
    "# This notebooks shows how we can query NCBI's API to obtain GEO (and SRA) metadata."
   ]
  },
  {
   "cell_type": "code",
   "execution_count": 1,
   "id": "ff2d71a0-a82f-469e-b1e6-218b03d34de1",
   "metadata": {},
   "outputs": [],
   "source": [
    "#!/usr/bin/env python\n",
    "\n",
    "\"\"\"\n",
    "testing a new GEO parser.\n",
    "\"\"\"\n",
    "import argparse\n",
    "import xml.etree.ElementTree as et \n",
    "import os\n",
    "import glob\n",
    "from xml.dom import minidom\n",
    "from collections import defaultdict\n",
    "import yaml\n",
    "\n",
    "from yaml.representer import Representer\n",
    "yaml.add_representer(defaultdict, Representer.represent_dict)\n",
    "\n",
    "import json\n",
    "import pandas as pd\n",
    "import urllib\n",
    "import xmltodict"
   ]
  },
  {
   "cell_type": "code",
   "execution_count": 2,
   "id": "b7b7db9d-c5ac-4098-a15f-f584e0ca591d",
   "metadata": {},
   "outputs": [],
   "source": [
    "def esearch(term, db='gds'):\n",
    "    \"\"\"\n",
    "    Queries NCBI using the esearch utility. GEO ('gds') database is used as default for search term.\n",
    "    \"\"\"\n",
    "    url = f'https://eutils.ncbi.nlm.nih.gov/entrez/eutils/esearch.fcgi?db={db}&term={term}&retmax=5000&usehistory=y'\n",
    "    response = urllib.request.urlopen(url)\n",
    "    return response.read()\n",
    "\n",
    "    \n",
    "def get_esummary(esearch_string, db='gds'):\n",
    "    \"\"\"\n",
    "    Parses a http response in XML format to obtain the webenv and querykey tokens.\n",
    "    Uses NCBI eutils to transform these tokens into web summaries of GEO (db='gds') datasets.\n",
    "    \"\"\"\n",
    "    xmldoc = minidom.parseString(esearch_string)\n",
    "    webenv = xmldoc.getElementsByTagName('WebEnv')[0].firstChild.data\n",
    "    querykey = xmldoc.getElementsByTagName('QueryKey')[0].firstChild.data\n",
    "    host = 'https://eutils.ncbi.nlm.nih.gov/entrez/eutils/esummary.fcgi'\n",
    "    params = f'?db={db}&version=2.0&query_key={querykey}&WebEnv={webenv}'\n",
    "    url = host + params\n",
    "    response = urllib.request.urlopen(url)\n",
    "    return response.read()\n",
    "\n"
   ]
  },
  {
   "cell_type": "code",
   "execution_count": 14,
   "id": "c7ef4e82-c9ed-4f56-b260-7e58ab6fc956",
   "metadata": {},
   "outputs": [],
   "source": [
    "def parse_geo_esummary(input_string):\n",
    "    o = xmltodict.parse(input_string)\n",
    "    series_metadata = defaultdict()  # should only be one series per xml string\n",
    "    sample_metadata = []  # one or more samples\n",
    "    platform_metadata = []  # one or more associated platforms\n",
    "\n",
    "    for document_summary in o['eSummaryResult']['DocumentSummarySet']['DocumentSummary']:\n",
    "        acc = document_summary['Accession']\n",
    "        title = document_summary['title']\n",
    "        description = document_summary['summary']\n",
    "        if acc.startswith('GSE'):  # Series\n",
    "            series_metadata = {'accession': acc, 'title': title, 'description': description}\n",
    "        if acc.startswith('GSM'):  # Sample\n",
    "            sra = \"\"\n",
    "            try:\n",
    "                if document_summary['ExtRelations']['ExtRelation']['RelationType'] == 'SRA':\n",
    "                    sra = document_summary['ExtRelations']['ExtRelation']['TargetObject']\n",
    "            except KeyError:\n",
    "                print(f\"Error parsing GEO Summary. No known SRA or malformed entry {acc}.\")\n",
    "                raise\n",
    "            except TypeError:\n",
    "                print(f\"Error parsing GEO Summary {acc}. Make sure the GEO accession ID is not a superSeries.\")\n",
    "                raise\n",
    "            metadata = {'accession': acc, 'title': title, 'description': description, 'SRA': sra}\n",
    "            sample_metadata.append(metadata)\n",
    "        if acc.startswith('GPL'):  # Platform\n",
    "            platform_metadata.append({'accession': acc, 'title': title, 'description': description})\n",
    "    \n",
    "    return series_metadata, sample_metadata, platform_metadata\n",
    "\n",
    "\n",
    "def efetch(srx, db='sra'):\n",
    "    host = 'https://eutils.ncbi.nlm.nih.gov/entrez/eutils/'\n",
    "    url = host + f'efetch.fcgi?db={db}&id={srx}'\n",
    "    response = urllib.request.urlopen(url)\n",
    "    return response.read()\n",
    "\n",
    "\n"
   ]
  },
  {
   "cell_type": "code",
   "execution_count": null,
   "id": "1308fa9c-526a-4b2e-938a-5c986528d519",
   "metadata": {},
   "outputs": [],
   "source": []
  },
  {
   "cell_type": "code",
   "execution_count": 108,
   "id": "2a2608c3-164f-482e-ba2a-a89aa780ddbd",
   "metadata": {},
   "outputs": [],
   "source": [
    "def parse_srx(input_string):\n",
    "    urls = []\n",
    "    try:\n",
    "        o = xmltodict.parse(input_string)\n",
    "    except TypeError as e:\n",
    "        print(e)\n",
    "    accession_metadata = []\n",
    "    for _, experiment in o['EXPERIMENT_PACKAGE_SET'].items():\n",
    "        label = experiment['EXPERIMENT']['TITLE']\n",
    "        for _, run in experiment['RUN_SET'].items():\n",
    "            try:  # one RUN per RUN_SET\n",
    "                srr = run['IDENTIFIERS']['PRIMARY_ID']\n",
    "                label2 = label + f' (SRR: {srr})'\n",
    "                accession_metadata.append((label2, srr))\n",
    "            except TypeError:  # more than one RUN per RUN_SET\n",
    "                for r in run:\n",
    "                    srr = r['IDENTIFIERS']['PRIMARY_ID']\n",
    "                    label2 = label + f' (SRR: {srr})'\n",
    "                    accession_metadata.append((label2, srr))\n",
    "    return accession_metadata\n"
   ]
  },
  {
   "cell_type": "code",
   "execution_count": 109,
   "id": "d0bc62e5-f481-48f7-8541-625bb657d935",
   "metadata": {},
   "outputs": [],
   "source": [
    "term = 'GSE128781'\n",
    "# term = 'GSE128854'\n",
    "# term = 'GSE129609'\n",
    "# term = 'GSE130119'  # superseries"
   ]
  },
  {
   "cell_type": "code",
   "execution_count": 110,
   "id": "953815c2-4a42-49a4-b15e-d4d81a49c85c",
   "metadata": {},
   "outputs": [],
   "source": [
    "def get_srr_from_geo_accession(geo_term):\n",
    "    esummary = get_esummary(esearch(geo_term, db='gds'), db='gds')\n",
    "    series_metadata, sample_metadata, platform_metadata = parse_geo_esummary(esummary)\n",
    "    # print(series_metadata)\n",
    "    accessions = []\n",
    "    for sample in sample_metadata: # one for each GSM id\n",
    "\n",
    "        try:\n",
    "            fetched = efetch(srx=sample['SRA'])\n",
    "            accessions.append(parse_srx(fetched))\n",
    "        except IndexError:\n",
    "            fetched = \"\"\n",
    "\n",
    "    return accessions"
   ]
  },
  {
   "cell_type": "code",
   "execution_count": 111,
   "id": "c2104f85-391e-4311-9c2d-daffe0d0831b",
   "metadata": {},
   "outputs": [
    {
     "data": {
      "text/plain": [
       "[[('GSM3684893: NMG_5; Mus musculus; RNA-Seq (SRR: SRR11235407)',\n",
       "   'SRR11235407')],\n",
       " [('GSM3684892: NMG_4; Mus musculus; RNA-Seq (SRR: SRR11235406)',\n",
       "   'SRR11235406')],\n",
       " [('GSM3684891: NMG_3; Mus musculus; RNA-Seq (SRR: SRR11235405)',\n",
       "   'SRR11235405')],\n",
       " [('GSM3684890: NMG_1; Mus musculus; RNA-Seq (SRR: SRR11235404)',\n",
       "   'SRR11235404')],\n",
       " [('GSM3684889: NCPM_4; Mus musculus; RNA-Seq (SRR: SRR11235403)',\n",
       "   'SRR11235403')],\n",
       " [('GSM3684888: NCPM_3; Mus musculus; RNA-Seq (SRR: SRR11235402)',\n",
       "   'SRR11235402')],\n",
       " [('GSM3684887: NCPM_2; Mus musculus; RNA-Seq (SRR: SRR11235401)',\n",
       "   'SRR11235401')],\n",
       " [('GSM3684886: NCPM_1; Mus musculus; RNA-Seq (SRR: SRR11235400)',\n",
       "   'SRR11235400')],\n",
       " [('GSM3684885: PM_4; Mus musculus; RNA-Seq (SRR: SRR11235399)',\n",
       "   'SRR11235399')],\n",
       " [('GSM3684884: PM_3; Mus musculus; RNA-Seq (SRR: SRR11235398)',\n",
       "   'SRR11235398')],\n",
       " [('GSM3684883: PM_2; Mus musculus; RNA-Seq (SRR: SRR11235397)',\n",
       "   'SRR11235397')],\n",
       " [('GSM3684882: PM_1; Mus musculus; RNA-Seq (SRR: SRR11235396)',\n",
       "   'SRR11235396')],\n",
       " [('GSM3684881: ME-MHCII-int_4; Mus musculus; RNA-Seq (SRR: SRR8786580)',\n",
       "   'SRR8786580')],\n",
       " [('GSM3684880: ME-MHCII-int_3; Mus musculus; RNA-Seq (SRR: SRR8786579)',\n",
       "   'SRR8786579')],\n",
       " [('GSM3684879: ME-MHCII-int_2; Mus musculus; RNA-Seq (SRR: SRR8786578)',\n",
       "   'SRR8786578')],\n",
       " [('GSM3684878: ME-MHCII-int_1; Mus musculus; RNA-Seq (SRR: SRR8786577)',\n",
       "   'SRR8786577')],\n",
       " [('GSM3684877: ME-MHCII-high_4; Mus musculus; RNA-Seq (SRR: SRR8786576)',\n",
       "   'SRR8786576')],\n",
       " [('GSM3684876: ME-MHCII-high_3; Mus musculus; RNA-Seq (SRR: SRR8786575)',\n",
       "   'SRR8786575')],\n",
       " [('GSM3684875: ME-MHCII-high_2; Mus musculus; RNA-Seq (SRR: SRR8786574)',\n",
       "   'SRR8786574')],\n",
       " [('GSM3684874: ME-MHCII-high_1; Mus musculus; RNA-Seq (SRR: SRR8786573)',\n",
       "   'SRR8786573')]]"
      ]
     },
     "execution_count": 111,
     "metadata": {},
     "output_type": "execute_result"
    }
   ],
   "source": [
    "get_srr_from_geo_accession(term)"
   ]
  },
  {
   "cell_type": "code",
   "execution_count": null,
   "id": "5bd87333-c1d2-4841-8ae0-2fb3d0e234d2",
   "metadata": {},
   "outputs": [],
   "source": []
  },
  {
   "cell_type": "code",
   "execution_count": null,
   "id": "be3cf4a4-2d91-4ac9-ba62-fae6c7c9ca1c",
   "metadata": {},
   "outputs": [],
   "source": []
  }
 ],
 "metadata": {
  "kernelspec": {
   "display_name": "python3essential (brian)",
   "language": "python",
   "name": "python3essential-local"
  },
  "language_info": {
   "codemirror_mode": {
    "name": "ipython",
    "version": 3
   },
   "file_extension": ".py",
   "mimetype": "text/x-python",
   "name": "python",
   "nbconvert_exporter": "python",
   "pygments_lexer": "ipython3",
   "version": "3.6.7"
  }
 },
 "nbformat": 4,
 "nbformat_minor": 5
}
