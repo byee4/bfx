{
 "cells": [
  {
   "cell_type": "raw",
   "id": "0e2c8397-5632-4d6f-bddf-3abcbd426535",
   "metadata": {},
   "source": [
    "run this to get the kernel:\n",
    "    \n",
    "module load python3essential/0.0.4\n",
    "python -m ipykernel install --user --name python3essential-0.0.4 --display-name \"python3essential 0.0.4 (tscc)\""
   ]
  },
  {
   "cell_type": "code",
   "execution_count": 1,
   "id": "35c77b26-22d5-4c88-b8d0-117b2e66bcb0",
   "metadata": {},
   "outputs": [],
   "source": [
    "import urllib\n",
    "from xml.dom import minidom\n",
    "import xmltodict\n",
    "from collections import defaultdict\n",
    "from tqdm import tnrange, tqdm_notebook"
   ]
  },
  {
   "cell_type": "markdown",
   "id": "82f13ad3-0071-4ba9-a5f4-555fa41053fc",
   "metadata": {},
   "source": [
    "# Search Pubmed for a term (eclip)"
   ]
  },
  {
   "cell_type": "code",
   "execution_count": 2,
   "id": "c2ccc4b3-fd5a-450c-baa5-3c13cc948162",
   "metadata": {},
   "outputs": [
    {
     "name": "stdout",
     "output_type": "stream",
     "text": [
      "Starting esearch pubmed eclip\n"
     ]
    },
    {
     "data": {
      "text/plain": [
       "{'eSearchResult': {'Count': '103',\n",
       "  'RetMax': '103',\n",
       "  'RetStart': '0',\n",
       "  'IdList': {'Id': ['36085079',\n",
       "    '35992092',\n",
       "    '35927743',\n",
       "    '35819951',\n",
       "    '35767654',\n",
       "    '35641157',\n",
       "    '35622975',\n",
       "    '35512829',\n",
       "    '35507203',\n",
       "    '35277503',\n",
       "    '35263585',\n",
       "    '35236841',\n",
       "    '34976441',\n",
       "    '34931239',\n",
       "    '34857818',\n",
       "    '34784346',\n",
       "    '34752747',\n",
       "    '34732726',\n",
       "    '34694610',\n",
       "    '34614161',\n",
       "    '34503222',\n",
       "    '34485935',\n",
       "    '34406415',\n",
       "    '34314509',\n",
       "    '34313988',\n",
       "    '34299096',\n",
       "    '34235430',\n",
       "    '34221536',\n",
       "    '34216543',\n",
       "    '34171463',\n",
       "    '34108231',\n",
       "    '34108230',\n",
       "    '34075878',\n",
       "    '34070162',\n",
       "    '34056657',\n",
       "    '34039271',\n",
       "    '34038531',\n",
       "    '34027039',\n",
       "    '34017982',\n",
       "    '33947766',\n",
       "    '33863890',\n",
       "    '33826604',\n",
       "    '33789107',\n",
       "    '33579825',\n",
       "    '33471508',\n",
       "    '33376190',\n",
       "    '33334306',\n",
       "    '33287884',\n",
       "    '33268787',\n",
       "    '33246929',\n",
       "    '33242392',\n",
       "    '33230114',\n",
       "    '33179042',\n",
       "    '32848060',\n",
       "    '32821933',\n",
       "    '32811564',\n",
       "    '32728046',\n",
       "    '32501500',\n",
       "    '32481589',\n",
       "    '32252787',\n",
       "    '34109316',\n",
       "    '32105815',\n",
       "    '32070491',\n",
       "    '31941540',\n",
       "    '31879760',\n",
       "    '31760161',\n",
       "    '31647415',\n",
       "    '31494246',\n",
       "    '31425505',\n",
       "    '31296583',\n",
       "    '31226278',\n",
       "    '31132071',\n",
       "    '31078383',\n",
       "    '30916337',\n",
       "    '30902979',\n",
       "    '30767760',\n",
       "    '30445601',\n",
       "    '30445574',\n",
       "    '30413564',\n",
       "    '30384847',\n",
       "    '30252095',\n",
       "    '30232101',\n",
       "    '30059005',\n",
       "    '30042133',\n",
       "    '29938567',\n",
       "    '29596423',\n",
       "    '29547715',\n",
       "    '29463232',\n",
       "    '29415469',\n",
       "    '29284540',\n",
       "    '29236254',\n",
       "    '29129640',\n",
       "    '29095974',\n",
       "    '28790018',\n",
       "    '28766298',\n",
       "    '28336542',\n",
       "    '28334276',\n",
       "    '28093074',\n",
       "    '28003131',\n",
       "    '27608726',\n",
       "    '27256380',\n",
       "    '27068461',\n",
       "    '27018577']},\n",
       "  'TranslationSet': None,\n",
       "  'TranslationStack': {'TermSet': {'Term': 'eclip[All Fields]',\n",
       "    'Field': 'All Fields',\n",
       "    'Count': '103',\n",
       "    'Explode': 'N'},\n",
       "   'OP': 'GROUP'},\n",
       "  'QueryTranslation': 'eclip[All Fields]'}}"
      ]
     },
     "execution_count": 2,
     "metadata": {},
     "output_type": "execute_result"
    }
   ],
   "source": [
    "def esearch(pubmed, db='pubmed', retmax=1000):\n",
    "    '''\n",
    "    returns list of pubmed IDs associated with pubmed term\n",
    "    '''\n",
    "    print(f\"Starting esearch pubmed {pubmed}\")\n",
    "    host = 'https://eutils.ncbi.nlm.nih.gov/entrez/eutils/'\n",
    "    url = host + f'esearch.fcgi?db={db}&term={pubmed}&retmax={retmax}&mindate=2000'\n",
    "    try:\n",
    "        response = urllib.request.urlopen(url)\n",
    "    except urllib.error.HTTPError as e:\n",
    "        print(e)\n",
    "        response = urllib.request.urlopen(url, timeout=1)\n",
    "    return response.read()\n",
    "\n",
    "xmltodict.parse(esearch('eclip'))"
   ]
  },
  {
   "cell_type": "markdown",
   "id": "f30321d0-9328-4df6-8c0d-d5b8a40ffde8",
   "metadata": {},
   "source": [
    "# Search GEO for data\n"
   ]
  },
  {
   "cell_type": "code",
   "execution_count": 3,
   "id": "1e877ec5-a73d-45b4-aeb9-8708fbdd341c",
   "metadata": {},
   "outputs": [
    {
     "name": "stdout",
     "output_type": "stream",
     "text": [
      "Start esearch GDS (eclip)\n",
      "Start esummary GDS\n"
     ]
    }
   ],
   "source": [
    "def esearch(term, db='gds', retmax=5000):\n",
    "    \"\"\"\n",
    "    Queries NCBI using the esearch utility. GEO ('gds') database is used as default for search term.\n",
    "    \"\"\"\n",
    "    print(f\"Start esearch GDS ({term})\")\n",
    "    url = f'https://eutils.ncbi.nlm.nih.gov/entrez/eutils/esearch.fcgi?db={db}&term={term}&retmax={retmax}&usehistory=y'\n",
    "    response = urllib.request.urlopen(url)\n",
    "    return response.read()\n",
    "\n",
    "def get_esummary(esearch_string, db='gds'):\n",
    "    \"\"\"\n",
    "    Parses a http response in XML format to obtain the webenv and querykey tokens.\n",
    "    Uses NCBI eutils to transform these tokens into web summaries of GEO (db='gds') datasets.\n",
    "    \"\"\"\n",
    "    print(\"Start esummary GDS\")\n",
    "    xmldoc = minidom.parseString(esearch_string)\n",
    "    try:\n",
    "        webenv = xmldoc.getElementsByTagName('WebEnv')[0].firstChild.data\n",
    "        querykey = xmldoc.getElementsByTagName('QueryKey')[0].firstChild.data\n",
    "        host = 'https://eutils.ncbi.nlm.nih.gov/entrez/eutils/esummary.fcgi'\n",
    "        params = f'?db={db}&version=2.0&query_key={querykey}&WebEnv={webenv}'\n",
    "        url = host + params\n",
    "        response = urllib.request.urlopen(url)\n",
    "        return response.read()\n",
    "    except IndexError as e:\n",
    "        print(f\"Unparsable publication string ({e}, search={esearch_string}\")\n",
    "        return \"\"\n",
    "\n",
    "\n",
    "search_string = esearch('eclip')  # search for GEO datasets whose key word matches 'eclip'\n",
    "summaries = get_esummary(search_string)  # get human-readable summary metadata for each sample.\n",
    "d = xmltodict.parse(summaries)  # transform into a python dictionary"
   ]
  },
  {
   "cell_type": "markdown",
   "id": "b053ae6a-59f8-4bb9-b287-f1e980228755",
   "metadata": {},
   "source": [
    "# Write GEO accession IDs that mention 'eclip' in its summary.\n",
    "- may need to further filter the data, as I've seen some datasets include 'eCLIP' in abstract, but not in the datasets themselves (e.g. a publication that has 'eCLIP' in its abstract, whose GEO data contains both RNAseq and eCLIP entries. The metadata would be buried somewhere in either the filename itself, or in another metadata field..."
   ]
  },
  {
   "cell_type": "code",
   "execution_count": 4,
   "id": "8a75000c-fa7e-410a-8d02-4fc359f044c8",
   "metadata": {},
   "outputs": [],
   "source": [
    "publications = set()\n",
    "\n",
    "for publication in d['eSummaryResult']['DocumentSummarySet']['DocumentSummary']:\n",
    "    if 'eclip' in publication['summary'].lower():\n",
    "        publications.add(publication['Accession']) # contains PMID\n",
    "\n",
    "with open('accessions.txt', 'w') as o:\n",
    "    for p in publications:\n",
    "        o.write(f'{p}\\n')"
   ]
  },
  {
   "cell_type": "code",
   "execution_count": null,
   "id": "282b7526-e078-4dc4-801b-60cf4a5d8552",
   "metadata": {},
   "outputs": [],
   "source": []
  }
 ],
 "metadata": {
  "kernelspec": {
   "display_name": "python3essential 0.0.4 (tscc)",
   "language": "python",
   "name": "python3essential-0.0.4"
  },
  "language_info": {
   "codemirror_mode": {
    "name": "ipython",
    "version": 3
   },
   "file_extension": ".py",
   "mimetype": "text/x-python",
   "name": "python",
   "nbconvert_exporter": "python",
   "pygments_lexer": "ipython3",
   "version": "3.9.13"
  }
 },
 "nbformat": 4,
 "nbformat_minor": 5
}
