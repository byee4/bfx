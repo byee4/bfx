{
 "cells": [
  {
   "cell_type": "markdown",
   "metadata": {},
   "source": [
    "# Small cookbook for manipulating pandas dataframes"
   ]
  },
  {
   "cell_type": "code",
   "execution_count": 1,
   "metadata": {
    "collapsed": true
   },
   "outputs": [],
   "source": [
    "import pandas as pd\n",
    "import numpy as np"
   ]
  },
  {
   "cell_type": "code",
   "execution_count": 2,
   "metadata": {},
   "outputs": [
    {
     "data": {
      "text/html": [
       "<div>\n",
       "<table border=\"1\" class=\"dataframe\">\n",
       "  <thead>\n",
       "    <tr style=\"text-align: right;\">\n",
       "      <th></th>\n",
       "      <th>col1</th>\n",
       "      <th>col2</th>\n",
       "      <th>col3</th>\n",
       "    </tr>\n",
       "  </thead>\n",
       "  <tbody>\n",
       "    <tr>\n",
       "      <th>0</th>\n",
       "      <td>1</td>\n",
       "      <td>2</td>\n",
       "      <td>3</td>\n",
       "    </tr>\n",
       "    <tr>\n",
       "      <th>1</th>\n",
       "      <td>4</td>\n",
       "      <td>5</td>\n",
       "      <td>6</td>\n",
       "    </tr>\n",
       "    <tr>\n",
       "      <th>2</th>\n",
       "      <td>duck</td>\n",
       "      <td>duck</td>\n",
       "      <td>goose</td>\n",
       "    </tr>\n",
       "    <tr>\n",
       "      <th>3</th>\n",
       "      <td>0</td>\n",
       "      <td>0</td>\n",
       "      <td>0</td>\n",
       "    </tr>\n",
       "  </tbody>\n",
       "</table>\n",
       "</div>"
      ],
      "text/plain": [
       "   col1  col2   col3\n",
       "0     1     2      3\n",
       "1     4     5      6\n",
       "2  duck  duck  goose\n",
       "3     0     0      0"
      ]
     },
     "execution_count": 2,
     "metadata": {},
     "output_type": "execute_result"
    }
   ],
   "source": [
    "X = pd.DataFrame([[1,2,3],[4,5,6],['duck','duck','goose'],[0,0,0]])\n",
    "X.columns = ['col1','col2','col3']\n",
    "X"
   ]
  },
  {
   "cell_type": "code",
   "execution_count": 3,
   "metadata": {},
   "outputs": [],
   "source": [
    "def last_to_first(df):\n",
    "    cols = list(df)\n",
    "    cols.insert(0, cols.pop(cols.index(cols[-1])))\n",
    "    return df.ix[:, cols]\n",
    "\n",
    "# last_to_first(X)"
   ]
  },
  {
   "cell_type": "code",
   "execution_count": 4,
   "metadata": {},
   "outputs": [],
   "source": [
    "def first_to_last(df):\n",
    "    cols = list(df)\n",
    "    cols.append(cols.pop(cols.index(cols[0])))\n",
    "    return df.ix[:, cols]\n",
    "\n",
    "# first_to_last(X)"
   ]
  },
  {
   "cell_type": "code",
   "execution_count": 5,
   "metadata": {},
   "outputs": [],
   "source": [
    "def reorder_cols(df, cols):\n",
    "    return df.ix[:, cols]\n",
    "\n",
    "# reorder_cols(X,['col2','col3','col1'])"
   ]
  },
  {
   "cell_type": "code",
   "execution_count": 6,
   "metadata": {},
   "outputs": [],
   "source": [
    "def return_every_n(df, n):\n",
    "    return df.iloc[:, ::n]\n",
    "\n",
    "# Y = pd.concat([X,X,X,X,X],axis=1)\n",
    "# return_every_n(Y,2)"
   ]
  },
  {
   "cell_type": "code",
   "execution_count": 7,
   "metadata": {},
   "outputs": [],
   "source": [
    "def delete_list(df, todelete):\n",
    "    return df.drop(df.ix[:,todelete].head(0).columns, axis=1)\n",
    "\n",
    "# delete_list(Y, 'col3')"
   ]
  },
  {
   "cell_type": "code",
   "execution_count": 9,
   "metadata": {},
   "outputs": [],
   "source": [
    "def delete_list_ix(df, todelete):\n",
    "    colnames = df.columns\n",
    "    for tod in todelete:\n",
    "        colnames.remove(tod)\n",
    "    df.columns = range(0,df.shape[1])\n",
    "    dx = df.drop(df.ix[:,todelete],axis=1)\n",
    "    dx.columns = colnames\n",
    "    return dx\n",
    "# delete_list_ix(Y, [2,3])"
   ]
  },
  {
   "cell_type": "code",
   "execution_count": 10,
   "metadata": {},
   "outputs": [
    {
     "ename": "NameError",
     "evalue": "name 'Y' is not defined",
     "output_type": "error",
     "traceback": [
      "\u001b[0;31m---------------------------------------------------------------------------\u001b[0m",
      "\u001b[0;31mNameError\u001b[0m                                 Traceback (most recent call last)",
      "\u001b[0;32m<ipython-input-10-109521791097>\u001b[0m in \u001b[0;36m<module>\u001b[0;34m()\u001b[0m\n\u001b[1;32m      1\u001b[0m \u001b[0mtodelete\u001b[0m \u001b[0;34m=\u001b[0m \u001b[0;34m[\u001b[0m\u001b[0;36m1\u001b[0m\u001b[0;34m,\u001b[0m\u001b[0;36m2\u001b[0m\u001b[0;34m]\u001b[0m\u001b[0;34m\u001b[0m\u001b[0m\n\u001b[0;32m----> 2\u001b[0;31m \u001b[0mcolumns\u001b[0m \u001b[0;34m=\u001b[0m \u001b[0mrange\u001b[0m\u001b[0;34m(\u001b[0m\u001b[0;36m0\u001b[0m\u001b[0;34m,\u001b[0m\u001b[0mY\u001b[0m\u001b[0;34m.\u001b[0m\u001b[0mshape\u001b[0m\u001b[0;34m[\u001b[0m\u001b[0;36m1\u001b[0m\u001b[0;34m]\u001b[0m\u001b[0;34m)\u001b[0m\u001b[0;34m\u001b[0m\u001b[0m\n\u001b[0m\u001b[1;32m      3\u001b[0m \u001b[0;31m# [columns.remove(tod) for tod in todelete]\u001b[0m\u001b[0;34m\u001b[0m\u001b[0;34m\u001b[0m\u001b[0m\n",
      "\u001b[0;31mNameError\u001b[0m: name 'Y' is not defined"
     ]
    }
   ],
   "source": [
    "todelete = [1,2]\n",
    "columns = range(0,Y.shape[1])\n",
    "# [columns.remove(tod) for tod in todelete]"
   ]
  },
  {
   "cell_type": "code",
   "execution_count": null,
   "metadata": {},
   "outputs": [],
   "source": [
    "cds = '/projects/ps-yeolab/genomes/hg19/hg19.introns.bed.txt'\n",
    "bedhead = ['chrom','start','end','name','score','strand']\n",
    "def get_name(row):\n",
    "    \"\"\"\n",
    "    cdsmeans['ENST00000237247.6_cds_2_0_chr1_67091530_f']\n",
    "    \"\"\"\n",
    "    return row['name'].split('_')[0]\n",
    "cdsdf = pd.read_table(cds,names=bedhead)\n",
    "cdsdf['name2'] = cdsdf.apply(get_name,axis=1)\n",
    "cdsdf.set_index('name2',inplace=True)\n"
   ]
  },
  {
   "cell_type": "code",
   "execution_count": null,
   "metadata": {},
   "outputs": [],
   "source": [
    "Y = pd.read_table('/home/bay001/projects/parp13_ago2_20160606/analysis/clips/clips_20160820/input_norm_manifest.txt')"
   ]
  },
  {
   "cell_type": "code",
   "execution_count": null,
   "metadata": {},
   "outputs": [],
   "source": [
    "Y.ix[0]['CLIP']"
   ]
  },
  {
   "cell_type": "code",
   "execution_count": 13,
   "metadata": {},
   "outputs": [
    {
     "data": {
      "text/html": [
       "<div>\n",
       "<table border=\"1\" class=\"dataframe\">\n",
       "  <thead>\n",
       "    <tr style=\"text-align: right;\">\n",
       "      <th></th>\n",
       "      <th>chrom</th>\n",
       "      <th>start</th>\n",
       "      <th>end</th>\n",
       "      <th>name</th>\n",
       "      <th>score</th>\n",
       "      <th>strand</th>\n",
       "      <th>editfrac</th>\n",
       "    </tr>\n",
       "  </thead>\n",
       "  <tbody>\n",
       "    <tr>\n",
       "      <th>0</th>\n",
       "      <td>chr1</td>\n",
       "      <td>322098</td>\n",
       "      <td>322099</td>\n",
       "      <td>31|A&gt;G|0.032258065</td>\n",
       "      <td>0.739700</td>\n",
       "      <td>+</td>\n",
       "      <td>0.032258065</td>\n",
       "    </tr>\n",
       "    <tr>\n",
       "      <th>1</th>\n",
       "      <td>chr1</td>\n",
       "      <td>324319</td>\n",
       "      <td>324320</td>\n",
       "      <td>36|A&gt;G|0.138888889</td>\n",
       "      <td>0.999975</td>\n",
       "      <td>+</td>\n",
       "      <td>0.138888889</td>\n",
       "    </tr>\n",
       "    <tr>\n",
       "      <th>2</th>\n",
       "      <td>chr1</td>\n",
       "      <td>324331</td>\n",
       "      <td>324332</td>\n",
       "      <td>25|A&gt;G|0.44</td>\n",
       "      <td>1.000000</td>\n",
       "      <td>+</td>\n",
       "      <td>0.44</td>\n",
       "    </tr>\n",
       "    <tr>\n",
       "      <th>3</th>\n",
       "      <td>chr1</td>\n",
       "      <td>325513</td>\n",
       "      <td>325514</td>\n",
       "      <td>28|A&gt;G|0.035714286</td>\n",
       "      <td>0.762343</td>\n",
       "      <td>+</td>\n",
       "      <td>0.035714286</td>\n",
       "    </tr>\n",
       "    <tr>\n",
       "      <th>4</th>\n",
       "      <td>chr1</td>\n",
       "      <td>325671</td>\n",
       "      <td>325672</td>\n",
       "      <td>36|A&gt;G|0.027777778</td>\n",
       "      <td>0.703448</td>\n",
       "      <td>+</td>\n",
       "      <td>0.027777778</td>\n",
       "    </tr>\n",
       "  </tbody>\n",
       "</table>\n",
       "</div>"
      ],
      "text/plain": [
       "  chrom   start     end                name     score strand     editfrac\n",
       "0  chr1  322098  322099  31|A>G|0.032258065  0.739700      +  0.032258065\n",
       "1  chr1  324319  324320  36|A>G|0.138888889  0.999975      +  0.138888889\n",
       "2  chr1  324331  324332         25|A>G|0.44  1.000000      +         0.44\n",
       "3  chr1  325513  325514  28|A>G|0.035714286  0.762343      +  0.035714286\n",
       "4  chr1  325671  325672  36|A>G|0.027777778  0.703448      +  0.027777778"
      ]
     },
     "execution_count": 13,
     "metadata": {},
     "output_type": "execute_result"
    }
   ],
   "source": [
    "# using lambda and apply\n",
    "bedhead = ['chrom','start','end','name','score','strand']\n",
    "df = pd.read_table(\n",
    "    '/home/bay001/projects/emilie_rnae_20161003/analysis/editing/Hundley22/results/GSF860-Hundley-22_S1_R1_001.polyATrim.adapterTrim.rmRep.sorted.rg.fwd.sorted.rmdup.readfiltered.formatted.varfiltered.snpfiltered.ranked.bed',\n",
    "    names=bedhead\n",
    ")\n",
    "df = df.head()\n",
    "df['editfrac'] = df['name'].apply(lambda x: x.split('|')[2])\n",
    "df"
   ]
  },
  {
   "cell_type": "code",
   "execution_count": 12,
   "metadata": {},
   "outputs": [
    {
     "data": {
      "text/html": [
       "<div>\n",
       "<table border=\"1\" class=\"dataframe\">\n",
       "  <thead>\n",
       "    <tr style=\"text-align: right;\">\n",
       "      <th></th>\n",
       "      <th>0</th>\n",
       "      <th>1</th>\n",
       "      <th>2</th>\n",
       "    </tr>\n",
       "  </thead>\n",
       "  <tbody>\n",
       "    <tr>\n",
       "      <th>1</th>\n",
       "      <td>0</td>\n",
       "      <td>NaN</td>\n",
       "      <td>0.0</td>\n",
       "    </tr>\n",
       "    <tr>\n",
       "      <th>2</th>\n",
       "      <td>0</td>\n",
       "      <td>0.0</td>\n",
       "      <td>NaN</td>\n",
       "    </tr>\n",
       "  </tbody>\n",
       "</table>\n",
       "</div>"
      ],
      "text/plain": [
       "   0    1    2\n",
       "1  0  NaN  0.0\n",
       "2  0  0.0  NaN"
      ]
     },
     "execution_count": 12,
     "metadata": {},
     "output_type": "execute_result"
    }
   ],
   "source": [
    "# finding all rows with a nan\n",
    "df = pd.DataFrame([range(3), [0, np.NaN, 0], [0, 0, np.NaN], range(3), range(3)])\n",
    "df[df.isnull().any(axis=1)]"
   ]
  },
  {
   "cell_type": "code",
   "execution_count": null,
   "metadata": {},
   "outputs": [],
   "source": []
  },
  {
   "cell_type": "code",
   "execution_count": null,
   "metadata": {
    "collapsed": true
   },
   "outputs": [],
   "source": []
  }
 ],
 "metadata": {
  "kernelspec": {
   "display_name": "Python 2",
   "language": "python",
   "name": "python2"
  },
  "language_info": {
   "codemirror_mode": {
    "name": "ipython",
    "version": 2
   },
   "file_extension": ".py",
   "mimetype": "text/x-python",
   "name": "python",
   "nbconvert_exporter": "python",
   "pygments_lexer": "ipython2",
   "version": "2.7.13"
  }
 },
 "nbformat": 4,
 "nbformat_minor": 1
}
