{
 "cells": [
  {
   "cell_type": "markdown",
   "metadata": {},
   "source": [
    "# Small cookbook for manipulating pandas dataframes"
   ]
  },
  {
   "cell_type": "code",
   "execution_count": null,
   "metadata": {},
   "outputs": [],
   "source": [
    "import pandas as pd\n",
    "import numpy as np"
   ]
  },
  {
   "cell_type": "code",
   "execution_count": null,
   "metadata": {},
   "outputs": [],
   "source": [
    "# example dataframe\n",
    "X = pd.DataFrame([[1,2,3],[4,5,6],['duck','duck','goose'],[0,0,0]])\n",
    "X.columns = ['col1','col2','col3']\n",
    "X"
   ]
  },
  {
   "cell_type": "markdown",
   "metadata": {},
   "source": [
    "# Basic column and row manipulations"
   ]
  },
  {
   "cell_type": "code",
   "execution_count": null,
   "metadata": {},
   "outputs": [],
   "source": [
    "def last_to_first(df):\n",
    "    \"\"\"\n",
    "    This function moves the last column to the first.\n",
    "    \"\"\"\n",
    "    cols = list(df)\n",
    "    cols.insert(0, cols.pop(cols.index(cols[-1])))\n",
    "    return df.loc[:, cols]\n",
    "\n",
    "last_to_first(X)"
   ]
  },
  {
   "cell_type": "code",
   "execution_count": null,
   "metadata": {},
   "outputs": [],
   "source": [
    "def first_to_last(df):\n",
    "    \"\"\"\n",
    "    This function moves the first column to the last\n",
    "    \"\"\"\n",
    "    cols = list(df)\n",
    "    cols.append(cols.pop(cols.index(cols[0])))\n",
    "    return df.loc[:, cols]\n",
    "\n",
    "first_to_last(X)"
   ]
  },
  {
   "cell_type": "code",
   "execution_count": null,
   "metadata": {},
   "outputs": [],
   "source": [
    "def reorder_cols(df, cols):\n",
    "    \"\"\"\n",
    "    This function reorders pandas columns\n",
    "    according to the 'cols' param\n",
    "    \"\"\"\n",
    "    return df[cols]\n",
    "\n",
    "reorder_cols(X,['col3','col2','col1'])"
   ]
  },
  {
   "cell_type": "code",
   "execution_count": null,
   "metadata": {},
   "outputs": [],
   "source": [
    "def return_every_n(df, n):\n",
    "    \"\"\"\n",
    "    Takes a dataframe, returns only the nth column\n",
    "    \"\"\"\n",
    "    return df.iloc[:, ::n]\n",
    "\n",
    "# example dataframe where 5 are pasted together:\n",
    "# columns would be: col1, col2, col3, col1, col2, col3, col1, col2, col3, col1, col2, col3, col1, col2, col3 \n",
    "# new cols every 2: col1,       col3,       col2,       col1,       col3,       col2,       col1,       col3\n",
    "\n",
    "Y = pd.concat([X,X,X,X,X],axis=1)\n",
    "return_every_n(Y,2)"
   ]
  },
  {
   "cell_type": "code",
   "execution_count": null,
   "metadata": {},
   "outputs": [],
   "source": []
  },
  {
   "cell_type": "code",
   "execution_count": null,
   "metadata": {},
   "outputs": [],
   "source": [
    "def delete_list(df, todelete):\n",
    "    \"\"\"\n",
    "    Removes every instance of 'todelete' column from a pandas dataframe\n",
    "    \"\"\"\n",
    "    return df.drop(df.loc[:,todelete].head(0).columns, axis=1)\n",
    "\n",
    "delete_list(Y, 'col3')"
   ]
  },
  {
   "cell_type": "code",
   "execution_count": null,
   "metadata": {},
   "outputs": [],
   "source": [
    "def delete_list_lst(df, todelete):\n",
    "    \"\"\"\n",
    "    same function as above (delete_list) but instead takes in a list\n",
    "    \"\"\"\n",
    "    colnames = list(df.columns)\n",
    "    colnames = list(filter(lambda x: x not in todelete, colnames))\n",
    "    dx = df.drop(df.loc[:,todelete],axis=1)\n",
    "    dx.columns = colnames\n",
    "    return dx\n",
    "\n",
    "delete_list_lst(Y, ['col1', 'col3'])"
   ]
  },
  {
   "cell_type": "code",
   "execution_count": null,
   "metadata": {},
   "outputs": [],
   "source": [
    "def keep_list_lst(df, tokeep):\n",
    "    \"\"\"\n",
    "    Same function as above (delete_list) but instead keeps every column in tokeep\n",
    "    Functionally also the same as reorder_cols()\n",
    "    \"\"\"\n",
    "    dx = df[tokeep]\n",
    "    return dx\n",
    "\n",
    "keep_list_lst(Y, ['col1', 'col3'])"
   ]
  },
  {
   "cell_type": "markdown",
   "metadata": {},
   "source": [
    "# Lambda and apply statements on dataframes"
   ]
  },
  {
   "cell_type": "code",
   "execution_count": null,
   "metadata": {},
   "outputs": [],
   "source": [
    "# using apply + a function:\n",
    "def get_name(row):\n",
    "    \"\"\"\n",
    "    Splits a row['name'] column to return just the transcript ID:\n",
    "    \n",
    "    df['ENST00000237247.6_cds_2_0_chr1_67091530_f']\n",
    "    \"\"\"\n",
    "    return row['name'].split('_')[0]\n",
    "\n",
    "bed_file = '/projects/ps-yeolab4/genomes/hg19/hg19.introns.bed.txt'\n",
    "df = pd.read_table(bed_file,names=['chrom','start','end','name','score','strand'])\n",
    "df['name'] = df.apply(get_name, axis=1)\n",
    "df.head()"
   ]
  },
  {
   "cell_type": "code",
   "execution_count": null,
   "metadata": {},
   "outputs": [],
   "source": [
    "# equivalent lambda function:\n",
    "bed_file = '/projects/ps-yeolab4/genomes/hg19/hg19.introns.bed.txt'\n",
    "df = pd.read_table(bed_file,names=['chrom','start','end','name','score','strand'])\n",
    "df['name'] = df['name'].apply(lambda x: x.split('_')[0])\n",
    "df.head()"
   ]
  },
  {
   "cell_type": "markdown",
   "metadata": {},
   "source": [
    "# finding all rows with a nan"
   ]
  },
  {
   "cell_type": "code",
   "execution_count": null,
   "metadata": {},
   "outputs": [],
   "source": [
    "# example dataframe:\n",
    "df = pd.DataFrame([range(3), [0, np.NaN, 0], [0, 0, np.NaN], range(3), range(3)])\n",
    "df"
   ]
  },
  {
   "cell_type": "code",
   "execution_count": null,
   "metadata": {},
   "outputs": [],
   "source": [
    "df[df.isnull().any(axis=1)]"
   ]
  },
  {
   "cell_type": "markdown",
   "metadata": {},
   "source": [
    "# Splitting a list and transforming dataframes based on delim column splits:"
   ]
  },
  {
   "cell_type": "code",
   "execution_count": null,
   "metadata": {},
   "outputs": [],
   "source": [
    "delim = ','\n",
    "X = pd.DataFrame([['ENSG1','ENSTA,ENSTB,ENSTC','some_value1'],['ENSG2','ENSTD,ENSTE',2],['ENSG3','ENSTF','some_value3']])\n",
    "X.columns = ['gene','transcript','some_other']\n",
    "X"
   ]
  },
  {
   "cell_type": "code",
   "execution_count": null,
   "metadata": {},
   "outputs": [],
   "source": [
    "# 'explodes' a comma-delimited dataframe based on a column\n",
    "Y = pd.DataFrame(X.transcript.str.split(delim).tolist(),index=[X['gene'],X['some_other']]).stack()\n",
    "Y = Y.reset_index()[[0, 'gene','some_other']]\n",
    "Y.columns = ['gene','transcript','some_other']\n",
    "Y"
   ]
  },
  {
   "cell_type": "code",
   "execution_count": null,
   "metadata": {},
   "outputs": [],
   "source": [
    "# generic function for doing the above:\n",
    "\n",
    "def explode(df, delim, col_to_split, cols_to_keep):\n",
    "    \"\"\"\n",
    "    explodes a dataframe by splitting a column on a delimiter, and \n",
    "    producing one row for each split. \n",
    "    \"\"\"\n",
    "    cols_to_keep_list = [y.name for y in cols_to_keep]\n",
    "    dx = pd.DataFrame(df[col_to_split].str.split(delim).tolist(),index=cols_to_keep).stack()\n",
    "    dx = dx.reset_index()[[0] + cols_to_keep_list]\n",
    "    dx.columns = [col_to_split] + cols_to_keep_list\n",
    "    return dx\n",
    "\n",
    "explode(X, ',', 'transcript', [X['gene'],X['some_other']])"
   ]
  },
  {
   "cell_type": "markdown",
   "metadata": {},
   "source": [
    "# Mask one dataframe with another"
   ]
  },
  {
   "cell_type": "code",
   "execution_count": null,
   "metadata": {},
   "outputs": [],
   "source": [
    "# example dataframe\n",
    "X = pd.DataFrame([[1,2,3],[4,5,6],['duck','duck','goose'],[0,0,0]])\n",
    "X.columns = ['col1','col2','col3']\n",
    "X"
   ]
  },
  {
   "cell_type": "code",
   "execution_count": null,
   "metadata": {},
   "outputs": [],
   "source": [
    "# masking dataframe\n",
    "Y = pd.DataFrame([[1,0,0],[1,1,1],[1,0,1],[0,0,0]])\n",
    "Y.columns = ['col1','col2','col3']\n",
    "Y = Y.replace(0, np.nan)\n",
    "Y"
   ]
  },
  {
   "cell_type": "code",
   "execution_count": null,
   "metadata": {},
   "outputs": [],
   "source": [
    "# masking example dataframe with masking dataframe (keep only values that aren't NaN in X)\n",
    "X[~np.isnan(Y)]"
   ]
  },
  {
   "cell_type": "markdown",
   "metadata": {},
   "source": [
    "# Save CSV file as tabbed"
   ]
  },
  {
   "cell_type": "code",
   "execution_count": null,
   "metadata": {},
   "outputs": [],
   "source": [
    "# index = false (don't print out index, or the bolded column)\n",
    "# header = false (don't print out the header index, the bolded row)\n",
    "X.to_csv('/home/bay001/scratch/test_tabbed_tsv.tsv', sep='\\t', index=False, header=False)"
   ]
  },
  {
   "cell_type": "markdown",
   "metadata": {},
   "source": [
    "# Compare dataframes"
   ]
  },
  {
   "cell_type": "code",
   "execution_count": null,
   "metadata": {},
   "outputs": [],
   "source": [
    "dfA = pd.DataFrame(np.random.randint(0,15,size=(6, 4)), columns=list('ABCD'))\n",
    "dfB = pd.DataFrame(np.random.randint(0,15,size=(6, 4)), columns=list('ABCD'))"
   ]
  },
  {
   "cell_type": "code",
   "execution_count": null,
   "metadata": {},
   "outputs": [],
   "source": [
    "dfA"
   ]
  },
  {
   "cell_type": "code",
   "execution_count": null,
   "metadata": {},
   "outputs": [],
   "source": [
    "dfB"
   ]
  },
  {
   "cell_type": "code",
   "execution_count": null,
   "metadata": {},
   "outputs": [],
   "source": [
    "from collections import defaultdict\n",
    "\n",
    "a_not_b = defaultdict(list)\n",
    "b_not_a = defaultdict(list)\n",
    "a_over_b = defaultdict(list)\n",
    "b_over_a = defaultdict(list)\n",
    "\n",
    "for row in dfA.index:\n",
    "    for col in dfA.columns:\n",
    "        if dfA.loc[row, col] > 0 and dfB.loc[row, col] == 0:\n",
    "            a_not_b[col].append(row)\n",
    "        elif dfB.loc[row, col] > 0 and dfA.loc[row, col] == 0:\n",
    "            b_not_a[col].append(row)\n",
    "        elif dfA.loc[row, col] > dfB.loc[row, col]:\n",
    "            a_over_b[col].append(row)\n",
    "        elif dfB.loc[row, col] > dfA.loc[row, col]:\n",
    "            b_over_a[col].append(row)"
   ]
  },
  {
   "cell_type": "code",
   "execution_count": null,
   "metadata": {},
   "outputs": [],
   "source": [
    "for key in a_over_b.keys():\n",
    "    print(\"{} -> {}\".format(key, a_over_b[key]))"
   ]
  },
  {
   "cell_type": "code",
   "execution_count": null,
   "metadata": {},
   "outputs": [],
   "source": []
  }
 ],
 "metadata": {
  "kernelspec": {
   "display_name": "brian",
   "language": "python",
   "name": "brian"
  },
  "language_info": {
   "codemirror_mode": {
    "name": "ipython",
    "version": 2
   },
   "file_extension": ".py",
   "mimetype": "text/x-python",
   "name": "python",
   "nbconvert_exporter": "python",
   "pygments_lexer": "ipython2",
   "version": "2.7.15"
  }
 },
 "nbformat": 4,
 "nbformat_minor": 4
}
