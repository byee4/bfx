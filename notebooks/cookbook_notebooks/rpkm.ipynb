{
 "cells": [
  {
   "cell_type": "markdown",
   "metadata": {},
   "source": [
    "# Basic RPKM calculation\n",
    "- if possible, use pyscripts/rnasaeq/gene_expression module instead"
   ]
  },
  {
   "cell_type": "code",
   "execution_count": 2,
   "metadata": {
    "collapsed": true
   },
   "outputs": [],
   "source": []
  },
  {
   "cell_type": "code",
   "execution_count": 6,
   "metadata": {},
   "outputs": [],
   "source": [
    "import pandas\n",
    "\n",
    "counts_file = 'counts.txt'\n",
    "\n",
    "def counts_to_rpkm(feature_counts_table):\n",
    "    counts = feature_counts_table.ix[:,5:]\n",
    "    lengths = feature_counts_table['Length']\n",
    "    mapped_reads = counts.sum()\n",
    "    return (counts * pow(10,9)).div(mapped_reads, axis=1).div(lengths, axis=0)\n",
    "\n",
    "counts_table = pandas.read_table(counts_file, index_col=0, skiprows=1)\n",
    "\n",
    "counts_to_rpkm(featureCountsTable)"
   ]
  }
 ],
 "metadata": {
  "kernelspec": {
   "display_name": "Python 2",
   "language": "python",
   "name": "python2"
  },
  "language_info": {
   "codemirror_mode": {
    "name": "ipython",
    "version": 2
   },
   "file_extension": ".py",
   "mimetype": "text/x-python",
   "name": "python",
   "nbconvert_exporter": "python",
   "pygments_lexer": "ipython2",
   "version": "2.7.15"
  }
 },
 "nbformat": 4,
 "nbformat_minor": 1
}
