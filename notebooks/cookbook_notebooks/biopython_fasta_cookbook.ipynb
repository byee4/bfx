{
 "cells": [
  {
   "cell_type": "markdown",
   "metadata": {},
   "source": [
    "# Small cookbook for parsing fastq files that I've needed to use more than once.\n",
    "- just a quick reference to share"
   ]
  },
  {
   "cell_type": "markdown",
   "metadata": {},
   "source": [
    "### common imports that I like"
   ]
  },
  {
   "cell_type": "code",
   "execution_count": 2,
   "metadata": {},
   "outputs": [],
   "source": [
    "import os\n",
    "from tqdm import tnrange, tqdm_notebook"
   ]
  },
  {
   "cell_type": "code",
   "execution_count": 3,
   "metadata": {},
   "outputs": [],
   "source": [
    "# temporary output directory for demo purposes\n",
    "input_dir = '/projects/ps-yeolab3/bay001/codebase/bfx/data/'\n",
    "output_dir = '/projects/ps-yeolab3/bay001/codebase/bfx/scratch/'"
   ]
  },
  {
   "cell_type": "markdown",
   "metadata": {},
   "source": [
    "### This parses a fasta file and searches for a particular set of ids (names_to_search), and printing"
   ]
  },
  {
   "cell_type": "code",
   "execution_count": 4,
   "metadata": {},
   "outputs": [
    {
     "name": "stdout",
     "output_type": "stream",
     "text": [
      "record: hsa-let-7b-5p, record_obj: UGAGGUAGUAGGUUGUGUGGUU, record_string: UGAGGUAGUAGGUUGUGUGGUU\n",
      "record: hsa-let-7g-5p, record_obj: UGAGGUAGUAGUUUGUACAGUU, record_string: UGAGGUAGUAGUUUGUACAGUU\n",
      "record: mmu-let-7b-5p, record_obj: UGAGGUAGUAGGUUGUGUGGUU, record_string: UGAGGUAGUAGGUUGUGUGGUU\n",
      "record: rno-let-7b-5p, record_obj: UGAGGUAGUAGGUUGUGUGGUU, record_string: UGAGGUAGUAGGUUGUGUGGUU\n",
      "record: sme-let-7b-5p, record_obj: UGAGGUAGAUUGUUGGAUGACU, record_string: UGAGGUAGAUUGUUGGAUGACU\n",
      "record: oan-let-7b-5p, record_obj: UGAGGUAGUAGGUUGUGUGGUU, record_string: UGAGGUAGUAGGUUGUGUGGUU\n",
      "record: cin-let-7b-5p, record_obj: UGAGGUAGUAGGUUAUGUUGUU, record_string: UGAGGUAGUAGGUUAUGUUGUU\n",
      "record: mml-let-7b-5p, record_obj: UGAGGUAGUAGGUUGUGUGGUU, record_string: UGAGGUAGUAGGUUGUGUGGUU\n",
      "record: tgu-let-7b-5p, record_obj: UGAGGUAGUAGGUUGUGUGGUU, record_string: UGAGGUAGUAGGUUGUGUGGUU\n",
      "record: pma-let-7b-5p, record_obj: UGAGGUAGUAGGUUUUGUAGUU, record_string: UGAGGUAGUAGGUUUUGUAGUU\n",
      "record: aca-let-7b-5p, record_obj: UGAGGUAGUAGGUUGUGUGGU, record_string: UGAGGUAGUAGGUUGUGUGGU\n",
      "record: pol-let-7b-5p, record_obj: UGAGGUAGUAGGUUGUGUGGUU, record_string: UGAGGUAGUAGGUUGUGUGGUU\n",
      "record: ssa-let-7b-5p, record_obj: UGAGGUAGUAGGUUGUGUGGUU, record_string: UGAGGUAGUAGGUUGUGUGGUU\n",
      "record: chi-let-7b-5p, record_obj: UGAGGUAGUAGGUUGUGUGGUU, record_string: UGAGGUAGUAGGUUGUGUGGUU\n",
      "record: oha-let-7b-5p, record_obj: UGAGGUAGUAGGUUGUGUGGUU, record_string: UGAGGUAGUAGGUUGUGUGGUU\n"
     ]
    }
   ],
   "source": [
    "from Bio import SeqIO\n",
    "\n",
    "names_to_search = ['hsa-let-7g-5p', 'let-7b-5p']\n",
    "handle = open(os.path.join(input_dir, \"mature.fa\"), \"rU\")\n",
    "for record in SeqIO.parse(handle, \"fasta\"):\n",
    "    for name in names_to_search:\n",
    "        if name in record.id:\n",
    "            print(\"record: {}, record_obj: {}, record_string: {}\".format(record.id, record.seq, str(record.seq)))\n",
    "handle.close()"
   ]
  },
  {
   "cell_type": "markdown",
   "metadata": {},
   "source": [
    "### This parses a fasta file and searches for a particular set of ids (names_to_search), and writing to a separate file"
   ]
  },
  {
   "cell_type": "code",
   "execution_count": 4,
   "metadata": {},
   "outputs": [],
   "source": [
    "from Bio import SeqIO\n",
    "names_to_search = ['rna', 'RNA', 'alu']\n",
    "handle = open(os.path.join(input_dir, \"all.ref\"), \"rU\")\n",
    "outfile = os.path.join(output_dir, \"small_repelements.fa\")\n",
    "records = []\n",
    "for record in SeqIO.parse(handle, \"fasta\"):\n",
    "    for name in names_to_search:\n",
    "        if name in record.id:\n",
    "            records.append(record)\n",
    "SeqIO.write(records,outfile,\"fasta\")\n",
    "handle.close()"
   ]
  },
  {
   "cell_type": "markdown",
   "metadata": {},
   "source": [
    "### This parses a fasta file and searches for a particular set of ids (names_to_search), and printing"
   ]
  },
  {
   "cell_type": "code",
   "execution_count": 5,
   "metadata": {},
   "outputs": [
    {
     "data": {
      "text/html": [
       "<div>\n",
       "<style scoped>\n",
       "    .dataframe tbody tr th:only-of-type {\n",
       "        vertical-align: middle;\n",
       "    }\n",
       "\n",
       "    .dataframe tbody tr th {\n",
       "        vertical-align: top;\n",
       "    }\n",
       "\n",
       "    .dataframe thead th {\n",
       "        text-align: right;\n",
       "    }\n",
       "</style>\n",
       "<table border=\"1\" class=\"dataframe\">\n",
       "  <thead>\n",
       "    <tr style=\"text-align: right;\">\n",
       "      <th></th>\n",
       "      <th>len</th>\n",
       "    </tr>\n",
       "  </thead>\n",
       "  <tbody>\n",
       "    <tr>\n",
       "      <th>aae-bantam-3p</th>\n",
       "      <td>22</td>\n",
       "    </tr>\n",
       "    <tr>\n",
       "      <th>aae-bantam-5p</th>\n",
       "      <td>23</td>\n",
       "    </tr>\n",
       "    <tr>\n",
       "      <th>aae-let-7</th>\n",
       "      <td>21</td>\n",
       "    </tr>\n",
       "    <tr>\n",
       "      <th>aae-miR-1</th>\n",
       "      <td>22</td>\n",
       "    </tr>\n",
       "    <tr>\n",
       "      <th>aae-miR-10</th>\n",
       "      <td>22</td>\n",
       "    </tr>\n",
       "  </tbody>\n",
       "</table>\n",
       "</div>"
      ],
      "text/plain": [
       "               len\n",
       "aae-bantam-3p   22\n",
       "aae-bantam-5p   23\n",
       "aae-let-7       21\n",
       "aae-miR-1       22\n",
       "aae-miR-10      22"
      ]
     },
     "execution_count": 5,
     "metadata": {},
     "output_type": "execute_result"
    }
   ],
   "source": [
    "from Bio import SeqIO\n",
    "import pandas as pd\n",
    "\n",
    "lengths = {}\n",
    "handle = open(os.path.join(input_dir, \"mature.fa\"), \"rU\")\n",
    "for record in SeqIO.parse(handle, \"fasta\"):\n",
    "    lengths[record.id] = len(record.seq)\n",
    "handle.close()\n",
    "pd.DataFrame(lengths,index=['len']).T.head()"
   ]
  },
  {
   "cell_type": "markdown",
   "metadata": {},
   "source": [
    "### This parses a fasta file renames the ID"
   ]
  },
  {
   "cell_type": "code",
   "execution_count": 6,
   "metadata": {},
   "outputs": [],
   "source": [
    "from Bio import SeqIO\n",
    "handle = open(os.path.join(input_dir, \"ws245_genes.ucsctable.fa\"), \"rU\")\n",
    "outfile = os.path.join(output_dir, \"ws245_genes.ucsctable.fix_genenames.fa\")\n",
    "records = []\n",
    "x = 0\n",
    "for record in SeqIO.parse(handle, \"fasta\"):\n",
    "    record.id = record.id.split('_')[2]\n",
    "    records.append(record)\n",
    "SeqIO.write(records,outfile,\"fasta\")\n",
    "handle.close()    "
   ]
  },
  {
   "cell_type": "markdown",
   "metadata": {},
   "source": [
    "### This gets len of each sequence"
   ]
  },
  {
   "cell_type": "code",
   "execution_count": 7,
   "metadata": {},
   "outputs": [
    {
     "name": "stdout",
     "output_type": "stream",
     "text": [
      "15072423 chrI\n",
      "15279345 chrII\n",
      "13783700 chrIII\n",
      "17493793 chrIV\n",
      "13794 chrM\n",
      "20924149 chrV\n",
      "17718866 chrX\n"
     ]
    }
   ],
   "source": [
    "from Bio import SeqIO\n",
    "handle = open(os.path.join(input_dir, \"ce10.fa\"), \"rU\")\n",
    "\n",
    "for record in SeqIO.parse(handle, \"fasta\"):\n",
    "    print len(record.seq), record.name\n",
    "handle.close()"
   ]
  },
  {
   "cell_type": "markdown",
   "metadata": {},
   "source": [
    "### Useful functions using biopython"
   ]
  },
  {
   "cell_type": "code",
   "execution_count": 8,
   "metadata": {},
   "outputs": [
    {
     "data": {
      "text/plain": [
       "{'chr1': 248956422}"
      ]
     },
     "execution_count": 8,
     "metadata": {},
     "output_type": "execute_result"
    }
   ],
   "source": [
    "from Bio import SeqIO\n",
    "def get_seq_dict_from_file(fn, seq_ids=[], file_type='fasta', equal=True):\n",
    "    \"\"\"\n",
    "    Returns dictionary of {name : sequence}\n",
    "     \n",
    "    Parameters\n",
    "    ----------\n",
    "    \n",
    "    fn : basestring\n",
    "        file location of a fasta file\n",
    "    seq_ids : list\n",
    "        list of sequence ids to search. Empty field returns all sequences\n",
    "    equal : bool\n",
    "        True if seq_id needs to be identical\n",
    "        False if we just have partial identifier\n",
    "    file_type : basestring\n",
    "        default \"fasta\" type file\n",
    "    Returns\n",
    "    -------\n",
    "    records : dict\n",
    "        {name:sequence}\n",
    "    \"\"\"\n",
    "    records = {}\n",
    "    for record in SeqIO.parse(fn, file_type):\n",
    "        if len(seq_ids) > 0:\n",
    "            for name in seq_ids:\n",
    "                if equal:\n",
    "                    if name == record.id:\n",
    "                        records[record.id] = record.seq\n",
    "                else:\n",
    "                    if name in record.id:\n",
    "                        records[record.id] = record.seq\n",
    "        else:\n",
    "            records[record.id] = record.seq\n",
    "    return records\n",
    "\n",
    "def get_seq_sizes(fn, seq_ids=[], file_type='fasta', equal=True):\n",
    "    \"\"\"\n",
    "    Returns dictionary of {name : seqsize}\n",
    "    \n",
    "    Parameters\n",
    "    ----------\n",
    "    \n",
    "    fn : basestring\n",
    "        file location of a fasta file\n",
    "    seq_ids : list\n",
    "        list of sequence ids to search. Empty field returns all sequences\n",
    "    equal : bool\n",
    "        True if seq_id needs to be identical\n",
    "        False if we just have partial identifier\n",
    "    file_type : basestring\n",
    "        default \"fasta\" type file\n",
    "\n",
    "    Returns\n",
    "    -------\n",
    "\n",
    "    \"\"\"\n",
    "    lengths = {}\n",
    "    records = get_seq_dict_from_file(fn, seq_ids, file_type, equal)\n",
    "    \n",
    "    for seq_id, sequence in records.iteritems():\n",
    "        lengths[seq_id] = len(sequence)\n",
    "    return lengths\n",
    "\n",
    "fn = os.path.join(input_dir, \"GRCh38.primary_assembly.genome.fa\")\n",
    "seq_ids = ['chr1']  # just return the chr1 size for now, leave list empty of you want all of them.\n",
    "\n",
    "d = get_seq_sizes(fn=fn, seq_ids=seq_ids)\n",
    "d"
   ]
  },
  {
   "cell_type": "markdown",
   "metadata": {},
   "source": [
    "### this subsets the fasta file to just contain XYZ number of bases"
   ]
  },
  {
   "cell_type": "code",
   "execution_count": 9,
   "metadata": {},
   "outputs": [
    {
     "name": "stdout",
     "output_type": "stream",
     "text": [
      "1000000\n"
     ]
    }
   ],
   "source": [
    "from Bio import SeqIO\n",
    "handle = open(os.path.join(input_dir, \"chr19.fa\"), \"rU\")\n",
    "outfile = \"chr19.1M.fa\"\n",
    "records = []\n",
    "for record in SeqIO.parse(handle, \"fasta\"):\n",
    "    record.seq = record.seq[:1000000]  # take first 1,000,000 nucleotides\n",
    "    records.append(record)\n",
    "    print(len(record.seq))\n",
    "SeqIO.write(records,outfile,\"fasta\")\n",
    "handle.close()"
   ]
  },
  {
   "cell_type": "markdown",
   "metadata": {},
   "source": [
    "### this performs very basic trimming on a fastq file ###"
   ]
  },
  {
   "cell_type": "code",
   "execution_count": 11,
   "metadata": {},
   "outputs": [
    {
     "name": "stdout",
     "output_type": "stream",
     "text": [
      "(Seq('NNNNNNNNNNNNNNNNNNNNNNNNNNNNNNNNNNNNNNNNNNNNNNNNNNNNNNNNNNNN', SingleLetterAlphabet()), 60)\n",
      "(Seq('NNNNNNNNNNNNNNNNNNNNNNNNNNNNNNNNNNNNNNNNNNNNNNNNNNNNNNNNNNNN', SingleLetterAlphabet()), 60)\n",
      "(Seq('NNNNNNNNNNNNNNNNNNNNNNNNNNNNNNNNNNNNNNNNNNNNNNNNNNNNNNNNNNNN', SingleLetterAlphabet()), 60)\n",
      "(Seq('NNNNNNNNNNNNNNNNNNNNNNNNNNNNNNNNNNNNNNNNNNNNNNNNNNNNNNNNNNNN', SingleLetterAlphabet()), 60)\n",
      "(Seq('NNNNNNNNNNNNNNNNNNNNNNNNNNNNNNNNNNNNNNNNNNNNNNNNNNNNNNNNNNNN', SingleLetterAlphabet()), 60)\n",
      "(Seq('NNNNNNNNNNNNNNNNNNNNNNNNNNNNNNNNNNNNNNNNNNNNNNNNNNNNNNNNNNNN', SingleLetterAlphabet()), 60)\n",
      "(Seq('NNNNNNNNNNNNNNNNNNNNNNNNNNNNNNNNNNNNNNNNNNNNNNNNNNNNNNNNNNNN', SingleLetterAlphabet()), 60)\n",
      "(Seq('NNNNNNNNNNNNNNNNNNNNNNNNNNNNNNNNNNNNNNNNNNNNNNNNNNNNNNNNNNNN', SingleLetterAlphabet()), 60)\n",
      "(Seq('NNNNNNNNNNNNNNNNNNNNNNNNNNNNNNNNNNNNNNNNNNNNNNNNNNNNNNNNNNNN', SingleLetterAlphabet()), 60)\n",
      "(Seq('NNNNNNNNNNNNNNNNNNNNNNNNNNNNNNNNNNNNNNNNNNNNNNNNNNNNNNNNNNNN', SingleLetterAlphabet()), 60)\n",
      "(Seq('NANNNNNNNNNNNNNNNNNNNNNNNNNNNNNNNNNNNNNNNNNNNNNNNNNNNNNNNNNN', SingleLetterAlphabet()), 60)\n",
      "(Seq('NCNNNNNNNNNNNNNNNNNNNNNNNNNNNNNNNNNNNNNNNNNNNNNNNNNNNNNNNNNN', SingleLetterAlphabet()), 60)\n"
     ]
    }
   ],
   "source": [
    "import gzip\n",
    "from Bio import SeqIO\n",
    "\n",
    "# preview just 10 records, so we don't print all of the lines in our fastq file\n",
    "counter = 0\n",
    "max_count = 10\n",
    "\n",
    "handle = gzip.open(os.path.join(input_dir, \"Barnayard_Original_S3_R2_001.fastq.gz\"), \"rt\")  # use gzip open and 'rt' to open gzipped files\n",
    "outfile = os.path.join(output_dir, \"Barnayard_Original_S3_R2_001.short.fastq.gz\")\n",
    "for record in SeqIO.parse(handle, \"fastq\"):  # either fastq-solexa, fastq-illumina or 'fastq' which defaults to fastq-sanger\n",
    "    record.seq = record.seq[:60]  # subset and print first 60 bases\n",
    "    print(record.seq, len(record.seq))\n",
    "    if counter > max_count:\n",
    "        break\n",
    "    else:\n",
    "        counter+=1\n",
    "\n",
    "handle.close()"
   ]
  },
  {
   "cell_type": "code",
   "execution_count": null,
   "metadata": {},
   "outputs": [],
   "source": []
  }
 ],
 "metadata": {
  "kernelspec": {
   "display_name": "Python 2",
   "language": "python",
   "name": "python2"
  },
  "language_info": {
   "codemirror_mode": {
    "name": "ipython",
    "version": 2
   },
   "file_extension": ".py",
   "mimetype": "text/x-python",
   "name": "python",
   "nbconvert_exporter": "python",
   "pygments_lexer": "ipython2",
   "version": "2.7.15"
  }
 },
 "nbformat": 4,
 "nbformat_minor": 1
}
