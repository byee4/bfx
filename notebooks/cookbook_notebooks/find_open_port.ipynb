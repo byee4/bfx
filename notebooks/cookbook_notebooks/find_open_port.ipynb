{
 "cells": [
  {
   "cell_type": "markdown",
   "id": "6e730579-7665-4466-bc70-71da1f77c65d",
   "metadata": {},
   "source": [
    "# Python code to find an open random port."
   ]
  },
  {
   "cell_type": "code",
   "execution_count": 1,
   "id": "ae349a09-42b0-4444-984a-b591f14561e6",
   "metadata": {},
   "outputs": [],
   "source": [
    "import socket\n",
    "import random"
   ]
  },
  {
   "cell_type": "code",
   "execution_count": 2,
   "id": "fa6f63f9-7523-41b6-83f0-f4eb4ccbcc34",
   "metadata": {},
   "outputs": [],
   "source": [
    "def is_port_in_use(port):\n",
    "    with socket.socket(socket.AF_INET, socket.SOCK_STREAM) as s:\n",
    "        return s.connect_ex((socket.gethostname(), port)) == 0"
   ]
  },
  {
   "cell_type": "code",
   "execution_count": 4,
   "id": "5aa9cd35-7059-4dbc-ba72-20b730e9f1cb",
   "metadata": {},
   "outputs": [
    {
     "data": {
      "text/plain": [
       "5782"
      ]
     },
     "execution_count": 4,
     "metadata": {},
     "output_type": "execute_result"
    }
   ],
   "source": [
    "start = 1025\n",
    "stop = 8887\n",
    "port_in_use = True\n",
    "while port_in_use: \n",
    "    rand_port = random.randrange(start, stop)\n",
    "    port_in_use = is_port_in_use(rand_port)\n",
    "\n",
    "rand_port"
   ]
  },
  {
   "cell_type": "code",
   "execution_count": 7,
   "id": "11ed1233-5005-4cd1-9d37-5f410af17b2f",
   "metadata": {},
   "outputs": [
    {
     "data": {
      "text/plain": [
       "'132.249.107.136'"
      ]
     },
     "execution_count": 7,
     "metadata": {},
     "output_type": "execute_result"
    }
   ],
   "source": []
  },
  {
   "cell_type": "code",
   "execution_count": null,
   "id": "3060d6aa-6677-4139-a782-e58e98c01853",
   "metadata": {},
   "outputs": [],
   "source": []
  }
 ],
 "metadata": {
  "kernelspec": {
   "display_name": "python3essential (tscc)",
   "language": "python",
   "name": "python3essential"
  },
  "language_info": {
   "codemirror_mode": {
    "name": "ipython",
    "version": 3
   },
   "file_extension": ".py",
   "mimetype": "text/x-python",
   "name": "python",
   "nbconvert_exporter": "python",
   "pygments_lexer": "ipython3",
   "version": "3.6.7"
  }
 },
 "nbformat": 4,
 "nbformat_minor": 5
}
