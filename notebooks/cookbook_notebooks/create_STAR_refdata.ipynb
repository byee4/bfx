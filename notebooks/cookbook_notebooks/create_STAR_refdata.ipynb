{
 "cells": [
  {
   "cell_type": "code",
   "execution_count": 3,
   "metadata": {
    "collapsed": true
   },
   "outputs": [],
   "source": [
    "mm10ref = '/projects/ps-yeolab3/bay001/annotations/refdata-cellranger-mm10_and_eGFP-1.2.0/genome.fa'\n",
    "eGFPref = '/projects/ps-yeolab3/bay001/annotations/refdata-cellranger-mm10_and_eGFP-1.2.0/GFP.fa'\n",
    "combined_ref = '/projects/ps-yeolab3/bay001/annotations/refdata-cellranger-mm10_and_eGFP-1.2.0/genomes_GFP.fa'"
   ]
  },
  {
   "cell_type": "code",
   "execution_count": 4,
   "metadata": {
    "collapsed": true
   },
   "outputs": [],
   "source": [
    "! cat $mm10ref $eGFPref > $combined_ref"
   ]
  },
  {
   "cell_type": "code",
   "execution_count": 7,
   "metadata": {},
   "outputs": [],
   "source": [
    "gtf = '/projects/ps-yeolab3/bay001/annotations/refdata-cellranger-mm10_and_eGFP-1.2.0/genes.gtf'\n",
    "GFP = '/projects/ps-yeolab3/bay001/annotations/refdata-cellranger-mm10_and_eGFP-1.2.0/GFP.gtf'\n",
    "\n",
    "gtf_GFP = '/projects/ps-yeolab3/bay001/annotations/refdata-cellranger-mm10_and_eGFP-1.2.0/genes_GFP.gtf'\n",
    "o = open(gtf_GFP, 'w') \n",
    "\n",
    "with open(gtf, 'r') as f:\n",
    "    for line in f:\n",
    "        o.write(line)\n",
    "\n",
    "o2 = open(GFP, 'w')\n",
    "\n",
    "parentp = 'gene_id \\\"pGFP\\\"; gene_biotype \\\"protein_coding\\\"; gene_source \\\"yansong\\\"; gene_name \\\"pGFP\\\"; '\n",
    "childp = 'gene_id \\\"pGFP\\\"; gene_source \\\"yansong\\\"; gene_name \\\"pGFP\\\"; transcript_id \\\"pGFP\\\";'\n",
    "parentn = 'gene_id \\\"nGFP\\\"; gene_biotype \\\"protein_coding\\\"; gene_source \\\"yansong\\\"; gene_name \\\"nGFP\\\"; '\n",
    "childn = 'gene_id \\\"nGFP\\\"; gene_source \\\"yansong\\\"; gene_name \\\"nGFP\\\"; transcript_id \\\"nGFP\\\";'\n",
    "\n",
    "o.write('{}\\t{}\\t{}\\t{}\\t{}\\t{}\\t{}\\t{}\\t{}\\n'.format(\n",
    "    'GFP', 'yansong', 'gene', 1, 271, '.', '+', '.', parentp\n",
    "))\n",
    "o.write('{}\\t{}\\t{}\\t{}\\t{}\\t{}\\t{}\\t{}\\t{}\\n'.format(\n",
    "    'GFP', 'yansong', 'transcript', 1, 271, '.', '+', '.', childp\n",
    "))\n",
    "o.write('{}\\t{}\\t{}\\t{}\\t{}\\t{}\\t{}\\t{}\\t{}\\n'.format(\n",
    "    'GFP', 'yansong', 'gene', 1, 271, '.', '-', '.', parentn\n",
    "))\n",
    "o.write('{}\\t{}\\t{}\\t{}\\t{}\\t{}\\t{}\\t{}\\t{}\\n'.format(\n",
    "    'GFP', 'yansong', 'transcript', 1, 271, '.', '-', '.', childn\n",
    "))\n",
    "o.close()\n",
    "\n",
    "o2.write('{}\\t{}\\t{}\\t{}\\t{}\\t{}\\t{}\\t{}\\t{}\\n'.format(\n",
    "    'GFP', 'yansong', 'gene', 1, 271, '.', '+', '.', parentp\n",
    "))\n",
    "o2.write('{}\\t{}\\t{}\\t{}\\t{}\\t{}\\t{}\\t{}\\t{}\\n'.format(\n",
    "    'GFP', 'yansong', 'transcript', 1, 271, '.', '+', '.', childp\n",
    "))\n",
    "o2.write('{}\\t{}\\t{}\\t{}\\t{}\\t{}\\t{}\\t{}\\t{}\\n'.format(\n",
    "    'GFP', 'yansong', 'gene', 1, 271, '.', '-', '.', parentn\n",
    "))\n",
    "o2.write('{}\\t{}\\t{}\\t{}\\t{}\\t{}\\t{}\\t{}\\t{}\\n'.format(\n",
    "    'GFP', 'yansong', 'transcript', 1, 271, '.', '-', '.', childn\n",
    "))\n",
    "o2.close()"
   ]
  },
  {
   "cell_type": "code",
   "execution_count": null,
   "metadata": {
    "collapsed": true
   },
   "outputs": [],
   "source": []
  }
 ],
 "metadata": {
  "kernelspec": {
   "display_name": "Python 2",
   "language": "python",
   "name": "python2"
  },
  "language_info": {
   "codemirror_mode": {
    "name": "ipython",
    "version": 2
   },
   "file_extension": ".py",
   "mimetype": "text/x-python",
   "name": "python",
   "nbconvert_exporter": "python",
   "pygments_lexer": "ipython2",
   "version": "2.7.13"
  }
 },
 "nbformat": 4,
 "nbformat_minor": 2
}
