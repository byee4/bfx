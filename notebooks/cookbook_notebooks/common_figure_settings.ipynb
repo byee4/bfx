{
 "cells": [
  {
   "cell_type": "markdown",
   "metadata": {},
   "source": [
    "# Common figure settings for manuscripts\n",
    "- fontsize = 8\n",
    "- sns.set_style(\"ticks\")"
   ]
  },
  {
   "cell_type": "code",
   "execution_count": 1,
   "metadata": {
    "collapsed": true
   },
   "outputs": [],
   "source": [
    "# common settings for making the figure text actual text instead of lots of tiny dots\n",
    "import matplotlib\n",
    "from matplotlib import rc\n",
    "\n",
    "rc('text', usetex=False) # important!\n",
    "matplotlib.rcParams['svg.fonttype'] = 'none'\n",
    "rc('font', **{'family': 'sans-serif', 'sans-serif': ['Helvetica']})"
   ]
  },
  {
   "cell_type": "code",
   "execution_count": null,
   "metadata": {},
   "outputs": [],
   "source": [
    "# Plots a heatmap as a rasterized layer instead of individual dots \n",
    "# (Gabe might have a better way of doing this)\n",
    "%matplotlib inline\n",
    "import pandas as pd\n",
    "import seaborn as sns\n",
    "import matplotlib.pyplot as plt\n",
    "\n",
    "df = pd.read_table(\n",
    "    '/projects/ps-yeolab3/bay001/maps/current/se/204_01_RBFOX2.merged.r2.1.HepG2_native_cassette_exons.normed_matrix.txt',\n",
    "    sep=',',\n",
    "    index_col=0\n",
    ")\n",
    "df = df.head()\n",
    "sns.heatmap(df, xticklabels=False, yticklabels=False)\n",
    "plt.savefig(\n",
    "    '/home/bay001/projects/codebase/temp/example_heatmap.svg',\n",
    "    rasterized=True # important\n",
    ")"
   ]
  },
  {
   "cell_type": "code",
   "execution_count": null,
   "metadata": {},
   "outputs": [],
   "source": []
  },
  {
   "cell_type": "code",
   "execution_count": null,
   "metadata": {
    "collapsed": true
   },
   "outputs": [],
   "source": []
  }
 ],
 "metadata": {
  "kernelspec": {
   "display_name": "Python 2",
   "language": "python",
   "name": "python2"
  },
  "language_info": {
   "codemirror_mode": {
    "name": "ipython",
    "version": 2
   },
   "file_extension": ".py",
   "mimetype": "text/x-python",
   "name": "python",
   "nbconvert_exporter": "python",
   "pygments_lexer": "ipython2",
   "version": "2.7.13"
  }
 },
 "nbformat": 4,
 "nbformat_minor": 2
}
