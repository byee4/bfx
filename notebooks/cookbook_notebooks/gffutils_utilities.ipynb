{
 "cells": [
  {
   "cell_type": "markdown",
   "metadata": {},
   "source": [
    "# Collection of examples for annotation using the GTF database and gffutils"
   ]
  },
  {
   "cell_type": "code",
   "execution_count": null,
   "metadata": {
    "collapsed": true
   },
   "outputs": [],
   "source": [
    "import pandas as pd\n",
    "import gffutils\n",
    "import os\n",
    "from collections import defaultdict"
   ]
  },
  {
   "cell_type": "code",
   "execution_count": null,
   "metadata": {},
   "outputs": [],
   "source": [
    "annotation_file = '/projects/ps-yeolab3/bay001/annotations/c_elegans.PRJNA13758.WS257.annotations.gff3'\n",
    "db_file = '/projects/ps-yeolab3/bay001/annotations/c_elegans.PRJNA13758.WS257.annotations.gff3.db'\n",
    "\n",
    "def build_db(annotation_file, db_file, force=True, disable_infer_genes=True, disable_infer_transcripts=True):\n",
    "    db = gffutils.create_db(\n",
    "        annotation_file, dbfn=db_file, force=force, # change to True if we need to create a new db\n",
    "        keep_order=True, merge_strategy='merge', sort_attribute_values=True,\n",
    "        disable_infer_genes=disable_infer_genes,\n",
    "        disable_infer_transcripts=disable_infer_transcripts\n",
    "    )\n",
    "build_db(annotation_file, db_file, disable_infer_genes=False, disable_infer_transcripts=False)"
   ]
  },
  {
   "cell_type": "code",
   "execution_count": 3,
   "metadata": {
    "collapsed": true
   },
   "outputs": [],
   "source": [
    "# db_file = '/projects/ps-yeolab/genomes/mm10/gencode/gencode.vM3.annotation.gtf.db'\n",
    "db_file = '/projects/ps-yeolab/genomes/hg19/gencode_v19/gencode.v19.annotation.gtf.db'\n",
    "DATABASE = gffutils.FeatureDB(db_file)"
   ]
  },
  {
   "cell_type": "code",
   "execution_count": 8,
   "metadata": {},
   "outputs": [
    {
     "data": {
      "text/plain": [
       "'A930009A15Rik'"
      ]
     },
     "execution_count": 8,
     "metadata": {},
     "output_type": "execute_result"
    }
   ],
   "source": [
    "def gene_id_to_name(db):\n",
    "    '''\n",
    "    Returns a dictionary containing a gene_id:name translation\n",
    "    Note: may be different if the 'gene_id' or 'gene_name' \n",
    "    keys are not in the source GTF file\n",
    "    (taken from gscripts.region_helpers)\n",
    "    '''\n",
    "    genes = db.features_of_type('gene')\n",
    "    gene_name_dict = {}\n",
    "    for gene in genes:\n",
    "        gene_id = gene.attributes['gene_id'][0] if type(gene.attributes['gene_id']) == list else gene.attributes['gene_id']\n",
    "        try:\n",
    "            gene_name_dict[gene_id] = gene.attributes['gene_name'][0]\n",
    "        except KeyError:\n",
    "            print(gene.attributes.keys())\n",
    "            print(\"Warning. Key not found for {}\".format(gene))\n",
    "            return 1\n",
    "    return gene_name_dict\n",
    "\n",
    "gene_id_to_name_dictionary = gene_id_to_name(DATABASE)\n",
    "# gene_id_to_name_dictionary['ENSG00000100320.18']\n",
    "gene_id_to_name_dictionary['ENSMUSG00000092210.1']"
   ]
  },
  {
   "cell_type": "code",
   "execution_count": null,
   "metadata": {
    "collapsed": true
   },
   "outputs": [],
   "source": [
    "def gene_name_to_id(db):\n",
    "    '''\n",
    "    given a gene name, returns a list of associated Gene IDs (one-to-many)\n",
    "    '''\n",
    "    genes = db.features_of_type('gene')\n",
    "    gene_name_dict = defaultdict(list)\n",
    "    for gene in genes:\n",
    "        try:\n",
    "            gene_name_dict[gene.attributes['gene_name'][0]].append(gene.attributes['gene_id'][0])\n",
    "        except KeyError as e:\n",
    "            print(\"Warning. Key not found for {}\".format(gene))\n",
    "            return 1\n",
    "    return gene_name_dict\n",
    "\n",
    "gene_name_to_id_dictionary = gene_name_to_id(DATABASE)\n",
    "gene_name_to_id_dictionary['RBFOX2']"
   ]
  },
  {
   "cell_type": "code",
   "execution_count": null,
   "metadata": {
    "collapsed": true
   },
   "outputs": [],
   "source": [
    "def gene_name_to_transcript(db):\n",
    "    '''\n",
    "    given a gene name, returns a list of associated transcript IDs (one-to-many)\n",
    "    '''\n",
    "    genes = db.features_of_type('transcript')\n",
    "    gene_name_dict = defaultdict(list)\n",
    "    for gene in genes:\n",
    "        try:\n",
    "            gene_name_dict[gene.attributes['gene_name'][0]].append(gene.attributes['transcript_id'][0])\n",
    "        except KeyError as e:\n",
    "            print(\"Warning. Key not found for {}\".format(gene))\n",
    "            return 1\n",
    "    return gene_name_dict\n",
    "\n",
    "gene_name_to_id_dictionary = gene_name_to_transcript(DATABASE)\n",
    "gene_name_to_id_dictionary['RBFOX2']"
   ]
  },
  {
   "cell_type": "code",
   "execution_count": null,
   "metadata": {
    "collapsed": true
   },
   "outputs": [],
   "source": [
    "def id_to_exons(db, identifier):\n",
    "    '''\n",
    "    takes the gene or transcript id and returns exon positions\n",
    "    '''\n",
    "    exons = []\n",
    "    for i in db.children(identifier, featuretype='exon', order_by='start'):\n",
    "        exons.append(i)\n",
    "    return exons\n",
    "\n",
    "id_to_exons(DATABASE,'ENST00000473487.2')"
   ]
  },
  {
   "cell_type": "code",
   "execution_count": 162,
   "metadata": {
    "collapsed": true
   },
   "outputs": [],
   "source": [
    "def position_to_features(db, chrom, start, end, strand='', completely_within=True):\n",
    "    '''\n",
    "    takes a coordinate and returns all the features overlapping \n",
    "    (either completely contained or partially overlapping the region).\n",
    "    '''\n",
    "    if strand == '+' or strand == '-':\n",
    "        return list(\n",
    "            db.region(\n",
    "                region=(chrom, start, end), strand=strand, completely_within=completely_within\n",
    "            )\n",
    "        )\n",
    "    else:\n",
    "        return list(\n",
    "            db.region(\n",
    "                region=(chrom, start, end), completely_within=completely_within\n",
    "            )\n",
    "        )\n",
    "# get all features corresponding to the genomic coordinates (True if feature must be entirely contained within region)\n",
    "features = position_to_features(DATABASE,'chr19', 1000000, 1000100, completely_within=True)\n",
    "# print all gene names associated with these features\n",
    "# print([f.attributes['gene_name'] for f in features])"
   ]
  },
  {
   "cell_type": "code",
   "execution_count": 234,
   "metadata": {
    "collapsed": true
   },
   "outputs": [],
   "source": [
    "from collections import defaultdict\n",
    "\n",
    "\n",
    "def hash_features(db):\n",
    "    '''\n",
    "    hashes features by position.\n",
    "    '''\n",
    "    genes = defaultdict(list)\n",
    "    for element in db.region(seqid=chrom):\n",
    "        start = int(element.start / 1000000)\n",
    "        end = int(element.end / 1000000)\n",
    "        genes[chrom, start, end].append(element)\n",
    "    return genes\n",
    "# get all features corresponding to the genomic coordinates (True if feature must be entirely contained within region)\n",
    "genes = chrom_to_features(DATABASE,'chr19')\n",
    "# print all gene names associated with these features\n",
    "# print([f.attributes['gene_name'] for f in features])"
   ]
  },
  {
   "cell_type": "code",
   "execution_count": 245,
   "metadata": {},
   "outputs": [
    {
     "data": {
      "text/plain": [
       "[<Feature gene (chr19:1000418-1009731[+]) at 0x2b2c15215e90>,\n",
       " <Feature transcript (chr19:1000418-1009731[+]) at 0x2b2c15215f50>,\n",
       " <Feature exon (chr19:1000418-1000862[+]) at 0x2b2c15223090>,\n",
       " <Feature CDS (chr19:1000437-1000862[+]) at 0x2b2c15223190>,\n",
       " <Feature start_codon (chr19:1000437-1000439[+]) at 0x2b2c15223290>,\n",
       " <Feature UTR (chr19:1000418-1000436[+]) at 0x2b2c15234550>]"
      ]
     },
     "execution_count": 245,
     "metadata": {},
     "output_type": "execute_result"
    }
   ],
   "source": [
    "start = 1000400\n",
    "end = 1000440\n",
    "\n",
    "overlapped = []\n",
    "\n",
    "start_key = int(start / 1000000)\n",
    "end_key = int(end / 1000000)\n",
    "\n",
    "for gene in genes[chrom, start_key, end_key]:\n",
    "    if gene.start > start and gene.start < end:\n",
    "        overlapped.append(gene)\n",
    "    elif gene.end > start and gene.end < end:\n",
    "        overlapped.append(gene)\n",
    "        \n",
    "overlapped"
   ]
  },
  {
   "cell_type": "code",
   "execution_count": 265,
   "metadata": {
    "collapsed": true
   },
   "outputs": [],
   "source": [
    "ret = DATABASE.execute(\"SELECT seqid FROM features\").fetchall()\n",
    "all_chromosomes = [r['seqid'] for r in ret]"
   ]
  },
  {
   "cell_type": "code",
   "execution_count": 266,
   "metadata": {},
   "outputs": [
    {
     "data": {
      "text/plain": [
       "{'chr1',\n",
       " 'chr10',\n",
       " 'chr11',\n",
       " 'chr12',\n",
       " 'chr13',\n",
       " 'chr14',\n",
       " 'chr15',\n",
       " 'chr16',\n",
       " 'chr17',\n",
       " 'chr18',\n",
       " 'chr19',\n",
       " 'chr2',\n",
       " 'chr20',\n",
       " 'chr21',\n",
       " 'chr22',\n",
       " 'chr3',\n",
       " 'chr4',\n",
       " 'chr5',\n",
       " 'chr6',\n",
       " 'chr7',\n",
       " 'chr8',\n",
       " 'chr9',\n",
       " 'chrM',\n",
       " 'chrX',\n",
       " 'chrY'}"
      ]
     },
     "execution_count": 266,
     "metadata": {},
     "output_type": "execute_result"
    }
   ],
   "source": [
    "set(all_chromosomes)"
   ]
  },
  {
   "cell_type": "code",
   "execution_count": 157,
   "metadata": {},
   "outputs": [
    {
     "data": {
      "text/plain": [
       "\"\\nfor f in features:\\n    pass\\n    print(\\n        '{}, {}, {}, {}'.format(\\n            f.attributes['gene_name'], # list of associated gene names\\n            f.start, # start of feature\\n            f.end, # end of feature\\n            priority.index(f.attributes['transcript_type'][0])\\n        ) # type of feature\\n    )\""
      ]
     },
     "execution_count": 157,
     "metadata": {},
     "output_type": "execute_result"
    }
   ],
   "source": [
    "# Feature objects embed all information as a dictionary\n",
    "# See: http://pythonhosted.org/gffutils/attributes.html\n",
    "\n",
    "DEFAULT_FEATURE_TYPE_PRIORITY = [\n",
    "    'UTR','gene','transcript','exon','start_codon','stop_codon','Selenocysteine', 'CDS'\n",
    "]\n",
    "\n",
    "DEFAULT_TRANSCRIPT_TYPE_PRIORITY = [\n",
    "    'retained_intron', 'protein_coding','pseudogene','rRNA', 'processed_transcript', 'antisense'\n",
    "]\n",
    "\n",
    "priority = DEFAULT_TRANSCRIPT_TYPE_PRIORITY\n",
    "\"\"\"\n",
    "for f in features:\n",
    "    pass\n",
    "    print(\n",
    "        '{}, {}, {}, {}'.format(\n",
    "            f.attributes['gene_name'], # list of associated gene names\n",
    "            f.start, # start of feature\n",
    "            f.end, # end of feature\n",
    "            priority.index(f.attributes['transcript_type'][0])\n",
    "        ) # type of feature\n",
    "    )\"\"\""
   ]
  },
  {
   "cell_type": "code",
   "execution_count": 158,
   "metadata": {
    "scrolled": true
   },
   "outputs": [
    {
     "data": {
      "text/plain": [
       "[<Feature UTR (chr19:1000418-1000436[+]) at 0x2b2b9ac3b4d0>,\n",
       " <Feature UTR (chr19:1009599-1009731[+]) at 0x2b2b9ac3b610>,\n",
       " <Feature UTR (chr19:1009647-1010351[-]) at 0x2b2b9ac00650>,\n",
       " <Feature UTR (chr19:1009650-1010351[-]) at 0x2b2b9ac00c50>,\n",
       " <Feature UTR (chr19:1009650-1010887[-]) at 0x2b2b9ac00fd0>]"
      ]
     },
     "execution_count": 158,
     "metadata": {},
     "output_type": "execute_result"
    }
   ],
   "source": [
    "f_priority = DEFAULT_FEATURE_TYPE_PRIORITY\n",
    "t_priority = DEFAULT_TRANSCRIPT_TYPE_PRIORITY\n",
    "\n",
    "features.sort(\n",
    "    key=lambda x: t_priority.index(\n",
    "        x.attributes['gene_type'][0]\n",
    "    ), reverse=False\n",
    ") # sort gene type\n",
    "first_filter = [\n",
    "    f for f in features if features[0].attributes['transcript_type'] == f.attributes['transcript_type']\n",
    "]\n",
    "first_filter.sort(\n",
    "    key=lambda x: f_priority.index(\n",
    "        x.featuretype\n",
    "    ), reverse=False\n",
    ")\n",
    "second_filter = [\n",
    "    f for f in first_filter if first_filter[0].featuretype == f.featuretype\n",
    "]\n",
    "# [f.attributes['transcript_type'] for f in features]\n",
    "second_filter"
   ]
  },
  {
   "cell_type": "code",
   "execution_count": 108,
   "metadata": {
    "collapsed": true
   },
   "outputs": [],
   "source": [
    "get_highest_priority_annotation()"
   ]
  },
  {
   "cell_type": "markdown",
   "metadata": {},
   "source": [
    "# Use some genomic coordinate list to intersect with features\n",
    "- for each region, return a list of features that are completely contained within that region.\n",
    "- returns an empty list for regions that do not contain any features"
   ]
  },
  {
   "cell_type": "code",
   "execution_count": null,
   "metadata": {
    "collapsed": true
   },
   "outputs": [],
   "source": [
    "df = pd.read_table('/projects/ps-yeolab3/bay001/annotations/small_bed.bed3', names=['chrom','start','end'], index_col=0)\n",
    "df"
   ]
  },
  {
   "cell_type": "code",
   "execution_count": null,
   "metadata": {
    "collapsed": true
   },
   "outputs": [],
   "source": [
    "features = {}\n",
    "for ix, row in df.iterrows():\n",
    "    features[ix] = position_to_features(DATABASE, row['chrom'], row['start'], row['end'], True)"
   ]
  },
  {
   "cell_type": "code",
   "execution_count": null,
   "metadata": {
    "collapsed": true
   },
   "outputs": [],
   "source": [
    "for name, region_list in features.iteritems():\n",
    "    for region in region_list:\n",
    "        print(name, region.featuretype, region.attributes['transcript_type'][0], region.attributes['gene_name'][0])\n"
   ]
  },
  {
   "cell_type": "markdown",
   "metadata": {},
   "source": [
    "# Using with pybedtools"
   ]
  },
  {
   "cell_type": "code",
   "execution_count": null,
   "metadata": {
    "collapsed": true
   },
   "outputs": [],
   "source": [
    "import pybedtools"
   ]
  },
  {
   "cell_type": "code",
   "execution_count": null,
   "metadata": {
    "collapsed": true
   },
   "outputs": [],
   "source": [
    "interval = pybedtools.create_interval_from_list(['chr1','13000000','13003000','some_interval','0','-'])\n"
   ]
  },
  {
   "cell_type": "code",
   "execution_count": null,
   "metadata": {
    "collapsed": true
   },
   "outputs": [],
   "source": [
    "def bedtool_to_features(db, interval, completely_within):\n",
    "    \"\"\"\n",
    "    \n",
    "    takes a coordinate and returns all the features overlapping \n",
    "    (either completely contained or partially overlapping the region).\n",
    "    \n",
    "    Parameters\n",
    "    ----------\n",
    "    db : sqlite3 database\n",
    "    interval : pybedtools.Interval\n",
    "        interval object\n",
    "    completely_within : bool\n",
    "        True if the features returned must be completely contained\n",
    "        within the region. False if the features need only to be\n",
    "        partially overlapping the region.\n",
    "        \n",
    "    Returns\n",
    "    -------\n",
    "    region_list: list\n",
    "        list of Features corresponding to overlapping/contained\n",
    "        features intersecting a region.\n",
    "    \"\"\"\n",
    "    return position_to_feature(\n",
    "        db,\n",
    "        interval.chrom,\n",
    "        interval.start,\n",
    "        interval.end,\n",
    "        interval.strand,\n",
    "        completely_within\n",
    "    )\n",
    "\n",
    "bedtool_to_features(DATABASE, interval, True)"
   ]
  },
  {
   "cell_type": "markdown",
   "metadata": {},
   "source": [
    "# Working with raw GTF files (no database)"
   ]
  },
  {
   "cell_type": "code",
   "execution_count": null,
   "metadata": {
    "collapsed": true
   },
   "outputs": [],
   "source": [
    "gtf_file = '/projects/ps-yeolab/genomes/hg19/gencode_v19/gencode.v19.annotation.gtf'\n",
    "# gtf_file = '/projects/ps-yeolab3/bay001/annotations/c_elegans.PRJNA13758.WS257.canonical_geneset.gtf'\n",
    "GTF_NAMES = ['chrom','source','feature_type','start','end','.','strand','.','attributes']\n"
   ]
  },
  {
   "cell_type": "code",
   "execution_count": null,
   "metadata": {
    "collapsed": true
   },
   "outputs": [],
   "source": [
    "\n",
    "def get_feature_type_set(gtf_file):\n",
    "    \"\"\"\n",
    "    from a GTF file, extract the set of feature_types\n",
    "    (feature_types is the third column, normally)\n",
    "    This might be useful for figuring out the priority for annotation.\n",
    "    \n",
    "    Parameters\n",
    "    ----------\n",
    "    gtf_file\n",
    "\n",
    "    Returns\n",
    "    -------\n",
    "\n",
    "    \"\"\"\n",
    "    gtf_df = pd.read_table(\n",
    "        gtf_file,\n",
    "        names=GTF_NAMES,\n",
    "        comment='#'\n",
    "    )\n",
    "    return set(gtf_df['feature_type'])\n",
    "\n",
    "\n",
    "def get_attribute_type_set(gtf_file, attribute_type):\n",
    "    \"\"\"\n",
    "    from a GTF file, extract the set of attribute_types\n",
    "    (attribute_types is one of those fields contained within the 9th column)\n",
    "    This might be useful for figuring out the priority for annotation.\n",
    "    \n",
    "    Parameters\n",
    "    ----------\n",
    "    gtf_file : basestring\n",
    "    attribute_type : basestring\n",
    "\n",
    "    Returns\n",
    "    -------\n",
    "\n",
    "    \"\"\"\n",
    "\n",
    "    gtf_df = pd.read_table(\n",
    "        gtf_file,\n",
    "        names=GTF_NAMES,\n",
    "        comment='#'\n",
    "    )\n",
    "    regex_filter = '{} \\\"([\\w\\s\\d -]+)\\\"'.format(attribute_type)\n",
    "    return set(gtf_df['attributes'].str.extract(regex_filter, expand=False))\n"
   ]
  },
  {
   "cell_type": "code",
   "execution_count": null,
   "metadata": {
    "collapsed": true
   },
   "outputs": [],
   "source": [
    "# in C elegans GFF\n",
    "get_feature_type_set(gtf_file)"
   ]
  },
  {
   "cell_type": "code",
   "execution_count": null,
   "metadata": {
    "collapsed": true
   },
   "outputs": [],
   "source": [
    "# in C elegans GFF\n",
    "get_attribute_type_set(gtf_file, 'biotype')"
   ]
  },
  {
   "cell_type": "code",
   "execution_count": null,
   "metadata": {
    "collapsed": true
   },
   "outputs": [],
   "source": [
    "# in Human GENCODE\n",
    "get_feature_type_set(gtf_file)"
   ]
  },
  {
   "cell_type": "code",
   "execution_count": null,
   "metadata": {
    "collapsed": true
   },
   "outputs": [],
   "source": [
    "# in Human GENCODE\n",
    "get_attribute_type_set(gtf_file, 'transcript_type')"
   ]
  },
  {
   "cell_type": "code",
   "execution_count": null,
   "metadata": {
    "collapsed": true
   },
   "outputs": [],
   "source": []
  }
 ],
 "metadata": {
  "kernelspec": {
   "display_name": "Python 2",
   "language": "python",
   "name": "python2"
  },
  "language_info": {
   "codemirror_mode": {
    "name": "ipython",
    "version": 2
   },
   "file_extension": ".py",
   "mimetype": "text/x-python",
   "name": "python",
   "nbconvert_exporter": "python",
   "pygments_lexer": "ipython2",
   "version": "2.7.13"
  }
 },
 "nbformat": 4,
 "nbformat_minor": 1
}
