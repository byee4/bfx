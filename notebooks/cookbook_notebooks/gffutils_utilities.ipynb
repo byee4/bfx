{
 "cells": [
  {
   "cell_type": "markdown",
   "metadata": {},
   "source": [
    "# Collection of examples for annotation using the GTF database and gffutils"
   ]
  },
  {
   "cell_type": "code",
   "execution_count": 1,
   "metadata": {},
   "outputs": [],
   "source": [
    "import pandas as pd\n",
    "import gffutils\n",
    "import os\n",
    "from collections import defaultdict"
   ]
  },
  {
   "cell_type": "markdown",
   "metadata": {},
   "source": [
    "# Create the sqlite database file from a GTF file\n",
    "- You might also be able to use this with a GFF file, but YMMV\n",
    "- only need to build the database file once, then you can refer back to the .db file that was created"
   ]
  },
  {
   "cell_type": "code",
   "execution_count": 2,
   "metadata": {},
   "outputs": [],
   "source": [
    "def build_db(annotation_file, db_file, force=True, disable_infer_genes=True, disable_infer_transcripts=True):\n",
    "    \"\"\" \n",
    "    Creates a sqlite database containing features given a GTF or GFF file.\n",
    "    \"\"\"\n",
    "    db = gffutils.create_db(\n",
    "        annotation_file, dbfn=db_file, force=force, # change to True if we need to create a new db\n",
    "        keep_order=True, merge_strategy='merge', sort_attribute_values=True,\n",
    "        disable_infer_genes=disable_infer_genes,\n",
    "        disable_infer_transcripts=disable_infer_transcripts\n",
    "    )\n",
    "\n",
    "annotation_file = '/projects/ps-yeolab/genomes/mm10/gencode/gencode.vM10.annotation.gtf'\n",
    "db_file = '/projects/ps-yeolab/genomes/mm10/gencode/gencode.vM10.annotation.gtf.db'\n",
    "# build_db(annotation_file, db_file, disable_infer_genes=False, disable_infer_transcripts=False)"
   ]
  },
  {
   "cell_type": "markdown",
   "metadata": {},
   "source": [
    "# This returns all the featuretypes given a GTF (database) file."
   ]
  },
  {
   "cell_type": "code",
   "execution_count": 3,
   "metadata": {},
   "outputs": [
    {
     "data": {
      "text/plain": [
       "['CDS', 'exon', 'gene', 'start_codon', 'stop_codon', 'transcript']"
      ]
     },
     "execution_count": 3,
     "metadata": {},
     "output_type": "execute_result"
    }
   ],
   "source": [
    "def get_all_featuretypes(db):\n",
    "    \"\"\"\n",
    "    Returns the possible featuretypes (3rd col of gtf file) from a db.\n",
    "    \"\"\"\n",
    "    features = []\n",
    "    for feature in db.featuretypes():\n",
    "        features.append(feature)\n",
    "    return features\n",
    "\n",
    "db_file = '/projects/ps-yeolab4/genomes/dm6/dm6.db'\n",
    "DATABASE = gffutils.FeatureDB(db_file)\n",
    "get_all_featuretypes(DATABASE)"
   ]
  },
  {
   "cell_type": "markdown",
   "metadata": {},
   "source": [
    "# This returns a dictionary where keys are (Ensembl) gene IDs and the values are the gene names. \n",
    "- If you wanted the gencode-style gene IDs instead, replace:\n",
    "\n",
    "    \n",
    "    ```\n",
    "    gene_name_dict[gene_id.split('.')[0]] = gene.attributes['gene_name'][0]\n",
    "    ```\n",
    "    \n",
    "    \n",
    "    with:\n",
    "    \n",
    "    \n",
    "    ```\n",
    "    gene_name_dict[gene_id.split] = gene.attributes['gene_name'][0]\n",
    "    ```"
   ]
  },
  {
   "cell_type": "code",
   "execution_count": 4,
   "metadata": {},
   "outputs": [
    {
     "name": "stderr",
     "output_type": "stream",
     "text": [
      "/projects/ps-yeolab4/software/yeolabconda3/envs/python3essential-0.0.1/lib/python3.6/site-packages/gffutils/interface.py:161: UserWarning: It appears that this database has not had the ANALYZE sqlite3 command run on it. Doing so can dramatically speed up queries, and is done by default for databases created with gffutils >0.8.7.1 (this database was created with version 0.8.1) Consider calling the analyze() method of this object.\n",
      "  \"method of this object.\" % self.version)\n"
     ]
    },
    {
     "data": {
      "text/plain": [
       "'RBFOX2'"
      ]
     },
     "execution_count": 4,
     "metadata": {},
     "output_type": "execute_result"
    }
   ],
   "source": [
    "def gene_id_to_name(db):\n",
    "    \"\"\"\n",
    "    Returns a dictionary containing a gene_id:name translation\n",
    "    Note: may be different if the 'gene_id' or 'gene_name' \n",
    "    keys are not in the source GTF file\n",
    "    (taken from gscripts.region_helpers)\n",
    "    \"\"\"\n",
    "    genes = db.features_of_type('gene')\n",
    "    gene_name_dict = {}\n",
    "    for gene in genes:\n",
    "        gene_id = gene.attributes['gene_id'][0] if type(gene.attributes['gene_id']) == list else gene.attributes['gene_id']\n",
    "        try:\n",
    "            gene_name_dict[gene_id.split('.')[0]] = gene.attributes['gene_name'][0]  # this is for ENSEMBL-style IDs! \n",
    "        except KeyError:\n",
    "            print(gene.attributes.keys())\n",
    "            print(\"Warning. Key not found for {}\".format(gene))\n",
    "            return 1\n",
    "    return gene_name_dict\n",
    "\n",
    "\n",
    "db_file = '/projects/ps-yeolab4/genomes/hg19/gencode_v19/gencode.v19.annotation.gtf.db'\n",
    "DATABASE = gffutils.FeatureDB(db_file)\n",
    "gene_id_to_name_dictionary = gene_id_to_name(DATABASE)\n",
    "# gene_id_to_name_dictionary['ENSG00000100320.18']\n",
    "gene_id_to_name_dictionary['ENSG00000100320']"
   ]
  },
  {
   "cell_type": "markdown",
   "metadata": {},
   "source": [
    "# Here is an example of some expression data"
   ]
  },
  {
   "cell_type": "code",
   "execution_count": 5,
   "metadata": {},
   "outputs": [
    {
     "name": "stderr",
     "output_type": "stream",
     "text": [
      "/projects/ps-yeolab4/software/yeolabconda3/envs/python3essential-0.0.1/lib/python3.6/site-packages/ipykernel_launcher.py:3: FutureWarning: read_table is deprecated, use read_csv instead.\n",
      "  This is separate from the ipykernel package so we can avoid doing imports until\n"
     ]
    },
    {
     "data": {
      "text/html": [
       "<div>\n",
       "<style scoped>\n",
       "    .dataframe tbody tr th:only-of-type {\n",
       "        vertical-align: middle;\n",
       "    }\n",
       "\n",
       "    .dataframe tbody tr th {\n",
       "        vertical-align: top;\n",
       "    }\n",
       "\n",
       "    .dataframe thead th {\n",
       "        text-align: right;\n",
       "    }\n",
       "</style>\n",
       "<table border=\"1\" class=\"dataframe\">\n",
       "  <thead>\n",
       "    <tr style=\"text-align: right;\">\n",
       "      <th></th>\n",
       "      <th>Unnamed: 0</th>\n",
       "      <th>AAACCTGAGATCTGAA-1</th>\n",
       "      <th>AAACCTGCATCCTTGC-1</th>\n",
       "      <th>AAACCTGGTCAGAGGT-1</th>\n",
       "      <th>AAACGGGCAATGTTGC-1</th>\n",
       "      <th>AAACGGGCAGTTCATG-1</th>\n",
       "      <th>AAACGGGGTGTGGTTT-1</th>\n",
       "      <th>AAACGGGGTTAAGAAC-1</th>\n",
       "      <th>AAACGGGTCAGTCCCT-1</th>\n",
       "      <th>AAAGATGAGCGCTCCA-1</th>\n",
       "      <th>...</th>\n",
       "      <th>TTTGGTTAGACCTAGG-2</th>\n",
       "      <th>TTTGGTTAGCCCAACC-2</th>\n",
       "      <th>TTTGGTTGTCCATCCT-2</th>\n",
       "      <th>TTTGGTTGTGTGGTTT-2</th>\n",
       "      <th>TTTGGTTTCACCCGAG-2</th>\n",
       "      <th>TTTGTCAAGACATAAC-2</th>\n",
       "      <th>TTTGTCACACACCGCA-2</th>\n",
       "      <th>TTTGTCACAGCTGTTA-2</th>\n",
       "      <th>TTTGTCAGTTGGGACA-2</th>\n",
       "      <th>TTTGTCATCCAGGGCT-2</th>\n",
       "    </tr>\n",
       "  </thead>\n",
       "  <tbody>\n",
       "    <tr>\n",
       "      <th>0</th>\n",
       "      <td>ENSG00000243485</td>\n",
       "      <td>0</td>\n",
       "      <td>0</td>\n",
       "      <td>0</td>\n",
       "      <td>0</td>\n",
       "      <td>0</td>\n",
       "      <td>0</td>\n",
       "      <td>0</td>\n",
       "      <td>0</td>\n",
       "      <td>0</td>\n",
       "      <td>...</td>\n",
       "      <td>0</td>\n",
       "      <td>0</td>\n",
       "      <td>0</td>\n",
       "      <td>0</td>\n",
       "      <td>0</td>\n",
       "      <td>0</td>\n",
       "      <td>0</td>\n",
       "      <td>0</td>\n",
       "      <td>0</td>\n",
       "      <td>0</td>\n",
       "    </tr>\n",
       "    <tr>\n",
       "      <th>1</th>\n",
       "      <td>ENSG00000237613</td>\n",
       "      <td>0</td>\n",
       "      <td>0</td>\n",
       "      <td>0</td>\n",
       "      <td>0</td>\n",
       "      <td>0</td>\n",
       "      <td>0</td>\n",
       "      <td>0</td>\n",
       "      <td>0</td>\n",
       "      <td>0</td>\n",
       "      <td>...</td>\n",
       "      <td>0</td>\n",
       "      <td>0</td>\n",
       "      <td>0</td>\n",
       "      <td>0</td>\n",
       "      <td>0</td>\n",
       "      <td>0</td>\n",
       "      <td>0</td>\n",
       "      <td>0</td>\n",
       "      <td>0</td>\n",
       "      <td>0</td>\n",
       "    </tr>\n",
       "    <tr>\n",
       "      <th>2</th>\n",
       "      <td>ENSG00000186092</td>\n",
       "      <td>0</td>\n",
       "      <td>0</td>\n",
       "      <td>0</td>\n",
       "      <td>0</td>\n",
       "      <td>0</td>\n",
       "      <td>0</td>\n",
       "      <td>0</td>\n",
       "      <td>0</td>\n",
       "      <td>0</td>\n",
       "      <td>...</td>\n",
       "      <td>0</td>\n",
       "      <td>0</td>\n",
       "      <td>0</td>\n",
       "      <td>0</td>\n",
       "      <td>0</td>\n",
       "      <td>0</td>\n",
       "      <td>0</td>\n",
       "      <td>0</td>\n",
       "      <td>0</td>\n",
       "      <td>0</td>\n",
       "    </tr>\n",
       "    <tr>\n",
       "      <th>3</th>\n",
       "      <td>ENSG00000238009</td>\n",
       "      <td>0</td>\n",
       "      <td>0</td>\n",
       "      <td>0</td>\n",
       "      <td>0</td>\n",
       "      <td>0</td>\n",
       "      <td>0</td>\n",
       "      <td>0</td>\n",
       "      <td>0</td>\n",
       "      <td>0</td>\n",
       "      <td>...</td>\n",
       "      <td>0</td>\n",
       "      <td>0</td>\n",
       "      <td>0</td>\n",
       "      <td>0</td>\n",
       "      <td>0</td>\n",
       "      <td>0</td>\n",
       "      <td>0</td>\n",
       "      <td>0</td>\n",
       "      <td>0</td>\n",
       "      <td>0</td>\n",
       "    </tr>\n",
       "    <tr>\n",
       "      <th>4</th>\n",
       "      <td>ENSG00000239945</td>\n",
       "      <td>0</td>\n",
       "      <td>0</td>\n",
       "      <td>0</td>\n",
       "      <td>0</td>\n",
       "      <td>0</td>\n",
       "      <td>0</td>\n",
       "      <td>0</td>\n",
       "      <td>0</td>\n",
       "      <td>0</td>\n",
       "      <td>...</td>\n",
       "      <td>0</td>\n",
       "      <td>0</td>\n",
       "      <td>0</td>\n",
       "      <td>0</td>\n",
       "      <td>0</td>\n",
       "      <td>0</td>\n",
       "      <td>0</td>\n",
       "      <td>0</td>\n",
       "      <td>0</td>\n",
       "      <td>0</td>\n",
       "    </tr>\n",
       "  </tbody>\n",
       "</table>\n",
       "<p>5 rows × 3492 columns</p>\n",
       "</div>"
      ],
      "text/plain": [
       "        Unnamed: 0  AAACCTGAGATCTGAA-1  AAACCTGCATCCTTGC-1  \\\n",
       "0  ENSG00000243485                   0                   0   \n",
       "1  ENSG00000237613                   0                   0   \n",
       "2  ENSG00000186092                   0                   0   \n",
       "3  ENSG00000238009                   0                   0   \n",
       "4  ENSG00000239945                   0                   0   \n",
       "\n",
       "   AAACCTGGTCAGAGGT-1  AAACGGGCAATGTTGC-1  AAACGGGCAGTTCATG-1  \\\n",
       "0                   0                   0                   0   \n",
       "1                   0                   0                   0   \n",
       "2                   0                   0                   0   \n",
       "3                   0                   0                   0   \n",
       "4                   0                   0                   0   \n",
       "\n",
       "   AAACGGGGTGTGGTTT-1  AAACGGGGTTAAGAAC-1  AAACGGGTCAGTCCCT-1  \\\n",
       "0                   0                   0                   0   \n",
       "1                   0                   0                   0   \n",
       "2                   0                   0                   0   \n",
       "3                   0                   0                   0   \n",
       "4                   0                   0                   0   \n",
       "\n",
       "   AAAGATGAGCGCTCCA-1  ...  TTTGGTTAGACCTAGG-2  TTTGGTTAGCCCAACC-2  \\\n",
       "0                   0  ...                   0                   0   \n",
       "1                   0  ...                   0                   0   \n",
       "2                   0  ...                   0                   0   \n",
       "3                   0  ...                   0                   0   \n",
       "4                   0  ...                   0                   0   \n",
       "\n",
       "   TTTGGTTGTCCATCCT-2  TTTGGTTGTGTGGTTT-2  TTTGGTTTCACCCGAG-2  \\\n",
       "0                   0                   0                   0   \n",
       "1                   0                   0                   0   \n",
       "2                   0                   0                   0   \n",
       "3                   0                   0                   0   \n",
       "4                   0                   0                   0   \n",
       "\n",
       "   TTTGTCAAGACATAAC-2  TTTGTCACACACCGCA-2  TTTGTCACAGCTGTTA-2  \\\n",
       "0                   0                   0                   0   \n",
       "1                   0                   0                   0   \n",
       "2                   0                   0                   0   \n",
       "3                   0                   0                   0   \n",
       "4                   0                   0                   0   \n",
       "\n",
       "   TTTGTCAGTTGGGACA-2  TTTGTCATCCAGGGCT-2  \n",
       "0                   0                   0  \n",
       "1                   0                   0  \n",
       "2                   0                   0  \n",
       "3                   0                   0  \n",
       "4                   0                   0  \n",
       "\n",
       "[5 rows x 3492 columns]"
      ]
     },
     "execution_count": 5,
     "metadata": {},
     "output_type": "execute_result"
    }
   ],
   "source": [
    "csv = pd.read_table(\n",
    "    '/projects/ps-yeolab3/iachaim/Cleber_Organoids/6_months/AGGREGATE-WT-H09-H10_expression.csv',\n",
    "    sep=','\n",
    ")\n",
    "csv.head()"
   ]
  },
  {
   "cell_type": "markdown",
   "metadata": {},
   "source": [
    "# Write a helper function that you can apply to all rows of the expression table"
   ]
  },
  {
   "cell_type": "code",
   "execution_count": 6,
   "metadata": {},
   "outputs": [
    {
     "data": {
      "text/html": [
       "<div>\n",
       "<style scoped>\n",
       "    .dataframe tbody tr th:only-of-type {\n",
       "        vertical-align: middle;\n",
       "    }\n",
       "\n",
       "    .dataframe tbody tr th {\n",
       "        vertical-align: top;\n",
       "    }\n",
       "\n",
       "    .dataframe thead th {\n",
       "        text-align: right;\n",
       "    }\n",
       "</style>\n",
       "<table border=\"1\" class=\"dataframe\">\n",
       "  <thead>\n",
       "    <tr style=\"text-align: right;\">\n",
       "      <th></th>\n",
       "      <th>Unnamed: 0</th>\n",
       "      <th>AAACCTGAGATCTGAA-1</th>\n",
       "      <th>AAACCTGCATCCTTGC-1</th>\n",
       "      <th>AAACCTGGTCAGAGGT-1</th>\n",
       "      <th>AAACGGGCAATGTTGC-1</th>\n",
       "      <th>AAACGGGCAGTTCATG-1</th>\n",
       "      <th>AAACGGGGTGTGGTTT-1</th>\n",
       "      <th>AAACGGGGTTAAGAAC-1</th>\n",
       "      <th>AAACGGGTCAGTCCCT-1</th>\n",
       "      <th>AAAGATGAGCGCTCCA-1</th>\n",
       "      <th>...</th>\n",
       "      <th>TTTGGTTAGCCCAACC-2</th>\n",
       "      <th>TTTGGTTGTCCATCCT-2</th>\n",
       "      <th>TTTGGTTGTGTGGTTT-2</th>\n",
       "      <th>TTTGGTTTCACCCGAG-2</th>\n",
       "      <th>TTTGTCAAGACATAAC-2</th>\n",
       "      <th>TTTGTCACACACCGCA-2</th>\n",
       "      <th>TTTGTCACAGCTGTTA-2</th>\n",
       "      <th>TTTGTCAGTTGGGACA-2</th>\n",
       "      <th>TTTGTCATCCAGGGCT-2</th>\n",
       "      <th>gene_name</th>\n",
       "    </tr>\n",
       "  </thead>\n",
       "  <tbody>\n",
       "    <tr>\n",
       "      <th>0</th>\n",
       "      <td>ENSG00000243485</td>\n",
       "      <td>0</td>\n",
       "      <td>0</td>\n",
       "      <td>0</td>\n",
       "      <td>0</td>\n",
       "      <td>0</td>\n",
       "      <td>0</td>\n",
       "      <td>0</td>\n",
       "      <td>0</td>\n",
       "      <td>0</td>\n",
       "      <td>...</td>\n",
       "      <td>0</td>\n",
       "      <td>0</td>\n",
       "      <td>0</td>\n",
       "      <td>0</td>\n",
       "      <td>0</td>\n",
       "      <td>0</td>\n",
       "      <td>0</td>\n",
       "      <td>0</td>\n",
       "      <td>0</td>\n",
       "      <td>MIR1302-11</td>\n",
       "    </tr>\n",
       "    <tr>\n",
       "      <th>1</th>\n",
       "      <td>ENSG00000237613</td>\n",
       "      <td>0</td>\n",
       "      <td>0</td>\n",
       "      <td>0</td>\n",
       "      <td>0</td>\n",
       "      <td>0</td>\n",
       "      <td>0</td>\n",
       "      <td>0</td>\n",
       "      <td>0</td>\n",
       "      <td>0</td>\n",
       "      <td>...</td>\n",
       "      <td>0</td>\n",
       "      <td>0</td>\n",
       "      <td>0</td>\n",
       "      <td>0</td>\n",
       "      <td>0</td>\n",
       "      <td>0</td>\n",
       "      <td>0</td>\n",
       "      <td>0</td>\n",
       "      <td>0</td>\n",
       "      <td>FAM138A</td>\n",
       "    </tr>\n",
       "    <tr>\n",
       "      <th>2</th>\n",
       "      <td>ENSG00000186092</td>\n",
       "      <td>0</td>\n",
       "      <td>0</td>\n",
       "      <td>0</td>\n",
       "      <td>0</td>\n",
       "      <td>0</td>\n",
       "      <td>0</td>\n",
       "      <td>0</td>\n",
       "      <td>0</td>\n",
       "      <td>0</td>\n",
       "      <td>...</td>\n",
       "      <td>0</td>\n",
       "      <td>0</td>\n",
       "      <td>0</td>\n",
       "      <td>0</td>\n",
       "      <td>0</td>\n",
       "      <td>0</td>\n",
       "      <td>0</td>\n",
       "      <td>0</td>\n",
       "      <td>0</td>\n",
       "      <td>OR4F5</td>\n",
       "    </tr>\n",
       "    <tr>\n",
       "      <th>3</th>\n",
       "      <td>ENSG00000238009</td>\n",
       "      <td>0</td>\n",
       "      <td>0</td>\n",
       "      <td>0</td>\n",
       "      <td>0</td>\n",
       "      <td>0</td>\n",
       "      <td>0</td>\n",
       "      <td>0</td>\n",
       "      <td>0</td>\n",
       "      <td>0</td>\n",
       "      <td>...</td>\n",
       "      <td>0</td>\n",
       "      <td>0</td>\n",
       "      <td>0</td>\n",
       "      <td>0</td>\n",
       "      <td>0</td>\n",
       "      <td>0</td>\n",
       "      <td>0</td>\n",
       "      <td>0</td>\n",
       "      <td>0</td>\n",
       "      <td>RP11-34P13.7</td>\n",
       "    </tr>\n",
       "    <tr>\n",
       "      <th>4</th>\n",
       "      <td>ENSG00000239945</td>\n",
       "      <td>0</td>\n",
       "      <td>0</td>\n",
       "      <td>0</td>\n",
       "      <td>0</td>\n",
       "      <td>0</td>\n",
       "      <td>0</td>\n",
       "      <td>0</td>\n",
       "      <td>0</td>\n",
       "      <td>0</td>\n",
       "      <td>...</td>\n",
       "      <td>0</td>\n",
       "      <td>0</td>\n",
       "      <td>0</td>\n",
       "      <td>0</td>\n",
       "      <td>0</td>\n",
       "      <td>0</td>\n",
       "      <td>0</td>\n",
       "      <td>0</td>\n",
       "      <td>0</td>\n",
       "      <td>RP11-34P13.8</td>\n",
       "    </tr>\n",
       "  </tbody>\n",
       "</table>\n",
       "<p>5 rows × 3493 columns</p>\n",
       "</div>"
      ],
      "text/plain": [
       "        Unnamed: 0  AAACCTGAGATCTGAA-1  AAACCTGCATCCTTGC-1  \\\n",
       "0  ENSG00000243485                   0                   0   \n",
       "1  ENSG00000237613                   0                   0   \n",
       "2  ENSG00000186092                   0                   0   \n",
       "3  ENSG00000238009                   0                   0   \n",
       "4  ENSG00000239945                   0                   0   \n",
       "\n",
       "   AAACCTGGTCAGAGGT-1  AAACGGGCAATGTTGC-1  AAACGGGCAGTTCATG-1  \\\n",
       "0                   0                   0                   0   \n",
       "1                   0                   0                   0   \n",
       "2                   0                   0                   0   \n",
       "3                   0                   0                   0   \n",
       "4                   0                   0                   0   \n",
       "\n",
       "   AAACGGGGTGTGGTTT-1  AAACGGGGTTAAGAAC-1  AAACGGGTCAGTCCCT-1  \\\n",
       "0                   0                   0                   0   \n",
       "1                   0                   0                   0   \n",
       "2                   0                   0                   0   \n",
       "3                   0                   0                   0   \n",
       "4                   0                   0                   0   \n",
       "\n",
       "   AAAGATGAGCGCTCCA-1  ...  TTTGGTTAGCCCAACC-2  TTTGGTTGTCCATCCT-2  \\\n",
       "0                   0  ...                   0                   0   \n",
       "1                   0  ...                   0                   0   \n",
       "2                   0  ...                   0                   0   \n",
       "3                   0  ...                   0                   0   \n",
       "4                   0  ...                   0                   0   \n",
       "\n",
       "   TTTGGTTGTGTGGTTT-2  TTTGGTTTCACCCGAG-2  TTTGTCAAGACATAAC-2  \\\n",
       "0                   0                   0                   0   \n",
       "1                   0                   0                   0   \n",
       "2                   0                   0                   0   \n",
       "3                   0                   0                   0   \n",
       "4                   0                   0                   0   \n",
       "\n",
       "   TTTGTCACACACCGCA-2  TTTGTCACAGCTGTTA-2  TTTGTCAGTTGGGACA-2  \\\n",
       "0                   0                   0                   0   \n",
       "1                   0                   0                   0   \n",
       "2                   0                   0                   0   \n",
       "3                   0                   0                   0   \n",
       "4                   0                   0                   0   \n",
       "\n",
       "   TTTGTCATCCAGGGCT-2     gene_name  \n",
       "0                   0    MIR1302-11  \n",
       "1                   0       FAM138A  \n",
       "2                   0         OR4F5  \n",
       "3                   0  RP11-34P13.7  \n",
       "4                   0  RP11-34P13.8  \n",
       "\n",
       "[5 rows x 3493 columns]"
      ]
     },
     "execution_count": 6,
     "metadata": {},
     "output_type": "execute_result"
    }
   ],
   "source": [
    "def geneid2name(row, d=gene_id_to_name_dictionary):\n",
    "    try:\n",
    "        return d[row['Unnamed: 0']]\n",
    "    except KeyError:\n",
    "        return row['Unnamed: 0']\n",
    "\n",
    "csv['gene_name'] = csv.apply(geneid2name, axis=1)\n",
    "csv.head()"
   ]
  },
  {
   "cell_type": "markdown",
   "metadata": {},
   "source": [
    "# Other helpful functions that pull out other kinds of information (whether or not a gene is protein coding, etc.)"
   ]
  },
  {
   "cell_type": "code",
   "execution_count": 7,
   "metadata": {},
   "outputs": [
    {
     "name": "stderr",
     "output_type": "stream",
     "text": [
      "/projects/ps-yeolab4/software/yeolabconda3/envs/python3essential-0.0.1/lib/python3.6/site-packages/gffutils/interface.py:161: UserWarning: It appears that this database has not had the ANALYZE sqlite3 command run on it. Doing so can dramatically speed up queries, and is done by default for databases created with gffutils >0.8.7.1 (this database was created with version 0.8.7.1) Consider calling the analyze() method of this object.\n",
      "  \"method of this object.\" % self.version)\n"
     ]
    },
    {
     "data": {
      "text/plain": [
       "20345"
      ]
     },
     "execution_count": 7,
     "metadata": {},
     "output_type": "execute_result"
    }
   ],
   "source": [
    "def find_protein_coding_genes_num(db):\n",
    "    \"\"\"\n",
    "    Finds the number of protein coding genes in the database.\n",
    "    \"\"\"\n",
    "    all_pc_count = 0\n",
    "    pc_count = 0\n",
    "    genes = db.features_of_type('gene')\n",
    "    for gene in genes:\n",
    "        pc = False\n",
    "        for gene_type in gene.attributes['gene_type']:\n",
    "            if gene_type == 'protein_coding':\n",
    "                pc = True\n",
    "                all_pc_count += 1\n",
    "        if pc:\n",
    "            pc_count += 1\n",
    "    return pc_count\n",
    "\n",
    "db_file = '/projects/ps-yeolab3/bay001/annotations/hg19/gencode_v19/gencode.v19.annotation.gtf.db'\n",
    "DATABASE = gffutils.FeatureDB(db_file)\n",
    "\n",
    "find_protein_coding_genes_num(DATABASE)"
   ]
  },
  {
   "cell_type": "code",
   "execution_count": 8,
   "metadata": {},
   "outputs": [
    {
     "data": {
      "text/plain": [
       "'protein_coding'"
      ]
     },
     "execution_count": 8,
     "metadata": {},
     "output_type": "execute_result"
    }
   ],
   "source": [
    "def gene_id_to_protein_coding(db):\n",
    "    \"\"\"\n",
    "    returns whether or not a gene is protein coding or not.\n",
    "    \"\"\"\n",
    "    genes = db.features_of_type('gene')\n",
    "    gene_name_dict = {}\n",
    "    for gene in genes:\n",
    "        gene_id = gene.attributes['gene_id'][0] if type(gene.attributes['gene_id']) == list else gene.attributes['gene_id']\n",
    "        try:\n",
    "            gene_name_dict[gene_id] = gene.attributes['gene_type'][0]\n",
    "        except KeyError:\n",
    "            print(gene.attributes.keys())\n",
    "            print(\"Warning. Key not found for {}\".format(gene))\n",
    "            return 1\n",
    "    return gene_name_dict\n",
    "\n",
    "db_file = '/projects/ps-yeolab3/bay001/annotations/hg19/gencode_v19/gencode.v19.annotation.gtf.db'\n",
    "DATABASE = gffutils.FeatureDB(db_file)\n",
    "\n",
    "gene_id_to_pc = gene_id_to_protein_coding(DATABASE)\n",
    "gene_id_to_pc['ENSG00000100320.18']"
   ]
  },
  {
   "cell_type": "code",
   "execution_count": 9,
   "metadata": {},
   "outputs": [
    {
     "data": {
      "text/plain": [
       "['ENSG00000100320.18']"
      ]
     },
     "execution_count": 9,
     "metadata": {},
     "output_type": "execute_result"
    }
   ],
   "source": [
    "def gene_name_to_id(db):\n",
    "    '''\n",
    "    given a gene name, returns a list of associated Gene IDs (one-to-many)\n",
    "    '''\n",
    "    genes = db.features_of_type('gene')\n",
    "    gene_name_dict = defaultdict(list)\n",
    "    for gene in genes:\n",
    "        try:\n",
    "            gene_name_dict[gene.attributes['gene_name'][0]].append(gene.attributes['gene_id'][0])\n",
    "        except KeyError as e:\n",
    "            print(\"Warning. Key not found for {}\".format(gene))\n",
    "            return 1\n",
    "    return gene_name_dict\n",
    "\n",
    "db_file = '/projects/ps-yeolab3/bay001/annotations/hg19/gencode_v19/gencode.v19.annotation.gtf.db'\n",
    "DATABASE = gffutils.FeatureDB(db_file)\n",
    "\n",
    "gene_name_to_id_dictionary = gene_name_to_id(DATABASE)\n",
    "gene_name_to_id_dictionary['RBFOX2']"
   ]
  },
  {
   "cell_type": "code",
   "execution_count": 10,
   "metadata": {},
   "outputs": [
    {
     "data": {
      "text/plain": [
       "['ENST00000405409.2',\n",
       " 'ENST00000414461.2',\n",
       " 'ENST00000449924.2',\n",
       " 'ENST00000262829.7',\n",
       " 'ENST00000397303.2',\n",
       " 'ENST00000359369.4',\n",
       " 'ENST00000463509.1',\n",
       " 'ENST00000416721.2',\n",
       " 'ENST00000495377.2',\n",
       " 'ENST00000438146.2',\n",
       " 'ENST00000473487.2',\n",
       " 'ENST00000408983.2',\n",
       " 'ENST00000491982.1',\n",
       " 'ENST00000397305.3']"
      ]
     },
     "execution_count": 10,
     "metadata": {},
     "output_type": "execute_result"
    }
   ],
   "source": [
    "def gene_name_to_transcript(db):\n",
    "    '''\n",
    "    given a gene name, returns a list of associated transcript IDs (one-to-many)\n",
    "    '''\n",
    "    genes = db.features_of_type('transcript')\n",
    "    gene_name_dict = defaultdict(list)\n",
    "    for gene in genes:\n",
    "        try:\n",
    "            gene_name_dict[gene.attributes['gene_name'][0]].append(gene.attributes['transcript_id'][0])\n",
    "        except KeyError as e:\n",
    "            print(\"Warning. Key not found for {}\".format(gene))\n",
    "            return 1\n",
    "    return gene_name_dict\n",
    "\n",
    "db_file = '/projects/ps-yeolab3/bay001/annotations/hg19/gencode_v19/gencode.v19.annotation.gtf.db'\n",
    "DATABASE = gffutils.FeatureDB(db_file)\n",
    "\n",
    "gene_name_to_id_dictionary = gene_name_to_transcript(DATABASE)\n",
    "gene_name_to_id_dictionary['RBFOX2']"
   ]
  },
  {
   "cell_type": "code",
   "execution_count": 11,
   "metadata": {},
   "outputs": [
    {
     "data": {
      "text/plain": [
       "['ENSG00000100320.18']"
      ]
     },
     "execution_count": 11,
     "metadata": {},
     "output_type": "execute_result"
    }
   ],
   "source": [
    "def transcript_to_gene_id(db):\n",
    "    '''\n",
    "    given a transcript ID, return a gene ID (expect one to one)\n",
    "    '''\n",
    "    genes = db.features_of_type('transcript')\n",
    "    transcript_gene_dict = defaultdict(list)\n",
    "    for gene in genes:\n",
    "        try:\n",
    "            transcript_gene_dict[gene.attributes['transcript_id'][0]].append(gene.attributes['gene_id'][0])\n",
    "        except KeyError as e:\n",
    "            print(\"Warning. Key not found for {}\".format(gene))\n",
    "            return 1\n",
    "    return transcript_gene_dict\n",
    "\n",
    "db_file = '/projects/ps-yeolab3/bay001/annotations/hg19/gencode_v19/gencode.v19.annotation.gtf.db'\n",
    "DATABASE = gffutils.FeatureDB(db_file)\n",
    "\n",
    "transcript_to_gene_dictionary = transcript_to_gene_id(DATABASE)\n",
    "transcript_to_gene_dictionary['ENST00000416721.2']"
   ]
  },
  {
   "cell_type": "code",
   "execution_count": 12,
   "metadata": {},
   "outputs": [
    {
     "data": {
      "text/plain": [
       "[<Feature exon (chr22:36156057-36156067[-]) at 0x2b0c91d05b70>,\n",
       " <Feature exon (chr22:36157249-36157341[-]) at 0x2b0caef78f98>,\n",
       " <Feature exon (chr22:36157462-36157515[-]) at 0x2b0cae296dd8>,\n",
       " <Feature exon (chr22:36161470-36161530[-]) at 0x2b0cb021f748>,\n",
       " <Feature exon (chr22:36164304-36164396[-]) at 0x2b0cb021f4e0>,\n",
       " <Feature exon (chr22:36174072-36174125[-]) at 0x2b0cb021f2e8>,\n",
       " <Feature exon (chr22:36177647-36177790[-]) at 0x2b0cae5daf60>,\n",
       " <Feature exon (chr22:36205827-36206051[-]) at 0x2b0cb0214c88>,\n",
       " <Feature exon (chr22:36220367-36220420[-]) at 0x2b0cb0214da0>]"
      ]
     },
     "execution_count": 12,
     "metadata": {},
     "output_type": "execute_result"
    }
   ],
   "source": [
    "def id_to_exons(db, identifier):\n",
    "    '''\n",
    "    takes the gene or transcript id and returns exon positions\n",
    "    '''\n",
    "    exons = []\n",
    "    for i in db.children(identifier, featuretype='exon', order_by='start'):\n",
    "        exons.append(i)\n",
    "    return exons\n",
    "\n",
    "db_file = '/projects/ps-yeolab3/bay001/annotations/hg19/gencode_v19/gencode.v19.annotation.gtf.db'\n",
    "DATABASE = gffutils.FeatureDB(db_file)\n",
    "\n",
    "id_to_exons(DATABASE,'ENST00000473487.2')"
   ]
  },
  {
   "cell_type": "code",
   "execution_count": 13,
   "metadata": {},
   "outputs": [],
   "source": [
    "def position_to_features(db, chrom, start, end, strand='', completely_within=True):\n",
    "    '''\n",
    "    takes a coordinate and returns all the features overlapping \n",
    "    (either completely contained or partially overlapping the region).\n",
    "    '''\n",
    "    if strand == '+' or strand == '-':\n",
    "        return list(\n",
    "            db.region(\n",
    "                region=(chrom, start, end), strand=strand, completely_within=completely_within\n",
    "            )\n",
    "        )\n",
    "    else:\n",
    "        return list(\n",
    "            db.region(\n",
    "                region=(chrom, start, end), completely_within=completely_within\n",
    "            )\n",
    "        )\n",
    "# get all features corresponding to the genomic coordinates (True if feature must be entirely contained within region)\n",
    "features = position_to_features(DATABASE,'chr19', 1000000, 1000100, completely_within=True)\n",
    "# print all gene names associated with these features\n",
    "# print([f.attributes['gene_name'] for f in features])"
   ]
  },
  {
   "cell_type": "markdown",
   "metadata": {},
   "source": [
    "# Example of how to get introns from a GTF file using gffutils"
   ]
  },
  {
   "cell_type": "code",
   "execution_count": 14,
   "metadata": {},
   "outputs": [
    {
     "name": "stderr",
     "output_type": "stream",
     "text": [
      "/projects/ps-yeolab4/software/yeolabconda3/envs/python3essential-0.0.1/lib/python3.6/site-packages/gffutils/interface.py:161: UserWarning: It appears that this database has not had the ANALYZE sqlite3 command run on it. Doing so can dramatically speed up queries, and is done by default for databases created with gffutils >0.8.7.1 (this database was created with version 0.8.7.1) Consider calling the analyze() method of this object.\n",
      "  \"method of this object.\" % self.version)\n"
     ]
    },
    {
     "data": {
      "text/plain": [
       "[<Feature exon (chr22:36156057-36156067[-]) at 0x2b0ced15db70>,\n",
       " <Feature exon (chr22:36157249-36157341[-]) at 0x2b0ced15da90>,\n",
       " <Feature exon (chr22:36157462-36157515[-]) at 0x2b0ced15db38>,\n",
       " <Feature exon (chr22:36161470-36161530[-]) at 0x2b0ced15dda0>,\n",
       " <Feature exon (chr22:36164304-36164396[-]) at 0x2b0cedcde048>,\n",
       " <Feature exon (chr22:36174072-36174125[-]) at 0x2b0cedcde2b0>,\n",
       " <Feature exon (chr22:36177647-36177790[-]) at 0x2b0cedcde518>,\n",
       " <Feature exon (chr22:36205827-36206051[-]) at 0x2b0cedcde780>,\n",
       " <Feature exon (chr22:36220367-36220420[-]) at 0x2b0cedcde9e8>]"
      ]
     },
     "execution_count": 14,
     "metadata": {},
     "output_type": "execute_result"
    }
   ],
   "source": [
    "db_file = '/projects/ps-yeolab3/bay001/annotations/hg19/gencode_v19/gencode.v19.annotation.gtf.db'\n",
    "DATABASE = gffutils.FeatureDB(db_file)\n",
    "\n",
    "exons = id_to_exons(DATABASE,'ENST00000473487.2')  # re-use a function above\n",
    "exons"
   ]
  },
  {
   "cell_type": "code",
   "execution_count": 16,
   "metadata": {},
   "outputs": [
    {
     "name": "stdout",
     "output_type": "stream",
     "text": [
      "chr22\tgffutils_derived\tinter_exon_exon\t36156068\t36157248\t.\t-\t.\tgene_status \"KNOWN\"; exon_number \"9,8\"; level \"2\"; transcript_type \"protein_coding\"; tag \"cds_end_NF,mRNA_end_NF\"; protein_id \"ENSP00000475142.1\"; gene_id \"ENSG00000100320.18\"; exon_id \"ENSE00003472559.1,ENSE00001576597.1\"; transcript_id \"ENST00000473487.2\"; havana_transcript \"OTTHUMT00000319341.2\"; havana_gene \"OTTHUMG00000150585.10\"; transcript_name \"RBFOX2-014\"; gene_type \"protein_coding\"; transcript_status \"PUTATIVE\"; gene_name \"RBFOX2\";\n",
      "chr22\tgffutils_derived\tinter_exon_exon\t36157342\t36157461\t.\t-\t.\tgene_status \"KNOWN\"; exon_number \"9,7\"; level \"2\"; transcript_type \"protein_coding\"; tag \"cds_end_NF,mRNA_end_NF\"; protein_id \"ENSP00000475142.1\"; gene_id \"ENSG00000100320.18\"; exon_id \"ENSE00003472559.1,ENSE00001583934.1\"; transcript_id \"ENST00000473487.2\"; havana_transcript \"OTTHUMT00000319341.2\"; havana_gene \"OTTHUMG00000150585.10\"; transcript_name \"RBFOX2-014\"; gene_type \"protein_coding\"; transcript_status \"PUTATIVE\"; gene_name \"RBFOX2\";\n",
      "chr22\tgffutils_derived\tinter_exon_exon\t36157516\t36161469\t.\t-\t.\tgene_status \"KNOWN\"; exon_number \"6,9\"; level \"2\"; transcript_type \"protein_coding\"; tag \"cds_end_NF,mRNA_end_NF\"; protein_id \"ENSP00000475142.1\"; gene_id \"ENSG00000100320.18\"; exon_id \"ENSE00003472559.1,ENSE00001641902.1\"; transcript_id \"ENST00000473487.2\"; havana_transcript \"OTTHUMT00000319341.2\"; havana_gene \"OTTHUMG00000150585.10\"; transcript_name \"RBFOX2-014\"; gene_type \"protein_coding\"; transcript_status \"PUTATIVE\"; gene_name \"RBFOX2\";\n",
      "chr22\tgffutils_derived\tinter_exon_exon\t36161531\t36164303\t.\t-\t.\tgene_status \"KNOWN\"; exon_number \"9,5\"; level \"2\"; transcript_type \"protein_coding\"; tag \"cds_end_NF,mRNA_end_NF\"; protein_id \"ENSP00000475142.1\"; gene_id \"ENSG00000100320.18\"; exon_id \"ENSE00003472559.1,ENSE00001638626.1\"; transcript_id \"ENST00000473487.2\"; havana_transcript \"OTTHUMT00000319341.2\"; havana_gene \"OTTHUMG00000150585.10\"; transcript_name \"RBFOX2-014\"; gene_type \"protein_coding\"; transcript_status \"PUTATIVE\"; gene_name \"RBFOX2\";\n",
      "chr22\tgffutils_derived\tinter_exon_exon\t36164397\t36174071\t.\t-\t.\tgene_status \"KNOWN\"; exon_number \"4,9\"; level \"2\"; transcript_type \"protein_coding\"; tag \"cds_end_NF,mRNA_end_NF\"; protein_id \"ENSP00000475142.1\"; gene_id \"ENSG00000100320.18\"; exon_id \"ENSE00001585912.1,ENSE00003472559.1\"; transcript_id \"ENST00000473487.2\"; havana_transcript \"OTTHUMT00000319341.2\"; havana_gene \"OTTHUMG00000150585.10\"; transcript_name \"RBFOX2-014\"; gene_type \"protein_coding\"; transcript_status \"PUTATIVE\"; gene_name \"RBFOX2\";\n",
      "chr22\tgffutils_derived\tinter_exon_exon\t36174126\t36177646\t.\t-\t.\tgene_status \"KNOWN\"; exon_number \"3,9\"; level \"2\"; transcript_type \"protein_coding\"; tag \"cds_end_NF,mRNA_end_NF\"; protein_id \"ENSP00000475142.1\"; gene_id \"ENSG00000100320.18\"; exon_id \"ENSE00003670378.1,ENSE00003472559.1\"; transcript_id \"ENST00000473487.2\"; havana_transcript \"OTTHUMT00000319341.2\"; havana_gene \"OTTHUMG00000150585.10\"; transcript_name \"RBFOX2-014\"; gene_type \"protein_coding\"; transcript_status \"PUTATIVE\"; gene_name \"RBFOX2\";\n",
      "chr22\tgffutils_derived\tinter_exon_exon\t36177791\t36205826\t.\t-\t.\tgene_status \"KNOWN\"; exon_number \"9,2\"; level \"2\"; transcript_type \"protein_coding\"; tag \"cds_end_NF,mRNA_end_NF\"; protein_id \"ENSP00000475142.1\"; gene_id \"ENSG00000100320.18\"; exon_id \"ENSE00003472559.1,ENSE00003497901.1\"; transcript_id \"ENST00000473487.2\"; havana_transcript \"OTTHUMT00000319341.2\"; havana_gene \"OTTHUMG00000150585.10\"; transcript_name \"RBFOX2-014\"; gene_type \"protein_coding\"; transcript_status \"PUTATIVE\"; gene_name \"RBFOX2\";\n",
      "chr22\tgffutils_derived\tinter_exon_exon\t36206052\t36220366\t.\t-\t.\tgene_status \"KNOWN\"; exon_number \"1,9\"; level \"2\"; transcript_type \"protein_coding\"; tag \"cds_end_NF,mRNA_end_NF\"; protein_id \"ENSP00000475142.1\"; gene_id \"ENSG00000100320.18\"; exon_id \"ENSE00003472559.1,ENSE00001874818.1\"; transcript_id \"ENST00000473487.2\"; havana_transcript \"OTTHUMT00000319341.2\"; havana_gene \"OTTHUMG00000150585.10\"; transcript_name \"RBFOX2-014\"; gene_type \"protein_coding\"; transcript_status \"PUTATIVE\"; gene_name \"RBFOX2\";\n"
     ]
    }
   ],
   "source": [
    "introns = DATABASE.interfeatures(\n",
    "    exons, \n",
    "    new_featuretype=None, \n",
    "    merge_attributes=True, \n",
    "    dialect=None, \n",
    "    attribute_func=None, \n",
    "    update_attributes=None\n",
    ")\n",
    "for i in introns:\n",
    "    print(i)"
   ]
  },
  {
   "cell_type": "markdown",
   "metadata": {},
   "source": [
    "# Misc scratch space for showing how to hash elements based on position. \n",
    "- Generally puts into memory, speeding up position/gene lookup.\n",
    "- I've implemented this into my annotator script and RBPmaps code, but it doesn't seem to work here..."
   ]
  },
  {
   "cell_type": "code",
   "execution_count": 14,
   "metadata": {},
   "outputs": [],
   "source": [
    "from collections import defaultdict\n",
    "\n",
    "\n",
    "def hash_features(db):\n",
    "    '''\n",
    "    hashes features by position.\n",
    "    '''\n",
    "    genes = defaultdict(list)\n",
    "    for element in db.region(seqid=chrom):\n",
    "        start = int(element.start / 1000000)\n",
    "        end = int(element.end / 1000000)\n",
    "        genes[chrom, start, end].append(element)\n",
    "    return genes\n",
    "# get all features corresponding to the genomic coordinates (True if feature must be entirely contained within region)\n",
    "genes = chrom_to_features(DATABASE,'chr19')\n",
    "# print all gene names associated with these features\n",
    "# print([f.attributes['gene_name'] for f in features])"
   ]
  },
  {
   "cell_type": "code",
   "execution_count": 15,
   "metadata": {},
   "outputs": [
    {
     "ename": "NameError",
     "evalue": "name 'genes' is not defined",
     "output_type": "error",
     "traceback": [
      "\u001b[0;31m---------------------------------------------------------------------------\u001b[0m",
      "\u001b[0;31mNameError\u001b[0m                                 Traceback (most recent call last)",
      "\u001b[0;32m<ipython-input-15-3c850b231a93>\u001b[0m in \u001b[0;36m<module>\u001b[0;34m\u001b[0m\n\u001b[1;32m      7\u001b[0m \u001b[0mend_key\u001b[0m \u001b[0;34m=\u001b[0m \u001b[0mint\u001b[0m\u001b[0;34m(\u001b[0m\u001b[0mend\u001b[0m \u001b[0;34m/\u001b[0m \u001b[0;36m1000000\u001b[0m\u001b[0;34m)\u001b[0m\u001b[0;34m\u001b[0m\u001b[0;34m\u001b[0m\u001b[0m\n\u001b[1;32m      8\u001b[0m \u001b[0;34m\u001b[0m\u001b[0m\n\u001b[0;32m----> 9\u001b[0;31m \u001b[0;32mfor\u001b[0m \u001b[0mgene\u001b[0m \u001b[0;32min\u001b[0m \u001b[0mgenes\u001b[0m\u001b[0;34m[\u001b[0m\u001b[0mchrom\u001b[0m\u001b[0;34m,\u001b[0m \u001b[0mstart_key\u001b[0m\u001b[0;34m,\u001b[0m \u001b[0mend_key\u001b[0m\u001b[0;34m]\u001b[0m\u001b[0;34m:\u001b[0m\u001b[0;34m\u001b[0m\u001b[0;34m\u001b[0m\u001b[0m\n\u001b[0m\u001b[1;32m     10\u001b[0m     \u001b[0;32mif\u001b[0m \u001b[0mgene\u001b[0m\u001b[0;34m.\u001b[0m\u001b[0mstart\u001b[0m \u001b[0;34m>\u001b[0m \u001b[0mstart\u001b[0m \u001b[0;32mand\u001b[0m \u001b[0mgene\u001b[0m\u001b[0;34m.\u001b[0m\u001b[0mstart\u001b[0m \u001b[0;34m<\u001b[0m \u001b[0mend\u001b[0m\u001b[0;34m:\u001b[0m\u001b[0;34m\u001b[0m\u001b[0;34m\u001b[0m\u001b[0m\n\u001b[1;32m     11\u001b[0m         \u001b[0moverlapped\u001b[0m\u001b[0;34m.\u001b[0m\u001b[0mappend\u001b[0m\u001b[0;34m(\u001b[0m\u001b[0mgene\u001b[0m\u001b[0;34m)\u001b[0m\u001b[0;34m\u001b[0m\u001b[0;34m\u001b[0m\u001b[0m\n",
      "\u001b[0;31mNameError\u001b[0m: name 'genes' is not defined"
     ]
    }
   ],
   "source": [
    "start = 1000400\n",
    "end = 1000440\n",
    "\n",
    "overlapped = []\n",
    "\n",
    "start_key = int(start / 1000000)\n",
    "end_key = int(end / 1000000)\n",
    "\n",
    "for gene in genes[chrom, start_key, end_key]:\n",
    "    if gene.start > start and gene.start < end:\n",
    "        overlapped.append(gene)\n",
    "    elif gene.end > start and gene.end < end:\n",
    "        overlapped.append(gene)\n",
    "        \n",
    "overlapped"
   ]
  },
  {
   "cell_type": "code",
   "execution_count": null,
   "metadata": {},
   "outputs": [],
   "source": [
    "ret = DATABASE.execute(\"SELECT seqid FROM features\").fetchall()\n",
    "all_chromosomes = [r['seqid'] for r in ret]"
   ]
  },
  {
   "cell_type": "code",
   "execution_count": null,
   "metadata": {},
   "outputs": [],
   "source": [
    "from tqdm import tnrange, tqdm_notebook\n",
    "\n",
    "genes = DATABASE.features_of_type('gene')\n",
    "progress = tnrange(48440)\n",
    "\n",
    "ct = 0\n",
    "newgenes = []\n",
    "for gene in genes:\n",
    "    if ct > 10000:\n",
    "        break\n",
    "    gene.attributes['transcript_id'] = gene.attributes['gene_id']\n",
    "    newgenes.append(gene)\n",
    "    progress.update(1)\n",
    "    ct+=1"
   ]
  },
  {
   "cell_type": "code",
   "execution_count": null,
   "metadata": {},
   "outputs": [],
   "source": [
    "DATABASE.update((n for n in newgenes), )"
   ]
  },
  {
   "cell_type": "code",
   "execution_count": null,
   "metadata": {},
   "outputs": [],
   "source": [
    "# Feature objects embed all information as a dictionary\n",
    "# See: http://pythonhosted.org/gffutils/attributes.html\n",
    "\n",
    "DEFAULT_FEATURE_TYPE_PRIORITY = [\n",
    "    'UTR','gene','transcript','exon','start_codon','stop_codon','Selenocysteine', 'CDS'\n",
    "]\n",
    "\n",
    "DEFAULT_TRANSCRIPT_TYPE_PRIORITY = [\n",
    "    'retained_intron', 'protein_coding','pseudogene','rRNA', 'processed_transcript', 'antisense'\n",
    "]\n",
    "\n",
    "priority = DEFAULT_TRANSCRIPT_TYPE_PRIORITY\n",
    "\"\"\"\n",
    "for f in features:\n",
    "    pass\n",
    "    print(\n",
    "        '{}, {}, {}, {}'.format(\n",
    "            f.attributes['gene_name'], # list of associated gene names\n",
    "            f.start, # start of feature\n",
    "            f.end, # end of feature\n",
    "            priority.index(f.attributes['transcript_type'][0])\n",
    "        ) # type of feature\n",
    "    )\"\"\""
   ]
  },
  {
   "cell_type": "code",
   "execution_count": null,
   "metadata": {
    "scrolled": true
   },
   "outputs": [],
   "source": [
    "f_priority = DEFAULT_FEATURE_TYPE_PRIORITY\n",
    "t_priority = DEFAULT_TRANSCRIPT_TYPE_PRIORITY\n",
    "\n",
    "features.sort(\n",
    "    key=lambda x: t_priority.index(\n",
    "        x.attributes['gene_type'][0]\n",
    "    ), reverse=False\n",
    ") # sort gene type\n",
    "first_filter = [\n",
    "    f for f in features if features[0].attributes['transcript_type'] == f.attributes['transcript_type']\n",
    "]\n",
    "first_filter.sort(\n",
    "    key=lambda x: f_priority.index(\n",
    "        x.featuretype\n",
    "    ), reverse=False\n",
    ")\n",
    "second_filter = [\n",
    "    f for f in first_filter if first_filter[0].featuretype == f.featuretype\n",
    "]\n",
    "# [f.attributes['transcript_type'] for f in features]\n",
    "second_filter"
   ]
  }
 ],
 "metadata": {
  "kernelspec": {
   "display_name": "python3essential (tscc)",
   "language": "python",
   "name": "python3essential"
  },
  "language_info": {
   "codemirror_mode": {
    "name": "ipython",
    "version": 3
   },
   "file_extension": ".py",
   "mimetype": "text/x-python",
   "name": "python",
   "nbconvert_exporter": "python",
   "pygments_lexer": "ipython3",
   "version": "3.6.7"
  }
 },
 "nbformat": 4,
 "nbformat_minor": 4
}
