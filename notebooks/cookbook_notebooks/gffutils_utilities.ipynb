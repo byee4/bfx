{
 "cells": [
  {
   "cell_type": "markdown",
   "metadata": {},
   "source": [
    "# Collection of examples for annotation using the GTF database and gffutils"
   ]
  },
  {
   "cell_type": "code",
   "execution_count": 1,
   "metadata": {
    "collapsed": true
   },
   "outputs": [],
   "source": [
    "import pandas as pd\n",
    "import gffutils\n",
    "import os\n",
    "from collections import defaultdict"
   ]
  },
  {
   "cell_type": "code",
   "execution_count": null,
   "metadata": {},
   "outputs": [
    {
     "name": "stderr",
     "output_type": "stream",
     "text": [
      "/home/bay001/anaconda2/envs/brian/lib/python2.7/site-packages/gffutils/create.py:714: UserWarning: It appears you have a gene feature in your GTF file. You may want to use the `disable_infer_genes` option to speed up database creation\n",
      "  \"It appears you have a gene feature in your GTF \"\n",
      "/home/bay001/anaconda2/envs/brian/lib/python2.7/site-packages/gffutils/create.py:705: UserWarning: It appears you have a transcript feature in your GTF file. You may want to use the `disable_infer_transcripts` option to speed up database creation\n",
      "  \"It appears you have a transcript feature in your GTF \"\n",
      "10488 of 524400 (2%)\r"
     ]
    }
   ],
   "source": [
    "annotation_file = '/projects/ps-yeolab/genomes/mm10/gencode/gencode.vM15.annotation.gtf'\n",
    "# annotation_file = '/home/bay001/projects/codebase/annotator/test/c_elegans.PRJNA13758.WS257.canonical_geneset.chrIII.25000.gtf'\n",
    "db_file = '/projects/ps-yeolab/genomes/mm10/gencode/gencode.vM15.annotation.gtf.db'\n",
    "\n",
    "def build_db(annotation_file, db_file, force=True, disable_infer_genes=True, disable_infer_transcripts=True):\n",
    "    db = gffutils.create_db(\n",
    "        annotation_file, dbfn=db_file, force=force, # change to True if we need to create a new db\n",
    "        keep_order=True, merge_strategy='merge', sort_attribute_values=True,\n",
    "        disable_infer_genes=disable_infer_genes,\n",
    "        disable_infer_transcripts=disable_infer_transcripts\n",
    "    )\n",
    "build_db(annotation_file, db_file, disable_infer_genes=False, disable_infer_transcripts=False)\n"
   ]
  },
  {
   "cell_type": "code",
   "execution_count": 2,
   "metadata": {
    "collapsed": true
   },
   "outputs": [],
   "source": [
    "# db_file = '/projects/ps-yeolab/genomes/mm10/gencode/gencode.vM3.annotation.gtf.db'\n",
    "# db_file = '/projects/ps-yeolab/genomes/hg19/gencode_v19/gencode.v19.annotation.gtf.db'\n",
    "db_file = '/projects/ps-yeolab3/bay001/annotations/gencode.vM10.annotation.v3.db'\n",
    "DATABASE = gffutils.FeatureDB(db_file)"
   ]
  },
  {
   "cell_type": "code",
   "execution_count": null,
   "metadata": {
    "collapsed": true
   },
   "outputs": [],
   "source": [
    "def gene_id_to_name(db):\n",
    "    '''\n",
    "    Returns a dictionary containing a gene_id:name translation\n",
    "    Note: may be different if the 'gene_id' or 'gene_name' \n",
    "    keys are not in the source GTF file\n",
    "    (taken from gscripts.region_helpers)\n",
    "    '''\n",
    "    genes = db.features_of_type('gene')\n",
    "    gene_name_dict = {}\n",
    "    for gene in genes:\n",
    "        gene_id = gene.attributes['gene_id'][0] if type(gene.attributes['gene_id']) == list else gene.attributes['gene_id']\n",
    "        try:\n",
    "            gene_name_dict[gene_id] = gene.attributes['gene_name'][0]\n",
    "        except KeyError:\n",
    "            print(gene.attributes.keys())\n",
    "            print(\"Warning. Key not found for {}\".format(gene))\n",
    "            return 1\n",
    "    return gene_name_dict\n",
    "\n",
    "gene_id_to_name_dictionary = gene_id_to_name(DATABASE)\n",
    "# gene_id_to_name_dictionary['ENSG00000100320.18']\n",
    "gene_id_to_name_dictionary['ENSMUSG00000092210.1']"
   ]
  },
  {
   "cell_type": "code",
   "execution_count": 4,
   "metadata": {},
   "outputs": [
    {
     "data": {
      "text/plain": [
       "'protein_coding'"
      ]
     },
     "execution_count": 4,
     "metadata": {},
     "output_type": "execute_result"
    }
   ],
   "source": [
    "def gene_id_to_protein_coding(db):\n",
    "    \"\"\"\n",
    "    returns whether or not a gene is protein coding or not.\n",
    "    \"\"\"\n",
    "    genes = db.features_of_type('gene')\n",
    "    gene_name_dict = {}\n",
    "    for gene in genes:\n",
    "        gene_id = gene.attributes['gene_id'][0] if type(gene.attributes['gene_id']) == list else gene.attributes['gene_id']\n",
    "        try:\n",
    "            gene_name_dict[gene_id] = gene.attributes['gene_type'][0]\n",
    "        except KeyError:\n",
    "            print(gene.attributes.keys())\n",
    "            print(\"Warning. Key not found for {}\".format(gene))\n",
    "            return 1\n",
    "    return gene_name_dict\n",
    "\n",
    "gene_id_to_pc = gene_id_to_protein_coding(DATABASE)\n",
    "gene_id_to_pc['ENSMUSG00000092210.1']"
   ]
  },
  {
   "cell_type": "code",
   "execution_count": null,
   "metadata": {
    "collapsed": true
   },
   "outputs": [],
   "source": [
    "def gene_name_to_id(db):\n",
    "    '''\n",
    "    given a gene name, returns a list of associated Gene IDs (one-to-many)\n",
    "    '''\n",
    "    genes = db.features_of_type('gene')\n",
    "    gene_name_dict = defaultdict(list)\n",
    "    for gene in genes:\n",
    "        try:\n",
    "            gene_name_dict[gene.attributes['gene_name'][0]].append(gene.attributes['gene_id'][0])\n",
    "        except KeyError as e:\n",
    "            print(\"Warning. Key not found for {}\".format(gene))\n",
    "            return 1\n",
    "    return gene_name_dict\n",
    "\n",
    "gene_name_to_id_dictionary = gene_name_to_id(DATABASE)\n",
    "gene_name_to_id_dictionary['RBFOX2']"
   ]
  },
  {
   "cell_type": "code",
   "execution_count": null,
   "metadata": {
    "collapsed": true
   },
   "outputs": [],
   "source": [
    "def gene_name_to_transcript(db):\n",
    "    '''\n",
    "    given a gene name, returns a list of associated transcript IDs (one-to-many)\n",
    "    '''\n",
    "    genes = db.features_of_type('transcript')\n",
    "    gene_name_dict = defaultdict(list)\n",
    "    for gene in genes:\n",
    "        try:\n",
    "            gene_name_dict[gene.attributes['gene_name'][0]].append(gene.attributes['transcript_id'][0])\n",
    "        except KeyError as e:\n",
    "            print(\"Warning. Key not found for {}\".format(gene))\n",
    "            return 1\n",
    "    return gene_name_dict\n",
    "\n",
    "gene_name_to_id_dictionary = gene_name_to_transcript(DATABASE)\n",
    "gene_name_to_id_dictionary['RBFOX2']"
   ]
  },
  {
   "cell_type": "code",
   "execution_count": null,
   "metadata": {
    "collapsed": true
   },
   "outputs": [],
   "source": [
    "def id_to_exons(db, identifier):\n",
    "    '''\n",
    "    takes the gene or transcript id and returns exon positions\n",
    "    '''\n",
    "    exons = []\n",
    "    for i in db.children(identifier, featuretype='exon', order_by='start'):\n",
    "        exons.append(i)\n",
    "    return exons\n",
    "\n",
    "id_to_exons(DATABASE,'ENST00000473487.2')"
   ]
  },
  {
   "cell_type": "code",
   "execution_count": null,
   "metadata": {
    "collapsed": true
   },
   "outputs": [],
   "source": [
    "def position_to_features(db, chrom, start, end, strand='', completely_within=True):\n",
    "    '''\n",
    "    takes a coordinate and returns all the features overlapping \n",
    "    (either completely contained or partially overlapping the region).\n",
    "    '''\n",
    "    if strand == '+' or strand == '-':\n",
    "        return list(\n",
    "            db.region(\n",
    "                region=(chrom, start, end), strand=strand, completely_within=completely_within\n",
    "            )\n",
    "        )\n",
    "    else:\n",
    "        return list(\n",
    "            db.region(\n",
    "                region=(chrom, start, end), completely_within=completely_within\n",
    "            )\n",
    "        )\n",
    "# get all features corresponding to the genomic coordinates (True if feature must be entirely contained within region)\n",
    "features = position_to_features(DATABASE,'chr19', 1000000, 1000100, completely_within=True)\n",
    "# print all gene names associated with these features\n",
    "# print([f.attributes['gene_name'] for f in features])"
   ]
  },
  {
   "cell_type": "code",
   "execution_count": null,
   "metadata": {
    "collapsed": true
   },
   "outputs": [],
   "source": [
    "from collections import defaultdict\n",
    "\n",
    "\n",
    "def hash_features(db):\n",
    "    '''\n",
    "    hashes features by position.\n",
    "    '''\n",
    "    genes = defaultdict(list)\n",
    "    for element in db.region(seqid=chrom):\n",
    "        start = int(element.start / 1000000)\n",
    "        end = int(element.end / 1000000)\n",
    "        genes[chrom, start, end].append(element)\n",
    "    return genes\n",
    "# get all features corresponding to the genomic coordinates (True if feature must be entirely contained within region)\n",
    "genes = chrom_to_features(DATABASE,'chr19')\n",
    "# print all gene names associated with these features\n",
    "# print([f.attributes['gene_name'] for f in features])"
   ]
  },
  {
   "cell_type": "code",
   "execution_count": null,
   "metadata": {
    "collapsed": true
   },
   "outputs": [],
   "source": [
    "start = 1000400\n",
    "end = 1000440\n",
    "\n",
    "overlapped = []\n",
    "\n",
    "start_key = int(start / 1000000)\n",
    "end_key = int(end / 1000000)\n",
    "\n",
    "for gene in genes[chrom, start_key, end_key]:\n",
    "    if gene.start > start and gene.start < end:\n",
    "        overlapped.append(gene)\n",
    "    elif gene.end > start and gene.end < end:\n",
    "        overlapped.append(gene)\n",
    "        \n",
    "overlapped"
   ]
  },
  {
   "cell_type": "code",
   "execution_count": null,
   "metadata": {
    "collapsed": true
   },
   "outputs": [],
   "source": [
    "ret = DATABASE.execute(\"SELECT seqid FROM features\").fetchall()\n",
    "all_chromosomes = [r['seqid'] for r in ret]"
   ]
  },
  {
   "cell_type": "code",
   "execution_count": 3,
   "metadata": {},
   "outputs": [
    {
     "data": {
      "application/vnd.jupyter.widget-view+json": {
       "model_id": "235b51bd300542f489879c602c5afa09"
      }
     },
     "metadata": {},
     "output_type": "display_data"
    }
   ],
   "source": [
    "from tqdm import tnrange, tqdm_notebook\n",
    "\n",
    "genes = DATABASE.features_of_type('gene')\n",
    "progress = tnrange(48440)\n",
    "\n",
    "ct = 0\n",
    "newgenes = []\n",
    "for gene in genes:\n",
    "    if ct > 10000:\n",
    "        break\n",
    "    gene.attributes['transcript_id'] = gene.attributes['gene_id']\n",
    "    newgenes.append(gene)\n",
    "    progress.update(1)\n",
    "    ct+=1"
   ]
  },
  {
   "cell_type": "code",
   "execution_count": null,
   "metadata": {},
   "outputs": [
    {
     "name": "stderr",
     "output_type": "stream",
     "text": [
      "/home/bay001/anaconda2/envs/brian/lib/python2.7/site-packages/gffutils/create.py:714: UserWarning: It appears you have a gene feature in your GTF file. You may want to use the `disable_infer_genes` option to speed up database creation\n",
      "  \"It appears you have a gene feature in your GTF \"\n"
     ]
    },
    {
     "name": "stdout",
     "output_type": "stream",
     "text": [
      "\r",
      "          \r",
      "10001/|/ 21%|| 10001/48440 [00:20<00:07, 4897.45it/s]"
     ]
    }
   ],
   "source": [
    "DATABASE.update((n for n in newgenes), )"
   ]
  },
  {
   "cell_type": "code",
   "execution_count": null,
   "metadata": {
    "collapsed": true
   },
   "outputs": [],
   "source": [
    "# Feature objects embed all information as a dictionary\n",
    "# See: http://pythonhosted.org/gffutils/attributes.html\n",
    "\n",
    "DEFAULT_FEATURE_TYPE_PRIORITY = [\n",
    "    'UTR','gene','transcript','exon','start_codon','stop_codon','Selenocysteine', 'CDS'\n",
    "]\n",
    "\n",
    "DEFAULT_TRANSCRIPT_TYPE_PRIORITY = [\n",
    "    'retained_intron', 'protein_coding','pseudogene','rRNA', 'processed_transcript', 'antisense'\n",
    "]\n",
    "\n",
    "priority = DEFAULT_TRANSCRIPT_TYPE_PRIORITY\n",
    "\"\"\"\n",
    "for f in features:\n",
    "    pass\n",
    "    print(\n",
    "        '{}, {}, {}, {}'.format(\n",
    "            f.attributes['gene_name'], # list of associated gene names\n",
    "            f.start, # start of feature\n",
    "            f.end, # end of feature\n",
    "            priority.index(f.attributes['transcript_type'][0])\n",
    "        ) # type of feature\n",
    "    )\"\"\""
   ]
  },
  {
   "cell_type": "code",
   "execution_count": null,
   "metadata": {
    "collapsed": true,
    "scrolled": true
   },
   "outputs": [],
   "source": [
    "f_priority = DEFAULT_FEATURE_TYPE_PRIORITY\n",
    "t_priority = DEFAULT_TRANSCRIPT_TYPE_PRIORITY\n",
    "\n",
    "features.sort(\n",
    "    key=lambda x: t_priority.index(\n",
    "        x.attributes['gene_type'][0]\n",
    "    ), reverse=False\n",
    ") # sort gene type\n",
    "first_filter = [\n",
    "    f for f in features if features[0].attributes['transcript_type'] == f.attributes['transcript_type']\n",
    "]\n",
    "first_filter.sort(\n",
    "    key=lambda x: f_priority.index(\n",
    "        x.featuretype\n",
    "    ), reverse=False\n",
    ")\n",
    "second_filter = [\n",
    "    f for f in first_filter if first_filter[0].featuretype == f.featuretype\n",
    "]\n",
    "# [f.attributes['transcript_type'] for f in features]\n",
    "second_filter"
   ]
  },
  {
   "cell_type": "code",
   "execution_count": null,
   "metadata": {
    "collapsed": true
   },
   "outputs": [],
   "source": [
    "get_highest_priority_annotation()"
   ]
  },
  {
   "cell_type": "markdown",
   "metadata": {},
   "source": [
    "# Use some genomic coordinate list to intersect with features\n",
    "- for each region, return a list of features that are completely contained within that region.\n",
    "- returns an empty list for regions that do not contain any features"
   ]
  },
  {
   "cell_type": "code",
   "execution_count": null,
   "metadata": {
    "collapsed": true
   },
   "outputs": [],
   "source": [
    "df = pd.read_table('/projects/ps-yeolab3/bay001/annotations/small_bed.bed3', names=['chrom','start','end'], index_col=0)\n",
    "df"
   ]
  },
  {
   "cell_type": "code",
   "execution_count": null,
   "metadata": {
    "collapsed": true
   },
   "outputs": [],
   "source": [
    "features = {}\n",
    "for ix, row in df.iterrows():\n",
    "    features[ix] = position_to_features(DATABASE, row['chrom'], row['start'], row['end'], True)"
   ]
  },
  {
   "cell_type": "code",
   "execution_count": null,
   "metadata": {
    "collapsed": true
   },
   "outputs": [],
   "source": [
    "for name, region_list in features.iteritems():\n",
    "    for region in region_list:\n",
    "        print(name, region.featuretype, region.attributes['transcript_type'][0], region.attributes['gene_name'][0])\n"
   ]
  },
  {
   "cell_type": "markdown",
   "metadata": {},
   "source": [
    "# Using with pybedtools"
   ]
  },
  {
   "cell_type": "code",
   "execution_count": null,
   "metadata": {
    "collapsed": true
   },
   "outputs": [],
   "source": [
    "import pybedtools"
   ]
  },
  {
   "cell_type": "code",
   "execution_count": null,
   "metadata": {
    "collapsed": true
   },
   "outputs": [],
   "source": [
    "interval = pybedtools.create_interval_from_list(['chr1','13000000','13003000','some_interval','0','-'])\n"
   ]
  },
  {
   "cell_type": "code",
   "execution_count": null,
   "metadata": {
    "collapsed": true
   },
   "outputs": [],
   "source": [
    "def bedtool_to_features(db, interval, completely_within):\n",
    "    \"\"\"\n",
    "    \n",
    "    takes a coordinate and returns all the features overlapping \n",
    "    (either completely contained or partially overlapping the region).\n",
    "    \n",
    "    Parameters\n",
    "    ----------\n",
    "    db : sqlite3 database\n",
    "    interval : pybedtools.Interval\n",
    "        interval object\n",
    "    completely_within : bool\n",
    "        True if the features returned must be completely contained\n",
    "        within the region. False if the features need only to be\n",
    "        partially overlapping the region.\n",
    "        \n",
    "    Returns\n",
    "    -------\n",
    "    region_list: list\n",
    "        list of Features corresponding to overlapping/contained\n",
    "        features intersecting a region.\n",
    "    \"\"\"\n",
    "    return position_to_feature(\n",
    "        db,\n",
    "        interval.chrom,\n",
    "        interval.start,\n",
    "        interval.end,\n",
    "        interval.strand,\n",
    "        completely_within\n",
    "    )\n",
    "\n",
    "bedtool_to_features(DATABASE, interval, True)"
   ]
  },
  {
   "cell_type": "markdown",
   "metadata": {},
   "source": [
    "# Working with raw GTF files (no database)"
   ]
  },
  {
   "cell_type": "code",
   "execution_count": 3,
   "metadata": {
    "collapsed": true
   },
   "outputs": [],
   "source": [
    "gtf_file = '/projects/ps-yeolab/genomes/hg19/gencode_v19/gencode.v19.annotation.gtf'\n",
    "# gtf_file = '/projects/ps-yeolab3/bay001/annotations/c_elegans.PRJNA13758.WS257.canonical_geneset.gtf'\n",
    "GTF_NAMES = ['chrom','source','feature_type','start','end','.','strand','.','attributes']\n"
   ]
  },
  {
   "cell_type": "code",
   "execution_count": 4,
   "metadata": {
    "collapsed": true
   },
   "outputs": [],
   "source": [
    "\n",
    "def get_feature_type_set(gtf_file):\n",
    "    \"\"\"\n",
    "    from a GTF file, extract the set of feature_types\n",
    "    (feature_types is the third column, normally)\n",
    "    This might be useful for figuring out the priority for annotation.\n",
    "    \n",
    "    Parameters\n",
    "    ----------\n",
    "    gtf_file\n",
    "\n",
    "    Returns\n",
    "    -------\n",
    "\n",
    "    \"\"\"\n",
    "    gtf_df = pd.read_table(\n",
    "        gtf_file,\n",
    "        names=GTF_NAMES,\n",
    "        comment='#'\n",
    "    )\n",
    "    return set(gtf_df['feature_type'])\n",
    "\n",
    "\n",
    "def get_attribute_type_set(gtf_file, attribute_type):\n",
    "    \"\"\"\n",
    "    from a GTF file, extract the set of attribute_types\n",
    "    (attribute_types is one of those fields contained within the 9th column)\n",
    "    This might be useful for figuring out the priority for annotation.\n",
    "    \n",
    "    Parameters\n",
    "    ----------\n",
    "    gtf_file : basestring\n",
    "    attribute_type : basestring\n",
    "\n",
    "    Returns\n",
    "    -------\n",
    "\n",
    "    \"\"\"\n",
    "\n",
    "    gtf_df = pd.read_table(\n",
    "        gtf_file,\n",
    "        names=GTF_NAMES,\n",
    "        comment='#'\n",
    "    )\n",
    "    regex_filter = '{} \\\"([\\w\\s\\d -]+)\\\"'.format(attribute_type)\n",
    "    return set(gtf_df['attributes'].str.extract(regex_filter, expand=False))\n"
   ]
  },
  {
   "cell_type": "code",
   "execution_count": null,
   "metadata": {
    "collapsed": true
   },
   "outputs": [],
   "source": [
    "# in C elegans GFF\n",
    "get_feature_type_set(gtf_file)"
   ]
  },
  {
   "cell_type": "code",
   "execution_count": null,
   "metadata": {
    "collapsed": true
   },
   "outputs": [],
   "source": [
    "# in C elegans GFF\n",
    "get_attribute_type_set(gtf_file, 'biotype')"
   ]
  },
  {
   "cell_type": "code",
   "execution_count": null,
   "metadata": {
    "collapsed": true
   },
   "outputs": [],
   "source": [
    "# in Human GENCODE\n",
    "get_feature_type_set(gtf_file)"
   ]
  },
  {
   "cell_type": "code",
   "execution_count": null,
   "metadata": {
    "collapsed": true
   },
   "outputs": [],
   "source": [
    "# in Human GENCODE\n",
    "get_attribute_type_set(gtf_file, 'transcript_type')"
   ]
  },
  {
   "cell_type": "code",
   "execution_count": 6,
   "metadata": {},
   "outputs": [
    {
     "data": {
      "text/html": [
       "<div>\n",
       "<table border=\"1\" class=\"dataframe\">\n",
       "  <thead>\n",
       "    <tr style=\"text-align: right;\">\n",
       "      <th></th>\n",
       "      <th>chrom</th>\n",
       "      <th>source</th>\n",
       "      <th>feature_type</th>\n",
       "      <th>start</th>\n",
       "      <th>end</th>\n",
       "      <th>.</th>\n",
       "      <th>strand</th>\n",
       "      <th>.</th>\n",
       "      <th>attributes</th>\n",
       "    </tr>\n",
       "  </thead>\n",
       "  <tbody>\n",
       "    <tr>\n",
       "      <th>0</th>\n",
       "      <td>chr1</td>\n",
       "      <td>HAVANA</td>\n",
       "      <td>gene</td>\n",
       "      <td>11869</td>\n",
       "      <td>14412</td>\n",
       "      <td>.</td>\n",
       "      <td>+</td>\n",
       "      <td>.</td>\n",
       "      <td>gene_id \"ENSG00000223972.4\"; transcript_id \"EN...</td>\n",
       "    </tr>\n",
       "    <tr>\n",
       "      <th>1</th>\n",
       "      <td>chr1</td>\n",
       "      <td>HAVANA</td>\n",
       "      <td>transcript</td>\n",
       "      <td>11869</td>\n",
       "      <td>14409</td>\n",
       "      <td>.</td>\n",
       "      <td>+</td>\n",
       "      <td>.</td>\n",
       "      <td>gene_id \"ENSG00000223972.4\"; transcript_id \"EN...</td>\n",
       "    </tr>\n",
       "    <tr>\n",
       "      <th>2</th>\n",
       "      <td>chr1</td>\n",
       "      <td>HAVANA</td>\n",
       "      <td>exon</td>\n",
       "      <td>11869</td>\n",
       "      <td>12227</td>\n",
       "      <td>.</td>\n",
       "      <td>+</td>\n",
       "      <td>.</td>\n",
       "      <td>gene_id \"ENSG00000223972.4\"; transcript_id \"EN...</td>\n",
       "    </tr>\n",
       "    <tr>\n",
       "      <th>3</th>\n",
       "      <td>chr1</td>\n",
       "      <td>HAVANA</td>\n",
       "      <td>exon</td>\n",
       "      <td>12613</td>\n",
       "      <td>12721</td>\n",
       "      <td>.</td>\n",
       "      <td>+</td>\n",
       "      <td>.</td>\n",
       "      <td>gene_id \"ENSG00000223972.4\"; transcript_id \"EN...</td>\n",
       "    </tr>\n",
       "    <tr>\n",
       "      <th>4</th>\n",
       "      <td>chr1</td>\n",
       "      <td>HAVANA</td>\n",
       "      <td>exon</td>\n",
       "      <td>13221</td>\n",
       "      <td>14409</td>\n",
       "      <td>.</td>\n",
       "      <td>+</td>\n",
       "      <td>.</td>\n",
       "      <td>gene_id \"ENSG00000223972.4\"; transcript_id \"EN...</td>\n",
       "    </tr>\n",
       "  </tbody>\n",
       "</table>\n",
       "</div>"
      ],
      "text/plain": [
       "  chrom  source feature_type  start    end  . strand  .  \\\n",
       "0  chr1  HAVANA         gene  11869  14412  .      +  .   \n",
       "1  chr1  HAVANA   transcript  11869  14409  .      +  .   \n",
       "2  chr1  HAVANA         exon  11869  12227  .      +  .   \n",
       "3  chr1  HAVANA         exon  12613  12721  .      +  .   \n",
       "4  chr1  HAVANA         exon  13221  14409  .      +  .   \n",
       "\n",
       "                                          attributes  \n",
       "0  gene_id \"ENSG00000223972.4\"; transcript_id \"EN...  \n",
       "1  gene_id \"ENSG00000223972.4\"; transcript_id \"EN...  \n",
       "2  gene_id \"ENSG00000223972.4\"; transcript_id \"EN...  \n",
       "3  gene_id \"ENSG00000223972.4\"; transcript_id \"EN...  \n",
       "4  gene_id \"ENSG00000223972.4\"; transcript_id \"EN...  "
      ]
     },
     "execution_count": 6,
     "metadata": {},
     "output_type": "execute_result"
    }
   ],
   "source": [
    "df = pd.read_table(gtf_file, names=GTF_NAMES, comment='#')\n",
    "df.head()"
   ]
  },
  {
   "cell_type": "code",
   "execution_count": 7,
   "metadata": {},
   "outputs": [
    {
     "data": {
      "text/html": [
       "<div>\n",
       "<table border=\"1\" class=\"dataframe\">\n",
       "  <thead>\n",
       "    <tr style=\"text-align: right;\">\n",
       "      <th></th>\n",
       "      <th>chrom</th>\n",
       "      <th>source</th>\n",
       "      <th>feature_type</th>\n",
       "      <th>start</th>\n",
       "      <th>end</th>\n",
       "      <th>.</th>\n",
       "      <th>strand</th>\n",
       "      <th>.</th>\n",
       "      <th>attributes</th>\n",
       "    </tr>\n",
       "  </thead>\n",
       "  <tbody>\n",
       "    <tr>\n",
       "      <th>2222144</th>\n",
       "      <td>chr19</td>\n",
       "      <td>HAVANA</td>\n",
       "      <td>exon</td>\n",
       "      <td>549630</td>\n",
       "      <td>549919</td>\n",
       "      <td>.</td>\n",
       "      <td>+</td>\n",
       "      <td>.</td>\n",
       "      <td>gene_id \"ENSG00000197540.3\"; transcript_id \"EN...</td>\n",
       "    </tr>\n",
       "    <tr>\n",
       "      <th>2222145</th>\n",
       "      <td>chr19</td>\n",
       "      <td>HAVANA</td>\n",
       "      <td>CDS</td>\n",
       "      <td>549630</td>\n",
       "      <td>549788</td>\n",
       "      <td>0</td>\n",
       "      <td>+</td>\n",
       "      <td>0</td>\n",
       "      <td>gene_id \"ENSG00000197540.3\"; transcript_id \"EN...</td>\n",
       "    </tr>\n",
       "    <tr>\n",
       "      <th>2222146</th>\n",
       "      <td>chr19</td>\n",
       "      <td>HAVANA</td>\n",
       "      <td>stop_codon</td>\n",
       "      <td>549789</td>\n",
       "      <td>549791</td>\n",
       "      <td>0</td>\n",
       "      <td>+</td>\n",
       "      <td>0</td>\n",
       "      <td>gene_id \"ENSG00000197540.3\"; transcript_id \"EN...</td>\n",
       "    </tr>\n",
       "    <tr>\n",
       "      <th>2222147</th>\n",
       "      <td>chr19</td>\n",
       "      <td>HAVANA</td>\n",
       "      <td>UTR</td>\n",
       "      <td>544034</td>\n",
       "      <td>544071</td>\n",
       "      <td>.</td>\n",
       "      <td>+</td>\n",
       "      <td>.</td>\n",
       "      <td>gene_id \"ENSG00000197540.3\"; transcript_id \"EN...</td>\n",
       "    </tr>\n",
       "    <tr>\n",
       "      <th>2222148</th>\n",
       "      <td>chr19</td>\n",
       "      <td>HAVANA</td>\n",
       "      <td>UTR</td>\n",
       "      <td>549789</td>\n",
       "      <td>549919</td>\n",
       "      <td>.</td>\n",
       "      <td>+</td>\n",
       "      <td>.</td>\n",
       "      <td>gene_id \"ENSG00000197540.3\"; transcript_id \"EN...</td>\n",
       "    </tr>\n",
       "  </tbody>\n",
       "</table>\n",
       "</div>"
      ],
      "text/plain": [
       "         chrom  source feature_type   start     end  . strand  .  \\\n",
       "2222144  chr19  HAVANA         exon  549630  549919  .      +  .   \n",
       "2222145  chr19  HAVANA          CDS  549630  549788  0      +  0   \n",
       "2222146  chr19  HAVANA   stop_codon  549789  549791  0      +  0   \n",
       "2222147  chr19  HAVANA          UTR  544034  544071  .      +  .   \n",
       "2222148  chr19  HAVANA          UTR  549789  549919  .      +  .   \n",
       "\n",
       "                                                attributes  \n",
       "2222144  gene_id \"ENSG00000197540.3\"; transcript_id \"EN...  \n",
       "2222145  gene_id \"ENSG00000197540.3\"; transcript_id \"EN...  \n",
       "2222146  gene_id \"ENSG00000197540.3\"; transcript_id \"EN...  \n",
       "2222147  gene_id \"ENSG00000197540.3\"; transcript_id \"EN...  \n",
       "2222148  gene_id \"ENSG00000197540.3\"; transcript_id \"EN...  "
      ]
     },
     "execution_count": 7,
     "metadata": {},
     "output_type": "execute_result"
    }
   ],
   "source": [
    "df = df[(df['chrom'] == 'chr19') & (df['end'] <= 550000)]\n",
    "df.tail()\n"
   ]
  },
  {
   "cell_type": "code",
   "execution_count": 8,
   "metadata": {
    "collapsed": true
   },
   "outputs": [],
   "source": [
    "df.to_csv(\n",
    "    '/projects/ps-yeolab3/cellrangerdatasets/hg19chr19kbp550_CELLRANGER_REFERENCE/gencode.v19.chr19.550000.gtf',\n",
    "    sep='\\t', index=False, header=False\n",
    ")"
   ]
  },
  {
   "cell_type": "code",
   "execution_count": null,
   "metadata": {
    "collapsed": true
   },
   "outputs": [],
   "source": []
  }
 ],
 "metadata": {
  "kernelspec": {
   "display_name": "Python 2",
   "language": "python",
   "name": "python2"
  },
  "language_info": {
   "codemirror_mode": {
    "name": "ipython",
    "version": 2
   },
   "file_extension": ".py",
   "mimetype": "text/x-python",
   "name": "python",
   "nbconvert_exporter": "python",
   "pygments_lexer": "ipython2",
   "version": "2.7.13"
  }
 },
 "nbformat": 4,
 "nbformat_minor": 1
}
