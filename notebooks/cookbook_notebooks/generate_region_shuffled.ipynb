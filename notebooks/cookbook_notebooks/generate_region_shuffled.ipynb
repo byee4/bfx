{
 "cells": [
  {
   "cell_type": "code",
   "execution_count": 1,
   "metadata": {
    "collapsed": true
   },
   "outputs": [],
   "source": [
    "import sys\n",
    "sys.path.insert(0, '/home/bay001/projects/codebase/clip_analysis/clip_analysis/src/')\n",
    "import pybedtools"
   ]
  },
  {
   "cell_type": "code",
   "execution_count": 2,
   "metadata": {},
   "outputs": [],
   "source": [
    "import CLIP_analysis\n",
    "from tqdm import tnrange, tqdm_notebook"
   ]
  },
  {
   "cell_type": "code",
   "execution_count": 3,
   "metadata": {},
   "outputs": [],
   "source": [
    "data_dir = '/home/gpratt/clipper/clipper/data/'\n",
    "assigned_dir = '/home/bay001/projects/encode/analysis/conservation_analysis/assigned_random_regions'\n",
    "\n",
    "def make_clipper_ish(interval):\n",
    "    interval.name = interval[7]\n",
    "    interval[6] = interval.start\n",
    "    interval[7] = interval.stop\n",
    "    return interval"
   ]
  },
  {
   "cell_type": "markdown",
   "metadata": {},
   "source": [
    "# Iterate over ENCODE data\n",
    "- sometimes we need this"
   ]
  },
  {
   "cell_type": "code",
   "execution_count": 4,
   "metadata": {},
   "outputs": [
    {
     "data": {
      "text/plain": [
       "['/home/bay001/projects/encode/analysis/conservation_analysis/idr_peaks/262.01v02.IDR.out.0102merged.bed.annotated',\n",
       " '/home/bay001/projects/encode/analysis/conservation_analysis/idr_peaks/529.01v02.IDR.out.0102merged.bed.annotated']"
      ]
     },
     "execution_count": 4,
     "metadata": {},
     "output_type": "execute_result"
    }
   ],
   "source": [
    "import glob\n",
    "import os\n",
    "\n",
    "wd = '/home/bay001/projects/encode/analysis/conservation_analysis/idr_peaks/'\n",
    "all_beds = glob.glob(os.path.join(wd, \"*.annotated\"))\n",
    "all_beds[:2]"
   ]
  },
  {
   "cell_type": "code",
   "execution_count": 6,
   "metadata": {},
   "outputs": [
    {
     "data": {
      "application/vnd.jupyter.widget-view+json": {
       "model_id": "b68f5fc444cc4eb49859047e45453e72"
      }
     },
     "metadata": {},
     "output_type": "display_data"
    },
    {
     "name": "stdout",
     "output_type": "stream",
     "text": [
      "\n"
     ]
    }
   ],
   "source": [
    "progress = tnrange(len(all_beds))\n",
    "for bed in all_beds:\n",
    "    bed_prefix = os.path.basename(bed)\n",
    "    clipper_bedtool = []\n",
    "    bedtool = pybedtools.BedTool(bed)\n",
    "    for interval in bedtool:\n",
    "        clipper_bedtool.append(make_clipper_ish(interval))\n",
    "    clipper_bedtool = pybedtools.BedTool(clipper_bedtool)\n",
    "    bed_dicts = CLIP_analysis.assign_to_regions(\n",
    "        clipper_bedtool, bed_prefix, data_dir=data_dir, assigned_dir=assigned_dir, nrand=1\n",
    "    )\n",
    "    progress.update(1)"
   ]
  },
  {
   "cell_type": "code",
   "execution_count": null,
   "metadata": {},
   "outputs": [],
   "source": [
    "len(clipper_bedtool)"
   ]
  },
  {
   "cell_type": "markdown",
   "metadata": {},
   "source": [
    "# Just one bed"
   ]
  },
  {
   "cell_type": "code",
   "execution_count": null,
   "metadata": {
    "collapsed": true
   },
   "outputs": [],
   "source": [
    "bed = '/home/bay001/projects/codebase/annotator/testdata/539.01v02.IDR.out.0102merged.25.bed.annotated'\n",
    "\n",
    "clipper_bedtool = []\n",
    "\n",
    "bedtool = pybedtools.BedTool(bed)\n",
    "for interval in bedtool:\n",
    "    clipper_bedtool.append(make_clipper_ish(interval))\n",
    "\n",
    "clipper_bedtool = pybedtools.BedTool(clipper_bedtool)\n",
    "bed_dicts = CLIP_analysis.assign_to_regions(\n",
    "    clipper_bedtool, 'test_cluster', data_dir=data_dir, assigned_dir=assigned_dir, nrand=1\n",
    ")"
   ]
  }
 ],
 "metadata": {
  "kernelspec": {
   "display_name": "Python 2",
   "language": "python",
   "name": "python2"
  },
  "language_info": {
   "codemirror_mode": {
    "name": "ipython",
    "version": 2
   },
   "file_extension": ".py",
   "mimetype": "text/x-python",
   "name": "python",
   "nbconvert_exporter": "python",
   "pygments_lexer": "ipython2",
   "version": "2.7.13"
  }
 },
 "nbformat": 4,
 "nbformat_minor": 2
}
