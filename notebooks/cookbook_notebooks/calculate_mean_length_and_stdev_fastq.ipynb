{
 "cells": [
  {
   "cell_type": "markdown",
   "metadata": {},
   "source": [
    "# Notebook for calculating the mean and std deviation of fastq reads (useful for RSEM)"
   ]
  },
  {
   "cell_type": "code",
   "execution_count": 1,
   "metadata": {},
   "outputs": [],
   "source": [
    "import os\n",
    "import glob\n",
    "import sys\n",
    "import numpy as np\n",
    "import statistics\n",
    "from Bio import SeqIO\n",
    "from tqdm import tnrange, tqdm_notebook"
   ]
  },
  {
   "cell_type": "code",
   "execution_count": 2,
   "metadata": {},
   "outputs": [],
   "source": [
    "input_dir = '/projects/ps-yeolab3/bay001/for_jackie/scratch/m6a/inputs/'\n",
    "output_dir = '/projects/ps-yeolab3/bay001/for_jackie/scratch/m6a/outputs/'"
   ]
  },
  {
   "cell_type": "code",
   "execution_count": 3,
   "metadata": {},
   "outputs": [
    {
     "data": {
      "text/plain": [
       "['/projects/ps-yeolab3/bay001/for_jackie/scratch/m6a/inputs/JE_Input_MCF7_2_S16_L006_R1_001.polyATrim.adapterTrim.fastq',\n",
       " '/projects/ps-yeolab3/bay001/for_jackie/scratch/m6a/inputs/JE_Input_LM2_2_S6_L005_R1_001.polyATrim.adapterTrim.fastq',\n",
       " '/projects/ps-yeolab3/bay001/for_jackie/scratch/m6a/inputs/JE_Input_Mera9_Tam_2_S4_L005_R1_001.polyATrim.adapterTrim.fastq',\n",
       " '/projects/ps-yeolab3/bay001/for_jackie/scratch/m6a/inputs/JE_IP_Mera9_1_S7_L005_R1_001.polyATrim.adapterTrim.fastq',\n",
       " '/projects/ps-yeolab3/bay001/for_jackie/scratch/m6a/inputs/JE_IP_LM2_2_S12_L005_R1_001.polyATrim.adapterTrim.fastq',\n",
       " '/projects/ps-yeolab3/bay001/for_jackie/scratch/m6a/inputs/JE_Input_Mera9_2_S2_L005_R1_001.polyATrim.adapterTrim.fastq',\n",
       " '/projects/ps-yeolab3/bay001/for_jackie/scratch/m6a/inputs/JE_IP_Mera9_Tam_1_S9_L005_R1_001.polyATrim.adapterTrim.fastq',\n",
       " '/projects/ps-yeolab3/bay001/for_jackie/scratch/m6a/inputs/JE_IP_MDA_1_S19_L006_R1_001.polyATrim.adapterTrim.fastq',\n",
       " '/projects/ps-yeolab3/bay001/for_jackie/scratch/m6a/inputs/JE_IP_Mera9_2_S8_L005_R1_001.polyATrim.adapterTrim.fastq',\n",
       " '/projects/ps-yeolab3/bay001/for_jackie/scratch/m6a/inputs/JE_IP_MCF7_1_S21_L006_R1_001.polyATrim.adapterTrim.fastq']"
      ]
     },
     "execution_count": 3,
     "metadata": {},
     "output_type": "execute_result"
    }
   ],
   "source": [
    "all_fastq = glob.glob(os.path.join(input_dir, '*.fastq'))\n",
    "all_fastq"
   ]
  },
  {
   "cell_type": "code",
   "execution_count": 5,
   "metadata": {},
   "outputs": [
    {
     "name": "stderr",
     "output_type": "stream",
     "text": [
      "/home/bay001/anaconda2/envs/python3-essential/lib/python3.6/site-packages/ipykernel_launcher.py:1: DeprecationWarning: 'U' mode is deprecated\n",
      "  \"\"\"Entry point for launching an IPython kernel.\n"
     ]
    },
    {
     "name": "stdout",
     "output_type": "stream",
     "text": [
      ". . . . . . . . . . . . . . . . . . . . . . . . . . . . . . . . . . . . . . . . . . . . . . . . . . . . . . . . . . . . . . . . . . . . . . . . . . . . . . . . . . . . . . . . . . . . . . . . . . . . . . . . . . . . . . . . . . . . . . . . . . . . . . . . . . . . . . . . . . . . . . . . . . . . . . . . . . . . . . . . . . . . . . . . . . . . . . . . . . . . . . . . . . . . . . . . . . . . . . . . . . . . . . . . . . . . . . . . . . . . . . . . . . . . . . . . . . . . . . . . . . . . . . . . . . . . . . . . . . . . . . . . . . . . . . . . . . . . . . . . . . . . . . . . . . . . . . . . . . . . . . . . . . . . . . . . "
     ]
    }
   ],
   "source": [
    "handle = open(all_fastq[0], \"rU\")\n",
    "all_lengths = []\n",
    "count = 0\n",
    "for record in SeqIO.parse(handle, \"fastq\"):\n",
    "    all_lengths.append(len(record.seq))\n",
    "    if count % 100000 == 0:\n",
    "        print('.', end=' ')\n",
    "    count += 1\n",
    "    "
   ]
  },
  {
   "cell_type": "code",
   "execution_count": 6,
   "metadata": {},
   "outputs": [
    {
     "data": {
      "text/plain": [
       "2.9677127763330438"
      ]
     },
     "execution_count": 6,
     "metadata": {},
     "output_type": "execute_result"
    }
   ],
   "source": [
    "np.std(all_lengths)"
   ]
  },
  {
   "cell_type": "code",
   "execution_count": 7,
   "metadata": {},
   "outputs": [
    {
     "data": {
      "text/plain": [
       "74.56929556645095"
      ]
     },
     "execution_count": 7,
     "metadata": {},
     "output_type": "execute_result"
    }
   ],
   "source": [
    "np.mean(all_lengths)"
   ]
  },
  {
   "cell_type": "code",
   "execution_count": null,
   "metadata": {},
   "outputs": [],
   "source": []
  }
 ],
 "metadata": {
  "kernelspec": {
   "display_name": "python3-essential",
   "language": "python",
   "name": "python3-essential"
  },
  "language_info": {
   "codemirror_mode": {
    "name": "ipython",
    "version": 3
   },
   "file_extension": ".py",
   "mimetype": "text/x-python",
   "name": "python",
   "nbconvert_exporter": "python",
   "pygments_lexer": "ipython3",
   "version": "3.6.7"
  }
 },
 "nbformat": 4,
 "nbformat_minor": 2
}
