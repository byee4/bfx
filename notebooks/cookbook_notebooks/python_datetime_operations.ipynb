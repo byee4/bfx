{
 "cells": [
  {
   "cell_type": "markdown",
   "metadata": {},
   "source": [
    "# Cheatsheet and reference for python datetime and how to format date to strings.\n",
    "- see http://strftime.org/ for a complete list of formatting codes."
   ]
  },
  {
   "cell_type": "code",
   "execution_count": 1,
   "metadata": {},
   "outputs": [],
   "source": [
    "import os\n",
    "import datetime"
   ]
  },
  {
   "cell_type": "code",
   "execution_count": 2,
   "metadata": {},
   "outputs": [
    {
     "name": "stdout",
     "output_type": "stream",
     "text": [
      "1: test-2018-05-02 10:18:58.txt\n",
      "2: May 02, 2018\n"
     ]
    }
   ],
   "source": [
    "# basic example\n",
    "print('1: test-{date:%Y-%m-%d %H:%M:%S}.txt'.format( date=datetime.datetime.now()))\n",
    "d = datetime.datetime.now()\n",
    "print('2: {:%B %d, %Y}'.format(d))"
   ]
  },
  {
   "cell_type": "code",
   "execution_count": 3,
   "metadata": {},
   "outputs": [
    {
     "data": {
      "text/plain": [
       "'myfile_20180502T101858.txt'"
      ]
     },
     "execution_count": 3,
     "metadata": {},
     "output_type": "execute_result"
    }
   ],
   "source": [
    "# function that adds datetime to filename:\n",
    "def append_datetime_now(fn):\n",
    "    \"\"\"\n",
    "    Appends the date and time, to the second, to a filename.\n",
    "\n",
    "    :param fn: basestring\n",
    "        file name.\n",
    "    :return fn.datetime:\n",
    "    \"\"\"\n",
    "    f, ext = os.path.splitext(fn)\n",
    "    return '{}_{:%Y%m%dT%H%M%S%z}{}'.format(\n",
    "        f, datetime.datetime.now(), ext\n",
    "    )\n",
    "    \n",
    "append_datetime_now('myfile.txt')"
   ]
  },
  {
   "cell_type": "markdown",
   "metadata": {},
   "source": [
    "# Example bash script that copies a file from somewhere on TSCC and saves the date/time into an \"ACCESS_DATE.txt\" file:"
   ]
  },
  {
   "cell_type": "raw",
   "metadata": {},
   "source": [
    "#!/bin/bash\n",
    "\n",
    "DIR=/home/elvannostrand/scratch/ENCODE_20170429_newannotations_FINAL/\n",
    "\n",
    "cp ${DIR}/204*.parsed ./;\n",
    "\n",
    "echo $(date +%x,%r) > ACCESS_DATE.txt"
   ]
  },
  {
   "cell_type": "code",
   "execution_count": null,
   "metadata": {},
   "outputs": [],
   "source": []
  }
 ],
 "metadata": {
  "kernelspec": {
   "display_name": "Python 2",
   "language": "python",
   "name": "python2"
  },
  "language_info": {
   "codemirror_mode": {
    "name": "ipython",
    "version": 2
   },
   "file_extension": ".py",
   "mimetype": "text/x-python",
   "name": "python",
   "nbconvert_exporter": "python",
   "pygments_lexer": "ipython2",
   "version": "2.7.14"
  }
 },
 "nbformat": 4,
 "nbformat_minor": 2
}
