{
 "cells": [
  {
   "cell_type": "code",
   "execution_count": 1,
   "metadata": {},
   "outputs": [],
   "source": [
    "import pysam\n",
    "import os"
   ]
  },
  {
   "cell_type": "code",
   "execution_count": 2,
   "metadata": {},
   "outputs": [],
   "source": [
    "bam = '/projects/ps-yeolab3/bay001/reference_data/204_01_RBFOX2/from_core_pipeline/204_01_RBFOX2.merged.r2.bam'\n",
    "bam = pysam.AlignmentFile(bam, 'rb')"
   ]
  },
  {
   "cell_type": "markdown",
   "metadata": {},
   "source": [
    "# Add a tag (such as RG) to read tags"
   ]
  },
  {
   "cell_type": "code",
   "execution_count": 3,
   "metadata": {},
   "outputs": [
    {
     "name": "stdout",
     "output_type": "stream",
     "text": [
      "[('NH', 1), ('HI', 1), ('AS', 80), ('nM', 0), ('NM', 0), ('MD', '43'), ('jM', array('b', [-1])), ('jI', array('i', [-1])), ('RG', 'foo'), ('BY', 'COOLNEWTAG')]\n"
     ]
    }
   ],
   "source": [
    "for read in bam.fetch():\n",
    "    name = read.qname\n",
    "    tags = read.tags\n",
    "    tags += [('BY', 'COOLNEWTAG')]\n",
    "    print(tags)\n",
    "    break"
   ]
  },
  {
   "cell_type": "code",
   "execution_count": null,
   "metadata": {},
   "outputs": [],
   "source": []
  }
 ],
 "metadata": {
  "kernelspec": {
   "display_name": "Python 2",
   "language": "python",
   "name": "python2"
  },
  "language_info": {
   "codemirror_mode": {
    "name": "ipython",
    "version": 2
   },
   "file_extension": ".py",
   "mimetype": "text/x-python",
   "name": "python",
   "nbconvert_exporter": "python",
   "pygments_lexer": "ipython2",
   "version": "2.7.14"
  }
 },
 "nbformat": 4,
 "nbformat_minor": 2
}
