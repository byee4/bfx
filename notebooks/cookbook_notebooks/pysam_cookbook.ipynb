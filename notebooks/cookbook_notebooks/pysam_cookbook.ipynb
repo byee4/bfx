{
 "cells": [
  {
   "cell_type": "code",
   "execution_count": 1,
   "metadata": {},
   "outputs": [],
   "source": [
    "import pysam\n",
    "import os\n",
    "\n",
    "from collections import Counter\n",
    "from tqdm import tnrange, tqdm_notebook"
   ]
  },
  {
   "cell_type": "code",
   "execution_count": 2,
   "metadata": {},
   "outputs": [],
   "source": [
    "fn = '/projects/ps-yeolab3/bay001/reference_data/204_01_RBFOX2/from_core_pipeline/204_01_RBFOX2.merged.r2.bam'"
   ]
  },
  {
   "cell_type": "markdown",
   "metadata": {},
   "source": [
    "# Add a tag (such as RG) to read tags"
   ]
  },
  {
   "cell_type": "code",
   "execution_count": 3,
   "metadata": {},
   "outputs": [
    {
     "name": "stdout",
     "output_type": "stream",
     "text": [
      "[('NH', 1), ('HI', 1), ('AS', 80), ('nM', 0), ('NM', 0), ('MD', '43'), ('jM', array('b', [-1])), ('jI', array('i', [-1])), ('RG', 'foo'), ('BY', 'COOLNEWTAG')]\n"
     ]
    }
   ],
   "source": [
    "bam = pysam.AlignmentFile(fn, 'rb')\n",
    "\n",
    "for read in bam.fetch():\n",
    "    name = read.qname\n",
    "    tags = read.tags\n",
    "    tags += [('BY', 'COOLNEWTAG')]\n",
    "    print(tags)\n",
    "    break"
   ]
  },
  {
   "cell_type": "markdown",
   "metadata": {},
   "source": [
    "# Iterate over reads in BAM file"
   ]
  },
  {
   "cell_type": "code",
   "execution_count": 4,
   "metadata": {},
   "outputs": [],
   "source": [
    "def get_cell_barcode_counts(bamfile):\n",
    "    '''\n",
    "    Generates a dictionary of counts for each barcode observed in the XC tag\n",
    "    :param bamfile: bamfile output from dropseqtools (star_gene_exon_tagged)\n",
    "    :return: Dictionary of counts for each barcode detected\n",
    "    '''\n",
    "    final_bam = pysam.AlignmentFile(bamfile, \"rb\")\n",
    "    cell_barcode_counts = Counter()\n",
    "\n",
    "    for read in final_bam.fetch():\n",
    "        barcode = dict(read.tags)['MD']\n",
    "        cell_barcode_counts[barcode] +=1\n",
    "\n",
    "    return cell_barcode_counts"
   ]
  },
  {
   "cell_type": "code",
   "execution_count": 7,
   "metadata": {},
   "outputs": [
    {
     "data": {
      "text/plain": [
       "'%%timeit \\ncounts = get_cell_barcode_counts1(fn)'"
      ]
     },
     "execution_count": 7,
     "metadata": {},
     "output_type": "execute_result"
    }
   ],
   "source": [
    "\"\"\"%%timeit \n",
    "counts = get_cell_barcode_counts1(fn)\"\"\""
   ]
  },
  {
   "cell_type": "code",
   "execution_count": 8,
   "metadata": {},
   "outputs": [],
   "source": [
    "import concurrent.futures\n",
    "import math"
   ]
  },
  {
   "cell_type": "code",
   "execution_count": 9,
   "metadata": {},
   "outputs": [],
   "source": [
    "def get_cell_barcode_counts((bamfile, chrom)):\n",
    "    '''\n",
    "    Generates a dictionary of counts for each barcode observed in the XC tag\n",
    "    :param bamfile: bamfile output from dropseqtools (star_gene_exon_tagged)\n",
    "    :return: Dictionary of counts for each barcode detected\n",
    "    '''\n",
    "    final_bam = pysam.AlignmentFile(bamfile, \"rb\")\n",
    "    cell_barcode_counts = Counter()\n",
    "\n",
    "    for read in final_bam.fetch(chrom):\n",
    "        barcode = dict(read.tags)['XC']\n",
    "        cell_barcode_counts[barcode] +=1\n",
    "\n",
    "    return cell_barcode_counts\n",
    "\n",
    "\n",
    "\n",
    "def get_cell_barcode_counts_mt():\n",
    "    fn = '/home/bay001/projects/codebase/metadata/results_dir/macosko_SRR1853178_4980a38b35412fe9a7e92226b5552768f5a9eb9b/results/SRX907219_sample_01.tagged1-12.tagged13-20.filtered.trimmed_smart.polyA_filtered.STARAligned.out.namesorted.merged.TaggedGeneExon.cleaned.bam'\n",
    "\n",
    "    chroms = []\n",
    "    for chrom in range(1, 20):\n",
    "        chr_chrom = \"{}\".format(chrom)\n",
    "        chroms.append(chr_chrom)\n",
    "    \n",
    "    dicts = []\n",
    "    args = ((fn, c) for c in chroms)\n",
    "    with concurrent.futures.ProcessPoolExecutor() as executor:\n",
    "        for d in executor.map(get_cell_barcode_counts, args):\n",
    "            dicts.append(d)\n",
    "    return dicts\n",
    "\n"
   ]
  },
  {
   "cell_type": "code",
   "execution_count": 10,
   "metadata": {},
   "outputs": [
    {
     "name": "stdout",
     "output_type": "stream",
     "text": [
      "1 loop, best of 3: 3min 1s per loop\n"
     ]
    }
   ],
   "source": [
    "%%timeit\n",
    "\n",
    "d = get_cell_barcode_counts_mt()"
   ]
  },
  {
   "cell_type": "code",
   "execution_count": 12,
   "metadata": {},
   "outputs": [
    {
     "ename": "AttributeError",
     "evalue": "'list' object has no attribute 'keys'",
     "output_type": "error",
     "traceback": [
      "\u001b[0;31m---------------------------------------------------------------------------\u001b[0m",
      "\u001b[0;31mAttributeError\u001b[0m                            Traceback (most recent call last)",
      "\u001b[0;32m<ipython-input-12-395d9c2afd63>\u001b[0m in \u001b[0;36m<module>\u001b[0;34m()\u001b[0m\n\u001b[1;32m      1\u001b[0m \u001b[0md\u001b[0m \u001b[0;34m=\u001b[0m \u001b[0mget_cell_barcode_counts_mt\u001b[0m\u001b[0;34m(\u001b[0m\u001b[0;34m)\u001b[0m\u001b[0;34m\u001b[0m\u001b[0m\n\u001b[0;32m----> 2\u001b[0;31m \u001b[0mlen\u001b[0m\u001b[0;34m(\u001b[0m\u001b[0md\u001b[0m\u001b[0;34m.\u001b[0m\u001b[0mkeys\u001b[0m\u001b[0;34m(\u001b[0m\u001b[0;34m)\u001b[0m\u001b[0;34m)\u001b[0m\u001b[0;34m\u001b[0m\u001b[0m\n\u001b[0m",
      "\u001b[0;31mAttributeError\u001b[0m: 'list' object has no attribute 'keys'"
     ]
    }
   ],
   "source": [
    "d = get_cell_barcode_counts_mt()\n",
    "len(d.keys())"
   ]
  },
  {
   "cell_type": "code",
   "execution_count": null,
   "metadata": {},
   "outputs": [],
   "source": []
  }
 ],
 "metadata": {
  "kernelspec": {
   "display_name": "brian",
   "language": "python",
   "name": "brian"
  },
  "language_info": {
   "codemirror_mode": {
    "name": "ipython",
    "version": 2
   },
   "file_extension": ".py",
   "mimetype": "text/x-python",
   "name": "python",
   "nbconvert_exporter": "python",
   "pygments_lexer": "ipython2",
   "version": "2.7.11"
  }
 },
 "nbformat": 4,
 "nbformat_minor": 2
}
