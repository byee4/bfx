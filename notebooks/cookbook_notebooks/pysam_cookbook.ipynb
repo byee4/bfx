{
 "cells": [
  {
   "cell_type": "code",
   "execution_count": 1,
   "metadata": {},
   "outputs": [],
   "source": [
    "import pysam\n",
    "import os\n",
    "\n",
    "from collections import Counter\n",
    "from tqdm import tnrange, tqdm_notebook"
   ]
  },
  {
   "cell_type": "code",
   "execution_count": 5,
   "metadata": {},
   "outputs": [],
   "source": [
    "fn = '/projects/ps-yeolab5/encode/analysis/encode_master/204_01_RBFOX2.merged.r2.bam'"
   ]
  },
  {
   "cell_type": "markdown",
   "metadata": {},
   "source": [
    "# Get reads mapped to a region"
   ]
  },
  {
   "cell_type": "code",
   "execution_count": 6,
   "metadata": {},
   "outputs": [
    {
     "name": "stdout",
     "output_type": "stream",
     "text": [
      "AATAT:SN1001:449:HGTN3ADXX:2:2106:9338:2103\t147\t0\t10000029\t255\t43M\t0\t10000026\t43\tAGCTGGGCATGGTGGTGTGTGCTTGTAGTCCCAGCTACTTGGC\tarray('B', [40, 40, 40, 37, 40, 40, 40, 40, 40, 40, 40, 40, 40, 37, 37, 37, 37, 40, 40, 37, 37, 40, 40, 40, 40, 40, 40, 40, 37, 37, 37, 37, 37, 40, 40, 37, 37, 37, 37, 37, 37, 37, 37])\t[('NH', 1), ('HI', 1), ('AS', 79), ('nM', 1), ('NM', 0), ('MD', '43'), ('jM', array('b', [-1])), ('jI', array('i', [-1])), ('RG', 'foo')]\n",
      "CTGAA:SN1001:449:HGTN3ADXX:1:1107:7039:81143\t147\t0\t10002791\t255\t43M\t0\t10002786\t43\tATCAGGACTACAAAAGGCTCAAAGTTCAAACCACCTCGGGGTG\tarray('B', [40, 40, 37, 40, 40, 37, 40, 40, 37, 37, 40, 40, 40, 40, 40, 40, 40, 40, 40, 40, 40, 40, 40, 37, 37, 37, 40, 37, 40, 37, 37, 37, 33, 40, 37, 37, 37, 37, 37, 37, 37, 37, 37])\t[('NH', 1), ('HI', 1), ('AS', 81), ('nM', 0), ('NM', 0), ('MD', '43'), ('jM', array('b', [-1])), ('jI', array('i', [-1])), ('RG', 'foo')]\n",
      "CGACC:SN1001:449:HGTN3ADXX:1:1105:11551:78917\t147\t0\t10002941\t255\t42M\t0\t10002916\t42\tGGGCGGGGGCACTTTCCCCCTCGACTGCGCCTACCGCAGCCT\tarray('B', [37, 37, 33, 37, 37, 37, 37, 37, 37, 37, 37, 37, 37, 37, 40, 40, 40, 40, 40, 40, 40, 40, 40, 40, 40, 40, 40, 40, 40, 40, 40, 40, 40, 40, 37, 37, 37, 37, 37, 37, 37, 37])\t[('NH', 1), ('HI', 1), ('AS', 79), ('nM', 0), ('NM', 0), ('MD', '42'), ('jM', array('b', [-1])), ('jI', array('i', [-1])), ('RG', 'foo')]\n",
      "ACCTA:SN1001:449:HGTN3ADXX:2:1114:11688:97989\t163\t0\t10003259\t255\t43M\t0\t10006396\t43\tAGAGGTAGCCGTAAACCCATGGTCCCCGAAACTCCTTCCGGGC\tarray('B', [37, 37, 37, 37, 37, 37, 37, 37, 40, 40, 40, 40, 40, 40, 40, 40, 40, 40, 40, 40, 40, 40, 40, 40, 40, 40, 40, 40, 40, 40, 40, 40, 40, 40, 40, 40, 40, 40, 40, 40, 37, 37, 40])\t[('NH', 1), ('HI', 1), ('AS', 79), ('nM', 0), ('NM', 0), ('MD', '43'), ('jM', array('b', [-1])), ('jI', array('i', [-1])), ('RG', 'foo')]\n"
     ]
    }
   ],
   "source": [
    "bam = pysam.AlignmentFile(fn, 'rb')\n",
    "for read in bam.fetch('chr1', 10000000, 10005000):\n",
    "    print(read)"
   ]
  },
  {
   "cell_type": "markdown",
   "metadata": {},
   "source": [
    "# Add a tag (such as RG) to read tags"
   ]
  },
  {
   "cell_type": "code",
   "execution_count": 7,
   "metadata": {},
   "outputs": [
    {
     "name": "stdout",
     "output_type": "stream",
     "text": [
      "[('NH', 1), ('HI', 1), ('AS', 80), ('nM', 0), ('NM', 0), ('MD', '43'), ('jM', array('b', [-1])), ('jI', array('i', [-1])), ('RG', 'foo'), ('BY', 'COOLNEWTAG')]\n"
     ]
    }
   ],
   "source": [
    "bam = pysam.AlignmentFile(fn, 'rb')\n",
    "\n",
    "for read in bam.fetch():\n",
    "    name = read.qname\n",
    "    tags = read.tags\n",
    "    tags += [('BY', 'COOLNEWTAG')]\n",
    "    print(tags)\n",
    "    break"
   ]
  },
  {
   "cell_type": "markdown",
   "metadata": {},
   "source": [
    "# Grab cell barcode counts from dropseqtools-processed BAM file\n",
    "- These BAM files embed cell barcodes inside the 'XC' tag"
   ]
  },
  {
   "cell_type": "code",
   "execution_count": 11,
   "metadata": {},
   "outputs": [],
   "source": [
    "fn = '/projects/ps-yeolab3/bay001/class_resources/permanent_data/dropseq_tutorial/star_gene_exon_tagged.bam'"
   ]
  },
  {
   "cell_type": "code",
   "execution_count": 14,
   "metadata": {},
   "outputs": [],
   "source": [
    "def get_cell_barcode_counts(bamfile):\n",
    "    '''\n",
    "    Generates a dictionary of counts for each barcode observed in the XC tag\n",
    "    :param bamfile: bamfile output from dropseqtools (star_gene_exon_tagged)\n",
    "    :return: Dictionary of counts for each barcode detected\n",
    "    '''\n",
    "    final_bam = pysam.AlignmentFile(bamfile, \"rb\")\n",
    "    cell_barcode_counts = Counter()\n",
    "\n",
    "    for read in final_bam.fetch():\n",
    "        barcode = dict(read.tags)['XC']\n",
    "        cell_barcode_counts[barcode] +=1\n",
    "\n",
    "    return cell_barcode_counts\n",
    "\n",
    "a = get_cell_barcode_counts(fn)"
   ]
  },
  {
   "cell_type": "code",
   "execution_count": 15,
   "metadata": {},
   "outputs": [
    {
     "name": "stdout",
     "output_type": "stream",
     "text": [
      "1 loop, best of 3: 14 s per loop\n"
     ]
    }
   ],
   "source": [
    "%%timeit \n",
    "# profile the amount of time it takes to iterate over all reads\n",
    "counts = get_cell_barcode_counts(fn)"
   ]
  },
  {
   "cell_type": "markdown",
   "metadata": {},
   "source": [
    "# Grab cell barcode counts from dropseqtools-processed BAM file (multithreaded)\n",
    "- These BAM files embed cell barcodes inside the 'XC' tag"
   ]
  },
  {
   "cell_type": "code",
   "execution_count": 16,
   "metadata": {},
   "outputs": [],
   "source": [
    "import concurrent.futures\n",
    "import math"
   ]
  },
  {
   "cell_type": "code",
   "execution_count": 17,
   "metadata": {},
   "outputs": [],
   "source": [
    "def get_cell_barcode_counts((bamfile, chrom)):\n",
    "    '''\n",
    "    Generates a dictionary of counts for each barcode observed in the XC tag\n",
    "    :param bamfile: bamfile output from dropseqtools (star_gene_exon_tagged)\n",
    "    :return: Dictionary of counts for each barcode detected\n",
    "    '''\n",
    "    final_bam = pysam.AlignmentFile(bamfile, \"rb\")\n",
    "    cell_barcode_counts = Counter()\n",
    "\n",
    "    for read in final_bam.fetch(chrom):\n",
    "        barcode = dict(read.tags)['XC']\n",
    "        cell_barcode_counts[barcode] +=1\n",
    "\n",
    "    return cell_barcode_counts\n",
    "\n",
    "\n",
    "\n",
    "def get_cell_barcode_counts_mt(fn):\n",
    "    chroms = []\n",
    "    for chrom in range(1, 20):\n",
    "        chr_chrom = \"{}\".format(chrom)\n",
    "        chroms.append(chr_chrom)\n",
    "    \n",
    "    dicts = []\n",
    "    args = ((fn, c) for c in chroms)\n",
    "    with concurrent.futures.ProcessPoolExecutor() as executor:\n",
    "        for d in executor.map(get_cell_barcode_counts, args):\n",
    "            dicts.append(d)\n",
    "    return dicts\n",
    "\n",
    "b = get_cell_barcode_counts_mt(fn)"
   ]
  },
  {
   "cell_type": "code",
   "execution_count": 18,
   "metadata": {},
   "outputs": [
    {
     "name": "stdout",
     "output_type": "stream",
     "text": [
      "1 loop, best of 3: 2.52 s per loop\n"
     ]
    }
   ],
   "source": [
    "%%timeit\n",
    "d = get_cell_barcode_counts_mt(fn)"
   ]
  },
  {
   "cell_type": "code",
   "execution_count": 11,
   "metadata": {},
   "outputs": [
    {
     "ename": "AttributeError",
     "evalue": "'list' object has no attribute 'keys'",
     "output_type": "error",
     "traceback": [
      "\u001b[0;31m---------------------------------------------------------------------------\u001b[0m",
      "\u001b[0;31mAttributeError\u001b[0m                            Traceback (most recent call last)",
      "\u001b[0;32m<ipython-input-11-9924f4489308>\u001b[0m in \u001b[0;36m<module>\u001b[0;34m()\u001b[0m\n\u001b[0;32m----> 1\u001b[0;31m \u001b[0;32mprint\u001b[0m\u001b[0;34m(\u001b[0m\u001b[0mlen\u001b[0m\u001b[0;34m(\u001b[0m\u001b[0ma\u001b[0m\u001b[0;34m.\u001b[0m\u001b[0mkeys\u001b[0m\u001b[0;34m(\u001b[0m\u001b[0;34m)\u001b[0m\u001b[0;34m)\u001b[0m\u001b[0;34m,\u001b[0m \u001b[0mlen\u001b[0m\u001b[0;34m(\u001b[0m\u001b[0mb\u001b[0m\u001b[0;34m.\u001b[0m\u001b[0mkeys\u001b[0m\u001b[0;34m(\u001b[0m\u001b[0;34m)\u001b[0m\u001b[0;34m)\u001b[0m\u001b[0;34m)\u001b[0m\u001b[0;34m\u001b[0m\u001b[0m\n\u001b[0m",
      "\u001b[0;31mAttributeError\u001b[0m: 'list' object has no attribute 'keys'"
     ]
    }
   ],
   "source": [
    "print(len(a.keys()), len(b.keys()))"
   ]
  }
 ],
 "metadata": {
  "kernelspec": {
   "display_name": "brian",
   "language": "python",
   "name": "brian"
  },
  "language_info": {
   "codemirror_mode": {
    "name": "ipython",
    "version": 2
   },
   "file_extension": ".py",
   "mimetype": "text/x-python",
   "name": "python",
   "nbconvert_exporter": "python",
   "pygments_lexer": "ipython2",
   "version": "2.7.15"
  }
 },
 "nbformat": 4,
 "nbformat_minor": 4
}
