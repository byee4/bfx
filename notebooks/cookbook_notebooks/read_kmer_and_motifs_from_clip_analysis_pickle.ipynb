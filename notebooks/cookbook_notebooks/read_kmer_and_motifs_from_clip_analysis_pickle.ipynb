{
 "cells": [
  {
   "cell_type": "markdown",
   "metadata": {},
   "source": [
    "# Notebook to read from a clip_analysis pickle file\n",
    "- Note: you might need to softlink the 'clip_analysis_legacy' or 'clipper' folders to the directory where this notebook is being run. This is to get around the pickle loading errors you might get:\n",
    "\n",
    "```\n",
    "ln -s /home/bay001/projects/codebase/clip_analysis_legacy/clip_analysis_legacy ./\n",
    "ln -s /projects/ps-yeolab3/bay001/codebase/clipper/clipper ./\n",
    "```"
   ]
  },
  {
   "cell_type": "code",
   "execution_count": 1,
   "metadata": {},
   "outputs": [],
   "source": [
    "%matplotlib inline\n",
    "import matplotlib.pyplot as plt\n",
    "import seaborn as sns\n",
    "import pandas as pd\n",
    "import numpy as np\n",
    "import os\n",
    "import pickle\n",
    "import glob\n",
    "from tqdm import tnrange, tqdm_notebook\n",
    "\n",
    "colors = sns.color_palette(\"hls\", 8)"
   ]
  },
  {
   "cell_type": "markdown",
   "metadata": {},
   "source": [
    "# As an example, try compare IDR peak kmers with rep2 "
   ]
  },
  {
   "cell_type": "code",
   "execution_count": 2,
   "metadata": {},
   "outputs": [],
   "source": [
    "p1 = '/projects/ps-yeolab3/encode/analysis/encode_idr_clip_analysis/204.01v02.IDR.out.0102merged.bed.annotated.clip_formatted.bed.clip_analysis.pickle'\n",
    "p2 = '/projects/ps-yeolab3/encode/analysis/encode_master/204_02_RBFOX2.merged.r2.peaks.bed.clip_analysis.pickle'"
   ]
  },
  {
   "cell_type": "code",
   "execution_count": 3,
   "metadata": {},
   "outputs": [
    {
     "name": "stderr",
     "output_type": "stream",
     "text": [
      "/projects/ps-yeolab4/software/eclipconda/envs/python2essential-0.0.1/lib/python2.7/site-packages/pandas/core/indexes/base.py:162: FutureWarning: the 'labels' keyword is deprecated, use 'codes' instead\n",
      "  return cls.__new__(cls, **d)\n"
     ]
    }
   ],
   "source": [
    "loaded1 = pd.read_pickle(p1)\n",
    "loaded2 = pd.read_pickle(p2)"
   ]
  },
  {
   "cell_type": "code",
   "execution_count": 4,
   "metadata": {},
   "outputs": [
    {
     "data": {
      "text/plain": [
       "['reads_per_cluster',\n",
       " 'kmer_results',\n",
       " 'motif_distances',\n",
       " 'genic_region_sizes',\n",
       " 'reads_out_clusters',\n",
       " 'type_count',\n",
       " 'phast_values',\n",
       " 'distributions',\n",
       " 'cluster_lengths',\n",
       " 'features_transcript_closest',\n",
       " 'reads_in_clusters',\n",
       " 'genomic_type_count',\n",
       " 'region_read_counts',\n",
       " 'regions',\n",
       " 'motifs',\n",
       " 'region_sizes',\n",
       " 'classes',\n",
       " 'data',\n",
       " 'homerout',\n",
       " 'features_mrna_closest']"
      ]
     },
     "execution_count": 4,
     "metadata": {},
     "output_type": "execute_result"
    }
   ],
   "source": [
    "# look at all the info inside the pickle file\n",
    "loaded1.keys()"
   ]
  },
  {
   "cell_type": "code",
   "execution_count": 5,
   "metadata": {},
   "outputs": [
    {
     "data": {
      "text/plain": [
       "['three_prime_utrs',\n",
       " 'all',\n",
       " 'five_prime_utrs',\n",
       " 'distintron500',\n",
       " 'cds',\n",
       " 'proxintron500']"
      ]
     },
     "execution_count": 5,
     "metadata": {},
     "output_type": "execute_result"
    }
   ],
   "source": [
    "# access kmer counts:\n",
    "loaded1['kmer_results'].keys()"
   ]
  },
  {
   "cell_type": "markdown",
   "metadata": {},
   "source": [
    "## plot kmer_enrichment for 'all regions'  \n",
    " "
   ]
  },
  {
   "cell_type": "code",
   "execution_count": 6,
   "metadata": {},
   "outputs": [
    {
     "name": "stdout",
     "output_type": "stream",
     "text": [
      "('TGCATG', 64.32777124076931, 63.397641050940756)\n"
     ]
    },
    {
     "name": "stderr",
     "output_type": "stream",
     "text": [
      "/projects/ps-yeolab4/software/eclipconda/envs/python2essential-0.0.1/lib/python2.7/site-packages/ipykernel_launcher.py:17: DeprecationWarning: \n",
      ".ix is deprecated. Please use\n",
      ".loc for label based indexing or\n",
      ".iloc for positional indexing\n",
      "\n",
      "See the documentation here:\n",
      "http://pandas.pydata.org/pandas-docs/stable/indexing.html#ix-indexer-is-deprecated\n",
      "/projects/ps-yeolab4/software/eclipconda/envs/python2essential-0.0.1/lib/python2.7/site-packages/ipykernel_launcher.py:18: DeprecationWarning: \n",
      ".ix is deprecated. Please use\n",
      ".loc for label based indexing or\n",
      ".iloc for positional indexing\n",
      "\n",
      "See the documentation here:\n",
      "http://pandas.pydata.org/pandas-docs/stable/indexing.html#ix-indexer-is-deprecated\n"
     ]
    },
    {
     "data": {
      "image/png": "[encoded data removed]",
      "text/plain": [
       "<Figure size 432x288 with 1 Axes>"
      ]
     },
     "metadata": {
      "needs_background": "light"
     },
     "output_type": "display_data"
    }
   ],
   "source": [
    "kmer_len = 6\n",
    "moi = ['TGCATG'] # we can highlight specific kmers\n",
    "\n",
    "def plot_zscore_enrichment(loaded1, loaded2, moi=[]):\n",
    "    motif_scores1 = {}\n",
    "    motif_scores2 = {}\n",
    "    for key, value in loaded1['kmer_results']['all'][kmer_len].iteritems():\n",
    "        motif_scores1[key] = value.delta\n",
    "        motif_scores2[key] = loaded2['kmer_results']['all'][kmer_len][key].delta\n",
    "\n",
    "    join1 = pd.DataFrame(motif_scores1,index=['rep1']).T\n",
    "    join2 = pd.DataFrame(motif_scores2,index=['rep2']).T\n",
    "    merged = pd.merge(join1, join2, how='left', left_index=True, right_index=True)\n",
    "    x = plt.scatter(merged['rep1'],merged['rep2'])\n",
    "    \n",
    "    for m in moi:\n",
    "        x = plt.scatter(merged['rep1'].ix[m], merged['rep2'].ix[m], color='red')\n",
    "        print(m, merged['rep1'].ix[m], merged['rep2'].ix[m])\n",
    "        \n",
    "plot_zscore_enrichment(loaded1, loaded2, moi)"
   ]
  },
  {
   "cell_type": "markdown",
   "metadata": {},
   "source": [
    "# PIE chart for plotting 'clusters  content' (region distribution of reads in clusters)"
   ]
  },
  {
   "cell_type": "code",
   "execution_count": 7,
   "metadata": {},
   "outputs": [],
   "source": [
    "p1 = '/projects/ps-yeolab3/encode/analysis/encode_idr_clip_analysis/204.01v02.IDR.out.0102merged.bed.annotated.clip_formatted.bed.clip_analysis.pickle'\n",
    "# loaded1 = pickle.load(open(p1, 'rb'))\n",
    "loaded1 = pd.read_pickle(p1)"
   ]
  },
  {
   "cell_type": "code",
   "execution_count": 8,
   "metadata": {},
   "outputs": [
    {
     "data": {
      "text/plain": [
       "{'all': 403863,\n",
       " 'cds': 13762,\n",
       " 'distintron500': 178322,\n",
       " 'five_prime_utrs': 3839,\n",
       " 'proxintron500': 190146,\n",
       " 'three_prime_utrs': 17815,\n",
       " 'uncatagorized': 118698}"
      ]
     },
     "execution_count": 8,
     "metadata": {},
     "output_type": "execute_result"
    }
   ],
   "source": [
    "loaded1['region_sizes']"
   ]
  },
  {
   "cell_type": "code",
   "execution_count": 9,
   "metadata": {},
   "outputs": [
    {
     "data": {
      "image/png": "[encoded data removed]",
      "text/plain": [
       "<Figure size 432x288 with 1 Axes>"
      ]
     },
     "metadata": {},
     "output_type": "display_data"
    }
   ],
   "source": [
    "labels = 'cds', 'distintron', '5utrs', 'proxintron', '3utrs' # , 'na'\n",
    "sizes = [\n",
    "    loaded1['region_sizes']['cds'], \n",
    "    loaded1['region_sizes']['distintron500'], \n",
    "    loaded1['region_sizes']['five_prime_utrs'], \n",
    "    loaded1['region_sizes']['proxintron500'], \n",
    "    loaded1['region_sizes']['three_prime_utrs'], \n",
    "    # loaded1['region_sizes']['uncatagorized'], # usually remove, hard to explain these peaks or if they're even real\n",
    "]\n",
    "\n",
    "explode = (0, 0.1, 0, 0, 0)  # only \"explode\" the 2nd slice to highlight, useful for pointing out specific regions.\n",
    "\n",
    "fig1, ax1 = plt.subplots()\n",
    "ax1.pie(sizes, explode=explode, labels=labels, autopct='%1.1f%%',\n",
    "        shadow=True, startangle=90)\n",
    "ax1.axis('equal')  # Equal aspect ratio ensures that pie is drawn as a circle.\n",
    "\n",
    "plt.show()\n"
   ]
  },
  {
   "cell_type": "markdown",
   "metadata": {},
   "source": [
    "# If you just want the background"
   ]
  },
  {
   "cell_type": "code",
   "execution_count": 10,
   "metadata": {},
   "outputs": [
    {
     "data": {
      "text/plain": [
       "{'cds': 15679420,\n",
       " 'distintron500': 385321126,\n",
       " 'five_prime_utrs': 1887136,\n",
       " 'proxintron500': 76973159,\n",
       " 'three_prime_utrs': 11841255}"
      ]
     },
     "execution_count": 10,
     "metadata": {},
     "output_type": "execute_result"
    }
   ],
   "source": [
    "loaded1['genic_region_sizes']"
   ]
  },
  {
   "cell_type": "code",
   "execution_count": 11,
   "metadata": {},
   "outputs": [
    {
     "data": {
      "image/png": "[encoded data removed]",
      "text/plain": [
       "<Figure size 432x288 with 1 Axes>"
      ]
     },
     "metadata": {},
     "output_type": "display_data"
    }
   ],
   "source": [
    "sizes = [\n",
    "    loaded1['genic_region_sizes']['cds'], \n",
    "    loaded1['genic_region_sizes']['distintron500'], \n",
    "    loaded1['genic_region_sizes']['five_prime_utrs'], \n",
    "    loaded1['genic_region_sizes']['proxintron500'], \n",
    "    loaded1['genic_region_sizes']['three_prime_utrs'], \n",
    "]\n",
    "\n",
    "fig1, ax1 = plt.subplots()\n",
    "ax1.pie(sizes, labels=labels, autopct='%1.1f%%',\n",
    "        shadow=True, startangle=90)\n",
    "ax1.axis('equal')  # Equal aspect ratio ensures that pie is drawn as a circle.\n",
    "\n",
    "plt.show()\n"
   ]
  },
  {
   "cell_type": "code",
   "execution_count": null,
   "metadata": {},
   "outputs": [],
   "source": []
  }
 ],
 "metadata": {
  "kernelspec": {
   "display_name": "python2essential (tscc)",
   "language": "python",
   "name": "python2essential"
  },
  "language_info": {
   "codemirror_mode": {
    "name": "ipython",
    "version": 2
   },
   "file_extension": ".py",
   "mimetype": "text/x-python",
   "name": "python",
   "nbconvert_exporter": "python",
   "pygments_lexer": "ipython2",
   "version": "2.7.15"
  }
 },
 "nbformat": 4,
 "nbformat_minor": 4
}
