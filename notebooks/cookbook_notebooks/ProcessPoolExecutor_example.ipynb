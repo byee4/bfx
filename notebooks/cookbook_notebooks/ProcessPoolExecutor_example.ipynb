{
 "cells": [
  {
   "cell_type": "code",
   "execution_count": 4,
   "metadata": {},
   "outputs": [
    {
     "name": "stdout",
     "output_type": "stream",
     "text": [
      "112272535095293 is prime: True\n",
      "112582705942171 is prime: True\n",
      "112272535095293 is prime: True\n",
      "115280095190773 is prime: True\n",
      "115797848077099 is prime: True\n",
      "1099726899285419 is prime: False\n"
     ]
    }
   ],
   "source": [
    "import concurrent.futures\n",
    "import math\n",
    "\n",
    "PRIMES = [\n",
    "    112272535095293,\n",
    "    112582705942171,\n",
    "    112272535095293,\n",
    "    115280095190773,\n",
    "    115797848077099,\n",
    "    1099726899285419]\n",
    "\n",
    "def is_prime(n):\n",
    "    if n % 2 == 0:\n",
    "        return False\n",
    "\n",
    "    sqrt_n = int(math.floor(math.sqrt(n)))\n",
    "    for i in range(3, sqrt_n + 1, 2):\n",
    "        if n % i == 0:\n",
    "            return False\n",
    "    return True\n",
    "\n",
    "def main():\n",
    "    with concurrent.futures.ProcessPoolExecutor() as executor:\n",
    "        for number, prime in zip(PRIMES, executor.map(is_prime, PRIMES)):\n",
    "            print('%d is prime: %s' % (number, prime))\n",
    "\n",
    "if __name__ == '__main__':\n",
    "    main()"
   ]
  },
  {
   "cell_type": "code",
   "execution_count": null,
   "metadata": {},
   "outputs": [],
   "source": [
    "class Annotator():\n",
    "    \"\"\"\n",
    "    Some object\n",
    "    \"\"\"\n",
    "    def __init__(self, name, species, db_file):\n",
    "        self.name = name\n",
    "        self.species = species\n",
    "        self.featuredictionary = self.create_dictionary(species)\n",
    "        \n",
    "    def create_dictionary(self):\n",
    "        ...self.species\n",
    "        \n",
    "    def label(self, st):\n",
    "        return '{}-{}.{}'.format(self.name, self.species, st)\n",
    "    \n",
    "def process(line, annotator):\n",
    "    pass\n",
    "\n",
    "def main():\n",
    "    obj_list = []\n",
    "    labels = ['one','two','three','four','five','six','seven']\n",
    "    annotator = Annotator('my_annotator','hg19')\n",
    "    with concurrent.futures.ProcessPoolExecutor() as executor:\n",
    "        for result in executor.map(annotator.label, labels):\n",
    "            obj_list.append(result)\n",
    "    \n",
    "if __name__ == '__main__':\n",
    "    main()"
   ]
  },
  {
   "cell_type": "code",
   "execution_count": 3,
   "metadata": {},
   "outputs": [],
   "source": [
    "import copy_reg\n",
    "import types\n",
    "\n",
    "def _reduce_method(meth):\n",
    "    return (getattr,(meth.__self__,meth.__func__.__name__))\n",
    "copy_reg.pickle(types.MethodType,_reduce_method)"
   ]
  },
  {
   "cell_type": "code",
   "execution_count": null,
   "metadata": {
    "collapsed": true
   },
   "outputs": [],
   "source": []
  }
 ],
 "metadata": {
  "kernelspec": {
   "display_name": "Python 2",
   "language": "python",
   "name": "python2"
  },
  "language_info": {
   "codemirror_mode": {
    "name": "ipython",
    "version": 2
   },
   "file_extension": ".py",
   "mimetype": "text/x-python",
   "name": "python",
   "nbconvert_exporter": "python",
   "pygments_lexer": "ipython2",
   "version": "2.7.13"
  }
 },
 "nbformat": 4,
 "nbformat_minor": 2
}
