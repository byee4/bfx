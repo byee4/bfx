{
 "cells": [
  {
   "cell_type": "markdown",
   "metadata": {},
   "source": [
    "# Collection of examples for annotation using the GTF database and gffutils"
   ]
  },
  {
   "cell_type": "code",
   "execution_count": 1,
   "metadata": {
    "collapsed": true
   },
   "outputs": [],
   "source": [
    "import pandas as pd\n",
    "import gffutils\n",
    "import os\n",
    "from collections import defaultdict"
   ]
  },
  {
   "cell_type": "code",
   "execution_count": 2,
   "metadata": {
    "collapsed": false
   },
   "outputs": [],
   "source": [
    "db_file = '/projects/ps-yeolab/genomes/hg19/gencode_v19/gencode.v19.annotation.gtf.db'\n",
    "DATABASE = gffutils.FeatureDB(db_file)"
   ]
  },
  {
   "cell_type": "code",
   "execution_count": 3,
   "metadata": {
    "collapsed": false
   },
   "outputs": [
    {
     "data": {
      "text/plain": [
       "'RBFOX2'"
      ]
     },
     "execution_count": 3,
     "metadata": {},
     "output_type": "execute_result"
    }
   ],
   "source": [
    "def gene_id_to_name(db):\n",
    "    '''\n",
    "    Returns a dictionary containing a gene_id:name translation\n",
    "    Note: may be different if the 'gene_id' or 'gene_name' \n",
    "    keys are not in the source GTF file\n",
    "    (taken from gscripts.region_helpers)\n",
    "    '''\n",
    "    genes = db.features_of_type('gene')\n",
    "    gene_name_dict = {}\n",
    "    for gene in genes:\n",
    "        gene_id = gene.attributes['gene_id'][0] if type(gene.attributes['gene_id']) == list else gene.attributes['gene_id']\n",
    "        try:\n",
    "            gene_name_dict[gene_id] = gene.attributes['gene_name'][0]\n",
    "        except KeyError:\n",
    "            print(gene.attributes.keys())\n",
    "            print(\"Warning. Key not found for {}\".format(gene))\n",
    "            return 1\n",
    "    return gene_name_dict\n",
    "\n",
    "gene_id_to_name_dictionary = gene_id_to_name(DATABASE)\n",
    "gene_id_to_name_dictionary['ENSG00000100320.18']"
   ]
  },
  {
   "cell_type": "code",
   "execution_count": 4,
   "metadata": {
    "collapsed": false
   },
   "outputs": [
    {
     "data": {
      "text/plain": [
       "['ENSG00000100320.18']"
      ]
     },
     "execution_count": 4,
     "metadata": {},
     "output_type": "execute_result"
    }
   ],
   "source": [
    "def gene_name_to_id(db):\n",
    "    '''\n",
    "    given a gene name, returns a list of associated Gene IDs (one-to-many)\n",
    "    '''\n",
    "    genes = db.features_of_type('gene')\n",
    "    gene_name_dict = defaultdict(list)\n",
    "    for gene in genes:\n",
    "        try:\n",
    "            gene_name_dict[gene.attributes['gene_name'][0]].append(gene.attributes['gene_id'][0])\n",
    "        except KeyError as e:\n",
    "            print(\"Warning. Key not found for {}\".format(gene))\n",
    "            return 1\n",
    "    return gene_name_dict\n",
    "\n",
    "gene_name_to_id_dictionary = gene_name_to_id(DATABASE)\n",
    "gene_name_to_id_dictionary['RBFOX2']"
   ]
  },
  {
   "cell_type": "code",
   "execution_count": 5,
   "metadata": {
    "collapsed": false
   },
   "outputs": [
    {
     "data": {
      "text/plain": [
       "['ENST00000405409.2',\n",
       " 'ENST00000414461.2',\n",
       " 'ENST00000449924.2',\n",
       " 'ENST00000262829.7',\n",
       " 'ENST00000397303.2',\n",
       " 'ENST00000359369.4',\n",
       " 'ENST00000463509.1',\n",
       " 'ENST00000416721.2',\n",
       " 'ENST00000495377.2',\n",
       " 'ENST00000438146.2',\n",
       " 'ENST00000473487.2',\n",
       " 'ENST00000408983.2',\n",
       " 'ENST00000491982.1',\n",
       " 'ENST00000397305.3']"
      ]
     },
     "execution_count": 5,
     "metadata": {},
     "output_type": "execute_result"
    }
   ],
   "source": [
    "def gene_name_to_transcript(db):\n",
    "    '''\n",
    "    given a gene name, returns a list of associated transcript IDs (one-to-many)\n",
    "    '''\n",
    "    genes = db.features_of_type('transcript')\n",
    "    gene_name_dict = defaultdict(list)\n",
    "    for gene in genes:\n",
    "        try:\n",
    "            gene_name_dict[gene.attributes['gene_name'][0]].append(gene.attributes['transcript_id'][0])\n",
    "        except KeyError as e:\n",
    "            print(\"Warning. Key not found for {}\".format(gene))\n",
    "            return 1\n",
    "    return gene_name_dict\n",
    "\n",
    "gene_name_to_id_dictionary = gene_name_to_transcript(DATABASE)\n",
    "gene_name_to_id_dictionary['RBFOX2']"
   ]
  },
  {
   "cell_type": "code",
   "execution_count": 6,
   "metadata": {
    "collapsed": false
   },
   "outputs": [
    {
     "data": {
      "text/plain": [
       "[<Feature exon (chr22:36156057-36156067[-]) at 0x2ab85e08da10>,\n",
       " <Feature exon (chr22:36157249-36157341[-]) at 0x2ab85e08db90>,\n",
       " <Feature exon (chr22:36157462-36157515[-]) at 0x2ab85e0993d0>,\n",
       " <Feature exon (chr22:36161470-36161530[-]) at 0x2ab85e099650>,\n",
       " <Feature exon (chr22:36164304-36164396[-]) at 0x2ab85e0996d0>,\n",
       " <Feature exon (chr22:36174072-36174125[-]) at 0x2ab85e9a3590>,\n",
       " <Feature exon (chr22:36177647-36177790[-]) at 0x2ab85e9a3910>,\n",
       " <Feature exon (chr22:36205827-36206051[-]) at 0x2ab85e9a3c10>,\n",
       " <Feature exon (chr22:36220367-36220420[-]) at 0x2ab860aa3090>]"
      ]
     },
     "execution_count": 6,
     "metadata": {},
     "output_type": "execute_result"
    }
   ],
   "source": [
    "def id_to_exons(db, identifier):\n",
    "    '''\n",
    "    takes the gene or transcript id and returns exon positions\n",
    "    '''\n",
    "    exons = []\n",
    "    for i in db.children(identifier, featuretype='exon', order_by='start'):\n",
    "        exons.append(i)\n",
    "    return exons\n",
    "\n",
    "id_to_exons(DATABASE,'ENST00000473487.2')"
   ]
  },
  {
   "cell_type": "code",
   "execution_count": 87,
   "metadata": {
    "collapsed": false
   },
   "outputs": [
    {
     "name": "stdout",
     "output_type": "stream",
     "text": [
      "[['GRIN3B'], ['GRIN3B'], ['GRIN3B'], ['GRIN3B']]\n"
     ]
    }
   ],
   "source": [
    "def position_to_features(db, chrom, start, end, strand='', completely_within=True):\n",
    "    '''\n",
    "    takes a coordinate and returns all the features overlapping \n",
    "    (either completely contained or partially overlapping the region).\n",
    "    '''\n",
    "    if strand == '+' or strand == '-':\n",
    "        return list(\n",
    "            db.region(\n",
    "                region=(chrom, start, end), strand=strand, completely_within=completely_within\n",
    "            )\n",
    "        )\n",
    "    else:\n",
    "        return list(\n",
    "            db.region(\n",
    "                region=(chrom, start, end), completely_within=completely_within\n",
    "            )\n",
    "        )\n",
    "# get all features corresponding to the genomic coordinates (True if feature must be entirely contained within region)\n",
    "features = position_to_features(DATABASE,'chr19', 1000000, 1001000, completely_within=True)\n",
    "\n",
    "# print all gene names associated with these features\n",
    "print([f.attributes['gene_name'] for f in features])"
   ]
  },
  {
   "cell_type": "code",
   "execution_count": 88,
   "metadata": {
    "collapsed": false
   },
   "outputs": [
    {
     "name": "stdout",
     "output_type": "stream",
     "text": [
      "['GRIN3B'], 1000418, 1000862, ['protein_coding']\n",
      "['GRIN3B'], 1000437, 1000862, ['protein_coding']\n",
      "['GRIN3B'], 1000437, 1000439, ['protein_coding']\n",
      "['GRIN3B'], 1000418, 1000436, ['protein_coding']\n"
     ]
    }
   ],
   "source": [
    "# Feature objects embed all information as a dictionary\n",
    "# See: http://pythonhosted.org/gffutils/attributes.html\n",
    "\n",
    "for f in features:\n",
    "    print('{}, {}, {}, {}'.format(\n",
    "        f.attributes['gene_name'], # list of associated gene names\n",
    "        f.start, # start of feature\n",
    "        f.end, # end of feature\n",
    "        f.attributes['transcript_type'])) # type of feature"
   ]
  },
  {
   "cell_type": "markdown",
   "metadata": {},
   "source": [
    "# Use some genomic coordinate list to intersect with features\n",
    "- for each region, return a list of features that are completely contained within that region.\n",
    "- returns an empty list for regions that do not contain any features"
   ]
  },
  {
   "cell_type": "code",
   "execution_count": 89,
   "metadata": {
    "collapsed": false
   },
   "outputs": [
    {
     "data": {
      "text/html": [
       "<div>\n",
       "<table border=\"1\" class=\"dataframe\">\n",
       "  <thead>\n",
       "    <tr style=\"text-align: right;\">\n",
       "      <th></th>\n",
       "      <th>chrom</th>\n",
       "      <th>start</th>\n",
       "      <th>end</th>\n",
       "    </tr>\n",
       "  </thead>\n",
       "  <tbody>\n",
       "    <tr>\n",
       "      <th>region1</th>\n",
       "      <td>chr1</td>\n",
       "      <td>10001000</td>\n",
       "      <td>10002000</td>\n",
       "    </tr>\n",
       "    <tr>\n",
       "      <th>region2</th>\n",
       "      <td>chr1</td>\n",
       "      <td>10010000</td>\n",
       "      <td>10011000</td>\n",
       "    </tr>\n",
       "    <tr>\n",
       "      <th>region3</th>\n",
       "      <td>chr1</td>\n",
       "      <td>10200000</td>\n",
       "      <td>10202000</td>\n",
       "    </tr>\n",
       "    <tr>\n",
       "      <th>region4</th>\n",
       "      <td>chr1</td>\n",
       "      <td>13000000</td>\n",
       "      <td>13003000</td>\n",
       "    </tr>\n",
       "    <tr>\n",
       "      <th>region5</th>\n",
       "      <td>chr1</td>\n",
       "      <td>40000000</td>\n",
       "      <td>40004000</td>\n",
       "    </tr>\n",
       "  </tbody>\n",
       "</table>\n",
       "</div>"
      ],
      "text/plain": [
       "        chrom     start       end\n",
       "region1  chr1  10001000  10002000\n",
       "region2  chr1  10010000  10011000\n",
       "region3  chr1  10200000  10202000\n",
       "region4  chr1  13000000  13003000\n",
       "region5  chr1  40000000  40004000"
      ]
     },
     "execution_count": 89,
     "metadata": {},
     "output_type": "execute_result"
    }
   ],
   "source": [
    "df = pd.read_table('/projects/ps-yeolab3/bay001/annotations/small_bed.bed3', names=['chrom','start','end'], index_col=0)\n",
    "df"
   ]
  },
  {
   "cell_type": "code",
   "execution_count": 90,
   "metadata": {
    "collapsed": false
   },
   "outputs": [],
   "source": [
    "features = {}\n",
    "for ix, row in df.iterrows():\n",
    "    features[ix] = position_to_features(DATABASE, row['chrom'], row['start'], row['end'], True)"
   ]
  },
  {
   "cell_type": "code",
   "execution_count": 95,
   "metadata": {
    "collapsed": false
   },
   "outputs": [
    {
     "name": "stdout",
     "output_type": "stream",
     "text": [
      "('region5', 'exon', 'antisense', 'RP11-69E11.4')\n",
      "('region4', 'exon', 'protein_coding', 'PRAMEF6')\n",
      "('region4', 'CDS', 'protein_coding', 'PRAMEF6')\n",
      "('region4', 'start_codon', 'protein_coding', 'PRAMEF6')\n",
      "('region4', 'exon', 'protein_coding', 'PRAMEF6')\n",
      "('region4', 'CDS', 'protein_coding', 'PRAMEF6')\n",
      "('region4', 'UTR', 'protein_coding', 'PRAMEF6')\n",
      "('region4', 'exon', 'protein_coding', 'PRAMEF6')\n"
     ]
    }
   ],
   "source": [
    "for name, region_list in features.iteritems():\n",
    "    for region in region_list:\n",
    "        print(name, region.featuretype, region.attributes['transcript_type'][0], region.attributes['gene_name'][0])\n"
   ]
  },
  {
   "cell_type": "markdown",
   "metadata": {},
   "source": [
    "# Using with pybedtools"
   ]
  },
  {
   "cell_type": "code",
   "execution_count": 12,
   "metadata": {
    "collapsed": true
   },
   "outputs": [],
   "source": [
    "import pybedtools"
   ]
  },
  {
   "cell_type": "code",
   "execution_count": 66,
   "metadata": {
    "collapsed": false
   },
   "outputs": [],
   "source": [
    "interval = pybedtools.create_interval_from_list(['chr1','13000000','13003000','some_interval','0','-'])\n"
   ]
  },
  {
   "cell_type": "code",
   "execution_count": 67,
   "metadata": {
    "collapsed": false
   },
   "outputs": [
    {
     "data": {
      "text/plain": [
       "[<Feature exon (chr1:13002062-13002370[-]) at 0x2ab85eaef7d0>,\n",
       " <Feature CDS (chr1:13002062-13002348[-]) at 0x2ab85eaef950>,\n",
       " <Feature start_codon (chr1:13002346-13002348[-]) at 0x2ab85eaefed0>,\n",
       " <Feature exon (chr1:13000814-13001395[-]) at 0x2ab85f56ff90>,\n",
       " <Feature CDS (chr1:13000814-13001395[-]) at 0x2ab85eaeff50>,\n",
       " <Feature UTR (chr1:13002349-13002370[-]) at 0x2ab85f3c70d0>,\n",
       " <Feature exon (chr1:13002062-13002348[-]) at 0x2ab85f3c71d0>]"
      ]
     },
     "execution_count": 67,
     "metadata": {},
     "output_type": "execute_result"
    }
   ],
   "source": [
    "def bedtool_to_features(db, interval, completely_within):\n",
    "    \"\"\"\n",
    "    \n",
    "    takes a coordinate and returns all the features overlapping \n",
    "    (either completely contained or partially overlapping the region).\n",
    "    \n",
    "    Parameters\n",
    "    ----------\n",
    "    db : sqlite3 database\n",
    "    interval : pybedtools.Interval\n",
    "        interval object\n",
    "    completely_within : bool\n",
    "        True if the features returned must be completely contained\n",
    "        within the region. False if the features need only to be\n",
    "        partially overlapping the region.\n",
    "        \n",
    "    Returns\n",
    "    -------\n",
    "    region_list: list\n",
    "        list of Features corresponding to overlapping/contained\n",
    "        features intersecting a region.\n",
    "    \"\"\"\n",
    "    return position_to_feature(\n",
    "        db,\n",
    "        interval.chrom,\n",
    "        interval.start,\n",
    "        interval.end,\n",
    "        interval.strand,\n",
    "        completely_within\n",
    "    )\n",
    "\n",
    "bedtool_to_features(DATABASE, interval, True)"
   ]
  },
  {
   "cell_type": "markdown",
   "metadata": {},
   "source": [
    "# Working with raw GTF files (no database)"
   ]
  },
  {
   "cell_type": "code",
   "execution_count": 119,
   "metadata": {
    "collapsed": true
   },
   "outputs": [],
   "source": [
    "gtf_file = '/projects/ps-yeolab/genomes/hg19/gencode_v19/gencode.v19.annotation.gtf'\n",
    "# gtf_file = '/projects/ps-yeolab3/bay001/annotations/c_elegans.PRJNA13758.WS257.canonical_geneset.gtf'\n",
    "GTF_NAMES = ['chrom','source','feature_type','start','end','.','strand','.','attributes']\n"
   ]
  },
  {
   "cell_type": "code",
   "execution_count": 114,
   "metadata": {
    "collapsed": false
   },
   "outputs": [],
   "source": [
    "\n",
    "def get_feature_type_set(gtf_file):\n",
    "    \"\"\"\n",
    "    from a GTF file, extract the set of feature_types\n",
    "    (feature_types is the third column, normally)\n",
    "    This might be useful for figuring out the priority for annotation.\n",
    "    \n",
    "    Parameters\n",
    "    ----------\n",
    "    gtf_file\n",
    "\n",
    "    Returns\n",
    "    -------\n",
    "\n",
    "    \"\"\"\n",
    "    gtf_df = pd.read_table(\n",
    "        gtf_file,\n",
    "        names=GTF_NAMES,\n",
    "        comment='#'\n",
    "    )\n",
    "    return set(gtf_df['feature_type'])\n",
    "\n",
    "\n",
    "def get_attribute_type_set(gtf_file, attribute_type):\n",
    "    \"\"\"\n",
    "    from a GTF file, extract the set of attribute_types\n",
    "    (attribute_types is one of those fields contained within the 9th column)\n",
    "    This might be useful for figuring out the priority for annotation.\n",
    "    \n",
    "    Parameters\n",
    "    ----------\n",
    "    gtf_file : basestring\n",
    "    attribute_type : basestring\n",
    "\n",
    "    Returns\n",
    "    -------\n",
    "\n",
    "    \"\"\"\n",
    "\n",
    "    gtf_df = pd.read_table(\n",
    "        gtf_file,\n",
    "        names=GTF_NAMES,\n",
    "        comment='#'\n",
    "    )\n",
    "    regex_filter = '{} \\\"([\\w\\s\\d -]+)\\\"'.format(attribute_type)\n",
    "    return set(gtf_df['attributes'].str.extract(regex_filter, expand=False))\n"
   ]
  },
  {
   "cell_type": "code",
   "execution_count": 115,
   "metadata": {
    "collapsed": false
   },
   "outputs": [
    {
     "data": {
      "text/plain": [
       "{'CDS',\n",
       " 'exon',\n",
       " 'five_prime_utr',\n",
       " 'gene',\n",
       " 'start_codon',\n",
       " 'stop_codon',\n",
       " 'three_prime_utr',\n",
       " 'transcript'}"
      ]
     },
     "execution_count": 115,
     "metadata": {},
     "output_type": "execute_result"
    }
   ],
   "source": [
    "# in C elegans GFF\n",
    "get_feature_type_set(gtf_file)"
   ]
  },
  {
   "cell_type": "code",
   "execution_count": 118,
   "metadata": {
    "collapsed": false
   },
   "outputs": [
    {
     "data": {
      "text/plain": [
       "{'antisense',\n",
       " 'lincRNA',\n",
       " 'miRNA',\n",
       " 'ncRNA',\n",
       " 'piRNA',\n",
       " 'protein_coding',\n",
       " 'pseudogene',\n",
       " 'rRNA',\n",
       " 'snRNA',\n",
       " 'snoRNA',\n",
       " 'tRNA'}"
      ]
     },
     "execution_count": 118,
     "metadata": {},
     "output_type": "execute_result"
    }
   ],
   "source": [
    "# in C elegans GFF\n",
    "get_attribute_type_set(gtf_file, 'biotype')"
   ]
  },
  {
   "cell_type": "code",
   "execution_count": 120,
   "metadata": {
    "collapsed": false
   },
   "outputs": [
    {
     "data": {
      "text/plain": [
       "{'CDS',\n",
       " 'Selenocysteine',\n",
       " 'UTR',\n",
       " 'exon',\n",
       " 'gene',\n",
       " 'start_codon',\n",
       " 'stop_codon',\n",
       " 'transcript'}"
      ]
     },
     "execution_count": 120,
     "metadata": {},
     "output_type": "execute_result"
    }
   ],
   "source": [
    "# in Human GENCODE\n",
    "get_feature_type_set(gtf_file)"
   ]
  },
  {
   "cell_type": "code",
   "execution_count": 122,
   "metadata": {
    "collapsed": false
   },
   "outputs": [
    {
     "data": {
      "text/plain": [
       "{'3prime_overlapping_ncrna',\n",
       " 'IG_C_gene',\n",
       " 'IG_C_pseudogene',\n",
       " 'IG_D_gene',\n",
       " 'IG_J_gene',\n",
       " 'IG_J_pseudogene',\n",
       " 'IG_V_gene',\n",
       " 'IG_V_pseudogene',\n",
       " 'Mt_rRNA',\n",
       " 'Mt_tRNA',\n",
       " 'TR_C_gene',\n",
       " 'TR_D_gene',\n",
       " 'TR_J_gene',\n",
       " 'TR_J_pseudogene',\n",
       " 'TR_V_gene',\n",
       " 'TR_V_pseudogene',\n",
       " 'antisense',\n",
       " 'lincRNA',\n",
       " 'miRNA',\n",
       " 'misc_RNA',\n",
       " 'non_stop_decay',\n",
       " 'nonsense_mediated_decay',\n",
       " 'polymorphic_pseudogene',\n",
       " 'processed_pseudogene',\n",
       " 'processed_transcript',\n",
       " 'protein_coding',\n",
       " 'pseudogene',\n",
       " 'rRNA',\n",
       " 'retained_intron',\n",
       " 'sense_intronic',\n",
       " 'sense_overlapping',\n",
       " 'snRNA',\n",
       " 'snoRNA',\n",
       " 'transcribed_processed_pseudogene',\n",
       " 'transcribed_unprocessed_pseudogene',\n",
       " 'translated_processed_pseudogene',\n",
       " 'unitary_pseudogene',\n",
       " 'unprocessed_pseudogene'}"
      ]
     },
     "execution_count": 122,
     "metadata": {},
     "output_type": "execute_result"
    }
   ],
   "source": [
    "# in Human GENCODE\n",
    "get_attribute_type_set(gtf_file, 'transcript_type')"
   ]
  },
  {
   "cell_type": "code",
   "execution_count": null,
   "metadata": {
    "collapsed": true
   },
   "outputs": [],
   "source": []
  }
 ],
 "metadata": {
  "kernelspec": {
   "display_name": "Python 2",
   "language": "python",
   "name": "python2"
  },
  "language_info": {
   "codemirror_mode": {
    "name": "ipython",
    "version": 2
   },
   "file_extension": ".py",
   "mimetype": "text/x-python",
   "name": "python",
   "nbconvert_exporter": "python",
   "pygments_lexer": "ipython2",
   "version": "2.7.12"
  }
 },
 "nbformat": 4,
 "nbformat_minor": 1
}
