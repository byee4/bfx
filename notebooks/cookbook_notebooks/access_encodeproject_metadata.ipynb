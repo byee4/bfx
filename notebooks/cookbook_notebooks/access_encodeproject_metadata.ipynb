{
 "cells": [
  {
   "cell_type": "markdown",
   "metadata": {},
   "source": [
    "# Notebook for demonstrating how to access encodeproject.org metadata for RBP clip and rna-seq data"
   ]
  },
  {
   "cell_type": "code",
   "execution_count": 1,
   "metadata": {},
   "outputs": [],
   "source": [
    "import pandas as pd\n",
    "import urllib\n",
    "import json\n",
    "import requests\n",
    "import os\n",
    "import glob\n",
    "from collections import defaultdict\n",
    "import qtools\n",
    "from tqdm import tnrange, tqdm_notebook\n",
    "\n",
    "pd.set_option(\"display.max_columns\",500)\n",
    "host = 'https://www.encodeproject.org'\n",
    "experiments = \"https://www.encodeproject.org/experiments/\""
   ]
  },
  {
   "cell_type": "code",
   "execution_count": 2,
   "metadata": {},
   "outputs": [],
   "source": [
    "def get_bams_from_expt_id(\n",
    "    expt_id, assembly, lab\n",
    "):\n",
    "    \"\"\"\n",
    "    Given an expt id, return a list: [rbp name, [rep1bam, rep2bam], control_expt_id]\n",
    "    control_expt_id is None if the expt_id given to this function is itself a control.\n",
    "    \n",
    "    params:\n",
    "    \n",
    "    expt_id: string\n",
    "        ie. \"ENCSR767LLP\"\n",
    "    assembly: string\n",
    "        ie. \"hg19\"\n",
    "    lab: string\n",
    "        ie. \"brenton-graveley\"\n",
    "          \n",
    "    returns:\n",
    "        \n",
    "    result: tuple\n",
    "        (rbp_name, replicate_bams, control_expts) where:\n",
    "        rbp_name is the str representation of the name\n",
    "        replicate_bams is a dictionary with keys=(filename, md5sum), and\n",
    "        control_expts is a list of expt_ids associated with control experiments. \n",
    "    \"\"\"\n",
    "    sample_bams = []\n",
    "    control_expts = []\n",
    "    \n",
    "    experiments = \"https://www.encodeproject.org/experiments/\"\n",
    "    url = experiments+expt_id+\"/?format=json\"\n",
    "    response = urllib.urlopen(url)\n",
    "    data = json.loads(response.read())\n",
    "    if 'code' in data.keys():\n",
    "        next\n",
    "    else:\n",
    "        for i in range(0,len(data['files'])):\n",
    "            if (\n",
    "                (host+data['files'][i]['href']).endswith('bam') & \n",
    "                (data['files'][i]['output_type'] == u'alignments') &\n",
    "                (data['files'][i]['lab'][u'name'] == lab)\n",
    "            ):\n",
    "                if(data['files'][i]['assembly'] == assembly):\n",
    "                    metadata_dict = {}\n",
    "                    sample_bams.append(\n",
    "                        {\n",
    "                            'filename':os.path.basename(data['files'][i]['href']),\n",
    "                            'md5sum':data['files'][i]['md5sum'],\n",
    "                            # 'rep':int(data['files'][i]['replicate']['biological_replicate_number'])\n",
    "                        }\n",
    "                    )\n",
    "                    # print(data['files'][i].keys())\n",
    "        try:\n",
    "            control_expts.append(data['possible_controls'][0]['accession'])\n",
    "        except IndexError:\n",
    "            pass\n",
    "            # print(\"this is a control\")\n",
    "    if(len(control_expts) > 1):\n",
    "        print(\"Warning, this expt {} has more than 1 associated control expt\".format(expt_id))\n",
    "    return data['target']['label'], sample_bams, control_expts\n"
   ]
  },
  {
   "cell_type": "markdown",
   "metadata": {},
   "source": [
    "# If you want to pull metadata for RNASeq Knockdown studies (Graveley lab):"
   ]
  },
  {
   "cell_type": "code",
   "execution_count": 5,
   "metadata": {},
   "outputs": [],
   "source": [
    "RBP, bams, controls = get_bams_from_expt_id(\n",
    "    expt_id='ENCSR767LLP', \n",
    "    assembly='hg19', \n",
    "    lab='brenton-graveley'\n",
    ")"
   ]
  },
  {
   "cell_type": "markdown",
   "metadata": {},
   "source": [
    "# If you want to pull metadata for eCLIP studies (Yeo lab):"
   ]
  },
  {
   "cell_type": "code",
   "execution_count": 7,
   "metadata": {},
   "outputs": [
    {
     "data": {
      "text/plain": [
       "[u'ENCSR354KAS']"
      ]
     },
     "execution_count": 7,
     "metadata": {},
     "output_type": "execute_result"
    }
   ],
   "source": [
    "RBP, bams, controls = get_bams_from_expt_id(\n",
    "    expt_id='ENCSR828ZID', \n",
    "    assembly='hg19', \n",
    "    lab='gene-yeo'\n",
    ")\n",
    "controls"
   ]
  },
  {
   "cell_type": "code",
   "execution_count": null,
   "metadata": {},
   "outputs": [],
   "source": []
  }
 ],
 "metadata": {
  "kernelspec": {
   "display_name": "python2-essential",
   "language": "python",
   "name": "python2-essential"
  },
  "language_info": {
   "codemirror_mode": {
    "name": "ipython",
    "version": 2
   },
   "file_extension": ".py",
   "mimetype": "text/x-python",
   "name": "python",
   "nbconvert_exporter": "python",
   "pygments_lexer": "ipython2",
   "version": "2.7.15"
  }
 },
 "nbformat": 4,
 "nbformat_minor": 2
}
