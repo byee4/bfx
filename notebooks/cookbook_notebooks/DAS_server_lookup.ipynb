{
 "cells": [
  {
   "cell_type": "markdown",
   "metadata": {},
   "source": [
    "# Use UCSC's DAS server to lookup sequences by genome position."
   ]
  },
  {
   "cell_type": "code",
   "execution_count": 1,
   "metadata": {},
   "outputs": [],
   "source": [
    "import re\n",
    "import os\n",
    "import urllib\n",
    "import sqlite3\n",
    "import glob\n",
    "from Bio import SeqIO\n",
    "from xml.dom import minidom"
   ]
  },
  {
   "cell_type": "code",
   "execution_count": 2,
   "metadata": {},
   "outputs": [],
   "source": [
    "def get_sequence_from_das(my_db,chromosome,start,end):\n",
    "    \"\"\"\n",
    "    Queries the UCSC DAS server given the database, chromosome and position\n",
    "    Returns the sequence if it is given valid coordinates, else an empty\n",
    "    string.\n",
    "\n",
    "    Args:\n",
    "        my_db: the database name (can be hg38, etc.)\n",
    "        chromosome: given as \"chr1,\" \"chr2,\" etc.\n",
    "        start: the raw start position from the beginning of the chromosome\n",
    "        end: The raw end position\n",
    "\n",
    "    Returns:\n",
    "        Sequence from the DAS\n",
    "\n",
    "    See:\n",
    "        http://stackoverflow.com/questions/22328319/python-fetch-sequence-from-das-by-coordinates\n",
    "    \"\"\"\n",
    "    sequence=''\n",
    "    base = \"http://genome.ucsc.edu/cgi-bin/das/%s/dna?segment=\"%my_db\n",
    "    url = base + chromosome + ':' + str(start) + ',' + str(end)\n",
    "    print(url)\n",
    "    xml = urllib.request.urlopen(url).read() # Python3\n",
    "    xmldoc = minidom.parseString(xml)\n",
    "    sequence = ''.join(xmldoc.getElementsByTagName('DNA')[0].firstChild.nodeValue.split('\\n'))\n",
    "    return sequence"
   ]
  },
  {
   "cell_type": "code",
   "execution_count": 3,
   "metadata": {},
   "outputs": [
    {
     "name": "stdout",
     "output_type": "stream",
     "text": [
      "http://genome.ucsc.edu/cgi-bin/das/hg38/dna?segment=chr1:15000000,15000300\n"
     ]
    },
    {
     "data": {
      "text/plain": [
       "'tggatatattatatggcaagagggactttgcagctgtgacggaggatcttgagatgggaagatgatctggattgtctgggtgggccctgggtaatcgtggggtacttatagaggaaggttggcagatcagagagagggaaggagatgtgagactggaaaaaggtcagagtcagagagatctgaaggtgccctgttgctgactttcaggctagaggacagggccagcagccatgggatgcaggcggcctctaaaggctgggaaaggcaaggaaacaaattctcccctatagcctccggtggg'"
      ]
     },
     "execution_count": 3,
     "metadata": {},
     "output_type": "execute_result"
    }
   ],
   "source": [
    "get_sequence_from_das('hg38','chr1',15000000,15000300)"
   ]
  },
  {
   "cell_type": "code",
   "execution_count": null,
   "metadata": {},
   "outputs": [],
   "source": []
  },
  {
   "cell_type": "code",
   "execution_count": null,
   "metadata": {},
   "outputs": [],
   "source": [
    "http://genome.ucsc.edu/cgi-bin/das/%s/dna?segment=hg38:chr1:15000000,15000300"
   ]
  }
 ],
 "metadata": {
  "kernelspec": {
   "display_name": "python3-essential-tscc",
   "language": "python",
   "name": "python3essentialtscc"
  },
  "language_info": {
   "codemirror_mode": {
    "name": "ipython",
    "version": 3
   },
   "file_extension": ".py",
   "mimetype": "text/x-python",
   "name": "python",
   "nbconvert_exporter": "python",
   "pygments_lexer": "ipython3",
   "version": "3.6.7"
  }
 },
 "nbformat": 4,
 "nbformat_minor": 2
}
