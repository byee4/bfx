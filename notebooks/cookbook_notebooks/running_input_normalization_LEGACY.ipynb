{
 "cells": [
  {
   "cell_type": "markdown",
   "metadata": {},
   "source": [
    "# Basic input_normalization script runner for Eric's normalization wrapper\n",
    "- attempt to document/explain what goes on in each step for reference' sake\n",
    "- original file: /home/bay001/projects/codebase/from_others/Running_input_normalization.ipynb"
   ]
  },
  {
   "cell_type": "markdown",
   "metadata": {},
   "source": [
    "```perl\n",
    "FULL_PIPELINE_WRAPPER.pl [filelist] [output_folder]\n",
    "```\n",
    "- requires Statistics::R module to be installed\n",
    "\n",
    "## Region level normalization script:\n",
    "### REQUIRES: filelist.mapped_read_num\n",
    "```\n",
    "count_reads_OneOrTwoRepVersion.wrapper_organized_frombamfi_PE.pl [filelist] [output_folder]\n",
    "```\n",
    "```perl\n",
    "    count_reads_broadfeatures_frombamfi_PEmap.pl [bam] > [*.reads_by_loc.csv]\n",
    "```\n",
    "        - Counts reads in regions from bam file (CDS/3'UTR/Introns/etc.)\n",
    "        - Uses a priority for each transcript: (intron, 5utr, CDS, 3utr, nc_intron, nc_exon)\n",
    "        - Combine transcripts into gene:\n",
    "        - Uses a priority for each gene: (CDS, 5UTR, 3UTR, intron, nc_exon, nc_intron)\n",
    "        - 3utr+5utr features are reads that map to both 5'UTR and 3'UTR\n",
    "\n",
    "```perl\n",
    "    combine_ReadsByLoc_files.pl [Rep1 (Rep2) Input.reads_by_loc.csv] > [UID_RBP_ReadsByLoc_combined.csv]\n",
    "```\n",
    "        - Combines paired replicates + input into one file for an experiment\n",
    "```perl\n",
    "    convert_ReadsByLoc_combined_significancecalls.pl [UID_RBP_ReadsByLoc_combined.csv] [mapped_read_num] > [UID*.csv.l2fcwithpval_enr.csv], [UID*.csv.l2fc.csv]\n",
    "```\n",
    "        - Calculates log2 fold-enrichment and chisq/fisher p-values for regions above input\n",
    "```perl\n",
    "regionlevelanalysis_GOanalysisonl2fc.pl [UID*.csv.l2fcwithpval_enr.csv] > [UID*.csv.l2fcwithpval_enr.csv***??]\n",
    "```\n",
    "        - Performs GO term enrichment for each region for a given log2 fold change and log10pval cutoff\n",
    "## Peak level normalization script:\n",
    "```perl\n",
    "compare_vs_input_peakbased_wrapper2_OneOrTwoRepVersion_PEbamfileversion_submit.pl\n",
    "```\n",
    "        - Runs input normalization on a file list of Gabe's peak calls (submit to cluster)\n",
    "```perl\n",
    "overlap_peakfi_with_bam_PE.pl\n",
    "```\n",
    "        - Normalizes CLIP signal vs input signal (or A vs B) based on peak file\n",
    "```perl\n",
    "compress_l2foldenrpeakfi_for_replicate_overlapping_bedformat.pl\n",
    "```\n",
    "        - Compresses Gabe's peak calls by discarding overlapping peak if less enriched above input\n",
    "```perl\n",
    "get_replicating_peaks_from_two_replicates.pl\n",
    "```\n",
    "        - Overlaps two replicate peak calls and outputs overlapping peaks (by log10(pvalue) and log2(foldchange) above input)\n",
    "```perl\n",
    "annotate_peaks_bedformat.pl\n",
    "```\n",
    "        - Annotates peaks\n",
    "        - \n",
    "### Output files\n",
    "#### \\*{ACC}ReadsByLoc_combined.csv\n",
    "#### \\*{ACC}ReadsByLoc_combined.csv.l2fc.csv\n",
    "#### \\*{ACC}ReadsByLoc_combined.csv.l2fcwithpval_enr.csv : Tabbed file containing l2fc | -log10(pvalue) \n",
    "#### \\*{ACC}ReadsByLoc_combined.csv.l2fcwithpval_enr.csv.cutoff_counts.2 : We don't know what this is\n",
    "#### \\*{ACC}ReadsByLoc_combined.csv.l2fcwithpval_enr.csv.{ACC}_l2cutoff_2.3utr : List of genes \n",
    "### NaNs\n",
    "NaNs = ? \n",
    "If there is both a l2fc and pvalue, we have enough reads to detect these differences. If there are NaNs present, we don't have enough reads.\n",
    "\n",
    "\n"
   ]
  },
  {
   "cell_type": "code",
   "execution_count": 10,
   "metadata": {
    "collapsed": true
   },
   "outputs": [],
   "source": [
    "import qtools\n",
    "import pandas as pd"
   ]
  },
  {
   "cell_type": "code",
   "execution_count": 20,
   "metadata": {},
   "outputs": [
    {
     "data": {
      "text/plain": [
       "'/projects/ps-yeolab3/bay001/tbos/input_norm/rbfox2/RBFOX2-204-INPUT_S2_R1.unassigned.adapterTrim.round2.rmRep.rmDup.sorted.r2.bam'"
      ]
     },
     "execution_count": 20,
     "metadata": {},
     "output_type": "execute_result"
    }
   ],
   "source": [
    "# We'll need an input normalized manifest that looks like this:\n",
    "input_norm_manifest = '/projects/ps-yeolab3/bay001/tbos/input_norm/rbfox2.txt'\n",
    "output_dir = '/projects/ps-yeolab3/bay001/tbos/input_norm/rbfox2_input_norm/'\n",
    "df = pd.read_table(input_norm_manifest)\n",
    "df['INPUT'].ix[0]"
   ]
  },
  {
   "cell_type": "code",
   "execution_count": null,
   "metadata": {
    "collapsed": true
   },
   "outputs": [],
   "source": []
  },
  {
   "cell_type": "code",
   "execution_count": 22,
   "metadata": {},
   "outputs": [
    {
     "name": "stdout",
     "output_type": "stream",
     "text": [
      "perl /home/elvannostrand/data/clip/CLIPseq_analysis/scripts/LABshare/FULL_PIPELINE_WRAPPER.pl /projects/ps-yeolab3/bay001/tbos/input_norm/rbfox2.txt /projects/ps-yeolab3/bay001/tbos/input_norm/rbfox2_input_norm/ hg19\n"
     ]
    }
   ],
   "source": [
    "command = 'perl /home/elvannostrand/data/clip/CLIPseq_analysis/scripts/LABshare/FULL_PIPELINE_WRAPPER.pl {} {} hg19'.format(\n",
    "    input_norm_manifest, output_dir)\n",
    "print command"
   ]
  },
  {
   "cell_type": "markdown",
   "metadata": {},
   "source": [
    "The input manifest is a tab separated file with the following column headers: uID, RBP, Cell line, CLIP_rep1, input\n",
    "\n",
    "or if you have two clips per input, the format is: uID, RBP, Cell line, CLIP_rep1, CLIP_rep2, input\n",
    "\n",
    "uID = user defined unique ID for the CLIP_input pair\n",
    "RBP = RBP\n",
    "Cell line = cell line\n",
    "CLIP_rep1 = full path to clip merged bam file (suffix is .merged.r2.bam)\n",
    "CLIP_rep2 = full path to clip merged bam file (suffix is .merged.r2.bam)\n",
    "input = full path to input bam file (suffix is .unassigned.adapterTrim.round2.rmRep.rmDup.sorted.r2.bam)\n",
    "\n",
    "NOTE - this script assumes the clipper peak called bed files are in the same directory where the bams are located and have Gabe's naming conventions that come out of the GATK pipeline"
   ]
  },
  {
   "cell_type": "code",
   "execution_count": 14,
   "metadata": {},
   "outputs": [
    {
     "name": "stderr",
     "output_type": "stream",
     "text": [
      "Wrote commands to input_normalization_.sh.\n"
     ]
    },
    {
     "name": "stdout",
     "output_type": "stream",
     "text": [
      "7565811.tscc-mgr.local\n"
     ]
    },
    {
     "name": "stderr",
     "output_type": "stream",
     "text": [
      "Submitted script to queue home.\n",
      " Job ID: 7565811\n"
     ]
    },
    {
     "data": {
      "text/plain": [
       "<qtools.submitter.Submitter at 0x2b91b6f8a210>"
      ]
     },
     "execution_count": 14,
     "metadata": {},
     "output_type": "execute_result"
    }
   ],
   "source": [
    "jobname = 'input_normalization_'\n",
    "qtools.Submitter(command, jobname, array=False, nodes=1, ppn=1, walltime='2:00:00', submit=True)"
   ]
  },
  {
   "cell_type": "code",
   "execution_count": null,
   "metadata": {
    "collapsed": true
   },
   "outputs": [],
   "source": []
  }
 ],
 "metadata": {
  "kernelspec": {
   "display_name": "Python 2",
   "language": "python",
   "name": "python2"
  },
  "language_info": {
   "codemirror_mode": {
    "name": "ipython",
    "version": 2
   },
   "file_extension": ".py",
   "mimetype": "text/x-python",
   "name": "python",
   "nbconvert_exporter": "python",
   "pygments_lexer": "ipython2",
   "version": "2.7.13"
  }
 },
 "nbformat": 4,
 "nbformat_minor": 1
}
