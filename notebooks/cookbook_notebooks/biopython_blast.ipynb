{
 "cells": [
  {
   "cell_type": "markdown",
   "metadata": {},
   "source": [
    "# Small cookbook for parsing fastq files that I've needed to use more than once.\n",
    "- just a quick reference to share"
   ]
  },
  {
   "cell_type": "markdown",
   "metadata": {},
   "source": [
    "### common imports that I like"
   ]
  },
  {
   "cell_type": "code",
   "execution_count": 1,
   "metadata": {},
   "outputs": [],
   "source": [
    "import os\n",
    "from tqdm import tnrange, tqdm_notebook"
   ]
  },
  {
   "cell_type": "code",
   "execution_count": 2,
   "metadata": {},
   "outputs": [],
   "source": [
    "# temporary output directory for demo purposes\n",
    "input_dir = '/projects/ps-yeolab3/bay001/codebase/bfx/data/'\n",
    "output_dir = '/projects/ps-yeolab3/bay001/codebase/bfx/scratch/'"
   ]
  },
  {
   "cell_type": "markdown",
   "metadata": {},
   "source": [
    "### This parses a fasta file and searches for a particular set of ids (names_to_search), and printing"
   ]
  },
  {
   "cell_type": "code",
   "execution_count": 3,
   "metadata": {},
   "outputs": [],
   "source": [
    "from Bio.Blast import NCBIWWW"
   ]
  },
  {
   "cell_type": "code",
   "execution_count": 4,
   "metadata": {},
   "outputs": [],
   "source": [
    "# Parsing a fastq file:"
   ]
  },
  {
   "cell_type": "code",
   "execution_count": 5,
   "metadata": {},
   "outputs": [
    {
     "name": "stdout",
     "output_type": "stream",
     "text": [
      "ID: M01356:185:000000000-D577T:1:1101:15863:1331\n",
      "Name: M01356:185:000000000-D577T:1:1101:15863:1331\n",
      "Description: M01356:185:000000000-D577T:1:1101:15863:1331 2:N:0:CGCTCATT+CCTATCCT\n",
      "Number of features: 0\n",
      "Per letter annotation for: phred_quality\n",
      "Seq('CCACTTTTTCAAGTTGATAACGGACTAGCCTTATTTTAACTTGCTATTTCTAGC...TGT', SingleLetterAlphabet())\n",
      "ID: M01356:185:000000000-D577T:1:1101:15349:1339\n",
      "Name: M01356:185:000000000-D577T:1:1101:15349:1339\n",
      "Description: M01356:185:000000000-D577T:1:1101:15349:1339 2:N:0:AGCTCATT+CCTATCCT\n",
      "Number of features: 0\n",
      "Per letter annotation for: phred_quality\n",
      "Seq('CCACTTTTTCAAGTTGATAACGGACTAGCCTTATTTTAACTTGCTATTTCTAGC...CCA', SingleLetterAlphabet())\n",
      "ID: M01356:185:000000000-D577T:1:1101:16275:1344\n",
      "Name: M01356:185:000000000-D577T:1:1101:16275:1344\n",
      "Description: M01356:185:000000000-D577T:1:1101:16275:1344 2:N:0:CGCTCATT+CCTATCCT\n",
      "Number of features: 0\n",
      "Per letter annotation for: phred_quality\n",
      "Seq('CCACTTTTTCAAGTTGATAACGGACTAGCGTCGTGTCGGGGTGTTTCGTCCTTT...TGT', SingleLetterAlphabet())\n",
      "ID: M01356:185:000000000-D577T:1:1101:16238:1345\n",
      "Name: M01356:185:000000000-D577T:1:1101:16238:1345\n",
      "Description: M01356:185:000000000-D577T:1:1101:16238:1345 2:N:0:CGCTCATT+CCTATCCT\n",
      "Number of features: 0\n",
      "Per letter annotation for: phred_quality\n",
      "Seq('CCACTTTTTCAAGTTGATAACGGACTAGCCAGATCGGAAGAGCGTCGTGTAGGG...GCC', SingleLetterAlphabet())\n",
      "ID: M01356:185:000000000-D577T:1:1101:16196:1345\n",
      "Name: M01356:185:000000000-D577T:1:1101:16196:1345\n",
      "Description: M01356:185:000000000-D577T:1:1101:16196:1345 2:N:0:CGCTCATT+CCTATCCT\n",
      "Number of features: 0\n",
      "Per letter annotation for: phred_quality\n",
      "Seq('CCACTTTTTCAAGTTGATAACGGACTAGCCTTATTTTAACTTGCTATTTCTAGC...GGA', SingleLetterAlphabet())\n",
      "ID: M01356:185:000000000-D577T:1:1101:15634:1354\n",
      "Name: M01356:185:000000000-D577T:1:1101:15634:1354\n",
      "Description: M01356:185:000000000-D577T:1:1101:15634:1354 2:N:0:AGCTCATT+CCTATCCT\n",
      "Number of features: 0\n",
      "Per letter annotation for: phred_quality\n",
      "Seq('CCACTTTTTCAAGTTGATAACGGACTAGCCAGATCGGAAGAGCGTAGTGTAGGC...CTT', SingleLetterAlphabet())\n",
      "ID: M01356:185:000000000-D577T:1:1101:16289:1358\n",
      "Name: M01356:185:000000000-D577T:1:1101:16289:1358\n",
      "Description: M01356:185:000000000-D577T:1:1101:16289:1358 2:N:0:CGCTCATT+CCTATCCT\n",
      "Number of features: 0\n",
      "Per letter annotation for: phred_quality\n",
      "Seq('CCACTTTTTCAAGTTGATAACGGACTAGCGTCGTGTAGGGGTGTTTCGTCCTTT...TGT', SingleLetterAlphabet())\n",
      "ID: M01356:185:000000000-D577T:1:1101:14910:1360\n",
      "Name: M01356:185:000000000-D577T:1:1101:14910:1360\n",
      "Description: M01356:185:000000000-D577T:1:1101:14910:1360 2:N:0:AGCTCATT+CCTATCCT\n",
      "Number of features: 0\n",
      "Per letter annotation for: phred_quality\n",
      "Seq('CCACTTTTTCAAGTTGATAACGGACTAGCCGTATTTTCACTTGCTATTTCTAGC...TGT', SingleLetterAlphabet())\n",
      "ID: M01356:185:000000000-D577T:1:1101:15385:1361\n",
      "Name: M01356:185:000000000-D577T:1:1101:15385:1361\n",
      "Description: M01356:185:000000000-D577T:1:1101:15385:1361 2:N:0:CGCTCATT+CCTATCCT\n",
      "Number of features: 0\n",
      "Per letter annotation for: phred_quality\n",
      "Seq('CCACTTTTCAAGTTGATAACGGACTAGCCTTATTTTAACTTGCTATTTCTAGCT...GGA', SingleLetterAlphabet())\n",
      "ID: M01356:185:000000000-D577T:1:1101:14939:1364\n",
      "Name: M01356:185:000000000-D577T:1:1101:14939:1364\n",
      "Description: M01356:185:000000000-D577T:1:1101:14939:1364 2:N:0:CGCTCATT+CCTATCCT\n",
      "Number of features: 0\n",
      "Per letter annotation for: phred_quality\n",
      "Seq('CCACTTTTTCAAGTTGATAACGGACTAGCCTTATTTTAACTTGCTATTTCTAGC...GGA', SingleLetterAlphabet())\n",
      "ID: M01356:185:000000000-D577T:1:1101:16338:1364\n",
      "Name: M01356:185:000000000-D577T:1:1101:16338:1364\n",
      "Description: M01356:185:000000000-D577T:1:1101:16338:1364 2:N:0:CGCTCATT+CCTATCCT\n",
      "Number of features: 0\n",
      "Per letter annotation for: phred_quality\n",
      "Seq('CCACTTTTTCAAGTTGATAACGGACTAGCCTTATTTTAACTTGCTATTTCTAGC...GAT', SingleLetterAlphabet())\n"
     ]
    }
   ],
   "source": [
    "from Bio import SeqIO\n",
    "import gzip\n",
    "\n",
    "count = 0 # counter, \n",
    "handle = gzip.open('/projects/ps-yeolab3/seqdata/20181204_emily_miseq_3/all_fastqs/SG1_S1_L001_R2_001.fastq.gz', 'rt')\n",
    "for record in SeqIO.parse(handle, \"fastq\"):\n",
    "    print(record)\n",
    "    \n",
    "    # just print the first 10 or so records.\n",
    "    count+=1\n",
    "    if count > 10:\n",
    "        break\n",
    "handle.close()"
   ]
  },
  {
   "cell_type": "markdown",
   "metadata": {},
   "source": [
    "### This parses a fasta file and searches for a particular set of ids (names_to_search), and writing to a separate file"
   ]
  },
  {
   "cell_type": "code",
   "execution_count": 6,
   "metadata": {},
   "outputs": [
    {
     "name": "stderr",
     "output_type": "stream",
     "text": [
      "/projects/ps-yeolab4/software/yeolabconda3/envs/python3essential-0.0.1/lib/python3.6/site-packages/ipykernel_launcher.py:3: DeprecationWarning: 'U' mode is deprecated\n",
      "  This is separate from the ipykernel package so we can avoid doing imports until\n"
     ]
    },
    {
     "ename": "FileNotFoundError",
     "evalue": "[Errno 2] No such file or directory: '/projects/ps-yeolab3/bay001/codebase/bfx/scratch/small_repelements.fa'",
     "output_type": "error",
     "traceback": [
      "\u001b[0;31m---------------------------------------------------------------------------\u001b[0m",
      "\u001b[0;31mFileNotFoundError\u001b[0m                         Traceback (most recent call last)",
      "\u001b[0;32m<ipython-input-6-1058aa059b63>\u001b[0m in \u001b[0;36m<module>\u001b[0;34m\u001b[0m\n\u001b[1;32m      8\u001b[0m         \u001b[0;32mif\u001b[0m \u001b[0mname\u001b[0m \u001b[0;32min\u001b[0m \u001b[0mrecord\u001b[0m\u001b[0;34m.\u001b[0m\u001b[0mid\u001b[0m\u001b[0;34m:\u001b[0m\u001b[0;34m\u001b[0m\u001b[0;34m\u001b[0m\u001b[0m\n\u001b[1;32m      9\u001b[0m             \u001b[0mrecords\u001b[0m\u001b[0;34m.\u001b[0m\u001b[0mappend\u001b[0m\u001b[0;34m(\u001b[0m\u001b[0mrecord\u001b[0m\u001b[0;34m)\u001b[0m\u001b[0;34m\u001b[0m\u001b[0;34m\u001b[0m\u001b[0m\n\u001b[0;32m---> 10\u001b[0;31m \u001b[0mSeqIO\u001b[0m\u001b[0;34m.\u001b[0m\u001b[0mwrite\u001b[0m\u001b[0;34m(\u001b[0m\u001b[0mrecords\u001b[0m\u001b[0;34m,\u001b[0m\u001b[0moutfile\u001b[0m\u001b[0;34m,\u001b[0m\u001b[0;34m\"fasta\"\u001b[0m\u001b[0;34m)\u001b[0m\u001b[0;34m\u001b[0m\u001b[0;34m\u001b[0m\u001b[0m\n\u001b[0m\u001b[1;32m     11\u001b[0m \u001b[0mhandle\u001b[0m\u001b[0;34m.\u001b[0m\u001b[0mclose\u001b[0m\u001b[0;34m(\u001b[0m\u001b[0;34m)\u001b[0m\u001b[0;34m\u001b[0m\u001b[0;34m\u001b[0m\u001b[0m\n",
      "\u001b[0;32m/projects/ps-yeolab4/software/yeolabconda3/envs/python3essential-0.0.1/lib/python3.6/site-packages/Bio/SeqIO/__init__.py\u001b[0m in \u001b[0;36mwrite\u001b[0;34m(sequences, handle, format)\u001b[0m\n\u001b[1;32m    521\u001b[0m         \u001b[0mmode\u001b[0m \u001b[0;34m=\u001b[0m \u001b[0;34m'w'\u001b[0m\u001b[0;34m\u001b[0m\u001b[0;34m\u001b[0m\u001b[0m\n\u001b[1;32m    522\u001b[0m \u001b[0;34m\u001b[0m\u001b[0m\n\u001b[0;32m--> 523\u001b[0;31m     \u001b[0;32mwith\u001b[0m \u001b[0mas_handle\u001b[0m\u001b[0;34m(\u001b[0m\u001b[0mhandle\u001b[0m\u001b[0;34m,\u001b[0m \u001b[0mmode\u001b[0m\u001b[0;34m)\u001b[0m \u001b[0;32mas\u001b[0m \u001b[0mfp\u001b[0m\u001b[0;34m:\u001b[0m\u001b[0;34m\u001b[0m\u001b[0;34m\u001b[0m\u001b[0m\n\u001b[0m\u001b[1;32m    524\u001b[0m         \u001b[0;31m# Map the file format to a writer function/class\u001b[0m\u001b[0;34m\u001b[0m\u001b[0;34m\u001b[0m\u001b[0;34m\u001b[0m\u001b[0m\n\u001b[1;32m    525\u001b[0m         \u001b[0;32mif\u001b[0m \u001b[0mformat\u001b[0m \u001b[0;32min\u001b[0m \u001b[0m_FormatToString\u001b[0m\u001b[0;34m:\u001b[0m\u001b[0;34m\u001b[0m\u001b[0;34m\u001b[0m\u001b[0m\n",
      "\u001b[0;32m/projects/ps-yeolab4/software/yeolabconda3/envs/python3essential-0.0.1/lib/python3.6/contextlib.py\u001b[0m in \u001b[0;36m__enter__\u001b[0;34m(self)\u001b[0m\n\u001b[1;32m     79\u001b[0m     \u001b[0;32mdef\u001b[0m \u001b[0m__enter__\u001b[0m\u001b[0;34m(\u001b[0m\u001b[0mself\u001b[0m\u001b[0;34m)\u001b[0m\u001b[0;34m:\u001b[0m\u001b[0;34m\u001b[0m\u001b[0;34m\u001b[0m\u001b[0m\n\u001b[1;32m     80\u001b[0m         \u001b[0;32mtry\u001b[0m\u001b[0;34m:\u001b[0m\u001b[0;34m\u001b[0m\u001b[0;34m\u001b[0m\u001b[0m\n\u001b[0;32m---> 81\u001b[0;31m             \u001b[0;32mreturn\u001b[0m \u001b[0mnext\u001b[0m\u001b[0;34m(\u001b[0m\u001b[0mself\u001b[0m\u001b[0;34m.\u001b[0m\u001b[0mgen\u001b[0m\u001b[0;34m)\u001b[0m\u001b[0;34m\u001b[0m\u001b[0;34m\u001b[0m\u001b[0m\n\u001b[0m\u001b[1;32m     82\u001b[0m         \u001b[0;32mexcept\u001b[0m \u001b[0mStopIteration\u001b[0m\u001b[0;34m:\u001b[0m\u001b[0;34m\u001b[0m\u001b[0;34m\u001b[0m\u001b[0m\n\u001b[1;32m     83\u001b[0m             \u001b[0;32mraise\u001b[0m \u001b[0mRuntimeError\u001b[0m\u001b[0;34m(\u001b[0m\u001b[0;34m\"generator didn't yield\"\u001b[0m\u001b[0;34m)\u001b[0m \u001b[0;32mfrom\u001b[0m \u001b[0;32mNone\u001b[0m\u001b[0;34m\u001b[0m\u001b[0;34m\u001b[0m\u001b[0m\n",
      "\u001b[0;32m/projects/ps-yeolab4/software/yeolabconda3/envs/python3essential-0.0.1/lib/python3.6/site-packages/Bio/File.py\u001b[0m in \u001b[0;36mas_handle\u001b[0;34m(handleish, mode, **kwargs)\u001b[0m\n\u001b[1;32m    111\u001b[0m                 \u001b[0;32myield\u001b[0m \u001b[0mfp\u001b[0m\u001b[0;34m\u001b[0m\u001b[0;34m\u001b[0m\u001b[0m\n\u001b[1;32m    112\u001b[0m         \u001b[0;32melse\u001b[0m\u001b[0;34m:\u001b[0m\u001b[0;34m\u001b[0m\u001b[0;34m\u001b[0m\u001b[0m\n\u001b[0;32m--> 113\u001b[0;31m             \u001b[0;32mwith\u001b[0m \u001b[0mopen\u001b[0m\u001b[0;34m(\u001b[0m\u001b[0mhandleish\u001b[0m\u001b[0;34m,\u001b[0m \u001b[0mmode\u001b[0m\u001b[0;34m,\u001b[0m \u001b[0;34m**\u001b[0m\u001b[0mkwargs\u001b[0m\u001b[0;34m)\u001b[0m \u001b[0;32mas\u001b[0m \u001b[0mfp\u001b[0m\u001b[0;34m:\u001b[0m\u001b[0;34m\u001b[0m\u001b[0;34m\u001b[0m\u001b[0m\n\u001b[0m\u001b[1;32m    114\u001b[0m                 \u001b[0;32myield\u001b[0m \u001b[0mfp\u001b[0m\u001b[0;34m\u001b[0m\u001b[0;34m\u001b[0m\u001b[0m\n\u001b[1;32m    115\u001b[0m     \u001b[0;32melse\u001b[0m\u001b[0;34m:\u001b[0m\u001b[0;34m\u001b[0m\u001b[0;34m\u001b[0m\u001b[0m\n",
      "\u001b[0;31mFileNotFoundError\u001b[0m: [Errno 2] No such file or directory: '/projects/ps-yeolab3/bay001/codebase/bfx/scratch/small_repelements.fa'"
     ]
    }
   ],
   "source": [
    "from Bio import SeqIO\n",
    "names_to_search = ['rna', 'RNA', 'alu']\n",
    "handle = open(os.path.join(input_dir, \"all.ref\"), \"rU\")\n",
    "outfile = os.path.join(output_dir, \"small_repelements.fa\")\n",
    "records = []\n",
    "for record in SeqIO.parse(handle, \"fasta\"):\n",
    "    for name in names_to_search:\n",
    "        if name in record.id:\n",
    "            records.append(record)\n",
    "SeqIO.write(records,outfile,\"fasta\")\n",
    "handle.close()"
   ]
  },
  {
   "cell_type": "markdown",
   "metadata": {},
   "source": [
    "### This parses a fasta file and searches for a particular set of ids (names_to_search), and printing"
   ]
  },
  {
   "cell_type": "code",
   "execution_count": null,
   "metadata": {},
   "outputs": [],
   "source": [
    "from Bio import SeqIO\n",
    "import pandas as pd\n",
    "\n",
    "lengths = {}\n",
    "handle = open(os.path.join(input_dir, \"mature.fa\"), \"rU\")\n",
    "for record in SeqIO.parse(handle, \"fasta\"):\n",
    "    lengths[record.id] = len(record.seq)\n",
    "handle.close()\n",
    "pd.DataFrame(lengths,index=['len']).T.head()"
   ]
  },
  {
   "cell_type": "markdown",
   "metadata": {},
   "source": [
    "### This parses a fasta file renames the ID"
   ]
  },
  {
   "cell_type": "code",
   "execution_count": null,
   "metadata": {},
   "outputs": [],
   "source": [
    "from Bio import SeqIO\n",
    "handle = open(os.path.join(input_dir, \"ws245_genes.ucsctable.fa\"), \"rU\")\n",
    "outfile = os.path.join(output_dir, \"ws245_genes.ucsctable.fix_genenames.fa\")\n",
    "records = []\n",
    "x = 0\n",
    "for record in SeqIO.parse(handle, \"fasta\"):\n",
    "    record.id = record.id.split('_')[2]\n",
    "    records.append(record)\n",
    "SeqIO.write(records,outfile,\"fasta\")\n",
    "handle.close()    "
   ]
  },
  {
   "cell_type": "markdown",
   "metadata": {},
   "source": [
    "### This gets len of each sequence"
   ]
  },
  {
   "cell_type": "code",
   "execution_count": null,
   "metadata": {},
   "outputs": [],
   "source": [
    "from Bio import SeqIO\n",
    "handle = open(os.path.join(input_dir, \"ce10.fa\"), \"rU\")\n",
    "\n",
    "for record in SeqIO.parse(handle, \"fasta\"):\n",
    "    print len(record.seq), record.name\n",
    "handle.close()"
   ]
  },
  {
   "cell_type": "markdown",
   "metadata": {},
   "source": [
    "### Useful functions using biopython"
   ]
  },
  {
   "cell_type": "code",
   "execution_count": null,
   "metadata": {},
   "outputs": [],
   "source": [
    "from Bio import SeqIO\n",
    "def get_seq_dict_from_file(fn, seq_ids=[], file_type='fasta', equal=True):\n",
    "    \"\"\"\n",
    "    Returns dictionary of {name : sequence}\n",
    "     \n",
    "    Parameters\n",
    "    ----------\n",
    "    \n",
    "    fn : basestring\n",
    "        file location of a fasta file\n",
    "    seq_ids : list\n",
    "        list of sequence ids to search. Empty field returns all sequences\n",
    "    equal : bool\n",
    "        True if seq_id needs to be identical\n",
    "        False if we just have partial identifier\n",
    "    file_type : basestring\n",
    "        default \"fasta\" type file\n",
    "    Returns\n",
    "    -------\n",
    "    records : dict\n",
    "        {name:sequence}\n",
    "    \"\"\"\n",
    "    records = {}\n",
    "    for record in SeqIO.parse(fn, file_type):\n",
    "        if len(seq_ids) > 0:\n",
    "            for name in seq_ids:\n",
    "                if equal:\n",
    "                    if name == record.id:\n",
    "                        records[record.id] = record.seq\n",
    "                else:\n",
    "                    if name in record.id:\n",
    "                        records[record.id] = record.seq\n",
    "        else:\n",
    "            records[record.id] = record.seq\n",
    "    return records\n",
    "\n",
    "def get_seq_sizes(fn, seq_ids=[], file_type='fasta', equal=True):\n",
    "    \"\"\"\n",
    "    Returns dictionary of {name : seqsize}\n",
    "    \n",
    "    Parameters\n",
    "    ----------\n",
    "    \n",
    "    fn : basestring\n",
    "        file location of a fasta file\n",
    "    seq_ids : list\n",
    "        list of sequence ids to search. Empty field returns all sequences\n",
    "    equal : bool\n",
    "        True if seq_id needs to be identical\n",
    "        False if we just have partial identifier\n",
    "    file_type : basestring\n",
    "        default \"fasta\" type file\n",
    "\n",
    "    Returns\n",
    "    -------\n",
    "\n",
    "    \"\"\"\n",
    "    lengths = {}\n",
    "    records = get_seq_dict_from_file(fn, seq_ids, file_type, equal)\n",
    "    \n",
    "    for seq_id, sequence in records.iteritems():\n",
    "        lengths[seq_id] = len(sequence)\n",
    "    return lengths\n",
    "\n",
    "fn = os.path.join(input_dir, \"GRCh38.primary_assembly.genome.fa\")\n",
    "seq_ids = ['chr1']  # just return the chr1 size for now, leave list empty of you want all of them.\n",
    "\n",
    "d = get_seq_sizes(fn=fn, seq_ids=seq_ids)\n",
    "d"
   ]
  },
  {
   "cell_type": "markdown",
   "metadata": {},
   "source": [
    "### this subsets the fasta file to just contain XYZ number of bases"
   ]
  },
  {
   "cell_type": "code",
   "execution_count": null,
   "metadata": {},
   "outputs": [],
   "source": [
    "from Bio import SeqIO\n",
    "handle = open(os.path.join(input_dir, \"chr19.fa\"), \"rU\")\n",
    "outfile = \"chr19.1M.fa\"\n",
    "records = []\n",
    "for record in SeqIO.parse(handle, \"fasta\"):\n",
    "    record.seq = record.seq[:1000000]  # take first 1,000,000 nucleotides\n",
    "    records.append(record)\n",
    "    print(len(record.seq))\n",
    "SeqIO.write(records,outfile,\"fasta\")\n",
    "handle.close()"
   ]
  },
  {
   "cell_type": "markdown",
   "metadata": {},
   "source": [
    "### this performs very basic trimming on a fastq file ###"
   ]
  },
  {
   "cell_type": "code",
   "execution_count": null,
   "metadata": {},
   "outputs": [],
   "source": [
    "import gzip\n",
    "from Bio import SeqIO\n",
    "\n",
    "# preview just 10 records, so we don't print all of the lines in our fastq file\n",
    "counter = 0\n",
    "max_count = 10\n",
    "\n",
    "handle = gzip.open(os.path.join(input_dir, \"Barnayard_Original_S3_R2_001.fastq.gz\"), \"rt\")  # use gzip open and 'rt' to open gzipped files\n",
    "outfile = os.path.join(output_dir, \"Barnayard_Original_S3_R2_001.short.fastq.gz\")\n",
    "for record in SeqIO.parse(handle, \"fastq\"):  # either fastq-solexa, fastq-illumina or 'fastq' which defaults to fastq-sanger\n",
    "    record.seq = record.seq[:60]  # subset and print first 60 bases\n",
    "    print(record.seq, len(record.seq))\n",
    "    if counter > max_count:\n",
    "        break\n",
    "    else:\n",
    "        counter+=1\n",
    "\n",
    "handle.close()"
   ]
  },
  {
   "cell_type": "code",
   "execution_count": null,
   "metadata": {},
   "outputs": [],
   "source": []
  }
 ],
 "metadata": {
  "kernelspec": {
   "display_name": "python3essential (tscc)",
   "language": "python",
   "name": "python3essential"
  },
  "language_info": {
   "codemirror_mode": {
    "name": "ipython",
    "version": 3
   },
   "file_extension": ".py",
   "mimetype": "text/x-python",
   "name": "python",
   "nbconvert_exporter": "python",
   "pygments_lexer": "ipython3",
   "version": "3.6.7"
  }
 },
 "nbformat": 4,
 "nbformat_minor": 4
}
