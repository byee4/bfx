{
 "cells": [
  {
   "cell_type": "code",
   "execution_count": 1,
   "metadata": {},
   "outputs": [],
   "source": [
    "import pandas as pd\n",
    "import gffutils\n",
    "import os\n",
    "from collections import defaultdict"
   ]
  },
  {
   "cell_type": "markdown",
   "metadata": {},
   "source": [
    "# Build database \n",
    "- This only needs to be done once per annotation.\n",
    "- Might take awhile!"
   ]
  },
  {
   "cell_type": "code",
   "execution_count": null,
   "metadata": {},
   "outputs": [],
   "source": [
    "gtf_file = 'gencode.v19.annotation.gtf'\n",
    "gtf_db_file = 'gencode.v19.annotation.gtf.db'"
   ]
  },
  {
   "cell_type": "code",
   "execution_count": 2,
   "metadata": {},
   "outputs": [],
   "source": [
    "def build_db(annotation_file, db_file, force=True, disable_infer_genes=True, disable_infer_transcripts=True):\n",
    "    \"\"\" \n",
    "    Creates a sqlite database containing features given a GTF or GFF file.\n",
    "    \"\"\"\n",
    "    db = gffutils.create_db(\n",
    "        annotation_file, dbfn=db_file, force=force, # change to True if we need to create a new db\n",
    "        keep_order=True, merge_strategy='merge', sort_attribute_values=True,\n",
    "        disable_infer_genes=disable_infer_genes,\n",
    "        disable_infer_transcripts=disable_infer_transcripts\n",
    "    )\n",
    "\n",
    "# build_db(annotation_file, db_file, disable_infer_genes=False, disable_infer_transcripts=False)"
   ]
  },
  {
   "cell_type": "markdown",
   "metadata": {},
   "source": [
    "# Use database to create a geneid -> genename mapping:"
   ]
  },
  {
   "cell_type": "code",
   "execution_count": 3,
   "metadata": {},
   "outputs": [],
   "source": [
    "def gene_id_to_name(db):\n",
    "    \"\"\"\n",
    "    Returns a dictionary containing a gene_id:name translation\n",
    "    Note: may be different if the 'gene_id' or 'gene_name' \n",
    "    keys are not in the source GTF file\n",
    "    (taken from gscripts.region_helpers)\n",
    "    \"\"\"\n",
    "    genes = db.features_of_type('gene')\n",
    "    gene_name_dict = {}\n",
    "    for gene in genes:\n",
    "        # this is a lazy way \n",
    "        gene_id = gene.attributes['gene_id'][0] if type(gene.attributes['gene_id']) == list else gene.attributes['gene_id']\n",
    "        try:\n",
    "            gene_name_dict[gene_id.split('.')[0]] = gene.attributes['gene_name'][0]\n",
    "        except KeyError:\n",
    "            print(gene.attributes.keys())\n",
    "            print(\"Warning. Key not found for {}\".format(gene))\n",
    "            return 1\n",
    "    return gene_name_dict"
   ]
  },
  {
   "cell_type": "code",
   "execution_count": null,
   "metadata": {},
   "outputs": [],
   "source": [
    "DATABASE = gffutils.FeatureDB(db_file)\n",
    "gene_id_to_name_dictionary = gene_id_to_name(DATABASE)\n",
    "# gene_id_to_name_dictionary['ENSG00000100320.18']\n",
    "gene_id_to_name_dictionary['ENSG00000100320']"
   ]
  }
 ],
 "metadata": {
  "kernelspec": {
   "display_name": "brian",
   "language": "python",
   "name": "brian"
  },
  "language_info": {
   "codemirror_mode": {
    "name": "ipython",
    "version": 2
   },
   "file_extension": ".py",
   "mimetype": "text/x-python",
   "name": "python",
   "nbconvert_exporter": "python",
   "pygments_lexer": "ipython2",
   "version": "2.7.11"
  }
 },
 "nbformat": 4,
 "nbformat_minor": 2
}
