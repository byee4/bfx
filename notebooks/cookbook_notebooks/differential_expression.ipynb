{
 "cells": [
  {
   "cell_type": "markdown",
   "metadata": {},
   "source": [
    "# DIFFERENTIAL EXPRESSION"
   ]
  },
  {
   "cell_type": "markdown",
   "metadata": {},
   "source": [
    "##### ! featureCounts -a /projects/ps-yeolab/genomes/ce11/c_elegans.PRJNA13758.WS254.annotations.genes.SAF -F SAF -s 2 -o /home/bay001/projects/hundley_rnae_20160210/analysis/rnae_v6/counts.txt *.sorted.rg.bam"
   ]
  },
  {
   "cell_type": "code",
   "execution_count": 1,
   "metadata": {
    "collapsed": false
   },
   "outputs": [
    {
     "name": "stderr",
     "output_type": "stream",
     "text": [
      "Loading required package: S4Vectors\n",
      "Loading required package: stats4\n",
      "Loading required package: BiocGenerics\n",
      "Loading required package: parallel\n",
      "\n",
      "Attaching package: 'BiocGenerics'\n",
      "\n",
      "The following objects are masked from 'package:parallel':\n",
      "\n",
      "    clusterApply, clusterApplyLB, clusterCall, clusterEvalQ,\n",
      "    clusterExport, clusterMap, parApply, parCapply, parLapply,\n",
      "    parLapplyLB, parRapply, parSapply, parSapplyLB\n",
      "\n",
      "The following objects are masked from 'package:stats':\n",
      "\n",
      "    IQR, mad, xtabs\n",
      "\n",
      "The following objects are masked from 'package:base':\n",
      "\n",
      "    anyDuplicated, append, as.data.frame, as.vector, cbind, colnames,\n",
      "    do.call, duplicated, eval, evalq, Filter, Find, get, grep, grepl,\n",
      "    intersect, is.unsorted, lapply, lengths, Map, mapply, match, mget,\n",
      "    order, paste, pmax, pmax.int, pmin, pmin.int, Position, rank,\n",
      "    rbind, Reduce, rownames, sapply, setdiff, sort, table, tapply,\n",
      "    union, unique, unlist, unsplit\n",
      "\n",
      "Loading required package: IRanges\n",
      "Loading required package: GenomicRanges\n",
      "Loading required package: GenomeInfoDb\n",
      "Loading required package: SummarizedExperiment\n",
      "Loading required package: Biobase\n",
      "Welcome to Bioconductor\n",
      "\n",
      "    Vignettes contain introductory material; view with\n",
      "    'browseVignettes()'. To cite Bioconductor, see\n",
      "    'citation(\"Biobase\")', and for packages 'citation(\"pkgname\")'.\n",
      "\n",
      "Loading required package: Rcpp\n",
      "Loading required package: RcppArmadillo\n",
      "Warning message:\n",
      "\"package 'RColorBrewer' was built under R version 3.3.1\""
     ]
    }
   ],
   "source": [
    "# options(bitmapType='cairo')\n",
    "library(\"DESeq2\")\n",
    "library(\"RColorBrewer\")\n",
    "library(\"ggplot2\")\n",
    "library(\"pheatmap\")\n",
    "library(\"RColorBrewer\")"
   ]
  },
  {
   "cell_type": "code",
   "execution_count": 2,
   "metadata": {
    "collapsed": false
   },
   "outputs": [],
   "source": [
    "setwd(\"/home/bay001/projects/codebase/bfx/rscripts\")\n",
    "out_dir <- \"/home/bay001/projects/codebase/bfx/rscripts\""
   ]
  },
  {
   "cell_type": "code",
   "execution_count": 5,
   "metadata": {
    "collapsed": false
   },
   "outputs": [
    {
     "data": {
      "text/html": [
       "<ol class=list-inline>\n",
       "\t<li>'s1.bam'</li>\n",
       "\t<li>'s2.bam'</li>\n",
       "\t<li>'s3.bam'</li>\n",
       "\t<li>'s5.bam'</li>\n",
       "\t<li>'s6.bam'</li>\n",
       "\t<li>'s7.bam'</li>\n",
       "</ol>\n"
      ],
      "text/latex": [
       "\\begin{enumerate*}\n",
       "\\item 's1.bam'\n",
       "\\item 's2.bam'\n",
       "\\item 's3.bam'\n",
       "\\item 's5.bam'\n",
       "\\item 's6.bam'\n",
       "\\item 's7.bam'\n",
       "\\end{enumerate*}\n"
      ],
      "text/markdown": [
       "1. 's1.bam'\n",
       "2. 's2.bam'\n",
       "3. 's3.bam'\n",
       "4. 's5.bam'\n",
       "5. 's6.bam'\n",
       "6. 's7.bam'\n",
       "\n",
       "\n"
      ],
      "text/plain": [
       "[1] \"s1.bam\" \"s2.bam\" \"s3.bam\" \"s5.bam\" \"s6.bam\" \"s7.bam\""
      ]
     },
     "metadata": {},
     "output_type": "display_data"
    }
   ],
   "source": [
    "tab <- read.table(\"counts.txt\",header=TRUE,sep=\"\\t\",row.names=1)\n",
    "samples <- tab[,6:ncol(tab)]\n",
    "colnames(samples) <- gsub(\".polyATrim.adapterTrim.rmRep.sorted.rg.bam\",\"\",colnames(samples))\n",
    "colnames(samples) <- gsub(\"analysis.rnae_v6.\",\"\",colnames(samples))\n",
    "samples <- as.matrix(samples)\n",
    "colnames(samples)"
   ]
  },
  {
   "cell_type": "code",
   "execution_count": 60,
   "metadata": {
    "collapsed": false
   },
   "outputs": [],
   "source": [
    "colData <- read.table( \"conditions.txt\", header=TRUE,row.names=1, sep='\\t')\n",
    "# rename(colData, c(\"factor\"=\"CHOSENFACTOR\"))\n",
    "# ?rename"
   ]
  },
  {
   "cell_type": "code",
   "execution_count": 61,
   "metadata": {
    "collapsed": false
   },
   "outputs": [
    {
     "data": {
      "text/html": [
       "<table>\n",
       "<thead><tr><th></th><th scope=col>condition</th><th scope=col>factor</th></tr></thead>\n",
       "<tbody>\n",
       "\t<tr><th scope=row>s1.bam</th><td>edit  </td><td>wt    </td></tr>\n",
       "\t<tr><th scope=row>s2.bam</th><td>noedit</td><td>adr2  </td></tr>\n",
       "\t<tr><th scope=row>s3.bam</th><td>edit  </td><td>wt    </td></tr>\n",
       "\t<tr><th scope=row>s5.bam</th><td>noedit</td><td>adr2  </td></tr>\n",
       "\t<tr><th scope=row>s6.bam</th><td>edit  </td><td>wt    </td></tr>\n",
       "\t<tr><th scope=row>s7.bam</th><td>noedit</td><td>adr2  </td></tr>\n",
       "</tbody>\n",
       "</table>\n"
      ],
      "text/latex": [
       "\\begin{tabular}{r|ll}\n",
       "  & condition & factor\\\\\n",
       "\\hline\n",
       "\ts1.bam & edit   & wt    \\\\\n",
       "\ts2.bam & noedit & adr2  \\\\\n",
       "\ts3.bam & edit   & wt    \\\\\n",
       "\ts5.bam & noedit & adr2  \\\\\n",
       "\ts6.bam & edit   & wt    \\\\\n",
       "\ts7.bam & noedit & adr2  \\\\\n",
       "\\end{tabular}\n"
      ],
      "text/markdown": [
       "\n",
       "| <!--/--> | condition | factor | \n",
       "|---|---|---|---|---|---|\n",
       "| s1.bam | edit   | wt     | \n",
       "| s2.bam | noedit | adr2   | \n",
       "| s3.bam | edit   | wt     | \n",
       "| s5.bam | noedit | adr2   | \n",
       "| s6.bam | edit   | wt     | \n",
       "| s7.bam | noedit | adr2   | \n",
       "\n",
       "\n"
      ],
      "text/plain": [
       "       condition factor\n",
       "s1.bam edit      wt    \n",
       "s2.bam noedit    adr2  \n",
       "s3.bam edit      wt    \n",
       "s5.bam noedit    adr2  \n",
       "s6.bam edit      wt    \n",
       "s7.bam noedit    adr2  "
      ]
     },
     "metadata": {},
     "output_type": "display_data"
    }
   ],
   "source": [
    "colData"
   ]
  },
  {
   "cell_type": "code",
   "execution_count": 63,
   "metadata": {
    "collapsed": false
   },
   "outputs": [],
   "source": [
    "condition <- \"factor\""
   ]
  },
  {
   "cell_type": "code",
   "execution_count": 64,
   "metadata": {
    "collapsed": false
   },
   "outputs": [],
   "source": [
    "colData = rename(colData, c(condition=\"CHOSENFACTOR\"))\n",
    "\n",
    "dds <- DESeqDataSetFromMatrix(countData=samples, colData=colData, design=~CHOSENFACTOR)\n",
    "# dds$factors <- relevel(dds$factors, ref=\"EDIT\")\n",
    "# dds_rlog <- rlogTransformation(dds)"
   ]
  },
  {
   "cell_type": "code",
   "execution_count": 65,
   "metadata": {
    "collapsed": false
   },
   "outputs": [
    {
     "data": {
      "text/html": [
       "<table>\n",
       "<thead><tr><th></th><th scope=col>CHOSENFACTOR</th><th scope=col>CHOSENFACTOR</th></tr></thead>\n",
       "<tbody>\n",
       "\t<tr><th scope=row>s1.bam</th><td>edit  </td><td>wt    </td></tr>\n",
       "\t<tr><th scope=row>s2.bam</th><td>noedit</td><td>adr2  </td></tr>\n",
       "\t<tr><th scope=row>s3.bam</th><td>edit  </td><td>wt    </td></tr>\n",
       "\t<tr><th scope=row>s5.bam</th><td>noedit</td><td>adr2  </td></tr>\n",
       "\t<tr><th scope=row>s6.bam</th><td>edit  </td><td>wt    </td></tr>\n",
       "\t<tr><th scope=row>s7.bam</th><td>noedit</td><td>adr2  </td></tr>\n",
       "</tbody>\n",
       "</table>\n"
      ],
      "text/latex": [
       "\\begin{tabular}{r|ll}\n",
       "  & CHOSENFACTOR & CHOSENFACTOR\\\\\n",
       "\\hline\n",
       "\ts1.bam & edit   & wt    \\\\\n",
       "\ts2.bam & noedit & adr2  \\\\\n",
       "\ts3.bam & edit   & wt    \\\\\n",
       "\ts5.bam & noedit & adr2  \\\\\n",
       "\ts6.bam & edit   & wt    \\\\\n",
       "\ts7.bam & noedit & adr2  \\\\\n",
       "\\end{tabular}\n"
      ],
      "text/markdown": [
       "\n",
       "| <!--/--> | CHOSENFACTOR | CHOSENFACTOR | \n",
       "|---|---|---|---|---|---|\n",
       "| s1.bam | edit   | wt     | \n",
       "| s2.bam | noedit | adr2   | \n",
       "| s3.bam | edit   | wt     | \n",
       "| s5.bam | noedit | adr2   | \n",
       "| s6.bam | edit   | wt     | \n",
       "| s7.bam | noedit | adr2   | \n",
       "\n",
       "\n"
      ],
      "text/plain": [
       "       CHOSENFACTOR CHOSENFACTOR\n",
       "s1.bam edit         wt          \n",
       "s2.bam noedit       adr2        \n",
       "s3.bam edit         wt          \n",
       "s5.bam noedit       adr2        \n",
       "s6.bam edit         wt          \n",
       "s7.bam noedit       adr2        "
      ]
     },
     "metadata": {},
     "output_type": "display_data"
    }
   ],
   "source": [
    "colData"
   ]
  },
  {
   "cell_type": "code",
   "execution_count": 9,
   "metadata": {
    "collapsed": false
   },
   "outputs": [
    {
     "data": {},
     "metadata": {},
     "output_type": "display_data"
    },
    {
     "data": {
      "text/html": [
       "<strong>png:</strong> 2"
      ],
      "text/latex": [
       "\\textbf{png:} 2"
      ],
      "text/markdown": [
       "**png:** 2"
      ],
      "text/plain": [
       "png \n",
       "  2 "
      ]
     },
     "metadata": {},
     "output_type": "display_data"
    }
   ],
   "source": [
    "# \n",
    "png(paste0(out_dir,\"pca.png\"))\n",
    "data <- plotPCA(dds_rlog, intgroup=c(\"factors\", \"type\"), returnData=TRUE)\n",
    "percentVar <- round(100 * attr(data, \"percentVar\"))\n",
    "ggplot(data, aes(PC1, PC2, color=factors, shape=type),\n",
    "       main = \"PCA Plot\") +\n",
    "  geom_point(size=3) +\n",
    "  scale_shape_manual(values=seq(0,8)) +\n",
    "  xlab(paste0(\"PC1: \",percentVar[1],\"% variance\")) +\n",
    "  ylab(paste0(\"PC2: \",percentVar[2],\"% variance\"))\n",
    "dev.off()"
   ]
  },
  {
   "cell_type": "code",
   "execution_count": 10,
   "metadata": {
    "collapsed": false
   },
   "outputs": [
    {
     "data": {
      "text/html": [
       "<strong>png:</strong> 2"
      ],
      "text/latex": [
       "\\textbf{png:} 2"
      ],
      "text/markdown": [
       "**png:** 2"
      ],
      "text/plain": [
       "png \n",
       "  2 "
      ]
     },
     "metadata": {},
     "output_type": "display_data"
    }
   ],
   "source": [
    "\n",
    "sampleDists <- dist(t(assay(dds_rlog)))\n",
    "sampleDistMatrix <- as.matrix(sampleDists)\n",
    "rownames(sampleDistMatrix) <- paste(dds_rlog$condition, dds_rlog$type, sep=\"-\")\n",
    "colnames(sampleDistMatrix) <- NULL\n",
    "colors <- colorRampPalette( rev(brewer.pal(9, \"Blues\")) )(255)\n",
    "png(paste0(out_dir,\"heatmap.png\"))\n",
    "pheatmap(sampleDistMatrix,\n",
    "         clustering_distance_rows=sampleDists,\n",
    "         clustering_distance_cols=sampleDists,\n",
    "         col=colors,\n",
    "         main = \"Heatmap\")\n",
    "dev.off()"
   ]
  },
  {
   "cell_type": "code",
   "execution_count": 11,
   "metadata": {
    "collapsed": false
   },
   "outputs": [
    {
     "name": "stderr",
     "output_type": "stream",
     "text": [
      "estimating size factors\n",
      "estimating dispersions\n",
      "gene-wise dispersion estimates\n",
      "mean-dispersion relationship\n",
      "final dispersion estimates\n",
      "fitting model and testing\n"
     ]
    }
   ],
   "source": [
    "dds <- DESeq(dds)\n",
    "res <- results(dds)"
   ]
  },
  {
   "cell_type": "code",
   "execution_count": 12,
   "metadata": {
    "collapsed": false
   },
   "outputs": [],
   "source": [
    "write.table(as.data.frame(res),file=paste0(out_dir,'diffexp.tsv'),sep='\\t')"
   ]
  },
  {
   "cell_type": "code",
   "execution_count": 15,
   "metadata": {
    "collapsed": false
   },
   "outputs": [
    {
     "data": {
      "text/html": [
       "<ol class=list-inline>\n",
       "\t<li>WT-1</li>\n",
       "\t<li>ADR2-2</li>\n",
       "\t<li>WT-3</li>\n",
       "\t<li>ADR2-4</li>\n",
       "\t<li>WT-6</li>\n",
       "\t<li>ADR2-7</li>\n",
       "</ol>\n"
      ],
      "text/latex": [
       "\\begin{enumerate*}\n",
       "\\item WT-1\n",
       "\\item ADR2-2\n",
       "\\item WT-3\n",
       "\\item ADR2-4\n",
       "\\item WT-6\n",
       "\\item ADR2-7\n",
       "\\end{enumerate*}\n"
      ],
      "text/markdown": [
       "1. WT-1\n",
       "2. ADR2-2\n",
       "3. WT-3\n",
       "4. ADR2-4\n",
       "5. WT-6\n",
       "6. ADR2-7\n",
       "\n",
       "\n"
      ],
      "text/plain": [
       "[1] WT-1   ADR2-2 WT-3   ADR2-4 WT-6   ADR2-7\n",
       "Levels: ADR2-2 ADR2-4 ADR2-7 WT-1 WT-3 WT-6"
      ]
     },
     "metadata": {},
     "output_type": "display_data"
    }
   ],
   "source": [
    "dds$type"
   ]
  },
  {
   "cell_type": "code",
   "execution_count": null,
   "metadata": {
    "collapsed": true
   },
   "outputs": [],
   "source": []
  }
 ],
 "metadata": {
  "kernelspec": {
   "display_name": "R",
   "language": "R",
   "name": "ir"
  },
  "language_info": {
   "codemirror_mode": "r",
   "file_extension": ".r",
   "mimetype": "text/x-r-source",
   "name": "R",
   "pygments_lexer": "r",
   "version": "3.2.2"
  }
 },
 "nbformat": 4,
 "nbformat_minor": 0
}
