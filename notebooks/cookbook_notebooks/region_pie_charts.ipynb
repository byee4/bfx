{
 "cells": [
  {
   "cell_type": "code",
   "execution_count": 3,
   "metadata": {},
   "outputs": [],
   "source": [
    "%matplotlib inline\n",
    "import matplotlib\n",
    "from matplotlib import rc\n",
    "rc('text', usetex=False)\n",
    "matplotlib.rcParams['svg.fonttype'] = 'none'\n",
    "rc('font', **{'family': 'sans-serif', 'sans-serif': ['Helvetica']})\n",
    "\n",
    "import matplotlib.pyplot as plt\n",
    "import numpy as np\n",
    "import pandas as pd\n",
    "import seaborn as sns\n",
    "import os\n",
    "import glob\n",
    "import cPickle as pickle\n",
    "import matplotlib.gridspec as gridspec"
   ]
  },
  {
   "cell_type": "markdown",
   "metadata": {},
   "source": [
    "### Specify input and output directories\n",
    "- should contain the \"annotated\" files from annotator script\n",
    "- should contain the \".pickle\" files from analyze_motifs script (just for the sake of collecting the background ratios)"
   ]
  },
  {
   "cell_type": "code",
   "execution_count": 4,
   "metadata": {},
   "outputs": [],
   "source": [
    "input_dir = 'inputs/'\n",
    "output_dir = 'outputs/'"
   ]
  },
  {
   "cell_type": "markdown",
   "metadata": {},
   "source": [
    "### Read in annotated files\n",
    "- may need to change the headers if you're not using my (Brian's) annotator (if you're using Eric's, formatting is different)"
   ]
  },
  {
   "cell_type": "code",
   "execution_count": 5,
   "metadata": {},
   "outputs": [
    {
     "data": {
      "text/html": [
       "<div>\n",
       "<style scoped>\n",
       "    .dataframe tbody tr th:only-of-type {\n",
       "        vertical-align: middle;\n",
       "    }\n",
       "\n",
       "    .dataframe tbody tr th {\n",
       "        vertical-align: top;\n",
       "    }\n",
       "\n",
       "    .dataframe thead th {\n",
       "        text-align: right;\n",
       "    }\n",
       "</style>\n",
       "<table border=\"1\" class=\"dataframe\">\n",
       "  <thead>\n",
       "    <tr style=\"text-align: right;\">\n",
       "      <th></th>\n",
       "      <th>chrom</th>\n",
       "      <th>start</th>\n",
       "      <th>end</th>\n",
       "      <th>l2fc</th>\n",
       "      <th>l10p</th>\n",
       "      <th>strand</th>\n",
       "      <th>geneid</th>\n",
       "      <th>genename</th>\n",
       "      <th>region</th>\n",
       "      <th>annotation</th>\n",
       "    </tr>\n",
       "  </thead>\n",
       "  <tbody>\n",
       "    <tr>\n",
       "      <th>0</th>\n",
       "      <td>chr21</td>\n",
       "      <td>44268751</td>\n",
       "      <td>44268796</td>\n",
       "      <td>4.609065</td>\n",
       "      <td>3.137124</td>\n",
       "      <td>-</td>\n",
       "      <td>ENSG00000160193.7</td>\n",
       "      <td>WDR4</td>\n",
       "      <td>distintron500</td>\n",
       "      <td>ENST00000330317.2:44263203:44299641:-:transcri...</td>\n",
       "    </tr>\n",
       "    <tr>\n",
       "      <th>1</th>\n",
       "      <td>chr3</td>\n",
       "      <td>105293665</td>\n",
       "      <td>105293738</td>\n",
       "      <td>3.115641</td>\n",
       "      <td>3.053569</td>\n",
       "      <td>+</td>\n",
       "      <td>ENSG00000170017.8</td>\n",
       "      <td>ALCAM</td>\n",
       "      <td>3utr</td>\n",
       "      <td>ENST00000491388.2:105293320:105294758:+:exon:E...</td>\n",
       "    </tr>\n",
       "    <tr>\n",
       "      <th>2</th>\n",
       "      <td>chr1</td>\n",
       "      <td>204380325</td>\n",
       "      <td>204380375</td>\n",
       "      <td>3.982066</td>\n",
       "      <td>3.137124</td>\n",
       "      <td>-</td>\n",
       "      <td>ENSG00000158615.8</td>\n",
       "      <td>PPP1R15B</td>\n",
       "      <td>CDS</td>\n",
       "      <td>ENST00000367188.4:204372514:204380919:-:transc...</td>\n",
       "    </tr>\n",
       "    <tr>\n",
       "      <th>3</th>\n",
       "      <td>chr15</td>\n",
       "      <td>45007620</td>\n",
       "      <td>45007627</td>\n",
       "      <td>11.282413</td>\n",
       "      <td>3.669672</td>\n",
       "      <td>+</td>\n",
       "      <td>ENSG00000166710.13</td>\n",
       "      <td>B2M</td>\n",
       "      <td>CDS</td>\n",
       "      <td>ENST00000557901.1:45003716:45009820:+:transcri...</td>\n",
       "    </tr>\n",
       "    <tr>\n",
       "      <th>4</th>\n",
       "      <td>chr15</td>\n",
       "      <td>45007637</td>\n",
       "      <td>45007680</td>\n",
       "      <td>16.882762</td>\n",
       "      <td>3.594680</td>\n",
       "      <td>+</td>\n",
       "      <td>ENSG00000166710.13</td>\n",
       "      <td>B2M</td>\n",
       "      <td>CDS</td>\n",
       "      <td>ENST00000557901.1:45003716:45009820:+:transcri...</td>\n",
       "    </tr>\n",
       "  </tbody>\n",
       "</table>\n",
       "</div>"
      ],
      "text/plain": [
       "   chrom      start        end       l2fc      l10p strand  \\\n",
       "0  chr21   44268751   44268796   4.609065  3.137124      -   \n",
       "1   chr3  105293665  105293738   3.115641  3.053569      +   \n",
       "2   chr1  204380325  204380375   3.982066  3.137124      -   \n",
       "3  chr15   45007620   45007627  11.282413  3.669672      +   \n",
       "4  chr15   45007637   45007680  16.882762  3.594680      +   \n",
       "\n",
       "               geneid  genename         region  \\\n",
       "0   ENSG00000160193.7      WDR4  distintron500   \n",
       "1   ENSG00000170017.8     ALCAM           3utr   \n",
       "2   ENSG00000158615.8  PPP1R15B            CDS   \n",
       "3  ENSG00000166710.13       B2M            CDS   \n",
       "4  ENSG00000166710.13       B2M            CDS   \n",
       "\n",
       "                                          annotation  \n",
       "0  ENST00000330317.2:44263203:44299641:-:transcri...  \n",
       "1  ENST00000491388.2:105293320:105294758:+:exon:E...  \n",
       "2  ENST00000367188.4:204372514:204380919:-:transc...  \n",
       "3  ENST00000557901.1:45003716:45009820:+:transcri...  \n",
       "4  ENST00000557901.1:45003716:45009820:+:transcri...  "
      ]
     },
     "execution_count": 5,
     "metadata": {},
     "output_type": "execute_result"
    }
   ],
   "source": [
    "annotated_headers = [\n",
    "    'chrom','start','end','l2fc','l10p','strand','geneid','genename','region','annotation'\n",
    "]\n",
    "wtss = pd.read_table(\n",
    "    os.path.join(input_dir, 'WTSS.01v02.IDR.out.0102merged.bed.minus_KOSS.bed.annotated'),\n",
    "    names=annotated_headers\n",
    ")\n",
    "wt3p = pd.read_table(\n",
    "    os.path.join(input_dir, 'WT3P.01v02.IDR.out.0102merged.bed.minus_KO3P.bed.annotated'),\n",
    "    names=annotated_headers\n",
    ")\n",
    "wt3p.head()"
   ]
  },
  {
   "cell_type": "markdown",
   "metadata": {},
   "source": [
    "### What I label is different from what analyze_motifs gives, so let's make these regions as equivalent as possible.\n",
    "- I look for: 3UTR, 5UTR, CDS, proxintron500, distintron500, start/stop codons, noncoding_exons, noncoding_introns\n",
    "- Analyze_motifs: 3UTR, 5UTR, CDS, proxintron500, distintron500\n",
    "- Need to make these equivalent"
   ]
  },
  {
   "cell_type": "code",
   "execution_count": 6,
   "metadata": {},
   "outputs": [],
   "source": [
    "def consolidate_noncoding(row):\n",
    "    \"\"\"\n",
    "    This changes some of the annotations to better fit the background.\n",
    "    I'm replacing all \"noncoding intron\" and \"noncoding exon\" annotations with just \"noncoding\"\n",
    "    Also replacing any 'codon' regions and labeling them 'CDS' instead.\n",
    "    \"\"\"\n",
    "    if 'noncoding' in row['region']:\n",
    "        return 'noncoding'\n",
    "    elif 'codon' in row['region']:\n",
    "        return 'CDS'\n",
    "    else:\n",
    "        return row['region']\n",
    "    \n",
    "wtss['consolidated_region'] = wtss.apply(consolidate_noncoding, axis=1)\n",
    "wt3p['consolidated_region'] = wt3p.apply(consolidate_noncoding, axis=1)"
   ]
  },
  {
   "cell_type": "markdown",
   "metadata": {},
   "source": [
    "### Plot pie charts using new labels"
   ]
  },
  {
   "cell_type": "code",
   "execution_count": 7,
   "metadata": {},
   "outputs": [
    {
     "data": {
      "text/plain": [
       "(-1.1062305366552125,\n",
       " 1.1002966923476429,\n",
       " -1.1156069416001042,\n",
       " 1.1108083766989569)"
      ]
     },
     "execution_count": 7,
     "metadata": {},
     "output_type": "execute_result"
    },
    {
     "name": "stderr",
     "output_type": "stream",
     "text": [
      "/home/bay001/anaconda2/envs/brian/lib/python2.7/site-packages/matplotlib/font_manager.py:1320: UserWarning: findfont: Font family [u'sans-serif'] not found. Falling back to DejaVu Sans\n",
      "  (prop.get_family(), self.defaultFamily[fontext]))\n",
      "/home/bay001/anaconda2/envs/brian/lib/python2.7/site-packages/matplotlib/font_manager.py:1330: UserWarning: findfont: Could not match :family=DejaVu Sans:style=normal:variant=normal:weight=normal:stretch=normal:size=10.0. Returning /home/bay001/anaconda2/envs/phenographCluster/lib/python3.6/site-packages/matplotlib/mpl-data/fonts/ttf/cmr10.ttf\n",
      "  UserWarning)\n"
     ]
    },
    {
     "data": {
      "image/png": "[encoded data removed]",
      "text/plain": [
       "<matplotlib.figure.Figure at 0x2abd67ffddd0>"
      ]
     },
     "metadata": {},
     "output_type": "display_data"
    }
   ],
   "source": [
    "fig, ax = plt.subplots()\n",
    "wtss['consolidated_region'].value_counts().plot(kind='pie', ax=ax)\n",
    "ax.axis('equal')"
   ]
  },
  {
   "cell_type": "code",
   "execution_count": null,
   "metadata": {},
   "outputs": [],
   "source": []
  },
  {
   "cell_type": "code",
   "execution_count": 8,
   "metadata": {},
   "outputs": [
    {
     "data": {
      "text/plain": [
       "(-1.1126711390291619,\n",
       " 1.1006033875728172,\n",
       " -1.1076858534630774,\n",
       " 1.1131269572799785)"
      ]
     },
     "execution_count": 8,
     "metadata": {},
     "output_type": "execute_result"
    },
    {
     "data": {
      "image/png": "[encoded data removed]",
      "text/plain": [
       "<matplotlib.figure.Figure at 0x2abd5affb5d0>"
      ]
     },
     "metadata": {},
     "output_type": "display_data"
    }
   ],
   "source": [
    "fig, ax = plt.subplots()\n",
    "wt3p['consolidated_region'].value_counts().plot(kind='pie', ax=ax)\n",
    "ax.axis('equal')"
   ]
  },
  {
   "cell_type": "markdown",
   "metadata": {},
   "source": [
    "# Going to drop noncoding regions, which makes things more consistent between fg and bg\n",
    "- **should be fine since this doesn't make a large percent of the pie for either region** (This depends on the expt)\n",
    "### revisit if we focus on noncoding genes"
   ]
  },
  {
   "cell_type": "code",
   "execution_count": 9,
   "metadata": {},
   "outputs": [],
   "source": [
    "wtss = wtss[wtss['consolidated_region']!='noncoding']\n",
    "wt3p = wt3p[wt3p['consolidated_region']!='noncoding']\n",
    "\n",
    "wtss = pd.DataFrame(wtss['consolidated_region'].value_counts())\n",
    "wt3p = pd.DataFrame(wt3p['consolidated_region'].value_counts())\n",
    "\n",
    "# reorder\n",
    "wtss = wtss.loc[['CDS','5utr', '3utr', 'proxintron500', 'distintron500']]\n",
    "wt3p = wt3p.loc[['CDS','5utr', '3utr', 'proxintron500', 'distintron500']]"
   ]
  },
  {
   "cell_type": "code",
   "execution_count": 10,
   "metadata": {},
   "outputs": [
    {
     "data": {
      "text/html": [
       "<div>\n",
       "<style scoped>\n",
       "    .dataframe tbody tr th:only-of-type {\n",
       "        vertical-align: middle;\n",
       "    }\n",
       "\n",
       "    .dataframe tbody tr th {\n",
       "        vertical-align: top;\n",
       "    }\n",
       "\n",
       "    .dataframe thead th {\n",
       "        text-align: right;\n",
       "    }\n",
       "</style>\n",
       "<table border=\"1\" class=\"dataframe\">\n",
       "  <thead>\n",
       "    <tr style=\"text-align: right;\">\n",
       "      <th></th>\n",
       "      <th>consolidated_region</th>\n",
       "    </tr>\n",
       "  </thead>\n",
       "  <tbody>\n",
       "    <tr>\n",
       "      <th>CDS</th>\n",
       "      <td>803</td>\n",
       "    </tr>\n",
       "    <tr>\n",
       "      <th>5utr</th>\n",
       "      <td>53</td>\n",
       "    </tr>\n",
       "    <tr>\n",
       "      <th>3utr</th>\n",
       "      <td>473</td>\n",
       "    </tr>\n",
       "  </tbody>\n",
       "</table>\n",
       "</div>"
      ],
      "text/plain": [
       "      consolidated_region\n",
       "CDS                   803\n",
       "5utr                   53\n",
       "3utr                  473"
      ]
     },
     "execution_count": 10,
     "metadata": {},
     "output_type": "execute_result"
    }
   ],
   "source": [
    "wtss_exonic = wtss.copy()\n",
    "wtss_exonic.drop('proxintron500', inplace=True, axis=0)\n",
    "wtss_exonic.drop('distintron500', inplace=True, axis=0)\n",
    "\n",
    "wt3p_exonic = wt3p.copy()\n",
    "wt3p_exonic.drop('proxintron500', inplace=True, axis=0)\n",
    "wt3p_exonic.drop('distintron500', inplace=True, axis=0)\n",
    "wtss_exonic"
   ]
  },
  {
   "cell_type": "markdown",
   "metadata": {},
   "source": [
    "# Get genomic and exonic regions (background) based on pickle file\n",
    "- because I'm lazy and don't want to re-calculate everything..."
   ]
  },
  {
   "cell_type": "code",
   "execution_count": 11,
   "metadata": {},
   "outputs": [
    {
     "name": "stdout",
     "output_type": "stream",
     "text": [
      "['inputs/WT3P.01v02.IDR.out.0102merged.bed.minus_KO3P.bed.pickle', 'inputs/WTSS.01v02.IDR.out.0102merged.bed.minus_KOSS.bed.pickle']\n"
     ]
    }
   ],
   "source": [
    "pickles = sorted(glob.glob(os.path.join(input_dir, '*.pickle')))\n",
    "print(pickles)\n",
    "wt3p_pickle = pickle.load(open(pickles[0],'rb'))\n",
    "wtss_pickle = pickle.load(open(pickles[1],'rb'))"
   ]
  },
  {
   "cell_type": "code",
   "execution_count": 12,
   "metadata": {},
   "outputs": [],
   "source": [
    "# actually these are the same values, they should be since the genome backround is the same!\n",
    "genomic = pd.DataFrame(wt3p_pickle['genic_region_sizes'], index=['sizes']).T\n",
    "genomic = pd.DataFrame(wtss_pickle['genic_region_sizes'], index=['sizes']).T\n",
    "\n",
    "# reorder the rows so that the colors match\n",
    "genomic = genomic.loc[['cds','five_prime_utrs','three_prime_utrs','proxintron500','distintron500']]"
   ]
  },
  {
   "cell_type": "markdown",
   "metadata": {},
   "source": [
    "# Plot the background pie charts for all regions, as well as exon regions only"
   ]
  },
  {
   "cell_type": "code",
   "execution_count": 13,
   "metadata": {},
   "outputs": [
    {
     "data": {
      "text/plain": [
       "(-1.1061731447675971,\n",
       " 1.1002939592746475,\n",
       " -1.1048846473762608,\n",
       " 1.1049149877270947)"
      ]
     },
     "execution_count": 13,
     "metadata": {},
     "output_type": "execute_result"
    },
    {
     "data": {
      "image/png": "[encoded data removed]",
      "text/plain": [
       "<matplotlib.figure.Figure at 0x2abd6a0d5910>"
      ]
     },
     "metadata": {},
     "output_type": "display_data"
    }
   ],
   "source": [
    "fig, ax = plt.subplots()\n",
    "genomic.plot(kind='pie', ax=ax, y='sizes')\n",
    "ax.axis('equal')"
   ]
  },
  {
   "cell_type": "code",
   "execution_count": 14,
   "metadata": {},
   "outputs": [],
   "source": [
    "exonic = genomic.copy()\n",
    "exonic.drop('distintron500', inplace=True, axis=0)\n",
    "exonic.drop('proxintron500', inplace=True, axis=0)"
   ]
  },
  {
   "cell_type": "code",
   "execution_count": 15,
   "metadata": {},
   "outputs": [
    {
     "data": {
      "text/plain": [
       "(-1.1072439130455725,\n",
       " 1.1003449482402654,\n",
       " -1.1279847930723974,\n",
       " 1.1272151386784091)"
      ]
     },
     "execution_count": 15,
     "metadata": {},
     "output_type": "execute_result"
    },
    {
     "data": {
      "image/png": "[encoded data removed]",
      "text/plain": [
       "<matplotlib.figure.Figure at 0x2abd6a1c4ed0>"
      ]
     },
     "metadata": {},
     "output_type": "display_data"
    }
   ],
   "source": [
    "fig, ax = plt.subplots()\n",
    "exonic.plot(kind='pie', ax=ax, y='sizes')\n",
    "ax.axis('equal')"
   ]
  },
  {
   "cell_type": "markdown",
   "metadata": {},
   "source": [
    "# Consolidate all pie charts into a single plot\n",
    "- row1: genomic region background, WT3P peaks, WTSS peaks\n",
    "- row2: exonic region background, WT3P exonic peaks, WTSS exonic peaks"
   ]
  },
  {
   "cell_type": "code",
   "execution_count": null,
   "metadata": {},
   "outputs": [],
   "source": []
  },
  {
   "cell_type": "code",
   "execution_count": 16,
   "metadata": {},
   "outputs": [
    {
     "name": "stderr",
     "output_type": "stream",
     "text": [
      "/home/bay001/anaconda2/envs/brian/lib/python2.7/site-packages/matplotlib/font_manager.py:1330: UserWarning: findfont: Could not match :family=DejaVu Sans:style=normal:variant=normal:weight=normal:stretch=normal:size=12.0. Returning /home/bay001/anaconda2/envs/phenographCluster/lib/python3.6/site-packages/matplotlib/mpl-data/fonts/ttf/cmr10.ttf\n",
      "  UserWarning)\n"
     ]
    },
    {
     "data": {
      "image/png": "[encoded data removed]",
      "text/plain": [
       "<matplotlib.figure.Figure at 0x2abd6a273810>"
      ]
     },
     "metadata": {},
     "output_type": "display_data"
    }
   ],
   "source": [
    "nrows = 2\n",
    "ncols = 3\n",
    "full_grid = gridspec.GridSpec(\n",
    "    nrows, ncols,\n",
    "    height_ratios=[1 for i in range(nrows)],\n",
    "    width_ratios=[1 for i in range(ncols)],\n",
    "    hspace=0.5, wspace=2\n",
    ")\n",
    "fig = plt.figure(figsize=(10, 5))\n",
    "map_rows = []\n",
    "\n",
    "for row in range(0, nrows):\n",
    "    map_rows.append(gridspec.GridSpecFromSubplotSpec(\n",
    "        1, ncols,\n",
    "        subplot_spec=full_grid[row, :])\n",
    "    )\n",
    "    \n",
    "ax1 = plt.subplot(map_rows[0][0])\n",
    "ax2 = plt.subplot(map_rows[0][1])\n",
    "ax3 = plt.subplot(map_rows[0][2])\n",
    "ax4 = plt.subplot(map_rows[1][0])\n",
    "ax5 = plt.subplot(map_rows[1][1])\n",
    "ax6 = plt.subplot(map_rows[1][2])\n",
    "# ax7 = plt.subplot(map_rows[0][3])\n",
    "\n",
    "genomic.plot(kind='pie', ax=ax1, y='sizes', legend=True, labels=None)\n",
    "wtss.plot(kind='pie', ax=ax2, y='consolidated_region', legend=False, labels=None)\n",
    "wt3p.plot(kind='pie', ax=ax3, y='consolidated_region', legend=False, labels=None)\n",
    "exonic.plot(kind='pie', ax=ax4, y='sizes', legend=False, labels=None)\n",
    "wtss_exonic.plot(kind='pie', y='consolidated_region', ax=ax5, legend=False, labels=None)\n",
    "wt3p_exonic.plot(kind='pie', y='consolidated_region', ax=ax6, legend=False, labels=None)\n",
    "\n",
    "axs = {ax1:'Genomic', ax2:'WTSS\\nPeaks', ax3:'WT3P\\nPeaks', ax4:'Exonic', ax5:'WTSS\\nExonic Peaks', ax6:'WT3P\\nExonic Peaks'}\n",
    "for ax, title in axs.iteritems():\n",
    "    ax.set_ylabel('')\n",
    "    ax.set_title(title)\n",
    "    ax.axis('equal')\n",
    "fig.savefig(os.path.join(output_dir, 'region_distributions.svg'))"
   ]
  },
  {
   "cell_type": "code",
   "execution_count": null,
   "metadata": {},
   "outputs": [],
   "source": []
  },
  {
   "cell_type": "code",
   "execution_count": null,
   "metadata": {},
   "outputs": [],
   "source": []
  }
 ],
 "metadata": {
  "kernelspec": {
   "display_name": "Python 2",
   "language": "python",
   "name": "python2"
  },
  "language_info": {
   "codemirror_mode": {
    "name": "ipython",
    "version": 2
   },
   "file_extension": ".py",
   "mimetype": "text/x-python",
   "name": "python",
   "nbconvert_exporter": "python",
   "pygments_lexer": "ipython2",
   "version": "2.7.15"
  }
 },
 "nbformat": 4,
 "nbformat_minor": 2
}
