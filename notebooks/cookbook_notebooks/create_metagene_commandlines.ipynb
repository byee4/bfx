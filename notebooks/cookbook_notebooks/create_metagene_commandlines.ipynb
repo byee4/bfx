{
 "cells": [
  {
   "cell_type": "code",
   "execution_count": 1,
   "metadata": {},
   "outputs": [],
   "source": [
    "import pandas as pd\n",
    "import numpy as np\n",
    "import os\n",
    "import glob\n",
    "import sys\n",
    "from qtools import Submitter"
   ]
  },
  {
   "cell_type": "code",
   "execution_count": 2,
   "metadata": {},
   "outputs": [],
   "source": [
    "input_dir = '/projects/ps-yeolab3/bay001/for_jackie/scratch/m6a/inputs/'\n",
    "work_dir = '/projects/ps-yeolab3/bay001/for_jackie/scratch/m6a/work_dir/'\n",
    "output_dir = '/projects/ps-yeolab3/bay001/for_jackie/scratch/m6a/outputs/'"
   ]
  },
  {
   "cell_type": "markdown",
   "metadata": {},
   "source": [
    "### Gather all the necessary bam files"
   ]
  },
  {
   "cell_type": "code",
   "execution_count": 3,
   "metadata": {},
   "outputs": [
    {
     "data": {
      "text/plain": [
       "12"
      ]
     },
     "execution_count": 3,
     "metadata": {},
     "output_type": "execute_result"
    }
   ],
   "source": [
    "all_bam_files = glob.glob(os.path.join(input_dir, '*.CLIP_*.bam'))\n",
    "len(all_bam_files)"
   ]
  },
  {
   "cell_type": "markdown",
   "metadata": {},
   "source": [
    "### Group them into IP/INPUT pairs\n",
    "- as jackie named them, we could probably do this automatically, but best to manually check"
   ]
  },
  {
   "cell_type": "code",
   "execution_count": 4,
   "metadata": {},
   "outputs": [],
   "source": [
    "pairs = {\"YTHDF2.CLIP_LM2_R1.umi.r1TrTr.sorted.STARUnmapped.out.sorted.STARAligned.outSo.rmDupSo.bam\":\"YTHDF2.INPUT_LM2_R1.umi.r1TrTr.sorted.STARUnmapped.out.sorted.STARAligned.outSo.rmDupSo.bam\",\n",
    "\"YTHDF2.CLIP_LM2_R2.umi.r1TrTr.sorted.STARUnmapped.out.sorted.STARAligned.outSo.rmDupSo.bam\":\"YTHDF2.INPUT_LM2_R2.umi.r1TrTr.sorted.STARUnmapped.out.sorted.STARAligned.outSo.rmDupSo.bam\",\n",
    "\"YTHDF2.CLIP_MCF7_R1.umi.r1TrTr.sorted.STARUnmapped.out.sorted.STARAligned.outSo.rmDupSo.bam\":\"YTHDF2.INPUT_MCF7_R1.umi.r1TrTr.sorted.STARUnmapped.out.sorted.STARAligned.outSo.rmDupSo.bam\",\n",
    "\"YTHDF2.CLIP_MCF7_R2.umi.r1TrTr.sorted.STARUnmapped.out.sorted.STARAligned.outSo.rmDupSo.bam\":\"YTHDF2.INPUT_MCF7_R2.umi.r1TrTr.sorted.STARUnmapped.out.sorted.STARAligned.outSo.rmDupSo.bam\",\n",
    "\"YTHDF2.CLIP_MDA_R1.umi.r1TrTr.sorted.STARUnmapped.out.sorted.STARAligned.outSo.rmDupSo.bam\":\"YTHDF2.INPUT_MDA_R1.umi.r1TrTr.sorted.STARUnmapped.out.sorted.STARAligned.outSo.rmDupSo.bam\",\n",
    "\"YTHDF2.CLIP_MDA_R2.umi.r1TrTr.sorted.STARUnmapped.out.sorted.STARAligned.outSo.rmDupSo.bam\":\"YTHDF2.INPUT_MDA_R2.umi.r1TrTr.sorted.STARUnmapped.out.sorted.STARAligned.outSo.rmDupSo.bam\",\n",
    "\"YTHDF2.CLIP_MERA9_R1.umi.r1TrTr.sorted.STARUnmapped.out.sorted.STARAligned.outSo.rmDupSo.bam\":\"YTHDF2.INPUT_MERA9_R1.umi.r1TrTr.sorted.STARUnmapped.out.sorted.STARAligned.outSo.rmDupSo.bam\",\n",
    "\"YTHDF2.CLIP_MERA9_R2.umi.r1TrTr.sorted.STARUnmapped.out.sorted.STARAligned.outSo.rmDupSo.bam\":\"YTHDF2.INPUT_MERA9_R2.umi.r1TrTr.sorted.STARUnmapped.out.sorted.STARAligned.outSo.rmDupSo.bam\",\n",
    "\"YTHDF2.CLIP_MERA9_TAM_R1.umi.r1TrTr.sorted.STARUnmapped.out.sorted.STARAligned.outSo.rmDupSo.bam\":\"YTHDF2.INPUT_MERA9_TAM_R1.umi.r1TrTr.sorted.STARUnmapped.out.sorted.STARAligned.outSo.rmDupSo.bam\",\n",
    "\"YTHDF2.CLIP_MERA9_TAM_R2.umi.r1TrTr.sorted.STARUnmapped.out.sorted.STARAligned.outSo.rmDupSo.bam\":\"YTHDF2.INPUT_MERA9_TAM_R2.umi.r1TrTr.sorted.STARUnmapped.out.sorted.STARAligned.outSo.rmDupSo.bam\",\n",
    "\"YTHDF2.CLIP_SKBR3_R1.umi.r1TrTr.sorted.STARUnmapped.out.sorted.STARAligned.outSo.rmDupSo.bam\":\"YTHDF2.INPUT_SKBR3_R1.umi.r1TrTr.sorted.STARUnmapped.out.sorted.STARAligned.outSo.rmDupSo.bam\",\n",
    "\"YTHDF2.CLIP_SKBR3_R2.umi.r1TrTr.sorted.STARUnmapped.out.sorted.STARAligned.outSo.rmDupSo.bam\":\"YTHDF2.INPUT_SKBR3_R2.umi.r1TrTr.sorted.STARUnmapped.out.sorted.STARAligned.outSo.rmDupSo.bam\"}"
   ]
  },
  {
   "cell_type": "markdown",
   "metadata": {},
   "source": [
    "### Define the 5'UTR/CDS/3'UTR bed files to use"
   ]
  },
  {
   "cell_type": "code",
   "execution_count": 5,
   "metadata": {},
   "outputs": [],
   "source": [
    "# all transcripts\n",
    "utr5 = os.path.join(input_dir, 'hg19_v19_five_prime_utrs.transcripts.bed')\n",
    "cds = os.path.join(input_dir, 'hg19_v19_cds.transcripts.bed')\n",
    "utr3 = os.path.join(input_dir, 'hg19_v19_three_prime_utrs.transcripts.bed')\n",
    "# only the highest expressed transcripts\n",
    "utr5_hi_tpm = os.path.join(input_dir, 'hg19_v19_five_prime_utrs.topENSTbyTPM.transcripts.bed')\n",
    "cds_hi_tpm = os.path.join(input_dir, 'hg19_v19_cds.transcripts.topENSTbyTPM.bed')\n",
    "utr3_hi_tpm = os.path.join(input_dir, 'hg19_v19_three_prime_utrs.topENSTbyTPM.transcripts.bed')"
   ]
  },
  {
   "cell_type": "markdown",
   "metadata": {},
   "source": [
    "### Write and submit cmds for making maps overlapping eCLIP bigwig density files with the top expressed transcripts"
   ]
  },
  {
   "cell_type": "code",
   "execution_count": 6,
   "metadata": {},
   "outputs": [],
   "source": [
    "cmds = []\n",
    "for bam in all_bam_files:\n",
    "    input_bam = os.path.join(input_dir, pairs[os.path.basename(bam)])\n",
    "    ip_pos_bw = os.path.splitext(bam)[0] + \".norm.pos.bw\"\n",
    "    ip_neg_bw = os.path.splitext(bam)[0] + \".norm.neg.bw\"\n",
    "    input_pos_bw = os.path.splitext(input_bam)[0] + \".norm.pos.bw\"\n",
    "    input_neg_bw = os.path.splitext(input_bam)[0] + \".norm.neg.bw\"\n",
    "    output_file = os.path.join(output_dir, os.path.basename(bam).split('.')[1] + \".topENSTbyTPM.svg\")\n",
    "    cmd = 'source activate rbp-maps;plot_map '\n",
    "    cmd += '--ipbam {} '.format(bam)\n",
    "    cmd += '--ip_pos_bw {} '.format(ip_pos_bw)\n",
    "    cmd += '--ip_neg_bw {} '.format(ip_neg_bw)\n",
    "    cmd += '--inputbam {} '.format(input_bam)\n",
    "    cmd += '--input_pos_bw {} '.format(input_pos_bw)\n",
    "    cmd += '--input_neg_bw {} '.format(input_neg_bw)\n",
    "    cmd += '--output {} '.format(output_file)\n",
    "    cmd += '--normalization_level 1 '\n",
    "    cmd += '--event metagene '\n",
    "    cmd += '--annotations {} {} {} '.format(\n",
    "        utr5_hi_tpm,\n",
    "        cds_hi_tpm,\n",
    "        utr3_hi_tpm,\n",
    "    )\n",
    "    cmd += '--annotation_type {} {} {}'.format(\"utr5\", \"cds\", \"utr3\")\n",
    "    cmds.append(cmd)"
   ]
  },
  {
   "cell_type": "code",
   "execution_count": 7,
   "metadata": {},
   "outputs": [
    {
     "name": "stderr",
     "output_type": "stream",
     "text": [
      "Writing 12 tasks as an array-job.\n",
      "Wrote commands to plot_map_topENSTbyTPM.sh.\n",
      "Submitted script to queue home.\n",
      " Job ID: 14950720\n"
     ]
    },
    {
     "data": {
      "text/plain": [
       "<qtools.submitter.Submitter at 0x2b47ee0a0b90>"
      ]
     },
     "execution_count": 7,
     "metadata": {},
     "output_type": "execute_result"
    }
   ],
   "source": [
    "bash_script = os.path.join(work_dir, 'run_plot_map_topENSTbyTPM.sh')\n",
    "Submitter(\n",
    "    commands=cmds, \n",
    "    job_name='plot_map_topENSTbyTPM', \n",
    "    array=True, \n",
    "    walltime=\"8:00:00\", \n",
    "    nodes=1, \n",
    "    ppn=1, \n",
    "    submit=True\n",
    ")"
   ]
  },
  {
   "cell_type": "markdown",
   "metadata": {},
   "source": [
    "### Write and submit cmds for making maps overlapping eCLIP bigwig density files with all annotated transcripts"
   ]
  },
  {
   "cell_type": "code",
   "execution_count": 8,
   "metadata": {},
   "outputs": [],
   "source": [
    "cmds = []\n",
    "for bam in all_bam_files:\n",
    "    input_bam = os.path.join(input_dir, pairs[os.path.basename(bam)])\n",
    "    ip_pos_bw = os.path.splitext(bam)[0] + \".norm.pos.bw\"\n",
    "    ip_neg_bw = os.path.splitext(bam)[0] + \".norm.neg.bw\"\n",
    "    input_pos_bw = os.path.splitext(input_bam)[0] + \".norm.pos.bw\"\n",
    "    input_neg_bw = os.path.splitext(input_bam)[0] + \".norm.neg.bw\"\n",
    "    cmd = 'source activate rbp-maps;plot_map '\n",
    "    cmd += '--ipbam {} '.format(bam)\n",
    "    cmd += '--ip_pos_bw {} '.format(ip_pos_bw)\n",
    "    cmd += '--ip_neg_bw {} '.format(ip_neg_bw)\n",
    "    cmd += '--inputbam {} '.format(input_bam)\n",
    "    cmd += '--input_pos_bw {} '.format(input_pos_bw)\n",
    "    cmd += '--input_neg_bw {} '.format(input_neg_bw)\n",
    "    cmd += '--output {} '.format(os.path.join(output_dir, os.path.basename(bam).split('.')[1] + \".allENST.svg\"))\n",
    "    cmd += '--normalization_level 1 '\n",
    "    cmd += '--event metagene '\n",
    "    cmd += '--annotations {} {} {} '.format(\n",
    "        utr5,\n",
    "        cds,\n",
    "        utr3,\n",
    "    )\n",
    "    cmd += '--annotation_type {} {} {}'.format(\"utr5\", \"cds\", \"utr3\")\n",
    "    cmds.append(cmd)"
   ]
  },
  {
   "cell_type": "code",
   "execution_count": 9,
   "metadata": {},
   "outputs": [
    {
     "name": "stderr",
     "output_type": "stream",
     "text": [
      "Writing 12 tasks as an array-job.\n",
      "Wrote commands to plot_map_allENST.sh.\n",
      "Submitted script to queue home.\n",
      " Job ID: 14950721\n"
     ]
    },
    {
     "data": {
      "text/plain": [
       "<qtools.submitter.Submitter at 0x2b47ee0a0c50>"
      ]
     },
     "execution_count": 9,
     "metadata": {},
     "output_type": "execute_result"
    }
   ],
   "source": [
    "bash_script = os.path.join(work_dir, 'run_plot_map_allENST.sh')\n",
    "Submitter(\n",
    "    commands=cmds, \n",
    "    job_name='plot_map_allENST', \n",
    "    array=True, \n",
    "    walltime=\"8:00:00\", \n",
    "    nodes=1, \n",
    "    ppn=1, \n",
    "    submit=True\n",
    ")"
   ]
  }
 ],
 "metadata": {
  "kernelspec": {
   "display_name": "python2-essential",
   "language": "python",
   "name": "python2-essential"
  },
  "language_info": {
   "codemirror_mode": {
    "name": "ipython",
    "version": 2
   },
   "file_extension": ".py",
   "mimetype": "text/x-python",
   "name": "python",
   "nbconvert_exporter": "python",
   "pygments_lexer": "ipython2",
   "version": "2.7.15"
  }
 },
 "nbformat": 4,
 "nbformat_minor": 2
}
