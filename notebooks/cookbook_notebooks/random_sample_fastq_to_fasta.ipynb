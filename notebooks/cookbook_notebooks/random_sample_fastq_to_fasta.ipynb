{
 "cells": [
  {
   "cell_type": "code",
   "execution_count": 1,
   "metadata": {},
   "outputs": [],
   "source": [
    "from Bio import SeqIO\n",
    "import os\n",
    "import random\n",
    "import gzip\n",
    "from tqdm import tnrange, tqdm_notebook"
   ]
  },
  {
   "cell_type": "code",
   "execution_count": 2,
   "metadata": {},
   "outputs": [],
   "source": [
    "work_dir = '/home/bay001/projects/codebase/clash_seq_pipeline/tests/wf_clashseqcore_pe_2barcodes/wf_clashseqcore_pe_2barcodes/results/'\n",
    "base_filename = 'SA.OE.X1B.r1.fqTrTr.fq.sorted.STARUnmapped.out.mate1.sorted.STARUnmapped.out.mate2.sorted.fq'\n",
    "base_output = base_filename + \".sampled\""
   ]
  },
  {
   "cell_type": "code",
   "execution_count": 3,
   "metadata": {},
   "outputs": [
    {
     "name": "stdout",
     "output_type": "stream",
     "text": [
      "('reads', 291492)\n",
      "('bases', 15928582)\n"
     ]
    }
   ],
   "source": [
    "# first get the number of total reads in the file.\n",
    "reads = 0\n",
    "bases = 0\n",
    "\n",
    "# with gzip.open(os.path.join(work_dir, base_filename), 'rb') as read:\n",
    "with open(os.path.join(work_dir, base_filename), 'r') as read:\n",
    "    for id in read:\n",
    "        seq = next(read)\n",
    "        reads += 1\n",
    "        bases += len(seq.strip())\n",
    "        next(read)\n",
    "        next(read)\n",
    "\n",
    "print(\"reads\", reads)\n",
    "print(\"bases\", bases)"
   ]
  },
  {
   "cell_type": "code",
   "execution_count": 4,
   "metadata": {},
   "outputs": [
    {
     "data": {
      "application/vnd.jupyter.widget-view+json": {
       "model_id": "11bc36a62be34766a0c2566ec8ad5911",
       "version_major": 2,
       "version_minor": 0
      },
      "text/plain": [
       "HBox(children=(IntProgress(value=0), HTML(value=u'')))"
      ]
     },
     "metadata": {},
     "output_type": "display_data"
    }
   ],
   "source": [
    "# generate the random numbers\n",
    "num_to_sample = 100\n",
    "indices = set(random.sample(range(reads), num_to_sample))\n",
    "\n",
    "# generate list of reads from random index\n",
    "sampled = []\n",
    "\n",
    "index = 0\n",
    "progress = tnrange(num_to_sample)\n",
    "handle = open(os.path.join(work_dir, base_filename), \"rU\")\n",
    "for record in SeqIO.parse(handle, \"fastq\"):\n",
    "    if index in indices:\n",
    "        sampled.append(record)\n",
    "        progress.update(1)\n",
    "    index += 1\n",
    "    "
   ]
  },
  {
   "cell_type": "code",
   "execution_count": 5,
   "metadata": {},
   "outputs": [
    {
     "data": {
      "text/plain": [
       "100"
      ]
     },
     "execution_count": 5,
     "metadata": {},
     "output_type": "execute_result"
    }
   ],
   "source": [
    "SeqIO.write(sampled, os.path.join(work_dir, base_output), \"fasta\")"
   ]
  },
  {
   "cell_type": "code",
   "execution_count": null,
   "metadata": {},
   "outputs": [],
   "source": []
  }
 ],
 "metadata": {
  "kernelspec": {
   "display_name": "python2-essential",
   "language": "python",
   "name": "python2-essential"
  },
  "language_info": {
   "codemirror_mode": {
    "name": "ipython",
    "version": 2
   },
   "file_extension": ".py",
   "mimetype": "text/x-python",
   "name": "python",
   "nbconvert_exporter": "python",
   "pygments_lexer": "ipython2",
   "version": "2.7.15"
  }
 },
 "nbformat": 4,
 "nbformat_minor": 2
}
