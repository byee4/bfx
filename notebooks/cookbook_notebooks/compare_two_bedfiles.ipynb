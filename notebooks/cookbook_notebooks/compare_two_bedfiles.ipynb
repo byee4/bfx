{
 "cells": [
  {
   "cell_type": "code",
   "execution_count": 1,
   "metadata": {},
   "outputs": [],
   "source": [
    "import pybedtools\n",
    "import os\n",
    "pybedtools.helpers.set_bedtools_path('/projects/ps-yeolab4/software/yeolabconda3/envs/python3essential-0.0.1/bin/')"
   ]
  },
  {
   "cell_type": "markdown",
   "metadata": {},
   "source": [
    "# Comparing the similarity between two bed files\n",
    "- As an example, I want to compare peak files generated between Gabe's GATK version of the eCLIP pipeline with my version (0.2.1+) to make sure the peaks are similar. They are not identical due to the preliminary demultiplexing step, which is different. "
   ]
  },
  {
   "cell_type": "markdown",
   "metadata": {},
   "source": [
    "# Read in two bed files"
   ]
  },
  {
   "cell_type": "code",
   "execution_count": 2,
   "metadata": {},
   "outputs": [
    {
     "name": "stdout",
     "output_type": "stream",
     "text": [
      "Number of peaks before merging (bed1: 353280, bed2: 353280\n"
     ]
    }
   ],
   "source": [
    "bed1_dir = '/home/bay001/projects/eric_chimclip_20200418/temporary_data/v4/R_chi/results'\n",
    "# bed2_dir = '/projects/ps-yeolab4/seqdata/20210929_eclipse_chimclips/GEO'\n",
    "bed2_dir = '/home/bay001/projects/eric_chimclip_20200418/temporary_data/v5/R_chi/results'\n",
    "bed1 = pybedtools.BedTool(\n",
    "    os.path.join(\n",
    "        bed1_dir, \n",
    "        'eclipse.R_Chi_2_1g.umi.r1.fqTrTr.fq.sorted.eclip.genome-mappedSoSo.rmDupSo.peakClusters.normed.compressed.bed'\n",
    "    )\n",
    ").sort()\n",
    "bed2 = pybedtools.BedTool(\n",
    "    os.path.join(\n",
    "        bed2_dir, \n",
    "        'eclipse.R_Chi_2_1g.umi.r1.fqTrTr.fq.sorted.eclip.genome-mappedSoSo.rmDupSo.peakClusters.normed.compressed.bed'\n",
    "        # 'R_CC_A3_01.basedon.peaks.l2inputnormnew.bed.compressed.bed'\n",
    "    )\n",
    ").sort()\n",
    "num_peaks_1 = bed1.count()\n",
    "num_peaks_2 = bed2.count()\n",
    "print(\"Number of peaks before merging (bed1: {}, bed2: {}\".format(num_peaks_1, num_peaks_2))"
   ]
  },
  {
   "cell_type": "code",
   "execution_count": 3,
   "metadata": {},
   "outputs": [],
   "source": [
    "def sigfilter(feature):\n",
    "    if float(feature['name']) < 3:\n",
    "        return False\n",
    "    if float(feature['score']) < 3:\n",
    "        return False\n",
    "    return True\n",
    "\n",
    "bed1 = bed1.filter(sigfilter).saveas()\n",
    "bed2 = bed2.filter(sigfilter).saveas()"
   ]
  },
  {
   "cell_type": "markdown",
   "metadata": {},
   "source": [
    "# Merge potentially overlapping peaks within each bed file"
   ]
  },
  {
   "cell_type": "code",
   "execution_count": 4,
   "metadata": {},
   "outputs": [
    {
     "name": "stdout",
     "output_type": "stream",
     "text": [
      "Number of peaks after merging (bed1: 12476, bed2: 12476\n"
     ]
    }
   ],
   "source": [
    "bed1 = bed1.merge(s=True, c='4,5,6', o='distinct,distinct,distinct')\n",
    "bed2 = bed2.merge(s=True, c='4,5,6', o='distinct,distinct,distinct')\n",
    "\n",
    "# Number of peaks after merging:\n",
    "\n",
    "num_peaks_1 = bed1.count()\n",
    "num_peaks_2 = bed2.count()\n",
    "print(\"Number of peaks after merging (bed1: {}, bed2: {}\".format(num_peaks_1, num_peaks_2))"
   ]
  },
  {
   "cell_type": "markdown",
   "metadata": {},
   "source": [
    "# Perform reciprocal intersection \n",
    "- apply overlapping filter (-f, at least 50% of bases covered by both peaks)\n",
    "- apply strandedness filter\n",
    "- apply reciprocal filter (A peaks cover at least 50% of B, and B peaks overlap at least 50% of A)"
   ]
  },
  {
   "cell_type": "code",
   "execution_count": 5,
   "metadata": {},
   "outputs": [],
   "source": [
    "num_intersecting = bed1.intersect(\n",
    "    bed2, f=0.01, r=True, s=True\n",
    ").count()"
   ]
  },
  {
   "cell_type": "markdown",
   "metadata": {},
   "source": [
    "# If the number of intersecting regions that overlap is 90+% the number of original A and B regions, they are similar."
   ]
  },
  {
   "cell_type": "code",
   "execution_count": 6,
   "metadata": {},
   "outputs": [
    {
     "name": "stdout",
     "output_type": "stream",
     "text": [
      "1.0\n",
      "1.0\n"
     ]
    }
   ],
   "source": [
    "print(num_intersecting / float(num_peaks_1))\n",
    "print(num_intersecting / float(num_peaks_2))"
   ]
  },
  {
   "cell_type": "code",
   "execution_count": null,
   "metadata": {},
   "outputs": [],
   "source": []
  },
  {
   "cell_type": "code",
   "execution_count": null,
   "metadata": {},
   "outputs": [],
   "source": []
  }
 ],
 "metadata": {
  "kernelspec": {
   "display_name": "python3essential (tscc)",
   "language": "python",
   "name": "python3essential"
  },
  "language_info": {
   "codemirror_mode": {
    "name": "ipython",
    "version": 3
   },
   "file_extension": ".py",
   "mimetype": "text/x-python",
   "name": "python",
   "nbconvert_exporter": "python",
   "pygments_lexer": "ipython3",
   "version": "3.6.7"
  }
 },
 "nbformat": 4,
 "nbformat_minor": 4
}
