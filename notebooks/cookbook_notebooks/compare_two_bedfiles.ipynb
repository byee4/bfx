{
 "cells": [
  {
   "cell_type": "code",
   "execution_count": 1,
   "metadata": {},
   "outputs": [],
   "source": [
    "import pybedtools\n",
    "import os"
   ]
  },
  {
   "cell_type": "markdown",
   "metadata": {},
   "source": [
    "# Comparing the similarity between two bed files\n",
    "- As an example, I want to compare peak files generated between Gabe's GATK version of the eCLIP pipeline with my version (0.2.1+) to make sure the peaks are similar. They are not identical due to the preliminary demultiplexing step, which is different. "
   ]
  },
  {
   "cell_type": "markdown",
   "metadata": {},
   "source": [
    "# Read in two bed files"
   ]
  },
  {
   "cell_type": "code",
   "execution_count": 2,
   "metadata": {},
   "outputs": [],
   "source": [
    "gatk = '/home/bay001/projects/michelle_msi_20180420/permanent_data/GATK/analysis_v1/'\n",
    "eclip = '/home/bay001/projects/michelle_msi_20180420/permanent_data/MSI/results/'\n",
    "\n",
    "bed1 = pybedtools.BedTool(\n",
    "    os.path.join(gatk, 'NSC201cb_Msi1_AI_rep1_Msi1.merged.r2.peaks.bed')\n",
    ")\n",
    "bed2 = pybedtools.BedTool(\n",
    "    os.path.join(eclip, 'Msi.NSC201cb_Msi1_AIP_rep1.X2A.r1.fqTrTr.sorted.STARUnmapped.out.sorted.STARAligned.outSo.rmDupSo.merged.r2.peakClusters.bed')\n",
    ")"
   ]
  },
  {
   "cell_type": "markdown",
   "metadata": {},
   "source": [
    "# Merge potentially overlapping peaks within each bed file"
   ]
  },
  {
   "cell_type": "code",
   "execution_count": 3,
   "metadata": {},
   "outputs": [
    {
     "name": "stdout",
     "output_type": "stream",
     "text": [
      "Number of peaks after merging (bed1: 87821, bed2: 87628\n"
     ]
    }
   ],
   "source": [
    "bed1 = bed1.merge(s=True, c='4,5,6', o='distinct,distinct,distinct')\n",
    "bed2 = bed2.merge(s=True, c='4,5,6', o='distinct,distinct,distinct')\n",
    "\n",
    "# Number of peaks after merging:\n",
    "\n",
    "num_peaks_1 = bed1.count()\n",
    "num_peaks_2 = bed2.count()\n",
    "print(\"Number of peaks after merging (bed1: {}, bed2: {}\".format(num_peaks_1, num_peaks_2))"
   ]
  },
  {
   "cell_type": "markdown",
   "metadata": {},
   "source": [
    "# Perform reciprocal intersection \n",
    "- apply overlapping filter (-f, at least 50% of bases covered by both peaks)\n",
    "- apply strandedness filter\n",
    "- apply reciprocal filter (A peaks cover at least 50% of B, and B peaks overlap at least 50% of A)"
   ]
  },
  {
   "cell_type": "code",
   "execution_count": 4,
   "metadata": {},
   "outputs": [],
   "source": [
    "num_intersecting = bed1.intersect(\n",
    "    bed2, f=0.50, r=True, s=True\n",
    ").count()"
   ]
  },
  {
   "cell_type": "markdown",
   "metadata": {},
   "source": [
    "# If the number of intersecting regions that overlap is 90+% the number of original A and B regions, they are similar."
   ]
  },
  {
   "cell_type": "code",
   "execution_count": 5,
   "metadata": {},
   "outputs": [
    {
     "name": "stdout",
     "output_type": "stream",
     "text": [
      "0.996640894547\n",
      "0.998835988497\n"
     ]
    }
   ],
   "source": [
    "print(num_intersecting / float(num_peaks_1))\n",
    "print(num_intersecting / float(num_peaks_2))"
   ]
  },
  {
   "cell_type": "code",
   "execution_count": null,
   "metadata": {},
   "outputs": [],
   "source": []
  }
 ],
 "metadata": {
  "kernelspec": {
   "display_name": "Python 2",
   "language": "python",
   "name": "python2"
  },
  "language_info": {
   "codemirror_mode": {
    "name": "ipython",
    "version": 2
   },
   "file_extension": ".py",
   "mimetype": "text/x-python",
   "name": "python",
   "nbconvert_exporter": "python",
   "pygments_lexer": "ipython2",
   "version": "2.7.14"
  }
 },
 "nbformat": 4,
 "nbformat_minor": 2
}
