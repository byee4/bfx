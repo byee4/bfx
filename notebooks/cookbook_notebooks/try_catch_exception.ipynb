{
 "cells": [
  {
   "cell_type": "code",
   "execution_count": 1,
   "metadata": {
    "collapsed": true
   },
   "outputs": [],
   "source": [
    "def is_it_broken():\n",
    "    \"\"\"\n",
    "    This function wraps a broken statement around a try/catch block.\n",
    "    If we find a specific error (such as when x is referenced before it's assigned), \n",
    "    we can print the error message but continue on with the loop.\n",
    "    \"\"\"\n",
    "    for i in range(0, 3):\n",
    "        try:\n",
    "            some_variable = x + 5\n",
    "        except NameError as e:\n",
    "            print(e)"
   ]
  },
  {
   "cell_type": "code",
   "execution_count": 2,
   "metadata": {},
   "outputs": [
    {
     "name": "stdout",
     "output_type": "stream",
     "text": [
      "global name 'x' is not defined\n",
      "global name 'x' is not defined\n",
      "global name 'x' is not defined\n"
     ]
    }
   ],
   "source": [
    "is_it_broken()"
   ]
  },
  {
   "cell_type": "code",
   "execution_count": null,
   "metadata": {
    "collapsed": true
   },
   "outputs": [],
   "source": []
  }
 ],
 "metadata": {
  "kernelspec": {
   "display_name": "Python 2",
   "language": "python",
   "name": "python2"
  },
  "language_info": {
   "codemirror_mode": {
    "name": "ipython",
    "version": 2
   },
   "file_extension": ".py",
   "mimetype": "text/x-python",
   "name": "python",
   "nbconvert_exporter": "python",
   "pygments_lexer": "ipython2",
   "version": "2.7.13"
  }
 },
 "nbformat": 4,
 "nbformat_minor": 2
}
