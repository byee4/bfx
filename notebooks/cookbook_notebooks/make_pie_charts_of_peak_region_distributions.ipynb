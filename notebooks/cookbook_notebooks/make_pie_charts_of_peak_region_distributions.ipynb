{
 "cells": [
  {
   "cell_type": "markdown",
   "metadata": {},
   "source": [
    "# Makes pie charts of peak distributions\n",
    "- given a manifest (input norm manifest that the yeolab uses), plots a pie distribution for all rbps"
   ]
  },
  {
   "cell_type": "code",
   "execution_count": 1,
   "metadata": {},
   "outputs": [],
   "source": [
    "%matplotlib inline\n",
    "import pandas as pd\n",
    "import numpy as np\n",
    "import os\n",
    "import matplotlib.pyplot as plt\n",
    "import seaborn as sns\n",
    "import re\n",
    "import cPickle as pickle"
   ]
  },
  {
   "cell_type": "code",
   "execution_count": 2,
   "metadata": {},
   "outputs": [
    {
     "data": {
      "text/html": [
       "<div>\n",
       "<style scoped>\n",
       "    .dataframe tbody tr th:only-of-type {\n",
       "        vertical-align: middle;\n",
       "    }\n",
       "\n",
       "    .dataframe tbody tr th {\n",
       "        vertical-align: top;\n",
       "    }\n",
       "\n",
       "    .dataframe thead th {\n",
       "        text-align: right;\n",
       "    }\n",
       "</style>\n",
       "<table border=\"1\" class=\"dataframe\">\n",
       "  <thead>\n",
       "    <tr style=\"text-align: right;\">\n",
       "      <th></th>\n",
       "      <th>uID</th>\n",
       "      <th>RBP</th>\n",
       "      <th>Cell line</th>\n",
       "      <th>CLIP_rep1</th>\n",
       "      <th>CLIP_rep2</th>\n",
       "      <th>INPUT</th>\n",
       "    </tr>\n",
       "  </thead>\n",
       "  <tbody>\n",
       "    <tr>\n",
       "      <th>0</th>\n",
       "      <td>203</td>\n",
       "      <td>HNRNPC</td>\n",
       "      <td>HepG2</td>\n",
       "      <td>/projects/ps-yeolab3/encode/analysis/encode_v1...</td>\n",
       "      <td>/projects/ps-yeolab3/encode/analysis/encode_v1...</td>\n",
       "      <td>/projects/ps-yeolab3/encode/analysis/encode_v1...</td>\n",
       "    </tr>\n",
       "    <tr>\n",
       "      <th>1</th>\n",
       "      <td>204</td>\n",
       "      <td>RBFOX2</td>\n",
       "      <td>HepG2</td>\n",
       "      <td>/projects/ps-yeolab3/encode/analysis/encode_v1...</td>\n",
       "      <td>/projects/ps-yeolab3/encode/analysis/encode_v1...</td>\n",
       "      <td>/projects/ps-yeolab3/encode/analysis/encode_v1...</td>\n",
       "    </tr>\n",
       "    <tr>\n",
       "      <th>2</th>\n",
       "      <td>205</td>\n",
       "      <td>IGF2BP1</td>\n",
       "      <td>HepG2</td>\n",
       "      <td>/projects/ps-yeolab3/encode/analysis/encode_v1...</td>\n",
       "      <td>/projects/ps-yeolab3/encode/analysis/encode_v1...</td>\n",
       "      <td>/projects/ps-yeolab3/encode/analysis/encode_v1...</td>\n",
       "    </tr>\n",
       "    <tr>\n",
       "      <th>3</th>\n",
       "      <td>206</td>\n",
       "      <td>HNRNPK</td>\n",
       "      <td>HepG2</td>\n",
       "      <td>/projects/ps-yeolab3/encode/analysis/encode_v1...</td>\n",
       "      <td>/projects/ps-yeolab3/encode/analysis/encode_v1...</td>\n",
       "      <td>/projects/ps-yeolab3/encode/analysis/encode_v1...</td>\n",
       "    </tr>\n",
       "    <tr>\n",
       "      <th>4</th>\n",
       "      <td>209</td>\n",
       "      <td>SRSF7</td>\n",
       "      <td>HepG2</td>\n",
       "      <td>/projects/ps-yeolab3/encode/analysis/encode_v1...</td>\n",
       "      <td>/projects/ps-yeolab3/encode/analysis/encode_v1...</td>\n",
       "      <td>/projects/ps-yeolab3/encode/analysis/encode_v1...</td>\n",
       "    </tr>\n",
       "  </tbody>\n",
       "</table>\n",
       "</div>"
      ],
      "text/plain": [
       "   uID      RBP Cell line                                          CLIP_rep1  \\\n",
       "0  203   HNRNPC     HepG2  /projects/ps-yeolab3/encode/analysis/encode_v1...   \n",
       "1  204   RBFOX2     HepG2  /projects/ps-yeolab3/encode/analysis/encode_v1...   \n",
       "2  205  IGF2BP1     HepG2  /projects/ps-yeolab3/encode/analysis/encode_v1...   \n",
       "3  206   HNRNPK     HepG2  /projects/ps-yeolab3/encode/analysis/encode_v1...   \n",
       "4  209    SRSF7     HepG2  /projects/ps-yeolab3/encode/analysis/encode_v1...   \n",
       "\n",
       "                                           CLIP_rep2  \\\n",
       "0  /projects/ps-yeolab3/encode/analysis/encode_v1...   \n",
       "1  /projects/ps-yeolab3/encode/analysis/encode_v1...   \n",
       "2  /projects/ps-yeolab3/encode/analysis/encode_v1...   \n",
       "3  /projects/ps-yeolab3/encode/analysis/encode_v1...   \n",
       "4  /projects/ps-yeolab3/encode/analysis/encode_v1...   \n",
       "\n",
       "                                               INPUT  \n",
       "0  /projects/ps-yeolab3/encode/analysis/encode_v1...  \n",
       "1  /projects/ps-yeolab3/encode/analysis/encode_v1...  \n",
       "2  /projects/ps-yeolab3/encode/analysis/encode_v1...  \n",
       "3  /projects/ps-yeolab3/encode/analysis/encode_v1...  \n",
       "4  /projects/ps-yeolab3/encode/analysis/encode_v1...  "
      ]
     },
     "execution_count": 2,
     "metadata": {},
     "output_type": "execute_result"
    }
   ],
   "source": [
    "ipnorm_manifest = pd.read_table('/projects/ps-yeolab3/bay001/reference_data/ENCODE/ALLDATASETS_submittedonly.txt')\n",
    "uid2rbp = dict(zip(ipnorm_manifest.uID, ipnorm_manifest.RBP))\n",
    "ipnorm_manifest.head()"
   ]
  },
  {
   "cell_type": "code",
   "execution_count": 3,
   "metadata": {},
   "outputs": [],
   "source": [
    "input_dir = '/home/bay001/scratch/'\n",
    "output_dir = '/home/bay001/scratch/'"
   ]
  },
  {
   "cell_type": "code",
   "execution_count": 4,
   "metadata": {},
   "outputs": [],
   "source": [
    "l10pv = 5\n",
    "l2fcv = 3\n",
    "input_norm_bed_head = ['chrom','start','end','l10p','l2fc','strand','annotation','gene']\n",
    "# allpeaks = ! ls $wd/*.bed.annotated\n",
    "# allpeaks[:1]\n",
    "allpeaks = [\n",
    "    '/home/elvannostrand/data/clip/CLIPseq_analysis/ENCODE_FINALforpapers_20180205/hg19/285_01.basedon_285_01.peaks.l2inputnormnew.bed.compressed.bed.annotated',\n",
    "    '/home/elvannostrand/data/clip/CLIPseq_analysis/ENCODE_FINALforpapers_20180205/hg19/285_02.basedon_285_02.peaks.l2inputnormnew.bed.compressed.bed.annotated',\n",
    "    '/home/elvannostrand/data/clip/CLIPseq_analysis/ENCODE_FINALforpapers_20180205/hg19/215_01.basedon_215_01.peaks.l2inputnormnew.bed.compressed.bed.annotated',\n",
    "    '/home/elvannostrand/data/clip/CLIPseq_analysis/ENCODE_FINALforpapers_20180205/hg19/215_02.basedon_215_02.peaks.l2inputnormnew.bed.compressed.bed.annotated'\n",
    "]"
   ]
  },
  {
   "cell_type": "code",
   "execution_count": 5,
   "metadata": {},
   "outputs": [],
   "source": [
    "def get_region(row):\n",
    "    return 'intergenic' if row['annotation'] == 'intergenic' else row['annotation'].split('|')[0]\n",
    "def get_containment(row):\n",
    "    return 'intergenic' if row['annotation'] == 'intergenic' else row['annotation'].split('|')[1]"
   ]
  },
  {
   "cell_type": "code",
   "execution_count": 6,
   "metadata": {},
   "outputs": [],
   "source": [
    "for peak in allpeaks:\n",
    "    df = pd.read_table(peak,names=input_norm_bed_head)\n",
    "    name = uid2rbp[re.findall('([\\w\\d_]+)_[\\d].$',os.path.basename(peak).split('.')[0])[0]]\n",
    "    df['region'] = df.apply(get_region,axis=1)\n",
    "    df['containment'] = df.apply(get_containment,axis=1)\n",
    "    dfx = df[(df['l10p'] > l10pv) & (df['l2fc'] > l2fcv)]\n",
    "    num_peaks = dfx.shape[0]\n",
    "\n",
    "    regions = dfx['region'].value_counts().to_dict()\n",
    "    labels = []\n",
    "    sizes = []\n",
    "\n",
    "    colors = sns.color_palette(\"hls\", len(regions))\n",
    "\n",
    "    for region, count in regions.iteritems():\n",
    "        labels.append(region)\n",
    "        sizes.append(count)\n",
    "\n",
    "    \"\"\"\n",
    "    Plot pie\n",
    "    \"\"\"\n",
    "    # The slices will be ordered and plotted counter-clockwise.\n",
    "\n",
    "    plt.pie(sizes, labels=labels, colors=colors,\n",
    "            autopct='%1.1f%%', shadow=True, startangle=90)\n",
    "    # Set aspect ratio to be equal so that pie is drawn as a circle.\n",
    "    plt.axis('equal')\n",
    "    plt.title(name,y=1.1)\n",
    "    plt.tight_layout()\n",
    "\n",
    "    plt.savefig(os.path.join(output_dir, os.path.basename(peak).replace('.annotated','.svg')))\n",
    "    \n",
    "    plt.close()\n",
    "    "
   ]
  },
  {
   "cell_type": "markdown",
   "metadata": {},
   "source": [
    "# Make 'background' pie charts of transcriptomic and genomic regions\n",
    "- i just take these from an existing pickle file that gabe generated earlier. too lazy to re-calculate the avg cds/utr esp if they're all the same per annotation"
   ]
  },
  {
   "cell_type": "code",
   "execution_count": 7,
   "metadata": {},
   "outputs": [],
   "source": [
    "pickle_file = '/projects/ps-yeolab3/encode/analysis/encode_master/204_01_RBFOX2.merged.r2.peaks.bed.clip_analysis.pickle'\n",
    "pickle = pd.read_pickle(pickle_file)"
   ]
  },
  {
   "cell_type": "code",
   "execution_count": 8,
   "metadata": {},
   "outputs": [],
   "source": [
    "# actually these are the same values, they should be since the genome backround is the same!\n",
    "genomic = pd.DataFrame(pickle['genic_region_sizes'], index=['sizes']).T\n",
    "\n",
    "# reorder the rows so that the colors match\n",
    "genomic = genomic.loc[['cds','five_prime_utrs','three_prime_utrs','proxintron500','distintron500']]"
   ]
  },
  {
   "cell_type": "markdown",
   "metadata": {},
   "source": [
    "# Plot the genomic background"
   ]
  },
  {
   "cell_type": "code",
   "execution_count": 9,
   "metadata": {},
   "outputs": [
    {
     "data": {
      "text/plain": [
       "(-1.1061731447675971,\n",
       " 1.1002939592746475,\n",
       " -1.1048846473762608,\n",
       " 1.1049149877270947)"
      ]
     },
     "execution_count": 9,
     "metadata": {},
     "output_type": "execute_result"
    },
    {
     "data": {
      "image/png": "[encoded data removed]",
      "text/plain": [
       "<matplotlib.figure.Figure at 0x2b117e871410>"
      ]
     },
     "metadata": {},
     "output_type": "display_data"
    }
   ],
   "source": [
    "fig, ax = plt.subplots()\n",
    "genomic.plot(kind='pie', ax=ax, y='sizes')\n",
    "ax.axis('equal')"
   ]
  },
  {
   "cell_type": "markdown",
   "metadata": {},
   "source": [
    "# Plot the transcriptomic background"
   ]
  },
  {
   "cell_type": "code",
   "execution_count": 10,
   "metadata": {},
   "outputs": [
    {
     "data": {
      "text/plain": [
       "(-1.1072439130455725,\n",
       " 1.1003449482402654,\n",
       " -1.1279847930723974,\n",
       " 1.1272151386784091)"
      ]
     },
     "execution_count": 10,
     "metadata": {},
     "output_type": "execute_result"
    },
    {
     "data": {
      "image/png": "[encoded data removed]",
      "text/plain": [
       "<matplotlib.figure.Figure at 0x2b119e63d9d0>"
      ]
     },
     "metadata": {},
     "output_type": "display_data"
    }
   ],
   "source": [
    "exonic = genomic.copy()\n",
    "exonic.drop('distintron500', inplace=True, axis=0)\n",
    "exonic.drop('proxintron500', inplace=True, axis=0)\n",
    "\n",
    "fig, ax = plt.subplots()\n",
    "exonic.plot(kind='pie', ax=ax, y='sizes')\n",
    "ax.axis('equal')"
   ]
  },
  {
   "cell_type": "code",
   "execution_count": null,
   "metadata": {},
   "outputs": [],
   "source": []
  }
 ],
 "metadata": {
  "kernelspec": {
   "display_name": "brian",
   "language": "python",
   "name": "brian"
  },
  "language_info": {
   "codemirror_mode": {
    "name": "ipython",
    "version": 2
   },
   "file_extension": ".py",
   "mimetype": "text/x-python",
   "name": "python",
   "nbconvert_exporter": "python",
   "pygments_lexer": "ipython2",
   "version": "2.7.11"
  }
 },
 "nbformat": 4,
 "nbformat_minor": 1
}
