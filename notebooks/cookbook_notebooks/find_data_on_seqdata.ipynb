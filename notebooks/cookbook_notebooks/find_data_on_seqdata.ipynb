{
 "cells": [
  {
   "cell_type": "code",
   "execution_count": 1,
   "metadata": {},
   "outputs": [],
   "source": [
    "import pandas as pd\n",
    "import numpy as np\n",
    "import os"
   ]
  },
  {
   "cell_type": "code",
   "execution_count": 2,
   "metadata": {},
   "outputs": [],
   "source": [
    "reference = '/projects/ps-yeolab3/bay001/reference_data/seqdata/'"
   ]
  },
  {
   "cell_type": "markdown",
   "metadata": {},
   "source": [
    "# get a list of files (up to level 4) using \"tree\"\n",
    "- for yeolab3 and yeolab4 seqdata"
   ]
  },
  {
   "cell_type": "code",
   "execution_count": 3,
   "metadata": {},
   "outputs": [],
   "source": [
    "seqdata = '/projects/ps-yeolab3/seqdata/'\n",
    "tree_file = os.path.join(reference, 'ps-yeolab3_tree.txt')\n",
    "\n",
    "! tree -d -L 5 $seqdata > $tree_file"
   ]
  },
  {
   "cell_type": "code",
   "execution_count": 4,
   "metadata": {},
   "outputs": [],
   "source": [
    "seqdata = '/projects/ps-yeolab4/seqdata/'\n",
    "tree_file = os.path.join(reference, 'ps-yeolab4_tree.txt')\n",
    "\n",
    "! tree -d -L 5 $seqdata > $tree_file"
   ]
  },
  {
   "cell_type": "code",
   "execution_count": 5,
   "metadata": {},
   "outputs": [],
   "source": [
    "def read_filelist_from_excel(fn, sheet='Sheet1'):\n",
    "    df = pd.read_excel(fn, names=['dirname'], sheet=sheet)\n",
    "    return df"
   ]
  },
  {
   "cell_type": "markdown",
   "metadata": {},
   "source": [
    "# Read in the Excel file we got from Kristen"
   ]
  },
  {
   "cell_type": "code",
   "execution_count": 6,
   "metadata": {},
   "outputs": [],
   "source": [
    "fn = '/projects/ps-yeolab3/bay001/reference_data/seqdata/Yeo_Runs_20181102.xlsx'\n",
    "df = read_filelist_from_excel(fn)"
   ]
  },
  {
   "cell_type": "code",
   "execution_count": 7,
   "metadata": {},
   "outputs": [
    {
     "name": "stdout",
     "output_type": "stream",
     "text": [
      "20160418 not found within 5 levels of tree.\n",
      "20160513 not found within 5 levels of tree.\n",
      "20160620 not found within 5 levels of tree.\n",
      "20160808 not found within 5 levels of tree.\n",
      "20161006 not found within 5 levels of tree.\n",
      "171115_K00180_0485_AHLK3JBBXX_PE10x_Combo not found within 5 levels of tree.\n",
      "171027_K00180_0471_AHLKCVBBXX_PE10x_Combo not found within 5 levels of tree.\n",
      "170929_K00180_0454_BHKTNLBBXX_PE10x_Combo not found within 5 levels of tree.\n",
      "170810_K00180_0414_AHKTNKBBXX_PE10x_Combo not found within 5 levels of tree.\n",
      "170623_K00180_0389_AHJYGHBBXX_PE100_Rhyb not found within 5 levels of tree.\n",
      "170623_D00611_0495_AHMJW2BCXY_Yeo_PE100 not found within 5 levels of tree.\n",
      "170414_D00611_0461_AHKLY7BCXY_Yeo not found within 5 levels of tree.\n",
      "170315_D00611_0452_AHHLHNBCXY_10X_Yeo not found within 5 levels of tree.\n",
      "170217_K00180_0316_BHHG3KBBXX_PE100_Combo not found within 5 levels of tree.\n",
      "170131_D00611_0428_AHFGTMBCXY_Yeo not found within 5 levels of tree.\n",
      "161206_K00180_0281_AHGGTTBBXX not found within 5 levels of tree.\n",
      "161021_D00611_0384_BHYMWJBCXX not found within 5 levels of tree.\n",
      "161018_D00611_0381_AHYVMCBCXX_Yeo_SR50 not found within 5 levels of tree.\n",
      "160314_D00611_0244_BHK5HNBCXX not found within 5 levels of tree.\n",
      "151223_K00180_0098_BH3LCTBBXX not found within 5 levels of tree.\n",
      "151028_K00180_0066_BH3CVCBBXX not found within 5 levels of tree.\n"
     ]
    }
   ],
   "source": [
    "for d in df['dirname']:\n",
    "    tree_file_yeolab3 = os.path.join(reference, 'ps-yeolab3_tree.txt')\n",
    "    tree_file_yeolab4 = os.path.join(reference, 'ps-yeolab4_tree.txt')\n",
    "    # simply grep for the directory within tree output.\n",
    "    grepped = ! grep $d $tree_file_yeolab3\n",
    "    # if 'grep' doesn't' find anything within yeolab3, then check yeolab4\n",
    "    if len(grepped) == 0: \n",
    "        grepped = ! grep $d $tree_file_yeolab4\n",
    "        if len(grepped) == 0:\n",
    "            print(\"{} not found within 5 levels of tree.\".format(d))"
   ]
  },
  {
   "cell_type": "code",
   "execution_count": null,
   "metadata": {},
   "outputs": [],
   "source": []
  }
 ],
 "metadata": {
  "kernelspec": {
   "display_name": "brian",
   "language": "python",
   "name": "brian"
  },
  "language_info": {
   "codemirror_mode": {
    "name": "ipython",
    "version": 2
   },
   "file_extension": ".py",
   "mimetype": "text/x-python",
   "name": "python",
   "nbconvert_exporter": "python",
   "pygments_lexer": "ipython2",
   "version": "2.7.11"
  }
 },
 "nbformat": 4,
 "nbformat_minor": 2
}
