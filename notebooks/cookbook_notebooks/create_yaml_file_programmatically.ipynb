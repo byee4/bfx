{
 "cells": [
  {
   "cell_type": "code",
   "execution_count": 1,
   "metadata": {},
   "outputs": [],
   "source": [
    "import glob\n",
    "import os\n",
    "import pandas as pd\n",
    "import yaml"
   ]
  },
  {
   "cell_type": "code",
   "execution_count": 2,
   "metadata": {},
   "outputs": [],
   "source": [
    "# this can be really any path, just how i tend to organize things\n",
    "input_dir = '/home/bay001/projects/ryan_editing_20190314/temporary_data/01_rnaseq/inputs/'\n",
    "work_dir = '/home/bay001/projects/ryan_editing_20190314/temporary_data/01_rnaseq/'\n",
    "output_dir = '/home/bay001/projects/ryan_editing_20190314/temporary_data/01_rnaseq/outputs/'"
   ]
  },
  {
   "cell_type": "code",
   "execution_count": 3,
   "metadata": {},
   "outputs": [
    {
     "data": {
      "text/plain": [
       "42"
      ]
     },
     "execution_count": 3,
     "metadata": {},
     "output_type": "execute_result"
    }
   ],
   "source": [
    "all_fastqs = glob.glob(os.path.join(input_dir, '*.fastq.gz'))\n",
    "len(all_fastqs)"
   ]
  },
  {
   "cell_type": "code",
   "execution_count": 4,
   "metadata": {},
   "outputs": [],
   "source": [
    "samples_dict = []\n",
    "for fastq in all_fastqs:\n",
    "    samples_dict.append({\n",
    "        \"name\":\"{}\".format(os.path.basename(fastq).split('.')[0]),\n",
    "        \"read1\":{\n",
    "            \"class\":\"File\",\n",
    "            \"path\":fastq\n",
    "        },\n",
    "    })"
   ]
  },
  {
   "cell_type": "code",
   "execution_count": 5,
   "metadata": {},
   "outputs": [],
   "source": [
    "species = 'hg19'\n",
    "dataset = 'editing'\n",
    "speciesGenomeDir = '/projects/ps-yeolab3/bay001/annotations/hg19/star_2_4_0i_gencode19_sjdb'\n",
    "repeatElementGenomeDir = '/projects/ps-yeolab/genomes/RepBase18.05.fasta/species_specific/homo_sapiens_repbase_v2'\n",
    "adapters = '/projects/ps-yeolab4/software/rnaseq/0.0.2/examples/inputs/adapters.fasta'\n",
    "chrom_sizes = '/projects/ps-yeolab3/bay001/annotations/hg19/hg19.chrom.sizes'\n",
    "manifest_dict = {\n",
    "    'speciesGenomeDir':{\"class\":\"Directory\",\"path\":speciesGenomeDir},\n",
    "    'repeatElementGenomeDir':{\"class\":\"Directory\",\"path\":repeatElementGenomeDir},\n",
    "    'species':species,\n",
    "    'dataset':dataset,\n",
    "    'reads':samples_dict,\n",
    "    'b_adapters':{'class':'File','path':adapters},\n",
    "    'speciesChromSizes':{'class':'File','path':chrom_sizes}\n",
    "}"
   ]
  },
  {
   "cell_type": "code",
   "execution_count": 6,
   "metadata": {},
   "outputs": [],
   "source": [
    "o = open(os.path.join(work_dir, \"ryan_editing_targeted.yaml\"), 'w')\n",
    "o.write('#!/usr/bin/env RNASEQ_singleend\\n')\n",
    "\n",
    "o.write(\"###############################################################################\\n\")\n",
    "o.write(\"# Collaborator Name  : Ryan Marina\\n\")\n",
    "o.write(\"#\\n\")\n",
    "o.write(\"# Experiment Title   : Targeted deep sequencing of editing sites\\n\")\n",
    "o.write(\"#\\n\")\n",
    "o.write(\"# Cell Line / Tissue : \\n\")\n",
    "o.write(\"#\\n\")\n",
    "o.write(\"# Comment            : Should be just a few mapped regions.\\n\")\n",
    "o.write(\"#\\n\")\n",
    "o.write(\"###############################################################################\\n\")\n",
    "o.close()\n",
    "\n",
    "with open(os.path.join(work_dir, \"ryan_editing_targeted.yaml\"), 'a') as o:\n",
    "    yaml.dump(manifest_dict, o, default_flow_style=False)\n",
    "    "
   ]
  }
 ],
 "metadata": {
  "kernelspec": {
   "display_name": "python3-essential",
   "language": "python",
   "name": "python3-essential"
  },
  "language_info": {
   "codemirror_mode": {
    "name": "ipython",
    "version": 3
   },
   "file_extension": ".py",
   "mimetype": "text/x-python",
   "name": "python",
   "nbconvert_exporter": "python",
   "pygments_lexer": "ipython3",
   "version": "3.6.7"
  }
 },
 "nbformat": 4,
 "nbformat_minor": 2
}
