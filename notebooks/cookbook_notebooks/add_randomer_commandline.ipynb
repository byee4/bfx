{
 "cells": [
  {
   "cell_type": "markdown",
   "metadata": {},
   "source": [
    "# This notebook shows how to add randomers and UMIs back to paired-end eCLIP reads. You will need to do this prior to submitting to GEO\n",
    "- Yes we need to do this"
   ]
  },
  {
   "cell_type": "code",
   "execution_count": 13,
   "metadata": {},
   "outputs": [],
   "source": [
    "import pandas as pd\n",
    "import yaml\n",
    "import pandas as pd\n",
    "import os\n",
    "import glob\n",
    "from IPython.core.display import HTML\n",
    "import numpy as np\n",
    "import shutil\n",
    "from collections import Counter, defaultdict, OrderedDict\n",
    "import yaml\n",
    "from qtools import Submitter"
   ]
  },
  {
   "cell_type": "code",
   "execution_count": 2,
   "metadata": {},
   "outputs": [
    {
     "name": "stdout",
     "output_type": "stream",
     "text": [
      "results directory: /home/bay001/projects/nazia_clipseq_20170627/permanent_data/eCLIP-0.2.2/DDX5/results\n"
     ]
    }
   ],
   "source": [
    "input_dir = '/home/bay001/projects/nazia_clipseq_20170627/permanent_data/eCLIP-0.2.2/'\n",
    "output_dir = '/home/bay001/projects/nazia_clipseq_20170627/permanent_data/eCLIP-0.2.2/add_randomer_for_GEO/'\n",
    "\n",
    "yaml_file = 'DDX5.yaml'\n",
    "\n",
    "# below assumes the yaml document is run in the same directory as where the results folder is\n",
    "results_dir = os.path.join(input_dir,  os.path.splitext(yaml_file)[0], 'results')\n",
    "assert os.path.exists(results_dir)\n",
    "print(\"results directory: {}\".format(results_dir))"
   ]
  },
  {
   "cell_type": "code",
   "execution_count": 3,
   "metadata": {},
   "outputs": [],
   "source": [
    "# this script was copied from Gabe on 12/12/2018\n",
    "add_randomer_program = '/home/bay001/projects/codebase/bfx/pyscripts/clipseq/add_randomer.py'"
   ]
  },
  {
   "cell_type": "code",
   "execution_count": 4,
   "metadata": {},
   "outputs": [],
   "source": [
    "def read_expt_metadata(fn):\n",
    "    \"\"\" reads in a YAML file into a YAML object for easier parsing\"\"\"\n",
    "    skip=True\n",
    "    ln = '\\n'\n",
    "    with open(fn) as f:\n",
    "        for i in range(14):  # bleh, basically skip any line that isn't YAML\n",
    "            x = f.readline()\n",
    "        try:\n",
    "            data = yaml.load(f)\n",
    "            return data\n",
    "        except Exception as e:\n",
    "            print(e)\n",
    "            return None\n",
    "\n",
    "metadata = read_expt_metadata(os.path.join(input_dir, yaml_file))"
   ]
  },
  {
   "cell_type": "code",
   "execution_count": 5,
   "metadata": {},
   "outputs": [],
   "source": [
    "def get_demuxed_file_from_filename(results_dir, dataset, name, barcode, readnum):\n",
    "    \"\"\" since eCLIP 2.2 has consistent names, we can use this func to infer the demultiplexed file in results/ from the original filename and barcode\"\"\"\n",
    "    fn = '{}.{}.{}.r{}.fq.gz'.format(dataset, name, barcode, readnum)\n",
    "    return os.path.join(results_dir, fn)\n"
   ]
  },
  {
   "cell_type": "markdown",
   "metadata": {},
   "source": [
    "# We need to:\n",
    "1. ip read 1 demuxed barcode 1: add barcode 1 (add_randomer.py -i -o -b)\n",
    "2. ip read 1 demuxed barcode 2: add barcode 2\n",
    "3. ip read 2 demuxed barcode 1: add randomer (add_randomer.py -i -o)\n",
    "4. ip read 2 demuxed barcode 2: add randomer (add_randomer.py -i -o)\n",
    "5. input read 1 (NIL demuxed): do nothing\n",
    "6. input read 2 (NIL demuxed): add randomer (add_randomer.py -i -o)\n",
    "\n",
    "7. merge the ip read1 demuxed + re-barcoded files together\n",
    "8. leave input reads alone"
   ]
  },
  {
   "cell_type": "code",
   "execution_count": 6,
   "metadata": {},
   "outputs": [],
   "source": [
    "dataset_name = metadata['dataset']\n",
    "cmds = []\n",
    "for paired_sample in metadata['samples']:\n",
    "    ip_barcode1 = paired_sample[0]['barcodeids'][0]\n",
    "    ip_barcode2 = paired_sample[0]['barcodeids'][1]\n",
    "    \n",
    "    ### read1 of ip ###\n",
    "    ip_read1_barcode1_in = get_demuxed_file_from_filename(\n",
    "        results_dir,\n",
    "        dataset_name,\n",
    "        paired_sample[0]['name'],\n",
    "        ip_barcode1, # first barcode\n",
    "        1, # read1 or read2\n",
    "    )\n",
    "    assert os.path.exists(ip_read1_barcode1_in)\n",
    "    ip_read1_barcode2_in = get_demuxed_file_from_filename(\n",
    "        results_dir,\n",
    "        dataset_name,\n",
    "        paired_sample[0]['name'],\n",
    "        ip_barcode2, # second barcode\n",
    "        1, # read1 or read2\n",
    "    )\n",
    "    assert os.path.exists(ip_read1_barcode2_in)\n",
    "    \n",
    "    ip_read1_barcode1_out = os.path.join(output_dir, os.path.basename(ip_read1_barcode1_in)) + '.addbarcode.fq.gz'\n",
    "    assert not os.path.exists(ip_read1_barcode1_out)\n",
    "    ip_read1_barcode2_out = os.path.join(output_dir, os.path.basename(ip_read1_barcode2_in)) + '.addbarcode.fq.gz'\n",
    "    assert not os.path.exists(ip_read1_barcode2_out)\n",
    "    # step 1 \n",
    "    randomer_read1_barcode1_ip_cmd = 'python {} -i {} -o {} -b {}'.format(\n",
    "        add_randomer_program,\n",
    "        ip_read1_barcode1_in,\n",
    "        ip_read1_barcode1_out,\n",
    "        ip_barcode1.replace('D8f', 'D08fixed')\n",
    "    )\n",
    "    cmds.append(randomer_read1_barcode1_ip_cmd)\n",
    "    # step 2\n",
    "    randomer_read1_barcode2_ip_cmd = 'python {} -i {} -o {} -b {}'.format(\n",
    "        add_randomer_program,\n",
    "        ip_read1_barcode2_in,\n",
    "        ip_read1_barcode2_out,\n",
    "        ip_barcode2.replace('D8f', 'D08fixed')\n",
    "    )\n",
    "    cmds.append(randomer_read1_barcode2_ip_cmd)\n",
    "    ### read2 of ip ###\n",
    "    ip_read2_barcode1_in = get_demuxed_file_from_filename(\n",
    "        results_dir,\n",
    "        dataset_name,\n",
    "        paired_sample[0]['name'],\n",
    "        ip_barcode1, # second barcode\n",
    "        2, # read1 or read2\n",
    "    )\n",
    "    assert os.path.exists(ip_read2_barcode1_in)\n",
    "    ip_read2_barcode2_in = get_demuxed_file_from_filename(\n",
    "        results_dir,\n",
    "        dataset_name,\n",
    "        paired_sample[0]['name'],\n",
    "        ip_barcode2, # second barcode\n",
    "        2, # read1 or read2\n",
    "    )\n",
    "    assert os.path.exists(ip_read2_barcode2_in)\n",
    "    \n",
    "    ip_read2_barcode1_out = os.path.join(output_dir, os.path.basename(ip_read2_barcode1_in)) + '.addrandomer.fq.gz'\n",
    "    assert not os.path.exists(ip_read2_barcode1_out)\n",
    "    ip_read2_barcode2_out = os.path.join(output_dir, os.path.basename(ip_read2_barcode2_in)) + '.addrandomer.fq.gz'\n",
    "    assert not os.path.exists(ip_read2_barcode2_out)\n",
    "    # step 3 \n",
    "    randomer_read1_barcode1_ip_cmd = 'python {} -i {} -o {}'.format(\n",
    "        add_randomer_program,\n",
    "        ip_read2_barcode1_in,\n",
    "        ip_read2_barcode1_out\n",
    "    )\n",
    "    cmds.append(randomer_read1_barcode1_ip_cmd)\n",
    "    # step 4\n",
    "    randomer_read1_barcode2_ip_cmd = 'python {} -i {} -o {}'.format(\n",
    "        add_randomer_program,\n",
    "        ip_read2_barcode2_in,\n",
    "        ip_read2_barcode2_out\n",
    "    )\n",
    "    cmds.append(randomer_read1_barcode2_ip_cmd)\n",
    "    ### read1 of input ###\n",
    "    input_read1_barcode1_in = get_demuxed_file_from_filename(\n",
    "        results_dir,\n",
    "        dataset_name,\n",
    "        paired_sample[1]['name'],\n",
    "        paired_sample[1]['barcodeids'][0], # first barcode (should be NIL for input)\n",
    "        1,\n",
    "    )\n",
    "    assert os.path.exists(input_read1_barcode1_in)\n",
    "    input_read1_barcode2_in = get_demuxed_file_from_filename(\n",
    "        results_dir,\n",
    "        dataset_name,\n",
    "        paired_sample[1]['name'],\n",
    "        paired_sample[1]['barcodeids'][1], # first barcode (should be NIL for input)\n",
    "        1,\n",
    "    )\n",
    "    assert os.path.exists(input_read1_barcode2_in)\n",
    "    assert input_read1_barcode1_in == input_read1_barcode2_in # should be NIL for both?\n",
    "    ### read2 of input ###\n",
    "    input_read2_barcode1_in = get_demuxed_file_from_filename(\n",
    "        results_dir,\n",
    "        dataset_name,\n",
    "        paired_sample[1]['name'],\n",
    "        paired_sample[1]['barcodeids'][0], # first barcode (should be NIL for input)\n",
    "        2,\n",
    "    )\n",
    "    assert os.path.exists(ip_read2_barcode1_in)\n",
    "    input_read2_barcode2_in = get_demuxed_file_from_filename(\n",
    "        results_dir,\n",
    "        dataset_name,\n",
    "        paired_sample[1]['name'],\n",
    "        paired_sample[1]['barcodeids'][1], # second barcode (should be NIL for input)\n",
    "        2,\n",
    "    )\n",
    "    assert os.path.exists(ip_read2_barcode2_in)\n",
    "    assert input_read2_barcode1_in == input_read2_barcode2_in # should be NIL for both?\n",
    "    input_read2_barcode1_out = os.path.join(output_dir, os.path.basename(input_read2_barcode1_in)) + '.addrandomer.fq.gz'\n",
    "    assert not os.path.exists(input_read2_barcode1_out)\n",
    "    # step 5 (nothing)\n",
    "    \n",
    "    # step 6\n",
    "    randomer_read2_barcode1_in_cmd = 'python {} -i {} -o {}'.format(\n",
    "        add_randomer_program,\n",
    "        input_read2_barcode1_in,\n",
    "        input_read2_barcode1_out\n",
    "    )\n",
    "    cmds.append(randomer_read2_barcode1_in_cmd)"
   ]
  },
  {
   "cell_type": "code",
   "execution_count": null,
   "metadata": {},
   "outputs": [],
   "source": []
  },
  {
   "cell_type": "code",
   "execution_count": 7,
   "metadata": {},
   "outputs": [
    {
     "name": "stderr",
     "output_type": "stream",
     "text": [
      "Writing 30 tasks as an array-job.\n",
      "Wrote commands to add_randomer.sh.\n",
      "Submitted script to queue home.\n",
      " Job ID: 14061653\n"
     ]
    },
    {
     "data": {
      "text/plain": [
       "<qtools.submitter.Submitter at 0x2abbf559db10>"
      ]
     },
     "execution_count": 7,
     "metadata": {},
     "output_type": "execute_result"
    }
   ],
   "source": [
    "bash_script = 'add_randomer.sh'\n",
    "\n",
    "Submitter(\n",
    "    commands=cmds, \n",
    "    array=True, \n",
    "    job_name='add_randomer', \n",
    "    sh=bash_script,\n",
    "    walltime=\"12:00:00\",\n",
    "    nodes=1,\n",
    "    ppn=1,\n",
    "    submit=False\n",
    ")"
   ]
  },
  {
   "cell_type": "markdown",
   "metadata": {},
   "source": [
    "# Run the randomer script above\n",
    "- submit = False for now just to double check stuff"
   ]
  },
  {
   "cell_type": "markdown",
   "metadata": {},
   "source": [
    "# Now merge the fastq files\n",
    "- (step 7)"
   ]
  },
  {
   "cell_type": "code",
   "execution_count": 22,
   "metadata": {},
   "outputs": [],
   "source": [
    "with open(os.path.join(output_dir, 'merge_fastq.sh'), 'w') as f:\n",
    "    f.write('#!/bin/bash\\n')\n",
    "    for paired_sample in metadata['samples']:\n",
    "        sorted_r1_fq = sorted(glob.glob(\n",
    "                os.path.join(\n",
    "                    output_dir, \n",
    "                    \"{}.{}.*.r1.fq.gz.addbarcode.fq.gz\".format(\n",
    "                        dataset_name, paired_sample[0]['name']\n",
    "                    )\n",
    "                )\n",
    "            ))\n",
    "        sorted_r2_fq = sorted(glob.glob(\n",
    "                os.path.join(\n",
    "                    output_dir, \n",
    "                    \"{}.{}.*.r2.fq.gz.addrandomer.fq.gz\".format(\n",
    "                        dataset_name, paired_sample[0]['name']\n",
    "                    )\n",
    "                )\n",
    "            ))\n",
    "        output_r1_file = os.path.join(output_dir, '{}.{}.r1.reformatted.fq.gz'.format(dataset_name, paired_sample[0]['name']))\n",
    "        output_r2_file = os.path.join(output_dir, '{}.{}.r2.reformatted.fq.gz'.format(dataset_name, paired_sample[0]['name']))\n",
    "        cmd1 = 'cat {} {} > {}'.format(sorted_r1_fq[0], sorted_r1_fq[1], output_r1_file)\n",
    "        cmd2 = 'cat {} {} > {}'.format(sorted_r2_fq[0], sorted_r2_fq[1], output_r2_file)\n",
    "        f.write(cmd1 + '\\n')\n",
    "        f.write(cmd2 + '\\n')"
   ]
  },
  {
   "cell_type": "markdown",
   "metadata": {},
   "source": [
    "# Run the merge script"
   ]
  },
  {
   "cell_type": "code",
   "execution_count": null,
   "metadata": {},
   "outputs": [],
   "source": []
  }
 ],
 "metadata": {
  "kernelspec": {
   "display_name": "brian",
   "language": "python",
   "name": "brian"
  },
  "language_info": {
   "codemirror_mode": {
    "name": "ipython",
    "version": 2
   },
   "file_extension": ".py",
   "mimetype": "text/x-python",
   "name": "python",
   "nbconvert_exporter": "python",
   "pygments_lexer": "ipython2",
   "version": "2.7.15"
  }
 },
 "nbformat": 4,
 "nbformat_minor": 2
}
