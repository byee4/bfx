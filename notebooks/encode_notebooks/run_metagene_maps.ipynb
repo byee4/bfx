{
 "cells": [
  {
   "cell_type": "markdown",
   "metadata": {},
   "source": [
    "# Writes metagene maps and submits jobs to TSCC"
   ]
  },
  {
   "cell_type": "code",
   "execution_count": 1,
   "metadata": {},
   "outputs": [],
   "source": [
    "import pandas as pd\n",
    "import os\n",
    "import json\n",
    "import yaml\n",
    "import glob\n",
    "# import rethinkdb as r\n",
    "from collections import defaultdict\n",
    "from qtools import Submitter\n",
    "from encode import manifest_helpers as m\n",
    "\n",
    "from tqdm import tnrange, tqdm_notebook\n",
    "pd.set_option(\"display.max_colwidth\", 10000)"
   ]
  },
  {
   "cell_type": "code",
   "execution_count": 2,
   "metadata": {},
   "outputs": [],
   "source": [
    "density_runner = '/home/bay001/projects/codebase/rbp-maps/maps/plot_map.py'\n",
    "\n",
    "params = {\n",
    "    'peak':{\n",
    "        'peak_dir' : '/projects/ps-yeolab3/bay001/maps/current_annotations/se_peak_bigbeds/',\n",
    "        'output_dir' : '/projects/ps-yeolab3/bay001/maps/current/metagene/',\n",
    "        'clip_manifest' : '/home/bay001/projects/maps_20160420/permanent_data/ALLDATASETS_submittedonly.txt',\n",
    "        'prefix' : 'peak_bb',\n",
    "    },\n",
    "    'idr-peak':{\n",
    "        'peak_dir' : '/projects/ps-yeolab3/bay001/maps/current_annotations/se_idr_peak_bigbeds/',\n",
    "        'output_dir' : '/projects/ps-yeolab3/bay001/maps/current/idr_metagene/',\n",
    "        'clip_manifest' : '/home/bay001/projects/maps_20160420/permanent_data/ALLDATASETS_submittedonly.txt',\n",
    "        'prefix' : 'idr_peak_bb',\n",
    "    },\n",
    "}"
   ]
  },
  {
   "cell_type": "code",
   "execution_count": 6,
   "metadata": {},
   "outputs": [],
   "source": [
    "current_date = '1-28-2017'\n",
    "\n",
    "annotation_dir = '/projects/ps-yeolab3/bay001/maps/current_annotations/'\n",
    "\n",
    "utr5_hepg2 = os.path.join(annotation_dir, 'hg19_v19_five_prime_utrs.transcripts.bed.HepG2_merged.bed')\n",
    "utr5_k562 = os.path.join(annotation_dir, 'hg19_v19_five_prime_utrs.transcripts.bed.K562_merged.bed')\n",
    "\n",
    "cds_hepg2 = os.path.join(annotation_dir, 'hg19_v19_cds.transcripts.bed.HepG2_merged.bed')\n",
    "cds_k562 = os.path.join(annotation_dir, 'hg19_v19_cds.transcripts.bed.K562_merged.bed')\n",
    "\n",
    "utr3_hepg2 = os.path.join(annotation_dir, 'hg19_v19_three_prime_utrs.transcripts.bed.HepG2_merged.bed')\n",
    "utr3_k562 = os.path.join(annotation_dir, 'hg19_v19_three_prime_utrs.transcripts.bed.K562_merged.bed')\n",
    "\n",
    "bash_scripts_dir = '/projects/ps-yeolab3/bay001/maps/bash_scripts/{}'.format(current_date)\n",
    "\n",
    "if not os.path.exists(bash_scripts_dir):\n",
    "    ! mkdir $bash_scripts_dir"
   ]
  },
  {
   "cell_type": "code",
   "execution_count": 7,
   "metadata": {},
   "outputs": [
    {
     "name": "stderr",
     "output_type": "stream",
     "text": [
      "Writing 362 tasks as an array-job.\n",
      "Wrote commands to /projects/ps-yeolab3/bay001/maps/bash_scripts/1-28-2017/peak_bb-metagene_png.0.sh.\n"
     ]
    },
    {
     "data": {
      "text/plain": [
       "<qtools.submitter.Submitter at 0x2b00c1ff36d0>"
      ]
     },
     "execution_count": 7,
     "metadata": {},
     "output_type": "execute_result"
    }
   ],
   "source": [
    "img_extension = ['png']\n",
    "\n",
    "read_type = 'peak'\n",
    "all_peaks = glob.glob(os.path.join(params[read_type]['peak_dir'],'*.bb'))\n",
    "\n",
    "### Force override of maps\n",
    "force = True\n",
    "\n",
    "clip_df = pd.read_table(params[read_type]['clip_manifest'])\n",
    "cmds = []\n",
    "\n",
    "for ext in img_extension:\n",
    "    for peak in all_peaks:\n",
    "\n",
    "        uid, rep, other = m.split_uid_and_rep(os.path.basename(peak).split('.')[0])\n",
    "        _, _, _, rbp, cell = m.get_clip_file_from_uid(\n",
    "            clip_df, uid\n",
    "        )\n",
    "\n",
    "        if cell == 'K562':\n",
    "            utr5_annotations = utr5_k562\n",
    "            utr3_annotations = utr3_k562\n",
    "            cds_annotations = cds_k562\n",
    "        elif cell == 'HepG2':\n",
    "            utr5_annotations = utr5_hepg2\n",
    "            utr3_annotations = utr3_hepg2\n",
    "            cds_annotations = cds_hepg2\n",
    "        else:\n",
    "            print(cell)\n",
    "\n",
    "        ### build teh command used to call the python script.\n",
    "        output_filename = os.path.join(\n",
    "            params[read_type]['output_dir'],\n",
    "            os.path.basename(peak).replace('.bb','.bb.{}'.format(ext))\n",
    "        )\n",
    "\n",
    "        # Build the cmd line\n",
    "        cmd = \"python \" + density_runner\n",
    "        cmd = cmd + \" --event {}\".format('metagene')\n",
    "        cmd = cmd + \" --peak {}\".format(peak)\n",
    "        cmd = cmd + \" --output {}\".format(output_filename)\n",
    "        cmd = cmd + \" --annotations {} {} {}\".format(\n",
    "            cds_annotations, utr3_annotations, utr5_annotations\n",
    "        )\n",
    "        cmd = cmd + \" --annotation_type {} {} {}\".format(\n",
    "            'cds', '3utr', '5utr'\n",
    "        )\n",
    "        cmd = cmd + \" --normalization_level {}\".format(0)\n",
    "        if not os.path.exists(output_filename) or force == True:\n",
    "            cmds.append(cmd)\n",
    "\n",
    "\n",
    "bash_script_sh = '/projects/ps-yeolab3/bay001/maps/bash_scripts/{}/{}-metagene_{}.{}.sh'.format(\n",
    "    current_date, \n",
    "    params[read_type]['prefix'], \n",
    "    ext,\n",
    "    0\n",
    ")\n",
    "\n",
    "Submitter(\n",
    "    cmds, \n",
    "    \"{}-metagene_{}\".format(params[read_type]['prefix'], ext), \n",
    "    sh=bash_script_sh,\n",
    "    submit=False,\n",
    "    array=True,\n",
    "    walltime='8:00:00',\n",
    "    queue='home-yeo'\n",
    ")"
   ]
  },
  {
   "cell_type": "code",
   "execution_count": 8,
   "metadata": {},
   "outputs": [
    {
     "name": "stderr",
     "output_type": "stream",
     "text": [
      "Writing 181 tasks as an array-job.\n",
      "Wrote commands to /projects/ps-yeolab3/bay001/maps/bash_scripts/1-28-2017/idr_peak_bb-metagene_png.0.sh.\n"
     ]
    },
    {
     "data": {
      "text/plain": [
       "<qtools.submitter.Submitter at 0x2b00c220c850>"
      ]
     },
     "execution_count": 8,
     "metadata": {},
     "output_type": "execute_result"
    }
   ],
   "source": [
    "img_extension = ['png']\n",
    "\n",
    "read_type = 'idr-peak'\n",
    "all_peaks = glob.glob(os.path.join(params[read_type]['peak_dir'],'*.bb'))\n",
    "\n",
    "### Force override of maps\n",
    "force = True\n",
    "\n",
    "clip_df = pd.read_table(params[read_type]['clip_manifest'])\n",
    "cmds = []\n",
    "\n",
    "for ext in img_extension:\n",
    "    for peak in all_peaks:\n",
    "        \n",
    "        uid = os.path.basename(peak).split('.')[0]\n",
    "        _, _, _, rbp, cell = m.get_clip_file_from_uid(\n",
    "            clip_df, uid\n",
    "        )\n",
    "\n",
    "        if cell == 'K562':\n",
    "            utr5_annotations = utr5_k562\n",
    "            utr3_annotations = utr3_k562\n",
    "            cds_annotations = cds_k562\n",
    "        elif cell == 'HepG2':\n",
    "            utr5_annotations = utr5_hepg2\n",
    "            utr3_annotations = utr3_hepg2\n",
    "            cds_annotations = cds_hepg2\n",
    "        else:\n",
    "            print(cell)\n",
    "\n",
    "        ### build teh command used to call the python script.\n",
    "        output_filename = os.path.join(\n",
    "            params[read_type]['output_dir'],\n",
    "            os.path.basename(peak).replace('.bb','.bb.{}'.format(ext))\n",
    "        )\n",
    "\n",
    "        # Build the cmd line\n",
    "        cmd = \"python \" + density_runner\n",
    "        cmd = cmd + \" --event {}\".format('metagene')\n",
    "        cmd = cmd + \" --peak {}\".format(peak)\n",
    "        cmd = cmd + \" --output {}\".format(output_filename)\n",
    "        cmd = cmd + \" --annotations {} {} {}\".format(\n",
    "            cds_annotations, utr3_annotations, utr5_annotations\n",
    "        )\n",
    "        cmd = cmd + \" --annotation_type {} {} {}\".format(\n",
    "            'cds', '3utr', '5utr'\n",
    "        )\n",
    "        cmd = cmd + \" --normalization_level {}\".format(0)\n",
    "        if not os.path.exists(output_filename) or force == True:\n",
    "            cmds.append(cmd)\n",
    "\n",
    "\n",
    "bash_script_sh = '/projects/ps-yeolab3/bay001/maps/bash_scripts/{}/{}-metagene_{}.{}.sh'.format(\n",
    "    current_date, \n",
    "    params[read_type]['prefix'], \n",
    "    ext,\n",
    "    0\n",
    ")\n",
    "\n",
    "Submitter(\n",
    "    cmds, \n",
    "    \"{}-metagene_{}\".format(params[read_type]['prefix'], ext), \n",
    "    sh=bash_script_sh,\n",
    "    submit=False,\n",
    "    array=True,\n",
    "    walltime='8:00:00',\n",
    "    queue='home-yeo'\n",
    ")"
   ]
  },
  {
   "cell_type": "code",
   "execution_count": null,
   "metadata": {},
   "outputs": [],
   "source": []
  }
 ],
 "metadata": {
  "kernelspec": {
   "display_name": "Python 2",
   "language": "python",
   "name": "python2"
  },
  "language_info": {
   "codemirror_mode": {
    "name": "ipython",
    "version": 2
   },
   "file_extension": ".py",
   "mimetype": "text/x-python",
   "name": "python",
   "nbconvert_exporter": "python",
   "pygments_lexer": "ipython2",
   "version": "2.7.14"
  }
 },
 "nbformat": 4,
 "nbformat_minor": 2
}
