{
 "cells": [
  {
   "cell_type": "markdown",
   "metadata": {
    "collapsed": true
   },
   "source": [
    "# makes the 'big trackhub' for the washU Genomebrowser\n",
    "- the important stuff is that it subsets each overlapping exon"
   ]
  },
  {
   "cell_type": "code",
   "execution_count": 1,
   "metadata": {
    "collapsed": false
   },
   "outputs": [
    {
     "name": "stdout",
     "output_type": "stream",
     "text": [
      "/home/bay001/anaconda/lib/python2.7/distutils/dist.py:267: UserWarning: Unknown distribution option: 'include_package_data'\n",
      "  warnings.warn(msg)\n",
      "/home/bay001/anaconda/lib/python2.7/distutils/dist.py:267: UserWarning: Unknown distribution option: 'install_requires'\n",
      "  warnings.warn(msg)\n",
      "running build\n",
      "running build_py\n",
      "/home/bay001/anaconda/lib/python2.7/distutils/dist.py:267: UserWarning: Unknown distribution option: 'include_package_data'\n",
      "  warnings.warn(msg)\n",
      "/home/bay001/anaconda/lib/python2.7/distutils/dist.py:267: UserWarning: Unknown distribution option: 'install_requires'\n",
      "  warnings.warn(msg)\n",
      "running install\n",
      "running build\n",
      "running build_py\n",
      "running install_lib\n",
      "running install_egg_info\n",
      "Removing /home/bay001/anaconda/lib/python2.7/site-packages/bfx-0.0.0-py2.7.egg-info\n",
      "Writing /home/bay001/anaconda/lib/python2.7/site-packages/bfx-0.0.0-py2.7.egg-info\n"
     ]
    }
   ],
   "source": [
    "! cd /home/bay001/projects/codebase/bfx/;python setup.py build && python setup.py install"
   ]
  },
  {
   "cell_type": "code",
   "execution_count": 131,
   "metadata": {
    "collapsed": false
   },
   "outputs": [],
   "source": [
    "%matplotlib inline\n",
    "import matplotlib.pyplot as plt\n",
    "import seaborn as sns\n",
    "from rnaseq import rmats_inclevel_analysis as rmats\n",
    "from encode import manifest_helpers\n",
    "import pandas as pd\n",
    "import numpy as np\n",
    "import os\n",
    "import glob\n",
    "from tqdm import tnrange, tqdm_notebook\n",
    "import pybedtools\n",
    "\n",
    "pd.set_option('display.max_columns', 500)\n"
   ]
  },
  {
   "cell_type": "code",
   "execution_count": 3,
   "metadata": {
    "collapsed": false
   },
   "outputs": [],
   "source": []
  },
  {
   "cell_type": "markdown",
   "metadata": {},
   "source": [
    "## make merged incleveldifference matrix\n",
    "- merges junction regions and get average incleveldifference for each RBP\n",
    "- performs outer join on junction regions\n",
    "- returns full matrix of RBPs"
   ]
  },
  {
   "cell_type": "code",
   "execution_count": 4,
   "metadata": {
    "collapsed": false
   },
   "outputs": [
    {
     "name": "stderr",
     "output_type": "stream",
     "text": [
      "/home/bay001/anaconda/lib/python2.7/site-packages/rnaseq/rmats_inclevel_analysis.py:98: SettingWithCopyWarning: \n",
      "A value is trying to be set on a copy of a slice from a DataFrame.\n",
      "Try using .loc[row_indexer,col_indexer] = value instead\n",
      "\n",
      "See the caveats in the documentation: http://pandas.pydata.org/pandas-docs/stable/indexing.html#indexing-view-versus-copy\n",
      "  df['index'] = df.apply(event_to_string, axis=1)\n"
     ]
    },
    {
     "name": "stdout",
     "output_type": "stream",
     "text": [
      "\n"
     ]
    }
   ],
   "source": []
  },
  {
   "cell_type": "code",
   "execution_count": 132,
   "metadata": {
    "collapsed": false
   },
   "outputs": [
    {
     "name": "stdout",
     "output_type": "stream",
     "text": [
      "Help on module encode.manifest_helpers in encode:\n",
      "\n",
      "NAME\n",
      "    encode.manifest_helpers - Created on Feb 2, 2017\n",
      "\n",
      "FILE\n",
      "    /home/bay001/anaconda/lib/python2.7/site-packages/encode/manifest_helpers.py\n",
      "\n",
      "DESCRIPTION\n",
      "    Customized script for parsing yeolab ENCODE-style manifests. \n",
      "    See data/ for examples\n",
      "    @author: brianyee\n",
      "\n",
      "FUNCTIONS\n",
      "    get_all_info_for_one_expt(uid, annotation_dir, clip_manifest_df, rnaseq_manifests)\n",
      "        Parameters\n",
      "        ----------\n",
      "        uid : basestring\n",
      "            uID of a given clip expt\n",
      "        annotation_dir : basestring\n",
      "            directory where all the annotations downloaded from graveleylab are\n",
      "        clip_manifest_df : pandas.DataFrame\n",
      "            manifest file containing all submitted clips\n",
      "            associates RBP -> CLIP expt\n",
      "        rnaseq_manifests : basestring\n",
      "            manifest file containing all submitted kd expts\n",
      "            associates RBP -> shRNA KD splicing rmats expt\n",
      "        \n",
      "        Returns\n",
      "        -------\n",
      "    \n",
      "    get_annotations_from_splicing_prefix(annotation_dir, splicing_prefix, pos_splicing_suffix='-included-upon-knockdown', neg_splicing_suffix='-excluded-upon-knockdown')\n",
      "        For each RBP, we're looking specifically for positive and negative annotation.\n",
      "        For PNGs, since we're putting this on a website, we wanted to name these annotations properly.\n",
      "        \n",
      "        Valid suffixes so far:\n",
      "        \n",
      "        PNG: -included-upon-knockdown / -excluded-upon-knockdown\n",
      "        SVG: .positive.nr.txt / .negative.nr.txt\n",
      "        PEAK: .positive.nr.miso / .negative.nr.miso\n",
      "    \n",
      "    get_clip_file_from_uid(clip, rbp_uid)\n",
      "        Returns attributes from the submitted CLIP manifest given an id\n",
      "        \n",
      "        Parameters\n",
      "        ----------\n",
      "        clip : pandas.DataFrame\n",
      "            table in 2016 eCLIP manifest format\n",
      "        rbp_uid : basestring\n",
      "            Yeolab-ENCODE style uID, ie. \"204\" for 'RBFOX2'\n",
      "        \n",
      "        Returns\n",
      "        -------\n",
      "        clip_rep1 : basestring\n",
      "            bam file location of the first rep\n",
      "        clip_rep2 : basestring\n",
      "            bam file location of the second rep\n",
      "        input_rep : basestring\n",
      "            bam file location of the input rep\n",
      "        clip_rbp : basestring\n",
      "            RBP name in the 'RBP'\n",
      "        clip_celltype : basestring\n",
      "            HepG2 or K562 usually, could be anything in the \"Cell line\" column\n",
      "    \n",
      "    get_original_annotation_from_splicing_prefix(annotation_dir, splicing_prefix)\n",
      "    \n",
      "    get_peak_annotations_from_splicing_prefix(annotation_dir, splicing_prefix)\n",
      "        Helper function which basically calls get_annotations_from_splicing_prefix\n",
      "        with a specific set of annotations.\n",
      "        \n",
      "        Parameters\n",
      "        ----------\n",
      "        annotation_dir : basestring\n",
      "            directory where the annotations are held\n",
      "        splicing_prefix : basestring\n",
      "            ie. '204_01_rbfox\n",
      "        \n",
      "        Returns\n",
      "        -------\n",
      "    \n",
      "    get_rnaseq_splicing_prefix_from_rbpname(rnaseq_manifests, rbp_name, cell_type)\n",
      "        Given an RBP name and a corresponding rnaseq_manifest, return the\n",
      "        experimental id/filename. (\"Official_RBP\" -> \"EXP\")\n",
      "        \n",
      "        Parameters\n",
      "        ----------\n",
      "        rnaseq_manifests : basestring\n",
      "            \"xintao\" styled rna-seq manifest file\n",
      "        rbp_name : basestring\n",
      "            name of rbp\n",
      "        cell_type : basestring\n",
      "            cell type (either 'HepG2' or 'K562', usually)\n",
      "        Returns\n",
      "        -------\n",
      "        prefix : basestring\n",
      "            either the experimental file OR 'NO_RNASEQ' if no corresponding\n",
      "            rnaseq experiment was specified in the file.\n",
      "    \n",
      "    split_uid_and_rep(name)\n",
      "        Parameters\n",
      "        ----------\n",
      "        name : basestring\n",
      "            Yeolab-styled ENCODE uID for a CLIP expt.\n",
      "        Returns\n",
      "        -------\n",
      "        uid : basestring\n",
      "            uID prefix\n",
      "        rep : basestring\n",
      "            rep number\n",
      "        others : basestring\n",
      "            any other string attached\n",
      "    \n",
      "    subset_rmats_and_get_dimensions(f, pvalue, fdr, sep)\n",
      "        Subsets the rmats file and returns the number of surviving events.\n",
      "        \n",
      "        Parameters\n",
      "        ----------\n",
      "        f\n",
      "        pvalue\n",
      "        fdr\n",
      "        sep\n",
      "        \n",
      "        Returns\n",
      "        -------\n",
      "\n",
      "\n"
     ]
    }
   ],
   "source": [
    "help(manifest_helpers)"
   ]
  },
  {
   "cell_type": "markdown",
   "metadata": {},
   "source": [
    "# get_average_of_overlapping_cassettes\n",
    "- merge bedtool\n",
    "- get intersection between bedfile and each nonoverlapping region from merge\n",
    "- break each intersected group into parts using intersect and groupby\n",
    "- overlapping regions will have the average dpsi value of the overlaps\n",
    "- nonoverlapping regions will retain their dpsi value"
   ]
  },
  {
   "cell_type": "code",
   "execution_count": null,
   "metadata": {
    "collapsed": false
   },
   "outputs": [],
   "source": []
  },
  {
   "cell_type": "markdown",
   "metadata": {},
   "source": [
    "# Test functions\n",
    "- these aren't really bedtools, these all return dataframes because they're visible. "
   ]
  },
  {
   "cell_type": "code",
   "execution_count": 5,
   "metadata": {
    "collapsed": false
   },
   "outputs": [],
   "source": [
    "def fake_completely_overlapping_bedtool():\n",
    "    intervals = []\n",
    "    intervals.append(pybedtools.create_interval_from_list([\n",
    "                'chr1', '500', '2500', 'big', '0.75', '+'\n",
    "            ]))\n",
    "    intervals.append(pybedtools.create_interval_from_list([\n",
    "                'chr1', '1000', '2000', 'small', '0.5', '+'\n",
    "            ]))\n",
    "    bedtool = pybedtools.BedTool(intervals).to_dataframe()\n",
    "    bedtool.columns = ['chr','exonStart_0base','exonEnd','geneSymbol','IncLevelDifference','strand']\n",
    "    return bedtool\n",
    "\n",
    "def fake_partially_overlapping_bedtool():\n",
    "    intervals = []\n",
    "    intervals.append(pybedtools.create_interval_from_list([\n",
    "                'chr1', '500', '1000', 'genex', '0.75', '+'\n",
    "            ]))\n",
    "    intervals.append(pybedtools.create_interval_from_list([\n",
    "                'chr1', '750', '1500', 'genex', '0.5', '+'\n",
    "            ]))\n",
    "    bedtool = pybedtools.BedTool(intervals).to_dataframe()\n",
    "    bedtool.columns = ['chr','exonStart_0base','exonEnd','geneSymbol','IncLevelDifference','strand']\n",
    "    return bedtool\n",
    "\n",
    "def fake_share_start_exon_bedtool():\n",
    "    intervals = []\n",
    "    intervals.append(pybedtools.create_interval_from_list([\n",
    "                'chr1', '500', '1000', 'genex', '0.75', '+'\n",
    "            ]))\n",
    "    intervals.append(pybedtools.create_interval_from_list([\n",
    "                'chr1', '500', '1500', 'genex', '0.5', '+'\n",
    "            ]))\n",
    "    bedtool = pybedtools.BedTool(intervals).to_dataframe()\n",
    "    bedtool.columns = ['chr','exonStart_0base','exonEnd','geneSymbol','IncLevelDifference','strand']\n",
    "    return bedtool\n",
    "\n",
    "def fake_share_end_exon_bedtool():\n",
    "    intervals = []\n",
    "    intervals.append(pybedtools.create_interval_from_list([\n",
    "                'chr1', '500', '1500', 'genex', '0.75', '+'\n",
    "            ]))\n",
    "    intervals.append(pybedtools.create_interval_from_list([\n",
    "                'chr1', '750', '1500', 'genex', '0.5', '+'\n",
    "            ]))\n",
    "    bedtool = pybedtools.BedTool(intervals).to_dataframe()\n",
    "    bedtool.columns = ['chr','exonStart_0base','exonEnd','geneSymbol','IncLevelDifference','strand']\n",
    "    return bedtool"
   ]
  },
  {
   "cell_type": "markdown",
   "metadata": {},
   "source": [
    "# The actual functions:"
   ]
  },
  {
   "cell_type": "code",
   "execution_count": 30,
   "metadata": {
    "collapsed": false
   },
   "outputs": [],
   "source": [
    "def make_rmats_bedtool(df):\n",
    "    \"\"\"\n",
    "    Uses the skipped exon start and end to create a bedtool\n",
    "    \"\"\"\n",
    "    df = df[['chr','exonStart_0base','exonEnd','geneSymbol','IncLevelDifference','strand']]\n",
    "    bt = pybedtools.BedTool.from_dataframe(df)\n",
    "    bt = bt.sort()\n",
    "    return bt\n",
    "\n",
    "def make_bedtool(df):\n",
    "    \"\"\"\n",
    "    I can't figure out why the BedTool() function isn't working...\n",
    "    Probably has something to do with turning positions into floats,\n",
    "    but this function is works just the same...\n",
    "    \"\"\"\n",
    "    intervals = []\n",
    "    \n",
    "    for col, row in df.iterrows():\n",
    "        intervals.append(\n",
    "            pybedtools.create_interval_from_list(\n",
    "                [str(row['chrom']), str(row['start']), \n",
    "                 str(row['end']), str(row['name']), \n",
    "                 str(row['score']), str(row['strand'])]\n",
    "            )\n",
    "        )\n",
    "    return pybedtools.BedTool(intervals)\n",
    "\n",
    "def redefine_regions(df):\n",
    "    \"\"\"\n",
    "    turns overlapping regions into distinct nonoverlapping regions.\n",
    "    \"\"\"\n",
    "    positions = []\n",
    "    intervals = []\n",
    "    for col, row in df.iterrows():\n",
    "        chrom = row['chrom']\n",
    "        strand = row['strand']\n",
    "        positions.append(row['start'])\n",
    "        positions.append(row['end'])\n",
    "    positions = sorted(set(positions))\n",
    "    for p in range(0, len(positions[:-1])):\n",
    "        intervals.append(pybedtools.create_interval_from_list(\n",
    "            [chrom, str(positions[p]), str(positions[p+1]), 'name', '0', strand]\n",
    "        ))\n",
    "    return pybedtools.BedTool(intervals)\n",
    "\n",
    "def rescore(to_split):\n",
    "    \"\"\"\n",
    "    Takes a dataframe of overlapping intervals, \n",
    "    and returns nonoverlapping regions, scored by \n",
    "    either taking the average of the original overlapping region,\n",
    "    or by taking the single score over the nonoverlapping\n",
    "    regions. \n",
    "    \"\"\"\n",
    "    name = to_split['name'].value_counts()[0] # just take the first name, i don't really care about the name part anyway\n",
    "    final_split = pd.DataFrame(\n",
    "        make_bedtool(to_split).intersect(\n",
    "            redefine_regions(to_split)).to_dataframe().groupby(\n",
    "            ['chrom','start','end','strand'])['score'].mean()\n",
    "        ).reset_index()\n",
    "    final_split['name'] = name\n",
    "    final_split = final_split[['chrom','start','end','name','score','strand']]\n",
    "    return final_split\n",
    "\n",
    "def full_wrapper(df):\n",
    "    \"\"\"\n",
    "    Takes a dataframe from an RMATS file and turns it into a BedTool.\n",
    "    \n",
    "    Calls 'pybedtools.cluster().to_dataframe()', which groups overlapping \n",
    "    regions using the 'thickStart' column.\n",
    "    \n",
    "    For each group, if there is only one region within the group, do nothing\n",
    "    (concat to merged). If there is more than one region, this means we have\n",
    "    overlapping intervals. Then it must call rescore() to split these regions\n",
    "    into nonoverlapping intervals. \n",
    "    \"\"\"\n",
    "    dfx = make_rmats_bedtool(df)\n",
    "    dfy = dfx.cluster().to_dataframe()\n",
    "    merged = pd.DataFrame(columns=['chrom','start','end','name','score','strand','thickStart'])\n",
    "    groups = set(dfy['thickStart'])\n",
    "    progress = tnrange(len(groups))\n",
    "    for g in groups:\n",
    "        dft = dfy[dfy['thickStart']==g] # get all overlapping regions\n",
    "        if dft.shape[0] > 1:\n",
    "            merged = pd.concat([merged, rescore(dft)])\n",
    "        else:\n",
    "            merged = pd.concat([merged, dft])\n",
    "        progress.update(1)\n",
    "    merged = merged[['chrom','start','end','name','score','strand']]\n",
    "    return merged"
   ]
  },
  {
   "cell_type": "code",
   "execution_count": null,
   "metadata": {
    "collapsed": false
   },
   "outputs": [],
   "source": []
  },
  {
   "cell_type": "markdown",
   "metadata": {
    "collapsed": false
   },
   "source": [
    "# Test functions"
   ]
  },
  {
   "cell_type": "markdown",
   "metadata": {
    "collapsed": false
   },
   "source": [
    "# region1 encompasses region2 fully"
   ]
  },
  {
   "cell_type": "code",
   "execution_count": 7,
   "metadata": {
    "collapsed": false
   },
   "outputs": [
    {
     "data": {
      "text/html": [
       "<div>\n",
       "<table border=\"1\" class=\"dataframe\">\n",
       "  <thead>\n",
       "    <tr style=\"text-align: right;\">\n",
       "      <th></th>\n",
       "      <th>chr</th>\n",
       "      <th>exonStart_0base</th>\n",
       "      <th>exonEnd</th>\n",
       "      <th>geneSymbol</th>\n",
       "      <th>IncLevelDifference</th>\n",
       "      <th>strand</th>\n",
       "    </tr>\n",
       "  </thead>\n",
       "  <tbody>\n",
       "    <tr>\n",
       "      <th>0</th>\n",
       "      <td>chr1</td>\n",
       "      <td>500</td>\n",
       "      <td>2500</td>\n",
       "      <td>big</td>\n",
       "      <td>0.75</td>\n",
       "      <td>+</td>\n",
       "    </tr>\n",
       "    <tr>\n",
       "      <th>1</th>\n",
       "      <td>chr1</td>\n",
       "      <td>1000</td>\n",
       "      <td>2000</td>\n",
       "      <td>small</td>\n",
       "      <td>0.50</td>\n",
       "      <td>+</td>\n",
       "    </tr>\n",
       "  </tbody>\n",
       "</table>\n",
       "</div>"
      ],
      "text/plain": [
       "    chr  exonStart_0base  exonEnd geneSymbol  IncLevelDifference strand\n",
       "0  chr1              500     2500        big                0.75      +\n",
       "1  chr1             1000     2000      small                0.50      +"
      ]
     },
     "execution_count": 7,
     "metadata": {},
     "output_type": "execute_result"
    }
   ],
   "source": [
    "df = fake_completely_overlapping_bedtool()\n",
    "df"
   ]
  },
  {
   "cell_type": "code",
   "execution_count": 8,
   "metadata": {
    "collapsed": false
   },
   "outputs": [
    {
     "data": {
      "text/html": [
       "<div>\n",
       "<table border=\"1\" class=\"dataframe\">\n",
       "  <thead>\n",
       "    <tr style=\"text-align: right;\">\n",
       "      <th></th>\n",
       "      <th>chrom</th>\n",
       "      <th>start</th>\n",
       "      <th>end</th>\n",
       "      <th>name</th>\n",
       "      <th>score</th>\n",
       "      <th>strand</th>\n",
       "    </tr>\n",
       "  </thead>\n",
       "  <tbody>\n",
       "    <tr>\n",
       "      <th>0</th>\n",
       "      <td>chr1</td>\n",
       "      <td>500.0</td>\n",
       "      <td>1000.0</td>\n",
       "      <td>big</td>\n",
       "      <td>0.750</td>\n",
       "      <td>+</td>\n",
       "    </tr>\n",
       "    <tr>\n",
       "      <th>1</th>\n",
       "      <td>chr1</td>\n",
       "      <td>1000.0</td>\n",
       "      <td>2000.0</td>\n",
       "      <td>big</td>\n",
       "      <td>0.625</td>\n",
       "      <td>+</td>\n",
       "    </tr>\n",
       "    <tr>\n",
       "      <th>2</th>\n",
       "      <td>chr1</td>\n",
       "      <td>2000.0</td>\n",
       "      <td>2500.0</td>\n",
       "      <td>big</td>\n",
       "      <td>0.750</td>\n",
       "      <td>+</td>\n",
       "    </tr>\n",
       "  </tbody>\n",
       "</table>\n",
       "</div>"
      ],
      "text/plain": [
       "  chrom   start     end name  score strand\n",
       "0  chr1   500.0  1000.0  big  0.750      +\n",
       "1  chr1  1000.0  2000.0  big  0.625      +\n",
       "2  chr1  2000.0  2500.0  big  0.750      +"
      ]
     },
     "execution_count": 8,
     "metadata": {},
     "output_type": "execute_result"
    }
   ],
   "source": [
    "full_wrapper(df)"
   ]
  },
  {
   "cell_type": "markdown",
   "metadata": {},
   "source": [
    "# exon1 start < exon2 start, exon1 end < exon2 end"
   ]
  },
  {
   "cell_type": "code",
   "execution_count": 9,
   "metadata": {
    "collapsed": false
   },
   "outputs": [
    {
     "data": {
      "text/html": [
       "<div>\n",
       "<table border=\"1\" class=\"dataframe\">\n",
       "  <thead>\n",
       "    <tr style=\"text-align: right;\">\n",
       "      <th></th>\n",
       "      <th>chr</th>\n",
       "      <th>exonStart_0base</th>\n",
       "      <th>exonEnd</th>\n",
       "      <th>geneSymbol</th>\n",
       "      <th>IncLevelDifference</th>\n",
       "      <th>strand</th>\n",
       "    </tr>\n",
       "  </thead>\n",
       "  <tbody>\n",
       "    <tr>\n",
       "      <th>0</th>\n",
       "      <td>chr1</td>\n",
       "      <td>500</td>\n",
       "      <td>1000</td>\n",
       "      <td>genex</td>\n",
       "      <td>0.75</td>\n",
       "      <td>+</td>\n",
       "    </tr>\n",
       "    <tr>\n",
       "      <th>1</th>\n",
       "      <td>chr1</td>\n",
       "      <td>750</td>\n",
       "      <td>1500</td>\n",
       "      <td>genex</td>\n",
       "      <td>0.50</td>\n",
       "      <td>+</td>\n",
       "    </tr>\n",
       "  </tbody>\n",
       "</table>\n",
       "</div>"
      ],
      "text/plain": [
       "    chr  exonStart_0base  exonEnd geneSymbol  IncLevelDifference strand\n",
       "0  chr1              500     1000      genex                0.75      +\n",
       "1  chr1              750     1500      genex                0.50      +"
      ]
     },
     "execution_count": 9,
     "metadata": {},
     "output_type": "execute_result"
    }
   ],
   "source": [
    "df = fake_partially_overlapping_bedtool()\n",
    "df"
   ]
  },
  {
   "cell_type": "code",
   "execution_count": 10,
   "metadata": {
    "collapsed": false
   },
   "outputs": [
    {
     "data": {
      "text/html": [
       "<div>\n",
       "<table border=\"1\" class=\"dataframe\">\n",
       "  <thead>\n",
       "    <tr style=\"text-align: right;\">\n",
       "      <th></th>\n",
       "      <th>chrom</th>\n",
       "      <th>start</th>\n",
       "      <th>end</th>\n",
       "      <th>name</th>\n",
       "      <th>score</th>\n",
       "      <th>strand</th>\n",
       "    </tr>\n",
       "  </thead>\n",
       "  <tbody>\n",
       "    <tr>\n",
       "      <th>0</th>\n",
       "      <td>chr1</td>\n",
       "      <td>500.0</td>\n",
       "      <td>750.0</td>\n",
       "      <td>genex</td>\n",
       "      <td>0.750</td>\n",
       "      <td>+</td>\n",
       "    </tr>\n",
       "    <tr>\n",
       "      <th>1</th>\n",
       "      <td>chr1</td>\n",
       "      <td>750.0</td>\n",
       "      <td>1000.0</td>\n",
       "      <td>genex</td>\n",
       "      <td>0.625</td>\n",
       "      <td>+</td>\n",
       "    </tr>\n",
       "    <tr>\n",
       "      <th>2</th>\n",
       "      <td>chr1</td>\n",
       "      <td>1000.0</td>\n",
       "      <td>1500.0</td>\n",
       "      <td>genex</td>\n",
       "      <td>0.500</td>\n",
       "      <td>+</td>\n",
       "    </tr>\n",
       "  </tbody>\n",
       "</table>\n",
       "</div>"
      ],
      "text/plain": [
       "  chrom   start     end   name  score strand\n",
       "0  chr1   500.0   750.0  genex  0.750      +\n",
       "1  chr1   750.0  1000.0  genex  0.625      +\n",
       "2  chr1  1000.0  1500.0  genex  0.500      +"
      ]
     },
     "execution_count": 10,
     "metadata": {},
     "output_type": "execute_result"
    }
   ],
   "source": [
    "full_wrapper(df)"
   ]
  },
  {
   "cell_type": "markdown",
   "metadata": {},
   "source": [
    "# Share start exon"
   ]
  },
  {
   "cell_type": "code",
   "execution_count": 11,
   "metadata": {
    "collapsed": false
   },
   "outputs": [
    {
     "data": {
      "text/html": [
       "<div>\n",
       "<table border=\"1\" class=\"dataframe\">\n",
       "  <thead>\n",
       "    <tr style=\"text-align: right;\">\n",
       "      <th></th>\n",
       "      <th>chr</th>\n",
       "      <th>exonStart_0base</th>\n",
       "      <th>exonEnd</th>\n",
       "      <th>geneSymbol</th>\n",
       "      <th>IncLevelDifference</th>\n",
       "      <th>strand</th>\n",
       "    </tr>\n",
       "  </thead>\n",
       "  <tbody>\n",
       "    <tr>\n",
       "      <th>0</th>\n",
       "      <td>chr1</td>\n",
       "      <td>500</td>\n",
       "      <td>1000</td>\n",
       "      <td>genex</td>\n",
       "      <td>0.75</td>\n",
       "      <td>+</td>\n",
       "    </tr>\n",
       "    <tr>\n",
       "      <th>1</th>\n",
       "      <td>chr1</td>\n",
       "      <td>500</td>\n",
       "      <td>1500</td>\n",
       "      <td>genex</td>\n",
       "      <td>0.50</td>\n",
       "      <td>+</td>\n",
       "    </tr>\n",
       "  </tbody>\n",
       "</table>\n",
       "</div>"
      ],
      "text/plain": [
       "    chr  exonStart_0base  exonEnd geneSymbol  IncLevelDifference strand\n",
       "0  chr1              500     1000      genex                0.75      +\n",
       "1  chr1              500     1500      genex                0.50      +"
      ]
     },
     "execution_count": 11,
     "metadata": {},
     "output_type": "execute_result"
    }
   ],
   "source": [
    "df = fake_share_start_exon_bedtool()\n",
    "df"
   ]
  },
  {
   "cell_type": "code",
   "execution_count": 12,
   "metadata": {
    "collapsed": false
   },
   "outputs": [
    {
     "data": {
      "text/html": [
       "<div>\n",
       "<table border=\"1\" class=\"dataframe\">\n",
       "  <thead>\n",
       "    <tr style=\"text-align: right;\">\n",
       "      <th></th>\n",
       "      <th>chrom</th>\n",
       "      <th>start</th>\n",
       "      <th>end</th>\n",
       "      <th>name</th>\n",
       "      <th>score</th>\n",
       "      <th>strand</th>\n",
       "    </tr>\n",
       "  </thead>\n",
       "  <tbody>\n",
       "    <tr>\n",
       "      <th>0</th>\n",
       "      <td>chr1</td>\n",
       "      <td>500.0</td>\n",
       "      <td>1000.0</td>\n",
       "      <td>genex</td>\n",
       "      <td>0.625</td>\n",
       "      <td>+</td>\n",
       "    </tr>\n",
       "    <tr>\n",
       "      <th>1</th>\n",
       "      <td>chr1</td>\n",
       "      <td>1000.0</td>\n",
       "      <td>1500.0</td>\n",
       "      <td>genex</td>\n",
       "      <td>0.500</td>\n",
       "      <td>+</td>\n",
       "    </tr>\n",
       "  </tbody>\n",
       "</table>\n",
       "</div>"
      ],
      "text/plain": [
       "  chrom   start     end   name  score strand\n",
       "0  chr1   500.0  1000.0  genex  0.625      +\n",
       "1  chr1  1000.0  1500.0  genex  0.500      +"
      ]
     },
     "execution_count": 12,
     "metadata": {},
     "output_type": "execute_result"
    }
   ],
   "source": [
    "full_wrapper(df)"
   ]
  },
  {
   "cell_type": "markdown",
   "metadata": {},
   "source": [
    "# Share end exon"
   ]
  },
  {
   "cell_type": "code",
   "execution_count": 13,
   "metadata": {
    "collapsed": false
   },
   "outputs": [
    {
     "data": {
      "text/html": [
       "<div>\n",
       "<table border=\"1\" class=\"dataframe\">\n",
       "  <thead>\n",
       "    <tr style=\"text-align: right;\">\n",
       "      <th></th>\n",
       "      <th>chr</th>\n",
       "      <th>exonStart_0base</th>\n",
       "      <th>exonEnd</th>\n",
       "      <th>geneSymbol</th>\n",
       "      <th>IncLevelDifference</th>\n",
       "      <th>strand</th>\n",
       "    </tr>\n",
       "  </thead>\n",
       "  <tbody>\n",
       "    <tr>\n",
       "      <th>0</th>\n",
       "      <td>chr1</td>\n",
       "      <td>500</td>\n",
       "      <td>1500</td>\n",
       "      <td>genex</td>\n",
       "      <td>0.75</td>\n",
       "      <td>+</td>\n",
       "    </tr>\n",
       "    <tr>\n",
       "      <th>1</th>\n",
       "      <td>chr1</td>\n",
       "      <td>750</td>\n",
       "      <td>1500</td>\n",
       "      <td>genex</td>\n",
       "      <td>0.50</td>\n",
       "      <td>+</td>\n",
       "    </tr>\n",
       "  </tbody>\n",
       "</table>\n",
       "</div>"
      ],
      "text/plain": [
       "    chr  exonStart_0base  exonEnd geneSymbol  IncLevelDifference strand\n",
       "0  chr1              500     1500      genex                0.75      +\n",
       "1  chr1              750     1500      genex                0.50      +"
      ]
     },
     "execution_count": 13,
     "metadata": {},
     "output_type": "execute_result"
    }
   ],
   "source": [
    "df = fake_share_end_exon_bedtool()\n",
    "df"
   ]
  },
  {
   "cell_type": "code",
   "execution_count": 14,
   "metadata": {
    "collapsed": false
   },
   "outputs": [
    {
     "data": {
      "text/html": [
       "<div>\n",
       "<table border=\"1\" class=\"dataframe\">\n",
       "  <thead>\n",
       "    <tr style=\"text-align: right;\">\n",
       "      <th></th>\n",
       "      <th>chrom</th>\n",
       "      <th>start</th>\n",
       "      <th>end</th>\n",
       "      <th>name</th>\n",
       "      <th>score</th>\n",
       "      <th>strand</th>\n",
       "    </tr>\n",
       "  </thead>\n",
       "  <tbody>\n",
       "    <tr>\n",
       "      <th>0</th>\n",
       "      <td>chr1</td>\n",
       "      <td>500.0</td>\n",
       "      <td>750.0</td>\n",
       "      <td>genex</td>\n",
       "      <td>0.750</td>\n",
       "      <td>+</td>\n",
       "    </tr>\n",
       "    <tr>\n",
       "      <th>1</th>\n",
       "      <td>chr1</td>\n",
       "      <td>750.0</td>\n",
       "      <td>1500.0</td>\n",
       "      <td>genex</td>\n",
       "      <td>0.625</td>\n",
       "      <td>+</td>\n",
       "    </tr>\n",
       "  </tbody>\n",
       "</table>\n",
       "</div>"
      ],
      "text/plain": [
       "  chrom  start     end   name  score strand\n",
       "0  chr1  500.0   750.0  genex  0.750      +\n",
       "1  chr1  750.0  1500.0  genex  0.625      +"
      ]
     },
     "execution_count": 14,
     "metadata": {},
     "output_type": "execute_result"
    }
   ],
   "source": [
    "full_wrapper(df)"
   ]
  },
  {
   "cell_type": "markdown",
   "metadata": {},
   "source": [
    "# Now loop over all RMATS files and return nonoverlapping scores for each RBP"
   ]
  },
  {
   "cell_type": "code",
   "execution_count": 32,
   "metadata": {
    "collapsed": false
   },
   "outputs": [],
   "source": [
    "def loop_over_rmats_filtered_files():\n",
    "    values = []\n",
    "    for rbp, value in dfx.iteritems():\n",
    "        values.append(value)\n",
    "    return values[:2]"
   ]
  },
  {
   "cell_type": "code",
   "execution_count": 97,
   "metadata": {
    "collapsed": false
   },
   "outputs": [],
   "source": [
    "y, x = loop_over_rmats_filtered_files()"
   ]
  },
  {
   "cell_type": "code",
   "execution_count": 98,
   "metadata": {
    "collapsed": false
   },
   "outputs": [],
   "source": [
    "x = full_wrapper(x)\n",
    "# y = full_wrapper(y)"
   ]
  },
  {
   "cell_type": "code",
   "execution_count": 129,
   "metadata": {
    "collapsed": false
   },
   "outputs": [],
   "source": [
    "y = full_wrapper(y)"
   ]
  },
  {
   "cell_type": "code",
   "execution_count": 100,
   "metadata": {
    "collapsed": false
   },
   "outputs": [],
   "source": [
    "# playing around with the column stuff\n",
    "x.columns = ['chrom','start','end','name',234,'strand']\n",
    "x[235] = x[234] + 3\n",
    "trunc = x.head()"
   ]
  },
  {
   "cell_type": "code",
   "execution_count": 162,
   "metadata": {
    "collapsed": false
   },
   "outputs": [
    {
     "name": "stdout",
     "output_type": "stream",
     "text": [
      "\t},\n",
      "\n"
     ]
    }
   ],
   "source": [
    "from collections import defaultdict\n",
    "\n",
    "def format_df_to_trackhub(df, out_file):\n",
    "    \"\"\"\n",
    "    kind of a messy way to re-format the dataframe\n",
    "    \"\"\"\n",
    "    o = open(out_file, 'w')\n",
    "    for _, row in df.iterrows():\n",
    "        row_str = \"{}\\t{}\\t{}\\t\".format(row['chrom'], row['start'], row['end'])\n",
    "        row_str = row_str + 'id:{},qcat:'.format(_)\n",
    "        qcat_str = \"\"\n",
    "        for i in row.index:\n",
    "            if isinstance(i, int) and not pd.isnull(row[i]):\n",
    "                qcat_str = qcat_str + '[{},{}], '.format(i, row[i])\n",
    "        qcat_str = qcat_str[:-2]\n",
    "        o.write(row_str + '[ {} ]\\n'.format(qcat_str))\n",
    "    o.close()\n",
    "    return 0\n",
    "\n",
    "def rbp_to_qcat(json_like):\n",
    "    \"\"\"\n",
    "    turns this json like file into a dictionary\n",
    "    with rbp names as keys and category ID, color as values\n",
    "    \"\"\"\n",
    "    categories = defaultdict(list)\n",
    "    with open(json_like, 'r') as f:\n",
    "        for line in f:\n",
    "            if line.startswith('\\t'):\n",
    "                try:\n",
    "                    line = line.replace('\\'','')\n",
    "                    category, rbp = line.replace('[','').replace(']','').split(':')\n",
    "                    rbpname, rbpcolor, _ = rbp.split(',')\n",
    "                    categories[rbpname] = [int(category.replace('\\t','')), rbpcolor]\n",
    "                except ValueError:\n",
    "                    print(line)\n",
    "    return categories\n",
    "\n",
    "json_file = '/home/bay001/projects/encode/analysis/rnaseq_trackhub/combined_10bpfull.datahub.pos'\n",
    "qcat_dict = rbp_to_qcat(json_file)\n",
    "# format_df_to_trackhub(trunc, '/home/bay001/test.bed') # .to_csv('/home/bay001/test.bed', sep='\\t', header=False)"
   ]
  },
  {
   "cell_type": "code",
   "execution_count": 154,
   "metadata": {
    "collapsed": false
   },
   "outputs": [
    {
     "data": {
      "text/plain": [
       "\"json_file = '/home/bay001/projects/encode/analysis/rnaseq_trackhub/combined_10bpfull.datahub.pos'\\nwith open(json_file) as data_file:    \\n    data = json.load(data_file)\""
      ]
     },
     "execution_count": 154,
     "metadata": {},
     "output_type": "execute_result"
    }
   ],
   "source": [
    "import json\n",
    "from pprint import pprint\n",
    "# Can't parse this file as json...\n",
    "\"\"\"json_file = '/home/bay001/projects/encode/analysis/rnaseq_trackhub/combined_10bpfull.datahub.pos'\n",
    "with open(json_file) as data_file:    \n",
    "    data = json.load(data_file)\"\"\""
   ]
  },
  {
   "cell_type": "code",
   "execution_count": 158,
   "metadata": {
    "collapsed": false
   },
   "outputs": [],
   "source": [
    "def get_all_junction_counts_files(wd):\n",
    "    \"\"\"\n",
    "    gets all junctioncounts (SE) from a directory (wd)\n",
    "    \"\"\"\n",
    "    all_junction_counts_dict = {}\n",
    "    for cell in ['K562','HepG2']:\n",
    "        all_files = glob.glob(os.path.join(wd,'*{}-SE.MATS.JunctionCountOnly.txt'.format(cell)))\n",
    "        progress = tnrange(len(all_files))\n",
    "        for f in all_files:\n",
    "            basename = os.path.basename(f).replace('.MATS.JunctionCountOnly','')\n",
    "            df = pd.read_table(f)\n",
    "            all_junction_counts_dict[basename] = rmats.filter_rmats_df(df)\n",
    "            progress.update(1)\n",
    "    return all_junction_counts_dict\n",
    "\n",
    "wd = '/projects/ps-yeolab3/bay001/maps/current_normed_annotations/se/'\n",
    "all_junction_counts_dict = get_all_junction_counts_files(wd)"
   ]
  },
  {
   "cell_type": "code",
   "execution_count": 159,
   "metadata": {
    "collapsed": false
   },
   "outputs": [
    {
     "data": {
      "text/plain": [
       "['SUPV3L1-BGHLV17-HepG2-SE.txt',\n",
       " 'PTBP1-LV11-K562-SE.txt',\n",
       " 'SRSF3-BGHLV35-HepG2-SE.txt',\n",
       " 'FASTKD2-BGKLV13-K562-SE.txt',\n",
       " 'PSIP1-BGKLV21-K562-SE.txt',\n",
       " 'ZRANB2-BGHLV14-HepG2-SE.txt',\n",
       " 'ASCC1-LV08-K562-SE.txt',\n",
       " 'IGF2BP3-LV11-K562-SE.txt',\n",
       " 'TRIP6-BGKLV29-K562-SE.txt',\n",
       " 'DDX24-BGHLV14-HepG2-SE.txt',\n",
       " 'STIP1-BGHLV22-HepG2-SE.txt',\n",
       " 'METAP2-BGKLV36-K562-SE.txt',\n",
       " 'CIRBP-BGHLV12-HepG2-SE.txt',\n",
       " 'SLBP-BGKLV24-K562-SE.txt',\n",
       " 'GRWD1-BGKLV21-K562-SE.txt',\n",
       " 'U2AF1-BGHLV30-HepG2-SE.txt',\n",
       " 'BUD13-BGHLV30-HepG2-SE.txt',\n",
       " 'TARDBP-BGHLV35-HepG2-SE.txt',\n",
       " 'NFX1-BGKLV13-K562-SE.txt',\n",
       " 'FKBP4-BGKLV21-K562-SE.txt',\n",
       " 'FXR1-BGHLV12-HepG2-SE.txt',\n",
       " 'DROSHA-BGHcLV05-HepG2-SE.txt',\n",
       " 'PCBP1-LV11-K562-SE.txt',\n",
       " 'CKAP4-BGHLV31-HepG2-SE.txt',\n",
       " 'ABCF1-BGHLV30-HepG2-SE.txt',\n",
       " 'FMR1-BGKLV36-K562-SE.txt',\n",
       " 'CCDC124-BGKLV32-K562-SE.txt',\n",
       " 'ASCC1-BGHLV12-HepG2-SE.txt',\n",
       " 'PUS1-BGKLV32-K562-SE.txt',\n",
       " 'RCC2-BGKLV21-K562-SE.txt',\n",
       " 'HNRNPM-BGKLV29-K562-SE.txt',\n",
       " 'UTP3-BGHLV33-HepG2-SE.txt',\n",
       " 'FTO-BGKLV36-K562-SE.txt',\n",
       " 'PCBP2-BGHLV14-HepG2-SE.txt',\n",
       " 'DHX30-BGKLV24-K562-SE.txt',\n",
       " 'CPSF7-BGHLV30-HepG2-SE.txt',\n",
       " 'CUGBP1-BGHLV23-HepG2-SE.txt',\n",
       " 'XRN2-BGKLV19-K562-SE.txt',\n",
       " 'ATP5C1-BGKLV32-K562-SE.txt',\n",
       " 'PUM2-BGHLV23-HepG2-SE.txt',\n",
       " 'DNAJC2-BGHLV20-HepG2-SE.txt',\n",
       " 'PPIG-BGKLV29-K562-SE.txt',\n",
       " 'UPF1-BGKLV34-K562-SE.txt',\n",
       " 'SRP68-BGKLV19-K562-SE.txt',\n",
       " 'PABPC1-BGKLV24-K562-SE.txt',\n",
       " 'NUFIP2-BGHLV26-HepG2-SE.txt',\n",
       " 'DDX21-BGKcLV02-K562-SE.txt',\n",
       " 'LARP7-BGKLV21-K562-SE.txt',\n",
       " 'ACO1-BGHLV31-HepG2-SE.txt',\n",
       " 'STAU1-BGHLV30-HepG2-SE.txt',\n",
       " 'XRCC5-BGKLV13-K562-SE.txt',\n",
       " 'TIA1-BGHLV12-HepG2-SE.txt',\n",
       " 'NKRF-BGHLV27-HepG2-SE.txt',\n",
       " 'UPF2-BGKLV21-K562-SE.txt',\n",
       " 'PHF6-BGKLV21-K562-SE.txt',\n",
       " 'DDX47-BGKLV25-K562-SE.txt',\n",
       " 'PA2G4-BGKLV19-K562-SE.txt',\n",
       " 'HNRNPAB-BGHLV22-HepG2-SE.txt',\n",
       " 'RBM22-BGHLV37-HepG2-SE.txt',\n",
       " 'XPO5-BGKLV28-K562-SE.txt',\n",
       " 'RAVER1-BGHLV14-HepG2-SE.txt',\n",
       " 'DDX28-BGHLV17-HepG2-SE.txt',\n",
       " 'GRSF1-BGHLV22-HepG2-SE.txt',\n",
       " 'ADAR-BGHLV20-HepG2-SE.txt',\n",
       " 'EXOSC9-BGHLV14-HepG2-SE.txt',\n",
       " 'FUBP3-BGHLV12-HepG2-SE.txt',\n",
       " 'DDX27-BGKLV19-K562-SE.txt',\n",
       " 'RTF1-BGHLV14-HepG2-SE.txt',\n",
       " 'SMNDC1-BGKLV13-K562-SE.txt',\n",
       " 'RBM25-LV08-K562-SE.txt',\n",
       " 'QKI-LV08-K562-SE.txt',\n",
       " 'GRSF1-BGKLV29-K562-SE.txt',\n",
       " 'HNRNPF-BGKLV21-K562-SE.txt',\n",
       " 'DDX1-BGKLV24-K562-SE.txt',\n",
       " 'NSUN2-BGKLV34-K562-SE.txt',\n",
       " 'GPKOW-BGKLV36-K562-SE.txt',\n",
       " 'WDR43-BGKLV34-K562-SE.txt',\n",
       " 'PRPF8-BGHLV17-HepG2-SE.txt',\n",
       " 'RPS19-BGKLV19-K562-SE.txt',\n",
       " 'MATR3-LV11-K562-SE.txt',\n",
       " 'G3BP1-BGHLV12-HepG2-SE.txt',\n",
       " 'SND1-BGHLV14-HepG2-SE.txt',\n",
       " 'PUM1-BGKLV25-K562-SE.txt',\n",
       " 'HNRNPL-BGKLV25-K562-SE.txt',\n",
       " 'DDX19B-BGKLV32-K562-SE.txt',\n",
       " 'LSM11-BGHLV18-HepG2-SE.txt',\n",
       " 'EIF4B-LV08-K562-SE.txt',\n",
       " 'DNAJC2-BGKLV24-K562-SE.txt',\n",
       " 'TRIM56-BGHLV20-HepG2-SE.txt',\n",
       " 'ILF3-BGHLV22-HepG2-SE.txt',\n",
       " 'DDX28-BGKLV19-K562-SE.txt',\n",
       " 'SMN1-BGHLV20-HepG2-SE.txt',\n",
       " 'ETF1-BGHLV37-HepG2-SE.txt',\n",
       " 'DDX59-BGHLV35-HepG2-SE.txt',\n",
       " 'EEF2-BGHLV16-HepG2-SE.txt',\n",
       " 'SUPT6H-BGHLV30-HepG2-SE.txt',\n",
       " 'SND1-BGKLV13-K562-SE.txt',\n",
       " 'DKC1-BGHLV31-HepG2-SE.txt',\n",
       " 'AARS-BGKLV21-K562-SE.txt',\n",
       " 'PUM2-BGKLV25-K562-SE.txt',\n",
       " 'RPS10-BGHLV14-HepG2-SE.txt',\n",
       " 'AQR-BGKLV38-K562-SE.txt',\n",
       " 'PCBP2-LV11-K562-SE.txt',\n",
       " 'SFPQ-BGKLV28-K562-SE.txt',\n",
       " 'TIAL1-BGKLV21-K562-SE.txt',\n",
       " 'TRIM56-BGKLV21-K562-SE.txt',\n",
       " 'UTP18-BGKLV32-K562-SE.txt',\n",
       " 'EIF4G1-BGKLV24-K562-SE.txt',\n",
       " 'LSM11-BGKLV21-K562-SE.txt',\n",
       " 'TUFM-BGKLV25-K562-SE.txt',\n",
       " 'SUPT6H-BGKLV28-K562-SE.txt',\n",
       " 'WRN-BGKLV38-K562-SE.txt',\n",
       " 'SNRNP200-BGHLV26-HepG2-SE.txt',\n",
       " 'SSB-BGHLV37-HepG2-SE.txt',\n",
       " 'DDX55-BGHLV17-HepG2-SE.txt',\n",
       " 'HNRNPAB-BGKLV24-K562-SE.txt',\n",
       " 'HNRNPA1-BGHLV20-HepG2-SE.txt',\n",
       " 'EXOSC9-BGKLV13-K562-SE.txt',\n",
       " 'PA2G4-BGHLV16-HepG2-SE.txt',\n",
       " 'SF3B1-BGKLV36-K562-SE.txt',\n",
       " 'PABPC1-BGHLV22-HepG2-SE.txt',\n",
       " 'YTHDC2-BGKLV28-K562-SE.txt',\n",
       " 'TROVE2-BGKLV19-K562-SE.txt',\n",
       " 'G3BP2-BGHLV12-HepG2-SE.txt',\n",
       " 'FASTKD1-BGHLV22-HepG2-SE.txt',\n",
       " 'TIA1-LV11-K562-SE.txt',\n",
       " 'UPF2-BGHLV17-HepG2-SE.txt',\n",
       " 'SF3A3-BGHLV33-HepG2-SE.txt',\n",
       " 'UTP18-BGHLV33-HepG2-SE.txt',\n",
       " 'DDX21-BGHLV14-HepG2-SE.txt',\n",
       " 'SF3B1-BGHLV35-HepG2-SE.txt',\n",
       " 'TROVE2-BGHLV16-HepG2-SE.txt',\n",
       " 'METAP2-BGHLV16-HepG2-SE.txt',\n",
       " 'NSUN2-BGHLV35-HepG2-SE.txt',\n",
       " 'MBNL1-BGKLV32-K562-SE.txt',\n",
       " 'EIF2C1-BGHLV14-HepG2-SE.txt',\n",
       " 'RDBP-BGHLV12-HepG2-SE.txt',\n",
       " 'MATR3-BGHLV12-HepG2-SE.txt',\n",
       " 'PCBP1-BGHLV12-HepG2-SE.txt',\n",
       " 'MSI2-BGKLV25-K562-SE.txt',\n",
       " 'PRPF6-BGKLV13-K562-SE.txt',\n",
       " 'HNRNPA1-BGKLV21-K562-SE.txt',\n",
       " 'FUS-BGKLV13-K562-SE.txt',\n",
       " 'EEF2-BGKLV19-K562-SE.txt',\n",
       " 'DDX1-BGHLV20-HepG2-SE.txt',\n",
       " 'SRSF5-LV11-K562-SE.txt',\n",
       " 'XPO5-BGHLV22-HepG2-SE.txt',\n",
       " 'TARDBP-LV11-K562-SE.txt',\n",
       " 'ATP5C1-BGHLV30-HepG2-SE.txt',\n",
       " 'AKAP1-BGHLV12-HepG2-SE.txt',\n",
       " 'RPLP0-BGHcLV03-HepG2-SE.txt',\n",
       " 'MTPAP-BGKLV34-K562-SE.txt',\n",
       " 'SRSF7-BGHcLV03-HepG2-SE.txt',\n",
       " 'ESF1-BGHLV30-HepG2-SE.txt',\n",
       " 'TUFM-BGHLV23-HepG2-SE.txt',\n",
       " 'EIF4G2-BGHLV23-HepG2-SE.txt',\n",
       " 'NONO-BGHLV17-HepG2-SE.txt',\n",
       " 'RBFOX2-BGHLV26-HepG2-SE.txt',\n",
       " 'HNRNPA2B1-BGKLV28-K562-SE.txt',\n",
       " 'SLTM-BGKLV13-K562-SE.txt',\n",
       " 'RPL23A-BGHLV18-HepG2-SE.txt',\n",
       " 'KRR1-BGHLV27-HepG2-SE.txt',\n",
       " 'RPS5-BGHLV18-HepG2-SE.txt',\n",
       " 'EFTUD2-BGKLV19-K562-SE.txt',\n",
       " 'KHSRP-BGHLV12-HepG2-SE.txt',\n",
       " 'EIF3A-BGKLV24-K562-SE.txt',\n",
       " 'RBM34-BGHLV14-HepG2-SE.txt',\n",
       " 'SNRNP70-BGHLV35-HepG2-SE.txt',\n",
       " 'FKBP4-BGHLV17-HepG2-SE.txt',\n",
       " 'TAF15-BGHLV12-HepG2-SE.txt',\n",
       " 'HNRNPU-BGHLV20-HepG2-SE.txt',\n",
       " 'SRSF9-BGHLV12-HepG2-SE.txt',\n",
       " 'FAM120A-BGKLV19-K562-SE.txt',\n",
       " 'SBDS-BGKLV24-K562-SE.txt',\n",
       " 'SRSF4-BGKLV13-K562-SE.txt',\n",
       " 'EFTUD2-BGHLV16-HepG2-SE.txt',\n",
       " 'HNRNPK-BGHLV12-HepG2-SE.txt',\n",
       " 'EIF4A3-LV08-K562-SE.txt',\n",
       " 'XRCC5-BGHLV14-HepG2-SE.txt',\n",
       " 'SF1-BGHLV26-HepG2-SE.txt',\n",
       " 'EIF2C1-BGKLV13-K562-SE.txt',\n",
       " 'SMNDC1-BGHLV14-HepG2-SE.txt',\n",
       " 'NIP7-BGHLV18-HepG2-SE.txt',\n",
       " 'RTF1-BGKLV13-K562-SE.txt',\n",
       " 'AKAP8L-BGKLV32-K562-SE.txt',\n",
       " 'CSDA-BGKLV24-K562-SE.txt',\n",
       " 'BCCIP-BGHLV17-HepG2-SE.txt',\n",
       " 'BOP1-BGHLV35-HepG2-SE.txt',\n",
       " 'RBM15-BGHLV31-HepG2-SE.txt',\n",
       " 'HNRNPC-BGHLV20-HepG2-SE.txt',\n",
       " 'RCC2-BGHLV18-HepG2-SE.txt',\n",
       " 'GPKOW-BGHLV35-HepG2-SE.txt',\n",
       " 'DKC1-BGKLV32-K562-SE.txt',\n",
       " 'SRSF9-LV11-K562-SE.txt',\n",
       " 'FIP1L1-BGHLV30-HepG2-SE.txt',\n",
       " 'TFIP11-BGHLV17-HepG2-SE.txt',\n",
       " 'RPS3-BGKLV13-K562-SE.txt',\n",
       " 'PSIP1-BGHLV18-HepG2-SE.txt',\n",
       " 'SUGP2-BGKLV28-K562-SE.txt',\n",
       " 'FXR2-BGKcLV04-K562-SE.txt',\n",
       " 'AATF-BGHLV14-HepG2-SE.txt',\n",
       " 'AATF-BGKLV13-K562-SE.txt',\n",
       " 'RBM34-LV11-K562-SE.txt',\n",
       " 'RPS3A-BGHLV22-HepG2-SE.txt',\n",
       " 'SRFBP1-BGHLV37-HepG2-SE.txt',\n",
       " 'NUP35-BGHLV27-HepG2-SE.txt',\n",
       " 'XRCC6-BGHLV14-HepG2-SE.txt',\n",
       " 'EIF4G2-BGKLV25-K562-SE.txt',\n",
       " 'CSTF2T-BGKLV13-K562-SE.txt',\n",
       " 'RRP9-BGHLV17-HepG2-SE.txt',\n",
       " 'GEMIN5-BGHLV16-HepG2-SE.txt',\n",
       " 'PES1-BGKLV19-K562-SE.txt',\n",
       " 'U2AF2-BGHLV26-HepG2-SE.txt',\n",
       " 'KRR1-BGKLV36-K562-SE.txt',\n",
       " 'EIF2S2-BGKLV29-K562-SE.txt',\n",
       " 'CUGBP1-BGKLV25-K562-SE.txt',\n",
       " 'FIP1L1-BGKLV29-K562-SE.txt',\n",
       " 'DAZAP1-BGKLV13-K562-SE.txt',\n",
       " 'FUBP3-LV08-K562-SE.txt',\n",
       " 'U2AF2-LV08-K562-SE.txt',\n",
       " 'RDBP-LV11-K562-SE.txt',\n",
       " 'EWSR1-BGHLV31-HepG2-SE.txt',\n",
       " 'SF3B4-BGHLV12-HepG2-SE.txt',\n",
       " 'NOL12-BGKLV25-K562-SE.txt',\n",
       " 'SRSF5-BGHLV23-HepG2-SE.txt',\n",
       " 'FTO-BGHLV35-HepG2-SE.txt',\n",
       " 'ESF1-BGKLV29-K562-SE.txt',\n",
       " 'FMR1-BGHLV23-HepG2-SE.txt',\n",
       " 'RRP9-BGKLV19-K562-SE.txt',\n",
       " 'HNRNPUL1-BGKLV28-K562-SE.txt',\n",
       " 'DDX3X-BGHLV12-HepG2-SE.txt',\n",
       " 'IGF2BP2-BGHLV12-HepG2-SE.txt',\n",
       " 'SRSF7-BGKcLV02-K562-SE.txt',\n",
       " 'TBRG4-BGHLV27-HepG2-SE.txt',\n",
       " 'SART3-BGKLV24-K562-SE.txt',\n",
       " 'AUH-BGHLV37-HepG2-SE.txt',\n",
       " 'CPSF6-BGKLV36-K562-SE.txt',\n",
       " 'EIF3D-BGKLV19-K562-SE.txt',\n",
       " 'DDX6-BGHLV12-HepG2-SE.txt',\n",
       " 'CPEB4-BGKLV25-K562-SE.txt',\n",
       " 'AARS-BGHLV17-HepG2-SE.txt',\n",
       " 'SAFB2-BGHLV20-HepG2-SE.txt',\n",
       " 'AGGF1-BGKLV32-K562-SE.txt',\n",
       " 'UBE2L3-BGKLV25-K562-SE.txt',\n",
       " 'PABPN1-BGKLV28-K562-SE.txt',\n",
       " 'LIN28B-BGKLV21-K562-SE.txt',\n",
       " 'NUSAP1-BGKLV21-K562-SE.txt',\n",
       " 'MAGOH-LV11-K562-SE.txt',\n",
       " 'DNAJC21-BGHLV20-HepG2-SE.txt',\n",
       " 'KIF1C-BGKLV32-K562-SE.txt',\n",
       " 'LARP4-BGKLV28-K562-SE.txt',\n",
       " 'HNRNPLL-BGHLV35-HepG2-SE.txt',\n",
       " 'CSTF2T-BGHLV14-HepG2-SE.txt',\n",
       " 'DDX52-BGKLV19-K562-SE.txt',\n",
       " 'NUSAP1-BGHLV18-HepG2-SE.txt',\n",
       " 'SUB1-BGHLV14-HepG2-SE.txt',\n",
       " 'KHDRBS1-BGHLV22-HepG2-SE.txt',\n",
       " 'WDR3-BGKLV34-K562-SE.txt',\n",
       " 'AKAP8-BGHLV27-HepG2-SE.txt',\n",
       " 'SF3A3-BGKLV34-K562-SE.txt',\n",
       " 'BCCIP-BGKLV19-K562-SE.txt',\n",
       " 'CSDA-BGHLV20-HepG2-SE.txt',\n",
       " 'PPIL4-BGHLV20-HepG2-SE.txt',\n",
       " 'IGF2BP1-BGHcLV03-HepG2-SE.txt',\n",
       " 'ILF2-BGKLV24-K562-SE.txt',\n",
       " 'ILF3-BGKLV24-K562-SE.txt',\n",
       " 'RBM39-BGHLV26-HepG2-SE.txt',\n",
       " 'CCAR1-BGKLV24-K562-SE.txt',\n",
       " 'RBM39-BGKLV28-K562-SE.txt',\n",
       " 'PTBP1-BGHLV12-HepG2-SE.txt',\n",
       " 'SSRP1-BGKLV29-K562-SE.txt',\n",
       " 'SSB-BGKLV13-K562-SE.txt',\n",
       " 'FUS-BGHLV14-HepG2-SE.txt',\n",
       " 'MTPAP-BGHLV35-HepG2-SE.txt',\n",
       " 'HNRNPL-BGHLV23-HepG2-SE.txt',\n",
       " 'CEBPZ-BGKcLV02-K562-SE.txt',\n",
       " 'RBM5-BGHcLV05-HepG2-SE.txt',\n",
       " 'ABCF1-BGKLV29-K562-SE.txt',\n",
       " 'HNRNPA0-BGHLV22-HepG2-SE.txt',\n",
       " 'IGF2BP3-BGHLV12-HepG2-SE.txt',\n",
       " 'KIAA1967-BGKLV25-K562-SE.txt',\n",
       " 'RBM22-LV11-K562-SE.txt',\n",
       " 'PES1-BGHLV31-HepG2-SE.txt',\n",
       " 'PPIL4-BGKLV24-K562-SE.txt',\n",
       " 'HNRNPA0-BGKLV24-K562-SE.txt',\n",
       " 'EIF4B-BGHLV12-HepG2-SE.txt',\n",
       " 'APOBE-BGHLV22-HepG2-SE.txt',\n",
       " 'LARP4-BGHLV20-HepG2-SE.txt',\n",
       " 'STIP1-BGKLV24-K562-SE.txt',\n",
       " 'HNRNPUL1-BGHLV26-HepG2-SE.txt',\n",
       " 'XRN2-BGHLV17-HepG2-SE.txt',\n",
       " 'MAGOH-BGHLV12-HepG2-SE.txt',\n",
       " 'RPS19-BGHLV16-HepG2-SE.txt',\n",
       " 'EIF3H-BGKcLV04-K562-SE.txt',\n",
       " 'XRCC6-BGKLV13-K562-SE.txt',\n",
       " 'NAA15-BGHLV30-HepG2-SE.txt',\n",
       " 'RBM47-BGHLV22-HepG2-SE.txt',\n",
       " 'HSPD1-BGHLV27-HepG2-SE.txt',\n",
       " 'GTF2F1-BGHLV14-HepG2-SE.txt',\n",
       " 'PPIG-BGHLV27-HepG2-SE.txt',\n",
       " 'AKAP8-BGKLV32-K562-SE.txt',\n",
       " 'PKM2-BGKLV21-K562-SE.txt',\n",
       " 'LARP7-BGHLV18-HepG2-SE.txt',\n",
       " 'TFIP11-BGKLV19-K562-SE.txt',\n",
       " 'SRSF1-LV11-K562-SE.txt',\n",
       " 'SF3B4-LV08-K562-SE.txt',\n",
       " 'CIRBP-LV11-K562-SE.txt',\n",
       " 'HDGF-BGHLV31-HepG2-SE.txt',\n",
       " 'NCBP2-BGHLV12-HepG2-SE.txt',\n",
       " 'DDX27-BGHLV17-HepG2-SE.txt',\n",
       " 'DDX55-BGKLV21-K562-SE.txt',\n",
       " 'DNAJC21-BGKLV24-K562-SE.txt',\n",
       " 'PARN-BGHLV20-HepG2-SE.txt',\n",
       " 'KHSRP-LV11-K562-SE.txt',\n",
       " 'SLTM-BGHLV14-HepG2-SE.txt',\n",
       " 'CEBPZ-BGHLV30-HepG2-SE.txt',\n",
       " 'CNOT7-BGKLV24-K562-SE.txt',\n",
       " 'NCBP2-LV08-K562-SE.txt',\n",
       " 'BCLAF1-BGHLV17-HepG2-SE.txt',\n",
       " 'HNRNPC-BGKLV21-K562-SE.txt',\n",
       " 'GRWD1-BGHLV18-HepG2-SE.txt',\n",
       " 'SBDS-BGHLV22-HepG2-SE.txt',\n",
       " 'ADAR-BGKLV24-K562-SE.txt',\n",
       " 'SFPQ-BGHLV26-HepG2-SE.txt',\n",
       " 'GLRX3-BGKLV34-K562-SE.txt',\n",
       " 'RBM25-BGHLV12-HepG2-SE.txt',\n",
       " 'DHX30-BGHLV20-HepG2-SE.txt',\n",
       " 'SART3-BGHLV22-HepG2-SE.txt',\n",
       " 'IGF2BP1-BGKcLV02-K562-SE.txt',\n",
       " 'KIF1C-BGHLV31-HepG2-SE.txt',\n",
       " 'DDX3X-LV08-K562-SE.txt',\n",
       " 'RBM17-BGHLV26-HepG2-SE.txt',\n",
       " 'ILF2-BGHLV20-HepG2-SE.txt',\n",
       " 'NUFIP2-BGKLV34-K562-SE.txt',\n",
       " 'PABPC4-LV08-K562-SE.txt',\n",
       " 'UCHL5-BGHLV17-HepG2-SE.txt',\n",
       " 'APOBEC3C-BGKLV25-K562-SE.txt',\n",
       " 'AUH-BGKLV38-K562-SE.txt',\n",
       " 'UBE2L3-BGHLV23-HepG2-SE.txt',\n",
       " 'PUS1-BGHLV31-HepG2-SE.txt',\n",
       " 'LIN28B-BGHLV18-HepG2-SE.txt',\n",
       " 'SNRNP200-BGKLV28-K562-SE.txt',\n",
       " 'EIF2S2-BGHLV30-HepG2-SE.txt',\n",
       " 'RPS3A-BGKLV24-K562-SE.txt',\n",
       " 'EWSR1-LV08-K562-SE.txt',\n",
       " 'RBM27-BGHLV18-HepG2-SE.txt',\n",
       " 'SERBP1-BGKLV19-K562-SE.txt',\n",
       " 'MAK16-BGKLV32-K562-SE.txt',\n",
       " 'SERBP1-BGHLV16-HepG2-SE.txt',\n",
       " 'NOL12-BGHLV23-HepG2-SE.txt',\n",
       " 'SF1-BGKLV28-K562-SE.txt',\n",
       " 'RBM17-BGKLV29-K562-SE.txt',\n",
       " 'DAZAP1-BGHLV23-HepG2-SE.txt',\n",
       " 'GNB2L1-BGHLV18-HepG2-SE.txt',\n",
       " 'PRPF6-BGHLV14-HepG2-SE.txt',\n",
       " 'SUPV3L1-BGKLV19-K562-SE.txt',\n",
       " 'RECQL-BGHLV12-HepG2-SE.txt',\n",
       " 'HLTF-BGKLV13-K562-SE.txt',\n",
       " 'G3BP1-LV11-K562-SE.txt',\n",
       " 'RNASEN50-BGKLV28-K562-SE.txt',\n",
       " 'PHF6-BGHLV18-HepG2-SE.txt',\n",
       " 'CCAR1-BGHLV20-HepG2-SE.txt',\n",
       " 'PUM1-BGHLV23-HepG2-SE.txt',\n",
       " 'CALR-BGHLV23-HepG2-SE.txt',\n",
       " 'HNRNPA2B1-BGHLV23-HepG2-SE.txt',\n",
       " 'AKAP8L-BGHLV31-HepG2-SE.txt',\n",
       " 'DDX47-BGHLV22-HepG2-SE.txt',\n",
       " 'RPS2-BGHLV18-HepG2-SE.txt',\n",
       " 'FAM120A-BGHLV16-HepG2-SE.txt',\n",
       " 'HNRNPF-BGHcLV03-HepG2-SE.txt',\n",
       " 'PARN-BGKLV24-K562-SE.txt',\n",
       " 'SRPK2-BGKLV34-K562-SE.txt',\n",
       " 'CDC40-BGHcLV05-HepG2-SE.txt',\n",
       " 'HLTF-BGHLV14-HepG2-SE.txt',\n",
       " 'UCHL5-BGKLV19-K562-SE.txt',\n",
       " 'TAF15-LV08-K562-SE.txt',\n",
       " 'ZRANB2-BGKLV13-K562-SE.txt',\n",
       " 'EIF4A3-BGHLV12-HepG2-SE.txt',\n",
       " 'DDX51-BGKLV19-K562-SE.txt',\n",
       " 'TRA2A-BGHLV14-HepG2-SE.txt',\n",
       " 'BOP1-BGKLV36-K562-SE.txt',\n",
       " 'HNRNPM-BGHLV30-HepG2-SE.txt',\n",
       " 'NONO-BGKLV19-K562-SE.txt',\n",
       " 'BCLAF1-BGKLV19-K562-SE.txt',\n",
       " 'U2AF1-LV08-K562-SE.txt',\n",
       " 'PUF60-BGKLV25-K562-SE.txt',\n",
       " 'QKI-BGHLV12-HepG2-SE.txt',\n",
       " 'PPP1R8-BGKLV28-K562-SE.txt',\n",
       " 'PKM2-BGHLV16-HepG2-SE.txt',\n",
       " 'HNRNPU-BGKLV21-K562-SE.txt',\n",
       " 'BUD13-BGKLV29-K562-SE.txt',\n",
       " 'AKAP1-LV08-K562-SE.txt',\n",
       " 'CNOT7-BGHLV22-HepG2-SE.txt',\n",
       " 'CPSF6-BGHLV35-HepG2-SE.txt',\n",
       " 'PRPF8-BGKLV19-K562-SE.txt',\n",
       " 'PUF60-BGHLV23-HepG2-SE.txt',\n",
       " 'DDX5-BGHLV30-HepG2-SE.txt',\n",
       " 'EIF3G-BGHLV14-HepG2-SE.txt',\n",
       " 'EIF4G1-BGHLV23-HepG2-SE.txt',\n",
       " 'GTF2F1-BGKLV13-K562-SE.txt',\n",
       " 'SMN1-BGKLV24-K562-SE.txt',\n",
       " 'TRA2A-LV11-K562-SE.txt',\n",
       " 'TBRG4-LV08-K562-SE.txt',\n",
       " 'IGF2BP2-LV11-K562-SE.txt',\n",
       " 'PABPC4-BGHLV12-HepG2-SE.txt',\n",
       " 'UPF1-BGHLV33-HepG2-SE.txt',\n",
       " 'CSTF2-BGKLV19-K562-SE.txt',\n",
       " 'HNRNPD-BGHLV22-HepG2-SE.txt',\n",
       " 'SSRP1-BGHLV27-HepG2-SE.txt',\n",
       " 'RBM15-BGKLV32-K562-SE.txt',\n",
       " 'HSPD1-BGKLV29-K562-SE.txt',\n",
       " 'ZC3H8-BGKLV38-K562-SE.txt',\n",
       " 'TIAL1-BGHLV20-HepG2-SE.txt',\n",
       " 'SUCLG1-BGKLV25-K562-SE.txt',\n",
       " 'SLBP-BGHLV23-HepG2-SE.txt',\n",
       " 'STAU1-BGKLV29-K562-SE.txt',\n",
       " 'GEMIN5-BGKLV19-K562-SE.txt',\n",
       " 'NAA15-BGKLV32-K562-SE.txt',\n",
       " 'SRSF1-BGHLV12-HepG2-SE.txt',\n",
       " 'SUB1-BGKLV13-K562-SE.txt',\n",
       " 'DDX24-LV08-K562-SE.txt',\n",
       " 'PNPT1-BGHLV22-HepG2-SE.txt',\n",
       " 'NPM1-BGHLV26-HepG2-SE.txt',\n",
       " 'DDX19B-BGHLV31-HepG2-SE.txt',\n",
       " 'MARK2-BGHLV18-HepG2-SE.txt',\n",
       " 'PNPT1-BGKLV25-K562-SE.txt',\n",
       " 'FASTKD2-BGHLV14-HepG2-SE.txt',\n",
       " 'SRFBP1-BGKLV21-K562-SE.txt',\n",
       " 'CPSF7-BGKLV24-K562-SE.txt',\n",
       " 'HNRNPK-LV11-K562-SE.txt',\n",
       " 'NPM1-BGKLV28-K562-SE.txt',\n",
       " 'DDX6-LV08-K562-SE.txt',\n",
       " 'MSI2-BGHLV30-HepG2-SE.txt',\n",
       " 'EIF2S1-BGHLV12-HepG2-SE.txt',\n",
       " 'RBFOX2-BGKLV24-K562-SE.txt',\n",
       " 'SUCLG1-BGHLV23-HepG2-SE.txt',\n",
       " 'ZNF622-BGHLV33-HepG2-SE.txt',\n",
       " 'RPS10-BGKLV13-K562-SE.txt',\n",
       " 'FXR1-LV08-K562-SE.txt',\n",
       " 'SAFB2-BGKLV24-K562-SE.txt',\n",
       " 'EIF2S1-LV08-K562-SE.txt',\n",
       " 'EIF3G-BGKLV13-K562-SE.txt',\n",
       " 'G3BP2-LV08-K562-SE.txt',\n",
       " 'RAVER1-LV08-K562-SE.txt',\n",
       " 'KIAA1967-BGHLV18-HepG2-SE.txt',\n",
       " 'DDX52-BGHLV16-HepG2-SE.txt',\n",
       " 'CSTF2-BGHLV17-HepG2-SE.txt',\n",
       " 'SRP68-BGHLV17-HepG2-SE.txt',\n",
       " 'EIF3D-BGHLV16-HepG2-SE.txt',\n",
       " 'KHDRBS1-BGKLV24-K562-SE.txt',\n",
       " 'SUGP2-BGHLV27-HepG2-SE.txt',\n",
       " 'RECQL-LV08-K562-SE.txt']"
      ]
     },
     "execution_count": 159,
     "metadata": {},
     "output_type": "execute_result"
    }
   ],
   "source": [
    "all_junction_counts_dict.keys()"
   ]
  },
  {
   "cell_type": "code",
   "execution_count": 171,
   "metadata": {
    "collapsed": true
   },
   "outputs": [],
   "source": [
    "def return_json_id_from_jxc_filename(jxc_filename):\n",
    "    jxc_filename = jxc_filename.replace('-SE.txt','')\n",
    "    rbp_name, _, rbp_cell = jxc_filename.split('-')\n",
    "    return \"{}_{}_01\".format(rbp_name, rbp_cell) # we don't care about replicates; rmats is one file per 2 reps\n",
    "\n",
    "def jxc_filename_to_qcat_elements(jxc_filename, qcat_dict):\n",
    "    return qcat_dict[\n",
    "        return_json_id_from_jxc_filename(jxc_filename)\n",
    "    ]"
   ]
  },
  {
   "cell_type": "code",
   "execution_count": 172,
   "metadata": {
    "collapsed": false
   },
   "outputs": [
    {
     "data": {
      "text/plain": [
       "[79, '#4FC601']"
      ]
     },
     "execution_count": 172,
     "metadata": {},
     "output_type": "execute_result"
    }
   ],
   "source": [
    "jxc_filename_to_qcat_elements('U2AF1-BGHLV30-HepG2-SE.txt', qcat_dict)"
   ]
  },
  {
   "cell_type": "code",
   "execution_count": null,
   "metadata": {
    "collapsed": false
   },
   "outputs": [],
   "source": [
    "merged"
   ]
  },
  {
   "cell_type": "code",
   "execution_count": null,
   "metadata": {
    "collapsed": true
   },
   "outputs": [],
   "source": []
  }
 ],
 "metadata": {
  "kernelspec": {
   "display_name": "Python 2",
   "language": "python",
   "name": "python2"
  },
  "language_info": {
   "codemirror_mode": {
    "name": "ipython",
    "version": 2
   },
   "file_extension": ".py",
   "mimetype": "text/x-python",
   "name": "python",
   "nbconvert_exporter": "python",
   "pygments_lexer": "ipython2",
   "version": "2.7.12"
  },
  "widgets": {
   "state": {
    "6079c144ceab4f47990ade2a0a9b3ff2": {
     "views": [
      {
       "cell_index": 31
      }
     ]
    },
    "64b8d7f670e6424099ecdc2467dceb14": {
     "views": [
      {
       "cell_index": 30
      }
     ]
    },
    "7b45ecfeca95437fa7f9b8ee90fd1f5d": {
     "views": [
      {
       "cell_index": 30
      }
     ]
    },
    "87e2c475e36b49e8a8e3ba52bcea1046": {
     "views": [
      {
       "cell_index": 35
      }
     ]
    },
    "bb2e709c5c9144e69c7803a688fb5dd2": {
     "views": [
      {
       "cell_index": 5
      }
     ]
    },
    "c3872c4709ff4725b34cfc4f16ecfd67": {
     "views": [
      {
       "cell_index": 17
      }
     ]
    },
    "d2aa8cc07059429f926273b13828a5b7": {
     "views": [
      {
       "cell_index": 35
      }
     ]
    },
    "dcbee1b49e464ab3aeade9ecfd1cfeb1": {
     "views": [
      {
       "cell_index": 23
      }
     ]
    },
    "df91b6c066d44d2380150de62be68d1d": {
     "views": [
      {
       "cell_index": 5
      }
     ]
    },
    "e19ab4d640cf42ae86dbfaf6dbe907bd": {
     "views": [
      {
       "cell_index": 20
      }
     ]
    },
    "e26a46336c89477b8dc69a2bf77fc183": {
     "views": [
      {
       "cell_index": 30
      }
     ]
    },
    "f6ba9e4b0c0347dfbc6a681631c26df7": {
     "views": [
      {
       "cell_index": 26
      }
     ]
    }
   },
   "version": "1.2.0"
  }
 },
 "nbformat": 4,
 "nbformat_minor": 1
}
