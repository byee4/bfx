{
 "cells": [
  {
   "cell_type": "code",
   "execution_count": 1,
   "metadata": {},
   "outputs": [],
   "source": [
    "from qtools import Submitter\n",
    "import os\n",
    "import glob"
   ]
  },
  {
   "cell_type": "code",
   "execution_count": 2,
   "metadata": {},
   "outputs": [],
   "source": [
    "input_dir = '/projects/ps-yeolab3/encode/rnaseq/shrna_knockdown_graveley_tophat/'\n",
    "output_dir = '/projects/ps-yeolab3/encode/rnaseq/shrna_knockdown_graveley_tophat/'"
   ]
  },
  {
   "cell_type": "code",
   "execution_count": 3,
   "metadata": {},
   "outputs": [
    {
     "name": "stdout",
     "output_type": "stream",
     "text": [
      "1060\n"
     ]
    }
   ],
   "source": [
    "all_bams = glob.glob(os.path.join(input_dir, '*.bam'))\n",
    "print(len(all_bams))"
   ]
  },
  {
   "cell_type": "markdown",
   "metadata": {},
   "source": [
    "# Create chrom sizes file (with ERCC spikeins)"
   ]
  },
  {
   "cell_type": "code",
   "execution_count": 4,
   "metadata": {},
   "outputs": [],
   "source": [
    "cmds = []\n",
    "genome = '/projects/ps-yeolab3/bay001/annotations/hg19_ercc.chrom.sizes'\n",
    "\n",
    "for bam in all_bams:\n",
    "    bwpos = os.path.join(os.path.dirname(bam), 'bigwigs', os.path.splitext(os.path.basename(bam))[0] + '.norm.pos.bw')\n",
    "    bwneg = os.path.join(os.path.dirname(bam), 'bigwigs', os.path.splitext(os.path.basename(bam))[0] + '.norm.neg.bw')\n",
    "    cmd = 'module load makebigwigfiles;'\n",
    "    cmd += 'makebigwigfiles '\n",
    "    cmd += '--genome {} '.format(genome)\n",
    "    cmd += '--bw_pos {} '.format(bwpos)\n",
    "    cmd += '--bw_neg {} '.format(bwneg)\n",
    "    cmd += '--bam {}'.format(bam)\n",
    "    cmds.append(cmd)"
   ]
  },
  {
   "cell_type": "code",
   "execution_count": 5,
   "metadata": {},
   "outputs": [
    {
     "name": "stderr",
     "output_type": "stream",
     "text": [
      "Writing 500 tasks as an array-job.\n",
      "Wrote commands to /projects/ps-yeolab3/encode/rnaseq/shrna_knockdown_graveley_tophat/bigwigs/run_makebigwig_file1.sh.\n",
      "Writing 500 tasks as an array-job.\n",
      "Wrote commands to /projects/ps-yeolab3/encode/rnaseq/shrna_knockdown_graveley_tophat/bigwigs/run_makebigwig_file2.sh.\n",
      "Writing 60 tasks as an array-job.\n",
      "Wrote commands to /projects/ps-yeolab3/encode/rnaseq/shrna_knockdown_graveley_tophat/bigwigs/run_makebigwig_file3.sh.\n"
     ]
    },
    {
     "data": {
      "text/plain": [
       "<qtools.submitter.Submitter at 0x2b20942e5fd0>"
      ]
     },
     "execution_count": 5,
     "metadata": {},
     "output_type": "execute_result"
    }
   ],
   "source": [
    "bash_script = '/projects/ps-yeolab3/encode/rnaseq/shrna_knockdown_graveley_tophat/bigwigs/run_makebigwig_files.sh'\n",
    "job_name = 'encode_bigwigs'\n",
    "Submitter(\n",
    "    commands=cmds,\n",
    "    job_name=job_name,\n",
    "    sh=bash_script,\n",
    "    nodes=1,\n",
    "    ppn=4,\n",
    "    walltime='8:00:00',\n",
    "    submit=False,\n",
    "    array=True,\n",
    "    queue='condo'\n",
    ")"
   ]
  },
  {
   "cell_type": "code",
   "execution_count": null,
   "metadata": {},
   "outputs": [],
   "source": []
  }
 ],
 "metadata": {
  "kernelspec": {
   "display_name": "Python 2",
   "language": "python",
   "name": "python2"
  },
  "language_info": {
   "codemirror_mode": {
    "name": "ipython",
    "version": 2
   },
   "file_extension": ".py",
   "mimetype": "text/x-python",
   "name": "python",
   "nbconvert_exporter": "python",
   "pygments_lexer": "ipython2",
   "version": "2.7.14"
  }
 },
 "nbformat": 4,
 "nbformat_minor": 2
}
