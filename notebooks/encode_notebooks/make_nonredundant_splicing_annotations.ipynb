{
 "cells": [
  {
   "cell_type": "code",
   "execution_count": 13,
   "metadata": {
    "collapsed": true
   },
   "outputs": [],
   "source": [
    "import pandas as pd\n",
    "import numpy as np\n",
    "import os\n",
    "import glob\n",
    "from qtools import Submitter"
   ]
  },
  {
   "cell_type": "code",
   "execution_count": 14,
   "metadata": {
    "collapsed": false
   },
   "outputs": [
    {
     "data": {
      "text/plain": [
       "['/projects/ps-yeolab3/bay001/maps/current_annotations/RBM39-BGKLV28-K562-SE.MATS.JunctionCountOnly.positive.txt',\n",
       " '/projects/ps-yeolab3/bay001/maps/current_annotations/SART3-BGKLV24-K562-SE.MATS.JunctionCountOnly.positive.txt',\n",
       " '/projects/ps-yeolab3/bay001/maps/current_annotations/AKAP1-BGHLV12-HepG2-SE.MATS.JunctionCountOnly.positive.txt',\n",
       " '/projects/ps-yeolab3/bay001/maps/current_annotations/PTBP1-LV11-K562-SE.MATS.JunctionCountOnly.positive.txt',\n",
       " '/projects/ps-yeolab3/bay001/maps/current_annotations/HNRNPAB-BGKLV24-K562-SE.MATS.JunctionCountOnly.positive.txt']"
      ]
     },
     "execution_count": 14,
     "metadata": {},
     "output_type": "execute_result"
    }
   ],
   "source": [
    "wd = '/projects/ps-yeolab3/bay001/maps/current_annotations/'\n",
    "prog = '/home/bay001/projects/codebase/rbp-maps/maps/analysis/subset_rmats_junctioncountonly.py'\n",
    "se_mats = glob.glob(os.path.join(wd,'*-SE.MATS.JunctionCountOnly.positive.txt'))\n",
    "se_mats[:5]"
   ]
  },
  {
   "cell_type": "code",
   "execution_count": 11,
   "metadata": {
    "collapsed": false
   },
   "outputs": [
    {
     "name": "stderr",
     "output_type": "stream",
     "text": [
      "Wrote commands to /home/bay001/projects/codebase/temp/bash_scripts/RBM39.sh.\n"
     ]
    },
    {
     "name": "stdout",
     "output_type": "stream",
     "text": [
      "7730534.tscc-mgr.local\n",
      "7730535.tscc-mgr.local\n",
      "7730536.tscc-mgr.local\n"
     ]
    },
    {
     "name": "stderr",
     "output_type": "stream",
     "text": [
      "Submitted script to queue home-scrm.\n",
      " Job ID: 7730534\n",
      "Wrote commands to /home/bay001/projects/codebase/temp/bash_scripts/SART3.sh.\n",
      "Submitted script to queue home-scrm.\n",
      " Job ID: 7730535\n",
      "Wrote commands to /home/bay001/projects/codebase/temp/bash_scripts/AKAP1.sh.\n",
      "Submitted script to queue home-scrm.\n",
      " Job ID: 7730536\n",
      "Wrote commands to /home/bay001/projects/codebase/temp/bash_scripts/PTBP1.sh.\n",
      "Submitted script to queue home-scrm.\n",
      " Job ID: 7730537\n",
      "Wrote commands to /home/bay001/projects/codebase/temp/bash_scripts/HNRNPAB.sh.\n",
      "Submitted script to queue home-scrm.\n",
      " Job ID: 7730538\n",
      "Wrote commands to /home/bay001/projects/codebase/temp/bash_scripts/CNOT7.sh.\n",
      "Submitted script to queue home-scrm.\n",
      " Job ID: 7730539\n",
      "Wrote commands to /home/bay001/projects/codebase/temp/bash_scripts/SUCLG1.sh.\n"
     ]
    },
    {
     "name": "stdout",
     "output_type": "stream",
     "text": [
      "7730537.tscc-mgr.local\n",
      "7730538.tscc-mgr.local\n",
      "7730539.tscc-mgr.local\n",
      "7730540.tscc-mgr.local\n"
     ]
    },
    {
     "name": "stderr",
     "output_type": "stream",
     "text": [
      "Submitted script to queue home-scrm.\n",
      " Job ID: 7730540\n",
      "Wrote commands to /home/bay001/projects/codebase/temp/bash_scripts/SUPT6H.sh.\n",
      "Submitted script to queue home-scrm.\n",
      " Job ID: 7730541\n",
      "Wrote commands to /home/bay001/projects/codebase/temp/bash_scripts/HNRNPUL1.sh.\n",
      "Submitted script to queue home-scrm.\n",
      " Job ID: 7730542\n",
      "Wrote commands to /home/bay001/projects/codebase/temp/bash_scripts/CUGBP1.sh.\n",
      "Submitted script to queue home-scrm.\n",
      " Job ID: 7730543\n",
      "Wrote commands to /home/bay001/projects/codebase/temp/bash_scripts/PABPN1.sh.\n",
      "Submitted script to queue home-scrm.\n",
      " Job ID: 7730544\n",
      "Wrote commands to /home/bay001/projects/codebase/temp/bash_scripts/RBM17.sh.\n",
      "Submitted script to queue home-scrm.\n",
      " Job ID: 7730545\n"
     ]
    },
    {
     "name": "stdout",
     "output_type": "stream",
     "text": [
      "7730541.tscc-mgr.local\n",
      "7730542.tscc-mgr.local\n",
      "7730543.tscc-mgr.local\n",
      "7730544.tscc-mgr.local\n",
      "7730545.tscc-mgr.local\n",
      "7730546.tscc-mgr.local\n"
     ]
    },
    {
     "name": "stderr",
     "output_type": "stream",
     "text": [
      "Wrote commands to /home/bay001/projects/codebase/temp/bash_scripts/PPP1R8.sh.\n",
      "Submitted script to queue home-scrm.\n",
      " Job ID: 7730546\n",
      "Wrote commands to /home/bay001/projects/codebase/temp/bash_scripts/HNRNPC.sh.\n",
      "Submitted script to queue home-scrm.\n",
      " Job ID: 7730547\n",
      "Wrote commands to /home/bay001/projects/codebase/temp/bash_scripts/PCBP2.sh.\n",
      "Submitted script to queue home-scrm.\n",
      " Job ID: 7730548\n",
      "Wrote commands to /home/bay001/projects/codebase/temp/bash_scripts/PUF60.sh.\n",
      "Submitted script to queue home-scrm.\n",
      " Job ID: 7730549\n",
      "Wrote commands to /home/bay001/projects/codebase/temp/bash_scripts/CPSF6.sh.\n"
     ]
    },
    {
     "name": "stdout",
     "output_type": "stream",
     "text": [
      "7730547.tscc-mgr.local\n",
      "7730548.tscc-mgr.local\n",
      "7730549.tscc-mgr.local\n",
      "7730550.tscc-mgr.local\n",
      "7730551.tscc-mgr.local\n"
     ]
    },
    {
     "name": "stderr",
     "output_type": "stream",
     "text": [
      "Submitted script to queue home-scrm.\n",
      " Job ID: 7730550\n",
      "Wrote commands to /home/bay001/projects/codebase/temp/bash_scripts/EFTUD2.sh.\n",
      "Submitted script to queue home-scrm.\n",
      " Job ID: 7730551\n",
      "Wrote commands to /home/bay001/projects/codebase/temp/bash_scripts/RRP9.sh.\n",
      "Submitted script to queue home-scrm.\n",
      " Job ID: 7730552\n",
      "Wrote commands to /home/bay001/projects/codebase/temp/bash_scripts/HNRNPUL1.sh.\n",
      "Submitted script to queue home-scrm.\n",
      " Job ID: 7730553\n",
      "Wrote commands to /home/bay001/projects/codebase/temp/bash_scripts/RBM25.sh.\n",
      "Submitted script to queue home-scrm.\n",
      " Job ID: 7730554\n",
      "Wrote commands to /home/bay001/projects/codebase/temp/bash_scripts/PRPF8.sh.\n",
      "Submitted script to queue home-scrm.\n",
      " Job ID: 7730555\n",
      "Wrote commands to /home/bay001/projects/codebase/temp/bash_scripts/DDX3X.sh.\n"
     ]
    },
    {
     "name": "stdout",
     "output_type": "stream",
     "text": [
      "7730552.tscc-mgr.local\n",
      "7730553.tscc-mgr.local\n",
      "7730554.tscc-mgr.local\n",
      "7730555.tscc-mgr.local\n",
      "7730556.tscc-mgr.local\n"
     ]
    },
    {
     "name": "stderr",
     "output_type": "stream",
     "text": [
      "Submitted script to queue home-scrm.\n",
      " Job ID: 7730556\n",
      "Wrote commands to /home/bay001/projects/codebase/temp/bash_scripts/NAA15.sh.\n",
      "Submitted script to queue home-scrm.\n",
      " Job ID: 7730557\n",
      "Wrote commands to /home/bay001/projects/codebase/temp/bash_scripts/SRSF7.sh.\n",
      "Submitted script to queue home-scrm.\n",
      " Job ID: 7730558\n",
      "Wrote commands to /home/bay001/projects/codebase/temp/bash_scripts/RPS19.sh.\n",
      "Submitted script to queue home-scrm.\n",
      " Job ID: 7730559\n",
      "Wrote commands to /home/bay001/projects/codebase/temp/bash_scripts/EIF4A3.sh.\n",
      "Submitted script to queue home-scrm.\n",
      " Job ID: 7730560\n",
      "Wrote commands to /home/bay001/projects/codebase/temp/bash_scripts/AGGF1.sh.\n"
     ]
    },
    {
     "name": "stdout",
     "output_type": "stream",
     "text": [
      "7730557.tscc-mgr.local\n",
      "7730558.tscc-mgr.local\n",
      "7730559.tscc-mgr.local\n",
      "7730560.tscc-mgr.local\n",
      "7730561.tscc-mgr.local\n"
     ]
    },
    {
     "name": "stderr",
     "output_type": "stream",
     "text": [
      "Submitted script to queue home-scrm.\n",
      " Job ID: 7730561\n",
      "Wrote commands to /home/bay001/projects/codebase/temp/bash_scripts/ILF2.sh.\n",
      "Submitted script to queue home-scrm.\n",
      " Job ID: 7730562\n",
      "Wrote commands to /home/bay001/projects/codebase/temp/bash_scripts/PUM2.sh.\n",
      "Submitted script to queue home-scrm.\n",
      " Job ID: 7730563\n",
      "Wrote commands to /home/bay001/projects/codebase/temp/bash_scripts/DDX6.sh.\n",
      "Submitted script to queue home-scrm.\n",
      " Job ID: 7730564\n",
      "Wrote commands to /home/bay001/projects/codebase/temp/bash_scripts/KRR1.sh.\n"
     ]
    },
    {
     "name": "stdout",
     "output_type": "stream",
     "text": [
      "7730562.tscc-mgr.local\n",
      "7730563.tscc-mgr.local\n",
      "7730564.tscc-mgr.local\n",
      "7730565.tscc-mgr.local\n",
      "7730566.tscc-mgr.local\n"
     ]
    },
    {
     "name": "stderr",
     "output_type": "stream",
     "text": [
      "Submitted script to queue home-scrm.\n",
      " Job ID: 7730565\n",
      "Wrote commands to /home/bay001/projects/codebase/temp/bash_scripts/SNRNP200.sh.\n",
      "Submitted script to queue home-scrm.\n",
      " Job ID: 7730566\n",
      "Wrote commands to /home/bay001/projects/codebase/temp/bash_scripts/NONO.sh.\n",
      "Submitted script to queue home-scrm.\n",
      " Job ID: 7730567\n",
      "Wrote commands to /home/bay001/projects/codebase/temp/bash_scripts/TUFM.sh.\n"
     ]
    },
    {
     "name": "stdout",
     "output_type": "stream",
     "text": [
      "7730567.tscc-mgr.local\n",
      "7730568.tscc-mgr.local\n"
     ]
    },
    {
     "name": "stderr",
     "output_type": "stream",
     "text": [
      "Submitted script to queue home-scrm.\n",
      " Job ID: 7730568\n",
      "Wrote commands to /home/bay001/projects/codebase/temp/bash_scripts/ILF2.sh.\n",
      "Submitted script to queue home-scrm.\n",
      " Job ID: 7730569\n",
      "Wrote commands to /home/bay001/projects/codebase/temp/bash_scripts/YTHDC2.sh.\n",
      "Submitted script to queue home-scrm.\n",
      " Job ID: 7730570\n",
      "Wrote commands to /home/bay001/projects/codebase/temp/bash_scripts/DDX47.sh.\n"
     ]
    },
    {
     "name": "stdout",
     "output_type": "stream",
     "text": [
      "7730569.tscc-mgr.local\n",
      "7730570.tscc-mgr.local\n",
      "7730571.tscc-mgr.local\n",
      "7730572.tscc-mgr.local\n",
      "7730573.tscc-mgr.local\n",
      "7730574.tscc-mgr.local\n",
      "7730575.tscc-mgr.local\n",
      "7730576.tscc-mgr.local\n"
     ]
    },
    {
     "name": "stderr",
     "output_type": "stream",
     "text": [
      "Submitted script to queue home-scrm.\n",
      " Job ID: 7730571\n",
      "Wrote commands to /home/bay001/projects/codebase/temp/bash_scripts/SRSF5.sh.\n",
      "Submitted script to queue home-scrm.\n",
      " Job ID: 7730572\n",
      "Wrote commands to /home/bay001/projects/codebase/temp/bash_scripts/PUF60.sh.\n",
      "Submitted script to queue home-scrm.\n",
      " Job ID: 7730573\n",
      "Wrote commands to /home/bay001/projects/codebase/temp/bash_scripts/CNOT7.sh.\n",
      "Submitted script to queue home-scrm.\n",
      " Job ID: 7730574\n",
      "Wrote commands to /home/bay001/projects/codebase/temp/bash_scripts/EIF3A.sh.\n",
      "Submitted script to queue home-scrm.\n",
      " Job ID: 7730575\n",
      "Wrote commands to /home/bay001/projects/codebase/temp/bash_scripts/ASCC1.sh.\n",
      "Submitted script to queue home-scrm.\n",
      " Job ID: 7730576\n",
      "Wrote commands to /home/bay001/projects/codebase/temp/bash_scripts/MAGOH.sh.\n"
     ]
    },
    {
     "name": "stdout",
     "output_type": "stream",
     "text": [
      "7730577.tscc-mgr.local\n",
      "7730578.tscc-mgr.local\n",
      "7730579.tscc-mgr.local\n",
      "7730580.tscc-mgr.local\n",
      "7730581.tscc-mgr.local\n"
     ]
    },
    {
     "name": "stderr",
     "output_type": "stream",
     "text": [
      "Submitted script to queue home-scrm.\n",
      " Job ID: 7730577\n",
      "Wrote commands to /home/bay001/projects/codebase/temp/bash_scripts/RBFOX2.sh.\n",
      "Submitted script to queue home-scrm.\n",
      " Job ID: 7730578\n",
      "Wrote commands to /home/bay001/projects/codebase/temp/bash_scripts/HNRNPK.sh.\n",
      "Submitted script to queue home-scrm.\n",
      " Job ID: 7730579\n",
      "Wrote commands to /home/bay001/projects/codebase/temp/bash_scripts/RPS19.sh.\n",
      "Submitted script to queue home-scrm.\n",
      " Job ID: 7730580\n",
      "Wrote commands to /home/bay001/projects/codebase/temp/bash_scripts/TIAL1.sh.\n",
      "Submitted script to queue home-scrm.\n",
      " Job ID: 7730581\n",
      "Wrote commands to /home/bay001/projects/codebase/temp/bash_scripts/SF3B1.sh.\n"
     ]
    },
    {
     "name": "stdout",
     "output_type": "stream",
     "text": [
      "7730582.tscc-mgr.local\n",
      "7730583.tscc-mgr.local\n",
      "7730584.tscc-mgr.local\n",
      "7730585.tscc-mgr.local\n",
      "7730586.tscc-mgr.local\n"
     ]
    },
    {
     "name": "stderr",
     "output_type": "stream",
     "text": [
      "Submitted script to queue home-scrm.\n",
      " Job ID: 7730582\n",
      "Wrote commands to /home/bay001/projects/codebase/temp/bash_scripts/U2AF1.sh.\n",
      "Submitted script to queue home-scrm.\n",
      " Job ID: 7730583\n",
      "Wrote commands to /home/bay001/projects/codebase/temp/bash_scripts/CKAP4.sh.\n",
      "Submitted script to queue home-scrm.\n",
      " Job ID: 7730584\n",
      "Wrote commands to /home/bay001/projects/codebase/temp/bash_scripts/UTP18.sh.\n",
      "Submitted script to queue home-scrm.\n",
      " Job ID: 7730585\n",
      "Wrote commands to /home/bay001/projects/codebase/temp/bash_scripts/RPS3A.sh.\n",
      "Submitted script to queue home-scrm.\n",
      " Job ID: 7730586\n",
      "Wrote commands to /home/bay001/projects/codebase/temp/bash_scripts/PABPC4.sh.\n"
     ]
    },
    {
     "name": "stdout",
     "output_type": "stream",
     "text": [
      "7730587.tscc-mgr.local\n",
      "7730588.tscc-mgr.local\n",
      "7730589.tscc-mgr.local\n",
      "7730590.tscc-mgr.local\n",
      "7730591.tscc-mgr.local\n",
      "7730592.tscc-mgr.local\n"
     ]
    },
    {
     "name": "stderr",
     "output_type": "stream",
     "text": [
      "Submitted script to queue home-scrm.\n",
      " Job ID: 7730587\n",
      "Wrote commands to /home/bay001/projects/codebase/temp/bash_scripts/TARDBP.sh.\n",
      "Submitted script to queue home-scrm.\n",
      " Job ID: 7730588\n",
      "Wrote commands to /home/bay001/projects/codebase/temp/bash_scripts/METAP2.sh.\n",
      "Submitted script to queue home-scrm.\n",
      " Job ID: 7730589\n",
      "Wrote commands to /home/bay001/projects/codebase/temp/bash_scripts/SNRNP200.sh.\n",
      "Submitted script to queue home-scrm.\n",
      " Job ID: 7730590\n",
      "Wrote commands to /home/bay001/projects/codebase/temp/bash_scripts/RBM15.sh.\n",
      "Submitted script to queue home-scrm.\n",
      " Job ID: 7730591\n",
      "Wrote commands to /home/bay001/projects/codebase/temp/bash_scripts/CIRBP.sh.\n",
      "Submitted script to queue home-scrm.\n",
      " Job ID: 7730592\n",
      "Wrote commands to /home/bay001/projects/codebase/temp/bash_scripts/SRSF9.sh.\n"
     ]
    },
    {
     "name": "stdout",
     "output_type": "stream",
     "text": [
      "7730593.tscc-mgr.local\n",
      "7730594.tscc-mgr.local\n",
      "7730595.tscc-mgr.local\n",
      "7730596.tscc-mgr.local\n",
      "7730597.tscc-mgr.local\n"
     ]
    },
    {
     "name": "stderr",
     "output_type": "stream",
     "text": [
      "Submitted script to queue home-scrm.\n",
      " Job ID: 7730593\n",
      "Wrote commands to /home/bay001/projects/codebase/temp/bash_scripts/FMR1.sh.\n",
      "Submitted script to queue home-scrm.\n",
      " Job ID: 7730594\n",
      "Wrote commands to /home/bay001/projects/codebase/temp/bash_scripts/SUPV3L1.sh.\n",
      "Submitted script to queue home-scrm.\n",
      " Job ID: 7730595\n",
      "Wrote commands to /home/bay001/projects/codebase/temp/bash_scripts/PTBP1.sh.\n",
      "Submitted script to queue home-scrm.\n",
      " Job ID: 7730596\n",
      "Wrote commands to /home/bay001/projects/codebase/temp/bash_scripts/U2AF2.sh.\n",
      "Submitted script to queue home-scrm.\n",
      " Job ID: 7730597\n",
      "Wrote commands to /home/bay001/projects/codebase/temp/bash_scripts/HNRNPM.sh.\n"
     ]
    },
    {
     "name": "stdout",
     "output_type": "stream",
     "text": [
      "7730598.tscc-mgr.local\n",
      "7730599.tscc-mgr.local\n",
      "7730600.tscc-mgr.local\n"
     ]
    },
    {
     "name": "stderr",
     "output_type": "stream",
     "text": [
      "Submitted script to queue home-scrm.\n",
      " Job ID: 7730598\n",
      "Wrote commands to /home/bay001/projects/codebase/temp/bash_scripts/RAVER1.sh.\n",
      "Submitted script to queue home-scrm.\n",
      " Job ID: 7730599\n",
      "Wrote commands to /home/bay001/projects/codebase/temp/bash_scripts/NOL12.sh.\n",
      "Submitted script to queue home-scrm.\n",
      " Job ID: 7730600\n",
      "Wrote commands to /home/bay001/projects/codebase/temp/bash_scripts/QKI.sh.\n",
      "Submitted script to queue home-scrm.\n",
      " Job ID: 7730601\n",
      "Wrote commands to /home/bay001/projects/codebase/temp/bash_scripts/EWSR1.sh.\n",
      "Submitted script to queue home-scrm.\n",
      " Job ID: 7730602\n",
      "Wrote commands to /home/bay001/projects/codebase/temp/bash_scripts/HNRNPK.sh.\n",
      "Submitted script to queue home-scrm.\n",
      " Job ID: 7730603\n",
      "Wrote commands to /home/bay001/projects/codebase/temp/bash_scripts/NCBP2.sh.\n"
     ]
    },
    {
     "name": "stdout",
     "output_type": "stream",
     "text": [
      "7730601.tscc-mgr.local\n",
      "7730602.tscc-mgr.local\n",
      "7730603.tscc-mgr.local\n",
      "7730604.tscc-mgr.local\n",
      "7730605.tscc-mgr.local\n",
      "7730606.tscc-mgr.local\n",
      "7730607.tscc-mgr.local\n",
      "7730608.tscc-mgr.local\n"
     ]
    },
    {
     "name": "stderr",
     "output_type": "stream",
     "text": [
      "Submitted script to queue home-scrm.\n",
      " Job ID: 7730604\n",
      "Wrote commands to /home/bay001/projects/codebase/temp/bash_scripts/SFPQ.sh.\n",
      "Submitted script to queue home-scrm.\n",
      " Job ID: 7730605\n",
      "Wrote commands to /home/bay001/projects/codebase/temp/bash_scripts/SF1.sh.\n",
      "Submitted script to queue home-scrm.\n",
      " Job ID: 7730606\n",
      "Wrote commands to /home/bay001/projects/codebase/temp/bash_scripts/ZC3H8.sh.\n",
      "Submitted script to queue home-scrm.\n",
      " Job ID: 7730607\n",
      "Wrote commands to /home/bay001/projects/codebase/temp/bash_scripts/AKAP8L.sh.\n",
      "Submitted script to queue home-scrm.\n",
      " Job ID: 7730608\n",
      "Wrote commands to /home/bay001/projects/codebase/temp/bash_scripts/IGF2BP1.sh.\n"
     ]
    },
    {
     "name": "stdout",
     "output_type": "stream",
     "text": [
      "7730609.tscc-mgr.local\n",
      "7730610.tscc-mgr.local\n",
      "7730611.tscc-mgr.local\n",
      "7730612.tscc-mgr.local\n",
      "7730613.tscc-mgr.local\n",
      "7730614.tscc-mgr.local\n"
     ]
    },
    {
     "name": "stderr",
     "output_type": "stream",
     "text": [
      "Submitted script to queue home-scrm.\n",
      " Job ID: 7730609\n",
      "Wrote commands to /home/bay001/projects/codebase/temp/bash_scripts/SRSF7.sh.\n",
      "Submitted script to queue home-scrm.\n",
      " Job ID: 7730610\n",
      "Wrote commands to /home/bay001/projects/codebase/temp/bash_scripts/XRCC6.sh.\n",
      "Submitted script to queue home-scrm.\n",
      " Job ID: 7730611\n",
      "Wrote commands to /home/bay001/projects/codebase/temp/bash_scripts/HNRNPA0.sh.\n",
      "Submitted script to queue home-scrm.\n",
      " Job ID: 7730612\n",
      "Wrote commands to /home/bay001/projects/codebase/temp/bash_scripts/NPM1.sh.\n",
      "Submitted script to queue home-scrm.\n",
      " Job ID: 7730613\n",
      "Wrote commands to /home/bay001/projects/codebase/temp/bash_scripts/MAGOH.sh.\n",
      "Submitted script to queue home-scrm.\n",
      " Job ID: 7730614\n",
      "Wrote commands to /home/bay001/projects/codebase/temp/bash_scripts/HNRNPU.sh.\n"
     ]
    },
    {
     "name": "stdout",
     "output_type": "stream",
     "text": [
      "7730615.tscc-mgr.local\n",
      "7730616.tscc-mgr.local\n",
      "7730617.tscc-mgr.local\n",
      "7730618.tscc-mgr.local\n",
      "7730619.tscc-mgr.local\n",
      "7730620.tscc-mgr.local\n"
     ]
    },
    {
     "name": "stderr",
     "output_type": "stream",
     "text": [
      "Submitted script to queue home-scrm.\n",
      " Job ID: 7730615\n",
      "Wrote commands to /home/bay001/projects/codebase/temp/bash_scripts/PRPF8.sh.\n",
      "Submitted script to queue home-scrm.\n",
      " Job ID: 7730616\n",
      "Wrote commands to /home/bay001/projects/codebase/temp/bash_scripts/EIF4B.sh.\n",
      "Submitted script to queue home-scrm.\n",
      " Job ID: 7730617\n",
      "Wrote commands to /home/bay001/projects/codebase/temp/bash_scripts/IGF2BP2.sh.\n",
      "Submitted script to queue home-scrm.\n",
      " Job ID: 7730618\n",
      "Wrote commands to /home/bay001/projects/codebase/temp/bash_scripts/MATR3.sh.\n",
      "Submitted script to queue home-scrm.\n",
      " Job ID: 7730619\n",
      "Wrote commands to /home/bay001/projects/codebase/temp/bash_scripts/SF3B4.sh.\n",
      "Submitted script to queue home-scrm.\n",
      " Job ID: 7730620\n",
      "Wrote commands to /home/bay001/projects/codebase/temp/bash_scripts/EIF4G2.sh.\n"
     ]
    },
    {
     "name": "stdout",
     "output_type": "stream",
     "text": [
      "7730621.tscc-mgr.local\n",
      "7730622.tscc-mgr.local\n",
      "7730623.tscc-mgr.local\n",
      "7730624.tscc-mgr.local\n",
      "7730625.tscc-mgr.local\n",
      "7730626.tscc-mgr.local\n"
     ]
    },
    {
     "name": "stderr",
     "output_type": "stream",
     "text": [
      "Submitted script to queue home-scrm.\n",
      " Job ID: 7730621\n",
      "Wrote commands to /home/bay001/projects/codebase/temp/bash_scripts/TAF15.sh.\n",
      "Submitted script to queue home-scrm.\n",
      " Job ID: 7730622\n",
      "Wrote commands to /home/bay001/projects/codebase/temp/bash_scripts/XPO5.sh.\n",
      "Submitted script to queue home-scrm.\n",
      " Job ID: 7730623\n",
      "Wrote commands to /home/bay001/projects/codebase/temp/bash_scripts/ETF1.sh.\n",
      "Submitted script to queue home-scrm.\n",
      " Job ID: 7730624\n",
      "Wrote commands to /home/bay001/projects/codebase/temp/bash_scripts/PCBP1.sh.\n",
      "Submitted script to queue home-scrm.\n",
      " Job ID: 7730625\n",
      "Wrote commands to /home/bay001/projects/codebase/temp/bash_scripts/AQR.sh.\n",
      "Submitted script to queue home-scrm.\n",
      " Job ID: 7730626\n",
      "Wrote commands to /home/bay001/projects/codebase/temp/bash_scripts/SBDS.sh.\n"
     ]
    },
    {
     "name": "stdout",
     "output_type": "stream",
     "text": [
      "7730627.tscc-mgr.local\n",
      "7730628.tscc-mgr.local\n",
      "7730629.tscc-mgr.local\n",
      "7730630.tscc-mgr.local\n",
      "7730631.tscc-mgr.local\n"
     ]
    },
    {
     "name": "stderr",
     "output_type": "stream",
     "text": [
      "Submitted script to queue home-scrm.\n",
      " Job ID: 7730627\n",
      "Wrote commands to /home/bay001/projects/codebase/temp/bash_scripts/HNRNPC.sh.\n",
      "Submitted script to queue home-scrm.\n",
      " Job ID: 7730628\n",
      "Wrote commands to /home/bay001/projects/codebase/temp/bash_scripts/PABPC1.sh.\n",
      "Submitted script to queue home-scrm.\n",
      " Job ID: 7730629\n",
      "Wrote commands to /home/bay001/projects/codebase/temp/bash_scripts/TBRG4.sh.\n",
      "Submitted script to queue home-scrm.\n",
      " Job ID: 7730630\n",
      "Wrote commands to /home/bay001/projects/codebase/temp/bash_scripts/UBE2L3.sh.\n",
      "Submitted script to queue home-scrm.\n",
      " Job ID: 7730631\n",
      "Wrote commands to /home/bay001/projects/codebase/temp/bash_scripts/LARP4.sh.\n"
     ]
    },
    {
     "name": "stdout",
     "output_type": "stream",
     "text": [
      "7730632.tscc-mgr.local\n",
      "7730633.tscc-mgr.local\n",
      "7730634.tscc-mgr.local\n",
      "7730635.tscc-mgr.local\n",
      "7730636.tscc-mgr.local\n",
      "7730637.tscc-mgr.local\n"
     ]
    },
    {
     "name": "stderr",
     "output_type": "stream",
     "text": [
      "Submitted script to queue home-scrm.\n",
      " Job ID: 7730632\n",
      "Wrote commands to /home/bay001/projects/codebase/temp/bash_scripts/FIP1L1.sh.\n",
      "Submitted script to queue home-scrm.\n",
      " Job ID: 7730633\n",
      "Wrote commands to /home/bay001/projects/codebase/temp/bash_scripts/LARP4.sh.\n",
      "Submitted script to queue home-scrm.\n",
      " Job ID: 7730634\n",
      "Wrote commands to /home/bay001/projects/codebase/temp/bash_scripts/RNASEN50.sh.\n",
      "Submitted script to queue home-scrm.\n",
      " Job ID: 7730635\n",
      "Wrote commands to /home/bay001/projects/codebase/temp/bash_scripts/U2AF2.sh.\n",
      "Submitted script to queue home-scrm.\n",
      " Job ID: 7730636\n",
      "Wrote commands to /home/bay001/projects/codebase/temp/bash_scripts/SRSF1.sh.\n",
      "Submitted script to queue home-scrm.\n",
      " Job ID: 7730637\n",
      "Wrote commands to /home/bay001/projects/codebase/temp/bash_scripts/HNRNPL.sh.\n"
     ]
    },
    {
     "name": "stdout",
     "output_type": "stream",
     "text": [
      "7730638.tscc-mgr.local\n",
      "7730639.tscc-mgr.local\n",
      "7730640.tscc-mgr.local\n",
      "7730641.tscc-mgr.local\n"
     ]
    },
    {
     "name": "stderr",
     "output_type": "stream",
     "text": [
      "Submitted script to queue home-scrm.\n",
      " Job ID: 7730638\n",
      "Wrote commands to /home/bay001/projects/codebase/temp/bash_scripts/EIF2S1.sh.\n",
      "Submitted script to queue home-scrm.\n",
      " Job ID: 7730639\n",
      "Wrote commands to /home/bay001/projects/codebase/temp/bash_scripts/SFPQ.sh.\n",
      "Submitted script to queue home-scrm.\n",
      " Job ID: 7730640\n",
      "Wrote commands to /home/bay001/projects/codebase/temp/bash_scripts/HNRNPU.sh.\n",
      "Submitted script to queue home-scrm.\n",
      " Job ID: 7730641\n",
      "Wrote commands to /home/bay001/projects/codebase/temp/bash_scripts/RBM22.sh.\n"
     ]
    },
    {
     "name": "stdout",
     "output_type": "stream",
     "text": [
      "7730642.tscc-mgr.local\n",
      "7730643.tscc-mgr.local\n",
      "7730644.tscc-mgr.local\n",
      "7730645.tscc-mgr.local\n",
      "7730646.tscc-mgr.local\n",
      "7730647.tscc-mgr.local\n"
     ]
    },
    {
     "name": "stderr",
     "output_type": "stream",
     "text": [
      "Submitted script to queue home-scrm.\n",
      " Job ID: 7730642\n",
      "Wrote commands to /home/bay001/projects/codebase/temp/bash_scripts/HNRNPM.sh.\n",
      "Submitted script to queue home-scrm.\n",
      " Job ID: 7730643\n",
      "Wrote commands to /home/bay001/projects/codebase/temp/bash_scripts/PUM1.sh.\n",
      "Submitted script to queue home-scrm.\n",
      " Job ID: 7730644\n",
      "Wrote commands to /home/bay001/projects/codebase/temp/bash_scripts/SSB.sh.\n",
      "Submitted script to queue home-scrm.\n",
      " Job ID: 7730645\n",
      "Wrote commands to /home/bay001/projects/codebase/temp/bash_scripts/SF1.sh.\n",
      "Submitted script to queue home-scrm.\n",
      " Job ID: 7730646\n",
      "Wrote commands to /home/bay001/projects/codebase/temp/bash_scripts/TRIM56.sh.\n",
      "Submitted script to queue home-scrm.\n",
      " Job ID: 7730647\n",
      "Wrote commands to /home/bay001/projects/codebase/temp/bash_scripts/SRFBP1.sh.\n"
     ]
    },
    {
     "name": "stdout",
     "output_type": "stream",
     "text": [
      "7730648.tscc-mgr.local\n",
      "7730649.tscc-mgr.local\n",
      "7730650.tscc-mgr.local\n",
      "7730651.tscc-mgr.local\n",
      "7730652.tscc-mgr.local\n"
     ]
    },
    {
     "name": "stderr",
     "output_type": "stream",
     "text": [
      "Submitted script to queue home-scrm.\n",
      " Job ID: 7730648\n",
      "Wrote commands to /home/bay001/projects/codebase/temp/bash_scripts/RBM22.sh.\n",
      "Submitted script to queue home-scrm.\n",
      " Job ID: 7730649\n",
      "Wrote commands to /home/bay001/projects/codebase/temp/bash_scripts/HNRNPA2B1.sh.\n",
      "Submitted script to queue home-scrm.\n",
      " Job ID: 7730650\n",
      "Wrote commands to /home/bay001/projects/codebase/temp/bash_scripts/U2AF1.sh.\n",
      "Submitted script to queue home-scrm.\n",
      " Job ID: 7730651\n",
      "Wrote commands to /home/bay001/projects/codebase/temp/bash_scripts/STIP1.sh.\n",
      "Submitted script to queue home-scrm.\n",
      " Job ID: 7730652\n",
      "Wrote commands to /home/bay001/projects/codebase/temp/bash_scripts/SF3B4.sh.\n"
     ]
    },
    {
     "name": "stdout",
     "output_type": "stream",
     "text": [
      "7730653.tscc-mgr.local\n",
      "7730654.tscc-mgr.local\n",
      "7730655.tscc-mgr.local\n",
      "7730656.tscc-mgr.local\n",
      "7730657.tscc-mgr.local\n",
      "7730658.tscc-mgr.local\n"
     ]
    },
    {
     "name": "stderr",
     "output_type": "stream",
     "text": [
      "Submitted script to queue home-scrm.\n",
      " Job ID: 7730653\n",
      "Wrote commands to /home/bay001/projects/codebase/temp/bash_scripts/EIF3G.sh.\n",
      "Submitted script to queue home-scrm.\n",
      " Job ID: 7730654\n",
      "Wrote commands to /home/bay001/projects/codebase/temp/bash_scripts/PUS1.sh.\n",
      "Submitted script to queue home-scrm.\n",
      " Job ID: 7730655\n",
      "Wrote commands to /home/bay001/projects/codebase/temp/bash_scripts/SRSF1.sh.\n",
      "Submitted script to queue home-scrm.\n",
      " Job ID: 7730656\n",
      "Wrote commands to /home/bay001/projects/codebase/temp/bash_scripts/NUFIP2.sh.\n",
      "Submitted script to queue home-scrm.\n",
      " Job ID: 7730657\n",
      "Wrote commands to /home/bay001/projects/codebase/temp/bash_scripts/FXR1.sh.\n",
      "Submitted script to queue home-scrm.\n",
      " Job ID: 7730658\n",
      "Wrote commands to /home/bay001/projects/codebase/temp/bash_scripts/RBM39.sh.\n"
     ]
    },
    {
     "name": "stdout",
     "output_type": "stream",
     "text": [
      "7730659.tscc-mgr.local\n",
      "7730660.tscc-mgr.local\n",
      "7730661.tscc-mgr.local\n",
      "7730662.tscc-mgr.local\n",
      "7730663.tscc-mgr.local\n"
     ]
    },
    {
     "name": "stderr",
     "output_type": "stream",
     "text": [
      "Submitted script to queue home-scrm.\n",
      " Job ID: 7730659\n",
      "Wrote commands to /home/bay001/projects/codebase/temp/bash_scripts/HNRNPA1.sh.\n",
      "Submitted script to queue home-scrm.\n",
      " Job ID: 7730660\n",
      "Wrote commands to /home/bay001/projects/codebase/temp/bash_scripts/SUPV3L1.sh.\n",
      "Submitted script to queue home-scrm.\n",
      " Job ID: 7730661\n",
      "Wrote commands to /home/bay001/projects/codebase/temp/bash_scripts/APOBEC3C.sh.\n",
      "Submitted script to queue home-scrm.\n",
      " Job ID: 7730662\n",
      "Wrote commands to /home/bay001/projects/codebase/temp/bash_scripts/EIF4A3.sh.\n",
      "Submitted script to queue home-scrm.\n",
      " Job ID: 7730663\n",
      "Wrote commands to /home/bay001/projects/codebase/temp/bash_scripts/PCBP2.sh.\n"
     ]
    },
    {
     "name": "stdout",
     "output_type": "stream",
     "text": [
      "7730664.tscc-mgr.local\n",
      "7730665.tscc-mgr.local\n",
      "7730666.tscc-mgr.local\n",
      "7730667.tscc-mgr.local\n",
      "7730668.tscc-mgr.local\n",
      "7730669.tscc-mgr.local\n"
     ]
    },
    {
     "name": "stderr",
     "output_type": "stream",
     "text": [
      "Submitted script to queue home-scrm.\n",
      " Job ID: 7730664\n",
      "Wrote commands to /home/bay001/projects/codebase/temp/bash_scripts/IGF2BP3.sh.\n",
      "Submitted script to queue home-scrm.\n",
      " Job ID: 7730665\n",
      "Wrote commands to /home/bay001/projects/codebase/temp/bash_scripts/CCAR1.sh.\n",
      "Submitted script to queue home-scrm.\n",
      " Job ID: 7730666\n",
      "Wrote commands to /home/bay001/projects/codebase/temp/bash_scripts/KIF1C.sh.\n",
      "Submitted script to queue home-scrm.\n",
      " Job ID: 7730667\n",
      "Wrote commands to /home/bay001/projects/codebase/temp/bash_scripts/SUGP2.sh.\n",
      "Submitted script to queue home-scrm.\n",
      " Job ID: 7730668\n",
      "Wrote commands to /home/bay001/projects/codebase/temp/bash_scripts/ACO1.sh.\n",
      "Submitted script to queue home-scrm.\n",
      " Job ID: 7730669\n",
      "Wrote commands to /home/bay001/projects/codebase/temp/bash_scripts/HNRNPL.sh.\n"
     ]
    },
    {
     "name": "stdout",
     "output_type": "stream",
     "text": [
      "7730670.tscc-mgr.local\n",
      "7730671.tscc-mgr.local\n",
      "7730672.tscc-mgr.local\n"
     ]
    },
    {
     "name": "stderr",
     "output_type": "stream",
     "text": [
      "Submitted script to queue home-scrm.\n",
      " Job ID: 7730670\n",
      "Wrote commands to /home/bay001/projects/codebase/temp/bash_scripts/RDBP.sh.\n",
      "Submitted script to queue home-scrm.\n",
      " Job ID: 7730671\n",
      "Wrote commands to /home/bay001/projects/codebase/temp/bash_scripts/PABPC1.sh.\n",
      "Submitted script to queue home-scrm.\n",
      " Job ID: 7730672\n"
     ]
    }
   ],
   "source": [
    "for se in se_mats:\n",
    "    positive_input = se\n",
    "    negative_input = se.replace('.positive.txt','.negative.txt')\n",
    "    \n",
    "    positive_output = positive_input.replace('.txt','.nr.txt')\n",
    "    negative_output = negative_input.replace('.txt','.nr.txt')\n",
    "    \n",
    "    get_nr_positive = \"python {} -i {} -o {}\".format(prog, positive_input, positive_output)\n",
    "    get_nr_negative = \"python {} -i {} -o {}\".format(prog, negative_input, negative_output)\n",
    "    cmdstr = [get_nr_positive, get_nr_negative]\n",
    "    jobname = os.path.basename(se).split('-')[0]\n",
    "    qtools.Submitter(\n",
    "        cmdstr, \n",
    "        jobname, \n",
    "        array=False, \n",
    "        nodes=1, \n",
    "        ppn=1, \n",
    "        walltime='0:30:00', \n",
    "        submit=True, \n",
    "        queue='home-scrm',\n",
    "        sh='/home/bay001/projects/codebase/temp/bash_scripts/{}.sh'.format(jobname)\n",
    "    )\n",
    "    "
   ]
  },
  {
   "cell_type": "code",
   "execution_count": null,
   "metadata": {
    "collapsed": true
   },
   "outputs": [],
   "source": []
  }
 ],
 "metadata": {
  "kernelspec": {
   "display_name": "Python 2",
   "language": "python",
   "name": "python2"
  },
  "language_info": {
   "codemirror_mode": {
    "name": "ipython",
    "version": 2
   },
   "file_extension": ".py",
   "mimetype": "text/x-python",
   "name": "python",
   "nbconvert_exporter": "python",
   "pygments_lexer": "ipython2",
   "version": "2.7.12"
  }
 },
 "nbformat": 4,
 "nbformat_minor": 1
}
