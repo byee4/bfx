{
 "cells": [
  {
   "cell_type": "markdown",
   "metadata": {},
   "source": [
    "# To fix the redundant-ness of the background controls, Eric went back and added junction counts to each of them. This notebook looks at the format for each of his controls"
   ]
  },
  {
   "cell_type": "code",
   "execution_count": 1,
   "metadata": {},
   "outputs": [],
   "source": [
    "import pandas as pd\n",
    "import numpy as np\n",
    "import os\n",
    "import pybedtools as bt"
   ]
  },
  {
   "cell_type": "code",
   "execution_count": 2,
   "metadata": {},
   "outputs": [],
   "source": [
    "def get_bedtools(row, x, event='se'):\n",
    "    chrom, strand, _, _, _ = row['annotation'].split('|')\n",
    "    if event == 'se' or event == 'mxe' or event == 'ri':\n",
    "        low_start, low_end = [int(ex) for ex in row['low_exon'].split('-')]\n",
    "        hi_start, hi_end = [int(ex) for ex in row['hi_exon'].split('-')]\n",
    "        interval = bt.create_interval_from_list(\n",
    "            [chrom, low_end, hi_start, row['annotation'], '0',\n",
    "             strand])\n",
    "    elif event == 'a3ss':\n",
    "        flank_start, flank_end = [int(ex) for ex in row['upstream_exon'].split('-')]\n",
    "        long_start, long_end = [int(ex) for ex in row['long_exon'].split('-')]\n",
    "        short_start, short_end = [int(ex) for ex in row['short_exon'].split('-')]\n",
    "    \n",
    "        if strand == '+':\n",
    "            interval = bt.create_interval_from_list(\n",
    "                [chrom, flank_end, short_start, row['annotation'], '0',\n",
    "                 strand])\n",
    "        else:\n",
    "            interval = bt.create_interval_from_list(\n",
    "                [chrom, short_end, flank_start, row['annotation'], '0',\n",
    "                 strand]\n",
    "            )\n",
    "    elif event == 'a5ss':\n",
    "        flank_start, flank_end = [int(ex) for ex in row['downstream_exon'].split('-')]\n",
    "        long_start, long_end = [int(ex) for ex in row['long_exon'].split('-')]\n",
    "        short_start, short_end = [int(ex) for ex in row['short_exon'].split('-')]\n",
    "    \n",
    "        if strand == '+':\n",
    "            interval = bt.create_interval_from_list(\n",
    "                [chrom, short_end, flank_start, row['annotation'], '0',\n",
    "                 strand])\n",
    "        else:\n",
    "            interval = bt.create_interval_from_list(\n",
    "                [chrom, flank_end, short_start, row['annotation'], '0',\n",
    "                 strand]\n",
    "            )\n",
    "    return interval"
   ]
  },
  {
   "cell_type": "markdown",
   "metadata": {},
   "source": [
    "# SE"
   ]
  },
  {
   "cell_type": "code",
   "execution_count": 3,
   "metadata": {},
   "outputs": [
    {
     "data": {
      "text/html": [
       "<div>\n",
       "<style scoped>\n",
       "    .dataframe tbody tr th:only-of-type {\n",
       "        vertical-align: middle;\n",
       "    }\n",
       "\n",
       "    .dataframe tbody tr th {\n",
       "        vertical-align: top;\n",
       "    }\n",
       "\n",
       "    .dataframe thead th {\n",
       "        text-align: right;\n",
       "    }\n",
       "</style>\n",
       "<table border=\"1\" class=\"dataframe\">\n",
       "  <thead>\n",
       "    <tr style=\"text-align: right;\">\n",
       "      <th></th>\n",
       "      <th>annotation</th>\n",
       "      <th>low_exon</th>\n",
       "      <th>skipped_exon</th>\n",
       "      <th>hi_exon</th>\n",
       "      <th>incl</th>\n",
       "      <th>excl</th>\n",
       "    </tr>\n",
       "  </thead>\n",
       "  <tbody>\n",
       "    <tr>\n",
       "      <th>18862</th>\n",
       "      <td>chr13|-|46627826-46627878|46627933-46629896|46...</td>\n",
       "      <td>46627321-46627826</td>\n",
       "      <td>46627878-46627933</td>\n",
       "      <td>46629896-46629984</td>\n",
       "      <td>25554,0</td>\n",
       "      <td>190980,0</td>\n",
       "    </tr>\n",
       "    <tr>\n",
       "      <th>18863</th>\n",
       "      <td>chr13|-|45911688-45912794|45912911-45913631|45...</td>\n",
       "      <td>45911312-45911688</td>\n",
       "      <td>45912794-45912911</td>\n",
       "      <td>45913631-45913668</td>\n",
       "      <td>230788,0</td>\n",
       "      <td>1891797,0</td>\n",
       "    </tr>\n",
       "    <tr>\n",
       "      <th>18864</th>\n",
       "      <td>chr13|-|113851557-113852504|113852578-11385474...</td>\n",
       "      <td>113851332-113851557</td>\n",
       "      <td>113852504-113852578</td>\n",
       "      <td>113854740-113854830</td>\n",
       "      <td>8311,0</td>\n",
       "      <td>69364,0</td>\n",
       "    </tr>\n",
       "    <tr>\n",
       "      <th>18865</th>\n",
       "      <td>chr13|-|48547527-48562675|48562838-48563016|48...</td>\n",
       "      <td>48547398-48547527</td>\n",
       "      <td>48562675-48562838</td>\n",
       "      <td>48563016-48563116</td>\n",
       "      <td>5583,0</td>\n",
       "      <td>43555,0</td>\n",
       "    </tr>\n",
       "    <tr>\n",
       "      <th>18866</th>\n",
       "      <td>chr13|-|75901962-75911056|75911176-75915260|75...</td>\n",
       "      <td>75901887-75901962</td>\n",
       "      <td>75911056-75911176</td>\n",
       "      <td>75915260-75915371</td>\n",
       "      <td>6476,0</td>\n",
       "      <td>50960,0</td>\n",
       "    </tr>\n",
       "  </tbody>\n",
       "</table>\n",
       "</div>"
      ],
      "text/plain": [
       "                                              annotation             low_exon  \\\n",
       "18862  chr13|-|46627826-46627878|46627933-46629896|46...    46627321-46627826   \n",
       "18863  chr13|-|45911688-45912794|45912911-45913631|45...    45911312-45911688   \n",
       "18864  chr13|-|113851557-113852504|113852578-11385474...  113851332-113851557   \n",
       "18865  chr13|-|48547527-48562675|48562838-48563016|48...    48547398-48547527   \n",
       "18866  chr13|-|75901962-75911056|75911176-75915260|75...    75901887-75901962   \n",
       "\n",
       "              skipped_exon              hi_exon      incl       excl  \n",
       "18862    46627878-46627933    46629896-46629984   25554,0   190980,0  \n",
       "18863    45912794-45912911    45913631-45913668  230788,0  1891797,0  \n",
       "18864  113852504-113852578  113854740-113854830    8311,0    69364,0  \n",
       "18865    48562675-48562838    48563016-48563116    5583,0    43555,0  \n",
       "18866    75911056-75911176    75915260-75915371    6476,0    50960,0  "
      ]
     },
     "execution_count": 3,
     "metadata": {},
     "output_type": "execute_result"
    }
   ],
   "source": [
    "se_all_names = ['annotation','low_exon','skipped_exon','hi_exon', 'incl','excl']\n",
    "\n",
    "df = pd.read_table(\n",
    "    '/projects/ps-yeolab3/encode/hepg2_brenton-graveley_ambiguous_bams_for_integrated_analysis.txt.strict_CE_all_20170805',\n",
    "    names=se_all_names\n",
    ")\n",
    "df.tail()"
   ]
  },
  {
   "cell_type": "code",
   "execution_count": 4,
   "metadata": {},
   "outputs": [],
   "source": [
    "bedtools = []\n",
    "for ix, row in df.iterrows():\n",
    "    bedtools.append(get_bedtools(row, '.', 'se'))"
   ]
  },
  {
   "cell_type": "markdown",
   "metadata": {},
   "source": [
    "# A3SS"
   ]
  },
  {
   "cell_type": "code",
   "execution_count": 5,
   "metadata": {},
   "outputs": [
    {
     "data": {
      "text/html": [
       "<div>\n",
       "<style scoped>\n",
       "    .dataframe tbody tr th:only-of-type {\n",
       "        vertical-align: middle;\n",
       "    }\n",
       "\n",
       "    .dataframe tbody tr th {\n",
       "        vertical-align: top;\n",
       "    }\n",
       "\n",
       "    .dataframe thead th {\n",
       "        text-align: right;\n",
       "    }\n",
       "</style>\n",
       "<table border=\"1\" class=\"dataframe\">\n",
       "  <thead>\n",
       "    <tr style=\"text-align: right;\">\n",
       "      <th></th>\n",
       "      <th>annotation</th>\n",
       "      <th>upstream_exon</th>\n",
       "      <th>long_exon</th>\n",
       "      <th>short_exon</th>\n",
       "      <th>incl</th>\n",
       "      <th>excl</th>\n",
       "    </tr>\n",
       "  </thead>\n",
       "  <tbody>\n",
       "    <tr>\n",
       "      <th>234</th>\n",
       "      <td>chr17|-|47784326|47783671|47783696</td>\n",
       "      <td>47784326-47784430</td>\n",
       "      <td>47783565-47783696</td>\n",
       "      <td>47783565-47783671</td>\n",
       "      <td>2686,947</td>\n",
       "      <td>24934,10140</td>\n",
       "    </tr>\n",
       "    <tr>\n",
       "      <th>235</th>\n",
       "      <td>chr17|-|38083736|38080473|38080478</td>\n",
       "      <td>38083736-38083854</td>\n",
       "      <td>38080282-38080478</td>\n",
       "      <td>38080282-38080473</td>\n",
       "      <td>4247,1725</td>\n",
       "      <td>40095,15388</td>\n",
       "    </tr>\n",
       "    <tr>\n",
       "      <th>236</th>\n",
       "      <td>chr13|+|76408523|76409368|76409287</td>\n",
       "      <td>76408361-76408523</td>\n",
       "      <td>76409287-76409475</td>\n",
       "      <td>76409368-76409475</td>\n",
       "      <td>929,758</td>\n",
       "      <td>10323,7972</td>\n",
       "    </tr>\n",
       "    <tr>\n",
       "      <th>237</th>\n",
       "      <td>chr13|-|46541638|46539564|46539567</td>\n",
       "      <td>46541638-46542163</td>\n",
       "      <td>46539414-46539567</td>\n",
       "      <td>46539414-46539564</td>\n",
       "      <td>1906,1225</td>\n",
       "      <td>16102,9307</td>\n",
       "    </tr>\n",
       "    <tr>\n",
       "      <th>238</th>\n",
       "      <td>chr13|-|79929354|79928696|79928705</td>\n",
       "      <td>79929354-79929519</td>\n",
       "      <td>79928573-79928705</td>\n",
       "      <td>79928573-79928696</td>\n",
       "      <td>1012,538</td>\n",
       "      <td>8522,4031</td>\n",
       "    </tr>\n",
       "  </tbody>\n",
       "</table>\n",
       "</div>"
      ],
      "text/plain": [
       "                             annotation      upstream_exon          long_exon  \\\n",
       "234  chr17|-|47784326|47783671|47783696  47784326-47784430  47783565-47783696   \n",
       "235  chr17|-|38083736|38080473|38080478  38083736-38083854  38080282-38080478   \n",
       "236  chr13|+|76408523|76409368|76409287  76408361-76408523  76409287-76409475   \n",
       "237  chr13|-|46541638|46539564|46539567  46541638-46542163  46539414-46539567   \n",
       "238  chr13|-|79929354|79928696|79928705  79929354-79929519  79928573-79928705   \n",
       "\n",
       "            short_exon       incl         excl  \n",
       "234  47783565-47783671   2686,947  24934,10140  \n",
       "235  38080282-38080473  4247,1725  40095,15388  \n",
       "236  76409368-76409475    929,758   10323,7972  \n",
       "237  46539414-46539564  1906,1225   16102,9307  \n",
       "238  79928573-79928696   1012,538    8522,4031  "
      ]
     },
     "execution_count": 5,
     "metadata": {},
     "output_type": "execute_result"
    }
   ],
   "source": [
    "a3ss_all_names = ['annotation','upstream_exon','long_exon','short_exon', 'incl','excl']\n",
    "df = pd.read_table(\n",
    "    '/projects/ps-yeolab3/encode/hepg2_brenton-graveley_ambiguous_bams_for_integrated_analysis.txt.aA3SScenter_0.1_20170805',\n",
    "    names=a3ss_all_names\n",
    ")\n",
    "df.tail()"
   ]
  },
  {
   "cell_type": "code",
   "execution_count": 6,
   "metadata": {},
   "outputs": [],
   "source": [
    "bedtools = []\n",
    "for ix, row in df.iterrows():\n",
    "    bedtools.append(get_bedtools(row, '.', 'a3ss'))"
   ]
  },
  {
   "cell_type": "markdown",
   "metadata": {},
   "source": [
    "# A5SS"
   ]
  },
  {
   "cell_type": "code",
   "execution_count": 7,
   "metadata": {},
   "outputs": [
    {
     "data": {
      "text/html": [
       "<div>\n",
       "<style scoped>\n",
       "    .dataframe tbody tr th:only-of-type {\n",
       "        vertical-align: middle;\n",
       "    }\n",
       "\n",
       "    .dataframe tbody tr th {\n",
       "        vertical-align: top;\n",
       "    }\n",
       "\n",
       "    .dataframe thead th {\n",
       "        text-align: right;\n",
       "    }\n",
       "</style>\n",
       "<table border=\"1\" class=\"dataframe\">\n",
       "  <thead>\n",
       "    <tr style=\"text-align: right;\">\n",
       "      <th></th>\n",
       "      <th>annotation</th>\n",
       "      <th>short_exon</th>\n",
       "      <th>long_exon</th>\n",
       "      <th>downstream_exon</th>\n",
       "      <th>incl</th>\n",
       "      <th>excl</th>\n",
       "    </tr>\n",
       "  </thead>\n",
       "  <tbody>\n",
       "    <tr>\n",
       "      <th>0</th>\n",
       "      <td>chr3|+|100455548|100455560|100463676</td>\n",
       "      <td>100455419-100455548</td>\n",
       "      <td>100455419-100455560</td>\n",
       "      <td>100463676-100463775</td>\n",
       "      <td>2368,923</td>\n",
       "      <td>20335,8278</td>\n",
       "    </tr>\n",
       "    <tr>\n",
       "      <th>1</th>\n",
       "      <td>chr3|+|142740224|142740227|142740314</td>\n",
       "      <td>142740191-142740224</td>\n",
       "      <td>142740191-142740227</td>\n",
       "      <td>142740314-142740397</td>\n",
       "      <td>1415,1625</td>\n",
       "      <td>13025,14640</td>\n",
       "    </tr>\n",
       "    <tr>\n",
       "      <th>2</th>\n",
       "      <td>chr3|-|128890497|128890476|128890381</td>\n",
       "      <td>128890497-128890614</td>\n",
       "      <td>128890476-128890614</td>\n",
       "      <td>128890288-128890381</td>\n",
       "      <td>6161,4932</td>\n",
       "      <td>55845,50000</td>\n",
       "    </tr>\n",
       "    <tr>\n",
       "      <th>3</th>\n",
       "      <td>chr3|-|129155303|129155285|129152979</td>\n",
       "      <td>129155303-129156151</td>\n",
       "      <td>129155285-129156151</td>\n",
       "      <td>129152904-129152979</td>\n",
       "      <td>957,1934</td>\n",
       "      <td>6299,12824</td>\n",
       "    </tr>\n",
       "    <tr>\n",
       "      <th>4</th>\n",
       "      <td>chr18|+|46284776|46284782|46287760</td>\n",
       "      <td>46284289-46284776</td>\n",
       "      <td>46284289-46284782</td>\n",
       "      <td>46287760-46288060</td>\n",
       "      <td>533,669</td>\n",
       "      <td>4525,5454</td>\n",
       "    </tr>\n",
       "  </tbody>\n",
       "</table>\n",
       "</div>"
      ],
      "text/plain": [
       "                             annotation           short_exon  \\\n",
       "0  chr3|+|100455548|100455560|100463676  100455419-100455548   \n",
       "1  chr3|+|142740224|142740227|142740314  142740191-142740224   \n",
       "2  chr3|-|128890497|128890476|128890381  128890497-128890614   \n",
       "3  chr3|-|129155303|129155285|129152979  129155303-129156151   \n",
       "4    chr18|+|46284776|46284782|46287760    46284289-46284776   \n",
       "\n",
       "             long_exon      downstream_exon       incl         excl  \n",
       "0  100455419-100455560  100463676-100463775   2368,923   20335,8278  \n",
       "1  142740191-142740227  142740314-142740397  1415,1625  13025,14640  \n",
       "2  128890476-128890614  128890288-128890381  6161,4932  55845,50000  \n",
       "3  129155285-129156151  129152904-129152979   957,1934   6299,12824  \n",
       "4    46284289-46284782    46287760-46288060    533,669    4525,5454  "
      ]
     },
     "execution_count": 7,
     "metadata": {},
     "output_type": "execute_result"
    }
   ],
   "source": [
    "a5ss_all_names = ['annotation','short_exon','long_exon','downstream_exon', 'incl','excl']\n",
    "df = pd.read_table(\n",
    "    '/projects/ps-yeolab3/encode/hepg2_brenton-graveley_ambiguous_bams_for_integrated_analysis.txt.aA5SScenter_0.1_20170805',\n",
    "    names=a5ss_all_names\n",
    ")\n",
    "df.head()"
   ]
  },
  {
   "cell_type": "code",
   "execution_count": 8,
   "metadata": {},
   "outputs": [],
   "source": [
    "bedtools = []\n",
    "for ix, row in df.iterrows():\n",
    "    bedtools.append(get_bedtools(row, '.', 'a5ss'))\n"
   ]
  },
  {
   "cell_type": "markdown",
   "metadata": {},
   "source": [
    "# Now we have a piloted function that returns proper bedtools, we can run the subset_junctioncountsonly script on each one to return the non-redundant set of exons."
   ]
  },
  {
   "cell_type": "code",
   "execution_count": 9,
   "metadata": {},
   "outputs": [],
   "source": [
    "import glob\n",
    "from tqdm import tnrange, tqdm_notebook"
   ]
  },
  {
   "cell_type": "code",
   "execution_count": 16,
   "metadata": {},
   "outputs": [
    {
     "data": {
      "application/vnd.jupyter.widget-view+json": {
       "model_id": "cd3715fded3245f59d4f04c4135f951b"
      }
     },
     "metadata": {},
     "output_type": "display_data"
    }
   ],
   "source": [
    "input_dir = '/projects/ps-yeolab3/encode/'\n",
    "output_dir = '/projects/ps-yeolab3/bay001/maps/current_annotations/erics_controls/'\n",
    "\n",
    "\n",
    "prog = '/home/bay001/projects/codebase/bfx/pyscripts/rnaseq/subset_rmats_junctioncountonly.py'\n",
    "\n",
    "nSE_annotations = glob.glob(os.path.join(input_dir, '*nSE*805'))\n",
    "aSE_annotations = glob.glob(os.path.join(input_dir, '*aSE*805'))\n",
    "CE_annotations = glob.glob(os.path.join(input_dir, '*CE*805'))\n",
    "se_annotations = nSE_annotations + aSE_annotations + CE_annotations\n",
    "\n",
    "progress = tnrange(len(se_annotations))\n",
    "\n",
    "for se_annotation in se_annotations:\n",
    "    if '.NR' not in se_annotation:\n",
    "        se_nr_annotation = se_annotation + '.NR'\n",
    "        cmd = 'python {} '.format(prog)\n",
    "        cmd = cmd + '-i {} '.format(se_annotation)\n",
    "        cmd = cmd + '-o {} '.format(se_nr_annotation)\n",
    "        cmd = cmd + '-e {} '.format('se')\n",
    "        cmd = cmd + '-f {} '.format('eric')\n",
    "        ! $cmd\n",
    "    progress.update(1)"
   ]
  },
  {
   "cell_type": "code",
   "execution_count": 17,
   "metadata": {},
   "outputs": [
    {
     "data": {
      "application/vnd.jupyter.widget-view+json": {
       "model_id": "fbef1947cc1f49b4a59248f479fc0f00"
      }
     },
     "metadata": {},
     "output_type": "display_data"
    },
    {
     "name": "stdout",
     "output_type": "stream",
     "text": [
      "\n"
     ]
    }
   ],
   "source": [
    "a3ss_annotations = glob.glob(os.path.join(wd, '*A3SS*805'))\n",
    "progress = tnrange(len(a3ss_annotations))\n",
    "\n",
    "for annotation in a3ss_annotations:\n",
    "    if '.NR' not in annotation:\n",
    "        nr_annotation = annotation + '.NR'\n",
    "        cmd = 'python {} '.format(prog)\n",
    "        cmd = cmd + '-i {} '.format(annotation)\n",
    "        cmd = cmd + '-o {} '.format(nr_annotation)\n",
    "        cmd = cmd + '-e {} '.format('a3ss')\n",
    "        cmd = cmd + '-f {} '.format('eric')\n",
    "        ! $cmd\n",
    "    progress.update(1)"
   ]
  },
  {
   "cell_type": "code",
   "execution_count": 18,
   "metadata": {},
   "outputs": [
    {
     "data": {
      "application/vnd.jupyter.widget-view+json": {
       "model_id": "c290943bf4f14ba18b4faf51f319352f"
      }
     },
     "metadata": {},
     "output_type": "display_data"
    }
   ],
   "source": [
    "a5ss_annotations = glob.glob(os.path.join(wd, '*A5SS*805'))\n",
    "progress = tnrange(len(a5ss_annotations))\n",
    "\n",
    "for annotation in a5ss_annotations:\n",
    "    if '.NR' not in annotation:\n",
    "        nr_annotation = annotation + '.NR'\n",
    "        cmd = 'python {} '.format(prog)\n",
    "        cmd = cmd + '-i {} '.format(annotation)\n",
    "        cmd = cmd + '-o {} '.format(nr_annotation)\n",
    "        cmd = cmd + '-e {} '.format('a5ss')\n",
    "        cmd = cmd + '-f {} '.format('eric')\n",
    "        ! $cmd\n",
    "    progress.update(1)"
   ]
  },
  {
   "cell_type": "code",
   "execution_count": 7,
   "metadata": {},
   "outputs": [
    {
     "data": {
      "text/plain": [
       "[]"
      ]
     },
     "execution_count": 7,
     "metadata": {},
     "output_type": "execute_result"
    }
   ],
   "source": [
    "wd = '/projects/ps-yeolab3/encode/'\n",
    "\n",
    "ri_annotations = glob.glob(os.path.join(wd, '*RI*805'))\n",
    "ri_annotations"
   ]
  },
  {
   "cell_type": "code",
   "execution_count": null,
   "metadata": {
    "collapsed": true
   },
   "outputs": [],
   "source": []
  }
 ],
 "metadata": {
  "kernelspec": {
   "display_name": "Python 2",
   "language": "python",
   "name": "python2"
  },
  "language_info": {
   "codemirror_mode": {
    "name": "ipython",
    "version": 2
   },
   "file_extension": ".py",
   "mimetype": "text/x-python",
   "name": "python",
   "nbconvert_exporter": "python",
   "pygments_lexer": "ipython2",
   "version": "2.7.14"
  }
 },
 "nbformat": 4,
 "nbformat_minor": 2
}
