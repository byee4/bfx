{
 "cells": [
  {
   "cell_type": "markdown",
   "metadata": {},
   "source": [
    "# Wrapper notebook for submitting the RBP maps script to TSCC"
   ]
  },
  {
   "cell_type": "code",
   "execution_count": 1,
   "metadata": {
    "collapsed": true
   },
   "outputs": [],
   "source": [
    "import pandas as pd\n",
    "import os\n",
    "import json\n",
    "import yaml\n",
    "import glob\n",
    "# import rethinkdb as r\n",
    "from collections import defaultdict\n",
    "from qtools import Submitter\n",
    "from encode import manifest_helpers as m\n",
    "\n",
    "from tqdm import tnrange, tqdm_notebook\n",
    "pd.set_option(\"display.max_colwidth\", 10000)"
   ]
  },
  {
   "cell_type": "code",
   "execution_count": null,
   "metadata": {
    "collapsed": true
   },
   "outputs": [],
   "source": []
  },
  {
   "cell_type": "markdown",
   "metadata": {},
   "source": [
    "# Define manifests, directories, etc.\n",
    "- SBDS-BGKLV24-K562 and PPIL4-BGKLV24-K562 were changed in the K562.csv list from SBDS-BGKLV24_2-K562 and PPIL4-BGKLV24_2-K562 per an email discussion from xintao."
   ]
  },
  {
   "cell_type": "code",
   "execution_count": 2,
   "metadata": {
    "collapsed": true
   },
   "outputs": [],
   "source": [
    "current_date = '8-5-2017'\n",
    "clip_manifest = '/home/bay001/projects/maps_20160420/permanent_data/ALLDATASETS_submittedonly.txt'\n",
    "hepg2_rnaseq_manifest = '/home/bay001/projects/maps_20160420/permanent_data/RNASeq_final_exp_list_HepG2.csv'\n",
    "k562_rnaseq_manifest = '/home/bay001/projects/maps_20160420/permanent_data/RNASeq_final_exp_list_K562.csv'\n",
    "rnaseq_manifests = {'HepG2':hepg2_rnaseq_manifest, 'K562':k562_rnaseq_manifest}\n",
    "chrom_sizes = '/projects/ps-yeolab/genomes/hg19/hg19.chrom.sizes'\n",
    "density_runner = '/home/bay001/projects/codebase/rbp-maps/maps/plot_density.py'"
   ]
  },
  {
   "cell_type": "markdown",
   "metadata": {},
   "source": [
    "# Plot the A3SS/A5SS splice events (positive and negative and controls) all together"
   ]
  },
  {
   "cell_type": "code",
   "execution_count": 3,
   "metadata": {
    "collapsed": true
   },
   "outputs": [],
   "source": [
    "a5ss_k562_all = 'K562-all-native-a5ss-events'\n",
    "a5ss_k562_basic = 'K562-shorter-isoform-in-majority-of-controls'\n",
    "a5ss_k562_center = 'K562-mixed-psi-isoform-in-majority-of-controls'\n",
    "a5ss_k562_extension = 'K562-longer-isoform-in-majority-of-controls'\n",
    "\n",
    "a3ss_k562_all = 'K562-all-native-a3ss-events'\n",
    "a3ss_k562_basic = 'K562-shorter-isoform-in-majority-of-controls'\n",
    "a3ss_k562_center = 'K562-mixed-psi-isoform-in-majority-of-controls'\n",
    "a3ss_k562_extension = 'K562-longer-isoform-in-majority-of-controls'\n",
    "\n",
    "a5ss_hepg2_all = 'HepG2-all-native-a5ss-events'\n",
    "a5ss_hepg2_basic = 'HepG2-shorter-isoform-in-majority-of-controls'\n",
    "a5ss_hepg2_center = 'HepG2-mixed-psi-isoform-in-majority-of-controls'\n",
    "a5ss_hepg2_extension = 'HepG2-longer-isoform-in-majority-of-controls'\n",
    "\n",
    "a3ss_hepg2_all = 'HepG2-all-native-a3ss-events'\n",
    "a3ss_hepg2_basic = 'HepG2-shorter-isoform-in-majority-of-controls'\n",
    "a3ss_hepg2_center = 'HepG2-mixed-psi-isoform-in-majority-of-controls'\n",
    "a3ss_hepg2_extension = 'HepG2-longer-isoform-in-majority-of-controls'"
   ]
  },
  {
   "cell_type": "code",
   "execution_count": 7,
   "metadata": {},
   "outputs": [
    {
     "name": "stdout",
     "output_type": "stream",
     "text": [
      "warning, these dont match: DROSHA, RNASEN50-BGKLV28-K562-longer-isoform-included-upon-knockdown, RNASEN50-BGKLV28-K562-shorter-isoform-included-upon-knockdown\n",
      "warning, these dont match: DROSHA, RNASEN50-BGKLV28-K562-longer-isoform-included-upon-knockdown, RNASEN50-BGKLV28-K562-shorter-isoform-included-upon-knockdown\n"
     ]
    },
    {
     "name": "stderr",
     "output_type": "stream",
     "text": [
      "Writing 230 tasks as an array-job.\n",
      "Wrote commands to /projects/ps-yeolab3/bay001/maps/bash_scripts/8-5-2017/a5ss_NR_png.sh.\n",
      "Submitted script to queue home-yeo.\n",
      " Job ID: 9366035\n"
     ]
    },
    {
     "name": "stdout",
     "output_type": "stream",
     "text": [
      "\n",
      "\n",
      "NO SUFFICIENT POSITIVE OR NEGATIVE SIGNIFICANT ANNOTATIONS:\n",
      "(u'TRA2A', u'HepG2') (u'FKBP4', u'HepG2') (u'TRA2A', u'K562') (u'XRN2', u'K562') (u'AUH', u'K562') (u'SLTM', u'K562') (u'SLBP', u'K562') (u'SAFB2', u'K562') (u'CSTF2T', u'K562') (u'FAM120A', u'K562') (u'CSTF2T', u'HepG2') (u'FAM120A', u'HepG2') (u'LARP7', u'HepG2') (u'SND1', u'HepG2') (u'SND1', u'K562') (u'ILF3', u'K562') (u'GTF2F1', u'K562') (u'DDX3X', u'K562') (u'KHDRBS1', u'K562') (u'GTF2F1', u'HepG2') (u'LIN28B', u'HepG2') (u'EWSR1', u'K562') (u'LSM11', u'K562') (u'FASTKD2', u'K562') (u'DDX24', u'K562') (u'BUD13', u'HepG2') (u'METAP2', u'K562') (u'NCBP2', u'K562') (u'RBM5', u'HepG2') (u'TROVE2', u'HepG2') (u'HLTF', u'K562') (u'LSM11', u'HepG2') (u'GRWD1', u'HepG2') (u'TBRG4', u'K562') (u'NFX1', u'K562') (u'YBX3', u'K562') (u'CSTF2', u'HepG2') (u'UCHL5', u'K562') (u'FASTKD2', u'HepG2') (u'DHX30', u'HepG2') (u'RBFOX2', u'K562') (u'GEMIN5', u'K562') (u'RPL23A', u'HepG2') warning, these dont match: DROSHA, RNASEN50-BGKLV28-K562-longer-isoform-included-upon-knockdown, RNASEN50-BGKLV28-K562-shorter-isoform-included-upon-knockdown\n",
      "warning, these dont match: DROSHA, RNASEN50-BGKLV28-K562-longer-isoform-included-upon-knockdown, RNASEN50-BGKLV28-K562-shorter-isoform-included-upon-knockdown\n"
     ]
    },
    {
     "name": "stderr",
     "output_type": "stream",
     "text": [
      "Writing 250 tasks as an array-job.\n",
      "Wrote commands to /projects/ps-yeolab3/bay001/maps/bash_scripts/8-5-2017/a3ss_NR_png.sh.\n",
      "Submitted script to queue home-yeo.\n",
      " Job ID: 9366036\n"
     ]
    },
    {
     "name": "stdout",
     "output_type": "stream",
     "text": [
      "\n",
      "\n",
      "NO SUFFICIENT POSITIVE OR NEGATIVE SIGNIFICANT ANNOTATIONS:\n",
      "(u'IGF2BP1', u'HepG2') (u'IGF2BP1', u'K562') (u'FKBP4', u'HepG2') (u'XRN2', u'K562') (u'AUH', u'K562') (u'SLTM', u'K562') (u'CSTF2T', u'HepG2') (u'FAM120A', u'HepG2') (u'SND1', u'HepG2') (u'XRCC6', u'HepG2') (u'SND1', u'K562') (u'ILF3', u'K562') (u'GTF2F1', u'K562') (u'GTF2F1', u'HepG2') (u'LIN28B', u'HepG2') (u'KHSRP', u'K562') (u'EWSR1', u'K562') (u'LSM11', u'K562') (u'TROVE2', u'K562') (u'FASTKD2', u'K562') (u'QKI', u'K562') (u'DDX24', u'K562') (u'BUD13', u'HepG2') (u'TROVE2', u'HepG2') (u'DDX6', u'K562') (u'GRWD1', u'HepG2') (u'TBRG4', u'K562') (u'ZRANB2', u'K562') (u'YBX3', u'K562') (u'CSTF2', u'HepG2') (u'SUB1', u'HepG2') (u'FASTKD2', u'HepG2') (u'RBFOX2', u'K562')\n"
     ]
    }
   ],
   "source": [
    "clip_df = pd.read_table(clip_manifest)\n",
    "\n",
    "events = {\n",
    "    'a3ss':'/projects/ps-yeolab3/bay001/maps/current_annotations/a3ss_renamed/',\n",
    "    'a5ss':'/projects/ps-yeolab3/bay001/maps/current_annotations/a5ss_renamed/',\n",
    "}\n",
    "\n",
    "img_extensions = ['png']\n",
    "out_base = '/projects/ps-yeolab3/bay001/maps/current/'\n",
    "# out_base = '/home/bay001/projects/encode/analysis/tests/rbp_map_tests/'\n",
    "\n",
    "pos_splicing_suffix = '-longer-isoform-included-upon-knockdown'\n",
    "neg_splicing_suffix = '-shorter-isoform-included-upon-knockdown'\n",
    "\n",
    "\n",
    "for event, annotation_dir in events.iteritems(): # for each annotation\n",
    "    for img_extension in img_extensions: # for each image extension\n",
    "        no_rnaseq = [] # uIDs for which we don't have rna seq expt ids for\n",
    "        no_rnaseq_yet = [] # uIDs for which we have an expt id, but haven't downloaded the data yet\n",
    "        cmds = []\n",
    "        output_dir = os.path.join(out_base, '{}'.format(event))\n",
    "        for uid in clip_df['uID']:\n",
    "            r1, r2, i, rbp, cell = m.get_clip_file_from_uid(clip_df, uid)\n",
    "\n",
    "            if cell == 'K562':\n",
    "                if event == 'a3ss':\n",
    "                    background_all = os.path.join(annotation_dir, a3ss_k562_all)\n",
    "                    background_basic = os.path.join(annotation_dir, a3ss_k562_basic)\n",
    "                    background_center = os.path.join(annotation_dir, a3ss_k562_center)\n",
    "                    background_extension = os.path.join(annotation_dir, a3ss_k562_extension)\n",
    "                elif event == 'a5ss':\n",
    "                    background_all = os.path.join(annotation_dir, a5ss_k562_all)\n",
    "                    background_basic = os.path.join(annotation_dir, a5ss_k562_basic)\n",
    "                    background_center = os.path.join(annotation_dir, a5ss_k562_center)\n",
    "                    background_extension = os.path.join(annotation_dir, a5ss_k562_extension)\n",
    "                else:\n",
    "                    print(event)\n",
    "            elif cell == 'HepG2':\n",
    "                if event == 'a3ss':\n",
    "                    background_all = os.path.join(annotation_dir, a3ss_hepg2_all)\n",
    "                    background_basic = os.path.join(annotation_dir, a3ss_hepg2_basic)\n",
    "                    background_center = os.path.join(annotation_dir, a3ss_hepg2_center)\n",
    "                    background_extension = os.path.join(annotation_dir, a3ss_hepg2_extension)\n",
    "                elif event == 'a5ss':\n",
    "                    background_all = os.path.join(annotation_dir, a5ss_hepg2_all)\n",
    "                    background_basic = os.path.join(annotation_dir, a5ss_hepg2_basic)\n",
    "                    background_center = os.path.join(annotation_dir, a5ss_hepg2_center)\n",
    "                    background_extension = os.path.join(annotation_dir, a5ss_hepg2_extension)\n",
    "                else:\n",
    "                    print(event)\n",
    "            else:\n",
    "                print(cell)\n",
    "\n",
    "            splicing_prefix = m.get_rnaseq_splicing_prefix_from_rbpname(rnaseq_manifests, rbp, cell)\n",
    "            if(splicing_prefix == \"NO_RNASEQ\"): # we don't have an rna seq expt for this clip:\n",
    "                no_rnaseq.append(uid)\n",
    "            else:\n",
    "                positive, negative = m.get_annotations_from_splicing_prefix(\n",
    "                    annotation_dir, \n",
    "                    splicing_prefix,\n",
    "                    pos_splicing_suffix=pos_splicing_suffix,\n",
    "                    neg_splicing_suffix=neg_splicing_suffix\n",
    "                )\n",
    "                if(positive == None or negative == None):\n",
    "                    no_rnaseq_yet.append(uid)\n",
    "                else:\n",
    "                    if not (rbp in positive and rbp in negative):\n",
    "                        print(\n",
    "                            'warning, these dont match: {}, {}, {}'.format(\n",
    "                                rbp, \n",
    "                                os.path.basename(positive),\n",
    "                                os.path.basename(negative)\n",
    "                            )\n",
    "                        )\n",
    "                    pos_prefix = os.path.basename(positive).split('-')[0]\n",
    "                    neg_prefix = os.path.basename(negative).split('-')[0]\n",
    "                    if not (pos_prefix in rbp and neg_prefix in rbp):\n",
    "                        print(\n",
    "                            'warning, these dont match: {}, {}, {}'.format(\n",
    "                                rbp, \n",
    "                                os.path.basename(positive),\n",
    "                                os.path.basename(negative)\n",
    "                            )\n",
    "                        )\n",
    "                    for r in [r1, r2]:\n",
    "                        name = os.path.basename(r).replace('.bam','.{}'.format(img_extension))\n",
    "                        output_filename = os.path.join(\n",
    "                            output_dir,\n",
    "                            name\n",
    "                        )\n",
    "                        cmd = \"python \" + density_runner\n",
    "                        cmd = cmd + \" --event {}\".format(event)\n",
    "                        cmd = cmd + \" --ipbam {}\".format(r)\n",
    "                        cmd = cmd + \" --inputbam {}\".format(i)\n",
    "                        cmd = cmd + \" --output {}\".format(output_filename)\n",
    "                        if positive is not None and negative is not None:\n",
    "                            cmd = cmd + \" --annotations {} {} {} {} {} {}\".format(\n",
    "                                positive, negative, background_all, background_basic, background_center, background_extension\n",
    "                            )\n",
    "                            cmd = cmd + \" --annotation_type {} {} {} {} {} {}\".format(\n",
    "                                'rmats', 'rmats', 'eric', 'eric', 'eric', 'eric'\n",
    "                            )\n",
    "                        cmd = cmd + \" --chrom_sizes {}\".format(chrom_sizes)\n",
    "                        cmd = cmd + \" --bgnum {}\".format(3)\n",
    "                        cmd = cmd + \" --to_test {} {}\".format(positive, negative)\n",
    "                        cmds.append(cmd)\n",
    "            # if(uid == '228'):\n",
    "            #     print(r1, r2, i, rbp, cell, annotation_dir, splicing_prefix, pos_splicing_suffix, neg_splicing_suffix)\n",
    "        bash_script_sh = '/projects/ps-yeolab3/bay001/maps/bash_scripts/{}/{}_NR_{}.sh'.format(\n",
    "            current_date, event, img_extension\n",
    "        )\n",
    "        Submitter(\n",
    "            cmds, \n",
    "            \"{}_NR_{}\".format(event, img_extension), \n",
    "            sh=bash_script_sh,\n",
    "            submit=True,\n",
    "            array=True,\n",
    "            walltime='4:00:00',\n",
    "            queue='home-yeo'\n",
    "        )\n",
    "        with open(bash_script_sh.replace('.sh','.missing.txt'), 'w') as o:\n",
    "            for no in no_rnaseq:\n",
    "                o.write(\n",
    "                    '{}\\t{}\\n'.format(\n",
    "                        m.get_clip_file_from_uid(clip_df, no)[3],\n",
    "                        m.get_clip_file_from_uid(clip_df, no)[4],\n",
    "                    )\n",
    "                )\n",
    "            print(\"\\n\\nNO SUFFICIENT POSITIVE OR NEGATIVE SIGNIFICANT ANNOTATIONS:\")\n",
    "            for no in no_rnaseq_yet:\n",
    "                print(m.get_clip_file_from_uid(clip_df, no)[3:]),"
   ]
  },
  {
   "cell_type": "code",
   "execution_count": null,
   "metadata": {
    "collapsed": true
   },
   "outputs": [],
   "source": []
  }
 ],
 "metadata": {
  "kernelspec": {
   "display_name": "Python 2",
   "language": "python",
   "name": "python2"
  },
  "language_info": {
   "codemirror_mode": {
    "name": "ipython",
    "version": 2
   },
   "file_extension": ".py",
   "mimetype": "text/x-python",
   "name": "python",
   "nbconvert_exporter": "python",
   "pygments_lexer": "ipython2",
   "version": "2.7.13"
  },
  "widgets": {
   "state": {
    "569a4a5b3e314a91ab2b92dcfc9868e4": {
     "views": [
      {
       "cell_index": 29
      }
     ]
    }
   },
   "version": "1.2.0"
  }
 },
 "nbformat": 4,
 "nbformat_minor": 1
}
