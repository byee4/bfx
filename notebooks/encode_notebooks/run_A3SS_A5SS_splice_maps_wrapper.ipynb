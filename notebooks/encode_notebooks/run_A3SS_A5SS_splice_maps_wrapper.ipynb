{
 "cells": [
  {
   "cell_type": "markdown",
   "metadata": {},
   "source": [
    "# Wrapper notebook for submitting the RBP maps script to TSCC"
   ]
  },
  {
   "cell_type": "code",
   "execution_count": 1,
   "metadata": {},
   "outputs": [],
   "source": [
    "import pandas as pd\n",
    "import os\n",
    "import json\n",
    "import yaml\n",
    "import glob\n",
    "# import rethinkdb as r\n",
    "from collections import defaultdict\n",
    "from qtools import Submitter\n",
    "from encode import manifest_helpers as m\n",
    "\n",
    "from tqdm import tnrange, tqdm_notebook\n",
    "pd.set_option(\"display.max_colwidth\", 10000)"
   ]
  },
  {
   "cell_type": "code",
   "execution_count": null,
   "metadata": {},
   "outputs": [],
   "source": []
  },
  {
   "cell_type": "markdown",
   "metadata": {},
   "source": [
    "# Define manifests, directories, etc.\n",
    "- SBDS-BGKLV24-K562 and PPIL4-BGKLV24-K562 were changed in the K562.csv list from SBDS-BGKLV24_2-K562 and PPIL4-BGKLV24_2-K562 per an email discussion from xintao."
   ]
  },
  {
   "cell_type": "code",
   "execution_count": 2,
   "metadata": {},
   "outputs": [
    {
     "name": "stdout",
     "output_type": "stream",
     "text": [
      "(203, 43)\n"
     ]
    }
   ],
   "source": [
    "current_date = '4-27-2018'\n",
    "clip_manifest = '/projects/ps-yeolab3/bay001/reference_data/misc_ENCODE/ENCODE_FINAL_ANNOTATIONS.uidsonly.txt.manifest.txt'\n",
    "density_runner = '/home/bay001/projects/codebase/rbp-maps/maps/plot_map.py'\n",
    "a3ss_annotation_dir = '/projects/ps-yeolab3/bay001/maps/current_annotations/a3ss_renamed'\n",
    "a5ss_annotation_dir = '/projects/ps-yeolab3/bay001/maps/current_annotations/a5ss_renamed'\n",
    "\n",
    "clip_df = pd.read_table(clip_manifest)\n",
    "\n",
    "master_table = pd.read_table(\n",
    "    '/projects/ps-yeolab3/encode/rnaseq/eCLIP_finalstatus_20180406_ENCODE_combined_RNASEQ.tsv'\n",
    ")\n",
    "del master_table['eCLIP_Antibody_Lot_#']  # there is a NaN value in here that's screwing things up. Don't care about antibody anyway, so delete\n",
    "merged = pd.merge(\n",
    "    clip_df,\n",
    "    master_table,\n",
    "    how='right',\n",
    "    left_on=['uID'],\n",
    "    right_on=['eCLIP_Final_internal_accession']\n",
    ")\n",
    "merged.dropna(subset=['eCLIP_Final_internal_accession','SE_jxc_file'], inplace=True)\n",
    "print(merged.shape)\n"
   ]
  },
  {
   "cell_type": "markdown",
   "metadata": {},
   "source": [
    "# Plot the A3SS/A5SS splice events (positive and negative and controls) all together"
   ]
  },
  {
   "cell_type": "code",
   "execution_count": 3,
   "metadata": {},
   "outputs": [],
   "source": [
    "a3ss_control_dir = '/projects/ps-yeolab3/bay001/maps/current_annotations/erics_controls/nonredundant_renamed/a3ss/'\n",
    "a5ss_control_dir = '/projects/ps-yeolab3/bay001/maps/current_annotations/erics_controls/nonredundant_renamed/a5ss/'\n",
    "\n",
    "a5ss_k562_all = 'K562-all-native-a5ss-events'\n",
    "a5ss_k562_basic = 'K562-shorter-isoform-in-majority-of-controls'\n",
    "a5ss_k562_center = 'K562-mixed-psi-isoform-in-majority-of-controls'\n",
    "a5ss_k562_extension = 'K562-longer-isoform-in-majority-of-controls'\n",
    "\n",
    "a3ss_k562_all = 'K562-all-native-a3ss-events'\n",
    "a3ss_k562_basic = 'K562-shorter-isoform-in-majority-of-controls'\n",
    "a3ss_k562_center = 'K562-mixed-psi-isoform-in-majority-of-controls'\n",
    "a3ss_k562_extension = 'K562-longer-isoform-in-majority-of-controls'\n",
    "\n",
    "a5ss_hepg2_all = 'HepG2-all-native-a5ss-events'\n",
    "a5ss_hepg2_basic = 'HepG2-shorter-isoform-in-majority-of-controls'\n",
    "a5ss_hepg2_center = 'HepG2-mixed-psi-isoform-in-majority-of-controls'\n",
    "a5ss_hepg2_extension = 'HepG2-longer-isoform-in-majority-of-controls'\n",
    "\n",
    "a3ss_hepg2_all = 'HepG2-all-native-a3ss-events'\n",
    "a3ss_hepg2_basic = 'HepG2-shorter-isoform-in-majority-of-controls'\n",
    "a3ss_hepg2_center = 'HepG2-mixed-psi-isoform-in-majority-of-controls'\n",
    "a3ss_hepg2_extension = 'HepG2-longer-isoform-in-majority-of-controls'"
   ]
  },
  {
   "cell_type": "code",
   "execution_count": 4,
   "metadata": {},
   "outputs": [
    {
     "data": {
      "text/plain": [
       "('/projects/ps-yeolab3/bay001/maps/current_annotations/a3ss_renamed/RBFOX2-BGHLV26-HepG2.set26.A3SSlonger-isoform-included-upon-knockdown',\n",
       " '/projects/ps-yeolab3/bay001/maps/current_annotations/a3ss_renamed/RBFOX2-BGHLV26-HepG2.set26.A3SSshorter-isoform-included-upon-knockdown')"
      ]
     },
     "execution_count": 4,
     "metadata": {},
     "output_type": "execute_result"
    }
   ],
   "source": [
    "def get_clip_file_from_uid(uid, df=merged):\n",
    "    df = df[df['uID']==uid]\n",
    "    return df['CLIP_rep1'].values[0], \\\n",
    "            df['CLIP_rep2'].values[0], \\\n",
    "            df['INPUT'].values[0], \\\n",
    "            df['eCLIP_Official_Gene_Symbol'].values[0], \\\n",
    "            df['eCLIP_Cell_Line'].values[0], \\\n",
    "            df['SE_jxc_file'].values[0]\n",
    "\n",
    "r1, r2, i, rbp, cell, jxc_se  = get_clip_file_from_uid('204')\n",
    "\n",
    "def get_altss_annotations_from_jxc_se(jxc, jxc_dir=a3ss_annotation_dir, event='a3ss'):\n",
    "    \"\"\" jxc contains the basename of the junction counts file \"\"\"\n",
    "    orig_file = os.path.join(jxc_dir, jxc)\n",
    "    positive = orig_file.replace('SE.MATS.JunctionCountOnly.txt','{}longer-isoform-included-upon-knockdown'.format(event.upper()))\n",
    "    negative = orig_file.replace('SE.MATS.JunctionCountOnly.txt','{}shorter-isoform-included-upon-knockdown'.format(event.upper()))\n",
    "    if not os.path.exists(positive):\n",
    "        positive = None\n",
    "    if not os.path.exists(negative):\n",
    "        negative = None\n",
    "    return positive, negative\n",
    "\n",
    "get_altss_annotations_from_jxc_se(jxc_se)"
   ]
  },
  {
   "cell_type": "code",
   "execution_count": 5,
   "metadata": {},
   "outputs": [
    {
     "name": "stdout",
     "output_type": "stream",
     "text": [
      "warning, these dont match: DROSHA, RNASEN50-BGKLV28-K562.set28.A5SSlonger-isoform-included-upon-knockdown, RNASEN50-BGKLV28-K562.set28.A5SSshorter-isoform-included-upon-knockdown\n",
      "warning, these dont match: DROSHA, RNASEN50-BGKLV28-K562.set28.A5SSlonger-isoform-included-upon-knockdown, RNASEN50-BGKLV28-K562.set28.A5SSshorter-isoform-included-upon-knockdown\n"
     ]
    },
    {
     "name": "stderr",
     "output_type": "stream",
     "text": [
      "Writing 274 tasks as an array-job.\n",
      "Wrote commands to /projects/ps-yeolab3/bay001/maps/bash_scripts/4-27-2018/a5ss_NR_svg.sh.\n"
     ]
    },
    {
     "name": "stdout",
     "output_type": "stream",
     "text": [
      "\n",
      "\n",
      "NO SUFFICIENT POSITIVE OR NEGATIVE SIGNIFICANT ANNOTATIONS:\n",
      "(u'TRA2A', u'HepG2') (u'FKBP4', u'HepG2') (u'TRA2A', u'K562') (u'XRN2', u'K562') (u'SLTM', u'K562') (u'SLBP', u'K562') (u'SAFB2', u'K562') (u'CSTF2T', u'K562') (u'FAM120A', u'K562') (u'CSTF2T', u'HepG2') (u'FAM120A', u'HepG2') (u'LARP7', u'HepG2') (u'SND1', u'HepG2') (u'SND1', u'K562') (u'ILF3', u'K562') (u'GTF2F1', u'K562') (u'DDX3X', u'K562') (u'KHDRBS1', u'K562') (u'GTF2F1', u'HepG2') (u'LIN28B', u'HepG2') (u'PABPC4', u'K562') (u'WRN', u'K562') (u'EWSR1', u'K562') (u'LSM11', u'K562') (u'FASTKD2', u'K562') (u'DDX24', u'K562') (u'BUD13', u'HepG2') (u'RBM5', u'HepG2') (u'TROVE2', u'HepG2') (u'METAP2', u'K562') (u'AATF', u'K562') (u'HLTF', u'K562') (u'AGGF1', u'HepG2') (u'EIF3H', u'HepG2') (u'YBX3', u'K562') (u'NOLC1', u'HepG2') (u'NCBP2', u'K562') (u'CSTF2', u'HepG2') (u'TBRG4', u'K562') (u'DDX51', u'K562') (u'LSM11', u'HepG2') (u'UCHL5', u'K562') (u'UTP18', u'HepG2') (u'GRWD1', u'HepG2') (u'DDX52', u'HepG2') (u'GRWD1', u'K562') (u'FASTKD2', u'HepG2') (u'HLTF', u'HepG2') (u'DHX30', u'HepG2') (u'RBFOX2', u'K562') (u'GEMIN5', u'K562') (u'DDX52', u'K562') (u'FUS', u'K562') (u'AKAP1', u'K562') (u'CPEB4', u'K562') (u'NIP7', u'HepG2') (u'MATR3', u'K562') (u'EXOSC5', u'HepG2') (u'UPF1', u'HepG2') (u'YBX3', u'HepG2') (u'ABCF1', u'K562') (u'ZNF800', u'K562') (u'SSB', u'K562') (u'SDAD1', u'K562') (u'SDAD1', u'HepG2') (u'DDX21', u'K562') warning, these dont match: DROSHA, RNASEN50-BGKLV28-K562.set28.A3SSlonger-isoform-included-upon-knockdown, RNASEN50-BGKLV28-K562.set28.A3SSshorter-isoform-included-upon-knockdown\n",
      "warning, these dont match: DROSHA, RNASEN50-BGKLV28-K562.set28.A3SSlonger-isoform-included-upon-knockdown, RNASEN50-BGKLV28-K562.set28.A3SSshorter-isoform-included-upon-knockdown\n",
      "warning, these dont match: YBX3, CSDA-BGHLV20-HepG2.set20.A3SSlonger-isoform-included-upon-knockdown, CSDA-BGHLV20-HepG2.set20.A3SSshorter-isoform-included-upon-knockdown\n",
      "warning, these dont match: YBX3, CSDA-BGHLV20-HepG2.set20.A3SSlonger-isoform-included-upon-knockdown, CSDA-BGHLV20-HepG2.set20.A3SSshorter-isoform-included-upon-knockdown\n",
      "\n",
      "\n",
      "NO SUFFICIENT POSITIVE OR NEGATIVE SIGNIFICANT ANNOTATIONS:\n",
      "(u'IGF2BP1', u'HepG2') (u'IGF2BP1', u'K562') (u'FKBP4', u'HepG2') (u'XRN2', u'K562') "
     ]
    },
    {
     "name": "stderr",
     "output_type": "stream",
     "text": [
      "Writing 312 tasks as an array-job.\n",
      "Wrote commands to /projects/ps-yeolab3/bay001/maps/bash_scripts/4-27-2018/a3ss_NR_svg.sh.\n"
     ]
    },
    {
     "name": "stdout",
     "output_type": "stream",
     "text": [
      "(u'SLTM', u'K562') (u'CSTF2T', u'HepG2') (u'FAM120A', u'HepG2') (u'SND1', u'HepG2') (u'XRCC6', u'HepG2') (u'SND1', u'K562') (u'ILF3', u'K562') (u'GTF2F1', u'K562') (u'GTF2F1', u'HepG2') (u'LIN28B', u'HepG2') (u'PABPC4', u'K562') (u'WRN', u'K562') (u'KHSRP', u'K562') (u'EWSR1', u'K562') (u'LSM11', u'K562') (u'TROVE2', u'K562') (u'FASTKD2', u'K562') (u'QKI', u'K562') (u'DDX24', u'K562') (u'EXOSC5', u'K562') (u'BUD13', u'HepG2') (u'TROVE2', u'HepG2') (u'EIF3H', u'HepG2') (u'ZRANB2', u'K562') (u'YBX3', u'K562') (u'CSTF2', u'HepG2') (u'DDX6', u'K562') (u'TBRG4', u'K562') (u'DDX51', u'K562') (u'UTP18', u'HepG2') (u'GRWD1', u'HepG2') (u'DDX52', u'HepG2') (u'GRWD1', u'K562') (u'FASTKD2', u'HepG2') (u'RBFOX2', u'K562') (u'DDX52', u'K562') (u'FUS', u'K562') (u'AKAP1', u'K562') (u'CPEB4', u'K562') (u'EXOSC5', u'HepG2') (u'SDAD1', u'HepG2') (u'DDX21', u'K562') (u'SUB1', u'HepG2')\n"
     ]
    }
   ],
   "source": [
    "\n",
    "events = {\n",
    "    'a3ss':'/projects/ps-yeolab3/bay001/maps/current_annotations/a3ss_renamed/',\n",
    "    'a5ss':'/projects/ps-yeolab3/bay001/maps/current_annotations/a5ss_renamed/',\n",
    "}\n",
    "\n",
    "img_extensions = ['svg']\n",
    "out_base = '/projects/ps-yeolab3/bay001/maps/current/'\n",
    "\n",
    "for event, annotation_dir in events.iteritems(): # for each annotation\n",
    "    for img_extension in img_extensions: # for each image extension\n",
    "        no_rnaseq = [] # uIDs for which we don't have rna seq expt ids for\n",
    "        no_rnaseq_yet = [] # uIDs for which we have an expt id, but haven't downloaded the data yet\n",
    "        cmds = []\n",
    "        output_dir = os.path.join(out_base, '{}'.format(event))\n",
    "        for uid in merged['uID']:\n",
    "            r1, r2, i, rbp, cell, jxc_se = get_clip_file_from_uid(uid, merged)\n",
    "\n",
    "            if cell == 'K562':\n",
    "                if event == 'a3ss':\n",
    "                    background_all = os.path.join(a3ss_control_dir, a3ss_k562_all)\n",
    "                    background_basic = os.path.join(a3ss_control_dir, a3ss_k562_basic)\n",
    "                    background_center = os.path.join(a3ss_control_dir, a3ss_k562_center)\n",
    "                    background_extension = os.path.join(a3ss_control_dir, a3ss_k562_extension)\n",
    "                elif event == 'a5ss':\n",
    "                    background_all = os.path.join(a5ss_control_dir, a5ss_k562_all)\n",
    "                    background_basic = os.path.join(a5ss_control_dir, a5ss_k562_basic)\n",
    "                    background_center = os.path.join(a5ss_control_dir, a5ss_k562_center)\n",
    "                    background_extension = os.path.join(a5ss_control_dir, a5ss_k562_extension)\n",
    "                else:\n",
    "                    print(event)\n",
    "            elif cell == 'HepG2':\n",
    "                if event == 'a3ss':\n",
    "                    background_all = os.path.join(a3ss_control_dir, a3ss_hepg2_all)\n",
    "                    background_basic = os.path.join(a3ss_control_dir, a3ss_hepg2_basic)\n",
    "                    background_center = os.path.join(a3ss_control_dir, a3ss_hepg2_center)\n",
    "                    background_extension = os.path.join(a3ss_control_dir, a3ss_hepg2_extension)\n",
    "                elif event == 'a5ss':\n",
    "                    background_all = os.path.join(a5ss_control_dir, a5ss_hepg2_all)\n",
    "                    background_basic = os.path.join(a5ss_control_dir, a5ss_hepg2_basic)\n",
    "                    background_center = os.path.join(a5ss_control_dir, a5ss_hepg2_center)\n",
    "                    background_extension = os.path.join(a5ss_control_dir, a5ss_hepg2_extension)\n",
    "                else:\n",
    "                    print(event)\n",
    "            else:\n",
    "                print(cell)\n",
    "\n",
    "\n",
    "            positive, negative = get_altss_annotations_from_jxc_se(\n",
    "                jxc_se, annotation_dir, event\n",
    "            )\n",
    "            if(positive == None or negative == None):\n",
    "                no_rnaseq_yet.append(uid)\n",
    "            else:\n",
    "                if not (rbp in positive and rbp in negative):\n",
    "                    print(\n",
    "                        'warning, these dont match: {}, {}, {}'.format(\n",
    "                            rbp, \n",
    "                            os.path.basename(positive),\n",
    "                            os.path.basename(negative)\n",
    "                        )\n",
    "                    )\n",
    "                pos_prefix = os.path.basename(positive).split('-')[0]\n",
    "                neg_prefix = os.path.basename(negative).split('-')[0]\n",
    "                if not (pos_prefix in rbp and neg_prefix in rbp):\n",
    "                    print(\n",
    "                        'warning, these dont match: {}, {}, {}'.format(\n",
    "                            rbp, \n",
    "                            os.path.basename(positive),\n",
    "                            os.path.basename(negative)\n",
    "                        )\n",
    "                    )\n",
    "                for r in [r1, r2]:\n",
    "                    name = os.path.basename(r).replace('.bam','.{}'.format(img_extension))\n",
    "                    output_filename = os.path.join(\n",
    "                        output_dir,\n",
    "                        name\n",
    "                    )\n",
    "                    cmd = \"python \" + density_runner\n",
    "                    cmd = cmd + \" --event {}\".format(event)\n",
    "                    cmd = cmd + \" --ipbam {}\".format(r)\n",
    "                    cmd = cmd + \" --inputbam {}\".format(i)\n",
    "                    cmd = cmd + \" --output {}\".format(output_filename)\n",
    "                    if positive is not None and negative is not None:\n",
    "                        cmd = cmd + \" --annotations {} {} {} {} {} {}\".format(\n",
    "                            positive, negative, background_all, background_basic, background_center, background_extension\n",
    "                        )\n",
    "                        cmd = cmd + \" --annotation_type {} {} {} {} {} {}\".format(\n",
    "                            'rmats', 'rmats', 'eric', 'eric', 'eric', 'eric'\n",
    "                        )\n",
    "                    # cmd = cmd + \" --chrom_sizes {}\".format(chrom_sizes)\n",
    "                    cmd = cmd + \" --bgnum {}\".format(2)\n",
    "                    cmd = cmd + \" --testnum {} {}\".format(0, 1)\n",
    "                    if not os.path.exists(output_filename):\n",
    "                        cmds.append(cmd)\n",
    "            # if(uid == '228'):\n",
    "            #     print(r1, r2, i, rbp, cell, annotation_dir, splicing_prefix, pos_splicing_suffix, neg_splicing_suffix)\n",
    "        bash_script_sh = '/projects/ps-yeolab3/bay001/maps/bash_scripts/{}/{}_NR_{}.sh'.format(\n",
    "            current_date, event, img_extension\n",
    "        )\n",
    "        Submitter(\n",
    "            cmds, \n",
    "            \"{}_NR_{}\".format(event, img_extension), \n",
    "            sh=bash_script_sh,\n",
    "            submit=False,\n",
    "            array=True,\n",
    "            walltime='2:00:00',\n",
    "            queue='home-yeo'\n",
    "        )\n",
    "        with open(bash_script_sh.replace('.sh','.missing.txt'), 'w') as o:\n",
    "            for no in no_rnaseq:\n",
    "                o.write(\n",
    "                    '{}\\t{}\\n'.format(\n",
    "                        m.get_clip_file_from_uid(clip_df, no)[3],\n",
    "                        m.get_clip_file_from_uid(clip_df, no)[4],\n",
    "                    )\n",
    "                )\n",
    "            print(\"\\n\\nNO SUFFICIENT POSITIVE OR NEGATIVE SIGNIFICANT ANNOTATIONS:\")\n",
    "            for no in no_rnaseq_yet:\n",
    "                print(m.get_clip_file_from_uid(clip_df, no)[3:]),"
   ]
  },
  {
   "cell_type": "markdown",
   "metadata": {
    "collapsed": true
   },
   "source": [
    "# Ensure we have all of the maps for integrated paper."
   ]
  },
  {
   "cell_type": "code",
   "execution_count": 19,
   "metadata": {},
   "outputs": [],
   "source": [
    "annotation_dir = a3ss_annotation_dir\n",
    "event = 'a3ss'\n",
    "output_dir = os.path.join(out_base, '{}'.format(event))\n",
    "ext = 'png'\n",
    "for uid in merged['uID']:\n",
    "    r1, r2, i, rbp, cell, jxc_se = get_clip_file_from_uid(uid)\n",
    "    positive, negative = get_altss_annotations_from_jxc_se(\n",
    "        jxc_se, annotation_dir, event\n",
    "    )\n",
    "    if(positive == None or negative == None):\n",
    "        pass\n",
    "    else:\n",
    "        pdf = pd.read_table(positive)\n",
    "        ndf = pd.read_table(negative)\n",
    "\n",
    "        if(pdf.shape[0] >= 25 and ndf.shape[0] >= 25):\n",
    "            means = glob.glob(\n",
    "                os.path.join(\n",
    "                    output_dir,\n",
    "                    os.path.basename(r).replace('.bam','*.means.txt')\n",
    "                )\n",
    "            )\n",
    "            \n",
    "            for r in [r1, r2]:\n",
    "                name = os.path.basename(r).replace('.bam','.{}'.format(ext))\n",
    "                output_filename = os.path.join(\n",
    "                    output_dir,\n",
    "                    name\n",
    "                )\n",
    "                if not os.path.exists(output_filename):\n",
    "                    print(\"{} {} doesnt exist\".format(output_filename, jxc_se))\n",
    "                if len(means) != 6:\n",
    "                    print(\"missing means (found {})\".format(means))"
   ]
  },
  {
   "cell_type": "code",
   "execution_count": 20,
   "metadata": {},
   "outputs": [],
   "source": [
    "annotation_dir = a5ss_annotation_dir\n",
    "event = 'a5ss'\n",
    "output_dir = os.path.join(out_base, '{}'.format(event))\n",
    "ext = 'png'\n",
    "for uid in merged['uID']:\n",
    "    r1, r2, i, rbp, cell, jxc_se = get_clip_file_from_uid(uid)\n",
    "    positive, negative = get_altss_annotations_from_jxc_se(\n",
    "        jxc_se, annotation_dir, event\n",
    "    )\n",
    "    if(positive == None or negative == None):\n",
    "        pass\n",
    "    else:\n",
    "        pdf = pd.read_table(positive)\n",
    "        ndf = pd.read_table(negative)\n",
    "\n",
    "        if(pdf.shape[0] >= 25 and ndf.shape[0] >= 25):\n",
    "            means = glob.glob(\n",
    "                os.path.join(\n",
    "                    output_dir,\n",
    "                    os.path.basename(r).replace('.bam','*.means.txt')\n",
    "                )\n",
    "            )\n",
    "            for r in [r1, r2]:\n",
    "                name = os.path.basename(r).replace('.bam','.{}'.format(ext))\n",
    "                output_filename = os.path.join(\n",
    "                    output_dir,\n",
    "                    name\n",
    "                )\n",
    "                if not os.path.exists(output_filename):\n",
    "                    print(\"{} {} doesnt exist\".format(output_filename, jxc_se))\n",
    "                if len(means) != 6:\n",
    "                    print(\"missing means (found {})\".format(means))"
   ]
  },
  {
   "cell_type": "code",
   "execution_count": null,
   "metadata": {},
   "outputs": [],
   "source": []
  }
 ],
 "metadata": {
  "kernelspec": {
   "display_name": "Python 2",
   "language": "python",
   "name": "python2"
  },
  "language_info": {
   "codemirror_mode": {
    "name": "ipython",
    "version": 2
   },
   "file_extension": ".py",
   "mimetype": "text/x-python",
   "name": "python",
   "nbconvert_exporter": "python",
   "pygments_lexer": "ipython2",
   "version": "2.7.14"
  },
  "widgets": {
   "state": {
    "569a4a5b3e314a91ab2b92dcfc9868e4": {
     "views": [
      {
       "cell_index": 29
      }
     ]
    }
   },
   "version": "1.2.0"
  }
 },
 "nbformat": 4,
 "nbformat_minor": 1
}
