{
 "cells": [
  {
   "cell_type": "code",
   "execution_count": 1,
   "metadata": {
    "collapsed": true
   },
   "outputs": [],
   "source": [
    "import pandas as pd\n",
    "import numpy as np\n",
    "import os\n",
    "import glob\n",
    "pd.set_option(\"display.max_columns\",500)"
   ]
  },
  {
   "cell_type": "code",
   "execution_count": 2,
   "metadata": {
    "collapsed": true
   },
   "outputs": [],
   "source": [
    "def get_replicate_num(df):\n",
    "    \"\"\" By Xintao's definition, the lower replicate id sorted alphanumerically is the first replicate. \"\"\"\n",
    "    df['Replicate_number'] = df.sort_values(\n",
    "        ['Experiment_ID', 'RBP', 'Cell_line', 'Replicate']\n",
    "    ).groupby(['Experiment_ID','RBP','Cell_line'])['Replicate'].rank()\n",
    "    df['Replicate_number'] = df['Replicate_number'].astype(int)\n",
    "    return df"
   ]
  },
  {
   "cell_type": "code",
   "execution_count": 3,
   "metadata": {},
   "outputs": [],
   "source": [
    "wd = '/projects/ps-yeolab3/encode/rnaseq'\n",
    "hepg2_filelist = pd.read_table(os.path.join(wd, 'HepG2_fileID_table.20171211_files.txt'), comment='#')\n",
    "hepg2_exptlist = pd.read_table(os.path.join(wd, 'HepG2_expID_table.20171211_datasets.txt'), comment='#')\n",
    "\n",
    "k562_filelist = pd.read_table(os.path.join(wd, 'K562_fileID_table.20171211_files.txt'), comment='#')\n",
    "k562_exptlist = pd.read_table(os.path.join(wd, 'K562_expID_table.20171211_datasets.txt'), comment='#')\n",
    "\n",
    "k562_filelist = get_replicate_num(k562_filelist)\n",
    "hepg2_filelist = get_replicate_num(hepg2_filelist)\n",
    "\n",
    "hepg2 = {'filelist':hepg2_filelist, 'exptlist':hepg2_exptlist}\n",
    "k562 = {'filelist':k562_filelist, 'exptlist':k562_exptlist}"
   ]
  },
  {
   "cell_type": "code",
   "execution_count": null,
   "metadata": {},
   "outputs": [],
   "source": []
  },
  {
   "cell_type": "code",
   "execution_count": null,
   "metadata": {},
   "outputs": [],
   "source": []
  },
  {
   "cell_type": "code",
   "execution_count": 4,
   "metadata": {},
   "outputs": [],
   "source": [
    "def concat_expt_filelists(cell):\n",
    "    # merge the knockdown experiments\n",
    "    merged = pd.merge(\n",
    "        cell['exptlist'], \n",
    "        cell['filelist'], \n",
    "        how='left', \n",
    "        left_on=['Knockdow_exp','RBP','Cell_line'], \n",
    "        right_on=['Experiment_ID','RBP','Cell_line']\n",
    "    )\n",
    "    kd_cols = {colname:'KD {}'.format(colname) for colname in [\n",
    "        'Experiment_ID', 'Replicate', 'FASTQ_R1', 'FASTQ_R2', 'BAM', 'TSV', 'RBP', 'Replicate_number',\n",
    "    ]}\n",
    "    merged.rename(columns=kd_cols, inplace=True)\n",
    "\n",
    "    # merge the control experiments\n",
    "    # RBP is omitted because the control expt RBPs are all 'non-target'\n",
    "    \n",
    "    merged = pd.merge(\n",
    "        merged, \n",
    "        cell['filelist'], \n",
    "        how='left', \n",
    "        left_on=['Control_exp','Cell_line', 'KD Replicate_number'], \n",
    "        right_on=['Experiment_ID','Cell_line', 'Replicate_number']\n",
    "    )\n",
    "\n",
    "    ctrl_cols = {colname:'Control {}'.format(colname) for colname in [\n",
    "        'Experiment_ID', 'Replicate', 'FASTQ_R1', 'FASTQ_R2', 'BAM', 'TSV', 'RBP', 'Replicate_number',\n",
    "    ]}\n",
    "    merged.rename(columns=ctrl_cols, inplace=True)\n",
    "    \n",
    "    # let's just add the BAM suffix here\n",
    "    merged['KD BAM'] = merged['KD BAM'] + '.bam'\n",
    "    merged['Control BAM'] = merged['Control BAM'] + '.bam'\n",
    "    \n",
    "    return merged"
   ]
  },
  {
   "cell_type": "markdown",
   "metadata": {},
   "source": [
    "# Create merged expt and control lists, make sure they connect without discrepancies\n",
    "- APOBEC3C doesn't seem to have an associated files list, let's ask Xintao."
   ]
  },
  {
   "cell_type": "code",
   "execution_count": 5,
   "metadata": {},
   "outputs": [
    {
     "data": {
      "text/html": [
       "<div>\n",
       "<style>\n",
       "    .dataframe thead tr:only-child th {\n",
       "        text-align: right;\n",
       "    }\n",
       "\n",
       "    .dataframe thead th {\n",
       "        text-align: left;\n",
       "    }\n",
       "\n",
       "    .dataframe tbody tr th {\n",
       "        vertical-align: top;\n",
       "    }\n",
       "</style>\n",
       "<table border=\"1\" class=\"dataframe\">\n",
       "  <thead>\n",
       "    <tr style=\"text-align: right;\">\n",
       "      <th></th>\n",
       "      <th>KD RBP</th>\n",
       "      <th>SET</th>\n",
       "      <th>Cell_line</th>\n",
       "      <th>Knockdow_exp</th>\n",
       "      <th>Control_exp</th>\n",
       "      <th>KD Experiment_ID</th>\n",
       "      <th>KD Replicate</th>\n",
       "      <th>KD FASTQ_R1</th>\n",
       "      <th>KD FASTQ_R2</th>\n",
       "      <th>KD BAM</th>\n",
       "      <th>KD TSV</th>\n",
       "      <th>KD Replicate_number</th>\n",
       "      <th>Control Experiment_ID</th>\n",
       "      <th>Control RBP</th>\n",
       "      <th>Control Replicate</th>\n",
       "      <th>Control FASTQ_R1</th>\n",
       "      <th>Control FASTQ_R2</th>\n",
       "      <th>Control BAM</th>\n",
       "      <th>Control TSV</th>\n",
       "      <th>Control Replicate_number</th>\n",
       "    </tr>\n",
       "  </thead>\n",
       "  <tbody>\n",
       "  </tbody>\n",
       "</table>\n",
       "</div>"
      ],
      "text/plain": [
       "Empty DataFrame\n",
       "Columns: [KD RBP, SET, Cell_line, Knockdow_exp, Control_exp, KD Experiment_ID, KD Replicate, KD FASTQ_R1, KD FASTQ_R2, KD BAM, KD TSV, KD Replicate_number, Control Experiment_ID, Control RBP, Control Replicate, Control FASTQ_R1, Control FASTQ_R2, Control BAM, Control TSV, Control Replicate_number]\n",
       "Index: []"
      ]
     },
     "execution_count": 5,
     "metadata": {},
     "output_type": "execute_result"
    }
   ],
   "source": [
    "hepg2_combined_filelist = concat_expt_filelists(hepg2)\n",
    "hepg2_combined_filelist.iloc[pd.isnull(hepg2_combined_filelist).any(1).nonzero()[0]]"
   ]
  },
  {
   "cell_type": "code",
   "execution_count": 6,
   "metadata": {},
   "outputs": [
    {
     "data": {
      "text/html": [
       "<div>\n",
       "<style>\n",
       "    .dataframe thead tr:only-child th {\n",
       "        text-align: right;\n",
       "    }\n",
       "\n",
       "    .dataframe thead th {\n",
       "        text-align: left;\n",
       "    }\n",
       "\n",
       "    .dataframe tbody tr th {\n",
       "        vertical-align: top;\n",
       "    }\n",
       "</style>\n",
       "<table border=\"1\" class=\"dataframe\">\n",
       "  <thead>\n",
       "    <tr style=\"text-align: right;\">\n",
       "      <th></th>\n",
       "      <th>KD RBP</th>\n",
       "      <th>SET</th>\n",
       "      <th>Cell_line</th>\n",
       "      <th>Knockdow_exp</th>\n",
       "      <th>Control_exp</th>\n",
       "      <th>KD Experiment_ID</th>\n",
       "      <th>KD Replicate</th>\n",
       "      <th>KD FASTQ_R1</th>\n",
       "      <th>KD FASTQ_R2</th>\n",
       "      <th>KD BAM</th>\n",
       "      <th>KD TSV</th>\n",
       "      <th>KD Replicate_number</th>\n",
       "      <th>Control Experiment_ID</th>\n",
       "      <th>Control RBP</th>\n",
       "      <th>Control Replicate</th>\n",
       "      <th>Control FASTQ_R1</th>\n",
       "      <th>Control FASTQ_R2</th>\n",
       "      <th>Control BAM</th>\n",
       "      <th>Control TSV</th>\n",
       "      <th>Control Replicate_number</th>\n",
       "    </tr>\n",
       "  </thead>\n",
       "  <tbody>\n",
       "  </tbody>\n",
       "</table>\n",
       "</div>"
      ],
      "text/plain": [
       "Empty DataFrame\n",
       "Columns: [KD RBP, SET, Cell_line, Knockdow_exp, Control_exp, KD Experiment_ID, KD Replicate, KD FASTQ_R1, KD FASTQ_R2, KD BAM, KD TSV, KD Replicate_number, Control Experiment_ID, Control RBP, Control Replicate, Control FASTQ_R1, Control FASTQ_R2, Control BAM, Control TSV, Control Replicate_number]\n",
       "Index: []"
      ]
     },
     "execution_count": 6,
     "metadata": {},
     "output_type": "execute_result"
    }
   ],
   "source": [
    "k562_combined_filelist = concat_expt_filelists(k562)\n",
    "k562_combined_filelist.iloc[pd.isnull(k562_combined_filelist).any(1).nonzero()[0]]"
   ]
  },
  {
   "cell_type": "markdown",
   "metadata": {},
   "source": [
    "# Check to make sure we have all the RMATS files\n",
    "- APOBEC3C and APOBE are the same I think, and is the only discrepancy "
   ]
  },
  {
   "cell_type": "code",
   "execution_count": 7,
   "metadata": {},
   "outputs": [],
   "source": [
    "def get_rmats_formatted_SE_name(row):\n",
    "    return \"{}-{}-{}-SE.MATS.JunctionCountOnly.txt\".format(\n",
    "        row['KD RBP'], row['SET'], row['Cell_line']\n",
    "    )\n",
    "\n",
    "k562_combined_filelist['RMATS_FILE'] = k562_combined_filelist.apply(get_rmats_formatted_SE_name, axis=1)\n",
    "hepg2_combined_filelist['RMATS_FILE'] = hepg2_combined_filelist.apply(get_rmats_formatted_SE_name, axis=1)"
   ]
  },
  {
   "cell_type": "code",
   "execution_count": 8,
   "metadata": {},
   "outputs": [],
   "source": [
    "bam_master_directory = '/projects/ps-yeolab3/encode/rnaseq/shrna_knockdown_graveley_tophat/'\n",
    "rmats_master_directory = '/projects/ps-yeolab3/encode/rnaseq/alt_splicing/graveley_rmats_current/'\n",
    "missing_filelist = '/home/bay001/projects/maps_20160420/permanent_data/missing_rmats_files_20171218.txt'"
   ]
  },
  {
   "cell_type": "code",
   "execution_count": 9,
   "metadata": {},
   "outputs": [],
   "source": [
    "missing_files = []\n",
    "for cell_file in [hepg2_combined_filelist, k562_combined_filelist]:\n",
    "    for rmats_file in cell_file['RMATS_FILE']:\n",
    "        found_file = glob.glob(os.path.join(rmats_master_directory, rmats_file))\n",
    "        if len(found_file) == 0:\n",
    "            missing_files.append(rmats_file)\n",
    "            \n",
    "with open(missing_filelist, 'w') as o:\n",
    "    for missing_file in set(missing_files):\n",
    "        o.write(missing_file + '\\n')"
   ]
  },
  {
   "cell_type": "markdown",
   "metadata": {},
   "source": [
    "# Check to make sure we have the BAM files"
   ]
  },
  {
   "cell_type": "code",
   "execution_count": 10,
   "metadata": {},
   "outputs": [
    {
     "data": {
      "text/plain": [
       "[]"
      ]
     },
     "execution_count": 10,
     "metadata": {},
     "output_type": "execute_result"
    }
   ],
   "source": [
    "missing_files = []\n",
    "for cell_file in [hepg2_combined_filelist, k562_combined_filelist]:\n",
    "    for bam_file in cell_file['KD BAM']:\n",
    "        found_file = glob.glob(os.path.join(bam_master_directory, bam_file))\n",
    "        if len(found_file) == 0:\n",
    "            missing_files.append(bam_file)\n",
    "missing_files"
   ]
  },
  {
   "cell_type": "code",
   "execution_count": 12,
   "metadata": {},
   "outputs": [
    {
     "data": {
      "text/html": [
       "<div>\n",
       "<style>\n",
       "    .dataframe thead tr:only-child th {\n",
       "        text-align: right;\n",
       "    }\n",
       "\n",
       "    .dataframe thead th {\n",
       "        text-align: left;\n",
       "    }\n",
       "\n",
       "    .dataframe tbody tr th {\n",
       "        vertical-align: top;\n",
       "    }\n",
       "</style>\n",
       "<table border=\"1\" class=\"dataframe\">\n",
       "  <thead>\n",
       "    <tr style=\"text-align: right;\">\n",
       "      <th></th>\n",
       "      <th>KD RBP</th>\n",
       "      <th>SET</th>\n",
       "      <th>Cell_line</th>\n",
       "      <th>Knockdow_exp</th>\n",
       "      <th>Control_exp</th>\n",
       "      <th>KD Experiment_ID</th>\n",
       "      <th>KD Replicate</th>\n",
       "      <th>KD FASTQ_R1</th>\n",
       "      <th>KD FASTQ_R2</th>\n",
       "      <th>KD BAM</th>\n",
       "      <th>KD TSV</th>\n",
       "      <th>KD Replicate_number</th>\n",
       "      <th>Control Experiment_ID</th>\n",
       "      <th>Control RBP</th>\n",
       "      <th>Control Replicate</th>\n",
       "      <th>Control FASTQ_R1</th>\n",
       "      <th>Control FASTQ_R2</th>\n",
       "      <th>Control BAM</th>\n",
       "      <th>Control TSV</th>\n",
       "      <th>Control Replicate_number</th>\n",
       "      <th>RMATS_FILE</th>\n",
       "    </tr>\n",
       "  </thead>\n",
       "  <tbody>\n",
       "  </tbody>\n",
       "</table>\n",
       "</div>"
      ],
      "text/plain": [
       "Empty DataFrame\n",
       "Columns: [KD RBP, SET, Cell_line, Knockdow_exp, Control_exp, KD Experiment_ID, KD Replicate, KD FASTQ_R1, KD FASTQ_R2, KD BAM, KD TSV, KD Replicate_number, Control Experiment_ID, Control RBP, Control Replicate, Control FASTQ_R1, Control FASTQ_R2, Control BAM, Control TSV, Control Replicate_number, RMATS_FILE]\n",
       "Index: []"
      ]
     },
     "execution_count": 12,
     "metadata": {},
     "output_type": "execute_result"
    }
   ],
   "source": [
    "# ENCFF257RZL.bam is an old filename from xintao that has to be manually updated\n",
    "hepg2_combined_filelist[hepg2_combined_filelist['KD BAM']=='ENCFF257RZL.bam']"
   ]
  },
  {
   "cell_type": "markdown",
   "metadata": {},
   "source": [
    "# Reformat this table to make it work with my splice map wrapper scripts\n",
    "- but first save the whole table because having a 'master' file is useful"
   ]
  },
  {
   "cell_type": "code",
   "execution_count": 15,
   "metadata": {},
   "outputs": [],
   "source": [
    "pd.concat([hepg2_combined_filelist, k562_combined_filelist]).to_csv(\n",
    "    '/projects/ps-yeolab3/encode/rnaseq/encode_master_filelist.txt', sep='\\t', index=False\n",
    ")"
   ]
  },
  {
   "cell_type": "code",
   "execution_count": 26,
   "metadata": {},
   "outputs": [
    {
     "name": "stderr",
     "output_type": "stream",
     "text": [
      "/home/bay001/anaconda2/envs/brian/lib/python2.7/site-packages/ipykernel_launcher.py:2: SettingWithCopyWarning: \n",
      "A value is trying to be set on a copy of a slice from a DataFrame.\n",
      "Try using .loc[row_indexer,col_indexer] = value instead\n",
      "\n",
      "See the caveats in the documentation: http://pandas.pydata.org/pandas-docs/stable/indexing.html#indexing-view-versus-copy\n",
      "  \n",
      "/home/bay001/anaconda2/envs/brian/lib/python2.7/site-packages/ipykernel_launcher.py:5: SettingWithCopyWarning: \n",
      "A value is trying to be set on a copy of a slice from a DataFrame\n",
      "\n",
      "See the caveats in the documentation: http://pandas.pydata.org/pandas-docs/stable/indexing.html#indexing-view-versus-copy\n",
      "  \"\"\"\n"
     ]
    }
   ],
   "source": [
    "reformatted_hepg2 = hepg2_combined_filelist[['KD RBP', 'RMATS_FILE']]\n",
    "reformatted_hepg2['EXP'] = reformatted_hepg2['RMATS_FILE'].str.replace('-SE.MATS.JunctionCountOnly.txt','')\n",
    "del reformatted_hepg2['RMATS_FILE']\n",
    "reformatted_hepg2.columns = ['Official_RBP', 'EXP']\n",
    "reformatted_hepg2.drop_duplicates(['Official_RBP', 'EXP'], inplace=True)\n",
    "reformatted_hepg2.to_csv(\n",
    "    '/home/bay001/projects/maps_20160420/permanent_data/RNASeq_final_exp_list_HepG2.csv_12-18-2017.csv',\n",
    "    sep='\\t', index=False\n",
    ")"
   ]
  },
  {
   "cell_type": "code",
   "execution_count": 27,
   "metadata": {},
   "outputs": [
    {
     "name": "stderr",
     "output_type": "stream",
     "text": [
      "/home/bay001/anaconda2/envs/brian/lib/python2.7/site-packages/ipykernel_launcher.py:2: SettingWithCopyWarning: \n",
      "A value is trying to be set on a copy of a slice from a DataFrame.\n",
      "Try using .loc[row_indexer,col_indexer] = value instead\n",
      "\n",
      "See the caveats in the documentation: http://pandas.pydata.org/pandas-docs/stable/indexing.html#indexing-view-versus-copy\n",
      "  \n",
      "/home/bay001/anaconda2/envs/brian/lib/python2.7/site-packages/ipykernel_launcher.py:5: SettingWithCopyWarning: \n",
      "A value is trying to be set on a copy of a slice from a DataFrame\n",
      "\n",
      "See the caveats in the documentation: http://pandas.pydata.org/pandas-docs/stable/indexing.html#indexing-view-versus-copy\n",
      "  \"\"\"\n"
     ]
    }
   ],
   "source": [
    "reformatted_k562 = k562_combined_filelist[['KD RBP', 'RMATS_FILE']]\n",
    "reformatted_k562['EXP'] = reformatted_k562['RMATS_FILE'].str.replace('-SE.MATS.JunctionCountOnly.txt','')\n",
    "del reformatted_k562['RMATS_FILE']\n",
    "reformatted_k562.columns = ['Official_RBP', 'EXP']\n",
    "reformatted_k562.drop_duplicates(['Official_RBP', 'EXP'], inplace=True)\n",
    "reformatted_k562.to_csv(\n",
    "    '/home/bay001/projects/maps_20160420/permanent_data/RNASeq_final_exp_list_K562.csv_12-18-2017.csv',\n",
    "    sep='\\t'\n",
    ")"
   ]
  },
  {
   "cell_type": "code",
   "execution_count": null,
   "metadata": {
    "collapsed": true
   },
   "outputs": [],
   "source": []
  }
 ],
 "metadata": {
  "kernelspec": {
   "display_name": "Python 2",
   "language": "python",
   "name": "python2"
  },
  "language_info": {
   "codemirror_mode": {
    "name": "ipython",
    "version": 2
   },
   "file_extension": ".py",
   "mimetype": "text/x-python",
   "name": "python",
   "nbconvert_exporter": "python",
   "pygments_lexer": "ipython2",
   "version": "2.7.14"
  }
 },
 "nbformat": 4,
 "nbformat_minor": 2
}
