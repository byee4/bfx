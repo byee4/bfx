{
 "cells": [
  {
   "cell_type": "code",
   "execution_count": 1,
   "metadata": {},
   "outputs": [],
   "source": [
    "import pandas as pd\n",
    "import numpy as np\n",
    "import os\n",
    "import glob"
   ]
  },
  {
   "cell_type": "code",
   "execution_count": 2,
   "metadata": {},
   "outputs": [],
   "source": [
    "wd = '/projects/ps-yeolab3/encode/rnaseq/alt_splicing'\n",
    "! mkdir $wd/graveley_rmats_current"
   ]
  },
  {
   "cell_type": "code",
   "execution_count": 3,
   "metadata": {},
   "outputs": [
    {
     "data": {
      "text/plain": [
       "['/projects/ps-yeolab3/encode/rnaseq/alt_splicing/graveley_rmats_current',\n",
       " '/projects/ps-yeolab3/encode/rnaseq/alt_splicing/graveley_rmats_3-30-2017',\n",
       " '/projects/ps-yeolab3/encode/rnaseq/alt_splicing/graveley_rmats_previous_datasets',\n",
       " '/projects/ps-yeolab3/encode/rnaseq/alt_splicing/graveley_rmats_1-10-2017',\n",
       " '/projects/ps-yeolab3/encode/rnaseq/alt_splicing/graveley_rmats_10-31-2016',\n",
       " '/projects/ps-yeolab3/encode/rnaseq/alt_splicing/graveley_rmats_3-28-2018']"
      ]
     },
     "execution_count": 3,
     "metadata": {},
     "output_type": "execute_result"
    }
   ],
   "source": [
    "dirs = glob.glob(os.path.join(wd, 'graveley_rmats*'))\n",
    "dirs"
   ]
  },
  {
   "cell_type": "code",
   "execution_count": 4,
   "metadata": {},
   "outputs": [
    {
     "name": "stdout",
     "output_type": "stream",
     "text": [
      "/projects/ps-yeolab3/encode/rnaseq/alt_splicing/graveley_rmats_3-30-2017\n",
      "/projects/ps-yeolab3/encode/rnaseq/alt_splicing/graveley_rmats_1-10-2017\n",
      "/projects/ps-yeolab3/encode/rnaseq/alt_splicing/graveley_rmats_10-31-2016\n",
      "/projects/ps-yeolab3/encode/rnaseq/alt_splicing/graveley_rmats_3-28-2018\n"
     ]
    }
   ],
   "source": [
    "for d in dirs:\n",
    "    if 'previous_datasets' not in d and 'current' not in d:\n",
    "        print(d)"
   ]
  },
  {
   "cell_type": "code",
   "execution_count": null,
   "metadata": {},
   "outputs": [],
   "source": []
  }
 ],
 "metadata": {
  "kernelspec": {
   "display_name": "Python 2",
   "language": "python",
   "name": "python2"
  },
  "language_info": {
   "codemirror_mode": {
    "name": "ipython",
    "version": 2
   },
   "file_extension": ".py",
   "mimetype": "text/x-python",
   "name": "python",
   "nbconvert_exporter": "python",
   "pygments_lexer": "ipython2",
   "version": "2.7.14"
  }
 },
 "nbformat": 4,
 "nbformat_minor": 2
}
