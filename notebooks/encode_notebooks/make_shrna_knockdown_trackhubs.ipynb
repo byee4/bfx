{
 "cells": [
  {
   "cell_type": "markdown",
   "metadata": {},
   "source": [
    "# Creates trackhubs of shRNA knockdown RNA SEQ ENCODE data using Gabe's make_bigwig_files.py script"
   ]
  },
  {
   "cell_type": "code",
   "execution_count": 1,
   "metadata": {
    "collapsed": true
   },
   "outputs": [],
   "source": [
    "import os\n",
    "import glob\n",
    "import sys\n",
    "import pandas as pd\n",
    "from qtools import Submitter\n",
    "from tqdm import tnrange, tqdm_notebook"
   ]
  },
  {
   "cell_type": "code",
   "execution_count": 2,
   "metadata": {
    "collapsed": true
   },
   "outputs": [],
   "source": [
    "wd = '/projects/ps-yeolab3/encode/rnaseq/shrna_knockdown_graveley_tophat'\n",
    "bams = glob.glob(os.path.join(wd,'*.bam'))"
   ]
  },
  {
   "cell_type": "code",
   "execution_count": 3,
   "metadata": {},
   "outputs": [
    {
     "data": {
      "text/html": [
       "<div>\n",
       "<table border=\"1\" class=\"dataframe\">\n",
       "  <thead>\n",
       "    <tr style=\"text-align: right;\">\n",
       "      <th></th>\n",
       "      <th>Unnamed: 0</th>\n",
       "      <th>control_rep1</th>\n",
       "      <th>control_rep1_md5sum</th>\n",
       "      <th>control_rep2</th>\n",
       "      <th>control_rep2_md5sum</th>\n",
       "      <th>expt_rep1</th>\n",
       "      <th>expt_rep1_md5sum</th>\n",
       "      <th>expt_rep2</th>\n",
       "      <th>expt_rep2_md5sum</th>\n",
       "      <th>name</th>\n",
       "      <th>cell</th>\n",
       "    </tr>\n",
       "  </thead>\n",
       "  <tbody>\n",
       "    <tr>\n",
       "      <th>0</th>\n",
       "      <td>ENCSR000SKS</td>\n",
       "      <td>ENCFF534AWV.bam</td>\n",
       "      <td>982950ab9c9c2b0639bcbd9c52fcc6fb</td>\n",
       "      <td>ENCFF134QUL.bam</td>\n",
       "      <td>ad84b066ad25b40758edb3c36a86a3f8</td>\n",
       "      <td>ENCFF992YGD.bam</td>\n",
       "      <td>72a623286dc027f63023f6dc4ba9691e</td>\n",
       "      <td>ENCFF126RPY.bam</td>\n",
       "      <td>2935c0ddba008e679dbd7f8db89b155d</td>\n",
       "      <td>RPLP0</td>\n",
       "      <td>HepG2</td>\n",
       "    </tr>\n",
       "    <tr>\n",
       "      <th>1</th>\n",
       "      <td>ENCSR003LSA</td>\n",
       "      <td>ENCFF988VWE.bam</td>\n",
       "      <td>63aab8b4b68d96306f21956b86c25d0f</td>\n",
       "      <td>ENCFF893QHC.bam</td>\n",
       "      <td>fa5e2cc66763ec268cd91b072c9eb06f</td>\n",
       "      <td>ENCFF831XLU.bam</td>\n",
       "      <td>4c6811e884dc0cc3038c29ab484e458e</td>\n",
       "      <td>ENCFF194QUZ.bam</td>\n",
       "      <td>f77e3808093ed9e4f5e8030e326285ed</td>\n",
       "      <td>SNRNP200</td>\n",
       "      <td>HepG2</td>\n",
       "    </tr>\n",
       "    <tr>\n",
       "      <th>2</th>\n",
       "      <td>ENCSR004OSI</td>\n",
       "      <td>ENCFF460AAE.bam</td>\n",
       "      <td>b691efe23fdd3873e7b5d5e6a9b20ba4</td>\n",
       "      <td>ENCFF058QDT.bam</td>\n",
       "      <td>d8f3f5606b74eccd282f560e20b8c893</td>\n",
       "      <td>ENCFF582HPV.bam</td>\n",
       "      <td>40ce65ef362259a1b15fc6060802ce64</td>\n",
       "      <td>ENCFF601DMY.bam</td>\n",
       "      <td>677705e5a1f0cce1085fe55dbe284faa</td>\n",
       "      <td>DNAJC2</td>\n",
       "      <td>HepG2</td>\n",
       "    </tr>\n",
       "    <tr>\n",
       "      <th>3</th>\n",
       "      <td>ENCSR009PPI</td>\n",
       "      <td>ENCFF052HTH.bam</td>\n",
       "      <td>e6d81c60dffc32e98f491f1ee02236b8</td>\n",
       "      <td>ENCFF857QSU.bam</td>\n",
       "      <td>2dd2e67ec047cb195b6da4207d0cc26d</td>\n",
       "      <td>ENCFF865GTN.bam</td>\n",
       "      <td>f6cf64580d7a79c8ffc30890ee670317</td>\n",
       "      <td>ENCFF569MFV.bam</td>\n",
       "      <td>bbef1be538e57ea495a193eb46e464e3</td>\n",
       "      <td>FXR1</td>\n",
       "      <td>HepG2</td>\n",
       "    </tr>\n",
       "    <tr>\n",
       "      <th>4</th>\n",
       "      <td>ENCSR010ZMZ</td>\n",
       "      <td>ENCFF499UUZ.bam</td>\n",
       "      <td>b0fdad0ee704046b511099cf04e7eb5e</td>\n",
       "      <td>ENCFF326XKY.bam</td>\n",
       "      <td>ecd206b9d417019fa0c50604afef3094</td>\n",
       "      <td>ENCFF120YPA.bam</td>\n",
       "      <td>9e34244ba7a6beb52932fa3b3688c138</td>\n",
       "      <td>ENCFF791RLG.bam</td>\n",
       "      <td>12265b4e8f2b2bb1bf05c5fd0a4890ed</td>\n",
       "      <td>HLTF</td>\n",
       "      <td>HepG2</td>\n",
       "    </tr>\n",
       "  </tbody>\n",
       "</table>\n",
       "</div>"
      ],
      "text/plain": [
       "    Unnamed: 0     control_rep1               control_rep1_md5sum  \\\n",
       "0  ENCSR000SKS  ENCFF534AWV.bam  982950ab9c9c2b0639bcbd9c52fcc6fb   \n",
       "1  ENCSR003LSA  ENCFF988VWE.bam  63aab8b4b68d96306f21956b86c25d0f   \n",
       "2  ENCSR004OSI  ENCFF460AAE.bam  b691efe23fdd3873e7b5d5e6a9b20ba4   \n",
       "3  ENCSR009PPI  ENCFF052HTH.bam  e6d81c60dffc32e98f491f1ee02236b8   \n",
       "4  ENCSR010ZMZ  ENCFF499UUZ.bam  b0fdad0ee704046b511099cf04e7eb5e   \n",
       "\n",
       "      control_rep2               control_rep2_md5sum        expt_rep1  \\\n",
       "0  ENCFF134QUL.bam  ad84b066ad25b40758edb3c36a86a3f8  ENCFF992YGD.bam   \n",
       "1  ENCFF893QHC.bam  fa5e2cc66763ec268cd91b072c9eb06f  ENCFF831XLU.bam   \n",
       "2  ENCFF058QDT.bam  d8f3f5606b74eccd282f560e20b8c893  ENCFF582HPV.bam   \n",
       "3  ENCFF857QSU.bam  2dd2e67ec047cb195b6da4207d0cc26d  ENCFF865GTN.bam   \n",
       "4  ENCFF326XKY.bam  ecd206b9d417019fa0c50604afef3094  ENCFF120YPA.bam   \n",
       "\n",
       "                   expt_rep1_md5sum        expt_rep2  \\\n",
       "0  72a623286dc027f63023f6dc4ba9691e  ENCFF126RPY.bam   \n",
       "1  4c6811e884dc0cc3038c29ab484e458e  ENCFF194QUZ.bam   \n",
       "2  40ce65ef362259a1b15fc6060802ce64  ENCFF601DMY.bam   \n",
       "3  f6cf64580d7a79c8ffc30890ee670317  ENCFF569MFV.bam   \n",
       "4  9e34244ba7a6beb52932fa3b3688c138  ENCFF791RLG.bam   \n",
       "\n",
       "                   expt_rep2_md5sum      name   cell  \n",
       "0  2935c0ddba008e679dbd7f8db89b155d     RPLP0  HepG2  \n",
       "1  f77e3808093ed9e4f5e8030e326285ed  SNRNP200  HepG2  \n",
       "2  677705e5a1f0cce1085fe55dbe284faa    DNAJC2  HepG2  \n",
       "3  bbef1be538e57ea495a193eb46e464e3      FXR1  HepG2  \n",
       "4  12265b4e8f2b2bb1bf05c5fd0a4890ed      HLTF  HepG2  "
      ]
     },
     "execution_count": 3,
     "metadata": {},
     "output_type": "execute_result"
    }
   ],
   "source": [
    "man_dir = '/projects/ps-yeolab3/encode/'\n",
    "k562_manifest = pd.read_table(\n",
    "    man_dir + 'k562_brenton-graveley_ambiguous_bams_for_integrated_analysis.txt'\n",
    ")\n",
    "k562_manifest['cell'] = 'K562'\n",
    "hepg2_manifest = pd.read_table(\n",
    "    man_dir + 'hepg2_brenton-graveley_ambiguous_bams_for_integrated_analysis.txt'\n",
    ")\n",
    "hepg2_manifest['cell'] = 'HepG2'\n",
    "\n",
    "all_manifest = pd.concat([hepg2_manifest, k562_manifest])\n",
    "all_manifest.head()"
   ]
  },
  {
   "cell_type": "code",
   "execution_count": 4,
   "metadata": {
    "collapsed": true
   },
   "outputs": [],
   "source": [
    "out_dir = '/projects/ps-yeolab3/bay001/encode_temp2/'"
   ]
  },
  {
   "cell_type": "code",
   "execution_count": 5,
   "metadata": {},
   "outputs": [
    {
     "data": {
      "application/vnd.jupyter.widget-view+json": {
       "model_id": "0e1b9d47356b4f7fa7850133f65de3ab"
      }
     },
     "metadata": {},
     "output_type": "display_data"
    },
    {
     "data": {
      "text/plain": [
       "\"Submitter(\\n    cmds, \\n    jobname, \\n    array=True,\\n    nodes=1, \\n    ppn=8, \\n    walltime='6:00:00', \\n    sh=my_bash_file, \\n    submit=False, \\n    queue='home-yeo'\\n)\\n\""
      ]
     },
     "execution_count": 5,
     "metadata": {},
     "output_type": "execute_result"
    }
   ],
   "source": [
    "genome_file = '/projects/ps-yeolab3/bay001/annotations/hg19_ercc.chrom.sizes'\n",
    "\n",
    "cmds = []\n",
    "progress = tnrange(all_manifest.shape[0])\n",
    "for _, row in all_manifest.iterrows():\n",
    "    exp_rep1 = row['expt_rep1']\n",
    "    exp_rep2 = row['expt_rep2']\n",
    "    control_rep1 = row['control_rep1']\n",
    "    control_rep2 = row['control_rep2']\n",
    "    \n",
    "    files = {control_rep2:'control_rep2' , exp_rep2:'expt_rep2', control_rep1:'control_rep1', exp_rep1:'expt_rep1'}\n",
    "    \n",
    "    for f, label in files.iteritems():\n",
    "        \n",
    "        bw_prefix = os.path.join(out_dir,\"{}-{}-{}-{}-{}\".format(\n",
    "            row['name'], \n",
    "            row['cell'], \n",
    "            label,\n",
    "            row['Unnamed: 0'], \n",
    "            f.replace('.bam','.norm'))\n",
    "        )\n",
    "        cmd = 'python /home/bay001/gscripts/gscripts/general/make_bigwig_files_pe.py ' # python /projects/ps-yeolab3/bay001/software/make_bigwig_files.py '\n",
    "        cmd = cmd + '--bam {} '.format(os.path.join(wd, f))\n",
    "        cmd = cmd + '--genome {} '.format(genome_file)\n",
    "        cmd = cmd + '--bw_pos {} '.format(bw_prefix + '.pos.bw')\n",
    "        cmd = cmd + '--bw_neg {} '.format(bw_prefix + '.neg.bw')\n",
    "        if not os.path.exists(bw_prefix + '.pos.bw'):\n",
    "            cmds.append(cmd)\n",
    "    progress.update(1)\n",
    "    jobname = \"redo_timedout\"\n",
    "    my_bash_file = os.path.join(out_dir,'redo_timedout' + '.sh')\n",
    "\n",
    "\"\"\"Submitter(\n",
    "    cmds, \n",
    "    jobname, \n",
    "    array=True,\n",
    "    nodes=1, \n",
    "    ppn=8, \n",
    "    walltime='6:00:00', \n",
    "    sh=my_bash_file, \n",
    "    submit=False, \n",
    "    queue='home-yeo'\n",
    ")\n",
    "\"\"\""
   ]
  },
  {
   "cell_type": "code",
   "execution_count": 6,
   "metadata": {},
   "outputs": [
    {
     "data": {
      "text/html": [
       "<div>\n",
       "<table border=\"1\" class=\"dataframe\">\n",
       "  <thead>\n",
       "    <tr style=\"text-align: right;\">\n",
       "      <th></th>\n",
       "      <th>Unnamed: 0</th>\n",
       "      <th>control_rep1</th>\n",
       "      <th>control_rep1_md5sum</th>\n",
       "      <th>control_rep2</th>\n",
       "      <th>control_rep2_md5sum</th>\n",
       "      <th>expt_rep1</th>\n",
       "      <th>expt_rep1_md5sum</th>\n",
       "      <th>expt_rep2</th>\n",
       "      <th>expt_rep2_md5sum</th>\n",
       "      <th>name</th>\n",
       "      <th>cell</th>\n",
       "    </tr>\n",
       "  </thead>\n",
       "  <tbody>\n",
       "    <tr>\n",
       "      <th>135</th>\n",
       "      <td>ENCSR635BOO</td>\n",
       "      <td>ENCFF231NKH.bam</td>\n",
       "      <td>da3325036619c8e20698628adc49575f</td>\n",
       "      <td>ENCFF893QAU.bam</td>\n",
       "      <td>94cf6b7e3be9c6c3828af1ec3b0731d7</td>\n",
       "      <td>ENCFF080EFD.bam</td>\n",
       "      <td>7f28a947b2182b94166423629c3f514b</td>\n",
       "      <td>ENCFF717XEO.bam</td>\n",
       "      <td>e78371e338296a51d0d90d3321aa907c</td>\n",
       "      <td>SNRNP70</td>\n",
       "      <td>HepG2</td>\n",
       "    </tr>\n",
       "  </tbody>\n",
       "</table>\n",
       "</div>"
      ],
      "text/plain": [
       "      Unnamed: 0     control_rep1               control_rep1_md5sum  \\\n",
       "135  ENCSR635BOO  ENCFF231NKH.bam  da3325036619c8e20698628adc49575f   \n",
       "\n",
       "        control_rep2               control_rep2_md5sum        expt_rep1  \\\n",
       "135  ENCFF893QAU.bam  94cf6b7e3be9c6c3828af1ec3b0731d7  ENCFF080EFD.bam   \n",
       "\n",
       "                     expt_rep1_md5sum        expt_rep2  \\\n",
       "135  7f28a947b2182b94166423629c3f514b  ENCFF717XEO.bam   \n",
       "\n",
       "                     expt_rep2_md5sum     name   cell  \n",
       "135  e78371e338296a51d0d90d3321aa907c  SNRNP70  HepG2  "
      ]
     },
     "execution_count": 6,
     "metadata": {},
     "output_type": "execute_result"
    }
   ],
   "source": [
    "all_manifest[all_manifest['name']=='SNRNP70']"
   ]
  },
  {
   "cell_type": "code",
   "execution_count": null,
   "metadata": {
    "collapsed": true
   },
   "outputs": [],
   "source": [
    "\n",
    "def make_chrom_sizes(bam_h, output_file):\n",
    "    \"\"\"\n",
    "    Uses the bam header from a bam file to get the chrom.sizes\n",
    "    And creates the chrom.sizes file\n",
    "    \"\"\"\n",
    "    o = open(output_file, 'w')\n",
    "    with open(bam_h, 'r') as f:\n",
    "        for line in f:\n",
    "            if line.startswith('@SQ'):\n",
    "                line = line.split('\\t')\n",
    "                o.write('{}\\t{}'.format(line[1].replace('SN:',''), line[2].replace('LN:','')))\n",
    "    o.close()\n",
    "# bam_h = '/projects/ps-yeolab3/bay001/annotations/hg19_ercc.bam_header.txt'\n",
    "# output_file = '/projects/ps-yeolab3/bay001/annotations/hg19_ercc.chrom.sizes'\n",
    "# make_chrom_sizes(bam_h, output_file)"
   ]
  },
  {
   "cell_type": "markdown",
   "metadata": {
    "collapsed": true
   },
   "source": [
    "# Some of them weren't made, let's check the errs."
   ]
  },
  {
   "cell_type": "code",
   "execution_count": 33,
   "metadata": {},
   "outputs": [
    {
     "name": "stdout",
     "output_type": "stream",
     "text": [
      "num of error files produced: 1869\n"
     ]
    },
    {
     "data": {
      "application/vnd.jupyter.widget-view+json": {
       "model_id": "2152f96960064916bab5abc3e6dfdbac"
      }
     },
     "metadata": {},
     "output_type": "display_data"
    },
    {
     "name": "stdout",
     "output_type": "stream",
     "text": [
      "('/projects/ps-yeolab3/bay001/encode_temp2/redo_timedout4.sh.err-108', 'killed.')\n",
      "('/projects/ps-yeolab3/bay001/encode_temp2/redo_timedout2.sh.err-225', 'failed')\n",
      "('/projects/ps-yeolab3/bay001/encode_temp2/redo_timedout1.sh.err-240', 'killed.')\n",
      "('/projects/ps-yeolab3/bay001/encode_temp2/redo_timedout4.sh.err-239', 'read')\n",
      "('/projects/ps-yeolab3/bay001/encode_temp2/redo_timedout1.sh.err-261', 'float')\n",
      "('/projects/ps-yeolab3/bay001/encode_temp2/redo_timedout4.sh.err-154', 'failed')\n",
      "('/projects/ps-yeolab3/bay001/encode_temp2/redo_timedout2.sh.err-408', 'failed')\n",
      "('/projects/ps-yeolab3/bay001/encode_temp2/redo_timedout1.sh.err-253', 'expecting')\n",
      "('/projects/ps-yeolab3/bay001/encode_temp2/redo_timedout2.sh.err-95', 'failed')\n",
      "('/projects/ps-yeolab3/bay001/encode_temp2/redo_timedout1.sh.err-417', 'failed')\n",
      "('/projects/ps-yeolab3/bay001/encode_temp2/redo_timedout3.sh.err-368', 'killed.')\n",
      "('/projects/ps-yeolab3/bay001/encode_temp2/redo_timedout1.sh.err-361', 'killed.')\n",
      "('/projects/ps-yeolab3/bay001/encode_temp2/redo_timedout3.sh.err-129', 'expecting')\n",
      "('/projects/ps-yeolab3/bay001/encode_temp2/redo_timedout2.sh.err-274', 'expecting')\n",
      "('/projects/ps-yeolab3/bay001/encode_temp2/redo_timedout4.sh.err-137', 'read')\n",
      "('/projects/ps-yeolab3/bay001/encode_temp2/redo_timedout4.sh.err-57', 'read')\n",
      "('/projects/ps-yeolab3/bay001/encode_temp2/redo_timedout2.sh.err-86', 'failed')\n",
      "('/projects/ps-yeolab3/bay001/encode_temp2/redo_timedout1.sh.err-378', 'failed')\n",
      "('/projects/ps-yeolab3/bay001/encode_temp2/redo_timedout3.sh.err-147', 'failed')\n",
      "('/projects/ps-yeolab3/bay001/encode_temp2/redo_timedout2.sh.err-283', 'read')\n",
      "('/projects/ps-yeolab3/bay001/encode_temp2/redo_timedout1.sh.err-295', 'failed')\n",
      "('/projects/ps-yeolab3/bay001/encode_temp2/redo_timedout2.sh.err-269', 'expecting')\n",
      "('/projects/ps-yeolab3/bay001/encode_temp2/redo_timedout1.sh.err-178', 'failed')\n",
      "('/projects/ps-yeolab3/bay001/encode_temp2/redo_timedout4.sh.err-53', 'killed.')\n",
      "('/projects/ps-yeolab3/bay001/encode_temp2/redo_timedout3.sh.err-391', 'expecting')\n",
      "('/projects/ps-yeolab3/bay001/encode_temp2/redo_timedout1.sh.err-318', 'read')\n",
      "('/projects/ps-yeolab3/bay001/encode_temp2/redo_timedout3.sh.err-127', 'read')\n",
      "('/projects/ps-yeolab3/bay001/encode_temp2/rerun_incomplete.sh.err-58', 'read')\n",
      "('/projects/ps-yeolab3/bay001/encode_temp2/redo_timedout3.sh.err-47', 'failed')\n",
      "('/projects/ps-yeolab3/bay001/encode_temp2/redo_timedout3.sh.err-452', 'failed')\n",
      "('/projects/ps-yeolab3/bay001/encode_temp2/redo_timedout4.sh.err-186', 'failed')\n",
      "('/projects/ps-yeolab3/bay001/encode_temp2/redo_timedout3.sh.err-378', 'read')\n",
      "('/projects/ps-yeolab3/bay001/encode_temp2/redo_timedout4.sh.err-237', 'read')\n",
      "('/projects/ps-yeolab3/bay001/encode_temp2/redo_timedout3.sh.err-436', 'read')\n",
      "('/projects/ps-yeolab3/bay001/encode_temp2/redo_timedout1.sh.err-201', 'read')\n",
      "('/projects/ps-yeolab3/bay001/encode_temp2/redo_timedout3.sh.err-473', 'failed')\n",
      "('/projects/ps-yeolab3/bay001/encode_temp2/redo_timedout4.sh.err-248', 'expecting')\n",
      "('/projects/ps-yeolab3/bay001/encode_temp2/redo_timedout2.sh.err-120', 'failed')\n",
      "('/projects/ps-yeolab3/bay001/encode_temp2/redo_timedout3.sh.err-434', 'expecting')\n",
      "('/projects/ps-yeolab3/bay001/encode_temp2/redo_timedout1.sh.err-405', 'failed')\n",
      "('/projects/ps-yeolab3/bay001/encode_temp2/redo_timedout1.sh.err-472', 'expecting')\n",
      "('/projects/ps-yeolab3/bay001/encode_temp2/redo_timedout2.sh.err-118', 'failed')\n",
      "('/projects/ps-yeolab3/bay001/encode_temp2/redo_timedout1.sh.err-94', 'failed')\n",
      "('/projects/ps-yeolab3/bay001/encode_temp2/redo_timedout1.sh.err-177', 'read')\n",
      "('/projects/ps-yeolab3/bay001/encode_temp2/redo_timedout2.sh.err-441', 'failed')\n",
      "('/projects/ps-yeolab3/bay001/encode_temp2/redo_timedout2.sh.err-208', 'failed')\n",
      "('/projects/ps-yeolab3/bay001/encode_temp2/redo_timedout2.sh.err-202', 'failed')\n",
      "('/projects/ps-yeolab3/bay001/encode_temp2/redo_timedout2.sh.err-396', 'failed')\n",
      "('/projects/ps-yeolab3/bay001/encode_temp2/redo_timedout2.sh.err-48', 'failed')\n",
      "('/projects/ps-yeolab3/bay001/encode_temp2/redo_timedout2.sh.err-278', 'expecting')\n",
      "('/projects/ps-yeolab3/bay001/encode_temp2/redo_timedout1.sh.err-429', 'killed.')\n",
      "('/projects/ps-yeolab3/bay001/encode_temp2/redo_timedout4.sh.err-42', 'expecting')\n",
      "('/projects/ps-yeolab3/bay001/encode_temp2/redo_timedout3.sh.err-45', 'failed')\n",
      "('/projects/ps-yeolab3/bay001/encode_temp2/redo_timedout2.sh.err-93', 'expecting')\n",
      "('/projects/ps-yeolab3/bay001/encode_temp2/redo_timedout3.sh.err-457', 'failed')\n",
      "('/projects/ps-yeolab3/bay001/encode_temp2/redo_timedout3.sh.err-184', 'expecting')\n",
      "('/projects/ps-yeolab3/bay001/encode_temp2/redo_timedout4.sh.err-103', 'failed')\n",
      "('/projects/ps-yeolab3/bay001/encode_temp2/redo_timedout1.sh.err-374', 'read')\n",
      "('/projects/ps-yeolab3/bay001/encode_temp2/redo_timedout2.sh.err-127', 'failed')\n",
      "('/projects/ps-yeolab3/bay001/encode_temp2/redo_timedout3.sh.err-274', 'expecting')\n",
      "('/projects/ps-yeolab3/bay001/encode_temp2/redo_timedout3.sh.err-199', 'read')\n",
      "('/projects/ps-yeolab3/bay001/encode_temp2/redo_timedout1.sh.err-155', 'expecting')\n",
      "('/projects/ps-yeolab3/bay001/encode_temp2/redo_timedout2.sh.err-292', 'expecting')\n",
      "('/projects/ps-yeolab3/bay001/encode_temp2/redo_timedout2.sh.err-102', 'failed')\n",
      "('/projects/ps-yeolab3/bay001/encode_temp2/redo_timedout1.sh.err-264', 'killed.')\n",
      "('/projects/ps-yeolab3/bay001/encode_temp2/redo_timedout1.sh.err-319', 'read')\n",
      "('/projects/ps-yeolab3/bay001/encode_temp2/redo_timedout1.sh.err-117', 'read')\n",
      "('/projects/ps-yeolab3/bay001/encode_temp2/redo_timedout1.sh.err-89', 'failed')\n",
      "('/projects/ps-yeolab3/bay001/encode_temp2/redo_timedout2.sh.err-499', 'failed')\n",
      "('/projects/ps-yeolab3/bay001/encode_temp2/redo_timedout3.sh.err-475', 'failed')\n",
      "('/projects/ps-yeolab3/bay001/encode_temp2/redo_timedout4.sh.err-274', 'expecting')\n",
      "('/projects/ps-yeolab3/bay001/encode_temp2/redo_timedout1.sh.err-74', 'failed')\n",
      "('/projects/ps-yeolab3/bay001/encode_temp2/redo_timedout1.sh.err-235', 'killed.')\n",
      "('/projects/ps-yeolab3/bay001/encode_temp2/redo_timedout1.sh.err-401', 'failed')\n",
      "('/projects/ps-yeolab3/bay001/encode_temp2/redo_timedout3.sh.err-273', 'float')\n",
      "('/projects/ps-yeolab3/bay001/encode_temp2/redo_timedout1.sh.err-46', 'failed')\n",
      "('/projects/ps-yeolab3/bay001/encode_temp2/redo_timedout2.sh.err-89', 'read')\n",
      "1869/|/100%|| 1869/1869 [00:21<00:00, 945.13it/s]"
     ]
    }
   ],
   "source": [
    "def was_killed(error_file):\n",
    "    with open(error_file,'r') as f:\n",
    "        for line in f:\n",
    "            if 'read' in line:\n",
    "                print(error_file, \"read\")\n",
    "                return True\n",
    "            elif 'Killed' in line:\n",
    "                print(error_file, \"killed.\")\n",
    "                return True\n",
    "            elif 'float' in line:\n",
    "                print(error_file, \"float\")\n",
    "                return True\n",
    "            elif 'failed' in line:\n",
    "                print(error_file, \"failed\")\n",
    "                return True\n",
    "            elif 'Expecting' in line:\n",
    "                print(error_file, 'expecting')\n",
    "                return True\n",
    "    return False\n",
    "\n",
    "def parse(fn):\n",
    "    bash_file = fn[:fn.find('.err')]\n",
    "    cmd_num = int(fn[fn.find('.err-')+5:])\n",
    "    return bash_file, cmd_num\n",
    "\n",
    "def get_cmd(bash_file, cmd_num):\n",
    "    with open(bash_file, 'r') as b:\n",
    "        for line in b:\n",
    "            if line.startswith('cmd[{}]='.format(cmd_num)):\n",
    "                cmd = line.split('\\\"')[1]\n",
    "                return cmd\n",
    "\n",
    "cmds_to_rerun = []\n",
    "\n",
    "error_files = glob.glob(os.path.join(out_dir, '*err-*'))\n",
    "print(\"num of error files produced: {}\".format(len(error_files)))\n",
    "\n",
    "progress = tnrange(len(error_files))\n",
    "for error_file in error_files:\n",
    "    if was_killed(error_file):\n",
    "        bash_file, cmd_num = parse(error_file)\n",
    "        cmds_to_rerun.append(get_cmd(bash_file, cmd_num)),\n",
    "    progress.update(1)"
   ]
  },
  {
   "cell_type": "code",
   "execution_count": 34,
   "metadata": {},
   "outputs": [
    {
     "name": "stderr",
     "output_type": "stream",
     "text": [
      "Wrote commands to /projects/ps-yeolab3/bay001/encode_temp2/rerun_incomplete2.sh.\n",
      "Submitted script to queue home-yeo.\n",
      " Job ID: 8986110\n"
     ]
    },
    {
     "data": {
      "text/plain": [
       "<qtools.submitter.Submitter at 0x2b34ed9b2b10>"
      ]
     },
     "execution_count": 34,
     "metadata": {},
     "output_type": "execute_result"
    }
   ],
   "source": [
    "jobname = \"rerun_incomplete2\"\n",
    "my_bash_file = os.path.join(out_dir,'rerun_incomplete2' + '.sh')\n",
    "    \n",
    "Submitter(\n",
    "    cmds_to_rerun, \n",
    "    jobname, \n",
    "    array=False,\n",
    "    nodes=1, \n",
    "    ppn=8, \n",
    "    walltime='6:00:00', \n",
    "    sh=my_bash_file, \n",
    "    submit=True, \n",
    "    queue='home-yeo'\n",
    ")"
   ]
  },
  {
   "cell_type": "markdown",
   "metadata": {
    "collapsed": true
   },
   "source": []
  },
  {
   "cell_type": "code",
   "execution_count": 14,
   "metadata": {
    "collapsed": true
   },
   "outputs": [],
   "source": []
  },
  {
   "cell_type": "code",
   "execution_count": null,
   "metadata": {
    "collapsed": true
   },
   "outputs": [],
   "source": []
  },
  {
   "cell_type": "code",
   "execution_count": null,
   "metadata": {
    "collapsed": true
   },
   "outputs": [],
   "source": []
  }
 ],
 "metadata": {
  "kernelspec": {
   "display_name": "Python 2",
   "language": "python",
   "name": "python2"
  },
  "language_info": {
   "codemirror_mode": {
    "name": "ipython",
    "version": 2
   },
   "file_extension": ".py",
   "mimetype": "text/x-python",
   "name": "python",
   "nbconvert_exporter": "python",
   "pygments_lexer": "ipython2",
   "version": "2.7.13"
  }
 },
 "nbformat": 4,
 "nbformat_minor": 2
}
