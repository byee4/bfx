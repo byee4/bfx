{
 "cells": [
  {
   "cell_type": "code",
   "execution_count": 1,
   "metadata": {
    "collapsed": true
   },
   "outputs": [],
   "source": [
    "# %matplotlib inline\n",
    "import pandas as pd\n",
    "import numpy as np\n",
    "import os\n",
    "import glob\n",
    "import matplotlib.pyplot as plt\n",
    "import seaborn as sns"
   ]
  },
  {
   "cell_type": "code",
   "execution_count": 2,
   "metadata": {
    "collapsed": true
   },
   "outputs": [],
   "source": [
    "wd = '/home/elvannostrand/data/ENCODE/integrated_paper/DEseq_fulloutput/'\n",
    "out_dir = '/home/bay001/projects/encode/analysis/integrated_cdf_plots/'\n",
    "all_CDS = glob.glob(os.path.join(wd,'*l2cutoff_CDS.txt'))\n",
    "all_3utr = glob.glob(os.path.join(wd,'*l2cutoff_3utr.txt'))\n",
    "all_5utr = glob.glob(os.path.join(wd,'*l2cutoff_5utr.txt'))"
   ]
  },
  {
   "cell_type": "code",
   "execution_count": 3,
   "metadata": {
    "collapsed": true
   },
   "outputs": [],
   "source": [
    "NAMES = ['gene','category','l2fc']\n",
    "label_dict = {\n",
    "    1:'>= 16-fold (n = N)',\n",
    "    2:'4 to 16-fold (n = N)',\n",
    "    3:'2 to 4-fold (n = N)',\n",
    "    4:'1 to 2-fold (n = N)',\n",
    "    5:'depleted (n = N)'\n",
    "}"
   ]
  },
  {
   "cell_type": "code",
   "execution_count": 4,
   "metadata": {
    "collapsed": true
   },
   "outputs": [],
   "source": [
    "num_bins = 100\n",
    "\n",
    "colors = sns.color_palette(\"hls\", 8)\n",
    "\n",
    "def plot_cdf(f, out_file):\n",
    "    fig, ax = plt.subplots(nrows=1, ncols=1, figsize=(7.5,7.5))\n",
    "        \n",
    "    df = pd.read_table(f, names=NAMES)\n",
    "    for i in range(1, 6):\n",
    "        dfx = df[df['category']==i].fillna(0)\n",
    "\n",
    "        n, bins, patches = plt.hist(\n",
    "            dfx['l2fc'], \n",
    "            normed=True, \n",
    "            cumulative=True, \n",
    "            histtype='step', \n",
    "            color=colors[i], \n",
    "            alpha=0, \n",
    "            bins=num_bins, \n",
    "        )\n",
    "        ax.plot(bins[1:], n, color=colors[i], label=label_dict[i].replace('N','{}'.format(dfx.shape[0])))\n",
    "        \n",
    "        nice_name = os.path.basename(f)\n",
    "        nice_name = nice_name.replace('_ReadsByLoc_combined.csv.l2fcwithpval_enr.csv.01_02_overlap_l2cutoff_',' - ')\n",
    "        nice_name = nice_name.replace('.txt','')\n",
    "        ax.set_title(nice_name.upper())\n",
    "        # ax.set_xlim(-5,5)\n",
    "    plt.legend()\n",
    "    plt.savefig(out_file)"
   ]
  },
  {
   "cell_type": "code",
   "execution_count": 5,
   "metadata": {},
   "outputs": [
    {
     "name": "stderr",
     "output_type": "stream",
     "text": [
      "/home/bay001/anaconda2/envs/brian/lib/python2.7/site-packages/matplotlib/font_manager.py:1297: UserWarning: findfont: Font family [u'sans-serif'] not found. Falling back to DejaVu Sans\n",
      "  (prop.get_family(), self.defaultFamily[fontext]))\n"
     ]
    }
   ],
   "source": [
    "for cds in all_CDS:\n",
    "    out_file = os.path.join(out_dir, os.path.basename(cds) + '.png')\n",
    "    plot_cdf(cds, out_file)\n",
    "for utr in all_3utr:\n",
    "    out_file = os.path.join(out_dir, os.path.basename(utr) + '.png')\n",
    "    plot_cdf(utr, out_file)\n",
    "for utr in all_5utr:\n",
    "    out_file = os.path.join(out_dir, os.path.basename(utr) + '.png')\n",
    "    plot_cdf(utr, out_file)"
   ]
  },
  {
   "cell_type": "code",
   "execution_count": null,
   "metadata": {
    "collapsed": true
   },
   "outputs": [],
   "source": []
  },
  {
   "cell_type": "code",
   "execution_count": null,
   "metadata": {
    "collapsed": true
   },
   "outputs": [],
   "source": []
  },
  {
   "cell_type": "code",
   "execution_count": null,
   "metadata": {
    "collapsed": true
   },
   "outputs": [],
   "source": []
  },
  {
   "cell_type": "code",
   "execution_count": null,
   "metadata": {
    "collapsed": true
   },
   "outputs": [],
   "source": []
  }
 ],
 "metadata": {
  "kernelspec": {
   "display_name": "Python 2",
   "language": "python",
   "name": "python2"
  },
  "language_info": {
   "codemirror_mode": {
    "name": "ipython",
    "version": 2
   },
   "file_extension": ".py",
   "mimetype": "text/x-python",
   "name": "python",
   "nbconvert_exporter": "python",
   "pygments_lexer": "ipython2",
   "version": "2.7.13"
  }
 },
 "nbformat": 4,
 "nbformat_minor": 2
}
