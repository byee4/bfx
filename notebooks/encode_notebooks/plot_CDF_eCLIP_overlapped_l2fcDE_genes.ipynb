{
 "cells": [
  {
   "cell_type": "code",
   "execution_count": 6,
   "metadata": {
    "collapsed": true
   },
   "outputs": [],
   "source": [
    "# %matplotlib inline\n",
    "import pandas as pd\n",
    "import numpy as np\n",
    "import os\n",
    "import glob\n",
    "import matplotlib.pyplot as plt\n",
    "import seaborn as sns\n",
    "from tqdm import tnrange, tqdm_notebook"
   ]
  },
  {
   "cell_type": "code",
   "execution_count": 7,
   "metadata": {},
   "outputs": [
    {
     "name": "stdout",
     "output_type": "stream",
     "text": [
      "len cds: 156\n",
      "len 3utr: 156\n",
      "len 5utr: 156\n"
     ]
    }
   ],
   "source": [
    "wd = '/home/elvannostrand/data/ENCODE/integrated_paper/DEseq_fulloutput/all_overlap_files/'\n",
    "out_dir = '/home/bay001/projects/encode/analysis/integrated_cdf_plots/'\n",
    "all_CDS = glob.glob(os.path.join(wd,'*l2cutoff_CDS.txt'))\n",
    "all_3utr = glob.glob(os.path.join(wd,'*l2cutoff_3utr.txt'))\n",
    "all_5utr = glob.glob(os.path.join(wd,'*l2cutoff_5utr.txt'))\n",
    "\n",
    "print('len cds: {}'.format(len(all_CDS)))\n",
    "print('len 3utr: {}'.format(len(all_3utr)))\n",
    "print('len 5utr: {}'.format(len(all_5utr)))"
   ]
  },
  {
   "cell_type": "code",
   "execution_count": 8,
   "metadata": {
    "collapsed": true
   },
   "outputs": [],
   "source": [
    "NAMES = ['gene','category','l2fc']\n",
    "label_dict = {\n",
    "    1:'>= 16-fold (n = N)',\n",
    "    2:'4 to 16-fold (n = N)',\n",
    "    3:'2 to 4-fold (n = N)',\n",
    "    4:'1 to 2-fold (n = N)',\n",
    "    5:'depleted (n = N)'\n",
    "}"
   ]
  },
  {
   "cell_type": "code",
   "execution_count": 9,
   "metadata": {
    "collapsed": true
   },
   "outputs": [],
   "source": [
    "num_bins = 100\n",
    "\n",
    "colors = sns.color_palette(\"hls\", 8)\n",
    "\n",
    "def plot_cdf(f, out_file):\n",
    "    fig, ax = plt.subplots(nrows=1, ncols=1, figsize=(7.5,7.5))\n",
    "        \n",
    "    df = pd.read_table(f, names=NAMES)\n",
    "    for i in range(1, 6):\n",
    "        dfx = df[df['category']==i].fillna(0)\n",
    "\n",
    "        n, bins, patches = plt.hist(\n",
    "            dfx['l2fc'], \n",
    "            normed=True, \n",
    "            cumulative=True, \n",
    "            histtype='step', \n",
    "            color=colors[i], \n",
    "            alpha=0, \n",
    "            bins=num_bins, \n",
    "        )\n",
    "        ax.plot(bins[1:], n, color=colors[i], label=label_dict[i].replace('N','{}'.format(dfx.shape[0])))\n",
    "        \n",
    "        nice_name = os.path.basename(f)\n",
    "        nice_name = nice_name.replace('_ReadsByLoc_combined.csv.l2fcwithpval_enr.csv.01_02_overlap_l2cutoff_',' - ')\n",
    "        nice_name = nice_name.replace('.txt','')\n",
    "        ax.set_title(nice_name.upper())\n",
    "        # ax.set_xlim(-5,5)\n",
    "    plt.legend()\n",
    "    plt.savefig(out_file)"
   ]
  },
  {
   "cell_type": "code",
   "execution_count": 10,
   "metadata": {},
   "outputs": [
    {
     "data": {
      "application/vnd.jupyter.widget-view+json": {
       "model_id": "03338835cc5c4cd7adfac88aee690183"
      }
     },
     "metadata": {},
     "output_type": "display_data"
    },
    {
     "name": "stderr",
     "output_type": "stream",
     "text": [
      "/home/bay001/anaconda2/envs/brian/lib/python2.7/site-packages/matplotlib/axes/_axes.py:6201: RuntimeWarning: invalid value encountered in true_divide\n",
      "  m = (m.astype(float) / db) / m.sum()\n",
      "/home/bay001/anaconda2/envs/brian/lib/python2.7/site-packages/matplotlib/font_manager.py:1297: UserWarning: findfont: Font family [u'sans-serif'] not found. Falling back to DejaVu Sans\n",
      "  (prop.get_family(), self.defaultFamily[fontext]))\n",
      "/home/bay001/anaconda2/envs/brian/lib/python2.7/site-packages/matplotlib/pyplot.py:524: RuntimeWarning: More than 20 figures have been opened. Figures created through the pyplot interface (`matplotlib.pyplot.figure`) are retained until explicitly closed and may consume too much memory. (To control this warning, see the rcParam `figure.max_open_warning`).\n",
      "  max_open_warning, RuntimeWarning)\n"
     ]
    },
    {
     "data": {
      "application/vnd.jupyter.widget-view+json": {
       "model_id": "8bb2baa086dc4e83ae246ed1e595b949"
      }
     },
     "metadata": {},
     "output_type": "display_data"
    },
    {
     "name": "stdout",
     "output_type": "stream",
     "text": [
      "\n"
     ]
    },
    {
     "data": {
      "application/vnd.jupyter.widget-view+json": {
       "model_id": "f5b3790b806c4bb69c48375a9b63b084"
      }
     },
     "metadata": {},
     "output_type": "display_data"
    }
   ],
   "source": [
    "progress = tnrange(len(all_CDS), desc='all cds')\n",
    "for cds in all_CDS:\n",
    "    out_file = os.path.join(out_dir, os.path.basename(cds) + '.png')\n",
    "    plot_cdf(cds, out_file)\n",
    "    progress.update(1)\n",
    "progress = tnrange(len(all_3utr), desc='all 3utr')\n",
    "for utr in all_3utr:\n",
    "    out_file = os.path.join(out_dir, os.path.basename(utr) + '.png')\n",
    "    plot_cdf(utr, out_file)\n",
    "    progress.update(1)\n",
    "progress = tnrange(len(all_5utr), desc='all 5utr')\n",
    "for utr in all_5utr:\n",
    "    out_file = os.path.join(out_dir, os.path.basename(utr) + '.png')\n",
    "    plot_cdf(utr, out_file)\n",
    "    progress.update(1)"
   ]
  },
  {
   "cell_type": "code",
   "execution_count": null,
   "metadata": {
    "collapsed": true
   },
   "outputs": [],
   "source": []
  },
  {
   "cell_type": "code",
   "execution_count": null,
   "metadata": {
    "collapsed": true
   },
   "outputs": [],
   "source": []
  },
  {
   "cell_type": "code",
   "execution_count": null,
   "metadata": {
    "collapsed": true
   },
   "outputs": [],
   "source": []
  },
  {
   "cell_type": "code",
   "execution_count": null,
   "metadata": {
    "collapsed": true
   },
   "outputs": [],
   "source": []
  }
 ],
 "metadata": {
  "kernelspec": {
   "display_name": "Python 2",
   "language": "python",
   "name": "python2"
  },
  "language_info": {
   "codemirror_mode": {
    "name": "ipython",
    "version": 2
   },
   "file_extension": ".py",
   "mimetype": "text/x-python",
   "name": "python",
   "nbconvert_exporter": "python",
   "pygments_lexer": "ipython2",
   "version": "2.7.13"
  }
 },
 "nbformat": 4,
 "nbformat_minor": 2
}
