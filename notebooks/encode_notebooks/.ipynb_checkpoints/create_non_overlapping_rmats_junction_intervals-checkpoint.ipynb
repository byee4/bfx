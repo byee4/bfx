{
 "cells": [
  {
   "cell_type": "markdown",
   "metadata": {
    "collapsed": true
   },
   "source": [
    "# Creates non-overlapping rmats skipped exon regions from an RMATS file.\n",
    "- the important stuff is that it subsets each overlapping exon"
   ]
  },
  {
   "cell_type": "code",
   "execution_count": null,
   "metadata": {
    "collapsed": true
   },
   "outputs": [],
   "source": []
  },
  {
   "cell_type": "code",
   "execution_count": 2,
   "metadata": {
    "collapsed": true
   },
   "outputs": [],
   "source": [
    "%matplotlib inline\n",
    "import matplotlib.pyplot as plt\n",
    "import seaborn as sns\n",
    "import pandas as pd\n",
    "import numpy as np\n",
    "import os\n",
    "import glob\n",
    "from tqdm import tnrange, tqdm_notebook\n",
    "import pybedtools\n",
    "\n",
    "pd.set_option('display.max_columns', 500)\n"
   ]
  },
  {
   "cell_type": "markdown",
   "metadata": {},
   "source": [
    "# get_average_of_overlapping_cassettes\n",
    "- merge bedtool\n",
    "- get intersection between bedfile and each nonoverlapping region from merge\n",
    "- break each intersected group into parts using intersect and groupby\n",
    "- overlapping regions will have the average dpsi value of the overlaps\n",
    "- nonoverlapping regions will retain their dpsi value"
   ]
  },
  {
   "cell_type": "markdown",
   "metadata": {},
   "source": [
    "# Test functions\n",
    "- these aren't really bedtools, these all return dataframes because they're visible. "
   ]
  },
  {
   "cell_type": "code",
   "execution_count": 3,
   "metadata": {
    "collapsed": true
   },
   "outputs": [],
   "source": [
    "def fake_completely_overlapping_bedtool():\n",
    "    intervals = []\n",
    "    intervals.append(pybedtools.create_interval_from_list([\n",
    "                'chr1', '500', '2500', 'big', '0.75', '+'\n",
    "            ]))\n",
    "    intervals.append(pybedtools.create_interval_from_list([\n",
    "                'chr1', '1000', '2000', 'small', '0.5', '+'\n",
    "            ]))\n",
    "    bedtool = pybedtools.BedTool(intervals).to_dataframe()\n",
    "    bedtool.columns = ['chr','exonStart_0base','exonEnd','geneSymbol','IncLevelDifference','strand']\n",
    "    return bedtool\n",
    "\n",
    "def fake_partially_overlapping_bedtool():\n",
    "    intervals = []\n",
    "    intervals.append(pybedtools.create_interval_from_list([\n",
    "                'chr1', '500', '1000', 'genex', '0.75', '+'\n",
    "            ]))\n",
    "    intervals.append(pybedtools.create_interval_from_list([\n",
    "                'chr1', '750', '1500', 'genex', '0.5', '+'\n",
    "            ]))\n",
    "    bedtool = pybedtools.BedTool(intervals).to_dataframe()\n",
    "    bedtool.columns = ['chr','exonStart_0base','exonEnd','geneSymbol','IncLevelDifference','strand']\n",
    "    return bedtool\n",
    "\n",
    "def fake_share_start_exon_bedtool():\n",
    "    intervals = []\n",
    "    intervals.append(pybedtools.create_interval_from_list([\n",
    "                'chr1', '500', '1000', 'genex', '0.75', '+'\n",
    "            ]))\n",
    "    intervals.append(pybedtools.create_interval_from_list([\n",
    "                'chr1', '500', '1500', 'genex', '0.5', '+'\n",
    "            ]))\n",
    "    bedtool = pybedtools.BedTool(intervals).to_dataframe()\n",
    "    bedtool.columns = ['chr','exonStart_0base','exonEnd','geneSymbol','IncLevelDifference','strand']\n",
    "    return bedtool\n",
    "\n",
    "def fake_share_end_exon_bedtool():\n",
    "    intervals = []\n",
    "    intervals.append(pybedtools.create_interval_from_list([\n",
    "                'chr1', '500', '1500', 'genex', '0.75', '+'\n",
    "            ]))\n",
    "    intervals.append(pybedtools.create_interval_from_list([\n",
    "                'chr1', '750', '1500', 'genex', '0.5', '+'\n",
    "            ]))\n",
    "    bedtool = pybedtools.BedTool(intervals).to_dataframe()\n",
    "    bedtool.columns = ['chr','exonStart_0base','exonEnd','geneSymbol','IncLevelDifference','strand']\n",
    "    return bedtool"
   ]
  },
  {
   "cell_type": "markdown",
   "metadata": {},
   "source": [
    "# The actual functions:"
   ]
  },
  {
   "cell_type": "code",
   "execution_count": 4,
   "metadata": {
    "collapsed": true
   },
   "outputs": [],
   "source": [
    "def make_rmats_bedtool(df):\n",
    "    \"\"\"\n",
    "    Uses the skipped exon start and end to create a bedtool\n",
    "    \"\"\"\n",
    "    df = df[['chr','exonStart_0base','exonEnd','geneSymbol','IncLevelDifference','strand']]\n",
    "    bt = pybedtools.BedTool.from_dataframe(df)\n",
    "    bt = bt.sort()\n",
    "    return bt\n",
    "\n",
    "def make_bedtool(df):\n",
    "    \"\"\"\n",
    "    I can't figure out why the BedTool() function isn't working...\n",
    "    Probably has something to do with turning positions into floats,\n",
    "    but this function is works just the same...\n",
    "    \"\"\"\n",
    "    intervals = []\n",
    "    \n",
    "    for col, row in df.iterrows():\n",
    "        intervals.append(\n",
    "            pybedtools.create_interval_from_list(\n",
    "                [str(row['chrom']), str(row['start']), \n",
    "                 str(row['end']), str(row['name']), \n",
    "                 str(row['score']), str(row['strand'])]\n",
    "            )\n",
    "        )\n",
    "    return pybedtools.BedTool(intervals)\n",
    "\n",
    "def redefine_regions(df):\n",
    "    \"\"\"\n",
    "    turns overlapping regions into distinct nonoverlapping regions.\n",
    "    \"\"\"\n",
    "    positions = []\n",
    "    intervals = []\n",
    "    for col, row in df.iterrows():\n",
    "        chrom = row['chrom']\n",
    "        strand = row['strand']\n",
    "        positions.append(row['start'])\n",
    "        positions.append(row['end'])\n",
    "    positions = sorted(set(positions))\n",
    "    for p in range(0, len(positions[:-1])):\n",
    "        intervals.append(pybedtools.create_interval_from_list(\n",
    "            [chrom, str(positions[p]), str(positions[p+1]), 'name', '0', strand]\n",
    "        ))\n",
    "    return pybedtools.BedTool(intervals)\n",
    "\n",
    "def rescore(to_split):\n",
    "    \"\"\"\n",
    "    Takes a dataframe of overlapping intervals, \n",
    "    and returns nonoverlapping regions, scored by \n",
    "    either taking the average of the original overlapping region,\n",
    "    or by taking the single score over the nonoverlapping\n",
    "    regions. \n",
    "    \"\"\"\n",
    "    name = to_split['name'].value_counts()[0] # just take the first name, i don't really care about the name part anyway\n",
    "    final_split = pd.DataFrame(\n",
    "        make_bedtool(to_split).intersect(\n",
    "            redefine_regions(to_split)).to_dataframe().groupby(\n",
    "            ['chrom','start','end','strand'])['score'].mean()\n",
    "        ).reset_index()\n",
    "    final_split['name'] = name\n",
    "    final_split = final_split[['chrom','start','end','name','score','strand']]\n",
    "    return final_split\n",
    "\n",
    "def full_wrapper(df):\n",
    "    \"\"\"\n",
    "    Takes a dataframe from an RMATS file and turns it into a BedTool.\n",
    "    \n",
    "    Calls 'pybedtools.cluster().to_dataframe()', which groups overlapping \n",
    "    regions using the 'thickStart' column.\n",
    "    \n",
    "    For each group, if there is only one region within the group, do nothing\n",
    "    (concat to merged). If there is more than one region, this means we have\n",
    "    overlapping intervals. Then it must call rescore() to split these regions\n",
    "    into nonoverlapping intervals. \n",
    "    \"\"\"\n",
    "    dfx = make_rmats_bedtool(df)\n",
    "    dfy = dfx.cluster().to_dataframe()\n",
    "    merged = pd.DataFrame(columns=['chrom','start','end','name','score','strand','thickStart'])\n",
    "    groups = set(dfy['thickStart'])\n",
    "    progress = tnrange(len(groups))\n",
    "    for g in groups:\n",
    "        dft = dfy[dfy['thickStart']==g] # get all overlapping regions\n",
    "        if dft.shape[0] > 1:\n",
    "            merged = pd.concat([merged, rescore(dft)])\n",
    "        else:\n",
    "            merged = pd.concat([merged, dft])\n",
    "        progress.update(1)\n",
    "    merged = merged[['chrom','start','end','name','score','strand']]\n",
    "    return merged"
   ]
  },
  {
   "cell_type": "code",
   "execution_count": null,
   "metadata": {
    "collapsed": true
   },
   "outputs": [],
   "source": []
  },
  {
   "cell_type": "markdown",
   "metadata": {},
   "source": [
    "# Test functions"
   ]
  },
  {
   "cell_type": "markdown",
   "metadata": {},
   "source": [
    "# region1 encompasses region2 fully"
   ]
  },
  {
   "cell_type": "code",
   "execution_count": 19,
   "metadata": {},
   "outputs": [
    {
     "data": {
      "text/html": [
       "<div>\n",
       "<style>\n",
       "    .dataframe thead tr:only-child th {\n",
       "        text-align: right;\n",
       "    }\n",
       "\n",
       "    .dataframe thead th {\n",
       "        text-align: left;\n",
       "    }\n",
       "\n",
       "    .dataframe tbody tr th {\n",
       "        vertical-align: top;\n",
       "    }\n",
       "</style>\n",
       "<table border=\"1\" class=\"dataframe\">\n",
       "  <thead>\n",
       "    <tr style=\"text-align: right;\">\n",
       "      <th></th>\n",
       "      <th>chr</th>\n",
       "      <th>exonStart_0base</th>\n",
       "      <th>exonEnd</th>\n",
       "      <th>geneSymbol</th>\n",
       "      <th>IncLevelDifference</th>\n",
       "      <th>strand</th>\n",
       "    </tr>\n",
       "  </thead>\n",
       "  <tbody>\n",
       "    <tr>\n",
       "      <th>0</th>\n",
       "      <td>chr1</td>\n",
       "      <td>500</td>\n",
       "      <td>2500</td>\n",
       "      <td>big</td>\n",
       "      <td>0.75</td>\n",
       "      <td>+</td>\n",
       "    </tr>\n",
       "    <tr>\n",
       "      <th>1</th>\n",
       "      <td>chr1</td>\n",
       "      <td>1000</td>\n",
       "      <td>2000</td>\n",
       "      <td>small</td>\n",
       "      <td>0.50</td>\n",
       "      <td>+</td>\n",
       "    </tr>\n",
       "  </tbody>\n",
       "</table>\n",
       "</div>"
      ],
      "text/plain": [
       "    chr  exonStart_0base  exonEnd geneSymbol  IncLevelDifference strand\n",
       "0  chr1              500     2500        big                0.75      +\n",
       "1  chr1             1000     2000      small                0.50      +"
      ]
     },
     "execution_count": 19,
     "metadata": {},
     "output_type": "execute_result"
    }
   ],
   "source": [
    "df = fake_completely_overlapping_bedtool()\n",
    "df"
   ]
  },
  {
   "cell_type": "code",
   "execution_count": 20,
   "metadata": {},
   "outputs": [
    {
     "data": {
      "application/vnd.jupyter.widget-view+json": {
       "model_id": "37c81241790a4e02a6dca55324a70914"
      }
     },
     "metadata": {},
     "output_type": "display_data"
    },
    {
     "name": "stdout",
     "output_type": "stream",
     "text": [
      "\n"
     ]
    },
    {
     "data": {
      "text/html": [
       "<div>\n",
       "<style>\n",
       "    .dataframe thead tr:only-child th {\n",
       "        text-align: right;\n",
       "    }\n",
       "\n",
       "    .dataframe thead th {\n",
       "        text-align: left;\n",
       "    }\n",
       "\n",
       "    .dataframe tbody tr th {\n",
       "        vertical-align: top;\n",
       "    }\n",
       "</style>\n",
       "<table border=\"1\" class=\"dataframe\">\n",
       "  <thead>\n",
       "    <tr style=\"text-align: right;\">\n",
       "      <th></th>\n",
       "      <th>chrom</th>\n",
       "      <th>start</th>\n",
       "      <th>end</th>\n",
       "      <th>name</th>\n",
       "      <th>score</th>\n",
       "      <th>strand</th>\n",
       "    </tr>\n",
       "  </thead>\n",
       "  <tbody>\n",
       "    <tr>\n",
       "      <th>0</th>\n",
       "      <td>chr1</td>\n",
       "      <td>500</td>\n",
       "      <td>1000</td>\n",
       "      <td>1</td>\n",
       "      <td>0.750</td>\n",
       "      <td>+</td>\n",
       "    </tr>\n",
       "    <tr>\n",
       "      <th>1</th>\n",
       "      <td>chr1</td>\n",
       "      <td>1000</td>\n",
       "      <td>2000</td>\n",
       "      <td>1</td>\n",
       "      <td>0.625</td>\n",
       "      <td>+</td>\n",
       "    </tr>\n",
       "    <tr>\n",
       "      <th>2</th>\n",
       "      <td>chr1</td>\n",
       "      <td>2000</td>\n",
       "      <td>2500</td>\n",
       "      <td>1</td>\n",
       "      <td>0.750</td>\n",
       "      <td>+</td>\n",
       "    </tr>\n",
       "  </tbody>\n",
       "</table>\n",
       "</div>"
      ],
      "text/plain": [
       "  chrom start   end name  score strand\n",
       "0  chr1   500  1000    1  0.750      +\n",
       "1  chr1  1000  2000    1  0.625      +\n",
       "2  chr1  2000  2500    1  0.750      +"
      ]
     },
     "execution_count": 20,
     "metadata": {},
     "output_type": "execute_result"
    }
   ],
   "source": [
    "full_wrapper(df)"
   ]
  },
  {
   "cell_type": "markdown",
   "metadata": {},
   "source": [
    "# exon1 start < exon2 start, exon1 end < exon2 end"
   ]
  },
  {
   "cell_type": "code",
   "execution_count": 8,
   "metadata": {},
   "outputs": [
    {
     "data": {
      "text/html": [
       "<div>\n",
       "<style>\n",
       "    .dataframe thead tr:only-child th {\n",
       "        text-align: right;\n",
       "    }\n",
       "\n",
       "    .dataframe thead th {\n",
       "        text-align: left;\n",
       "    }\n",
       "\n",
       "    .dataframe tbody tr th {\n",
       "        vertical-align: top;\n",
       "    }\n",
       "</style>\n",
       "<table border=\"1\" class=\"dataframe\">\n",
       "  <thead>\n",
       "    <tr style=\"text-align: right;\">\n",
       "      <th></th>\n",
       "      <th>chr</th>\n",
       "      <th>exonStart_0base</th>\n",
       "      <th>exonEnd</th>\n",
       "      <th>geneSymbol</th>\n",
       "      <th>IncLevelDifference</th>\n",
       "      <th>strand</th>\n",
       "    </tr>\n",
       "  </thead>\n",
       "  <tbody>\n",
       "    <tr>\n",
       "      <th>0</th>\n",
       "      <td>chr1</td>\n",
       "      <td>500</td>\n",
       "      <td>1000</td>\n",
       "      <td>genex</td>\n",
       "      <td>0.75</td>\n",
       "      <td>+</td>\n",
       "    </tr>\n",
       "    <tr>\n",
       "      <th>1</th>\n",
       "      <td>chr1</td>\n",
       "      <td>750</td>\n",
       "      <td>1500</td>\n",
       "      <td>genex</td>\n",
       "      <td>0.50</td>\n",
       "      <td>+</td>\n",
       "    </tr>\n",
       "  </tbody>\n",
       "</table>\n",
       "</div>"
      ],
      "text/plain": [
       "    chr  exonStart_0base  exonEnd geneSymbol  IncLevelDifference strand\n",
       "0  chr1              500     1000      genex                0.75      +\n",
       "1  chr1              750     1500      genex                0.50      +"
      ]
     },
     "execution_count": 8,
     "metadata": {},
     "output_type": "execute_result"
    }
   ],
   "source": [
    "df = fake_partially_overlapping_bedtool()\n",
    "df"
   ]
  },
  {
   "cell_type": "code",
   "execution_count": 9,
   "metadata": {},
   "outputs": [
    {
     "data": {
      "application/vnd.jupyter.widget-view+json": {
       "model_id": "0731176afa404b249231bb31a093d7c2"
      }
     },
     "metadata": {},
     "output_type": "display_data"
    },
    {
     "name": "stdout",
     "output_type": "stream",
     "text": [
      "\n"
     ]
    },
    {
     "data": {
      "text/html": [
       "<div>\n",
       "<style>\n",
       "    .dataframe thead tr:only-child th {\n",
       "        text-align: right;\n",
       "    }\n",
       "\n",
       "    .dataframe thead th {\n",
       "        text-align: left;\n",
       "    }\n",
       "\n",
       "    .dataframe tbody tr th {\n",
       "        vertical-align: top;\n",
       "    }\n",
       "</style>\n",
       "<table border=\"1\" class=\"dataframe\">\n",
       "  <thead>\n",
       "    <tr style=\"text-align: right;\">\n",
       "      <th></th>\n",
       "      <th>chrom</th>\n",
       "      <th>start</th>\n",
       "      <th>end</th>\n",
       "      <th>name</th>\n",
       "      <th>score</th>\n",
       "      <th>strand</th>\n",
       "    </tr>\n",
       "  </thead>\n",
       "  <tbody>\n",
       "    <tr>\n",
       "      <th>0</th>\n",
       "      <td>chr1</td>\n",
       "      <td>500</td>\n",
       "      <td>750</td>\n",
       "      <td>2</td>\n",
       "      <td>0.750</td>\n",
       "      <td>+</td>\n",
       "    </tr>\n",
       "    <tr>\n",
       "      <th>1</th>\n",
       "      <td>chr1</td>\n",
       "      <td>750</td>\n",
       "      <td>1000</td>\n",
       "      <td>2</td>\n",
       "      <td>0.625</td>\n",
       "      <td>+</td>\n",
       "    </tr>\n",
       "    <tr>\n",
       "      <th>2</th>\n",
       "      <td>chr1</td>\n",
       "      <td>1000</td>\n",
       "      <td>1500</td>\n",
       "      <td>2</td>\n",
       "      <td>0.500</td>\n",
       "      <td>+</td>\n",
       "    </tr>\n",
       "  </tbody>\n",
       "</table>\n",
       "</div>"
      ],
      "text/plain": [
       "  chrom start   end name  score strand\n",
       "0  chr1   500   750    2  0.750      +\n",
       "1  chr1   750  1000    2  0.625      +\n",
       "2  chr1  1000  1500    2  0.500      +"
      ]
     },
     "execution_count": 9,
     "metadata": {},
     "output_type": "execute_result"
    }
   ],
   "source": [
    "full_wrapper(df)"
   ]
  },
  {
   "cell_type": "markdown",
   "metadata": {},
   "source": [
    "# Share start exon"
   ]
  },
  {
   "cell_type": "code",
   "execution_count": 10,
   "metadata": {},
   "outputs": [
    {
     "data": {
      "text/html": [
       "<div>\n",
       "<style>\n",
       "    .dataframe thead tr:only-child th {\n",
       "        text-align: right;\n",
       "    }\n",
       "\n",
       "    .dataframe thead th {\n",
       "        text-align: left;\n",
       "    }\n",
       "\n",
       "    .dataframe tbody tr th {\n",
       "        vertical-align: top;\n",
       "    }\n",
       "</style>\n",
       "<table border=\"1\" class=\"dataframe\">\n",
       "  <thead>\n",
       "    <tr style=\"text-align: right;\">\n",
       "      <th></th>\n",
       "      <th>chr</th>\n",
       "      <th>exonStart_0base</th>\n",
       "      <th>exonEnd</th>\n",
       "      <th>geneSymbol</th>\n",
       "      <th>IncLevelDifference</th>\n",
       "      <th>strand</th>\n",
       "    </tr>\n",
       "  </thead>\n",
       "  <tbody>\n",
       "    <tr>\n",
       "      <th>0</th>\n",
       "      <td>chr1</td>\n",
       "      <td>500</td>\n",
       "      <td>1000</td>\n",
       "      <td>genex</td>\n",
       "      <td>0.75</td>\n",
       "      <td>+</td>\n",
       "    </tr>\n",
       "    <tr>\n",
       "      <th>1</th>\n",
       "      <td>chr1</td>\n",
       "      <td>500</td>\n",
       "      <td>1500</td>\n",
       "      <td>genex</td>\n",
       "      <td>0.50</td>\n",
       "      <td>+</td>\n",
       "    </tr>\n",
       "  </tbody>\n",
       "</table>\n",
       "</div>"
      ],
      "text/plain": [
       "    chr  exonStart_0base  exonEnd geneSymbol  IncLevelDifference strand\n",
       "0  chr1              500     1000      genex                0.75      +\n",
       "1  chr1              500     1500      genex                0.50      +"
      ]
     },
     "execution_count": 10,
     "metadata": {},
     "output_type": "execute_result"
    }
   ],
   "source": [
    "df = fake_share_start_exon_bedtool()\n",
    "df"
   ]
  },
  {
   "cell_type": "code",
   "execution_count": 11,
   "metadata": {},
   "outputs": [
    {
     "data": {
      "application/vnd.jupyter.widget-view+json": {
       "model_id": "0652dab9344d45da93b9b0249cc13102"
      }
     },
     "metadata": {},
     "output_type": "display_data"
    },
    {
     "name": "stdout",
     "output_type": "stream",
     "text": [
      "\n"
     ]
    },
    {
     "data": {
      "text/html": [
       "<div>\n",
       "<style>\n",
       "    .dataframe thead tr:only-child th {\n",
       "        text-align: right;\n",
       "    }\n",
       "\n",
       "    .dataframe thead th {\n",
       "        text-align: left;\n",
       "    }\n",
       "\n",
       "    .dataframe tbody tr th {\n",
       "        vertical-align: top;\n",
       "    }\n",
       "</style>\n",
       "<table border=\"1\" class=\"dataframe\">\n",
       "  <thead>\n",
       "    <tr style=\"text-align: right;\">\n",
       "      <th></th>\n",
       "      <th>chrom</th>\n",
       "      <th>start</th>\n",
       "      <th>end</th>\n",
       "      <th>name</th>\n",
       "      <th>score</th>\n",
       "      <th>strand</th>\n",
       "    </tr>\n",
       "  </thead>\n",
       "  <tbody>\n",
       "    <tr>\n",
       "      <th>0</th>\n",
       "      <td>chr1</td>\n",
       "      <td>500</td>\n",
       "      <td>1000</td>\n",
       "      <td>2</td>\n",
       "      <td>0.625</td>\n",
       "      <td>+</td>\n",
       "    </tr>\n",
       "    <tr>\n",
       "      <th>1</th>\n",
       "      <td>chr1</td>\n",
       "      <td>1000</td>\n",
       "      <td>1500</td>\n",
       "      <td>2</td>\n",
       "      <td>0.500</td>\n",
       "      <td>+</td>\n",
       "    </tr>\n",
       "  </tbody>\n",
       "</table>\n",
       "</div>"
      ],
      "text/plain": [
       "  chrom start   end name  score strand\n",
       "0  chr1   500  1000    2  0.625      +\n",
       "1  chr1  1000  1500    2  0.500      +"
      ]
     },
     "execution_count": 11,
     "metadata": {},
     "output_type": "execute_result"
    }
   ],
   "source": [
    "full_wrapper(df)"
   ]
  },
  {
   "cell_type": "markdown",
   "metadata": {},
   "source": [
    "# Share end exon"
   ]
  },
  {
   "cell_type": "code",
   "execution_count": 12,
   "metadata": {},
   "outputs": [
    {
     "data": {
      "text/html": [
       "<div>\n",
       "<style>\n",
       "    .dataframe thead tr:only-child th {\n",
       "        text-align: right;\n",
       "    }\n",
       "\n",
       "    .dataframe thead th {\n",
       "        text-align: left;\n",
       "    }\n",
       "\n",
       "    .dataframe tbody tr th {\n",
       "        vertical-align: top;\n",
       "    }\n",
       "</style>\n",
       "<table border=\"1\" class=\"dataframe\">\n",
       "  <thead>\n",
       "    <tr style=\"text-align: right;\">\n",
       "      <th></th>\n",
       "      <th>chr</th>\n",
       "      <th>exonStart_0base</th>\n",
       "      <th>exonEnd</th>\n",
       "      <th>geneSymbol</th>\n",
       "      <th>IncLevelDifference</th>\n",
       "      <th>strand</th>\n",
       "    </tr>\n",
       "  </thead>\n",
       "  <tbody>\n",
       "    <tr>\n",
       "      <th>0</th>\n",
       "      <td>chr1</td>\n",
       "      <td>500</td>\n",
       "      <td>1500</td>\n",
       "      <td>genex</td>\n",
       "      <td>0.75</td>\n",
       "      <td>+</td>\n",
       "    </tr>\n",
       "    <tr>\n",
       "      <th>1</th>\n",
       "      <td>chr1</td>\n",
       "      <td>750</td>\n",
       "      <td>1500</td>\n",
       "      <td>genex</td>\n",
       "      <td>0.50</td>\n",
       "      <td>+</td>\n",
       "    </tr>\n",
       "  </tbody>\n",
       "</table>\n",
       "</div>"
      ],
      "text/plain": [
       "    chr  exonStart_0base  exonEnd geneSymbol  IncLevelDifference strand\n",
       "0  chr1              500     1500      genex                0.75      +\n",
       "1  chr1              750     1500      genex                0.50      +"
      ]
     },
     "execution_count": 12,
     "metadata": {},
     "output_type": "execute_result"
    }
   ],
   "source": [
    "df = fake_share_end_exon_bedtool()\n",
    "df"
   ]
  },
  {
   "cell_type": "code",
   "execution_count": 13,
   "metadata": {},
   "outputs": [
    {
     "data": {
      "application/vnd.jupyter.widget-view+json": {
       "model_id": "d33cf682a18443418636c2dcc2075d03"
      }
     },
     "metadata": {},
     "output_type": "display_data"
    },
    {
     "name": "stdout",
     "output_type": "stream",
     "text": [
      "\n"
     ]
    },
    {
     "data": {
      "text/html": [
       "<div>\n",
       "<style>\n",
       "    .dataframe thead tr:only-child th {\n",
       "        text-align: right;\n",
       "    }\n",
       "\n",
       "    .dataframe thead th {\n",
       "        text-align: left;\n",
       "    }\n",
       "\n",
       "    .dataframe tbody tr th {\n",
       "        vertical-align: top;\n",
       "    }\n",
       "</style>\n",
       "<table border=\"1\" class=\"dataframe\">\n",
       "  <thead>\n",
       "    <tr style=\"text-align: right;\">\n",
       "      <th></th>\n",
       "      <th>chrom</th>\n",
       "      <th>start</th>\n",
       "      <th>end</th>\n",
       "      <th>name</th>\n",
       "      <th>score</th>\n",
       "      <th>strand</th>\n",
       "    </tr>\n",
       "  </thead>\n",
       "  <tbody>\n",
       "    <tr>\n",
       "      <th>0</th>\n",
       "      <td>chr1</td>\n",
       "      <td>500</td>\n",
       "      <td>750</td>\n",
       "      <td>2</td>\n",
       "      <td>0.750</td>\n",
       "      <td>+</td>\n",
       "    </tr>\n",
       "    <tr>\n",
       "      <th>1</th>\n",
       "      <td>chr1</td>\n",
       "      <td>750</td>\n",
       "      <td>1500</td>\n",
       "      <td>2</td>\n",
       "      <td>0.625</td>\n",
       "      <td>+</td>\n",
       "    </tr>\n",
       "  </tbody>\n",
       "</table>\n",
       "</div>"
      ],
      "text/plain": [
       "  chrom start   end name  score strand\n",
       "0  chr1   500   750    2  0.750      +\n",
       "1  chr1   750  1500    2  0.625      +"
      ]
     },
     "execution_count": 13,
     "metadata": {},
     "output_type": "execute_result"
    }
   ],
   "source": [
    "full_wrapper(df)"
   ]
  },
  {
   "cell_type": "code",
   "execution_count": null,
   "metadata": {
    "collapsed": true
   },
   "outputs": [],
   "source": []
  }
 ],
 "metadata": {
  "kernelspec": {
   "display_name": "Python 2",
   "language": "python",
   "name": "python2"
  },
  "language_info": {
   "codemirror_mode": {
    "name": "ipython",
    "version": 2
   },
   "file_extension": ".py",
   "mimetype": "text/x-python",
   "name": "python",
   "nbconvert_exporter": "python",
   "pygments_lexer": "ipython2",
   "version": "2.7.13"
  },
  "widgets": {
   "state": {
    "6079c144ceab4f47990ade2a0a9b3ff2": {
     "views": [
      {
       "cell_index": 31
      }
     ]
    },
    "64b8d7f670e6424099ecdc2467dceb14": {
     "views": [
      {
       "cell_index": 30
      }
     ]
    },
    "7b45ecfeca95437fa7f9b8ee90fd1f5d": {
     "views": [
      {
       "cell_index": 30
      }
     ]
    },
    "87e2c475e36b49e8a8e3ba52bcea1046": {
     "views": [
      {
       "cell_index": 35
      }
     ]
    },
    "bb2e709c5c9144e69c7803a688fb5dd2": {
     "views": [
      {
       "cell_index": 5
      }
     ]
    },
    "c3872c4709ff4725b34cfc4f16ecfd67": {
     "views": [
      {
       "cell_index": 17
      }
     ]
    },
    "d2aa8cc07059429f926273b13828a5b7": {
     "views": [
      {
       "cell_index": 35
      }
     ]
    },
    "dcbee1b49e464ab3aeade9ecfd1cfeb1": {
     "views": [
      {
       "cell_index": 23
      }
     ]
    },
    "df91b6c066d44d2380150de62be68d1d": {
     "views": [
      {
       "cell_index": 5
      }
     ]
    },
    "e19ab4d640cf42ae86dbfaf6dbe907bd": {
     "views": [
      {
       "cell_index": 20
      }
     ]
    },
    "e26a46336c89477b8dc69a2bf77fc183": {
     "views": [
      {
       "cell_index": 30
      }
     ]
    },
    "f6ba9e4b0c0347dfbc6a681631c26df7": {
     "views": [
      {
       "cell_index": 26
      }
     ]
    }
   },
   "version": "1.2.0"
  }
 },
 "nbformat": 4,
 "nbformat_minor": 1
}
