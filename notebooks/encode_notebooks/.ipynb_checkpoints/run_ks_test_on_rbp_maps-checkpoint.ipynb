{
 "cells": [
  {
   "cell_type": "code",
   "execution_count": 21,
   "metadata": {
    "collapsed": true
   },
   "outputs": [],
   "source": [
    "import pandas as pd\n",
    "import numpy as np\n",
    "import os\n",
    "import glob\n",
    "from tqdm import tnrange, tqdm_notebook"
   ]
  },
  {
   "cell_type": "code",
   "execution_count": 22,
   "metadata": {
    "collapsed": true
   },
   "outputs": [],
   "source": [
    "input_directory = '/projects/ps-yeolab3/bay001/maps/current/a3ss_nr/'\n",
    "all_positives = glob.glob(os.path.join(input_directory,\"*.positive.nr.normalize_and_per_region_subtract.csv\"))\n",
    "runner = '/home/bay001/projects/codebase/rbp-maps/maps/analysis/ks_plots.py'"
   ]
  },
  {
   "cell_type": "code",
   "execution_count": 23,
   "metadata": {
    "collapsed": false
   },
   "outputs": [],
   "source": [
    "def get_prefix(f):\n",
    "    return os.path.basename(f).split('.')[0]"
   ]
  },
  {
   "cell_type": "code",
   "execution_count": 24,
   "metadata": {
    "collapsed": false
   },
   "outputs": [],
   "source": [
    "progress = tnrange(len(all_positives))\n",
    "\n",
    "def stuff():\n",
    "    for p in all_positives:\n",
    "        try:\n",
    "            if \"HepG2\" in p:\n",
    "                n = glob.glob(\n",
    "                    os.path.join(\n",
    "                        os.path.dirname(p),\n",
    "                        \"{}*HepG2*.negative.nr.normalize_and_per_region_subtract.csv\".format(get_prefix(p))\n",
    "                    )\n",
    "                )[0]\n",
    "                c = glob.glob(\n",
    "                    os.path.join(\n",
    "                        os.path.dirname(p),\n",
    "                        \"{}*-background-center.normalize_and_per_region_subtract.csv\".format(get_prefix(p))\n",
    "                    )\n",
    "                )[0]\n",
    "            output_d_file = os.path.join(os.path.dirname(p), 'ks/{}.ks_nl10dvalues.txt'.format(get_prefix(p)))\n",
    "            output_p_file = os.path.join(os.path.dirname(p), 'ks/{}.ks_nl10pvalues.txt'.format(get_prefix(p)))\n",
    "            for condition in [p, n]:\n",
    "                cmd = 'python {} '.format(runner)\n",
    "                cmd = cmd + '--input {} '.format(condition)\n",
    "                cmd = cmd + '--control {} '.format(c)\n",
    "                cmd = cmd + '--p-output {} '.format(output_p_file)\n",
    "                cmd = cmd + '--d-output {} '.format(output_d_file)\n",
    "                ! $cmd\n",
    "        except Exception as e:\n",
    "            print(e, p)\n",
    "        progress.update(1)"
   ]
  },
  {
   "cell_type": "code",
   "execution_count": 25,
   "metadata": {
    "collapsed": false
   },
   "outputs": [
    {
     "name": "stdout",
     "output_type": "stream",
     "text": [
      "python /home/bay001/projects/codebase/rbp-maps/maps/analysis/ks_plots.py --input /projects/ps-yeolab3/bay001/maps/current/a3ss_nr/216_01_SRSF9.merged.r2.SRSF9-BGHLV12-HepG2-A3SS.MATS.JunctionCountOnly.positive.nr.normalize_and_per_region_subtract.csv --control /projects/ps-yeolab3/bay001/maps/current/a3ss_nr/216_01_SRSF9.merged.r2.HepG2-background-center.normalize_and_per_region_subtract.csv --p-output /projects/ps-yeolab3/bay001/maps/current/a3ss_nr/ks/216_01_SRSF9.ks_nl10pvalues.txt --d-output /projects/ps-yeolab3/bay001/maps/current/a3ss_nr/ks/216_01_SRSF9.ks_nl10dvalues.txt \n"
     ]
    },
    {
     "data": {
      "text/plain": [
       "0"
      ]
     },
     "execution_count": 25,
     "metadata": {},
     "output_type": "execute_result"
    }
   ],
   "source": [
    "stuff()"
   ]
  },
  {
   "cell_type": "code",
   "execution_count": null,
   "metadata": {
    "collapsed": true
   },
   "outputs": [],
   "source": []
  }
 ],
 "metadata": {
  "kernelspec": {
   "display_name": "Python 2",
   "language": "python",
   "name": "python2"
  },
  "language_info": {
   "codemirror_mode": {
    "name": "ipython",
    "version": 2
   },
   "file_extension": ".py",
   "mimetype": "text/x-python",
   "name": "python",
   "nbconvert_exporter": "python",
   "pygments_lexer": "ipython2",
   "version": "2.7.12"
  },
  "widgets": {
   "state": {
    "509b1d4b3ef2486e8f727b120ebd9fcb": {
     "views": [
      {
       "cell_index": 3
      }
     ]
    }
   },
   "version": "1.2.0"
  }
 },
 "nbformat": 4,
 "nbformat_minor": 1
}
