{
 "cells": [
  {
   "cell_type": "markdown",
   "metadata": {},
   "source": [
    "# Wrapper notebook for calling ks_plots script which runs ks test on "
   ]
  },
  {
   "cell_type": "code",
   "execution_count": null,
   "metadata": {
    "collapsed": true
   },
   "outputs": [],
   "source": [
    "import pandas as pd\n",
    "import numpy as np\n",
    "import os\n",
    "import glob\n",
    "from tqdm import tnrange, tqdm_notebook"
   ]
  },
  {
   "cell_type": "code",
   "execution_count": null,
   "metadata": {
    "collapsed": true
   },
   "outputs": [],
   "source": [
    "input_directory = '/projects/ps-yeolab3/bay001/maps/current/a3ss_nr/'\n",
    "runner = '/home/bay001/projects/codebase/rbp-maps/maps/analysis/ks_plots.py'"
   ]
  },
  {
   "cell_type": "code",
   "execution_count": null,
   "metadata": {},
   "outputs": [],
   "source": [
    "def get_prefix(f):\n",
    "    return os.path.basename(f).split('.')[0]"
   ]
  },
  {
   "cell_type": "code",
   "execution_count": null,
   "metadata": {},
   "outputs": [],
   "source": [
    "def run_a3ss_ks_tests():\n",
    "    input_directory = '/projects/ps-yeolab3/bay001/maps/current/a3ss_nr/'\n",
    "    all_positives = glob.glob(os.path.join(input_directory,\"*-longer-isoform-included-upon-knockdown.normalize_and_per_region_subtract.csv\"))\n",
    "    progress = tnrange(len(all_positives))\n",
    "\n",
    "    for p in all_positives:\n",
    "        try:\n",
    "            if \"HepG2\" in p:\n",
    "                cell = 'HepG2'\n",
    "            elif \"K562\" in p:\n",
    "                cell = 'K562'\n",
    "            else:\n",
    "                print(\"Warning, cell not found. defaulting to HepG2\")\n",
    "                cell = 'HepG2'\n",
    "            n = glob.glob(\n",
    "                os.path.join(\n",
    "                    os.path.dirname(p),\n",
    "                    \"{}*{}*-shorter-isoform-included-upon-knockdown.normalize_and_per_region_subtract.csv\".format(get_prefix(p), cell)\n",
    "                )\n",
    "            )[0]\n",
    "            c = glob.glob(\n",
    "                os.path.join(\n",
    "                    os.path.dirname(p),\n",
    "                    \"{}*{}*-mixed-psi-isoform-in-majority-of-controls.normalize_and_per_region_subtract.csv\".format(get_prefix(p), cell)\n",
    "                )\n",
    "            )[0]\n",
    "            output_d_file = os.path.join(os.path.dirname(p), 'ks/{}.ks_nl10dvalues.txt'.format(get_prefix(p)))\n",
    "            output_p_file = os.path.join(os.path.dirname(p), 'ks/{}.ks_nl10pvalues.txt'.format(get_prefix(p)))\n",
    "            for condition in [p, n]:\n",
    "                cmd = 'python {} '.format(runner)\n",
    "                cmd = cmd + '--input {} '.format(condition)\n",
    "                cmd = cmd + '--control {} '.format(c)\n",
    "                cmd = cmd + '--p-output {} '.format(output_p_file)\n",
    "                cmd = cmd + '--d-output {} '.format(output_d_file)\n",
    "                if not os.path.exists(output_p_file):\n",
    "                    ! $cmd\n",
    "        except Exception as e:\n",
    "            print(e, p)\n",
    "        progress.update(1)"
   ]
  },
  {
   "cell_type": "code",
   "execution_count": null,
   "metadata": {},
   "outputs": [],
   "source": [
    "run_a3ss_ks_tests()"
   ]
  },
  {
   "cell_type": "code",
   "execution_count": null,
   "metadata": {},
   "outputs": [],
   "source": [
    "def run_a5ss_ks_tests():\n",
    "    input_directory = '/projects/ps-yeolab3/bay001/maps/current/a5ss_nr/'\n",
    "    all_positives = glob.glob(os.path.join(input_directory,\"*-longer-isoform-included-upon-knockdown.normalize_and_per_region_subtract.csv\"))\n",
    "    progress = tnrange(len(all_positives))\n",
    "    for p in all_positives:\n",
    "        try:\n",
    "            if \"HepG2\" in p:\n",
    "                cell = 'HepG2'\n",
    "            elif \"K562\" in p:\n",
    "                cell = 'K562'\n",
    "            else:\n",
    "                print(\"Warning, cell not found. defaulting to HepG2\")\n",
    "                cell = 'HepG2'\n",
    "            n = glob.glob(\n",
    "                os.path.join(\n",
    "                    os.path.dirname(p),\n",
    "                    \"{}*{}*-shorter-isoform-included-upon-knockdown.normalize_and_per_region_subtract.csv\".format(get_prefix(p), cell)\n",
    "                )\n",
    "            )[0]\n",
    "            c = glob.glob(\n",
    "                os.path.join(\n",
    "                    os.path.dirname(p),\n",
    "                    \"{}*{}*-mixed-psi-isoform-in-majority-of-controls.normalize_and_per_region_subtract.csv\".format(get_prefix(p), cell)\n",
    "                )\n",
    "            )[0]\n",
    "            output_d_file = os.path.join(os.path.dirname(p), 'ks/{}.ks_nl10dvalues.txt'.format(get_prefix(p)))\n",
    "            output_p_file = os.path.join(os.path.dirname(p), 'ks/{}.ks_nl10pvalues.txt'.format(get_prefix(p)))\n",
    "            for condition in [p, n]:\n",
    "                cmd = 'python {} '.format(runner)\n",
    "                cmd = cmd + '--input {} '.format(condition)\n",
    "                cmd = cmd + '--control {} '.format(c)\n",
    "                cmd = cmd + '--p-output {} '.format(output_p_file)\n",
    "                cmd = cmd + '--d-output {} '.format(output_d_file)\n",
    "                if not os.path.exists(output_p_file):\n",
    "                    ! $cmd\n",
    "        except Exception as e:\n",
    "            print(e, p)\n",
    "        progress.update(1)\n",
    "run_a5ss_ks_tests()"
   ]
  },
  {
   "cell_type": "code",
   "execution_count": null,
   "metadata": {
    "collapsed": true
   },
   "outputs": [],
   "source": []
  },
  {
   "cell_type": "code",
   "execution_count": null,
   "metadata": {},
   "outputs": [],
   "source": [
    "def run_ri_ks_tests():\n",
    "    input_directory = '/projects/ps-yeolab3/bay001/maps/current/ri_nr/'\n",
    "    all_positives = glob.glob(os.path.join(input_directory,\"*-included-upon-knockdown.normalize_and_per_region_subtract.csv\"))\n",
    "    progress = tnrange(len(all_positives))\n",
    "    for p in all_positives:\n",
    "        try:\n",
    "            if \"HepG2\" in p:\n",
    "                cell = 'HepG2'\n",
    "            elif \"K562\" in p:\n",
    "                cell = 'K562'\n",
    "            else:\n",
    "                print(\"Warning, cell not found. defaulting to HepG2\")\n",
    "                cell = 'HepG2'\n",
    "            n = glob.glob(\n",
    "                os.path.join(\n",
    "                    os.path.dirname(p),\n",
    "                    \"{}*{}*-excluded-upon-knockdown.normalize_and_per_region_subtract.csv\".format(get_prefix(p), cell)\n",
    "                )\n",
    "            )[0]\n",
    "            c = glob.glob(\n",
    "                os.path.join(\n",
    "                    os.path.dirname(p),\n",
    "                    \"{}*-greater-than-50-percent-retained-and-spliced-combined.normalize_and_per_region_subtract.csv\".format(get_prefix(p))\n",
    "                )\n",
    "            )[0]\n",
    "            output_d_file = os.path.join(os.path.dirname(p), 'ks/{}.ks_nl10dvalues.txt'.format(get_prefix(p)))\n",
    "            output_p_file = os.path.join(os.path.dirname(p), 'ks/{}.ks_nl10pvalues.txt'.format(get_prefix(p)))\n",
    "            for condition in [p, n]:\n",
    "                cmd = 'python {} '.format(runner)\n",
    "                cmd = cmd + '--input {} '.format(condition)\n",
    "                cmd = cmd + '--control {} '.format(c)\n",
    "                cmd = cmd + '--p-output {} '.format(output_p_file)\n",
    "                cmd = cmd + '--d-output {} '.format(output_d_file)\n",
    "                if not os.path.exists(output_p_file):\n",
    "                    ! $cmd\n",
    "        except Exception as e:\n",
    "            print(e, p)\n",
    "        progress.update(1)\n",
    "run_ri_ks_tests()"
   ]
  },
  {
   "cell_type": "code",
   "execution_count": null,
   "metadata": {
    "collapsed": true
   },
   "outputs": [],
   "source": []
  },
  {
   "cell_type": "code",
   "execution_count": null,
   "metadata": {},
   "outputs": [],
   "source": [
    "def run_se_ks_tests():\n",
    "    input_directory = '/projects/ps-yeolab3/bay001/maps/current/se_nr/'\n",
    "    all_positives = glob.glob(os.path.join(input_directory,\"*.positive.nr.normalize_and_per_region_subtract.csv\"))\n",
    "    progress = tnrange(len(all_positives))\n",
    "    for p in all_positives:\n",
    "        try:\n",
    "            if \"HepG2\" in p:\n",
    "                cell = 'HepG2'\n",
    "            elif \"K562\" in p:\n",
    "                cell = 'K562'\n",
    "            else:\n",
    "                print(\"Warning, cell not found. defaulting to HepG2\")\n",
    "                cell = 'HepG2'\n",
    "            n = glob.glob(\n",
    "                os.path.join(\n",
    "                    os.path.dirname(p),\n",
    "                    \"{}*{}*.negative.nr.normalize_and_per_region_subtract.csv\".format(get_prefix(p), cell)\n",
    "                )\n",
    "            )[0]\n",
    "            c = glob.glob(\n",
    "                os.path.join(\n",
    "                    os.path.dirname(p),\n",
    "                    # \"{}*{}*.nSE_0.5.normalize_and_per_region_subtract.csv\".format(get_prefix(p), cell) # this was renamed somehow\n",
    "                    \"{}*{}*.nSEall_0.normalize_and_per_region_subtract.csv\".format(get_prefix(p), cell.lower())\n",
    "                )\n",
    "            )[0]\n",
    "            \n",
    "            output_d_file = os.path.join(os.path.dirname(p), 'ks/{}.ks_nl10dvalues.txt'.format(get_prefix(p)))\n",
    "            output_p_file = os.path.join(os.path.dirname(p), 'ks/{}.ks_nl10pvalues.txt'.format(get_prefix(p)))\n",
    "            for condition in [p, n]:\n",
    "                cmd = 'python {} '.format(runner)\n",
    "                cmd = cmd + '--input {} '.format(condition)\n",
    "                cmd = cmd + '--control {} '.format(c)\n",
    "                cmd = cmd + '--p-output {} '.format(output_p_file)\n",
    "                cmd = cmd + '--d-output {} '.format(output_d_file)\n",
    "                if not os.path.exists(output_p_file):\n",
    "                    ! $cmd\n",
    "        except Exception as e:\n",
    "            print(e, p, n)\n",
    "        progress.update(1)\n",
    "run_se_ks_tests()"
   ]
  },
  {
   "cell_type": "code",
   "execution_count": null,
   "metadata": {
    "collapsed": true
   },
   "outputs": [],
   "source": []
  }
 ],
 "metadata": {
  "kernelspec": {
   "display_name": "Python 2",
   "language": "python",
   "name": "python2"
  },
  "language_info": {
   "codemirror_mode": {
    "name": "ipython",
    "version": 2
   },
   "file_extension": ".py",
   "mimetype": "text/x-python",
   "name": "python",
   "nbconvert_exporter": "python",
   "pygments_lexer": "ipython2",
   "version": "2.7.13"
  },
  "widgets": {
   "state": {
    "2579710592ba4676a9de28a908ce43ae": {
     "views": [
      {
       "cell_index": 9
      }
     ]
    },
    "7ee65e5d6386422f906c0d54aa3c3792": {
     "views": [
      {
       "cell_index": 7
      }
     ]
    },
    "b0eb88fba8b14fed8a7f0ff1e755eefd": {
     "views": [
      {
       "cell_index": 4
      }
     ]
    },
    "d183cd86cf5a4b65ba901029dc926e8a": {
     "views": [
      {
       "cell_index": 5
      }
     ]
    }
   },
   "version": "1.2.0"
  }
 },
 "nbformat": 4,
 "nbformat_minor": 1
}
