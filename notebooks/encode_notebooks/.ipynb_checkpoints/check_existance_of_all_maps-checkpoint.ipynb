{
 "cells": [
  {
   "cell_type": "code",
   "execution_count": 6,
   "metadata": {
    "collapsed": true
   },
   "outputs": [],
   "source": [
    "import pandas as pd\n",
    "import numpy as np\n",
    "import os\n",
    "import glob\n",
    "from collections import defaultdict"
   ]
  },
  {
   "cell_type": "code",
   "execution_count": 2,
   "metadata": {
    "collapsed": true
   },
   "outputs": [],
   "source": [
    "directory = '/projects/ps-yeolab3/bay001/maps/current/a3ss_nr'\n",
    "images = glob.glob(os.path.join(directory, \"*.svg\"))"
   ]
  },
  {
   "cell_type": "code",
   "execution_count": 3,
   "metadata": {
    "collapsed": false
   },
   "outputs": [
    {
     "data": {
      "text/plain": [
       "229"
      ]
     },
     "execution_count": 3,
     "metadata": {},
     "output_type": "execute_result"
    }
   ],
   "source": [
    "len(images)"
   ]
  },
  {
   "cell_type": "code",
   "execution_count": 4,
   "metadata": {
    "collapsed": false
   },
   "outputs": [
    {
     "data": {
      "text/plain": [
       "['/projects/ps-yeolab3/bay001/maps/current/a3ss_nr/340_01_TARDBP.merged.r2.svg',\n",
       " '/projects/ps-yeolab3/bay001/maps/current/a3ss_nr/405_01_NONO.merged.r2.svg',\n",
       " '/projects/ps-yeolab3/bay001/maps/current/a3ss_nr/358_02_GNL3.merged.r2.svg',\n",
       " '/projects/ps-yeolab3/bay001/maps/current/a3ss_nr/539_02_NOL12.merged.r2.svg',\n",
       " '/projects/ps-yeolab3/bay001/maps/current/a3ss_nr/678_02_HNRNPL.merged.r2.svg']"
      ]
     },
     "execution_count": 4,
     "metadata": {},
     "output_type": "execute_result"
    }
   ],
   "source": [
    "images[:5]"
   ]
  },
  {
   "cell_type": "code",
   "execution_count": 24,
   "metadata": {
    "collapsed": true
   },
   "outputs": [],
   "source": [
    "def get_reps(line):\n",
    "    prefix = os.path.basename(line).split('.')[0]\n",
    "    elements = prefix.split('_')\n",
    "    if len(elements) != 3:\n",
    "        uid = elements[0]\n",
    "        rep = elements[1]\n",
    "        rbp = elements[3]\n",
    "    else:\n",
    "        uid = elements[0]\n",
    "        rep = elements[1]\n",
    "        rbp = elements[2]\n",
    "    return rep\n",
    "\n",
    "def get_prefix(line):\n",
    "    prefix = os.path.basename(line).split('.')[0]\n",
    "    elements = prefix.split('_')\n",
    "    if len(elements) != 3:\n",
    "        uid = elements[0]\n",
    "        rep = elements[1]\n",
    "        rbp = elements[3]\n",
    "    else:\n",
    "        uid = elements[0]\n",
    "        rep = elements[1]\n",
    "        rbp = elements[2]\n",
    "    return uid\n",
    "\n",
    "def get_rbp(line):\n",
    "    prefix = os.path.basename(line).split('.')[0]\n",
    "    elements = prefix.split('_')\n",
    "    if len(elements) != 3:\n",
    "        uid = elements[0]\n",
    "        rep = elements[1]\n",
    "        rbp = elements[3]\n",
    "    else:\n",
    "        uid = elements[0]\n",
    "        rep = elements[1]\n",
    "        rbp = elements[2]\n",
    "    return rbp"
   ]
  },
  {
   "cell_type": "code",
   "execution_count": 18,
   "metadata": {
    "collapsed": false
   },
   "outputs": [],
   "source": [
    "prefix = defaultdict(list)\n",
    "for i in images:\n",
    "    prefix[get_prefix(i)].append(get_reps(i))\n",
    "    "
   ]
  },
  {
   "cell_type": "code",
   "execution_count": 19,
   "metadata": {
    "collapsed": false
   },
   "outputs": [
    {
     "data": {
      "text/plain": [
       "defaultdict(list,\n",
       "            {'203': ['02'],\n",
       "             '204': ['02', '01'],\n",
       "             '206': ['02', '01'],\n",
       "             '211': ['02', '01'],\n",
       "             '215': ['01', '02'],\n",
       "             '216': ['01', '02'],\n",
       "             '218': ['01', '02'],\n",
       "             '222': ['01', '02'],\n",
       "             '224': ['02', '01'],\n",
       "             '226': ['01', '02'],\n",
       "             '228': ['01', '02'],\n",
       "             '230': ['02', '01'],\n",
       "             '235': ['02', '01'],\n",
       "             '236': ['01', '02'],\n",
       "             '237': ['01', '02'],\n",
       "             '240': ['02', '01'],\n",
       "             '241': ['01', '02'],\n",
       "             '242': ['01', '02'],\n",
       "             '244': ['01', '02'],\n",
       "             '247': ['01', '02'],\n",
       "             '249': ['02', '01'],\n",
       "             '258': ['02', '01'],\n",
       "             '260': ['02', '01'],\n",
       "             '262': ['02', '01'],\n",
       "             '267': ['01', '02'],\n",
       "             '271': ['01'],\n",
       "             '272': ['02', '01'],\n",
       "             '278': ['02', '01'],\n",
       "             '279': ['02', '01'],\n",
       "             '280': ['01', '02'],\n",
       "             '281': ['02', '01'],\n",
       "             '282': ['01', '02'],\n",
       "             '283': ['01', '02'],\n",
       "             '285': ['02', '01'],\n",
       "             '289': ['01', '02'],\n",
       "             '291': ['02', '01'],\n",
       "             '298': ['01', '02'],\n",
       "             '301': ['02', '01'],\n",
       "             '312': ['01', '02'],\n",
       "             '315': ['02', '01'],\n",
       "             '321': ['02', '01'],\n",
       "             '326': ['01', '02'],\n",
       "             '331': ['01', '02'],\n",
       "             '332': ['02', '01'],\n",
       "             '339': ['01', '02'],\n",
       "             '340': ['01', '02'],\n",
       "             '341': ['02', '01'],\n",
       "             '344': ['02', '01'],\n",
       "             '345': ['01', '02'],\n",
       "             '350': ['01', '02'],\n",
       "             '353': ['01', '02'],\n",
       "             '354': ['02', '01'],\n",
       "             '358': ['02', '01'],\n",
       "             '366': ['02', '01'],\n",
       "             '367': ['02', '01'],\n",
       "             '368': ['02', '01'],\n",
       "             '388': ['02', '01'],\n",
       "             '390': ['02', '01'],\n",
       "             '405': ['01', '02'],\n",
       "             '425': ['02', '01'],\n",
       "             '437': ['01', '02'],\n",
       "             '441': ['01', '02'],\n",
       "             '450': ['02', '01'],\n",
       "             '461': ['01', '02'],\n",
       "             '464': ['02', '01'],\n",
       "             '477': ['02', '01'],\n",
       "             '478': ['01', '02'],\n",
       "             '492': ['02', '01'],\n",
       "             '493': ['01', '02'],\n",
       "             '494': ['01', '02'],\n",
       "             '495': ['01', '02'],\n",
       "             '501': ['02', '01'],\n",
       "             '506': ['01', '02'],\n",
       "             '507': ['01', '02'],\n",
       "             '508': ['01', '02'],\n",
       "             '509': ['02', '01'],\n",
       "             '514': ['02', '01'],\n",
       "             '516': ['01', '02'],\n",
       "             '537': ['02'],\n",
       "             '539': ['02', '01'],\n",
       "             '540': ['02', '01'],\n",
       "             '543': ['02', '01'],\n",
       "             '544': ['01', '02'],\n",
       "             '546': ['02', '01'],\n",
       "             '552': ['02', '01'],\n",
       "             '556': ['02', '01'],\n",
       "             '558': ['01', '02'],\n",
       "             '560': ['02', '01'],\n",
       "             '566': ['02', '01'],\n",
       "             '571': ['02', '01'],\n",
       "             '575': ['02', '01'],\n",
       "             '582': ['02', '01'],\n",
       "             '589': ['02', '01'],\n",
       "             '592': ['01', '02'],\n",
       "             '595': ['02', '01'],\n",
       "             '596': ['02', '01'],\n",
       "             '610': ['01', '02'],\n",
       "             '614': ['01', '02'],\n",
       "             '617': ['01', '02'],\n",
       "             '625': ['02', '01'],\n",
       "             '626': ['01', '02'],\n",
       "             '629': ['01', '02'],\n",
       "             '631': ['02', '01'],\n",
       "             '650': ['01', '02'],\n",
       "             '652': ['02', '01'],\n",
       "             '654': ['02', '01'],\n",
       "             '655': ['01', '02'],\n",
       "             '658': ['02', '01'],\n",
       "             '668': ['02', '01'],\n",
       "             '677': ['01', '02'],\n",
       "             '678': ['02', '01'],\n",
       "             '679': ['01', '02'],\n",
       "             '682': ['02', '01'],\n",
       "             '684': ['02', '01'],\n",
       "             '693': ['01', '02'],\n",
       "             '696': ['02', '01']})"
      ]
     },
     "execution_count": 19,
     "metadata": {},
     "output_type": "execute_result"
    }
   ],
   "source": [
    "prefix"
   ]
  },
  {
   "cell_type": "code",
   "execution_count": null,
   "metadata": {
    "collapsed": true
   },
   "outputs": [],
   "source": []
  },
  {
   "cell_type": "code",
   "execution_count": 49,
   "metadata": {
    "collapsed": false
   },
   "outputs": [
    {
     "data": {
      "text/plain": [
       "414"
      ]
     },
     "execution_count": 49,
     "metadata": {},
     "output_type": "execute_result"
    }
   ],
   "source": [
    "directory = '/projects/ps-yeolab3/bay001/maps/current/a5ss_nr'\n",
    "rawdensities = glob.glob(os.path.join(directory, \"*MATS*.ip.raw_density.csv\"))\n",
    "len(rawdensities)"
   ]
  },
  {
   "cell_type": "code",
   "execution_count": 51,
   "metadata": {
    "collapsed": false
   },
   "outputs": [
    {
     "name": "stdout",
     "output_type": "stream",
     "text": [
      "('367', 'YWHAG', 'NPM1')\n",
      "('684', 'ZC3H11A', 'DHX30')\n",
      "('540', 'RPS3', 'NOL12')\n",
      "('366', 'TRNC6A', 'NPM1')\n",
      "('358', 'GNL3', 'NPM1')\n",
      "('390', 'DDX20', 'XRN2')\n",
      "('341', 'DGCR8', 'TARDBP')\n",
      "('341', 'DGCR8', 'TARDBP')\n",
      "rm: cannot remove `/projects/ps-yeolab3/bay001/maps/current/a5ss_nr/341_*': No such file or directory\n",
      "('390', 'DDX20', 'XRN2')\n",
      "rm: cannot remove `/projects/ps-yeolab3/bay001/maps/current/a5ss_nr/390_*': No such file or directory\n",
      "('358', 'GNL3', 'NPM1')\n",
      "rm: cannot remove `/projects/ps-yeolab3/bay001/maps/current/a5ss_nr/358_*': No such file or directory\n",
      "('684', 'ZC3H11A', 'DHX30')\n",
      "rm: cannot remove `/projects/ps-yeolab3/bay001/maps/current/a5ss_nr/684_*': No such file or directory\n",
      "('366', 'TRNC6A', 'NPM1')\n",
      "rm: cannot remove `/projects/ps-yeolab3/bay001/maps/current/a5ss_nr/366_*': No such file or directory\n",
      "('540', 'RPS3', 'NOL12')\n",
      "rm: cannot remove `/projects/ps-yeolab3/bay001/maps/current/a5ss_nr/540_*': No such file or directory\n",
      "('367', 'YWHAG', 'NPM1')\n",
      "rm: cannot remove `/projects/ps-yeolab3/bay001/maps/current/a5ss_nr/367_*': No such file or directory\n",
      "('367', 'YWHAG', 'NPM1')\n",
      "rm: cannot remove `/projects/ps-yeolab3/bay001/maps/current/a5ss_nr/367_*': No such file or directory\n",
      "('332', 'RBM27', 'RBM22')\n",
      "('684', 'ZC3H11A', 'DHX30')\n",
      "rm: cannot remove `/projects/ps-yeolab3/bay001/maps/current/a5ss_nr/684_*': No such file or directory\n",
      "('341', 'DGCR8', 'TARDBP')\n",
      "rm: cannot remove `/projects/ps-yeolab3/bay001/maps/current/a5ss_nr/341_*': No such file or directory\n",
      "('390', 'DDX20', 'XRN2')\n",
      "rm: cannot remove `/projects/ps-yeolab3/bay001/maps/current/a5ss_nr/390_*': No such file or directory\n",
      "('543', 'AGGF1', 'NOL12')\n",
      "('332', 'RBM27', 'RBM22')\n",
      "rm: cannot remove `/projects/ps-yeolab3/bay001/maps/current/a5ss_nr/332_*': No such file or directory\n",
      "('447', 'RO60-TROVE2', '')\n",
      "('543', 'AGGF1', 'NOL12')\n",
      "rm: cannot remove `/projects/ps-yeolab3/bay001/maps/current/a5ss_nr/543_*': No such file or directory\n",
      "('366', 'TRNC6A', 'NPM1')\n",
      "rm: cannot remove `/projects/ps-yeolab3/bay001/maps/current/a5ss_nr/366_*': No such file or directory\n",
      "('540', 'RPS3', 'NOL12')\n",
      "rm: cannot remove `/projects/ps-yeolab3/bay001/maps/current/a5ss_nr/540_*': No such file or directory\n",
      "('447', 'RO60-TROVE2', '')\n",
      "rm: cannot remove `/projects/ps-yeolab3/bay001/maps/current/a5ss_nr/447_*': No such file or directory\n",
      "('358', 'GNL3', 'NPM1')\n",
      "rm: cannot remove `/projects/ps-yeolab3/bay001/maps/current/a5ss_nr/358_*': No such file or directory\n",
      "('358', 'GNL3', 'NPM1')\n",
      "rm: cannot remove `/projects/ps-yeolab3/bay001/maps/current/a5ss_nr/358_*': No such file or directory\n",
      "('447', 'RO60-TROVE2', '')\n",
      "rm: cannot remove `/projects/ps-yeolab3/bay001/maps/current/a5ss_nr/447_*': No such file or directory\n",
      "('332', 'RBM27', 'RBM22')\n",
      "rm: cannot remove `/projects/ps-yeolab3/bay001/maps/current/a5ss_nr/332_*': No such file or directory\n",
      "('447', 'RO60-TROVE2', '')\n",
      "rm: cannot remove `/projects/ps-yeolab3/bay001/maps/current/a5ss_nr/447_*': No such file or directory\n",
      "('540', 'RPS3', 'NOL12')\n",
      "rm: cannot remove `/projects/ps-yeolab3/bay001/maps/current/a5ss_nr/540_*': No such file or directory\n",
      "('366', 'TRNC6A', 'NPM1')\n",
      "rm: cannot remove `/projects/ps-yeolab3/bay001/maps/current/a5ss_nr/366_*': No such file or directory\n",
      "('543', 'AGGF1', 'NOL12')\n",
      "rm: cannot remove `/projects/ps-yeolab3/bay001/maps/current/a5ss_nr/543_*': No such file or directory\n",
      "('390', 'DDX20', 'XRN2')\n",
      "rm: cannot remove `/projects/ps-yeolab3/bay001/maps/current/a5ss_nr/390_*': No such file or directory\n",
      "('543', 'AGGF1', 'NOL12')\n",
      "rm: cannot remove `/projects/ps-yeolab3/bay001/maps/current/a5ss_nr/543_*': No such file or directory\n",
      "('341', 'DGCR8', 'TARDBP')\n",
      "rm: cannot remove `/projects/ps-yeolab3/bay001/maps/current/a5ss_nr/341_*': No such file or directory\n",
      "('684', 'ZC3H11A', 'DHX30')\n",
      "rm: cannot remove `/projects/ps-yeolab3/bay001/maps/current/a5ss_nr/684_*': No such file or directory\n",
      "('332', 'RBM27', 'RBM22')\n",
      "rm: cannot remove `/projects/ps-yeolab3/bay001/maps/current/a5ss_nr/332_*': No such file or directory\n",
      "('367', 'YWHAG', 'NPM1')\n",
      "rm: cannot remove `/projects/ps-yeolab3/bay001/maps/current/a5ss_nr/367_*': No such file or directory\n"
     ]
    }
   ],
   "source": [
    "def check_secondary_id(filename):\n",
    "    filename = os.path.basename(filename)\n",
    "    return filename[filename.find('.r2.')+4:filename.find('-')]\n",
    "\n",
    "for raw in rawdensities:\n",
    "    rbp = get_rbp(raw)\n",
    "    uid = get_prefix(raw)\n",
    "    secondary = check_secondary_id(raw)\n",
    "    if rbp != secondary:\n",
    "        \n",
    "        remove = os.path.join(directory, \"{}_*\".format(uid))\n",
    "        print(uid, rbp, secondary, remove)\n",
    "        # ! rm $remove"
   ]
  },
  {
   "cell_type": "code",
   "execution_count": 42,
   "metadata": {
    "collapsed": false
   },
   "outputs": [
    {
     "data": {
      "text/plain": [
       "'TIA1'"
      ]
     },
     "execution_count": 42,
     "metadata": {},
     "output_type": "execute_result"
    }
   ],
   "source": [
    "prefix"
   ]
  },
  {
   "cell_type": "code",
   "execution_count": 43,
   "metadata": {
    "collapsed": false
   },
   "outputs": [
    {
     "data": {
      "text/plain": [
       "'TIA1'"
      ]
     },
     "execution_count": 43,
     "metadata": {},
     "output_type": "execute_result"
    }
   ],
   "source": [
    "secondary"
   ]
  },
  {
   "cell_type": "code",
   "execution_count": null,
   "metadata": {
    "collapsed": true
   },
   "outputs": [],
   "source": []
  }
 ],
 "metadata": {
  "kernelspec": {
   "display_name": "Python 2",
   "language": "python",
   "name": "python2"
  },
  "language_info": {
   "codemirror_mode": {
    "name": "ipython",
    "version": 2
   },
   "file_extension": ".py",
   "mimetype": "text/x-python",
   "name": "python",
   "nbconvert_exporter": "python",
   "pygments_lexer": "ipython2",
   "version": "2.7.12"
  }
 },
 "nbformat": 4,
 "nbformat_minor": 1
}
