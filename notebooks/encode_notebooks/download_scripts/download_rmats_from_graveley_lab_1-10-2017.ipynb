{
 "cells": [
  {
   "cell_type": "code",
   "execution_count": 1,
   "metadata": {},
   "outputs": [],
   "source": [
    "import pandas as pd\n",
    "import numpy as np\n",
    "import os\n",
    "import csv"
   ]
  },
  {
   "cell_type": "markdown",
   "metadata": {},
   "source": [
    "# This code really sucks, I'm going to redo it below:"
   ]
  },
  {
   "cell_type": "raw",
   "metadata": {},
   "source": [
    "def target(row):\n",
    "    return row['src'].replace('http://graveleylab.cam.uchc.edu/ENCODE/ENCODE_DATA/set37/rmats/novel_juncs/','-O]').replace(\n",
    "        'http://graveleylab.cam.uchc.edu/ENCODE/ENCODE_DATA/BGHcLV05/rmats/novel_juncs/','-O]').replace(\n",
    "        'http://graveleylab.cam.uchc.edu/ENCODE/ENCODE_DATA/set36/rmats/novel_juncs/','-O]').replace(\n",
    "        'http://graveleylab.cam.uchc.edu/ENCODE/ENCODE_DATA/set38/rmats/novel_juncs/','-O]').replace(\n",
    "        'http://graveleylab.cam.uchc.edu/ENCODE/ENCODE_DATA/BGKcLV04/rmats/novel_juncs/','-O]').replace(\n",
    "        '/MATS_output/','-')\n",
    "    \n",
    "df = pd.read_table('/projects/ps-yeolab3/encode/rnaseq/alt_splicing/graveley_rmats_1-10-2017/rmats_output_fileNames.txt.download',\n",
    "                  names=['src'])\n",
    "df['target'] = df.apply(target,axis=1)\n",
    "\n",
    "df['src'] = 'wget]' + df['src']\n",
    "df.to_csv('/projects/ps-yeolab3/encode/rnaseq/alt_splicing/graveley_rmats_1-10-2017/rmats_output_fileNames.sh',\n",
    "         sep=' ',index=False,header=False,quoting=csv.QUOTE_NONE,quotechar='')\n",
    "df"
   ]
  },
  {
   "cell_type": "code",
   "execution_count": 2,
   "metadata": {},
   "outputs": [],
   "source": [
    "from_xintao = '/projects/ps-yeolab3/encode/rnaseq/alt_splicing/rmats_output_fileNames.20170110.txt'\n",
    "output_file = '/projects/ps-yeolab3/encode/rnaseq/alt_splicing/rmats_output_fileNames.20170110.sh'\n",
    "output_dir = '/projects/ps-yeolab3/encode/rnaseq/alt_splicing/graveley_rmats_current'"
   ]
  },
  {
   "cell_type": "code",
   "execution_count": 3,
   "metadata": {},
   "outputs": [
    {
     "name": "stdout",
     "output_type": "stream",
     "text": [
      "file exists in directory: /projects/ps-yeolab3/encode/rnaseq/alt_splicing/graveley_rmats_current/AKAP1-BGHLV12-HepG2.set12.SE.MATS.JunctionCountOnly.txt\n",
      "file exists in directory: /projects/ps-yeolab3/encode/rnaseq/alt_splicing/graveley_rmats_current/AKAP1-BGHLV12-HepG2.set12.MXE.MATS.JunctionCountOnly.txt\n",
      "file exists in directory: /projects/ps-yeolab3/encode/rnaseq/alt_splicing/graveley_rmats_current/AKAP1-BGHLV12-HepG2.set12.A5SS.MATS.JunctionCountOnly.txt\n",
      "file exists in directory: /projects/ps-yeolab3/encode/rnaseq/alt_splicing/graveley_rmats_current/AKAP1-BGHLV12-HepG2.set12.A3SS.MATS.JunctionCountOnly.txt\n",
      "file exists in directory: /projects/ps-yeolab3/encode/rnaseq/alt_splicing/graveley_rmats_current/AKAP1-BGHLV12-HepG2.set12.RI.MATS.JunctionCountOnly.txt\n",
      "file exists in directory: /projects/ps-yeolab3/encode/rnaseq/alt_splicing/graveley_rmats_current/ASCC1-BGHLV12-HepG2.set12.SE.MATS.JunctionCountOnly.txt\n",
      "file exists in directory: /projects/ps-yeolab3/encode/rnaseq/alt_splicing/graveley_rmats_current/ASCC1-BGHLV12-HepG2.set12.MXE.MATS.JunctionCountOnly.txt\n",
      "file exists in directory: /projects/ps-yeolab3/encode/rnaseq/alt_splicing/graveley_rmats_current/ASCC1-BGHLV12-HepG2.set12.A5SS.MATS.JunctionCountOnly.txt\n",
      "file exists in directory: /projects/ps-yeolab3/encode/rnaseq/alt_splicing/graveley_rmats_current/ASCC1-BGHLV12-HepG2.set12.A3SS.MATS.JunctionCountOnly.txt\n",
      "file exists in directory: /projects/ps-yeolab3/encode/rnaseq/alt_splicing/graveley_rmats_current/ASCC1-BGHLV12-HepG2.set12.RI.MATS.JunctionCountOnly.txt\n",
      "file exists in directory: /projects/ps-yeolab3/encode/rnaseq/alt_splicing/graveley_rmats_current/CIRBP-BGHLV12-HepG2.set12.SE.MATS.JunctionCountOnly.txt\n"
     ]
    }
   ],
   "source": [
    "o = open(output_file, 'w')\n",
    "target_files = {} # make sure we don't overwrite files\n",
    "with open(from_xintao, 'r') as f:\n",
    "    for line in f:\n",
    "        if line.startswith('http://'):\n",
    "            filename_segments = line.rstrip().split('/')\n",
    "            splice_event = filename_segments[-1:][0]\n",
    "            set_num = filename_segments[-6]\n",
    "            rbp = filename_segments[-3:-2][0]\n",
    "            target_file = os.path.join(output_dir, '{}.{}.{}'.format(rbp, set_num, splice_event))\n",
    "            if os.path.exists(target_file):\n",
    "                print(\"file exists in directory: {}\".format(target_file))\n",
    "            elif target_file in target_files.keys():\n",
    "                print(\"duplicated output filename: {}\".format(target_file))\n",
    "            else:\n",
    "                target_files[target_file] = 1 \n",
    "                o.write(\"wget {} -O {};\\n\".format(\n",
    "                    line.rstrip(), target_file\n",
    "                ))\n",
    "o.close()"
   ]
  },
  {
   "cell_type": "code",
   "execution_count": null,
   "metadata": {},
   "outputs": [],
   "source": []
  },
  {
   "cell_type": "code",
   "execution_count": null,
   "metadata": {},
   "outputs": [],
   "source": []
  },
  {
   "cell_type": "code",
   "execution_count": null,
   "metadata": {},
   "outputs": [],
   "source": []
  }
 ],
 "metadata": {
  "kernelspec": {
   "display_name": "Python 2",
   "language": "python",
   "name": "python2"
  },
  "language_info": {
   "codemirror_mode": {
    "name": "ipython",
    "version": 2
   },
   "file_extension": ".py",
   "mimetype": "text/x-python",
   "name": "python",
   "nbconvert_exporter": "python",
   "pygments_lexer": "ipython2",
   "version": "2.7.14"
  }
 },
 "nbformat": 4,
 "nbformat_minor": 1
}
