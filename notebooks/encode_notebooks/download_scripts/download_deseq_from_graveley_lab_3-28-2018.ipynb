{
 "cells": [
  {
   "cell_type": "code",
   "execution_count": 1,
   "metadata": {},
   "outputs": [],
   "source": [
    "import pandas as pd\n",
    "import os\n",
    "import re\n",
    "import glob\n",
    "from tqdm import tnrange, tqdm_notebook"
   ]
  },
  {
   "cell_type": "code",
   "execution_count": null,
   "metadata": {},
   "outputs": [],
   "source": []
  },
  {
   "cell_type": "code",
   "execution_count": 2,
   "metadata": {},
   "outputs": [],
   "source": [
    "wd = '/projects/ps-yeolab3/encode/rnaseq/differential_expression/'\n",
    "output_dir = '/projects/ps-yeolab3/encode/rnaseq/differential_expression/DESeq_output/20180329/'\n",
    "h = open(os.path.join(output_dir,'HepG2_files_20180329.txt.download'),'w')\n",
    "k = open(os.path.join(output_dir,'K562_files_20180329.txt.download'),'w')\n",
    "\n",
    "h.write('#!/bin/bash\\n')\n",
    "k.write('#!/bin/bash\\n')\n",
    "\n",
    "with open(os.path.join(wd,'DESeq_file_URLs.20180329.txt'),'r') as f:\n",
    "    for line in f:\n",
    "        if line.startswith('http:'):\n",
    "            parts = line.split('/')\n",
    "            if parts[-2:-1][0] == 'HepG2':\n",
    "                output_file = 'HepG2_' + os.path.basename(line.rstrip())\n",
    "                h.write('wget {} -O {}\\n'.format(line.rstrip(), output_file))\n",
    "            elif parts[-2:-1][0] == 'K562':\n",
    "                output_file = 'K562_' + os.path.basename(line.rstrip())\n",
    "                k.write('wget {} -O {}\\n'.format(line.rstrip(), output_file))\n",
    "            else:\n",
    "                print(parts[-2:-1][0])\n",
    "h.close()\n",
    "k.close()"
   ]
  },
  {
   "cell_type": "code",
   "execution_count": null,
   "metadata": {},
   "outputs": [],
   "source": []
  }
 ],
 "metadata": {
  "kernelspec": {
   "display_name": "Python 2",
   "language": "python",
   "name": "python2"
  },
  "language_info": {
   "codemirror_mode": {
    "name": "ipython",
    "version": 2
   },
   "file_extension": ".py",
   "mimetype": "text/x-python",
   "name": "python",
   "nbconvert_exporter": "python",
   "pygments_lexer": "ipython2",
   "version": "2.7.14"
  }
 },
 "nbformat": 4,
 "nbformat_minor": 1
}
