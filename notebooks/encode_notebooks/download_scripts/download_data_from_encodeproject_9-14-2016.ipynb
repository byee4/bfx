{
 "cells": [
  {
   "cell_type": "code",
   "execution_count": 1,
   "metadata": {
    "collapsed": false
   },
   "outputs": [],
   "source": [
    "import pandas\n",
    "import urllib\n",
    "import json\n",
    "import requests\n",
    "import os\n",
    "host = 'https://www.encodeproject.org'\n",
    "experiments = \"https://www.encodeproject.org/experiments/\"\n",
    "sample_manifest = '/home/bay001/projects/encode/permanent_data/rna_seq_file_manifest_from_website.txt'\n",
    "control_manifest = '/home/bay001/projects/encode/permanent_data/rna_seq_control_file_manifest_from_website.txt'\n",
    "combined_sample_and_control_manifest = '/home/bay001/projects/encode/permanent_data/rna_seq_manifest.txt'\n",
    "out_dir = '/projects/ps-yeolab3/encode/rnaseq/differential_expression/'\n",
    "out_dir2 = '/oasis/tscc/scratch/bay001/encode/data/'\n",
    "to_download = '/home/bay001/projects/encode/permanent_data/to_download_9-14-2016.sh'\n",
    "to_download2 = '/home/bay001/projects/encode/permanent_data/to_download2_9-14-2016.sh'"
   ]
  },
  {
   "cell_type": "markdown",
   "metadata": {},
   "source": [
    "### You'll need and manifest file from Eric that has complete imformation on the RBP, Cell Type, CLIP and RNASeq Encode IDs for the experiments. The experiment IDS contain a Accession ID for the whole experiment and then individual ENC IDs for each replicate ( KD and control ). This goes for both CLIP and RNASeq. You'll also need the bam IDs for each replicate"
   ]
  },
  {
   "cell_type": "code",
   "execution_count": 2,
   "metadata": {
    "collapsed": true
   },
   "outputs": [],
   "source": [
    "def star_or_tophat(link):\n",
    "    if os.path.basename(link).find('star') > -1:\n",
    "        return 'STAR'\n",
    "    if os.path.basename(link).find('tophat') > -1:\n",
    "        return 'TOPHAT'\n",
    "    return 'ambiguous'"
   ]
  },
  {
   "cell_type": "code",
   "execution_count": 3,
   "metadata": {
    "collapsed": false
   },
   "outputs": [
    {
     "name": "stdout",
     "output_type": "stream",
     "text": [
      "(6678, 48)\n"
     ]
    }
   ],
   "source": [
    "X = pandas.read_table('/home/bay001/projects/encode/permanent_data/metadata_from_encodeprojectorg_9-11-2016.tsv')\n",
    "X.head(2)\n",
    "print(X.shape)"
   ]
  },
  {
   "cell_type": "code",
   "execution_count": 4,
   "metadata": {
    "collapsed": false
   },
   "outputs": [],
   "source": [
    "X = X[X['Output type']=='alignments']\n",
    "X = X[X['Lab']==\"ENCODE Processing Pipeline\"]"
   ]
  },
  {
   "cell_type": "markdown",
   "metadata": {},
   "source": [
    "##### Julia found some BAMs that exist on ENCODEPROJECT.ORG but do not show up in my manifest. Are they in Gabe's manifest?\n",
    " "
   ]
  },
  {
   "cell_type": "code",
   "execution_count": 5,
   "metadata": {
    "collapsed": false
   },
   "outputs": [
    {
     "data": {
      "text/html": [
       "<div>\n",
       "<table border=\"1\" class=\"dataframe\">\n",
       "  <thead>\n",
       "    <tr style=\"text-align: right;\">\n",
       "      <th></th>\n",
       "      <th>File accession</th>\n",
       "      <th>File format</th>\n",
       "      <th>Output type</th>\n",
       "      <th>Experiment accession</th>\n",
       "      <th>Assay</th>\n",
       "      <th>Biosample term id</th>\n",
       "      <th>Biosample term name</th>\n",
       "      <th>Biosample type</th>\n",
       "      <th>Biosample life stage</th>\n",
       "      <th>Biosample sex</th>\n",
       "      <th>...</th>\n",
       "      <th>md5sum</th>\n",
       "      <th>File download URL</th>\n",
       "      <th>Assembly</th>\n",
       "      <th>Platform</th>\n",
       "      <th>Controlled by</th>\n",
       "      <th>File Status</th>\n",
       "      <th>Audit WARNING</th>\n",
       "      <th>Audit INTERNAL_ACTION</th>\n",
       "      <th>Audit NOT_COMPLIANT</th>\n",
       "      <th>Audit ERROR</th>\n",
       "    </tr>\n",
       "  </thead>\n",
       "  <tbody>\n",
       "    <tr>\n",
       "      <th>5140</th>\n",
       "      <td>ENCFF083QIO</td>\n",
       "      <td>bam</td>\n",
       "      <td>alignments</td>\n",
       "      <td>ENCSR031RRO</td>\n",
       "      <td>shRNA knockdown followed by RNA-seq</td>\n",
       "      <td>EFO:0002067</td>\n",
       "      <td>K562</td>\n",
       "      <td>immortalized cell line</td>\n",
       "      <td>adult</td>\n",
       "      <td>female</td>\n",
       "      <td>...</td>\n",
       "      <td>68c99b5c960a870136f0b37bade491c3</td>\n",
       "      <td>https://www.encodeproject.org/files/ENCFF083QI...</td>\n",
       "      <td>GRCh38</td>\n",
       "      <td>NaN</td>\n",
       "      <td>NaN</td>\n",
       "      <td>released</td>\n",
       "      <td>NaN</td>\n",
       "      <td>NTR assay</td>\n",
       "      <td>NaN</td>\n",
       "      <td>NaN</td>\n",
       "    </tr>\n",
       "    <tr>\n",
       "      <th>5141</th>\n",
       "      <td>ENCFF419UWR</td>\n",
       "      <td>bam</td>\n",
       "      <td>alignments</td>\n",
       "      <td>ENCSR031RRO</td>\n",
       "      <td>shRNA knockdown followed by RNA-seq</td>\n",
       "      <td>EFO:0002067</td>\n",
       "      <td>K562</td>\n",
       "      <td>immortalized cell line</td>\n",
       "      <td>adult</td>\n",
       "      <td>female</td>\n",
       "      <td>...</td>\n",
       "      <td>bf19a65b6c88fe3a09ef9e9f42588148</td>\n",
       "      <td>https://www.encodeproject.org/files/ENCFF419UW...</td>\n",
       "      <td>GRCh38</td>\n",
       "      <td>NaN</td>\n",
       "      <td>NaN</td>\n",
       "      <td>released</td>\n",
       "      <td>NaN</td>\n",
       "      <td>NTR assay</td>\n",
       "      <td>NaN</td>\n",
       "      <td>NaN</td>\n",
       "    </tr>\n",
       "    <tr>\n",
       "      <th>5142</th>\n",
       "      <td>ENCFF519WJE</td>\n",
       "      <td>bam</td>\n",
       "      <td>alignments</td>\n",
       "      <td>ENCSR031RRO</td>\n",
       "      <td>shRNA knockdown followed by RNA-seq</td>\n",
       "      <td>EFO:0002067</td>\n",
       "      <td>K562</td>\n",
       "      <td>immortalized cell line</td>\n",
       "      <td>adult</td>\n",
       "      <td>female</td>\n",
       "      <td>...</td>\n",
       "      <td>b0a137276bfa9ce899449e291ec8776c</td>\n",
       "      <td>https://www.encodeproject.org/files/ENCFF519WJ...</td>\n",
       "      <td>GRCh38</td>\n",
       "      <td>NaN</td>\n",
       "      <td>NaN</td>\n",
       "      <td>released</td>\n",
       "      <td>NaN</td>\n",
       "      <td>NTR assay</td>\n",
       "      <td>NaN</td>\n",
       "      <td>NaN</td>\n",
       "    </tr>\n",
       "    <tr>\n",
       "      <th>5144</th>\n",
       "      <td>ENCFF272FNP</td>\n",
       "      <td>bam</td>\n",
       "      <td>alignments</td>\n",
       "      <td>ENCSR031RRO</td>\n",
       "      <td>shRNA knockdown followed by RNA-seq</td>\n",
       "      <td>EFO:0002067</td>\n",
       "      <td>K562</td>\n",
       "      <td>immortalized cell line</td>\n",
       "      <td>adult</td>\n",
       "      <td>female</td>\n",
       "      <td>...</td>\n",
       "      <td>6ab2b574554ead07ff80d55f16c18d0c</td>\n",
       "      <td>https://www.encodeproject.org/files/ENCFF272FN...</td>\n",
       "      <td>GRCh38</td>\n",
       "      <td>NaN</td>\n",
       "      <td>NaN</td>\n",
       "      <td>released</td>\n",
       "      <td>NaN</td>\n",
       "      <td>NTR assay</td>\n",
       "      <td>NaN</td>\n",
       "      <td>NaN</td>\n",
       "    </tr>\n",
       "    <tr>\n",
       "      <th>5146</th>\n",
       "      <td>ENCFF148XKW</td>\n",
       "      <td>bam</td>\n",
       "      <td>alignments</td>\n",
       "      <td>ENCSR031RRO</td>\n",
       "      <td>shRNA knockdown followed by RNA-seq</td>\n",
       "      <td>EFO:0002067</td>\n",
       "      <td>K562</td>\n",
       "      <td>immortalized cell line</td>\n",
       "      <td>adult</td>\n",
       "      <td>female</td>\n",
       "      <td>...</td>\n",
       "      <td>f7a3450dd9d23f4660fc9c4eec2fd693</td>\n",
       "      <td>https://www.encodeproject.org/files/ENCFF148XK...</td>\n",
       "      <td>hg19</td>\n",
       "      <td>NaN</td>\n",
       "      <td>NaN</td>\n",
       "      <td>released</td>\n",
       "      <td>NaN</td>\n",
       "      <td>NTR assay</td>\n",
       "      <td>NaN</td>\n",
       "      <td>NaN</td>\n",
       "    </tr>\n",
       "    <tr>\n",
       "      <th>5147</th>\n",
       "      <td>ENCFF538ODW</td>\n",
       "      <td>bam</td>\n",
       "      <td>alignments</td>\n",
       "      <td>ENCSR031RRO</td>\n",
       "      <td>shRNA knockdown followed by RNA-seq</td>\n",
       "      <td>EFO:0002067</td>\n",
       "      <td>K562</td>\n",
       "      <td>immortalized cell line</td>\n",
       "      <td>adult</td>\n",
       "      <td>female</td>\n",
       "      <td>...</td>\n",
       "      <td>d64981ce31dde089bb7c8afe52d8568d</td>\n",
       "      <td>https://www.encodeproject.org/files/ENCFF538OD...</td>\n",
       "      <td>hg19</td>\n",
       "      <td>NaN</td>\n",
       "      <td>NaN</td>\n",
       "      <td>released</td>\n",
       "      <td>NaN</td>\n",
       "      <td>NTR assay</td>\n",
       "      <td>NaN</td>\n",
       "      <td>NaN</td>\n",
       "    </tr>\n",
       "    <tr>\n",
       "      <th>5148</th>\n",
       "      <td>ENCFF840VCF</td>\n",
       "      <td>bam</td>\n",
       "      <td>alignments</td>\n",
       "      <td>ENCSR031RRO</td>\n",
       "      <td>shRNA knockdown followed by RNA-seq</td>\n",
       "      <td>EFO:0002067</td>\n",
       "      <td>K562</td>\n",
       "      <td>immortalized cell line</td>\n",
       "      <td>adult</td>\n",
       "      <td>female</td>\n",
       "      <td>...</td>\n",
       "      <td>3aedbec0b841bd4f803227e5304191bc</td>\n",
       "      <td>https://www.encodeproject.org/files/ENCFF840VC...</td>\n",
       "      <td>hg19</td>\n",
       "      <td>NaN</td>\n",
       "      <td>NaN</td>\n",
       "      <td>released</td>\n",
       "      <td>NaN</td>\n",
       "      <td>NTR assay</td>\n",
       "      <td>NaN</td>\n",
       "      <td>NaN</td>\n",
       "    </tr>\n",
       "    <tr>\n",
       "      <th>5150</th>\n",
       "      <td>ENCFF306VXJ</td>\n",
       "      <td>bam</td>\n",
       "      <td>alignments</td>\n",
       "      <td>ENCSR031RRO</td>\n",
       "      <td>shRNA knockdown followed by RNA-seq</td>\n",
       "      <td>EFO:0002067</td>\n",
       "      <td>K562</td>\n",
       "      <td>immortalized cell line</td>\n",
       "      <td>adult</td>\n",
       "      <td>female</td>\n",
       "      <td>...</td>\n",
       "      <td>f258412df622e7c15406784cd57ad269</td>\n",
       "      <td>https://www.encodeproject.org/files/ENCFF306VX...</td>\n",
       "      <td>hg19</td>\n",
       "      <td>NaN</td>\n",
       "      <td>NaN</td>\n",
       "      <td>released</td>\n",
       "      <td>NaN</td>\n",
       "      <td>NTR assay</td>\n",
       "      <td>NaN</td>\n",
       "      <td>NaN</td>\n",
       "    </tr>\n",
       "  </tbody>\n",
       "</table>\n",
       "<p>8 rows × 48 columns</p>\n",
       "</div>"
      ],
      "text/plain": [
       "     File accession File format Output type Experiment accession  \\\n",
       "5140    ENCFF083QIO         bam  alignments          ENCSR031RRO   \n",
       "5141    ENCFF419UWR         bam  alignments          ENCSR031RRO   \n",
       "5142    ENCFF519WJE         bam  alignments          ENCSR031RRO   \n",
       "5144    ENCFF272FNP         bam  alignments          ENCSR031RRO   \n",
       "5146    ENCFF148XKW         bam  alignments          ENCSR031RRO   \n",
       "5147    ENCFF538ODW         bam  alignments          ENCSR031RRO   \n",
       "5148    ENCFF840VCF         bam  alignments          ENCSR031RRO   \n",
       "5150    ENCFF306VXJ         bam  alignments          ENCSR031RRO   \n",
       "\n",
       "                                    Assay Biosample term id  \\\n",
       "5140  shRNA knockdown followed by RNA-seq       EFO:0002067   \n",
       "5141  shRNA knockdown followed by RNA-seq       EFO:0002067   \n",
       "5142  shRNA knockdown followed by RNA-seq       EFO:0002067   \n",
       "5144  shRNA knockdown followed by RNA-seq       EFO:0002067   \n",
       "5146  shRNA knockdown followed by RNA-seq       EFO:0002067   \n",
       "5147  shRNA knockdown followed by RNA-seq       EFO:0002067   \n",
       "5148  shRNA knockdown followed by RNA-seq       EFO:0002067   \n",
       "5150  shRNA knockdown followed by RNA-seq       EFO:0002067   \n",
       "\n",
       "     Biosample term name          Biosample type Biosample life stage  \\\n",
       "5140                K562  immortalized cell line                adult   \n",
       "5141                K562  immortalized cell line                adult   \n",
       "5142                K562  immortalized cell line                adult   \n",
       "5144                K562  immortalized cell line                adult   \n",
       "5146                K562  immortalized cell line                adult   \n",
       "5147                K562  immortalized cell line                adult   \n",
       "5148                K562  immortalized cell line                adult   \n",
       "5150                K562  immortalized cell line                adult   \n",
       "\n",
       "     Biosample sex     ...                                md5sum  \\\n",
       "5140        female     ...      68c99b5c960a870136f0b37bade491c3   \n",
       "5141        female     ...      bf19a65b6c88fe3a09ef9e9f42588148   \n",
       "5142        female     ...      b0a137276bfa9ce899449e291ec8776c   \n",
       "5144        female     ...      6ab2b574554ead07ff80d55f16c18d0c   \n",
       "5146        female     ...      f7a3450dd9d23f4660fc9c4eec2fd693   \n",
       "5147        female     ...      d64981ce31dde089bb7c8afe52d8568d   \n",
       "5148        female     ...      3aedbec0b841bd4f803227e5304191bc   \n",
       "5150        female     ...      f258412df622e7c15406784cd57ad269   \n",
       "\n",
       "                                      File download URL  Assembly  Platform  \\\n",
       "5140  https://www.encodeproject.org/files/ENCFF083QI...    GRCh38       NaN   \n",
       "5141  https://www.encodeproject.org/files/ENCFF419UW...    GRCh38       NaN   \n",
       "5142  https://www.encodeproject.org/files/ENCFF519WJ...    GRCh38       NaN   \n",
       "5144  https://www.encodeproject.org/files/ENCFF272FN...    GRCh38       NaN   \n",
       "5146  https://www.encodeproject.org/files/ENCFF148XK...      hg19       NaN   \n",
       "5147  https://www.encodeproject.org/files/ENCFF538OD...      hg19       NaN   \n",
       "5148  https://www.encodeproject.org/files/ENCFF840VC...      hg19       NaN   \n",
       "5150  https://www.encodeproject.org/files/ENCFF306VX...      hg19       NaN   \n",
       "\n",
       "      Controlled by File Status  Audit WARNING Audit INTERNAL_ACTION  \\\n",
       "5140            NaN    released            NaN             NTR assay   \n",
       "5141            NaN    released            NaN             NTR assay   \n",
       "5142            NaN    released            NaN             NTR assay   \n",
       "5144            NaN    released            NaN             NTR assay   \n",
       "5146            NaN    released            NaN             NTR assay   \n",
       "5147            NaN    released            NaN             NTR assay   \n",
       "5148            NaN    released            NaN             NTR assay   \n",
       "5150            NaN    released            NaN             NTR assay   \n",
       "\n",
       "     Audit NOT_COMPLIANT Audit ERROR  \n",
       "5140                 NaN         NaN  \n",
       "5141                 NaN         NaN  \n",
       "5142                 NaN         NaN  \n",
       "5144                 NaN         NaN  \n",
       "5146                 NaN         NaN  \n",
       "5147                 NaN         NaN  \n",
       "5148                 NaN         NaN  \n",
       "5150                 NaN         NaN  \n",
       "\n",
       "[8 rows x 48 columns]"
      ]
     },
     "execution_count": 5,
     "metadata": {},
     "output_type": "execute_result"
    }
   ],
   "source": [
    "X[X['Experiment accession']=='ENCSR031RRO']"
   ]
  },
  {
   "cell_type": "markdown",
   "metadata": {},
   "source": [
    "### This block scrolls through the Encode webpage JSON code to extract the correct locations / links to the KD bam files. Links to control bam files are generated further below. For now, names of control bam files are stored in a dictionary, with the accession number as key and the bam file name as value\n",
    "\n",
    "### This should follow the schema from (as of 9-8-2016): https://github.com/ENCODE-DCC/encoded/blob/master/src/encoded/schemas/file.json"
   ]
  },
  {
   "cell_type": "code",
   "execution_count": 6,
   "metadata": {
    "collapsed": false
   },
   "outputs": [
    {
     "name": "stdout",
     "output_type": "stream",
     "text": [
      "Non-specific target control-human\n",
      "Non-specific target control-human\n",
      "Non-specific target control-human\n",
      "Non-specific target control-human\n",
      "Non-specific target control-human\n",
      "Non-specific target control-human\n",
      "Non-specific target control-human\n",
      "Non-specific target control-human\n"
     ]
    }
   ],
   "source": [
    "samples = list()\n",
    "links = list()\n",
    "controls = list()\n",
    "error = list()\n",
    "havenocontrol = list()\n",
    "i = 0\n",
    "for h in X['Experiment accession'].dropna():\n",
    "    url = experiments+h+\"/?format=json\"\n",
    "    response = urllib.urlopen(url)\n",
    "    data = json.loads(response.read())\n",
    "    if 'code' in data.keys():\n",
    "        next\n",
    "    else:\n",
    "        for f in data['files']:\n",
    "            \n",
    "            i = i + 1\n",
    "            # print(data['files'][i]['md5sum'])\n",
    "            # print(data['files'][i]['content_md5sum'])\n",
    "            # print( data['files'][i]['replicate']['experiment']['target']['name'])\n",
    "            if ((host+f['href']).find('ENCFF840VCF') != -1):\n",
    "                print(f['replicate']['experiment']['target']['name'])\n",
    "            \"\"\"if ((host+f['href']).endswith('bam') & \n",
    "            (f['output_type'] == u'alignments') &\n",
    "            (f['lab'][u'name'] == 'encode-processing-pipeline')):\n",
    "                try:\n",
    "                    if(i%100==0):\n",
    "                        print('.'),\n",
    "                    samples.append({'expt_name':f['replicate']['experiment']['target']['name'],\n",
    "                                    'expt_cell_line':f['replicate'][u'library']['biosample']['biosample_term_name'],\n",
    "                                    'biological_replicate_number':f['replicate']['biological_replicate_number'],\n",
    "                                    'submitted_expt_file_name':f['submitted_file_name'],\n",
    "                                    'expt_file_name':os.path.basename(f['href']),\n",
    "                                    'assembly':f['assembly'],\n",
    "                                    'expt_url':host+f['href'],\n",
    "                                    'RNASEQ_ControlENC':data['possible_controls'][0]['accession'],\n",
    "                                    'RNASEQ_ENCODEAccID':h,\n",
    "                                    'aligner': star_or_tophat(f['submitted_file_name']),\n",
    "                                    'expt_md5sum': f['md5sum']\n",
    "                                   })\n",
    "                    controls.append(data['possible_controls'][0]['accession'])\n",
    "                except IndexError:\n",
    "                    havenocontrol.append(h)\n",
    "                links.append(host+f['href'])\n",
    "        \n",
    "samples_df = pandas.DataFrame(samples)\n",
    "samples_df.to_csv(sample_manifest,\n",
    "                  sep='\\t',\n",
    "                  index=None)\n",
    "samples_df\"\"\""
   ]
  },
  {
   "cell_type": "code",
   "execution_count": null,
   "metadata": {
    "collapsed": true
   },
   "outputs": [],
   "source": [
    "! grep ENCFF840VCF $sample_manifest"
   ]
  },
  {
   "cell_type": "code",
   "execution_count": null,
   "metadata": {
    "collapsed": false
   },
   "outputs": [],
   "source": [
    "# download the gene quantifications\n",
    "\n",
    "# remove duplicates from this list\n",
    "havenocontrol = list(set(havenocontrol))\n",
    "controls = list(set(controls))"
   ]
  },
  {
   "cell_type": "code",
   "execution_count": null,
   "metadata": {
    "collapsed": false
   },
   "outputs": [],
   "source": [
    "print(set(controls) - set(havenocontrol))\n",
    "print(set(havenocontrol) - set(controls)) # these rbps don't have controls online.\n",
    "controls"
   ]
  },
  {
   "cell_type": "code",
   "execution_count": null,
   "metadata": {
    "collapsed": false
   },
   "outputs": [],
   "source": [
    "samples = list()\n",
    "error = list()\n",
    "for h in controls:\n",
    "    url = experiments+h+\"/?format=json\"\n",
    "    response = urllib.urlopen(url)\n",
    "    data = json.loads(response.read())\n",
    "    if 'code' in data.keys():\n",
    "        next\n",
    "    else:\n",
    "        for i in range(0,len(data['files'])):\n",
    "            # for key, value in data['files'][i].iteritems():\n",
    "            #     print(key)\n",
    "            # print(data['files'][i].iteritems())\n",
    "            # print( data['files'][i]['replicate']['biological_replicate_number'])\n",
    "            if ((host+data['files'][i]['href']).endswith('bam') & \n",
    "            (data['files'][i]['output_type'] == u'alignments') &\n",
    "            (data['files'][i]['lab'][u'name'] == 'encode-processing-pipeline')):\n",
    "                \"\"\"if(list(X[X['RNASEQ_ControlENC']==h]['RNASEQ_ENCODEAccID'])[0] != data['possible_controls'][0]['accession']):\n",
    "                    error.append(\"WARNING: CTRL VS AFF CHANGED: {}:{}:{}\".format(\n",
    "                        h,\n",
    "                        list(X[X['RNASEQ_ControlENC']==h]['RNASEQ_ENCODEAccID'])[0],\n",
    "                        data['possible_controls'][0]['accession']))\"\"\"\n",
    "                samples.append({'ctrl_name':data['files'][i]['replicate']['experiment']['target']['name'],\n",
    "                                'ctrl_cell_line':data['files'][i]['replicate'][u'library']['biosample']['biosample_term_name'],\n",
    "                                'biological_replicate_number':data['files'][i]['replicate']['biological_replicate_number'],\n",
    "                                'submitted_ctrl_file_name':data['files'][i]['submitted_file_name'],\n",
    "                                'ctrl_file_name':os.path.basename(data['files'][i]['href']),\n",
    "                                'assembly':data['files'][i]['assembly'],\n",
    "                                'ctrl_url':host+data['files'][i]['href'],\n",
    "                                'aligner': star_or_tophat(data['files'][i]['submitted_file_name']),\n",
    "                                'RNASEQ_ControlENC':h,\n",
    "                                'ctrl_md5sum': data['files'][i]['md5sum']})\n",
    "                links.append(host+data['files'][i]['href'])\n",
    "                # controls[data['accession']] = data['possible_controls'][0]['accession']\n",
    "samples_df = pandas.DataFrame(samples)\n",
    "samples_df.to_csv(control_manifest,\n",
    "                  sep='\\t',\n",
    "                  index=None)\n",
    "samples_df"
   ]
  },
  {
   "cell_type": "code",
   "execution_count": null,
   "metadata": {
    "collapsed": false
   },
   "outputs": [],
   "source": []
  },
  {
   "cell_type": "code",
   "execution_count": null,
   "metadata": {
    "collapsed": true
   },
   "outputs": [],
   "source": [
    "import pandas as pd # because i like using pd\n",
    "import numpy as np"
   ]
  },
  {
   "cell_type": "code",
   "execution_count": null,
   "metadata": {
    "collapsed": false
   },
   "outputs": [],
   "source": [
    "samples_df = pd.read_table(sample_manifest)\n",
    "controls_df = pd.read_table(control_manifest)"
   ]
  },
  {
   "cell_type": "code",
   "execution_count": null,
   "metadata": {
    "collapsed": false
   },
   "outputs": [],
   "source": [
    "samples_df[(samples_df['RNASEQ_ControlENC']=='ENCSR603TCV') & \\\n",
    "           (samples_df['aligner']=='TOPHAT') & \\\n",
    "           (samples_df['assembly']=='hg19') & \\\n",
    "          (samples_df['biological_replicate_number']==1)]"
   ]
  },
  {
   "cell_type": "code",
   "execution_count": null,
   "metadata": {
    "collapsed": false
   },
   "outputs": [],
   "source": [
    "controls_df.drop_duplicates(inplace=True)\n",
    "controls_df[(controls_df['RNASEQ_ControlENC']=='ENCSR603TCV') & \\\n",
    "           (controls_df['aligner']=='TOPHAT') & \\\n",
    "           (controls_df['assembly']=='hg19') & \\\n",
    "          (controls_df['biological_replicate_number']==1)]"
   ]
  },
  {
   "cell_type": "markdown",
   "metadata": {
    "collapsed": false
   },
   "source": [
    "### perform a pandas merge on the ControlENC, aligner, assembly, and biological replicate number"
   ]
  },
  {
   "cell_type": "code",
   "execution_count": null,
   "metadata": {
    "collapsed": false
   },
   "outputs": [],
   "source": [
    "merged_df.head(2)"
   ]
  },
  {
   "cell_type": "code",
   "execution_count": null,
   "metadata": {
    "collapsed": false
   },
   "outputs": [],
   "source": [
    "merged_df = pd.merge(samples_df,controls_df,how='inner',on=['RNASEQ_ControlENC',\n",
    "                                                            'aligner',\n",
    "                                                            'assembly',\n",
    "                                                            'biological_replicate_number',\n",
    "                                                            ])\n",
    "merged_df.drop_duplicates(inplace=True)\n",
    "merged_df[merged_df['ctrl_file_name'].str.contains('ENCFF840VCF')]"
   ]
  },
  {
   "cell_type": "code",
   "execution_count": null,
   "metadata": {
    "collapsed": false
   },
   "outputs": [],
   "source": [
    "merged_df.to_csv('/home/bay001/projects/encode/permanent_data/rna_seq_manifest_9-14-2016.txt',index=None,sep=\"\\t\")"
   ]
  },
  {
   "cell_type": "markdown",
   "metadata": {
    "collapsed": false
   },
   "source": [
    "### Skip this step if you don't want to re-generate the download script."
   ]
  },
  {
   "cell_type": "code",
   "execution_count": null,
   "metadata": {
    "collapsed": false
   },
   "outputs": [],
   "source": [
    "to_download_file = open(to_download,'w')\n",
    "to_download_file2 = open(to_download2,'w')\n",
    "for link in list(set(links)):\n",
    "    to_download_file.write(\"wget -O {}{} {};\\n\".format(out_dir, os.path.basename(link), link))\n",
    "    to_download_file2.write(\"wget -O {}{} {};\\n\".format(out_dir2, os.path.basename(link), link))\n",
    "to_download_file.close()\n",
    "to_download_file2.close()\n",
    "len(list(set(links)))"
   ]
  },
  {
   "cell_type": "code",
   "execution_count": null,
   "metadata": {
    "collapsed": false
   },
   "outputs": [],
   "source": [
    "! grep ENCFF840VCF $to_download2"
   ]
  },
  {
   "cell_type": "code",
   "execution_count": null,
   "metadata": {
    "collapsed": false
   },
   "outputs": [],
   "source": [
    "len(links)"
   ]
  },
  {
   "cell_type": "code",
   "execution_count": null,
   "metadata": {
    "collapsed": false
   },
   "outputs": [],
   "source": [
    "! tail /home/bay001/projects/encode/permanent_data/to_download.sh\n"
   ]
  },
  {
   "cell_type": "code",
   "execution_count": null,
   "metadata": {
    "collapsed": false
   },
   "outputs": [],
   "source": [
    "# verify that everything on the manifest looks good:\n",
    "df = pd.read_table(combined_sample_and_control_manifest)\n",
    "_test = df[df['expt_name']=='RBFOX2-human']\n",
    "_testhg19 = _test[_test['assembly']=='hg19']\n",
    "_testhg19"
   ]
  },
  {
   "cell_type": "markdown",
   "metadata": {
    "collapsed": true
   },
   "source": [
    "# Let's check out the file downloaded from ENCODEPROJECT.org"
   ]
  },
  {
   "cell_type": "code",
   "execution_count": null,
   "metadata": {
    "collapsed": false
   },
   "outputs": [],
   "source": [
    "Y = pd.read_table('/home/bay001/projects/encode/permanent_data/metadata_from_encodeprojectorg_9-11-2016.tsv')\n",
    "Y = Y[(Y['Output type'] == 'alignments') &\n",
    "      (Y['Lab'] == 'ENCODE Processing Pipeline')]\n",
    "Y.shape"
   ]
  },
  {
   "cell_type": "code",
   "execution_count": null,
   "metadata": {
    "collapsed": false
   },
   "outputs": [],
   "source": [
    "Y.ix[2]"
   ]
  },
  {
   "cell_type": "code",
   "execution_count": null,
   "metadata": {
    "collapsed": false
   },
   "outputs": [],
   "source": [
    "pd.read_table('/home/bay001/projects/encode/permanent_data/rna_seq_manifest_9-14-2016.txt')"
   ]
  },
  {
   "cell_type": "code",
   "execution_count": null,
   "metadata": {
    "collapsed": false
   },
   "outputs": [],
   "source": [
    "samples_df[samples_df['expt_file_name']=='ENCFF840VCF.bam']"
   ]
  },
  {
   "cell_type": "code",
   "execution_count": null,
   "metadata": {
    "collapsed": false
   },
   "outputs": [],
   "source": [
    "controls_df"
   ]
  },
  {
   "cell_type": "code",
   "execution_count": null,
   "metadata": {
    "collapsed": true
   },
   "outputs": [],
   "source": []
  }
 ],
 "metadata": {
  "kernelspec": {
   "display_name": "Python 2",
   "language": "python",
   "name": "python2"
  },
  "language_info": {
   "codemirror_mode": {
    "name": "ipython",
    "version": 2
   },
   "file_extension": ".py",
   "mimetype": "text/x-python",
   "name": "python",
   "nbconvert_exporter": "python",
   "pygments_lexer": "ipython2",
   "version": "2.7.12"
  }
 },
 "nbformat": 4,
 "nbformat_minor": 0
}
