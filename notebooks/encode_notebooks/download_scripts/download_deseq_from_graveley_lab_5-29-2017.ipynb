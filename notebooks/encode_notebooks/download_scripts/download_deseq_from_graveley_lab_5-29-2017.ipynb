{
 "cells": [
  {
   "cell_type": "code",
   "execution_count": 1,
   "metadata": {},
   "outputs": [],
   "source": [
    "import pandas as pd\n",
    "import os\n",
    "import re\n",
    "import glob\n",
    "from tqdm import tnrange, tqdm_notebook"
   ]
  },
  {
   "cell_type": "code",
   "execution_count": null,
   "metadata": {},
   "outputs": [],
   "source": []
  },
  {
   "cell_type": "code",
   "execution_count": 2,
   "metadata": {},
   "outputs": [],
   "source": [
    "wd = '/projects/ps-yeolab3/encode/rnaseq/differential_expression/'\n",
    "output_dir = '/projects/ps-yeolab3/encode/rnaseq/differential_expression/DESeq_output/20170529/'\n",
    "o = open(os.path.join(output_dir,'HepG2_files_20170529.txt.download'),'w')\n",
    "o.write('#!/bin/bash\\n')\n",
    "with open(os.path.join(wd,'HepG2_file_list.20170529.txt'),'r') as f:\n",
    "    for line in f:\n",
    "        if line.startswith('http:'):\n",
    "            output_file = 'HepG2_' + os.path.basename(line.rstrip())\n",
    "            o.write('wget {} -O {}\\n'.format(line.rstrip(), output_file))\n",
    "o.close()"
   ]
  },
  {
   "cell_type": "code",
   "execution_count": 3,
   "metadata": {},
   "outputs": [],
   "source": [
    "o = open(os.path.join(output_dir,'K562_files_20170529.txt.download'),'w')\n",
    "o.write('#!/bin/bash\\n')\n",
    "with open(os.path.join(wd,'K562_file_list.20170529.txt'),'r') as f:\n",
    "    for line in f:\n",
    "        if line.startswith('http:'):\n",
    "            output_file = 'K562_' + os.path.basename(line.rstrip())\n",
    "            o.write('wget {} -O {}\\n'.format(line.rstrip(), output_file))\n",
    "o.close()"
   ]
  },
  {
   "cell_type": "code",
   "execution_count": null,
   "metadata": {},
   "outputs": [],
   "source": []
  }
 ],
 "metadata": {
  "kernelspec": {
   "display_name": "Python 2",
   "language": "python",
   "name": "python2"
  },
  "language_info": {
   "codemirror_mode": {
    "name": "ipython",
    "version": 2
   },
   "file_extension": ".py",
   "mimetype": "text/x-python",
   "name": "python",
   "nbconvert_exporter": "python",
   "pygments_lexer": "ipython2",
   "version": "2.7.14"
  }
 },
 "nbformat": 4,
 "nbformat_minor": 1
}
