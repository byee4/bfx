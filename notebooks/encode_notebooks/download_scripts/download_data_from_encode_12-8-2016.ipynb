{
 "cells": [
  {
   "cell_type": "markdown",
   "metadata": {},
   "source": [
    "# Basic download from encode script."
   ]
  },
  {
   "cell_type": "code",
   "execution_count": 1,
   "metadata": {
    "collapsed": true
   },
   "outputs": [],
   "source": [
    "import pandas as pd\n",
    "import urllib\n",
    "import json\n",
    "import requests\n",
    "import os\n",
    "host = 'https://www.encodeproject.org'\n",
    "experiments = \"https://www.encodeproject.org/experiments/\""
   ]
  },
  {
   "cell_type": "code",
   "execution_count": 2,
   "metadata": {
    "collapsed": false
   },
   "outputs": [],
   "source": [
    "expt = 'ENCSR629EWX' # shRNA knockdown followed by RNA-seq (shRNA RNA-seq)\n",
    "# experiment_accession \\t cell type \\t rbp \\t rep1_bam \\t rep2_bam \\t control_accession \\t control_rep1_bam \\t control_rep2_bam\n",
    "\n",
    "df = pd.read_table('/home/bay001/projects/encode/permanent_data/metadata.tsv')\n",
    "def star_or_tophat(link):\n",
    "    # print(\"LINK\",os.path.basename(link))\n",
    "    if os.path.basename(link).find('star') > -1:\n",
    "        return 'STAR'\n",
    "    if os.path.basename(link).find('tophat') > -1:\n",
    "        return 'TOPHAT'\n",
    "    return 'ambiguous'"
   ]
  },
  {
   "cell_type": "code",
   "execution_count": 3,
   "metadata": {
    "collapsed": false
   },
   "outputs": [
    {
     "ename": "NameError",
     "evalue": "name 'pandas' is not defined",
     "output_type": "error",
     "traceback": [
      "\u001b[0;31m---------------------------------------------------------------------------\u001b[0m",
      "\u001b[0;31mNameError\u001b[0m                                 Traceback (most recent call last)",
      "\u001b[0;32m<ipython-input-3-465a556f1944>\u001b[0m in \u001b[0;36m<module>\u001b[0;34m()\u001b[0m\n\u001b[1;32m     53\u001b[0m                 \u001b[0mlinks\u001b[0m\u001b[0;34m.\u001b[0m\u001b[0mappend\u001b[0m\u001b[0;34m(\u001b[0m\u001b[0mhost\u001b[0m\u001b[0;34m+\u001b[0m\u001b[0mdata\u001b[0m\u001b[0;34m[\u001b[0m\u001b[0;34m'files'\u001b[0m\u001b[0;34m]\u001b[0m\u001b[0;34m[\u001b[0m\u001b[0mi\u001b[0m\u001b[0;34m]\u001b[0m\u001b[0;34m[\u001b[0m\u001b[0;34m'href'\u001b[0m\u001b[0;34m]\u001b[0m\u001b[0;34m)\u001b[0m\u001b[0;34m\u001b[0m\u001b[0m\n\u001b[1;32m     54\u001b[0m         controls.append(data['possible_controls'][0]['accession'])\"\"\"\n\u001b[0;32m---> 55\u001b[0;31m \u001b[0msamples_df\u001b[0m \u001b[0;34m=\u001b[0m \u001b[0mpandas\u001b[0m\u001b[0;34m.\u001b[0m\u001b[0mDataFrame\u001b[0m\u001b[0;34m(\u001b[0m\u001b[0msamples\u001b[0m\u001b[0;34m)\u001b[0m\u001b[0;34m\u001b[0m\u001b[0m\n\u001b[0m\u001b[1;32m     56\u001b[0m \u001b[0;34m\u001b[0m\u001b[0m\n\u001b[1;32m     57\u001b[0m samples_df.to_csv(sample_manifest,\n",
      "\u001b[0;31mNameError\u001b[0m: name 'pandas' is not defined"
     ]
    }
   ],
   "source": [
    "sample_manifest = '/home/bay001/projects/encode/permanent_data/rna_seq_manifest_TEST.txt' #12-8-2016.txt'\n",
    "X = df.head(10)\n",
    "samples = list()\n",
    "links = list()\n",
    "controls = list()\n",
    "error = list()\n",
    "for h in X['File accession'].dropna():\n",
    "    url = experiments+h+\"/?format=json\"\n",
    "    response = urllib.urlopen(url)\n",
    "    data = json.loads(response.read())\n",
    "    if 'code' in data.keys():\n",
    "        next\n",
    "    else:\n",
    "        f = data['replicate']\n",
    "        expt = f['experiment']['possible_controls'][0].replace('/experiments/','').replace('/','')\n",
    "        biological_replicate_number = f['biological_replicate_number']\n",
    "        assembly = data['assembly']\n",
    "        aligner = star_or_tophat(data['submitted_file_name'])\n",
    "        # print(expt,biological_replicate_number,assembly,aligner)\n",
    "        url2 = experiments+expt+\"/?format=json\"\n",
    "        response2 = urllib.urlopen(url2)\n",
    "        \n",
    "        data2 = json.loads(response2.read())\n",
    "        # print(data2['assembly'])\n",
    "        for i in range(0,len(data2['files'])):\n",
    "            if ((host+data2['files'][i]['href']).endswith('bam') & \n",
    "            (data2['files'][i]['output_type'] == u'alignments') &\n",
    "            (data2['files'][i]['lab'][u'name'] == 'encode-processing-pipeline') &\n",
    "            (data2['files'][i]['replicate']['biological_replicate_number'] == biological_replicate_number) &\n",
    "            (star_or_tophat(data2['files'][i]['submitted_file_name'])==aligner)):\n",
    "                #for key, value in data2['files'][i]['submitted_file_name'].iteritems():\n",
    "                #for key, value in data2['files'][i]['replicate']['library'].iteritems():\n",
    "                #    print(\"key\",key)\n",
    "                #    print(\"value\",value)\n",
    "                # print(data2['files'][i]['output_type'])\n",
    "                if(data2['files'][i]['assembly']==assembly):\n",
    "                    samples.append({'sample':h+\".bam\",'control':os.path.basename(data2['files'][i]['href'])})\n",
    "                \n",
    "        \"\"\"\n",
    "        for i in range(0,len(data['files'])):\n",
    "            if ((host+data['files'][i]['href']).endswith('bam') & \n",
    "            (data['files'][i]['output_type'] == u'alignments') &\n",
    "            (data['files'][i]['lab'][u'name'] == 'encode-processing-pipeline')):\n",
    "                samples.append({'biological_replicate_number':data['files'][i]['replicate']['biological_replicate_number'],\n",
    "                                'submitted_expt_file_name':data['files'][i]['submitted_file_name'],\n",
    "                                'expt_file_name':os.path.basename(data['files'][i]['href']),\n",
    "                                'assembly':data['files'][i]['assembly'],\n",
    "                                'expt_url':host+data['files'][i]['href'],\n",
    "                                'RNASEQ_ControlENC':data['possible_controls'][0]['accession'],\n",
    "                                'RNASEQ_ENCODEAccID':h,\n",
    "                                'aligner': star_or_tophat(data['files'][i]['submitted_file_name'])\n",
    "                               })\n",
    "                links.append(host+data['files'][i]['href'])\n",
    "        controls.append(data['possible_controls'][0]['accession'])\"\"\"\n",
    "samples_df = pandas.DataFrame(samples)\n",
    "\n",
    "samples_df.to_csv(sample_manifest,\n",
    "                  sep='\\t',\n",
    "                  index=None)\n",
    "\n",
    "samples_df"
   ]
  },
  {
   "cell_type": "code",
   "execution_count": 100,
   "metadata": {
    "collapsed": false
   },
   "outputs": [
    {
     "data": {
      "text/plain": [
       "File accession                                                                    ENCFF689YFW\n",
       "File format                                                                               bam\n",
       "Output type                                                                        alignments\n",
       "Experiment accession                                                              ENCSR492BKM\n",
       "Assay                                                     shRNA knockdown followed by RNA-seq\n",
       "Biosample term id                                                                 EFO:0002067\n",
       "Biosample term name                                                                      K562\n",
       "Biosample type                                                         immortalized cell line\n",
       "Biosample life stage                                                                    adult\n",
       "Biosample sex                                                                          female\n",
       "Biosample organism                                                               Homo sapiens\n",
       "Biosample treatments                                                                      NaN\n",
       "Biosample subcellular fraction term name                                                  NaN\n",
       "Biosample phase                                                                           NaN\n",
       "Biosample synchronization stage                                                           NaN\n",
       "Experiment target                                                               FAM120A-human\n",
       "Antibody accession                                                                        NaN\n",
       "Library made from                                                         polyadenylated mRNA\n",
       "Library depleted in                                                                       NaN\n",
       "Library extraction method                   Maxwell 16 LEV simpleRNA Cells Kit (Promega ca...\n",
       "Library lysis method                        Maxwell 16 LEV simpleRNA Cells Kit (Promega ca...\n",
       "Library crosslinking method                                                               NaN\n",
       "Experiment date released                                                           2014-12-17\n",
       "Project                                                                                ENCODE\n",
       "RBNS protein concentration                                                                NaN\n",
       "Library fragmentation method                                       chemical (Illumina TruSeq)\n",
       "Library size range                                                                       >200\n",
       "Biosample Age                                                                         53 year\n",
       "Biological replicate(s)                                                                     1\n",
       "Technical replicate                                                                         1\n",
       "Read length                                                                               NaN\n",
       "Mapped read length                                                                        NaN\n",
       "Run type                                                                                  NaN\n",
       "Paired end                                                                                NaN\n",
       "Paired with                                                                               NaN\n",
       "Derived from                                                         ENCFF541QLM, ENCFF791QXP\n",
       "Size                                                                               3314196377\n",
       "Lab                                                                   Brenton Graveley, UConn\n",
       "md5sum                                                       9253f7f1be11a0ef714eec12e252ded4\n",
       "File download URL                           https://www.encodeproject.org/files/ENCFF689YF...\n",
       "Assembly                                                                                 hg19\n",
       "Platform                                                                                  NaN\n",
       "Controlled by                                                                             NaN\n",
       "File Status                                                                          released\n",
       "Audit WARNING                                                                             NaN\n",
       "Audit INTERNAL_ACTION                                   NTR assay, inconsistent assay_term_id\n",
       "Audit NOT_COMPLIANT                                                                       NaN\n",
       "Audit ERROR                                                                               NaN\n",
       "Name: 0, dtype: object"
      ]
     },
     "execution_count": 100,
     "metadata": {},
     "output_type": "execute_result"
    }
   ],
   "source": [
    "df.ix[0]"
   ]
  },
  {
   "cell_type": "code",
   "execution_count": 6,
   "metadata": {
    "collapsed": false
   },
   "outputs": [
    {
     "data": {
      "text/plain": [
       "'https://www.encodeproject.org/files/ENCFF689YFW/@@download/ENCFF689YFW.bam'"
      ]
     },
     "execution_count": 6,
     "metadata": {},
     "output_type": "execute_result"
    }
   ],
   "source": [
    "df['File download URL'][0]"
   ]
  },
  {
   "cell_type": "code",
   "execution_count": null,
   "metadata": {
    "collapsed": true
   },
   "outputs": [],
   "source": []
  }
 ],
 "metadata": {
  "kernelspec": {
   "display_name": "Python 2",
   "language": "python",
   "name": "python2"
  },
  "language_info": {
   "codemirror_mode": {
    "name": "ipython",
    "version": 2
   },
   "file_extension": ".py",
   "mimetype": "text/x-python",
   "name": "python",
   "nbconvert_exporter": "python",
   "pygments_lexer": "ipython2",
   "version": "2.7.12"
  }
 },
 "nbformat": 4,
 "nbformat_minor": 1
}
