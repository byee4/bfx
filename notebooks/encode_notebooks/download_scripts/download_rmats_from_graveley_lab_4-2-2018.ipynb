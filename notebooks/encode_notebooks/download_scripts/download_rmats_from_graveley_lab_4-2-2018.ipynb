{
 "cells": [
  {
   "cell_type": "markdown",
   "metadata": {},
   "source": [
    "# addendum for downloading the last 5 missing rmats files"
   ]
  },
  {
   "cell_type": "code",
   "execution_count": 1,
   "metadata": {},
   "outputs": [],
   "source": [
    "import pandas as pd\n",
    "import os\n",
    "import re\n",
    "import glob\n",
    "from tqdm import tnrange, tqdm_notebook"
   ]
  },
  {
   "cell_type": "code",
   "execution_count": 2,
   "metadata": {},
   "outputs": [],
   "source": [
    "from_xintao = '/projects/ps-yeolab3/encode/rnaseq/alt_splicing/rmats_orig_result_URLs_set39.20180402.txt'\n",
    "output_file = '/projects/ps-yeolab3/encode/rnaseq/alt_splicing/rmats_orig_result_URLs_set39.20180402.sh'\n",
    "output_dir = '/projects/ps-yeolab3/encode/rnaseq/alt_splicing/graveley_rmats_current'"
   ]
  },
  {
   "cell_type": "code",
   "execution_count": 3,
   "metadata": {},
   "outputs": [
    {
     "name": "stdout",
     "output_type": "stream",
     "text": [
      "file exists in directory: /projects/ps-yeolab3/encode/rnaseq/alt_splicing/graveley_rmats_current/AGGF1-BGHcLV05-HepG2.set39_H.SE.MATS.JunctionCountOnly.txt\n",
      "file exists in directory: /projects/ps-yeolab3/encode/rnaseq/alt_splicing/graveley_rmats_current/AGGF1-BGHcLV05-HepG2.set39_H.MXE.MATS.JunctionCountOnly.txt\n",
      "file exists in directory: /projects/ps-yeolab3/encode/rnaseq/alt_splicing/graveley_rmats_current/AGGF1-BGHcLV05-HepG2.set39_H.A5SS.MATS.JunctionCountOnly.txt\n",
      "file exists in directory: /projects/ps-yeolab3/encode/rnaseq/alt_splicing/graveley_rmats_current/AGGF1-BGHcLV05-HepG2.set39_H.A3SS.MATS.JunctionCountOnly.txt\n",
      "file exists in directory: /projects/ps-yeolab3/encode/rnaseq/alt_splicing/graveley_rmats_current/AGGF1-BGHcLV05-HepG2.set39_H.RI.MATS.JunctionCountOnly.txt\n",
      "file exists in directory: /projects/ps-yeolab3/encode/rnaseq/alt_splicing/graveley_rmats_current/EIF3H-BGHcLV05-HepG2.set39_H.SE.MATS.JunctionCountOnly.txt\n",
      "file exists in directory: /projects/ps-yeolab3/encode/rnaseq/alt_splicing/graveley_rmats_current/EIF3H-BGHcLV05-HepG2.set39_H.MXE.MATS.JunctionCountOnly.txt\n",
      "file exists in directory: /projects/ps-yeolab3/encode/rnaseq/alt_splicing/graveley_rmats_current/EIF3H-BGHcLV05-HepG2.set39_H.A5SS.MATS.JunctionCountOnly.txt\n",
      "file exists in directory: /projects/ps-yeolab3/encode/rnaseq/alt_splicing/graveley_rmats_current/EIF3H-BGHcLV05-HepG2.set39_H.A3SS.MATS.JunctionCountOnly.txt\n",
      "file exists in directory: /projects/ps-yeolab3/encode/rnaseq/alt_splicing/graveley_rmats_current/EIF3H-BGHcLV05-HepG2.set39_H.RI.MATS.JunctionCountOnly.txt\n",
      "file exists in directory: /projects/ps-yeolab3/encode/rnaseq/alt_splicing/graveley_rmats_current/PRPF4-BGHLV37-HepG2.set39_H.SE.MATS.JunctionCountOnly.txt\n",
      "file exists in directory: /projects/ps-yeolab3/encode/rnaseq/alt_splicing/graveley_rmats_current/PRPF4-BGHLV37-HepG2.set39_H.MXE.MATS.JunctionCountOnly.txt\n",
      "file exists in directory: /projects/ps-yeolab3/encode/rnaseq/alt_splicing/graveley_rmats_current/PRPF4-BGHLV37-HepG2.set39_H.A5SS.MATS.JunctionCountOnly.txt\n",
      "file exists in directory: /projects/ps-yeolab3/encode/rnaseq/alt_splicing/graveley_rmats_current/PRPF4-BGHLV37-HepG2.set39_H.A3SS.MATS.JunctionCountOnly.txt\n",
      "file exists in directory: /projects/ps-yeolab3/encode/rnaseq/alt_splicing/graveley_rmats_current/PRPF4-BGHLV37-HepG2.set39_H.RI.MATS.JunctionCountOnly.txt\n",
      "file exists in directory: /projects/ps-yeolab3/encode/rnaseq/alt_splicing/graveley_rmats_current/ZC3H8-BGHLV37-HepG2.set39_H.SE.MATS.JunctionCountOnly.txt\n",
      "file exists in directory: /projects/ps-yeolab3/encode/rnaseq/alt_splicing/graveley_rmats_current/ZC3H8-BGHLV37-HepG2.set39_H.MXE.MATS.JunctionCountOnly.txt\n",
      "file exists in directory: /projects/ps-yeolab3/encode/rnaseq/alt_splicing/graveley_rmats_current/ZC3H8-BGHLV37-HepG2.set39_H.A5SS.MATS.JunctionCountOnly.txt\n",
      "file exists in directory: /projects/ps-yeolab3/encode/rnaseq/alt_splicing/graveley_rmats_current/ZC3H8-BGHLV37-HepG2.set39_H.A3SS.MATS.JunctionCountOnly.txt\n",
      "file exists in directory: /projects/ps-yeolab3/encode/rnaseq/alt_splicing/graveley_rmats_current/ZC3H8-BGHLV37-HepG2.set39_H.RI.MATS.JunctionCountOnly.txt\n",
      "file exists in directory: /projects/ps-yeolab3/encode/rnaseq/alt_splicing/graveley_rmats_current/CKAP4-BGKLV36-K562.set39_K.SE.MATS.JunctionCountOnly.txt\n",
      "file exists in directory: /projects/ps-yeolab3/encode/rnaseq/alt_splicing/graveley_rmats_current/CKAP4-BGKLV36-K562.set39_K.MXE.MATS.JunctionCountOnly.txt\n",
      "file exists in directory: /projects/ps-yeolab3/encode/rnaseq/alt_splicing/graveley_rmats_current/CKAP4-BGKLV36-K562.set39_K.A5SS.MATS.JunctionCountOnly.txt\n",
      "file exists in directory: /projects/ps-yeolab3/encode/rnaseq/alt_splicing/graveley_rmats_current/CKAP4-BGKLV36-K562.set39_K.A3SS.MATS.JunctionCountOnly.txt\n",
      "file exists in directory: /projects/ps-yeolab3/encode/rnaseq/alt_splicing/graveley_rmats_current/CKAP4-BGKLV36-K562.set39_K.RI.MATS.JunctionCountOnly.txt\n",
      "file exists in directory: /projects/ps-yeolab3/encode/rnaseq/alt_splicing/graveley_rmats_current/EXOSC5-BGKcLV06-K562.set39_K.SE.MATS.JunctionCountOnly.txt\n",
      "file exists in directory: /projects/ps-yeolab3/encode/rnaseq/alt_splicing/graveley_rmats_current/EXOSC5-BGKcLV06-K562.set39_K.MXE.MATS.JunctionCountOnly.txt\n",
      "file exists in directory: /projects/ps-yeolab3/encode/rnaseq/alt_splicing/graveley_rmats_current/EXOSC5-BGKcLV06-K562.set39_K.A5SS.MATS.JunctionCountOnly.txt\n",
      "file exists in directory: /projects/ps-yeolab3/encode/rnaseq/alt_splicing/graveley_rmats_current/EXOSC5-BGKcLV06-K562.set39_K.A3SS.MATS.JunctionCountOnly.txt\n",
      "file exists in directory: /projects/ps-yeolab3/encode/rnaseq/alt_splicing/graveley_rmats_current/EXOSC5-BGKcLV06-K562.set39_K.RI.MATS.JunctionCountOnly.txt\n",
      "file exists in directory: /projects/ps-yeolab3/encode/rnaseq/alt_splicing/graveley_rmats_current/HNRNPH1-BGKcLV06-K562.set39_K.SE.MATS.JunctionCountOnly.txt\n",
      "file exists in directory: /projects/ps-yeolab3/encode/rnaseq/alt_splicing/graveley_rmats_current/HNRNPH1-BGKcLV06-K562.set39_K.MXE.MATS.JunctionCountOnly.txt\n",
      "file exists in directory: /projects/ps-yeolab3/encode/rnaseq/alt_splicing/graveley_rmats_current/HNRNPH1-BGKcLV06-K562.set39_K.A5SS.MATS.JunctionCountOnly.txt\n",
      "file exists in directory: /projects/ps-yeolab3/encode/rnaseq/alt_splicing/graveley_rmats_current/HNRNPH1-BGKcLV06-K562.set39_K.A3SS.MATS.JunctionCountOnly.txt\n",
      "file exists in directory: /projects/ps-yeolab3/encode/rnaseq/alt_splicing/graveley_rmats_current/HNRNPH1-BGKcLV06-K562.set39_K.RI.MATS.JunctionCountOnly.txt\n",
      "file exists in directory: /projects/ps-yeolab3/encode/rnaseq/alt_splicing/graveley_rmats_current/PCBP3-BGKcLV06-K562.set39_K.SE.MATS.JunctionCountOnly.txt\n",
      "file exists in directory: /projects/ps-yeolab3/encode/rnaseq/alt_splicing/graveley_rmats_current/PCBP3-BGKcLV06-K562.set39_K.MXE.MATS.JunctionCountOnly.txt\n",
      "file exists in directory: /projects/ps-yeolab3/encode/rnaseq/alt_splicing/graveley_rmats_current/PCBP3-BGKcLV06-K562.set39_K.A5SS.MATS.JunctionCountOnly.txt\n",
      "file exists in directory: /projects/ps-yeolab3/encode/rnaseq/alt_splicing/graveley_rmats_current/PCBP3-BGKcLV06-K562.set39_K.A3SS.MATS.JunctionCountOnly.txt\n",
      "file exists in directory: /projects/ps-yeolab3/encode/rnaseq/alt_splicing/graveley_rmats_current/PCBP3-BGKcLV06-K562.set39_K.RI.MATS.JunctionCountOnly.txt\n",
      "file exists in directory: /projects/ps-yeolab3/encode/rnaseq/alt_splicing/graveley_rmats_current/POLR2G-BGKcLV06-K562.set39_K.SE.MATS.JunctionCountOnly.txt\n",
      "file exists in directory: /projects/ps-yeolab3/encode/rnaseq/alt_splicing/graveley_rmats_current/POLR2G-BGKcLV06-K562.set39_K.MXE.MATS.JunctionCountOnly.txt\n",
      "file exists in directory: /projects/ps-yeolab3/encode/rnaseq/alt_splicing/graveley_rmats_current/POLR2G-BGKcLV06-K562.set39_K.A5SS.MATS.JunctionCountOnly.txt\n",
      "file exists in directory: /projects/ps-yeolab3/encode/rnaseq/alt_splicing/graveley_rmats_current/POLR2G-BGKcLV06-K562.set39_K.A3SS.MATS.JunctionCountOnly.txt\n",
      "file exists in directory: /projects/ps-yeolab3/encode/rnaseq/alt_splicing/graveley_rmats_current/POLR2G-BGKcLV06-K562.set39_K.RI.MATS.JunctionCountOnly.txt\n",
      "file exists in directory: /projects/ps-yeolab3/encode/rnaseq/alt_splicing/graveley_rmats_current/SAFB-BGKcLV06-K562.set39_K.SE.MATS.JunctionCountOnly.txt\n",
      "file exists in directory: /projects/ps-yeolab3/encode/rnaseq/alt_splicing/graveley_rmats_current/SAFB-BGKcLV06-K562.set39_K.MXE.MATS.JunctionCountOnly.txt\n",
      "file exists in directory: /projects/ps-yeolab3/encode/rnaseq/alt_splicing/graveley_rmats_current/SAFB-BGKcLV06-K562.set39_K.A5SS.MATS.JunctionCountOnly.txt\n",
      "file exists in directory: /projects/ps-yeolab3/encode/rnaseq/alt_splicing/graveley_rmats_current/SAFB-BGKcLV06-K562.set39_K.A3SS.MATS.JunctionCountOnly.txt\n",
      "file exists in directory: /projects/ps-yeolab3/encode/rnaseq/alt_splicing/graveley_rmats_current/SAFB-BGKcLV06-K562.set39_K.RI.MATS.JunctionCountOnly.txt\n",
      "file exists in directory: /projects/ps-yeolab3/encode/rnaseq/alt_splicing/graveley_rmats_current/SDAD1-BGKcLV06-K562.set39_K.SE.MATS.JunctionCountOnly.txt\n",
      "file exists in directory: /projects/ps-yeolab3/encode/rnaseq/alt_splicing/graveley_rmats_current/SDAD1-BGKcLV06-K562.set39_K.MXE.MATS.JunctionCountOnly.txt\n",
      "file exists in directory: /projects/ps-yeolab3/encode/rnaseq/alt_splicing/graveley_rmats_current/SDAD1-BGKcLV06-K562.set39_K.A5SS.MATS.JunctionCountOnly.txt\n",
      "file exists in directory: /projects/ps-yeolab3/encode/rnaseq/alt_splicing/graveley_rmats_current/SDAD1-BGKcLV06-K562.set39_K.A3SS.MATS.JunctionCountOnly.txt\n",
      "file exists in directory: /projects/ps-yeolab3/encode/rnaseq/alt_splicing/graveley_rmats_current/SDAD1-BGKcLV06-K562.set39_K.RI.MATS.JunctionCountOnly.txt\n",
      "file exists in directory: /projects/ps-yeolab3/encode/rnaseq/alt_splicing/graveley_rmats_current/SRSF4-BGKcLV04-K562.set39_K.SE.MATS.JunctionCountOnly.txt\n",
      "file exists in directory: /projects/ps-yeolab3/encode/rnaseq/alt_splicing/graveley_rmats_current/SRSF4-BGKcLV04-K562.set39_K.MXE.MATS.JunctionCountOnly.txt\n",
      "file exists in directory: /projects/ps-yeolab3/encode/rnaseq/alt_splicing/graveley_rmats_current/SRSF4-BGKcLV04-K562.set39_K.A5SS.MATS.JunctionCountOnly.txt\n",
      "file exists in directory: /projects/ps-yeolab3/encode/rnaseq/alt_splicing/graveley_rmats_current/SRSF4-BGKcLV04-K562.set39_K.A3SS.MATS.JunctionCountOnly.txt\n",
      "file exists in directory: /projects/ps-yeolab3/encode/rnaseq/alt_splicing/graveley_rmats_current/SRSF4-BGKcLV04-K562.set39_K.RI.MATS.JunctionCountOnly.txt\n",
      "file exists in directory: /projects/ps-yeolab3/encode/rnaseq/alt_splicing/graveley_rmats_current/SRSF9-BGKcLV06-K562.set39_K.SE.MATS.JunctionCountOnly.txt\n",
      "file exists in directory: /projects/ps-yeolab3/encode/rnaseq/alt_splicing/graveley_rmats_current/SRSF9-BGKcLV06-K562.set39_K.MXE.MATS.JunctionCountOnly.txt\n",
      "file exists in directory: /projects/ps-yeolab3/encode/rnaseq/alt_splicing/graveley_rmats_current/SRSF9-BGKcLV06-K562.set39_K.A5SS.MATS.JunctionCountOnly.txt\n",
      "file exists in directory: /projects/ps-yeolab3/encode/rnaseq/alt_splicing/graveley_rmats_current/SRSF9-BGKcLV06-K562.set39_K.A3SS.MATS.JunctionCountOnly.txt\n",
      "file exists in directory: /projects/ps-yeolab3/encode/rnaseq/alt_splicing/graveley_rmats_current/SRSF9-BGKcLV06-K562.set39_K.RI.MATS.JunctionCountOnly.txt\n",
      "file exists in directory: /projects/ps-yeolab3/encode/rnaseq/alt_splicing/graveley_rmats_current/SYNCRIP-BGKcLV06-K562.set39_K.SE.MATS.JunctionCountOnly.txt\n",
      "file exists in directory: /projects/ps-yeolab3/encode/rnaseq/alt_splicing/graveley_rmats_current/SYNCRIP-BGKcLV06-K562.set39_K.MXE.MATS.JunctionCountOnly.txt\n",
      "file exists in directory: /projects/ps-yeolab3/encode/rnaseq/alt_splicing/graveley_rmats_current/SYNCRIP-BGKcLV06-K562.set39_K.A5SS.MATS.JunctionCountOnly.txt\n",
      "file exists in directory: /projects/ps-yeolab3/encode/rnaseq/alt_splicing/graveley_rmats_current/SYNCRIP-BGKcLV06-K562.set39_K.A3SS.MATS.JunctionCountOnly.txt\n",
      "file exists in directory: /projects/ps-yeolab3/encode/rnaseq/alt_splicing/graveley_rmats_current/SYNCRIP-BGKcLV06-K562.set39_K.RI.MATS.JunctionCountOnly.txt\n",
      "file exists in directory: /projects/ps-yeolab3/encode/rnaseq/alt_splicing/graveley_rmats_current/TRNAU1AP-BGKcLV06-K562.set39_K.SE.MATS.JunctionCountOnly.txt\n",
      "file exists in directory: /projects/ps-yeolab3/encode/rnaseq/alt_splicing/graveley_rmats_current/TRNAU1AP-BGKcLV06-K562.set39_K.MXE.MATS.JunctionCountOnly.txt\n",
      "file exists in directory: /projects/ps-yeolab3/encode/rnaseq/alt_splicing/graveley_rmats_current/TRNAU1AP-BGKcLV06-K562.set39_K.A5SS.MATS.JunctionCountOnly.txt\n",
      "file exists in directory: /projects/ps-yeolab3/encode/rnaseq/alt_splicing/graveley_rmats_current/TRNAU1AP-BGKcLV06-K562.set39_K.A3SS.MATS.JunctionCountOnly.txt\n",
      "file exists in directory: /projects/ps-yeolab3/encode/rnaseq/alt_splicing/graveley_rmats_current/TRNAU1AP-BGKcLV06-K562.set39_K.RI.MATS.JunctionCountOnly.txt\n",
      "file exists in directory: /projects/ps-yeolab3/encode/rnaseq/alt_splicing/graveley_rmats_current/UTP3-BGKLV38-K562.set39_K.SE.MATS.JunctionCountOnly.txt\n",
      "file exists in directory: /projects/ps-yeolab3/encode/rnaseq/alt_splicing/graveley_rmats_current/UTP3-BGKLV38-K562.set39_K.MXE.MATS.JunctionCountOnly.txt\n",
      "file exists in directory: /projects/ps-yeolab3/encode/rnaseq/alt_splicing/graveley_rmats_current/UTP3-BGKLV38-K562.set39_K.A5SS.MATS.JunctionCountOnly.txt\n",
      "file exists in directory: /projects/ps-yeolab3/encode/rnaseq/alt_splicing/graveley_rmats_current/UTP3-BGKLV38-K562.set39_K.A3SS.MATS.JunctionCountOnly.txt\n",
      "file exists in directory: /projects/ps-yeolab3/encode/rnaseq/alt_splicing/graveley_rmats_current/UTP3-BGKLV38-K562.set39_K.RI.MATS.JunctionCountOnly.txt\n",
      "file exists in directory: /projects/ps-yeolab3/encode/rnaseq/alt_splicing/graveley_rmats_current/ZNF800-BGKcLV06-K562.set39_K.SE.MATS.JunctionCountOnly.txt\n",
      "file exists in directory: /projects/ps-yeolab3/encode/rnaseq/alt_splicing/graveley_rmats_current/ZNF800-BGKcLV06-K562.set39_K.MXE.MATS.JunctionCountOnly.txt\n",
      "file exists in directory: /projects/ps-yeolab3/encode/rnaseq/alt_splicing/graveley_rmats_current/ZNF800-BGKcLV06-K562.set39_K.A5SS.MATS.JunctionCountOnly.txt\n",
      "file exists in directory: /projects/ps-yeolab3/encode/rnaseq/alt_splicing/graveley_rmats_current/ZNF800-BGKcLV06-K562.set39_K.A3SS.MATS.JunctionCountOnly.txt\n",
      "file exists in directory: /projects/ps-yeolab3/encode/rnaseq/alt_splicing/graveley_rmats_current/ZNF800-BGKcLV06-K562.set39_K.RI.MATS.JunctionCountOnly.txt\n"
     ]
    }
   ],
   "source": [
    "o = open(output_file, 'w')\n",
    "target_files = {} # make sure we don't overwrite files\n",
    "with open(from_xintao, 'r') as f:\n",
    "    for line in f:\n",
    "        if line.startswith('http://'):\n",
    "            filename_segments = line.rstrip().split('/')\n",
    "            splice_event = filename_segments[-1:][0]\n",
    "            set_num = filename_segments[-6]\n",
    "            rbp = filename_segments[-3:-2][0]\n",
    "            target_file = os.path.join(output_dir, '{}.{}.{}'.format(rbp, set_num, splice_event))\n",
    "            if os.path.exists(target_file):\n",
    "                print(\"file exists in directory: {}\".format(target_file))\n",
    "            elif target_file in target_files.keys():\n",
    "                print(\"duplicated output filename: {}\".format(target_file))\n",
    "            else:\n",
    "                target_files[target_file] = 1 \n",
    "                o.write(\"wget {} -O {};\\n\".format(\n",
    "                    line.rstrip(), target_file\n",
    "                ))\n",
    "o.close()"
   ]
  }
 ],
 "metadata": {
  "kernelspec": {
   "display_name": "Python 2",
   "language": "python",
   "name": "python2"
  },
  "language_info": {
   "codemirror_mode": {
    "name": "ipython",
    "version": 2
   },
   "file_extension": ".py",
   "mimetype": "text/x-python",
   "name": "python",
   "nbconvert_exporter": "python",
   "pygments_lexer": "ipython2",
   "version": "2.7.14"
  }
 },
 "nbformat": 4,
 "nbformat_minor": 1
}
