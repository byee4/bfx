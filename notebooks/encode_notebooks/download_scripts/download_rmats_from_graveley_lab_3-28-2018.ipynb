{
 "cells": [
  {
   "cell_type": "code",
   "execution_count": 1,
   "metadata": {},
   "outputs": [],
   "source": [
    "import pandas as pd\n",
    "import os\n",
    "import re\n",
    "import glob\n",
    "from tqdm import tnrange, tqdm_notebook"
   ]
  },
  {
   "cell_type": "code",
   "execution_count": 2,
   "metadata": {},
   "outputs": [],
   "source": [
    "from_xintao = '/projects/ps-yeolab3/encode/rnaseq/alt_splicing/rmats_orig_results_URLs_set39.20180328.txt'\n",
    "output_file = '/projects/ps-yeolab3/encode/rnaseq/alt_splicing/rmats_orig_results_URLs_set39.20180328.sh'\n",
    "output_dir = '/projects/ps-yeolab3/encode/rnaseq/alt_splicing/graveley_rmats_current'"
   ]
  },
  {
   "cell_type": "code",
   "execution_count": 3,
   "metadata": {},
   "outputs": [],
   "source": [
    "o = open(output_file, 'w')\n",
    "target_files = {} # make sure we don't overwrite files\n",
    "with open(from_xintao, 'r') as f:\n",
    "    for line in f:\n",
    "        if line.startswith('http://'):\n",
    "            filename_segments = line.rstrip().split('/')\n",
    "            splice_event = filename_segments[-1:][0]\n",
    "            set_num = filename_segments[-6]\n",
    "            rbp = filename_segments[-3:-2][0]\n",
    "            target_file = os.path.join(output_dir, '{}.{}.{}'.format(rbp, set_num, splice_event))\n",
    "            if os.path.exists(target_file):\n",
    "                print(\"file exists in directory: {}\".format(target_file))\n",
    "            elif target_file in target_files.keys():\n",
    "                print(\"duplicated output filename: {}\".format(target_file))\n",
    "            else:\n",
    "                target_files[target_file] = 1 \n",
    "                o.write(\"wget {} -O {};\\n\".format(\n",
    "                    line.rstrip(), target_file\n",
    "                ))\n",
    "o.close()"
   ]
  }
 ],
 "metadata": {
  "kernelspec": {
   "display_name": "Python 2",
   "language": "python",
   "name": "python2"
  },
  "language_info": {
   "codemirror_mode": {
    "name": "ipython",
    "version": 2
   },
   "file_extension": ".py",
   "mimetype": "text/x-python",
   "name": "python",
   "nbconvert_exporter": "python",
   "pygments_lexer": "ipython2",
   "version": "2.7.14"
  }
 },
 "nbformat": 4,
 "nbformat_minor": 1
}
