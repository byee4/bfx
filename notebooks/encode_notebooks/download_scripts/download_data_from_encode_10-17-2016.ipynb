{
 "cells": [
  {
   "cell_type": "markdown",
   "metadata": {},
   "source": [
    "# Basic download from encode script."
   ]
  },
  {
   "cell_type": "code",
   "execution_count": 5,
   "metadata": {
    "collapsed": true
   },
   "outputs": [],
   "source": [
    "import pandas\n",
    "import urllib\n",
    "import json\n",
    "import requests\n",
    "import os\n",
    "host = 'https://www.encodeproject.org'\n",
    "experiments = \"https://www.encodeproject.org/experiments/\"\n",
    "df"
   ]
  },
  {
   "cell_type": "code",
   "execution_count": 6,
   "metadata": {
    "collapsed": true
   },
   "outputs": [],
   "source": [
    "samples = list()\n",
    "links = list()\n",
    "controls = list()\n",
    "error = list()\n",
    "for h in X['RNASEQ_ENCODEAccID'].dropna():\n",
    "    url = experiments+h+\"/?format=json\"\n",
    "    response = urllib.urlopen(url)\n",
    "    data = json.loads(response.read())\n",
    "    if 'code' in data.keys():\n",
    "        next\n",
    "    else:\n",
    "        for i in range(0,len(data['files'])):\n",
    "            # for key, value in data['files'][i].iteritems():\n",
    "            #     print(key)\n",
    "            # print(data['files'][i].iteritems())\n",
    "            # print( data['files'][i]['replicate']['biological_replicate_number'])\n",
    "            if ((host+data['files'][i]['href']).endswith('bam') & \n",
    "            (data['files'][i]['output_type'] == u'alignments') &\n",
    "            (data['files'][i]['lab'][u'name'] == 'encode-processing-pipeline')):\n",
    "                if(list(X[X['RNASEQ_ENCODEAccID']==h]['RNASEQ_ControlENC'])[0] != data['possible_controls'][0]['accession']):\n",
    "                    error.append(\"WARNING: CTRL VS AFF CHANGED: {}:{}:{}\".format(\n",
    "                        h,\n",
    "                        list(X[X['RNASEQ_ENCODEAccID']==h]['RNASEQ_ControlENC'])[0],\n",
    "                        data['possible_controls'][0]['accession']))\n",
    "                samples.append({'biological_replicate_number':data['files'][i]['replicate']['biological_replicate_number'],\n",
    "                                'submitted_expt_file_name':data['files'][i]['submitted_file_name'],\n",
    "                                'expt_file_name':os.path.basename(data['files'][i]['href']),\n",
    "                                'assembly':data['files'][i]['assembly'],\n",
    "                                'expt_url':host+data['files'][i]['href'],\n",
    "                                'RNASEQ_ControlENC':data['possible_controls'][0]['accession'],\n",
    "                                'RNASEQ_ENCODEAccID':h,\n",
    "                                'aligner': star_or_tophat(data['files'][i]['submitted_file_name'])\n",
    "                               })\n",
    "                links.append(host+data['files'][i]['href'])\n",
    "        controls.append(data['possible_controls'][0]['accession'])\n",
    "samples_df = pandas.DataFrame(samples)\n",
    "samples_df.to_csv(sample_manifest,\n",
    "                  sep='\\t',\n",
    "                  index=None)\n",
    "samples_df"
   ]
  },
  {
   "cell_type": "code",
   "execution_count": 19,
   "metadata": {
    "collapsed": false
   },
   "outputs": [
    {
     "name": "stdout",
     "output_type": "stream",
     "text": [
      "[u'category_slims', u'system_slims', u'possible_controls', u'original_files', u'assay_title', u'replicates', u'related_series', u'references', u'alternate_accessions', u'internal_tags', u'files', u'aliases', u'submitted_by', u'internal_status', u'hub', u'biosample_type', u'schema_version', u'type_slims', u'developmental_slims', u'@context', u'supersedes', u'biosample_synonyms', u'status', u'assembly', u'description', u'contributing_files', u'assay_term_name', u'month_released', u'award', u'accession', u'dbxrefs', u'lab', u'assay_slims', u'revoked_files', u'@id', u'visualize_ucsc', u'uuid', u'audit', u'related_files', u'target', u'assay_term_id', u'assay_synonyms', u'superseded_by', u'biosample_term_id', u'organ_slims', u'objective_slims', u'biosample_term_name', u'@type', u'biosample_summary', u'replication_type', u'date_created', u'date_released', u'documents']\n",
      "\n",
      "record creation date: 2014-09-17T16:10:36.932725+00:00\n",
      "\n",
      "ENCFF281FUM.bam\n",
      "ENCFF724ALC.bam\n",
      "ENCFF511KGL.bam\n",
      "ENCFF885QTS.bam\n",
      "ENCFF275QEO.bam\n",
      "ENCFF617MXY.bam\n",
      "ENCFF597IYH.bam\n",
      "ENCFF670XLK.bam\n",
      "ENCFF628CMT.bam\n",
      "ENCFF726VDB.bam\n",
      "ENCFF158ITX.bam\n",
      "ENCFF716LLZ.bam\n",
      "ENCFF655GRA.bam\n",
      "ENCFF050QIB.bam\n"
     ]
    }
   ],
   "source": [
    "url = experiments+expt+\"/?format=json\"\n",
    "response = urllib.urlopen(url)\n",
    "data = json.loads(response.read())\n",
    "if 'code' in data.keys():\n",
    "    next\n",
    "else:\n",
    "    print(data.keys()) # this the toplevel \n",
    "    print(\"\\nrecord creation date: {}\\n\".format(data['date_created'])) # access the date\n",
    "    \n",
    "    for i in range(0,len(data['files'])):\n",
    "        \"\"\"\n",
    "        Loop over files, print info about the bams\n",
    "        \"\"\"\n",
    "        if (data['files'][i]['href'].endswith('.bam')):\n",
    "            print(os.path.basename(data['files'][i]['href']))"
   ]
  },
  {
   "cell_type": "code",
   "execution_count": null,
   "metadata": {
    "collapsed": false
   },
   "outputs": [],
   "source": []
  },
  {
   "cell_type": "code",
   "execution_count": null,
   "metadata": {
    "collapsed": true
   },
   "outputs": [],
   "source": []
  }
 ],
 "metadata": {
  "kernelspec": {
   "display_name": "Python 2",
   "language": "python",
   "name": "python2"
  },
  "language_info": {
   "codemirror_mode": {
    "name": "ipython",
    "version": 2
   },
   "file_extension": ".py",
   "mimetype": "text/x-python",
   "name": "python",
   "nbconvert_exporter": "python",
   "pygments_lexer": "ipython2",
   "version": "2.7.12"
  }
 },
 "nbformat": 4,
 "nbformat_minor": 1
}
