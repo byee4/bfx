{
 "cells": [
  {
   "cell_type": "code",
   "execution_count": 1,
   "metadata": {},
   "outputs": [],
   "source": [
    "import pandas as pd\n",
    "import numpy as np\n",
    "import os\n",
    "import csv"
   ]
  },
  {
   "cell_type": "code",
   "execution_count": null,
   "metadata": {},
   "outputs": [],
   "source": []
  },
  {
   "cell_type": "markdown",
   "metadata": {},
   "source": [
    "# The code here sucks so I'm re-writing it."
   ]
  },
  {
   "cell_type": "raw",
   "metadata": {},
   "source": [
    "wd = '/projects/ps-yeolab3/encode/rnaseq/alt_splicing/graveley_rmats_10-31-2016/'\n",
    "o = open(os.path.join(wd,'files.txt.download'),'w')\n",
    "o.write('')\n",
    "with open(os.path.join(wd,'files.txt'),'r') as f:\n",
    "    for line in f:\n",
    "        line = line.rstrip()\n",
    "        line2 = re.sub(r\"set\\d+\", \"\", line)\n",
    "        line2 = line2.replace(\n",
    "            'http://graveleylab.cam.uchc.edu','').replace(\n",
    "            '/ENCODE/ENCODE_DATA/','').replace(\n",
    "            '/MATS_output/','-').replace(\n",
    "            '/rmats/novel_juncs/','')\n",
    "        if line.endswith('.JunctionCountOnly.txt'):\n",
    "            o.write(\"wget {} -O {};\\n\".format(line.rstrip(),\n",
    "                                             line2))\n",
    "o.close()"
   ]
  },
  {
   "cell_type": "code",
   "execution_count": 2,
   "metadata": {},
   "outputs": [],
   "source": [
    "from_xintao = '/projects/ps-yeolab3/encode/rnaseq/alt_splicing/rmats_output_fileNames.20161118.txt'\n",
    "output_file = '/projects/ps-yeolab3/encode/rnaseq/alt_splicing/rmats_output_fileNames.20161118.sh'\n",
    "output_dir = '/projects/ps-yeolab3/encode/rnaseq/alt_splicing/graveley_rmats_current'"
   ]
  },
  {
   "cell_type": "code",
   "execution_count": 3,
   "metadata": {},
   "outputs": [],
   "source": [
    "o = open(output_file, 'w')\n",
    "target_files = {} # make sure we don't overwrite files\n",
    "with open(from_xintao, 'r') as f:\n",
    "    for line in f:\n",
    "        if line.startswith('http://'):\n",
    "            filename_segments = line.rstrip().split('/')\n",
    "            splice_event = filename_segments[-1:][0]\n",
    "            set_num = filename_segments[-6]\n",
    "            rbp = filename_segments[-3:-2][0]\n",
    "            target_file = os.path.join(output_dir, '{}.{}.{}'.format(rbp, set_num, splice_event))\n",
    "            if os.path.exists(target_file):\n",
    "                print(\"file exists in directory: {}\".format(target_file))\n",
    "            elif target_file in target_files.keys():\n",
    "                print(\"duplicated output filename: {}\".format(target_file))\n",
    "            else:\n",
    "                target_files[target_file] = 1 \n",
    "                o.write(\"wget {} -O {};\\n\".format(\n",
    "                    line.rstrip(), target_file\n",
    "                ))\n",
    "o.close()"
   ]
  },
  {
   "cell_type": "code",
   "execution_count": null,
   "metadata": {},
   "outputs": [],
   "source": []
  }
 ],
 "metadata": {
  "kernelspec": {
   "display_name": "Python 2",
   "language": "python",
   "name": "python2"
  },
  "language_info": {
   "codemirror_mode": {
    "name": "ipython",
    "version": 2
   },
   "file_extension": ".py",
   "mimetype": "text/x-python",
   "name": "python",
   "nbconvert_exporter": "python",
   "pygments_lexer": "ipython2",
   "version": "2.7.14"
  }
 },
 "nbformat": 4,
 "nbformat_minor": 1
}
