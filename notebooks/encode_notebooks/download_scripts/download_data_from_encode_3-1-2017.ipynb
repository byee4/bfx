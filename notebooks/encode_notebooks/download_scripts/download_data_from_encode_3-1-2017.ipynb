{
 "cells": [
  {
   "cell_type": "markdown",
   "metadata": {},
   "source": [
    "# Basic download from encode script.\n",
    "- Current stats as of 2-28:\n",
    "    - 526 Hg19 bams total (254 HepG2, 272 K562).  \n",
    "    - 474 Hg19 bams (230 HepG2, 244 K562)\n",
    "    - 52 control Hg19 bams (24 HepG2, 28 K562)\n",
    "    - 2 missing possible controls (TIA1 K562 and PPIL4 K562)\n",
    "    "
   ]
  },
  {
   "cell_type": "code",
   "execution_count": 1,
   "metadata": {
    "collapsed": false
   },
   "outputs": [],
   "source": [
    "import pandas as pd\n",
    "import urllib\n",
    "import json\n",
    "import requests\n",
    "import os\n",
    "from collections import defaultdict\n",
    "import qtools\n",
    "pd.set_option(\"display.max_columns\",500)\n",
    "host = 'https://www.encodeproject.org'\n",
    "experiments = \"https://www.encodeproject.org/experiments/\"\n",
    "date = '3-1-2017'\n",
    "annotated_manifest = '/home/bay001/projects/encode/permanent_data/RBP_annotations_MASTER_AllDatasets_20170221.csv'\n",
    "downloaded_dir = '/projects/ps-yeolab3/encode/rnaseq/shrna_knockdown/'\n",
    "other_dir = '/projects/ps-yeolab3/encode/rnaseq/shrna_knockdown/aug_16-jan_17/'"
   ]
  },
  {
   "cell_type": "code",
   "execution_count": 2,
   "metadata": {
    "collapsed": false
   },
   "outputs": [
    {
     "name": "stdout",
     "output_type": "stream",
     "text": [
      "number of hepg2 bams on encode: 952\n",
      "number of k562 bams on encode: 1020\n",
      "number of intersecting Hepg2 rbps: 75\n",
      "number of intersecting K562 rbps: 84\n",
      "number of encodeorg hepg2 bams associated with intersecting annotated rbps: 316\n",
      "number of encodeorg k562 bams associated with intersecting annotated rbps: 392\n"
     ]
    }
   ],
   "source": [
    "assembly = 'hg19'\n",
    "df = pd.read_table(annotated_manifest,skiprows=5).fillna(0)\n",
    "\n",
    "_annotated_hepg2 = df[(df['RNAseq HepG2']==1) & (df['eCLIP HepG2']==1)]\n",
    "_annotated_k562 = df[(df['RNAseq K562']==1) & (df['eCLIP K562']==1)]\n",
    "\n",
    "hepg2_rbps = _annotated_hepg2['RBP name'] + '-human'\n",
    "k562_rbps = _annotated_k562['RBP name'] + '-human'\n",
    "\n",
    "encode_manifest = '/home/bay001/projects/encode/permanent_data/metadata_from_encodeprojectorg_{}.tsv'.format(date)\n",
    "encode_manifest_df = pd.read_table(encode_manifest)\n",
    "encode_manifest_df = encode_manifest_df[\n",
    "    (encode_manifest_df['Output type']=='alignments') & \n",
    "    (encode_manifest_df['Lab']=='ENCODE Processing Pipeline') &\n",
    "    (encode_manifest_df['Assembly']==assembly)\n",
    "]\n",
    "\n",
    "encodeorg_hepg2 = encode_manifest_df[encode_manifest_df['Biosample term name']=='HepG2']\n",
    "encodeorg_k562 = encode_manifest_df[encode_manifest_df['Biosample term name']=='K562']\n",
    "\n",
    "encodeorg_intersect_annotations_hepg2 = encodeorg_hepg2[encodeorg_hepg2['Experiment target'].isin(hepg2_rbps)]\n",
    "encodeorg_intersect_annotations_k562 = encodeorg_k562[encodeorg_k562['Experiment target'].isin(k562_rbps)]\n",
    "\n",
    "print(\"number of hepg2 bams on encode: {}\".format(encodeorg_hepg2.shape[0]))\n",
    "print(\"number of k562 bams on encode: {}\".format(encodeorg_k562.shape[0]))\n",
    "print(\"number of intersecting Hepg2 rbps: {}\".format(_annotated_hepg2.shape[0]))\n",
    "print(\"number of intersecting K562 rbps: {}\".format(_annotated_k562.shape[0]))\n",
    "print(\n",
    "    \"number of encodeorg hepg2 bams associated with intersecting annotated rbps: {}\".format(\n",
    "        encodeorg_intersect_annotations_hepg2.shape[0]\n",
    "    )\n",
    ")\n",
    "print(\n",
    "    \"number of encodeorg k562 bams associated with intersecting annotated rbps: {}\".format(\n",
    "        encodeorg_intersect_annotations_k562.shape[0]\n",
    "    )\n",
    ")"
   ]
  },
  {
   "cell_type": "markdown",
   "metadata": {},
   "source": [
    "# Do some other cursory checks since the numbers don't add up...\n",
    "- There are doubly-counted RBPs which have both shRNA and CRISPR knockouts, we should just use one."
   ]
  },
  {
   "cell_type": "code",
   "execution_count": 3,
   "metadata": {
    "collapsed": false
   },
   "outputs": [
    {
     "name": "stdout",
     "output_type": "stream",
     "text": [
      "SRSF7-human\n",
      "DDX59-human\n",
      "IGF2BP1-human\n",
      "U2AF2-human\n"
     ]
    }
   ],
   "source": [
    "# length of the set of rbps\n",
    "len(set(encodeorg_intersect_annotations_hepg2['Experiment target']))\n",
    "for rbp in set(encodeorg_intersect_annotations_hepg2['Experiment target']):\n",
    "    if encodeorg_intersect_annotations_hepg2[encodeorg_intersect_annotations_hepg2['Experiment target']==rbp].shape[0] != 4:\n",
    "        print(rbp) # these end up being rbps that contain both CRISPR knockouts and RNASEQ knockouts"
   ]
  },
  {
   "cell_type": "markdown",
   "metadata": {},
   "source": [
    "# Actually let's just use the gsheet from xintao, which contains expt information\n",
    "- 73 eclip + shrna (hepg2) (CDC40, RBM5 missing)\n",
    "- 84 eclip + shrna (k562)\n",
    "- "
   ]
  },
  {
   "cell_type": "code",
   "execution_count": 4,
   "metadata": {
    "collapsed": false
   },
   "outputs": [
    {
     "name": "stdout",
     "output_type": "stream",
     "text": [
      "number of eclip + shrna/crisper knockdowns (HepG2): 75\n",
      "number of eclip + shrna/crisper knockdowns (K562): 84\n"
     ]
    },
    {
     "data": {
      "text/plain": [
       "set()"
      ]
     },
     "execution_count": 4,
     "metadata": {},
     "output_type": "execute_result"
    }
   ],
   "source": [
    "gsheet = pd.read_table(\n",
    "    '/home/bay001/projects/encode/permanent_data/submitted_exp_20170110_gsheet_from_xintao_2-28-2017.tsv',\n",
    "    index_col=0\n",
    ").fillna(0)\n",
    "gsheet.drop(['# on DCC'],inplace=True)\n",
    "annotated_hepg2 = gsheet[\n",
    "    (gsheet['RNA-Seq on HepG2']!=0)\n",
    "] # overwriting above df\n",
    "annotated_k562 = gsheet[gsheet['RNA-Seq on K562']!=0] # overwriting above df\n",
    "\n",
    "# manually adding them in since the CRISPR expts don't intersect with eCLIP expts\n",
    "intersected_hepg2 = annotated_hepg2[\n",
    "    (annotated_hepg2['eCLIP on HepG2']!=0) | \\\n",
    "    (annotated_hepg2['RNA-Seq on HepG2']=='ENCSR606PVX') | \\\n",
    "    (annotated_hepg2['RNA-Seq on HepG2']=='ENCSR278NFF')\n",
    "]\n",
    "intersected_k562 = annotated_k562[\n",
    "    annotated_k562['eCLIP on K562']!=0\n",
    "]\n",
    "\n",
    "print(\"number of eclip + shrna/crisper knockdowns (HepG2): {}\".format(intersected_hepg2.shape[0]))\n",
    "print(\"number of eclip + shrna/crisper knockdowns (K562): {}\".format(intersected_k562.shape[0]))\n",
    "set(_annotated_hepg2['RBP name']) - set(intersected_hepg2.index) # there are two (CDC40 and RBM5 that are unaccounted for)"
   ]
  },
  {
   "cell_type": "code",
   "execution_count": 5,
   "metadata": {
    "collapsed": false
   },
   "outputs": [
    {
     "data": {
      "text/plain": [
       "(75, 13)"
      ]
     },
     "execution_count": 5,
     "metadata": {},
     "output_type": "execute_result"
    }
   ],
   "source": [
    "intersected_hepg2.shape"
   ]
  },
  {
   "cell_type": "code",
   "execution_count": 6,
   "metadata": {
    "collapsed": false
   },
   "outputs": [],
   "source": [
    "def split_row(row):\n",
    "    pass\n",
    "\n",
    "def star_or_tophat(link):\n",
    "    \"\"\"\n",
    "    from the link, reads and returns whether or not STAR or TOPHAT are in the filename.\n",
    "    \"\"\"\n",
    "    # print(\"LINK\",os.path.basename(link))\n",
    "    if os.path.basename(link).find('star') > -1:\n",
    "        return 'STAR'\n",
    "    if os.path.basename(link).find('tophat') > -1:\n",
    "        return 'TOPHAT'\n",
    "    return 'ambiguous'\n",
    "\n",
    "def exists(fpath, current, other):\n",
    "    \"\"\"\n",
    "    returns whether or not the file (fpath) exists in the directory(current)\n",
    "    \"\"\"\n",
    "    base = os.path.basename(fpath.rstrip())\n",
    "    if not os.path.exists(os.path.join(current,fpath)):\n",
    "        return os.path.exists(os.path.join(other,fpath))\n",
    "    else:\n",
    "        return True\n",
    "    \n",
    "def exists_and_return_fullpath(fpath, current, other):\n",
    "    \"\"\"\n",
    "    returns whether or not the file (fpath) exists in the directory(current)\n",
    "    \"\"\"\n",
    "    base = os.path.basename(fpath.rstrip())\n",
    "    if not os.path.exists(os.path.join(current,fpath)):\n",
    "        if os.path.exists(os.path.join(other,fpath)):\n",
    "            return os.path.join(other,fpath)\n",
    "        else:\n",
    "            return False\n",
    "    else:\n",
    "        return os.path.join(current,fpath)\n",
    "    \n",
    "def get_bams_from_expt_id(expt_id, assembly='hg19'):\n",
    "    # print(expt_id)\n",
    "    sample_bams = []\n",
    "    control_expts = []\n",
    "    \n",
    "    experiments = \"https://www.encodeproject.org/experiments/\"\n",
    "    url = experiments+expt_id+\"/?format=json\"\n",
    "    response = urllib.urlopen(url)\n",
    "    data = json.loads(response.read())\n",
    "    if 'code' in data.keys():\n",
    "        next\n",
    "    else:\n",
    "        for i in range(0,len(data['files'])):\n",
    "            if (\n",
    "                (host+data['files'][i]['href']).endswith('bam') & \n",
    "                (data['files'][i]['output_type'] == u'alignments') &\n",
    "                (data['files'][i]['lab'][u'name'] == 'encode-processing-pipeline') &\n",
    "                (star_or_tophat(data['files'][i]['submitted_file_name']) == 'STAR')\n",
    "            ):\n",
    "                if(data['files'][i]['assembly'] == assembly):\n",
    "                    sample_bams.append(\n",
    "                        {\n",
    "                            os.path.basename(data['files'][i]['href']):data['files'][i]['md5sum']\n",
    "                        }\n",
    "                    )\n",
    "        try:\n",
    "            control_expts.append(data['possible_controls'][0]['accession'])\n",
    "        except IndexError:\n",
    "            pass\n",
    "            # print(\"this is a control\")\n",
    "    if(len(control_expts) > 1):\n",
    "        print(\"Warning, this expt {} has more than 1 associated control expt\".format(expt_id))\n",
    "    return data['target']['label'], sample_bams, control_expts"
   ]
  },
  {
   "cell_type": "code",
   "execution_count": null,
   "metadata": {
    "collapsed": false
   },
   "outputs": [],
   "source": []
  },
  {
   "cell_type": "code",
   "execution_count": null,
   "metadata": {
    "collapsed": false
   },
   "outputs": [],
   "source": [
    "X = intersected_hepg2\n",
    "samples = defaultdict(dict)\n",
    "links = list()\n",
    "error = list()\n",
    "assembly = 'hg19'\n",
    "for expt_id in X['RNA-Seq on HepG2'].dropna():\n",
    "    if ',' in expt_id:\n",
    "        expt_id = expt_id.split(',')\n",
    "        print(expt_id),\n",
    "    else:\n",
    "        expt_id = [expt_id]\n",
    "        print(expt_id),\n",
    "    for h in expt_id:\n",
    "        sname, s, control_expt = get_bams_from_expt_id(h)\n",
    "        cname, c, _ = get_bams_from_expt_id(control_expt[0])\n",
    "        for i in range(0,len(s)):\n",
    "            samples_key = 'expt_rep{}'.format(i+1)\n",
    "            samples_md5sum_key = 'expt_rep{}_md5sum'.format(i+1)\n",
    "            control_key = 'control_rep{}'.format(i+1)\n",
    "            controls_md5sum_key = 'control_rep{}_md5sum'.format(i+1)\n",
    "            name_key = 'name'\n",
    "            samples[h][name_key] = sname\n",
    "            samples[h][samples_key] = s[i].keys()[0]\n",
    "            samples[h][control_key] = c[i].keys()[0]\n",
    "            samples[h][samples_md5sum_key] = s[i].values()[0]\n",
    "            samples[h][controls_md5sum_key] = c[i].values()[0]\n",
    "hepg2_bams = pd.DataFrame(samples).T\n",
    "hepg2_bams.head()"
   ]
  },
  {
   "cell_type": "code",
   "execution_count": null,
   "metadata": {
    "collapsed": false
   },
   "outputs": [],
   "source": [
    "X = intersected_k562\n",
    "samples = defaultdict(dict)\n",
    "links = list()\n",
    "error = list()\n",
    "assembly = 'hg19'\n",
    "for expt_id in X['RNA-Seq on K562'].dropna():\n",
    "    if ',' in expt_id:\n",
    "        expt_id = expt_id.split(',')\n",
    "        print(expt_id),\n",
    "    else:\n",
    "        expt_id = [expt_id]\n",
    "        print(expt_id),\n",
    "    for h in expt_id:\n",
    "        sname, s, control_expt = get_bams_from_expt_id(h)\n",
    "        cname, c, _ = get_bams_from_expt_id(control_expt[0])\n",
    "        for i in range(0,len(s)):\n",
    "            samples_key = 'expt_rep{}'.format(i+1)\n",
    "            samples_md5sum_key = 'expt_rep{}_md5sum'.format(i+1)\n",
    "            control_key = 'control_rep{}'.format(i+1)\n",
    "            controls_md5sum_key = 'control_rep{}_md5sum'.format(i+1)\n",
    "            name_key = 'name'\n",
    "            samples[h][name_key] = sname\n",
    "            samples[h][samples_key] = s[i].keys()[0]\n",
    "            samples[h][control_key] = c[i].keys()[0]\n",
    "            samples[h][samples_md5sum_key] = s[i].values()[0]\n",
    "            samples[h][controls_md5sum_key] = c[i].values()[0]\n",
    "k562_bams = pd.DataFrame(samples).T\n",
    "k562_bams.head()"
   ]
  },
  {
   "cell_type": "code",
   "execution_count": null,
   "metadata": {
    "collapsed": true
   },
   "outputs": [],
   "source": [
    "hepg2_bams.to_csv(\n",
    "    '/projects/ps-yeolab3/encode/hepg2_bams_for_integrated_analysis.txt',sep='\\t'\n",
    ")\n",
    "k562_bams.to_csv(\n",
    "    '/projects/ps-yeolab3/encode/k562_bams_for_integrated_analysis.txt',sep='\\t'\n",
    ")"
   ]
  },
  {
   "cell_type": "code",
   "execution_count": null,
   "metadata": {
    "collapsed": false
   },
   "outputs": [],
   "source": [
    "def is_md5sum_equal(row, rep):\n",
    "    website_md5sum = row['{}_md5sum'.format(rep)]\n",
    "    filepath = exists_and_return_fullpath(row[rep],downloaded_dir,other_dir)\n",
    "    calculated_md5sum = ! md5sum $filepath\n",
    "    if website_md5sum != calculated_md5sum[0].split(' ')[0]:\n",
    "        print('in trouble: {}, {}, {}'.format(filepath, website_md5sum, calculated_md5sum))\n",
    "        return False\n",
    "    else:\n",
    "        # print('good: {}, {}, {}'.format(filepath, website_md5sum, calculated_md5sum))\n",
    "        return True\n",
    "    \n",
    "def check_all_bams(bams, check_md5sum_too=False):\n",
    "    cols = ['expt_rep1','expt_rep2','control_rep1','control_rep2']\n",
    "    for unused,row in bams.iterrows():\n",
    "        for c in cols:\n",
    "            if not(exists(row[c],downloaded_dir,other_dir)):\n",
    "                print(row[c], \" doesn't exist.\")\n",
    "            else:\n",
    "                if check_md5sum_too:\n",
    "                    is_md5sum_equal(row, c)"
   ]
  },
  {
   "cell_type": "code",
   "execution_count": null,
   "metadata": {
    "collapsed": false
   },
   "outputs": [],
   "source": [
    "check_all_bams(hepg2_bams)"
   ]
  },
  {
   "cell_type": "code",
   "execution_count": null,
   "metadata": {
    "collapsed": false
   },
   "outputs": [],
   "source": [
    "check_all_bams(k562_bams)"
   ]
  },
  {
   "cell_type": "markdown",
   "metadata": {
    "collapsed": false
   },
   "source": [
    "# Run FeatureCounts"
   ]
  },
  {
   "cell_type": "code",
   "execution_count": null,
   "metadata": {
    "collapsed": false
   },
   "outputs": [],
   "source": [
    "all_k562_bams = set(\n",
    "    k562_bams['control_rep1'].append(\n",
    "        k562_bams['control_rep2'].append(\n",
    "            k562_bams['expt_rep1'].append(\n",
    "                k562_bams['expt_rep2']\n",
    "            )\n",
    "        )\n",
    "    )\n",
    ")\n",
    "all_hepg2_bams = set(\n",
    "    hepg2_bams['control_rep1'].append(\n",
    "        hepg2_bams['control_rep2'].append(\n",
    "            hepg2_bams['expt_rep1'].append(\n",
    "                hepg2_bams['expt_rep2']\n",
    "            )\n",
    "        )\n",
    "    )\n",
    ")\n",
    "print(len(all_k562_bams))\n",
    "print(len(all_hepg2_bams))"
   ]
  },
  {
   "cell_type": "code",
   "execution_count": null,
   "metadata": {
    "collapsed": false
   },
   "outputs": [],
   "source": [
    "annotation = '/projects/ps-yeolab/genomes/hg19/gencode_v19/gencode.v19.annotation.gtf'\n",
    "k562_outfile = '/home/bay001/projects/encode/permanent_data/k562_hg19_featurecounts_intersect_CLIP_RNASEQ.txt'\n",
    "hepg2_outfile = '/home/bay001/projects/encode/permanent_data/hepg2_hg19_featurecounts_intersect_CLIP_RNASEQ.txt'\n",
    "\n",
    "cmd = \"featureCounts -T 8 -a {} -s 2 -p -o {}\".format(annotation, k562_outfile)\n",
    "for bam in all_k562_bams:\n",
    "    cmd = cmd + '{} '.format(os.path.join(exists_and_return_fullpath(bam, downloaded_dir, other_dir)))\n",
    "qtools.Submitter(\n",
    "    cmd, 'k562_featureCounts', array=False, nodes=1, ppn=8, walltime='48:00:00', submit=True, queue='home-scrm'\n",
    ")\n",
    "\n",
    "cmd = \"featureCounts -T 8 -a {} -s 2 -p -o {}\".format(annotation, hepg2_outfile)\n",
    "for bam in all_hepg2_bams:\n",
    "    cmd = cmd + '{} '.format(os.path.join(exists_and_return_fullpath(bam, downloaded_dir, other_dir)))\n",
    "qtools.Submitter(\n",
    "    cmd, 'hepg2_featureCounts', array=False, nodes=1, ppn=8, walltime='48:00:00', submit=True, queue='home-scrm'\n",
    ")"
   ]
  },
  {
   "cell_type": "code",
   "execution_count": null,
   "metadata": {
    "collapsed": false
   },
   "outputs": [],
   "source": [
    "cmd = \"featureCounts -T 8 -a {} -s 2 -p -o {}\".format(annotation, k562_outfile)\n",
    "for bam in all_k562_bams:\n",
    "    cmd = cmd + '{} '.format(os.path.join(exists_and_return_fullpath(bam, downloaded_dir, other_dir)))\n",
    "cmd"
   ]
  },
  {
   "cell_type": "code",
   "execution_count": null,
   "metadata": {
    "collapsed": true
   },
   "outputs": [],
   "source": []
  }
 ],
 "metadata": {
  "kernelspec": {
   "display_name": "Python 2",
   "language": "python",
   "name": "python2"
  },
  "language_info": {
   "codemirror_mode": {
    "name": "ipython",
    "version": 2
   },
   "file_extension": ".py",
   "mimetype": "text/x-python",
   "name": "python",
   "nbconvert_exporter": "python",
   "pygments_lexer": "ipython2",
   "version": "2.7.12"
  }
 },
 "nbformat": 4,
 "nbformat_minor": 1
}
