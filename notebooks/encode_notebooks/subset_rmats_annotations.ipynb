{
 "cells": [
  {
   "cell_type": "code",
   "execution_count": 1,
   "metadata": {},
   "outputs": [],
   "source": [
    "import pandas as pd\n",
    "import numpy as np\n",
    "import os\n",
    "import glob\n",
    "from collections import defaultdict\n",
    "from qtools import Submitter\n",
    "from tqdm import tnrange, tqdm_notebook"
   ]
  },
  {
   "cell_type": "code",
   "execution_count": 2,
   "metadata": {},
   "outputs": [],
   "source": [
    "pvalue = 0.05\n",
    "fdr = 0.1\n",
    "sep = 0.05  # This is absolute; subset_rmats() automatically handles for negative IncLevelDifference\n",
    "\n",
    "annotation_subdirectories = ['se','a3ss','a5ss','ri']\n",
    "annotation_directory = '/projects/ps-yeolab3/bay001/maps/current_annotations/'\n",
    "\n",
    "if not os.path.exists(annotation_directory):\n",
    "    ! mkdir annotation_directory\n",
    "    \n",
    "for annotation_subdirectory in annotation_subdirectories:\n",
    "    if not os.path.exists(os.path.join(annotation_directory, annotation_subdirectory)):\n",
    "        subdir = os.path.join(annotation_directory, annotation_subdirectory)\n",
    "        ! mkdir $subdir"
   ]
  },
  {
   "cell_type": "code",
   "execution_count": 3,
   "metadata": {},
   "outputs": [],
   "source": [
    "graveley_rmats_dir = '/projects/ps-yeolab3/encode/rnaseq/alt_splicing/graveley_rmats_current/'\n",
    "\n",
    "def move_files(mats_dir, dest_parent_dir):\n",
    "    events = ['se','a3ss','a5ss','mxe','ri']\n",
    "    all_files = glob.glob(os.path.join(mats_dir, '*.JunctionCountOnly.txt'))\n",
    "    print(\"number of files found: {}\".format(len(all_files)))\n",
    "    progress = tnrange(len(all_files))\n",
    "    for src in all_files:\n",
    "        for e in events:\n",
    "            dest = os.path.join(dest_parent_dir, e)\n",
    "            dest_fullpath = os.path.join(dest, os.path.basename(src))\n",
    "            if \"{}.MATS.JunctionCountOnly.txt\".format(e.upper()) in src:\n",
    "                if not os.path.exists(dest_fullpath):\n",
    "                    ! ln -s $src $dest_fullpath\n",
    "                progress.update(1)\n",
    "\n",
    "### UNCOMMENT if we're making completely new annotations - i'm just renaming them here.\n",
    "# move_files(graveley_rmats_dir, annotation_directory)"
   ]
  },
  {
   "cell_type": "code",
   "execution_count": 4,
   "metadata": {},
   "outputs": [
    {
     "name": "stdout",
     "output_type": "stream",
     "text": [
      "number of se rmats calls found: 473\n",
      "number of a3ss rmats calls found: 473\n",
      "number of a5ss rmats calls found: 473\n",
      "number of mxe rmats calls found: 473\n",
      "number of ri rmats calls found: 473\n"
     ]
    }
   ],
   "source": [
    "all_se_mats = glob.glob(os.path.join(annotation_directory,'se/*.SE.MATS.JunctionCountOnly.txt'))\n",
    "all_a3ss_mats = glob.glob(os.path.join(annotation_directory,'a3ss/*.A3SS.MATS.JunctionCountOnly.txt'))\n",
    "all_a5ss_mats = glob.glob(os.path.join(annotation_directory,'a5ss/*.A5SS.MATS.JunctionCountOnly.txt'))\n",
    "all_mxe_mats = glob.glob(os.path.join(annotation_directory,'mxe/*.MXE.MATS.JunctionCountOnly.txt'))\n",
    "all_ri_mats = glob.glob(os.path.join(annotation_directory,'ri/*.RI.MATS.JunctionCountOnly.txt'))\n",
    "print(\"number of se rmats calls found: {}\".format(len(all_se_mats)))\n",
    "print(\"number of a3ss rmats calls found: {}\".format(len(all_a3ss_mats)))\n",
    "print(\"number of a5ss rmats calls found: {}\".format(len(all_a5ss_mats)))\n",
    "print(\"number of mxe rmats calls found: {}\".format(len(all_mxe_mats)))\n",
    "print(\"number of ri rmats calls found: {}\".format(len(all_ri_mats)))"
   ]
  },
  {
   "cell_type": "markdown",
   "metadata": {},
   "source": [
    "# Filter all files for significantly included/excluded events\n",
    "- also checks the number of missing or insignificant rmats events (RBPs with no significant events)"
   ]
  },
  {
   "cell_type": "code",
   "execution_count": 5,
   "metadata": {},
   "outputs": [],
   "source": [
    "def subset_rmats(f, pvalue, fdr, sep):\n",
    "    \"\"\"\n",
    "    Given a raw output from rmats (f)ile, pvalue, fdr, and IncLevelDifference (sep) cutoff score, \n",
    "    Filter and save significant results to thre files: \n",
    "    *.significant.txt (contains all files passing pvalue and fdr cutoffs)\n",
    "    *.positive.txt (contains all significant values that pass IncLevelDifference cutoffs)\n",
    "    *.negative.txt (contains all significant values that pass -IncLevelDifference cutoffs)\n",
    "    \"\"\"\n",
    "    insignificant_positive_rbps = ''\n",
    "    insignificant_negative_rbps = ''\n",
    "    num_missing=0\n",
    "    df = pd.read_table(f)\n",
    "    dfp = df[\n",
    "        (df['PValue'] < pvalue) & (df['FDR'] < fdr) & (df['IncLevelDifference'] > sep)\n",
    "    ]\n",
    "    dfn = df[\n",
    "        (df['PValue'] < pvalue) & (df['FDR'] < fdr) & (df['IncLevelDifference'] < -sep)\n",
    "    ]\n",
    "    dfs = pd.concat([dfp, dfn])\n",
    "    if dfs.shape[0] > 0:\n",
    "        dest = f.replace('.txt','.significant.txt')\n",
    "        if not os.path.exists(dest):\n",
    "            dfs.to_csv(dest, sep='\\t', index=None)\n",
    "    \n",
    "    if(dfp.shape[0] > 0):\n",
    "        dest = f.replace('.txt','.positive.txt')\n",
    "        if not os.path.exists(dest):\n",
    "            dfp.to_csv(dest, sep='\\t', index=None)\n",
    "    else:\n",
    "        insignificant_positive_rbps = f\n",
    "        num_missing+=1\n",
    "    if(dfn.shape[0] > 0):\n",
    "        dest = f.replace('.txt','.negative.txt')\n",
    "        if not os.path.exists(dest):\n",
    "            dfn.to_csv(dest, sep='\\t', index=None) \n",
    "    else:\n",
    "        insignificant_negative_rbps = f\n",
    "        num_missing+=1\n",
    "    \n",
    "    return [insignificant_positive_rbps, insignificant_negative_rbps], num_missing"
   ]
  },
  {
   "cell_type": "code",
   "execution_count": 6,
   "metadata": {},
   "outputs": [
    {
     "data": {
      "application/vnd.jupyter.widget-view+json": {
       "model_id": "d2dbe800f9be49a28156d970da30f739",
       "version_major": 2,
       "version_minor": 0
      },
      "text/html": [
       "<p>Failed to display Jupyter Widget of type <code>HBox</code>.</p>\n",
       "<p>\n",
       "  If you're reading this message in the Jupyter Notebook or JupyterLab Notebook, it may mean\n",
       "  that the widgets JavaScript is still loading. If this message persists, it\n",
       "  likely means that the widgets JavaScript library is either not installed or\n",
       "  not enabled. See the <a href=\"https://ipywidgets.readthedocs.io/en/stable/user_install.html\">Jupyter\n",
       "  Widgets Documentation</a> for setup instructions.\n",
       "</p>\n",
       "<p>\n",
       "  If you're reading this message in another frontend (for example, a static\n",
       "  rendering on GitHub or <a href=\"https://nbviewer.jupyter.org/\">NBViewer</a>),\n",
       "  it may mean that your frontend doesn't currently support widgets.\n",
       "</p>\n"
      ],
      "text/plain": [
       "HBox(children=(IntProgress(value=0, max=4), HTML(value=u'')))"
      ]
     },
     "metadata": {},
     "output_type": "display_data"
    },
    {
     "data": {
      "application/vnd.jupyter.widget-view+json": {
       "model_id": "08be5d0bb4b44f98b4e3ffa978fc2376",
       "version_major": 2,
       "version_minor": 0
      },
      "text/html": [
       "<p>Failed to display Jupyter Widget of type <code>HBox</code>.</p>\n",
       "<p>\n",
       "  If you're reading this message in the Jupyter Notebook or JupyterLab Notebook, it may mean\n",
       "  that the widgets JavaScript is still loading. If this message persists, it\n",
       "  likely means that the widgets JavaScript library is either not installed or\n",
       "  not enabled. See the <a href=\"https://ipywidgets.readthedocs.io/en/stable/user_install.html\">Jupyter\n",
       "  Widgets Documentation</a> for setup instructions.\n",
       "</p>\n",
       "<p>\n",
       "  If you're reading this message in another frontend (for example, a static\n",
       "  rendering on GitHub or <a href=\"https://nbviewer.jupyter.org/\">NBViewer</a>),\n",
       "  it may mean that your frontend doesn't currently support widgets.\n",
       "</p>\n"
      ],
      "text/plain": [
       "HBox(children=(IntProgress(value=0, max=473), HTML(value=u'')))"
      ]
     },
     "metadata": {},
     "output_type": "display_data"
    },
    {
     "data": {
      "application/vnd.jupyter.widget-view+json": {
       "model_id": "9111875beb874b3784bcd65cf9ddb563",
       "version_major": 2,
       "version_minor": 0
      },
      "text/html": [
       "<p>Failed to display Jupyter Widget of type <code>HBox</code>.</p>\n",
       "<p>\n",
       "  If you're reading this message in the Jupyter Notebook or JupyterLab Notebook, it may mean\n",
       "  that the widgets JavaScript is still loading. If this message persists, it\n",
       "  likely means that the widgets JavaScript library is either not installed or\n",
       "  not enabled. See the <a href=\"https://ipywidgets.readthedocs.io/en/stable/user_install.html\">Jupyter\n",
       "  Widgets Documentation</a> for setup instructions.\n",
       "</p>\n",
       "<p>\n",
       "  If you're reading this message in another frontend (for example, a static\n",
       "  rendering on GitHub or <a href=\"https://nbviewer.jupyter.org/\">NBViewer</a>),\n",
       "  it may mean that your frontend doesn't currently support widgets.\n",
       "</p>\n"
      ],
      "text/plain": [
       "HBox(children=(IntProgress(value=0, max=473), HTML(value=u'')))"
      ]
     },
     "metadata": {},
     "output_type": "display_data"
    },
    {
     "data": {
      "application/vnd.jupyter.widget-view+json": {
       "model_id": "9523265f968e4cf4b1e655b07851cecc",
       "version_major": 2,
       "version_minor": 0
      },
      "text/html": [
       "<p>Failed to display Jupyter Widget of type <code>HBox</code>.</p>\n",
       "<p>\n",
       "  If you're reading this message in the Jupyter Notebook or JupyterLab Notebook, it may mean\n",
       "  that the widgets JavaScript is still loading. If this message persists, it\n",
       "  likely means that the widgets JavaScript library is either not installed or\n",
       "  not enabled. See the <a href=\"https://ipywidgets.readthedocs.io/en/stable/user_install.html\">Jupyter\n",
       "  Widgets Documentation</a> for setup instructions.\n",
       "</p>\n",
       "<p>\n",
       "  If you're reading this message in another frontend (for example, a static\n",
       "  rendering on GitHub or <a href=\"https://nbviewer.jupyter.org/\">NBViewer</a>),\n",
       "  it may mean that your frontend doesn't currently support widgets.\n",
       "</p>\n"
      ],
      "text/plain": [
       "HBox(children=(IntProgress(value=0, max=473), HTML(value=u'')))"
      ]
     },
     "metadata": {},
     "output_type": "display_data"
    },
    {
     "data": {
      "application/vnd.jupyter.widget-view+json": {
       "model_id": "5f45208341e84ef9bc6ebee9e4d7fa9e",
       "version_major": 2,
       "version_minor": 0
      },
      "text/html": [
       "<p>Failed to display Jupyter Widget of type <code>HBox</code>.</p>\n",
       "<p>\n",
       "  If you're reading this message in the Jupyter Notebook or JupyterLab Notebook, it may mean\n",
       "  that the widgets JavaScript is still loading. If this message persists, it\n",
       "  likely means that the widgets JavaScript library is either not installed or\n",
       "  not enabled. See the <a href=\"https://ipywidgets.readthedocs.io/en/stable/user_install.html\">Jupyter\n",
       "  Widgets Documentation</a> for setup instructions.\n",
       "</p>\n",
       "<p>\n",
       "  If you're reading this message in another frontend (for example, a static\n",
       "  rendering on GitHub or <a href=\"https://nbviewer.jupyter.org/\">NBViewer</a>),\n",
       "  it may mean that your frontend doesn't currently support widgets.\n",
       "</p>\n"
      ],
      "text/plain": [
       "HBox(children=(IntProgress(value=0, max=473), HTML(value=u'')))"
      ]
     },
     "metadata": {},
     "output_type": "display_data"
    }
   ],
   "source": [
    "events = {'se':all_se_mats, 'a3ss':all_a3ss_mats, 'a5ss':all_a5ss_mats, 'ri':all_ri_mats}\n",
    "\n",
    "overall_progress = tnrange(len(events))\n",
    "insufficient = defaultdict(list)\n",
    "total_missing = 0\n",
    "for label, event in events.iteritems():\n",
    "    event_progress = tnrange(len(event))\n",
    "    event_progress.set_description(\"{}\".format(label))\n",
    "    for mat in event:\n",
    "        no_samples, num_missing = subset_rmats(mat, pvalue, fdr, sep)\n",
    "        if len(no_samples[0]) > 0 or len(no_samples[1]) > 0:\n",
    "            insufficient[label].append(no_samples)\n",
    "        total_missing = total_missing + num_missing\n",
    "        event_progress.update(1)"
   ]
  },
  {
   "cell_type": "code",
   "execution_count": 6,
   "metadata": {},
   "outputs": [
    {
     "ename": "NameError",
     "evalue": "name 'insufficient' is not defined",
     "output_type": "error",
     "traceback": [
      "\u001b[0;31m---------------------------------------------------------------------------\u001b[0m",
      "\u001b[0;31mNameError\u001b[0m                                 Traceback (most recent call last)",
      "\u001b[0;32m<ipython-input-6-8bd78136b135>\u001b[0m in \u001b[0;36m<module>\u001b[0;34m()\u001b[0m\n\u001b[0;32m----> 1\u001b[0;31m \u001b[0mlen\u001b[0m\u001b[0;34m(\u001b[0m\u001b[0minsufficient\u001b[0m\u001b[0;34m[\u001b[0m\u001b[0;34m'se'\u001b[0m\u001b[0;34m]\u001b[0m\u001b[0;34m)\u001b[0m\u001b[0;34m\u001b[0m\u001b[0m\n\u001b[0m",
      "\u001b[0;31mNameError\u001b[0m: name 'insufficient' is not defined"
     ]
    }
   ],
   "source": [
    "len(insufficient['se']) # 25"
   ]
  },
  {
   "cell_type": "markdown",
   "metadata": {},
   "source": [
    "# Subset the nonredundant ones."
   ]
  },
  {
   "cell_type": "code",
   "execution_count": 8,
   "metadata": {},
   "outputs": [
    {
     "data": {
      "application/vnd.jupyter.widget-view+json": {
       "model_id": "e6c092a8ee2c4293bb280067a014afc5",
       "version_major": 2,
       "version_minor": 0
      },
      "text/html": [
       "<p>Failed to display Jupyter Widget of type <code>HBox</code>.</p>\n",
       "<p>\n",
       "  If you're reading this message in the Jupyter Notebook or JupyterLab Notebook, it may mean\n",
       "  that the widgets JavaScript is still loading. If this message persists, it\n",
       "  likely means that the widgets JavaScript library is either not installed or\n",
       "  not enabled. See the <a href=\"https://ipywidgets.readthedocs.io/en/stable/user_install.html\">Jupyter\n",
       "  Widgets Documentation</a> for setup instructions.\n",
       "</p>\n",
       "<p>\n",
       "  If you're reading this message in another frontend (for example, a static\n",
       "  rendering on GitHub or <a href=\"https://nbviewer.jupyter.org/\">NBViewer</a>),\n",
       "  it may mean that your frontend doesn't currently support widgets.\n",
       "</p>\n"
      ],
      "text/plain": [
       "HBox(children=(IntProgress(value=0, max=4), HTML(value=u'')))"
      ]
     },
     "metadata": {},
     "output_type": "display_data"
    },
    {
     "name": "stdout",
     "output_type": "stream",
     "text": [
      "\n",
      "('number of positive and negative: se', 457, 455)\n"
     ]
    },
    {
     "data": {
      "application/vnd.jupyter.widget-view+json": {
       "model_id": "a078fc005a504ffd8f37b13bca76a49b",
       "version_major": 2,
       "version_minor": 0
      },
      "text/html": [
       "<p>Failed to display Jupyter Widget of type <code>HBox</code>.</p>\n",
       "<p>\n",
       "  If you're reading this message in the Jupyter Notebook or JupyterLab Notebook, it may mean\n",
       "  that the widgets JavaScript is still loading. If this message persists, it\n",
       "  likely means that the widgets JavaScript library is either not installed or\n",
       "  not enabled. See the <a href=\"https://ipywidgets.readthedocs.io/en/stable/user_install.html\">Jupyter\n",
       "  Widgets Documentation</a> for setup instructions.\n",
       "</p>\n",
       "<p>\n",
       "  If you're reading this message in another frontend (for example, a static\n",
       "  rendering on GitHub or <a href=\"https://nbviewer.jupyter.org/\">NBViewer</a>),\n",
       "  it may mean that your frontend doesn't currently support widgets.\n",
       "</p>\n"
      ],
      "text/plain": [
       "HBox(children=(IntProgress(value=0, max=457), HTML(value=u'')))"
      ]
     },
     "metadata": {},
     "output_type": "display_data"
    },
    {
     "data": {
      "application/vnd.jupyter.widget-view+json": {
       "model_id": "ebf239de238742f5a2176594169ee9b0",
       "version_major": 2,
       "version_minor": 0
      },
      "text/html": [
       "<p>Failed to display Jupyter Widget of type <code>HBox</code>.</p>\n",
       "<p>\n",
       "  If you're reading this message in the Jupyter Notebook or JupyterLab Notebook, it may mean\n",
       "  that the widgets JavaScript is still loading. If this message persists, it\n",
       "  likely means that the widgets JavaScript library is either not installed or\n",
       "  not enabled. See the <a href=\"https://ipywidgets.readthedocs.io/en/stable/user_install.html\">Jupyter\n",
       "  Widgets Documentation</a> for setup instructions.\n",
       "</p>\n",
       "<p>\n",
       "  If you're reading this message in another frontend (for example, a static\n",
       "  rendering on GitHub or <a href=\"https://nbviewer.jupyter.org/\">NBViewer</a>),\n",
       "  it may mean that your frontend doesn't currently support widgets.\n",
       "</p>\n"
      ],
      "text/plain": [
       "HBox(children=(IntProgress(value=0, max=455), HTML(value=u'')))"
      ]
     },
     "metadata": {},
     "output_type": "display_data"
    },
    {
     "name": "stdout",
     "output_type": "stream",
     "text": [
      "\n",
      "('number of positive and negative: a3ss', 415, 392)\n"
     ]
    },
    {
     "data": {
      "application/vnd.jupyter.widget-view+json": {
       "model_id": "dc24488064224a878588de54ed22c913",
       "version_major": 2,
       "version_minor": 0
      },
      "text/html": [
       "<p>Failed to display Jupyter Widget of type <code>HBox</code>.</p>\n",
       "<p>\n",
       "  If you're reading this message in the Jupyter Notebook or JupyterLab Notebook, it may mean\n",
       "  that the widgets JavaScript is still loading. If this message persists, it\n",
       "  likely means that the widgets JavaScript library is either not installed or\n",
       "  not enabled. See the <a href=\"https://ipywidgets.readthedocs.io/en/stable/user_install.html\">Jupyter\n",
       "  Widgets Documentation</a> for setup instructions.\n",
       "</p>\n",
       "<p>\n",
       "  If you're reading this message in another frontend (for example, a static\n",
       "  rendering on GitHub or <a href=\"https://nbviewer.jupyter.org/\">NBViewer</a>),\n",
       "  it may mean that your frontend doesn't currently support widgets.\n",
       "</p>\n"
      ],
      "text/plain": [
       "HBox(children=(IntProgress(value=0, max=415), HTML(value=u'')))"
      ]
     },
     "metadata": {},
     "output_type": "display_data"
    },
    {
     "data": {
      "application/vnd.jupyter.widget-view+json": {
       "model_id": "50a1356d995244dd8d75cd9fa7d1369e",
       "version_major": 2,
       "version_minor": 0
      },
      "text/html": [
       "<p>Failed to display Jupyter Widget of type <code>HBox</code>.</p>\n",
       "<p>\n",
       "  If you're reading this message in the Jupyter Notebook or JupyterLab Notebook, it may mean\n",
       "  that the widgets JavaScript is still loading. If this message persists, it\n",
       "  likely means that the widgets JavaScript library is either not installed or\n",
       "  not enabled. See the <a href=\"https://ipywidgets.readthedocs.io/en/stable/user_install.html\">Jupyter\n",
       "  Widgets Documentation</a> for setup instructions.\n",
       "</p>\n",
       "<p>\n",
       "  If you're reading this message in another frontend (for example, a static\n",
       "  rendering on GitHub or <a href=\"https://nbviewer.jupyter.org/\">NBViewer</a>),\n",
       "  it may mean that your frontend doesn't currently support widgets.\n",
       "</p>\n"
      ],
      "text/plain": [
       "HBox(children=(IntProgress(value=0, max=392), HTML(value=u'')))"
      ]
     },
     "metadata": {},
     "output_type": "display_data"
    },
    {
     "name": "stdout",
     "output_type": "stream",
     "text": [
      "\n",
      "('number of positive and negative: a5ss', 362, 364)\n"
     ]
    },
    {
     "data": {
      "application/vnd.jupyter.widget-view+json": {
       "model_id": "211f753c7e3b455c8caf9dbc16244962",
       "version_major": 2,
       "version_minor": 0
      },
      "text/html": [
       "<p>Failed to display Jupyter Widget of type <code>HBox</code>.</p>\n",
       "<p>\n",
       "  If you're reading this message in the Jupyter Notebook or JupyterLab Notebook, it may mean\n",
       "  that the widgets JavaScript is still loading. If this message persists, it\n",
       "  likely means that the widgets JavaScript library is either not installed or\n",
       "  not enabled. See the <a href=\"https://ipywidgets.readthedocs.io/en/stable/user_install.html\">Jupyter\n",
       "  Widgets Documentation</a> for setup instructions.\n",
       "</p>\n",
       "<p>\n",
       "  If you're reading this message in another frontend (for example, a static\n",
       "  rendering on GitHub or <a href=\"https://nbviewer.jupyter.org/\">NBViewer</a>),\n",
       "  it may mean that your frontend doesn't currently support widgets.\n",
       "</p>\n"
      ],
      "text/plain": [
       "HBox(children=(IntProgress(value=0, max=362), HTML(value=u'')))"
      ]
     },
     "metadata": {},
     "output_type": "display_data"
    },
    {
     "data": {
      "application/vnd.jupyter.widget-view+json": {
       "model_id": "4c966d0e8f2e4111af19266b6c43cd75",
       "version_major": 2,
       "version_minor": 0
      },
      "text/html": [
       "<p>Failed to display Jupyter Widget of type <code>HBox</code>.</p>\n",
       "<p>\n",
       "  If you're reading this message in the Jupyter Notebook or JupyterLab Notebook, it may mean\n",
       "  that the widgets JavaScript is still loading. If this message persists, it\n",
       "  likely means that the widgets JavaScript library is either not installed or\n",
       "  not enabled. See the <a href=\"https://ipywidgets.readthedocs.io/en/stable/user_install.html\">Jupyter\n",
       "  Widgets Documentation</a> for setup instructions.\n",
       "</p>\n",
       "<p>\n",
       "  If you're reading this message in another frontend (for example, a static\n",
       "  rendering on GitHub or <a href=\"https://nbviewer.jupyter.org/\">NBViewer</a>),\n",
       "  it may mean that your frontend doesn't currently support widgets.\n",
       "</p>\n"
      ],
      "text/plain": [
       "HBox(children=(IntProgress(value=0, max=364), HTML(value=u'')))"
      ]
     },
     "metadata": {},
     "output_type": "display_data"
    },
    {
     "name": "stdout",
     "output_type": "stream",
     "text": [
      "\n",
      "('number of positive and negative: ri', 441, 438)\n"
     ]
    },
    {
     "data": {
      "application/vnd.jupyter.widget-view+json": {
       "model_id": "ac8c8aa688f64deaba4465a5dbb0a1b7",
       "version_major": 2,
       "version_minor": 0
      },
      "text/html": [
       "<p>Failed to display Jupyter Widget of type <code>HBox</code>.</p>\n",
       "<p>\n",
       "  If you're reading this message in the Jupyter Notebook or JupyterLab Notebook, it may mean\n",
       "  that the widgets JavaScript is still loading. If this message persists, it\n",
       "  likely means that the widgets JavaScript library is either not installed or\n",
       "  not enabled. See the <a href=\"https://ipywidgets.readthedocs.io/en/stable/user_install.html\">Jupyter\n",
       "  Widgets Documentation</a> for setup instructions.\n",
       "</p>\n",
       "<p>\n",
       "  If you're reading this message in another frontend (for example, a static\n",
       "  rendering on GitHub or <a href=\"https://nbviewer.jupyter.org/\">NBViewer</a>),\n",
       "  it may mean that your frontend doesn't currently support widgets.\n",
       "</p>\n"
      ],
      "text/plain": [
       "HBox(children=(IntProgress(value=0, max=441), HTML(value=u'')))"
      ]
     },
     "metadata": {},
     "output_type": "display_data"
    },
    {
     "data": {
      "application/vnd.jupyter.widget-view+json": {
       "model_id": "0a396047b0b04fbb99619de1d4c9c61c",
       "version_major": 2,
       "version_minor": 0
      },
      "text/html": [
       "<p>Failed to display Jupyter Widget of type <code>HBox</code>.</p>\n",
       "<p>\n",
       "  If you're reading this message in the Jupyter Notebook or JupyterLab Notebook, it may mean\n",
       "  that the widgets JavaScript is still loading. If this message persists, it\n",
       "  likely means that the widgets JavaScript library is either not installed or\n",
       "  not enabled. See the <a href=\"https://ipywidgets.readthedocs.io/en/stable/user_install.html\">Jupyter\n",
       "  Widgets Documentation</a> for setup instructions.\n",
       "</p>\n",
       "<p>\n",
       "  If you're reading this message in another frontend (for example, a static\n",
       "  rendering on GitHub or <a href=\"https://nbviewer.jupyter.org/\">NBViewer</a>),\n",
       "  it may mean that your frontend doesn't currently support widgets.\n",
       "</p>\n"
      ],
      "text/plain": [
       "HBox(children=(IntProgress(value=0, max=438), HTML(value=u'')))"
      ]
     },
     "metadata": {},
     "output_type": "display_data"
    },
    {
     "name": "stdout",
     "output_type": "stream",
     "text": [
      "\n"
     ]
    }
   ],
   "source": [
    "subset_prog = '/home/bay001/projects/codebase/bfx/pyscripts/rnaseq/subset_rmats_junctioncountonly.py'\n",
    "overall_progress = tnrange(len(annotation_subdirectories))\n",
    "for subdirectory in annotation_subdirectories:\n",
    "    all_positive = glob.glob(os.path.join(annotation_directory,'{}/*.positive.txt'.format(subdirectory)))\n",
    "    all_negative = glob.glob(os.path.join(annotation_directory,'{}/*.negative.txt'.format(subdirectory)))\n",
    "    all_significant = glob.glob(os.path.join(annotation_directory,'{}/*.significant.txt'.format(subdirectory)))\n",
    "    print(\"number of positive and negative: {}\".format(subdirectory), len(all_positive), len(all_negative))\n",
    "    \n",
    "    for cond in [all_positive, all_negative]:\n",
    "        progress = tnrange(len(cond))\n",
    "        progress.set_description(subdirectory)\n",
    "        for sub in cond:\n",
    "            jobname = os.path.basename(sub).split('.')[0]\n",
    "            cmd = \"python {} -i {} -o {} -e {}\".format(\n",
    "                subset_prog,\n",
    "                sub,\n",
    "                sub.replace('.txt','.nr.txt'),\n",
    "                subdirectory,\n",
    "            )\n",
    "            if not os.path.exists(sub.replace('.txt','.nr.txt')):\n",
    "                ! $cmd\n",
    "            progress.update(1)\n",
    "    overall_progress.update(1)"
   ]
  },
  {
   "cell_type": "code",
   "execution_count": null,
   "metadata": {},
   "outputs": [],
   "source": []
  },
  {
   "cell_type": "markdown",
   "metadata": {},
   "source": [
    "# Rename the final annotations to something less ugly\n",
    "- the files are usually something like \"MAK16-BGKLV32-K562-SE.MATS.JunctionCountOnly.negative.nr.txt\"\n",
    "- to avoid that being used in the final maps, I'm going to rename them to something nicer like \"Excluded upon KD\""
   ]
  },
  {
   "cell_type": "code",
   "execution_count": 24,
   "metadata": {},
   "outputs": [
    {
     "name": "stdout",
     "output_type": "stream",
     "text": [
      "('number of positive and negative: ', 457, 455)\n"
     ]
    }
   ],
   "source": [
    "annotation_directory = '/projects/ps-yeolab3/bay001/maps/current_annotations/'\n",
    "all_positive = glob.glob(os.path.join(annotation_directory,'se/*.positive.nr.txt'))\n",
    "all_negative = glob.glob(os.path.join(annotation_directory,'se/*.negative.nr.txt'))\n",
    "print(\"number of positive and negative: \", len(all_positive), len(all_negative))"
   ]
  },
  {
   "cell_type": "code",
   "execution_count": 25,
   "metadata": {},
   "outputs": [
    {
     "data": {
      "application/vnd.jupyter.widget-view+json": {
       "model_id": "ae0919884a69493690a180c3f3be97f8",
       "version_major": 2,
       "version_minor": 0
      },
      "text/html": [
       "<p>Failed to display Jupyter Widget of type <code>HBox</code>.</p>\n",
       "<p>\n",
       "  If you're reading this message in the Jupyter Notebook or JupyterLab Notebook, it may mean\n",
       "  that the widgets JavaScript is still loading. If this message persists, it\n",
       "  likely means that the widgets JavaScript library is either not installed or\n",
       "  not enabled. See the <a href=\"https://ipywidgets.readthedocs.io/en/stable/user_install.html\">Jupyter\n",
       "  Widgets Documentation</a> for setup instructions.\n",
       "</p>\n",
       "<p>\n",
       "  If you're reading this message in another frontend (for example, a static\n",
       "  rendering on GitHub or <a href=\"https://nbviewer.jupyter.org/\">NBViewer</a>),\n",
       "  it may mean that your frontend doesn't currently support widgets.\n",
       "</p>\n"
      ],
      "text/plain": [
       "HBox(children=(IntProgress(value=0, max=912), HTML(value=u'')))"
      ]
     },
     "metadata": {},
     "output_type": "display_data"
    }
   ],
   "source": [
    "t = tnrange(len(all_positive) + len(all_negative))\n",
    "renamed_directory = '/projects/ps-yeolab3/bay001/maps/current_annotations/se_renamed'\n",
    "\n",
    "for pos in all_positive:\n",
    "    renamed = pos.replace('.positive.nr.txt','included-upon-knockdown')\n",
    "    renamed = renamed.replace('.SE.MATS.JunctionCountOnly','-')\n",
    "    if not os.path.exists(renamed):\n",
    "        ! ln -s $pos $renamed\n",
    "    else:\n",
    "        print(renamed)\n",
    "        break\n",
    "    t.update(1)\n",
    "    \n",
    "for neg in all_negative:\n",
    "    renamed = neg.replace('.negative.nr.txt','excluded-upon-knockdown')\n",
    "    renamed = renamed.replace('.SE.MATS.JunctionCountOnly','-')\n",
    "    if not os.path.exists(renamed):\n",
    "        ! ln -s $neg $renamed\n",
    "    t.update(1)"
   ]
  },
  {
   "cell_type": "code",
   "execution_count": 17,
   "metadata": {},
   "outputs": [
    {
     "data": {
      "text/plain": [
       "'/projects/ps-yeolab3/bay001/maps/current_annotations/se/DDX52-BGHLV16-HepG2.set16-included-upon-knockdown'"
      ]
     },
     "execution_count": 17,
     "metadata": {},
     "output_type": "execute_result"
    }
   ],
   "source": [
    "renamed"
   ]
  },
  {
   "cell_type": "code",
   "execution_count": 11,
   "metadata": {},
   "outputs": [
    {
     "name": "stdout",
     "output_type": "stream",
     "text": [
      "('number of positive and negative: ', 415, 392, 'a3ss')\n"
     ]
    },
    {
     "data": {
      "application/vnd.jupyter.widget-view+json": {
       "model_id": "af92f044f57748a488cb1710a6f6acdf",
       "version_major": 2,
       "version_minor": 0
      },
      "text/html": [
       "<p>Failed to display Jupyter Widget of type <code>HBox</code>.</p>\n",
       "<p>\n",
       "  If you're reading this message in the Jupyter Notebook or JupyterLab Notebook, it may mean\n",
       "  that the widgets JavaScript is still loading. If this message persists, it\n",
       "  likely means that the widgets JavaScript library is either not installed or\n",
       "  not enabled. See the <a href=\"https://ipywidgets.readthedocs.io/en/stable/user_install.html\">Jupyter\n",
       "  Widgets Documentation</a> for setup instructions.\n",
       "</p>\n",
       "<p>\n",
       "  If you're reading this message in another frontend (for example, a static\n",
       "  rendering on GitHub or <a href=\"https://nbviewer.jupyter.org/\">NBViewer</a>),\n",
       "  it may mean that your frontend doesn't currently support widgets.\n",
       "</p>\n"
      ],
      "text/plain": [
       "HBox(children=(IntProgress(value=0, max=807), HTML(value=u'')))"
      ]
     },
     "metadata": {},
     "output_type": "display_data"
    },
    {
     "name": "stdout",
     "output_type": "stream",
     "text": [
      "\n",
      "('number of positive and negative: ', 362, 364, 'a5ss')\n"
     ]
    },
    {
     "data": {
      "application/vnd.jupyter.widget-view+json": {
       "model_id": "4cfcfa451d884786aac126c9875ca563",
       "version_major": 2,
       "version_minor": 0
      },
      "text/html": [
       "<p>Failed to display Jupyter Widget of type <code>HBox</code>.</p>\n",
       "<p>\n",
       "  If you're reading this message in the Jupyter Notebook or JupyterLab Notebook, it may mean\n",
       "  that the widgets JavaScript is still loading. If this message persists, it\n",
       "  likely means that the widgets JavaScript library is either not installed or\n",
       "  not enabled. See the <a href=\"https://ipywidgets.readthedocs.io/en/stable/user_install.html\">Jupyter\n",
       "  Widgets Documentation</a> for setup instructions.\n",
       "</p>\n",
       "<p>\n",
       "  If you're reading this message in another frontend (for example, a static\n",
       "  rendering on GitHub or <a href=\"https://nbviewer.jupyter.org/\">NBViewer</a>),\n",
       "  it may mean that your frontend doesn't currently support widgets.\n",
       "</p>\n"
      ],
      "text/plain": [
       "HBox(children=(IntProgress(value=0, max=726), HTML(value=u'')))"
      ]
     },
     "metadata": {},
     "output_type": "display_data"
    }
   ],
   "source": [
    "annotation_directory = '/projects/ps-yeolab3/bay001/maps/current_annotations/'\n",
    "events = ['a3ss','a5ss']\n",
    "for event in events:\n",
    "    all_positive = glob.glob(os.path.join(annotation_directory,'{}/*.positive.nr.txt'.format(event)))\n",
    "    all_negative = glob.glob(os.path.join(annotation_directory,'{}/*.negative.nr.txt'.format(event)))\n",
    "    print(\"number of positive and negative: \", len(all_positive), len(all_negative), event)\n",
    "    t = tnrange(len(all_positive) + len(all_negative))\n",
    "    renamed_directory = '/projects/ps-yeolab3/bay001/maps/current_annotations/{}_renamed'.format(event)\n",
    "\n",
    "    for pos in all_positive:\n",
    "        renamed = os.path.basename(pos).replace('.positive.nr.txt','longer-isoform-included-upon-knockdown')\n",
    "        renamed = renamed.replace('.MATS.JunctionCountOnly','').replace('-{}'.format(event.upper()),'-')\n",
    "        renamed = os.path.join(renamed_directory, renamed)\n",
    "        if not os.path.exists(renamed):\n",
    "            ! ln -s $pos $renamed\n",
    "        t.update(1)\n",
    "\n",
    "    for neg in all_negative:\n",
    "        renamed = os.path.basename(neg).replace('.negative.nr.txt','shorter-isoform-included-upon-knockdown')\n",
    "        renamed = renamed.replace('.MATS.JunctionCountOnly','').replace('-{}'.format(event.upper()),'-')\n",
    "        renamed = os.path.join(renamed_directory, renamed)\n",
    "        if not os.path.exists(renamed):\n",
    "            ! ln -s $neg $renamed\n",
    "        t.update(1)"
   ]
  },
  {
   "cell_type": "code",
   "execution_count": 28,
   "metadata": {},
   "outputs": [
    {
     "data": {
      "application/vnd.jupyter.widget-view+json": {
       "model_id": "48c370badce44423a7cbd06633d8c64f",
       "version_major": 2,
       "version_minor": 0
      },
      "text/html": [
       "<p>Failed to display Jupyter Widget of type <code>HBox</code>.</p>\n",
       "<p>\n",
       "  If you're reading this message in the Jupyter Notebook or JupyterLab Notebook, it may mean\n",
       "  that the widgets JavaScript is still loading. If this message persists, it\n",
       "  likely means that the widgets JavaScript library is either not installed or\n",
       "  not enabled. See the <a href=\"https://ipywidgets.readthedocs.io/en/stable/user_install.html\">Jupyter\n",
       "  Widgets Documentation</a> for setup instructions.\n",
       "</p>\n",
       "<p>\n",
       "  If you're reading this message in another frontend (for example, a static\n",
       "  rendering on GitHub or <a href=\"https://nbviewer.jupyter.org/\">NBViewer</a>),\n",
       "  it may mean that your frontend doesn't currently support widgets.\n",
       "</p>\n"
      ],
      "text/plain": [
       "HBox(children=(IntProgress(value=0, max=879), HTML(value=u'')))"
      ]
     },
     "metadata": {},
     "output_type": "display_data"
    }
   ],
   "source": [
    "event = 'ri'\n",
    "\n",
    "all_positive = glob.glob(os.path.join(annotation_directory,'{}/*.positive.nr.txt'.format(event)))\n",
    "all_negative = glob.glob(os.path.join(annotation_directory,'{}/*.negative.nr.txt'.format(event)))\n",
    "    \n",
    "t = tnrange(len(all_positive) + len(all_negative))\n",
    "renamed_directory = '/projects/ps-yeolab3/bay001/maps/current_annotations/{}_renamed'.format(event)\n",
    "\n",
    "for pos in all_positive:\n",
    "    renamed = os.path.basename(pos).replace('.positive.nr.txt','included-upon-knockdown')\n",
    "    renamed = renamed.replace('.RI.MATS.JunctionCountOnly','-')\n",
    "    renamed = os.path.join(renamed_directory, renamed)\n",
    "    if not os.path.exists(renamed):\n",
    "        ! ln -s $pos $renamed\n",
    "    t.update(1)\n",
    "    \n",
    "for neg in all_negative:\n",
    "    renamed = os.path.basename(neg).replace('.negative.nr.txt','excluded-upon-knockdown')\n",
    "    renamed = renamed.replace('.RI.MATS.JunctionCountOnly','-')\n",
    "    renamed = os.path.join(renamed_directory, renamed)\n",
    "    if not os.path.exists(renamed):\n",
    "        ! ln -s $neg $renamed\n",
    "    t.update(1)"
   ]
  },
  {
   "cell_type": "markdown",
   "metadata": {
    "collapsed": true
   },
   "source": [
    "# new control datasets"
   ]
  },
  {
   "cell_type": "markdown",
   "metadata": {},
   "source": [
    "# Subset nonredundant control events"
   ]
  },
  {
   "cell_type": "code",
   "execution_count": 19,
   "metadata": {},
   "outputs": [
    {
     "data": {
      "application/vnd.jupyter.widget-view+json": {
       "model_id": "70b3bf4f3c1b46f3b10ddd180b046d3a",
       "version_major": 2,
       "version_minor": 0
      },
      "text/html": [
       "<p>Failed to display Jupyter Widget of type <code>HBox</code>.</p>\n",
       "<p>\n",
       "  If you're reading this message in the Jupyter Notebook or JupyterLab Notebook, it may mean\n",
       "  that the widgets JavaScript is still loading. If this message persists, it\n",
       "  likely means that the widgets JavaScript library is either not installed or\n",
       "  not enabled. See the <a href=\"https://ipywidgets.readthedocs.io/en/stable/user_install.html\">Jupyter\n",
       "  Widgets Documentation</a> for setup instructions.\n",
       "</p>\n",
       "<p>\n",
       "  If you're reading this message in another frontend (for example, a static\n",
       "  rendering on GitHub or <a href=\"https://nbviewer.jupyter.org/\">NBViewer</a>),\n",
       "  it may mean that your frontend doesn't currently support widgets.\n",
       "</p>\n"
      ],
      "text/plain": [
       "HBox(children=(IntProgress(value=0, max=12), HTML(value=u'')))"
      ]
     },
     "metadata": {},
     "output_type": "display_data"
    }
   ],
   "source": [
    "input_dir = '/projects/ps-yeolab3/bay001/maps/current_annotations/erics_controls/from_eric/'\n",
    "output_dir = '/projects/ps-yeolab3/bay001/maps/current_annotations/erics_controls/nonredundant/'\n",
    "\n",
    "\n",
    "nSE_annotations = glob.glob(os.path.join(input_dir, '*nSE*20180413'))\n",
    "aSE_annotations = glob.glob(os.path.join(input_dir, '*aSE*20180413'))\n",
    "CE_annotations = glob.glob(os.path.join(input_dir, '*CE*20180413'))\n",
    "se_annotations = nSE_annotations + aSE_annotations + CE_annotations\n",
    "\n",
    "progress = tnrange(len(se_annotations))\n",
    "\n",
    "for se_annotation in se_annotations:\n",
    "    if '.NR' not in se_annotation:\n",
    "        se_nr_annotation = os.path.join(output_dir, os.path.basename(se_annotation) + '.NR')\n",
    "        cmd = 'python {} '.format(subset_prog)\n",
    "        cmd = cmd + '-i {} '.format(se_annotation)\n",
    "        cmd = cmd + '-o {} '.format(se_nr_annotation)\n",
    "        cmd = cmd + '-e {} '.format('se')\n",
    "        cmd = cmd + '-f {} '.format('eric')\n",
    "        ! $cmd\n",
    "    progress.update(1)"
   ]
  },
  {
   "cell_type": "code",
   "execution_count": 22,
   "metadata": {},
   "outputs": [
    {
     "data": {
      "application/vnd.jupyter.widget-view+json": {
       "model_id": "9e9f31805a944b96880d09f30d7ff16d",
       "version_major": 2,
       "version_minor": 0
      },
      "text/html": [
       "<p>Failed to display Jupyter Widget of type <code>HBox</code>.</p>\n",
       "<p>\n",
       "  If you're reading this message in the Jupyter Notebook or JupyterLab Notebook, it may mean\n",
       "  that the widgets JavaScript is still loading. If this message persists, it\n",
       "  likely means that the widgets JavaScript library is either not installed or\n",
       "  not enabled. See the <a href=\"https://ipywidgets.readthedocs.io/en/stable/user_install.html\">Jupyter\n",
       "  Widgets Documentation</a> for setup instructions.\n",
       "</p>\n",
       "<p>\n",
       "  If you're reading this message in another frontend (for example, a static\n",
       "  rendering on GitHub or <a href=\"https://nbviewer.jupyter.org/\">NBViewer</a>),\n",
       "  it may mean that your frontend doesn't currently support widgets.\n",
       "</p>\n"
      ],
      "text/plain": [
       "HBox(children=(IntProgress(value=0, max=8), HTML(value=u'')))"
      ]
     },
     "metadata": {},
     "output_type": "display_data"
    },
    {
     "name": "stdout",
     "output_type": "stream",
     "text": [
      "\n"
     ]
    }
   ],
   "source": [
    "input_dir = '/projects/ps-yeolab3/bay001/maps/current_annotations/erics_controls/from_eric/'\n",
    "output_dir = '/projects/ps-yeolab3/bay001/maps/current_annotations/erics_controls/nonredundant/se'\n",
    "\n",
    "\n",
    "a3ss_center = glob.glob(os.path.join(input_dir, '*aA3SScenter*20180413'))\n",
    "a3ss_all = glob.glob(os.path.join(input_dir, '*nA3SSall*20180413'))\n",
    "a3ss_basic = glob.glob(os.path.join(input_dir, '*nA3SSbasic*20180413'))\n",
    "a3ss_extension = glob.glob(os.path.join(input_dir, '*nA3SSextension*20180413'))\n",
    "a3ss_annotations = a3ss_center + a3ss_all + a3ss_basic + a3ss_extension\n",
    "\n",
    "progress = tnrange(len(a3ss_annotations))\n",
    "\n",
    "for annotation in a3ss_annotations:\n",
    "    if '.NR' not in annotation:\n",
    "        nr_annotation = os.path.join(output_dir, os.path.basename(annotation) + '.NR')\n",
    "        cmd = 'python {} '.format(subset_prog)\n",
    "        cmd = cmd + '-i {} '.format(annotation)\n",
    "        cmd = cmd + '-o {} '.format(nr_annotation)\n",
    "        cmd = cmd + '-e {} '.format('a3ss')\n",
    "        cmd = cmd + '-f {} '.format('eric')\n",
    "        ! $cmd\n",
    "    progress.update(1)"
   ]
  },
  {
   "cell_type": "code",
   "execution_count": 23,
   "metadata": {},
   "outputs": [
    {
     "data": {
      "application/vnd.jupyter.widget-view+json": {
       "model_id": "2010e55fb8aa4a739f0ba7cac6494c04",
       "version_major": 2,
       "version_minor": 0
      },
      "text/html": [
       "<p>Failed to display Jupyter Widget of type <code>HBox</code>.</p>\n",
       "<p>\n",
       "  If you're reading this message in the Jupyter Notebook or JupyterLab Notebook, it may mean\n",
       "  that the widgets JavaScript is still loading. If this message persists, it\n",
       "  likely means that the widgets JavaScript library is either not installed or\n",
       "  not enabled. See the <a href=\"https://ipywidgets.readthedocs.io/en/stable/user_install.html\">Jupyter\n",
       "  Widgets Documentation</a> for setup instructions.\n",
       "</p>\n",
       "<p>\n",
       "  If you're reading this message in another frontend (for example, a static\n",
       "  rendering on GitHub or <a href=\"https://nbviewer.jupyter.org/\">NBViewer</a>),\n",
       "  it may mean that your frontend doesn't currently support widgets.\n",
       "</p>\n"
      ],
      "text/plain": [
       "HBox(children=(IntProgress(value=0, max=8), HTML(value=u'')))"
      ]
     },
     "metadata": {},
     "output_type": "display_data"
    }
   ],
   "source": [
    "input_dir = '/projects/ps-yeolab3/bay001/maps/current_annotations/erics_controls/from_eric/'\n",
    "output_dir = '/projects/ps-yeolab3/bay001/maps/current_annotations/erics_controls/nonredundant/a3ss'\n",
    "\n",
    "\n",
    "a5ss_center = glob.glob(os.path.join(input_dir, '*aA5SScenter*20180413'))\n",
    "a5ss_all = glob.glob(os.path.join(input_dir, '*nA5SSall*20180413'))\n",
    "a5ss_basic = glob.glob(os.path.join(input_dir, '*nA5SSbasic*20180413'))\n",
    "a5ss_extension = glob.glob(os.path.join(input_dir, '*nA5SSextension*20180413'))\n",
    "a5ss_annotations = a5ss_center + a5ss_all + a5ss_basic + a5ss_extension\n",
    "\n",
    "progress = tnrange(len(a5ss_annotations))\n",
    "\n",
    "for annotation in a5ss_annotations:\n",
    "    if '.NR' not in annotation:\n",
    "        nr_annotation = os.path.join(output_dir, os.path.basename(annotation) + '.NR')\n",
    "        cmd = 'python {} '.format(subset_prog)\n",
    "        cmd = cmd + '-i {} '.format(annotation)\n",
    "        cmd = cmd + '-o {} '.format(nr_annotation)\n",
    "        cmd = cmd + '-e {} '.format('a5ss')\n",
    "        cmd = cmd + '-f {} '.format('eric')\n",
    "        ! $cmd\n",
    "    progress.update(1)"
   ]
  },
  {
   "cell_type": "code",
   "execution_count": null,
   "metadata": {},
   "outputs": [],
   "source": [
    "input_dir = '/projects/ps-yeolab3/bay001/maps/current_annotations/erics_controls/from_eric/'\n",
    "output_dir = '/projects/ps-yeolab3/bay001/maps/current_annotations/erics_controls/nonredundant/a5ss'\n",
    "\n",
    "\n",
    "a5ss_center = glob.glob(os.path.join(input_dir, '*aA5SScenter*20180413'))\n",
    "a5ss_all = glob.glob(os.path.join(input_dir, '*nA5SSall*20180413'))\n",
    "a5ss_basic = glob.glob(os.path.join(input_dir, '*nA5SSbasic*20180413'))\n",
    "a5ss_extension = glob.glob(os.path.join(input_dir, '*nA5SSextension*20180413'))\n",
    "a5ss_annotations = a5ss_center + a5ss_all + a5ss_basic + a5ss_extension\n",
    "\n",
    "progress = tnrange(len(a5ss_annotations))\n",
    "\n",
    "for annotation in a5ss_annotations:\n",
    "    if '.NR' not in annotation:\n",
    "        nr_annotation = os.path.join(output_dir, os.path.basename(annotation) + '.NR')\n",
    "        cmd = 'python {} '.format(subset_prog)\n",
    "        cmd = cmd + '-i {} '.format(annotation)\n",
    "        cmd = cmd + '-o {} '.format(nr_annotation)\n",
    "        cmd = cmd + '-e {} '.format('a5ss')\n",
    "        cmd = cmd + '-f {} '.format('eric')\n",
    "        ! $cmd\n",
    "    progress.update(1)"
   ]
  },
  {
   "cell_type": "code",
   "execution_count": null,
   "metadata": {},
   "outputs": [],
   "source": [
    "input_dir = '/projects/ps-yeolab3/bay001/maps/current_annotations/erics_controls/from_eric/'\n",
    "output_dir = '/projects/ps-yeolab3/bay001/maps/current_annotations/erics_controls/nonredundant/ri'\n",
    "\n",
    "\n",
    "ri = glob.glob(os.path.join(input_dir, '**20180413'))\n",
    "ri = glob.glob(os.path.join(input_dir, '**20180413'))\n",
    "ri = glob.glob(os.path.join(input_dir, '**20180413'))\n",
    "ri = glob.glob(os.path.join(input_dir, '**20180413'))\n",
    "ri_annotations = ri + ri + ri + ri\n",
    "\n",
    "progress = tnrange(len(a5ss_annotations))\n",
    "\n",
    "for annotation in a5ss_annotations:\n",
    "    if '.NR' not in annotation:\n",
    "        nr_annotation = os.path.join(output_dir, os.path.basename(annotation) + '.NR')\n",
    "        cmd = 'python {} '.format(subset_prog)\n",
    "        cmd = cmd + '-i {} '.format(annotation)\n",
    "        cmd = cmd + '-o {} '.format(nr_annotation)\n",
    "        cmd = cmd + '-e {} '.format('ri')\n",
    "        cmd = cmd + '-f {} '.format('eric')\n",
    "        ! $cmd\n",
    "    progress.update(1)"
   ]
  },
  {
   "cell_type": "markdown",
   "metadata": {},
   "source": [
    "# I forget what the rest does so not including it for now."
   ]
  },
  {
   "cell_type": "raw",
   "metadata": {},
   "source": [
    "\n",
    "import glob\n",
    "import os\n",
    "import pandas as pd\n",
    "\n",
    "header = ['annotation','lowpos','cassette','hipos']\n",
    "\n",
    "new_control_dir = '/home/bay001/projects/maps_20160420/analysis/tests/eric_new_ctrls/'\n",
    "original_bgs = glob.glob(os.path.join(new_control_dir,'*.tpm1'))\n",
    "for bg in original_bgs:\n",
    "    new_bg = bg.replace('.tpm1','.tpm1.miso')\n",
    "    df = pd.read_table(bg, names=header)\n",
    "    df['miso'] = df.apply(as_miso, axis=1)\n",
    "    df[['miso', 'annotation']].to_csv(\n",
    "        new_bg, sep='\\t', index=False, header=False\n",
    "    )"
   ]
  },
  {
   "cell_type": "markdown",
   "metadata": {
    "collapsed": true
   },
   "source": [
    "# concatenate the 50% CI and 50% RI for KS test calculation background:\n",
    "- RI_background = nRI_0.5_CI    +    nRI_0.5_RI      -- control for ks-tests / normalization\n"
   ]
  },
  {
   "cell_type": "raw",
   "metadata": {},
   "source": [
    "ri_dir = '/projects/ps-yeolab3/bay001/maps/current/ri'\n",
    "retained_intron_bgs = glob.glob(os.path.join(ri_dir,'*-greater-than-50-percent-retained.normalize_and_per_region_subtract.csv'))\n",
    "retained_intron_bgs"
   ]
  },
  {
   "cell_type": "raw",
   "metadata": {},
   "source": [
    "keys = []\n",
    "progress = tnrange(len(retained_intron_bgs))\n",
    "for retained_file in retained_intron_bgs:\n",
    "    key = os.path.basename(retained_file).split('-')[0]\n",
    "    keys.append(key)\n",
    "    spliced_file = glob.glob(\n",
    "        os.path.join(\n",
    "            ri_dir,'{}*-greater-than-50-percent-spliced.normalize_and_per_region_subtract.csv'.format(\n",
    "                key\n",
    "            )\n",
    "        )\n",
    "    )[0]\n",
    "    retained = pd.read_table(retained_file, sep=',', index_col=0)\n",
    "    spliced = pd.read_table(spliced_file, sep=',', index_col=0)\n",
    "    combined = pd.concat([retained, spliced])\n",
    "    combined.to_csv(\n",
    "        os.path.join(\n",
    "            ri_dir, retained_file.replace(\n",
    "                '-greater-than-50-percent-retained',\n",
    "                '-greater-than-50-percent-retained-and-spliced-combined'\n",
    "            )\n",
    "        )\n",
    "    )\n",
    "    progress.update(1)"
   ]
  },
  {
   "cell_type": "markdown",
   "metadata": {},
   "source": [
    "# all SEs that change in either RBFOX2 or QKI knockdowns (hepg2), but with the duplicates removed"
   ]
  },
  {
   "cell_type": "code",
   "execution_count": 11,
   "metadata": {},
   "outputs": [
    {
     "name": "stdout",
     "output_type": "stream",
     "text": [
      "((129, 23), (167, 23), (392, 23), (130, 23))\n"
     ]
    }
   ],
   "source": [
    "# get both rmats files:\n",
    "annotation_dir = '/projects/ps-yeolab3/bay001/maps/current_annotations/se/'\n",
    "output_dir = '/projects/ps-yeolab3/bay001/maps/current_annotations/combined_nr_rbfox2_qki_hepg2/'\n",
    "\n",
    "rbfox2_pos = pd.read_table(\n",
    "    os.path.join(annotation_dir, 'RBFOX2-BGHLV26-HepG2.set26.SE.MATS.JunctionCountOnly.positive.txt')\n",
    ")\n",
    "rbfox2_neg = pd.read_table(\n",
    "    os.path.join(annotation_dir, 'RBFOX2-BGHLV26-HepG2.set26.SE.MATS.JunctionCountOnly.negative.txt')\n",
    ")\n",
    "qki_pos = pd.read_table(\n",
    "    os.path.join(annotation_dir, 'QKI-BGHLV12-HepG2.set12.SE.MATS.JunctionCountOnly.positive.txt')\n",
    ")\n",
    "qki_neg = pd.read_table(\n",
    "    os.path.join(annotation_dir, 'QKI-BGHLV12-HepG2.set12.SE.MATS.JunctionCountOnly.negative.txt')\n",
    ")\n",
    "print(rbfox2_pos.shape, rbfox2_neg.shape, qki_pos.shape, qki_neg.shape)"
   ]
  },
  {
   "cell_type": "code",
   "execution_count": 13,
   "metadata": {},
   "outputs": [
    {
     "name": "stdout",
     "output_type": "stream",
     "text": [
      "((521, 23), (297, 23))\n"
     ]
    }
   ],
   "source": [
    "# concatenate the positive/negative files for each:\n",
    "\n",
    "pos = pd.concat([rbfox2_pos, qki_pos])\n",
    "pos_fn = os.path.join(output_dir, 'RBFOX2-QKI-SE.MATS.JunctionCountOnly.positive.txt')\n",
    "pos.to_csv(pos_fn, sep='\\t')\n",
    "neg = pd.concat([rbfox2_neg, qki_neg])\n",
    "neg_fn = os.path.join(output_dir, 'RBFOX2-QKI-SE.MATS.JunctionCountOnly.negative.txt')\n",
    "neg.to_csv(neg_fn, sep='\\t')\n",
    "print(pos.shape, neg.shape)"
   ]
  },
  {
   "cell_type": "code",
   "execution_count": 15,
   "metadata": {},
   "outputs": [],
   "source": [
    "subset_prog = '/home/bay001/projects/codebase/bfx/pyscripts/rnaseq/subset_rmats_junctioncountonly.py'\n",
    "\n",
    "for annotation in [pos_fn, neg_fn]:\n",
    "    nr_annotation = os.path.join(output_dir, os.path.basename(annotation) + '.NR')\n",
    "    cmd = 'python {} '.format(subset_prog)\n",
    "    cmd = cmd + '-i {} '.format(annotation)\n",
    "    cmd = cmd + '-o {} '.format(nr_annotation)\n",
    "    cmd = cmd + '-e {} '.format('se')\n",
    "    cmd = cmd + '-f {} '.format('rmats')\n",
    "    ! $cmd\n"
   ]
  },
  {
   "cell_type": "code",
   "execution_count": 20,
   "metadata": {},
   "outputs": [
    {
     "name": "stdout",
     "output_type": "stream",
     "text": [
      "((129, 23), (167, 23))\n"
     ]
    }
   ],
   "source": [
    "df = pd.read_table(os.path.join(output_dir, 'RBFOX2-BGHLV26-HepG2.set26.SE.MATS.JunctionCountOnly.txt'))\n",
    "pvalue = 0.05\n",
    "fdr = 0.1\n",
    "sep = 0.05\n",
    "\n",
    "dfp = df[\n",
    "    (df['PValue'] < pvalue) & (df['FDR'] < fdr) & (df['IncLevelDifference'] > sep)\n",
    "]\n",
    "dfn = df[\n",
    "    (df['PValue'] < pvalue) & (df['FDR'] < fdr) & (df['IncLevelDifference'] < -sep)\n",
    "]\n",
    "print(dfp.shape, dfn.shape)"
   ]
  },
  {
   "cell_type": "markdown",
   "metadata": {},
   "source": [
    "# Try again but without separating incl/excl"
   ]
  },
  {
   "cell_type": "code",
   "execution_count": 25,
   "metadata": {},
   "outputs": [
    {
     "name": "stdout",
     "output_type": "stream",
     "text": [
      "((296, 23), (522, 23))\n"
     ]
    }
   ],
   "source": [
    "# get both rmats files:\n",
    "annotation_dir = '/projects/ps-yeolab3/bay001/maps/current_annotations/se/'\n",
    "output_dir = '/projects/ps-yeolab3/bay001/maps/current_annotations/combined_nr_rbfox2_qki_hepg2/'\n",
    "\n",
    "rbfox2 = pd.read_table(\n",
    "    os.path.join(annotation_dir, 'RBFOX2-BGHLV26-HepG2.set26.SE.MATS.JunctionCountOnly.significant.txt')\n",
    ")\n",
    "qki = pd.read_table(\n",
    "    os.path.join(annotation_dir, 'QKI-BGHLV12-HepG2.set12.SE.MATS.JunctionCountOnly.significant.txt')\n",
    ")\n",
    "print(rbfox2.shape, qki.shape)"
   ]
  },
  {
   "cell_type": "code",
   "execution_count": 23,
   "metadata": {},
   "outputs": [
    {
     "name": "stdout",
     "output_type": "stream",
     "text": [
      "(818, 23)\n"
     ]
    }
   ],
   "source": [
    "combined = pd.concat([rbfox2, qki])\n",
    "combined_fn = os.path.join(output_dir, 'RBFOX2-QKI-SE.MATS.JunctionCountOnly.significant.txt')\n",
    "print(combined.shape)\n",
    "combined.to_csv(combined_fn, sep='\\t')"
   ]
  },
  {
   "cell_type": "code",
   "execution_count": 24,
   "metadata": {},
   "outputs": [],
   "source": [
    "subset_prog = '/home/bay001/projects/codebase/bfx/pyscripts/rnaseq/subset_rmats_junctioncountonly.py'\n",
    "\n",
    "for annotation in [combined_fn]:\n",
    "    nr_annotation = os.path.join(output_dir, os.path.basename(annotation) + '.NR')\n",
    "    cmd = 'python {} '.format(subset_prog)\n",
    "    cmd = cmd + '-i {} '.format(annotation)\n",
    "    cmd = cmd + '-o {} '.format(nr_annotation)\n",
    "    cmd = cmd + '-e {} '.format('se')\n",
    "    cmd = cmd + '-f {} '.format('rmats')\n",
    "    ! $cmd"
   ]
  },
  {
   "cell_type": "markdown",
   "metadata": {},
   "source": [
    "# TIA/TIAL1 now"
   ]
  },
  {
   "cell_type": "code",
   "execution_count": 27,
   "metadata": {},
   "outputs": [
    {
     "name": "stdout",
     "output_type": "stream",
     "text": [
      "((243, 23), (596, 23))\n"
     ]
    }
   ],
   "source": [
    "# get both rmats files:\n",
    "annotation_dir = '/projects/ps-yeolab3/bay001/maps/current_annotations/se/'\n",
    "output_dir = '/projects/ps-yeolab3/bay001/maps/current_annotations/combined_nr_tia1_tial1_hepg2/'\n",
    "\n",
    "tia1 = pd.read_table(\n",
    "    os.path.join(annotation_dir, 'TIA1-BGHLV12-HepG2.set12.SE.MATS.JunctionCountOnly.significant.txt')\n",
    ")\n",
    "tial1 = pd.read_table(\n",
    "    os.path.join(annotation_dir, 'TIAL1-BGHLV20-HepG2.set20.SE.MATS.JunctionCountOnly.significant.txt')\n",
    ")\n",
    "print(tia1.shape, tial1.shape)"
   ]
  },
  {
   "cell_type": "code",
   "execution_count": 28,
   "metadata": {},
   "outputs": [
    {
     "name": "stdout",
     "output_type": "stream",
     "text": [
      "(839, 23)\n"
     ]
    }
   ],
   "source": [
    "combined = pd.concat([tia1, tial1])\n",
    "combined_fn = os.path.join(output_dir, 'TIA1-TIAL1-SE.MATS.JunctionCountOnly.significant.txt')\n",
    "print(combined.shape)\n",
    "combined.to_csv(combined_fn, sep='\\t')"
   ]
  },
  {
   "cell_type": "code",
   "execution_count": 29,
   "metadata": {},
   "outputs": [],
   "source": [
    "subset_prog = '/home/bay001/projects/codebase/bfx/pyscripts/rnaseq/subset_rmats_junctioncountonly.py'\n",
    "\n",
    "for annotation in [combined_fn]:\n",
    "    nr_annotation = os.path.join(output_dir, os.path.basename(annotation) + '.NR')\n",
    "    cmd = 'python {} '.format(subset_prog)\n",
    "    cmd = cmd + '-i {} '.format(annotation)\n",
    "    cmd = cmd + '-o {} '.format(nr_annotation)\n",
    "    cmd = cmd + '-e {} '.format('se')\n",
    "    cmd = cmd + '-f {} '.format('rmats')\n",
    "    ! $cmd"
   ]
  },
  {
   "cell_type": "markdown",
   "metadata": {},
   "source": [
    "# re-subset RBFOX2\n",
    "- accidentally deleted the .positive.nr.txt"
   ]
  },
  {
   "cell_type": "code",
   "execution_count": 8,
   "metadata": {},
   "outputs": [
    {
     "data": {
      "text/plain": [
       "(['', ''], 0)"
      ]
     },
     "execution_count": 8,
     "metadata": {},
     "output_type": "execute_result"
    }
   ],
   "source": [
    "rbfox2 = '/projects/ps-yeolab3/bay001/maps/current_annotations/se/RBFOX2-BGHLV26-HepG2.set26.SE.MATS.JunctionCountOnly.txt'\n",
    "subset_rmats(f=rbfox2, pvalue=0.05, fdr=0.1, sep=0.05)"
   ]
  },
  {
   "cell_type": "code",
   "execution_count": null,
   "metadata": {},
   "outputs": [],
   "source": []
  }
 ],
 "metadata": {
  "kernelspec": {
   "display_name": "brian",
   "language": "python",
   "name": "brian"
  },
  "language_info": {
   "codemirror_mode": {
    "name": "ipython",
    "version": 2
   },
   "file_extension": ".py",
   "mimetype": "text/x-python",
   "name": "python",
   "nbconvert_exporter": "python",
   "pygments_lexer": "ipython2",
   "version": "2.7.11"
  }
 },
 "nbformat": 4,
 "nbformat_minor": 1
}
