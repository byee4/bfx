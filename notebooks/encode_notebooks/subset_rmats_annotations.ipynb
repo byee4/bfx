{
 "cells": [
  {
   "cell_type": "code",
   "execution_count": 1,
   "metadata": {
    "collapsed": true
   },
   "outputs": [],
   "source": [
    "import pandas as pd\n",
    "import numpy as np\n",
    "import os\n",
    "import glob\n",
    "from collections import defaultdict\n",
    "from qtools import Submitter\n",
    "from tqdm import tnrange, tqdm_notebook"
   ]
  },
  {
   "cell_type": "code",
   "execution_count": 2,
   "metadata": {
    "collapsed": true
   },
   "outputs": [],
   "source": [
    "pvalue = 0.05\n",
    "fdr = 0.1\n",
    "sep = 0.05\n",
    "\n",
    "annotation_subdirectories = ['se','a3ss','a5ss','mxe','ri']\n",
    "annotation_directory = '/projects/ps-yeolab3/bay001/maps/current_annotations/'\n",
    "\n",
    "if not os.path.exists(annotation_directory):\n",
    "    ! mkdir annotation_directory\n",
    "    \n",
    "for annotation_subdirectory in annotation_subdirectories:\n",
    "    if not os.path.exists(os.path.join(annotation_directory, annotation_subdirectory)):\n",
    "        subdir = os.path.join(annotation_directory, annotation_subdirectory)\n",
    "        ! mkdir $subdir"
   ]
  },
  {
   "cell_type": "code",
   "execution_count": 3,
   "metadata": {
    "collapsed": true
   },
   "outputs": [],
   "source": [
    "graveley_rmats_dir = '/projects/ps-yeolab3/encode/rnaseq/alt_splicing/graveley_rmats_3-30-2017/not_normed/'\n",
    "\n",
    "def move_files(mats_dir, dest_parent_dir):\n",
    "    events = ['se','a3ss','a5ss','mxe','ri']\n",
    "    all_files = glob.glob(os.path.join(mats_dir, '*.JunctionCountOnly.txt'))\n",
    "    print(\"number of files found: {}\".format(len(all_files)))\n",
    "    progress = tnrange(len(all_files))\n",
    "    for src in all_files:\n",
    "        for e in events:\n",
    "            dest = os.path.join(dest_parent_dir, e)\n",
    "            dest_fullpath = os.path.join(dest, os.path.basename(src))\n",
    "            if \"{}.MATS.JunctionCountOnly.txt\".format(e.upper()) in src:\n",
    "                if not os.path.exists(dest_fullpath):\n",
    "                    ! ln -s $src $dest_fullpath\n",
    "                progress.update(1)\n",
    "\n",
    "### UNCOMMENT if we're making completely new annotations - i'm just renaming them here.\n",
    "# move_files(graveley_rmats_dir, annotation_directory)"
   ]
  },
  {
   "cell_type": "code",
   "execution_count": 4,
   "metadata": {},
   "outputs": [
    {
     "name": "stdout",
     "output_type": "stream",
     "text": [
      "number of se rmats calls found: 452\n",
      "number of a3ss rmats calls found: 452\n",
      "number of a5ss rmats calls found: 452\n",
      "number of mxe rmats calls found: 452\n",
      "number of ri rmats calls found: 452\n"
     ]
    }
   ],
   "source": [
    "all_se_mats = glob.glob(os.path.join(annotation_directory,'se/*-SE.MATS.JunctionCountOnly.txt'))\n",
    "all_a3ss_mats = glob.glob(os.path.join(annotation_directory,'a3ss/*-A3SS.MATS.JunctionCountOnly.txt'))\n",
    "all_a5ss_mats = glob.glob(os.path.join(annotation_directory,'a5ss/*-A5SS.MATS.JunctionCountOnly.txt'))\n",
    "all_mxe_mats = glob.glob(os.path.join(annotation_directory,'mxe/*-MXE.MATS.JunctionCountOnly.txt'))\n",
    "all_ri_mats = glob.glob(os.path.join(annotation_directory,'ri/*-RI.MATS.JunctionCountOnly.txt'))\n",
    "print(\"number of se rmats calls found: {}\".format(len(all_se_mats)))\n",
    "print(\"number of a3ss rmats calls found: {}\".format(len(all_a3ss_mats)))\n",
    "print(\"number of a5ss rmats calls found: {}\".format(len(all_a5ss_mats)))\n",
    "print(\"number of mxe rmats calls found: {}\".format(len(all_mxe_mats)))\n",
    "print(\"number of ri rmats calls found: {}\".format(len(all_ri_mats)))"
   ]
  },
  {
   "cell_type": "code",
   "execution_count": 5,
   "metadata": {
    "collapsed": true
   },
   "outputs": [],
   "source": [
    "def subset_rmats(f, pvalue, fdr, sep):\n",
    "    insignificant_positive_rbps = ''\n",
    "    insignificant_negative_rbps = ''\n",
    "    num_missing=0\n",
    "    df = pd.read_table(f)\n",
    "    dfp = df[\n",
    "        (df['PValue'] < pvalue) & (df['FDR'] < fdr) & (df['IncLevelDifference'] > sep)\n",
    "    ]\n",
    "    dfn = df[\n",
    "        (df['PValue'] < pvalue) & (df['FDR'] < fdr) & (df['IncLevelDifference'] < -sep)\n",
    "    ]\n",
    "    dfs = pd.concat([dfp, dfn])\n",
    "    if dfs.shape[0] > 0:\n",
    "        dest = f.replace('.txt','.significant.txt')\n",
    "        if not os.path.exists(dest):\n",
    "            dfs.to_csv(dest, sep='\\t', index=None)\n",
    "    \n",
    "    if(dfp.shape[0] > 0):\n",
    "        dest = f.replace('.txt','.positive.txt')\n",
    "        if not os.path.exists(dest):\n",
    "            dfp.to_csv(dest, sep='\\t', index=None)\n",
    "    else:\n",
    "        insignificant_positive_rbps = f\n",
    "        num_missing+=1\n",
    "    if(dfn.shape[0] > 0):\n",
    "        dest = f.replace('.txt','.negative.txt')\n",
    "        if not os.path.exists(dest):\n",
    "            dfn.to_csv(dest, sep='\\t', index=None) \n",
    "    else:\n",
    "        insignificant_negative_rbps = f\n",
    "        num_missing+=1\n",
    "    \n",
    "    return [insignificant_positive_rbps, insignificant_negative_rbps], num_missing"
   ]
  },
  {
   "cell_type": "code",
   "execution_count": 17,
   "metadata": {},
   "outputs": [
    {
     "data": {},
     "metadata": {},
     "output_type": "display_data"
    },
    {
     "data": {},
     "metadata": {},
     "output_type": "display_data"
    },
    {
     "data": {},
     "metadata": {},
     "output_type": "display_data"
    },
    {
     "data": {},
     "metadata": {},
     "output_type": "display_data"
    },
    {
     "data": {},
     "metadata": {},
     "output_type": "display_data"
    },
    {
     "data": {},
     "metadata": {},
     "output_type": "display_data"
    }
   ],
   "source": [
    "events = {'se':all_se_mats, 'a3ss':all_a3ss_mats, 'a5ss':all_a5ss_mats, 'mxe':all_mxe_mats, 'ri':all_ri_mats}\n",
    "\n",
    "overall_progress = tnrange(len(events))\n",
    "insufficient = defaultdict(list)\n",
    "total_missing = 0\n",
    "for label, event in events.iteritems():\n",
    "    event_progress = tnrange(len(event))\n",
    "    for mat in event:\n",
    "        no_samples, num_missing = subset_rmats(mat, pvalue, fdr, sep)\n",
    "        if len(no_samples[0]) > 0 or len(no_samples[1]) > 0:\n",
    "            insufficient[label].append(no_samples)\n",
    "        total_missing = total_missing + num_missing\n",
    "        event_progress.update(1)"
   ]
  },
  {
   "cell_type": "code",
   "execution_count": null,
   "metadata": {
    "collapsed": true
   },
   "outputs": [],
   "source": [
    "insufficient['mxe']"
   ]
  },
  {
   "cell_type": "markdown",
   "metadata": {},
   "source": [
    "# Subset the nonredundant ones."
   ]
  },
  {
   "cell_type": "code",
   "execution_count": 19,
   "metadata": {},
   "outputs": [
    {
     "data": {},
     "metadata": {},
     "output_type": "display_data"
    },
    {
     "name": "stdout",
     "output_type": "stream",
     "text": [
      "('number of positive and negative: se', 448, 446)\n"
     ]
    },
    {
     "data": {},
     "metadata": {},
     "output_type": "display_data"
    },
    {
     "name": "stdout",
     "output_type": "stream",
     "text": [
      "('number of positive and negative: a3ss', 407, 407)\n"
     ]
    },
    {
     "data": {},
     "metadata": {},
     "output_type": "display_data"
    },
    {
     "name": "stdout",
     "output_type": "stream",
     "text": [
      "('number of positive and negative: a5ss', 361, 389)\n"
     ]
    },
    {
     "data": {},
     "metadata": {},
     "output_type": "display_data"
    },
    {
     "name": "stdout",
     "output_type": "stream",
     "text": [
      "('number of positive and negative: mxe', 452, 452)\n"
     ]
    },
    {
     "data": {},
     "metadata": {},
     "output_type": "display_data"
    },
    {
     "name": "stdout",
     "output_type": "stream",
     "text": [
      "('number of positive and negative: ri', 428, 420)\n"
     ]
    },
    {
     "data": {},
     "metadata": {},
     "output_type": "display_data"
    }
   ],
   "source": [
    "subset_prog = '/home/bay001/projects/codebase/bfx/pyscripts/rnaseq/subset_rmats_junctioncountonly.py'\n",
    "overall_progress = tnrange(len(annotation_subdirectories))\n",
    "for subdirectory in annotation_subdirectories:\n",
    "    all_positive = glob.glob(os.path.join(annotation_directory,'{}/*.positive.txt'.format(subdirectory)))\n",
    "    all_negative = glob.glob(os.path.join(annotation_directory,'{}/*.negative.txt'.format(subdirectory)))\n",
    "    all_significant = glob.glob(os.path.join(annotation_directory,'{}/*.significant.txt'.format(subdirectory)))\n",
    "    print(\"number of positive and negative: {}\".format(subdirectory), len(all_positive), len(all_negative))\n",
    "    progress = tnrange(len(all_positive) + len(all_negative))\n",
    "\n",
    "    for cond in [all_significant]:# , all_positive, all_negative]:\n",
    "\n",
    "        for sub in cond:\n",
    "            jobname = os.path.basename(sub).split('.')[0]\n",
    "            cmd = \"python {} -i {} -o {} -e {}\".format(\n",
    "                subset_prog,\n",
    "                sub,\n",
    "                sub.replace('.txt','.nr.txt'),\n",
    "                subdirectory,\n",
    "            )\n",
    "            if not os.path.exists(sub.replace('.txt','.nr.txt')):\n",
    "                ! $cmd\n",
    "            progress.update(1)\n",
    "    overall_progress.update(1)"
   ]
  },
  {
   "cell_type": "code",
   "execution_count": null,
   "metadata": {
    "collapsed": true
   },
   "outputs": [],
   "source": []
  },
  {
   "cell_type": "markdown",
   "metadata": {},
   "source": [
    "# Rename the final annotations to something less ugly\n",
    "- the files are usually something like \"MAK16-BGKLV32-K562-SE.MATS.JunctionCountOnly.negative.nr.txt\"\n",
    "- to avoid that being used in the final maps, I'm going to rename them to something nicer like \"Excluded upon KD\""
   ]
  },
  {
   "cell_type": "code",
   "execution_count": null,
   "metadata": {
    "collapsed": true
   },
   "outputs": [],
   "source": [
    "annotation_directory = '/projects/ps-yeolab3/bay001/maps/current_annotations/'\n",
    "all_positive = glob.glob(os.path.join(annotation_directory,'se/*.positive.nr.txt'))\n",
    "all_negative = glob.glob(os.path.join(annotation_directory,'se/*.negative.nr.txt'))\n",
    "print(\"number of positive and negative: \", len(all_positive), len(all_negative))"
   ]
  },
  {
   "cell_type": "code",
   "execution_count": null,
   "metadata": {
    "collapsed": true
   },
   "outputs": [],
   "source": [
    "t = tnrange(len(all_positive) + len(all_negative))\n",
    "renamed_directory = '/projects/ps-yeolab3/bay001/maps/current_annotations/se_renamed'\n",
    "\n",
    "for pos in all_positive:\n",
    "    renamed = pos.replace('.positive.nr.txt','included-upon-knockdown')\n",
    "    renamed = renamed.replace('-SE.MATS.JunctionCountOnly','-')\n",
    "    ! ln -s $pos $renamed\n",
    "    t.update(1)\n",
    "    \n",
    "for neg in all_negative:\n",
    "    renamed = neg.replace('.negative.nr.txt','excluded-upon-knockdown')\n",
    "    renamed = renamed.replace('-SE.MATS.JunctionCountOnly','-')\n",
    "    ! ln -s $neg $renamed\n",
    "    t.update(1)"
   ]
  },
  {
   "cell_type": "code",
   "execution_count": 6,
   "metadata": {},
   "outputs": [
    {
     "name": "stdout",
     "output_type": "stream",
     "text": [
      "('number of positive and negative: ', 400, 376, 'a3ss')\n",
      "('number of positive and negative: ', 350, 348, 'a5ss')\n"
     ]
    }
   ],
   "source": [
    "annotation_directory = '/projects/ps-yeolab3/bay001/maps/current_annotations/'\n",
    "events = ['a3ss','a5ss']\n",
    "for event in events:\n",
    "    all_positive = glob.glob(os.path.join(annotation_directory,'{}/*.positive.nr.txt'.format(event)))\n",
    "    all_negative = glob.glob(os.path.join(annotation_directory,'{}/*.negative.nr.txt'.format(event)))\n",
    "    print(\"number of positive and negative: \", len(all_positive), len(all_negative), event)\n",
    "    t = tnrange(len(all_positive) + len(all_negative))\n",
    "    renamed_directory = '/projects/ps-yeolab3/bay001/maps/current_annotations/{}_renamed'.format(event)\n",
    "\n",
    "    for pos in all_positive:\n",
    "        renamed = os.path.basename(pos).replace('.positive.nr.txt','longer-isoform-included-upon-knockdown')\n",
    "        renamed = renamed.replace('.MATS.JunctionCountOnly','').replace('-{}'.format(event.upper()),'-')\n",
    "        renamed = os.path.join(renamed_directory, renamed)\n",
    "        ! ln -s $pos $renamed\n",
    "        t.update(1)\n",
    "\n",
    "    for neg in all_negative:\n",
    "        renamed = os.path.basename(neg).replace('.negative.nr.txt','shorter-isoform-included-upon-knockdown')\n",
    "        renamed = renamed.replace('.MATS.JunctionCountOnly','').replace('-{}'.format(event.upper()),'-')\n",
    "        renamed = os.path.join(renamed_directory, renamed)\n",
    "        ! ln -s $neg $renamed\n",
    "        t.update(1)"
   ]
  },
  {
   "cell_type": "markdown",
   "metadata": {
    "collapsed": true
   },
   "source": [
    "# new control datasets"
   ]
  },
  {
   "cell_type": "code",
   "execution_count": 11,
   "metadata": {
    "collapsed": true
   },
   "outputs": [],
   "source": [
    "import glob\n",
    "import os\n",
    "import pandas as pd\n",
    "\n",
    "header = ['annotation','lowpos','cassette','hipos']\n",
    "\n",
    "new_control_dir = '/home/bay001/projects/maps_20160420/analysis/tests/eric_new_ctrls/'\n",
    "original_bgs = glob.glob(os.path.join(new_control_dir,'*.tpm1'))\n",
    "for bg in original_bgs:\n",
    "    new_bg = bg.replace('.tpm1','.tpm1.miso')\n",
    "    df = pd.read_table(bg, names=header)\n",
    "    df['miso'] = df.apply(as_miso, axis=1)\n",
    "    df[['miso', 'annotation']].to_csv(\n",
    "        new_bg, sep='\\t', index=False, header=False\n",
    "    )"
   ]
  },
  {
   "cell_type": "markdown",
   "metadata": {
    "collapsed": true
   },
   "source": [
    "# concatenate the 50% CI and 50% RI for KS test calculation background:\n",
    "- RI_background = nRI_0.5_CI    +    nRI_0.5_RI      -- control for ks-tests / normalization\n"
   ]
  },
  {
   "cell_type": "code",
   "execution_count": 7,
   "metadata": {},
   "outputs": [
    {
     "data": {
      "text/plain": [
       "[]"
      ]
     },
     "execution_count": 7,
     "metadata": {},
     "output_type": "execute_result"
    }
   ],
   "source": [
    "ri_dir = '/projects/ps-yeolab3/bay001/maps/current/ri'\n",
    "retained_intron_bgs = glob.glob(os.path.join(ri_dir,'*-greater-than-50-percent-retained.normalize_and_per_region_subtract.csv'))\n",
    "retained_intron_bgs"
   ]
  },
  {
   "cell_type": "code",
   "execution_count": 14,
   "metadata": {},
   "outputs": [
    {
     "data": {},
     "metadata": {},
     "output_type": "display_data"
    },
    {
     "name": "stdout",
     "output_type": "stream",
     "text": [
      "\n"
     ]
    }
   ],
   "source": [
    "keys = []\n",
    "progress = tnrange(len(retained_intron_bgs))\n",
    "for retained_file in retained_intron_bgs:\n",
    "    key = os.path.basename(retained_file).split('-')[0]\n",
    "    keys.append(key)\n",
    "    spliced_file = glob.glob(\n",
    "        os.path.join(\n",
    "            ri_dir,'{}*-greater-than-50-percent-spliced.normalize_and_per_region_subtract.csv'.format(\n",
    "                key\n",
    "            )\n",
    "        )\n",
    "    )[0]\n",
    "    retained = pd.read_table(retained_file, sep=',', index_col=0)\n",
    "    spliced = pd.read_table(spliced_file, sep=',', index_col=0)\n",
    "    combined = pd.concat([retained, spliced])\n",
    "    combined.to_csv(\n",
    "        os.path.join(\n",
    "            ri_dir, retained_file.replace(\n",
    "                '-greater-than-50-percent-retained',\n",
    "                '-greater-than-50-percent-retained-and-spliced-combined'\n",
    "            )\n",
    "        )\n",
    "    )\n",
    "    progress.update(1)"
   ]
  },
  {
   "cell_type": "code",
   "execution_count": null,
   "metadata": {
    "collapsed": true
   },
   "outputs": [],
   "source": []
  },
  {
   "cell_type": "code",
   "execution_count": null,
   "metadata": {
    "collapsed": true
   },
   "outputs": [],
   "source": []
  }
 ],
 "metadata": {
  "kernelspec": {
   "display_name": "Python 2",
   "language": "python",
   "name": "python2"
  },
  "language_info": {
   "codemirror_mode": {
    "name": "ipython",
    "version": 2
   },
   "file_extension": ".py",
   "mimetype": "text/x-python",
   "name": "python",
   "nbconvert_exporter": "python",
   "pygments_lexer": "ipython2",
   "version": "2.7.14"
  }
 },
 "nbformat": 4,
 "nbformat_minor": 1
}
