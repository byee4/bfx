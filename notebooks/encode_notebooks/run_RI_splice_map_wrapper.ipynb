{
 "cells": [
  {
   "cell_type": "markdown",
   "metadata": {},
   "source": [
    "# Wrapper notebook for submitting the RBP maps script to TSCC"
   ]
  },
  {
   "cell_type": "code",
   "execution_count": 2,
   "metadata": {},
   "outputs": [],
   "source": [
    "import pandas as pd\n",
    "import os\n",
    "import json\n",
    "import yaml\n",
    "import glob\n",
    "# import rethinkdb as r\n",
    "from collections import defaultdict\n",
    "from qtools import Submitter\n",
    "from encode import manifest_helpers as m\n",
    "\n",
    "from tqdm import tnrange, tqdm_notebook\n",
    "pd.set_option(\"display.max_colwidth\", 10000)\n"
   ]
  },
  {
   "cell_type": "code",
   "execution_count": null,
   "metadata": {},
   "outputs": [],
   "source": []
  },
  {
   "cell_type": "markdown",
   "metadata": {},
   "source": [
    "# Define manifests, directories, etc.\n",
    "- SBDS-BGKLV24-K562 and PPIL4-BGKLV24-K562 were changed in the K562.csv list from SBDS-BGKLV24_2-K562 and PPIL4-BGKLV24_2-K562 per an email discussion from xintao."
   ]
  },
  {
   "cell_type": "code",
   "execution_count": 3,
   "metadata": {},
   "outputs": [
    {
     "name": "stdout",
     "output_type": "stream",
     "text": [
      "(203, 43)\n"
     ]
    }
   ],
   "source": [
    "current_date = '4-13-2018'\n",
    "clip_manifest = '/projects/ps-yeolab3/bay001/reference_data/misc_ENCODE/ENCODE_FINAL_ANNOTATIONS.uidsonly.txt.manifest.txt'\n",
    "density_runner = '/home/bay001/projects/codebase/rbp-maps/maps/plot_map.py'\n",
    "ri_annotation_dir = '/projects/ps-yeolab3/bay001/maps/current_annotations/ri_renamed'\n",
    "control_dir = '/projects/ps-yeolab3/bay001/maps/current_annotations/erics_controls/nonredundant_renamed/ri/'\n",
    "\n",
    "clip_df = pd.read_table(clip_manifest)\n",
    "\n",
    "master_table = pd.read_table(\n",
    "    '/projects/ps-yeolab3/encode/rnaseq/eCLIP_finalstatus_20180406_ENCODE_combined_RNASEQ.tsv'\n",
    ")\n",
    "del master_table['eCLIP_Antibody_Lot_#']  # there is a NaN value in here that's screwing things up. Don't care about antibody anyway, so delete\n",
    "merged = pd.merge(\n",
    "    clip_df,\n",
    "    master_table,\n",
    "    how='right',\n",
    "    left_on=['uID'],\n",
    "    right_on=['eCLIP_Final_internal_accession']\n",
    ")\n",
    "merged.dropna(subset=['eCLIP_Final_internal_accession','SE_jxc_file'], inplace=True)\n",
    "print(merged.shape)\n"
   ]
  },
  {
   "cell_type": "code",
   "execution_count": 8,
   "metadata": {},
   "outputs": [
    {
     "data": {
      "text/plain": [
       "('/projects/ps-yeolab3/bay001/maps/current_annotations/ri_renamed/RBFOX2-BGHLV26-HepG2.set26-included-upon-knockdown',\n",
       " '/projects/ps-yeolab3/bay001/maps/current_annotations/ri_renamed/RBFOX2-BGHLV26-HepG2.set26-excluded-upon-knockdown')"
      ]
     },
     "execution_count": 8,
     "metadata": {},
     "output_type": "execute_result"
    }
   ],
   "source": [
    "def get_clip_file_from_uid(uid, df=merged):\n",
    "    df = df[df['uID']==uid]\n",
    "    return df['CLIP_rep1'].values[0], \\\n",
    "            df['CLIP_rep2'].values[0], \\\n",
    "            df['INPUT'].values[0], \\\n",
    "            df['eCLIP_Official_Gene_Symbol'].values[0], \\\n",
    "            df['eCLIP_Cell_Line'].values[0], \\\n",
    "            df['SE_jxc_file'].values[0]\n",
    "\n",
    "r1, r2, i, rbp, cell, jxc_se  = get_clip_file_from_uid('204')\n",
    "\n",
    "def get_ri_annotations_from_jxc_se(jxc, jxc_dir=ri_annotation_dir, event='ri'):\n",
    "    \"\"\" jxc contains the basename of the junction counts file \"\"\"\n",
    "    orig_file = os.path.join(jxc_dir, jxc)\n",
    "    positive = orig_file.replace('.SE.MATS.JunctionCountOnly.txt','-included-upon-knockdown'.format(event.upper()))\n",
    "    negative = orig_file.replace('.SE.MATS.JunctionCountOnly.txt','-excluded-upon-knockdown'.format(event.upper()))\n",
    "    if not os.path.exists(positive):\n",
    "        positive = None\n",
    "    if not os.path.exists(negative):\n",
    "        negative = None\n",
    "    return positive, negative\n",
    "\n",
    "get_ri_annotations_from_jxc_se(jxc_se)"
   ]
  },
  {
   "cell_type": "markdown",
   "metadata": {},
   "source": [
    "# Plot RI"
   ]
  },
  {
   "cell_type": "code",
   "execution_count": 3,
   "metadata": {},
   "outputs": [
    {
     "name": "stdout",
     "output_type": "stream",
     "text": [
      "warning, these dont match: DROSHA, RNASEN50-BGKLV28-K562-included-upon-knockdown, RNASEN50-BGKLV28-K562-excluded-upon-knockdown\n",
      "warning, these dont match: YBX3, CSDA-BGKLV24-K562-included-upon-knockdown, CSDA-BGKLV24-K562-excluded-upon-knockdown\n"
     ]
    },
    {
     "name": "stderr",
     "output_type": "stream",
     "text": [
      "Writing 280 tasks as an array-job.\n",
      "Wrote commands to /projects/ps-yeolab3/bay001/maps/bash_scripts/ri_NR_png.sh.\n"
     ]
    },
    {
     "name": "stdout",
     "output_type": "stream",
     "text": [
      "ri uIDs for which we don't have splicing data for: 23\n",
      "ri uIDs for which we have an RNASEQ ID, but we don't have the splicing data yet: 0\n"
     ]
    },
    {
     "name": "stderr",
     "output_type": "stream",
     "text": [
      "Submitted script to queue home.\n",
      " Job ID: 10326987\n"
     ]
    }
   ],
   "source": [
    "clip_df = pd.read_table(clip_manifest)\n",
    "\n",
    "events_to_annotation_dict = {\n",
    "    'ri':'/projects/ps-yeolab3/bay001/maps/current_annotations/ri_renamed/'\n",
    "}\n",
    "\n",
    "\n",
    "img_extensions = ['png']\n",
    "# out_base = '/projects/ps-yeolab3/bay001/maps/current/'\n",
    "output_dir = '/projects/ps-yeolab3/bay001/maps/current/ri/'\n",
    "pos_splicing_suffix = '-included-upon-knockdown' # positive RMATS -> more intron inclusion (upon knockdown)\n",
    "neg_splicing_suffix = '-excluded-upon-knockdown' # negative RMATS -> more intron splicing (upon knockdown)\n",
    "\n",
    "for img_extension in img_extensions:\n",
    "    for event, annotation_dir in events_to_annotation_dict.iteritems():\n",
    "        no_rnaseq = [] # uIDs for which we don't have rna seq expt ids for\n",
    "        no_rnaseq_yet = [] # uIDs for which we have an expt id, but haven't downloaded the data yet\n",
    "        cmds = []\n",
    "        for uid in clip_df['uID']:\n",
    "            r1, r2, i, rbp, cell = m.get_clip_file_from_uid(clip_df, uid)\n",
    "            if cell == 'HepG2':\n",
    "                background1 = os.path.join(annotation_dir, 'HepG2-constitutive-introns')\n",
    "                background2 = os.path.join(annotation_dir, 'HepG2-all-retained-introns')\n",
    "                background3 = os.path.join(annotation_dir, 'HepG2-greater-than-50-percent-spliced')\n",
    "                background4 = os.path.join(annotation_dir, 'HepG2-greater-than-50-percent-retained')\n",
    "            elif cell == 'K562':\n",
    "                background1 = os.path.join(annotation_dir, 'K562-constitutive-introns')\n",
    "                background2 = os.path.join(annotation_dir, 'K562-all-retained-introns')\n",
    "                background3 = os.path.join(annotation_dir, 'K562-greater-than-50-percent-spliced')\n",
    "                background4 = os.path.join(annotation_dir, 'K562-greater-than-50-percent-retained')\n",
    "            else:\n",
    "                print(cell)\n",
    "            splicing_prefix = m.get_rnaseq_splicing_prefix_from_rbpname(rnaseq_manifests, rbp, cell)\n",
    "            if(splicing_prefix == \"NO_RNASEQ\"): # we don't have an rna seq expt for this clip:\n",
    "                no_rnaseq.append(uid)\n",
    "            else:\n",
    "                positive, negative = m.get_annotations_from_splicing_prefix(\n",
    "                    annotation_dir, \n",
    "                    splicing_prefix,\n",
    "                    pos_splicing_suffix=pos_splicing_suffix,\n",
    "                    neg_splicing_suffix=neg_splicing_suffix\n",
    "                )\n",
    "                if positive is not None and negative is not None:\n",
    "                    pos_prefix = os.path.basename(positive).split('-')[0]\n",
    "                    neg_prefix = os.path.basename(negative).split('-')[0]\n",
    "                    if not (pos_prefix in rbp and neg_prefix in rbp):\n",
    "                        print(\n",
    "                            'warning, these dont match: {}, {}, {}'.format(\n",
    "                                rbp, \n",
    "                                os.path.basename(positive),\n",
    "                                os.path.basename(negative)\n",
    "                            )\n",
    "                        )\n",
    "                    for r in [r1, r2]:\n",
    "                        name = os.path.basename(r).replace('.bam','.{}'.format(img_extension))\n",
    "                        output_filename = os.path.join(\n",
    "                            output_dir,\n",
    "                            name\n",
    "                        )\n",
    "                        cmd = \"python \" + density_runner\n",
    "                        cmd = cmd + \" --event {}\".format(event)\n",
    "                        cmd = cmd + \" --ipbam {}\".format(r)\n",
    "                        cmd = cmd + \" --inputbam {}\".format(i)\n",
    "                        cmd = cmd + \" --output {}\".format(output_filename)\n",
    "                        if positive is not None and negative is not None:\n",
    "                            cmd = cmd + \" --annotations {} {} {} {} {} {}\".format(\n",
    "                                positive, negative, background1, background2, background3, background4\n",
    "                            )\n",
    "                            cmd = cmd + \" --annotation_type {} {} {} {} {} {}\".format(\n",
    "                                'rmats', 'rmats', 'eric', 'eric', 'eric', 'eric', \n",
    "                            )\n",
    "                        cmd = cmd + \" --testnum {} {}\".format(0, 1)\n",
    "                        cmd = cmd + \" --bgnum {}\".format(3)\n",
    "                        cmd = cmd + \" --sigtest mannwhitneyu\"\n",
    "                        cmds.append(cmd)\n",
    "    Submitter(\n",
    "        cmds, \n",
    "        \"{}_NR_{}\".format(event, img_extension), \n",
    "        sh='/projects/ps-yeolab3/bay001/maps/bash_scripts/{}_NR_{}.sh'.format(\n",
    "            event, img_extension\n",
    "        ),\n",
    "        submit=True,\n",
    "        array=True,\n",
    "        queue='home-yeo',\n",
    "        walltime='2:00:00'\n",
    "    )\n",
    "print(\"{} uIDs for which we don't have splicing data for: {}\".format(event, len(no_rnaseq)))\n",
    "print(\"{} uIDs for which we have an RNASEQ ID, but we don't have the splicing data yet: {}\".format(event, len(no_rnaseq_yet)))"
   ]
  },
  {
   "cell_type": "code",
   "execution_count": null,
   "metadata": {
    "collapsed": true
   },
   "outputs": [],
   "source": []
  }
 ],
 "metadata": {
  "kernelspec": {
   "display_name": "Python 2",
   "language": "python",
   "name": "python2"
  },
  "language_info": {
   "codemirror_mode": {
    "name": "ipython",
    "version": 2
   },
   "file_extension": ".py",
   "mimetype": "text/x-python",
   "name": "python",
   "nbconvert_exporter": "python",
   "pygments_lexer": "ipython2",
   "version": "2.7.14"
  },
  "widgets": {
   "state": {
    "569a4a5b3e314a91ab2b92dcfc9868e4": {
     "views": [
      {
       "cell_index": 29
      }
     ]
    }
   },
   "version": "1.2.0"
  }
 },
 "nbformat": 4,
 "nbformat_minor": 1
}
