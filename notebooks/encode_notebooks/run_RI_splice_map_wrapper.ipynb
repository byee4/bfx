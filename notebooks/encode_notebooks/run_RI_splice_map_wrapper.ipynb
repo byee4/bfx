{
 "cells": [
  {
   "cell_type": "markdown",
   "metadata": {},
   "source": [
    "# Wrapper notebook for submitting the RBP maps script to TSCC"
   ]
  },
  {
   "cell_type": "code",
   "execution_count": 1,
   "metadata": {
    "collapsed": true
   },
   "outputs": [],
   "source": [
    "import pandas as pd\n",
    "import os\n",
    "import json\n",
    "import yaml\n",
    "import glob\n",
    "# import rethinkdb as r\n",
    "from collections import defaultdict\n",
    "from qtools import Submitter\n",
    "from encode import manifest_helpers as m\n",
    "\n",
    "from tqdm import tnrange, tqdm_notebook\n",
    "pd.set_option(\"display.max_colwidth\", 10000)\n"
   ]
  },
  {
   "cell_type": "code",
   "execution_count": null,
   "metadata": {},
   "outputs": [],
   "source": []
  },
  {
   "cell_type": "markdown",
   "metadata": {},
   "source": [
    "# Define manifests, directories, etc.\n",
    "- SBDS-BGKLV24-K562 and PPIL4-BGKLV24-K562 were changed in the K562.csv list from SBDS-BGKLV24_2-K562 and PPIL4-BGKLV24_2-K562 per an email discussion from xintao."
   ]
  },
  {
   "cell_type": "code",
   "execution_count": 2,
   "metadata": {
    "collapsed": true
   },
   "outputs": [],
   "source": [
    "current_date = '6-2-2017'\n",
    "clip_manifest = '/home/bay001/projects/maps_20160420/permanent_data/ALLDATASETS_submittedonly.txt'\n",
    "hepg2_rnaseq_manifest = '/home/bay001/projects/maps_20160420/permanent_data/RNASeq_final_exp_list_HepG2.csv'\n",
    "k562_rnaseq_manifest = '/home/bay001/projects/maps_20160420/permanent_data/RNASeq_final_exp_list_K562.csv'\n",
    "rnaseq_manifests = {'HepG2':hepg2_rnaseq_manifest, 'K562':k562_rnaseq_manifest}\n",
    "chrom_sizes = '/projects/ps-yeolab/genomes/hg19/hg19.chrom.sizes'\n",
    "density_runner = '/home/bay001/projects/codebase/stable/rbp-maps/maps/plot_density.py'"
   ]
  },
  {
   "cell_type": "markdown",
   "metadata": {},
   "source": [
    "# Plot RI"
   ]
  },
  {
   "cell_type": "code",
   "execution_count": 5,
   "metadata": {},
   "outputs": [
    {
     "name": "stdout",
     "output_type": "stream",
     "text": [
      "warning, these dont match: DROSHA, RNASEN50-BGKLV28-K562-included-upon-knockdown, RNASEN50-BGKLV28-K562-excluded-upon-knockdown\n",
      "warning, these dont match: YBX3, CSDA-BGKLV24-K562-included-upon-knockdown, CSDA-BGKLV24-K562-excluded-upon-knockdown\n"
     ]
    },
    {
     "name": "stderr",
     "output_type": "stream",
     "text": [
      "Writing 280 tasks as an array-job.\n",
      "Wrote commands to /projects/ps-yeolab3/bay001/maps/bash_scripts/ri_NR_png.sh.\n"
     ]
    },
    {
     "name": "stdout",
     "output_type": "stream",
     "text": [
      "warning, these dont match: DROSHA, RNASEN50-BGKLV28-K562-included-upon-knockdown, RNASEN50-BGKLV28-K562-excluded-upon-knockdown\n",
      "warning, these dont match: YBX3, CSDA-BGKLV24-K562-included-upon-knockdown, CSDA-BGKLV24-K562-excluded-upon-knockdown\n",
      "ri uIDs for which we don't have splicing data for: 23\n",
      "ri uIDs for which we have an RNASEQ ID, but we don't have the splicing data yet: 0\n"
     ]
    },
    {
     "name": "stderr",
     "output_type": "stream",
     "text": [
      "Writing 280 tasks as an array-job.\n",
      "Wrote commands to /projects/ps-yeolab3/bay001/maps/bash_scripts/ri_NR_svg.sh.\n"
     ]
    }
   ],
   "source": [
    "clip_df = pd.read_table(clip_manifest)\n",
    "\n",
    "events_to_annotation_dict = {\n",
    "    'ri':'/projects/ps-yeolab3/bay001/maps/current_annotations/ri_renamed/'\n",
    "}\n",
    "\n",
    "\n",
    "img_extensions = ['png','svg']\n",
    "# out_base = '/projects/ps-yeolab3/bay001/maps/current/'\n",
    "out_base = '/home/bay001/projects/encode/analysis/tests/rbp_map_tests/ri'\n",
    "pos_splicing_suffix = '-included-upon-knockdown' # positive RMATS -> more intron inclusion (upon knockdown)\n",
    "neg_splicing_suffix = '-excluded-upon-knockdown' # negative RMATS -> more intron splicing (upon knockdown)\n",
    "\n",
    "for img_extension in img_extensions:\n",
    "    for event, annotation_dir in events_to_annotation_dict.iteritems():\n",
    "        no_rnaseq = [] # uIDs for which we don't have rna seq expt ids for\n",
    "        no_rnaseq_yet = [] # uIDs for which we have an expt id, but haven't downloaded the data yet\n",
    "        cmds = []\n",
    "        output_dir = os.path.join(out_base, '{}_nr'.format(event))\n",
    "        for uid in clip_df['uID']:\n",
    "            r1, r2, i, rbp, cell = m.get_clip_file_from_uid(clip_df, uid)\n",
    "            if cell == 'HepG2':\n",
    "                background1 = os.path.join(annotation_dir, 'HepG2-constitutive-introns')\n",
    "                background2 = os.path.join(annotation_dir, 'HepG2-all-retained-introns')\n",
    "                background3 = os.path.join(annotation_dir, 'HepG2-greater-than-50-percent-spliced')\n",
    "                background4 = os.path.join(annotation_dir, 'HepG2-greater-than-50-percent-retained')\n",
    "            elif cell == 'K562':\n",
    "                background1 = os.path.join(annotation_dir, 'K562-constitutive-introns')\n",
    "                background2 = os.path.join(annotation_dir, 'K562-all-retained-introns')\n",
    "                background3 = os.path.join(annotation_dir, 'K562-greater-than-50-percent-spliced')\n",
    "                background4 = os.path.join(annotation_dir, 'K562-greater-than-50-percent-retained')\n",
    "            else:\n",
    "                print(cell)\n",
    "            splicing_prefix = m.get_rnaseq_splicing_prefix_from_rbpname(rnaseq_manifests, rbp, cell)\n",
    "            if(splicing_prefix == \"NO_RNASEQ\"): # we don't have an rna seq expt for this clip:\n",
    "                no_rnaseq.append(uid)\n",
    "            else:\n",
    "                positive, negative = m.get_annotations_from_splicing_prefix(\n",
    "                    annotation_dir, \n",
    "                    splicing_prefix,\n",
    "                    pos_splicing_suffix=pos_splicing_suffix,\n",
    "                    neg_splicing_suffix=neg_splicing_suffix\n",
    "                )\n",
    "                if positive is not None and negative is not None:\n",
    "                    pos_prefix = os.path.basename(positive).split('-')[0]\n",
    "                    neg_prefix = os.path.basename(negative).split('-')[0]\n",
    "                    if not (pos_prefix in rbp and neg_prefix in rbp):\n",
    "                        print(\n",
    "                            'warning, these dont match: {}, {}, {}'.format(\n",
    "                                rbp, \n",
    "                                os.path.basename(positive),\n",
    "                                os.path.basename(negative)\n",
    "                            )\n",
    "                        )\n",
    "                    for r in [r1, r2]:\n",
    "                        name = os.path.basename(r).replace('.bam','.{}'.format(img_extension))\n",
    "                        output_filename = os.path.join(\n",
    "                            output_dir,\n",
    "                            name\n",
    "                        )\n",
    "                        cmd = \"python \" + density_runner\n",
    "                        cmd = cmd + \" --event {}\".format(event)\n",
    "                        cmd = cmd + \" --ipbam {}\".format(r)\n",
    "                        cmd = cmd + \" --inputbam {}\".format(i)\n",
    "                        cmd = cmd + \" --output {}\".format(output_filename)\n",
    "                        if positive is not None and negative is not None:\n",
    "                            cmd = cmd + \" --annotations {} {} {} {} {} {}\".format(\n",
    "                                positive, negative, background1, background2, background3, background4\n",
    "                            )\n",
    "                            cmd = cmd + \" --annotation_type {} {} {} {} {} {}\".format(\n",
    "                                'rmats', 'rmats', 'eric', 'eric', 'eric', 'eric', \n",
    "                            )\n",
    "                        cmd = cmd + \" --chrom_sizes {}\".format(chrom_sizes)\n",
    "                        cmds.append(cmd)\n",
    "    Submitter(\n",
    "        cmds, \n",
    "        \"{}_NR_{}\".format(event, img_extension), \n",
    "        sh='/projects/ps-yeolab3/bay001/maps/bash_scripts/{}_NR_{}.sh'.format(\n",
    "            event, img_extension\n",
    "        ),\n",
    "        submit=False,\n",
    "        array=True,\n",
    "        walltime='2:00:00'\n",
    "    )\n",
    "print(\"{} uIDs for which we don't have splicing data for: {}\".format(event, len(no_rnaseq)))\n",
    "print(\"{} uIDs for which we have an RNASEQ ID, but we don't have the splicing data yet: {}\".format(event, len(no_rnaseq_yet)))"
   ]
  },
  {
   "cell_type": "code",
   "execution_count": null,
   "metadata": {
    "collapsed": true
   },
   "outputs": [],
   "source": []
  },
  {
   "cell_type": "markdown",
   "metadata": {},
   "source": [
    "# Verify RBP SE Maps\n",
    "- see if we have all the maps"
   ]
  },
  {
   "cell_type": "code",
   "execution_count": null,
   "metadata": {
    "collapsed": true
   },
   "outputs": [],
   "source": [
    "clip_df = pd.read_table(clip_manifest)\n",
    "\n",
    "hepg2_rnaseq_df = pd.read_table(rnaseq_manifests['HepG2'])\n",
    "k562_rnaseq_df = pd.read_table(rnaseq_manifests['K562'])\n",
    "\n",
    "hepg2_clip_df = clip_df[clip_df['Cell line']=='HepG2']\n",
    "k562_clip_df = clip_df[clip_df['Cell line']=='K562']"
   ]
  },
  {
   "cell_type": "code",
   "execution_count": null,
   "metadata": {
    "collapsed": true
   },
   "outputs": [],
   "source": [
    "hepg2_rbps = pd.merge(hepg2_clip_df, hepg2_rnaseq_df, how='outer', left_on='RBP', right_on='Official_RBP').dropna()\n",
    "k562_rbps = pd.merge(k562_clip_df, k562_rnaseq_df, how='outer', left_on='RBP', right_on='Official_RBP').dropna()"
   ]
  },
  {
   "cell_type": "code",
   "execution_count": null,
   "metadata": {
    "collapsed": true
   },
   "outputs": [],
   "source": [
    "pos_annotations = glob.glob('/projects/ps-yeolab3/bay001/maps/current_annotations/se/*.positive.nr.txt')\n",
    "neg_annotations = glob.glob('/projects/ps-yeolab3/bay001/maps/current_annotations/se/*.negative.nr.txt')\n",
    "\n",
    "def get_rbp(f):\n",
    "    lst = os.path.basename(f).split('-')\n",
    "    return '{}-{}'.format(lst[0], lst[2])"
   ]
  },
  {
   "cell_type": "code",
   "execution_count": null,
   "metadata": {
    "collapsed": true
   },
   "outputs": [],
   "source": [
    "pos_rbp = set([get_rbp(f) for f in pos_annotations])\n",
    "neg_rbp = set([get_rbp(f) for f in neg_annotations])"
   ]
  },
  {
   "cell_type": "code",
   "execution_count": null,
   "metadata": {
    "collapsed": true
   },
   "outputs": [],
   "source": [
    "allrbp = (pos_rbp.intersection(neg_rbp))\n",
    "print(\"We have annotations for: {} rbps\".format(len(allrbp)))"
   ]
  },
  {
   "cell_type": "code",
   "execution_count": null,
   "metadata": {
    "collapsed": true
   },
   "outputs": [],
   "source": []
  }
 ],
 "metadata": {
  "kernelspec": {
   "display_name": "Python 2",
   "language": "python",
   "name": "python2"
  },
  "language_info": {
   "codemirror_mode": {
    "name": "ipython",
    "version": 2
   },
   "file_extension": ".py",
   "mimetype": "text/x-python",
   "name": "python",
   "nbconvert_exporter": "python",
   "pygments_lexer": "ipython2",
   "version": "2.7.13"
  },
  "widgets": {
   "state": {
    "569a4a5b3e314a91ab2b92dcfc9868e4": {
     "views": [
      {
       "cell_index": 29
      }
     ]
    }
   },
   "version": "1.2.0"
  }
 },
 "nbformat": 4,
 "nbformat_minor": 1
}
