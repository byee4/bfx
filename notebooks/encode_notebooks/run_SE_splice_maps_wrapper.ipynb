{
 "cells": [
  {
   "cell_type": "markdown",
   "metadata": {},
   "source": [
    "# Wrapper notebook for submitting the RBP maps script to TSCC"
   ]
  },
  {
   "cell_type": "code",
   "execution_count": 1,
   "metadata": {
    "collapsed": true
   },
   "outputs": [],
   "source": [
    "import pandas as pd\n",
    "import os\n",
    "import json\n",
    "import yaml\n",
    "import glob\n",
    "# import rethinkdb as r\n",
    "from collections import defaultdict\n",
    "from qtools import Submitter\n",
    "from encode import manifest_helpers as m\n",
    "\n",
    "from tqdm import tnrange, tqdm_notebook\n",
    "pd.set_option(\"display.max_colwidth\", 10000)\n"
   ]
  },
  {
   "cell_type": "markdown",
   "metadata": {
    "collapsed": true
   },
   "source": [
    "# Define programs"
   ]
  },
  {
   "cell_type": "code",
   "execution_count": 2,
   "metadata": {
    "collapsed": true
   },
   "outputs": [],
   "source": [
    "density_runner = '/home/bay001/projects/codebase/rbp-maps/maps/plot_density.py'\n",
    "peak_runner = '/home/bay001/projects/codebase/rbp-maps/maps/plot_peak.py'\n",
    "miso_annotation_dir = '/projects/ps-yeolab3/bay001/maps/current_annotations/as_miso_renamed'\n",
    "annotation_dir = '/projects/ps-yeolab3/bay001/maps/current_annotations/se_renamed/'\n",
    "\n",
    "params = {\n",
    "    'whole_read':{\n",
    "        'output_dir' : '/projects/ps-yeolab3/bay001/maps/current/se',\n",
    "        'clip_manifest' : '/home/bay001/projects/maps_20160420/permanent_data/ALLDATASETS_submittedonly.txt',\n",
    "        'prefix' : 'whole_read',\n",
    "        'website_manifest' : '/home/bay001/projects/maps_20160420/permanent_data/ALLDATASETS_submittedonly.website.wholeread.txt'\n",
    "    },\n",
    "    '5p':{\n",
    "        'output_dir' : '/projects/ps-yeolab3/bay001/maps/current/se_5p/',\n",
    "        'clip_manifest' : '/home/bay001/projects/maps_20160420/permanent_data/ALLDATASETS_submittedonly.5p.txt',\n",
    "        'prefix' : '5p',\n",
    "        'website_manifest' : '/home/bay001/projects/maps_20160420/permanent_data/ALLDATASETS_submittedonly.website.5p.txt'\n",
    "    },\n",
    "    'peak_bb':{\n",
    "        'output_dir' : '/projects/ps-yeolab3/bay001/maps/current/se_peak/',\n",
    "        'clip_manifest' : '/home/bay001/projects/maps_20160420/permanent_data/ALLDATASETS_submittedonly.txt',\n",
    "        'prefix' : 'peak',\n",
    "        'peak_dir' : '/projects/ps-yeolab3/bay001/maps/current_annotations/se_peak_bigbeds/'\n",
    "    },\n",
    "    'idr_bb':{\n",
    "        'output_dir' : '/projects/ps-yeolab3/bay001/maps/current/idr_peaks/',\n",
    "        'clip_manifest' : '/home/bay001/projects/maps_20160420/permanent_data/ALLDATASETS_submittedonly.txt',\n",
    "        'prefix' : 'peak',\n",
    "        'peak_dir' : '/projects/ps-yeolab3/bay001/maps/current_annotations/se_idr_peak_bigbeds/'\n",
    "    },\n",
    "}"
   ]
  },
  {
   "cell_type": "markdown",
   "metadata": {},
   "source": [
    "# Define manifests, directories, etc.\n",
    "- SBDS-BGKLV24-K562 and PPIL4-BGKLV24-K562 were changed in the K562.csv list from SBDS-BGKLV24_2-K562 and PPIL4-BGKLV24_2-K562 per an email discussion from xintao.\n",
    "- RNASEN50-BGKLV28-K562 was changed to DROSHA-BGKLV28-K562 per Eric's suggestion"
   ]
  },
  {
   "cell_type": "code",
   "execution_count": 12,
   "metadata": {},
   "outputs": [
    {
     "name": "stdout",
     "output_type": "stream",
     "text": [
      "mkdir: cannot create directory `/projects/ps-yeolab3/bay001/maps/bash_scripts/12-18-2017': File exists\r\n"
     ]
    }
   ],
   "source": [
    "current_date = '12-18-2017'\n",
    "hepg2_rnaseq_manifest = '/home/bay001/projects/maps_20160420/permanent_data/RNASeq_final_exp_list_HepG2.csv_12-18-2017.csv'\n",
    "k562_rnaseq_manifest = '/home/bay001/projects/maps_20160420/permanent_data/RNASeq_final_exp_list_K562.csv_12-18-2017.csv'\n",
    "rnaseq_manifests = {'HepG2':hepg2_rnaseq_manifest, 'K562':k562_rnaseq_manifest}\n",
    "\n",
    "bash_scripts_dir = '/projects/ps-yeolab3/bay001/maps/bash_scripts/{}'.format(current_date)\n",
    "! mkdir $bash_scripts_dir"
   ]
  },
  {
   "cell_type": "markdown",
   "metadata": {},
   "source": [
    "# Plot SE Density"
   ]
  },
  {
   "cell_type": "code",
   "execution_count": 26,
   "metadata": {
    "collapsed": true
   },
   "outputs": [],
   "source": []
  },
  {
   "cell_type": "code",
   "execution_count": 30,
   "metadata": {},
   "outputs": [
    {
     "name": "stderr",
     "output_type": "stream",
     "text": [
      "Writing 298 tasks as an array-job.\n",
      "Wrote commands to /projects/ps-yeolab3/bay001/maps/bash_scripts/12-18-2017/whole_read-SE_NR_png.1.sh.\n"
     ]
    },
    {
     "name": "stdout",
     "output_type": "stream",
     "text": [
      "uIDs for which we don't have splicing data for: 25\n",
      "uIDs for which we have an RNASEQ ID, but we don't have the splicing data yet: 7\n"
     ]
    },
    {
     "name": "stderr",
     "output_type": "stream",
     "text": [
      "Submitted script to queue home-yeo.\n",
      " Job ID: 10425458\n"
     ]
    }
   ],
   "source": [
    "img_extension = ['png']\n",
    "pos_splicing_suffix = '-included-upon-knockdown'\n",
    "neg_splicing_suffix = '-excluded-upon-knockdown'\n",
    "\n",
    "if not os.path.exists(bash_scripts_dir):\n",
    "    ! mkdir $bash_scripts_dir\n",
    "\n",
    "read_type = 'whole_read'\n",
    "normalization_levels = [1]\n",
    "\n",
    "### Force override of maps\n",
    "force = True\n",
    "\n",
    "### DEFINE BACKGROUNDS (THESE ARE STATIC AND DON'T CHANGE) ###\n",
    "k562_background_ce = os.path.join(annotation_dir, 'K562_constitutive_exons')\n",
    "k562_background_nse_all = os.path.join(annotation_dir, 'K562_native_cassette_exons')\n",
    "k562_background_nse_inc = os.path.join(annotation_dir, 'K562_native_included_cassette_exons')\n",
    "k562_background_nse_exc = os.path.join(annotation_dir, 'K562_native_excluded_cassette_exons')\n",
    "\n",
    "hepg2_background_ce = os.path.join(annotation_dir, 'HepG2_constitutive_exons')\n",
    "hepg2_background_nse_all = os.path.join(annotation_dir, 'HepG2_native_cassette_exons')\n",
    "hepg2_background_nse_inc = os.path.join(annotation_dir, 'HepG2_native_included_cassette_exons')\n",
    "hepg2_background_nse_exc = os.path.join(annotation_dir, 'HepG2_native_excluded_cassette_exons')\n",
    "\n",
    "clip_df = pd.read_table(params[read_type]['clip_manifest'])\n",
    "\n",
    "no_rnaseq = [] # uIDs for which we don't have rna seq expt ids for\n",
    "no_rnaseq_yet = [] # uIDs for which we have an expt id, but haven't downloaded the data yet (or there were no significant splice events)\n",
    "cmds = []\n",
    "\n",
    "for normalization_level in normalization_levels:\n",
    "    for ext in img_extension:\n",
    "        for uid in clip_df['uID']:\n",
    "\n",
    "            r1, r2, i, rbp, cell = m.get_clip_file_from_uid(clip_df, uid)\n",
    "\n",
    "            if cell == 'K562':\n",
    "                background1 = k562_background_ce\n",
    "                background2 = k562_background_nse_all\n",
    "                background3 = k562_background_nse_inc\n",
    "                background4 = k562_background_nse_exc\n",
    "            elif cell == 'HepG2':\n",
    "                background1 = hepg2_background_ce\n",
    "                background2 = hepg2_background_nse_all\n",
    "                background3 = hepg2_background_nse_inc\n",
    "                background4 = hepg2_background_nse_exc\n",
    "            else:\n",
    "                print(cell)\n",
    "\n",
    "            ##### Given RBP name, cell line, return the Graveley lab ID (ie. RBFOX2-BGHLV19-HepG2) #####\n",
    "            splicing_prefix = m.get_rnaseq_splicing_prefix_from_rbpname(\n",
    "                rnaseq_manifests, rbp, cell\n",
    "            )\n",
    "            if(splicing_prefix == \"NO_RNASEQ\"): # we don't have an rna seq expt for this clip:\n",
    "                no_rnaseq.append(uid)\n",
    "            else:\n",
    "                ##### get the positive and negative associated annotations using this prefix #####\n",
    "                positive, negative = m.get_annotations_from_splicing_prefix(\n",
    "                    annotation_dir, splicing_prefix, \n",
    "                    pos_splicing_suffix, neg_splicing_suffix\n",
    "                )\n",
    "                ### we HAVE to have at both positive and negative annotations to plot ###\n",
    "                if(positive == None or negative == None):\n",
    "                    no_rnaseq_yet.append(uid)\n",
    "                else:\n",
    "                    ### uses RBP name to ensure positive and negative annotations are being pulled ###\n",
    "                    pos_prefix = os.path.basename(positive).split('-')[0]\n",
    "                    neg_prefix = os.path.basename(negative).split('-')[0]\n",
    "                    if not (pos_prefix in rbp and neg_prefix in rbp):\n",
    "                        print(\n",
    "                            'warning, these dont match: {}, {}, {}'.format(\n",
    "                                rbp, \n",
    "                                os.path.basename(positive),\n",
    "                                os.path.basename(negative)\n",
    "                            )\n",
    "                        )\n",
    "                    ### Foreach replicate, build teh command used to call the python script.\n",
    "                    for r in [r1, r2]:\n",
    "                        name = os.path.basename(r).replace('.bam','.{}.{}'.format(normalization_level, ext))\n",
    "                        output_filename = os.path.join(\n",
    "                            params[read_type]['output_dir'],\n",
    "                            name\n",
    "                        )\n",
    "\n",
    "                        # Build the cmd line\n",
    "                        cmd = \"python \" + density_runner\n",
    "                        cmd = cmd + \" --event {}\".format('se')\n",
    "                        cmd = cmd + \" --ipbam {}\".format(r)\n",
    "                        cmd = cmd + \" --inputbam {}\".format(i)\n",
    "                        cmd = cmd + \" --output {}\".format(output_filename)\n",
    "                        cmd = cmd + \" --annotations {} {} {} {} {} {}\".format(\n",
    "                            positive, negative, background1, background2, background3, background4\n",
    "                        )\n",
    "                        cmd = cmd + \" --annotation_type {} {} {} {} {} {}\".format(\n",
    "                            'rmats', 'rmats', 'eric', 'eric', 'eric', 'eric' \n",
    "                        )\n",
    "                        # cmd = cmd + \" --chrom_sizes {}\".format(chrom_sizes)\n",
    "                        cmd = cmd + \" --testnum {} {}\".format(0, 1)\n",
    "                        cmd = cmd + \" --bgnum {}\".format(3) # test against native SE\n",
    "                        cmd = cmd + \" --normalization_level {}\".format(normalization_level)\n",
    "                        if not os.path.exists(output_filename) or force == True:\n",
    "                            cmds.append(cmd)\n",
    "\n",
    "bash_script_sh = '/projects/ps-yeolab3/bay001/maps/bash_scripts/{}/{}-SE_NR_{}.{}.sh'.format(\n",
    "    current_date, \n",
    "    params[read_type]['prefix'], \n",
    "    ext,\n",
    "    normalization_level\n",
    ")\n",
    "\n",
    "Submitter(\n",
    "    cmds, \n",
    "    \"{}-SE_NR_{}\".format(params[read_type]['prefix'], ext), \n",
    "    sh=bash_script_sh,\n",
    "    submit=True,\n",
    "    array=True,\n",
    "    walltime='3:00:00',\n",
    "    queue='home-yeo'\n",
    ")\n",
    "\n",
    "### Print any missing/unavailable annotations to check over ###\n",
    "print(\"uIDs for which we don't have splicing data for: {}\".format(\n",
    "        len(no_rnaseq))\n",
    "     )\n",
    "print(\"uIDs for which we have an RNASEQ ID, but we don't have the splicing data yet: {}\".format(\n",
    "        len(no_rnaseq_yet))\n",
    "     )"
   ]
  },
  {
   "cell_type": "code",
   "execution_count": 21,
   "metadata": {},
   "outputs": [
    {
     "name": "stdout",
     "output_type": "stream",
     "text": [
      "\n",
      "\n",
      "NO SUFFICIENT POSITIVE OR NEGATIVE SIGNIFICANT ANNOTATIONS:\n",
      "(u'HNRNPC', u'HepG2') (u'RBFOX2', u'HepG2') (u'IGF2BP1', u'HepG2') (u'HNRNPK', u'HepG2') (u'SRSF7', u'HepG2') (u'IGF2BP3', u'HepG2') (u'TIA1', u'HepG2') (u'SRSF9', u'HepG2') (u'TRA2A', u'HepG2') (u'IGF2BP1', u'K562') (u'HNRNPM', u'HepG2') (u'FKBP4', u'HepG2') (u'HNRNPM', u'K562') (u'IGF2BP2', u'K562') (u'SLTM', u'HepG2') (u'SF3B4', u'HepG2') (u'BCCIP', u'HepG2') (u'FMR1', u'K562') (u'FXR2', u'K562') (u'TRA2A', u'K562') (u'U2AF2', u'K562') (u'LARP7', u'K562') (u'U2AF1', u'K562') (u'XRN2', u'K562') (u'AUH', u'K562') (u'HNRNPA1', u'K562') (u'HNRNPU', u'K562') (u'SLTM', u'K562') (u'CPSF6', u'K562') (u'EIF4G2', u'K562') (u'SLBP', u'K562') (u'SAFB2', u'K562') (u'U2AF2', u'HepG2') (u'CSTF2T', u'K562') (u'PRPF8', u'K562') (u'FAM120A', u'K562') (u'AUH', u'HepG2') (u'HNRNPU', u'HepG2') (u'U2AF1', u'HepG2') (u'HNRNPA1', u'HepG2') (u'HNRNPUL1', u'K562') (u'PRPF8', u'HepG2') (u'CSTF2T', u'HepG2') (u'FAM120A', u'HepG2') (u'LARP7', u'HepG2') (u'SRSF1', u'HepG2') (u'SND1', u'HepG2') (u'XRCC6', u'HepG2') (u'SRSF1', u'K562') (u'FXR1', u'K562') (u'SND1', u'K562') (u'HNRNPUL1', u'HepG2') (u'LIN28B', u'K562') (u'HNRNPK', u'K562') (u'RBM22', u'K562') (u'ILF3', u'K562') (u'TAF15', u'K562') (u'TARDBP', u'K562') (u'GTF2F1', u'K562') (u'SMNDC1', u'HepG2') (u'PCBP2', u'HepG2') (u'DDX3X', u'K562') (u'SBDS', u'K562') (u'KHDRBS1', u'K562') (u'NPM1', u'K562') (u'PTBP1', u'K562') (u'SRSF7', u'K562') (u'GTF2F1', u'HepG2') (u'LIN28B', u'HepG2') (u'TAF15', u'HepG2') (u'SF3A3', u'HepG2') (u'NONO', u'K562') (u'PPIL4', u'K562') (u'AKAP8L', u'K562') (u'SFPQ', u'HepG2') (u'KHSRP', u'K562') (u'EWSR1', u'K562') (u'PUM2', u'K562') (u'LSM11', u'K562') (u'SMNDC1', u'K562') (u'TROVE2', u'K562') (u'GPKOW', u'K562') (u'NSUN2', u'K562') (u'FASTKD2', u'K562') (u'LARP4', u'K562') (u'FTO', u'K562') (u'UPF1', u'K562') (u'QKI', u'K562') (u'MTPAP', u'K562') (u'NCBP2', u'HepG2') (u'QKI', u'HepG2') (u'XRCC6', u'K562') (u'DDX24', u'K562') (u'DDX3X', u'HepG2') (u'RBM22', u'HepG2') (u'PPIG', u'HepG2') (u'BUD13', u'HepG2') (u'SF3B1', u'K562') (u'SF3B4', u'K562') (u'BUD13', u'K562') (u'METAP2', u'K562') (u'RBM15', u'K562') (u'RPS3', u'K562') (u'AGGF1', u'K562') (u'NOL12', u'HepG2') (u'DKC1', u'HepG2') (u'NKRF', u'HepG2') (u'RBM15', u'HepG2') (u'CDC40', u'HepG2') (u'LARP4', u'HepG2') (u'HNRNPL', u'K562') (u'NCBP2', u'K562') (u'DDX59', u'HepG2') (u'RBM5', u'HepG2') (u'TROVE2', u'HepG2') (u'HLTF', u'K562') (u'DDX6', u'K562') (u'EFTUD2', u'K562') (u'LSM11', u'HepG2') (u'DDX55', u'HepG2') (u'GRSF1', u'HepG2') (u'TBRG4', u'HepG2') (u'AARS', u'K562') (u'EIF3D', u'HepG2') (u'EIF4B', u'HepG2') (u'GRWD1', u'HepG2') (u'DDX6', u'HepG2') (u'TBRG4', u'K562') (u'NFX1', u'K562') (u'DDX55', u'K562') (u'ZRANB2', u'K562') (u'UCHL5', u'HepG2') (u'EFTUD2', u'HepG2') (u'XRN2', u'HepG2') (u'TIA1', u'K562') (u'ILF3', u'HepG2') (u'FUBP3', u'HepG2') (u'CSTF2', u'HepG2') (u'DROSHA', u'HepG2') (u'UCHL5', u'K562') (u'SUB1', u'HepG2') (u'FASTKD2', u'HepG2') (u'SUPV3L1', u'HepG2') (u'SUGP2', u'HepG2') (u'DHX30', u'HepG2') (u'XPO5', u'HepG2') (u'RPS5', u'HepG2') (u'PUS1', u'K562') (u'RBFOX2', u'K562') (u'GEMIN5', u'K562') (u'HNRNPL', u'HepG2') (u'RPL23A', u'HepG2') (u'DHX30', u'K562') (u'SERBP1', u'K562') (u'MATR3', u'HepG2') (u'PTBP1', u'HepG2')\n"
     ]
    }
   ],
   "source": [
    "with open(bash_script_sh.replace('.sh','.missing.txt'), 'w') as o:\n",
    "    for no in no_rnaseq:\n",
    "        o.write(\n",
    "            '{}\\t{}\\n'.format(\n",
    "                m.get_clip_file_from_uid(clip_df, no)[3],\n",
    "                m.get_clip_file_from_uid(clip_df, no)[4],\n",
    "            )\n",
    "        )\n",
    "\n",
    "    print(\"\\n\\nNO SUFFICIENT POSITIVE OR NEGATIVE SIGNIFICANT ANNOTATIONS:\")\n",
    "    for no in no_rnaseq_yet:\n",
    "        print(m.get_clip_file_from_uid(clip_df, no)[3:]),"
   ]
  },
  {
   "cell_type": "code",
   "execution_count": null,
   "metadata": {
    "collapsed": true
   },
   "outputs": [],
   "source": []
  },
  {
   "cell_type": "markdown",
   "metadata": {},
   "source": [
    "# Plot SE Peaks"
   ]
  },
  {
   "cell_type": "code",
   "execution_count": 31,
   "metadata": {},
   "outputs": [
    {
     "name": "stderr",
     "output_type": "stream",
     "text": [
      "Writing 298 tasks as an array-job.\n",
      "Wrote commands to /projects/ps-yeolab3/bay001/maps/bash_scripts/12-18-2017/SE_PEAK_PNGS.sh.\n",
      "Submitted script to queue home-yeo.\n",
      " Job ID: 10425459\n"
     ]
    },
    {
     "name": "stdout",
     "output_type": "stream",
     "text": [
      "\n",
      "\n",
      "NO SUFFICIENT POSITIVE OR NEGATIVE SIGNIFICANT ANNOTATIONS:\n",
      "(u'CSTF2T', u'K562') (u'FASTKD2', u'K562') (u'RPL23A', u'HepG2') (u'SLTM', u'K562') (u'AUH', u'K562') (u'LSM11', u'K562') (u'FAM120A', u'K562') (u'SLTM', u'K562') (u'AUH', u'K562') (u'LSM11', u'K562') (u'FAM120A', u'K562') (u'CSTF2T', u'K562') (u'FASTKD2', u'K562') (u'RPL23A', u'HepG2')\n"
     ]
    }
   ],
   "source": [
    "peak_runner = '/home/bay001/projects/codebase/rbp-maps/maps/plot_density.py' # this is the main driver now.\n",
    "\n",
    "key = 'peak_bb'\n",
    "\n",
    "img_extensions = ['png'] #,'svg']\n",
    "all_peaks = glob.glob(os.path.join(params[key]['peak_dir'],'*p3f3.bed.sorted.bed.bb'))\n",
    "clip_df = pd.read_table(params[key]['clip_manifest'])\n",
    "\n",
    "no_rnaseq = [] # uIDs for which we don't have rna seq expt ids for\n",
    "no_rnaseq_yet = [] # uIDs for which we have an expt id, but haven't downloaded the data yet\n",
    "cmds = []\n",
    "force = True\n",
    "\n",
    "### DEFINE BACKGROUNDS (THESE ARE STATIC AND DON'T CHANGE) ###\n",
    "k562_background_ce = os.path.join(annotation_dir, 'K562_constitutive_exons')\n",
    "k562_background_nse_all = os.path.join(annotation_dir, 'K562_native_cassette_exons')\n",
    "k562_background_nse_inc = os.path.join(annotation_dir, 'K562_native_included_cassette_exons')\n",
    "k562_background_nse_exc = os.path.join(annotation_dir, 'K562_native_excluded_cassette_exons')\n",
    "\n",
    "hepg2_background_ce = os.path.join(annotation_dir, 'HepG2_constitutive_exons')\n",
    "hepg2_background_nse_all = os.path.join(annotation_dir, 'HepG2_native_cassette_exons')\n",
    "hepg2_background_nse_inc = os.path.join(annotation_dir, 'HepG2_native_included_cassette_exons')\n",
    "hepg2_background_nse_exc = os.path.join(annotation_dir, 'HepG2_native_excluded_cassette_exons')\n",
    "\n",
    "for ext in img_extensions:\n",
    "    for peak in all_peaks:\n",
    "        output_filename = os.path.join(\n",
    "            params[key]['output_dir'],\n",
    "            os.path.basename(peak).replace('.bb','.bb.{}'.format(ext))\n",
    "        )\n",
    "        uid, rep, other = m.split_uid_and_rep(os.path.basename(peak).split('.')[0])\n",
    "        _, _, _, rbp, cell = m.get_clip_file_from_uid(\n",
    "            clip_df, uid\n",
    "        )\n",
    "        splicing_prefix = m.get_rnaseq_splicing_prefix_from_rbpname(\n",
    "            rnaseq_manifests, rbp, cell\n",
    "        )\n",
    "\n",
    "        if cell == 'HepG2':\n",
    "            ce_background = hepg2_background_ce\n",
    "            nc_background = hepg2_background_nse_all\n",
    "            ni_background = hepg2_background_nse_inc\n",
    "            ne_background = hepg2_background_nse_exc\n",
    "        elif cell == 'K562':\n",
    "            ce_background = k562_background_ce\n",
    "            nc_background = k562_background_nse_all\n",
    "            ni_background = k562_background_nse_inc\n",
    "            ne_background = k562_background_nse_exc\n",
    "        else:\n",
    "            print('error')\n",
    "\n",
    "        if(splicing_prefix == \"NO_RNASEQ\"): # we don't have an rna seq expt for this clip:\n",
    "            no_rnaseq.append(uid)\n",
    "        else:\n",
    "            positive, negative = m.get_annotations_from_splicing_prefix(\n",
    "                annotation_dir, splicing_prefix, \n",
    "\n",
    "            )\n",
    "            if(positive == None or negative == None):\n",
    "                no_rnaseq_yet.append(uid)\n",
    "            else:\n",
    "                # Build the cmd line\n",
    "                cmd = \"python \" + peak_runner\n",
    "                cmd = cmd + \" --event {}\".format('se')\n",
    "                cmd = cmd + \" --peak {}\".format(peak)\n",
    "                cmd = cmd + \" --output {}\".format(output_filename)\n",
    "                cmd = cmd + \" --annotations {} {} {} {} {} {}\".format(\n",
    "                    positive, negative, ce_background, nc_background, ni_background, ne_background\n",
    "                )\n",
    "                cmd = cmd + \" --annotation_type {} {} {} {} {} {}\".format(\n",
    "                    'rmats', 'rmats', 'eric', 'eric', 'eric', 'eric' \n",
    "                )\n",
    "                # cmd = cmd + \" --chrom_sizes {}\".format(chrom_sizes)\n",
    "                cmd = cmd + \" --testnum {} {}\".format(0, 1)\n",
    "                cmd = cmd + \" --bgnum {}\".format(3) # test against native SE\n",
    "                cmd = cmd + \" --normalization_level {}\".format(0)\n",
    "                cmd = cmd + \" --sigtest {}\".format(\"fisher\")\n",
    "                if not os.path.exists(output_filename) or force == True:\n",
    "                    cmds.append(cmd)\n",
    "\n",
    "bash_script_sh = '/projects/ps-yeolab3/bay001/maps/bash_scripts/{}/SE_PEAK_PNGS.sh'.format(current_date)\n",
    "\n",
    "Submitter(\n",
    "    cmds, \n",
    "    \"SE_PEAK_PNGS\", \n",
    "    sh=bash_script_sh,\n",
    "    submit=True,\n",
    "    array=True,\n",
    "    walltime='0:20:00',\n",
    "    queue='home-yeo'\n",
    ")\n",
    "\n",
    "with open(bash_script_sh.replace('.sh','.missing.txt'), 'w') as o:\n",
    "    for no in no_rnaseq:\n",
    "        o.write(\n",
    "            '{}\\t{}\\n'.format(\n",
    "                m.get_clip_file_from_uid(clip_df, no)[3],\n",
    "                m.get_clip_file_from_uid(clip_df, no)[4],\n",
    "            )\n",
    "        )\n",
    "    print(\"\\n\\nNO SUFFICIENT POSITIVE OR NEGATIVE SIGNIFICANT ANNOTATIONS:\")\n",
    "    for no in no_rnaseq_yet:\n",
    "        print(m.get_clip_file_from_uid(clip_df, no)[3:]),"
   ]
  },
  {
   "cell_type": "code",
   "execution_count": 32,
   "metadata": {},
   "outputs": [
    {
     "name": "stderr",
     "output_type": "stream",
     "text": [
      "Writing 149 tasks as an array-job.\n",
      "Wrote commands to /projects/ps-yeolab3/bay001/maps/bash_scripts/12-18-2017/IDR_PEAK_PNGS.sh.\n",
      "Submitted script to queue home-yeo.\n",
      " Job ID: 10425460\n"
     ]
    },
    {
     "name": "stdout",
     "output_type": "stream",
     "text": [
      "\n",
      "\n",
      "NO SUFFICIENT POSITIVE OR NEGATIVE SIGNIFICANT ANNOTATIONS:\n",
      "(u'SLTM', u'K562') (u'FASTKD2', u'K562') (u'FAM120A', u'K562') (u'AUH', u'K562') (u'RPL23A', u'HepG2') (u'CSTF2T', u'K562') (u'LSM11', u'K562')\n"
     ]
    }
   ],
   "source": [
    "peak_runner = '/home/bay001/projects/codebase/rbp-maps/maps/plot_density.py' # this is the main driver now.\n",
    "\n",
    "key = 'idr_bb'\n",
    "\n",
    "img_extensions = ['png'] #,'svg']\n",
    "all_peaks = glob.glob(os.path.join(params[key]['peak_dir'],'*bed.sorted.bed.bb'))\n",
    "clip_df = pd.read_table(params[key]['clip_manifest'])\n",
    "\n",
    "no_rnaseq = [] # uIDs for which we don't have rna seq expt ids for\n",
    "no_rnaseq_yet = [] # uIDs for which we have an expt id, but haven't downloaded the data yet\n",
    "cmds = []\n",
    "force = True\n",
    "\n",
    "### DEFINE BACKGROUNDS (THESE ARE STATIC AND DON'T CHANGE) ###\n",
    "k562_background_ce = os.path.join(annotation_dir, 'K562_constitutive_exons')\n",
    "k562_background_nse_all = os.path.join(annotation_dir, 'K562_native_cassette_exons')\n",
    "k562_background_nse_inc = os.path.join(annotation_dir, 'K562_native_included_cassette_exons')\n",
    "k562_background_nse_exc = os.path.join(annotation_dir, 'K562_native_excluded_cassette_exons')\n",
    "\n",
    "hepg2_background_ce = os.path.join(annotation_dir, 'HepG2_constitutive_exons')\n",
    "hepg2_background_nse_all = os.path.join(annotation_dir, 'HepG2_native_cassette_exons')\n",
    "hepg2_background_nse_inc = os.path.join(annotation_dir, 'HepG2_native_included_cassette_exons')\n",
    "hepg2_background_nse_exc = os.path.join(annotation_dir, 'HepG2_native_excluded_cassette_exons')\n",
    "\n",
    "for ext in img_extensions:\n",
    "    for peak in all_peaks:\n",
    "        output_filename = os.path.join(\n",
    "            params[key]['output_dir'],\n",
    "            os.path.basename(peak).replace('.bb','.bb.{}'.format(ext))\n",
    "        )\n",
    "        \n",
    "        uid = os.path.basename(peak).split('.')[0]\n",
    "        _, _, _, rbp, cell = m.get_clip_file_from_uid(clip_df, uid)\n",
    "        splicing_prefix = m.get_rnaseq_splicing_prefix_from_rbpname(rnaseq_manifests, rbp, cell)\n",
    "\n",
    "        if cell == 'HepG2':\n",
    "            ce_background = hepg2_background_ce\n",
    "            nc_background = hepg2_background_nse_all\n",
    "            ni_background = hepg2_background_nse_inc\n",
    "            ne_background = hepg2_background_nse_exc\n",
    "        elif cell == 'K562':\n",
    "            ce_background = k562_background_ce\n",
    "            nc_background = k562_background_nse_all\n",
    "            ni_background = k562_background_nse_inc\n",
    "            ne_background = k562_background_nse_exc\n",
    "        else:\n",
    "            print('error')\n",
    "\n",
    "        if(splicing_prefix == \"NO_RNASEQ\"): # we don't have an rna seq expt for this clip:\n",
    "            no_rnaseq.append(uid)\n",
    "        else:\n",
    "            positive, negative = m.get_annotations_from_splicing_prefix(\n",
    "                annotation_dir, splicing_prefix, \n",
    "\n",
    "            )\n",
    "            if(positive == None or negative == None):\n",
    "                no_rnaseq_yet.append(uid)\n",
    "            else:\n",
    "                # Build the cmd line\n",
    "                cmd = \"python \" + peak_runner\n",
    "                cmd = cmd + \" --event {}\".format('se')\n",
    "                cmd = cmd + \" --peak {}\".format(peak)\n",
    "                cmd = cmd + \" --output {}\".format(output_filename)\n",
    "                cmd = cmd + \" --annotations {} {} {} {} {} {}\".format(\n",
    "                    positive, negative, ce_background, nc_background, ni_background, ne_background\n",
    "                )\n",
    "                cmd = cmd + \" --annotation_type {} {} {} {} {} {}\".format(\n",
    "                    'rmats', 'rmats', 'eric', 'eric', 'eric', 'eric' \n",
    "                )\n",
    "                # cmd = cmd + \" --chrom_sizes {}\".format(chrom_sizes)\n",
    "                cmd = cmd + \" --testnum {} {}\".format(0, 1)\n",
    "                cmd = cmd + \" --bgnum {}\".format(3) # test against native SE\n",
    "                cmd = cmd + \" --normalization_level {}\".format(0)\n",
    "                cmd = cmd + \" --sigtest {}\".format(\"fisher\")\n",
    "                if not os.path.exists(output_filename) or force == True:\n",
    "                    cmds.append(cmd)\n",
    "\n",
    "bash_script_sh = '/projects/ps-yeolab3/bay001/maps/bash_scripts/{}/IDR_PEAK_PNGS.sh'.format(current_date)\n",
    "\n",
    "Submitter(\n",
    "    cmds, \n",
    "    \"IDR_PEAK_PNGS\", \n",
    "    sh=bash_script_sh,\n",
    "    submit=True,\n",
    "    array=True,\n",
    "    walltime='0:20:00',\n",
    "    queue='home-yeo'\n",
    ")\n",
    "\n",
    "with open(bash_script_sh.replace('.sh','.missing.txt'), 'w') as o:\n",
    "    for no in no_rnaseq:\n",
    "        o.write(\n",
    "            '{}\\t{}\\n'.format(\n",
    "                m.get_clip_file_from_uid(clip_df, no)[3],\n",
    "                m.get_clip_file_from_uid(clip_df, no)[4],\n",
    "            )\n",
    "        )\n",
    "    print(\"\\n\\nNO SUFFICIENT POSITIVE OR NEGATIVE SIGNIFICANT ANNOTATIONS:\")\n",
    "    for no in no_rnaseq_yet:\n",
    "        print(m.get_clip_file_from_uid(clip_df, no)[3:]),"
   ]
  },
  {
   "cell_type": "code",
   "execution_count": null,
   "metadata": {
    "collapsed": true
   },
   "outputs": [],
   "source": []
  }
 ],
 "metadata": {
  "kernelspec": {
   "display_name": "Python 2",
   "language": "python",
   "name": "python2"
  },
  "language_info": {
   "codemirror_mode": {
    "name": "ipython",
    "version": 2
   },
   "file_extension": ".py",
   "mimetype": "text/x-python",
   "name": "python",
   "nbconvert_exporter": "python",
   "pygments_lexer": "ipython2",
   "version": "2.7.13"
  },
  "widgets": {
   "state": {
    "569a4a5b3e314a91ab2b92dcfc9868e4": {
     "views": [
      {
       "cell_index": 29
      }
     ]
    }
   },
   "version": "1.2.0"
  }
 },
 "nbformat": 4,
 "nbformat_minor": 1
}
