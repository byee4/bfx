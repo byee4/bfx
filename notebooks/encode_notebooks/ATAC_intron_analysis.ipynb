{
 "cells": [
  {
   "cell_type": "markdown",
   "metadata": {},
   "source": [
    "# Compare binding densities between major/minor spliceosome.\n",
    "- create the 'RI' map using the SJout tab files from the STAR mapping"
   ]
  },
  {
   "cell_type": "code",
   "execution_count": 30,
   "metadata": {
    "collapsed": true
   },
   "outputs": [],
   "source": [
    "%matplotlib inline\n",
    "from collections import defaultdict\n",
    "import sys\n",
    "import os\n",
    "import pandas as pd\n",
    "import matplotlib.pyplot as plt\n",
    "import seaborn as sns\n",
    "import pybedtools\n",
    "import glob\n",
    "import gffutils\n",
    "from qtools import Submitter\n",
    "from tqdm import tnrange, tqdm_notebook"
   ]
  },
  {
   "cell_type": "markdown",
   "metadata": {},
   "source": [
    "# dict of the smallest start/end of exon boundaries (these are 1-based)"
   ]
  },
  {
   "cell_type": "code",
   "execution_count": 76,
   "metadata": {
    "collapsed": true
   },
   "outputs": [],
   "source": [
    "gtf_db = '/projects/ps-yeolab/genomes/hg19/gencode_v19/gencode.v19.annotation.gtf.db'\n",
    "\n",
    "MAXVAL=5000000000\n",
    "MINVAL=-1\n",
    "starts = defaultdict(lambda: MINVAL)\n",
    "ends = defaultdict(lambda: MAXVAL)\n",
    "\n",
    "db = gffutils.FeatureDB(gtf_db)\n",
    "for exon in db.features_of_type('exon'):\n",
    "    ends[exon.start] = min(ends[exon.start], exon.end)\n",
    "    starts[exon.end] = max(starts[exon.end], exon.start)"
   ]
  },
  {
   "cell_type": "code",
   "execution_count": 82,
   "metadata": {},
   "outputs": [
    {
     "data": {
      "text/plain": [
       "54405658"
      ]
     },
     "execution_count": 82,
     "metadata": {},
     "output_type": "execute_result"
    }
   ],
   "source": [
    "starts[54405770]"
   ]
  },
  {
   "cell_type": "markdown",
   "metadata": {},
   "source": [
    "# get all SJout files and combined based on their RBP prefix."
   ]
  },
  {
   "cell_type": "code",
   "execution_count": 3,
   "metadata": {
    "collapsed": true
   },
   "outputs": [],
   "source": [
    "sjout_tab_names = ['chrom','start1based','stop1based','strand','intron_motif','annotation','uniq','multimap','maxoverhang']\n",
    "sjout_dir = '/home/bay001/projects/encode/analysis/atac_intron_analysis/SJout/'"
   ]
  },
  {
   "cell_type": "code",
   "execution_count": 4,
   "metadata": {},
   "outputs": [
    {
     "data": {
      "text/plain": [
       "['/home/bay001/projects/encode/analysis/atac_intron_analysis/SJout/TAG9_CLIP_S21_L005_R1_001.B06_TAG9_CLIP_SNRPG.adapterTrim.round2.rmRep.bamSJ.out.tab',\n",
       " '/home/bay001/projects/encode/analysis/atac_intron_analysis/SJout/LNG1-M_INPUT_S81_L008_R1_001.unassigned.adapterTrim.round2.rmRep.bamSJ.out.tab',\n",
       " '/home/bay001/projects/encode/analysis/atac_intron_analysis/SJout/662_CLIP_S8_L006_R1_001.A04_662_02_UTP3.adapterTrim.round2.rmRep.bamSJ.out.tab',\n",
       " '/home/bay001/projects/encode/analysis/atac_intron_analysis/SJout/492_CLIP_S11_L002_R1_001.A03_492_02_DDX3X.adapterTrim.round2.rmRep.bamSJ.out.tab',\n",
       " '/home/bay001/projects/encode/analysis/atac_intron_analysis/SJout/363_INPUT_4000_S18_L001_R1_001.unassigned.adapterTrim.round2.rmRep.bamSJ.out.tab']"
      ]
     },
     "execution_count": 4,
     "metadata": {},
     "output_type": "execute_result"
    }
   ],
   "source": [
    "# sjout_tab = os.path.join(sjout_dir, 'RBFOX2-204-CLIP_S1_R1.A01_204_01_RBFOX2.adapterTrim.round2.rmRep.bamSJ.out.tab')\n",
    "# sjout_df = pd.read_table(sjout_tab, names=sjout_tab_names)\n",
    "# sjout_df.head()\n",
    "sjout_files = glob.glob(os.path.join(sjout_dir, '*.tab'))\n",
    "sjout_files[:5]"
   ]
  },
  {
   "cell_type": "code",
   "execution_count": 44,
   "metadata": {
    "collapsed": true
   },
   "outputs": [],
   "source": [
    "def split_filename_and_get_uid_collection(files):\n",
    "    \"\"\"\n",
    "    Splits the filename based on some kind of structure \n",
    "    and returns the uid as a dict.\n",
    "    \n",
    "    Processes unassigned/input separately.\n",
    "    \n",
    "    uid_collection = {uid:[rep1, rep2], uid:[rep1, rep2]}\n",
    "    \n",
    "    \"\"\"\n",
    "    uid_collection = defaultdict(list)\n",
    "    for f in files:\n",
    "        base = os.path.basename(f)\n",
    "        prefix = base.split('.')\n",
    "        prefix1 = prefix[0]\n",
    "        prefix2 = prefix[1]\n",
    "        if 'unassigned' in prefix2:\n",
    "            uid = prefix1.split('_')[0]\n",
    "        else:\n",
    "            uid = '_'.join([prefix2.split('_')[1], prefix2.split('_')[2]])\n",
    "        uid_collection[uid].append(f)\n",
    "    return uid_collection\n",
    "\n",
    "def combine_sjout_dataframes_and_filter(f1, f2, f):\n",
    "    \"\"\"\n",
    "    Combines the two sjout dataframes and returns a\n",
    "    singular filtered dataframe containing only\n",
    "    annotated introns (1) and ATAC motifs (5).\n",
    "    \"\"\"\n",
    "    df1 = pd.read_table(f1, names=sjout_tab_names)\n",
    "    df2 = pd.read_table(f2, names=sjout_tab_names)\n",
    "    df = pd.concat([df1, df2])\n",
    "    df.drop_duplicates(inplace=True, subset=['chrom','start1based','stop1based','strand'])\n",
    "    atac = df[(df['intron_motif']==f) & (df['annotation']==1)]\n",
    "    return atac\n",
    "\n",
    "### Get all UIDs ###\n",
    "\n",
    "uids = split_filename_and_get_uid_collection(sjout_files)"
   ]
  },
  {
   "cell_type": "code",
   "execution_count": 45,
   "metadata": {},
   "outputs": [
    {
     "data": {
      "application/vnd.jupyter.widget-view+json": {
       "model_id": "8446ce0d6b3d4d43b5b9869aa6d9c320"
      }
     },
     "metadata": {},
     "output_type": "display_data"
    },
    {
     "name": "stdout",
     "output_type": "stream",
     "text": [
      "% of total with pairs: 0.0\n"
     ]
    }
   ],
   "source": [
    "MIN_NUMBER_EVENTS_TO_PRINT = 50\n",
    "# print the number of atac introns found \n",
    "progress = tnrange(len(uids.keys()))\n",
    "pairs=0  # number of pairs found per replicate\n",
    "\n",
    "non_canonical_list = defaultdict()\n",
    "_list = defaultdict(dict)\n",
    "\n",
    "for uid in uids.keys():\n",
    "    if len(uids[uid]) == 2: # found at least 2 barcode-associated SJout files...\n",
    "        pairs+=1\n",
    "        \n",
    "        non_canonical = combine_sjout_dataframes_and_filter(uids[uid][0], uids[uid][1], 0)\n",
    "        gtag = combine_sjout_dataframes_and_filter(uids[uid][0], uids[uid][1], 1)\n",
    "        ctac = combine_sjout_dataframes_and_filter(uids[uid][0], uids[uid][1], 2)\n",
    "        gcag = combine_sjout_dataframes_and_filter(uids[uid][0], uids[uid][1], 3)\n",
    "        ctgc = combine_sjout_dataframes_and_filter(uids[uid][0], uids[uid][1], 4)\n",
    "        atac = combine_sjout_dataframes_and_filter(uids[uid][0], uids[uid][1], 5)\n",
    "        gtat = combine_sjout_dataframes_and_filter(uids[uid][0], uids[uid][1], 6)\n",
    "        _list[uid]['non_canonical'] = non_canonical\n",
    "        _list[uid]['gtag'] = gtag\n",
    "        _list[uid]['ctac'] = ctac\n",
    "        _list[uid]['gcag'] = gcag\n",
    "        _list[uid]['ctgc'] = ctgc\n",
    "        _list[uid]['atac'] = atac\n",
    "        _list[uid]['gtat'] = gtat\n",
    "             \n",
    "    progress.update(1)\n",
    "print('% of total with pairs: {}'.format(float(pairs/len(uids.keys()))))"
   ]
  },
  {
   "cell_type": "markdown",
   "metadata": {},
   "source": [
    "# Grab just the AT/AC intron_motif codes (5) and for now, just those which are annotated (to make it easier to get flanking exon info)\n",
    "- atac_and_unannotated looks at novel introns, but the flanking exon stuff then becomes a little shakier"
   ]
  },
  {
   "cell_type": "code",
   "execution_count": 91,
   "metadata": {},
   "outputs": [
    {
     "data": {
      "text/html": [
       "<div>\n",
       "<table border=\"1\" class=\"dataframe\">\n",
       "  <thead>\n",
       "    <tr style=\"text-align: right;\">\n",
       "      <th></th>\n",
       "      <th>chrom</th>\n",
       "      <th>start1based</th>\n",
       "      <th>stop1based</th>\n",
       "      <th>strand</th>\n",
       "      <th>annotation</th>\n",
       "    </tr>\n",
       "  </thead>\n",
       "  <tbody>\n",
       "    <tr>\n",
       "      <th>4659</th>\n",
       "      <td>chr1</td>\n",
       "      <td>54405771</td>\n",
       "      <td>54411227</td>\n",
       "      <td>2</td>\n",
       "      <td>1</td>\n",
       "    </tr>\n",
       "    <tr>\n",
       "      <th>4660</th>\n",
       "      <td>chr1</td>\n",
       "      <td>54405771</td>\n",
       "      <td>54411909</td>\n",
       "      <td>2</td>\n",
       "      <td>1</td>\n",
       "    </tr>\n",
       "  </tbody>\n",
       "</table>\n",
       "</div>"
      ],
      "text/plain": [
       "     chrom  start1based  stop1based  strand  annotation\n",
       "4659  chr1     54405771    54411227       2           1\n",
       "4660  chr1     54405771    54411909       2           1"
      ]
     },
     "execution_count": 91,
     "metadata": {},
     "output_type": "execute_result"
    }
   ],
   "source": [
    "# kinda weird, the sjout files contain introns that are annotated, yet not found in gencode annotations.\n",
    "# 629_CLIP_S21_L005_R1_001.A03_629_02_UCHL5.adapterTrim.round2.rmRep.bamSJ.out.tab\n",
    "test = _list['629_02']['ctac'][['chrom','start1based','stop1based', 'strand','annotation']]\n",
    "test[test['start1based']==54405771]"
   ]
  },
  {
   "cell_type": "code",
   "execution_count": 93,
   "metadata": {},
   "outputs": [],
   "source": [
    "exons_gtf = '/projects/ps-yeolab/genomes/hg19/gencode_v19/gencode.v19.annotation.exon.gtf'\n",
    "    \n",
    "def get_flanking_exons(starts, ends, intron):\n",
    "    \"\"\"\n",
    "    takes intronand finds the lower/upper exons using starts/ends dicts\n",
    "    \"\"\"\n",
    "    # print(intron, intron.start, str(starts[intron.start]), intron.stop, str(ends[intron.stop]))\n",
    "    try:\n",
    "        lower_exon = pybedtools.create_interval_from_list([\n",
    "            intron.chrom,\n",
    "            str(starts[intron.start-1] - 1), # positions are 1-based, so must turn to 0-based.\n",
    "            str(intron.start - 1),\n",
    "            'name',\n",
    "            '0',\n",
    "            intron.strand\n",
    "        ])\n",
    "    except Exception as e: # handle errors in not being able to find bordering exons\n",
    "        # print(e)\n",
    "        # print(intron)\n",
    "        lower_exon = pybedtools.create_interval_from_list([\n",
    "            intron.chrom,\n",
    "            str(intron.start-52),\n",
    "            str(intron.start - 1),\n",
    "            'name',\n",
    "            '0',\n",
    "            intron.strand\n",
    "        ])\n",
    "    try:\n",
    "        upper_exon = pybedtools.create_interval_from_list([\n",
    "            intron.chrom,\n",
    "            str(intron.end),\n",
    "            str(ends[intron.end+1]),\n",
    "            'name',\n",
    "            '0',\n",
    "            intron.strand\n",
    "        ])\n",
    "    except Exception as e: # handle errors in not being able to find bordering exons\n",
    "        upper_exon = pybedtools.create_interval_from_list([\n",
    "            intron.chrom,\n",
    "            str(intron.end),\n",
    "            str(intron.end+51),\n",
    "            'name',\n",
    "            '0',\n",
    "            intron.strand\n",
    "        ])\n",
    "    intron.start = intron.start - 1  # turn intron (1-based) to 0-based\n",
    "    return lower_exon, intron, upper_exon"
   ]
  },
  {
   "cell_type": "code",
   "execution_count": 94,
   "metadata": {
    "collapsed": true
   },
   "outputs": [],
   "source": [
    "def get_strand(i):\n",
    "    \"\"\"\n",
    "    parses the STAR-coded strand info to a string representation.\n",
    "    \"\"\"\n",
    "    if i == 0:\n",
    "        return 'u'\n",
    "    elif i == 1:\n",
    "        return '+'\n",
    "    elif i == 2:\n",
    "        return '-'\n",
    "    else:\n",
    "        return 'x'\n",
    "\n",
    "def add_interval(atac):\n",
    "    \"\"\"\n",
    "    appends bedtools.interval to each intron.\n",
    "    \"\"\"\n",
    "    atac['interval'] = atac.apply(lambda x: pybedtools.create_interval_from_list([\n",
    "        x['chrom'], x['start1based'], x['stop1based'], 'name', '0', get_strand(x['strand'])\n",
    "    ]), axis=1)\n",
    "    return atac\n",
    "\n",
    "def to_twobed(lower, upper):\n",
    "    \"\"\"\n",
    "    Just concatenates the two BedTools into a single line.\n",
    "    \"\"\"\n",
    "    return '{}\\t{}\\t{}\\t{}\\t{}\\t{}\\t{}\\t{}\\t{}\\t{}\\t{}\\t{}\\n'.format(\n",
    "        lower.chrom, lower.start, lower.end, lower.name, lower.score, lower.strand,\n",
    "        upper.chrom, upper.start, upper.end, upper.name, upper.score, upper.strand\n",
    "    )"
   ]
  },
  {
   "cell_type": "code",
   "execution_count": 96,
   "metadata": {},
   "outputs": [
    {
     "data": {
      "application/vnd.jupyter.widget-view+json": {
       "model_id": "90bfe55ee84d485a9cf72ff9e6bdd2c6"
      }
     },
     "metadata": {},
     "output_type": "display_data"
    }
   ],
   "source": [
    "# http://labshare.cshl.edu/shares/gingeraslab/www-data/dobin/STAR/STAR.posix/doc/STARmanual.pdf\n",
    "out_dir = '/projects/ps-yeolab3/bay001/maps/current_annotations/atac_introns/'\n",
    "progress = tnrange(len(dx_list.keys()))\n",
    "\n",
    "for uid in dx_list.keys():\n",
    "    for motif in ['ctac', 'gcag', 'atac', 'gtat', 'ctgc', 'gtag']:\n",
    "        df = add_interval(_list[uid][motif])\n",
    "        o = open(os.path.join(out_dir, '{}.{}.txt'.format(uid, motif)), 'w')\n",
    "    \n",
    "        for interval in df['interval']:\n",
    "            lower, mid, upper = get_flanking_exons(starts, ends, interval)\n",
    "            o.write(to_twobed(lower, upper))\n",
    "\n",
    "        o.close()\n",
    "    progress.update(1)"
   ]
  },
  {
   "cell_type": "markdown",
   "metadata": {},
   "source": [
    "# make RBP maps\n",
    "- use the RI event maps\n",
    "- wait first look at duplicated events... why are they duplicated? Oh because we are joining two different barcoded bams... okay added a drop_duplicates clause"
   ]
  },
  {
   "cell_type": "code",
   "execution_count": 97,
   "metadata": {},
   "outputs": [
    {
     "data": {
      "text/html": [
       "<div>\n",
       "<table border=\"1\" class=\"dataframe\">\n",
       "  <thead>\n",
       "    <tr style=\"text-align: right;\">\n",
       "      <th></th>\n",
       "      <th>uID</th>\n",
       "      <th>RBP</th>\n",
       "      <th>Cell line</th>\n",
       "      <th>CLIP_rep1</th>\n",
       "      <th>CLIP_rep2</th>\n",
       "      <th>INPUT</th>\n",
       "    </tr>\n",
       "  </thead>\n",
       "  <tbody>\n",
       "    <tr>\n",
       "      <th>0</th>\n",
       "      <td>203</td>\n",
       "      <td>HNRNPC</td>\n",
       "      <td>HepG2</td>\n",
       "      <td>/projects/ps-yeolab3/encode/analysis/encode_ma...</td>\n",
       "      <td>/projects/ps-yeolab3/encode/analysis/encode_ma...</td>\n",
       "      <td>/projects/ps-yeolab3/encode/analysis/encode_ma...</td>\n",
       "    </tr>\n",
       "    <tr>\n",
       "      <th>1</th>\n",
       "      <td>204</td>\n",
       "      <td>RBFOX2</td>\n",
       "      <td>HepG2</td>\n",
       "      <td>/projects/ps-yeolab3/encode/analysis/encode_ma...</td>\n",
       "      <td>/projects/ps-yeolab3/encode/analysis/encode_ma...</td>\n",
       "      <td>/projects/ps-yeolab3/encode/analysis/encode_ma...</td>\n",
       "    </tr>\n",
       "  </tbody>\n",
       "</table>\n",
       "</div>"
      ],
      "text/plain": [
       "   uID     RBP Cell line                                          CLIP_rep1  \\\n",
       "0  203  HNRNPC     HepG2  /projects/ps-yeolab3/encode/analysis/encode_ma...   \n",
       "1  204  RBFOX2     HepG2  /projects/ps-yeolab3/encode/analysis/encode_ma...   \n",
       "\n",
       "                                           CLIP_rep2  \\\n",
       "0  /projects/ps-yeolab3/encode/analysis/encode_ma...   \n",
       "1  /projects/ps-yeolab3/encode/analysis/encode_ma...   \n",
       "\n",
       "                                               INPUT  \n",
       "0  /projects/ps-yeolab3/encode/analysis/encode_ma...  \n",
       "1  /projects/ps-yeolab3/encode/analysis/encode_ma...  "
      ]
     },
     "execution_count": 97,
     "metadata": {},
     "output_type": "execute_result"
    }
   ],
   "source": [
    "annotation_dir = '/projects/ps-yeolab3/bay001/maps/current_annotations/atac_introns/'\n",
    "out_dir = '/projects/ps-yeolab3/bay001/maps/current/atac_introns/'\n",
    "manifest = '/home/elvannostrand/data/clip/CLIPseq_analysis/ENCODE_FINALforpapers_20170325/ALLDATASETS_submittedonly.txt'\n",
    "manifest_df = pd.read_table(manifest)\n",
    "manifest_df.head(2)"
   ]
  },
  {
   "cell_type": "code",
   "execution_count": 119,
   "metadata": {},
   "outputs": [],
   "source": [
    "prog = '/home/bay001/projects/codebase/rbp-maps/maps/plot_density.py'\n",
    "chrom_sizes = '/projects/ps-yeolab/genomes/hg19/hg19.chrom.sizes'\n",
    "cmds = []\n",
    "\n",
    "def find_annotations_from_uid(annotation_dir, uid):\n",
    "    \n",
    "    found_files = glob.glob(os.path.join(annotation_dir,'{}.*.txt'.format(uid)))\n",
    "    # found_major_files = glob.glob(os.path.join(annotation_dir,'{}.major.txt'.format(uid)))\n",
    "    # found_minor_files = glob.glob(os.path.join(annotation_dir,'{}.minor.txt'.format(uid)))\n",
    "    if len(found_files) > 1:\n",
    "        return found_files\n",
    "    else:\n",
    "        return None\n",
    "    \n",
    "for col, row in manifest_df.iterrows():\n",
    "    inp_file = row['INPUT']\n",
    "    uid = row['uID']\n",
    "    for rep in ['{}_01'.format(uid),'{}_02'.format(uid)]:\n",
    "        if rep.endswith('_01'):\n",
    "            rep_file = row['CLIP_rep1']\n",
    "        elif rep.endswith('_02'):\n",
    "            rep_file = row['CLIP_rep2']\n",
    "        else:\n",
    "            print(row)\n",
    "        \n",
    "        out_file = os.path.join(out_dir, os.path.basename(rep_file).replace('.bam','.png'))\n",
    "        annotations = find_annotations_from_uid(annotation_dir, rep)\n",
    "        if annotations is not None:\n",
    "            cmd = 'python {} '.format(prog)\n",
    "            cmd = cmd + '--event atac '\n",
    "            cmd = cmd + '--annotations '\n",
    "            for annotation in sorted(annotations):\n",
    "                cmd = cmd + annotation + ' '\n",
    "            cmd = cmd + '--annotation_type '\n",
    "            for annotation in annotations:\n",
    "                cmd = cmd + 'twobed' + ' '\n",
    "            cmd = cmd + '--chrom_sizes {} '.format(chrom_sizes)\n",
    "            cmd = cmd + '--confidence 1 '\n",
    "            cmd = cmd + '--normalization_level 1 '\n",
    "            cmd = cmd + '--exon_offset 50 '\n",
    "            cmd = cmd + '--intron_offset 300 '\n",
    "            cmd = cmd + '--ipbam {} '.format(rep_file)\n",
    "            cmd = cmd + '--inputbam {} '.format(inp_file)\n",
    "            cmd = cmd + '--output {} '.format(out_file)\n",
    "            cmds.append(cmd)"
   ]
  },
  {
   "cell_type": "code",
   "execution_count": 120,
   "metadata": {},
   "outputs": [
    {
     "name": "stderr",
     "output_type": "stream",
     "text": [
      "Writing 25 tasks as an array-job.\n",
      "Wrote commands to /home/bay001/projects/encode/analysis/atac_intron_analysis/bash_scripts/run_atac_maps.sh.\n",
      "Submitted script to queue home-yeo.\n",
      " Job ID: 8960278\n"
     ]
    },
    {
     "data": {
      "text/plain": [
       "<qtools.submitter.Submitter at 0x2b79f24b3e10>"
      ]
     },
     "execution_count": 120,
     "metadata": {},
     "output_type": "execute_result"
    }
   ],
   "source": [
    "job_name = 'atac_introns'\n",
    "sh = '/home/bay001/projects/encode/analysis/atac_intron_analysis/bash_scripts/run_atac_maps.sh'\n",
    "Submitter(cmds, job_name=job_name, sh=sh, queue='home-yeo', array=True, submit=True)"
   ]
  },
  {
   "cell_type": "code",
   "execution_count": 110,
   "metadata": {},
   "outputs": [
    {
     "data": {
      "text/plain": [
       "['python /home/bay001/projects/codebase/rbp-maps/maps/plot_density.py --event atac --annotations /projects/ps-yeolab3/bay001/maps/current_annotations/atac_introns/262_01.gcag.txt /projects/ps-yeolab3/bay001/maps/current_annotations/atac_introns/262_01.ctgc.txt /projects/ps-yeolab3/bay001/maps/current_annotations/atac_introns/262_01.gtat.txt /projects/ps-yeolab3/bay001/maps/current_annotations/atac_introns/262_01.gtag.txt /projects/ps-yeolab3/bay001/maps/current_annotations/atac_introns/262_01.ctac.txt --annotation_type twobed twobed twobed twobed twobed --chrom_sizes /projects/ps-yeolab/genomes/hg19/hg19.chrom.sizes --confidence 1 --normalization_level 1 --exon_offset 50 --intron_offset 300 --ipbam /projects/ps-yeolab3/encode/analysis/encode_master/262_01_SLBP.merged.r2.bam --inputbam /projects/ps-yeolab3/encode/analysis/encode_master/262_INPUT_ATTCAGAA-TATAGCCT_L006_R1.unassigned.adapterTrim.round2.rmRep.rmDup.sorted.r2.bam --output /projects/ps-yeolab3/bay001/maps/current/atac_introns/262_01_SLBP.merged.r2.png ',\n",
       " 'python /home/bay001/projects/codebase/rbp-maps/maps/plot_density.py --event atac --annotations /projects/ps-yeolab3/bay001/maps/current_annotations/atac_introns/311_01.gtat.txt /projects/ps-yeolab3/bay001/maps/current_annotations/atac_introns/311_01.gcag.txt /projects/ps-yeolab3/bay001/maps/current_annotations/atac_introns/311_01.ctgc.txt /projects/ps-yeolab3/bay001/maps/current_annotations/atac_introns/311_01.gtag.txt /projects/ps-yeolab3/bay001/maps/current_annotations/atac_introns/311_01.atac.txt /projects/ps-yeolab3/bay001/maps/current_annotations/atac_introns/311_01.ctac.txt --annotation_type twobed twobed twobed twobed twobed twobed --chrom_sizes /projects/ps-yeolab/genomes/hg19/hg19.chrom.sizes --confidence 1 --normalization_level 1 --exon_offset 50 --intron_offset 300 --ipbam /projects/ps-yeolab3/encode/analysis/encode_master/311_01_XRCC6.merged.r2.bam --inputbam /projects/ps-yeolab3/encode/analysis/encode_master/311_INPUT_GAATTCGT-ATAGAGGC_L001_R1.unassigned.adapterTrim.round2.rmRep.rmDup.sorted.r2.bam --output /projects/ps-yeolab3/bay001/maps/current/atac_introns/311_01_XRCC6.merged.r2.png ',\n",
       " 'python /home/bay001/projects/codebase/rbp-maps/maps/plot_density.py --event atac --annotations /projects/ps-yeolab3/bay001/maps/current_annotations/atac_introns/311_02.ctac.txt /projects/ps-yeolab3/bay001/maps/current_annotations/atac_introns/311_02.atac.txt /projects/ps-yeolab3/bay001/maps/current_annotations/atac_introns/311_02.gtag.txt /projects/ps-yeolab3/bay001/maps/current_annotations/atac_introns/311_02.gcag.txt /projects/ps-yeolab3/bay001/maps/current_annotations/atac_introns/311_02.ctgc.txt /projects/ps-yeolab3/bay001/maps/current_annotations/atac_introns/311_02.gtat.txt --annotation_type twobed twobed twobed twobed twobed twobed --chrom_sizes /projects/ps-yeolab/genomes/hg19/hg19.chrom.sizes --confidence 1 --normalization_level 1 --exon_offset 50 --intron_offset 300 --ipbam /projects/ps-yeolab3/encode/analysis/encode_master/311_02_XRCC6.merged.r2.bam --inputbam /projects/ps-yeolab3/encode/analysis/encode_master/311_INPUT_GAATTCGT-ATAGAGGC_L001_R1.unassigned.adapterTrim.round2.rmRep.rmDup.sorted.r2.bam --output /projects/ps-yeolab3/bay001/maps/current/atac_introns/311_02_XRCC6.merged.r2.png ',\n",
       " 'python /home/bay001/projects/codebase/rbp-maps/maps/plot_density.py --event atac --annotations /projects/ps-yeolab3/bay001/maps/current_annotations/atac_introns/495_01.gtag.txt /projects/ps-yeolab3/bay001/maps/current_annotations/atac_introns/495_01.gtat.txt /projects/ps-yeolab3/bay001/maps/current_annotations/atac_introns/495_01.ctgc.txt /projects/ps-yeolab3/bay001/maps/current_annotations/atac_introns/495_01.gcag.txt /projects/ps-yeolab3/bay001/maps/current_annotations/atac_introns/495_01.atac.txt /projects/ps-yeolab3/bay001/maps/current_annotations/atac_introns/495_01.ctac.txt --annotation_type twobed twobed twobed twobed twobed twobed --chrom_sizes /projects/ps-yeolab/genomes/hg19/hg19.chrom.sizes --confidence 1 --normalization_level 1 --exon_offset 50 --intron_offset 300 --ipbam /projects/ps-yeolab3/encode/analysis/encode_master/495_01_PPIG.merged.r2.bam --inputbam /projects/ps-yeolab3/encode/analysis/encode_master/495_INPUT_S22_L003_R1_001.unassigned.adapterTrim.round2.rmRep.rmDup.sorted.r2.bam --output /projects/ps-yeolab3/bay001/maps/current/atac_introns/495_01_PPIG.merged.r2.png ',\n",
       " 'python /home/bay001/projects/codebase/rbp-maps/maps/plot_density.py --event atac --annotations /projects/ps-yeolab3/bay001/maps/current_annotations/atac_introns/495_02.ctac.txt /projects/ps-yeolab3/bay001/maps/current_annotations/atac_introns/495_02.atac.txt /projects/ps-yeolab3/bay001/maps/current_annotations/atac_introns/495_02.ctgc.txt /projects/ps-yeolab3/bay001/maps/current_annotations/atac_introns/495_02.gcag.txt /projects/ps-yeolab3/bay001/maps/current_annotations/atac_introns/495_02.gtat.txt /projects/ps-yeolab3/bay001/maps/current_annotations/atac_introns/495_02.gtag.txt --annotation_type twobed twobed twobed twobed twobed twobed --chrom_sizes /projects/ps-yeolab/genomes/hg19/hg19.chrom.sizes --confidence 1 --normalization_level 1 --exon_offset 50 --intron_offset 300 --ipbam /projects/ps-yeolab3/encode/analysis/encode_master/495_02_PPIG.merged.r2.bam --inputbam /projects/ps-yeolab3/encode/analysis/encode_master/495_INPUT_S22_L003_R1_001.unassigned.adapterTrim.round2.rmRep.rmDup.sorted.r2.bam --output /projects/ps-yeolab3/bay001/maps/current/atac_introns/495_02_PPIG.merged.r2.png ',\n",
       " 'python /home/bay001/projects/codebase/rbp-maps/maps/plot_density.py --event atac --annotations /projects/ps-yeolab3/bay001/maps/current_annotations/atac_introns/497_01.gtag.txt /projects/ps-yeolab3/bay001/maps/current_annotations/atac_introns/497_01.gcag.txt /projects/ps-yeolab3/bay001/maps/current_annotations/atac_introns/497_01.ctgc.txt /projects/ps-yeolab3/bay001/maps/current_annotations/atac_introns/497_01.gtat.txt /projects/ps-yeolab3/bay001/maps/current_annotations/atac_introns/497_01.ctac.txt /projects/ps-yeolab3/bay001/maps/current_annotations/atac_introns/497_01.atac.txt --annotation_type twobed twobed twobed twobed twobed twobed --chrom_sizes /projects/ps-yeolab/genomes/hg19/hg19.chrom.sizes --confidence 1 --normalization_level 1 --exon_offset 50 --intron_offset 300 --ipbam /projects/ps-yeolab3/encode/analysis/encode_master/497_01_BUD13.merged.r2.bam --inputbam /projects/ps-yeolab3/encode/analysis/encode_master/497_INPUT_S28_L004_R1_001.unassigned.adapterTrim.round2.rmRep.rmDup.sorted.r2.bam --output /projects/ps-yeolab3/bay001/maps/current/atac_introns/497_01_BUD13.merged.r2.png ',\n",
       " 'python /home/bay001/projects/codebase/rbp-maps/maps/plot_density.py --event atac --annotations /projects/ps-yeolab3/bay001/maps/current_annotations/atac_introns/508_01.ctac.txt /projects/ps-yeolab3/bay001/maps/current_annotations/atac_introns/508_01.atac.txt /projects/ps-yeolab3/bay001/maps/current_annotations/atac_introns/508_01.gtag.txt /projects/ps-yeolab3/bay001/maps/current_annotations/atac_introns/508_01.gcag.txt /projects/ps-yeolab3/bay001/maps/current_annotations/atac_introns/508_01.ctgc.txt /projects/ps-yeolab3/bay001/maps/current_annotations/atac_introns/508_01.gtat.txt --annotation_type twobed twobed twobed twobed twobed twobed --chrom_sizes /projects/ps-yeolab/genomes/hg19/hg19.chrom.sizes --confidence 1 --normalization_level 1 --exon_offset 50 --intron_offset 300 --ipbam /projects/ps-yeolab3/encode/analysis/encode_master/508_01_BUD13.merged.r2.bam --inputbam /projects/ps-yeolab3/encode/analysis/encode_master/508_INPUT_S32_L004_R1_001.unassigned.adapterTrim.round2.rmRep.rmDup.sorted.r2.bam --output /projects/ps-yeolab3/bay001/maps/current/atac_introns/508_01_BUD13.merged.r2.png ',\n",
       " 'python /home/bay001/projects/codebase/rbp-maps/maps/plot_density.py --event atac --annotations /projects/ps-yeolab3/bay001/maps/current_annotations/atac_introns/508_02.gtat.txt /projects/ps-yeolab3/bay001/maps/current_annotations/atac_introns/508_02.gcag.txt /projects/ps-yeolab3/bay001/maps/current_annotations/atac_introns/508_02.ctgc.txt /projects/ps-yeolab3/bay001/maps/current_annotations/atac_introns/508_02.gtag.txt /projects/ps-yeolab3/bay001/maps/current_annotations/atac_introns/508_02.atac.txt /projects/ps-yeolab3/bay001/maps/current_annotations/atac_introns/508_02.ctac.txt --annotation_type twobed twobed twobed twobed twobed twobed --chrom_sizes /projects/ps-yeolab/genomes/hg19/hg19.chrom.sizes --confidence 1 --normalization_level 1 --exon_offset 50 --intron_offset 300 --ipbam /projects/ps-yeolab3/encode/analysis/encode_master/508_02_BUD13.merged.r2.bam --inputbam /projects/ps-yeolab3/encode/analysis/encode_master/508_INPUT_S32_L004_R1_001.unassigned.adapterTrim.round2.rmRep.rmDup.sorted.r2.bam --output /projects/ps-yeolab3/bay001/maps/current/atac_introns/508_02_BUD13.merged.r2.png ',\n",
       " 'python /home/bay001/projects/codebase/rbp-maps/maps/plot_density.py --event atac --annotations /projects/ps-yeolab3/bay001/maps/current_annotations/atac_introns/537_02.gtat.txt /projects/ps-yeolab3/bay001/maps/current_annotations/atac_introns/537_02.gcag.txt /projects/ps-yeolab3/bay001/maps/current_annotations/atac_introns/537_02.ctgc.txt /projects/ps-yeolab3/bay001/maps/current_annotations/atac_introns/537_02.gtag.txt /projects/ps-yeolab3/bay001/maps/current_annotations/atac_introns/537_02.atac.txt /projects/ps-yeolab3/bay001/maps/current_annotations/atac_introns/537_02.ctac.txt --annotation_type twobed twobed twobed twobed twobed twobed --chrom_sizes /projects/ps-yeolab/genomes/hg19/hg19.chrom.sizes --confidence 1 --normalization_level 1 --exon_offset 50 --intron_offset 300 --ipbam /projects/ps-yeolab3/encode/analysis/encode_master/537_02_AGGF1.merged.r2.bam --inputbam /projects/ps-yeolab3/encode/analysis/encode_master/537_INPUT_S13_L002_R1_001.unassigned.adapterTrim.round2.rmRep.rmDup.sorted.r2.bam --output /projects/ps-yeolab3/bay001/maps/current/atac_introns/537_02_AGGF1.merged.r2.png ',\n",
       " 'python /home/bay001/projects/codebase/rbp-maps/maps/plot_density.py --event atac --annotations /projects/ps-yeolab3/bay001/maps/current_annotations/atac_introns/625_01.gtag.txt /projects/ps-yeolab3/bay001/maps/current_annotations/atac_introns/625_01.gtat.txt /projects/ps-yeolab3/bay001/maps/current_annotations/atac_introns/625_01.gcag.txt /projects/ps-yeolab3/bay001/maps/current_annotations/atac_introns/625_01.ctgc.txt /projects/ps-yeolab3/bay001/maps/current_annotations/atac_introns/625_01.atac.txt /projects/ps-yeolab3/bay001/maps/current_annotations/atac_introns/625_01.ctac.txt --annotation_type twobed twobed twobed twobed twobed twobed --chrom_sizes /projects/ps-yeolab/genomes/hg19/hg19.chrom.sizes --confidence 1 --normalization_level 1 --exon_offset 50 --intron_offset 300 --ipbam /projects/ps-yeolab3/encode/analysis/encode_master/625_01_EIF3D.merged.r2.bam --inputbam /projects/ps-yeolab3/encode/analysis/encode_master/625_INPUT_S8_L004_R1_001.unassigned.adapterTrim.round2.rmRep.rmDup.sorted.r2.bam --output /projects/ps-yeolab3/bay001/maps/current/atac_introns/625_01_EIF3D.merged.r2.png ',\n",
       " 'python /home/bay001/projects/codebase/rbp-maps/maps/plot_density.py --event atac --annotations /projects/ps-yeolab3/bay001/maps/current_annotations/atac_introns/625_02.ctac.txt /projects/ps-yeolab3/bay001/maps/current_annotations/atac_introns/625_02.atac.txt /projects/ps-yeolab3/bay001/maps/current_annotations/atac_introns/625_02.gcag.txt /projects/ps-yeolab3/bay001/maps/current_annotations/atac_introns/625_02.ctgc.txt /projects/ps-yeolab3/bay001/maps/current_annotations/atac_introns/625_02.gtat.txt /projects/ps-yeolab3/bay001/maps/current_annotations/atac_introns/625_02.gtag.txt --annotation_type twobed twobed twobed twobed twobed twobed --chrom_sizes /projects/ps-yeolab/genomes/hg19/hg19.chrom.sizes --confidence 1 --normalization_level 1 --exon_offset 50 --intron_offset 300 --ipbam /projects/ps-yeolab3/encode/analysis/encode_master/625_02_EIF3D.merged.r2.bam --inputbam /projects/ps-yeolab3/encode/analysis/encode_master/625_INPUT_S8_L004_R1_001.unassigned.adapterTrim.round2.rmRep.rmDup.sorted.r2.bam --output /projects/ps-yeolab3/bay001/maps/current/atac_introns/625_02_EIF3D.merged.r2.png ',\n",
       " 'python /home/bay001/projects/codebase/rbp-maps/maps/plot_density.py --event atac --annotations /projects/ps-yeolab3/bay001/maps/current_annotations/atac_introns/626_01.ctac.txt /projects/ps-yeolab3/bay001/maps/current_annotations/atac_introns/626_01.atac.txt /projects/ps-yeolab3/bay001/maps/current_annotations/atac_introns/626_01.gcag.txt /projects/ps-yeolab3/bay001/maps/current_annotations/atac_introns/626_01.ctgc.txt /projects/ps-yeolab3/bay001/maps/current_annotations/atac_introns/626_01.gtat.txt /projects/ps-yeolab3/bay001/maps/current_annotations/atac_introns/626_01.gtag.txt --annotation_type twobed twobed twobed twobed twobed twobed --chrom_sizes /projects/ps-yeolab/genomes/hg19/hg19.chrom.sizes --confidence 1 --normalization_level 1 --exon_offset 50 --intron_offset 300 --ipbam /projects/ps-yeolab3/encode/analysis/encode_master/626_01_EIF4B.merged.r2.bam --inputbam /projects/ps-yeolab3/encode/analysis/encode_master/626_INPUT_S14_L005_R1_001.unassigned.adapterTrim.round2.rmRep.rmDup.sorted.r2.bam --output /projects/ps-yeolab3/bay001/maps/current/atac_introns/626_01_EIF4B.merged.r2.png ',\n",
       " 'python /home/bay001/projects/codebase/rbp-maps/maps/plot_density.py --event atac --annotations /projects/ps-yeolab3/bay001/maps/current_annotations/atac_introns/626_02.gtag.txt /projects/ps-yeolab3/bay001/maps/current_annotations/atac_introns/626_02.gtat.txt /projects/ps-yeolab3/bay001/maps/current_annotations/atac_introns/626_02.gcag.txt /projects/ps-yeolab3/bay001/maps/current_annotations/atac_introns/626_02.ctgc.txt /projects/ps-yeolab3/bay001/maps/current_annotations/atac_introns/626_02.atac.txt /projects/ps-yeolab3/bay001/maps/current_annotations/atac_introns/626_02.ctac.txt --annotation_type twobed twobed twobed twobed twobed twobed --chrom_sizes /projects/ps-yeolab/genomes/hg19/hg19.chrom.sizes --confidence 1 --normalization_level 1 --exon_offset 50 --intron_offset 300 --ipbam /projects/ps-yeolab3/encode/analysis/encode_master/626_02_EIF4B.merged.r2.bam --inputbam /projects/ps-yeolab3/encode/analysis/encode_master/626_INPUT_S14_L005_R1_001.unassigned.adapterTrim.round2.rmRep.rmDup.sorted.r2.bam --output /projects/ps-yeolab3/bay001/maps/current/atac_introns/626_02_EIF4B.merged.r2.png ',\n",
       " 'python /home/bay001/projects/codebase/rbp-maps/maps/plot_density.py --event atac --annotations /projects/ps-yeolab3/bay001/maps/current_annotations/atac_introns/628_01.gtag.txt /projects/ps-yeolab3/bay001/maps/current_annotations/atac_introns/628_01.ctgc.txt /projects/ps-yeolab3/bay001/maps/current_annotations/atac_introns/628_01.gcag.txt /projects/ps-yeolab3/bay001/maps/current_annotations/atac_introns/628_01.gtat.txt /projects/ps-yeolab3/bay001/maps/current_annotations/atac_introns/628_01.ctac.txt /projects/ps-yeolab3/bay001/maps/current_annotations/atac_introns/628_01.atac.txt --annotation_type twobed twobed twobed twobed twobed twobed --chrom_sizes /projects/ps-yeolab/genomes/hg19/hg19.chrom.sizes --confidence 1 --normalization_level 1 --exon_offset 50 --intron_offset 300 --ipbam /projects/ps-yeolab3/encode/analysis/encode_master/628_01_GRWD1.merged.r2.bam --inputbam /projects/ps-yeolab3/encode/analysis/encode_master/628_INPUT_S16_L005_R1_001.unassigned.adapterTrim.round2.rmRep.rmDup.sorted.r2.bam --output /projects/ps-yeolab3/bay001/maps/current/atac_introns/628_01_GRWD1.merged.r2.png ',\n",
       " 'python /home/bay001/projects/codebase/rbp-maps/maps/plot_density.py --event atac --annotations /projects/ps-yeolab3/bay001/maps/current_annotations/atac_introns/628_02.atac.txt /projects/ps-yeolab3/bay001/maps/current_annotations/atac_introns/628_02.ctac.txt /projects/ps-yeolab3/bay001/maps/current_annotations/atac_introns/628_02.gtat.txt /projects/ps-yeolab3/bay001/maps/current_annotations/atac_introns/628_02.ctgc.txt /projects/ps-yeolab3/bay001/maps/current_annotations/atac_introns/628_02.gcag.txt /projects/ps-yeolab3/bay001/maps/current_annotations/atac_introns/628_02.gtag.txt --annotation_type twobed twobed twobed twobed twobed twobed --chrom_sizes /projects/ps-yeolab/genomes/hg19/hg19.chrom.sizes --confidence 1 --normalization_level 1 --exon_offset 50 --intron_offset 300 --ipbam /projects/ps-yeolab3/encode/analysis/encode_master/628_02_GRWD1.merged.r2.bam --inputbam /projects/ps-yeolab3/encode/analysis/encode_master/628_INPUT_S16_L005_R1_001.unassigned.adapterTrim.round2.rmRep.rmDup.sorted.r2.bam --output /projects/ps-yeolab3/bay001/maps/current/atac_introns/628_02_GRWD1.merged.r2.png ',\n",
       " 'python /home/bay001/projects/codebase/rbp-maps/maps/plot_density.py --event atac --annotations /projects/ps-yeolab3/bay001/maps/current_annotations/atac_introns/570_01.gtag.txt /projects/ps-yeolab3/bay001/maps/current_annotations/atac_introns/570_01.gcag.txt /projects/ps-yeolab3/bay001/maps/current_annotations/atac_introns/570_01.ctgc.txt /projects/ps-yeolab3/bay001/maps/current_annotations/atac_introns/570_01.gtat.txt /projects/ps-yeolab3/bay001/maps/current_annotations/atac_introns/570_01.ctac.txt /projects/ps-yeolab3/bay001/maps/current_annotations/atac_introns/570_01.atac.txt --annotation_type twobed twobed twobed twobed twobed twobed --chrom_sizes /projects/ps-yeolab/genomes/hg19/hg19.chrom.sizes --confidence 1 --normalization_level 1 --exon_offset 50 --intron_offset 300 --ipbam /projects/ps-yeolab3/encode/analysis/encode_master/570_01_ZNF622.merged.r2.bam --inputbam /projects/ps-yeolab3/encode/analysis/encode_master/570_INPUT_S4_L001_R1_001.unassigned.adapterTrim.round2.rmRep.rmDup.sorted.r2.bam --output /projects/ps-yeolab3/bay001/maps/current/atac_introns/570_01_ZNF622.merged.r2.png ',\n",
       " 'python /home/bay001/projects/codebase/rbp-maps/maps/plot_density.py --event atac --annotations /projects/ps-yeolab3/bay001/maps/current_annotations/atac_introns/570_02.atac.txt /projects/ps-yeolab3/bay001/maps/current_annotations/atac_introns/570_02.ctac.txt /projects/ps-yeolab3/bay001/maps/current_annotations/atac_introns/570_02.gtat.txt /projects/ps-yeolab3/bay001/maps/current_annotations/atac_introns/570_02.gcag.txt /projects/ps-yeolab3/bay001/maps/current_annotations/atac_introns/570_02.ctgc.txt /projects/ps-yeolab3/bay001/maps/current_annotations/atac_introns/570_02.gtag.txt --annotation_type twobed twobed twobed twobed twobed twobed --chrom_sizes /projects/ps-yeolab/genomes/hg19/hg19.chrom.sizes --confidence 1 --normalization_level 1 --exon_offset 50 --intron_offset 300 --ipbam /projects/ps-yeolab3/encode/analysis/encode_master/570_02_ZNF622.merged.r2.bam --inputbam /projects/ps-yeolab3/encode/analysis/encode_master/570_INPUT_S4_L001_R1_001.unassigned.adapterTrim.round2.rmRep.rmDup.sorted.r2.bam --output /projects/ps-yeolab3/bay001/maps/current/atac_introns/570_02_ZNF622.merged.r2.png ',\n",
       " 'python /home/bay001/projects/codebase/rbp-maps/maps/plot_density.py --event atac --annotations /projects/ps-yeolab3/bay001/maps/current_annotations/atac_introns/551_01.ctac.txt /projects/ps-yeolab3/bay001/maps/current_annotations/atac_introns/551_01.atac.txt /projects/ps-yeolab3/bay001/maps/current_annotations/atac_introns/551_01.gcag.txt /projects/ps-yeolab3/bay001/maps/current_annotations/atac_introns/551_01.ctgc.txt /projects/ps-yeolab3/bay001/maps/current_annotations/atac_introns/551_01.gtat.txt /projects/ps-yeolab3/bay001/maps/current_annotations/atac_introns/551_01.gtag.txt --annotation_type twobed twobed twobed twobed twobed twobed --chrom_sizes /projects/ps-yeolab/genomes/hg19/hg19.chrom.sizes --confidence 1 --normalization_level 1 --exon_offset 50 --intron_offset 300 --ipbam /projects/ps-yeolab3/encode/analysis/encode_master/551_01_YBX3.merged.r2.bam --inputbam /projects/ps-yeolab3/encode/analysis/encode_master/551_INPUT_S28_L003_R1_001.unassigned.adapterTrim.round2.rmRep.rmDup.sorted.r2.bam --output /projects/ps-yeolab3/bay001/maps/current/atac_introns/551_01_YBX3.merged.r2.png ',\n",
       " 'python /home/bay001/projects/codebase/rbp-maps/maps/plot_density.py --event atac --annotations /projects/ps-yeolab3/bay001/maps/current_annotations/atac_introns/551_02.gtag.txt /projects/ps-yeolab3/bay001/maps/current_annotations/atac_introns/551_02.gtat.txt /projects/ps-yeolab3/bay001/maps/current_annotations/atac_introns/551_02.gcag.txt /projects/ps-yeolab3/bay001/maps/current_annotations/atac_introns/551_02.ctgc.txt /projects/ps-yeolab3/bay001/maps/current_annotations/atac_introns/551_02.atac.txt /projects/ps-yeolab3/bay001/maps/current_annotations/atac_introns/551_02.ctac.txt --annotation_type twobed twobed twobed twobed twobed twobed --chrom_sizes /projects/ps-yeolab/genomes/hg19/hg19.chrom.sizes --confidence 1 --normalization_level 1 --exon_offset 50 --intron_offset 300 --ipbam /projects/ps-yeolab3/encode/analysis/encode_master/551_02_YBX3.merged.r2.bam --inputbam /projects/ps-yeolab3/encode/analysis/encode_master/551_INPUT_S28_L003_R1_001.unassigned.adapterTrim.round2.rmRep.rmDup.sorted.r2.bam --output /projects/ps-yeolab3/bay001/maps/current/atac_introns/551_02_YBX3.merged.r2.png ',\n",
       " 'python /home/bay001/projects/codebase/rbp-maps/maps/plot_density.py --event atac --annotations /projects/ps-yeolab3/bay001/maps/current_annotations/atac_introns/629_01.ctac.txt /projects/ps-yeolab3/bay001/maps/current_annotations/atac_introns/629_01.atac.txt /projects/ps-yeolab3/bay001/maps/current_annotations/atac_introns/629_01.gcag.txt /projects/ps-yeolab3/bay001/maps/current_annotations/atac_introns/629_01.ctgc.txt /projects/ps-yeolab3/bay001/maps/current_annotations/atac_introns/629_01.gtat.txt /projects/ps-yeolab3/bay001/maps/current_annotations/atac_introns/629_01.gtag.txt --annotation_type twobed twobed twobed twobed twobed twobed --chrom_sizes /projects/ps-yeolab/genomes/hg19/hg19.chrom.sizes --confidence 1 --normalization_level 1 --exon_offset 50 --intron_offset 300 --ipbam /projects/ps-yeolab3/encode/analysis/encode_master/629_01_UCHL5.merged.r2.bam --inputbam /projects/ps-yeolab3/encode/analysis/encode_master/629_INPUT_S22_L005_R1_001.unassigned.adapterTrim.round2.rmRep.rmDup.sorted.r2.bam --output /projects/ps-yeolab3/bay001/maps/current/atac_introns/629_01_UCHL5.merged.r2.png ',\n",
       " 'python /home/bay001/projects/codebase/rbp-maps/maps/plot_density.py --event atac --annotations /projects/ps-yeolab3/bay001/maps/current_annotations/atac_introns/629_02.gtag.txt /projects/ps-yeolab3/bay001/maps/current_annotations/atac_introns/629_02.gtat.txt /projects/ps-yeolab3/bay001/maps/current_annotations/atac_introns/629_02.gcag.txt /projects/ps-yeolab3/bay001/maps/current_annotations/atac_introns/629_02.ctgc.txt /projects/ps-yeolab3/bay001/maps/current_annotations/atac_introns/629_02.atac.txt /projects/ps-yeolab3/bay001/maps/current_annotations/atac_introns/629_02.ctac.txt --annotation_type twobed twobed twobed twobed twobed twobed --chrom_sizes /projects/ps-yeolab/genomes/hg19/hg19.chrom.sizes --confidence 1 --normalization_level 1 --exon_offset 50 --intron_offset 300 --ipbam /projects/ps-yeolab3/encode/analysis/encode_master/629_02_UCHL5.merged.r2.bam --inputbam /projects/ps-yeolab3/encode/analysis/encode_master/629_INPUT_S22_L005_R1_001.unassigned.adapterTrim.round2.rmRep.rmDup.sorted.r2.bam --output /projects/ps-yeolab3/bay001/maps/current/atac_introns/629_02_UCHL5.merged.r2.png ',\n",
       " 'python /home/bay001/projects/codebase/rbp-maps/maps/plot_density.py --event atac --annotations /projects/ps-yeolab3/bay001/maps/current_annotations/atac_introns/610_01.atac.txt /projects/ps-yeolab3/bay001/maps/current_annotations/atac_introns/610_01.ctac.txt /projects/ps-yeolab3/bay001/maps/current_annotations/atac_introns/610_01.gtag.txt /projects/ps-yeolab3/bay001/maps/current_annotations/atac_introns/610_01.gtat.txt /projects/ps-yeolab3/bay001/maps/current_annotations/atac_introns/610_01.ctgc.txt /projects/ps-yeolab3/bay001/maps/current_annotations/atac_introns/610_01.gcag.txt --annotation_type twobed twobed twobed twobed twobed twobed --chrom_sizes /projects/ps-yeolab/genomes/hg19/hg19.chrom.sizes --confidence 1 --normalization_level 1 --exon_offset 50 --intron_offset 300 --ipbam /projects/ps-yeolab3/encode/analysis/encode_master/610_01_UCHL5.merged.r2.bam --inputbam /projects/ps-yeolab3/encode/analysis/encode_master/610_INPUT_S14_L002_R1_001.unassigned.adapterTrim.round2.rmRep.rmDup.sorted.r2.bam --output /projects/ps-yeolab3/bay001/maps/current/atac_introns/610_01_UCHL5.merged.r2.png ',\n",
       " 'python /home/bay001/projects/codebase/rbp-maps/maps/plot_density.py --event atac --annotations /projects/ps-yeolab3/bay001/maps/current_annotations/atac_introns/610_02.ctgc.txt /projects/ps-yeolab3/bay001/maps/current_annotations/atac_introns/610_02.gcag.txt /projects/ps-yeolab3/bay001/maps/current_annotations/atac_introns/610_02.gtat.txt /projects/ps-yeolab3/bay001/maps/current_annotations/atac_introns/610_02.gtag.txt /projects/ps-yeolab3/bay001/maps/current_annotations/atac_introns/610_02.ctac.txt /projects/ps-yeolab3/bay001/maps/current_annotations/atac_introns/610_02.atac.txt --annotation_type twobed twobed twobed twobed twobed twobed --chrom_sizes /projects/ps-yeolab/genomes/hg19/hg19.chrom.sizes --confidence 1 --normalization_level 1 --exon_offset 50 --intron_offset 300 --ipbam /projects/ps-yeolab3/encode/analysis/encode_master/610_02_UCHL5.merged.r2.bam --inputbam /projects/ps-yeolab3/encode/analysis/encode_master/610_INPUT_S14_L002_R1_001.unassigned.adapterTrim.round2.rmRep.rmDup.sorted.r2.bam --output /projects/ps-yeolab3/bay001/maps/current/atac_introns/610_02_UCHL5.merged.r2.png ',\n",
       " 'python /home/bay001/projects/codebase/rbp-maps/maps/plot_density.py --event atac --annotations /projects/ps-yeolab3/bay001/maps/current_annotations/atac_introns/649_01.atac.txt /projects/ps-yeolab3/bay001/maps/current_annotations/atac_introns/649_01.ctac.txt /projects/ps-yeolab3/bay001/maps/current_annotations/atac_introns/649_01.gtat.txt /projects/ps-yeolab3/bay001/maps/current_annotations/atac_introns/649_01.ctgc.txt /projects/ps-yeolab3/bay001/maps/current_annotations/atac_introns/649_01.gcag.txt /projects/ps-yeolab3/bay001/maps/current_annotations/atac_introns/649_01.gtag.txt --annotation_type twobed twobed twobed twobed twobed twobed --chrom_sizes /projects/ps-yeolab/genomes/hg19/hg19.chrom.sizes --confidence 1 --normalization_level 1 --exon_offset 50 --intron_offset 300 --ipbam /projects/ps-yeolab3/encode/analysis/encode_master/649_01_FASTKD2.merged.r2.bam --inputbam /projects/ps-yeolab3/encode/analysis/encode_master/649_INPUT_S16_L002_R1_001.unassigned.adapterTrim.round2.rmRep.rmDup.sorted.r2.bam --output /projects/ps-yeolab3/bay001/maps/current/atac_introns/649_01_FASTKD2.merged.r2.png ',\n",
       " 'python /home/bay001/projects/codebase/rbp-maps/maps/plot_density.py --event atac --annotations /projects/ps-yeolab3/bay001/maps/current_annotations/atac_introns/676_01.atac.txt /projects/ps-yeolab3/bay001/maps/current_annotations/atac_introns/676_01.ctac.txt /projects/ps-yeolab3/bay001/maps/current_annotations/atac_introns/676_01.gtat.txt /projects/ps-yeolab3/bay001/maps/current_annotations/atac_introns/676_01.ctgc.txt /projects/ps-yeolab3/bay001/maps/current_annotations/atac_introns/676_01.gcag.txt /projects/ps-yeolab3/bay001/maps/current_annotations/atac_introns/676_01.gtag.txt --annotation_type twobed twobed twobed twobed twobed twobed --chrom_sizes /projects/ps-yeolab/genomes/hg19/hg19.chrom.sizes --confidence 1 --normalization_level 1 --exon_offset 50 --intron_offset 300 --ipbam /projects/ps-yeolab3/encode/analysis/encode_master/676_01_RBFOX2.merged.r2.bam --inputbam /projects/ps-yeolab3/encode/analysis/encode_master/676_INPUT_S64_L006_R1_001.unassigned.adapterTrim.round2.rmRep.rmDup.sorted.r2.bam --output /projects/ps-yeolab3/bay001/maps/current/atac_introns/676_01_RBFOX2.merged.r2.png ']"
      ]
     },
     "execution_count": 110,
     "metadata": {},
     "output_type": "execute_result"
    }
   ],
   "source": [
    "cmds"
   ]
  },
  {
   "cell_type": "code",
   "execution_count": 115,
   "metadata": {},
   "outputs": [],
   "source": [
    "df = pd.read_table(\n",
    "    '/home/bay001/projects/encode/analysis/atac_intron_analysis/SJout/262_CLIP_GAGATTCC-TATAGCCT_L006_R1.A01_262_01_SLBP.adapterTrim.round2.rmRep.bamSJ.out.tab',\n",
    "    names=['chrom','start','stop','strand','motif','annotated','uniq','mm','max']\n",
    ")"
   ]
  },
  {
   "cell_type": "code",
   "execution_count": 117,
   "metadata": {},
   "outputs": [
    {
     "data": {
      "text/html": [
       "<div>\n",
       "<table border=\"1\" class=\"dataframe\">\n",
       "  <thead>\n",
       "    <tr style=\"text-align: right;\">\n",
       "      <th></th>\n",
       "      <th>chrom</th>\n",
       "      <th>start</th>\n",
       "      <th>stop</th>\n",
       "      <th>strand</th>\n",
       "      <th>motif</th>\n",
       "      <th>annotated</th>\n",
       "      <th>uniq</th>\n",
       "      <th>mm</th>\n",
       "      <th>max</th>\n",
       "    </tr>\n",
       "  </thead>\n",
       "  <tbody>\n",
       "  </tbody>\n",
       "</table>\n",
       "</div>"
      ],
      "text/plain": [
       "Empty DataFrame\n",
       "Columns: [chrom, start, stop, strand, motif, annotated, uniq, mm, max]\n",
       "Index: []"
      ]
     },
     "execution_count": 117,
     "metadata": {},
     "output_type": "execute_result"
    }
   ],
   "source": [
    "df[df['motif']==5]"
   ]
  },
  {
   "cell_type": "code",
   "execution_count": null,
   "metadata": {
    "collapsed": true
   },
   "outputs": [],
   "source": []
  }
 ],
 "metadata": {
  "kernelspec": {
   "display_name": "Python 2",
   "language": "python",
   "name": "python2"
  },
  "language_info": {
   "codemirror_mode": {
    "name": "ipython",
    "version": 2
   },
   "file_extension": ".py",
   "mimetype": "text/x-python",
   "name": "python",
   "nbconvert_exporter": "python",
   "pygments_lexer": "ipython2",
   "version": "2.7.13"
  }
 },
 "nbformat": 4,
 "nbformat_minor": 2
}
