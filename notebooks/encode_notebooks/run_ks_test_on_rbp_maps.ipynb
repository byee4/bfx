{
 "cells": [
  {
   "cell_type": "markdown",
   "metadata": {},
   "source": [
    "# Wrapper notebook for calling ks_plots script which runs ks test on \n",
    "- HepG2 constitutive introns hepg2_brenton-graveley_ambiguous_bams_for_integrated_analysis.txt.95spliced_all_20170401\n",
    "\n",
    "- HepG2 retained introns (all) hepg2_brenton-graveley_ambiguous_bams_for_integrated_analysis.txt.nRI_0.5_all_20170401\n",
    "\n",
    "- HepG2 retained introns (>66% spliced) hepg2_brenton-graveley_ambiguous_bams_for_integrated_analysis.txt.nsplicedRI_0.5_all_20170401\n",
    "- HepG2 retained introns (<33% spliced) hepg2_brenton-graveley_ambiguous_bams_for_integrated_analysis.txt.nunsplicedRI_0.5_all_20170401\n",
    "\n",
    "- K562 constitutive introns k562_brenton-graveley_ambiguous_bams_for_integrated_analysis.txt.95spliced_all_20170401\n",
    "- K562 retained introns (all) k562_brenton-graveley_ambiguous_bams_for_integrated_analysis.txt.nRI_0.5_all_20170401\n",
    "- K562 retained introns (>66% spliced) k562_brenton-graveley_ambiguous_bams_for_integrated_analysis.txt.nsplicedRI_0.5_all_20170401\n",
    "- K562 retained introns (<33% spliced) k562_brenton-graveley_ambiguous_bams_for_integrated_analysis.txt.nunsplicedRI_0.5_all_20170401"
   ]
  },
  {
   "cell_type": "code",
   "execution_count": 1,
   "metadata": {
    "collapsed": true
   },
   "outputs": [],
   "source": [
    "import pandas as pd\n",
    "import numpy as np\n",
    "import os\n",
    "import glob\n",
    "from tqdm import tnrange, tqdm_notebook"
   ]
  },
  {
   "cell_type": "code",
   "execution_count": 2,
   "metadata": {
    "collapsed": true
   },
   "outputs": [],
   "source": [
    "runner = '/home/bay001/projects/codebase/rbp-maps/maps/analysis/ks_plots.py'"
   ]
  },
  {
   "cell_type": "code",
   "execution_count": 3,
   "metadata": {
    "collapsed": true
   },
   "outputs": [],
   "source": [
    "def get_prefix(f):\n",
    "    return os.path.basename(f).split('.')[0]"
   ]
  },
  {
   "cell_type": "code",
   "execution_count": 4,
   "metadata": {
    "collapsed": true
   },
   "outputs": [],
   "source": [
    "def run_a3ss_ks_tests():\n",
    "    input_directory = '/projects/ps-yeolab3/bay001/maps/current/a3ss_nr/'\n",
    "    all_positives = glob.glob(os.path.join(input_directory,\"*-longer-isoform-included-upon-knockdown.normalize_and_per_region_subtract.csv\"))\n",
    "    progress = tnrange(len(all_positives))\n",
    "\n",
    "    for p in all_positives:\n",
    "        try:\n",
    "            if \"HepG2\" in p:\n",
    "                cell = 'HepG2'\n",
    "            elif \"K562\" in p:\n",
    "                cell = 'K562'\n",
    "            else:\n",
    "                print(\"Warning, cell not found. defaulting to HepG2\")\n",
    "                cell = 'HepG2'\n",
    "            n = glob.glob(\n",
    "                os.path.join(\n",
    "                    os.path.dirname(p),\n",
    "                    \"{}*{}*-shorter-isoform-included-upon-knockdown.normalize_and_per_region_subtract.csv\".format(get_prefix(p), cell)\n",
    "                )\n",
    "            )[0]\n",
    "            c = glob.glob(\n",
    "                os.path.join(\n",
    "                    os.path.dirname(p),\n",
    "                    \"{}*{}*-mixed-psi-isoform-in-majority-of-controls.normalize_and_per_region_subtract.csv\".format(get_prefix(p), cell)\n",
    "                )\n",
    "            )[0]\n",
    "            output_d_file = os.path.join(os.path.dirname(p), 'ks/{}.ks_nl10dvalues.txt'.format(get_prefix(p)))\n",
    "            output_p_file = os.path.join(os.path.dirname(p), 'ks/{}.ks_nl10pvalues.txt'.format(get_prefix(p)))\n",
    "            for condition in [p, n]:\n",
    "                cmd = 'python {} '.format(runner)\n",
    "                cmd = cmd + '--input {} '.format(condition)\n",
    "                cmd = cmd + '--control {} '.format(c)\n",
    "                cmd = cmd + '--p-output {} '.format(output_p_file)\n",
    "                cmd = cmd + '--d-output {} '.format(output_d_file)\n",
    "                if not os.path.exists(output_p_file):\n",
    "                    ! $cmd\n",
    "        except Exception as e:\n",
    "            print(e, p)\n",
    "        progress.update(1)"
   ]
  },
  {
   "cell_type": "code",
   "execution_count": 5,
   "metadata": {},
   "outputs": [
    {
     "data": {
      "application/vnd.jupyter.widget-view+json": {
       "model_id": "66bd90341e4a4864bef426ebc9cd1b28"
      }
     },
     "metadata": {},
     "output_type": "display_data"
    }
   ],
   "source": [
    "run_a3ss_ks_tests()"
   ]
  },
  {
   "cell_type": "code",
   "execution_count": 6,
   "metadata": {},
   "outputs": [
    {
     "data": {
      "application/vnd.jupyter.widget-view+json": {
       "model_id": "7644e23f99b942498bccca17ecf69828"
      }
     },
     "metadata": {},
     "output_type": "display_data"
    },
    {
     "name": "stdout",
     "output_type": "stream",
     "text": [
      "\n"
     ]
    }
   ],
   "source": [
    "def run_a5ss_ks_tests():\n",
    "    input_directory = '/projects/ps-yeolab3/bay001/maps/current/a5ss_nr/'\n",
    "    all_positives = glob.glob(os.path.join(input_directory,\"*-longer-isoform-included-upon-knockdown.normalize_and_per_region_subtract.csv\"))\n",
    "    progress = tnrange(len(all_positives))\n",
    "    for p in all_positives:\n",
    "        try:\n",
    "            if \"HepG2\" in p:\n",
    "                cell = 'HepG2'\n",
    "            elif \"K562\" in p:\n",
    "                cell = 'K562'\n",
    "            else:\n",
    "                print(\"Warning, cell not found. defaulting to HepG2\")\n",
    "                cell = 'HepG2'\n",
    "            n = glob.glob(\n",
    "                os.path.join(\n",
    "                    os.path.dirname(p),\n",
    "                    \"{}*{}*-shorter-isoform-included-upon-knockdown.normalize_and_per_region_subtract.csv\".format(get_prefix(p), cell)\n",
    "                )\n",
    "            )[0]\n",
    "            c = glob.glob(\n",
    "                os.path.join(\n",
    "                    os.path.dirname(p),\n",
    "                    \"{}*{}*-mixed-psi-isoform-in-majority-of-controls.normalize_and_per_region_subtract.csv\".format(get_prefix(p), cell)\n",
    "                )\n",
    "            )[0]\n",
    "            output_d_file = os.path.join(os.path.dirname(p), 'ks/{}.ks_nl10dvalues.txt'.format(get_prefix(p)))\n",
    "            output_p_file = os.path.join(os.path.dirname(p), 'ks/{}.ks_nl10pvalues.txt'.format(get_prefix(p)))\n",
    "            for condition in [p, n]:\n",
    "                cmd = 'python {} '.format(runner)\n",
    "                cmd = cmd + '--input {} '.format(condition)\n",
    "                cmd = cmd + '--control {} '.format(c)\n",
    "                cmd = cmd + '--p-output {} '.format(output_p_file)\n",
    "                cmd = cmd + '--d-output {} '.format(output_d_file)\n",
    "                if not os.path.exists(output_p_file):\n",
    "                    ! $cmd\n",
    "        except Exception as e:\n",
    "            print(e, p)\n",
    "        progress.update(1)\n"
   ]
  },
  {
   "cell_type": "code",
   "execution_count": null,
   "metadata": {
    "collapsed": true
   },
   "outputs": [],
   "source": [
    "run_a5ss_ks_tests()"
   ]
  },
  {
   "cell_type": "code",
   "execution_count": 7,
   "metadata": {},
   "outputs": [
    {
     "data": {
      "application/vnd.jupyter.widget-view+json": {
       "model_id": "f1afc735a4e540a8be1b557f1652b497"
      }
     },
     "metadata": {},
     "output_type": "display_data"
    }
   ],
   "source": [
    "def run_ri_ks_tests():\n",
    "    input_directory = '/projects/ps-yeolab3/bay001/maps/current/ri_nr/'\n",
    "    all_positives = glob.glob(os.path.join(input_directory,\"*-included-upon-knockdown.normalize_and_per_region_subtract.csv\"))\n",
    "    progress = tnrange(len(all_positives))\n",
    "    for p in all_positives:\n",
    "        try:\n",
    "            if \"HepG2\" in p:\n",
    "                cell = 'HepG2'\n",
    "            elif \"K562\" in p:\n",
    "                cell = 'K562'\n",
    "            else:\n",
    "                print(\"Warning, cell not found. defaulting to HepG2\")\n",
    "                cell = 'HepG2'\n",
    "            n = glob.glob(\n",
    "                os.path.join(\n",
    "                    os.path.dirname(p),\n",
    "                    \"{}*{}*-excluded-upon-knockdown.normalize_and_per_region_subtract.csv\".format(get_prefix(p), cell)\n",
    "                )\n",
    "            )[0]\n",
    "            c = glob.glob(\n",
    "                os.path.join(\n",
    "                    os.path.dirname(p),\n",
    "                    \"{}*-greater-than-50-percent-retained-and-spliced-combined.normalize_and_per_region_subtract.csv\".format(get_prefix(p))\n",
    "                )\n",
    "            )[0]\n",
    "            output_d_file = os.path.join(os.path.dirname(p), 'ks/{}.ks_nl10dvalues.txt'.format(get_prefix(p)))\n",
    "            output_p_file = os.path.join(os.path.dirname(p), 'ks/{}.ks_nl10pvalues.txt'.format(get_prefix(p)))\n",
    "            for condition in [p, n]:\n",
    "                cmd = 'python {} '.format(runner)\n",
    "                cmd = cmd + '--input {} '.format(condition)\n",
    "                cmd = cmd + '--control {} '.format(c)\n",
    "                cmd = cmd + '--p-output {} '.format(output_p_file)\n",
    "                cmd = cmd + '--d-output {} '.format(output_d_file)\n",
    "                if not os.path.exists(output_p_file):\n",
    "                    ! $cmd\n",
    "        except Exception as e:\n",
    "            print(e, p)\n",
    "        progress.update(1)\n"
   ]
  },
  {
   "cell_type": "code",
   "execution_count": null,
   "metadata": {
    "collapsed": true
   },
   "outputs": [],
   "source": [
    "run_ri_ks_tests()"
   ]
  },
  {
   "cell_type": "code",
   "execution_count": 8,
   "metadata": {},
   "outputs": [
    {
     "data": {
      "application/vnd.jupyter.widget-view+json": {
       "model_id": "c403e0d487a5453f91a41e1720942efa"
      }
     },
     "metadata": {},
     "output_type": "display_data"
    },
    {
     "name": "stdout",
     "output_type": "stream",
     "text": [
      "\r",
      "          \r",
      "213/|/ 71%|| 213/302 [00:36<00:52,  1.68it/s]"
     ]
    }
   ],
   "source": [
    "def run_se_ks_tests():\n",
    "    input_directory = '/projects/ps-yeolab3/bay001/maps/current/se_nr/'\n",
    "    all_positives = glob.glob(os.path.join(input_directory,\"*.positive.nr.normalize_and_per_region_subtract.csv\"))\n",
    "    progress = tnrange(len(all_positives))\n",
    "    for p in all_positives:\n",
    "        try:\n",
    "            if \"HepG2\" in p:\n",
    "                cell = 'HepG2'\n",
    "            elif \"K562\" in p:\n",
    "                cell = 'K562'\n",
    "            else:\n",
    "                print(\"Warning, cell not found. defaulting to HepG2\")\n",
    "                cell = 'HepG2'\n",
    "            n = glob.glob(\n",
    "                os.path.join(\n",
    "                    os.path.dirname(p),\n",
    "                    \"{}*{}*.negative.nr.normalize_and_per_region_subtract.csv\".format(get_prefix(p), cell)\n",
    "                )\n",
    "            )[0]\n",
    "            c = glob.glob(\n",
    "                os.path.join(\n",
    "                    os.path.dirname(p),\n",
    "                    # \"{}*{}*.nSE_0.5.normalize_and_per_region_subtract.csv\".format(get_prefix(p), cell) # this was renamed somehow\n",
    "                    \"{}*{}*.nSEall_0.normalize_and_per_region_subtract.csv\".format(get_prefix(p), cell.lower())\n",
    "                )\n",
    "            )[0]\n",
    "            \n",
    "            output_d_file = os.path.join(os.path.dirname(p), 'ks/{}.ks_nl10dvalues.txt'.format(get_prefix(p)))\n",
    "            output_p_file = os.path.join(os.path.dirname(p), 'ks/{}.ks_nl10pvalues.txt'.format(get_prefix(p)))\n",
    "            for condition in [p, n]:\n",
    "                cmd = 'python {} '.format(runner)\n",
    "                cmd = cmd + '--input {} '.format(condition)\n",
    "                cmd = cmd + '--control {} '.format(c)\n",
    "                cmd = cmd + '--p-output {} '.format(output_p_file)\n",
    "                cmd = cmd + '--d-output {} '.format(output_d_file)\n",
    "                if not os.path.exists(output_p_file):\n",
    "                    ! $cmd\n",
    "        except Exception as e:\n",
    "            print(e, p, n)\n",
    "        progress.update(1)\n"
   ]
  },
  {
   "cell_type": "code",
   "execution_count": null,
   "metadata": {
    "collapsed": true
   },
   "outputs": [],
   "source": [
    "run_se_ks_tests()"
   ]
  }
 ],
 "metadata": {
  "kernelspec": {
   "display_name": "Python 2",
   "language": "python",
   "name": "python2"
  },
  "language_info": {
   "codemirror_mode": {
    "name": "ipython",
    "version": 2
   },
   "file_extension": ".py",
   "mimetype": "text/x-python",
   "name": "python",
   "nbconvert_exporter": "python",
   "pygments_lexer": "ipython2",
   "version": "2.7.13"
  },
  "widgets": {
   "state": {
    "2579710592ba4676a9de28a908ce43ae": {
     "views": [
      {
       "cell_index": 9
      }
     ]
    },
    "7ee65e5d6386422f906c0d54aa3c3792": {
     "views": [
      {
       "cell_index": 7
      }
     ]
    },
    "b0eb88fba8b14fed8a7f0ff1e755eefd": {
     "views": [
      {
       "cell_index": 4
      }
     ]
    },
    "d183cd86cf5a4b65ba901029dc926e8a": {
     "views": [
      {
       "cell_index": 5
      }
     ]
    }
   },
   "version": "1.2.0"
  }
 },
 "nbformat": 4,
 "nbformat_minor": 1
}
