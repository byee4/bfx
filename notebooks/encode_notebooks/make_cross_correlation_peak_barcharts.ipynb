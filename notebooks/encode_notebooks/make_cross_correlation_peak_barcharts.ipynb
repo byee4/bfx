{
 "cells": [
  {
   "cell_type": "code",
   "execution_count": 1,
   "metadata": {
    "collapsed": true
   },
   "outputs": [],
   "source": [
    "%matplotlib inline\n",
    "import matplotlib.pyplot as plt\n",
    "from collections import OrderedDict\n",
    "import seaborn as sns\n",
    "import pandas as pd\n",
    "import os\n",
    "import glob"
   ]
  },
  {
   "cell_type": "code",
   "execution_count": null,
   "metadata": {
    "collapsed": true
   },
   "outputs": [],
   "source": [
    "wd = '/home/bay001/projects/encode/analysis/overlapping_peaks_files/usemax'\n",
    "files = glob.glob(os.path.join(wd,'*.csv'))\n",
    "print(\"number of files: \",len(files))\n",
    "\n",
    "master_table = pd.read_table(\n",
    "    '/home/bay001/projects/encode/analysis/overlapping_peaks_files/master_list/ENCODE_CLIPperv2_20161120_peaksALLvsALLoverlap.csv',\n",
    "    index_col=0\n",
    ")\n",
    "\n",
    "\n",
    "img_dir = '/home/bay001/projects/encode/analysis/overlapping_peaks_files/images/draft5_usemax/'"
   ]
  },
  {
   "cell_type": "markdown",
   "metadata": {},
   "source": [
    "# Split eric's table into individual cols"
   ]
  },
  {
   "cell_type": "code",
   "execution_count": 2,
   "metadata": {
    "collapsed": false
   },
   "outputs": [],
   "source": [
    "def get_max(df, s1, s2):\n",
    "    return max(df.loc[s1,s2],df.loc[s2,s1])\n",
    "\n",
    "def make_individual_files(master_table):\n",
    "    for col in master_table.columns: # for each column\n",
    "        samples = OrderedDict()\n",
    "        sample = OrderedDict()\n",
    "        for idx in master_table.loc[col].index: # for each index\n",
    "            sample[idx] = get_max(master_table, col, idx)\n",
    "        samples[col] = sample\n",
    "        df = pd.DataFrame(samples)\n",
    "        df.to_csv(os.path.join(wd,'{}.csv'.format(col)), sep='\\t')\n",
    "        \n",
    "def make_individual_files_without_taking_max(master_table):\n",
    "    for col in master_table.columns: # for each column\n",
    "        df = pd.DataFrame(master_table[col])\n",
    "        df.to_csv(os.path.join(wd,'{}.csv'.format(col)), sep='\\t')\n",
    "# make_individual_files_without_taking_max(master_table)"
   ]
  },
  {
   "cell_type": "markdown",
   "metadata": {},
   "source": [
    "# Plot the individual cols as barcharts using the files made from above."
   ]
  },
  {
   "cell_type": "code",
   "execution_count": null,
   "metadata": {
    "collapsed": false
   },
   "outputs": [],
   "source": [
    "def get_rep(row):\n",
    "    return rep(row['intersecting_rbp'])\n",
    "\n",
    "def rep(string):\n",
    "    return string.split('_')[-1]\n",
    "\n",
    "def rbp(string):\n",
    "    parts = string.split('_')\n",
    "    parts = '{}_{}'.format(parts[2],parts[3])\n",
    "    return parts\n",
    "\n",
    "def get_rbp(row): \n",
    "    return rbp(row['intersecting_rbp'])\n",
    "\n",
    "def add_rep_and_rbp_info(df):\n",
    "    df.columns = ['intersecting_rbp','Rep']\n",
    "    df['rep'] = df.apply(get_rep,axis=1)\n",
    "    df['rbp'] = df.apply(get_rbp,axis=1)\n",
    "    return df\n",
    "\n",
    "def split_and_groupby_rep(df):\n",
    "    rep1 = df.groupby(['rep']).get_group('01')\n",
    "    rep2 = df.groupby(['rep']).get_group('02')\n",
    "    merged = pd.merge(rep1,rep2,how='left', on='rbp')\n",
    "    merged.set_index('rbp',inplace=True)\n",
    "    return merged\n",
    "\n",
    "def purge_same_rep(df,col):\n",
    "    df.loc[df['Unnamed: 0']==col,col] = 0\n",
    "    return df\n",
    "\n",
    "def get_avg(row):\n",
    "    return (row['Rep_x'] + row['Rep_y'])/2.0\n",
    "\n",
    "def iterate_over_files_and_make_cross_corr_barh_draft1(files):\n",
    "    for f in files:\n",
    "        name = os.path.splitext(os.path.basename(f))[0]\n",
    "        # print(int(rep(name)))\n",
    "        table = pd.read_table(f)\n",
    "        df = pd.DataFrame(table)\n",
    "\n",
    "        # df = purge_same_rep(df, df.columns[1])\n",
    "        df = add_rep_and_rbp_info(df)\n",
    "        df = split_and_groupby_rep(df)\n",
    "        df['avg'] = df.apply(get_avg,axis=1)\n",
    "        df.rename(columns={'Rep_x':\"Rep 1\", \"Rep_y\":\"Rep 2\"},inplace=True)\n",
    "        same_rep_values = df.ix[(rbp(name))]\n",
    "        df.sort_values(by=['avg'],inplace=True,ascending=False)\n",
    "        df.drop(rbp(name),inplace=True)\n",
    "        df.head()\n",
    "        df2 = pd.DataFrame(same_rep_values).T\n",
    "\n",
    "        dfx = pd.concat([df2,df])\n",
    "        # same_rep_values\"\"\"\n",
    "        # df2 = pd.DataFrame(same_rep_values).T\n",
    "        # df2\n",
    "\n",
    "        if int(rep(name)) == 1:\n",
    "            dfx.loc[rbp(name),'Rep 1'] = 0\n",
    "        else:\n",
    "            dfx.loc[rbp(name),'Rep 2'] = 0\n",
    "\n",
    "        dfy = dfx[['Rep 1','Rep 2']].head(25).iloc[::-1]\n",
    "        dfy.plot(kind=\"barh\", figsize=(10,5), rot=0)\n",
    "        plt.ylabel('Top 25 concordantly bound RBPs')\n",
    "        plt.xlabel('Fraction of overlapping peaks')\n",
    "        # plt.ylim(0,1)\n",
    "        plt.tight_layout()\n",
    "        plt.savefig(os.path.join(img_dir,'{}.png'.format(name)))"
   ]
  },
  {
   "cell_type": "code",
   "execution_count": null,
   "metadata": {
    "collapsed": false
   },
   "outputs": [],
   "source": []
  },
  {
   "cell_type": "code",
   "execution_count": null,
   "metadata": {
    "collapsed": false
   },
   "outputs": [],
   "source": [
    "dm = ['604_01_DEAF1','215_02_TIA1','204_01_RBFOX2']\n",
    "# rep_master[rep_master['file']=='204_01_RBFOX2'].sort_values(by=['fold-enrichment'], ascending=False).head()"
   ]
  },
  {
   "cell_type": "code",
   "execution_count": null,
   "metadata": {
    "collapsed": false
   },
   "outputs": [],
   "source": []
  },
  {
   "cell_type": "code",
   "execution_count": null,
   "metadata": {
    "collapsed": false
   },
   "outputs": [],
   "source": [
    "rep_master[rep_master['file']=='343_01_PCBP2']"
   ]
  },
  {
   "cell_type": "code",
   "execution_count": null,
   "metadata": {
    "collapsed": false
   },
   "outputs": [],
   "source": []
  },
  {
   "cell_type": "code",
   "execution_count": null,
   "metadata": {
    "collapsed": false
   },
   "outputs": [],
   "source": [
    "rs[0]"
   ]
  },
  {
   "cell_type": "markdown",
   "metadata": {
    "collapsed": false
   },
   "source": [
    "####### I'm realizing now that we did opposite things with the replicates - for example for 204/RBFOX2, my bars are for the RBFOX2 replicates (red = 01, orange = 02); I think you did bars for the individual dataset replicates (your blue = other RBP rep1, your green = other RBP rep2)... in the interest of not making this confusing I'd actually like to try a version that combines both, so basically \n",
    "- have 4 bars for 204 vs RBP B: \n",
    "    - red = 204_01 vs B_01, \n",
    "    - orange = 204_01 vs B_02, \n",
    "    - light blue = 204_02 vs B_01, \n",
    "    - dark blue = 204_02 vs B_02 \n",
    "    \n",
    "    (does this make sense? So individual values are all the same, but now sort Y axis by the mean across all 4 replicate pair comparisons?)\n"
   ]
  },
  {
   "cell_type": "code",
   "execution_count": null,
   "metadata": {
    "collapsed": false
   },
   "outputs": [],
   "source": [
    "rbps = []  # the name of all rbps (no reps). Should be 362/2 = 181 total\n",
    "for f in files:\n",
    "    name = os.path.splitext(os.path.basename(f))[0]\n",
    "    rbps.append(rbp(name))\n",
    "rbps = list(set(rbps))\n",
    "print(\"number of rbps: {}\".format(len(rbps)))\n"
   ]
  },
  {
   "cell_type": "code",
   "execution_count": null,
   "metadata": {
    "collapsed": false
   },
   "outputs": [],
   "source": [
    "def concat_reps(df):\n",
    "    \"\"\"\n",
    "    reformat the dataframe so that for one replicate, \n",
    "    \"\"\"\n",
    "    # df = purge_same_rep(df, df.columns[1])\n",
    "    df = add_rep_and_rbp_info(df)\n",
    "    df = split_and_groupby_rep(df)\n",
    "    df['avg'] = df.apply(get_avg,axis=1)\n",
    "    df.rename(columns={'Rep_x':\"Rep 1\", \"Rep_y\":\"Rep 2\"},inplace=True)\n",
    "    df.sort_values(by=['avg'],inplace=True,ascending=False)\n",
    "    \"\"\"\n",
    "    same_rep_values = df.ix[(rbp(name))]\n",
    "    df.drop(rbp(name),inplace=True)\n",
    "    df2 = pd.DataFrame(same_rep_values).T\n",
    "\n",
    "    dfx = pd.concat([df2,df])\n",
    "    if int(rep(name)) == 1:\n",
    "        dfx.loc[rbp(name),'Rep 1'] = 0\n",
    "    else:\n",
    "        dfx.loc[rbp(name),'Rep 2'] = 0\n",
    "\n",
    "    return dfx\"\"\"\n",
    "    return df\n",
    "\n",
    "def join_reps(r1, r2):\n",
    "    \"\"\"\n",
    "    Returns a merged table with left-merge = rep1, right-merge = rep2\n",
    "    Merges on index names (rbp name)\n",
    "    \"\"\"\n",
    "    name1 = os.path.splitext(os.path.basename(r1))[0]\n",
    "    name2 = os.path.splitext(os.path.basename(r2))[0]\n",
    "    df1 = pd.read_table(r1)\n",
    "    df2 = pd.read_table(r2)\n",
    "    df1 = concat_reps(df1)\n",
    "    df2 = concat_reps(df2)\n",
    "    df1.columns = [\"Rep 1\"+'-'+col for col in df1.columns]\n",
    "    df2.columns = [\"Rep 2\"+'-'+col for col in df2.columns]\n",
    "    merged = pd.merge(df1, df2, how='left', left_index=True, right_index=True)\n",
    "    return merged\n",
    "\n",
    "def get_all_avg(row):\n",
    "    \"\"\"\n",
    "    Returns the average of all relevant rows.\n",
    "    \"\"\"\n",
    "    sum_of_relevant_rows = row['Rep 1-Rep 1']+row['Rep 1-Rep 2']+row['Rep 2-Rep 1']+row['Rep 2-Rep 2']\n",
    "    return sum_of_relevant_rows/4.0\n",
    "\n",
    "\"\"\"\n",
    "Foreach rbp in the folder, \n",
    "\"\"\"\n",
    "for rbp_name in rbps:\n",
    "    f, ax = plt.subplots()\n",
    "    # ax.set_xlabel('X LABEL')    \n",
    "    \n",
    "    cols = sns.color_palette(\"hls\", 8)\n",
    "    # use the rbp name to glob both replicates\n",
    "    repfiles = glob.glob(os.path.join(wd,'*{}*.csv'.format(rbp_name)))  # get both reps\n",
    "    repfiles = (sorted(repfiles)) # so the '_01' is always before '_02'\n",
    "    assert len(repfiles) == 2\n",
    "    r1 = repfiles[0]\n",
    "    r2 = repfiles[1]\n",
    "    r_all = join_reps(r1,r2) # join two reps\n",
    "    r_all['avg'] = r_all.apply(get_all_avg,axis=1) # get avg\n",
    "    r_all.sort_values(by=['avg'],inplace=True,ascending=False) # sort by highest average\n",
    "    r_all_head = r_all.head(25) # get the top 25\n",
    "    r_all_head = r_all_head[['Rep 1-Rep 1','Rep 1-Rep 2','Rep 2-Rep 1','Rep 2-Rep 2']].iloc[::-1] # subset just these columns\n",
    "    r_all_head.columns = [rbp_name + \" \" + c for c in r_all_head.columns] # rename '1' in 1vs2 columns\n",
    "    r_all_head.columns = [c.replace('-',' - (B) ') for c in r_all_head.columns] # rename the '2' in 1vs2 columns\n",
    "    r_all_head.index.name = r_all_head.index.name + \" (B)\" # rename the label to be more clear\n",
    "    r_all_head['{} Rep 1 - (B) Rep 1'.format(rbp_name)].ix[rbp_name] = 0\n",
    "    r_all_head['{} Rep 2 - (B) Rep 2'.format(rbp_name)].ix[rbp_name] = 0\n",
    "    r_all_head['{} Rep 2 - (B) Rep 1'.format(rbp_name)].ix[rbp_name] = 0\n",
    "    r_all_head.plot(\n",
    "        kind=\"barh\", \n",
    "        figsize=(10,15), \n",
    "        rot=0, \n",
    "        color=[cols[0],cols[1],cols[4],cols[5]],\n",
    "        fontsize=12,\n",
    "        legend=False,\n",
    "        ax=ax\n",
    "    ) # color as in the above specs\n",
    "    ax.set_xlim(0,1)\n",
    "    vals = ax.get_xticks()\n",
    "    ax.set_xlabel('Fraction overlap')    \n",
    "    ax.xaxis.tick_top()\n",
    "    ax.xaxis.set_label_position('top') \n",
    "    ax.set_xticklabels(['{:3.2f}%'.format(x*100) for x in vals])\n",
    "    plt.legend(fontsize=14,loc=4)\n",
    "    plt.tight_layout()\n",
    "    plt.savefig(os.path.join(img_dir,'{}_RBPconcordancy.png'.format(rbp_name)))"
   ]
  },
  {
   "cell_type": "code",
   "execution_count": null,
   "metadata": {
    "collapsed": false
   },
   "outputs": [],
   "source": [
    "plt.xticks([x for x in plt.xticks()])\n",
    "# '{:3.2f}%'.format(x*100)"
   ]
  },
  {
   "cell_type": "code",
   "execution_count": null,
   "metadata": {
    "collapsed": false
   },
   "outputs": [],
   "source": [
    "col = '492_01_DDX3X_HepG2_01'\n",
    "row = '626_02_EIF4B_HepG2_02'\n",
    "print(master_table[col].ix[row])\n",
    "print(master_table[row].ix[col])"
   ]
  },
  {
   "cell_type": "code",
   "execution_count": null,
   "metadata": {
    "collapsed": false
   },
   "outputs": [],
   "source": [
    "def print_all_columns(substr, table=master_table):\n",
    "    for col in table.columns:\n",
    "        if substr in col:\n",
    "            print(col)\n",
    "            \n",
    "print_all_columns('SBDS')"
   ]
  },
  {
   "cell_type": "code",
   "execution_count": null,
   "metadata": {
    "collapsed": false
   },
   "outputs": [],
   "source": [
    "igf2bp1_test = rep_master[\n",
    "    (rep_master['file']=='220_01_IGF2BP1')#  |\n",
    "    # (rep_master['file']=='220_02_IGF2BP1')\n",
    "]\n",
    "\n",
    "igf2bp1_test[['information content']].sort_values(by=['information content'],ascending=False)\n"
   ]
  },
  {
   "cell_type": "code",
   "execution_count": null,
   "metadata": {
    "collapsed": false
   },
   "outputs": [],
   "source": [
    "master_table.ix['352_01_SBDS_K562_01']"
   ]
  },
  {
   "cell_type": "code",
   "execution_count": null,
   "metadata": {
    "collapsed": true
   },
   "outputs": [],
   "source": []
  }
 ],
 "metadata": {
  "kernelspec": {
   "display_name": "Python 2",
   "language": "python",
   "name": "python2"
  },
  "language_info": {
   "codemirror_mode": {
    "name": "ipython",
    "version": 2
   },
   "file_extension": ".py",
   "mimetype": "text/x-python",
   "name": "python",
   "nbconvert_exporter": "python",
   "pygments_lexer": "ipython2",
   "version": "2.7.12"
  }
 },
 "nbformat": 4,
 "nbformat_minor": 1
}
