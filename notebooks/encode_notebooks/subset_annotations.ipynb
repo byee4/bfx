{
 "cells": [
  {
   "cell_type": "code",
   "execution_count": 1,
   "metadata": {
    "collapsed": true
   },
   "outputs": [],
   "source": [
    "import pandas as pd\n",
    "import numpy as np\n",
    "import os\n",
    "import glob\n",
    "from collections import defaultdict\n",
    "from qtools import Submitter\n",
    "from tqdm import tnrange, tqdm_notebook"
   ]
  },
  {
   "cell_type": "code",
   "execution_count": null,
   "metadata": {
    "collapsed": false
   },
   "outputs": [],
   "source": [
    "pvalue = 0.05\n",
    "fdr = 0.1\n",
    "sep = 0.05\n",
    "\n",
    "annotation_subdirectories = ['se','a3ss','a5ss','mxe','ri']\n",
    "annotation_directory = '/projects/ps-yeolab3/bay001/maps/current_annotations/'\n",
    "\n",
    "if not os.path.exists(annotation_directory):\n",
    "    ! mkdir annotation_directory\n",
    "    \n",
    "for annotation_subdirectory in annotation_subdirectories:\n",
    "    if not os.path.exists(os.path.join(annotation_directory, annotation_subdirectory)):\n",
    "        subdir = os.path.join(annotation_directory, annotation_subdirectory)\n",
    "        ! mkdir $subdir\n"
   ]
  },
  {
   "cell_type": "code",
   "execution_count": null,
   "metadata": {
    "collapsed": false
   },
   "outputs": [],
   "source": [
    "graveley_rmats_dir = '/projects/ps-yeolab3/encode/rnaseq/alt_splicing/graveley_rmats_3-30-2017/normed/'\n",
    "\n",
    "def move_files(mats_dir, dest_parent_dir):\n",
    "    events = ['se','a3ss','a5ss','mxe','ri']\n",
    "    all_files = glob.glob(os.path.join(mats_dir, '*.JunctionCountOnly.txt'))\n",
    "    print(\"number of files found: {}\".format(len(all_files)))\n",
    "    progress = tnrange(len(all_files))\n",
    "    for src in all_files:\n",
    "        for e in events:\n",
    "            dest = os.path.join(dest_parent_dir, e)\n",
    "            dest_fullpath = os.path.join(dest, os.path.basename(src))\n",
    "            if \"{}.MATS.JunctionCountOnly.txt\".format(e.upper()) in src:\n",
    "                if not os.path.exists(dest_fullpath):\n",
    "                    ! ln -s $src $dest_fullpath\n",
    "                progress.update(1)\n",
    "                \n",
    "move_files(graveley_rmats_dir, annotation_directory)"
   ]
  },
  {
   "cell_type": "code",
   "execution_count": null,
   "metadata": {
    "collapsed": false
   },
   "outputs": [],
   "source": [
    "all_se_mats = glob.glob(os.path.join(annotation_directory,'se/*-SE.MATS.JunctionCountOnly.txt'))\n",
    "all_a3ss_mats = glob.glob(os.path.join(annotation_directory,'a3ss/*-A3SS.MATS.JunctionCountOnly.txt'))\n",
    "all_a5ss_mats = glob.glob(os.path.join(annotation_directory,'a5ss/*-A5SS.MATS.JunctionCountOnly.txt'))\n",
    "all_mxe_mats = glob.glob(os.path.join(annotation_directory,'mxe/*-MXE.MATS.JunctionCountOnly.txt'))\n",
    "all_ri_mats = glob.glob(os.path.join(annotation_directory,'ri/*-RI.MATS.JunctionCountOnly.txt'))\n",
    "print(\"number of se rmats calls found: {}\".format(len(all_se_mats)))\n",
    "print(\"number of a3ss rmats calls found: {}\".format(len(all_a3ss_mats)))\n",
    "print(\"number of a5ss rmats calls found: {}\".format(len(all_a5ss_mats)))\n",
    "print(\"number of mxe rmats calls found: {}\".format(len(all_mxe_mats)))\n",
    "print(\"number of ri rmats calls found: {}\".format(len(all_ri_mats)))"
   ]
  },
  {
   "cell_type": "code",
   "execution_count": null,
   "metadata": {
    "collapsed": false
   },
   "outputs": [],
   "source": [
    "def subset_rmats(f, pvalue, fdr, sep):\n",
    "    insignificant_positive_rbps = ''\n",
    "    insignificant_negative_rbps = ''\n",
    "    num_missing=0\n",
    "    df = pd.read_table(f)\n",
    "    dfp = df[\n",
    "        (df['PValue'] < pvalue) & (df['FDR'] < fdr) & (df['IncLevelDifference'] > sep)\n",
    "    ]\n",
    "    dfn = df[\n",
    "        (df['PValue'] < pvalue) & (df['FDR'] < fdr) & (df['IncLevelDifference'] < -sep)\n",
    "    ]\n",
    "    if(dfp.shape[0] > 0):\n",
    "        dest = f.replace('.txt','.positive.txt')\n",
    "        if not os.path.exists(dest):\n",
    "            dfp.to_csv(dest, sep='\\t', index=None)\n",
    "    else:\n",
    "        insignificant_positive_rbps = f\n",
    "        num_missing+=1\n",
    "    if(dfn.shape[0] > 0):\n",
    "        dest = f.replace('.txt','.negative.txt')\n",
    "        if not os.path.exists(dest):\n",
    "            dfn.to_csv(dest, sep='\\t', index=None) \n",
    "    else:\n",
    "        insignificant_negative_rbps = f\n",
    "        num_missing+=1\n",
    "\n",
    "    return [insignificant_positive_rbps, insignificant_negative_rbps], num_missing"
   ]
  },
  {
   "cell_type": "code",
   "execution_count": null,
   "metadata": {
    "collapsed": false
   },
   "outputs": [],
   "source": [
    "events = {'se':all_se_mats, 'a3ss':all_a3ss_mats, 'a5ss':all_a5ss_mats, 'mxe':all_mxe_mats, 'ri':all_ri_mats}\n",
    "\n",
    "overall_progress = tnrange(len(events))\n",
    "insufficient = defaultdict(list)\n",
    "total_missing = 0\n",
    "for label, event in events.iteritems():\n",
    "    event_progress = tnrange(len(event))\n",
    "    for mat in event:\n",
    "        no_samples, num_missing = subset_rmats(mat, pvalue, fdr, sep)\n",
    "        if len(no_samples[0]) > 0 or len(no_samples[1]) > 0:\n",
    "            insufficient[label].append(no_samples)\n",
    "        total_missing = total_missing + num_missing\n",
    "        event_progress.update(1)\n",
    "        "
   ]
  },
  {
   "cell_type": "code",
   "execution_count": null,
   "metadata": {
    "collapsed": false
   },
   "outputs": [],
   "source": [
    "insufficient['mxe']"
   ]
  },
  {
   "cell_type": "markdown",
   "metadata": {},
   "source": [
    "# Subset the nonredundant ones."
   ]
  },
  {
   "cell_type": "code",
   "execution_count": null,
   "metadata": {
    "collapsed": false
   },
   "outputs": [],
   "source": [
    "subset_prog = '/home/bay001/projects/codebase/rbp-maps/maps/analysis/subset_rmats_junctioncountonly.py'\n",
    "\n",
    "overall_progress = tnrange(len(annotation_subdirectories))\n",
    "for subdirectory in annotation_subdirectories:\n",
    "    all_positive = glob.glob(os.path.join(annotation_directory,'{}/*.positive.txt'.format(subdirectory)))\n",
    "    all_negative = glob.glob(os.path.join(annotation_directory,'{}/*.negative.txt'.format(subdirectory)))\n",
    "    print(\"number of positive and negative: {}\".format(subdirectory), len(all_positive), len(all_negative))\n",
    "    progress = tnrange(len(all_positive) + len(all_negative))\n",
    "\n",
    "    for cond in [all_positive, all_negative]:\n",
    "\n",
    "        for sub in cond:\n",
    "            jobname = os.path.basename(sub).split('.')[0]\n",
    "            cmd = \"python {} -i {} -o {} -e {}\".format(\n",
    "                subset_prog,\n",
    "                sub,\n",
    "                sub.replace('.txt','.nr.txt'),\n",
    "                subdirectory,\n",
    "            )\n",
    "            if not os.path.exists(sub.replace('.txt','.nr.txt')):\n",
    "                ! $cmd\n",
    "            progress.update(1)\n",
    "    overall_progress.update(1)"
   ]
  },
  {
   "cell_type": "code",
   "execution_count": null,
   "metadata": {
    "collapsed": false
   },
   "outputs": [],
   "source": []
  },
  {
   "cell_type": "markdown",
   "metadata": {},
   "source": [
    "# Rename the final annotations to something less ugly\n",
    "- the files are usually something like \"MAK16-BGKLV32-K562-SE.MATS.JunctionCountOnly.negative.nr.txt\"\n",
    "- to avoid that being used in the final maps, I'm going to rename them to something nicer like \"Excluded upon KD\""
   ]
  },
  {
   "cell_type": "code",
   "execution_count": null,
   "metadata": {
    "collapsed": false
   },
   "outputs": [],
   "source": [
    "annotation_directory = '/projects/ps-yeolab3/bay001/maps/current_annotations/'\n",
    "all_positive = glob.glob(os.path.join(annotation_directory,'se/*.positive.nr.txt'))\n",
    "all_negative = glob.glob(os.path.join(annotation_directory,'se/*.negative.nr.txt'))\n",
    "print(\"number of positive and negative: \", len(all_positive), len(all_negative))"
   ]
  },
  {
   "cell_type": "code",
   "execution_count": null,
   "metadata": {
    "collapsed": false
   },
   "outputs": [],
   "source": [
    "t = tnrange(len(all_positive) + len(all_negative))\n",
    "renamed_directory = '/projects/ps-yeolab3/bay001/maps/current_annotations/se_renamed'\n",
    "\n",
    "for pos in all_positive:\n",
    "    renamed = pos.replace('.positive.nr.txt','included-upon-knockdown')\n",
    "    renamed = renamed.replace('-SE.MATS.JunctionCountOnly','-')\n",
    "    ! ln -s $pos $renamed\n",
    "    t.update(1)\n",
    "    \n",
    "for neg in all_negative:\n",
    "    renamed = neg.replace('.negative.nr.txt','excluded-upon-knockdown')\n",
    "    renamed = renamed.replace('-SE.MATS.JunctionCountOnly','-')\n",
    "    ! ln -s $neg $renamed\n",
    "    t.update(1)"
   ]
  },
  {
   "cell_type": "code",
   "execution_count": 6,
   "metadata": {
    "collapsed": false
   },
   "outputs": [
    {
     "name": "stdout",
     "output_type": "stream",
     "text": [
      "('number of positive and negative: ', 400, 376, 'a3ss')\n",
      "('number of positive and negative: ', 350, 348, 'a5ss')\n"
     ]
    }
   ],
   "source": [
    "annotation_directory = '/projects/ps-yeolab3/bay001/maps/current_annotations/'\n",
    "events = ['a3ss','a5ss']\n",
    "for event in events:\n",
    "    all_positive = glob.glob(os.path.join(annotation_directory,'{}/*.positive.nr.txt'.format(event)))\n",
    "    all_negative = glob.glob(os.path.join(annotation_directory,'{}/*.negative.nr.txt'.format(event)))\n",
    "    print(\"number of positive and negative: \", len(all_positive), len(all_negative), event)\n",
    "    t = tnrange(len(all_positive) + len(all_negative))\n",
    "    renamed_directory = '/projects/ps-yeolab3/bay001/maps/current_annotations/{}_renamed'.format(event)\n",
    "\n",
    "    for pos in all_positive:\n",
    "        renamed = os.path.basename(pos).replace('.positive.nr.txt','longer-isoform-included-upon-knockdown')\n",
    "        renamed = renamed.replace('.MATS.JunctionCountOnly','').replace('-{}'.format(event.upper()),'-')\n",
    "        renamed = os.path.join(renamed_directory, renamed)\n",
    "        ! ln -s $pos $renamed\n",
    "        t.update(1)\n",
    "\n",
    "    for neg in all_negative:\n",
    "        renamed = os.path.basename(neg).replace('.negative.nr.txt','shorter-isoform-included-upon-knockdown')\n",
    "        renamed = renamed.replace('.MATS.JunctionCountOnly','').replace('-{}'.format(event.upper()),'-')\n",
    "        renamed = os.path.join(renamed_directory, renamed)\n",
    "        ! ln -s $neg $renamed\n",
    "        t.update(1)"
   ]
  },
  {
   "cell_type": "markdown",
   "metadata": {
    "collapsed": true
   },
   "source": [
    "# Reformat the final annotations as miso files for peak maps"
   ]
  },
  {
   "cell_type": "code",
   "execution_count": null,
   "metadata": {
    "collapsed": false
   },
   "outputs": [],
   "source": [
    "miso_output_dir = '/projects/ps-yeolab3/bay001/maps/current_annotations/as_miso/'\n",
    "all_positive = glob.glob(os.path.join(annotation_directory,'se/*.positive.nr.txt'))\n",
    "all_negative = glob.glob(os.path.join(annotation_directory,'se/*.negative.nr.txt'))\n",
    "print(\"number of positive and negative: \", len(all_positive), len(all_negative))\n",
    "rmats2miso_runner = '/home/bay001/projects/codebase/bfx/pyscripts/rnaseq/rmats2miso.py'"
   ]
  },
  {
   "cell_type": "code",
   "execution_count": null,
   "metadata": {
    "collapsed": false
   },
   "outputs": [],
   "source": [
    "t = tnrange(len(all_positive) + len(all_negative))\n",
    "\n",
    "for p in all_positive:\n",
    "    dest = os.path.basename(p).replace('.txt','.miso')\n",
    "    cmd = 'python {} -i {} -o {}'.format(\n",
    "        rmats2miso_runner, \n",
    "        p, \n",
    "        os.path.join(miso_output_dir, dest),\n",
    "    )\n",
    "    if not os.path.exists(dest):\n",
    "        ! $cmd\n",
    "    t.update(1)\n",
    "    \n",
    "for n in all_negative:\n",
    "    dest = os.path.basename(n).replace('.txt','.miso')\n",
    "    cmd = 'python {} -i {} -o {}'.format(\n",
    "        rmats2miso_runner, \n",
    "        n, \n",
    "        os.path.join(miso_output_dir, dest),\n",
    "    )\n",
    "    if not os.path.exists(dest):\n",
    "        ! $cmd\n",
    "    t.update(1)"
   ]
  },
  {
   "cell_type": "markdown",
   "metadata": {
    "collapsed": true
   },
   "source": [
    "# Rename the miso annotations "
   ]
  },
  {
   "cell_type": "code",
   "execution_count": 5,
   "metadata": {
    "collapsed": false
   },
   "outputs": [
    {
     "name": "stdout",
     "output_type": "stream",
     "text": [
      "('number of positive and negative: ', 437, 435, 'se')\n"
     ]
    }
   ],
   "source": [
    "annotation_directory = '/projects/ps-yeolab3/bay001/maps/current_annotations/'\n",
    "all_positive = glob.glob(os.path.join(annotation_directory,'as_miso/*.positive.nr.miso'))\n",
    "all_negative = glob.glob(os.path.join(annotation_directory,'as_miso/*.negative.nr.miso'))\n",
    "print(\"number of positive and negative: \", len(all_positive), len(all_negative), event)\n",
    "t = tnrange(len(all_positive) + len(all_negative))\n",
    "renamed_directory = '/projects/ps-yeolab3/bay001/maps/current_annotations/as_miso_renamed'\n",
    "\n",
    "for pos in all_positive:\n",
    "    renamed = os.path.basename(pos).replace('.positive.nr.miso','included-upon-knockdown')\n",
    "    renamed = renamed.replace('.MATS.JunctionCountOnly','').replace('-{}'.format(event.upper()),'-')\n",
    "    renamed = os.path.join(renamed_directory, renamed)\n",
    "    ! ln -s $pos $renamed\n",
    "    t.update(1)\n",
    "\n",
    "for neg in all_negative:\n",
    "    renamed = os.path.basename(neg).replace('.negative.nr.miso','excluded-upon-knockdown')\n",
    "    renamed = renamed.replace('.MATS.JunctionCountOnly','').replace('-{}'.format(event.upper()),'-')\n",
    "    renamed = os.path.join(renamed_directory, renamed)\n",
    "    ! ln -s $neg $renamed\n",
    "    t.update(1)"
   ]
  },
  {
   "cell_type": "markdown",
   "metadata": {
    "collapsed": true
   },
   "source": [
    "# Reformat eric's annotation to miso"
   ]
  },
  {
   "cell_type": "code",
   "execution_count": 23,
   "metadata": {
    "collapsed": false
   },
   "outputs": [],
   "source": [
    "bg_dir = '/projects/ps-yeolab3/bay001/maps/current_annotations/se/'\n",
    "new_bg_dir = '/projects/ps-yeolab3/bay001/maps/current_annotations/as_miso_renamed/'\n",
    "\n",
    "header = ['annotation','lowpos','cassette','hipos']\n"
   ]
  },
  {
   "cell_type": "code",
   "execution_count": 10,
   "metadata": {
    "collapsed": false
   },
   "outputs": [],
   "source": [
    "def as_miso(row):\n",
    "    chrom, strand, _, _, _ = row['annotation'].split('|')\n",
    "    low_start, low_end = row['lowpos'].split('-')\n",
    "    cass_start, cass_end = row['cassette'].split('-')\n",
    "    hi_start, hi_end = row['hipos'].split('-')\n",
    "    if strand == '+':\n",
    "        return '{}:{}:{}:{}@{}:{}:{}:{}@{}:{}:{}:{}'.format(\n",
    "            chrom, int(low_start)+1, int(low_end)+1, strand,\n",
    "            chrom, int(cass_start)+1, int(cass_end)+1, strand,\n",
    "            chrom, int(hi_start)+1, int(hi_end)+1, strand,\n",
    "        )\n",
    "    elif strand == '-':\n",
    "        return '{}:{}:{}:{}@{}:{}:{}:{}@{}:{}:{}:{}'.format(\n",
    "            chrom, int(hi_start)+1, int(hi_end)+1, strand,\n",
    "            chrom, int(cass_start)+1, int(cass_end)+1, strand,\n",
    "            chrom, int(low_start)+1, int(low_end)+1, strand,\n",
    "        )\n",
    "    else:\n",
    "        print(\"BAD\")\n",
    "        return 1"
   ]
  },
  {
   "cell_type": "code",
   "execution_count": 46,
   "metadata": {
    "collapsed": false
   },
   "outputs": [],
   "source": [
    "\n",
    "original_ce = pd.read_table(\n",
    "    os.path.join(\n",
    "        bg_dir, 'k562_brenton-graveley_ambiguous_bams_for_integrated_analysis.txt.strict_CE_all_20170401',\n",
    "        \n",
    "    ), names=header\n",
    ")\n",
    "original_ce['miso'] = original_ce.apply(as_miso, axis=1)\n",
    "original_ce[['miso','annotation']].to_csv(\n",
    "    os.path.join(new_bg_dir, 'K562-constitutive-exons.miso'), sep='\\t', index=False, header=False\n",
    ")"
   ]
  },
  {
   "cell_type": "code",
   "execution_count": 26,
   "metadata": {
    "collapsed": true
   },
   "outputs": [],
   "source": [
    "original_ce = pd.read_table(\n",
    "    os.path.join(\n",
    "        bg_dir, 'k562_brenton-graveley_ambiguous_bams_for_integrated_analysis.txt.nSEall_0.5_20170401',\n",
    "        \n",
    "    ), names=header\n",
    ")\n",
    "original_ce['miso'] = original_ce.apply(as_miso, axis=1)\n",
    "original_ce[['miso','annotation']].to_csv(\n",
    "    os.path.join(new_bg_dir, 'K562-native-cassette-exons.miso'), sep='\\t', index=False, header=False\n",
    ")"
   ]
  },
  {
   "cell_type": "code",
   "execution_count": 27,
   "metadata": {
    "collapsed": true
   },
   "outputs": [],
   "source": [
    "original_ce = pd.read_table(\n",
    "    os.path.join(\n",
    "        bg_dir, 'k562_brenton-graveley_ambiguous_bams_for_integrated_analysis.txt.nSEincl_0.5_20170401',\n",
    "        \n",
    "    ), names=header\n",
    ")\n",
    "original_ce['miso'] = original_ce.apply(as_miso, axis=1)\n",
    "original_ce[['miso','annotation']].to_csv(\n",
    "    os.path.join(new_bg_dir, 'K562-native-included-exons.miso'), sep='\\t', index=False, header=False\n",
    ")"
   ]
  },
  {
   "cell_type": "code",
   "execution_count": 28,
   "metadata": {
    "collapsed": true
   },
   "outputs": [],
   "source": [
    "original_ce = pd.read_table(\n",
    "    os.path.join(\n",
    "        bg_dir, 'k562_brenton-graveley_ambiguous_bams_for_integrated_analysis.txt.nSEexcl_0.5_20170401',\n",
    "        \n",
    "    ), names=header\n",
    ")\n",
    "original_ce['miso'] = original_ce.apply(as_miso, axis=1)\n",
    "original_ce[['miso','annotation']].to_csv(\n",
    "    os.path.join(new_bg_dir, 'K562-native-excluded-exons.miso'), sep='\\t', index=False, header=False\n",
    ")"
   ]
  },
  {
   "cell_type": "code",
   "execution_count": 29,
   "metadata": {
    "collapsed": true
   },
   "outputs": [],
   "source": [
    "\n",
    "original_ce = pd.read_table(\n",
    "    os.path.join(\n",
    "        bg_dir, 'hepg2_brenton-graveley_ambiguous_bams_for_integrated_analysis.txt.strict_CE_all_20170401',\n",
    "        \n",
    "    ), names=header\n",
    ")\n",
    "original_ce['miso'] = original_ce.apply(as_miso, axis=1)\n",
    "original_ce[['miso','annotation']].to_csv(\n",
    "    os.path.join(new_bg_dir, 'HepG2-constitutive-exons.miso'), sep='\\t', index=False, header=False\n",
    ")"
   ]
  },
  {
   "cell_type": "code",
   "execution_count": 30,
   "metadata": {
    "collapsed": true
   },
   "outputs": [],
   "source": [
    "original_ce = pd.read_table(\n",
    "    os.path.join(\n",
    "        bg_dir, 'hepg2_brenton-graveley_ambiguous_bams_for_integrated_analysis.txt.nSEall_0.5_20170401',\n",
    "        \n",
    "    ), names=header\n",
    ")\n",
    "original_ce['miso'] = original_ce.apply(as_miso, axis=1)\n",
    "original_ce[['miso','annotation']].to_csv(\n",
    "    os.path.join(new_bg_dir, 'HepG2-native-cassette-exons.miso'), sep='\\t', index=False, header=False\n",
    ")"
   ]
  },
  {
   "cell_type": "code",
   "execution_count": 31,
   "metadata": {
    "collapsed": true
   },
   "outputs": [],
   "source": [
    "original_ce = pd.read_table(\n",
    "    os.path.join(\n",
    "        bg_dir, 'hepg2_brenton-graveley_ambiguous_bams_for_integrated_analysis.txt.nSEincl_0.5_20170401',\n",
    "        \n",
    "    ), names=header\n",
    ")\n",
    "original_ce['miso'] = original_ce.apply(as_miso, axis=1)\n",
    "original_ce[['miso','annotation']].to_csv(\n",
    "    os.path.join(new_bg_dir, 'HepG2-native-included-exons.miso'), sep='\\t', index=False, header=False\n",
    ")"
   ]
  },
  {
   "cell_type": "code",
   "execution_count": 32,
   "metadata": {
    "collapsed": true
   },
   "outputs": [],
   "source": [
    "original_ce = pd.read_table(\n",
    "    os.path.join(\n",
    "        bg_dir, 'hepg2_brenton-graveley_ambiguous_bams_for_integrated_analysis.txt.nSEexcl_0.5_20170401',\n",
    "        \n",
    "    ), names=header\n",
    ")\n",
    "original_ce['miso'] = original_ce.apply(as_miso, axis=1)\n",
    "original_ce[['miso','annotation']].to_csv(\n",
    "    os.path.join(new_bg_dir, 'HepG2-native-excluded-exons.miso'), sep='\\t', index=False, header=False\n",
    ")"
   ]
  },
  {
   "cell_type": "code",
   "execution_count": 44,
   "metadata": {
    "collapsed": false
   },
   "outputs": [],
   "source": [
    "some_list = [1,1,1,1,1]\n",
    "some_list_ps = [x+1 for x in some_list]\n",
    "normed_list = [float(x)/sum(some_list_ps) for x in some_list_ps]"
   ]
  },
  {
   "cell_type": "code",
   "execution_count": 45,
   "metadata": {
    "collapsed": false
   },
   "outputs": [
    {
     "data": {
      "text/plain": [
       "[0.2, 0.2, 0.2, 0.2, 0.2]"
      ]
     },
     "execution_count": 45,
     "metadata": {},
     "output_type": "execute_result"
    }
   ],
   "source": [
    "normed_list"
   ]
  },
  {
   "cell_type": "markdown",
   "metadata": {
    "collapsed": true
   },
   "source": [
    "# new control datasets"
   ]
  },
  {
   "cell_type": "code",
   "execution_count": 11,
   "metadata": {
    "collapsed": false
   },
   "outputs": [],
   "source": [
    "import glob\n",
    "import os\n",
    "import pandas as pd\n",
    "\n",
    "header = ['annotation','lowpos','cassette','hipos']\n",
    "\n",
    "new_control_dir = '/home/bay001/projects/maps_20160420/analysis/tests/eric_new_ctrls/'\n",
    "original_bgs = glob.glob(os.path.join(new_control_dir,'*.tpm1'))\n",
    "for bg in original_bgs:\n",
    "    new_bg = bg.replace('.tpm1','.tpm1.miso')\n",
    "    df = pd.read_table(bg, names=header)\n",
    "    df['miso'] = df.apply(as_miso, axis=1)\n",
    "    df[['miso', 'annotation']].to_csv(\n",
    "        new_bg, sep='\\t', index=False, header=False\n",
    "    )"
   ]
  },
  {
   "cell_type": "code",
   "execution_count": null,
   "metadata": {
    "collapsed": true
   },
   "outputs": [],
   "source": []
  }
 ],
 "metadata": {
  "kernelspec": {
   "display_name": "Python 2",
   "language": "python",
   "name": "python2"
  },
  "language_info": {
   "codemirror_mode": {
    "name": "ipython",
    "version": 2
   },
   "file_extension": ".py",
   "mimetype": "text/x-python",
   "name": "python",
   "nbconvert_exporter": "python",
   "pygments_lexer": "ipython2",
   "version": "2.7.12"
  }
 },
 "nbformat": 4,
 "nbformat_minor": 1
}
