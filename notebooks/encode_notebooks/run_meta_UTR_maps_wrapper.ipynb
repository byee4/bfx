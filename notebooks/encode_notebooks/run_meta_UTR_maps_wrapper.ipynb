{
 "cells": [
  {
   "cell_type": "markdown",
   "metadata": {},
   "source": [
    "# Wrapper notebook for submitting the RBP maps script to TSCC"
   ]
  },
  {
   "cell_type": "code",
   "execution_count": 9,
   "metadata": {
    "collapsed": true
   },
   "outputs": [],
   "source": [
    "import pandas as pd\n",
    "import os\n",
    "import json\n",
    "import yaml\n",
    "import glob\n",
    "# import rethinkdb as r\n",
    "from collections import defaultdict\n",
    "from qtools import Submitter\n",
    "from encode import manifest_helpers as m\n",
    "\n",
    "from tqdm import tnrange, tqdm_notebook\n",
    "pd.set_option(\"display.max_colwidth\", 10000)\n"
   ]
  },
  {
   "cell_type": "markdown",
   "metadata": {
    "collapsed": true
   },
   "source": [
    "# Define programs"
   ]
  },
  {
   "cell_type": "code",
   "execution_count": 15,
   "metadata": {
    "collapsed": true
   },
   "outputs": [],
   "source": [
    "density_runner = '/home/bay001/projects/codebase/rbp-maps/maps/plot_density.py'\n",
    "\n",
    "params = {\n",
    "    'whole_read':{\n",
    "        'output_dir' : '/home/bay001/projects/maps_20160420/analysis/meta_utr_tpm1',\n",
    "        'clip_manifest' : '/home/bay001/projects/maps_20160420/permanent_data/ALLDATASETS_submittedonly.txt',\n",
    "        'prefix' : 'whole_read',\n",
    "    },\n",
    "    'peak':{\n",
    "        'peak_dir' : '/projects/ps-yeolab3/bay001/maps/current_annotations/se_peak_bigbeds/',\n",
    "        'output_dir' : '/home/bay001/projects/maps_20160420/analysis/peak_meta_utr/',\n",
    "        'clip_manifest' : '/home/bay001/projects/maps_20160420/permanent_data/ALLDATASETS_submittedonly.txt',\n",
    "        'prefix' : 'peak_bb',\n",
    "    },\n",
    "}"
   ]
  },
  {
   "cell_type": "markdown",
   "metadata": {},
   "source": [
    "# Define static annotations"
   ]
  },
  {
   "cell_type": "code",
   "execution_count": 18,
   "metadata": {
    "collapsed": true
   },
   "outputs": [],
   "source": [
    "current_date = '11-30-2017'\n",
    "\n",
    "annotation_dir = '/projects/ps-yeolab3/bay001/maps/current_annotations/'\n",
    "utr5_hepg2 = os.path.join(annotation_dir, 'hg19_v19_five_prime_utrs.HepG2_tpm1.bed')\n",
    "utr5_k562 = os.path.join(annotation_dir, 'hg19_v19_five_prime_utrs.K562_tpm1.bed')\n",
    "\n",
    "utr3_hepg2 = os.path.join(annotation_dir, 'hg19_v19_three_prime_utrs.HepG2_tpm1.bed')\n",
    "utr3_k562 = os.path.join(annotation_dir, 'hg19_v19_three_prime_utrs.K562_tpm1.bed')\n",
    "\n",
    "bash_scripts_dir = '/projects/ps-yeolab3/bay001/maps/bash_scripts/{}'.format(current_date)\n",
    "\n",
    "if not os.path.exists(bash_scripts_dir):\n",
    "    ! mkdir $bash_scripts_dir"
   ]
  },
  {
   "cell_type": "markdown",
   "metadata": {},
   "source": [
    "# Plot SE Density"
   ]
  },
  {
   "cell_type": "code",
   "execution_count": 20,
   "metadata": {},
   "outputs": [
    {
     "name": "stderr",
     "output_type": "stream",
     "text": [
      "Writing 362 tasks as an array-job.\n",
      "Wrote commands to /projects/ps-yeolab3/bay001/maps/bash_scripts/11-30-2017/whole_read-utrs_png.2.sh.\n",
      "Submitted script to queue home-yeo.\n",
      " Job ID: 10312130\n"
     ]
    },
    {
     "data": {
      "text/plain": [
       "<qtools.submitter.Submitter at 0x2b930c8ae2d0>"
      ]
     },
     "execution_count": 20,
     "metadata": {},
     "output_type": "execute_result"
    }
   ],
   "source": [
    "img_extension = ['png']\n",
    "\n",
    "\n",
    "read_type = 'whole_read'\n",
    "normalization_levels = [2]\n",
    "\n",
    "### Force override of maps\n",
    "force = True\n",
    "\n",
    "clip_df = pd.read_table(params[read_type]['clip_manifest'])\n",
    "cmds = []\n",
    "\n",
    "for normalization_level in normalization_levels:\n",
    "    for ext in img_extension:\n",
    "        for uid in clip_df['uID']:\n",
    "\n",
    "            r1, r2, i, rbp, cell = m.get_clip_file_from_uid(clip_df, uid)\n",
    "\n",
    "            if cell == 'HepG2':\n",
    "                utr5_annotations = utr5_hepg2\n",
    "                utr3_annotations = utr3_hepg2\n",
    "            elif cell == 'K562':\n",
    "                utr5_annotations = utr5_k562\n",
    "                utr3_annotations = utr3_k562\n",
    "            else:\n",
    "                print(cell)\n",
    "\n",
    "            ### Foreach replicate, build teh command used to call the python script.\n",
    "            for r in [r1, r2]:\n",
    "                name = os.path.basename(r).replace('.bam','.{}.{}'.format(normalization_level, ext))\n",
    "                output_filename = os.path.join(\n",
    "                    params[read_type]['output_dir'],\n",
    "                    name\n",
    "                )\n",
    "\n",
    "                # Build the cmd line\n",
    "                cmd = \"python \" + density_runner\n",
    "                cmd = cmd + \" --event {}\".format('metagene')\n",
    "                cmd = cmd + \" --ipbam {}\".format(r)\n",
    "                cmd = cmd + \" --inputbam {}\".format(i)\n",
    "                cmd = cmd + \" --output {}\".format(output_filename)\n",
    "                cmd = cmd + \" --annotations {} {}\".format(\n",
    "                    utr5_annotations, utr3_annotations\n",
    "                )\n",
    "                cmd = cmd + \" --annotation_type {} {}\".format(\n",
    "                    'bed', 'bed' \n",
    "                )\n",
    "                cmd = cmd + \" --scale\"\n",
    "                cmd = cmd + \" --exon_offset 0\"\n",
    "                cmd = cmd + \" --intron_offset 0\"\n",
    "                cmd = cmd + \" --normalization_level {}\".format(normalization_level)\n",
    "                if not os.path.exists(output_filename) or force == True:\n",
    "                    cmds.append(cmd)\n",
    "                    \n",
    "\n",
    "bash_script_sh = '/projects/ps-yeolab3/bay001/maps/bash_scripts/{}/{}-utrs_{}.{}.sh'.format(\n",
    "    current_date, \n",
    "    params[read_type]['prefix'], \n",
    "    ext,\n",
    "    normalization_level\n",
    ")\n",
    "\n",
    "Submitter(\n",
    "    cmds, \n",
    "    \"{}-utrs_{}\".format(params[read_type]['prefix'], ext), \n",
    "    sh=bash_script_sh,\n",
    "    submit=True,\n",
    "    array=True,\n",
    "    walltime='8:00:00',\n",
    "    queue='home-yeo'\n",
    ")"
   ]
  },
  {
   "cell_type": "code",
   "execution_count": 13,
   "metadata": {},
   "outputs": [
    {
     "name": "stderr",
     "output_type": "stream",
     "text": [
      "Writing 362 tasks as an array-job.\n",
      "Wrote commands to /projects/ps-yeolab3/bay001/maps/bash_scripts/11-30-2017/peak_bb-utrs_png.0.sh.\n"
     ]
    },
    {
     "data": {
      "text/plain": [
       "<qtools.submitter.Submitter at 0x2b933987b450>"
      ]
     },
     "execution_count": 13,
     "metadata": {},
     "output_type": "execute_result"
    }
   ],
   "source": [
    "img_extension = ['png']\n",
    "\n",
    "\n",
    "read_type = 'peak'\n",
    "all_peaks = glob.glob(os.path.join(params[read_type]['peak_dir'],'*.bb'))\n",
    "\n",
    "### Force override of maps\n",
    "force = True\n",
    "\n",
    "clip_df = pd.read_table(params[read_type]['clip_manifest'])\n",
    "cmds = []\n",
    "\n",
    "for ext in img_extension:\n",
    "    for peak in all_peaks:\n",
    "\n",
    "        uid, rep, other = m.split_uid_and_rep(os.path.basename(peak).split('.')[0])\n",
    "        _, _, _, rbp, cell = m.get_clip_file_from_uid(\n",
    "            clip_df, uid\n",
    "        )\n",
    "\n",
    "        if cell == 'K562' or cell == 'HepG2':\n",
    "            utr5_annotations = utr5\n",
    "            utr3_annotations = utr3\n",
    "        else:\n",
    "            print(cell)\n",
    "\n",
    "        ### build teh command used to call the python script.\n",
    "        output_filename = os.path.join(\n",
    "            params[read_type]['output_dir'],\n",
    "            os.path.basename(peak).replace('.bb','.bb.{}'.format(ext))\n",
    "        )\n",
    "\n",
    "        # Build the cmd line\n",
    "        cmd = \"python \" + density_runner\n",
    "        cmd = cmd + \" --event {}\".format('metagene')\n",
    "        cmd = cmd + \" --peak {}\".format(peak)\n",
    "        cmd = cmd + \" --output {}\".format(output_filename)\n",
    "        cmd = cmd + \" --annotations {} {}\".format(\n",
    "            utr5_annotations, utr3_annotations\n",
    "        )\n",
    "        cmd = cmd + \" --annotation_type {} {}\".format(\n",
    "            'bed', 'bed' \n",
    "        )\n",
    "        cmd = cmd + \" --scale\"\n",
    "        cmd = cmd + \" --exon_offset 0\"\n",
    "        cmd = cmd + \" --intron_offset 0\"\n",
    "        cmd = cmd + \" --normalization_level {}\".format(0)\n",
    "        if not os.path.exists(output_filename) or force == True:\n",
    "            cmds.append(cmd)\n",
    "\n",
    "\n",
    "bash_script_sh = '/projects/ps-yeolab3/bay001/maps/bash_scripts/{}/{}-utrs_{}.{}.sh'.format(\n",
    "    current_date, \n",
    "    params[read_type]['prefix'], \n",
    "    ext,\n",
    "    0\n",
    ")\n",
    "\n",
    "Submitter(\n",
    "    cmds, \n",
    "    \"{}-utrs_{}\".format(params[read_type]['prefix'], ext), \n",
    "    sh=bash_script_sh,\n",
    "    submit=False,\n",
    "    array=True,\n",
    "    walltime='8:00:00',\n",
    "    queue='condo'\n",
    ")"
   ]
  },
  {
   "cell_type": "code",
   "execution_count": null,
   "metadata": {
    "collapsed": true
   },
   "outputs": [],
   "source": []
  }
 ],
 "metadata": {
  "kernelspec": {
   "display_name": "Python 2",
   "language": "python",
   "name": "python2"
  },
  "language_info": {
   "codemirror_mode": {
    "name": "ipython",
    "version": 2
   },
   "file_extension": ".py",
   "mimetype": "text/x-python",
   "name": "python",
   "nbconvert_exporter": "python",
   "pygments_lexer": "ipython2",
   "version": "2.7.14"
  },
  "widgets": {
   "state": {
    "569a4a5b3e314a91ab2b92dcfc9868e4": {
     "views": [
      {
       "cell_index": 29
      }
     ]
    }
   },
   "version": "1.2.0"
  }
 },
 "nbformat": 4,
 "nbformat_minor": 1
}
