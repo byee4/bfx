{
 "cells": [
  {
   "cell_type": "code",
   "execution_count": 58,
   "metadata": {
    "collapsed": true
   },
   "outputs": [],
   "source": [
    "%matplotlib inline\n",
    "import matplotlib.pyplot as plt\n",
    "import seaborn as sns\n",
    "import pandas as pd\n",
    "import os\n",
    "import glob\n",
    "from tqdm import tnrange, tqdm_notebook\n",
    "import pysam"
   ]
  },
  {
   "cell_type": "code",
   "execution_count": 59,
   "metadata": {
    "collapsed": true
   },
   "outputs": [],
   "source": [
    "jxc_dir = '/home/elvannostrand/data/ENCODE/RNAseq/scripts/exon_junction_counts/encode_rnaseq_psis_20170321/'\n",
    "jxc_i = glob.glob(os.path.join(jxc_dir,'*.bam.namesort.bam.int_jxn_counts'))\n",
    "jxc = glob.glob(os.path.join(jxc_dir,'*.bam.namesort.bam.jxn_counts'))\n",
    "bam = '/home/bay001/projects/encode/analysis/tests/eric_retained_intron/ENCFF385UCY.sorted.bam'"
   ]
  },
  {
   "cell_type": "code",
   "execution_count": 60,
   "metadata": {
    "collapsed": false
   },
   "outputs": [],
   "source": [
    "all_controls = pd.read_table('/projects/ps-yeolab3/encode/k562_brenton-graveley_ambiguous_bams_for_integrated_analysis.txt')\n",
    "all_controls_r1 = set(all_controls['control_rep1'])\n",
    "all_controls_r2 = set(all_controls['control_rep2'])\n",
    "ac = all_controls_r1.union(all_controls_r2)\n",
    "ac = set(ac)"
   ]
  },
  {
   "cell_type": "code",
   "execution_count": 68,
   "metadata": {
    "collapsed": false
   },
   "outputs": [],
   "source": [
    "stop_at = 10\n",
    "bad = []\n",
    "ctrl_bams = ac\n",
    "\n",
    "c = 0\n",
    "ac = ['ENCFF157TKC.bam']\n",
    "progress = tnrange(len(ac))\n",
    "for b in ac:\n",
    "    original = '/projects/ps-yeolab3/encode/rnaseq/shrna_knockdown_graveley_tophat/{}'.format(b)\n",
    "    bam = '/home/bay001/projects/encode/analysis/tests/eric_retained_intron/{}'.format(b)\n",
    "    if not os.path.exists(bam):\n",
    "        ! ln -s $original $bam\n",
    "    if not os.path.exists(bam + '.bai'):\n",
    "        ! samtools index $bam\n",
    "    i = '/home/elvannostrand/data/ENCODE/RNAseq/scripts/exon_junction_counts/encode_rnaseq_psis_20170321/{}.namesort.bam.int_jxn_counts'.format(b)\n",
    "    samfile = pysam.AlignmentFile(bam, \"rb\", )\n",
    "    # for jct in dfi['jct'].head():\n",
    "    dfi = pd.read_table(i, names = ['chrom','strand','jct','num'])\n",
    "    # dfi = pd.DataFrame(dfi.ix[3]).T\n",
    "    for col, row in dfi.iterrows():\n",
    "        c += 1\n",
    "        names = []\n",
    "        for read in samfile.fetch(row['chrom'], row['jct'], row['jct']+1):\n",
    "            # print(read.get_reference_positions()[0], row['jct'])\n",
    "            if 'N' not in read.cigarstring:\n",
    "                if row['jct'] - read.get_reference_positions()[0] > 10 and read.get_reference_positions()[-1] - row['jct'] > 10: # sufficient overhang near read start\n",
    "                    names.append(read.query_name)\n",
    "        if c > stop_at:\n",
    "            break\n",
    "        if (len(set(names)) != row['num']):\n",
    "            bad.append([b,set(names), row['num'], row['jct']])\n",
    "        \n",
    "        \n",
    "    if c > stop_at:\n",
    "        break\n",
    "    # print(\"{}:{} \".format(b,len(bad))),\n",
    "    \n",
    "    progress.update(1)"
   ]
  },
  {
   "cell_type": "code",
   "execution_count": 69,
   "metadata": {
    "collapsed": false
   },
   "outputs": [
    {
     "data": {
      "text/plain": [
       "[['ENCFF157TKC.bam',\n",
       "  {'HWI-D00304:123:C8LH5ANXX:6:1108:12589:77972',\n",
       "   'HWI-D00304:123:C8LH5ANXX:6:1111:14318:66337',\n",
       "   'HWI-D00304:123:C8LH5ANXX:6:2302:2548:16505'},\n",
       "  2,\n",
       "  40875508],\n",
       " ['ENCFF157TKC.bam',\n",
       "  {'HWI-D00304:123:C8LH5ANXX:6:1301:5808:59002',\n",
       "   'HWI-D00304:123:C8LH5ANXX:6:2105:3131:8118'},\n",
       "  1,\n",
       "  9784332],\n",
       " ['ENCFF157TKC.bam',\n",
       "  {'HWI-D00304:123:C8LH5ANXX:6:1116:18534:16753',\n",
       "   'HWI-D00304:123:C8LH5ANXX:6:1204:10267:54805',\n",
       "   'HWI-D00304:123:C8LH5ANXX:6:1214:14264:68408',\n",
       "   'HWI-D00304:123:C8LH5ANXX:6:2210:8746:9622',\n",
       "   'HWI-D00304:123:C8LH5ANXX:6:2307:19433:25314',\n",
       "   'HWI-D00304:123:C8LH5ANXX:6:2313:6061:9321',\n",
       "   'HWI-D00304:123:C8LH5ANXX:6:2316:6682:36497'},\n",
       "  2,\n",
       "  53678934],\n",
       " ['ENCFF157TKC.bam',\n",
       "  {'HWI-D00304:123:C8LH5ANXX:6:1312:8410:95013',\n",
       "   'HWI-D00304:123:C8LH5ANXX:6:2109:2126:45635',\n",
       "   'HWI-D00304:123:C8LH5ANXX:6:2110:18064:4818'},\n",
       "  2,\n",
       "  143348887],\n",
       " ['ENCFF157TKC.bam',\n",
       "  {'HWI-D00304:123:C8LH5ANXX:6:1107:1303:24149',\n",
       "   'HWI-D00304:123:C8LH5ANXX:6:2114:18239:60967'},\n",
       "  1,\n",
       "  117633152]]"
      ]
     },
     "execution_count": 69,
     "metadata": {},
     "output_type": "execute_result"
    }
   ],
   "source": [
    "bad"
   ]
  },
  {
   "cell_type": "code",
   "execution_count": 6,
   "metadata": {
    "collapsed": true
   },
   "outputs": [],
   "source": [
    "def make_bedtool(eric, offset=0):\n",
    "    chrom, strand, pos = eric.split(':')\n",
    "    start, end = pos.split('-')\n",
    "    return pybedtools.create_interval_from_list([\n",
    "            chrom, str(int(start) + offset), str(int(start) + offset + 1), 'start', '0', strand\n",
    "        ])\n",
    "def count_jcts(jct_df):\n",
    "    bts = []\n",
    "    for junc in jct_df['jct']:\n",
    "        bts.append(make_bedtool(junc))\n",
    "    return pybedtools.BedTool(bts)"
   ]
  },
  {
   "cell_type": "code",
   "execution_count": null,
   "metadata": {
    "collapsed": false
   },
   "outputs": [],
   "source": [
    "bts = count_jcts(df).sort()"
   ]
  },
  {
   "cell_type": "code",
   "execution_count": null,
   "metadata": {
    "collapsed": false
   },
   "outputs": [],
   "source": [
    "b = pybedtools.BedTool(bam)\n",
    "bts[0]"
   ]
  },
  {
   "cell_type": "code",
   "execution_count": null,
   "metadata": {
    "collapsed": false
   },
   "outputs": [],
   "source": [
    "btx = bts.intersect(b, sorted=True, wa=True, wb=True)"
   ]
  },
  {
   "cell_type": "code",
   "execution_count": null,
   "metadata": {
    "collapsed": false
   },
   "outputs": [],
   "source": [
    "dfx = btx.to_dataframe()"
   ]
  },
  {
   "cell_type": "code",
   "execution_count": null,
   "metadata": {
    "collapsed": false
   },
   "outputs": [],
   "source": []
  },
  {
   "cell_type": "code",
   "execution_count": null,
   "metadata": {
    "collapsed": false
   },
   "outputs": [],
   "source": [
    "single_junction_site = pybedtools.create_interval_from_list(['chr1','40875508','40875509','name','0','+'])\n",
    "single_junction_site = pybedtools.BedTool(single_junction_site)\n",
    "single_junction_site"
   ]
  },
  {
   "cell_type": "code",
   "execution_count": null,
   "metadata": {
    "collapsed": false
   },
   "outputs": [],
   "source": [
    "dfy = single_junction_site.intersect(b, wa=True, wb=True)\n",
    "dfy"
   ]
  },
  {
   "cell_type": "code",
   "execution_count": null,
   "metadata": {
    "collapsed": false
   },
   "outputs": [],
   "source": [
    "\n",
    "samfile = pysam.AlignmentFile(bam, \"rb\", )\n",
    "c = 0\n",
    "for read in samfile.fetch('chr1', 40875507, 40875508):\n",
    "     if 'N' not in read.cigarstring:\n",
    "        # print(read.get_reference_positions()[0] - 40875508, read.query_name, read.flag, read.cigarstring, read.get_reference_positions()[0])\n",
    "        c+=1\n",
    "        # print(read.query_name)\n",
    "print(c)"
   ]
  },
  {
   "cell_type": "code",
   "execution_count": null,
   "metadata": {
    "collapsed": false
   },
   "outputs": [],
   "source": [
    "i = '/home/elvannostrand/data/ENCODE/RNAseq/scripts/exon_junction_counts/encode_rnaseq_psis_20170321/ENCFF475GCB.bam.namesort.bam.int_jxn_counts'\n",
    "\n",
    "dfi = pd.read_table(i, names = ['chrom','strand','jct','num'])\n",
    "dfi.head()"
   ]
  },
  {
   "cell_type": "code",
   "execution_count": 7,
   "metadata": {
    "collapsed": false
   },
   "outputs": [],
   "source": []
  },
  {
   "cell_type": "code",
   "execution_count": 55,
   "metadata": {
    "collapsed": false
   },
   "outputs": [
    {
     "name": "stdout",
     "output_type": "stream",
     "text": [
      "[['ENCFF157TKC.bam', set(['HWI-D00304:123:C8LH5ANXX:6:2210:8746:9622', 'HWI-D00304:123:C8LH5ANXX:6:1116:18534:16753', 'HWI-D00304:123:C8LH5ANXX:6:2316:6682:36497', 'HWI-D00304:123:C8LH5ANXX:6:2313:6061:9321', 'HWI-D00304:123:C8LH5ANXX:6:1204:10267:54805', 'HWI-D00304:123:C8LH5ANXX:6:2307:19433:25314', 'HWI-D00304:123:C8LH5ANXX:6:1214:14264:68408'])]]\n"
     ]
    }
   ],
   "source": []
  },
  {
   "cell_type": "code",
   "execution_count": 56,
   "metadata": {
    "collapsed": false
   },
   "outputs": [
    {
     "data": {
      "text/plain": [
       "{'HWI-D00304:123:C8LH5ANXX:6:1116:18534:16753',\n",
       " 'HWI-D00304:123:C8LH5ANXX:6:1204:10267:54805',\n",
       " 'HWI-D00304:123:C8LH5ANXX:6:1214:14264:68408',\n",
       " 'HWI-D00304:123:C8LH5ANXX:6:2210:8746:9622',\n",
       " 'HWI-D00304:123:C8LH5ANXX:6:2307:19433:25314',\n",
       " 'HWI-D00304:123:C8LH5ANXX:6:2313:6061:9321',\n",
       " 'HWI-D00304:123:C8LH5ANXX:6:2316:6682:36497'}"
      ]
     },
     "execution_count": 56,
     "metadata": {},
     "output_type": "execute_result"
    }
   ],
   "source": [
    "set(names)"
   ]
  },
  {
   "cell_type": "code",
   "execution_count": 51,
   "metadata": {
    "collapsed": false
   },
   "outputs": [
    {
     "data": {
      "text/html": [
       "<div>\n",
       "<table border=\"1\" class=\"dataframe\">\n",
       "  <thead>\n",
       "    <tr style=\"text-align: right;\">\n",
       "      <th></th>\n",
       "      <th>chrom</th>\n",
       "      <th>strand</th>\n",
       "      <th>jct</th>\n",
       "      <th>num</th>\n",
       "    </tr>\n",
       "  </thead>\n",
       "  <tbody>\n",
       "    <tr>\n",
       "      <th>3</th>\n",
       "      <td>chr1</td>\n",
       "      <td>+</td>\n",
       "      <td>53678934</td>\n",
       "      <td>2</td>\n",
       "    </tr>\n",
       "  </tbody>\n",
       "</table>\n",
       "</div>"
      ],
      "text/plain": [
       "  chrom strand       jct num\n",
       "3  chr1      +  53678934   2"
      ]
     },
     "execution_count": 51,
     "metadata": {},
     "output_type": "execute_result"
    }
   ],
   "source": [
    "pd.DataFrame(dfi)"
   ]
  },
  {
   "cell_type": "code",
   "execution_count": 52,
   "metadata": {
    "collapsed": false
   },
   "outputs": [
    {
     "data": {
      "text/plain": [
       "'/home/elvannostrand/data/ENCODE/RNAseq/scripts/exon_junction_counts/encode_rnaseq_psis_20170321/ENCFF157TKC.bam.namesort.bam.int_jxn_counts'"
      ]
     },
     "execution_count": 52,
     "metadata": {},
     "output_type": "execute_result"
    }
   ],
   "source": [
    "i"
   ]
  },
  {
   "cell_type": "code",
   "execution_count": null,
   "metadata": {
    "collapsed": true
   },
   "outputs": [],
   "source": []
  }
 ],
 "metadata": {
  "kernelspec": {
   "display_name": "Python 2",
   "language": "python",
   "name": "python2"
  },
  "language_info": {
   "codemirror_mode": {
    "name": "ipython",
    "version": 2
   },
   "file_extension": ".py",
   "mimetype": "text/x-python",
   "name": "python",
   "nbconvert_exporter": "python",
   "pygments_lexer": "ipython2",
   "version": "2.7.12"
  },
  "widgets": {
   "state": {
    "96b88d8a055c4fafb9bf66e30e4a5104": {
     "views": [
      {
       "cell_index": 16
      }
     ]
    },
    "bbb96f1879d645b3b0644627f86d8a9c": {
     "views": [
      {
       "cell_index": 3
      }
     ]
    }
   },
   "version": "1.2.0"
  }
 },
 "nbformat": 4,
 "nbformat_minor": 1
}
