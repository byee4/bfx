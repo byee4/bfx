{
 "cells": [
  {
   "cell_type": "markdown",
   "metadata": {},
   "source": [
    "# Filter annotations (cds, txstart/stop, exon, intron, utr) by TPM\n",
    "- we use these annotations to make the metagene maps"
   ]
  },
  {
   "cell_type": "code",
   "execution_count": 1,
   "metadata": {
    "collapsed": true
   },
   "outputs": [],
   "source": [
    "import pandas as pd\n",
    "import numpy as np\n",
    "import os\n",
    "import glob\n",
    "from tqdm import tnrange, tqdm_notebook"
   ]
  },
  {
   "cell_type": "code",
   "execution_count": 2,
   "metadata": {
    "collapsed": true
   },
   "outputs": [],
   "source": [
    "wd = '/projects/ps-yeolab3/bay001/maps/current_annotations/'\n",
    "names = ['chrom','start','end','name','score','strand']\n",
    "hepg2_tpm = pd.read_table(os.path.join(wd,'HepG2_topENSTbyTPM.wnoncoding.csv'))\n",
    "k562_tpm = pd.read_table(os.path.join(wd,'K562_topENSTbyTPM.wnoncoding.csv'))\n",
    "hepg2_tpm_1 = hepg2_tpm[hepg2_tpm['ENST_tpm']>=1]\n",
    "k562_tpm_1 = k562_tpm[k562_tpm['ENST_tpm']>=1]"
   ]
  },
  {
   "cell_type": "code",
   "execution_count": 3,
   "metadata": {
    "collapsed": true
   },
   "outputs": [],
   "source": [
    "def filter_and_save(in_file, tpm_df, out_file):\n",
    "    \n",
    "    regions = pd.read_table(in_file, names=names)\n",
    "\n",
    "    new_regions = regions.set_index('name').loc[tpm_df['#ENSG']].dropna().reset_index()\n",
    "    new_regions = new_regions[['chrom','start','end','name','score','strand']]\n",
    "\n",
    "    # NaNs introduced as a result of filtering by index convert positions into floats\n",
    "    new_regions['start'] = new_regions['start'].astype(int)\n",
    "    new_regions['end'] = new_regions['end'].astype(int)\n",
    "    new_regions.to_csv(out_file, sep='\\t', index=False, header=False)"
   ]
  },
  {
   "cell_type": "markdown",
   "metadata": {},
   "source": [
    "# Filter the annotations by TPM and save"
   ]
  },
  {
   "cell_type": "code",
   "execution_count": 4,
   "metadata": {},
   "outputs": [
    {
     "name": "stderr",
     "output_type": "stream",
     "text": [
      "Widget Javascript not detected.  It may not be installed or enabled properly.\n"
     ]
    },
    {
     "data": {
      "application/vnd.jupyter.widget-view+json": {
       "model_id": "c98ef420185242139132e7da7bb46040"
      }
     },
     "metadata": {},
     "output_type": "display_data"
    }
   ],
   "source": [
    "regions = [\n",
    "    # 'cds','exons','introns','five_prime_utrs','three_prime_utrs','distintron500','proxintron500','genes',\n",
    "    'poly_a_sites','transcription_start_sites','start_codons','stop_codons'\n",
    "]\n",
    "\n",
    "progress = tnrange(len(regions)*2)\n",
    "for region in regions:\n",
    "    in_file = os.path.join(wd,'hg19_v19_{}.bed'.format(region))\n",
    "    for cell_type in ['HepG2', 'K562']:\n",
    "        if cell_type == 'HepG2':\n",
    "            tpm_df = hepg2_tpm_1\n",
    "            out_file = os.path.join(wd,'hg19_v19_{}.HepG2_tpm1.bed'.format(region))\n",
    "        elif cell_type == 'K562':\n",
    "            tpm_df = k562_tpm_1\n",
    "            out_file = os.path.join(wd,'hg19_v19_{}.K562_tpm1.bed'.format(region))\n",
    "        filter_and_save(in_file, tpm_df, out_file)\n",
    "        progress.update(1)"
   ]
  },
  {
   "cell_type": "code",
   "execution_count": null,
   "metadata": {
    "collapsed": true
   },
   "outputs": [],
   "source": []
  }
 ],
 "metadata": {
  "kernelspec": {
   "display_name": "Python 2",
   "language": "python",
   "name": "python2"
  },
  "language_info": {
   "codemirror_mode": {
    "name": "ipython",
    "version": 2
   },
   "file_extension": ".py",
   "mimetype": "text/x-python",
   "name": "python",
   "nbconvert_exporter": "python",
   "pygments_lexer": "ipython2",
   "version": "2.7.15"
  }
 },
 "nbformat": 4,
 "nbformat_minor": 2
}
