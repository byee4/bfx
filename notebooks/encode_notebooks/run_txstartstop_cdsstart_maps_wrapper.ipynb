{
 "cells": [
  {
   "cell_type": "markdown",
   "metadata": {},
   "source": [
    "# Wrapper notebook for submitting the RBP maps script to TSCC"
   ]
  },
  {
   "cell_type": "code",
   "execution_count": 1,
   "metadata": {
    "collapsed": true
   },
   "outputs": [],
   "source": [
    "import pandas as pd\n",
    "import os\n",
    "import json\n",
    "import yaml\n",
    "import glob\n",
    "# import rethinkdb as r\n",
    "from collections import defaultdict\n",
    "from qtools import Submitter\n",
    "from encode import manifest_helpers as m\n",
    "\n",
    "from tqdm import tnrange, tqdm_notebook\n",
    "pd.set_option(\"display.max_colwidth\", 10000)\n"
   ]
  },
  {
   "cell_type": "markdown",
   "metadata": {
    "collapsed": true
   },
   "source": [
    "# Define programs"
   ]
  },
  {
   "cell_type": "code",
   "execution_count": 2,
   "metadata": {
    "collapsed": true
   },
   "outputs": [],
   "source": [
    "density_runner = '/home/bay001/projects/codebase/rbp-maps/maps/plot_density.py'\n",
    "\n",
    "params = {\n",
    "    'whole_read':{\n",
    "        'output_dir' : '/home/bay001/projects/maps_20160420/analysis/cds_start_stop_txstart_crg_eu/',\n",
    "        'clip_manifest' : '/home/bay001/projects/maps_20160420/permanent_data/ALLDATASETS_submittedonly.txt',\n",
    "        'prefix' : 'whole_read',\n",
    "    },\n",
    "    'peak_cds':{\n",
    "        'peak_dir' : '/projects/ps-yeolab3/bay001/maps/current_annotations/se_peak_bigbeds/',\n",
    "        'output_dir' : '/projects/ps-yeolab3/bay001/maps/current/peak_cds_start_stop_hg19v19/',\n",
    "        'clip_manifest' : '/home/bay001/projects/maps_20160420/permanent_data/ALLDATASETS_submittedonly.txt',\n",
    "        'prefix' : 'peak_bb_cds',\n",
    "    },\n",
    "    'peak_tx':{\n",
    "        'peak_dir' : '/projects/ps-yeolab3/bay001/maps/current_annotations/se_peak_bigbeds/',\n",
    "        'output_dir' : '/projects/ps-yeolab3/bay001/maps/current/peak_tx_start_stop_hg19v19/',\n",
    "        'clip_manifest' : '/home/bay001/projects/maps_20160420/permanent_data/ALLDATASETS_submittedonly.txt',\n",
    "        'prefix' : 'peak_bb_tx',\n",
    "    },\n",
    "}\n",
    "\n"
   ]
  },
  {
   "cell_type": "markdown",
   "metadata": {},
   "source": [
    "# Define static annotations"
   ]
  },
  {
   "cell_type": "code",
   "execution_count": 3,
   "metadata": {
    "collapsed": true
   },
   "outputs": [],
   "source": [
    "current_date = '12-5-2017'\n",
    "\n",
    "annotation_dir = '/projects/ps-yeolab3/bay001/maps/current_annotations/'\n",
    "\n",
    "hepg2_start_codons = os.path.join(annotation_dir, 'hg19_v19_start_codons.HepG2_tpm1.bed')\n",
    "hepg2_stop_codons = os.path.join(annotation_dir, 'hg19_v19_stop_codons.HepG2_tpm1.bed')\n",
    "\n",
    "hepg2_txstart = os.path.join(annotation_dir, 'hg19_v19_transcription_start_sites.HepG2_tpm1.bed')\n",
    "hepg2_txstop = os.path.join(annotation_dir, 'hg19_v19_poly_a_sites.HepG2_tpm1.bed')\n",
    "\n",
    "k562_start_codons = os.path.join(annotation_dir, 'hg19_v19_start_codons.K562_tpm1.bed')\n",
    "k562_stop_codons = os.path.join(annotation_dir, 'hg19_v19_stop_codons.K562_tpm1.bed')\n",
    "\n",
    "k562_txstart = os.path.join(annotation_dir, 'hg19_v19_transcription_start_sites.K562_tpm1.bed')\n",
    "k562_txstop = os.path.join(annotation_dir, 'hg19_v19_poly_a_sites.K562_tpm1.bed')\n",
    "\n",
    "\n",
    "bash_scripts_dir = '/projects/ps-yeolab3/bay001/maps/bash_scripts/{}'.format(current_date)\n",
    "\n",
    "if not os.path.exists(bash_scripts_dir):\n",
    "    ! mkdir $bash_scripts_dir"
   ]
  },
  {
   "cell_type": "markdown",
   "metadata": {},
   "source": [
    "# Plot Density Maps\n",
    "- I think we're choosing not to run this part, just use the peaks."
   ]
  },
  {
   "cell_type": "code",
   "execution_count": 4,
   "metadata": {},
   "outputs": [],
   "source": [
    "def make_density_maps():\n",
    "    img_extension = ['png']\n",
    "\n",
    "\n",
    "    read_type = 'whole_read'\n",
    "    normalization_levels = [3]\n",
    "\n",
    "    ### Force override of maps\n",
    "    force = True\n",
    "\n",
    "    clip_df = pd.read_table(params[read_type]['clip_manifest'])\n",
    "    cmds = []\n",
    "\n",
    "    for normalization_level in normalization_levels:\n",
    "        for ext in img_extension:\n",
    "            for uid in clip_df['uID']:\n",
    "\n",
    "                r1, r2, i, rbp, cell = m.get_clip_file_from_uid(clip_df, uid)\n",
    "\n",
    "                if cell == 'HepG2':\n",
    "                    start_codons_annotation = hepg2_start_codons\n",
    "                    txstart_annotation = hepg2_txstart\n",
    "                    txstop_annotation = hepg2_txstop\n",
    "                elif cell == 'K562':\n",
    "                    start_codons_annotation = k562_start_codons\n",
    "                    txstart_annotation = k562_txstart\n",
    "                    txstop_annotation = k562_txstop\n",
    "                else:\n",
    "                    print(cell)\n",
    "\n",
    "                ### Foreach replicate, build teh command used to call the python script.\n",
    "                for r in [r1, r2]:\n",
    "                    name = os.path.basename(r).replace('.bam','.{}.{}'.format(normalization_level, ext))\n",
    "                    output_filename = os.path.join(\n",
    "                        params[read_type]['output_dir'],\n",
    "                        name\n",
    "                    )\n",
    "\n",
    "                    # Build the cmd line\n",
    "                    cmd = \"python \" + density_runner\n",
    "                    cmd = cmd + \" --event {}\".format('bed')\n",
    "                    cmd = cmd + \" --ipbam {}\".format(r)\n",
    "                    cmd = cmd + \" --inputbam {}\".format(i)\n",
    "                    cmd = cmd + \" --output {}\".format(output_filename)\n",
    "                    cmd = cmd + \" --annotations {} {} {}\".format(\n",
    "                        start_codons_annotation, txstart_annotation, txstop_annotation\n",
    "                    )\n",
    "                    cmd = cmd + \" --annotation_type {} {} {}\".format(\n",
    "                        'bed', 'bed', 'bed', \n",
    "                    )\n",
    "                    cmd = cmd + \" --scale\"\n",
    "                    cmd = cmd + \" --exon_offset 0\"\n",
    "                    cmd = cmd + \" --intron_offset 0\"\n",
    "                    cmd = cmd + \" --normalization_level {}\".format(normalization_level)\n",
    "                    if not os.path.exists(output_filename) or force == True:\n",
    "                        cmds.append(cmd)\n",
    "\n",
    "\n",
    "    bash_script_sh = '/projects/ps-yeolab3/bay001/maps/bash_scripts/{}/{}-cdstss_{}.{}.sh'.format(\n",
    "        current_date, \n",
    "        params[read_type]['prefix'], \n",
    "        ext,\n",
    "        normalization_level\n",
    "    )\n",
    "\n",
    "    Submitter(\n",
    "        cmds, \n",
    "        \"{}-cdstss_{}\".format(params[read_type]['prefix'], ext), \n",
    "        sh=bash_script_sh,\n",
    "        submit=False,\n",
    "        array=True,\n",
    "        walltime='2:00:00',\n",
    "        queue='home-yeo'\n",
    "    )"
   ]
  },
  {
   "cell_type": "code",
   "execution_count": 7,
   "metadata": {},
   "outputs": [
    {
     "name": "stderr",
     "output_type": "stream",
     "text": [
      "Writing 362 tasks as an array-job.\n",
      "Wrote commands to /projects/ps-yeolab3/bay001/maps/bash_scripts/12-5-2017/peak_bb_tx-cdstss_png.0.sh.\n"
     ]
    },
    {
     "data": {
      "text/plain": [
       "<qtools.submitter.Submitter at 0x2ad6a988a710>"
      ]
     },
     "execution_count": 7,
     "metadata": {},
     "output_type": "execute_result"
    }
   ],
   "source": [
    "img_extension = ['png']\n",
    "\n",
    "\n",
    "read_type = 'peak_tx'\n",
    "all_peaks = glob.glob(os.path.join(params[read_type]['peak_dir'],'*.bb'))\n",
    "\n",
    "### Force override of maps\n",
    "force = True\n",
    "\n",
    "clip_df = pd.read_table(params[read_type]['clip_manifest'])\n",
    "cmds = []\n",
    "\n",
    "for ext in img_extension:\n",
    "    for peak in all_peaks:\n",
    "\n",
    "        uid, rep, other = m.split_uid_and_rep(os.path.basename(peak).split('.')[0])\n",
    "        _, _, _, rbp, cell = m.get_clip_file_from_uid(\n",
    "            clip_df, uid\n",
    "        )\n",
    "\n",
    "        if cell == 'HepG2':\n",
    "            if read_type == 'peak_cds':\n",
    "                annotation1 = hepg2_start_codons\n",
    "                annotation2 = hepg2_stop_codons\n",
    "            elif read_type == 'peak_tx':\n",
    "                annotation1 = hepg2_txstart\n",
    "                annotation2 = hepg2_txstop\n",
    "        elif cell == 'K562':\n",
    "            if read_type == 'peak_cds':\n",
    "                annotation1 = k562_start_codons\n",
    "                annotation2 = k562_stop_codons\n",
    "            elif read_type == 'peak_tx':\n",
    "                annotation1 = k562_txstart\n",
    "                annotation2 = k562_txstop\n",
    "        else:\n",
    "            print(cell)\n",
    "\n",
    "        ### build teh command used to call the python script.\n",
    "        output_filename = os.path.join(\n",
    "            params[read_type]['output_dir'],\n",
    "            os.path.basename(peak).replace('.bb','.bb.{}'.format(ext))\n",
    "        )\n",
    "\n",
    "        # Build the cmd line\n",
    "        cmd = \"python \" + density_runner\n",
    "        cmd = cmd + \" --event {}\".format('bed')\n",
    "        cmd = cmd + \" --peak {}\".format(peak)\n",
    "        cmd = cmd + \" --output {}\".format(output_filename)\n",
    "        cmd = cmd + \" --annotations {} {}\".format(\n",
    "            annotation1, annotation2\n",
    "        )\n",
    "        cmd = cmd + \" --annotation_type {} {}\".format(\n",
    "            'bed', 'bed', \n",
    "        )\n",
    "        cmd = cmd + \" --scale\"\n",
    "        cmd = cmd + \" --exon_offset 300\" ## note: the crg-eu are already padded\n",
    "        cmd = cmd + \" --intron_offset 300\" ## note: the crg-eu are already padded\n",
    "        cmd = cmd + \" --normalization_level {}\".format(0)\n",
    "        if not os.path.exists(output_filename) or force == True:\n",
    "            cmds.append(cmd)\n",
    "                    \n",
    "\n",
    "bash_script_sh = '/projects/ps-yeolab3/bay001/maps/bash_scripts/{}/{}-cdstss_{}.{}.sh'.format(\n",
    "    current_date, \n",
    "    params[read_type]['prefix'], \n",
    "    ext,\n",
    "    0\n",
    ")\n",
    "\n",
    "Submitter(\n",
    "    cmds, \n",
    "    \"{}-{}\".format(params[read_type]['prefix'], ext), \n",
    "    sh=bash_script_sh,\n",
    "    submit=False,\n",
    "    array=True,\n",
    "    walltime='8:00:00',\n",
    "    queue='home-yeo'\n",
    ")"
   ]
  },
  {
   "cell_type": "code",
   "execution_count": null,
   "metadata": {
    "collapsed": true
   },
   "outputs": [],
   "source": []
  }
 ],
 "metadata": {
  "kernelspec": {
   "display_name": "Python 2",
   "language": "python",
   "name": "python2"
  },
  "language_info": {
   "codemirror_mode": {
    "name": "ipython",
    "version": 2
   },
   "file_extension": ".py",
   "mimetype": "text/x-python",
   "name": "python",
   "nbconvert_exporter": "python",
   "pygments_lexer": "ipython2",
   "version": "2.7.13"
  },
  "widgets": {
   "state": {
    "569a4a5b3e314a91ab2b92dcfc9868e4": {
     "views": [
      {
       "cell_index": 29
      }
     ]
    }
   },
   "version": "1.2.0"
  }
 },
 "nbformat": 4,
 "nbformat_minor": 1
}
