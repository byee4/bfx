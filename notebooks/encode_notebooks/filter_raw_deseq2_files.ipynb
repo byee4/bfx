{
 "cells": [
  {
   "cell_type": "code",
   "execution_count": 1,
   "metadata": {},
   "outputs": [],
   "source": [
    "import pandas as pd\n",
    "import numpy as np\n",
    "import os\n",
    "import glob\n",
    "from tqdm import tnrange, tqdm_notebook"
   ]
  },
  {
   "cell_type": "code",
   "execution_count": 2,
   "metadata": {},
   "outputs": [],
   "source": [
    "input_dir = '/projects/ps-yeolab3/encode/rnaseq/differential_expression/DESeq_output/current'\n",
    "output_dir = '/projects/ps-yeolab3/encode/rnaseq/differential_expression/DESeq_output/current/filtered/'"
   ]
  },
  {
   "cell_type": "code",
   "execution_count": 3,
   "metadata": {},
   "outputs": [
    {
     "name": "stdout",
     "output_type": "stream",
     "text": [
      "472\n"
     ]
    }
   ],
   "source": [
    "all_raw_files = glob.glob(os.path.join(input_dir, '*_DESeq_output.txt'))\n",
    "print(len(all_raw_files))"
   ]
  },
  {
   "cell_type": "code",
   "execution_count": 4,
   "metadata": {},
   "outputs": [
    {
     "data": {
      "application/vnd.jupyter.widget-view+json": {
       "model_id": "28ab5d70f39d441c9e2fe2525ee4e630",
       "version_major": 2,
       "version_minor": 0
      },
      "text/html": [
       "<p>Failed to display Jupyter Widget of type <code>HBox</code>.</p>\n",
       "<p>\n",
       "  If you're reading this message in the Jupyter Notebook or JupyterLab Notebook, it may mean\n",
       "  that the widgets JavaScript is still loading. If this message persists, it\n",
       "  likely means that the widgets JavaScript library is either not installed or\n",
       "  not enabled. See the <a href=\"https://ipywidgets.readthedocs.io/en/stable/user_install.html\">Jupyter\n",
       "  Widgets Documentation</a> for setup instructions.\n",
       "</p>\n",
       "<p>\n",
       "  If you're reading this message in another frontend (for example, a static\n",
       "  rendering on GitHub or <a href=\"https://nbviewer.jupyter.org/\">NBViewer</a>),\n",
       "  it may mean that your frontend doesn't currently support widgets.\n",
       "</p>\n"
      ],
      "text/plain": [
       "HBox(children=(IntProgress(value=0, max=472), HTML(value=u'')))"
      ]
     },
     "metadata": {},
     "output_type": "display_data"
    }
   ],
   "source": [
    "progress = tnrange(len(all_raw_files))\n",
    "for f in all_raw_files:\n",
    "    if not os.path.exists(os.path.join(output_dir, os.path.basename(f) + \".pv0.05_fdr0.05\")):\n",
    "        df = pd.read_table(f, index_col=0)\n",
    "        df = df[(df['pval']<0.05) & (df['padj']<0.05)]\n",
    "        df.to_csv(os.path.join(output_dir, os.path.basename(f) + \".pv0.05_fdr0.05\"), sep='\\t', index=True, header=True)\n",
    "    progress.update(1)"
   ]
  },
  {
   "cell_type": "markdown",
   "metadata": {},
   "source": [
    "# Check if this output is identical to Xintao's filtered list"
   ]
  },
  {
   "cell_type": "code",
   "execution_count": 14,
   "metadata": {},
   "outputs": [],
   "source": [
    "from pandas.testing import assert_frame_equal\n",
    "\n"
   ]
  },
  {
   "cell_type": "code",
   "execution_count": null,
   "metadata": {},
   "outputs": [],
   "source": [
    "assert_frame_equal()"
   ]
  },
  {
   "cell_type": "code",
   "execution_count": 18,
   "metadata": {},
   "outputs": [],
   "source": [
    "# subset the columns that are equivalent to both\n",
    "def check_files(fn1, fn2):\n",
    "    my = pd.read_table(fn1)\n",
    "    xi = pd.read_table(\n",
    "        fn2\n",
    "    )\n",
    "    my = my[['id','baseMean','baseMeanA','baseMeanB','foldChange','log2FoldChange','pval','padj']]\n",
    "    my.columns = ['gene_id','baseMean','baseMeanA','baseMeanB','foldChange','log2FoldChange','pval','padj']\n",
    "    my.sort_values(by='gene_id', inplace=True)\n",
    "    my.set_index('gene_id', inplace=True)\n",
    "    print(my.shape)\n",
    "    xi = xi[['gene_id','baseMean','baseMeanA','baseMeanB','foldChange','log2FoldChange','pval','padj']]\n",
    "    xi.sort_values(by='gene_id', inplace=True)\n",
    "    xi.set_index('gene_id', inplace=True)\n",
    "    print(xi.shape)\n",
    "    print(assert_frame_equal(my, xi)) "
   ]
  },
  {
   "cell_type": "code",
   "execution_count": 20,
   "metadata": {},
   "outputs": [
    {
     "name": "stdout",
     "output_type": "stream",
     "text": [
      "(22, 7)\n",
      "(22, 7)\n",
      "None\n"
     ]
    }
   ],
   "source": [
    "check_files(\n",
    "    os.path.join(output_dir, 'HepG2_RBFOX2_BGHLV26_DESeq_output.txt.pv0.05_fdr0.05'),\n",
    "    '/projects/ps-yeolab3/encode/rnaseq/differential_expression/output_sig/RBFOX2_BGHLV26_DESeq_output_sig.txt'\n",
    ")"
   ]
  },
  {
   "cell_type": "code",
   "execution_count": 21,
   "metadata": {},
   "outputs": [
    {
     "name": "stdout",
     "output_type": "stream",
     "text": [
      "(2095, 7)\n",
      "(2095, 7)\n",
      "None\n"
     ]
    }
   ],
   "source": [
    "check_files(\n",
    "    os.path.join(output_dir, 'K562_EIF4B_LV08_DESeq_output.txt.pv0.05_fdr0.05'),\n",
    "    '/projects/ps-yeolab3/encode/rnaseq/differential_expression/output_sig/EIF4B_LV08_DESeq_output_sig.txt'\n",
    ")"
   ]
  },
  {
   "cell_type": "code",
   "execution_count": null,
   "metadata": {},
   "outputs": [],
   "source": []
  }
 ],
 "metadata": {
  "kernelspec": {
   "display_name": "Python 2",
   "language": "python",
   "name": "python2"
  },
  "language_info": {
   "codemirror_mode": {
    "name": "ipython",
    "version": 2
   },
   "file_extension": ".py",
   "mimetype": "text/x-python",
   "name": "python",
   "nbconvert_exporter": "python",
   "pygments_lexer": "ipython2",
   "version": "2.7.14"
  }
 },
 "nbformat": 4,
 "nbformat_minor": 2
}
