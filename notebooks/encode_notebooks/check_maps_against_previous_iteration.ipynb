{
 "cells": [
  {
   "cell_type": "markdown",
   "metadata": {},
   "source": [
    "# This makes sure that when we re-make maps, that their numbers match with what we previously had"
   ]
  },
  {
   "cell_type": "code",
   "execution_count": 1,
   "metadata": {},
   "outputs": [],
   "source": [
    "import os\n",
    "import glob\n",
    "import sys\n",
    "from tqdm import tnrange, tqdm_notebook"
   ]
  },
  {
   "cell_type": "code",
   "execution_count": 2,
   "metadata": {},
   "outputs": [],
   "source": [
    "new_dir = '/projects/ps-yeolab3/bay001/maps/current/se'\n",
    "old_dir = '/projects/ps-yeolab3/bay001/maps/archived/se_nr/9-14-2018/'"
   ]
  },
  {
   "cell_type": "code",
   "execution_count": 3,
   "metadata": {},
   "outputs": [
    {
     "name": "stdout",
     "output_type": "stream",
     "text": [
      "2702\n",
      "2702\n"
     ]
    }
   ],
   "source": [
    "all_old_files = glob.glob(os.path.join(old_dir, '*.means.txt'))\n",
    "all_new_files = glob.glob(os.path.join(new_dir, '*.means.txt'))\n",
    "print(len(all_new_files))\n",
    "print(len(all_old_files))"
   ]
  },
  {
   "cell_type": "code",
   "execution_count": 4,
   "metadata": {},
   "outputs": [
    {
     "data": {
      "application/vnd.jupyter.widget-view+json": {
       "model_id": "d5bad6fe763f4ec4a5289d004f2c1daa",
       "version_major": 2,
       "version_minor": 0
      },
      "text/html": [
       "<p>Failed to display Jupyter Widget of type <code>HBox</code>.</p>\n",
       "<p>\n",
       "  If you're reading this message in the Jupyter Notebook or JupyterLab Notebook, it may mean\n",
       "  that the widgets JavaScript is still loading. If this message persists, it\n",
       "  likely means that the widgets JavaScript library is either not installed or\n",
       "  not enabled. See the <a href=\"https://ipywidgets.readthedocs.io/en/stable/user_install.html\">Jupyter\n",
       "  Widgets Documentation</a> for setup instructions.\n",
       "</p>\n",
       "<p>\n",
       "  If you're reading this message in another frontend (for example, a static\n",
       "  rendering on GitHub or <a href=\"https://nbviewer.jupyter.org/\">NBViewer</a>),\n",
       "  it may mean that your frontend doesn't currently support widgets.\n",
       "</p>\n"
      ],
      "text/plain": [
       "HBox(children=(IntProgress(value=0, max=2702), HTML(value=u'')))"
      ]
     },
     "metadata": {},
     "output_type": "display_data"
    }
   ],
   "source": [
    "progress = tnrange(len(all_old_files))\n",
    "\n",
    "for old_file in all_old_files:\n",
    "    basename = os.path.basename(old_file)\n",
    "    new_file = os.path.join(new_dir, basename)\n",
    "    x = ! diff $old_file $new_file | head\n",
    "    try:\n",
    "        assert len(x) == 0\n",
    "    except AssertionError:\n",
    "        print(old_file, new_file)\n",
    "        break\n",
    "    progress.update(1)"
   ]
  },
  {
   "cell_type": "markdown",
   "metadata": {},
   "source": [
    "# Okay good, the files match up from the previous version\n",
    "- the only thing that should change from 9-14-2018 to the current is the random sample.tsv. We can check these separately."
   ]
  },
  {
   "cell_type": "code",
   "execution_count": 5,
   "metadata": {},
   "outputs": [
    {
     "name": "stdout",
     "output_type": "stream",
     "text": [
      "16212\n",
      "16212\n"
     ]
    }
   ],
   "source": [
    "all_old_files = glob.glob(os.path.join(old_dir, '*.txt'))\n",
    "all_new_files = glob.glob(os.path.join(new_dir, '*.txt'))\n",
    "print(len(all_new_files))\n",
    "print(len(all_old_files))"
   ]
  },
  {
   "cell_type": "code",
   "execution_count": 6,
   "metadata": {},
   "outputs": [
    {
     "data": {
      "application/vnd.jupyter.widget-view+json": {
       "model_id": "aeefd8a64a3b45dc9c17cc5a40e7e43d",
       "version_major": 2,
       "version_minor": 0
      },
      "text/html": [
       "<p>Failed to display Jupyter Widget of type <code>HBox</code>.</p>\n",
       "<p>\n",
       "  If you're reading this message in the Jupyter Notebook or JupyterLab Notebook, it may mean\n",
       "  that the widgets JavaScript is still loading. If this message persists, it\n",
       "  likely means that the widgets JavaScript library is either not installed or\n",
       "  not enabled. See the <a href=\"https://ipywidgets.readthedocs.io/en/stable/user_install.html\">Jupyter\n",
       "  Widgets Documentation</a> for setup instructions.\n",
       "</p>\n",
       "<p>\n",
       "  If you're reading this message in another frontend (for example, a static\n",
       "  rendering on GitHub or <a href=\"https://nbviewer.jupyter.org/\">NBViewer</a>),\n",
       "  it may mean that your frontend doesn't currently support widgets.\n",
       "</p>\n"
      ],
      "text/plain": [
       "HBox(children=(IntProgress(value=0, max=16212), HTML(value=u'')))"
      ]
     },
     "metadata": {},
     "output_type": "display_data"
    },
    {
     "name": "stdout",
     "output_type": "stream",
     "text": [
      "\n"
     ]
    }
   ],
   "source": [
    "progress = tnrange(len(all_old_files))\n",
    "\n",
    "for old_file in all_old_files:\n",
    "    basename = os.path.basename(old_file)\n",
    "    new_file = os.path.join(new_dir, basename)\n",
    "    x = ! diff $old_file $new_file | head\n",
    "    try:\n",
    "        assert len(x) == 0\n",
    "    except AssertionError:\n",
    "        print(old_file, new_file)\n",
    "        break\n",
    "    progress.update(1)"
   ]
  },
  {
   "cell_type": "markdown",
   "metadata": {},
   "source": [
    "# Let's check the a3ss and a5ss maps now"
   ]
  },
  {
   "cell_type": "code",
   "execution_count": 7,
   "metadata": {},
   "outputs": [],
   "source": [
    "new_dir = '/projects/ps-yeolab3/bay001/maps/current/a3ss'\n",
    "old_dir = '/projects/ps-yeolab3/bay001/maps/archived/a3ss_nr/9-14-2018/'"
   ]
  },
  {
   "cell_type": "code",
   "execution_count": 8,
   "metadata": {},
   "outputs": [
    {
     "name": "stdout",
     "output_type": "stream",
     "text": [
      "1872\n",
      "1872\n"
     ]
    }
   ],
   "source": [
    "all_old_files = glob.glob(os.path.join(old_dir, '*.means.txt'))\n",
    "all_new_files = glob.glob(os.path.join(new_dir, '*.means.txt'))\n",
    "print(len(all_new_files))\n",
    "print(len(all_old_files))"
   ]
  },
  {
   "cell_type": "code",
   "execution_count": 9,
   "metadata": {},
   "outputs": [
    {
     "data": {
      "application/vnd.jupyter.widget-view+json": {
       "model_id": "bde433be509a42469523d48340948c1a",
       "version_major": 2,
       "version_minor": 0
      },
      "text/html": [
       "<p>Failed to display Jupyter Widget of type <code>HBox</code>.</p>\n",
       "<p>\n",
       "  If you're reading this message in the Jupyter Notebook or JupyterLab Notebook, it may mean\n",
       "  that the widgets JavaScript is still loading. If this message persists, it\n",
       "  likely means that the widgets JavaScript library is either not installed or\n",
       "  not enabled. See the <a href=\"https://ipywidgets.readthedocs.io/en/stable/user_install.html\">Jupyter\n",
       "  Widgets Documentation</a> for setup instructions.\n",
       "</p>\n",
       "<p>\n",
       "  If you're reading this message in another frontend (for example, a static\n",
       "  rendering on GitHub or <a href=\"https://nbviewer.jupyter.org/\">NBViewer</a>),\n",
       "  it may mean that your frontend doesn't currently support widgets.\n",
       "</p>\n"
      ],
      "text/plain": [
       "HBox(children=(IntProgress(value=0, max=1872), HTML(value=u'')))"
      ]
     },
     "metadata": {},
     "output_type": "display_data"
    }
   ],
   "source": [
    "progress = tnrange(len(all_old_files))\n",
    "\n",
    "for old_file in all_old_files:\n",
    "    basename = os.path.basename(old_file)\n",
    "    new_file = os.path.join(new_dir, basename)\n",
    "    x = ! diff $old_file $new_file | head\n",
    "    try:\n",
    "        assert len(x) == 0\n",
    "    except AssertionError:\n",
    "        print(old_file, new_file)\n",
    "        break\n",
    "    progress.update(1)"
   ]
  },
  {
   "cell_type": "code",
   "execution_count": 10,
   "metadata": {},
   "outputs": [],
   "source": [
    "new_dir = '/projects/ps-yeolab3/bay001/maps/current/a5ss'\n",
    "old_dir = '/projects/ps-yeolab3/bay001/maps/archived/a5ss_nr/9-14-2018/'"
   ]
  },
  {
   "cell_type": "code",
   "execution_count": 11,
   "metadata": {},
   "outputs": [
    {
     "name": "stdout",
     "output_type": "stream",
     "text": [
      "1644\n",
      "1644\n"
     ]
    }
   ],
   "source": [
    "all_old_files = glob.glob(os.path.join(old_dir, '*.means.txt'))\n",
    "all_new_files = glob.glob(os.path.join(new_dir, '*.means.txt'))\n",
    "print(len(all_new_files))\n",
    "print(len(all_old_files))"
   ]
  },
  {
   "cell_type": "code",
   "execution_count": 12,
   "metadata": {},
   "outputs": [
    {
     "data": {
      "application/vnd.jupyter.widget-view+json": {
       "model_id": "f7a68dce40204daf94086789a089513a",
       "version_major": 2,
       "version_minor": 0
      },
      "text/html": [
       "<p>Failed to display Jupyter Widget of type <code>HBox</code>.</p>\n",
       "<p>\n",
       "  If you're reading this message in the Jupyter Notebook or JupyterLab Notebook, it may mean\n",
       "  that the widgets JavaScript is still loading. If this message persists, it\n",
       "  likely means that the widgets JavaScript library is either not installed or\n",
       "  not enabled. See the <a href=\"https://ipywidgets.readthedocs.io/en/stable/user_install.html\">Jupyter\n",
       "  Widgets Documentation</a> for setup instructions.\n",
       "</p>\n",
       "<p>\n",
       "  If you're reading this message in another frontend (for example, a static\n",
       "  rendering on GitHub or <a href=\"https://nbviewer.jupyter.org/\">NBViewer</a>),\n",
       "  it may mean that your frontend doesn't currently support widgets.\n",
       "</p>\n"
      ],
      "text/plain": [
       "HBox(children=(IntProgress(value=0, max=1644), HTML(value=u'')))"
      ]
     },
     "metadata": {},
     "output_type": "display_data"
    },
    {
     "name": "stdout",
     "output_type": "stream",
     "text": [
      "\n"
     ]
    }
   ],
   "source": [
    "progress = tnrange(len(all_old_files))\n",
    "\n",
    "for old_file in all_old_files:\n",
    "    basename = os.path.basename(old_file)\n",
    "    new_file = os.path.join(new_dir, basename)\n",
    "    x = ! diff $old_file $new_file | head\n",
    "    try:\n",
    "        assert len(x) == 0\n",
    "    except AssertionError:\n",
    "        print(old_file, new_file)\n",
    "        break\n",
    "    progress.update(1)"
   ]
  },
  {
   "cell_type": "markdown",
   "metadata": {},
   "source": [
    "# Now check the random sample\n",
    "- take one map and re-plot manually. This needs to match what the software did, so the image should be the same."
   ]
  },
  {
   "cell_type": "code",
   "execution_count": null,
   "metadata": {},
   "outputs": [],
   "source": []
  }
 ],
 "metadata": {
  "kernelspec": {
   "display_name": "brian",
   "language": "python",
   "name": "brian"
  },
  "language_info": {
   "codemirror_mode": {
    "name": "ipython",
    "version": 2
   },
   "file_extension": ".py",
   "mimetype": "text/x-python",
   "name": "python",
   "nbconvert_exporter": "python",
   "pygments_lexer": "ipython2",
   "version": "2.7.11"
  }
 },
 "nbformat": 4,
 "nbformat_minor": 2
}
