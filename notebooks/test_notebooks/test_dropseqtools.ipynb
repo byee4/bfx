{
 "cells": [
  {
   "cell_type": "code",
   "execution_count": 10,
   "metadata": {},
   "outputs": [],
   "source": [
    "import pandas as pd\n",
    "import numpy as np\n",
    "from pandas.util.testing import assert_frame_equal\n",
    "import os"
   ]
  },
  {
   "cell_type": "code",
   "execution_count": 11,
   "metadata": {},
   "outputs": [],
   "source": [
    "pipeline = '/home/bay001/scratch/taggedgeneexon.summary'\n",
    "alex = '/home/iachaim/scratch/SeqWell/Yeo/2018-05-22_MIT_vs_InHouse/results/MIT_SSS_5_star_gene_exon_tagged_mixed_230.dge.summary.tsv'"
   ]
  },
  {
   "cell_type": "code",
   "execution_count": 12,
   "metadata": {},
   "outputs": [
    {
     "name": "stdout",
     "output_type": "stream",
     "text": [
      "(230, 3)\n",
      "(230, 2)\n"
     ]
    }
   ],
   "source": [
    "pipelinedf = pd.read_table(pipeline, comment='#', index_col=0)\n",
    "print(pipelinedf.shape)\n",
    "alexdf = pd.read_table(alex, comment='#', index_col=0)\n",
    "print(alexdf.shape)"
   ]
  },
  {
   "cell_type": "code",
   "execution_count": 13,
   "metadata": {},
   "outputs": [
    {
     "data": {
      "text/html": [
       "<div>\n",
       "<style scoped>\n",
       "    .dataframe tbody tr th:only-of-type {\n",
       "        vertical-align: middle;\n",
       "    }\n",
       "\n",
       "    .dataframe tbody tr th {\n",
       "        vertical-align: top;\n",
       "    }\n",
       "\n",
       "    .dataframe thead th {\n",
       "        text-align: right;\n",
       "    }\n",
       "</style>\n",
       "<table border=\"1\" class=\"dataframe\">\n",
       "  <thead>\n",
       "    <tr style=\"text-align: right;\">\n",
       "      <th></th>\n",
       "      <th>NUM_GENES</th>\n",
       "      <th>NUM_TRANSCRIPTS</th>\n",
       "    </tr>\n",
       "    <tr>\n",
       "      <th>CELL_BARCODE</th>\n",
       "      <th></th>\n",
       "      <th></th>\n",
       "    </tr>\n",
       "  </thead>\n",
       "  <tbody>\n",
       "    <tr>\n",
       "      <th>GACTTTGTTAGC</th>\n",
       "      <td>3996</td>\n",
       "      <td>11586</td>\n",
       "    </tr>\n",
       "    <tr>\n",
       "      <th>CTAGTATACCCA</th>\n",
       "      <td>5349</td>\n",
       "      <td>12140</td>\n",
       "    </tr>\n",
       "    <tr>\n",
       "      <th>AGGGCACTGGAT</th>\n",
       "      <td>5245</td>\n",
       "      <td>14311</td>\n",
       "    </tr>\n",
       "    <tr>\n",
       "      <th>ATTGAACTTGGT</th>\n",
       "      <td>4768</td>\n",
       "      <td>14958</td>\n",
       "    </tr>\n",
       "    <tr>\n",
       "      <th>TGCCCCGGGAGA</th>\n",
       "      <td>5134</td>\n",
       "      <td>15899</td>\n",
       "    </tr>\n",
       "  </tbody>\n",
       "</table>\n",
       "</div>"
      ],
      "text/plain": [
       "              NUM_GENES  NUM_TRANSCRIPTS\n",
       "CELL_BARCODE                            \n",
       "GACTTTGTTAGC       3996            11586\n",
       "CTAGTATACCCA       5349            12140\n",
       "AGGGCACTGGAT       5245            14311\n",
       "ATTGAACTTGGT       4768            14958\n",
       "TGCCCCGGGAGA       5134            15899"
      ]
     },
     "execution_count": 13,
     "metadata": {},
     "output_type": "execute_result"
    }
   ],
   "source": [
    "alexdf.sort_values(by=['NUM_TRANSCRIPTS','NUM_GENES'], inplace=True)\n",
    "alexdf.tail()"
   ]
  },
  {
   "cell_type": "code",
   "execution_count": 14,
   "metadata": {},
   "outputs": [
    {
     "data": {
      "text/html": [
       "<div>\n",
       "<style scoped>\n",
       "    .dataframe tbody tr th:only-of-type {\n",
       "        vertical-align: middle;\n",
       "    }\n",
       "\n",
       "    .dataframe tbody tr th {\n",
       "        vertical-align: top;\n",
       "    }\n",
       "\n",
       "    .dataframe thead th {\n",
       "        text-align: right;\n",
       "    }\n",
       "</style>\n",
       "<table border=\"1\" class=\"dataframe\">\n",
       "  <thead>\n",
       "    <tr style=\"text-align: right;\">\n",
       "      <th></th>\n",
       "      <th>NUM_GENES</th>\n",
       "      <th>NUM_TRANSCRIPTS</th>\n",
       "    </tr>\n",
       "    <tr>\n",
       "      <th>CELL_BARCODE</th>\n",
       "      <th></th>\n",
       "      <th></th>\n",
       "    </tr>\n",
       "  </thead>\n",
       "  <tbody>\n",
       "    <tr>\n",
       "      <th>GACTTTGTTAGC</th>\n",
       "      <td>3996</td>\n",
       "      <td>11586</td>\n",
       "    </tr>\n",
       "    <tr>\n",
       "      <th>CTAGTATACCCA</th>\n",
       "      <td>5349</td>\n",
       "      <td>12140</td>\n",
       "    </tr>\n",
       "    <tr>\n",
       "      <th>AGGGCACTGGAT</th>\n",
       "      <td>5245</td>\n",
       "      <td>14311</td>\n",
       "    </tr>\n",
       "    <tr>\n",
       "      <th>ATTGAACTTGGT</th>\n",
       "      <td>4768</td>\n",
       "      <td>14958</td>\n",
       "    </tr>\n",
       "    <tr>\n",
       "      <th>TGCCCCGGGAGA</th>\n",
       "      <td>5134</td>\n",
       "      <td>15899</td>\n",
       "    </tr>\n",
       "  </tbody>\n",
       "</table>\n",
       "</div>"
      ],
      "text/plain": [
       "              NUM_GENES  NUM_TRANSCRIPTS\n",
       "CELL_BARCODE                            \n",
       "GACTTTGTTAGC       3996            11586\n",
       "CTAGTATACCCA       5349            12140\n",
       "AGGGCACTGGAT       5245            14311\n",
       "ATTGAACTTGGT       4768            14958\n",
       "TGCCCCGGGAGA       5134            15899"
      ]
     },
     "execution_count": 14,
     "metadata": {},
     "output_type": "execute_result"
    }
   ],
   "source": [
    "pipelinedf.head()\n",
    "pipelinedf = pipelinedf[['NUM_GENES','NUM_TRANSCRIPTS']]\n",
    "pipelinedf.sort_values(by=['NUM_TRANSCRIPTS','NUM_GENES'], inplace=True)\n",
    "pipelinedf.tail()"
   ]
  },
  {
   "cell_type": "code",
   "execution_count": 15,
   "metadata": {},
   "outputs": [],
   "source": [
    "assert_frame_equal(alexdf, pipelinedf)"
   ]
  },
  {
   "cell_type": "code",
   "execution_count": 8,
   "metadata": {},
   "outputs": [],
   "source": [
    "pipelinedf.to_csv(\"/home/bay001/scratch/pipeline.tsv\", sep='\\t', index=True, header=True)"
   ]
  },
  {
   "cell_type": "code",
   "execution_count": 9,
   "metadata": {},
   "outputs": [],
   "source": [
    "alexdf.to_csv(\"/home/bay001/scratch/alex.tsv\", sep='\\t', index=True, header=True)"
   ]
  },
  {
   "cell_type": "code",
   "execution_count": null,
   "metadata": {},
   "outputs": [],
   "source": []
  }
 ],
 "metadata": {
  "kernelspec": {
   "display_name": "brian",
   "language": "python",
   "name": "brian"
  },
  "language_info": {
   "codemirror_mode": {
    "name": "ipython",
    "version": 2
   },
   "file_extension": ".py",
   "mimetype": "text/x-python",
   "name": "python",
   "nbconvert_exporter": "python",
   "pygments_lexer": "ipython2",
   "version": "2.7.11"
  }
 },
 "nbformat": 4,
 "nbformat_minor": 2
}
