{
 "cells": [
  {
   "cell_type": "code",
   "execution_count": 1,
   "metadata": {},
   "outputs": [],
   "source": [
    "%matplotlib inline\n",
    "import matplotlib.pyplot as plt\n",
    "import seaborn as sns\n",
    "import os\n",
    "import pandas as pd\n",
    "import numpy as np\n",
    "import glob"
   ]
  },
  {
   "cell_type": "code",
   "execution_count": 36,
   "metadata": {
    "scrolled": true
   },
   "outputs": [
    {
     "data": {
      "text/html": [
       "<div>\n",
       "<style scoped>\n",
       "    .dataframe tbody tr th:only-of-type {\n",
       "        vertical-align: middle;\n",
       "    }\n",
       "\n",
       "    .dataframe tbody tr th {\n",
       "        vertical-align: top;\n",
       "    }\n",
       "\n",
       "    .dataframe thead th {\n",
       "        text-align: right;\n",
       "    }\n",
       "</style>\n",
       "<table border=\"1\" class=\"dataframe\">\n",
       "  <thead>\n",
       "    <tr style=\"text-align: right;\">\n",
       "      <th></th>\n",
       "      <th>chrom</th>\n",
       "      <th>start</th>\n",
       "      <th>end</th>\n",
       "      <th>l10p</th>\n",
       "      <th>l2fc</th>\n",
       "      <th>strand</th>\n",
       "      <th>region2</th>\n",
       "      <th>genename</th>\n",
       "    </tr>\n",
       "  </thead>\n",
       "  <tbody>\n",
       "    <tr>\n",
       "      <th>0</th>\n",
       "      <td>chr7</td>\n",
       "      <td>134618012</td>\n",
       "      <td>134618142</td>\n",
       "      <td>19.046010</td>\n",
       "      <td>5.502206</td>\n",
       "      <td>+</td>\n",
       "      <td>CDS|partial|ENSG00000122786.15</td>\n",
       "      <td>ENSG00000122786.15</td>\n",
       "    </tr>\n",
       "    <tr>\n",
       "      <th>1</th>\n",
       "      <td>chr7</td>\n",
       "      <td>138205524</td>\n",
       "      <td>138205659</td>\n",
       "      <td>17.683470</td>\n",
       "      <td>5.404909</td>\n",
       "      <td>+</td>\n",
       "      <td>intron|contained|ENSG00000122779.12</td>\n",
       "      <td>ENSG00000122779.12</td>\n",
       "    </tr>\n",
       "    <tr>\n",
       "      <th>2</th>\n",
       "      <td>chr7</td>\n",
       "      <td>134632361</td>\n",
       "      <td>134632521</td>\n",
       "      <td>15.165642</td>\n",
       "      <td>6.107927</td>\n",
       "      <td>+</td>\n",
       "      <td>CDS|partial|ENSG00000122786.15</td>\n",
       "      <td>ENSG00000122786.15</td>\n",
       "    </tr>\n",
       "    <tr>\n",
       "      <th>3</th>\n",
       "      <td>chr7</td>\n",
       "      <td>139094303</td>\n",
       "      <td>139094407</td>\n",
       "      <td>14.704848</td>\n",
       "      <td>6.066107</td>\n",
       "      <td>+</td>\n",
       "      <td>CDS|partial|ENSG00000146963.13:ENSG00000269955.2</td>\n",
       "      <td>ENSG00000146963.13|ENSG00000269955.2</td>\n",
       "    </tr>\n",
       "    <tr>\n",
       "      <th>4</th>\n",
       "      <td>chr7</td>\n",
       "      <td>155493466</td>\n",
       "      <td>155493583</td>\n",
       "      <td>14.244399</td>\n",
       "      <td>6.023038</td>\n",
       "      <td>+</td>\n",
       "      <td>CDS|partial|ENSG00000184863.6</td>\n",
       "      <td>ENSG00000184863.6</td>\n",
       "    </tr>\n",
       "  </tbody>\n",
       "</table>\n",
       "</div>"
      ],
      "text/plain": [
       "  chrom      start        end       l10p      l2fc strand  \\\n",
       "0  chr7  134618012  134618142  19.046010  5.502206      +   \n",
       "1  chr7  138205524  138205659  17.683470  5.404909      +   \n",
       "2  chr7  134632361  134632521  15.165642  6.107927      +   \n",
       "3  chr7  139094303  139094407  14.704848  6.066107      +   \n",
       "4  chr7  155493466  155493583  14.244399  6.023038      +   \n",
       "\n",
       "                                            region2  \\\n",
       "0                    CDS|partial|ENSG00000122786.15   \n",
       "1               intron|contained|ENSG00000122779.12   \n",
       "2                    CDS|partial|ENSG00000122786.15   \n",
       "3  CDS|partial|ENSG00000146963.13:ENSG00000269955.2   \n",
       "4                     CDS|partial|ENSG00000184863.6   \n",
       "\n",
       "                               genename  \n",
       "0                    ENSG00000122786.15  \n",
       "1                    ENSG00000122779.12  \n",
       "2                    ENSG00000122786.15  \n",
       "3  ENSG00000146963.13|ENSG00000269955.2  \n",
       "4                     ENSG00000184863.6  "
      ]
     },
     "execution_count": 36,
     "metadata": {},
     "output_type": "execute_result"
    }
   ],
   "source": [
    "\"\"\"wd = '/home/elvannostrand/data/clip/CLIPseq_analysis/ENCODE_FINALforpapers_20170325'\n",
    "annotated = pd.read_table(\n",
    "    os.path.join(wd, '218_01.basedon_218_01.peaks.l2inputnormnew.bed.compressed.bed.annotated'),\n",
    "    names=['chrom','start','end','l10p','l2fc','strand','region2','genename']\n",
    ")\n",
    "annotated.head()\"\"\"\n",
    "\n"
   ]
  },
  {
   "cell_type": "code",
   "execution_count": 37,
   "metadata": {},
   "outputs": [
    {
     "name": "stderr",
     "output_type": "stream",
     "text": [
      "/home/bay001/anaconda2/envs/brian/lib/python2.7/site-packages/ipykernel_launcher.py:11: SettingWithCopyWarning: \n",
      "A value is trying to be set on a copy of a slice from a DataFrame.\n",
      "Try using .loc[row_indexer,col_indexer] = value instead\n",
      "\n",
      "See the caveats in the documentation: http://pandas.pydata.org/pandas-docs/stable/indexing.html#indexing-view-versus-copy\n",
      "  # This is added back by InteractiveShellApp.init_path()\n"
     ]
    }
   ],
   "source": [
    "def get_region(row):\n",
    "    try:\n",
    "        return row['region2'].split('|')[0]\n",
    "    except Exception:\n",
    "        return '-'\n",
    "    \n",
    "def filt(df):\n",
    "    return df[df['l2fc']>3]\n",
    "\n",
    "annotatedf = filt(annotated)\n",
    "annotatedf['region'] = annotatedf.apply(get_region, axis=1)"
   ]
  },
  {
   "cell_type": "code",
   "execution_count": 38,
   "metadata": {},
   "outputs": [
    {
     "data": {
      "text/plain": [
       "CDS                 3297\n",
       "intron               666\n",
       "noncoding_exon       112\n",
       "noncoding_intron     100\n",
       "5utr                  77\n",
       "3utr                  58\n",
       "intergenic             1\n",
       "5utr_and_3utr          1\n",
       "Name: region, dtype: int64"
      ]
     },
     "execution_count": 38,
     "metadata": {},
     "output_type": "execute_result"
    }
   ],
   "source": [
    "annotatedf['region2'].value_counts()"
   ]
  },
  {
   "cell_type": "code",
   "execution_count": 68,
   "metadata": {},
   "outputs": [
    {
     "data": {
      "text/html": [
       "<div>\n",
       "<style scoped>\n",
       "    .dataframe tbody tr th:only-of-type {\n",
       "        vertical-align: middle;\n",
       "    }\n",
       "\n",
       "    .dataframe tbody tr th {\n",
       "        vertical-align: top;\n",
       "    }\n",
       "\n",
       "    .dataframe thead th {\n",
       "        text-align: right;\n",
       "    }\n",
       "</style>\n",
       "<table border=\"1\" class=\"dataframe\">\n",
       "  <thead>\n",
       "    <tr style=\"text-align: right;\">\n",
       "      <th></th>\n",
       "      <th>chrom</th>\n",
       "      <th>start</th>\n",
       "      <th>end</th>\n",
       "      <th>l10p</th>\n",
       "      <th>l2fc</th>\n",
       "      <th>strand</th>\n",
       "      <th>geneid</th>\n",
       "      <th>genename</th>\n",
       "      <th>region</th>\n",
       "      <th>annotated</th>\n",
       "    </tr>\n",
       "  </thead>\n",
       "  <tbody>\n",
       "    <tr>\n",
       "      <th>0</th>\n",
       "      <td>chr17</td>\n",
       "      <td>18965362</td>\n",
       "      <td>18965451</td>\n",
       "      <td>188.383153</td>\n",
       "      <td>7.783650</td>\n",
       "      <td>+</td>\n",
       "      <td>ENSG00000265185.2</td>\n",
       "      <td>SNORD3B-1</td>\n",
       "      <td>noncoding_exon</td>\n",
       "      <td>ENSG00000265185.2:18965224:18965807:+:gene:ENS...</td>\n",
       "    </tr>\n",
       "    <tr>\n",
       "      <th>1</th>\n",
       "      <td>chr17</td>\n",
       "      <td>39847033</td>\n",
       "      <td>39847059</td>\n",
       "      <td>67.705181</td>\n",
       "      <td>4.462176</td>\n",
       "      <td>+</td>\n",
       "      <td>ENSG00000173812.6</td>\n",
       "      <td>EIF1</td>\n",
       "      <td>CDS</td>\n",
       "      <td>ENSG00000173812.6:39845136:39848920:+:gene:ENS...</td>\n",
       "    </tr>\n",
       "    <tr>\n",
       "      <th>2</th>\n",
       "      <td>chr17</td>\n",
       "      <td>39846437</td>\n",
       "      <td>39846441</td>\n",
       "      <td>61.414336</td>\n",
       "      <td>4.416665</td>\n",
       "      <td>+</td>\n",
       "      <td>ENSG00000173812.6</td>\n",
       "      <td>EIF1</td>\n",
       "      <td>CDS</td>\n",
       "      <td>ENSG00000173812.6:39845136:39848920:+:gene:ENS...</td>\n",
       "    </tr>\n",
       "    <tr>\n",
       "      <th>3</th>\n",
       "      <td>chr17</td>\n",
       "      <td>39846418</td>\n",
       "      <td>39846425</td>\n",
       "      <td>59.163682</td>\n",
       "      <td>3.767270</td>\n",
       "      <td>+</td>\n",
       "      <td>ENSG00000173812.6</td>\n",
       "      <td>EIF1</td>\n",
       "      <td>CDS</td>\n",
       "      <td>ENSG00000173812.6:39845136:39848920:+:gene:ENS...</td>\n",
       "    </tr>\n",
       "    <tr>\n",
       "      <th>4</th>\n",
       "      <td>chr17</td>\n",
       "      <td>39846425</td>\n",
       "      <td>39846437</td>\n",
       "      <td>56.886190</td>\n",
       "      <td>3.645561</td>\n",
       "      <td>+</td>\n",
       "      <td>ENSG00000173812.6</td>\n",
       "      <td>EIF1</td>\n",
       "      <td>CDS</td>\n",
       "      <td>ENSG00000173812.6:39845136:39848920:+:gene:ENS...</td>\n",
       "    </tr>\n",
       "  </tbody>\n",
       "</table>\n",
       "</div>"
      ],
      "text/plain": [
       "   chrom     start       end        l10p      l2fc strand             geneid  \\\n",
       "0  chr17  18965362  18965451  188.383153  7.783650      +  ENSG00000265185.2   \n",
       "1  chr17  39847033  39847059   67.705181  4.462176      +  ENSG00000173812.6   \n",
       "2  chr17  39846437  39846441   61.414336  4.416665      +  ENSG00000173812.6   \n",
       "3  chr17  39846418  39846425   59.163682  3.767270      +  ENSG00000173812.6   \n",
       "4  chr17  39846425  39846437   56.886190  3.645561      +  ENSG00000173812.6   \n",
       "\n",
       "    genename          region  \\\n",
       "0  SNORD3B-1  noncoding_exon   \n",
       "1       EIF1             CDS   \n",
       "2       EIF1             CDS   \n",
       "3       EIF1             CDS   \n",
       "4       EIF1             CDS   \n",
       "\n",
       "                                           annotated  \n",
       "0  ENSG00000265185.2:18965224:18965807:+:gene:ENS...  \n",
       "1  ENSG00000173812.6:39845136:39848920:+:gene:ENS...  \n",
       "2  ENSG00000173812.6:39845136:39848920:+:gene:ENS...  \n",
       "3  ENSG00000173812.6:39845136:39848920:+:gene:ENS...  \n",
       "4  ENSG00000173812.6:39845136:39848920:+:gene:ENS...  "
      ]
     },
     "execution_count": 68,
     "metadata": {},
     "output_type": "execute_result"
    }
   ],
   "source": [
    "wd = '/home/bay001/projects/parp13_ago2_20180201/permanent_data/eCLIP-0.1.7/07_clip_figures/inputs/'\n",
    "annotated = pd.read_table(\n",
    "    os.path.join(wd, 'PARP13.WTSS1P.---.r-.fqTrTrU-SoMaSoCpSoMeV2ClN-C-Fc3Pv3.bed.minus_KOSS1P.bed.annotated'),\n",
    "    names=['chrom','start','end','l10p','l2fc','strand','geneid','genename','region','annotated']\n",
    ")\n",
    "annotated.head()"
   ]
  },
  {
   "cell_type": "code",
   "execution_count": 78,
   "metadata": {},
   "outputs": [
    {
     "data": {
      "text/plain": [
       "CDS                 341\n",
       "3utr                264\n",
       "intron              181\n",
       "5utr                 42\n",
       "noncoding_exon       29\n",
       "noncoding_intron     20\n",
       "Name: region, dtype: int64"
      ]
     },
     "execution_count": 78,
     "metadata": {},
     "output_type": "execute_result"
    }
   ],
   "source": [
    "def filt(df):\n",
    "    return df[df['l2fc']>4]\n",
    "\n",
    "annotatedf = filt(annotated)\n",
    "annotatedf['region'].value_counts()"
   ]
  },
  {
   "cell_type": "code",
   "execution_count": null,
   "metadata": {},
   "outputs": [],
   "source": []
  },
  {
   "cell_type": "code",
   "execution_count": 79,
   "metadata": {},
   "outputs": [
    {
     "data": {
      "image/png": "[encoded data removed]",
      "text/plain": [
       "<matplotlib.figure.Figure at 0x2b86084ac410>"
      ]
     },
     "metadata": {},
     "output_type": "display_data"
    }
   ],
   "source": [
    "\n",
    "def cdf(ser, color):\n",
    "    ser[len(ser)] = ser.iloc[-1]\n",
    "\n",
    "    # Create a new series with the sorted values as index and the cumulative distribution as values:\n",
    "\n",
    "    cum_dist = np.linspace(0.,1.,len(ser))\n",
    "    ser_cdf = pd.Series(cum_dist, index=ser)\n",
    "\n",
    "    # Finally, plot the function as steps:\n",
    "\n",
    "    ser_cdf.plot(drawstyle='steps', color=color)\n",
    "    \n",
    "ser = annotatedf[annotatedf['region']=='CDS']['l2fc'].sort_values().reset_index()['l2fc']\n",
    "cdf(ser, 'red')\n",
    "ser = annotatedf[annotatedf['region']=='3utr']['l2fc'].sort_values().reset_index()['l2fc']\n",
    "cdf(ser, 'blue')\n",
    "ser = annotatedf[annotatedf['region']=='intron']['l2fc'].sort_values().reset_index()['l2fc']\n",
    "cdf(ser, 'green')"
   ]
  },
  {
   "cell_type": "code",
   "execution_count": 73,
   "metadata": {},
   "outputs": [
    {
     "name": "stdout",
     "output_type": "stream",
     "text": [
      "('cds', 5.3935553440289121)\n",
      "('intron', 5.8334318843394115)\n",
      "('3utr', 5.5927800110454902)\n"
     ]
    }
   ],
   "source": [
    "print('cds', annotatedf[annotatedf['region']=='CDS']['l2fc'].mean())\n",
    "print('intron', annotatedf[annotatedf['region']=='intron']['l2fc'].mean())\n",
    "print('3utr',annotatedf[annotatedf['region']=='3utr']['l2fc'].mean())"
   ]
  },
  {
   "cell_type": "code",
   "execution_count": null,
   "metadata": {},
   "outputs": [],
   "source": []
  }
 ],
 "metadata": {
  "kernelspec": {
   "display_name": "Python 2",
   "language": "python",
   "name": "python2"
  },
  "language_info": {
   "codemirror_mode": {
    "name": "ipython",
    "version": 2
   },
   "file_extension": ".py",
   "mimetype": "text/x-python",
   "name": "python",
   "nbconvert_exporter": "python",
   "pygments_lexer": "ipython2",
   "version": "2.7.14"
  }
 },
 "nbformat": 4,
 "nbformat_minor": 2
}
