{
 "cells": [
  {
   "cell_type": "code",
   "execution_count": 109,
   "metadata": {},
   "outputs": [],
   "source": [
    "import pandas as pd\n",
    "import numpy as np\n",
    "import os"
   ]
  },
  {
   "cell_type": "code",
   "execution_count": 174,
   "metadata": {},
   "outputs": [],
   "source": [
    "\n",
    "def clean(density_df):\n",
    "    \"\"\"\n",
    "    These functions expect a dataframe with density values (columns)\n",
    "    across a number of regions (rows). These dataframes may also contain\n",
    "    information regarding premature boundaries for each region (marked as -1)\n",
    "    and no-density regions (marked by nan). This cleans the dataframe.\n",
    "\n",
    "    Parameters\n",
    "    ----------\n",
    "    density_df : pandas.DataFrame\n",
    "        Table of densities\n",
    "\n",
    "    Returns\n",
    "    -------\n",
    "    pandas.DataFrame\n",
    "    \"\"\"\n",
    "\n",
    "    # NaNs are regions which contain zero density\n",
    "    # -1 are regions which should not be counted at all\n",
    "    density_df = density_df.fillna(0)\n",
    "    return density_df.replace(-1, np.nan)\n",
    "\n",
    "def per_region_subtract_and_normalize(density_df, input_density_df,\n",
    "                                      pseudocount, input_pseudocount,\n",
    "                                      min_density_threshold=0):\n",
    "    \"\"\"\n",
    "    Normalizes ip matrix of m x n (where m is the row of each event in a\n",
    "    feature, and n is the column relating to nucleotide position).\n",
    "\n",
    "    Parameters\n",
    "    ----------\n",
    "    density_df : pandas.DataFrame\n",
    "        matrix of RPM-normalized read densities in ip CLIP\n",
    "    input_density_df : pandas.DataFrame\n",
    "        matrix of RPM-normalized read densities in input CLIP\n",
    "    pseudocount : float\n",
    "        RPM-normalized read density of one read in ip CLIP\n",
    "    input_pseudocount : float\n",
    "        RPM-normalized read density of one read in input CLIP\n",
    "    min_density_threshold : int\n",
    "\n",
    "    Returns\n",
    "    -------\n",
    "    subtracted : pandas.DataFrame\n",
    "    \"\"\"\n",
    "\n",
    "    df_indices = density_df.index\n",
    "    dfi_indices = input_density_df.index\n",
    "    missing = set(df_indices) - set(dfi_indices)\n",
    "\n",
    "    input_density_df = input_density_df.append(input_density_df.ix[missing])\n",
    "\n",
    "    subtracted = density_df.sub(input_density_df)\n",
    "    pdf = calculate_pdf(\n",
    "        subtracted, pseudocount, min_density_threshold\n",
    "    )\n",
    "\n",
    "    return pdf\n",
    "\n",
    "\n",
    "def calculate_pdf(density_df, pseudocount=None, min_density_threshold=0):\n",
    "    \"\"\"\n",
    "    Calculates the PDF of a density matrix (makes all rows sum to 1).\n",
    "\n",
    "    Parameters\n",
    "    ----------\n",
    "    density_df : pandas.DataFrame\n",
    "        r x c matrix of densities.\n",
    "        May contain NaN corresponding to values\n",
    "        in which no density was returned. These values should be counted.\n",
    "\n",
    "        May also contain -1 corresponding to values in which a particular\n",
    "        region is shorter than the full DataFrame length. These\n",
    "        values should NOT be counted.\n",
    "    pseudocount : float\n",
    "        value added to the entire dataframe before calculating pdf.\n",
    "    min_density_threshold : int\n",
    "        minimum total density_df across a row.\n",
    "        (deprecated - possibly removed in the future)\n",
    "\n",
    "    Returns\n",
    "    -------\n",
    "    pdf : pandas.DataFrame\n",
    "        r x c matrix of densities normalized across each respective\n",
    "        (r)ow as a probability density_df func.\n",
    "    \"\"\"\n",
    "\n",
    "    # df = clean(density_df)  # moved this out, it doesn't belong here and i don't think we use it ever\n",
    "    df = density_df\n",
    "\n",
    "    # print('before pdf: ', df.shape, min_density_threshold)\n",
    "    # df = df[df.sum(axis=1) >= min_density_threshold]\n",
    "    # print('after filtering min threshold pdf: ', df.shape)\n",
    "    min_read = pseudocount if pseudocount else min(\n",
    "        [item for item in df.unstack().values if item > 0]\n",
    "    )\n",
    "    # print(\"min read: {}\".format(min_read))\n",
    "    # df = df + min_read\n",
    "    df_wpseudocount = add_min_read(df, min_read)\n",
    "    pdf = df.div(df_wpseudocount.abs().sum(axis=1), axis=0)\n",
    "\n",
    "    return pdf  # , mean, sem\n",
    "\n",
    "\n",
    "def add_min_read(df, min_read):\n",
    "    df = np.where(df >= 0, df + min_read, df)\n",
    "    df = np.where(df < 0, df - min_read, df)\n",
    "    return pd.DataFrame(df)\n"
   ]
  },
  {
   "cell_type": "code",
   "execution_count": 175,
   "metadata": {},
   "outputs": [
    {
     "data": {
      "text/html": [
       "<div>\n",
       "<style scoped>\n",
       "    .dataframe tbody tr th:only-of-type {\n",
       "        vertical-align: middle;\n",
       "    }\n",
       "\n",
       "    .dataframe tbody tr th {\n",
       "        vertical-align: top;\n",
       "    }\n",
       "\n",
       "    .dataframe thead th {\n",
       "        text-align: right;\n",
       "    }\n",
       "</style>\n",
       "<table border=\"1\" class=\"dataframe\">\n",
       "  <thead>\n",
       "    <tr style=\"text-align: right;\">\n",
       "      <th></th>\n",
       "      <th>0</th>\n",
       "      <th>1</th>\n",
       "      <th>2</th>\n",
       "    </tr>\n",
       "  </thead>\n",
       "  <tbody>\n",
       "    <tr>\n",
       "      <th>0</th>\n",
       "      <td>0</td>\n",
       "      <td>1</td>\n",
       "      <td>2</td>\n",
       "    </tr>\n",
       "    <tr>\n",
       "      <th>1</th>\n",
       "      <td>3</td>\n",
       "      <td>4</td>\n",
       "      <td>5</td>\n",
       "    </tr>\n",
       "  </tbody>\n",
       "</table>\n",
       "</div>"
      ],
      "text/plain": [
       "   0  1  2\n",
       "0  0  1  2\n",
       "1  3  4  5"
      ]
     },
     "execution_count": 175,
     "metadata": {},
     "output_type": "execute_result"
    }
   ],
   "source": [
    "test_ip = pd.DataFrame([[0, 1, 2],[3,4,5]])\n",
    "test_ip"
   ]
  },
  {
   "cell_type": "code",
   "execution_count": 176,
   "metadata": {},
   "outputs": [
    {
     "data": {
      "text/html": [
       "<div>\n",
       "<style scoped>\n",
       "    .dataframe tbody tr th:only-of-type {\n",
       "        vertical-align: middle;\n",
       "    }\n",
       "\n",
       "    .dataframe tbody tr th {\n",
       "        vertical-align: top;\n",
       "    }\n",
       "\n",
       "    .dataframe thead th {\n",
       "        text-align: right;\n",
       "    }\n",
       "</style>\n",
       "<table border=\"1\" class=\"dataframe\">\n",
       "  <thead>\n",
       "    <tr style=\"text-align: right;\">\n",
       "      <th></th>\n",
       "      <th>0</th>\n",
       "      <th>1</th>\n",
       "      <th>2</th>\n",
       "    </tr>\n",
       "  </thead>\n",
       "  <tbody>\n",
       "    <tr>\n",
       "      <th>0</th>\n",
       "      <td>1</td>\n",
       "      <td>1</td>\n",
       "      <td>1</td>\n",
       "    </tr>\n",
       "    <tr>\n",
       "      <th>1</th>\n",
       "      <td>1</td>\n",
       "      <td>1</td>\n",
       "      <td>1</td>\n",
       "    </tr>\n",
       "  </tbody>\n",
       "</table>\n",
       "</div>"
      ],
      "text/plain": [
       "   0  1  2\n",
       "0  1  1  1\n",
       "1  1  1  1"
      ]
     },
     "execution_count": 176,
     "metadata": {},
     "output_type": "execute_result"
    }
   ],
   "source": [
    "test_inp = pd.DataFrame([[1, 1, 1],[1, 1, 1]])\n",
    "test_inp"
   ]
  },
  {
   "cell_type": "code",
   "execution_count": 177,
   "metadata": {},
   "outputs": [
    {
     "data": {
      "text/html": [
       "<div>\n",
       "<style scoped>\n",
       "    .dataframe tbody tr th:only-of-type {\n",
       "        vertical-align: middle;\n",
       "    }\n",
       "\n",
       "    .dataframe tbody tr th {\n",
       "        vertical-align: top;\n",
       "    }\n",
       "\n",
       "    .dataframe thead th {\n",
       "        text-align: right;\n",
       "    }\n",
       "</style>\n",
       "<table border=\"1\" class=\"dataframe\">\n",
       "  <thead>\n",
       "    <tr style=\"text-align: right;\">\n",
       "      <th></th>\n",
       "      <th>0</th>\n",
       "      <th>1</th>\n",
       "      <th>2</th>\n",
       "    </tr>\n",
       "  </thead>\n",
       "  <tbody>\n",
       "    <tr>\n",
       "      <th>0</th>\n",
       "      <td>-1</td>\n",
       "      <td>0</td>\n",
       "      <td>1</td>\n",
       "    </tr>\n",
       "    <tr>\n",
       "      <th>1</th>\n",
       "      <td>2</td>\n",
       "      <td>3</td>\n",
       "      <td>4</td>\n",
       "    </tr>\n",
       "  </tbody>\n",
       "</table>\n",
       "</div>"
      ],
      "text/plain": [
       "   0  1  2\n",
       "0 -1  0  1\n",
       "1  2  3  4"
      ]
     },
     "execution_count": 177,
     "metadata": {},
     "output_type": "execute_result"
    }
   ],
   "source": [
    "subtracted = test_ip.sub(test_inp)\n",
    "subtracted"
   ]
  },
  {
   "cell_type": "code",
   "execution_count": 178,
   "metadata": {},
   "outputs": [],
   "source": [
    "def add_min_read(df, min_read):\n",
    "    df = np.where(df >= 0, df + min_read, df)\n",
    "    df = np.where(df < 0, df - min_read, df)\n",
    "    return pd.DataFrame(df)"
   ]
  },
  {
   "cell_type": "code",
   "execution_count": 226,
   "metadata": {},
   "outputs": [
    {
     "data": {
      "text/html": [
       "<div>\n",
       "<style scoped>\n",
       "    .dataframe tbody tr th:only-of-type {\n",
       "        vertical-align: middle;\n",
       "    }\n",
       "\n",
       "    .dataframe tbody tr th {\n",
       "        vertical-align: top;\n",
       "    }\n",
       "\n",
       "    .dataframe thead th {\n",
       "        text-align: right;\n",
       "    }\n",
       "</style>\n",
       "<table border=\"1\" class=\"dataframe\">\n",
       "  <thead>\n",
       "    <tr style=\"text-align: right;\">\n",
       "      <th></th>\n",
       "      <th>0</th>\n",
       "      <th>1</th>\n",
       "      <th>2</th>\n",
       "      <th>3</th>\n",
       "    </tr>\n",
       "  </thead>\n",
       "  <tbody>\n",
       "    <tr>\n",
       "      <th>0</th>\n",
       "      <td>0</td>\n",
       "      <td>1</td>\n",
       "      <td>2</td>\n",
       "      <td>3</td>\n",
       "    </tr>\n",
       "    <tr>\n",
       "      <th>1</th>\n",
       "      <td>3</td>\n",
       "      <td>4</td>\n",
       "      <td>5</td>\n",
       "      <td>-1</td>\n",
       "    </tr>\n",
       "    <tr>\n",
       "      <th>2</th>\n",
       "      <td>0</td>\n",
       "      <td>0</td>\n",
       "      <td>0</td>\n",
       "      <td>0</td>\n",
       "    </tr>\n",
       "  </tbody>\n",
       "</table>\n",
       "</div>"
      ],
      "text/plain": [
       "   0  1  2  3\n",
       "0  0  1  2  3\n",
       "1  3  4  5 -1\n",
       "2  0  0  0  0"
      ]
     },
     "execution_count": 226,
     "metadata": {},
     "output_type": "execute_result"
    }
   ],
   "source": [
    "test_ip = pd.DataFrame([[0, 1, 2, 3],[3, 4, 5, -1],[0,0,0,0]])\n",
    "test_inp = pd.DataFrame([[1, 1, 1, 1],[1, 1, 1, -1],[0,0,0,0]])\n",
    "test_ip"
   ]
  },
  {
   "cell_type": "code",
   "execution_count": 227,
   "metadata": {},
   "outputs": [
    {
     "data": {
      "text/html": [
       "<div>\n",
       "<style scoped>\n",
       "    .dataframe tbody tr th:only-of-type {\n",
       "        vertical-align: middle;\n",
       "    }\n",
       "\n",
       "    .dataframe tbody tr th {\n",
       "        vertical-align: top;\n",
       "    }\n",
       "\n",
       "    .dataframe thead th {\n",
       "        text-align: right;\n",
       "    }\n",
       "</style>\n",
       "<table border=\"1\" class=\"dataframe\">\n",
       "  <thead>\n",
       "    <tr style=\"text-align: right;\">\n",
       "      <th></th>\n",
       "      <th>0</th>\n",
       "      <th>1</th>\n",
       "      <th>2</th>\n",
       "      <th>3</th>\n",
       "    </tr>\n",
       "  </thead>\n",
       "  <tbody>\n",
       "    <tr>\n",
       "      <th>0</th>\n",
       "      <td>1</td>\n",
       "      <td>1</td>\n",
       "      <td>1</td>\n",
       "      <td>1</td>\n",
       "    </tr>\n",
       "    <tr>\n",
       "      <th>1</th>\n",
       "      <td>1</td>\n",
       "      <td>1</td>\n",
       "      <td>1</td>\n",
       "      <td>-1</td>\n",
       "    </tr>\n",
       "    <tr>\n",
       "      <th>2</th>\n",
       "      <td>0</td>\n",
       "      <td>0</td>\n",
       "      <td>0</td>\n",
       "      <td>0</td>\n",
       "    </tr>\n",
       "  </tbody>\n",
       "</table>\n",
       "</div>"
      ],
      "text/plain": [
       "   0  1  2  3\n",
       "0  1  1  1  1\n",
       "1  1  1  1 -1\n",
       "2  0  0  0  0"
      ]
     },
     "execution_count": 227,
     "metadata": {},
     "output_type": "execute_result"
    }
   ],
   "source": [
    "test_inp"
   ]
  },
  {
   "cell_type": "code",
   "execution_count": 228,
   "metadata": {},
   "outputs": [
    {
     "name": "stderr",
     "output_type": "stream",
     "text": [
      "/home/bay001/anaconda2/envs/brian/lib/python2.7/site-packages/ipykernel_launcher.py:5: DeprecationWarning: \n",
      ".ix is deprecated. Please use\n",
      ".loc for label based indexing or\n",
      ".iloc for positional indexing\n",
      "\n",
      "See the documentation here:\n",
      "http://pandas.pydata.org/pandas-docs/stable/indexing.html#ix-indexer-is-deprecated\n",
      "  \"\"\"\n"
     ]
    },
    {
     "data": {
      "text/html": [
       "<div>\n",
       "<style scoped>\n",
       "    .dataframe tbody tr th:only-of-type {\n",
       "        vertical-align: middle;\n",
       "    }\n",
       "\n",
       "    .dataframe tbody tr th {\n",
       "        vertical-align: top;\n",
       "    }\n",
       "\n",
       "    .dataframe thead th {\n",
       "        text-align: right;\n",
       "    }\n",
       "</style>\n",
       "<table border=\"1\" class=\"dataframe\">\n",
       "  <thead>\n",
       "    <tr style=\"text-align: right;\">\n",
       "      <th></th>\n",
       "      <th>0</th>\n",
       "      <th>1</th>\n",
       "      <th>2</th>\n",
       "      <th>3</th>\n",
       "    </tr>\n",
       "  </thead>\n",
       "  <tbody>\n",
       "    <tr>\n",
       "      <th>0</th>\n",
       "      <td>1</td>\n",
       "      <td>1</td>\n",
       "      <td>1</td>\n",
       "      <td>1</td>\n",
       "    </tr>\n",
       "    <tr>\n",
       "      <th>1</th>\n",
       "      <td>1</td>\n",
       "      <td>1</td>\n",
       "      <td>1</td>\n",
       "      <td>-1</td>\n",
       "    </tr>\n",
       "    <tr>\n",
       "      <th>2</th>\n",
       "      <td>0</td>\n",
       "      <td>0</td>\n",
       "      <td>0</td>\n",
       "      <td>0</td>\n",
       "    </tr>\n",
       "  </tbody>\n",
       "</table>\n",
       "</div>"
      ],
      "text/plain": [
       "   0  1  2  3\n",
       "0  1  1  1  1\n",
       "1  1  1  1 -1\n",
       "2  0  0  0  0"
      ]
     },
     "execution_count": 228,
     "metadata": {},
     "output_type": "execute_result"
    }
   ],
   "source": [
    "df_indices = test_ip.index\n",
    "dfi_indices = test_inp.index\n",
    "missing = set(df_indices) - set(dfi_indices)\n",
    "\n",
    "test_inp = test_inp.append(test_inp.ix[missing])\n",
    "test_inp"
   ]
  },
  {
   "cell_type": "code",
   "execution_count": 229,
   "metadata": {},
   "outputs": [
    {
     "data": {
      "text/html": [
       "<div>\n",
       "<style scoped>\n",
       "    .dataframe tbody tr th:only-of-type {\n",
       "        vertical-align: middle;\n",
       "    }\n",
       "\n",
       "    .dataframe tbody tr th {\n",
       "        vertical-align: top;\n",
       "    }\n",
       "\n",
       "    .dataframe thead th {\n",
       "        text-align: right;\n",
       "    }\n",
       "</style>\n",
       "<table border=\"1\" class=\"dataframe\">\n",
       "  <thead>\n",
       "    <tr style=\"text-align: right;\">\n",
       "      <th></th>\n",
       "      <th>0</th>\n",
       "      <th>1</th>\n",
       "      <th>2</th>\n",
       "      <th>3</th>\n",
       "    </tr>\n",
       "  </thead>\n",
       "  <tbody>\n",
       "    <tr>\n",
       "      <th>0</th>\n",
       "      <td>-1</td>\n",
       "      <td>0</td>\n",
       "      <td>1</td>\n",
       "      <td>2.0</td>\n",
       "    </tr>\n",
       "    <tr>\n",
       "      <th>1</th>\n",
       "      <td>2</td>\n",
       "      <td>3</td>\n",
       "      <td>4</td>\n",
       "      <td>NaN</td>\n",
       "    </tr>\n",
       "    <tr>\n",
       "      <th>2</th>\n",
       "      <td>0</td>\n",
       "      <td>0</td>\n",
       "      <td>0</td>\n",
       "      <td>0.0</td>\n",
       "    </tr>\n",
       "  </tbody>\n",
       "</table>\n",
       "</div>"
      ],
      "text/plain": [
       "   0  1  2    3\n",
       "0 -1  0  1  2.0\n",
       "1  2  3  4  NaN\n",
       "2  0  0  0  0.0"
      ]
     },
     "execution_count": 229,
     "metadata": {},
     "output_type": "execute_result"
    }
   ],
   "source": [
    "subtracted = clean(test_ip).sub(clean(test_inp))\n",
    "subtracted"
   ]
  },
  {
   "cell_type": "code",
   "execution_count": 185,
   "metadata": {},
   "outputs": [
    {
     "name": "stderr",
     "output_type": "stream",
     "text": [
      "/home/bay001/anaconda2/envs/brian/lib/python2.7/site-packages/ipykernel_launcher.py:3: RuntimeWarning: invalid value encountered in less\n",
      "  This is separate from the ipykernel package so we can avoid doing imports until\n"
     ]
    },
    {
     "data": {
      "text/html": [
       "<div>\n",
       "<style scoped>\n",
       "    .dataframe tbody tr th:only-of-type {\n",
       "        vertical-align: middle;\n",
       "    }\n",
       "\n",
       "    .dataframe tbody tr th {\n",
       "        vertical-align: top;\n",
       "    }\n",
       "\n",
       "    .dataframe thead th {\n",
       "        text-align: right;\n",
       "    }\n",
       "</style>\n",
       "<table border=\"1\" class=\"dataframe\">\n",
       "  <thead>\n",
       "    <tr style=\"text-align: right;\">\n",
       "      <th></th>\n",
       "      <th>0</th>\n",
       "      <th>1</th>\n",
       "      <th>2</th>\n",
       "      <th>3</th>\n",
       "    </tr>\n",
       "  </thead>\n",
       "  <tbody>\n",
       "    <tr>\n",
       "      <th>0</th>\n",
       "      <td>-0.125000</td>\n",
       "      <td>0.00</td>\n",
       "      <td>0.125000</td>\n",
       "      <td>0.25</td>\n",
       "    </tr>\n",
       "    <tr>\n",
       "      <th>1</th>\n",
       "      <td>0.166667</td>\n",
       "      <td>0.25</td>\n",
       "      <td>0.333333</td>\n",
       "      <td>NaN</td>\n",
       "    </tr>\n",
       "    <tr>\n",
       "      <th>2</th>\n",
       "      <td>0.000000</td>\n",
       "      <td>0.00</td>\n",
       "      <td>0.000000</td>\n",
       "      <td>0.00</td>\n",
       "    </tr>\n",
       "  </tbody>\n",
       "</table>\n",
       "</div>"
      ],
      "text/plain": [
       "          0     1         2     3\n",
       "0 -0.125000  0.00  0.125000  0.25\n",
       "1  0.166667  0.25  0.333333   NaN\n",
       "2  0.000000  0.00  0.000000  0.00"
      ]
     },
     "execution_count": 185,
     "metadata": {},
     "output_type": "execute_result"
    }
   ],
   "source": [
    "calculate_pdf(subtracted, 1)"
   ]
  },
  {
   "cell_type": "code",
   "execution_count": 225,
   "metadata": {},
   "outputs": [
    {
     "data": {
      "text/html": [
       "<div>\n",
       "<style scoped>\n",
       "    .dataframe tbody tr th:only-of-type {\n",
       "        vertical-align: middle;\n",
       "    }\n",
       "\n",
       "    .dataframe tbody tr th {\n",
       "        vertical-align: top;\n",
       "    }\n",
       "\n",
       "    .dataframe thead th {\n",
       "        text-align: right;\n",
       "    }\n",
       "</style>\n",
       "<table border=\"1\" class=\"dataframe\">\n",
       "  <thead>\n",
       "    <tr style=\"text-align: right;\">\n",
       "      <th></th>\n",
       "      <th>0</th>\n",
       "      <th>1</th>\n",
       "      <th>2</th>\n",
       "      <th>3</th>\n",
       "    </tr>\n",
       "  </thead>\n",
       "  <tbody>\n",
       "    <tr>\n",
       "      <th>0</th>\n",
       "      <td>0</td>\n",
       "      <td>0</td>\n",
       "      <td>1</td>\n",
       "      <td>2.0</td>\n",
       "    </tr>\n",
       "    <tr>\n",
       "      <th>1</th>\n",
       "      <td>2</td>\n",
       "      <td>3</td>\n",
       "      <td>4</td>\n",
       "      <td>NaN</td>\n",
       "    </tr>\n",
       "    <tr>\n",
       "      <th>2</th>\n",
       "      <td>0</td>\n",
       "      <td>0</td>\n",
       "      <td>0</td>\n",
       "      <td>0.0</td>\n",
       "    </tr>\n",
       "  </tbody>\n",
       "</table>\n",
       "</div>"
      ],
      "text/plain": [
       "   0  1  2    3\n",
       "0  0  0  1  2.0\n",
       "1  2  3  4  NaN\n",
       "2  0  0  0  0.0"
      ]
     },
     "execution_count": 225,
     "metadata": {},
     "output_type": "execute_result"
    }
   ],
   "source": [
    "# set every value less than 1 to zero\n",
    "# normalize (pdf) by adding pseudocount of 1 read (ip)\n",
    "subtracted[subtracted < 0] = 0\n",
    "subtracted"
   ]
  },
  {
   "cell_type": "code",
   "execution_count": null,
   "metadata": {},
   "outputs": [],
   "source": []
  },
  {
   "cell_type": "code",
   "execution_count": 34,
   "metadata": {},
   "outputs": [
    {
     "data": {
      "text/html": [
       "<div>\n",
       "<style scoped>\n",
       "    .dataframe tbody tr th:only-of-type {\n",
       "        vertical-align: middle;\n",
       "    }\n",
       "\n",
       "    .dataframe tbody tr th {\n",
       "        vertical-align: top;\n",
       "    }\n",
       "\n",
       "    .dataframe thead th {\n",
       "        text-align: right;\n",
       "    }\n",
       "</style>\n",
       "<table border=\"1\" class=\"dataframe\">\n",
       "  <thead>\n",
       "    <tr style=\"text-align: right;\">\n",
       "      <th></th>\n",
       "      <th>0</th>\n",
       "      <th>1</th>\n",
       "      <th>2</th>\n",
       "      <th>3</th>\n",
       "    </tr>\n",
       "  </thead>\n",
       "  <tbody>\n",
       "    <tr>\n",
       "      <th>0</th>\n",
       "      <td>1</td>\n",
       "      <td>1</td>\n",
       "      <td>2</td>\n",
       "      <td>3.0</td>\n",
       "    </tr>\n",
       "    <tr>\n",
       "      <th>1</th>\n",
       "      <td>3</td>\n",
       "      <td>4</td>\n",
       "      <td>5</td>\n",
       "      <td>NaN</td>\n",
       "    </tr>\n",
       "  </tbody>\n",
       "</table>\n",
       "</div>"
      ],
      "text/plain": [
       "   0  1  2    3\n",
       "0  1  1  2  3.0\n",
       "1  3  4  5  NaN"
      ]
     },
     "execution_count": 34,
     "metadata": {},
     "output_type": "execute_result"
    }
   ],
   "source": [
    "subtracted+1"
   ]
  },
  {
   "cell_type": "code",
   "execution_count": 35,
   "metadata": {},
   "outputs": [],
   "source": [
    "def per_region_subtract_and_normalize(density_df, input_density_df,\n",
    "                                      pseudocount, input_pseudocount,\n",
    "                                      min_density_threshold=0):\n",
    "    \"\"\"\n",
    "    Normalizes ip matrix of m x n (where m is the row of each event in a\n",
    "    feature, and n is the column relating to nucleotide position).\n",
    "\n",
    "    Parameters\n",
    "    ----------\n",
    "    density_df : pandas.DataFrame\n",
    "        matrix of RPM-normalized read densities in ip CLIP\n",
    "    input_density_df : pandas.DataFrame\n",
    "        matrix of RPM-normalized read densities in input CLIP\n",
    "    pseudocount : float\n",
    "        RPM-normalized read density of one read in ip CLIP\n",
    "    input_pseudocount : float\n",
    "        RPM-normalized read density of one read in input CLIP\n",
    "    min_density_threshold : int\n",
    "\n",
    "    Returns\n",
    "    -------\n",
    "    subtracted : pandas.DataFrame\n",
    "    \"\"\"\n",
    "\n",
    "    df_indices = density_df.index\n",
    "    dfi_indices = input_density_df.index\n",
    "    missing = set(df_indices) - set(dfi_indices)\n",
    "\n",
    "    input_density_df = input_density_df.append(input_density_df.ix[missing])\n",
    "\n",
    "    subtracted = clean(density_df).sub(clean(input_density_df))\n",
    "\n",
    "    pdf = calculate_pdf(\n",
    "        subtracted, pseudocount, min_density_threshold\n",
    "    )\n",
    "\n",
    "    return pdf"
   ]
  },
  {
   "cell_type": "code",
   "execution_count": 101,
   "metadata": {},
   "outputs": [],
   "source": [
    "# this is the old pdf \n",
    "\n",
    "def clean(density_df):\n",
    "    \"\"\"\n",
    "    These functions expect a dataframe with density values (columns)\n",
    "    across a number of regions (rows). These dataframes may also contain\n",
    "    information regarding premature boundaries for each region (marked as -1)\n",
    "    and no-density regions (marked by nan). This cleans the dataframe.\n",
    "    Parameters\n",
    "    ----------\n",
    "    density_df : pandas.DataFrame\n",
    "        Table of densities\n",
    "    Returns\n",
    "    -------\n",
    "    pandas.DataFrame\n",
    "    \"\"\"\n",
    "\n",
    "    # NaNs are regions which contain zero density\n",
    "    # -1 are regions which should not be counted at all\n",
    "    density_df = density_df.fillna(0)\n",
    "    return density_df.replace(-1, np.nan)\n",
    "\n",
    "def normalize_and_per_region_subtract(density_df, input_density_df,\n",
    "                                      pseudocount, input_pseudocount,\n",
    "                                      min_density_threshold=0):\n",
    "    \"\"\"\n",
    "    Normalizes ip matrix of m x n (where m is the row of each event in a\n",
    "    feature, and n is the column relating to nucleotide position).\n",
    "    Parameters\n",
    "    ----------\n",
    "    density_df : pandas.DataFrame\n",
    "        matrix of RPM-normalized read densities in ip CLIP\n",
    "    input_density_df : pandas.DataFrame\n",
    "        matrix of RPM-normalized read densities in input CLIP\n",
    "    pseudocount : float\n",
    "        RPM-normalized read density of one read in ip CLIP\n",
    "    input_pseudocount : float\n",
    "        RPM-normalized read density of one read in input CLIP\n",
    "    min_density_threshold : int\n",
    "    Returns\n",
    "    -------\n",
    "    subtracted : pandas.DataFrame\n",
    "    \"\"\"\n",
    "\n",
    "    df_indices = density_df.index\n",
    "    dfi_indices = input_density_df.index\n",
    "    missing = set(df_indices) - set(dfi_indices)\n",
    "\n",
    "    input_density_df = input_density_df.append(input_density_df.ix[missing])\n",
    "    print('before pdf normalization of ip: {}'.format(density_df.shape))\n",
    "    pdf = calculate_pdf(\n",
    "        density_df, pseudocount, min_density_threshold\n",
    "    )\n",
    "    print('after pdf normalization of ip: {}'.format(pdf.shape))\n",
    "    pdfi = calculate_pdf(\n",
    "        input_density_df, input_pseudocount, min_density_threshold\n",
    "    )\n",
    "    print('before pdf normalization of ip: {}'.format(density_df.shape))\n",
    "    subtracted = pdf.sub(pdfi)\n",
    "    return subtracted\n",
    "\n",
    "def calculate_pdf(density_df, pseudocount=None, min_density_threshold=0):\n",
    "    \"\"\"\n",
    "    Calculates the PDF of a density matrix (makes all rows sum to 1).\n",
    "    Parameters\n",
    "    ----------\n",
    "    density_df : pandas.DataFrame\n",
    "        r x c matrix of densities.\n",
    "        May contain NaN corresponding to values\n",
    "        in which no density was returned. These values should be counted.\n",
    "        May also contain -1 corresponding to values in which a particular\n",
    "        region is shorter than the full DataFrame length. These\n",
    "        values should NOT be counted.\n",
    "    pseudocount : float\n",
    "        value added to the entire dataframe before calculating pdf.\n",
    "    min_density_threshold : int\n",
    "        minimum total density_df across a row.\n",
    "        (May be deprecated - possibly removed in the future)\n",
    "    Returns\n",
    "    -------\n",
    "    pdf : pandas.DataFrame\n",
    "        r x c matrix of densities normalized across each respective\n",
    "        (r)ow as a probability density_df func.\n",
    "    \"\"\"\n",
    "    print(\"before\", density_df.shape)\n",
    "    print(\"are there nans?\", density_df.isnull().values.any())\n",
    "    df = clean(density_df)\n",
    "    print(\"after clean\", df.shape)\n",
    "    print(\"are there nans?\", df.isnull().values.any())\n",
    "    print(\"min density threshold: {}\".format(min_density_threshold))\n",
    "    df = df[df.sum(axis=1) >= 0]\n",
    "    print(\"after filter\", df.shape)\n",
    "    return df\n",
    "    print(\"are there nans?\", df.isnull().values.any())\n",
    "    min_read = pseudocount if pseudocount else min(\n",
    "        [item for item in df.unstack().values if item > 0]\n",
    "    )\n",
    "\n",
    "    df = df + min_read\n",
    "    print(\"after adding pseudocount\", df.shape)\n",
    "    print(\"are there nans?\", df.isnull().values.any())\n",
    "    pdf = df.div(df.sum(axis=1), axis=0)\n",
    "    print(\"after pdf\", df.shape)\n",
    "    print(\"are there nans?\", df.isnull().values.any())\n",
    "    return pdf # , mean, sem\n",
    "\n"
   ]
  },
  {
   "cell_type": "code",
   "execution_count": 102,
   "metadata": {},
   "outputs": [
    {
     "name": "stderr",
     "output_type": "stream",
     "text": [
      "/home/bay001/anaconda2/envs/brian/lib/python2.7/site-packages/ipykernel_launcher.py:49: DeprecationWarning: \n",
      ".ix is deprecated. Please use\n",
      ".loc for label based indexing or\n",
      ".iloc for positional indexing\n",
      "\n",
      "See the documentation here:\n",
      "http://pandas.pydata.org/pandas-docs/stable/indexing.html#ix-indexer-is-deprecated\n"
     ]
    },
    {
     "name": "stdout",
     "output_type": "stream",
     "text": [
      "before pdf normalization of ip: (7351, 1400)\n",
      "('before', (7351, 1400))\n",
      "('are there nans?', False)\n",
      "('after clean', (7351, 1400))\n",
      "('are there nans?', True)\n",
      "min density threshold: 0\n",
      "('after filter', (7351, 1400))\n",
      "(7351, 1400)\n"
     ]
    }
   ],
   "source": [
    "df = pd.read_table(\n",
    "    '/home/bay001/projects/brian_rbpmaps_20180202/temporary_data/whole_read/204_01_RBFOX2.merged.r2.0.HepG2_constitutive_exons.ip.raw_density.txt',\n",
    "    sep=',',\n",
    "    index_col=0\n",
    ")\n",
    "dfi = pd.read_table(\n",
    "    '/home/bay001/projects/brian_rbpmaps_20180202/temporary_data/whole_read/204_01_RBFOX2.merged.r2.0.HepG2_constitutive_exons.input.raw_density.txt',\n",
    "    sep=',',\n",
    "    index_col=0\n",
    ")\n",
    "dfp = 0.23389345358\n",
    "dfip = 0.265550504785\n",
    "\n",
    "df = normalize_and_per_region_subtract(\n",
    "    density_df=df, input_density_df=dfi,\n",
    "    pseudocount=dfp, input_pseudocount=dfip\n",
    ")\n",
    "\n",
    "print(df.shape)"
   ]
  },
  {
   "cell_type": "code",
   "execution_count": 103,
   "metadata": {},
   "outputs": [
    {
     "data": {
      "text/plain": [
       "(7351, 1400)"
      ]
     },
     "execution_count": 103,
     "metadata": {},
     "output_type": "execute_result"
    }
   ],
   "source": [
    "df = df[df.sum(axis=1) >= 0]\n",
    "df.shape"
   ]
  },
  {
   "cell_type": "code",
   "execution_count": 86,
   "metadata": {},
   "outputs": [
    {
     "data": {
      "text/plain": [
       "(2721, 1400)"
      ]
     },
     "execution_count": 86,
     "metadata": {},
     "output_type": "execute_result"
    }
   ],
   "source": [
    "# subtracted[subtracted.sum(axis=1) >= 0].shape\n",
    "\n",
    "df = df[df.sum(axis=1) >= 0]\n",
    "df = df + dfp\n",
    "df.shape"
   ]
  },
  {
   "cell_type": "code",
   "execution_count": 59,
   "metadata": {},
   "outputs": [
    {
     "data": {
      "text/plain": [
       "(7351, 1400)"
      ]
     },
     "execution_count": 59,
     "metadata": {},
     "output_type": "execute_result"
    }
   ],
   "source": [
    "subtracted2.shape"
   ]
  },
  {
   "cell_type": "code",
   "execution_count": 61,
   "metadata": {},
   "outputs": [],
   "source": [
    "from pandas.util.testing import assert_frame_equal\n",
    "\n",
    "assert_frame_equal(subtracted, subtracted2)"
   ]
  },
  {
   "cell_type": "code",
   "execution_count": null,
   "metadata": {},
   "outputs": [],
   "source": [
    "%matplotlib inline\n",
    "import matplotlib.pyplot as plt\n",
    "import seaborn as sns"
   ]
  },
  {
   "cell_type": "code",
   "execution_count": null,
   "metadata": {},
   "outputs": [],
   "source": []
  },
  {
   "cell_type": "code",
   "execution_count": null,
   "metadata": {},
   "outputs": [],
   "source": []
  },
  {
   "cell_type": "code",
   "execution_count": null,
   "metadata": {},
   "outputs": [],
   "source": [
    "df = pd.read_table(\n",
    "    '/home/bay001/projects/codebase/rbp-maps/examples/se/outputs/368_01_PTBP1.merged.r2.4.K562_constitutive_exons.ip.raw_density.txt',\n",
    "    sep=',',\n",
    "    index_col=0\n",
    ")\n",
    "df = clean(df)"
   ]
  },
  {
   "cell_type": "code",
   "execution_count": null,
   "metadata": {},
   "outputs": [],
   "source": [
    "sns.heatmap(df, xticklabels=False, yticklabels=False, vmin=min(df.min()), vmax=max(df.max()))"
   ]
  },
  {
   "cell_type": "code",
   "execution_count": 21,
   "metadata": {},
   "outputs": [
    {
     "data": {
      "text/plain": [
       "0   NaN\n",
       "dtype: float64"
      ]
     },
     "execution_count": 21,
     "metadata": {},
     "output_type": "execute_result"
    }
   ],
   "source": [
    "pd.Series(np.nan + 3)"
   ]
  },
  {
   "cell_type": "code",
   "execution_count": null,
   "metadata": {},
   "outputs": [],
   "source": [
    "max(df[['1']])"
   ]
  },
  {
   "cell_type": "code",
   "execution_count": null,
   "metadata": {},
   "outputs": [],
   "source": [
    "df[['1']].max()"
   ]
  },
  {
   "cell_type": "code",
   "execution_count": 98,
   "metadata": {},
   "outputs": [
    {
     "data": {
      "text/plain": [
       "u'0.22.0'"
      ]
     },
     "execution_count": 98,
     "metadata": {},
     "output_type": "execute_result"
    }
   ],
   "source": [
    "pd.__version__"
   ]
  },
  {
   "cell_type": "code",
   "execution_count": 252,
   "metadata": {},
   "outputs": [],
   "source": []
  },
  {
   "cell_type": "code",
   "execution_count": 234,
   "metadata": {},
   "outputs": [],
   "source": [
    "def add_min_read(row, min_read):\n",
    "    return row.abs().sum() + min_read*len(row.dropna())"
   ]
  },
  {
   "cell_type": "code",
   "execution_count": 223,
   "metadata": {},
   "outputs": [],
   "source": [
    "x = df_w.apply(add_min_read, axis=1, args=(1,))"
   ]
  },
  {
   "cell_type": "code",
   "execution_count": 235,
   "metadata": {},
   "outputs": [
    {
     "data": {
      "text/html": [
       "<div>\n",
       "<style scoped>\n",
       "    .dataframe tbody tr th:only-of-type {\n",
       "        vertical-align: middle;\n",
       "    }\n",
       "\n",
       "    .dataframe tbody tr th {\n",
       "        vertical-align: top;\n",
       "    }\n",
       "\n",
       "    .dataframe thead th {\n",
       "        text-align: right;\n",
       "    }\n",
       "</style>\n",
       "<table border=\"1\" class=\"dataframe\">\n",
       "  <thead>\n",
       "    <tr style=\"text-align: right;\">\n",
       "      <th></th>\n",
       "      <th>0</th>\n",
       "      <th>1</th>\n",
       "      <th>2</th>\n",
       "      <th>3</th>\n",
       "    </tr>\n",
       "  </thead>\n",
       "  <tbody>\n",
       "    <tr>\n",
       "      <th>0</th>\n",
       "      <td>-1</td>\n",
       "      <td>0</td>\n",
       "      <td>1</td>\n",
       "      <td>2.0</td>\n",
       "    </tr>\n",
       "    <tr>\n",
       "      <th>1</th>\n",
       "      <td>2</td>\n",
       "      <td>3</td>\n",
       "      <td>4</td>\n",
       "      <td>NaN</td>\n",
       "    </tr>\n",
       "    <tr>\n",
       "      <th>2</th>\n",
       "      <td>0</td>\n",
       "      <td>0</td>\n",
       "      <td>0</td>\n",
       "      <td>0.0</td>\n",
       "    </tr>\n",
       "  </tbody>\n",
       "</table>\n",
       "</div>"
      ],
      "text/plain": [
       "   0  1  2    3\n",
       "0 -1  0  1  2.0\n",
       "1  2  3  4  NaN\n",
       "2  0  0  0  0.0"
      ]
     },
     "execution_count": 235,
     "metadata": {},
     "output_type": "execute_result"
    }
   ],
   "source": [
    "subtracted"
   ]
  },
  {
   "cell_type": "code",
   "execution_count": 237,
   "metadata": {},
   "outputs": [],
   "source": [
    "summed = subtracted.apply(add_min_read, axis=1, args=(1,))"
   ]
  },
  {
   "cell_type": "code",
   "execution_count": 238,
   "metadata": {},
   "outputs": [
    {
     "data": {
      "text/html": [
       "<div>\n",
       "<style scoped>\n",
       "    .dataframe tbody tr th:only-of-type {\n",
       "        vertical-align: middle;\n",
       "    }\n",
       "\n",
       "    .dataframe tbody tr th {\n",
       "        vertical-align: top;\n",
       "    }\n",
       "\n",
       "    .dataframe thead th {\n",
       "        text-align: right;\n",
       "    }\n",
       "</style>\n",
       "<table border=\"1\" class=\"dataframe\">\n",
       "  <thead>\n",
       "    <tr style=\"text-align: right;\">\n",
       "      <th></th>\n",
       "      <th>0</th>\n",
       "      <th>1</th>\n",
       "      <th>2</th>\n",
       "      <th>3</th>\n",
       "    </tr>\n",
       "  </thead>\n",
       "  <tbody>\n",
       "    <tr>\n",
       "      <th>0</th>\n",
       "      <td>-0.125000</td>\n",
       "      <td>0.00</td>\n",
       "      <td>0.125000</td>\n",
       "      <td>0.25</td>\n",
       "    </tr>\n",
       "    <tr>\n",
       "      <th>1</th>\n",
       "      <td>0.166667</td>\n",
       "      <td>0.25</td>\n",
       "      <td>0.333333</td>\n",
       "      <td>NaN</td>\n",
       "    </tr>\n",
       "    <tr>\n",
       "      <th>2</th>\n",
       "      <td>0.000000</td>\n",
       "      <td>0.00</td>\n",
       "      <td>0.000000</td>\n",
       "      <td>0.00</td>\n",
       "    </tr>\n",
       "  </tbody>\n",
       "</table>\n",
       "</div>"
      ],
      "text/plain": [
       "          0     1         2     3\n",
       "0 -0.125000  0.00  0.125000  0.25\n",
       "1  0.166667  0.25  0.333333   NaN\n",
       "2  0.000000  0.00  0.000000  0.00"
      ]
     },
     "execution_count": 238,
     "metadata": {},
     "output_type": "execute_result"
    }
   ],
   "source": [
    "subtracted.div(summed, axis=0)"
   ]
  },
  {
   "cell_type": "code",
   "execution_count": 242,
   "metadata": {},
   "outputs": [
    {
     "data": {
      "text/html": [
       "<div>\n",
       "<style scoped>\n",
       "    .dataframe tbody tr th:only-of-type {\n",
       "        vertical-align: middle;\n",
       "    }\n",
       "\n",
       "    .dataframe tbody tr th {\n",
       "        vertical-align: top;\n",
       "    }\n",
       "\n",
       "    .dataframe thead th {\n",
       "        text-align: right;\n",
       "    }\n",
       "</style>\n",
       "<table border=\"1\" class=\"dataframe\">\n",
       "  <thead>\n",
       "    <tr style=\"text-align: right;\">\n",
       "      <th></th>\n",
       "      <th>0</th>\n",
       "      <th>1</th>\n",
       "      <th>2</th>\n",
       "      <th>3</th>\n",
       "      <th>4</th>\n",
       "      <th>5</th>\n",
       "      <th>6</th>\n",
       "      <th>7</th>\n",
       "      <th>8</th>\n",
       "      <th>9</th>\n",
       "      <th>...</th>\n",
       "      <th>1390</th>\n",
       "      <th>1391</th>\n",
       "      <th>1392</th>\n",
       "      <th>1393</th>\n",
       "      <th>1394</th>\n",
       "      <th>1395</th>\n",
       "      <th>1396</th>\n",
       "      <th>1397</th>\n",
       "      <th>1398</th>\n",
       "      <th>1399</th>\n",
       "    </tr>\n",
       "  </thead>\n",
       "  <tbody>\n",
       "    <tr>\n",
       "      <th>10072\\tENSG00000055130.11\\tCUL1\\tchr7\\t+\\t148456395\\t148456446\\t148454074\\t148454242\\t148456639\\t148456730\\t10072\\t418,306\\t13,5\\t209,215\\t26,16\\t149\\t99\\t3.11531619412e-06\\t0.000342740711339\\t0.955,0.976\\t0.842,0.899\\t0.095</th>\n",
       "      <td>-0.529109</td>\n",
       "      <td>-0.529109</td>\n",
       "      <td>-0.529109</td>\n",
       "      <td>-0.106158</td>\n",
       "      <td>-0.106158</td>\n",
       "      <td>-0.106158</td>\n",
       "      <td>-0.106158</td>\n",
       "      <td>0.070212</td>\n",
       "      <td>0.246581</td>\n",
       "      <td>0.246581</td>\n",
       "      <td>...</td>\n",
       "      <td>-0.176370</td>\n",
       "      <td>-0.176370</td>\n",
       "      <td>-0.176370</td>\n",
       "      <td>-0.176370</td>\n",
       "      <td>-0.176370</td>\n",
       "      <td>-0.176370</td>\n",
       "      <td>-0.176370</td>\n",
       "      <td>-0.176370</td>\n",
       "      <td>-0.176370</td>\n",
       "      <td>-0.176370</td>\n",
       "    </tr>\n",
       "    <tr>\n",
       "      <th>10082\\tENSG00000163714.13\\tU2SURP\\tchr3\\t+\\t142742816\\t142742860\\t142741694\\t142741906\\t142745990\\t142746095\\t10082\\t234,237\\t8,4\\t154,137\\t22,15\\t142\\t99\\t2.0643736337e-06\\t0.000240689931719\\t0.953,0.976\\t0.83,0.864\\t0.117</th>\n",
       "      <td>-0.282528</td>\n",
       "      <td>-0.282528</td>\n",
       "      <td>-0.282528</td>\n",
       "      <td>-0.282528</td>\n",
       "      <td>-0.705479</td>\n",
       "      <td>-0.881849</td>\n",
       "      <td>-0.881849</td>\n",
       "      <td>-0.529109</td>\n",
       "      <td>-0.705479</td>\n",
       "      <td>-0.705479</td>\n",
       "      <td>...</td>\n",
       "      <td>-0.282528</td>\n",
       "      <td>-0.705479</td>\n",
       "      <td>-0.705479</td>\n",
       "      <td>-0.705479</td>\n",
       "      <td>-0.705479</td>\n",
       "      <td>-0.529109</td>\n",
       "      <td>-0.529109</td>\n",
       "      <td>-0.529109</td>\n",
       "      <td>-0.352739</td>\n",
       "      <td>-0.352739</td>\n",
       "    </tr>\n",
       "    <tr>\n",
       "      <th>10256\\tENSG00000271816.1\\tRP11-574K11.28\\tchr10\\t-\\t75484532\\t75484596\\t75482146\\t75482335\\t75485718\\t75485798\\t10256\\t14,9\\t8,6\\t6,8\\t17,23\\t162\\t99\\t0.00110373600952\\t0.0432103202553\\t0.517,0.478\\t0.177,0.175\\t0.322</th>\n",
       "      <td>0.000000</td>\n",
       "      <td>0.000000</td>\n",
       "      <td>0.000000</td>\n",
       "      <td>0.000000</td>\n",
       "      <td>0.000000</td>\n",
       "      <td>0.000000</td>\n",
       "      <td>0.000000</td>\n",
       "      <td>0.000000</td>\n",
       "      <td>0.000000</td>\n",
       "      <td>0.000000</td>\n",
       "      <td>...</td>\n",
       "      <td>0.000000</td>\n",
       "      <td>0.000000</td>\n",
       "      <td>0.000000</td>\n",
       "      <td>0.000000</td>\n",
       "      <td>0.000000</td>\n",
       "      <td>0.000000</td>\n",
       "      <td>0.000000</td>\n",
       "      <td>0.000000</td>\n",
       "      <td>0.000000</td>\n",
       "      <td>0.000000</td>\n",
       "    </tr>\n",
       "    <tr>\n",
       "      <th>10295\\tENSG00000114956.15\\tDGUOK\\tchr2\\t+\\t74184251\\t74184367\\t74173845\\t74174033\\t74185272\\t74185372\\t10295\\t158,122\\t78,70\\t116,110\\t124,137\\t197\\t99\\t4.18676377456e-06\\t0.000445932116795\\t0.504,0.467\\t0.32,0.287\\t0.182</th>\n",
       "      <td>-0.176370</td>\n",
       "      <td>-0.176370</td>\n",
       "      <td>-0.176370</td>\n",
       "      <td>-0.176370</td>\n",
       "      <td>-0.352739</td>\n",
       "      <td>-0.352739</td>\n",
       "      <td>-0.529109</td>\n",
       "      <td>-0.529109</td>\n",
       "      <td>-0.529109</td>\n",
       "      <td>-0.705479</td>\n",
       "      <td>...</td>\n",
       "      <td>-0.176370</td>\n",
       "      <td>-0.176370</td>\n",
       "      <td>-0.176370</td>\n",
       "      <td>-0.176370</td>\n",
       "      <td>-0.176370</td>\n",
       "      <td>0.246581</td>\n",
       "      <td>0.246581</td>\n",
       "      <td>0.246581</td>\n",
       "      <td>0.246581</td>\n",
       "      <td>0.246581</td>\n",
       "    </tr>\n",
       "    <tr>\n",
       "      <th>10452\\tENSG00000100023.13\\tPPIL2\\tchr22\\t+\\t22024552\\t22024665\\t22024201\\t22024251\\t22024854\\t22024900\\t10452\\t81,59\\t255,226\\t16,13\\t213,207\\t197\\t99\\t2.03060457338e-10\\t6.09638258043e-08\\t0.138,0.116\\t0.036,0.031\\t0.093</th>\n",
       "      <td>1.092483</td>\n",
       "      <td>1.092483</td>\n",
       "      <td>1.092483</td>\n",
       "      <td>1.268853</td>\n",
       "      <td>1.268853</td>\n",
       "      <td>1.268853</td>\n",
       "      <td>1.268853</td>\n",
       "      <td>1.268853</td>\n",
       "      <td>1.268853</td>\n",
       "      <td>1.268853</td>\n",
       "      <td>...</td>\n",
       "      <td>-1.553063</td>\n",
       "      <td>-1.553063</td>\n",
       "      <td>-1.553063</td>\n",
       "      <td>-1.553063</td>\n",
       "      <td>-1.553063</td>\n",
       "      <td>-1.553063</td>\n",
       "      <td>NaN</td>\n",
       "      <td>NaN</td>\n",
       "      <td>NaN</td>\n",
       "      <td>NaN</td>\n",
       "    </tr>\n",
       "  </tbody>\n",
       "</table>\n",
       "<p>5 rows × 1400 columns</p>\n",
       "</div>"
      ],
      "text/plain": [
       "                                                           0         1  \\\n",
       "10072\\tENSG00000055130.11\\tCUL1\\tchr7\\t+\\t14845... -0.529109 -0.529109   \n",
       "10082\\tENSG00000163714.13\\tU2SURP\\tchr3\\t+\\t142... -0.282528 -0.282528   \n",
       "10256\\tENSG00000271816.1\\tRP11-574K11.28\\tchr10...  0.000000  0.000000   \n",
       "10295\\tENSG00000114956.15\\tDGUOK\\tchr2\\t+\\t7418... -0.176370 -0.176370   \n",
       "10452\\tENSG00000100023.13\\tPPIL2\\tchr22\\t+\\t220...  1.092483  1.092483   \n",
       "\n",
       "                                                           2         3  \\\n",
       "10072\\tENSG00000055130.11\\tCUL1\\tchr7\\t+\\t14845... -0.529109 -0.106158   \n",
       "10082\\tENSG00000163714.13\\tU2SURP\\tchr3\\t+\\t142... -0.282528 -0.282528   \n",
       "10256\\tENSG00000271816.1\\tRP11-574K11.28\\tchr10...  0.000000  0.000000   \n",
       "10295\\tENSG00000114956.15\\tDGUOK\\tchr2\\t+\\t7418... -0.176370 -0.176370   \n",
       "10452\\tENSG00000100023.13\\tPPIL2\\tchr22\\t+\\t220...  1.092483  1.268853   \n",
       "\n",
       "                                                           4         5  \\\n",
       "10072\\tENSG00000055130.11\\tCUL1\\tchr7\\t+\\t14845... -0.106158 -0.106158   \n",
       "10082\\tENSG00000163714.13\\tU2SURP\\tchr3\\t+\\t142... -0.705479 -0.881849   \n",
       "10256\\tENSG00000271816.1\\tRP11-574K11.28\\tchr10...  0.000000  0.000000   \n",
       "10295\\tENSG00000114956.15\\tDGUOK\\tchr2\\t+\\t7418... -0.352739 -0.352739   \n",
       "10452\\tENSG00000100023.13\\tPPIL2\\tchr22\\t+\\t220...  1.268853  1.268853   \n",
       "\n",
       "                                                           6         7  \\\n",
       "10072\\tENSG00000055130.11\\tCUL1\\tchr7\\t+\\t14845... -0.106158  0.070212   \n",
       "10082\\tENSG00000163714.13\\tU2SURP\\tchr3\\t+\\t142... -0.881849 -0.529109   \n",
       "10256\\tENSG00000271816.1\\tRP11-574K11.28\\tchr10...  0.000000  0.000000   \n",
       "10295\\tENSG00000114956.15\\tDGUOK\\tchr2\\t+\\t7418... -0.529109 -0.529109   \n",
       "10452\\tENSG00000100023.13\\tPPIL2\\tchr22\\t+\\t220...  1.268853  1.268853   \n",
       "\n",
       "                                                           8         9  \\\n",
       "10072\\tENSG00000055130.11\\tCUL1\\tchr7\\t+\\t14845...  0.246581  0.246581   \n",
       "10082\\tENSG00000163714.13\\tU2SURP\\tchr3\\t+\\t142... -0.705479 -0.705479   \n",
       "10256\\tENSG00000271816.1\\tRP11-574K11.28\\tchr10...  0.000000  0.000000   \n",
       "10295\\tENSG00000114956.15\\tDGUOK\\tchr2\\t+\\t7418... -0.529109 -0.705479   \n",
       "10452\\tENSG00000100023.13\\tPPIL2\\tchr22\\t+\\t220...  1.268853  1.268853   \n",
       "\n",
       "                                                      ...         1390  \\\n",
       "10072\\tENSG00000055130.11\\tCUL1\\tchr7\\t+\\t14845...    ...    -0.176370   \n",
       "10082\\tENSG00000163714.13\\tU2SURP\\tchr3\\t+\\t142...    ...    -0.282528   \n",
       "10256\\tENSG00000271816.1\\tRP11-574K11.28\\tchr10...    ...     0.000000   \n",
       "10295\\tENSG00000114956.15\\tDGUOK\\tchr2\\t+\\t7418...    ...    -0.176370   \n",
       "10452\\tENSG00000100023.13\\tPPIL2\\tchr22\\t+\\t220...    ...    -1.553063   \n",
       "\n",
       "                                                        1391      1392  \\\n",
       "10072\\tENSG00000055130.11\\tCUL1\\tchr7\\t+\\t14845... -0.176370 -0.176370   \n",
       "10082\\tENSG00000163714.13\\tU2SURP\\tchr3\\t+\\t142... -0.705479 -0.705479   \n",
       "10256\\tENSG00000271816.1\\tRP11-574K11.28\\tchr10...  0.000000  0.000000   \n",
       "10295\\tENSG00000114956.15\\tDGUOK\\tchr2\\t+\\t7418... -0.176370 -0.176370   \n",
       "10452\\tENSG00000100023.13\\tPPIL2\\tchr22\\t+\\t220... -1.553063 -1.553063   \n",
       "\n",
       "                                                        1393      1394  \\\n",
       "10072\\tENSG00000055130.11\\tCUL1\\tchr7\\t+\\t14845... -0.176370 -0.176370   \n",
       "10082\\tENSG00000163714.13\\tU2SURP\\tchr3\\t+\\t142... -0.705479 -0.705479   \n",
       "10256\\tENSG00000271816.1\\tRP11-574K11.28\\tchr10...  0.000000  0.000000   \n",
       "10295\\tENSG00000114956.15\\tDGUOK\\tchr2\\t+\\t7418... -0.176370 -0.176370   \n",
       "10452\\tENSG00000100023.13\\tPPIL2\\tchr22\\t+\\t220... -1.553063 -1.553063   \n",
       "\n",
       "                                                        1395      1396  \\\n",
       "10072\\tENSG00000055130.11\\tCUL1\\tchr7\\t+\\t14845... -0.176370 -0.176370   \n",
       "10082\\tENSG00000163714.13\\tU2SURP\\tchr3\\t+\\t142... -0.529109 -0.529109   \n",
       "10256\\tENSG00000271816.1\\tRP11-574K11.28\\tchr10...  0.000000  0.000000   \n",
       "10295\\tENSG00000114956.15\\tDGUOK\\tchr2\\t+\\t7418...  0.246581  0.246581   \n",
       "10452\\tENSG00000100023.13\\tPPIL2\\tchr22\\t+\\t220... -1.553063       NaN   \n",
       "\n",
       "                                                        1397      1398  \\\n",
       "10072\\tENSG00000055130.11\\tCUL1\\tchr7\\t+\\t14845... -0.176370 -0.176370   \n",
       "10082\\tENSG00000163714.13\\tU2SURP\\tchr3\\t+\\t142... -0.529109 -0.352739   \n",
       "10256\\tENSG00000271816.1\\tRP11-574K11.28\\tchr10...  0.000000  0.000000   \n",
       "10295\\tENSG00000114956.15\\tDGUOK\\tchr2\\t+\\t7418...  0.246581  0.246581   \n",
       "10452\\tENSG00000100023.13\\tPPIL2\\tchr22\\t+\\t220...       NaN       NaN   \n",
       "\n",
       "                                                        1399  \n",
       "10072\\tENSG00000055130.11\\tCUL1\\tchr7\\t+\\t14845... -0.176370  \n",
       "10082\\tENSG00000163714.13\\tU2SURP\\tchr3\\t+\\t142... -0.352739  \n",
       "10256\\tENSG00000271816.1\\tRP11-574K11.28\\tchr10...  0.000000  \n",
       "10295\\tENSG00000114956.15\\tDGUOK\\tchr2\\t+\\t7418...  0.246581  \n",
       "10452\\tENSG00000100023.13\\tPPIL2\\tchr22\\t+\\t220...       NaN  \n",
       "\n",
       "[5 rows x 1400 columns]"
      ]
     },
     "execution_count": 242,
     "metadata": {},
     "output_type": "execute_result"
    }
   ],
   "source": [
    "pdf = pd.read_table(\n",
    "    '/oasis/tscc/scratch/bay001/df.csv',\n",
    "    sep=',',\n",
    "    index_col=0\n",
    ")\n",
    "pdf.head()"
   ]
  },
  {
   "cell_type": "code",
   "execution_count": 272,
   "metadata": {},
   "outputs": [],
   "source": [
    "df = pd.read_table('/oasis/tscc/scratch/bay001/density.csv', sep=',', index_col=0)\n",
    "dfi = pd.read_table('/oasis/tscc/scratch/bay001/inputdensity.csv', sep=',', index_col=0)\n",
    "subtracted = pd.read_table('/oasis/tscc/scratch/bay001/subtracted.csv', sep=',', index_col=0)\n",
    "pdf = pd.read_table('/oasis/tscc/scratch/bay001/pdf.csv', sep=',', index_col=0)"
   ]
  },
  {
   "cell_type": "code",
   "execution_count": 273,
   "metadata": {},
   "outputs": [
    {
     "name": "stderr",
     "output_type": "stream",
     "text": [
      "/home/bay001/anaconda2/envs/brian/lib/python2.7/site-packages/ipykernel_launcher.py:2: DeprecationWarning: \n",
      ".ix is deprecated. Please use\n",
      ".loc for label based indexing or\n",
      ".iloc for positional indexing\n",
      "\n",
      "See the documentation here:\n",
      "http://pandas.pydata.org/pandas-docs/stable/indexing.html#ix-indexer-is-deprecated\n",
      "  \n"
     ]
    },
    {
     "data": {
      "text/plain": [
       "0   -0.031657\n",
       "1   -0.031657\n",
       "2   -0.031657\n",
       "3   -0.031657\n",
       "4   -0.031657\n",
       "Name: chr10|+|124186547-124187791|124187832-124189139|124186547-124189139\\t124186457-124186547\\t124187791-124187832\\t124189139-124191866\\t5714,2458\\t36893,17211, dtype: float64"
      ]
     },
     "execution_count": 273,
     "metadata": {},
     "output_type": "execute_result"
    }
   ],
   "source": [
    "idx = 'chr10|+|124186547-124187791|124187832-124189139|124186547-124189139\\t124186457-124186547\\t124187791-124187832\\t124189139-124191866\\t5714,2458\\t36893,17211'\n",
    "(df.ix[idx] - dfi.ix[idx]).head()"
   ]
  },
  {
   "cell_type": "code",
   "execution_count": 274,
   "metadata": {},
   "outputs": [
    {
     "name": "stderr",
     "output_type": "stream",
     "text": [
      "/home/bay001/anaconda2/envs/brian/lib/python2.7/site-packages/ipykernel_launcher.py:1: DeprecationWarning: \n",
      ".ix is deprecated. Please use\n",
      ".loc for label based indexing or\n",
      ".iloc for positional indexing\n",
      "\n",
      "See the documentation here:\n",
      "http://pandas.pydata.org/pandas-docs/stable/indexing.html#ix-indexer-is-deprecated\n",
      "  \"\"\"Entry point for launching an IPython kernel.\n"
     ]
    },
    {
     "data": {
      "text/plain": [
       "0   -0.031657\n",
       "1   -0.031657\n",
       "2   -0.031657\n",
       "3   -0.031657\n",
       "4   -0.031657\n",
       "Name: chr10|+|124186547-124187791|124187832-124189139|124186547-124189139\\t124186457-124186547\\t124187791-124187832\\t124189139-124191866\\t5714,2458\\t36893,17211, dtype: float64"
      ]
     },
     "execution_count": 274,
     "metadata": {},
     "output_type": "execute_result"
    }
   ],
   "source": [
    "subtracted.ix[idx].head()"
   ]
  },
  {
   "cell_type": "code",
   "execution_count": 281,
   "metadata": {
    "scrolled": true
   },
   "outputs": [
    {
     "data": {
      "text/plain": [
       "880.74100861151169"
      ]
     },
     "execution_count": 281,
     "metadata": {},
     "output_type": "execute_result"
    }
   ],
   "source": [
    "new_series = []\n",
    "pseudocount = 0.23389345358\n",
    "for v in subtracted.ix[idx]:\n",
    "    if v < 0:\n",
    "        new_series.append(v-pseudocount)\n",
    "    else:\n",
    "        new_series.append(v+pseudocount)\n",
    "pd.Series(new_series).abs().sum()"
   ]
  },
  {
   "cell_type": "code",
   "execution_count": 282,
   "metadata": {},
   "outputs": [
    {
     "data": {
      "text/plain": [
       "0      -0.000036\n",
       "1      -0.000036\n",
       "2      -0.000036\n",
       "3      -0.000036\n",
       "4      -0.000036\n",
       "5      -0.000036\n",
       "6      -0.000036\n",
       "7      -0.000036\n",
       "8      -0.000302\n",
       "9      -0.000302\n",
       "10     -0.000302\n",
       "11     -0.000302\n",
       "12     -0.000302\n",
       "13     -0.000302\n",
       "14     -0.000302\n",
       "15     -0.000036\n",
       "16     -0.000036\n",
       "17     -0.000036\n",
       "18     -0.000036\n",
       "19     -0.000036\n",
       "20     -0.000036\n",
       "21     -0.000036\n",
       "22     -0.000036\n",
       "23     -0.000036\n",
       "24     -0.000036\n",
       "25     -0.000036\n",
       "26     -0.000036\n",
       "27     -0.000036\n",
       "28     -0.000036\n",
       "29     -0.000036\n",
       "          ...   \n",
       "1370    0.000531\n",
       "1371    0.000531\n",
       "1372    0.000531\n",
       "1373    0.000531\n",
       "1374    0.000531\n",
       "1375    0.000266\n",
       "1376    0.000266\n",
       "1377    0.000266\n",
       "1378    0.000266\n",
       "1379    0.000266\n",
       "1380    0.000000\n",
       "1381    0.000000\n",
       "1382    0.000000\n",
       "1383    0.000000\n",
       "1384    0.000000\n",
       "1385   -0.000302\n",
       "1386   -0.000302\n",
       "1387   -0.000905\n",
       "1388   -0.000905\n",
       "1389   -0.000905\n",
       "1390   -0.000905\n",
       "1391   -0.001206\n",
       "1392   -0.001206\n",
       "1393   -0.001508\n",
       "1394   -0.001242\n",
       "1395   -0.001242\n",
       "1396   -0.001242\n",
       "1397   -0.001242\n",
       "1398   -0.001242\n",
       "1399   -0.001242\n",
       "Name: chr10|+|124186547-124187791|124187832-124189139|124186547-124189139\\t124186457-124186547\\t124187791-124187832\\t124189139-124191866\\t5714,2458\\t36893,17211, Length: 1400, dtype: float64"
      ]
     },
     "execution_count": 282,
     "metadata": {},
     "output_type": "execute_result"
    }
   ],
   "source": [
    "subtracted.ix[idx].div(pd.Series(new_series).abs().sum())"
   ]
  },
  {
   "cell_type": "code",
   "execution_count": 277,
   "metadata": {},
   "outputs": [
    {
     "name": "stderr",
     "output_type": "stream",
     "text": [
      "/home/bay001/anaconda2/envs/brian/lib/python2.7/site-packages/ipykernel_launcher.py:1: DeprecationWarning: \n",
      ".ix is deprecated. Please use\n",
      ".loc for label based indexing or\n",
      ".iloc for positional indexing\n",
      "\n",
      "See the documentation here:\n",
      "http://pandas.pydata.org/pandas-docs/stable/indexing.html#ix-indexer-is-deprecated\n",
      "  \"\"\"Entry point for launching an IPython kernel.\n"
     ]
    },
    {
     "data": {
      "text/plain": [
       "0      -0.000036\n",
       "1      -0.000036\n",
       "2      -0.000036\n",
       "3      -0.000036\n",
       "4      -0.000036\n",
       "5      -0.000036\n",
       "6      -0.000036\n",
       "7      -0.000036\n",
       "8      -0.000302\n",
       "9      -0.000302\n",
       "10     -0.000302\n",
       "11     -0.000302\n",
       "12     -0.000302\n",
       "13     -0.000302\n",
       "14     -0.000302\n",
       "15     -0.000036\n",
       "16     -0.000036\n",
       "17     -0.000036\n",
       "18     -0.000036\n",
       "19     -0.000036\n",
       "20     -0.000036\n",
       "21     -0.000036\n",
       "22     -0.000036\n",
       "23     -0.000036\n",
       "24     -0.000036\n",
       "25     -0.000036\n",
       "26     -0.000036\n",
       "27     -0.000036\n",
       "28     -0.000036\n",
       "29     -0.000036\n",
       "          ...   \n",
       "1370    0.000531\n",
       "1371    0.000531\n",
       "1372    0.000531\n",
       "1373    0.000531\n",
       "1374    0.000531\n",
       "1375    0.000266\n",
       "1376    0.000266\n",
       "1377    0.000266\n",
       "1378    0.000266\n",
       "1379    0.000266\n",
       "1380    0.000000\n",
       "1381    0.000000\n",
       "1382    0.000000\n",
       "1383    0.000000\n",
       "1384    0.000000\n",
       "1385   -0.000302\n",
       "1386   -0.000302\n",
       "1387   -0.000905\n",
       "1388   -0.000905\n",
       "1389   -0.000905\n",
       "1390   -0.000905\n",
       "1391   -0.001206\n",
       "1392   -0.001206\n",
       "1393   -0.001508\n",
       "1394   -0.001242\n",
       "1395   -0.001242\n",
       "1396   -0.001242\n",
       "1397   -0.001242\n",
       "1398   -0.001242\n",
       "1399   -0.001242\n",
       "Name: chr10|+|124186547-124187791|124187832-124189139|124186547-124189139\\t124186457-124186547\\t124187791-124187832\\t124189139-124191866\\t5714,2458\\t36893,17211, Length: 1400, dtype: float64"
      ]
     },
     "execution_count": 277,
     "metadata": {},
     "output_type": "execute_result"
    }
   ],
   "source": [
    "pdf.ix[idx]"
   ]
  },
  {
   "cell_type": "code",
   "execution_count": 284,
   "metadata": {},
   "outputs": [
    {
     "name": "stdout",
     "output_type": "stream",
     "text": [
      "<class 'pandas.core.series.Series'>\n",
      "<class 'pandas.core.series.Series'>\n",
      "<class 'pandas.core.series.Series'>\n",
      "<class 'pandas.core.series.Series'>\n",
      "<class 'pandas.core.series.Series'>\n"
     ]
    },
    {
     "data": {
      "text/plain": [
       "chr10|+|111890244-111892062|111892158-111893083|111890244-111893083\\t111890120-111890244\\t111892062-111892158\\t111893083-111893969\\t1877,1526\\t19425,11386    None\n",
       "chr10|+|124186547-124187791|124187832-124189139|124186547-124189139\\t124186457-124186547\\t124187791-124187832\\t124189139-124191866\\t5714,2458\\t36893,17211    None\n",
       "chr10|+|79797062-79799961|79799983-79800372|79797062-79800372\\t79796951-79797062\\t79799961-79799983\\t79800372-79800455\\t48407,32190\\t438372,256983            None\n",
       "chr10|+|88930731-88935645|88935852-88939831|88930731-88939831\\t88930596-88930731\\t88935645-88935852\\t88939831-88940060\\t3756,1002\\t29549,7742                 None\n",
       "chr10|+|93024277-93031394|93031454-93038025|93024277-93038025\\t93024187-93024277\\t93031394-93031454\\t93038025-93044088\\t2525,808\\t19336,5297                  None\n",
       "dtype: object"
      ]
     },
     "execution_count": 284,
     "metadata": {},
     "output_type": "execute_result"
    }
   ],
   "source": [
    "def get_rowtype(row):\n",
    "    print(type(row))\n",
    "    \n",
    "df.head().apply(get_rowtype, axis=1)"
   ]
  },
  {
   "cell_type": "code",
   "execution_count": 288,
   "metadata": {},
   "outputs": [
    {
     "data": {
      "text/html": [
       "<div>\n",
       "<style scoped>\n",
       "    .dataframe tbody tr th:only-of-type {\n",
       "        vertical-align: middle;\n",
       "    }\n",
       "\n",
       "    .dataframe tbody tr th {\n",
       "        vertical-align: top;\n",
       "    }\n",
       "\n",
       "    .dataframe thead th {\n",
       "        text-align: right;\n",
       "    }\n",
       "</style>\n",
       "<table border=\"1\" class=\"dataframe\">\n",
       "  <thead>\n",
       "    <tr style=\"text-align: right;\">\n",
       "      <th></th>\n",
       "      <th>0</th>\n",
       "      <th>1</th>\n",
       "      <th>2</th>\n",
       "      <th>3</th>\n",
       "    </tr>\n",
       "  </thead>\n",
       "  <tbody>\n",
       "    <tr>\n",
       "      <th>0</th>\n",
       "      <td>0.000000</td>\n",
       "      <td>0.100000</td>\n",
       "      <td>0.200000</td>\n",
       "      <td>0.300000</td>\n",
       "    </tr>\n",
       "    <tr>\n",
       "      <th>1</th>\n",
       "      <td>0.176471</td>\n",
       "      <td>0.235294</td>\n",
       "      <td>0.294118</td>\n",
       "      <td>-0.058824</td>\n",
       "    </tr>\n",
       "    <tr>\n",
       "      <th>2</th>\n",
       "      <td>0.000000</td>\n",
       "      <td>0.000000</td>\n",
       "      <td>0.000000</td>\n",
       "      <td>0.000000</td>\n",
       "    </tr>\n",
       "  </tbody>\n",
       "</table>\n",
       "</div>"
      ],
      "text/plain": [
       "          0         1         2         3\n",
       "0  0.000000  0.100000  0.200000  0.300000\n",
       "1  0.176471  0.235294  0.294118 -0.058824\n",
       "2  0.000000  0.000000  0.000000  0.000000"
      ]
     },
     "execution_count": 288,
     "metadata": {},
     "output_type": "execute_result"
    }
   ],
   "source": [
    "df = pd.DataFrame(\n",
    "    [[0/10., 1/10., 2/10., 3/10.],\n",
    "     [3/17., 4/17., 5/17., -1/17.],\n",
    "     [0/4., 0/4., 0/4., 0/4.]]\n",
    ")\n",
    "df"
   ]
  },
  {
   "cell_type": "code",
   "execution_count": 302,
   "metadata": {},
   "outputs": [],
   "source": [
    "df = pd.DataFrame(\n",
    "        [[0, 1, 2, 3, np.nan]])\n"
   ]
  },
  {
   "cell_type": "code",
   "execution_count": 305,
   "metadata": {},
   "outputs": [
    {
     "name": "stdout",
     "output_type": "stream",
     "text": [
      "(   0  1  2  3   4\n",
      "0  0  1  2  3 NaN, (0, 5))\n"
     ]
    },
    {
     "data": {
      "text/plain": [
       "False"
      ]
     },
     "execution_count": 305,
     "metadata": {},
     "output_type": "execute_result"
    }
   ],
   "source": [
    "def has_negative_values(df):\n",
    "    \"\"\"\n",
    "    Checks a dataframe for negative values. Return True if\n",
    "    there are negative values, return False otherwise.\n",
    "\n",
    "    Parameters\n",
    "    ----------\n",
    "    df : pandas.DataFrame\n",
    "\n",
    "    Returns\n",
    "    -------\n",
    "\n",
    "    \"\"\"\n",
    "    print(df, df[(df < 0).any(axis=1)].shape)\n",
    "    return df[(df < 0).any(axis=1)].shape[0] > 0\n",
    "\n",
    "has_negative_values(df)"
   ]
  },
  {
   "cell_type": "code",
   "execution_count": 306,
   "metadata": {},
   "outputs": [],
   "source": [
    "df = pd.DataFrame(\n",
    "    [\n",
    "        [2,1],\n",
    "        [1,1],\n",
    "        [1,1],\n",
    "        [-1,1],\n",
    "        [1,1],\n",
    "        [1,1],\n",
    "        [1,1],\n",
    "        [1,1],\n",
    "        [1,1],\n",
    "        [1,1]\n",
    "    ]\n",
    ")"
   ]
  },
  {
   "cell_type": "code",
   "execution_count": 314,
   "metadata": {},
   "outputs": [
    {
     "data": {
      "text/plain": [
       "0    0.9\n",
       "1    1.0\n",
       "dtype: float64"
      ]
     },
     "execution_count": 314,
     "metadata": {},
     "output_type": "execute_result"
    }
   ],
   "source": [
    "df.mean()"
   ]
  },
  {
   "cell_type": "code",
   "execution_count": 315,
   "metadata": {},
   "outputs": [
    {
     "data": {
      "text/plain": [
       "10"
      ]
     },
     "execution_count": 315,
     "metadata": {},
     "output_type": "execute_result"
    }
   ],
   "source": [
    "2+1+1+1+1+1+1+1+1+1-1"
   ]
  },
  {
   "cell_type": "code",
   "execution_count": 317,
   "metadata": {},
   "outputs": [
    {
     "data": {
      "text/plain": [
       "0    0.9\n",
       "1    1.0\n",
       "dtype: float64"
      ]
     },
     "execution_count": 317,
     "metadata": {},
     "output_type": "execute_result"
    }
   ],
   "source": [
    "df.mean()"
   ]
  },
  {
   "cell_type": "code",
   "execution_count": null,
   "metadata": {},
   "outputs": [],
   "source": []
  }
 ],
 "metadata": {
  "kernelspec": {
   "display_name": "brian",
   "language": "python",
   "name": "brian"
  },
  "language_info": {
   "codemirror_mode": {
    "name": "ipython",
    "version": 2
   },
   "file_extension": ".py",
   "mimetype": "text/x-python",
   "name": "python",
   "nbconvert_exporter": "python",
   "pygments_lexer": "ipython2",
   "version": "2.7.11"
  }
 },
 "nbformat": 4,
 "nbformat_minor": 2
}
