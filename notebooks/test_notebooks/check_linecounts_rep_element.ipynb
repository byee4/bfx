{
 "cells": [
  {
   "cell_type": "code",
   "execution_count": 19,
   "metadata": {
    "collapsed": true
   },
   "outputs": [],
   "source": [
    "import pandas as pd\n",
    "import numpy as np"
   ]
  },
  {
   "cell_type": "code",
   "execution_count": 20,
   "metadata": {
    "collapsed": true
   },
   "outputs": [],
   "source": [
    "import os\n",
    "import glob"
   ]
  },
  {
   "cell_type": "code",
   "execution_count": 21,
   "metadata": {
    "collapsed": true
   },
   "outputs": [],
   "source": [
    "wd = '/projects/ps-yeolab3/bay001/rep_element_reference/example4/RBFOX2/.tmp/cwltool_interm'"
   ]
  },
  {
   "cell_type": "code",
   "execution_count": 30,
   "metadata": {},
   "outputs": [],
   "source": [
    "files = []\n",
    "for directory in glob.glob(os.path.join(wd,'*')):\n",
    "    f = glob.glob(os.path.join(directory, '*B06*.rmDup.sam'))\n",
    "    if len(f) == 1:\n",
    "        files.append(f[0])\n",
    "    if len(f) > 1:\n",
    "        print(f)"
   ]
  },
  {
   "cell_type": "code",
   "execution_count": 31,
   "metadata": {},
   "outputs": [
    {
     "data": {
      "text/plain": [
       "25"
      ]
     },
     "execution_count": 31,
     "metadata": {},
     "output_type": "execute_result"
    }
   ],
   "source": [
    "len(files)"
   ]
  },
  {
   "cell_type": "code",
   "execution_count": 34,
   "metadata": {},
   "outputs": [
    {
     "name": "stdout",
     "output_type": "stream",
     "text": [
      "('NN.RBFOX2-204-CLIP_S1_R-.B06_204_01_RBFOX2.adapterTrim.round2_rep.sam.tmp.combined_w_uniquemap.rmDup.sam', 964)\n",
      "('CN.RBFOX2-204-CLIP_S1_R-.B06_204_01_RBFOX2.adapterTrim.round2_rep.sam.tmp.combined_w_uniquemap.rmDup.sam', 2)\n",
      "('GA.RBFOX2-204-CLIP_S1_R-.B06_204_01_RBFOX2.adapterTrim.round2_rep.sam.tmp.combined_w_uniquemap.rmDup.sam', 258376)\n",
      "('GN.RBFOX2-204-CLIP_S1_R-.B06_204_01_RBFOX2.adapterTrim.round2_rep.sam.tmp.combined_w_uniquemap.rmDup.sam', 2)\n",
      "('TT.RBFOX2-204-CLIP_S1_R-.B06_204_01_RBFOX2.adapterTrim.round2_rep.sam.tmp.combined_w_uniquemap.rmDup.sam', 298816)\n",
      "('NT.RBFOX2-204-CLIP_S1_R-.B06_204_01_RBFOX2.adapterTrim.round2_rep.sam.tmp.combined_w_uniquemap.rmDup.sam', 60)\n",
      "('AA.RBFOX2-204-CLIP_S1_R-.B06_204_01_RBFOX2.adapterTrim.round2_rep.sam.tmp.combined_w_uniquemap.rmDup.sam', 874654)\n",
      "('AN.RBFOX2-204-CLIP_S1_R-.B06_204_01_RBFOX2.adapterTrim.round2_rep.sam.tmp.combined_w_uniquemap.rmDup.sam', 2)\n",
      "('NC.RBFOX2-204-CLIP_S1_R-.B06_204_01_RBFOX2.adapterTrim.round2_rep.sam.tmp.combined_w_uniquemap.rmDup.sam', 52)\n",
      "('NA.RBFOX2-204-CLIP_S1_R-.B06_204_01_RBFOX2.adapterTrim.round2_rep.sam.tmp.combined_w_uniquemap.rmDup.sam', 102)\n",
      "('AT.RBFOX2-204-CLIP_S1_R-.B06_204_01_RBFOX2.adapterTrim.round2_rep.sam.tmp.combined_w_uniquemap.rmDup.sam', 402838)\n",
      "('AC.RBFOX2-204-CLIP_S1_R-.B06_204_01_RBFOX2.adapterTrim.round2_rep.sam.tmp.combined_w_uniquemap.rmDup.sam', 188194)\n",
      "('GC.RBFOX2-204-CLIP_S1_R-.B06_204_01_RBFOX2.adapterTrim.round2_rep.sam.tmp.combined_w_uniquemap.rmDup.sam', 346440)\n",
      "('AG.RBFOX2-204-CLIP_S1_R-.B06_204_01_RBFOX2.adapterTrim.round2_rep.sam.tmp.combined_w_uniquemap.rmDup.sam', 388872)\n",
      "('CA.RBFOX2-204-CLIP_S1_R-.B06_204_01_RBFOX2.adapterTrim.round2_rep.sam.tmp.combined_w_uniquemap.rmDup.sam', 290844)\n",
      "('TN.RBFOX2-204-CLIP_S1_R-.B06_204_01_RBFOX2.adapterTrim.round2_rep.sam.tmp.combined_w_uniquemap.rmDup.sam', 2)\n",
      "('CT.RBFOX2-204-CLIP_S1_R-.B06_204_01_RBFOX2.adapterTrim.round2_rep.sam.tmp.combined_w_uniquemap.rmDup.sam', 355696)\n",
      "('CG.RBFOX2-204-CLIP_S1_R-.B06_204_01_RBFOX2.adapterTrim.round2_rep.sam.tmp.combined_w_uniquemap.rmDup.sam', 333660)\n",
      "('CC.RBFOX2-204-CLIP_S1_R-.B06_204_01_RBFOX2.adapterTrim.round2_rep.sam.tmp.combined_w_uniquemap.rmDup.sam', 497580)\n",
      "('NG.RBFOX2-204-CLIP_S1_R-.B06_204_01_RBFOX2.adapterTrim.round2_rep.sam.tmp.combined_w_uniquemap.rmDup.sam', 74)\n",
      "('GG.RBFOX2-204-CLIP_S1_R-.B06_204_01_RBFOX2.adapterTrim.round2_rep.sam.tmp.combined_w_uniquemap.rmDup.sam', 307494)\n",
      "('TG.RBFOX2-204-CLIP_S1_R-.B06_204_01_RBFOX2.adapterTrim.round2_rep.sam.tmp.combined_w_uniquemap.rmDup.sam', 357614)\n",
      "('GT.RBFOX2-204-CLIP_S1_R-.B06_204_01_RBFOX2.adapterTrim.round2_rep.sam.tmp.combined_w_uniquemap.rmDup.sam', 165772)\n",
      "('TC.RBFOX2-204-CLIP_S1_R-.B06_204_01_RBFOX2.adapterTrim.round2_rep.sam.tmp.combined_w_uniquemap.rmDup.sam', 259672)\n",
      "('TA.RBFOX2-204-CLIP_S1_R-.B06_204_01_RBFOX2.adapterTrim.round2_rep.sam.tmp.combined_w_uniquemap.rmDup.sam', 369316)\n",
      "5697098\n"
     ]
    }
   ],
   "source": [
    "expected_wcl = 0\n",
    "for f in files:\n",
    "    df = pd.read_table(f, names=range(24))\n",
    "    print(os.path.basename(f), df.shape[0])\n",
    "    expected_wcl+= df.shape[0]\n",
    "print(expected_wcl)"
   ]
  },
  {
   "cell_type": "code",
   "execution_count": null,
   "metadata": {
    "collapsed": true
   },
   "outputs": [],
   "source": [
    "wd2 = '/home/elvannostrand/scratch/rbfox2_test20170923'\n"
   ]
  }
 ],
 "metadata": {
  "kernelspec": {
   "display_name": "Python 2",
   "language": "python",
   "name": "python2"
  },
  "language_info": {
   "codemirror_mode": {
    "name": "ipython",
    "version": 2
   },
   "file_extension": ".py",
   "mimetype": "text/x-python",
   "name": "python",
   "nbconvert_exporter": "python",
   "pygments_lexer": "ipython2",
   "version": "2.7.13"
  }
 },
 "nbformat": 4,
 "nbformat_minor": 2
}
