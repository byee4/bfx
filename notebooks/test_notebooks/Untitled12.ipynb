{
 "cells": [
  {
   "cell_type": "code",
   "execution_count": 1,
   "metadata": {},
   "outputs": [],
   "source": [
    "import glob\n",
    "import os"
   ]
  },
  {
   "cell_type": "code",
   "execution_count": 12,
   "metadata": {},
   "outputs": [],
   "source": [
    "software_dir = '/projects/ps-yeolab4/software/'\n",
    "\n",
    "files = ! find $software_dir -print | grep -i './*/*/cwl'"
   ]
  },
  {
   "cell_type": "code",
   "execution_count": 25,
   "metadata": {},
   "outputs": [
    {
     "data": {
      "text/plain": [
       "{'/projects/ps-yeolab4/software/ActivePerl-5.16',\n",
       " '/projects/ps-yeolab4/software/annotator',\n",
       " '/projects/ps-yeolab4/software/asperaconnect',\n",
       " '/projects/ps-yeolab4/software/bamreadcount',\n",
       " '/projects/ps-yeolab4/software/basespacecli',\n",
       " '/projects/ps-yeolab4/software/basespacecopy',\n",
       " '/projects/ps-yeolab4/software/bcl2fastq',\n",
       " '/projects/ps-yeolab4/software/biopieces',\n",
       " '/projects/ps-yeolab4/software/byobu',\n",
       " '/projects/ps-yeolab4/software/cellprofiler',\n",
       " '/projects/ps-yeolab4/software/cellranger',\n",
       " '/projects/ps-yeolab4/software/cwltool',\n",
       " '/projects/ps-yeolab4/software/dapars',\n",
       " '/projects/ps-yeolab4/software/deeptools',\n",
       " '/projects/ps-yeolab4/software/downloads',\n",
       " '/projects/ps-yeolab4/software/dropseqpipe',\n",
       " '/projects/ps-yeolab4/software/dropseqtools',\n",
       " '/projects/ps-yeolab4/software/dupradar',\n",
       " '/projects/ps-yeolab4/software/dwimperl-5.20.1.10',\n",
       " '/projects/ps-yeolab4/software/dxpy',\n",
       " '/projects/ps-yeolab4/software/dxtoolkit',\n",
       " '/projects/ps-yeolab4/software/eclip',\n",
       " '/projects/ps-yeolab4/software/eclip_se_dev',\n",
       " '/projects/ps-yeolab4/software/eclipconda',\n",
       " '/projects/ps-yeolab4/software/eclipdev',\n",
       " '/projects/ps-yeolab4/software/eclipidrmergepeaks',\n",
       " '/projects/ps-yeolab4/software/eclipregionnormalize',\n",
       " '/projects/ps-yeolab4/software/ecliprepmap',\n",
       " '/projects/ps-yeolab4/software/gcc',\n",
       " '/projects/ps-yeolab4/software/gettext',\n",
       " '/projects/ps-yeolab4/software/glibc',\n",
       " '/projects/ps-yeolab4/software/gnuparallel',\n",
       " '/projects/ps-yeolab4/software/goatools',\n",
       " '/projects/ps-yeolab4/software/hmmlearn',\n",
       " '/projects/ps-yeolab4/software/hmmlearnnotebook',\n",
       " '/projects/ps-yeolab4/software/idr',\n",
       " '/projects/ps-yeolab4/software/inputnorm',\n",
       " '/projects/ps-yeolab4/software/lib',\n",
       " '/projects/ps-yeolab4/software/limma',\n",
       " '/projects/ps-yeolab4/software/locustio',\n",
       " '/projects/ps-yeolab4/software/loompy',\n",
       " '/projects/ps-yeolab4/software/louvain',\n",
       " '/projects/ps-yeolab4/software/mageckvispr',\n",
       " '/projects/ps-yeolab4/software/martian',\n",
       " '/projects/ps-yeolab4/software/mc',\n",
       " '/projects/ps-yeolab4/software/merfishstormanalysis',\n",
       " '/projects/ps-yeolab4/software/metadatapipelines',\n",
       " '/projects/ps-yeolab4/software/metadatapipelinesclient',\n",
       " '/projects/ps-yeolab4/software/metadatarunner',\n",
       " '/projects/ps-yeolab4/software/methylpy',\n",
       " '/projects/ps-yeolab4/software/mmquant',\n",
       " '/projects/ps-yeolab4/software/mpi4py',\n",
       " '/projects/ps-yeolab4/software/multiqc',\n",
       " '/projects/ps-yeolab4/software/octave',\n",
       " '/projects/ps-yeolab4/software/opencv',\n",
       " '/projects/ps-yeolab4/software/perl',\n",
       " '/projects/ps-yeolab4/software/phenograph',\n",
       " '/projects/ps-yeolab4/software/picard',\n",
       " '/projects/ps-yeolab4/software/rclone',\n",
       " '/projects/ps-yeolab4/software/rmatsdvr',\n",
       " '/projects/ps-yeolab4/software/rmatsturbo',\n",
       " '/projects/ps-yeolab4/software/rnaseq',\n",
       " '/projects/ps-yeolab4/software/rsem',\n",
       " '/projects/ps-yeolab4/software/rtensorflow',\n",
       " '/projects/ps-yeolab4/software/sailor',\n",
       " '/projects/ps-yeolab4/software/samtools',\n",
       " '/projects/ps-yeolab4/software/scdiff',\n",
       " '/projects/ps-yeolab4/software/scran',\n",
       " '/projects/ps-yeolab4/software/seqwellranger',\n",
       " '/projects/ps-yeolab4/software/seurat',\n",
       " '/projects/ps-yeolab4/software/singlecellumitools',\n",
       " '/projects/ps-yeolab4/software/sl',\n",
       " '/projects/ps-yeolab4/software/subreadfeaturecounts',\n",
       " '/projects/ps-yeolab4/software/tensorflow',\n",
       " '/projects/ps-yeolab4/software/tensorflowclunet',\n",
       " '/projects/ps-yeolab4/software/tensorflowgpu',\n",
       " '/projects/ps-yeolab4/software/tensorflowgpuwjin',\n",
       " '/projects/ps-yeolab4/software/tensorflowwjin',\n",
       " '/projects/ps-yeolab4/software/tenzar',\n",
       " '/projects/ps-yeolab4/software/toil',\n",
       " '/projects/ps-yeolab4/software/torpedo',\n",
       " '/projects/ps-yeolab4/software/tpm',\n",
       " '/projects/ps-yeolab4/software/umitools',\n",
       " '/projects/ps-yeolab4/software/velocyto',\n",
       " '/projects/ps-yeolab4/software/zscore'}"
      ]
     },
     "execution_count": 25,
     "metadata": {},
     "output_type": "execute_result"
    }
   ],
   "source": [
    "top_subdirs = []\n",
    "for f in files:\n",
    "    top_subdirs.append('/'.join(f.split('/')[:5]))\n",
    "set(top_subdirs)"
   ]
  },
  {
   "cell_type": "code",
   "execution_count": null,
   "metadata": {},
   "outputs": [],
   "source": []
  }
 ],
 "metadata": {
  "kernelspec": {
   "display_name": "Python 2",
   "language": "python",
   "name": "python2"
  },
  "language_info": {
   "codemirror_mode": {
    "name": "ipython",
    "version": 2
   },
   "file_extension": ".py",
   "mimetype": "text/x-python",
   "name": "python",
   "nbconvert_exporter": "python",
   "pygments_lexer": "ipython2",
   "version": "2.7.14"
  }
 },
 "nbformat": 4,
 "nbformat_minor": 2
}
