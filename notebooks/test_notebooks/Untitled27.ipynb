{
 "cells": [
  {
   "cell_type": "code",
   "execution_count": 1,
   "metadata": {},
   "outputs": [],
   "source": [
    "import pandas as pd\n",
    "import numpy as np"
   ]
  },
  {
   "cell_type": "code",
   "execution_count": 8,
   "metadata": {},
   "outputs": [],
   "source": [
    "lst = [\n",
    "    \"FMR1-7_1m_B8\",\n",
    "    \"MECP2_1m_B8\",\n",
    "    \"SHANK3-37_1m_B8\",\n",
    "    \"TSC2-16_1m_B8\",\n",
    "    \"TSC2-41_1m_B8\",\n",
    "    \"WT-24_1m_B8\",\n",
    "    \"NHE6-11_1m_B9\",\n",
    "    \"NHE6-3_1m_B9\",\n",
    "    \"NHE6-9_1m_B9\",\n",
    "    \"WT-24_1m_B9\",\n",
    "    \"FMR1-7_2m_B8\",\n",
    "    \"SHANK3-37_2m_B8_A\",\n",
    "    \"SHANK3-37_2m_B8_B\",\n",
    "    \"TSC2-16_2m_B8\",\n",
    "    \"TSC2-41_2m_B8\",\n",
    "    \"WT-24_2m_B8\",\n",
    "    \"WT-24_1m_B11\",\n",
    "    \"WT-17_1m_B11\",\n",
    "    \"MECP2_1m_B11\",\n",
    "    \"TSC2-16_1m_B11\",\n",
    "    \"SHANK3-37_1m_B11\",\n",
    "    \"WT-24_6m_B4\",\n",
    "    \"WT-24_6m_B4\",\n",
    "    \"FMR1-7_6m_B4\",\n",
    "    \"TSC2-16_6m_B4\",\n",
    "    \"TSC2-41_6m_B4\",\n",
    "    \"MECP2_6m_B4\",\n",
    "    \"MECP2_6m_B4\",\n",
    "    \"SHANK3-37_6m_B4\",\n",
    "    \"NHE6-11_2m_B9\",\n",
    "    \"NHE6-3_2m_B9\",\n",
    "    \"NHE6-9_2m_B9\",\n",
    "    \"WT-24_2m_B9\",\n",
    "    \"WT-24_2m_B11\",\n",
    "    \"WT-17_2m_B11\",\n",
    "    \"MECP2_2m_B11\",\n",
    "    \"TSC2-16_2m_B11\",\n",
    "    \"SHANK3-37_2m_B11\",\n",
    "    \"FMR1-7_4m_B8\",\n",
    "    \"SHANK3-37_4m_B8\",\n",
    "    \"TSC2-16_4m_B8\",\n",
    "    \"TSC2-41_4m_B8\",\n",
    "    \"WT-24_4m_B8\",\n",
    "    \"NHE6-11_4m_B9\",\n",
    "    \"NHE6-3_4m_B9\",\n",
    "    \"NHE6-9_4m_B9\",\n",
    "    \"WT-24_4m_B9\",\n",
    "    \"FMR1-7_6m_B8\",\n",
    "    \"SHANK3-37_6m_B8\",\n",
    "    \"TSC2-16_6m_B8\",\n",
    "    \"TSC2-41_6m_B8\",\n",
    "    \"WT-24_6m_B4\",\n",
    "    \"NHE6-11_6m_B9\",\n",
    "    \"NHE6-3_6m_B9\",\n",
    "    \"NHE6-9_6m_B9\",\n",
    "    \"WT-24_6m_B9\"\n",
    "]"
   ]
  },
  {
   "cell_type": "code",
   "execution_count": 9,
   "metadata": {},
   "outputs": [
    {
     "data": {
      "text/plain": [
       "56"
      ]
     },
     "execution_count": 9,
     "metadata": {},
     "output_type": "execute_result"
    }
   ],
   "source": [
    "len(lst)"
   ]
  },
  {
   "cell_type": "code",
   "execution_count": 10,
   "metadata": {},
   "outputs": [
    {
     "data": {
      "text/plain": [
       "53"
      ]
     },
     "execution_count": 10,
     "metadata": {},
     "output_type": "execute_result"
    }
   ],
   "source": [
    "len(set(lst))"
   ]
  },
  {
   "cell_type": "code",
   "execution_count": 11,
   "metadata": {},
   "outputs": [
    {
     "data": {
      "text/plain": [
       "['MECP2_6m_B4', 'WT-24_6m_B4']"
      ]
     },
     "execution_count": 11,
     "metadata": {},
     "output_type": "execute_result"
    }
   ],
   "source": [
    "def list_duplicates(seq):\n",
    "    seen = set()\n",
    "    seen_add = seen.add\n",
    "    # adds all elements it doesn't know yet to seen and all other to seen_twice\n",
    "    seen_twice = set( x for x in seq if x in seen or seen_add(x) )\n",
    "    # turn the set into a list (as requested)\n",
    "    return list( seen_twice )\n",
    "\n",
    "list_duplicates(lst) # yields [1, 2, 5]"
   ]
  },
  {
   "cell_type": "code",
   "execution_count": null,
   "metadata": {},
   "outputs": [],
   "source": []
  }
 ],
 "metadata": {
  "kernelspec": {
   "display_name": "python3-essential",
   "language": "python",
   "name": "python3-essential"
  },
  "language_info": {
   "codemirror_mode": {
    "name": "ipython",
    "version": 3
   },
   "file_extension": ".py",
   "mimetype": "text/x-python",
   "name": "python",
   "nbconvert_exporter": "python",
   "pygments_lexer": "ipython3",
   "version": "3.6.7"
  }
 },
 "nbformat": 4,
 "nbformat_minor": 2
}
