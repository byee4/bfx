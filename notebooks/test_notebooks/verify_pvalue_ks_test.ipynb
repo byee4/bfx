{
 "cells": [
  {
   "cell_type": "code",
   "execution_count": 4,
   "metadata": {
    "collapsed": true
   },
   "outputs": [],
   "source": [
    "%matplotlib inline\n",
    "import matplotlib.pyplot as plt\n",
    "import seaborn as sns\n",
    "import pandas as pd\n",
    "import numpy as np\n",
    "import os"
   ]
  },
  {
   "cell_type": "code",
   "execution_count": 5,
   "metadata": {},
   "outputs": [
    {
     "name": "stderr",
     "output_type": "stream",
     "text": [
      "/home/bay001/anaconda2/envs/brian/lib/python2.7/site-packages/ipykernel_launcher.py:6: DeprecationWarning: \n",
      ".ix is deprecated. Please use\n",
      ".loc for label based indexing or\n",
      ".iloc for positional indexing\n",
      "\n",
      "See the documentation here:\n",
      "http://pandas.pydata.org/pandas-docs/stable/indexing.html#deprecate_ix\n",
      "  \n"
     ]
    },
    {
     "data": {
      "text/plain": [
       "p    6.63898\n",
       "Name: 140, dtype: float64"
      ]
     },
     "execution_count": 5,
     "metadata": {},
     "output_type": "execute_result"
    }
   ],
   "source": [
    "wd = '/home/bay001/projects/encode/analysis/tests/rbp_map_tests/se/'\n",
    "excl_pvalues = pd.read_table(\n",
    "    os.path.join(wd, '204_01_RBFOX2.merged.r2.RBFOX2-BGHLV26-HepG2-excluded-upon-knockdown.pvalues.txt'),\n",
    "    names='p'\n",
    ")\n",
    "excl_pvalues.ix[140]"
   ]
  },
  {
   "cell_type": "code",
   "execution_count": 6,
   "metadata": {},
   "outputs": [
    {
     "data": {
      "text/html": [
       "<div>\n",
       "<style>\n",
       "    .dataframe thead tr:only-child th {\n",
       "        text-align: right;\n",
       "    }\n",
       "\n",
       "    .dataframe thead th {\n",
       "        text-align: left;\n",
       "    }\n",
       "\n",
       "    .dataframe tbody tr th {\n",
       "        vertical-align: top;\n",
       "    }\n",
       "</style>\n",
       "<table border=\"1\" class=\"dataframe\">\n",
       "  <thead>\n",
       "    <tr style=\"text-align: right;\">\n",
       "      <th></th>\n",
       "      <th>0</th>\n",
       "      <th>1</th>\n",
       "      <th>2</th>\n",
       "      <th>3</th>\n",
       "      <th>4</th>\n",
       "      <th>5</th>\n",
       "      <th>6</th>\n",
       "      <th>7</th>\n",
       "      <th>8</th>\n",
       "      <th>9</th>\n",
       "      <th>...</th>\n",
       "      <th>1390</th>\n",
       "      <th>1391</th>\n",
       "      <th>1392</th>\n",
       "      <th>1393</th>\n",
       "      <th>1394</th>\n",
       "      <th>1395</th>\n",
       "      <th>1396</th>\n",
       "      <th>1397</th>\n",
       "      <th>1398</th>\n",
       "      <th>1399</th>\n",
       "    </tr>\n",
       "  </thead>\n",
       "  <tbody>\n",
       "    <tr>\n",
       "      <th>10228\\tENSG00000075413.13\\tMARK3\\tchr14\\t+\\t103964838\\t103964865\\t103957875\\t103958371\\t103966492\\t103966537\\t10228\\t0,1\\t4,16\\t12,11\\t0,6\\t126\\t100\\t0.000490458635078\\t0.0579076394934\\t0.0,0.047\\t1.0,0.593\\t-0.773</th>\n",
       "      <td>-0.001472</td>\n",
       "      <td>-0.001472</td>\n",
       "      <td>-0.001472</td>\n",
       "      <td>-0.001472</td>\n",
       "      <td>-0.001472</td>\n",
       "      <td>-0.001472</td>\n",
       "      <td>-0.001472</td>\n",
       "      <td>-0.001472</td>\n",
       "      <td>-0.001472</td>\n",
       "      <td>-0.001472</td>\n",
       "      <td>...</td>\n",
       "      <td>0.000833</td>\n",
       "      <td>0.000833</td>\n",
       "      <td>0.000833</td>\n",
       "      <td>0.000833</td>\n",
       "      <td>0.000833</td>\n",
       "      <td>NaN</td>\n",
       "      <td>NaN</td>\n",
       "      <td>NaN</td>\n",
       "      <td>NaN</td>\n",
       "      <td>NaN</td>\n",
       "    </tr>\n",
       "    <tr>\n",
       "      <th>10589\\tENSG00000109458.4\\tGAB1\\tchr4\\t+\\t144378832\\t144378922\\t144361231\\t144361535\\t144380537\\t144380582\\t10589\\t15,14\\t41,84\\t32,48\\t36,31\\t189\\t100\\t2.85276254952e-07\\t0.000146306601817\\t0.162,0.081\\t0.32,0.45\\t-0.264</th>\n",
       "      <td>-0.000039</td>\n",
       "      <td>-0.000039</td>\n",
       "      <td>-0.000039</td>\n",
       "      <td>-0.000039</td>\n",
       "      <td>-0.000039</td>\n",
       "      <td>-0.000039</td>\n",
       "      <td>-0.000039</td>\n",
       "      <td>-0.000039</td>\n",
       "      <td>-0.000039</td>\n",
       "      <td>0.000586</td>\n",
       "      <td>...</td>\n",
       "      <td>-0.000039</td>\n",
       "      <td>-0.000039</td>\n",
       "      <td>-0.000039</td>\n",
       "      <td>-0.000039</td>\n",
       "      <td>-0.000039</td>\n",
       "      <td>NaN</td>\n",
       "      <td>NaN</td>\n",
       "      <td>NaN</td>\n",
       "      <td>NaN</td>\n",
       "      <td>NaN</td>\n",
       "    </tr>\n",
       "    <tr>\n",
       "      <th>109\\tENSG00000157326.14\\tDHRS4\\tchr14\\t+\\t24435491\\t24435626\\t24429110\\t24429212\\t24436419\\t24436475\\t109\\t59,34\\t304,109\\t74,57\\t149,159\\t199\\t100\\t0.00111352217103\\t0.0970851574886\\t0.089,0.136\\t0.2,0.153\\t-0.064</th>\n",
       "      <td>0.000026</td>\n",
       "      <td>0.000026</td>\n",
       "      <td>0.000026</td>\n",
       "      <td>0.000026</td>\n",
       "      <td>0.000026</td>\n",
       "      <td>0.000026</td>\n",
       "      <td>0.000026</td>\n",
       "      <td>0.000026</td>\n",
       "      <td>0.000026</td>\n",
       "      <td>0.000026</td>\n",
       "      <td>...</td>\n",
       "      <td>0.000026</td>\n",
       "      <td>0.000026</td>\n",
       "      <td>0.000026</td>\n",
       "      <td>0.000026</td>\n",
       "      <td>0.000026</td>\n",
       "      <td>0.000026</td>\n",
       "      <td>0.000026</td>\n",
       "      <td>0.000026</td>\n",
       "      <td>0.000026</td>\n",
       "      <td>0.000026</td>\n",
       "    </tr>\n",
       "    <tr>\n",
       "      <th>11841\\tENSG00000144711.9\\tIQSEC1\\tchr3\\t-\\t12944272\\t12944322\\t12942347\\t12943022\\t12949848\\t12950025\\t11841\\t15,10\\t58,141\\t33,33\\t30,31\\t149\\t100\\t1.77136083579e-12\\t1.93804589044e-09\\t0.148,0.045\\t0.425,0.417\\t-0.325</th>\n",
       "      <td>-0.000678</td>\n",
       "      <td>-0.000678</td>\n",
       "      <td>-0.000678</td>\n",
       "      <td>-0.000678</td>\n",
       "      <td>-0.000678</td>\n",
       "      <td>-0.000753</td>\n",
       "      <td>-0.000753</td>\n",
       "      <td>-0.000753</td>\n",
       "      <td>-0.000753</td>\n",
       "      <td>-0.001329</td>\n",
       "      <td>...</td>\n",
       "      <td>-0.001078</td>\n",
       "      <td>-0.001078</td>\n",
       "      <td>-0.001078</td>\n",
       "      <td>-0.001078</td>\n",
       "      <td>-0.001078</td>\n",
       "      <td>-0.001078</td>\n",
       "      <td>-0.001078</td>\n",
       "      <td>-0.001078</td>\n",
       "      <td>-0.001078</td>\n",
       "      <td>-0.001078</td>\n",
       "    </tr>\n",
       "    <tr>\n",
       "      <th>12014\\tENSG00000136933.12\\tRABEPK\\tchr9\\t+\\t127963547\\t127963657\\t127963058\\t127963185\\t127965286\\t127965345\\t12014\\t0,2\\t50,28\\t14,4\\t41,18\\t199\\t100\\t0.000270678511505\\t0.0380492132185\\t0.0,0.035\\t0.146,0.1\\t-0.105</th>\n",
       "      <td>0.000710</td>\n",
       "      <td>0.000710</td>\n",
       "      <td>0.000710</td>\n",
       "      <td>0.000710</td>\n",
       "      <td>0.000710</td>\n",
       "      <td>0.000710</td>\n",
       "      <td>0.000710</td>\n",
       "      <td>0.000710</td>\n",
       "      <td>0.000710</td>\n",
       "      <td>0.000710</td>\n",
       "      <td>...</td>\n",
       "      <td>-0.001114</td>\n",
       "      <td>-0.001114</td>\n",
       "      <td>-0.001114</td>\n",
       "      <td>-0.001114</td>\n",
       "      <td>-0.001114</td>\n",
       "      <td>-0.001114</td>\n",
       "      <td>-0.001114</td>\n",
       "      <td>-0.001114</td>\n",
       "      <td>-0.001114</td>\n",
       "      <td>-0.001114</td>\n",
       "    </tr>\n",
       "  </tbody>\n",
       "</table>\n",
       "<p>5 rows × 1400 columns</p>\n",
       "</div>"
      ],
      "text/plain": [
       "                                                           0         1  \\\n",
       "10228\\tENSG00000075413.13\\tMARK3\\tchr14\\t+\\t103... -0.001472 -0.001472   \n",
       "10589\\tENSG00000109458.4\\tGAB1\\tchr4\\t+\\t144378... -0.000039 -0.000039   \n",
       "109\\tENSG00000157326.14\\tDHRS4\\tchr14\\t+\\t24435...  0.000026  0.000026   \n",
       "11841\\tENSG00000144711.9\\tIQSEC1\\tchr3\\t-\\t1294... -0.000678 -0.000678   \n",
       "12014\\tENSG00000136933.12\\tRABEPK\\tchr9\\t+\\t127...  0.000710  0.000710   \n",
       "\n",
       "                                                           2         3  \\\n",
       "10228\\tENSG00000075413.13\\tMARK3\\tchr14\\t+\\t103... -0.001472 -0.001472   \n",
       "10589\\tENSG00000109458.4\\tGAB1\\tchr4\\t+\\t144378... -0.000039 -0.000039   \n",
       "109\\tENSG00000157326.14\\tDHRS4\\tchr14\\t+\\t24435...  0.000026  0.000026   \n",
       "11841\\tENSG00000144711.9\\tIQSEC1\\tchr3\\t-\\t1294... -0.000678 -0.000678   \n",
       "12014\\tENSG00000136933.12\\tRABEPK\\tchr9\\t+\\t127...  0.000710  0.000710   \n",
       "\n",
       "                                                           4         5  \\\n",
       "10228\\tENSG00000075413.13\\tMARK3\\tchr14\\t+\\t103... -0.001472 -0.001472   \n",
       "10589\\tENSG00000109458.4\\tGAB1\\tchr4\\t+\\t144378... -0.000039 -0.000039   \n",
       "109\\tENSG00000157326.14\\tDHRS4\\tchr14\\t+\\t24435...  0.000026  0.000026   \n",
       "11841\\tENSG00000144711.9\\tIQSEC1\\tchr3\\t-\\t1294... -0.000678 -0.000753   \n",
       "12014\\tENSG00000136933.12\\tRABEPK\\tchr9\\t+\\t127...  0.000710  0.000710   \n",
       "\n",
       "                                                           6         7  \\\n",
       "10228\\tENSG00000075413.13\\tMARK3\\tchr14\\t+\\t103... -0.001472 -0.001472   \n",
       "10589\\tENSG00000109458.4\\tGAB1\\tchr4\\t+\\t144378... -0.000039 -0.000039   \n",
       "109\\tENSG00000157326.14\\tDHRS4\\tchr14\\t+\\t24435...  0.000026  0.000026   \n",
       "11841\\tENSG00000144711.9\\tIQSEC1\\tchr3\\t-\\t1294... -0.000753 -0.000753   \n",
       "12014\\tENSG00000136933.12\\tRABEPK\\tchr9\\t+\\t127...  0.000710  0.000710   \n",
       "\n",
       "                                                           8         9  \\\n",
       "10228\\tENSG00000075413.13\\tMARK3\\tchr14\\t+\\t103... -0.001472 -0.001472   \n",
       "10589\\tENSG00000109458.4\\tGAB1\\tchr4\\t+\\t144378... -0.000039  0.000586   \n",
       "109\\tENSG00000157326.14\\tDHRS4\\tchr14\\t+\\t24435...  0.000026  0.000026   \n",
       "11841\\tENSG00000144711.9\\tIQSEC1\\tchr3\\t-\\t1294... -0.000753 -0.001329   \n",
       "12014\\tENSG00000136933.12\\tRABEPK\\tchr9\\t+\\t127...  0.000710  0.000710   \n",
       "\n",
       "                                                      ...         1390  \\\n",
       "10228\\tENSG00000075413.13\\tMARK3\\tchr14\\t+\\t103...    ...     0.000833   \n",
       "10589\\tENSG00000109458.4\\tGAB1\\tchr4\\t+\\t144378...    ...    -0.000039   \n",
       "109\\tENSG00000157326.14\\tDHRS4\\tchr14\\t+\\t24435...    ...     0.000026   \n",
       "11841\\tENSG00000144711.9\\tIQSEC1\\tchr3\\t-\\t1294...    ...    -0.001078   \n",
       "12014\\tENSG00000136933.12\\tRABEPK\\tchr9\\t+\\t127...    ...    -0.001114   \n",
       "\n",
       "                                                        1391      1392  \\\n",
       "10228\\tENSG00000075413.13\\tMARK3\\tchr14\\t+\\t103...  0.000833  0.000833   \n",
       "10589\\tENSG00000109458.4\\tGAB1\\tchr4\\t+\\t144378... -0.000039 -0.000039   \n",
       "109\\tENSG00000157326.14\\tDHRS4\\tchr14\\t+\\t24435...  0.000026  0.000026   \n",
       "11841\\tENSG00000144711.9\\tIQSEC1\\tchr3\\t-\\t1294... -0.001078 -0.001078   \n",
       "12014\\tENSG00000136933.12\\tRABEPK\\tchr9\\t+\\t127... -0.001114 -0.001114   \n",
       "\n",
       "                                                        1393      1394  \\\n",
       "10228\\tENSG00000075413.13\\tMARK3\\tchr14\\t+\\t103...  0.000833  0.000833   \n",
       "10589\\tENSG00000109458.4\\tGAB1\\tchr4\\t+\\t144378... -0.000039 -0.000039   \n",
       "109\\tENSG00000157326.14\\tDHRS4\\tchr14\\t+\\t24435...  0.000026  0.000026   \n",
       "11841\\tENSG00000144711.9\\tIQSEC1\\tchr3\\t-\\t1294... -0.001078 -0.001078   \n",
       "12014\\tENSG00000136933.12\\tRABEPK\\tchr9\\t+\\t127... -0.001114 -0.001114   \n",
       "\n",
       "                                                        1395      1396  \\\n",
       "10228\\tENSG00000075413.13\\tMARK3\\tchr14\\t+\\t103...       NaN       NaN   \n",
       "10589\\tENSG00000109458.4\\tGAB1\\tchr4\\t+\\t144378...       NaN       NaN   \n",
       "109\\tENSG00000157326.14\\tDHRS4\\tchr14\\t+\\t24435...  0.000026  0.000026   \n",
       "11841\\tENSG00000144711.9\\tIQSEC1\\tchr3\\t-\\t1294... -0.001078 -0.001078   \n",
       "12014\\tENSG00000136933.12\\tRABEPK\\tchr9\\t+\\t127... -0.001114 -0.001114   \n",
       "\n",
       "                                                        1397      1398  \\\n",
       "10228\\tENSG00000075413.13\\tMARK3\\tchr14\\t+\\t103...       NaN       NaN   \n",
       "10589\\tENSG00000109458.4\\tGAB1\\tchr4\\t+\\t144378...       NaN       NaN   \n",
       "109\\tENSG00000157326.14\\tDHRS4\\tchr14\\t+\\t24435...  0.000026  0.000026   \n",
       "11841\\tENSG00000144711.9\\tIQSEC1\\tchr3\\t-\\t1294... -0.001078 -0.001078   \n",
       "12014\\tENSG00000136933.12\\tRABEPK\\tchr9\\t+\\t127... -0.001114 -0.001114   \n",
       "\n",
       "                                                        1399  \n",
       "10228\\tENSG00000075413.13\\tMARK3\\tchr14\\t+\\t103...       NaN  \n",
       "10589\\tENSG00000109458.4\\tGAB1\\tchr4\\t+\\t144378...       NaN  \n",
       "109\\tENSG00000157326.14\\tDHRS4\\tchr14\\t+\\t24435...  0.000026  \n",
       "11841\\tENSG00000144711.9\\tIQSEC1\\tchr3\\t-\\t1294... -0.001078  \n",
       "12014\\tENSG00000136933.12\\tRABEPK\\tchr9\\t+\\t127... -0.001114  \n",
       "\n",
       "[5 rows x 1400 columns]"
      ]
     },
     "execution_count": 6,
     "metadata": {},
     "output_type": "execute_result"
    }
   ],
   "source": [
    "raw_density_excl_matrix = pd.read_table(\n",
    "    os.path.join(\n",
    "        wd,\n",
    "        '204_01_RBFOX2.merged.r2.RBFOX2-BGHLV26-HepG2-excluded-upon-knockdown.raw_density.txt'\n",
    "    ),\n",
    "    sep=',',\n",
    "    index_col=0\n",
    ")\n",
    "raw_density_excl_input_matrix = pd.read_table(\n",
    "    os.path.join(\n",
    "        wd,\n",
    "        '204_01_RBFOX2.merged.r2.RBFOX2-BGHLV26-HepG2-excluded-upon-knockdown.raw_density.txt'\n",
    "    ),\n",
    "    sep=',',\n",
    "    index_col=0\n",
    ")\n",
    "\n",
    "excl_norm_matrix = pd.read_table(\n",
    "    os.path.join(wd, '204_01_RBFOX2.merged.r2.RBFOX2-BGHLV26-HepG2-excluded-upon-knockdown.normed_matrix.txt'),\n",
    "    index_col=0,\n",
    "    sep=','\n",
    ")\n",
    "\n",
    "\n",
    "raw_density_native_cassette_matrix = pd.read_table(\n",
    "    os.path.join(\n",
    "        wd,\n",
    "        '204_01_RBFOX2.merged.r2.HepG2_native_cassette_exons.raw_density.txt'\n",
    "    ),\n",
    "    sep=',',\n",
    "    index_col=0\n",
    ")\n",
    "native_cassette_matrix = pd.read_table(\n",
    "    os.path.join(wd, '204_01_RBFOX2.merged.r2.HepG2_native_cassette_exons.normed_matrix.txt'),\n",
    "    index_col=0,\n",
    "    sep=','\n",
    ")"
   ]
  },
  {
   "cell_type": "code",
   "execution_count": 7,
   "metadata": {},
   "outputs": [
    {
     "data": {
      "text/html": [
       "<div>\n",
       "<style>\n",
       "    .dataframe thead tr:only-child th {\n",
       "        text-align: right;\n",
       "    }\n",
       "\n",
       "    .dataframe thead th {\n",
       "        text-align: left;\n",
       "    }\n",
       "\n",
       "    .dataframe tbody tr th {\n",
       "        vertical-align: top;\n",
       "    }\n",
       "</style>\n",
       "<table border=\"1\" class=\"dataframe\">\n",
       "  <thead>\n",
       "    <tr style=\"text-align: right;\">\n",
       "      <th></th>\n",
       "      <th>0</th>\n",
       "      <th>1</th>\n",
       "      <th>2</th>\n",
       "      <th>3</th>\n",
       "      <th>4</th>\n",
       "      <th>5</th>\n",
       "      <th>6</th>\n",
       "      <th>7</th>\n",
       "      <th>8</th>\n",
       "      <th>9</th>\n",
       "      <th>...</th>\n",
       "      <th>1390</th>\n",
       "      <th>1391</th>\n",
       "      <th>1392</th>\n",
       "      <th>1393</th>\n",
       "      <th>1394</th>\n",
       "      <th>1395</th>\n",
       "      <th>1396</th>\n",
       "      <th>1397</th>\n",
       "      <th>1398</th>\n",
       "      <th>1399</th>\n",
       "    </tr>\n",
       "  </thead>\n",
       "  <tbody>\n",
       "    <tr>\n",
       "      <th>chr10|+|101507147-101510125|101510153-101514285|101507147-101514285\\t101507013-101507147\\t101510125-101510153\\t101514285-101514391</th>\n",
       "      <td>-0.000449</td>\n",
       "      <td>-0.000449</td>\n",
       "      <td>-0.000449</td>\n",
       "      <td>-0.000449</td>\n",
       "      <td>-0.000449</td>\n",
       "      <td>-0.000449</td>\n",
       "      <td>-0.000449</td>\n",
       "      <td>-0.000449</td>\n",
       "      <td>0.000266</td>\n",
       "      <td>0.000266</td>\n",
       "      <td>...</td>\n",
       "      <td>0.000133</td>\n",
       "      <td>0.000133</td>\n",
       "      <td>0.000133</td>\n",
       "      <td>0.000133</td>\n",
       "      <td>0.000133</td>\n",
       "      <td>0.000133</td>\n",
       "      <td>0.000133</td>\n",
       "      <td>0.000133</td>\n",
       "      <td>0.000133</td>\n",
       "      <td>0.000133</td>\n",
       "    </tr>\n",
       "    <tr>\n",
       "      <th>chr10|+|103113985-103190101|103190209-103221737|103113985-103221737\\t103113819-103113985\\t103190101-103190209\\t103221737-103221815</th>\n",
       "      <td>-0.000092</td>\n",
       "      <td>0.000404</td>\n",
       "      <td>0.000404</td>\n",
       "      <td>0.000404</td>\n",
       "      <td>0.000404</td>\n",
       "      <td>0.000404</td>\n",
       "      <td>0.000900</td>\n",
       "      <td>0.000900</td>\n",
       "      <td>0.000900</td>\n",
       "      <td>0.000900</td>\n",
       "      <td>...</td>\n",
       "      <td>0.000404</td>\n",
       "      <td>0.000404</td>\n",
       "      <td>0.000404</td>\n",
       "      <td>-0.000092</td>\n",
       "      <td>-0.000092</td>\n",
       "      <td>-0.000092</td>\n",
       "      <td>-0.000092</td>\n",
       "      <td>-0.000092</td>\n",
       "      <td>-0.000092</td>\n",
       "      <td>-0.000092</td>\n",
       "    </tr>\n",
       "    <tr>\n",
       "      <th>chr10|+|104629602-104629840|104629968-104632204|104629602-104632204\\t104629561-104629602\\t104629840-104629968\\t104632204-104632355</th>\n",
       "      <td>NaN</td>\n",
       "      <td>NaN</td>\n",
       "      <td>NaN</td>\n",
       "      <td>NaN</td>\n",
       "      <td>NaN</td>\n",
       "      <td>NaN</td>\n",
       "      <td>NaN</td>\n",
       "      <td>NaN</td>\n",
       "      <td>NaN</td>\n",
       "      <td>-0.000053</td>\n",
       "      <td>...</td>\n",
       "      <td>-0.000053</td>\n",
       "      <td>-0.000053</td>\n",
       "      <td>-0.000053</td>\n",
       "      <td>-0.000053</td>\n",
       "      <td>-0.000053</td>\n",
       "      <td>-0.000053</td>\n",
       "      <td>-0.000053</td>\n",
       "      <td>-0.000053</td>\n",
       "      <td>-0.000053</td>\n",
       "      <td>-0.000053</td>\n",
       "    </tr>\n",
       "    <tr>\n",
       "      <th>chr10|+|104828479-104831530|104831596-104835842|104828479-104835842\\t104828385-104828479\\t104831530-104831596\\t104835842-104836027</th>\n",
       "      <td>-0.000110</td>\n",
       "      <td>-0.000110</td>\n",
       "      <td>-0.000110</td>\n",
       "      <td>-0.000110</td>\n",
       "      <td>-0.000110</td>\n",
       "      <td>-0.000110</td>\n",
       "      <td>-0.000110</td>\n",
       "      <td>-0.000110</td>\n",
       "      <td>-0.000110</td>\n",
       "      <td>-0.000110</td>\n",
       "      <td>...</td>\n",
       "      <td>-0.000110</td>\n",
       "      <td>-0.000110</td>\n",
       "      <td>-0.000110</td>\n",
       "      <td>-0.000110</td>\n",
       "      <td>-0.000110</td>\n",
       "      <td>-0.000110</td>\n",
       "      <td>-0.000110</td>\n",
       "      <td>-0.000110</td>\n",
       "      <td>-0.000110</td>\n",
       "      <td>-0.000110</td>\n",
       "    </tr>\n",
       "    <tr>\n",
       "      <th>chr10|+|105768114-105770573|105770666-105777917|105768114-105777917\\t105767934-105768114\\t105770573-105770666\\t105777917-105778047</th>\n",
       "      <td>-0.000181</td>\n",
       "      <td>-0.000181</td>\n",
       "      <td>-0.000181</td>\n",
       "      <td>-0.000181</td>\n",
       "      <td>-0.000181</td>\n",
       "      <td>-0.000181</td>\n",
       "      <td>-0.000181</td>\n",
       "      <td>-0.000181</td>\n",
       "      <td>-0.000181</td>\n",
       "      <td>-0.000181</td>\n",
       "      <td>...</td>\n",
       "      <td>-0.000869</td>\n",
       "      <td>-0.000869</td>\n",
       "      <td>-0.000869</td>\n",
       "      <td>-0.000869</td>\n",
       "      <td>-0.000869</td>\n",
       "      <td>-0.000869</td>\n",
       "      <td>-0.000869</td>\n",
       "      <td>-0.000869</td>\n",
       "      <td>-0.000869</td>\n",
       "      <td>-0.000869</td>\n",
       "    </tr>\n",
       "  </tbody>\n",
       "</table>\n",
       "<p>5 rows × 1400 columns</p>\n",
       "</div>"
      ],
      "text/plain": [
       "                                                           0         1  \\\n",
       "chr10|+|101507147-101510125|101510153-101514285... -0.000449 -0.000449   \n",
       "chr10|+|103113985-103190101|103190209-103221737... -0.000092  0.000404   \n",
       "chr10|+|104629602-104629840|104629968-104632204...       NaN       NaN   \n",
       "chr10|+|104828479-104831530|104831596-104835842... -0.000110 -0.000110   \n",
       "chr10|+|105768114-105770573|105770666-105777917... -0.000181 -0.000181   \n",
       "\n",
       "                                                           2         3  \\\n",
       "chr10|+|101507147-101510125|101510153-101514285... -0.000449 -0.000449   \n",
       "chr10|+|103113985-103190101|103190209-103221737...  0.000404  0.000404   \n",
       "chr10|+|104629602-104629840|104629968-104632204...       NaN       NaN   \n",
       "chr10|+|104828479-104831530|104831596-104835842... -0.000110 -0.000110   \n",
       "chr10|+|105768114-105770573|105770666-105777917... -0.000181 -0.000181   \n",
       "\n",
       "                                                           4         5  \\\n",
       "chr10|+|101507147-101510125|101510153-101514285... -0.000449 -0.000449   \n",
       "chr10|+|103113985-103190101|103190209-103221737...  0.000404  0.000404   \n",
       "chr10|+|104629602-104629840|104629968-104632204...       NaN       NaN   \n",
       "chr10|+|104828479-104831530|104831596-104835842... -0.000110 -0.000110   \n",
       "chr10|+|105768114-105770573|105770666-105777917... -0.000181 -0.000181   \n",
       "\n",
       "                                                           6         7  \\\n",
       "chr10|+|101507147-101510125|101510153-101514285... -0.000449 -0.000449   \n",
       "chr10|+|103113985-103190101|103190209-103221737...  0.000900  0.000900   \n",
       "chr10|+|104629602-104629840|104629968-104632204...       NaN       NaN   \n",
       "chr10|+|104828479-104831530|104831596-104835842... -0.000110 -0.000110   \n",
       "chr10|+|105768114-105770573|105770666-105777917... -0.000181 -0.000181   \n",
       "\n",
       "                                                           8         9  \\\n",
       "chr10|+|101507147-101510125|101510153-101514285...  0.000266  0.000266   \n",
       "chr10|+|103113985-103190101|103190209-103221737...  0.000900  0.000900   \n",
       "chr10|+|104629602-104629840|104629968-104632204...       NaN -0.000053   \n",
       "chr10|+|104828479-104831530|104831596-104835842... -0.000110 -0.000110   \n",
       "chr10|+|105768114-105770573|105770666-105777917... -0.000181 -0.000181   \n",
       "\n",
       "                                                      ...         1390  \\\n",
       "chr10|+|101507147-101510125|101510153-101514285...    ...     0.000133   \n",
       "chr10|+|103113985-103190101|103190209-103221737...    ...     0.000404   \n",
       "chr10|+|104629602-104629840|104629968-104632204...    ...    -0.000053   \n",
       "chr10|+|104828479-104831530|104831596-104835842...    ...    -0.000110   \n",
       "chr10|+|105768114-105770573|105770666-105777917...    ...    -0.000869   \n",
       "\n",
       "                                                        1391      1392  \\\n",
       "chr10|+|101507147-101510125|101510153-101514285...  0.000133  0.000133   \n",
       "chr10|+|103113985-103190101|103190209-103221737...  0.000404  0.000404   \n",
       "chr10|+|104629602-104629840|104629968-104632204... -0.000053 -0.000053   \n",
       "chr10|+|104828479-104831530|104831596-104835842... -0.000110 -0.000110   \n",
       "chr10|+|105768114-105770573|105770666-105777917... -0.000869 -0.000869   \n",
       "\n",
       "                                                        1393      1394  \\\n",
       "chr10|+|101507147-101510125|101510153-101514285...  0.000133  0.000133   \n",
       "chr10|+|103113985-103190101|103190209-103221737... -0.000092 -0.000092   \n",
       "chr10|+|104629602-104629840|104629968-104632204... -0.000053 -0.000053   \n",
       "chr10|+|104828479-104831530|104831596-104835842... -0.000110 -0.000110   \n",
       "chr10|+|105768114-105770573|105770666-105777917... -0.000869 -0.000869   \n",
       "\n",
       "                                                        1395      1396  \\\n",
       "chr10|+|101507147-101510125|101510153-101514285...  0.000133  0.000133   \n",
       "chr10|+|103113985-103190101|103190209-103221737... -0.000092 -0.000092   \n",
       "chr10|+|104629602-104629840|104629968-104632204... -0.000053 -0.000053   \n",
       "chr10|+|104828479-104831530|104831596-104835842... -0.000110 -0.000110   \n",
       "chr10|+|105768114-105770573|105770666-105777917... -0.000869 -0.000869   \n",
       "\n",
       "                                                        1397      1398  \\\n",
       "chr10|+|101507147-101510125|101510153-101514285...  0.000133  0.000133   \n",
       "chr10|+|103113985-103190101|103190209-103221737... -0.000092 -0.000092   \n",
       "chr10|+|104629602-104629840|104629968-104632204... -0.000053 -0.000053   \n",
       "chr10|+|104828479-104831530|104831596-104835842... -0.000110 -0.000110   \n",
       "chr10|+|105768114-105770573|105770666-105777917... -0.000869 -0.000869   \n",
       "\n",
       "                                                        1399  \n",
       "chr10|+|101507147-101510125|101510153-101514285...  0.000133  \n",
       "chr10|+|103113985-103190101|103190209-103221737... -0.000092  \n",
       "chr10|+|104629602-104629840|104629968-104632204... -0.000053  \n",
       "chr10|+|104828479-104831530|104831596-104835842... -0.000110  \n",
       "chr10|+|105768114-105770573|105770666-105777917... -0.000869  \n",
       "\n",
       "[5 rows x 1400 columns]"
      ]
     },
     "execution_count": 7,
     "metadata": {},
     "output_type": "execute_result"
    }
   ],
   "source": [
    "\n",
    "native_cassette_matrix.head()"
   ]
  },
  {
   "cell_type": "code",
   "execution_count": 8,
   "metadata": {},
   "outputs": [
    {
     "data": {
      "text/plain": [
       "2.2962517598104599e-07"
      ]
     },
     "execution_count": 8,
     "metadata": {},
     "output_type": "execute_result"
    }
   ],
   "source": [
    "from scipy import stats\n",
    "pos='140'\n",
    "_, p = stats.ks_2samp(excl_norm_matrix[pos], native_cassette_matrix[pos])\n",
    "p"
   ]
  },
  {
   "cell_type": "code",
   "execution_count": 9,
   "metadata": {},
   "outputs": [
    {
     "data": {
      "text/plain": [
       "<matplotlib.axes._subplots.AxesSubplot at 0x2af2250b2290>"
      ]
     },
     "execution_count": 9,
     "metadata": {},
     "output_type": "execute_result"
    },
    {
     "name": "stderr",
     "output_type": "stream",
     "text": [
      "/home/bay001/anaconda2/envs/brian/lib/python2.7/site-packages/matplotlib/font_manager.py:1297: UserWarning: findfont: Font family [u'sans-serif'] not found. Falling back to DejaVu Sans\n",
      "  (prop.get_family(), self.defaultFamily[fontext]))\n"
     ]
    },
    {
     "data": {
      "image/png": "[encoded data removed]",
      "text/plain": [
       "<matplotlib.figure.Figure at 0x2af2250b2fd0>"
      ]
     },
     "metadata": {},
     "output_type": "display_data"
    }
   ],
   "source": [
    "sns.distplot(excl_norm_matrix[pos].dropna())\n",
    "sns.distplot(native_cassette_matrix[pos].dropna())"
   ]
  },
  {
   "cell_type": "code",
   "execution_count": 22,
   "metadata": {
    "collapsed": true
   },
   "outputs": [],
   "source": [
    "import numpy as np"
   ]
  },
  {
   "cell_type": "code",
   "execution_count": 60,
   "metadata": {},
   "outputs": [
    {
     "name": "stdout",
     "output_type": "stream",
     "text": [
      "2.29625175981e-07\n"
     ]
    },
    {
     "data": {
      "text/plain": [
       "<matplotlib.text.Text at 0x2af22f240f50>"
      ]
     },
     "execution_count": 60,
     "metadata": {},
     "output_type": "execute_result"
    },
    {
     "data": {
      "image/png": "[encoded data removed]",
      "text/plain": [
       "<matplotlib.figure.Figure at 0x2af22d05ff90>"
      ]
     },
     "metadata": {},
     "output_type": "display_data"
    }
   ],
   "source": [
    "from scipy import stats\n",
    "pos='140'\n",
    "_, p = stats.ks_2samp(excl_norm_matrix[pos], native_cassette_matrix[pos])\n",
    "print(p)\n",
    "f = plt.subplots(figsize=(25,5))\n",
    "sns.distplot(excl_norm_matrix[pos].dropna(), label='excl upon kd')\n",
    "sns.distplot(native_cassette_matrix[pos].dropna(), label='native cassette')\n",
    "plt.xlabel('normed density values')\n",
    "plt.ylabel('num event')\n",
    "plt.xlim(-.004, 0.004)\n",
    "plt.axvline(native_cassette_matrix[pos].mean(), color='red')\n",
    "plt.axvline(excl_norm_matrix[pos].mean(), color='blue')\n",
    "\n",
    "plt.legend()\n",
    "plt.title('distribution of normalized density values at position {}'.format(pos))"
   ]
  },
  {
   "cell_type": "code",
   "execution_count": 42,
   "metadata": {},
   "outputs": [
    {
     "data": {
      "text/plain": [
       "[<matplotlib.lines.Line2D at 0x2af22c5a0690>]"
      ]
     },
     "execution_count": 42,
     "metadata": {},
     "output_type": "execute_result"
    },
    {
     "data": {
      "image/png": "[encoded data removed]",
      "text/plain": [
       "<matplotlib.figure.Figure at 0x2af22c595fd0>"
      ]
     },
     "metadata": {},
     "output_type": "display_data"
    }
   ],
   "source": [
    "plt.plot(excl_norm_matrix.mean())\n",
    "plt.plot(native_cassette_matrix.mean())"
   ]
  },
  {
   "cell_type": "code",
   "execution_count": 12,
   "metadata": {},
   "outputs": [
    {
     "data": {
      "text/plain": [
       "[<matplotlib.lines.Line2D at 0x2af22b397890>]"
      ]
     },
     "execution_count": 12,
     "metadata": {},
     "output_type": "execute_result"
    },
    {
     "data": {
      "image/png": "[encoded data removed]",
      "text/plain": [
       "<matplotlib.figure.Figure at 0x2af22b325e90>"
      ]
     },
     "metadata": {},
     "output_type": "display_data"
    }
   ],
   "source": []
  },
  {
   "cell_type": "code",
   "execution_count": 67,
   "metadata": {},
   "outputs": [],
   "source": [
    "densities_at_800 = pd.DataFrame(excl_norm_matrix['800']).reset_index()\n",
    "bg_at_800 = pd.DataFrame(native_cassette_matrix['800']).reset_index()\n",
    "\n",
    "pos = '140'\n",
    "excl_norm_matrix[pos].to_csv(\n",
    "    '/home/bay001/projects/encode/analysis/tests/rbp_map_tests/excl_upon_kd_normed_densities.{}.txt'.format(pos), \n",
    "    sep='\\t'\n",
    ")\n",
    "\n",
    "native_cassette_matrix[pos].to_csv(\n",
    "    '/home/bay001/projects/encode/analysis/tests/rbp_map_tests/native_cassette_matrix_normed_densities.{}.txt'.format(pos), \n",
    "    sep='\\t'\n",
    ")"
   ]
  },
  {
   "cell_type": "code",
   "execution_count": 72,
   "metadata": {},
   "outputs": [
    {
     "data": {
      "text/plain": [
       "chr10|+|101507147-101510125|101510153-101514285|101507147-101514285\\t101507013-101507147\\t101510125-101510153\\t101514285-101514391    1.328904e-04\n",
       "chr10|+|103113985-103190101|103190209-103221737|103113985-103221737\\t103113819-103113985\\t103190101-103190209\\t103221737-103221815   -9.230361e-05\n",
       "chr10|+|104629602-104629840|104629968-104632204|104629602-104632204\\t104629561-104629602\\t104629840-104629968\\t104632204-104632355   -5.296170e-05\n",
       "chr10|+|104828479-104831530|104831596-104835842|104828479-104835842\\t104828385-104828479\\t104831530-104831596\\t104835842-104836027    2.601905e-03\n",
       "chr10|+|105768114-105770573|105770666-105777917|105768114-105777917\\t105767934-105768114\\t105770573-105770666\\t105777917-105778047   -1.809155e-04\n",
       "chr10|+|111890244-111892062|111892158-111893083|111890244-111893083\\t111890120-111890244\\t111892062-111892158\\t111893083-111893969   -1.246631e-04\n",
       "chr10|+|111988079-112004585|112004615-112038937|111988079-112038937\\t111987946-111988079\\t112004585-112004615\\t112038937-112039052    5.045806e-05\n",
       "chr10|+|114170393-114171213|114171287-114171659|114170393-114171659\\t114170341-114170393\\t114171213-114171287\\t114171659-114171737    1.416317e-04\n",
       "chr10|+|114711366-114724314|114724383-114799783|114711366-114799783\\t114711241-114711366\\t114724314-114724383\\t114799783-114799885   -3.611836e-04\n",
       "chr10|+|114799885-114849155|114849299-114900942|114799885-114900942\\t114799783-114799885\\t114849155-114849299\\t114900942-114901075   -3.852807e-05\n",
       "chr10|+|114799885-114849158|114849299-114900942|114799885-114900942\\t114799783-114799885\\t114849158-114849299\\t114900942-114901075   -3.942044e-05\n",
       "chr10|+|122649521-122650227|122650399-122659540|122649521-122659540\\t122649406-122649521\\t122650227-122650399\\t122659540-122659649    4.179076e-05\n",
       "chr10|+|123892249-123903086|123903221-123954554|123892249-123954554\\t123892123-123892249\\t123903086-123903221\\t123954554-123954691    5.529919e-04\n",
       "chr10|+|124186547-124187791|124187832-124189139|124186547-124189139\\t124186457-124186547\\t124187791-124187832\\t124189139-124191866    4.886433e-04\n",
       "chr10|+|124186547-124187791|124187936-124189139|124186547-124189139\\t124186457-124186547\\t124187791-124187936\\t124189139-124189638   -2.860382e-04\n",
       "chr10|+|13142302-13150137|13150289-13151111|13142302-13151111\\t13142224-13142302\\t13150137-13150289\\t13151111-13151288                6.634670e-05\n",
       "chr10|+|13150289-13150961|13151015-13151111|13150289-13151111\\t13150137-13150289\\t13150961-13151015\\t13151111-13151288                1.277139e-04\n",
       "chr10|+|13629152-13633767|13633888-13639457|13629152-13639457\\t13628938-13629152\\t13633767-13633888\\t13639457-13639535                6.586726e-05\n",
       "chr10|+|18957606-18961550|18961634-18962912|18957606-18962912\\t18957458-18957606\\t18961550-18961634\\t18962912-18963064                2.744203e-05\n",
       "chr10|+|24762989-24783428|24783533-24784075|24762989-24784075\\t24762156-24762989\\t24783428-24783533\\t24784075-24784125               -2.063027e-05\n",
       "chr10|+|255988-267134|267296-282777|255988-282777\\t255828-255988\\t267134-267296\\t282777-282855                                       -1.245345e-05\n",
       "chr10|+|28879761-28884661|28884970-28897114|28879761-28897114\\t28879648-28879761\\t28884661-28884970\\t28897114-28897360                7.703160e-04\n",
       "chr10|+|35416121-35437295|35437419-35467816|35416121-35467816\\t35415850-35416121\\t35437295-35437419\\t35467816-35467914               -3.593815e-06\n",
       "chr10|+|46246286-46246929|46247001-46248035|46246286-46248035\\t46246198-46246286\\t46246929-46247001\\t46248035-46248154                3.500319e-06\n",
       "chr10|+|46252587-46254762|46254849-46258835|46252587-46258835\\t46252459-46252587\\t46254762-46254849\\t46258835-46258937               -2.032319e-05\n",
       "chr10|+|46268806-46272720|46272873-46274400|46268806-46274400\\t46268703-46268806\\t46272720-46272873\\t46274400-46274583               -2.176494e-05\n",
       "chr10|+|5773166-5777266|5777509-5781580|5773166-5781580\\t5772449-5773166\\t5777266-5777509\\t5781580-5782460                            5.650803e-05\n",
       "chr10|+|60148579-60150524|60150620-60154117|60148579-60154117\\t60148429-60148579\\t60150524-60150620\\t60154117-60154299               -3.252607e-19\n",
       "chr10|+|70097090-70097614|70097753-70098259|70097090-70098259\\t70096955-70097090\\t70097614-70097753\\t70098259-70098444               -8.440924e-04\n",
       "chr10|+|70496805-70497601|70497646-70500385|70496805-70500385\\t70496632-70496805\\t70497601-70497646\\t70500385-70500418               -2.928444e-05\n",
       "                                                                                                                                          ...     \n",
       "chrX|-|108926601-108939372|108939425-108976367|108926601-108976367\\t108926364-108926601\\t108939372-108939425\\t108976367-108976632    -3.332025e-05\n",
       "chrX|-|108926781-108939372|108939425-108976367|108926781-108976367\\t108926364-108926781\\t108939372-108939425\\t108976367-108976442    -2.818742e-05\n",
       "chrX|-|108926895-108939372|108939425-108976367|108926895-108976367\\t108926364-108926895\\t108939372-108939425\\t108976367-108976531     1.886532e-05\n",
       "chrX|-|122757134-122757494|122757560-122757637|122757134-122757637\\t122756955-122757134\\t122757494-122757560\\t122757637-122757822     2.785654e-04\n",
       "chrX|-|128626070-128627016|128627052-128630726|128626070-128630726\\t128625917-128626070\\t128627016-128627052\\t128630726-128630848     1.857460e-04\n",
       "chrX|-|131513705-131515386|131515460-131516205|131513705-131516205\\t131513231-131513705\\t131515386-131515460\\t131516205-131516300     1.383695e-04\n",
       "chrX|-|134023222-134025508|134025670-134030846|134023222-134030846\\t134021655-134023222\\t134025508-134025670\\t134030846-134031064     3.447606e-05\n",
       "chrX|-|153298008-153357641|153357765-153363060|153298008-153363060\\t153297657-153298008\\t153357641-153357765\\t153363060-153363212    -2.833986e-04\n",
       "chrX|-|153580815-153580920|153581043-153581139|153580815-153581139\\t153580548-153580815\\t153580920-153581043\\t153581139-153581292     2.336467e-03\n",
       "chrX|-|153583440-153585618|153585642-153585801|153583440-153585801\\t153583192-153583440\\t153585618-153585642\\t153585801-153585991     2.571456e-04\n",
       "chrX|-|18966944-18969221|18969390-18970611|18966944-18970611\\t18966861-18966944\\t18969221-18969390\\t18970611-18970659                 5.313205e-04\n",
       "chrX|-|2209644-2326785|2326854-2343237|2209644-2343237\\t2209542-2209644\\t2326785-2326854\\t2343237-2343345                            -3.252607e-19\n",
       "chrX|-|23726061-23731251|23731325-23739997|23726061-23739997\\t23725993-23726061\\t23731251-23731325\\t23739997-23740101                 1.049012e-04\n",
       "chrX|-|23751334-23752457|23752484-23754035|23751334-23754035\\t23751288-23751334\\t23752457-23752484\\t23754035-23754133                -5.429237e-05\n",
       "chrX|-|2873578-2876314|2876476-2878418|2873578-2878418\\t2873456-2873578\\t2876314-2876476\\t2878418-2878509                            -6.131587e-05\n",
       "chrX|-|2876476-2877643|2877929-2878418|2876476-2878418\\t2876314-2876476\\t2877643-2877929\\t2878418-2878461                             2.755770e-05\n",
       "chrX|-|30849692-30852167|30852269-30861082|30849692-30861082\\t30845558-30849692\\t30852167-30852269\\t30861082-30861166                 4.371525e-05\n",
       "chrX|-|30852269-30861082|30861166-30864667|30852269-30864667\\t30852167-30852269\\t30861082-30861166\\t30864667-30864761                 8.250008e-05\n",
       "chrX|-|39930412-39930889|39930943-39931601|39930412-39931601\\t39930225-39930412\\t39930889-39930943\\t39931601-39934433                -5.427909e-05\n",
       "chrX|-|40523741-40525971|40526103-40531112|40523741-40531112\\t40523558-40523741\\t40525971-40526103\\t40531112-40531224                -2.199311e-05\n",
       "chrX|-|41413168-41414852|41414888-41416284|41413168-41416284\\t41412971-41413168\\t41414852-41414888\\t41416284-41416353                -6.876622e-05\n",
       "chrX|-|48752384-48752634|48752737-48754041|48752384-48754041\\t48752320-48752384\\t48752634-48752737\\t48754041-48754141                 3.955487e-05\n",
       "chrX|-|48752384-48752634|48752784-48754041|48752384-48754041\\t48752320-48752384\\t48752634-48752784\\t48754041-48754141                 3.955487e-05\n",
       "chrX|-|48934409-48935301|48935406-48935495|48934409-48935495\\t48934303-48934409\\t48935301-48935406\\t48935495-48935570                 5.760574e-04\n",
       "chrX|-|53652219-53652746|53652989-53654360|53652219-53654360\\t53652117-53652219\\t53652746-53652989\\t53654360-53654466                 6.847129e-05\n",
       "chrX|-|54019272-54020033|54020336-54022125|54019272-54022125\\t54019168-54019272\\t54020033-54020336\\t54022125-54022215                -1.254374e-04\n",
       "chrX|-|69509204-69509371|69509443-69509709|69509204-69509709\\t69509104-69509204\\t69509371-69509443\\t69509709-69509795                -6.028239e-06\n",
       "chrX|-|76944420-76949312|76949426-76952064|76944420-76952064\\t76944310-76944420\\t76949312-76949426\\t76952064-76952192                -4.846067e-07\n",
       "chrY|+|22744579-22746359|22746410-22749909|22744579-22749909\\t22744475-22744579\\t22746359-22746410\\t22749909-22749991                 3.493789e-05\n",
       "chrY|-|21897636-21901413|21901548-21903203|21897636-21903203\\t21897506-21897636\\t21901413-21901548\\t21903203-21903374                 4.683787e-06\n",
       "Name: 800, Length: 2555, dtype: float64"
      ]
     },
     "execution_count": 72,
     "metadata": {},
     "output_type": "execute_result"
    }
   ],
   "source": [
    "\n",
    "raw_density_native_cassette_matrix['800']"
   ]
  },
  {
   "cell_type": "code",
   "execution_count": 37,
   "metadata": {},
   "outputs": [
    {
     "data": {
      "text/plain": [
       "<matplotlib.axes._subplots.AxesSubplot at 0x2af22c5533d0>"
      ]
     },
     "execution_count": 37,
     "metadata": {},
     "output_type": "execute_result"
    },
    {
     "data": {
      "image/png": "[encoded data removed]",
      "text/plain": [
       "<matplotlib.figure.Figure at 0x2af22c486650>"
      ]
     },
     "metadata": {},
     "output_type": "display_data"
    }
   ],
   "source": [
    "sns.distplot(densities_at_800['800'])\n",
    "sns.distplot(native_cassette_matrix['800'])\n"
   ]
  },
  {
   "cell_type": "code",
   "execution_count": 41,
   "metadata": {},
   "outputs": [
    {
     "name": "stdout",
     "output_type": "stream",
     "text": [
      "800    0.000459\n",
      "dtype: float64\n",
      "800    0.000061\n",
      "dtype: float64\n"
     ]
    }
   ],
   "source": [
    "print(densities_at_800.mean())\n",
    "print(bg_at_800.mean())"
   ]
  },
  {
   "cell_type": "code",
   "execution_count": null,
   "metadata": {
    "collapsed": true
   },
   "outputs": [],
   "source": []
  }
 ],
 "metadata": {
  "kernelspec": {
   "display_name": "Python 2",
   "language": "python",
   "name": "python2"
  },
  "language_info": {
   "codemirror_mode": {
    "name": "ipython",
    "version": 2
   },
   "file_extension": ".py",
   "mimetype": "text/x-python",
   "name": "python",
   "nbconvert_exporter": "python",
   "pygments_lexer": "ipython2",
   "version": "2.7.13"
  }
 },
 "nbformat": 4,
 "nbformat_minor": 2
}
