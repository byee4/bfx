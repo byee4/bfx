{
 "cells": [
  {
   "cell_type": "markdown",
   "metadata": {},
   "source": [
    "# parses out the barcode table from 10x and, if given Nextera 'corrects' it to be 'TruSeq'\n",
    "- nextera on the right, truseq on the left\n",
    "- lists CAN be sorted, sets are NOT SORTED."
   ]
  },
  {
   "cell_type": "code",
   "execution_count": 1,
   "metadata": {},
   "outputs": [],
   "source": [
    "import os\n",
    "import pandas as pd\n",
    "from tqdm import tnrange, tqdm_notebook\n",
    "import gzip"
   ]
  },
  {
   "cell_type": "code",
   "execution_count": 2,
   "metadata": {},
   "outputs": [],
   "source": [
    "barcodes = set()\n",
    "\n",
    "fn = '/projects/ps-yeolab4/software/cellranger/3.0.2/bin/cellranger-3.0.2/cellranger-cs/3.0.2/lib/python/cellranger/barcodes/translation/3M-february-2018.txt.gz'"
   ]
  },
  {
   "cell_type": "code",
   "execution_count": 3,
   "metadata": {},
   "outputs": [
    {
     "data": {
      "text/html": [
       "<div>\n",
       "<style scoped>\n",
       "    .dataframe tbody tr th:only-of-type {\n",
       "        vertical-align: middle;\n",
       "    }\n",
       "\n",
       "    .dataframe tbody tr th {\n",
       "        vertical-align: top;\n",
       "    }\n",
       "\n",
       "    .dataframe thead th {\n",
       "        text-align: right;\n",
       "    }\n",
       "</style>\n",
       "<table border=\"1\" class=\"dataframe\">\n",
       "  <thead>\n",
       "    <tr style=\"text-align: right;\">\n",
       "      <th></th>\n",
       "      <th>AAACCCATCAAACACT</th>\n",
       "      <th>AAACCCATCAAACCAT</th>\n",
       "      <th>AAACCCATCAAACCCA</th>\n",
       "      <th>AAACCCATCAAACCCG</th>\n",
       "      <th>AAACCCATCAAACCTG</th>\n",
       "      <th>AAACCCATCAAACGAA</th>\n",
       "      <th>AAACCCATCAAACGTC</th>\n",
       "      <th>AAACCCATCAAACTAC</th>\n",
       "      <th>AAACCCATCAAACTCA</th>\n",
       "      <th>AAACCCATCAAACTGC</th>\n",
       "      <th>...</th>\n",
       "      <th>TTTGTTGAGTTTCTTC</th>\n",
       "      <th>TTTGTTGAGTTTGAGA</th>\n",
       "      <th>TTTGTTGAGTTTGATC</th>\n",
       "      <th>TTTGTTGAGTTTGCAT</th>\n",
       "      <th>TTTGTTGAGTTTGCGC</th>\n",
       "      <th>TTTGTTGAGTTTGCTA</th>\n",
       "      <th>TTTGTTGAGTTTGCTG</th>\n",
       "      <th>TTTGTTGAGTTTGGAG</th>\n",
       "      <th>TTTGTTGAGTTTGGCT</th>\n",
       "      <th>TTTGTTGAGTTTGTCG</th>\n",
       "    </tr>\n",
       "  </thead>\n",
       "  <tbody>\n",
       "    <tr>\n",
       "      <th>TruSeq</th>\n",
       "      <td>AAACCCAAGAAACACT</td>\n",
       "      <td>AAACCCAAGAAACCAT</td>\n",
       "      <td>AAACCCAAGAAACCCA</td>\n",
       "      <td>AAACCCAAGAAACCCG</td>\n",
       "      <td>AAACCCAAGAAACCTG</td>\n",
       "      <td>AAACCCAAGAAACGAA</td>\n",
       "      <td>AAACCCAAGAAACGTC</td>\n",
       "      <td>AAACCCAAGAAACTAC</td>\n",
       "      <td>AAACCCAAGAAACTCA</td>\n",
       "      <td>AAACCCAAGAAACTGC</td>\n",
       "      <td>...</td>\n",
       "      <td>TTTGTTGTCTTTCTTC</td>\n",
       "      <td>TTTGTTGTCTTTGAGA</td>\n",
       "      <td>TTTGTTGTCTTTGATC</td>\n",
       "      <td>TTTGTTGTCTTTGCAT</td>\n",
       "      <td>TTTGTTGTCTTTGCGC</td>\n",
       "      <td>TTTGTTGTCTTTGCTA</td>\n",
       "      <td>TTTGTTGTCTTTGCTG</td>\n",
       "      <td>TTTGTTGTCTTTGGAG</td>\n",
       "      <td>TTTGTTGTCTTTGGCT</td>\n",
       "      <td>TTTGTTGTCTTTGTCG</td>\n",
       "    </tr>\n",
       "  </tbody>\n",
       "</table>\n",
       "<p>1 rows × 6794880 columns</p>\n",
       "</div>"
      ],
      "text/plain": [
       "        AAACCCATCAAACACT  AAACCCATCAAACCAT  AAACCCATCAAACCCA  \\\n",
       "TruSeq  AAACCCAAGAAACACT  AAACCCAAGAAACCAT  AAACCCAAGAAACCCA   \n",
       "\n",
       "        AAACCCATCAAACCCG  AAACCCATCAAACCTG  AAACCCATCAAACGAA  \\\n",
       "TruSeq  AAACCCAAGAAACCCG  AAACCCAAGAAACCTG  AAACCCAAGAAACGAA   \n",
       "\n",
       "        AAACCCATCAAACGTC  AAACCCATCAAACTAC  AAACCCATCAAACTCA  \\\n",
       "TruSeq  AAACCCAAGAAACGTC  AAACCCAAGAAACTAC  AAACCCAAGAAACTCA   \n",
       "\n",
       "        AAACCCATCAAACTGC        ...         TTTGTTGAGTTTCTTC  \\\n",
       "TruSeq  AAACCCAAGAAACTGC        ...         TTTGTTGTCTTTCTTC   \n",
       "\n",
       "        TTTGTTGAGTTTGAGA  TTTGTTGAGTTTGATC  TTTGTTGAGTTTGCAT  \\\n",
       "TruSeq  TTTGTTGTCTTTGAGA  TTTGTTGTCTTTGATC  TTTGTTGTCTTTGCAT   \n",
       "\n",
       "        TTTGTTGAGTTTGCGC  TTTGTTGAGTTTGCTA  TTTGTTGAGTTTGCTG  \\\n",
       "TruSeq  TTTGTTGTCTTTGCGC  TTTGTTGTCTTTGCTA  TTTGTTGTCTTTGCTG   \n",
       "\n",
       "        TTTGTTGAGTTTGGAG  TTTGTTGAGTTTGGCT  TTTGTTGAGTTTGTCG  \n",
       "TruSeq  TTTGTTGTCTTTGGAG  TTTGTTGTCTTTGGCT  TTTGTTGTCTTTGTCG  \n",
       "\n",
       "[1 rows x 6794880 columns]"
      ]
     },
     "execution_count": 3,
     "metadata": {},
     "output_type": "execute_result"
    }
   ],
   "source": [
    "barcodes = pd.read_csv(fn, compression='gzip', sep='\\t', names=['TruSeq'], index_col=1).T\n",
    "barcodes.head()"
   ]
  },
  {
   "cell_type": "code",
   "execution_count": 4,
   "metadata": {},
   "outputs": [],
   "source": [
    "# This step takes awhile...\n",
    "barcodes_dict = dict(barcodes)"
   ]
  },
  {
   "cell_type": "code",
   "execution_count": 5,
   "metadata": {},
   "outputs": [],
   "source": [
    "def correct_my_barcode(barcode, d=barcodes_dict):\n",
    "    \"\"\"\n",
    "    Looks up barcode as a key to d, if it finds the key, return it. Else, return -\n",
    "    \"\"\"\n",
    "    try:\n",
    "        return d[barcode].values[0]\n",
    "    except KeyError:\n",
    "        return '-'"
   ]
  },
  {
   "cell_type": "code",
   "execution_count": 8,
   "metadata": {},
   "outputs": [
    {
     "data": {
      "application/vnd.jupyter.widget-view+json": {
       "model_id": "d503d7afb09d46c29f307c06e40ec1f0",
       "version_major": 2,
       "version_minor": 0
      },
      "text/plain": [
       "HBox(children=(IntProgress(value=0, max=14), HTML(value='')))"
      ]
     },
     "metadata": {},
     "output_type": "display_data"
    },
    {
     "name": "stdout",
     "output_type": "stream",
     "text": [
      "TGCGGGTGTGTTCCTC\n",
      "-\n",
      "TGCGGGTGTGTTCCTC\n",
      "-\n",
      "TGCGGGTGTGTTCCTC\n",
      "-\n",
      "TGCGGGTGTGTTCCTC\n",
      "-\n",
      "TGCGGGTGTGTTCCTC\n",
      "-\n",
      "TGCGGGTGTGTTCCTC\n",
      "-\n",
      "TGCGGGTGTGTTCCTC\n",
      "-\n"
     ]
    }
   ],
   "source": [
    "my_barcodes = ['TGCGGGTCAGTTCCTC', 'AYGAFSDFSDF', 'TGCGGGTCAGTTCCTC', 'AYGAFSDFSDF', 'TGCGGGTCAGTTCCTC', 'AYGAFSDFSDF', 'TGCGGGTCAGTTCCTC', 'AYGAFSDFSDF', 'TGCGGGTCAGTTCCTC', 'AYGAFSDFSDF', 'TGCGGGTCAGTTCCTC', 'AYGAFSDFSDF', 'TGCGGGTCAGTTCCTC', 'AYGAFSDFSDF']\n",
    "\n",
    "progress = tnrange(len(my_barcodes))\n",
    "\n",
    "for barcode in my_barcodes:\n",
    "    print(correct_my_barcode(barcode))\n",
    "    progress.update(1)"
   ]
  },
  {
   "cell_type": "code",
   "execution_count": null,
   "metadata": {},
   "outputs": [],
   "source": []
  }
 ],
 "metadata": {
  "kernelspec": {
   "display_name": "python3-essential-tscc",
   "language": "python",
   "name": "python3essentialtscc"
  },
  "language_info": {
   "codemirror_mode": {
    "name": "ipython",
    "version": 3
   },
   "file_extension": ".py",
   "mimetype": "text/x-python",
   "name": "python",
   "nbconvert_exporter": "python",
   "pygments_lexer": "ipython3",
   "version": "3.6.7"
  }
 },
 "nbformat": 4,
 "nbformat_minor": 2
}
