{
 "cells": [
  {
   "cell_type": "code",
   "execution_count": 31,
   "metadata": {
    "collapsed": true
   },
   "outputs": [],
   "source": [
    "import pandas as pd\n",
    "import pybedtools\n",
    "import os"
   ]
  },
  {
   "cell_type": "code",
   "execution_count": 34,
   "metadata": {
    "collapsed": true
   },
   "outputs": [],
   "source": [
    "wd = '/home/bay001/projects/encode/analysis/conservation_analysis/'\n",
    "regionbed = os.path.join(wd,'region_bedfiles/hg19_v19_cds.bed')\n",
    "randbed = os.path.join(wd,'idr_peak_centers/693.01v02.IDR.out.0102merged.bed.annotated.CDS.RAND.bed')"
   ]
  },
  {
   "cell_type": "code",
   "execution_count": 35,
   "metadata": {},
   "outputs": [
    {
     "name": "stdout",
     "output_type": "stream",
     "text": [
      "(51, 6)\n"
     ]
    }
   ],
   "source": [
    "randdf = pd.read_table(randbed, names=['chrom','start','stop','name','score','strand'])\n",
    "regiondf = pd.read_table(regionbed, names=['chrom','start','stop','name','score','strand'])\n",
    "print(randdf.shape)"
   ]
  },
  {
   "cell_type": "code",
   "execution_count": 36,
   "metadata": {
    "collapsed": true
   },
   "outputs": [],
   "source": [
    "randbt = pybedtools.BedTool(randbed)\n",
    "regionbt = pybedtools.BedTool(regionbed)"
   ]
  },
  {
   "cell_type": "code",
   "execution_count": 37,
   "metadata": {
    "collapsed": true
   },
   "outputs": [],
   "source": [
    "def is_contained(row):\n",
    "    df = regiondf\n",
    "    df = df[(df['start'] < row['start']) & (df['stop'] > row['stop'])]\n",
    "    if df.shape[0] == 0:\n",
    "        return False\n",
    "    else:\n",
    "        return True"
   ]
  },
  {
   "cell_type": "code",
   "execution_count": 38,
   "metadata": {
    "collapsed": true
   },
   "outputs": [],
   "source": [
    "randdf['is_contained'] = randdf.apply(is_contained, axis=1)"
   ]
  },
  {
   "cell_type": "code",
   "execution_count": 39,
   "metadata": {},
   "outputs": [
    {
     "data": {
      "text/html": [
       "<div>\n",
       "<table border=\"1\" class=\"dataframe\">\n",
       "  <thead>\n",
       "    <tr style=\"text-align: right;\">\n",
       "      <th></th>\n",
       "      <th>chrom</th>\n",
       "      <th>start</th>\n",
       "      <th>stop</th>\n",
       "      <th>name</th>\n",
       "      <th>score</th>\n",
       "      <th>strand</th>\n",
       "      <th>is_contained</th>\n",
       "    </tr>\n",
       "  </thead>\n",
       "  <tbody>\n",
       "    <tr>\n",
       "      <th>2</th>\n",
       "      <td>chr2</td>\n",
       "      <td>136536580</td>\n",
       "      <td>136536663</td>\n",
       "      <td>ENST00000490605.2:97543627:97543779:-:CDS:ENSG...</td>\n",
       "      <td>4.022383</td>\n",
       "      <td>-</td>\n",
       "      <td>False</td>\n",
       "    </tr>\n",
       "    <tr>\n",
       "      <th>14</th>\n",
       "      <td>chr16</td>\n",
       "      <td>58540506</td>\n",
       "      <td>58540531</td>\n",
       "      <td>ENST00000569798.1:30079967:30080021:+:CDS:ENSG...</td>\n",
       "      <td>4.678142</td>\n",
       "      <td>+</td>\n",
       "      <td>False</td>\n",
       "    </tr>\n",
       "    <tr>\n",
       "      <th>16</th>\n",
       "      <td>chr22</td>\n",
       "      <td>29915066</td>\n",
       "      <td>29915173</td>\n",
       "      <td>ENST00000398512.5:23523148:23524426:+:CDS:ENSG...</td>\n",
       "      <td>4.930522</td>\n",
       "      <td>+</td>\n",
       "      <td>False</td>\n",
       "    </tr>\n",
       "    <tr>\n",
       "      <th>19</th>\n",
       "      <td>chr1</td>\n",
       "      <td>161163023</td>\n",
       "      <td>161163185</td>\n",
       "      <td>ENST00000357214.5:35657823:35658650:-:CDS:ENSG...</td>\n",
       "      <td>4.552601</td>\n",
       "      <td>-</td>\n",
       "      <td>False</td>\n",
       "    </tr>\n",
       "    <tr>\n",
       "      <th>24</th>\n",
       "      <td>chr11</td>\n",
       "      <td>61732358</td>\n",
       "      <td>61732433</td>\n",
       "      <td>ENST00000292896.2:5290684:5290906:-:CDS:ENSG00...</td>\n",
       "      <td>3.411147</td>\n",
       "      <td>-</td>\n",
       "      <td>False</td>\n",
       "    </tr>\n",
       "    <tr>\n",
       "      <th>29</th>\n",
       "      <td>chr7</td>\n",
       "      <td>17843179</td>\n",
       "      <td>17843258</td>\n",
       "      <td>ENST00000248553.6:75932030:75932393:+:CDS:ENSG...</td>\n",
       "      <td>5.136227</td>\n",
       "      <td>+</td>\n",
       "      <td>False</td>\n",
       "    </tr>\n",
       "    <tr>\n",
       "      <th>30</th>\n",
       "      <td>chr7</td>\n",
       "      <td>132959922</td>\n",
       "      <td>132959950</td>\n",
       "      <td>ENST00000248553.6:75932030:75932393:+:CDS:ENSG...</td>\n",
       "      <td>5.132292</td>\n",
       "      <td>+</td>\n",
       "      <td>False</td>\n",
       "    </tr>\n",
       "    <tr>\n",
       "      <th>31</th>\n",
       "      <td>chr19</td>\n",
       "      <td>35863202</td>\n",
       "      <td>35863351</td>\n",
       "      <td>ENST00000599732.1:50354586:50354756:+:CDS:ENSG...</td>\n",
       "      <td>6.128314</td>\n",
       "      <td>+</td>\n",
       "      <td>False</td>\n",
       "    </tr>\n",
       "    <tr>\n",
       "      <th>32</th>\n",
       "      <td>chr16</td>\n",
       "      <td>28895932</td>\n",
       "      <td>28896002</td>\n",
       "      <td>ENST00000252951.2:204271:204396:+:CDS:ENSG0000...</td>\n",
       "      <td>5.328872</td>\n",
       "      <td>+</td>\n",
       "      <td>False</td>\n",
       "    </tr>\n",
       "    <tr>\n",
       "      <th>38</th>\n",
       "      <td>chr15</td>\n",
       "      <td>90453998</td>\n",
       "      <td>90454108</td>\n",
       "      <td>ENST00000562233.1:75230256:75230355:-:CDS:ENSG...</td>\n",
       "      <td>6.221749</td>\n",
       "      <td>-</td>\n",
       "      <td>False</td>\n",
       "    </tr>\n",
       "    <tr>\n",
       "      <th>44</th>\n",
       "      <td>chr11</td>\n",
       "      <td>65318669</td>\n",
       "      <td>65318811</td>\n",
       "      <td>ENST00000380252.1:5274510:5274635:-:CDS:ENSG00...</td>\n",
       "      <td>3.796059</td>\n",
       "      <td>-</td>\n",
       "      <td>False</td>\n",
       "    </tr>\n",
       "    <tr>\n",
       "      <th>46</th>\n",
       "      <td>chr16</td>\n",
       "      <td>46711260</td>\n",
       "      <td>46711310</td>\n",
       "      <td>ENST00000569798.1:30078771:30078982:+:CDS:ENSG...</td>\n",
       "      <td>4.290756</td>\n",
       "      <td>+</td>\n",
       "      <td>False</td>\n",
       "    </tr>\n",
       "    <tr>\n",
       "      <th>49</th>\n",
       "      <td>chr6</td>\n",
       "      <td>66115249</td>\n",
       "      <td>66115315</td>\n",
       "      <td>ENST00000395004.3:34212608:34213389:+:CDS:ENSG...</td>\n",
       "      <td>3.658361</td>\n",
       "      <td>+</td>\n",
       "      <td>False</td>\n",
       "    </tr>\n",
       "    <tr>\n",
       "      <th>50</th>\n",
       "      <td>chr6</td>\n",
       "      <td>10927562</td>\n",
       "      <td>10927612</td>\n",
       "      <td>ENST00000343677.2:26056018:26056656:-:CDS:ENSG...</td>\n",
       "      <td>3.504522</td>\n",
       "      <td>-</td>\n",
       "      <td>False</td>\n",
       "    </tr>\n",
       "  </tbody>\n",
       "</table>\n",
       "</div>"
      ],
      "text/plain": [
       "    chrom      start       stop  \\\n",
       "2    chr2  136536580  136536663   \n",
       "14  chr16   58540506   58540531   \n",
       "16  chr22   29915066   29915173   \n",
       "19   chr1  161163023  161163185   \n",
       "24  chr11   61732358   61732433   \n",
       "29   chr7   17843179   17843258   \n",
       "30   chr7  132959922  132959950   \n",
       "31  chr19   35863202   35863351   \n",
       "32  chr16   28895932   28896002   \n",
       "38  chr15   90453998   90454108   \n",
       "44  chr11   65318669   65318811   \n",
       "46  chr16   46711260   46711310   \n",
       "49   chr6   66115249   66115315   \n",
       "50   chr6   10927562   10927612   \n",
       "\n",
       "                                                 name     score strand  \\\n",
       "2   ENST00000490605.2:97543627:97543779:-:CDS:ENSG...  4.022383      -   \n",
       "14  ENST00000569798.1:30079967:30080021:+:CDS:ENSG...  4.678142      +   \n",
       "16  ENST00000398512.5:23523148:23524426:+:CDS:ENSG...  4.930522      +   \n",
       "19  ENST00000357214.5:35657823:35658650:-:CDS:ENSG...  4.552601      -   \n",
       "24  ENST00000292896.2:5290684:5290906:-:CDS:ENSG00...  3.411147      -   \n",
       "29  ENST00000248553.6:75932030:75932393:+:CDS:ENSG...  5.136227      +   \n",
       "30  ENST00000248553.6:75932030:75932393:+:CDS:ENSG...  5.132292      +   \n",
       "31  ENST00000599732.1:50354586:50354756:+:CDS:ENSG...  6.128314      +   \n",
       "32  ENST00000252951.2:204271:204396:+:CDS:ENSG0000...  5.328872      +   \n",
       "38  ENST00000562233.1:75230256:75230355:-:CDS:ENSG...  6.221749      -   \n",
       "44  ENST00000380252.1:5274510:5274635:-:CDS:ENSG00...  3.796059      -   \n",
       "46  ENST00000569798.1:30078771:30078982:+:CDS:ENSG...  4.290756      +   \n",
       "49  ENST00000395004.3:34212608:34213389:+:CDS:ENSG...  3.658361      +   \n",
       "50  ENST00000343677.2:26056018:26056656:-:CDS:ENSG...  3.504522      -   \n",
       "\n",
       "   is_contained  \n",
       "2         False  \n",
       "14        False  \n",
       "16        False  \n",
       "19        False  \n",
       "24        False  \n",
       "29        False  \n",
       "30        False  \n",
       "31        False  \n",
       "32        False  \n",
       "38        False  \n",
       "44        False  \n",
       "46        False  \n",
       "49        False  \n",
       "50        False  "
      ]
     },
     "execution_count": 39,
     "metadata": {},
     "output_type": "execute_result"
    }
   ],
   "source": [
    "randdf[randdf['is_contained']==False]"
   ]
  },
  {
   "cell_type": "code",
   "execution_count": null,
   "metadata": {
    "collapsed": true
   },
   "outputs": [],
   "source": []
  }
 ],
 "metadata": {
  "kernelspec": {
   "display_name": "Python 2",
   "language": "python",
   "name": "python2"
  },
  "language_info": {
   "codemirror_mode": {
    "name": "ipython",
    "version": 2
   },
   "file_extension": ".py",
   "mimetype": "text/x-python",
   "name": "python",
   "nbconvert_exporter": "python",
   "pygments_lexer": "ipython2",
   "version": "2.7.13"
  }
 },
 "nbformat": 4,
 "nbformat_minor": 2
}
