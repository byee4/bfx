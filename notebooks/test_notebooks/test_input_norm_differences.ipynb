{
 "cells": [
  {
   "cell_type": "code",
   "execution_count": 1,
   "metadata": {
    "collapsed": true
   },
   "outputs": [],
   "source": [
    "import pandas as pd"
   ]
  },
  {
   "cell_type": "code",
   "execution_count": 2,
   "metadata": {
    "collapsed": true
   },
   "outputs": [],
   "source": [
    "import os"
   ]
  },
  {
   "cell_type": "code",
   "execution_count": null,
   "metadata": {
    "collapsed": true
   },
   "outputs": [],
   "source": [
    "# these files are the same:\n",
    "\n",
    "/projects/ps-yeolab3/bay001/gabe_idr_reference/data/eric_style_idr/204_rep1_01.basedon_204_rep1_01.peaks.l2inputnormnew.bed.full.compressed2.bed.full.annotated_proxdist.entropy\n",
    "/projects/ps-yeolab3/bay001/gabe_idr_reference/204RBFOX2/30_wf_eclipidrmergedpeaks/results/obtained/split_01.compressed.bed.entropy.full\n",
    "\n",
    "# these are also the same...\n",
    "\n",
    "obtained/204_01.split.idr.out\n",
    "data/eric_style_idr/IDR/204_rep1.01v02.IDR.out\n",
    "\n",
    "# 6797 - 204_01, 5929 - 204_)2\n",
    "# 1.1463990554899646\n"
   ]
  }
 ],
 "metadata": {
  "kernelspec": {
   "display_name": "Python 2",
   "language": "python",
   "name": "python2"
  },
  "language_info": {
   "codemirror_mode": {
    "name": "ipython",
    "version": 2
   },
   "file_extension": ".py",
   "mimetype": "text/x-python",
   "name": "python",
   "nbconvert_exporter": "python",
   "pygments_lexer": "ipython2",
   "version": "2.7.13"
  }
 },
 "nbformat": 4,
 "nbformat_minor": 2
}
