{
 "cells": [
  {
   "cell_type": "code",
   "execution_count": 1,
   "metadata": {
    "collapsed": true
   },
   "outputs": [],
   "source": [
    "import pandas as pd\n",
    "names = ['chrom','start','end','name','score','strand']"
   ]
  },
  {
   "cell_type": "code",
   "execution_count": 2,
   "metadata": {
    "collapsed": true
   },
   "outputs": [],
   "source": [
    "df = pd.read_table(\n",
    "    '/home/bay001/projects/codebase/clip_analysis_legacy/example/inputs/204_02.basedon_204_02.peaks.l2inputnormnew.bed.compressed.bed',\n",
    "    names=names\n",
    ")"
   ]
  },
  {
   "cell_type": "code",
   "execution_count": 4,
   "metadata": {},
   "outputs": [],
   "source": [
    "df = df[(df['name']>=3) & (df['score']>=3)]\n",
    "df.to_csv(\n",
    "    '/home/bay001/projects/codebase/clip_analysis_legacy/example/inputs/204_02.basedon_204_02.peaks.l2inputnormnew.bed.compressed.Fc3Pv3.bed',\n",
    "    sep='\\t',\n",
    "    index=False, header=False\n",
    ")"
   ]
  },
  {
   "cell_type": "code",
   "execution_count": null,
   "metadata": {
    "collapsed": true
   },
   "outputs": [],
   "source": []
  }
 ],
 "metadata": {
  "kernelspec": {
   "display_name": "Python (decomposition)",
   "language": "python",
   "name": "decomposition"
  },
  "language_info": {
   "codemirror_mode": {
    "name": "ipython",
    "version": 2
   },
   "file_extension": ".py",
   "mimetype": "text/x-python",
   "name": "python",
   "nbconvert_exporter": "python",
   "pygments_lexer": "ipython2",
   "version": "2.7.13"
  }
 },
 "nbformat": 4,
 "nbformat_minor": 2
}
