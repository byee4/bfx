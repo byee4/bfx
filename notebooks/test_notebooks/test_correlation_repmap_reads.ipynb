{
 "cells": [
  {
   "cell_type": "code",
   "execution_count": 1,
   "metadata": {
    "collapsed": true
   },
   "outputs": [],
   "source": [
    "import pandas as pd\n",
    "import os \n",
    "import glob\n",
    "from tqdm import tqdm_notebook, tnrange"
   ]
  },
  {
   "cell_type": "code",
   "execution_count": 2,
   "metadata": {
    "collapsed": true
   },
   "outputs": [],
   "source": [
    "from_pipeline = '/projects/ps-yeolab3/bay001/rep_element_reference/example5/RBFOX2/results/ecliprepmap_concatenated.sam'\n",
    "from_eric = '/projects/ps-yeolab3/bay001/rep_element_reference/example5/eric_reference.sam'"
   ]
  },
  {
   "cell_type": "code",
   "execution_count": 3,
   "metadata": {},
   "outputs": [
    {
     "name": "stdout",
     "output_type": "stream",
     "text": [
      "0\n"
     ]
    }
   ],
   "source": [
    "pipeline_length = !wc -l $from_pipeline\n",
    "pipeline_length = int(pipeline_length[0].split(' ')[0])\n",
    "\n",
    "from_eric_length = !wc -l $from_eric\n",
    "from_eric_length = int(from_eric_length[0].split(' ')[0])\n",
    "\n",
    "print(pipeline_length - from_eric_length)"
   ]
  },
  {
   "cell_type": "code",
   "execution_count": 4,
   "metadata": {},
   "outputs": [
    {
     "name": "stderr",
     "output_type": "stream",
     "text": [
      "Widget Javascript not detected.  It may not be installed or enabled properly.\n"
     ]
    },
    {
     "data": {
      "application/vnd.jupyter.widget-view+json": {
       "model_id": "970342588f0542448ec8ecb7aadf3cc2"
      }
     },
     "metadata": {},
     "output_type": "display_data"
    }
   ],
   "source": [
    "# first gather every mapped transcript\n",
    "transcripts = []\n",
    "progress = tnrange(pipeline_length)\n",
    "with open(from_pipeline, 'r') as f:\n",
    "    for line in f:\n",
    "        transcripts.append(line.split('\\t')[2])\n",
    "        progress.update(1)\n",
    "transcripts = set(transcripts)"
   ]
  },
  {
   "cell_type": "code",
   "execution_count": 5,
   "metadata": {},
   "outputs": [
    {
     "name": "stderr",
     "output_type": "stream",
     "text": [
      "Widget Javascript not detected.  It may not be installed or enabled properly.\n"
     ]
    },
    {
     "data": {
      "application/vnd.jupyter.widget-view+json": {
       "model_id": "55d0edcf24624a4788fbbdc454aec1bd"
      }
     },
     "metadata": {},
     "output_type": "display_data"
    },
    {
     "name": "stdout",
     "output_type": "stream",
     "text": [
      "\n"
     ]
    }
   ],
   "source": [
    "# first gather every mapped transcript from eric\n",
    "erics_transcripts = []\n",
    "progress = tnrange(from_eric_length)\n",
    "with open(from_eric, 'r') as f:\n",
    "    for line in f:\n",
    "        erics_transcripts.append(line.split('\\t')[2])\n",
    "        progress.update(1)\n",
    "erics_transcripts = set(erics_transcripts)"
   ]
  },
  {
   "cell_type": "markdown",
   "metadata": {},
   "source": [
    "# Sweet there are no differences between the transcripts that were mapped between mine and eric's run:"
   ]
  },
  {
   "cell_type": "code",
   "execution_count": 6,
   "metadata": {},
   "outputs": [
    {
     "data": {
      "text/plain": [
       "0"
      ]
     },
     "execution_count": 6,
     "metadata": {},
     "output_type": "execute_result"
    }
   ],
   "source": [
    "len(transcripts - erics_transcripts)"
   ]
  },
  {
   "cell_type": "code",
   "execution_count": 7,
   "metadata": {},
   "outputs": [
    {
     "data": {
      "text/plain": [
       "0"
      ]
     },
     "execution_count": 7,
     "metadata": {},
     "output_type": "execute_result"
    }
   ],
   "source": [
    "len(erics_transcripts - transcripts)"
   ]
  },
  {
   "cell_type": "code",
   "execution_count": 8,
   "metadata": {},
   "outputs": [
    {
     "data": {
      "text/plain": [
       "8306"
      ]
     },
     "execution_count": 8,
     "metadata": {},
     "output_type": "execute_result"
    }
   ],
   "source": [
    "len(erics_transcripts)"
   ]
  },
  {
   "cell_type": "markdown",
   "metadata": {},
   "source": [
    "# Now more specifically, let's look at each read:"
   ]
  },
  {
   "cell_type": "code",
   "execution_count": 9,
   "metadata": {},
   "outputs": [
    {
     "name": "stderr",
     "output_type": "stream",
     "text": [
      "Widget Javascript not detected.  It may not be installed or enabled properly.\n"
     ]
    },
    {
     "data": {
      "application/vnd.jupyter.widget-view+json": {
       "model_id": "db306443828742d49376a7bbf52ceda0"
      }
     },
     "metadata": {},
     "output_type": "display_data"
    }
   ],
   "source": [
    "# first gather every mapped transcript\n",
    "transcripts = []\n",
    "progress = tnrange(pipeline_length)\n",
    "with open(from_pipeline, 'r') as f:\n",
    "    for line in f:\n",
    "        transcripts.append(\"{}:{}\".format(line.split('\\t')[2],line.split('\\t')[3]))\n",
    "        progress.update(1)\n",
    "transcripts = set(transcripts)"
   ]
  },
  {
   "cell_type": "code",
   "execution_count": 10,
   "metadata": {},
   "outputs": [
    {
     "name": "stderr",
     "output_type": "stream",
     "text": [
      "Widget Javascript not detected.  It may not be installed or enabled properly.\n"
     ]
    },
    {
     "data": {
      "application/vnd.jupyter.widget-view+json": {
       "model_id": "a29a2a71ef004edc92dbe724bd192071"
      }
     },
     "metadata": {},
     "output_type": "display_data"
    }
   ],
   "source": [
    "# first gather every mapped transcript from eric\n",
    "erics_transcripts = []\n",
    "progress = tnrange(from_eric_length)\n",
    "with open(from_eric, 'r') as f:\n",
    "    for line in f:\n",
    "        erics_transcripts.append(\"{}:{}\".format(line.split('\\t')[2],line.split('\\t')[3]))\n",
    "        progress.update(1)\n",
    "erics_transcripts = set(erics_transcripts)"
   ]
  },
  {
   "cell_type": "code",
   "execution_count": 16,
   "metadata": {},
   "outputs": [
    {
     "name": "stdout",
     "output_type": "stream",
     "text": [
      "2094\n",
      "2056\n"
     ]
    }
   ],
   "source": [
    "diff = len(transcripts - erics_transcripts)\n",
    "print(diff)\n",
    "diff = len(erics_transcripts - transcripts)\n",
    "print(diff)"
   ]
  },
  {
   "cell_type": "code",
   "execution_count": 18,
   "metadata": {},
   "outputs": [
    {
     "data": {
      "text/plain": [
       "0.0003644473136989116"
      ]
     },
     "execution_count": 18,
     "metadata": {},
     "output_type": "execute_result"
    }
   ],
   "source": [
    "diff/float(len(erics_transcripts))"
   ]
  },
  {
   "cell_type": "markdown",
   "metadata": {},
   "source": [
    "# There is a 0.04% difference in runs (0.00036)"
   ]
  },
  {
   "cell_type": "code",
   "execution_count": 15,
   "metadata": {},
   "outputs": [
    {
     "name": "stdout",
     "output_type": "stream",
     "text": [
      "['antisense_ERV1||antisense_LTR12C:728', 'antisense_L1||antisense_L1PA7:311', 'antisense_L1||antisense_L1HS:551', 'antisense_L1||antisense_L1:412', 'L1||L1HS:5890', 'RN7SL|antisense_RN7SL||ENST00000582058.1|antisense_ENST00000577945.1:67', 'antisense_ERVK||antisense_LTR5_HS:377', 'antisense_L1||antisense_L1PA7_5:178', 'antisense_Alu|antisense_RN7SL||antisense_ALUYA5|antisense_ENST00000578326.1:218', 'rRNA_extra||NR_046235.1:6505', 'Alu|RN7SL||ALUSQ|ENST00000584725.1:52', 'L1||L1PREC2:7983', 'antisense_ERVL-MaLR||antisense_THE1B:175', 'ERV1||LTR35A:224', 'RN7SL|YRNA||ENST00000584622.1|ENST00000563151.1:23', 'YRNA||ENST00000364214.1:17', 'RN7SL||ENST00000578422.1:156', 'SVA||SVA_D:983', 'RN7SL|antisense_RN7SL||ENST00000582087.1|antisense_ENST00000582087.1:177', 'RN7SK||ENST00000364140.1:278', 'antisense_L1||antisense_L1:4556', 'Alu|RN7SL||ALUSX|ENST00000579210.1:238']\n"
     ]
    }
   ],
   "source": [
    "repCount = []\n",
    "for different in list(transcripts - erics_transcripts):\n",
    "    if not different.startswith('chr'):\n",
    "        repCount.append(different)\n",
    "print(repCount)"
   ]
  },
  {
   "cell_type": "code",
   "execution_count": null,
   "metadata": {
    "collapsed": true
   },
   "outputs": [],
   "source": []
  }
 ],
 "metadata": {
  "kernelspec": {
   "display_name": "Python 2",
   "language": "python",
   "name": "python2"
  },
  "language_info": {
   "codemirror_mode": {
    "name": "ipython",
    "version": 2
   },
   "file_extension": ".py",
   "mimetype": "text/x-python",
   "name": "python",
   "nbconvert_exporter": "python",
   "pygments_lexer": "ipython2",
   "version": "2.7.13"
  }
 },
 "nbformat": 4,
 "nbformat_minor": 2
}
