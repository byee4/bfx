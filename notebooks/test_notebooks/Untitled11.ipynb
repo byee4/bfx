{
 "cells": [
  {
   "cell_type": "code",
   "execution_count": 8,
   "metadata": {},
   "outputs": [],
   "source": [
    "import pandas as pd\n",
    "import numpy as np\n",
    "import os"
   ]
  },
  {
   "cell_type": "code",
   "execution_count": 9,
   "metadata": {},
   "outputs": [],
   "source": [
    "df = pd.read_table(\n",
    "    '/home/bay001/projects/modules/temporary_data/wf_get_peaks_full_scatter/results/204_01.rep1_clip.A01.r1.fqTrTr.sorted.STARUnmapped.out.sorted.STARAligned.outSoCpSo.merged.r2.peakClusters.normed.compressed.bed',\n",
    "    names=['chrom','start','end','name','score','strand']\n",
    ")\n"
   ]
  },
  {
   "cell_type": "code",
   "execution_count": 10,
   "metadata": {},
   "outputs": [],
   "source": [
    "df.sort_values(by=['chrom','start'], inplace=True)\n",
    "df.to_csv(\n",
    "    '/home/bay001/projects/modules/temporary_data/wf_get_peaks_full_scatter/results/204_01.rep1_clip.A01.r1.fqTrTr.sorted.STARUnmapped.out.sorted.STARAligned.outSoCpSo.merged.r2.peakClusters.normed.compressed.bed.sorted',\n",
    "    sep='\\t', index=False, header=False\n",
    ")"
   ]
  },
  {
   "cell_type": "code",
   "execution_count": null,
   "metadata": {},
   "outputs": [],
   "source": []
  }
 ],
 "metadata": {
  "kernelspec": {
   "display_name": "Python 2",
   "language": "python",
   "name": "python2"
  },
  "language_info": {
   "codemirror_mode": {
    "name": "ipython",
    "version": 2
   },
   "file_extension": ".py",
   "mimetype": "text/x-python",
   "name": "python",
   "nbconvert_exporter": "python",
   "pygments_lexer": "ipython2",
   "version": "2.7.14"
  }
 },
 "nbformat": 4,
 "nbformat_minor": 2
}
