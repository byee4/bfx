{
 "cells": [
  {
   "cell_type": "code",
   "execution_count": 1,
   "metadata": {
    "collapsed": true
   },
   "outputs": [],
   "source": [
    "import pandas as pd\n",
    "import numpy as np"
   ]
  },
  {
   "cell_type": "code",
   "execution_count": 3,
   "metadata": {},
   "outputs": [
    {
     "data": {
      "text/html": [
       "<div>\n",
       "<style>\n",
       "    .dataframe thead tr:only-child th {\n",
       "        text-align: right;\n",
       "    }\n",
       "\n",
       "    .dataframe thead th {\n",
       "        text-align: left;\n",
       "    }\n",
       "\n",
       "    .dataframe tbody tr th {\n",
       "        vertical-align: top;\n",
       "    }\n",
       "</style>\n",
       "<table border=\"1\" class=\"dataframe\">\n",
       "  <thead>\n",
       "    <tr style=\"text-align: right;\">\n",
       "      <th></th>\n",
       "      <th>total_or_element</th>\n",
       "      <th>element</th>\n",
       "      <th>read_num</th>\n",
       "      <th>percentage</th>\n",
       "      <th>annotation</th>\n",
       "      <th>gene</th>\n",
       "    </tr>\n",
       "  </thead>\n",
       "  <tbody>\n",
       "    <tr>\n",
       "      <th>0</th>\n",
       "      <td>TOTAL</td>\n",
       "      <td>L1|antisense_hAT</td>\n",
       "      <td>9</td>\n",
       "      <td>7.669540e-07</td>\n",
       "      <td>NaN</td>\n",
       "      <td>NaN</td>\n",
       "    </tr>\n",
       "    <tr>\n",
       "      <th>1</th>\n",
       "      <td>TOTAL</td>\n",
       "      <td>ERV1|antisense_L1|antisense_hAT-Charlie</td>\n",
       "      <td>1</td>\n",
       "      <td>8.521711e-08</td>\n",
       "      <td>NaN</td>\n",
       "      <td>NaN</td>\n",
       "    </tr>\n",
       "    <tr>\n",
       "      <th>2</th>\n",
       "      <td>TOTAL</td>\n",
       "      <td>TcMar|antisense_TcMar-Tigger</td>\n",
       "      <td>10</td>\n",
       "      <td>8.521711e-07</td>\n",
       "      <td>NaN</td>\n",
       "      <td>NaN</td>\n",
       "    </tr>\n",
       "    <tr>\n",
       "      <th>3</th>\n",
       "      <td>TOTAL</td>\n",
       "      <td>antisense_DNA|antisense_L1</td>\n",
       "      <td>1</td>\n",
       "      <td>8.521711e-08</td>\n",
       "      <td>NaN</td>\n",
       "      <td>NaN</td>\n",
       "    </tr>\n",
       "    <tr>\n",
       "      <th>4</th>\n",
       "      <td>TOTAL</td>\n",
       "      <td>Helitron|antisense_TcMar-Mariner</td>\n",
       "      <td>1</td>\n",
       "      <td>8.521711e-08</td>\n",
       "      <td>NaN</td>\n",
       "      <td>NaN</td>\n",
       "    </tr>\n",
       "  </tbody>\n",
       "</table>\n",
       "</div>"
      ],
      "text/plain": [
       "  total_or_element                                  element  read_num  \\\n",
       "0            TOTAL                         L1|antisense_hAT         9   \n",
       "1            TOTAL  ERV1|antisense_L1|antisense_hAT-Charlie         1   \n",
       "2            TOTAL             TcMar|antisense_TcMar-Tigger        10   \n",
       "3            TOTAL               antisense_DNA|antisense_L1         1   \n",
       "4            TOTAL         Helitron|antisense_TcMar-Mariner         1   \n",
       "\n",
       "     percentage annotation gene  \n",
       "0  7.669540e-07        NaN  NaN  \n",
       "1  8.521711e-08        NaN  NaN  \n",
       "2  8.521711e-07        NaN  NaN  \n",
       "3  8.521711e-08        NaN  NaN  \n",
       "4  8.521711e-08        NaN  NaN  "
      ]
     },
     "execution_count": 3,
     "metadata": {},
     "output_type": "execute_result"
    }
   ],
   "source": [
    "df = pd.read_table(\n",
    "    '/home/elvannostrand/scratch/EW_20170824/EW5_SRSF2_C1_ips_IP.combined_w_uniquemap.rmDup.sam.parsed',\n",
    "    sep='\\t', comment='#', names=['total_or_element','element','read_num',\n",
    "        'percentage','annotation','gene']\n",
    "\n",
    ")\n",
    "df.head()"
   ]
  },
  {
   "cell_type": "code",
   "execution_count": 11,
   "metadata": {},
   "outputs": [
    {
     "data": {
      "text/html": [
       "<div>\n",
       "<style>\n",
       "    .dataframe thead tr:only-child th {\n",
       "        text-align: right;\n",
       "    }\n",
       "\n",
       "    .dataframe thead th {\n",
       "        text-align: left;\n",
       "    }\n",
       "\n",
       "    .dataframe tbody tr th {\n",
       "        vertical-align: top;\n",
       "    }\n",
       "</style>\n",
       "<table border=\"1\" class=\"dataframe\">\n",
       "  <thead>\n",
       "    <tr style=\"text-align: right;\">\n",
       "      <th></th>\n",
       "      <th>total_or_element</th>\n",
       "      <th>element</th>\n",
       "      <th>read_num</th>\n",
       "      <th>percentage</th>\n",
       "      <th>annotation</th>\n",
       "      <th>gene</th>\n",
       "    </tr>\n",
       "  </thead>\n",
       "  <tbody>\n",
       "    <tr>\n",
       "      <th>370</th>\n",
       "      <td>TOTAL</td>\n",
       "      <td>unique_CDS</td>\n",
       "      <td>3964689</td>\n",
       "      <td>0.337859</td>\n",
       "      <td>NaN</td>\n",
       "      <td>NaN</td>\n",
       "    </tr>\n",
       "  </tbody>\n",
       "</table>\n",
       "</div>"
      ],
      "text/plain": [
       "    total_or_element     element  read_num  percentage annotation gene\n",
       "370            TOTAL  unique_CDS   3964689    0.337859        NaN  NaN"
      ]
     },
     "execution_count": 11,
     "metadata": {},
     "output_type": "execute_result"
    }
   ],
   "source": [
    "dx = df[df['total_or_element']=='TOTAL']\n",
    "dx = dx[dx['element']=='unique_CDS']\n",
    "dx"
   ]
  },
  {
   "cell_type": "code",
   "execution_count": null,
   "metadata": {
    "collapsed": true
   },
   "outputs": [],
   "source": []
  }
 ],
 "metadata": {
  "kernelspec": {
   "display_name": "Python 2",
   "language": "python",
   "name": "python2"
  },
  "language_info": {
   "codemirror_mode": {
    "name": "ipython",
    "version": 2
   },
   "file_extension": ".py",
   "mimetype": "text/x-python",
   "name": "python",
   "nbconvert_exporter": "python",
   "pygments_lexer": "ipython2",
   "version": "2.7.13"
  }
 },
 "nbformat": 4,
 "nbformat_minor": 2
}
