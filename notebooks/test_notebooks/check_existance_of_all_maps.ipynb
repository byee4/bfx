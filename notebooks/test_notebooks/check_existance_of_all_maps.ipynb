{
 "cells": [
  {
   "cell_type": "markdown",
   "metadata": {},
   "source": [
    "# Notebook for checking the existence of completed RBP maps"
   ]
  },
  {
   "cell_type": "code",
   "execution_count": 1,
   "metadata": {
    "collapsed": true
   },
   "outputs": [],
   "source": [
    "import pandas as pd\n",
    "import numpy as np\n",
    "import os\n",
    "import glob\n",
    "from collections import defaultdict"
   ]
  },
  {
   "cell_type": "code",
   "execution_count": 2,
   "metadata": {
    "collapsed": true
   },
   "outputs": [],
   "source": [
    "directory = '/projects/ps-yeolab3/bay001/maps/current/se_nr'\n",
    "images = glob.glob(os.path.join(directory, \"*.svg\"))"
   ]
  },
  {
   "cell_type": "code",
   "execution_count": 3,
   "metadata": {},
   "outputs": [
    {
     "data": {
      "text/plain": [
       "298"
      ]
     },
     "execution_count": 3,
     "metadata": {},
     "output_type": "execute_result"
    }
   ],
   "source": [
    "len(images)"
   ]
  },
  {
   "cell_type": "code",
   "execution_count": 4,
   "metadata": {},
   "outputs": [
    {
     "data": {
      "text/plain": [
       "['/projects/ps-yeolab3/bay001/maps/current/se_nr/315_02_FXR1.merged.r2.svg',\n",
       " '/projects/ps-yeolab3/bay001/maps/current/se_nr/280_02_AUH.merged.r2.svg',\n",
       " '/projects/ps-yeolab3/bay001/maps/current/se_nr/514_01_RBM15.merged.r2.svg',\n",
       " '/projects/ps-yeolab3/bay001/maps/current/se_nr/326_01_HNRNPK.merged.r2.svg',\n",
       " '/projects/ps-yeolab3/bay001/maps/current/se_nr/302_01_SND1.merged.r2.svg']"
      ]
     },
     "execution_count": 4,
     "metadata": {},
     "output_type": "execute_result"
    }
   ],
   "source": [
    "images[:5]"
   ]
  },
  {
   "cell_type": "code",
   "execution_count": 5,
   "metadata": {
    "collapsed": true
   },
   "outputs": [],
   "source": [
    "def get_reps(line):\n",
    "    prefix = os.path.basename(line).split('.')[0]\n",
    "    elements = prefix.split('_')\n",
    "    if len(elements) != 3:\n",
    "        uid = elements[0]\n",
    "        rep = elements[1]\n",
    "        rbp = elements[3]\n",
    "    else:\n",
    "        uid = elements[0]\n",
    "        rep = elements[1]\n",
    "        rbp = elements[2]\n",
    "    return rep\n",
    "\n",
    "def get_prefix(line):\n",
    "    prefix = os.path.basename(line).split('.')[0]\n",
    "    elements = prefix.split('_')\n",
    "    if len(elements) != 3:\n",
    "        uid = elements[0]\n",
    "        rep = elements[1]\n",
    "        rbp = elements[3]\n",
    "    else:\n",
    "        uid = elements[0]\n",
    "        rep = elements[1]\n",
    "        rbp = elements[2]\n",
    "    return uid\n",
    "\n",
    "def get_rbp(line):\n",
    "    prefix = os.path.basename(line).split('.')[0]\n",
    "    elements = prefix.split('_')\n",
    "    if len(elements) != 3:\n",
    "        uid = elements[0]\n",
    "        rep = elements[1]\n",
    "        rbp = elements[3]\n",
    "    else:\n",
    "        uid = elements[0]\n",
    "        rep = elements[1]\n",
    "        rbp = elements[2]\n",
    "    return rbp"
   ]
  },
  {
   "cell_type": "code",
   "execution_count": 6,
   "metadata": {
    "collapsed": true
   },
   "outputs": [],
   "source": [
    "prefix = defaultdict(list)\n",
    "for i in images:\n",
    "    prefix[get_prefix(i)].append(get_reps(i))\n",
    "    "
   ]
  },
  {
   "cell_type": "code",
   "execution_count": 7,
   "metadata": {},
   "outputs": [
    {
     "data": {
      "text/plain": [
       "defaultdict(list,\n",
       "            {'203': ['02'],\n",
       "             '204': ['02', '01'],\n",
       "             '205': ['01', '02'],\n",
       "             '206': ['02', '01'],\n",
       "             '209': ['02', '01'],\n",
       "             '211': ['02', '01'],\n",
       "             '215': ['01', '02'],\n",
       "             '216': ['02', '01'],\n",
       "             '218': ['02', '01'],\n",
       "             '220': ['02', '01'],\n",
       "             '222': ['01', '02'],\n",
       "             '223': ['01', '02'],\n",
       "             '224': ['02', '01'],\n",
       "             '226': ['01', '02'],\n",
       "             '227': ['02', '01'],\n",
       "             '228': ['02', '01'],\n",
       "             '230': ['01', '02'],\n",
       "             '235': ['02', '01'],\n",
       "             '236': ['01', '02'],\n",
       "             '237': ['01', '02'],\n",
       "             '240': ['01', '02'],\n",
       "             '242': ['02', '01'],\n",
       "             '243': ['02', '01'],\n",
       "             '244': ['02', '01'],\n",
       "             '245': ['02', '01'],\n",
       "             '247': ['01', '02'],\n",
       "             '249': ['02', '01'],\n",
       "             '258': ['01', '02'],\n",
       "             '260': ['02', '01'],\n",
       "             '262': ['02', '01'],\n",
       "             '267': ['02', '01'],\n",
       "             '271': ['01'],\n",
       "             '272': ['01', '02'],\n",
       "             '278': ['01', '02'],\n",
       "             '280': ['02', '01'],\n",
       "             '281': ['02', '01'],\n",
       "             '282': ['02', '01'],\n",
       "             '283': ['01', '02'],\n",
       "             '285': ['02', '01'],\n",
       "             '289': ['01', '02'],\n",
       "             '291': ['01', '02'],\n",
       "             '292': ['01', '02'],\n",
       "             '297': ['01', '02'],\n",
       "             '298': ['02', '01'],\n",
       "             '301': ['01', '02'],\n",
       "             '302': ['01', '02'],\n",
       "             '311': ['02', '01'],\n",
       "             '312': ['02', '01'],\n",
       "             '315': ['02', '01'],\n",
       "             '316': ['02', '01'],\n",
       "             '321': ['02', '01'],\n",
       "             '325': ['02', '01'],\n",
       "             '326': ['01', '02'],\n",
       "             '331': ['02', '01'],\n",
       "             '338': ['01', '02'],\n",
       "             '339': ['02', '01'],\n",
       "             '340': ['01', '02'],\n",
       "             '342': ['01', '02'],\n",
       "             '344': ['02', '01'],\n",
       "             '345': ['02', '01'],\n",
       "             '350': ['02', '01'],\n",
       "             '353': ['02', '01'],\n",
       "             '354': ['02', '01'],\n",
       "             '368': ['01', '02'],\n",
       "             '376': ['02', '01'],\n",
       "             '384': ['02', '01'],\n",
       "             '387': ['01', '02'],\n",
       "             '388': ['01', '02'],\n",
       "             '393': ['02', '01'],\n",
       "             '405': ['01', '02'],\n",
       "             '425': ['02', '01'],\n",
       "             '437': ['01', '02'],\n",
       "             '439': ['02', '01'],\n",
       "             '440': ['02', '01'],\n",
       "             '441': ['01', '02'],\n",
       "             '445': ['02', '01'],\n",
       "             '447': ['02', '01'],\n",
       "             '450': ['01', '02'],\n",
       "             '452': ['02', '01'],\n",
       "             '461': ['02', '01'],\n",
       "             '464': ['01', '02'],\n",
       "             '465': ['02', '01'],\n",
       "             '466': ['01', '02'],\n",
       "             '470': ['02', '01'],\n",
       "             '477': ['01', '02'],\n",
       "             '478': ['02', '01'],\n",
       "             '480': ['02', '01'],\n",
       "             '481': ['01', '02'],\n",
       "             '483': ['02', '01'],\n",
       "             '492': ['01', '02'],\n",
       "             '493': ['01', '02'],\n",
       "             '494': ['02', '01'],\n",
       "             '495': ['01', '02'],\n",
       "             '497': ['01', '02'],\n",
       "             '501': ['02', '01'],\n",
       "             '503': ['01', '02'],\n",
       "             '506': ['02', '01'],\n",
       "             '507': ['02', '01'],\n",
       "             '508': ['02', '01'],\n",
       "             '509': ['02', '01'],\n",
       "             '514': ['01', '02'],\n",
       "             '522': ['02', '01'],\n",
       "             '530': ['01', '02'],\n",
       "             '537': ['01', '02'],\n",
       "             '539': ['01', '02'],\n",
       "             '544': ['01', '02'],\n",
       "             '546': ['02', '01'],\n",
       "             '548': ['01', '02'],\n",
       "             '550': ['02', '01'],\n",
       "             '551': ['01', '02'],\n",
       "             '552': ['01', '02'],\n",
       "             '556': ['01', '02'],\n",
       "             '558': ['02', '01'],\n",
       "             '560': ['02', '01'],\n",
       "             '566': ['01', '02'],\n",
       "             '567': ['01', '02'],\n",
       "             '571': ['01', '02'],\n",
       "             '572': ['02', '01'],\n",
       "             '575': ['02', '01'],\n",
       "             '577': ['02', '01'],\n",
       "             '582': ['02', '01'],\n",
       "             '584': ['01', '02'],\n",
       "             '589': ['02', '01'],\n",
       "             '592': ['02', '01'],\n",
       "             '595': ['01', '02'],\n",
       "             '596': ['01', '02'],\n",
       "             '603': ['01', '02'],\n",
       "             '610': ['02', '01'],\n",
       "             '617': ['02', '01'],\n",
       "             '624': ['01', '02'],\n",
       "             '625': ['01', '02'],\n",
       "             '626': ['02', '01'],\n",
       "             '628': ['02', '01'],\n",
       "             '629': ['02', '01'],\n",
       "             '631': ['02', '01'],\n",
       "             '632': ['02', '01'],\n",
       "             '649': ['01', '02'],\n",
       "             '650': ['01', '02'],\n",
       "             '652': ['01', '02'],\n",
       "             '654': ['01', '02'],\n",
       "             '655': ['01', '02'],\n",
       "             '658': ['02', '01'],\n",
       "             '668': ['02', '01'],\n",
       "             '676': ['02', '01'],\n",
       "             '677': ['01', '02'],\n",
       "             '678': ['02', '01'],\n",
       "             '682': ['01', '02'],\n",
       "             '693': ['01', '02'],\n",
       "             '695': ['02', '01'],\n",
       "             '696': ['01', '02']})"
      ]
     },
     "execution_count": 7,
     "metadata": {},
     "output_type": "execute_result"
    }
   ],
   "source": [
    "# double check this to see if each replicate for each RBP uID was made. \n",
    "prefix"
   ]
  },
  {
   "cell_type": "markdown",
   "metadata": {
    "collapsed": true
   },
   "source": [
    "# check to see if the missing maps are consistent with those that lie outside the intersection of CLIP and RNA SEQ datasets"
   ]
  },
  {
   "cell_type": "code",
   "execution_count": 28,
   "metadata": {},
   "outputs": [],
   "source": [
    "date = '6-5-2017'\n",
    "\n",
    "hepg2_rnaseq_manifest = '/home/bay001/projects/maps_20160420/permanent_data/RNASeq_final_exp_list_HepG2.csv'\n",
    "k562_rnaseq_manifest = '/home/bay001/projects/maps_20160420/permanent_data/RNASeq_final_exp_list_K562.csv'\n",
    "\n",
    "hepg2_rnaseq_df = pd.read_table(hepg2_rnaseq_manifest)\n",
    "k562_rnaseq_df = pd.read_table(k562_rnaseq_manifest)\n",
    "\n",
    "\n",
    "\n",
    "missing_files = [\n",
    "    '/projects/ps-yeolab3/bay001/maps/bash_scripts/{}/whole_read-SE_NR_svg.missing.txt'.format(date),\n",
    "    '/projects/ps-yeolab3/bay001/maps/bash_scripts/{}/SE_PEAK_PNGS.missing.txt'.format(date),\n",
    "    '/projects/ps-yeolab3/bay001/maps/bash_scripts/{}/IDR_PNGS.missing.txt'.format(date),\n",
    "    '/projects/ps-yeolab3/bay001/maps/bash_scripts/6-5-2017/a3ss_NR_png.missing.txt',\n",
    "    '/projects/ps-yeolab3/bay001/maps/bash_scripts/6-5-2017/a5ss_NR_png.missing.txt',\n",
    "    '/projects/ps-yeolab3/bay001/maps/bash_scripts/6-5-2017/a3ss_NR_svg.missing.txt',\n",
    "    '/projects/ps-yeolab3/bay001/maps/bash_scripts/6-5-2017/a5ss_NR_svg.missing.txt',\n",
    "]\n",
    "\n",
    "for mf in missing_files:\n",
    "    df = pd.read_table(\n",
    "        mf,\n",
    "        names=['rbp','cell']\n",
    "    )\n",
    "    k562 = df[df['cell']=='K562']\n",
    "    hepg2 = df[df['cell']=='HepG2']\n",
    "    # do inner join, the missing list should not show up in the final expt lists from xintao.\n",
    "    if len(pd.merge(k562, k562_rnaseq_df, how='inner', left_on=['rbp'], right_on=['Official_RBP'])) != 0:\n",
    "        print(mf)\n",
    "    if len(pd.merge(hepg2, hepg2_rnaseq_df, how='inner', left_on=['rbp'], right_on=['Official_RBP'])) != 0:\n",
    "        print(mf)\n"
   ]
  },
  {
   "cell_type": "code",
   "execution_count": null,
   "metadata": {},
   "outputs": [],
   "source": []
  },
  {
   "cell_type": "code",
   "execution_count": 21,
   "metadata": {},
   "outputs": [
    {
     "data": {
      "text/html": [
       "<div>\n",
       "<style>\n",
       "    .dataframe thead tr:only-child th {\n",
       "        text-align: right;\n",
       "    }\n",
       "\n",
       "    .dataframe thead th {\n",
       "        text-align: left;\n",
       "    }\n",
       "\n",
       "    .dataframe tbody tr th {\n",
       "        vertical-align: top;\n",
       "    }\n",
       "</style>\n",
       "<table border=\"1\" class=\"dataframe\">\n",
       "  <thead>\n",
       "    <tr style=\"text-align: right;\">\n",
       "      <th></th>\n",
       "      <th>rbp</th>\n",
       "      <th>cell</th>\n",
       "      <th>Official_RBP</th>\n",
       "      <th>GENCODE_v19_ID</th>\n",
       "      <th>target</th>\n",
       "      <th>RBP</th>\n",
       "      <th>RNA-Seq on HepG2</th>\n",
       "      <th>EXP</th>\n",
       "    </tr>\n",
       "  </thead>\n",
       "  <tbody>\n",
       "  </tbody>\n",
       "</table>\n",
       "</div>"
      ],
      "text/plain": [
       "Empty DataFrame\n",
       "Columns: [rbp, cell, Official_RBP, GENCODE_v19_ID, target, RBP, RNA-Seq on HepG2, EXP]\n",
       "Index: []"
      ]
     },
     "execution_count": 21,
     "metadata": {},
     "output_type": "execute_result"
    }
   ],
   "source": []
  },
  {
   "cell_type": "code",
   "execution_count": null,
   "metadata": {
    "collapsed": true
   },
   "outputs": [],
   "source": []
  },
  {
   "cell_type": "code",
   "execution_count": null,
   "metadata": {
    "collapsed": true
   },
   "outputs": [],
   "source": []
  },
  {
   "cell_type": "code",
   "execution_count": null,
   "metadata": {
    "collapsed": true
   },
   "outputs": [],
   "source": []
  },
  {
   "cell_type": "code",
   "execution_count": null,
   "metadata": {},
   "outputs": [],
   "source": []
  },
  {
   "cell_type": "code",
   "execution_count": null,
   "metadata": {
    "collapsed": true
   },
   "outputs": [],
   "source": []
  }
 ],
 "metadata": {
  "kernelspec": {
   "display_name": "Python 2",
   "language": "python",
   "name": "python2"
  },
  "language_info": {
   "codemirror_mode": {
    "name": "ipython",
    "version": 2
   },
   "file_extension": ".py",
   "mimetype": "text/x-python",
   "name": "python",
   "nbconvert_exporter": "python",
   "pygments_lexer": "ipython2",
   "version": "2.7.13"
  }
 },
 "nbformat": 4,
 "nbformat_minor": 1
}
