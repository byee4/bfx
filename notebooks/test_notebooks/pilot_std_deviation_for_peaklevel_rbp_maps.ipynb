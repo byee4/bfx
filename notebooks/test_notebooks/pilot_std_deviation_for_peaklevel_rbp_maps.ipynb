{
 "cells": [
  {
   "cell_type": "code",
   "execution_count": 1,
   "metadata": {
    "collapsed": true
   },
   "outputs": [],
   "source": [
    "import math"
   ]
  },
  {
   "cell_type": "code",
   "execution_count": 11,
   "metadata": {
    "collapsed": true
   },
   "outputs": [],
   "source": [
    "some_list = [1,2,3]\n",
    "n = 5\n",
    "\n",
    "def norm(some_list, num_events):\n",
    "    # some_list_ps = [x+1 for x in some_list]\n",
    "    normed_list = [float(x)/num_events for x in some_list]\n",
    "    return normed_list\n",
    "\n",
    "def standard_deviation(some_list, num_events):\n",
    "    devs = []\n",
    "    p_list = norm(some_list, num_events)\n",
    "    q_list = [1 - p for p in p_list]\n",
    "    for p, q in zip(p_list, q_list):\n",
    "        print(p, q)\n",
    "        devs.append(dev(p, q, num_events))\n",
    "    return devs\n",
    "\n",
    "def dev(p, q, n):\n",
    "    return math.sqrt(p*q) / math.sqrt(n)"
   ]
  },
  {
   "cell_type": "code",
   "execution_count": 12,
   "metadata": {},
   "outputs": [
    {
     "data": {
      "text/plain": [
       "[0.2, 0.4, 0.6]"
      ]
     },
     "execution_count": 12,
     "metadata": {},
     "output_type": "execute_result"
    }
   ],
   "source": [
    "norm(some_list, n)"
   ]
  },
  {
   "cell_type": "code",
   "execution_count": 13,
   "metadata": {},
   "outputs": [
    {
     "name": "stdout",
     "output_type": "stream",
     "text": [
      "(0.2, 0.8)\n",
      "(0.4, 0.6)\n",
      "(0.6, 0.4)\n"
     ]
    },
    {
     "data": {
      "text/plain": [
       "[0.17888543819998318, 0.21908902300206642, 0.21908902300206642]"
      ]
     },
     "execution_count": 13,
     "metadata": {},
     "output_type": "execute_result"
    }
   ],
   "source": [
    "standard_deviation(some_list, n)"
   ]
  },
  {
   "cell_type": "code",
   "execution_count": null,
   "metadata": {
    "collapsed": true
   },
   "outputs": [],
   "source": []
  }
 ],
 "metadata": {
  "kernelspec": {
   "display_name": "Python 2",
   "language": "python",
   "name": "python2"
  },
  "language_info": {
   "codemirror_mode": {
    "name": "ipython",
    "version": 2
   },
   "file_extension": ".py",
   "mimetype": "text/x-python",
   "name": "python",
   "nbconvert_exporter": "python",
   "pygments_lexer": "ipython2",
   "version": "2.7.13"
  }
 },
 "nbformat": 4,
 "nbformat_minor": 2
}
