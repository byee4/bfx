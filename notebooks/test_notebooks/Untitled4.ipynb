{
 "cells": [
  {
   "cell_type": "code",
   "execution_count": 1,
   "metadata": {
    "collapsed": true
   },
   "outputs": [],
   "source": [
    "import gffutils"
   ]
  },
  {
   "cell_type": "code",
   "execution_count": 6,
   "metadata": {
    "collapsed": true
   },
   "outputs": [],
   "source": [
    "db = gffutils.FeatureDB('/projects/ps-yeolab/genomes/hg19/gencode_v19/gencode.v19.annotation.gtf.db')# '/projects/ps-yeolab3/bay001/annotations/gencode.vM10.annotation.db')"
   ]
  },
  {
   "cell_type": "code",
   "execution_count": 7,
   "metadata": {},
   "outputs": [
    {
     "name": "stdout",
     "output_type": "stream",
     "text": [
      "chr1\tHAVANA\tgene\t11869\t14412\t.\t+\t.\tgene_status \"KNOWN\"; havana_gene \"OTTHUMG00000000961.2\"; level \"2\"; transcript_status \"KNOWN\"; gene_id \"ENSG00000223972.4\"; transcript_id \"ENSG00000223972.4\"; transcript_name \"DDX11L1\"; gene_type \"pseudogene\"; transcript_type \"pseudogene\"; gene_name \"DDX11L1\";\n",
      "chr1\tHAVANA\ttranscript\t11869\t14409\t.\t+\t.\tgene_status \"KNOWN\"; havana_gene \"OTTHUMG00000000961.2\"; level \"2\"; transcript_name \"DDX11L1-002\"; transcript_status \"KNOWN\"; gene_id \"ENSG00000223972.4\"; tag \"basic\"; havana_transcript \"OTTHUMT00000362751.1\"; transcript_id \"ENST00000456328.2\"; gene_type \"pseudogene\"; transcript_type \"processed_transcript\"; gene_name \"DDX11L1\";\n",
      "chr1\tHAVANA\texon\t11869\t12227\t.\t+\t.\tgene_status \"KNOWN\"; havana_gene \"OTTHUMG00000000961.2\"; level \"2\"; transcript_name \"DDX11L1-002\"; transcript_status \"KNOWN\"; gene_id \"ENSG00000223972.4\"; exon_id \"ENSE00002234944.1\"; tag \"basic\"; exon_number \"1\"; fancy_id \"exon:chr1:11869-12227:+\"; havana_transcript \"OTTHUMT00000362751.1\"; transcript_id \"ENST00000456328.2\"; gene_type \"pseudogene\"; transcript_type \"processed_transcript\"; gene_name \"DDX11L1\";\n",
      "chr1\tENSEMBL,HAVANA\texon\t12613\t12721\t.\t+\t.\tgene_status \"KNOWN\"; havana_gene \"OTTHUMG00000000961.2\"; level \"3,2\"; transcript_status \"KNOWN\"; tag \"basic\"; gene_id \"ENSG00000223972.4\"; exon_id \"ENSE00003608237.1,ENSE00003582793.1\"; transcript_name \"DDX11L1-201,DDX11L1-002\"; exon_number \"2\"; fancy_id \"exon:chr1:12613-12721:+\"; havana_transcript \"OTTHUMT00000362751.1\"; transcript_id \"ENST00000515242.2,ENST00000456328.2\"; gene_type \"pseudogene\"; transcript_type \"processed_transcript,transcribed_unprocessed_pseudogene\"; gene_name \"DDX11L1\";\n",
      "chr1\tHAVANA\texon\t13221\t14409\t.\t+\t.\tgene_status \"KNOWN\"; havana_gene \"OTTHUMG00000000961.2\"; level \"2\"; transcript_name \"DDX11L1-002\"; transcript_status \"KNOWN\"; gene_id \"ENSG00000223972.4\"; exon_id \"ENSE00002312635.1\"; tag \"basic\"; exon_number \"3\"; fancy_id \"exon:chr1:13221-14409:+\"; havana_transcript \"OTTHUMT00000362751.1\"; transcript_id \"ENST00000456328.2\"; gene_type \"pseudogene\"; transcript_type \"processed_transcript\"; gene_name \"DDX11L1\";\n",
      "chr1\tENSEMBL\ttranscript\t11872\t14412\t.\t+\t.\tgene_status \"KNOWN\"; havana_gene \"OTTHUMG00000000961.2\"; level \"3\"; transcript_status \"KNOWN\"; gene_id \"ENSG00000223972.4\"; transcript_id \"ENST00000515242.2\"; transcript_name \"DDX11L1-201\"; gene_type \"pseudogene\"; transcript_type \"transcribed_unprocessed_pseudogene\"; gene_name \"DDX11L1\";\n",
      "chr1\tENSEMBL\texon\t11872\t12227\t.\t+\t.\tgene_status \"KNOWN\"; havana_gene \"OTTHUMG00000000961.2\"; level \"3\"; transcript_name \"DDX11L1-201\"; transcript_status \"KNOWN\"; gene_id \"ENSG00000223972.4\"; exon_id \"ENSE00002234632.1\"; exon_number \"1\"; fancy_id \"exon:chr1:11872-12227:+\"; transcript_id \"ENST00000515242.2\"; gene_type \"pseudogene\"; transcript_type \"transcribed_unprocessed_pseudogene\"; gene_name \"DDX11L1\";\n",
      "chr1\tENSEMBL\texon\t13225\t14412\t.\t+\t.\tgene_status \"KNOWN\"; havana_gene \"OTTHUMG00000000961.2\"; level \"3\"; transcript_name \"DDX11L1-201\"; transcript_status \"KNOWN\"; gene_id \"ENSG00000223972.4\"; exon_id \"ENSE00002306041.1\"; exon_number \"3\"; fancy_id \"exon:chr1:13225-14412:+\"; transcript_id \"ENST00000515242.2\"; gene_type \"pseudogene\"; transcript_type \"transcribed_unprocessed_pseudogene\"; gene_name \"DDX11L1\";\n",
      "chr1\tENSEMBL\ttranscript\t11874\t14409\t.\t+\t.\tgene_status \"KNOWN\"; havana_gene \"OTTHUMG00000000961.2\"; level \"3\"; transcript_status \"KNOWN\"; gene_id \"ENSG00000223972.4\"; transcript_id \"ENST00000518655.2\"; transcript_name \"DDX11L1-202\"; gene_type \"pseudogene\"; transcript_type \"transcribed_unprocessed_pseudogene\"; gene_name \"DDX11L1\";\n",
      "chr1\tENSEMBL\texon\t11874\t12227\t.\t+\t.\tgene_status \"KNOWN\"; havana_gene \"OTTHUMG00000000961.2\"; level \"3\"; transcript_name \"DDX11L1-202\"; transcript_status \"KNOWN\"; gene_id \"ENSG00000223972.4\"; exon_id \"ENSE00002269724.1\"; exon_number \"1\"; fancy_id \"exon:chr1:11874-12227:+\"; transcript_id \"ENST00000518655.2\"; gene_type \"pseudogene\"; transcript_type \"transcribed_unprocessed_pseudogene\"; gene_name \"DDX11L1\";\n",
      "chr1\tENSEMBL\texon\t12595\t12721\t.\t+\t.\tgene_status \"KNOWN\"; havana_gene \"OTTHUMG00000000961.2\"; level \"3\"; transcript_name \"DDX11L1-202\"; transcript_status \"KNOWN\"; gene_id \"ENSG00000223972.4\"; exon_id \"ENSE00002270865.1\"; exon_number \"2\"; fancy_id \"exon:chr1:12595-12721:+\"; transcript_id \"ENST00000518655.2\"; gene_type \"pseudogene\"; transcript_type \"transcribed_unprocessed_pseudogene\"; gene_name \"DDX11L1\";\n",
      "chr1\tENSEMBL\texon\t13403\t13655\t.\t+\t.\tgene_status \"KNOWN\"; havana_gene \"OTTHUMG00000000961.2\"; level \"3\"; transcript_name \"DDX11L1-202\"; transcript_status \"KNOWN\"; gene_id \"ENSG00000223972.4\"; exon_id \"ENSE00002216795.1\"; exon_number \"3\"; fancy_id \"exon:chr1:13403-13655:+\"; transcript_id \"ENST00000518655.2\"; gene_type \"pseudogene\"; transcript_type \"transcribed_unprocessed_pseudogene\"; gene_name \"DDX11L1\";\n",
      "chr1\tENSEMBL\texon\t13661\t14409\t.\t+\t.\tgene_status \"KNOWN\"; havana_gene \"OTTHUMG00000000961.2\"; level \"3\"; transcript_name \"DDX11L1-202\"; transcript_status \"KNOWN\"; gene_id \"ENSG00000223972.4\"; exon_id \"ENSE00002303382.1\"; exon_number \"4\"; fancy_id \"exon:chr1:13661-14409:+\"; transcript_id \"ENST00000518655.2\"; gene_type \"pseudogene\"; transcript_type \"transcribed_unprocessed_pseudogene\"; gene_name \"DDX11L1\";\n",
      "chr1\tHAVANA\ttranscript\t12010\t13670\t.\t+\t.\tgene_status \"KNOWN\"; havana_gene \"OTTHUMG00000000961.2\"; level \"2\"; transcript_status \"KNOWN\"; gene_id \"ENSG00000223972.4\"; transcript_id \"ENST00000450305.2\"; gene_name \"DDX11L1\"; havana_transcript \"OTTHUMT00000002844.2\"; transcript_name \"DDX11L1-001\"; gene_type \"pseudogene\"; transcript_type \"transcribed_unprocessed_pseudogene\"; ont \"PGO:0000005,PGO:0000019\";\n",
      "chr1\tHAVANA\texon\t12010\t12057\t.\t+\t.\tgene_status \"KNOWN\"; havana_gene \"OTTHUMG00000000961.2\"; level \"2\"; transcript_name \"DDX11L1-001\"; transcript_status \"KNOWN\"; gene_id \"ENSG00000223972.4\"; exon_id \"ENSE00001948541.1\"; exon_number \"1\"; gene_name \"DDX11L1\"; havana_transcript \"OTTHUMT00000002844.2\"; transcript_id \"ENST00000450305.2\"; gene_type \"pseudogene\"; transcript_type \"transcribed_unprocessed_pseudogene\"; ont \"PGO:0000005,PGO:0000019\"; fancy_id \"exon:chr1:12010-12057:+\";\n",
      "chr1\tHAVANA\texon\t12179\t12227\t.\t+\t.\tgene_status \"KNOWN\"; havana_gene \"OTTHUMG00000000961.2\"; level \"2\"; transcript_name \"DDX11L1-001\"; transcript_status \"KNOWN\"; gene_id \"ENSG00000223972.4\"; exon_id \"ENSE00001671638.2\"; exon_number \"2\"; gene_name \"DDX11L1\"; havana_transcript \"OTTHUMT00000002844.2\"; transcript_id \"ENST00000450305.2\"; gene_type \"pseudogene\"; transcript_type \"transcribed_unprocessed_pseudogene\"; ont \"PGO:0000005,PGO:0000019\"; fancy_id \"exon:chr1:12179-12227:+\";\n",
      "chr1\tHAVANA\texon\t12613\t12697\t.\t+\t.\tgene_status \"KNOWN\"; havana_gene \"OTTHUMG00000000961.2\"; level \"2\"; transcript_name \"DDX11L1-001\"; transcript_status \"KNOWN\"; gene_id \"ENSG00000223972.4\"; exon_id \"ENSE00001758273.2\"; exon_number \"3\"; gene_name \"DDX11L1\"; havana_transcript \"OTTHUMT00000002844.2\"; transcript_id \"ENST00000450305.2\"; gene_type \"pseudogene\"; transcript_type \"transcribed_unprocessed_pseudogene\"; ont \"PGO:0000005,PGO:0000019\"; fancy_id \"exon:chr1:12613-12697:+\";\n",
      "chr1\tHAVANA\texon\t12975\t13052\t.\t+\t.\tgene_status \"KNOWN\"; havana_gene \"OTTHUMG00000000961.2\"; level \"2\"; transcript_name \"DDX11L1-001\"; transcript_status \"KNOWN\"; gene_id \"ENSG00000223972.4\"; exon_id \"ENSE00001799933.2\"; exon_number \"4\"; gene_name \"DDX11L1\"; havana_transcript \"OTTHUMT00000002844.2\"; transcript_id \"ENST00000450305.2\"; gene_type \"pseudogene\"; transcript_type \"transcribed_unprocessed_pseudogene\"; ont \"PGO:0000005,PGO:0000019\"; fancy_id \"exon:chr1:12975-13052:+\";\n",
      "chr1\tHAVANA\texon\t13221\t13374\t.\t+\t.\tgene_status \"KNOWN\"; havana_gene \"OTTHUMG00000000961.2\"; level \"2\"; transcript_name \"DDX11L1-001\"; transcript_status \"KNOWN\"; gene_id \"ENSG00000223972.4\"; exon_id \"ENSE00001746346.2\"; exon_number \"5\"; gene_name \"DDX11L1\"; havana_transcript \"OTTHUMT00000002844.2\"; transcript_id \"ENST00000450305.2\"; gene_type \"pseudogene\"; transcript_type \"transcribed_unprocessed_pseudogene\"; ont \"PGO:0000005,PGO:0000019\"; fancy_id \"exon:chr1:13221-13374:+\";\n",
      "chr1\tHAVANA\texon\t13453\t13670\t.\t+\t.\tgene_status \"KNOWN\"; havana_gene \"OTTHUMG00000000961.2\"; level \"2\"; transcript_name \"DDX11L1-001\"; transcript_status \"KNOWN\"; gene_id \"ENSG00000223972.4\"; exon_id \"ENSE00001863096.1\"; exon_number \"6\"; gene_name \"DDX11L1\"; havana_transcript \"OTTHUMT00000002844.2\"; transcript_id \"ENST00000450305.2\"; gene_type \"pseudogene\"; transcript_type \"transcribed_unprocessed_pseudogene\"; ont \"PGO:0000005,PGO:0000019\"; fancy_id \"exon:chr1:13453-13670:+\";\n",
      "chr1\tHAVANA\tgene\t14363\t29806\t.\t-\t.\tgene_status \"KNOWN\"; havana_gene \"OTTHUMG00000000958.1\"; level \"2\"; transcript_status \"KNOWN\"; gene_id \"ENSG00000227232.4\"; transcript_id \"ENSG00000227232.4\"; transcript_name \"WASH7P\"; gene_type \"pseudogene\"; transcript_type \"pseudogene\"; gene_name \"WASH7P\";\n"
     ]
    }
   ],
   "source": [
    "ct = 0\n",
    "for x, feature in enumerate(db.all_features()):\n",
    "    print(feature)\n",
    "    ct+=1\n",
    "    if ct > 20:\n",
    "        break"
   ]
  },
  {
   "cell_type": "code",
   "execution_count": null,
   "metadata": {
    "collapsed": true
   },
   "outputs": [],
   "source": []
  }
 ],
 "metadata": {
  "kernelspec": {
   "display_name": "Python 2",
   "language": "python",
   "name": "python2"
  },
  "language_info": {
   "codemirror_mode": {
    "name": "ipython",
    "version": 2
   },
   "file_extension": ".py",
   "mimetype": "text/x-python",
   "name": "python",
   "nbconvert_exporter": "python",
   "pygments_lexer": "ipython2",
   "version": "2.7.13"
  }
 },
 "nbformat": 4,
 "nbformat_minor": 2
}
