{
 "cells": [
  {
   "cell_type": "code",
   "execution_count": 166,
   "metadata": {
    "collapsed": true
   },
   "outputs": [],
   "source": [
    "%matplotlib inline\n",
    "import matplotlib.pyplot as plt\n",
    "import seaborn as sns\n",
    "import pandas as pd\n",
    "import numpy as np\n",
    "import os\n",
    "import glob\n",
    "import matplotlib.patches as patches\n"
   ]
  },
  {
   "cell_type": "code",
   "execution_count": 5,
   "metadata": {
    "collapsed": true
   },
   "outputs": [],
   "source": [
    "wd = '/home/elvannostrand/scratch/EW_20170824/'\n",
    "\n",
    "parsed_files = glob.glob(os.path.join(wd, '*.parsed'))\n",
    "prefix = 'EW34_SRSF2_n212_diff_'\n",
    "\n",
    "for p in parsed_files:\n",
    "    print(os.path.basename(p)),\n",
    "    ! grep --color -P 'TOTAL\\tL1\\t' $p"
   ]
  },
  {
   "cell_type": "code",
   "execution_count": 192,
   "metadata": {},
   "outputs": [],
   "source": [
    "ip = '/home/elvannostrand/scratch/EW_20170824/EW44_SRSF2_Cre5_ips_IP.combined_w_uniquemap.rmDup.sam.parsed'\n",
    "inp = '/home/elvannostrand/scratch/EW_20170824/EW_diff_input_master.combined_w_uniquemap.rmDup.sam.parsed'\n",
    "# ip_df = pd.read_table(ip, names=range(6), comment='#')\n",
    "# ip_df = ip_df[ip_df[1].str.contains('\\|')==False] # nopipes\n",
    "# ip_df[ip_df[1]=='unique_distintron'].ix[15]"
   ]
  },
  {
   "cell_type": "code",
   "execution_count": 193,
   "metadata": {},
   "outputs": [
    {
     "data": {
      "text/plain": [
       "['/home/elvannostrand/scratch/EW_20170824/EW34_SRSF2_n212_diff_IP.combined_w_uniquemap.rmDup.sam.parsed',\n",
       " '/home/elvannostrand/scratch/EW_20170824/EW35_SRSF2_n212_diff_input.combined_w_uniquemap.rmDup.sam.parsed',\n",
       " '/home/elvannostrand/scratch/EW_20170824/EW36_SRSF2_C15-2_diff_IP.combined_w_uniquemap.rmDup.sam.parsed',\n",
       " '/home/elvannostrand/scratch/EW_20170824/EW37_SRSF2_C15-2_diff_input.combined_w_uniquemap.rmDup.sam.parsed',\n",
       " '/home/elvannostrand/scratch/EW_20170824/EW38_SRSF2_C1-2_diff_IP.combined_w_uniquemap.rmDup.sam.parsed',\n",
       " '/home/elvannostrand/scratch/EW_20170824/EW39_SRSF2_C1-2_diff_input.combined_w_uniquemap.rmDup.sam.parsed',\n",
       " '/home/elvannostrand/scratch/EW_20170824/EW40_SRSF2_P95L_C1-7_diff_IP.combined_w_uniquemap.rmDup.sam.parsed',\n",
       " '/home/elvannostrand/scratch/EW_20170824/EW41_SRSF2_P95L_C1-7_diff_input.combined_w_uniquemap.rmDup.sam.parsed',\n",
       " '/home/elvannostrand/scratch/EW_20170824/EW42_SRSF2_C1-8_diff_IP.combined_w_uniquemap.rmDup.sam.parsed',\n",
       " '/home/elvannostrand/scratch/EW_20170824/EW43_SRSF2_C1-8_diff_input.combined_w_uniquemap.rmDup.sam.parsed',\n",
       " '/home/elvannostrand/scratch/EW_20170824/EW44_SRSF2_Cre5_ips_IP.combined_w_uniquemap.rmDup.sam.parsed',\n",
       " '/home/elvannostrand/scratch/EW_20170824/EW45_SRSF2_Cre5_ips_input.combined_w_uniquemap.rmDup.sam.parsed',\n",
       " '/home/elvannostrand/scratch/EW_20170824/EW46_SRSF2_C15-2_ips_IP.combined_w_uniquemap.rmDup.sam.parsed',\n",
       " '/home/elvannostrand/scratch/EW_20170824/EW47_SRSF2_C15-2_ips_input.combined_w_uniquemap.rmDup.sam.parsed',\n",
       " '/home/elvannostrand/scratch/EW_20170824/EW48_SRSF2_C1-2_ips_IP.combined_w_uniquemap.rmDup.sam.parsed',\n",
       " '/home/elvannostrand/scratch/EW_20170824/EW49_SRSF2_C1-2_ips_input.combined_w_uniquemap.rmDup.sam.parsed',\n",
       " '/home/elvannostrand/scratch/EW_20170824/EW4_SRSF2_C1_ips_input.combined_w_uniquemap.rmDup.sam.parsed',\n",
       " '/home/elvannostrand/scratch/EW_20170824/EW50_SRSF2_C1-7_ips_IP.combined_w_uniquemap.rmDup.sam.parsed',\n",
       " '/home/elvannostrand/scratch/EW_20170824/EW51_SRSF2_C1-7_ips_input.combined_w_uniquemap.rmDup.sam.parsed',\n",
       " '/home/elvannostrand/scratch/EW_20170824/EW5_SRSF2_C1_ips_IP.combined_w_uniquemap.rmDup.sam.parsed',\n",
       " '/home/elvannostrand/scratch/EW_20170824/EW6_SRSF2_C15_ips_input.combined_w_uniquemap.rmDup.sam.parsed',\n",
       " '/home/elvannostrand/scratch/EW_20170824/EW7_SRSF2_C15_ips_IP.combined_w_uniquemap.rmDup.sam.parsed',\n",
       " '/home/elvannostrand/scratch/EW_20170824/EW_diff_input_master.combined_w_uniquemap.rmDup.sam.parsed',\n",
       " '/home/elvannostrand/scratch/EW_20170824/EW_ips_input_master.combined_w_uniquemap.rmDup.sam.parsed']"
      ]
     },
     "execution_count": 193,
     "metadata": {},
     "output_type": "execute_result"
    }
   ],
   "source": [
    "sorted(parsed_files)"
   ]
  },
  {
   "cell_type": "code",
   "execution_count": 194,
   "metadata": {},
   "outputs": [
    {
     "data": {
      "text/html": [
       "<div>\n",
       "<style>\n",
       "    .dataframe thead tr:only-child th {\n",
       "        text-align: right;\n",
       "    }\n",
       "\n",
       "    .dataframe thead th {\n",
       "        text-align: left;\n",
       "    }\n",
       "\n",
       "    .dataframe tbody tr th {\n",
       "        vertical-align: top;\n",
       "    }\n",
       "</style>\n",
       "<table border=\"1\" class=\"dataframe\">\n",
       "  <thead>\n",
       "    <tr style=\"text-align: right;\">\n",
       "      <th></th>\n",
       "      <th>element</th>\n",
       "      <th>file</th>\n",
       "      <th>clip_count</th>\n",
       "      <th>clip_rpr</th>\n",
       "      <th>input_count</th>\n",
       "      <th>input_rpr</th>\n",
       "      <th>fold-enrichment</th>\n",
       "      <th>information content</th>\n",
       "    </tr>\n",
       "  </thead>\n",
       "  <tbody>\n",
       "    <tr>\n",
       "      <th>1420</th>\n",
       "      <td>L1</td>\n",
       "      <td>EW34_SRSF2_n212_diff_IP</td>\n",
       "      <td>21739</td>\n",
       "      <td>0.005011</td>\n",
       "      <td>154303</td>\n",
       "      <td>0.007474</td>\n",
       "      <td>0.670539</td>\n",
       "      <td>-0.00289</td>\n",
       "    </tr>\n",
       "  </tbody>\n",
       "</table>\n",
       "</div>"
      ],
      "text/plain": [
       "     element                     file  clip_count  clip_rpr  input_count  \\\n",
       "1420      L1  EW34_SRSF2_n212_diff_IP       21739  0.005011       154303   \n",
       "\n",
       "      input_rpr  fold-enrichment  information content  \n",
       "1420   0.007474         0.670539             -0.00289  "
      ]
     },
     "execution_count": 194,
     "metadata": {},
     "output_type": "execute_result"
    }
   ],
   "source": [
    "nopipe = '/home/elvannostrand/scratch/EW_20170824/EW_20170825.nopipes.txt'\n",
    "df = pd.read_table(nopipe)\n",
    "df[(df['file']=='EW34_SRSF2_n212_diff_IP') & (df['element']=='L1')]"
   ]
  },
  {
   "cell_type": "code",
   "execution_count": 127,
   "metadata": {},
   "outputs": [
    {
     "data": {
      "text/html": [
       "<div>\n",
       "<style>\n",
       "    .dataframe thead tr:only-child th {\n",
       "        text-align: right;\n",
       "    }\n",
       "\n",
       "    .dataframe thead th {\n",
       "        text-align: left;\n",
       "    }\n",
       "\n",
       "    .dataframe tbody tr th {\n",
       "        vertical-align: top;\n",
       "    }\n",
       "</style>\n",
       "<table border=\"1\" class=\"dataframe\">\n",
       "  <thead>\n",
       "    <tr style=\"text-align: right;\">\n",
       "      <th></th>\n",
       "      <th>element</th>\n",
       "      <th>file</th>\n",
       "      <th>clip_count</th>\n",
       "      <th>clip_rpr</th>\n",
       "      <th>input_count</th>\n",
       "      <th>input_rpr</th>\n",
       "      <th>fold-enrichment</th>\n",
       "      <th>information content</th>\n",
       "    </tr>\n",
       "  </thead>\n",
       "  <tbody>\n",
       "  </tbody>\n",
       "</table>\n",
       "</div>"
      ],
      "text/plain": [
       "Empty DataFrame\n",
       "Columns: [element, file, clip_count, clip_rpr, input_count, input_rpr, fold-enrichment, information content]\n",
       "Index: []"
      ]
     },
     "execution_count": 127,
     "metadata": {},
     "output_type": "execute_result"
    }
   ],
   "source": [
    "df[(df['file']=='EW35_SRSF2_n212_diff_input') & (df['element']=='L1')]"
   ]
  },
  {
   "cell_type": "code",
   "execution_count": 114,
   "metadata": {},
   "outputs": [
    {
     "name": "stdout",
     "output_type": "stream",
     "text": [
      "#READINFO\tAllReads\t6931130\r\n",
      "#READINFO\tUsableReads\t5836117\t0.842015226954335\r\n",
      "#READINFO\tGenomicReads\t351034\t0.0601485542527677\r\n",
      "#READINFO\tRepFamilyReads\t5485083\t0.939851445747232\r\n",
      "TOTAL\tantisense_MIR|antisense_RTE\t1\t1.71346804733353e-07\r\n",
      "TOTAL\tL1|SVA\t2\t3.42693609466705e-07\r\n",
      "TOTAL\tantisense_DNA|antisense_L1\t1\t1.71346804733353e-07\r\n",
      "TOTAL\tantisense_L1|antisense_SVA\t1\t1.71346804733353e-07\r\n",
      "TOTAL\tHSFAU\t1\t1.71346804733353e-07\r\n",
      "TOTAL\tLow_complexity|MIR\t3\t5.14040414200058e-07\r\n"
     ]
    }
   ],
   "source": [
    "! head /home/elvannostrand/scratch/EW_20170824/EW35_SRSF2_n212_diff_input.combined_w_uniquemap.rmDup.sam.parsed"
   ]
  },
  {
   "cell_type": "code",
   "execution_count": 195,
   "metadata": {
    "collapsed": true
   },
   "outputs": [],
   "source": [
    "def read_parsed(fn):\n",
    "    \"\"\"\n",
    "    Reads Eric's parsed file from the repetitive element pipeline.\n",
    "\n",
    "    Parameters\n",
    "    ----------\n",
    "    fn : basestring\n",
    "        the *.parsed file\n",
    "\n",
    "    Returns\n",
    "    -------\n",
    "    total_df : pandas.DataFrame\n",
    "        dataframe of total reads per unique/repetitive element family.\n",
    "    element_df : pandas.DataFrame\n",
    "        dataframe of unique repetitive/unique elements that each unique read\n",
    "        mapped to.\n",
    "    \"\"\"\n",
    "    df = pd.read_table(fn, names=[\n",
    "        'total_or_element','element','read_num',\n",
    "        'clip_rpr','annotation','gene'\n",
    "    ])\n",
    "    total_reads = df[\n",
    "        (df['total_or_element']=='#READINFO') & (df['element']=='AllReads')\n",
    "    ]['read_num'].values[0]\n",
    "    total_genomic_reads = df[\n",
    "        (df['total_or_element']=='#READINFO') & (df['element']=='GenomicReads')\n",
    "    ]['read_num'].values[0]\n",
    "    total_usable_reads = df[\n",
    "        (df['total_or_element']=='#READINFO') & (df['element']=='UsableReads')\n",
    "    ]['read_num'].values[0]\n",
    "    total_repfamily_reads = df[\n",
    "        (df['total_or_element']=='#READINFO') & (df['element']=='RepFamilyReads')\n",
    "    ]['read_num'].values[0]\n",
    "    \n",
    "    total_df = df[df['total_or_element']=='TOTAL'][\n",
    "        ['element','read_num','clip_rpr']\n",
    "    ]\n",
    "    element_df = df[df['total_or_element']=='ELEMENT'][\n",
    "        ['element','read_num','clip_rpr']\n",
    "    ]\n",
    "    return total_df, element_df, total_reads, total_genomic_reads, total_usable_reads, total_repfamily_reads"
   ]
  },
  {
   "cell_type": "code",
   "execution_count": 196,
   "metadata": {
    "collapsed": true
   },
   "outputs": [],
   "source": [
    "def return_l2fc_entropy_from_parsed(ip_parsed, input_parsed, nopipes=True):\n",
    "    total_ip, _, _, _, _, _  = read_parsed(ip_parsed)\n",
    "    total_input, _, _, _, total_input_usable_reads, _ = read_parsed(input_parsed)\n",
    "    if nopipes:\n",
    "        total_ip = total_ip[total_ip['element'].str.contains('\\|')==False]\n",
    "        total_input = total_input[total_input['element'].str.contains('\\|')==False]\n",
    "    total_ip.set_index('element', inplace=True)\n",
    "    total_ip.columns = [\"IP_{}\".format(c) for c in total_ip.columns]\n",
    "    total_input.set_index('element', inplace=True)\n",
    "    total_input.columns = [\"Input_{}\".format(c) for c in total_input.columns]\n",
    "    merged = pd.merge(total_ip, total_input, how='left', left_index=True, right_index=True)\n",
    "    merged['Input_read_num'].fillna(1, inplace=True)  # Pseudocount all missing values\n",
    "    merged['Input_clip_rpr'].fillna(merged['Input_read_num']/(total_input_usable_reads), inplace=True)\n",
    "    merged['Fold_enrichment'] = merged['IP_clip_rpr'].div(merged['Input_clip_rpr'])\n",
    "    merged['Information_content'] = merged['IP_clip_rpr']*np.log2(merged['IP_clip_rpr'].div(merged['Input_clip_rpr']))\n",
    "    \n",
    "    return merged"
   ]
  },
  {
   "cell_type": "code",
   "execution_count": 197,
   "metadata": {},
   "outputs": [],
   "source": [
    "df = return_l2fc_entropy_from_parsed(ip, inp).sort_values(by=['Information_content', 'Fold_enrichment'], ascending=False)"
   ]
  },
  {
   "cell_type": "code",
   "execution_count": 198,
   "metadata": {},
   "outputs": [],
   "source": [
    "def plot(ax):\n",
    "    num_elements = 10\n",
    "    blues = sns.color_palette(\"Blues\", 10)\n",
    "\n",
    "    ax2 = plt.twinx()\n",
    "    read_threshold = 10\n",
    "    width = 0.25\n",
    "    ind = np.arange(num_elements)\n",
    "    dx = df.iloc[:num_elements]\n",
    "    colors = []  # colors for plotting fold enrichment\n",
    "    for read_num in dx['IP_read_num']:\n",
    "        if read_num < read_threshold:\n",
    "            colors.append(blues[1])\n",
    "        else:\n",
    "            colors.append(blues[9])\n",
    "    ax.bar(ind, dx['Fold_enrichment'], width, color=colors)\n",
    "    ax.set_ylabel('Fold enrichment')\n",
    "    ax2.bar(ind+width, dx['Information_content'], width, color='red')\n",
    "    ax2.set_ylabel('Information content')\n",
    "    ax.set_xticks(range(num_elements))\n",
    "\n",
    "    ax.set_title('Repeat mapping')\n",
    "    ticklabels = ax.set_xticklabels(dx.index, rotation='vertical')\n",
    "    less = patches.Patch(color=blues[0], label='less than {} IP reads'.format(read_threshold))\n",
    "    greater = patches.Patch(color=blues[9], label='more than {} IP reads'.format(read_threshold))\n",
    "    leg = ax.legend(\n",
    "        loc=1,\n",
    "        handles=[less, greater],\n",
    "        borderaxespad=0.\n",
    "    )\n",
    "    return ax"
   ]
  },
  {
   "cell_type": "code",
   "execution_count": 199,
   "metadata": {},
   "outputs": [
    {
     "data": {
      "text/plain": [
       "<matplotlib.axes._subplots.AxesSubplot at 0x2b6c895abe90>"
      ]
     },
     "execution_count": 199,
     "metadata": {},
     "output_type": "execute_result"
    },
    {
     "data": {
      "image/png": "[encoded data removed]",
      "text/plain": [
       "<matplotlib.figure.Figure at 0x2b6c6cdaead0>"
      ]
     },
     "metadata": {},
     "output_type": "display_data"
    }
   ],
   "source": [
    "fig, ax = plt.subplots()\n",
    "plot(ax=ax)"
   ]
  },
  {
   "cell_type": "code",
   "execution_count": 92,
   "metadata": {},
   "outputs": [
    {
     "data": {
      "text/plain": [
       "8.567340236667633e-08"
      ]
     },
     "execution_count": 92,
     "metadata": {},
     "output_type": "execute_result"
    }
   ],
   "source": [
    "0.5/(5836117.0)"
   ]
  },
  {
   "cell_type": "code",
   "execution_count": 189,
   "metadata": {},
   "outputs": [
    {
     "data": {
      "text/plain": [
       "['/home/elvannostrand/scratch/EW_20170824/EW34_SRSF2_n212_diff_IP.combined_w_uniquemap.rmDup.sam.parsed',\n",
       " '/home/elvannostrand/scratch/EW_20170824/EW35_SRSF2_n212_diff_input.combined_w_uniquemap.rmDup.sam.parsed',\n",
       " '/home/elvannostrand/scratch/EW_20170824/EW36_SRSF2_C15-2_diff_IP.combined_w_uniquemap.rmDup.sam.parsed',\n",
       " '/home/elvannostrand/scratch/EW_20170824/EW37_SRSF2_C15-2_diff_input.combined_w_uniquemap.rmDup.sam.parsed',\n",
       " '/home/elvannostrand/scratch/EW_20170824/EW38_SRSF2_C1-2_diff_IP.combined_w_uniquemap.rmDup.sam.parsed',\n",
       " '/home/elvannostrand/scratch/EW_20170824/EW39_SRSF2_C1-2_diff_input.combined_w_uniquemap.rmDup.sam.parsed',\n",
       " '/home/elvannostrand/scratch/EW_20170824/EW40_SRSF2_P95L_C1-7_diff_IP.combined_w_uniquemap.rmDup.sam.parsed',\n",
       " '/home/elvannostrand/scratch/EW_20170824/EW41_SRSF2_P95L_C1-7_diff_input.combined_w_uniquemap.rmDup.sam.parsed',\n",
       " '/home/elvannostrand/scratch/EW_20170824/EW42_SRSF2_C1-8_diff_IP.combined_w_uniquemap.rmDup.sam.parsed',\n",
       " '/home/elvannostrand/scratch/EW_20170824/EW43_SRSF2_C1-8_diff_input.combined_w_uniquemap.rmDup.sam.parsed',\n",
       " '/home/elvannostrand/scratch/EW_20170824/EW44_SRSF2_Cre5_ips_IP.combined_w_uniquemap.rmDup.sam.parsed',\n",
       " '/home/elvannostrand/scratch/EW_20170824/EW45_SRSF2_Cre5_ips_input.combined_w_uniquemap.rmDup.sam.parsed',\n",
       " '/home/elvannostrand/scratch/EW_20170824/EW46_SRSF2_C15-2_ips_IP.combined_w_uniquemap.rmDup.sam.parsed',\n",
       " '/home/elvannostrand/scratch/EW_20170824/EW47_SRSF2_C15-2_ips_input.combined_w_uniquemap.rmDup.sam.parsed',\n",
       " '/home/elvannostrand/scratch/EW_20170824/EW48_SRSF2_C1-2_ips_IP.combined_w_uniquemap.rmDup.sam.parsed',\n",
       " '/home/elvannostrand/scratch/EW_20170824/EW49_SRSF2_C1-2_ips_input.combined_w_uniquemap.rmDup.sam.parsed',\n",
       " '/home/elvannostrand/scratch/EW_20170824/EW4_SRSF2_C1_ips_input.combined_w_uniquemap.rmDup.sam.parsed',\n",
       " '/home/elvannostrand/scratch/EW_20170824/EW50_SRSF2_C1-7_ips_IP.combined_w_uniquemap.rmDup.sam.parsed',\n",
       " '/home/elvannostrand/scratch/EW_20170824/EW51_SRSF2_C1-7_ips_input.combined_w_uniquemap.rmDup.sam.parsed',\n",
       " '/home/elvannostrand/scratch/EW_20170824/EW5_SRSF2_C1_ips_IP.combined_w_uniquemap.rmDup.sam.parsed',\n",
       " '/home/elvannostrand/scratch/EW_20170824/EW6_SRSF2_C15_ips_input.combined_w_uniquemap.rmDup.sam.parsed',\n",
       " '/home/elvannostrand/scratch/EW_20170824/EW7_SRSF2_C15_ips_IP.combined_w_uniquemap.rmDup.sam.parsed',\n",
       " '/home/elvannostrand/scratch/EW_20170824/EW_diff_input_master.combined_w_uniquemap.rmDup.sam.parsed',\n",
       " '/home/elvannostrand/scratch/EW_20170824/EW_ips_input_master.combined_w_uniquemap.rmDup.sam.parsed']"
      ]
     },
     "execution_count": 189,
     "metadata": {},
     "output_type": "execute_result"
    }
   ],
   "source": [
    "sorted(parsed_files)"
   ]
  },
  {
   "cell_type": "code",
   "execution_count": null,
   "metadata": {
    "collapsed": true
   },
   "outputs": [],
   "source": []
  }
 ],
 "metadata": {
  "kernelspec": {
   "display_name": "Python 2",
   "language": "python",
   "name": "python2"
  },
  "language_info": {
   "codemirror_mode": {
    "name": "ipython",
    "version": 2
   },
   "file_extension": ".py",
   "mimetype": "text/x-python",
   "name": "python",
   "nbconvert_exporter": "python",
   "pygments_lexer": "ipython2",
   "version": "2.7.13"
  }
 },
 "nbformat": 4,
 "nbformat_minor": 2
}
