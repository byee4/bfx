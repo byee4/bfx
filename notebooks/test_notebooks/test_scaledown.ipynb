{
 "cells": [
  {
   "cell_type": "code",
   "execution_count": 82,
   "metadata": {},
   "outputs": [],
   "source": [
    "import pandas as pd\n",
    "import numpy as np\n",
    "import itertools"
   ]
  },
  {
   "cell_type": "code",
   "execution_count": 85,
   "metadata": {},
   "outputs": [],
   "source": [
    "def multiply_by_x(n, x=100):\n",
    "    \"\"\"\n",
    "    Multiplies n by 100 (or x): (e.g. n = 5, returns [5,5,5...(100), 5]\n",
    "\n",
    "    Parameters\n",
    "    ----------\n",
    "    n : int\n",
    "\n",
    "    Returns\n",
    "    -------\n",
    "    list 100 n's\n",
    "    \"\"\"\n",
    "\n",
    "    return [n] * x\n",
    "\n",
    "\n",
    "def get_scale(wiggle, scale_to=100):\n",
    "    \"\"\"\n",
    "\n",
    "    Parameters\n",
    "    ----------\n",
    "    wiggle : pandas.Series\n",
    "        Series of values of any length\n",
    "    Returns\n",
    "    -------\n",
    "        Series of values that is scale (length is always 100).\n",
    "    \"\"\"\n",
    "\n",
    "    # Need to adjust series such that it has at least 100 parts.\n",
    "    # Required since stepper will iterate from 0.01..1 and x will\n",
    "    # iterate from 0..99.\n",
    "    if len(wiggle) == scale_to:  # no need to do any calculating.\n",
    "        return wiggle\n",
    "    elif len(wiggle) == 1:  # return 100/n of these values\n",
    "        return pd.Series(\n",
    "            list(\n",
    "                itertools.chain.from_iterable(\n",
    "                    [multiply_by_x(w, x=scale_to) for w in wiggle]\n",
    "                )\n",
    "            )\n",
    "        )\n",
    "    elif len(wiggle) < scale_to:  # multiply everything by scaling factor, this guarantees it is divisible by scaling factor\n",
    "        wiggle = pd.Series(\n",
    "            list(\n",
    "                itertools.chain.from_iterable(\n",
    "                    [multiply_by_x(w, x=scale_to) for w in wiggle]\n",
    "                )\n",
    "            )\n",
    "        )\n",
    "\n",
    "    dist = [0] * scale_to  # final series length\n",
    "    x = 0  # iterate through dist list\n",
    "    step = 1/float(scale_to)  # stepper, increments increase by this number\n",
    "    y = 0  # number of values in each stepwise bin\n",
    "\n",
    "    # iterate through each value until it reaches next step, then averages\n",
    "    # (step = 1% -> 2%, or 2% -> 3%, etc. if we are trying to scale to 100%)\n",
    "    for pos, value in enumerate(wiggle):\n",
    "        if (float(pos + 1) / len(wiggle)) < step:  # if we haven't reached the next step, add value to bin (dist[x])\n",
    "            # print(\"{} < {}, dist[{}] = {}\".format((float(pos + 1) / len(wiggle)), step, x, value))\n",
    "            y = y + 1\n",
    "            dist[x] = dist[x] + value\n",
    "        elif (float(pos + 1) / len(wiggle) == 1):  # if we have reached the last step, break loop\n",
    "            y = y + 1\n",
    "            dist[x] = dist[x] + value\n",
    "            break\n",
    "        else:  # if we have passed the next step, divide total value in dist[x] by y (number of values) to get average of bin, then move on (iterate x)\n",
    "            dist[x] = dist[x] / float(y)\n",
    "            step = step + 1/float(scale_to)\n",
    "            x = x + 1\n",
    "            dist[x] = value\n",
    "            y = 1\n",
    "    \n",
    "    try:\n",
    "        dist[x] = dist[x] / float(y)\n",
    "    except ZeroDivisionError as e:\n",
    "        print(\"Got zero series, won't scale.\", e, wiggle)\n",
    "    except IndexError as e:\n",
    "        pass\n",
    "    return pd.Series(dist)"
   ]
  },
  {
   "cell_type": "code",
   "execution_count": 88,
   "metadata": {},
   "outputs": [
    {
     "data": {
      "text/plain": [
       "0      0.0\n",
       "1      1.5\n",
       "2      3.5\n",
       "3      5.5\n",
       "4      7.5\n",
       "5     10.0\n",
       "6     12.0\n",
       "7     13.5\n",
       "8     15.5\n",
       "9     17.5\n",
       "10    19.5\n",
       "11    21.5\n",
       "12    23.5\n",
       "13    25.5\n",
       "14    27.5\n",
       "15    29.5\n",
       "16    31.5\n",
       "17    34.0\n",
       "18    36.5\n",
       "19    38.5\n",
       "20    40.5\n",
       "21    42.5\n",
       "22    44.5\n",
       "23    46.5\n",
       "24    48.5\n",
       "25    50.5\n",
       "26    52.5\n",
       "27    54.5\n",
       "28    56.5\n",
       "29    58.5\n",
       "30    60.5\n",
       "31    62.5\n",
       "32    64.5\n",
       "33    66.5\n",
       "34    68.5\n",
       "35    70.5\n",
       "36    72.5\n",
       "37    74.5\n",
       "38    76.5\n",
       "39    78.5\n",
       "40    80.5\n",
       "41    82.5\n",
       "42    84.5\n",
       "43    86.5\n",
       "44    88.5\n",
       "45    90.5\n",
       "46    92.5\n",
       "47    94.5\n",
       "48    96.5\n",
       "49    98.5\n",
       "dtype: float64"
      ]
     },
     "execution_count": 88,
     "metadata": {},
     "output_type": "execute_result"
    }
   ],
   "source": [
    "wiggle = pd.Series(range(100))\n",
    "get_scale(wiggle, 50)"
   ]
  },
  {
   "cell_type": "code",
   "execution_count": 50,
   "metadata": {},
   "outputs": [
    {
     "data": {
      "text/plain": [
       "3"
      ]
     },
     "execution_count": 50,
     "metadata": {},
     "output_type": "execute_result"
    }
   ],
   "source": [
    "7/2"
   ]
  },
  {
   "cell_type": "code",
   "execution_count": 30,
   "metadata": {},
   "outputs": [
    {
     "data": {
      "text/plain": [
       "48.5"
      ]
     },
     "execution_count": 30,
     "metadata": {},
     "output_type": "execute_result"
    }
   ],
   "source": [
    "97/2.0"
   ]
  },
  {
   "cell_type": "code",
   "execution_count": null,
   "metadata": {},
   "outputs": [],
   "source": []
  }
 ],
 "metadata": {
  "kernelspec": {
   "display_name": "Python 2",
   "language": "python",
   "name": "python2"
  },
  "language_info": {
   "codemirror_mode": {
    "name": "ipython",
    "version": 2
   },
   "file_extension": ".py",
   "mimetype": "text/x-python",
   "name": "python",
   "nbconvert_exporter": "python",
   "pygments_lexer": "ipython2",
   "version": "2.7.14"
  }
 },
 "nbformat": 4,
 "nbformat_minor": 2
}
