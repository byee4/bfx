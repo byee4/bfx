{
 "cells": [
  {
   "cell_type": "markdown",
   "metadata": {},
   "source": [
    "# Basic download from encode script.\n",
    "- Current stats as of 2-28:\n",
    "    - 526 Hg19 bams total (254 HepG2, 272 K562).  \n",
    "    - 474 Hg19 bams (230 HepG2, 244 K562)\n",
    "    - 52 control Hg19 bams (24 HepG2, 28 K562)\n",
    "    - 2 missing possible controls (TIA1 K562 and PPIL4 K562)\n",
    "    "
   ]
  },
  {
   "cell_type": "code",
   "execution_count": 1,
   "metadata": {
    "collapsed": false
   },
   "outputs": [],
   "source": [
    "import pandas as pd\n",
    "import urllib\n",
    "import json\n",
    "import requests\n",
    "import os\n",
    "from collections import defaultdict\n",
    "import qtools\n",
    "from tqdm import tnrange, tqdm_notebook\n",
    "\n",
    "pd.set_option(\"display.max_columns\",500)\n",
    "host = 'https://www.encodeproject.org'\n",
    "experiments = \"https://www.encodeproject.org/experiments/\"\n",
    "date = '3-9-2017'\n",
    "annotated_manifest_hepg2 = '/home/bay001/projects/maps_20160420/permanent_data/RNASeq_final_exp_list_HepG2.csv'\n",
    "annotated_manifest_k562 = '/home/bay001/projects/maps_20160420/permanent_data/RNASeq_final_exp_list_K562.csv'\n",
    "downloaded_dir = '/projects/ps-yeolab3/encode/rnaseq/shrna_knockdown/'\n",
    "aligner = 'TOPHAT'\n",
    "lab = 'brenton-graveley' # or 'encode-processing-pipeline'"
   ]
  },
  {
   "cell_type": "markdown",
   "metadata": {
    "collapsed": false
   },
   "source": [
    "# Do some checks on how many samples we have from the two lists."
   ]
  },
  {
   "cell_type": "code",
   "execution_count": 2,
   "metadata": {
    "collapsed": false
   },
   "outputs": [
    {
     "name": "stdout",
     "output_type": "stream",
     "text": [
      "('number of k562 rnaseq: ', 224)\n",
      "('number of RBPs in K562', 224)\n",
      "('number of Expts in K562', 224)\n",
      "('number of Expts in Hepg2', 228)\n",
      "('number of hepg2 rnaseq: ', 228)\n",
      "('number of RBPs in Hepg2', 228)\n"
     ]
    },
    {
     "data": {
      "text/html": [
       "<div>\n",
       "<table border=\"1\" class=\"dataframe\">\n",
       "  <thead>\n",
       "    <tr style=\"text-align: right;\">\n",
       "      <th></th>\n",
       "      <th>Official_RBP</th>\n",
       "      <th>GENCODE_v19_ID</th>\n",
       "      <th>target</th>\n",
       "      <th>RBP</th>\n",
       "      <th>RNA-Seq on HepG2</th>\n",
       "      <th>EXP</th>\n",
       "    </tr>\n",
       "  </thead>\n",
       "  <tbody>\n",
       "    <tr>\n",
       "      <th>0</th>\n",
       "      <td>AARS</td>\n",
       "      <td>ENSG00000090861.11</td>\n",
       "      <td>AARS-human</td>\n",
       "      <td>AARS</td>\n",
       "      <td>ENCSR547NWD</td>\n",
       "      <td>AARS-BGHLV17-HepG2</td>\n",
       "    </tr>\n",
       "    <tr>\n",
       "      <th>1</th>\n",
       "      <td>AATF</td>\n",
       "      <td>ENSG00000108270.6</td>\n",
       "      <td>AATF-human</td>\n",
       "      <td>AATF</td>\n",
       "      <td>ENCSR424YSV</td>\n",
       "      <td>AATF-BGHLV14-HepG2</td>\n",
       "    </tr>\n",
       "    <tr>\n",
       "      <th>2</th>\n",
       "      <td>ABCF1</td>\n",
       "      <td>ENSG00000204574.8</td>\n",
       "      <td>ABCF1-human</td>\n",
       "      <td>ABCF1</td>\n",
       "      <td>ENCSR610VTA</td>\n",
       "      <td>ABCF1-BGHLV30-HepG2</td>\n",
       "    </tr>\n",
       "    <tr>\n",
       "      <th>3</th>\n",
       "      <td>ACO1</td>\n",
       "      <td>ENSG00000122729.14</td>\n",
       "      <td>ACO1-human</td>\n",
       "      <td>ACO1</td>\n",
       "      <td>ENCSR511SYK</td>\n",
       "      <td>ACO1-BGHLV31-HepG2</td>\n",
       "    </tr>\n",
       "    <tr>\n",
       "      <th>4</th>\n",
       "      <td>ADAR</td>\n",
       "      <td>ENSG00000160710.11</td>\n",
       "      <td>ADAR-human</td>\n",
       "      <td>ADAR</td>\n",
       "      <td>ENCSR104OLN</td>\n",
       "      <td>ADAR-BGHLV20-HepG2</td>\n",
       "    </tr>\n",
       "  </tbody>\n",
       "</table>\n",
       "</div>"
      ],
      "text/plain": [
       "  Official_RBP      GENCODE_v19_ID       target    RBP RNA-Seq on HepG2  \\\n",
       "0         AARS  ENSG00000090861.11   AARS-human   AARS      ENCSR547NWD   \n",
       "1         AATF   ENSG00000108270.6   AATF-human   AATF      ENCSR424YSV   \n",
       "2        ABCF1   ENSG00000204574.8  ABCF1-human  ABCF1      ENCSR610VTA   \n",
       "3         ACO1  ENSG00000122729.14   ACO1-human   ACO1      ENCSR511SYK   \n",
       "4         ADAR  ENSG00000160710.11   ADAR-human   ADAR      ENCSR104OLN   \n",
       "\n",
       "                   EXP  \n",
       "0   AARS-BGHLV17-HepG2  \n",
       "1   AATF-BGHLV14-HepG2  \n",
       "2  ABCF1-BGHLV30-HepG2  \n",
       "3   ACO1-BGHLV31-HepG2  \n",
       "4   ADAR-BGHLV20-HepG2  "
      ]
     },
     "execution_count": 2,
     "metadata": {},
     "output_type": "execute_result"
    }
   ],
   "source": [
    "hepg2_df = pd.read_table(annotated_manifest_hepg2)\n",
    "k562_df = pd.read_table(annotated_manifest_k562)\n",
    "\n",
    "print(\"number of k562 rnaseq: \",k562_df.shape[0])\n",
    "print(\"number of RBPs in K562\",len(set(k562_df['Official_RBP'])))\n",
    "print(\"number of Expts in K562\",len(set(k562_df['RNA-Seq on K562'])))\n",
    "print(\"number of Expts in Hepg2\",len(set(hepg2_df['RNA-Seq on HepG2'])))\n",
    "print(\"number of hepg2 rnaseq: \",hepg2_df.shape[0])\n",
    "print(\"number of RBPs in Hepg2\",len(set(hepg2_df['Official_RBP'])))\n",
    "hepg2_df.head()"
   ]
  },
  {
   "cell_type": "code",
   "execution_count": 3,
   "metadata": {
    "collapsed": false
   },
   "outputs": [],
   "source": [
    "def star_or_tophat(link):\n",
    "    \"\"\"\n",
    "    from the link, reads and returns whether or not STAR or TOPHAT are in the filename.\n",
    "    \"\"\"\n",
    "    # print(\"LINK\",os.path.basename(link))\n",
    "    if os.path.basename(link).find('star') > -1:\n",
    "        return 'STAR'\n",
    "    if os.path.basename(link).find('tophat') > -1:\n",
    "        return 'TOPHAT'\n",
    "    return 'ambiguous'\n",
    "\n",
    "def exists(fpath, current):\n",
    "    \"\"\"\n",
    "    returns whether or not the file (fpath) exists in the directory(current)\n",
    "    \"\"\"\n",
    "    base = os.path.basename(fpath.rstrip())\n",
    "    if not os.path.exists(os.path.join(current,fpath)):\n",
    "        return False\n",
    "    else:\n",
    "        return True\n",
    "    \n",
    "def exists_and_return_fullpath(fpath, current):\n",
    "    \"\"\"\n",
    "    returns whether or not the file (fpath) exists in the directory(current)\n",
    "    \"\"\"\n",
    "    base = os.path.basename(fpath.rstrip())\n",
    "    if not os.path.exists(os.path.join(current,fpath)):\n",
    "        return False\n",
    "    else:\n",
    "        return os.path.join(current,fpath)\n",
    "    \n",
    "def get_bams_from_expt_id(expt_id, assembly='hg19'):\n",
    "    # print(expt_id)\n",
    "    sample_bams = []\n",
    "    control_expts = []\n",
    "    \n",
    "    experiments = \"https://www.encodeproject.org/experiments/\"\n",
    "    url = experiments+expt_id+\"/?format=json\"\n",
    "    response = urllib.urlopen(url)\n",
    "    data = json.loads(response.read())\n",
    "    if 'code' in data.keys():\n",
    "        next\n",
    "    else:\n",
    "        for i in range(0,len(data['files'])):\n",
    "            if (\n",
    "                (host+data['files'][i]['href']).endswith('bam') & \n",
    "                (data['files'][i]['output_type'] == u'alignments') &\n",
    "                (data['files'][i]['lab'][u'name'] == lab) &\n",
    "                (star_or_tophat(data['files'][i]['submitted_file_name']) == aligner)\n",
    "            ):\n",
    "                if(data['files'][i]['assembly'] == assembly):\n",
    "                    sample_bams.append(\n",
    "                        {\n",
    "                            os.path.basename(data['files'][i]['href']):data['files'][i]['md5sum']\n",
    "                        }\n",
    "                    )\n",
    "        try:\n",
    "            control_expts.append(data['possible_controls'][0]['accession'])\n",
    "        except IndexError:\n",
    "            pass\n",
    "            # print(\"this is a control\")\n",
    "    if(len(control_expts) > 1):\n",
    "        print(\"Warning, this expt {} has more than 1 associated control expt\".format(expt_id))\n",
    "    return data['target']['label'], sample_bams, control_expts\n",
    "\n",
    "def make_expt_dataframe_from_expt_list(expt_list):\n",
    "    x = tnrange(len(expt_list))\n",
    "    samples = defaultdict(dict)\n",
    "    for h in expt_list:\n",
    "        x.update(1)\n",
    "        sname, s, control_expt = get_bams_from_expt_id(h) # gets the sample name, sample, and control expt id\n",
    "        cname, c, _ = get_bams_from_expt_id(control_expt[0]) # gets the control name, control\n",
    "        for i in range(0,len(s)):\n",
    "            samples_key = 'expt_rep{}'.format(i+1)\n",
    "            samples_md5sum_key = 'expt_rep{}_md5sum'.format(i+1)\n",
    "            control_key = 'control_rep{}'.format(i+1)\n",
    "            controls_md5sum_key = 'control_rep{}_md5sum'.format(i+1)\n",
    "            name_key = 'name'\n",
    "            samples[h][name_key] = sname\n",
    "            samples[h][samples_key] = s[i].keys()[0]\n",
    "            samples[h][control_key] = c[i].keys()[0]\n",
    "            samples[h][samples_md5sum_key] = s[i].values()[0]\n",
    "            samples[h][controls_md5sum_key] = c[i].values()[0]\n",
    "    bams = pd.DataFrame(samples).T\n",
    "    return bams"
   ]
  },
  {
   "cell_type": "markdown",
   "metadata": {
    "collapsed": false
   },
   "source": [
    "# Make a list of expt IDs "
   ]
  },
  {
   "cell_type": "code",
   "execution_count": 4,
   "metadata": {
    "collapsed": false
   },
   "outputs": [],
   "source": [
    "hepg2_expts = list(set(hepg2_df['RNA-Seq on HepG2']))\n",
    "k562_expts = list(set(k562_df['RNA-Seq on K562']))"
   ]
  },
  {
   "cell_type": "code",
   "execution_count": 5,
   "metadata": {
    "collapsed": false
   },
   "outputs": [
    {
     "name": "stdout",
     "output_type": "stream",
     "text": [
      "\n"
     ]
    }
   ],
   "source": [
    "hepg2_bams = make_expt_dataframe_from_expt_list(hepg2_expts)\n",
    "k562_bams = make_expt_dataframe_from_expt_list(k562_expts)"
   ]
  },
  {
   "cell_type": "code",
   "execution_count": 6,
   "metadata": {
    "collapsed": false
   },
   "outputs": [],
   "source": [
    "hepg2_bams.to_csv(\n",
    "    '/projects/ps-yeolab3/encode/hepg2_{}_{}_bams_for_integrated_analysis.txt'.format(lab, aligner),sep='\\t'\n",
    ")\n",
    "k562_bams.to_csv(\n",
    "    '/projects/ps-yeolab3/encode/k562_{}_{}_bams_for_integrated_analysis.txt'.format(lab, aligner),sep='\\t'\n",
    ")"
   ]
  },
  {
   "cell_type": "markdown",
   "metadata": {
    "collapsed": true
   },
   "source": [
    "# Check md5sum and file existance.\n",
    "- If I've done this once, I don't need to do it again. "
   ]
  },
  {
   "cell_type": "code",
   "execution_count": 15,
   "metadata": {
    "collapsed": false
   },
   "outputs": [],
   "source": [
    "def already_checked_md5sum(filepath, md5sum_checked_file):\n",
    "    \"\"\"\n",
    "    given filepaths list, check the md5sum_checked_file to see if any file has been checked.\n",
    "    Parameters\n",
    "    ----------\n",
    "    filepath : list\n",
    "        list of files\n",
    "    md5sum_checked_file : file\n",
    "        dataframe of files\n",
    "        \n",
    "    returns list of files that haven't been checked.\n",
    "    \"\"\"\n",
    "    exists_in_file = ! grep $filepath $md5sum_checked_file\n",
    "    if len(exists_in_file) > 0:\n",
    "        if \"no such file\" not in exists_in_file[0]:\n",
    "            print(exists_in_file)\n",
    "            return True\n",
    "        else:\n",
    "            return False\n",
    "    else:\n",
    "        return False\n",
    "\n",
    "def is_md5sum_equal(row, rep, downloaded_dir):\n",
    "    \"\"\"\n",
    "    Takes a row in a bams dataframe and the rep prefix and determines\n",
    "    whether or not the md5sum is equal to what has been downloaded.\n",
    "    \"\"\"\n",
    "    website_md5sum = row['{}_md5sum'.format(rep)]\n",
    "    filepath = exists_and_return_fullpath(row[rep],downloaded_dir)\n",
    "    calculated_md5sum = ! md5sum $filepath\n",
    "    if website_md5sum != calculated_md5sum[0].split(' ')[0]:\n",
    "        print('TROUBLE: {}, {}, {}'.format(filepath, website_md5sum, calculated_md5sum))\n",
    "        return False\n",
    "    else:\n",
    "        return True\n",
    "    \n",
    "def check_all_bams_for_existance(bams, downloaded_dir, to_download_file='download.sh'):\n",
    "    \"\"\"\n",
    "    Writes and prints the files that don't exist to a file\n",
    "    \n",
    "    Parameters\n",
    "    ----------\n",
    "    bams : pandas.DataFrame\n",
    "        dataframe of bams with columns defined in cols.\n",
    "    to_download_file : string\n",
    "        file to download (download.sh)\n",
    "        \n",
    "    \"\"\"\n",
    "    encodeproject_prefix = 'https://www.encodeproject.org/files/'\n",
    "    o = open(to_download_file,'w')\n",
    "    cols = ['expt_rep1','expt_rep2','control_rep1','control_rep2']\n",
    "    for unused,row in bams.iterrows():\n",
    "        for c in cols:\n",
    "            if not(exists(row[c],downloaded_dir)):\n",
    "                print(row[c], \" doesn't exist.\")\n",
    "                o.write(\n",
    "                    encodeproject_prefix + \"{}/@@download/{}\\n\".format(\n",
    "                        os.path.splitext(row[c])[0],\n",
    "                        row[c]\n",
    "                    )\n",
    "                )\n",
    "    o.close()\n",
    "    \n",
    "def check_md5sums(bams, downloaded_dir, md5sums_checked_file):\n",
    "    \"\"\"\n",
    "    Checks the md5sums of the bams file\n",
    "    \"\"\"\n",
    "    cols = ['expt_rep1','expt_rep2','control_rep1','control_rep2']\n",
    "    x = tnrange(bams.shape[0])\n",
    "    \n",
    "    for _, row in bams.iterrows():\n",
    "        x.update(1)\n",
    "        for t in tnrange(len(cols), leave=False):\n",
    "            c = cols[t]\n",
    "            filepath = exists_and_return_fullpath(row[c], downloaded_dir)\n",
    "            print(filepath)\n",
    "            if filepath:\n",
    "                if not already_checked_md5sum(\n",
    "                    os.path.join(downloaded_dir,row[c]),\n",
    "                    md5sums_checked_file\n",
    "                ):\n",
    "                    if is_md5sum_equal(row, c, downloaded_dir):\n",
    "                        with open(md5sums_checked_file,'a') as o:\n",
    "                            o.write(os.path.join(downloaded_dir,row[c]) + '\\n')\n",
    "                    else:\n",
    "                        print(row[c], \"needs to be downloaded again.\")\n"
   ]
  },
  {
   "cell_type": "markdown",
   "metadata": {},
   "source": [
    "# Check for existence of file, otherwise create a list to download."
   ]
  },
  {
   "cell_type": "code",
   "execution_count": 12,
   "metadata": {
    "collapsed": false
   },
   "outputs": [],
   "source": [
    "# use: xargs -n 1 curl -O -L < FILE to download these...\n",
    "def check_all_bams():\n",
    "    download_hepg2_file = '/projects/ps-yeolab3/encode/rnaseq/shrna_knockdown/to_download_{}_hepg2_{}_{}'.format(aligner,lab,date)\n",
    "    download_k562_file = '/projects/ps-yeolab3/encode/rnaseq/shrna_knockdown/to_download_{}_k562_{}_{}'.format(aligner,lab,date)\n",
    "    check_all_bams_for_existance(hepg2_bams, downloaded_dir, download_hepg2_file)\n",
    "    check_all_bams_for_existance(k562_bams, downloaded_dir, download_k562_file)"
   ]
  },
  {
   "cell_type": "code",
   "execution_count": 13,
   "metadata": {
    "collapsed": false
   },
   "outputs": [],
   "source": [
    "check_all_bams()"
   ]
  },
  {
   "cell_type": "markdown",
   "metadata": {},
   "source": [
    "# Check md5sum of the ones we need to download (or just all of them)"
   ]
  },
  {
   "cell_type": "code",
   "execution_count": 16,
   "metadata": {
    "collapsed": false
   },
   "outputs": [],
   "source": [
    "# periods indicate row progress, commas indicate rep progress\n",
    "bams = hepg2_bams\n",
    "md5sums_checked_file = '/projects/ps-yeolab3/encode/rnaseq/shrna_knockdown/md5sums.graveley-tophat.checked'\n",
    "check_md5sums(bams, downloaded_dir, md5sums_checked_file)"
   ]
  },
  {
   "cell_type": "code",
   "execution_count": null,
   "metadata": {
    "collapsed": false
   },
   "outputs": [],
   "source": []
  },
  {
   "cell_type": "markdown",
   "metadata": {
    "collapsed": false
   },
   "source": [
    "# Run FeatureCounts"
   ]
  },
  {
   "cell_type": "code",
   "execution_count": null,
   "metadata": {
    "collapsed": false
   },
   "outputs": [],
   "source": [
    "all_k562_bams = set(\n",
    "    k562_bams['control_rep1'].append(\n",
    "        k562_bams['control_rep2'].append(\n",
    "            k562_bams['expt_rep1'].append(\n",
    "                k562_bams['expt_rep2']\n",
    "            )\n",
    "        )\n",
    "    )\n",
    ")\n",
    "all_hepg2_bams = set(\n",
    "    hepg2_bams['control_rep1'].append(\n",
    "        hepg2_bams['control_rep2'].append(\n",
    "            hepg2_bams['expt_rep1'].append(\n",
    "                hepg2_bams['expt_rep2']\n",
    "            )\n",
    "        )\n",
    "    )\n",
    ")\n",
    "print(len(all_k562_bams))\n",
    "print(len(all_hepg2_bams))"
   ]
  },
  {
   "cell_type": "code",
   "execution_count": null,
   "metadata": {
    "collapsed": false
   },
   "outputs": [],
   "source": [
    "i = 0\n",
    "# jobs = ['_k562','_hepg2']\n",
    "jobs = ['_hepg2']\n",
    "for bams in [hepg2_bams]:\n",
    "    cmds = []\n",
    "    for unused,row in bams.iterrows():\n",
    "        p = '/home/bay001/software/subread-1.5.1-Linux-x86_64/bin/featureCounts'\n",
    "        # s = '/projects/ps-yeolab3/bay001/encode_temp/'\n",
    "        s = '/home/bay001/projects/encode/analysis/featureCounts/individual_expts/'\n",
    "        # o = '/projects/ps-yeolab3/bay001/encode_temp/{}.counts.txt'.format(row['name'])\n",
    "        o = '/home/bay001/projects/encode/analysis/featureCounts/individual_expts/{}{}.counts.txt'.format(row['name'],jobs[i])\n",
    "        a = '/projects/ps-yeolab/genomes/hg19/gencode_v19/gencode.v19.annotation.gtf'\n",
    "        ctrl_rep1 = exists_and_return_fullpath(row['control_rep1'],downloaded_dir)\n",
    "        ctrl_rep2 = exists_and_return_fullpath(row['control_rep2'],downloaded_dir)\n",
    "        expt_rep1 = exists_and_return_fullpath(row['expt_rep1'],downloaded_dir)\n",
    "        expt_rep2 = exists_and_return_fullpath(row['expt_rep2'],downloaded_dir)\n",
    "        cmd = '{} -s 2 --tmpDir {} -p -a {} -o {} {} {} {} {}'.format(\n",
    "            p, s, a, o, ctrl_rep1, ctrl_rep2, expt_rep1, expt_rep2\n",
    "        )\n",
    "        cmds.append(cmd)\n",
    "    qtools.Submitter(\n",
    "        cmds, jobs[i], array=True, nodes=1, ppn=1, walltime='4:00:00', submit=True, queue='home-yeo', sh=s+'{}.sh'.format(jobs[i])\n",
    "    )\n",
    "    i = i + 1\n",
    "cmds"
   ]
  },
  {
   "cell_type": "code",
   "execution_count": null,
   "metadata": {
    "collapsed": false
   },
   "outputs": [],
   "source": [
    "annotation = '/projects/ps-yeolab/genomes/hg19/gencode_v19/gencode.v19.annotation.gtf'\n",
    "k562_outfile = '/home/bay001/projects/encode/permanent_data/_k562_hg19_featurecounts_intersect_CLIP_RNASEQ.txt'\n",
    "hepg2_outfile = '/home/bay001/projects/encode/permanent_data/_hepg2_hg19_featurecounts_intersect_CLIP_RNASEQ.txt'\n",
    "\n",
    "hepg2_cmd = \"featureCounts -T 8 -a {} -s 2 -p -o {}\".format(annotation, hepg2_outfile)\n",
    "for bam in all_hepg2_bams:\n",
    "    hepg2_cmd = hepg2_cmd + '{} '.format(os.path.join(exists_and_return_fullpath(bam, downloaded_dir)))\n",
    "\"\"\"qtools.Submitter(\n",
    "    hepg2_cmd, 'k562_featureCounts', array=False, nodes=1, ppn=8, walltime='48:00:00', submit=True, queue='home-scrm'\n",
    ")\"\"\"\n",
    "\n",
    "k562_cmd = \"featureCounts -T 8 -a {} -s 2 -p -o {}\".format(annotation, k562_outfile)\n",
    "for bam in all_k562_bams:\n",
    "    k562_cmd = k562_cmd + '{} '.format(os.path.join(exists_and_return_fullpath(bam, downloaded_dir)))\n",
    "\"\"\"qtools.Submitter(\n",
    "    cmd, 'hepg2_featureCounts', array=False, nodes=1, ppn=8, walltime='48:00:00', submit=True, queue='home-scrm'\n",
    ")\"\"\""
   ]
  },
  {
   "cell_type": "code",
   "execution_count": null,
   "metadata": {
    "collapsed": false
   },
   "outputs": [],
   "source": [
    "# see what's going on...\n",
    "jobid = 7893144\n",
    "for i in range(0,86):\n",
    "    ! qpeek $jobid[$i]"
   ]
  },
  {
   "cell_type": "code",
   "execution_count": null,
   "metadata": {
    "collapsed": true
   },
   "outputs": [],
   "source": []
  }
 ],
 "metadata": {
  "kernelspec": {
   "display_name": "Python 2",
   "language": "python",
   "name": "python2"
  },
  "language_info": {
   "codemirror_mode": {
    "name": "ipython",
    "version": 2
   },
   "file_extension": ".py",
   "mimetype": "text/x-python",
   "name": "python",
   "nbconvert_exporter": "python",
   "pygments_lexer": "ipython2",
   "version": "2.7.12"
  },
  "widgets": {
   "state": {
    "abd5dd88edb24295aaf3a15a6f527131": {
     "views": [
      {
       "cell_index": 7
      }
     ]
    },
    "ec6364d8d12743949c31de918cb648b8": {
     "views": [
      {
       "cell_index": 15
      }
     ]
    },
    "f4d5c9c3417b4e909a9cce062b845341": {
     "views": [
      {
       "cell_index": 7
      }
     ]
    }
   },
   "version": "1.2.0"
  }
 },
 "nbformat": 4,
 "nbformat_minor": 1
}
