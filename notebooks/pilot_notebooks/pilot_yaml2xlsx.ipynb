{
 "cells": [
  {
   "cell_type": "code",
   "execution_count": 1,
   "metadata": {
    "collapsed": true
   },
   "outputs": [],
   "source": [
    "from openpyxl import load_workbook"
   ]
  },
  {
   "cell_type": "code",
   "execution_count": 2,
   "metadata": {
    "collapsed": true
   },
   "outputs": [],
   "source": [
    "import yaml\n",
    "import re"
   ]
  },
  {
   "cell_type": "code",
   "execution_count": 3,
   "metadata": {
    "collapsed": true
   },
   "outputs": [],
   "source": [
    "example_yaml = '/home/bay001/projects/codebase/cellranger_cwl/development/jobs/cellranger_workflow.yaml'\n",
    "example_workbook = '/home/bay001/projects/codebase/cellranger_cwl/testdata/template_sequencing_runs_manifest_20170502.xlsx'"
   ]
  },
  {
   "cell_type": "code",
   "execution_count": 4,
   "metadata": {
    "collapsed": true
   },
   "outputs": [],
   "source": [
    "f = yaml.load(file(example_yaml, 'r'))"
   ]
  },
  {
   "cell_type": "code",
   "execution_count": 5,
   "metadata": {
    "collapsed": true
   },
   "outputs": [],
   "source": [
    "wb = load_workbook(\n",
    "    filename = example_workbook\n",
    ")"
   ]
  },
  {
   "cell_type": "code",
   "execution_count": 6,
   "metadata": {
    "collapsed": true
   },
   "outputs": [],
   "source": [
    "sheet = wb['Sample Information']"
   ]
  },
  {
   "cell_type": "code",
   "execution_count": 7,
   "metadata": {},
   "outputs": [
    {
     "name": "stdout",
     "output_type": "stream",
     "text": [
      "None\n"
     ]
    }
   ],
   "source": [
    "print(sheet['A24'].value)"
   ]
  },
  {
   "cell_type": "code",
   "execution_count": 8,
   "metadata": {
    "collapsed": true
   },
   "outputs": [],
   "source": [
    "igm_expt_mapper = {\n",
    "    'Contact Name':'investigator',\n",
    "    'Date of Sample Submission':'study_date',\n",
    "    'PI Name':'pi_name',\n",
    "    'Contact Email':'contact_email',\n",
    "    'Institute/Company Name':'institute',\n",
    "    'Index number or PO':'po_number',\n",
    "    'Member of MCC':'member_of_MCC',\n",
    "    'Member of DRC':'member_of_DRC',\n",
    "    'Number of cycles':'number_of_cycles',\n",
    "    'Type of Run':'type_of_run',\n",
    "    'PI Email':'pi_email'\n",
    "}\n",
    "igm_sample_mapper = {\n",
    "    'Sample Name':'sample_names',\n",
    "}\n",
    "igm_sample_metadata_mapper = {\n",
    "    'quantification':'Quantification Method',\n",
    "    'library_prep':'Library Prep Method',\n",
    "    'uid':'Sample Code',\n",
    "    'size':'Library Size (bp)',\n",
    "    'volume':'Volume (ml)',\n",
    "    'concentration':'Conc. (nM)'\n",
    "}"
   ]
  },
  {
   "cell_type": "code",
   "execution_count": 9,
   "metadata": {
    "collapsed": true
   },
   "outputs": [],
   "source": [
    "def get_max_lines(sheet):\n",
    "    \"\"\"\n",
    "    returns the max dimension (either row or col) of a sheet.\n",
    "    \"\"\"\n",
    "    dim = sheet.calculate_dimension()\n",
    "    return max(\n",
    "        [int(i) for i in re.findall('[\\d]+',dim)]\n",
    "    )"
   ]
  },
  {
   "cell_type": "code",
   "execution_count": 10,
   "metadata": {},
   "outputs": [
    {
     "data": {
      "text/plain": [
       "<Worksheet \"Sample Information\">"
      ]
     },
     "execution_count": 10,
     "metadata": {},
     "output_type": "execute_result"
    }
   ],
   "source": [
    "sheet"
   ]
  },
  {
   "cell_type": "code",
   "execution_count": 11,
   "metadata": {
    "collapsed": true
   },
   "outputs": [],
   "source": [
    "def get_tofill(sheet, label, row_start=1, col_start=1, horizontal=True, offset=1):\n",
    "    \"\"\"\n",
    "    returns the cell that needs to be filled given a field label.\n",
    "    params:\n",
    "    \n",
    "    sheet: openpyxl.Worksheet\n",
    "    label: Worksheet cell value\n",
    "    row_start: int\n",
    "        topmost value in workbook (1 = 1)\n",
    "    col_start: int\n",
    "        leftmost value in workbook (A = 1)\n",
    "    horizontal: \n",
    "        if True, return position of label + offset (to the right, horizontally)\n",
    "        if False, return position of label + offset (downward, vertically)\n",
    "    offset: int\n",
    "    \"\"\"\n",
    "    for i in range(row_start, get_max_lines(sheet)+1):\n",
    "        for j in range(col_start, get_max_lines(sheet)+1):\n",
    "            field = sheet.cell(row=i, column=j).value\n",
    "            if label == field:\n",
    "                if horizontal:\n",
    "                    return i, (j+offset)\n",
    "                else:\n",
    "                    return (i+offset), j\n",
    "    print(\"found nothing\")"
   ]
  },
  {
   "cell_type": "code",
   "execution_count": 12,
   "metadata": {
    "collapsed": true,
    "scrolled": true
   },
   "outputs": [],
   "source": [
    "def fill_expt_details(sheet, igm_expt_mapper):\n",
    "    for igm_label, yml_label in igm_expt_mapper.iteritems():\n",
    "        # print(field, value)\n",
    "        if yml_label in f.keys():\n",
    "            print(igm_label)\n",
    "            row, col = get_tofill(sheet, igm_label)\n",
    "            sheet.cell(row=row, column=col).value = f[yml_label]\n",
    "            \n",
    "def fill_sample_details(sheet, igm_sample_mapper, igm_sample_metadata_mapper):\n",
    "    \n",
    "    for igm_label, yml_label in igm_sample_mapper.iteritems():\n",
    "        if yml_label in f.keys():\n",
    "            offset = 0\n",
    "            for sample in f[yml_label]:\n",
    "                \n",
    "                for sample_id, sample_metadata in sample.iteritems():\n",
    "                    offset += 1\n",
    "                    row, col = get_tofill(sheet, igm_label, offset=offset, horizontal=False)\n",
    "                    sheet.cell(row=row, column=col).value = sample_id\n",
    "                    for metakey, metadata in sample_metadata.iteritems():\n",
    "                        label_row, label_col = get_tofill(sheet, igm_sample_metadata_mapper[metakey], offset=0, horizontal=True)\n",
    "                        row, col = get_tofill(sheet, igm_sample_metadata_mapper[metakey], offset=offset, horizontal=False)\n",
    "                        sheet.cell(row=row, column=label_col).value = metadata"
   ]
  },
  {
   "cell_type": "code",
   "execution_count": 13,
   "metadata": {},
   "outputs": [
    {
     "name": "stdout",
     "output_type": "stream",
     "text": [
      "Date of Sample Submission\n",
      "PI Email\n",
      "Index number or PO\n",
      "PI Name\n",
      "Member of MCC\n",
      "Contact Email\n",
      "Type of Run\n",
      "Contact Name\n",
      "Institute/Company Name\n",
      "Member of DRC\n",
      "Number of cycles\n"
     ]
    }
   ],
   "source": [
    "fill_expt_details(sheet, igm_expt_mapper)\n",
    "fill_sample_details(sheet, igm_sample_mapper, igm_sample_metadata_mapper)\n",
    "wb.save('/home/bay001/projects/codebase/cellranger_cwl/testdata/filled_sequencing_runs_manifest_20170502.xlsx')"
   ]
  },
  {
   "cell_type": "code",
   "execution_count": null,
   "metadata": {
    "collapsed": true
   },
   "outputs": [],
   "source": []
  },
  {
   "cell_type": "code",
   "execution_count": null,
   "metadata": {
    "collapsed": true
   },
   "outputs": [],
   "source": []
  },
  {
   "cell_type": "code",
   "execution_count": null,
   "metadata": {
    "collapsed": true
   },
   "outputs": [],
   "source": []
  }
 ],
 "metadata": {
  "kernelspec": {
   "display_name": "Python 2",
   "language": "python",
   "name": "python2"
  },
  "language_info": {
   "codemirror_mode": {
    "name": "ipython",
    "version": 2
   },
   "file_extension": ".py",
   "mimetype": "text/x-python",
   "name": "python",
   "nbconvert_exporter": "python",
   "pygments_lexer": "ipython2",
   "version": "2.7.13"
  }
 },
 "nbformat": 4,
 "nbformat_minor": 2
}
