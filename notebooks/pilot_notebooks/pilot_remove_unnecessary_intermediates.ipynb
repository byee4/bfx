{
 "cells": [
  {
   "cell_type": "code",
   "execution_count": 1,
   "metadata": {},
   "outputs": [],
   "source": [
    "import argparse\n",
    "import os\n",
    "import glob\n",
    "import shutil\n",
    "import errno\n",
    "import subprocess\n",
    "from qtools import Submitter\n",
    "import tarfile\n",
    "import logging\n",
    "import time\n",
    "import sys\n",
    "import re"
   ]
  },
  {
   "cell_type": "code",
   "execution_count": 225,
   "metadata": {},
   "outputs": [],
   "source": [
    "def remove(to_remove, logger):\n",
    "    \"\"\"\n",
    "    Removes a directory or file using shutil or os.\n",
    "\n",
    "    :param to_remove: basestring\n",
    "        the directory/file to remove\n",
    "    :return:\n",
    "    \"\"\"\n",
    "    try:\n",
    "        #logger.info(\"Removing {}\".format(to_remove))\n",
    "        shutil.rmtree(to_remove)\n",
    "    except OSError:\n",
    "        #logger.info(\"Removing {}\".format(to_remove))\n",
    "        os.remove(to_remove)\n",
    "\n",
    "\n",
    "def remove_unnecessary_intermediates(res, pipeline, logger):\n",
    "    \"\"\"\n",
    "    Remove intermediate files as this dramatically reduces upload of res\n",
    "    folder.\n",
    "    \n",
    "    ** Note, this works with removing toplevel files in res (dropseq) \n",
    "    or directories in cellranger. Not guaranteed to remove 2nd+ level files **\n",
    "\n",
    "    :param res: basestring\n",
    "        results directory\n",
    "    :param logger: logging.Logger\n",
    "        Logger object\n",
    "    :param pipeline: basestring\n",
    "        Because different pipelines produce differently formatted results,\n",
    "        this param provides a switch among files to remove for each pipeline.\n",
    "    :return:\n",
    "    \"\"\"\n",
    "    patterns_to_remove = get_patterns_to_remove(pipeline)\n",
    "    counter = 0\n",
    "    for pattern in patterns_to_remove:\n",
    "        for root, directories, filenames in os.walk(res): #os.path.join(res, 'results2')):\n",
    "            if counter > 500:\n",
    "                break\n",
    "            regex = '[\\w\\d]+' + pattern\n",
    "            match = re.compile(regex).match\n",
    "            # removes files at top level?\n",
    "            for f in filenames:\n",
    "                if match(f):\n",
    "                    file_to_remove = os.path.join(res, f)\n",
    "                    remove(file_to_remove, logger)\n",
    "            # recurse into directories and remove.\n",
    "            for d in directories:\n",
    "                if len(re.findall(pattern, d)) > 0:\n",
    "                    directory_to_remove = os.path.join(root, d)\n",
    "                    try:\n",
    "                        assert os.path.exists(directory_to_remove)\n",
    "                    except AssertionError:\n",
    "                        pass\n",
    "                    remove(directory_to_remove, logger)\n",
    "                    \n",
    "def get_patterns_to_remove(pipeline):\n",
    "    if pipeline == 'dropseq-runner' or pipeline == 'dropseq-1.13-runner':\n",
    "        patterns_to_remove = [\n",
    "            \".sam$\",\n",
    "            \".tagged([\\d]+-[\\d]+).bam$\",\n",
    "            '.tagged([\\d]+-[\\d]+).tagged([\\d]+-[\\d]+).bam$',\n",
    "            '.tagged([\\d]+-[\\d]+).tagged([\\d]+-[\\d]+).filtered.trimmed_smart.bam$',\n",
    "            '.tagged([\\d]+-[\\d]+).tagged([\\d]+-[\\d]+).filtered.trimmed_smart.polyA_filtered.bam$',\n",
    "            '.tagged([\\d]+-[\\d]+).tagged([\\d]+-[\\d]+).filtered.trimmed_smart.polyA_filtered.STARAligned.out.bam$',\n",
    "            '.tagged([\\d]+-[\\d]+).tagged([\\d]+-[\\d]+).filtered.trimmed_smart.polyA_filtered.STARUnmapped.out.mate1$',\n",
    "            '.tagged([\\d]+-[\\d]+).tagged([\\d]+-[\\d]+).filtered.trimmed_smart.polyA_filtered.STARAligned.out.namesorted.bam$',\n",
    "            '.tagged([\\d]+-[\\d]+).tagged([\\d]+-[\\d]+).filtered.trimmed_smart.polyA_filtered.STARAligned.out.namesorted.merged.bam$',\n",
    "            '.tagged([\\d]+-[\\d]+).tagged([\\d]+-[\\d]+).filtered.trimmed_smart.polyA_filtered.STARAligned.out.namesorted.merged.TaggedGeneExon.bam$',\n",
    "        ]\n",
    "    elif pipeline == 'cellranger-runner' or \\\n",
    "            pipeline == 'cellranger-2.1.1-runner' or \\\n",
    "            pipeline == 'cellranger-3.0.1-runner' or \\\n",
    "            pipeline == 'cellranger-3.0.2-runner':\n",
    "        patterns_to_remove = [\n",
    "            \"SC_RNA_COUNTER_CS$\",\n",
    "            \"SC_RNA_AGGREGATOR_CS$\",\n",
    "        ]  # TODO: cellranger\n",
    "    else:\n",
    "        patterns_to_remove = []\n",
    "    \n",
    "    return patterns_to_remove\n",
    "                \n"
   ]
  },
  {
   "cell_type": "code",
   "execution_count": 208,
   "metadata": {},
   "outputs": [],
   "source": [
    "work_dir = '/home/bay001/projects/codebase/NCRCRG/home/bay001/results_dir/cached/MIT_vs_IH_pipeline_test_54e6c4247f6072336ee4afccbe0a057fa1c3c320/results2/'"
   ]
  },
  {
   "cell_type": "code",
   "execution_count": 203,
   "metadata": {},
   "outputs": [
    {
     "name": "stdout",
     "output_type": "stream",
     "text": [
      "/home/bay001/projects/codebase/NCRCRG/home/bay001/results_dir/cached/MIT_vs_IH_pipeline_test_54e6c4247f6072336ee4afccbe0a057fa1c3c320/results/MIT_vs_IH_MIT_SSS.tagged1-12.tagged13-20.filtered.trimmed_smart.polyA_filtered.STARAligned.out.bam\n",
      "/home/bay001/projects/codebase/NCRCRG/home/bay001/results_dir/cached/MIT_vs_IH_pipeline_test_54e6c4247f6072336ee4afccbe0a057fa1c3c320/results/MIT_vs_IH_IH_Ori.tagged1-12.tagged13-20.filtered.trimmed_smart.polyA_filtered.STARAligned.out.bam\n",
      "/home/bay001/projects/codebase/NCRCRG/home/bay001/results_dir/cached/MIT_vs_IH_pipeline_test_54e6c4247f6072336ee4afccbe0a057fa1c3c320/results/MIT_vs_IH_MIT_Ori.tagged1-12.tagged13-20.filtered.trimmed_smart.polyA_filtered.STARAligned.out.bam\n",
      "/home/bay001/projects/codebase/NCRCRG/home/bay001/results_dir/cached/MIT_vs_IH_pipeline_test_54e6c4247f6072336ee4afccbe0a057fa1c3c320/results/MIT_vs_IH_IH_SSS.tagged1-12.tagged13-20.filtered.trimmed_smart.polyA_filtered.STARAligned.out.bam\n",
      "/home/bay001/projects/codebase/NCRCRG/home/bay001/results_dir/cached/MIT_vs_IH_pipeline_test_54e6c4247f6072336ee4afccbe0a057fa1c3c320/results/MIT_vs_IH_MIT_SSS.tagged1-12.tagged13-20.filtered.trimmed_smart.polyA_filtered.STARUnmapped.out.mate1\n",
      "/home/bay001/projects/codebase/NCRCRG/home/bay001/results_dir/cached/MIT_vs_IH_pipeline_test_54e6c4247f6072336ee4afccbe0a057fa1c3c320/results/MIT_vs_IH_MIT_Ori.tagged1-12.tagged13-20.filtered.trimmed_smart.polyA_filtered.STARUnmapped.out.mate1\n",
      "/home/bay001/projects/codebase/NCRCRG/home/bay001/results_dir/cached/MIT_vs_IH_pipeline_test_54e6c4247f6072336ee4afccbe0a057fa1c3c320/results/MIT_vs_IH_IH_Ori.tagged1-12.tagged13-20.filtered.trimmed_smart.polyA_filtered.STARUnmapped.out.mate1\n",
      "/home/bay001/projects/codebase/NCRCRG/home/bay001/results_dir/cached/MIT_vs_IH_pipeline_test_54e6c4247f6072336ee4afccbe0a057fa1c3c320/results/MIT_vs_IH_IH_SSS.tagged1-12.tagged13-20.filtered.trimmed_smart.polyA_filtered.STARUnmapped.out.mate1\n",
      "/home/bay001/projects/codebase/NCRCRG/home/bay001/results_dir/cached/MIT_vs_IH_pipeline_test_54e6c4247f6072336ee4afccbe0a057fa1c3c320/results/MIT_vs_IH_MIT_Ori.tagged1-12.tagged13-20.filtered.trimmed_smart.polyA_filtered.STARAligned.out.namesorted.merged.bam\n",
      "/home/bay001/projects/codebase/NCRCRG/home/bay001/results_dir/cached/MIT_vs_IH_pipeline_test_54e6c4247f6072336ee4afccbe0a057fa1c3c320/results/MIT_vs_IH_IH_SSS.tagged1-12.tagged13-20.filtered.trimmed_smart.polyA_filtered.STARAligned.out.namesorted.merged.bam\n",
      "/home/bay001/projects/codebase/NCRCRG/home/bay001/results_dir/cached/MIT_vs_IH_pipeline_test_54e6c4247f6072336ee4afccbe0a057fa1c3c320/results/MIT_vs_IH_IH_Ori.tagged1-12.tagged13-20.filtered.trimmed_smart.polyA_filtered.STARAligned.out.namesorted.merged.bam\n",
      "/home/bay001/projects/codebase/NCRCRG/home/bay001/results_dir/cached/MIT_vs_IH_pipeline_test_54e6c4247f6072336ee4afccbe0a057fa1c3c320/results/MIT_vs_IH_MIT_SSS.tagged1-12.tagged13-20.filtered.trimmed_smart.polyA_filtered.STARAligned.out.namesorted.merged.bam\n",
      "/home/bay001/projects/codebase/NCRCRG/home/bay001/results_dir/cached/MIT_vs_IH_pipeline_test_54e6c4247f6072336ee4afccbe0a057fa1c3c320/results/MIT_vs_IH_MIT_Ori.tagged1-12.tagged13-20.filtered.trimmed_smart.polyA_filtered.STARAligned.out.namesorted.merged.TaggedGeneExon.bam\n",
      "/home/bay001/projects/codebase/NCRCRG/home/bay001/results_dir/cached/MIT_vs_IH_pipeline_test_54e6c4247f6072336ee4afccbe0a057fa1c3c320/results/MIT_vs_IH_IH_Ori.tagged1-12.tagged13-20.filtered.trimmed_smart.polyA_filtered.STARAligned.out.namesorted.merged.TaggedGeneExon.bam\n",
      "/home/bay001/projects/codebase/NCRCRG/home/bay001/results_dir/cached/MIT_vs_IH_pipeline_test_54e6c4247f6072336ee4afccbe0a057fa1c3c320/results/MIT_vs_IH_IH_SSS.tagged1-12.tagged13-20.filtered.trimmed_smart.polyA_filtered.STARAligned.out.namesorted.merged.TaggedGeneExon.bam\n",
      "/home/bay001/projects/codebase/NCRCRG/home/bay001/results_dir/cached/MIT_vs_IH_pipeline_test_54e6c4247f6072336ee4afccbe0a057fa1c3c320/results/MIT_vs_IH_MIT_SSS.tagged1-12.tagged13-20.filtered.trimmed_smart.polyA_filtered.STARAligned.out.namesorted.merged.TaggedGeneExon.bam\n"
     ]
    }
   ],
   "source": [
    "remove_unnecessary_intermediates(work_dir, \"dropseq-runner\")"
   ]
  },
  {
   "cell_type": "code",
   "execution_count": 226,
   "metadata": {},
   "outputs": [],
   "source": [
    "work_dir = '/home/bay001/projects/codebase/NCRCRG/home/bay001/results_dir/cached/1k_brain_mouse_c7b5df4417704b25c81f8df4622a45763b1733f9/results2/'"
   ]
  },
  {
   "cell_type": "code",
   "execution_count": 227,
   "metadata": {},
   "outputs": [],
   "source": [
    "remove_unnecessary_intermediates(work_dir, \"cellranger-runner\", logger=None)"
   ]
  },
  {
   "cell_type": "code",
   "execution_count": 40,
   "metadata": {},
   "outputs": [
    {
     "data": {
      "text/plain": [
       "['_filelist', '_sitecheck', '_perf', '_finalstate', '_invocation']"
      ]
     },
     "execution_count": 40,
     "metadata": {},
     "output_type": "execute_result"
    }
   ],
   "source": [
    "paths = recursive_remove(work_dir, \"SC_RNA_COUNTER_CS\")\n",
    "paths[:5]"
   ]
  },
  {
   "cell_type": "code",
   "execution_count": 35,
   "metadata": {},
   "outputs": [],
   "source": [
    "for path in paths:\n",
    "    if \"SC_RNA_COUNTER_CS\" in path:\n",
    "        print(path)"
   ]
  },
  {
   "cell_type": "code",
   "execution_count": 64,
   "metadata": {},
   "outputs": [],
   "source": [
    "counter = 0\n",
    "paths = []\n",
    "files = []\n",
    "for root, directories, filenames in os.walk(work_dir, topdown=True):\n",
    "    path = root\n",
    "    paths.append(root)\n",
    "    for file in filenames:\n",
    "        fullpath = os.path.join(path, file)\n",
    "        files.append(fullpath)\n",
    "        assert os.path.exists(fullpath)\n",
    "        regex = \"SC_RNA_COUNTER_CS\"\n",
    "        \n",
    "        if len(re.findall(regex, fullpath)) > 0:\n",
    "            print(fullpath)\n",
    "        #if counter > 100:\n",
    "        #    break\n",
    "        counter += 1"
   ]
  },
  {
   "cell_type": "code",
   "execution_count": 65,
   "metadata": {},
   "outputs": [
    {
     "data": {
      "text/plain": [
       "1734"
      ]
     },
     "execution_count": 65,
     "metadata": {},
     "output_type": "execute_result"
    }
   ],
   "source": [
    "len(paths)"
   ]
  },
  {
   "cell_type": "code",
   "execution_count": 66,
   "metadata": {},
   "outputs": [
    {
     "data": {
      "text/plain": [
       "111"
      ]
     },
     "execution_count": 66,
     "metadata": {},
     "output_type": "execute_result"
    }
   ],
   "source": [
    "len(files)"
   ]
  },
  {
   "cell_type": "code",
   "execution_count": 67,
   "metadata": {},
   "outputs": [
    {
     "data": {
      "text/plain": [
       "['/home/bay001/projects/codebase/NCRCRG/home/bay001/results_dir/cached/1k_brain_mouse_c7b5df4417704b25c81f8df4622a45763b1733f9/results2/',\n",
       " '/home/bay001/projects/codebase/NCRCRG/home/bay001/results_dir/cached/1k_brain_mouse_c7b5df4417704b25c81f8df4622a45763b1733f9/results2/neurons_900',\n",
       " '/home/bay001/projects/codebase/NCRCRG/home/bay001/results_dir/cached/1k_brain_mouse_c7b5df4417704b25c81f8df4622a45763b1733f9/results2/neurons_900/outs']"
      ]
     },
     "execution_count": 67,
     "metadata": {},
     "output_type": "execute_result"
    }
   ],
   "source": [
    "paths[:3]"
   ]
  },
  {
   "cell_type": "code",
   "execution_count": null,
   "metadata": {},
   "outputs": [],
   "source": []
  }
 ],
 "metadata": {
  "kernelspec": {
   "display_name": "python2-essential",
   "language": "python",
   "name": "python2-essential"
  },
  "language_info": {
   "codemirror_mode": {
    "name": "ipython",
    "version": 2
   },
   "file_extension": ".py",
   "mimetype": "text/x-python",
   "name": "python",
   "nbconvert_exporter": "python",
   "pygments_lexer": "ipython2",
   "version": "2.7.15"
  }
 },
 "nbformat": 4,
 "nbformat_minor": 2
}
