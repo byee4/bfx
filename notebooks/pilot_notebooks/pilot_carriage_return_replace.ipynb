{
 "cells": [
  {
   "cell_type": "code",
   "execution_count": 5,
   "metadata": {},
   "outputs": [],
   "source": [
    "EOL_WINDOWS = '\\r\\n'\n",
    "EOL_UNIX = '\\n'\n",
    "\n",
    "def fix_windows_newlines(fn):\n",
    "    \"\"\"\n",
    "    Replaces windows newline characters (CRLF) with unix-style EOL (LF).\n",
    "    \n",
    "    :param fn: \n",
    "    :return: \n",
    "    \"\"\"\n",
    "    with open(fn, 'r') as f:\n",
    "        lines = f.readlines()\n",
    "    \n",
    "    with open(fn, 'w') as f:\n",
    "        for line in lines:\n",
    "            f.write(line.replace(EOL_WINDOWS, EOL_UNIX))"
   ]
  },
  {
   "cell_type": "code",
   "execution_count": 7,
   "metadata": {},
   "outputs": [],
   "source": [
    "windows = '/home/bay001/scratch/metadata/arthurhe_metadata_1e8b75872220405c42c46496d1b62e40b3de803d.json'\n",
    "fix_windows_newlines(windows)"
   ]
  },
  {
   "cell_type": "code",
   "execution_count": null,
   "metadata": {},
   "outputs": [],
   "source": []
  }
 ],
 "metadata": {
  "kernelspec": {
   "display_name": "Python 2",
   "language": "python",
   "name": "python2"
  },
  "language_info": {
   "codemirror_mode": {
    "name": "ipython",
    "version": 2
   },
   "file_extension": ".py",
   "mimetype": "text/x-python",
   "name": "python",
   "nbconvert_exporter": "python",
   "pygments_lexer": "ipython2",
   "version": "2.7.14"
  }
 },
 "nbformat": 4,
 "nbformat_minor": 2
}
