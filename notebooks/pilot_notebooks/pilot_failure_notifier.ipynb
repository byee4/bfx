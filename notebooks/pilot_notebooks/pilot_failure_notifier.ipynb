{
 "cells": [
  {
   "cell_type": "markdown",
   "metadata": {},
   "source": [
    "# Piloting out a script that notifies me automatically of any failures in processing"
   ]
  },
  {
   "cell_type": "code",
   "execution_count": 1,
   "metadata": {},
   "outputs": [],
   "source": [
    "import pandas as pd\n",
    "import glob\n",
    "import os\n",
    "import json"
   ]
  },
  {
   "cell_type": "code",
   "execution_count": 2,
   "metadata": {},
   "outputs": [],
   "source": [
    "input_dir = '/projects/ps-yeolab4/NCRCRG/home/'\n",
    "output_dir = '/projects/ps-yeolab4/NCRCRG/FAILED_RUNS/'"
   ]
  },
  {
   "cell_type": "code",
   "execution_count": 3,
   "metadata": {},
   "outputs": [],
   "source": [
    "expt_metadata_json = os.path.join(input_dir, 'imaging_metadata_v10.json')"
   ]
  },
  {
   "cell_type": "code",
   "execution_count": 4,
   "metadata": {},
   "outputs": [],
   "source": [
    "def read_expt_metadata(fn):\n",
    "    with open(fn) as f:\n",
    "        f.readline()  # skips the /usr/bin/env line\n",
    "        try:\n",
    "            data = json.load(f)\n",
    "            return data\n",
    "        except Exception as e:\n",
    "            print(e)\n",
    "            return None\n",
    "        \n",
    "def generate_plate_map():\n",
    "    pass"
   ]
  },
  {
   "cell_type": "code",
   "execution_count": 5,
   "metadata": {},
   "outputs": [
    {
     "name": "stdout",
     "output_type": "stream",
     "text": [
      "[u'wells_per_plate', u'investigator', u'number_of_plates', u'image_capture_date', u'Channel_Type', u'microscope', u'experiment_type', u'contact_email', u'magnification_power', u'samples', u'treatment_protocol_description', u'imaging_and_segmentation_software', u'pi_name', u'experiment_nickname', u'organism', u'cell_growth_protocol', u'experiment_summary']\n"
     ]
    }
   ],
   "source": [
    "expt_dict = read_expt_metadata(expt_metadata_json)\n",
    "print(expt_dict.keys())"
   ]
  },
  {
   "cell_type": "code",
   "execution_count": 6,
   "metadata": {},
   "outputs": [],
   "source": [
    "# let's parse the the top level metadata fields out first, leave samples for another day.\n",
    "top_level_metadata_fields = [\n",
    "    u'Channel_Type', \n",
    "    u'contact_email', \n",
    "    u'cell_growth_protocol',\n",
    "    u'investigator',\n",
    "    u'number_of_plates',\n",
    "    u'image_capture_date',\n",
    "    u'microscope',\n",
    "    u'experiment_type',\n",
    "    u'magnification_power',\n",
    "    u'treatment_protocol_description',\n",
    "    u'imaging_and_segmentation_software',\n",
    "    u'pi_name',\n",
    "    u'experiment_nickname',\n",
    "    u'organism',\n",
    "    u'cell_growth_protocol',\n",
    "    u'experiment_summary',\n",
    "]"
   ]
  },
  {
   "cell_type": "code",
   "execution_count": 7,
   "metadata": {},
   "outputs": [],
   "source": [
    "# Create a Pandas dataframe from the data.\n",
    "df = pd.DataFrame(expt_dict).T\n",
    "# Grab the \n",
    "top_level_metadata = df.loc[top_level_metadata_fields,]\n",
    "sample_level_metadata = df.loc[u'samples']\n",
    "# Create a Pandas Excel writer using XlsxWriter as the engine.\n",
    "writer = pd.ExcelWriter(\n",
    "    os.path.join(output_dir, 'imaging_metadata_v10.xlsx'), \n",
    "    engine='xlsxwriter'\n",
    ")\n",
    "# Convert the dataframe to an XlsxWriter Excel object.\n",
    "top_level_metadata.to_excel(writer, sheet_name='Sheet1')\n",
    "# Close the Pandas Excel writer and output the Excel file.\n",
    "writer.save()\n"
   ]
  },
  {
   "cell_type": "code",
   "execution_count": 8,
   "metadata": {},
   "outputs": [
    {
     "data": {
      "text/plain": [
       "0    {u'characteristics': [{u'name': u'Antigen', u'...\n",
       "Name: samples, dtype: object"
      ]
     },
     "execution_count": 8,
     "metadata": {},
     "output_type": "execute_result"
    }
   ],
   "source": [
    "sample_level_metadata"
   ]
  },
  {
   "cell_type": "code",
   "execution_count": null,
   "metadata": {},
   "outputs": [],
   "source": [
    "def read_platemap_from_excel(fn):\n",
    "    "
   ]
  }
 ],
 "metadata": {
  "kernelspec": {
   "display_name": "brian",
   "language": "python",
   "name": "brian"
  },
  "language_info": {
   "codemirror_mode": {
    "name": "ipython",
    "version": 2
   },
   "file_extension": ".py",
   "mimetype": "text/x-python",
   "name": "python",
   "nbconvert_exporter": "python",
   "pygments_lexer": "ipython2",
   "version": "2.7.15"
  }
 },
 "nbformat": 4,
 "nbformat_minor": 2
}
