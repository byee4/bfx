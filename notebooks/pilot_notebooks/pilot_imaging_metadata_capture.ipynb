{
 "cells": [
  {
   "cell_type": "code",
   "execution_count": 1,
   "metadata": {},
   "outputs": [],
   "source": [
    "from collections import defaultdict"
   ]
  },
  {
   "cell_type": "code",
   "execution_count": 2,
   "metadata": {},
   "outputs": [],
   "source": [
    "def parse_core_metadata(fs):\n",
    "    \"\"\"\n",
    "    Returns a dict of core metadata.\n",
    "\n",
    "    :param fn:\n",
    "    :return:\n",
    "    \"\"\"\n",
    "    core_metadata = defaultdict()\n",
    "    for line in fs:\n",
    "        if line.startswith(\"Reading global metadata\"):\n",
    "            return core_metadata\n",
    "        else:\n",
    "            print(line)\n",
    "\n",
    "\n",
    "def parse_global_metadata(fs):\n",
    "    \"\"\"\n",
    "        Returns a dict of global metadata.\n",
    "\n",
    "        :param fn:\n",
    "        :return:\n",
    "        \"\"\"\n",
    "    global_metadata = defaultdict()\n",
    "    for line in fs:\n",
    "        if line.startswith(\"Reading metadata\"):\n",
    "            return global_metadata\n",
    "        else:\n",
    "            try:\n",
    "                key, value = line.rstrip().split(': ')\n",
    "                global_metadata[key] = value\n",
    "            except ValueError as e:  # just deals with newline-only lines\n",
    "                pass\n",
    "\n",
    "\n",
    "def parse_ome_metadata(fs):\n",
    "    \"\"\"\n",
    "    Returns a dict of OME metadata.\n",
    "\n",
    "    :param fn:\n",
    "    :return:\n",
    "    \"\"\"\n",
    "\n",
    "    ome_metadata = defaultdict()\n",
    "    # code\n",
    "    return ome_metadata"
   ]
  },
  {
   "cell_type": "code",
   "execution_count": null,
   "metadata": {},
   "outputs": [],
   "source": []
  }
 ],
 "metadata": {
  "kernelspec": {
   "display_name": "Python 2",
   "language": "python",
   "name": "python2"
  },
  "language_info": {
   "codemirror_mode": {
    "name": "ipython",
    "version": 2
   },
   "file_extension": ".py",
   "mimetype": "text/x-python",
   "name": "python",
   "nbconvert_exporter": "python",
   "pygments_lexer": "ipython2",
   "version": "2.7.14"
  }
 },
 "nbformat": 4,
 "nbformat_minor": 2
}
