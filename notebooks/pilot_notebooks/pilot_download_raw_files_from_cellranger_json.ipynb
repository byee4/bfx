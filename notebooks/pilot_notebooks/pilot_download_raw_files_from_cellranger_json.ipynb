{
 "cells": [
  {
   "cell_type": "code",
   "execution_count": 1,
   "metadata": {},
   "outputs": [],
   "source": [
    "import argparse\n",
    "import json\n",
    "import os\n",
    "import glob\n",
    "import subprocess\n",
    "import shutil\n",
    "import boto3\n",
    "import botocore\n",
    "import logging\n",
    "import datetime"
   ]
  },
  {
   "cell_type": "code",
   "execution_count": 79,
   "metadata": {},
   "outputs": [],
   "source": [
    "cellranger_json = '/projects/ps-yeolab3/bay001/codebase/metadata/results_dir/yan_YS16/CELLRANGER_yan_YS16_INPUT.yaml'\n",
    "\n",
    "\n",
    "def copy_file_from_aws(bucket, key, dest, logger):\n",
    "    \"\"\"\n",
    "    Copies a file from AWS to local\n",
    "\n",
    "    :param bucket: basestring\n",
    "        bucket name (minus the s3:// prefix)\n",
    "    :param src: basestring\n",
    "        output directory where the rawdata should go.\n",
    "    :return:\n",
    "    \"\"\"\n",
    "    s3 = boto3.client('s3')\n",
    "\n",
    "    try:\n",
    "        logger.info(\"Downloading {} from {} to {}\".format(key, bucket, dest))\n",
    "        s3.download_file(\n",
    "            bucket, key, dest\n",
    "        )\n",
    "        logger.info(\"Done downloading {} from aws ({})\".format(key, dest))\n",
    "        time.sleep(1)\n",
    "    except Exception as e:\n",
    "        logger.error(e)\n",
    "        raise\n",
    "\n",
    "        \n",
    "def copy_dir_from_aws(bucket, dest, logger):\n",
    "    \"\"\"\n",
    "    Copies a directory from local to AWS\n",
    "\n",
    "    :param src: basestring\n",
    "        local source filename\n",
    "    :param bucket: basestring\n",
    "        aws s3 bucket name\n",
    "    :param logger: logging.Logger()\n",
    "        Logger object\n",
    "    :return:\n",
    "    \"\"\"\n",
    "    if not bucket.startswith('s3://'):\n",
    "        bucket = 's3://' + bucket\n",
    "\n",
    "    if not dest.endswith('/'):\n",
    "        dest = dest + '/'\n",
    "\n",
    "    upload_dir = os.path.dirname(dest).split('/')[-1] + \"/\"\n",
    "\n",
    "    cmd = 'aws s3 cp {} {} --recursive'.format(\n",
    "        os.path.join(bucket, upload_dir),\n",
    "        dest\n",
    "    )\n",
    "    try:\n",
    "        logger.info(\"Downloading from aws: {}\".format(cmd))\n",
    "        ret = subprocess.check_call(cmd, shell=True)\n",
    "        logger.info(\"Done downloading {} from aws ({}) with a return code of: {}\".format(dest, bucket, ret))\n",
    "        logger.info(\"Sleeping for 15s.\")\n",
    "        time.sleep(15)\n",
    "    except Exception as e:\n",
    "        logger.error(e)\n",
    "        \n",
    "def download_raw_files_from_cellranger_json(fn, output_dir, bucket, logger=None):\n",
    "    s3 = boto3.client('s3')\n",
    "    \n",
    "    with open(fn) as f:\n",
    "        f.readline()  # skips the /usr/bin/env line\n",
    "        try:\n",
    "            data = json.load(f)\n",
    "            for sample in data['samples']:\n",
    "                sample_prefix = sample['sample_id']\n",
    "                src_basedir = sample['fastq_dir']['path']\n",
    "                dest_dir = os.path.join(output_dir, src_basedir)\n",
    "                \n",
    "                # if no sample id specified, download the whole directory\n",
    "                if sample_prefix == \"\":\n",
    "                    logger.info(\"Sample prefix not found, copying entire directory {}.\".format(dest_dir))\n",
    "                    copy_dir_from_aws(bucket, dest_dir, logger)\n",
    "                # search and download the files based on sample id prefix\n",
    "                else:\n",
    "                    # create local directory if not exists\n",
    "                    if not os.path.exists(dest_dir):\n",
    "                        logger.info(\"Directory ({}) not found in {}, creating it.\".format(src_basedir, output_dir))\n",
    "                        os.makedirs(dest_dir)\n",
    "                    else:\n",
    "                        logger.info(\"Directory ({}) found in {}\".format(src_basedir, output_dir))\n",
    "                    # download data based on sample prefix\n",
    "                    for obj in s3.list_objects_v2(Bucket=bucket)['Contents']:\n",
    "                        if obj['Key'].startswith(os.path.join(src_basedir, sample_prefix)):\n",
    "                            dest_obj = os.path.join(output_dir, obj['Key'])\n",
    "                            if not os.path.exists(dest_obj):\n",
    "                                copy_file_from_aws(bucket, obj['Key'], dest_obj)\n",
    "                            else:\n",
    "                                logger.info(\"{} exists, will not re-download.\".format(dest_obj))\n",
    "        except ValueError:\n",
    "            pass\n",
    "            logger.error(\"Couldn't load {}\".format(fn))\n",
    "    return 0"
   ]
  },
  {
   "cell_type": "code",
   "execution_count": 81,
   "metadata": {},
   "outputs": [
    {
     "name": "stdout",
     "output_type": "stream",
     "text": [
      "Directory (yan) found in /home/bay001/\n",
      "/home/bay001/yan/YS-16_S5_L006_R1_001.fastq.gz exists, will not re-download.\n",
      "/home/bay001/yan/YS-16_S5_L006_R2_001.fastq.gz exists, will not re-download.\n",
      "Downloading yan/YS-16_S6_L006_R1_001.fastq.gz from metadata-pipelines to /home/bay001/yan/YS-16_S6_L006_R1_001.fastq.gz\n",
      "Done downloading yan/YS-16_S6_L006_R1_001.fastq.gz from aws (/home/bay001/yan/YS-16_S6_L006_R1_001.fastq.gz)\n"
     ]
    },
    {
     "ename": "NameError",
     "evalue": "global name 'time' is not defined",
     "output_type": "error",
     "traceback": [
      "\u001b[0;31m---------------------------------------------------------------------------\u001b[0m",
      "\u001b[0;31mNameError\u001b[0m                                 Traceback (most recent call last)",
      "\u001b[0;32m<ipython-input-81-07d26c4ee212>\u001b[0m in \u001b[0;36m<module>\u001b[0;34m()\u001b[0m\n\u001b[0;32m----> 1\u001b[0;31m \u001b[0mdownload_raw_files_from_cellranger_json\u001b[0m\u001b[0;34m(\u001b[0m\u001b[0mcellranger_json\u001b[0m\u001b[0;34m,\u001b[0m \u001b[0;34m'/home/bay001/'\u001b[0m\u001b[0;34m,\u001b[0m \u001b[0;34m'metadata-pipelines'\u001b[0m\u001b[0;34m)\u001b[0m\u001b[0;34m\u001b[0m\u001b[0m\n\u001b[0m",
      "\u001b[0;32m<ipython-input-79-d4c4200fa2ab>\u001b[0m in \u001b[0;36mdownload_raw_files_from_cellranger_json\u001b[0;34m(fn, output_dir, bucket, logger)\u001b[0m\n\u001b[1;32m     94\u001b[0m                             \u001b[0mdest_obj\u001b[0m \u001b[0;34m=\u001b[0m \u001b[0mos\u001b[0m\u001b[0;34m.\u001b[0m\u001b[0mpath\u001b[0m\u001b[0;34m.\u001b[0m\u001b[0mjoin\u001b[0m\u001b[0;34m(\u001b[0m\u001b[0moutput_dir\u001b[0m\u001b[0;34m,\u001b[0m \u001b[0mobj\u001b[0m\u001b[0;34m[\u001b[0m\u001b[0;34m'Key'\u001b[0m\u001b[0;34m]\u001b[0m\u001b[0;34m)\u001b[0m\u001b[0;34m\u001b[0m\u001b[0m\n\u001b[1;32m     95\u001b[0m                             \u001b[0;32mif\u001b[0m \u001b[0;32mnot\u001b[0m \u001b[0mos\u001b[0m\u001b[0;34m.\u001b[0m\u001b[0mpath\u001b[0m\u001b[0;34m.\u001b[0m\u001b[0mexists\u001b[0m\u001b[0;34m(\u001b[0m\u001b[0mdest_obj\u001b[0m\u001b[0;34m)\u001b[0m\u001b[0;34m:\u001b[0m\u001b[0;34m\u001b[0m\u001b[0m\n\u001b[0;32m---> 96\u001b[0;31m                                 \u001b[0mcopy_file_from_aws\u001b[0m\u001b[0;34m(\u001b[0m\u001b[0mbucket\u001b[0m\u001b[0;34m,\u001b[0m \u001b[0mobj\u001b[0m\u001b[0;34m[\u001b[0m\u001b[0;34m'Key'\u001b[0m\u001b[0;34m]\u001b[0m\u001b[0;34m,\u001b[0m \u001b[0mdest_obj\u001b[0m\u001b[0;34m)\u001b[0m\u001b[0;34m\u001b[0m\u001b[0m\n\u001b[0m\u001b[1;32m     97\u001b[0m                             \u001b[0;32melse\u001b[0m\u001b[0;34m:\u001b[0m\u001b[0;34m\u001b[0m\u001b[0m\n\u001b[1;32m     98\u001b[0m                                 \u001b[0;32mprint\u001b[0m\u001b[0;34m(\u001b[0m\u001b[0;34m\"{} exists, will not re-download.\"\u001b[0m\u001b[0;34m.\u001b[0m\u001b[0mformat\u001b[0m\u001b[0;34m(\u001b[0m\u001b[0mdest_obj\u001b[0m\u001b[0;34m)\u001b[0m\u001b[0;34m)\u001b[0m\u001b[0;34m\u001b[0m\u001b[0m\n",
      "\u001b[0;32m<ipython-input-79-d4c4200fa2ab>\u001b[0m in \u001b[0;36mcopy_file_from_aws\u001b[0;34m(bucket, key, dest, logger)\u001b[0m\n\u001b[1;32m     21\u001b[0m         \u001b[0;31m# logger.info\u001b[0m\u001b[0;34m\u001b[0m\u001b[0;34m\u001b[0m\u001b[0m\n\u001b[1;32m     22\u001b[0m         \u001b[0;32mprint\u001b[0m\u001b[0;34m(\u001b[0m\u001b[0;34m\"Done downloading {} from aws ({})\"\u001b[0m\u001b[0;34m.\u001b[0m\u001b[0mformat\u001b[0m\u001b[0;34m(\u001b[0m\u001b[0mkey\u001b[0m\u001b[0;34m,\u001b[0m \u001b[0mdest\u001b[0m\u001b[0;34m)\u001b[0m\u001b[0;34m)\u001b[0m\u001b[0;34m\u001b[0m\u001b[0m\n\u001b[0;32m---> 23\u001b[0;31m         \u001b[0mtime\u001b[0m\u001b[0;34m.\u001b[0m\u001b[0msleep\u001b[0m\u001b[0;34m(\u001b[0m\u001b[0;36m15\u001b[0m\u001b[0;34m)\u001b[0m\u001b[0;34m\u001b[0m\u001b[0m\n\u001b[0m\u001b[1;32m     24\u001b[0m     \u001b[0;32mexcept\u001b[0m \u001b[0mException\u001b[0m \u001b[0;32mas\u001b[0m \u001b[0me\u001b[0m\u001b[0;34m:\u001b[0m\u001b[0;34m\u001b[0m\u001b[0m\n\u001b[1;32m     25\u001b[0m         \u001b[0;31m# logger.error(e)\u001b[0m\u001b[0;34m\u001b[0m\u001b[0;34m\u001b[0m\u001b[0m\n",
      "\u001b[0;31mNameError\u001b[0m: global name 'time' is not defined"
     ]
    }
   ],
   "source": [
    "download_raw_files_from_cellranger_json(cellranger_json, '/home/bay001/', 'metadata-pipelines')"
   ]
  },
  {
   "cell_type": "code",
   "execution_count": null,
   "metadata": {},
   "outputs": [],
   "source": []
  },
  {
   "cell_type": "code",
   "execution_count": null,
   "metadata": {},
   "outputs": [],
   "source": []
  }
 ],
 "metadata": {
  "kernelspec": {
   "display_name": "Python 2",
   "language": "python",
   "name": "python2"
  },
  "language_info": {
   "codemirror_mode": {
    "name": "ipython",
    "version": 2
   },
   "file_extension": ".py",
   "mimetype": "text/x-python",
   "name": "python",
   "nbconvert_exporter": "python",
   "pygments_lexer": "ipython2",
   "version": "2.7.14"
  }
 },
 "nbformat": 4,
 "nbformat_minor": 2
}
