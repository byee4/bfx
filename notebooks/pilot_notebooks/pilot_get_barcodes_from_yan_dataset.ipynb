{
 "cells": [
  {
   "cell_type": "markdown",
   "metadata": {},
   "source": [
    "# gets barcodes from yan's dataset to see if they work"
   ]
  },
  {
   "cell_type": "code",
   "execution_count": 2,
   "metadata": {
    "collapsed": true
   },
   "outputs": [],
   "source": [
    "import pandas as pd"
   ]
  },
  {
   "cell_type": "code",
   "execution_count": 6,
   "metadata": {},
   "outputs": [
    {
     "data": {
      "text/plain": [
       "['AAACCTGCATCACCCT-1',\n",
       " 'AAACCTGTCTAACTGG-1',\n",
       " 'AAACGGGGTCGCATAT-1',\n",
       " 'AAACGGGGTTGGACCC-1',\n",
       " 'AAAGATGTCATCATTC-1']"
      ]
     },
     "execution_count": 6,
     "metadata": {},
     "output_type": "execute_result"
    }
   ],
   "source": [
    "with open(\n",
    "    '/projects/ps-yeolab3/jobs/cellranger/takeda/2017-10-06_YanSong_TPH1YS567/results/YS5_expression.csv',\n",
    "    'r'\n",
    ") as f:\n",
    "    barcodes = (f.readline().split(','))[1:] # first line is empty\n",
    "barcodes[:5]"
   ]
  },
  {
   "cell_type": "code",
   "execution_count": 7,
   "metadata": {},
   "outputs": [],
   "source": [
    "with open(\n",
    "    '/home/bay001/projects/codebase/convertTSV/data/YanSong_TPH1YS567_20171006_barcodes.tsv', 'w'\n",
    ") as o:\n",
    "    for barcode in barcodes:\n",
    "        o.write(\"{}\\n\".format(barcode.split('-1')[0]))"
   ]
  },
  {
   "cell_type": "code",
   "execution_count": null,
   "metadata": {
    "collapsed": true
   },
   "outputs": [],
   "source": []
  }
 ],
 "metadata": {
  "kernelspec": {
   "display_name": "Python 2",
   "language": "python",
   "name": "python2"
  },
  "language_info": {
   "codemirror_mode": {
    "name": "ipython",
    "version": 2
   },
   "file_extension": ".py",
   "mimetype": "text/x-python",
   "name": "python",
   "nbconvert_exporter": "python",
   "pygments_lexer": "ipython2",
   "version": "2.7.13"
  }
 },
 "nbformat": 4,
 "nbformat_minor": 2
}
