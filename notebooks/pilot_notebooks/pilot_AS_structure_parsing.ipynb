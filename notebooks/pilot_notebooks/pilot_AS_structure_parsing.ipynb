{
 "cells": [
  {
   "cell_type": "code",
   "execution_count": 1,
   "metadata": {
    "collapsed": true
   },
   "outputs": [],
   "source": [
    "import pandas as pd\n",
    "import numpy as np\n",
    "import os"
   ]
  },
  {
   "cell_type": "code",
   "execution_count": 3,
   "metadata": {},
   "outputs": [
    {
     "data": {
      "text/html": [
       "<div>\n",
       "<style>\n",
       "    .dataframe thead tr:only-child th {\n",
       "        text-align: right;\n",
       "    }\n",
       "\n",
       "    .dataframe thead th {\n",
       "        text-align: left;\n",
       "    }\n",
       "\n",
       "    .dataframe tbody tr th {\n",
       "        vertical-align: top;\n",
       "    }\n",
       "</style>\n",
       "<table border=\"1\" class=\"dataframe\">\n",
       "  <thead>\n",
       "    <tr style=\"text-align: right;\">\n",
       "      <th></th>\n",
       "      <th>chrom</th>\n",
       "      <th>src</th>\n",
       "      <th>featuretype</th>\n",
       "      <th>start</th>\n",
       "      <th>end</th>\n",
       "      <th>.</th>\n",
       "      <th>strand</th>\n",
       "      <th>..1</th>\n",
       "      <th>attributes</th>\n",
       "      <th>..2</th>\n",
       "    </tr>\n",
       "  </thead>\n",
       "  <tbody>\n",
       "    <tr>\n",
       "      <th>0</th>\n",
       "      <td>chrY</td>\n",
       "      <td>AS_STRUCTURE</td>\n",
       "      <td>gene</td>\n",
       "      <td>725207</td>\n",
       "      <td>797409</td>\n",
       "      <td>.</td>\n",
       "      <td>-</td>\n",
       "      <td>.</td>\n",
       "      <td>gene_id=ENSMUSG00000053211;mrna_length=2785;pr...</td>\n",
       "      <td>NaN</td>\n",
       "    </tr>\n",
       "    <tr>\n",
       "      <th>1</th>\n",
       "      <td>chrY</td>\n",
       "      <td>AS_STRUCTURE</td>\n",
       "      <td>gene</td>\n",
       "      <td>818713</td>\n",
       "      <td>844224</td>\n",
       "      <td>.</td>\n",
       "      <td>+</td>\n",
       "      <td>.</td>\n",
       "      <td>gene_id=ENSMUSG00000069053;mrna_length=3981;pr...</td>\n",
       "      <td>NaN</td>\n",
       "    </tr>\n",
       "    <tr>\n",
       "      <th>2</th>\n",
       "      <td>chrY</td>\n",
       "      <td>AS_STRUCTURE</td>\n",
       "      <td>gene</td>\n",
       "      <td>897788</td>\n",
       "      <td>943811</td>\n",
       "      <td>.</td>\n",
       "      <td>+</td>\n",
       "      <td>.</td>\n",
       "      <td>gene_id=ENSMUSG00000056673;mrna_length=5471;pr...</td>\n",
       "      <td>NaN</td>\n",
       "    </tr>\n",
       "    <tr>\n",
       "      <th>3</th>\n",
       "      <td>chrY</td>\n",
       "      <td>AS_STRUCTURE</td>\n",
       "      <td>gene</td>\n",
       "      <td>991630</td>\n",
       "      <td>991748</td>\n",
       "      <td>.</td>\n",
       "      <td>-</td>\n",
       "      <td>.</td>\n",
       "      <td>gene_id=ENSMUSG00000075874;mrna_length=119;pre...</td>\n",
       "      <td>NaN</td>\n",
       "    </tr>\n",
       "    <tr>\n",
       "      <th>4</th>\n",
       "      <td>chrY</td>\n",
       "      <td>AS_STRUCTURE</td>\n",
       "      <td>gene</td>\n",
       "      <td>1010543</td>\n",
       "      <td>1028847</td>\n",
       "      <td>.</td>\n",
       "      <td>+</td>\n",
       "      <td>.</td>\n",
       "      <td>gene_id=ENSMUSG00000069049;mrna_length=4166;pr...</td>\n",
       "      <td>NaN</td>\n",
       "    </tr>\n",
       "  </tbody>\n",
       "</table>\n",
       "</div>"
      ],
      "text/plain": [
       "  chrom           src featuretype    start      end  . strand ..1  \\\n",
       "0  chrY  AS_STRUCTURE        gene   725207   797409  .      -   .   \n",
       "1  chrY  AS_STRUCTURE        gene   818713   844224  .      +   .   \n",
       "2  chrY  AS_STRUCTURE        gene   897788   943811  .      +   .   \n",
       "3  chrY  AS_STRUCTURE        gene   991630   991748  .      -   .   \n",
       "4  chrY  AS_STRUCTURE        gene  1010543  1028847  .      +   .   \n",
       "\n",
       "                                          attributes  ..2  \n",
       "0  gene_id=ENSMUSG00000053211;mrna_length=2785;pr...  NaN  \n",
       "1  gene_id=ENSMUSG00000069053;mrna_length=3981;pr...  NaN  \n",
       "2  gene_id=ENSMUSG00000056673;mrna_length=5471;pr...  NaN  \n",
       "3  gene_id=ENSMUSG00000075874;mrna_length=119;pre...  NaN  \n",
       "4  gene_id=ENSMUSG00000069049;mrna_length=4166;pr...  NaN  "
      ]
     },
     "execution_count": 3,
     "metadata": {},
     "output_type": "execute_result"
    }
   ],
   "source": [
    "headers = [\n",
    "    'chrom','src','featuretype','start','end','.','strand','.','attributes','.'\n",
    "]\n",
    "df = pd.read_table(\n",
    "    '/home/bay001/projects/codebase/clip_analysis_legacy/bin/clip_analysis_legacy/data/mm10.AS.STRUCTURE.COMPILED.gff',\n",
    "    names=headers\n",
    ")\n",
    "df.head()"
   ]
  },
  {
   "cell_type": "code",
   "execution_count": 5,
   "metadata": {},
   "outputs": [
    {
     "name": "stderr",
     "output_type": "stream",
     "text": [
      "/home/bay001/anaconda2/envs/brian/lib/python2.7/site-packages/ipykernel_launcher.py:1: DeprecationWarning: \n",
      ".ix is deprecated. Please use\n",
      ".loc for label based indexing or\n",
      ".iloc for positional indexing\n",
      "\n",
      "See the documentation here:\n",
      "http://pandas.pydata.org/pandas-docs/stable/indexing.html#ix-indexer-is-deprecated\n",
      "  \"\"\"Entry point for launching an IPython kernel.\n"
     ]
    },
    {
     "data": {
      "text/plain": [
       "'gene_id=ENSMUSG00000053211;mrna_length=2785;premrna_length=72203'"
      ]
     },
     "execution_count": 5,
     "metadata": {},
     "output_type": "execute_result"
    }
   ],
   "source": [
    "df.ix[0]['attributes']"
   ]
  },
  {
   "cell_type": "code",
   "execution_count": null,
   "metadata": {
    "collapsed": true
   },
   "outputs": [],
   "source": []
  }
 ],
 "metadata": {
  "kernelspec": {
   "display_name": "Python 2",
   "language": "python",
   "name": "python2"
  },
  "language_info": {
   "codemirror_mode": {
    "name": "ipython",
    "version": 2
   },
   "file_extension": ".py",
   "mimetype": "text/x-python",
   "name": "python",
   "nbconvert_exporter": "python",
   "pygments_lexer": "ipython2",
   "version": "2.7.13"
  }
 },
 "nbformat": 4,
 "nbformat_minor": 2
}
