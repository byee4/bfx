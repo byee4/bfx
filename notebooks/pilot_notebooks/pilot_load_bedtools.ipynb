{
 "cells": [
  {
   "cell_type": "code",
   "execution_count": 12,
   "metadata": {},
   "outputs": [],
   "source": [
    "import pandas as pd\n",
    "import pybedtools\n",
    "import numpy as np\n",
    "import glob\n",
    "import os\n",
    "from collections import defaultdict"
   ]
  },
  {
   "cell_type": "code",
   "execution_count": 13,
   "metadata": {},
   "outputs": [],
   "source": [
    "assigned_dir = '/home/bay001/projects/tbos_reprocessing_20180109/permanent_data/eCLIP-0.1.7/03_analyze_motifs/outputs/APOBEC4_IDR.bed/assigned/'"
   ]
  },
  {
   "cell_type": "code",
   "execution_count": 70,
   "metadata": {},
   "outputs": [],
   "source": [
    "def load_bedtools(assigned_dir, regions):\n",
    "    bed_dict = {}\n",
    "    real_or_rand = ['real','rand']\n",
    "    \n",
    "    for region in regions:\n",
    "        if region not in bed_dict.keys():\n",
    "            bed_dict[region] = {} \n",
    "        for rr in real_or_rand:\n",
    "            bed_dict[region].update({rr:[]})\n",
    "            bed_files = glob.glob(os.path.join(assigned_dir, '*{}.{}.*BED'.format(region, rr)))\n",
    "            for bed in bed_files:\n",
    "                bed_dict[region][rr].append(pybedtools.BedTool(bed))\n",
    "    return bed_dict"
   ]
  },
  {
   "cell_type": "code",
   "execution_count": 71,
   "metadata": {},
   "outputs": [
    {
     "data": {
      "text/plain": [
       "{'cds': {'rand': [<BedTool(/home/bay001/projects/tbos_reprocessing_20180109/permanent_data/eCLIP-0.1.7/03_analyze_motifs/outputs/APOBEC4_IDR.bed/assigned/APOBEC4_IDR.bed.cds.rand.2.BED)>,\n",
       "   <BedTool(/home/bay001/projects/tbos_reprocessing_20180109/permanent_data/eCLIP-0.1.7/03_analyze_motifs/outputs/APOBEC4_IDR.bed/assigned/APOBEC4_IDR.bed.cds.rand.1.BED)>,\n",
       "   <BedTool(/home/bay001/projects/tbos_reprocessing_20180109/permanent_data/eCLIP-0.1.7/03_analyze_motifs/outputs/APOBEC4_IDR.bed/assigned/APOBEC4_IDR.bed.cds.rand.0.BED)>],\n",
       "  'real': [<BedTool(/home/bay001/projects/tbos_reprocessing_20180109/permanent_data/eCLIP-0.1.7/03_analyze_motifs/outputs/APOBEC4_IDR.bed/assigned/APOBEC4_IDR.bed.cds.real.BED)>]},\n",
       " 'three_prime_utrs': {'rand': [<BedTool(/home/bay001/projects/tbos_reprocessing_20180109/permanent_data/eCLIP-0.1.7/03_analyze_motifs/outputs/APOBEC4_IDR.bed/assigned/APOBEC4_IDR.bed.three_prime_utrs.rand.1.BED)>,\n",
       "   <BedTool(/home/bay001/projects/tbos_reprocessing_20180109/permanent_data/eCLIP-0.1.7/03_analyze_motifs/outputs/APOBEC4_IDR.bed/assigned/APOBEC4_IDR.bed.three_prime_utrs.rand.0.BED)>,\n",
       "   <BedTool(/home/bay001/projects/tbos_reprocessing_20180109/permanent_data/eCLIP-0.1.7/03_analyze_motifs/outputs/APOBEC4_IDR.bed/assigned/APOBEC4_IDR.bed.three_prime_utrs.rand.2.BED)>],\n",
       "  'real': [<BedTool(/home/bay001/projects/tbos_reprocessing_20180109/permanent_data/eCLIP-0.1.7/03_analyze_motifs/outputs/APOBEC4_IDR.bed/assigned/APOBEC4_IDR.bed.three_prime_utrs.real.BED)>]}}"
      ]
     },
     "execution_count": 71,
     "metadata": {},
     "output_type": "execute_result"
    }
   ],
   "source": [
    "load_bedtools(assigned_dir,['three_prime_utrs','cds','five_prime_utrs'])"
   ]
  },
  {
   "cell_type": "code",
   "execution_count": 49,
   "metadata": {},
   "outputs": [
    {
     "data": {
      "text/plain": [
       "{'what': []}"
      ]
     },
     "execution_count": 49,
     "metadata": {},
     "output_type": "execute_result"
    }
   ],
   "source": [
    "d = {}\n",
    "d.update({'what':[]})\n",
    "\n",
    "d"
   ]
  },
  {
   "cell_type": "code",
   "execution_count": null,
   "metadata": {},
   "outputs": [],
   "source": []
  }
 ],
 "metadata": {
  "kernelspec": {
   "display_name": "Python 2",
   "language": "python",
   "name": "python2"
  },
  "language_info": {
   "codemirror_mode": {
    "name": "ipython",
    "version": 2
   },
   "file_extension": ".py",
   "mimetype": "text/x-python",
   "name": "python",
   "nbconvert_exporter": "python",
   "pygments_lexer": "ipython2",
   "version": "2.7.14"
  }
 },
 "nbformat": 4,
 "nbformat_minor": 2
}
