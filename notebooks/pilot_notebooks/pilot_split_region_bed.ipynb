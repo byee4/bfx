{
 "cells": [
  {
   "cell_type": "code",
   "execution_count": 1,
   "metadata": {
    "collapsed": true
   },
   "outputs": [],
   "source": [
    "import pandas as pd\n",
    "import os"
   ]
  },
  {
   "cell_type": "code",
   "execution_count": 10,
   "metadata": {
    "collapsed": true
   },
   "outputs": [],
   "source": [
    "def read_annotated_file(fn, headers=None, src='brian'):\n",
    "    \"\"\"\n",
    "    Reads in an annotated bedfile from either eric or me.\n",
    "    Ensures that 'region' column is defined and set.\n",
    "    Returns dataframe\n",
    "    \n",
    "    :param fn: basestring\n",
    "        filename\n",
    "    :param headers: list\n",
    "        if src isn't from eric or me, you have to \n",
    "        explicitly set the header columns.\n",
    "    :param src: basestring\n",
    "        either 'brian' or 'eric' depending on whose script you use.\n",
    "    :return df: pandas.DataFrame\n",
    "    \"\"\"\n",
    "    if src == 'brian':\n",
    "        headers=[\n",
    "            'chrom','start','end','l10p','l2fc','strand','geneid',\n",
    "            'genename','region','alloverlapping'\n",
    "        ]\n",
    "        df = pd.read_table(fn, names=headers)\n",
    "    elif src == 'eric':\n",
    "        headers=[\n",
    "            'chrom','start','end','l10p','l2fc',\n",
    "            'strand','annotation','geneid'\n",
    "        ]\n",
    "        df = pd.read_table(fn, names=headers)\n",
    "        df['region'] = df.apply(return_region_eric, axis=1)\n",
    "    else:\n",
    "        assert 'region' in headers\n",
    "        df = pd.read_table(fn, names=headers)\n",
    "    return df\n",
    "\n",
    "def split_annotated_file_into_region_beds_and_save(\n",
    "    annotated, headers=None, src='brian',\n",
    "    split_beds_directory=(os.path.join(os.getcwd(),'regions'))\n",
    "):\n",
    "    if not os.path.exists(split_beds_directory):\n",
    "        os.mkdir(split_beds_directory)\n",
    "\n",
    "    df = read_annotated_file(annotated, headers, src)\n",
    "    regions = set(df['region'])\n",
    "    for region in regions:\n",
    "        region_df = df[df['region']==region][[\n",
    "            'chrom','start','end','l10p','l2fc','strand'\n",
    "        ]]\n",
    "        region_df.to_csv(\n",
    "            os.path.join(\n",
    "                split_beds_directory,\n",
    "                os.path.basename(annotated) + \".{}.bed\".format(\n",
    "                    region\n",
    "                )\n",
    "            ),\n",
    "            sep='\\t',\n",
    "            header=False, \n",
    "            index=False\n",
    "        )"
   ]
  },
  {
   "cell_type": "code",
   "execution_count": 11,
   "metadata": {},
   "outputs": [],
   "source": [
    "annotated = '/home/bay001/projects/nazia_clipseq_20170627/permanent_data/eCLIP-0.1.5/annotated_peaks/DDX5.REP1.---.r-.fqTrTrU-SoMaSoCoSoMeV2ClNpCoFc3Pv3.bed.annotated.bed'\n",
    "\n",
    "split_annotated_file_into_region_beds_and_save(annotated)"
   ]
  },
  {
   "cell_type": "code",
   "execution_count": null,
   "metadata": {
    "collapsed": true
   },
   "outputs": [],
   "source": []
  }
 ],
 "metadata": {
  "kernelspec": {
   "display_name": "Python 2",
   "language": "python",
   "name": "python2"
  },
  "language_info": {
   "codemirror_mode": {
    "name": "ipython",
    "version": 2
   },
   "file_extension": ".py",
   "mimetype": "text/x-python",
   "name": "python",
   "nbconvert_exporter": "python",
   "pygments_lexer": "ipython2",
   "version": "2.7.13"
  }
 },
 "nbformat": 4,
 "nbformat_minor": 2
}
