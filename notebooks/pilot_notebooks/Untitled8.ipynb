{
 "cells": [
  {
   "cell_type": "code",
   "execution_count": 1,
   "metadata": {},
   "outputs": [],
   "source": [
    "import pandas as pd"
   ]
  },
  {
   "cell_type": "code",
   "execution_count": 11,
   "metadata": {},
   "outputs": [],
   "source": [
    "fn = '/home/bay001/projects/brian_rbpmaps_20180202/permanent_data/maps/figure2/inputs/204_01.basedon_204_01.peaks.l2inputnormnew.bed.compressed.bed.p3f3.bed.sorted.bed.bb.RBFOX2-BGHLV26-HepG2.set26-excluded-upon-knockdown.ip.raw_density.txt'\n",
    "df = pd.read_table(fn, index_col=0, sep=',')\n",
    "df = df.replace(-1,0)\n",
    "se = pd.Series(df.sum(axis=1)).to_csv('/home/bay001/scratch/what.txt')"
   ]
  },
  {
   "cell_type": "code",
   "execution_count": null,
   "metadata": {},
   "outputs": [],
   "source": [
    "def calculate_average_coverage_per_event(df):"
   ]
  }
 ],
 "metadata": {
  "kernelspec": {
   "display_name": "brian",
   "language": "python",
   "name": "brian"
  }
 },
 "nbformat": 4,
 "nbformat_minor": 2
}
