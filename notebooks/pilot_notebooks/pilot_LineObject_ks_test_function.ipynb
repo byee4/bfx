{
 "cells": [
  {
   "cell_type": "code",
   "execution_count": 1,
   "metadata": {
    "collapsed": true
   },
   "outputs": [],
   "source": [
    "from scipy import stats\n",
    "import numpy as np\n",
    "import pandas as pd"
   ]
  },
  {
   "cell_type": "code",
   "execution_count": 3,
   "metadata": {},
   "outputs": [],
   "source": [
    "bg = pd.read_table(\n",
    "    '/home/bay001/projects/encode/analysis/tests/rbp_map_tests/se/204_01_RBFOX2.merged.r2.HepG2_native_cassette_exons.normalize_and_per_region_subtract.csv',\n",
    "    sep=',',\n",
    "    index_col=0\n",
    ")\n"
   ]
  },
  {
   "cell_type": "code",
   "execution_count": 4,
   "metadata": {
    "collapsed": true
   },
   "outputs": [],
   "source": [
    "test = pd.read_table(\n",
    "    '/home/bay001/projects/encode/analysis/tests/rbp_map_tests/se/204_01_RBFOX2.merged.r2.RBFOX2-BGHLV26-HepG2-excluded-upon-knockdown.normalize_and_per_region_subtract.csv',\n",
    "    sep=',',\n",
    "    index_col=0\n",
    ")"
   ]
  },
  {
   "cell_type": "code",
   "execution_count": 11,
   "metadata": {},
   "outputs": [],
   "source": [
    "def calculate_and_set_significance(test, control):\n",
    "    p_values = []\n",
    "    for position in test.columns:\n",
    "        _, p = stats.ks_2samp(test[position], control[position])\n",
    "        p_values.append(p)\n",
    "    return p_values"
   ]
  },
  {
   "cell_type": "code",
   "execution_count": 13,
   "metadata": {},
   "outputs": [
    {
     "data": {
      "text/plain": [
       "1400"
      ]
     },
     "execution_count": 13,
     "metadata": {},
     "output_type": "execute_result"
    }
   ],
   "source": [
    "len(calculate_and_set_significance(test, bg))"
   ]
  },
  {
   "cell_type": "code",
   "execution_count": null,
   "metadata": {
    "collapsed": true
   },
   "outputs": [],
   "source": []
  }
 ],
 "metadata": {
  "kernelspec": {
   "display_name": "Python 2",
   "language": "python",
   "name": "python2"
  },
  "language_info": {
   "codemirror_mode": {
    "name": "ipython",
    "version": 2
   },
   "file_extension": ".py",
   "mimetype": "text/x-python",
   "name": "python",
   "nbconvert_exporter": "python",
   "pygments_lexer": "ipython2",
   "version": "2.7.13"
  }
 },
 "nbformat": 4,
 "nbformat_minor": 2
}
