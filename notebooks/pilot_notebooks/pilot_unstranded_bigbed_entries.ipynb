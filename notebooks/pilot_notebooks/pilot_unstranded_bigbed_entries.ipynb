{
 "cells": [
  {
   "cell_type": "code",
   "execution_count": 1,
   "metadata": {},
   "outputs": [],
   "source": [
    "#!/bin/env python\n",
    "\n",
    "\"\"\"\n",
    "Created on Nov 17, 2017\n",
    "\n",
    "Module that helps containerize the CLIP peak information.\n",
    "\n",
    "@author: Brian\n",
    "\"\"\"\n",
    "import pandas as pd\n",
    "import pybedtools\n",
    "import pyBigWig\n",
    "import intervals\n",
    "\n",
    "class Peak():\n",
    "    \"\"\"\n",
    "    ReadDensity class\n",
    "    Attributes:\n",
    "        self.pos(positive *.bw file)\n",
    "        self.neg(negative *.bw file)\n",
    "    \"\"\"\n",
    "\n",
    "    def __init__(self, peaks, name=None, stranded=True):\n",
    "        try:\n",
    "            self.peaks = pyBigWig.open(peaks)\n",
    "            self.name = name if name is not None else ''\n",
    "            self.stranded = stranded\n",
    "\n",
    "        except Exception as e:\n",
    "            print(\"couldn't open the peak files!\")\n",
    "            print(e)\n",
    "\n",
    "    def overlaps(self, chrom, start, end, strand, flatten=False):\n",
    "        \"\"\"\n",
    "        Returns true if there is a peak that overlaps the defined region.\n",
    "        False otherwise.\n",
    "\n",
    "        Parameters\n",
    "        ----------\n",
    "        chrom\n",
    "        start\n",
    "        end\n",
    "        strand\n",
    "        flatten\n",
    "\n",
    "        Returns\n",
    "        -------\n",
    "\n",
    "        \"\"\"\n",
    "        region = pybedtools.create_interval_from_list(\n",
    "            [\n",
    "                chrom, str(start), str(end), '.', '0', strand\n",
    "            ]\n",
    "        )\n",
    "        series = pd.Series(data=0, index=range(len(region)))\n",
    "        try:\n",
    "            overlapped_peaks = self.peaks.entries(chrom, start, end, strand)\n",
    "        except RuntimeError as e:\n",
    "            print(\n",
    "            \"weird entry (this can happen if the peak bb does not contain this chromosome, or if the region is invalid)\"\n",
    "            \": {}:{}-{}:{}\".format(chrom, start, end, strand), e)\n",
    "            return False\n",
    "        if overlapped_peaks is None:\n",
    "            return False\n",
    "        else:\n",
    "            return True\n",
    "\n",
    "    def values(self, chrom, start, end, strand, flatten=False):\n",
    "        \"\"\"\n",
    "\n",
    "        Parameters\n",
    "        ----------\n",
    "        chrom : basestring\n",
    "            (eg. chr1)\n",
    "        start : int\n",
    "            0-based start (first position in chromosome is 0)\n",
    "        end : int\n",
    "            1-based end (last position is not included)\n",
    "        strand : str\n",
    "            either '+' or '-'\n",
    "        flatten : bool\n",
    "            in the case where multiple peaks overlap a region,\n",
    "            scores will be summed over these regions. If flatten = True,\n",
    "            scores will be the minimum of the multiple peaks.\n",
    "\n",
    "        Returns\n",
    "        -------\n",
    "        densities : list\n",
    "            values corresponding to density over specified positions.\n",
    "        \"\"\"\n",
    "\n",
    "        # Get all overlapping values\n",
    "        region = pybedtools.create_interval_from_list(\n",
    "            [\n",
    "                chrom, str(start), str(end), '.', '0', strand\n",
    "            ]\n",
    "        )\n",
    "        series = pd.Series(data=0, index=range(len(region)))\n",
    "        try:\n",
    "            overlapped_peaks = self.peaks.entries(chrom, start, end, strand)\n",
    "        except RuntimeError as e:\n",
    "            print(\"weird entry (this can happen if the peak bb does not contain this chromosome, or if the region is invalid)\"\n",
    "                  \": {}:{}-{}:{}\".format(chrom, start, end, strand), e)\n",
    "            return series\n",
    "\n",
    "        if overlapped_peaks is None:\n",
    "            return series\n",
    "        else:\n",
    "            print(overlapped_peaks)\n",
    "            for p in overlapped_peaks:\n",
    "                bed_list = [chrom, str(p[0]), str(p[1])] + p[2].split('\\t')\n",
    "                if self.stranded:\n",
    "                    if bed_list[5] == strand:\n",
    "                        peak = pybedtools.create_interval_from_list(bed_list)\n",
    "                        if flatten:\n",
    "                            print('not implemented or important yet')  # TODO: implement flatten\n",
    "                        else:\n",
    "                            series += intervals.get_overlap(peak, region)\n",
    "                else:\n",
    "                    peak = pybedtools.create_interval_from_list(bed_list)\n",
    "                    if flatten:\n",
    "                        print('not implemented or important yet')  # TODO: implement flatten\n",
    "                    else:\n",
    "                        series += intervals.get_overlap(peak, region)\n",
    "            return series\n",
    "\n",
    "    def pseudocount(self):\n",
    "        return 0"
   ]
  },
  {
   "cell_type": "code",
   "execution_count": 2,
   "metadata": {},
   "outputs": [],
   "source": [
    "bb_file = '/projects/ps-yeolab3/bay001/maps/current_annotations/se_peak_bigbeds/204_01.basedon_204_01.peaks.l2inputnormnew.bed.compressed.bed.p3f1.bed.sorted.bed.bb'"
   ]
  },
  {
   "cell_type": "code",
   "execution_count": 3,
   "metadata": {},
   "outputs": [],
   "source": [
    "stranded_test = Peak(peaks=bb_file, name='204_01_test')\n",
    "unstranded_test = Peak(peaks=bb_file, name='204_01_test', stranded=False)"
   ]
  },
  {
   "cell_type": "code",
   "execution_count": 4,
   "metadata": {},
   "outputs": [
    {
     "name": "stdout",
     "output_type": "stream",
     "text": [
      "[(17451, 17528, 'peak\\t0\\t-')]\n"
     ]
    },
    {
     "data": {
      "text/plain": [
       "0    1\n",
       "1    1\n",
       "2    1\n",
       "3    1\n",
       "4    1\n",
       "dtype: int64"
      ]
     },
     "execution_count": 4,
     "metadata": {},
     "output_type": "execute_result"
    }
   ],
   "source": [
    "chrom = 'chr1'\n",
    "start = 17451\n",
    "end = 17528\n",
    "strand = '-'\n",
    "stranded_neg_test = stranded_test.values(chrom=chrom, start=start, end=end, strand=strand)[:5]\n",
    "stranded_neg_test"
   ]
  },
  {
   "cell_type": "code",
   "execution_count": 5,
   "metadata": {},
   "outputs": [
    {
     "name": "stdout",
     "output_type": "stream",
     "text": [
      "[(17451, 17528, 'peak\\t0\\t-')]\n"
     ]
    },
    {
     "data": {
      "text/plain": [
       "0    0\n",
       "1    0\n",
       "2    0\n",
       "3    0\n",
       "4    0\n",
       "dtype: int64"
      ]
     },
     "execution_count": 5,
     "metadata": {},
     "output_type": "execute_result"
    }
   ],
   "source": [
    "chrom = 'chr1'\n",
    "start = 17451\n",
    "end = 17528\n",
    "strand = '+'\n",
    "stranded_test.values(chrom=chrom, start=start, end=end, strand=strand)[:5]"
   ]
  },
  {
   "cell_type": "code",
   "execution_count": 12,
   "metadata": {},
   "outputs": [],
   "source": [
    "from pandas.testing import assert_series_equal"
   ]
  },
  {
   "cell_type": "code",
   "execution_count": 14,
   "metadata": {},
   "outputs": [
    {
     "name": "stdout",
     "output_type": "stream",
     "text": [
      "[(17451, 17528, 'peak\\t0\\t-')]\n",
      "[(17451, 17528, 'peak\\t0\\t-')]\n"
     ]
    }
   ],
   "source": [
    "x = unstranded_test.values(chrom=chrom, start=start, end=end, strand=\"+\")\n",
    "y = unstranded_test.values(chrom=chrom, start=start, end=end, strand=\"-\")\n",
    "assert_series_equal(x, y)"
   ]
  },
  {
   "cell_type": "code",
   "execution_count": 17,
   "metadata": {},
   "outputs": [
    {
     "name": "stdout",
     "output_type": "stream",
     "text": [
      "[(17451, 17528, 'peak\\t0\\t-')]\n"
     ]
    }
   ],
   "source": [
    "z = stranded_test.values(chrom=chrom, start=start, end=end, strand=\"-\")\n",
    "assert_series_equal(x, z)"
   ]
  },
  {
   "cell_type": "code",
   "execution_count": null,
   "metadata": {},
   "outputs": [],
   "source": [
    "test_bigwig = pyBigWig.open(bb_file)"
   ]
  },
  {
   "cell_type": "code",
   "execution_count": null,
   "metadata": {},
   "outputs": [],
   "source": [
    "test_bigwig.entries(chrom, start, end, strand)"
   ]
  },
  {
   "cell_type": "code",
   "execution_count": null,
   "metadata": {},
   "outputs": [],
   "source": []
  }
 ],
 "metadata": {
  "kernelspec": {
   "display_name": "python2-essential",
   "language": "python",
   "name": "python2-essential"
  },
  "language_info": {
   "codemirror_mode": {
    "name": "ipython",
    "version": 2
   },
   "file_extension": ".py",
   "mimetype": "text/x-python",
   "name": "python",
   "nbconvert_exporter": "python",
   "pygments_lexer": "ipython2",
   "version": "2.7.15"
  }
 },
 "nbformat": 4,
 "nbformat_minor": 2
}
