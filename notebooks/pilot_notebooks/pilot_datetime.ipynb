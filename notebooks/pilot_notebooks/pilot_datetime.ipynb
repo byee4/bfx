{
 "cells": [
  {
   "cell_type": "code",
   "execution_count": 3,
   "metadata": {},
   "outputs": [],
   "source": [
    "import datetime\n",
    "import os"
   ]
  },
  {
   "cell_type": "code",
   "execution_count": 4,
   "metadata": {},
   "outputs": [
    {
     "data": {
      "text/plain": [
       "'status_20180509.txt'"
      ]
     },
     "execution_count": 4,
     "metadata": {},
     "output_type": "execute_result"
    }
   ],
   "source": [
    "def append_date(fn):\n",
    "    \"\"\"\n",
    "    Appends the date and time, to the second, to a filename.\n",
    "\n",
    "    :param fn: basestring\n",
    "        file name.\n",
    "    :return fn.datetime:\n",
    "    \"\"\"\n",
    "    f, ext = os.path.splitext(fn)\n",
    "    return '{}_{:%Y%m%d%z}{}'.format(\n",
    "        f, datetime.datetime.now(), ext\n",
    "    )\n",
    "append_date('status.txt')"
   ]
  },
  {
   "cell_type": "code",
   "execution_count": null,
   "metadata": {},
   "outputs": [],
   "source": []
  }
 ],
 "metadata": {
  "kernelspec": {
   "display_name": "Python 2",
   "language": "python",
   "name": "python2"
  },
  "language_info": {
   "codemirror_mode": {
    "name": "ipython",
    "version": 2
   },
   "file_extension": ".py",
   "mimetype": "text/x-python",
   "name": "python",
   "nbconvert_exporter": "python",
   "pygments_lexer": "ipython2",
   "version": "2.7.14"
  }
 },
 "nbformat": 4,
 "nbformat_minor": 2
}
