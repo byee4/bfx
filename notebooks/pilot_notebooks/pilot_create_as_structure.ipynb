{
 "cells": [
  {
   "cell_type": "code",
   "execution_count": 1,
   "metadata": {},
   "outputs": [],
   "source": [
    "import pandas as pd\n",
    "import numpy as np\n",
    "import os\n",
    "import gffutils\n",
    "import pybedtools\n",
    "from collections import defaultdict"
   ]
  },
  {
   "cell_type": "markdown",
   "metadata": {},
   "source": [
    "# AS structure mirrors gtf/gff file, except the last attributes column contains premrna_length and mrna_length\n",
    "- one line per gene\n",
    "- 2nd column contains \"AS_STRUCTURE\"\n",
    "- mrna_lengths = (longest transcript) exons regions\n",
    "- premrna_lengths = gene (longest transcript) start - stop"
   ]
  },
  {
   "cell_type": "code",
   "execution_count": 2,
   "metadata": {},
   "outputs": [],
   "source": [
    "db_file = '/projects/ps-yeolab/genomes/hg19/gencode_v17/gencode.v17.annotation.gtf.db'\n",
    "db = gffutils.FeatureDB(db_file)"
   ]
  },
  {
   "cell_type": "code",
   "execution_count": 3,
   "metadata": {},
   "outputs": [],
   "source": [
    "def get_keys(species):\n",
    "    \"\"\"\n",
    "    Describes the language for each kind of gtf file \n",
    "    (usually different between sources).\n",
    "\n",
    "    :param species: string\n",
    "        either one of: 'hg19','mm10','ce11','mm9','hg38'\n",
    "    :return:\n",
    "    \"\"\"\n",
    "\n",
    "    if species == 'ce10':\n",
    "        print(\"species is {}\".format(species))\n",
    "        cds_key = 'CDS'\n",
    "        utr3_key = 'three_prime_UTR'\n",
    "        utr5_key = 'five_prime_UTR'\n",
    "        utr_key = None\n",
    "        gene_key = 'gene'\n",
    "        gene_name_key = 'gene_name'\n",
    "        transcript_id_key = 'transcript_id'\n",
    "        type_key = 'transcript_biotype'\n",
    "        exon_key = 'exon'\n",
    "        gene_id_key = 'gene_id'\n",
    "        gene_type_key = 'gene_biotype'\n",
    "    elif species == 'ce11':\n",
    "        print(\"species is {}\".format(species))\n",
    "        cds_key = 'CDS'\n",
    "        utr3_key = 'three_prime_utr'\n",
    "        utr5_key = 'five_prime_utr'\n",
    "        utr_key = None\n",
    "        gene_key = 'gene'\n",
    "        gene_name_key = 'gene_name'\n",
    "        transcript_id_key = 'transcript_id'\n",
    "        type_key = 'transcript_biotype'\n",
    "        exon_key = 'exon'\n",
    "        gene_id_key = 'gene_id'\n",
    "        gene_type_key = 'gene_biotype'\n",
    "    else:\n",
    "        print(\"species is {}\".format(species))\n",
    "        cds_key = 'CDS'\n",
    "        utr3_key = None  #\n",
    "        utr5_key = None  # in human/mice, this key doesn't exist\n",
    "        utr_key = 'UTR'\n",
    "        gene_key = 'gene'\n",
    "        gene_name_key = 'gene_name'\n",
    "        transcript_id_key = 'transcript_id'\n",
    "        type_key = 'transcript_type'\n",
    "        exon_key = 'exon'\n",
    "        gene_id_key = 'gene_id'\n",
    "        gene_type_key = 'gene_type'\n",
    "\n",
    "    keys = {\n",
    "        'cds': cds_key,\n",
    "        'utr3': utr3_key,\n",
    "        'utr5': utr5_key,\n",
    "        'utr': utr_key,\n",
    "        'gene': gene_key,\n",
    "        'gene_name': gene_name_key,\n",
    "        'transcript_id': transcript_id_key,\n",
    "        'transcript_type': type_key,\n",
    "        'exon': exon_key,\n",
    "        'gene_id': gene_id_key,\n",
    "        'gene_type': gene_type_key\n",
    "    }\n",
    "    return keys\n"
   ]
  },
  {
   "cell_type": "code",
   "execution_count": 4,
   "metadata": {},
   "outputs": [],
   "source": [
    "def get_gene_to_transcript_dict(db, gene_id_key, transcript_id_key):\n",
    "    genes_dict = defaultdict(list)\n",
    "    for gene_feature in db.features_of_type('transcript'):\n",
    "        for gene_id in gene_feature.attributes[gene_id_key]:\n",
    "            for transcript_id in gene_feature.attributes[transcript_id_key]:\n",
    "                genes_dict[gene_id].append(transcript_id)\n",
    "    return genes_dict\n",
    "    \n",
    "def get_all_exons_dict(db, transcript_id_key):\n",
    "    \"\"\"\n",
    "    Returns dictionary of exons as transcript_id:{\n",
    "        [\n",
    "            {'start':START, 'end':END},\n",
    "            {'start':START, 'end':END},\n",
    "            ...\n",
    "        ]\n",
    "    }.\n",
    "\n",
    "    :param db: gffutils.FeatureDB\n",
    "    :param transcript_id_key: string\n",
    "    :return: \n",
    "    \"\"\"\n",
    "\n",
    "    exons_dict = defaultdict(list)\n",
    "    for exon_feature in db.features_of_type('exon'):\n",
    "        for transcript_id in exon_feature.attributes[transcript_id_key]:\n",
    "            exons_dict[transcript_id].append(\n",
    "                {\n",
    "                    'chrom': exon_feature.seqid,\n",
    "                    'start': exon_feature.start,\n",
    "                    'end': exon_feature.end,\n",
    "                    'strand': exon_feature.strand,\n",
    "                }\n",
    "            )\n",
    "    return exons_dict\n",
    "\n",
    "\n",
    "def get_all_transcripts_dict(db, transcript_id_key):\n",
    "    \"\"\"\n",
    "    Returns dictionary of transcript_id:{'start':START, 'end':END}.\n",
    "\n",
    "    :param db: gffutils.FeatureDB\n",
    "    :param transcript_id_key: string\n",
    "    :return: transcripts_dict: defaultdict(dict)\n",
    "        hash of transcripts and their start/end coordinates\n",
    "    \"\"\"\n",
    "    transcripts_dict = defaultdict(dict)\n",
    "    for transcript_feature in db.features_of_type('transcript'):\n",
    "        for transcript_id in transcript_feature.attributes[transcript_id_key]:\n",
    "            transcripts_dict[transcript_id] = {\n",
    "                'start': transcript_feature.start,\n",
    "                'end': transcript_feature.end\n",
    "            }\n",
    "    return transcripts_dict"
   ]
  },
  {
   "cell_type": "code",
   "execution_count": 5,
   "metadata": {},
   "outputs": [
    {
     "name": "stdout",
     "output_type": "stream",
     "text": [
      "species is hg19\n"
     ]
    },
    {
     "data": {
      "text/plain": [
       "{'cds': 'CDS',\n",
       " 'exon': 'exon',\n",
       " 'gene': 'gene',\n",
       " 'gene_id': 'gene_id',\n",
       " 'gene_name': 'gene_name',\n",
       " 'gene_type': 'gene_type',\n",
       " 'transcript_id': 'transcript_id',\n",
       " 'transcript_type': 'transcript_type',\n",
       " 'utr': 'UTR',\n",
       " 'utr3': None,\n",
       " 'utr5': None}"
      ]
     },
     "execution_count": 5,
     "metadata": {},
     "output_type": "execute_result"
    }
   ],
   "source": [
    "keys = get_keys('hg19')\n",
    "keys"
   ]
  },
  {
   "cell_type": "code",
   "execution_count": 6,
   "metadata": {},
   "outputs": [],
   "source": [
    "genes = get_gene_to_transcript_dict(db, keys['gene_id'], keys['transcript_id'])\n",
    "exons = get_all_exons_dict(db, keys['transcript_id'])\n",
    "transcripts = get_all_transcripts_dict(db, keys['transcript_id'])"
   ]
  },
  {
   "cell_type": "markdown",
   "metadata": {},
   "source": [
    "# The following code gives me the length of the longest transcript\n",
    "- expected behavior?"
   ]
  },
  {
   "cell_type": "code",
   "execution_count": 7,
   "metadata": {},
   "outputs": [],
   "source": [
    "def get_longest_transcripts(genes_dict, transcripts_dict):\n",
    "    \"\"\"\n",
    "    Returns a dictionary of genes : longest_transcript\n",
    "    \"\"\"\n",
    "    longest_genes_dict = defaultdict(dict)\n",
    "    for gene, transcripts in genes_dict.iteritems():\n",
    "        max_transcript_len = -1\n",
    "        max_transcript = \"\"\n",
    "        for transcript in transcripts:\n",
    "            transcript_len = transcripts_dict[transcript]['end'] - transcripts_dict[transcript]['start']\n",
    "            if transcript_len > max_transcript_len:\n",
    "                max_transcript_len = transcript_len\n",
    "                max_transcript = transcript\n",
    "        longest_genes_dict[gene] = max_transcript\n",
    "    return longest_genes_dict"
   ]
  },
  {
   "cell_type": "code",
   "execution_count": 8,
   "metadata": {},
   "outputs": [],
   "source": [
    "longest_transcripts = get_longest_transcripts(genes, transcripts)"
   ]
  },
  {
   "cell_type": "code",
   "execution_count": 9,
   "metadata": {},
   "outputs": [
    {
     "name": "stdout",
     "output_type": "stream",
     "text": [
      "(23582035, 23598873, 'ENST00000600643.1')\n"
     ]
    },
    {
     "data": {
      "text/plain": [
       "16839"
      ]
     },
     "execution_count": 9,
     "metadata": {},
     "output_type": "execute_result"
    }
   ],
   "source": [
    "def get_premrna_lengths(gene_id, longest_transcripts, transcripts_dict):\n",
    "    pos = transcripts_dict[longest_transcripts[gene_id]]\n",
    "    print(pos['start'], pos['end'], longest_transcripts[gene_id])\n",
    "    return pos['end'] - pos['start'] + 1  # (coords are 1-based inclusive still)\n",
    "\n",
    "get_premrna_lengths('ENSG00000269416.1', longest_transcripts, transcripts)"
   ]
  },
  {
   "cell_type": "markdown",
   "metadata": {},
   "source": [
    "# The following code gives me the length of the (most upstream - most downstream) transcript position\n",
    "- expected behavior?"
   ]
  },
  {
   "cell_type": "code",
   "execution_count": 10,
   "metadata": {},
   "outputs": [],
   "source": [
    "def most_upstream_downstream_positions(genes_dict, transcripts_dict):\n",
    "    \"\"\"\n",
    "    Assumes the most downstream start < most downstream end (+, flipped for -) foreach transcript.\n",
    "    Returns a dictionary of genes : \n",
    "    \"\"\"\n",
    "    d = defaultdict(dict)\n",
    "    for gene, transcripts in genes_dict.iteritems():\n",
    "        min_transcript_pos = 1000000000  # as long as we don't have any chromosomes larger than 1 billion\n",
    "        max_transcript_pos = -1\n",
    "        for transcript in transcripts:\n",
    "            if transcripts_dict[transcript]['end'] > max_transcript_pos:\n",
    "                max_transcript_pos = transcripts_dict[transcript]['end']\n",
    "            if transcripts_dict[transcript]['start'] < min_transcript_pos:\n",
    "                min_transcript_pos = transcripts_dict[transcript]['start']\n",
    "                \n",
    "        d[gene] = {'start':min_transcript_pos, 'end':max_transcript_pos}\n",
    "    return d"
   ]
  },
  {
   "cell_type": "code",
   "execution_count": 24,
   "metadata": {},
   "outputs": [],
   "source": [
    "upstream_downstream = most_upstream_downstream_positions(genes, transcripts)"
   ]
  },
  {
   "cell_type": "code",
   "execution_count": null,
   "metadata": {},
   "outputs": [],
   "source": []
  },
  {
   "cell_type": "code",
   "execution_count": 12,
   "metadata": {},
   "outputs": [
    {
     "data": {
      "text/plain": [
       "149313"
      ]
     },
     "execution_count": 12,
     "metadata": {},
     "output_type": "execute_result"
    }
   ],
   "source": [
    "def get_premrna_lengths(gene_id, upstream_downstream, transcripts_dict):\n",
    "    start = upstream_downstream[gene_id]['start']\n",
    "    end = upstream_downstream[gene_id]['end'] \n",
    "    return end - start + 1  # (coords are 1-based inclusive still)\n",
    "\n",
    "get_premrna_lengths('ENSG00000095587.8', upstream_downstream, transcripts)"
   ]
  },
  {
   "cell_type": "code",
   "execution_count": 48,
   "metadata": {},
   "outputs": [],
   "source": [
    "def get_mrna_lengths(gene_id, exons_dict, genes_dict):\n",
    "    exons_list = pybedtools.BedTool()\n",
    "    total_mrna_length = 0\n",
    "    for transcript in genes_dict[gene_id]:\n",
    "        for exon in exons_dict[transcript]:\n",
    "            exons_list.append(pybedtools.create_interval_from_list(\n",
    "                [exon['chrom'],\n",
    "                str(exon['start'] - 1),  # since we're converting to bedtool, use 0-based\n",
    "                str(exon['end']),\n",
    "                transcript,\n",
    "                '0',\n",
    "                exon['strand']]\n",
    "            ))\n",
    "    exons_list = exons_list.sort().merge()  # not strand specific\n",
    "    total_mrna_length = [(e.end - e.start) for e in exons_list]\n",
    "    return total_mrna_length\n",
    "    # return exons_list.sort().total_coverage()"
   ]
  },
  {
   "cell_type": "code",
   "execution_count": 49,
   "metadata": {},
   "outputs": [
    {
     "ename": "AttributeError",
     "evalue": "'BedTool' object has no attribute 'append'",
     "output_type": "error",
     "traceback": [
      "\u001b[0;31m---------------------------------------------------------------------------\u001b[0m",
      "\u001b[0;31mAttributeError\u001b[0m                            Traceback (most recent call last)",
      "\u001b[0;32m<ipython-input-49-6af22463c4de>\u001b[0m in \u001b[0;36m<module>\u001b[0;34m()\u001b[0m\n\u001b[0;32m----> 1\u001b[0;31m \u001b[0mget_ipython\u001b[0m\u001b[0;34m(\u001b[0m\u001b[0;34m)\u001b[0m\u001b[0;34m.\u001b[0m\u001b[0mrun_cell_magic\u001b[0m\u001b[0;34m(\u001b[0m\u001b[0;34mu'timeit'\u001b[0m\u001b[0;34m,\u001b[0m \u001b[0;34mu''\u001b[0m\u001b[0;34m,\u001b[0m \u001b[0;34mu\"get_mrna_lengths('ENSG00000095587.8', exons, genes)\"\u001b[0m\u001b[0;34m)\u001b[0m\u001b[0;34m\u001b[0m\u001b[0m\n\u001b[0m",
      "\u001b[0;32m/home/bay001/anaconda2/envs/brian/lib/python2.7/site-packages/IPython/core/interactiveshell.pyc\u001b[0m in \u001b[0;36mrun_cell_magic\u001b[0;34m(self, magic_name, line, cell)\u001b[0m\n\u001b[1;32m   2115\u001b[0m             \u001b[0mmagic_arg_s\u001b[0m \u001b[0;34m=\u001b[0m \u001b[0mself\u001b[0m\u001b[0;34m.\u001b[0m\u001b[0mvar_expand\u001b[0m\u001b[0;34m(\u001b[0m\u001b[0mline\u001b[0m\u001b[0;34m,\u001b[0m \u001b[0mstack_depth\u001b[0m\u001b[0;34m)\u001b[0m\u001b[0;34m\u001b[0m\u001b[0m\n\u001b[1;32m   2116\u001b[0m             \u001b[0;32mwith\u001b[0m \u001b[0mself\u001b[0m\u001b[0;34m.\u001b[0m\u001b[0mbuiltin_trap\u001b[0m\u001b[0;34m:\u001b[0m\u001b[0;34m\u001b[0m\u001b[0m\n\u001b[0;32m-> 2117\u001b[0;31m                 \u001b[0mresult\u001b[0m \u001b[0;34m=\u001b[0m \u001b[0mfn\u001b[0m\u001b[0;34m(\u001b[0m\u001b[0mmagic_arg_s\u001b[0m\u001b[0;34m,\u001b[0m \u001b[0mcell\u001b[0m\u001b[0;34m)\u001b[0m\u001b[0;34m\u001b[0m\u001b[0m\n\u001b[0m\u001b[1;32m   2118\u001b[0m             \u001b[0;32mreturn\u001b[0m \u001b[0mresult\u001b[0m\u001b[0;34m\u001b[0m\u001b[0m\n\u001b[1;32m   2119\u001b[0m \u001b[0;34m\u001b[0m\u001b[0m\n",
      "\u001b[0;32m<decorator-gen-59>\u001b[0m in \u001b[0;36mtimeit\u001b[0;34m(self, line, cell)\u001b[0m\n",
      "\u001b[0;32m/home/bay001/anaconda2/envs/brian/lib/python2.7/site-packages/IPython/core/magic.pyc\u001b[0m in \u001b[0;36m<lambda>\u001b[0;34m(f, *a, **k)\u001b[0m\n\u001b[1;32m    186\u001b[0m     \u001b[0;31m# but it's overkill for just that one bit of state.\u001b[0m\u001b[0;34m\u001b[0m\u001b[0;34m\u001b[0m\u001b[0m\n\u001b[1;32m    187\u001b[0m     \u001b[0;32mdef\u001b[0m \u001b[0mmagic_deco\u001b[0m\u001b[0;34m(\u001b[0m\u001b[0marg\u001b[0m\u001b[0;34m)\u001b[0m\u001b[0;34m:\u001b[0m\u001b[0;34m\u001b[0m\u001b[0m\n\u001b[0;32m--> 188\u001b[0;31m         \u001b[0mcall\u001b[0m \u001b[0;34m=\u001b[0m \u001b[0;32mlambda\u001b[0m \u001b[0mf\u001b[0m\u001b[0;34m,\u001b[0m \u001b[0;34m*\u001b[0m\u001b[0ma\u001b[0m\u001b[0;34m,\u001b[0m \u001b[0;34m**\u001b[0m\u001b[0mk\u001b[0m\u001b[0;34m:\u001b[0m \u001b[0mf\u001b[0m\u001b[0;34m(\u001b[0m\u001b[0;34m*\u001b[0m\u001b[0ma\u001b[0m\u001b[0;34m,\u001b[0m \u001b[0;34m**\u001b[0m\u001b[0mk\u001b[0m\u001b[0;34m)\u001b[0m\u001b[0;34m\u001b[0m\u001b[0m\n\u001b[0m\u001b[1;32m    189\u001b[0m \u001b[0;34m\u001b[0m\u001b[0m\n\u001b[1;32m    190\u001b[0m         \u001b[0;32mif\u001b[0m \u001b[0mcallable\u001b[0m\u001b[0;34m(\u001b[0m\u001b[0marg\u001b[0m\u001b[0;34m)\u001b[0m\u001b[0;34m:\u001b[0m\u001b[0;34m\u001b[0m\u001b[0m\n",
      "\u001b[0;32m/home/bay001/anaconda2/envs/brian/lib/python2.7/site-packages/IPython/core/magics/execution.pyc\u001b[0m in \u001b[0;36mtimeit\u001b[0;34m(self, line, cell)\u001b[0m\n\u001b[1;32m   1055\u001b[0m             \u001b[0mnumber\u001b[0m \u001b[0;34m=\u001b[0m \u001b[0;36m1\u001b[0m\u001b[0;34m\u001b[0m\u001b[0m\n\u001b[1;32m   1056\u001b[0m             \u001b[0;32mfor\u001b[0m \u001b[0m_\u001b[0m \u001b[0;32min\u001b[0m \u001b[0mrange\u001b[0m\u001b[0;34m(\u001b[0m\u001b[0;36m1\u001b[0m\u001b[0;34m,\u001b[0m \u001b[0;36m10\u001b[0m\u001b[0;34m)\u001b[0m\u001b[0;34m:\u001b[0m\u001b[0;34m\u001b[0m\u001b[0m\n\u001b[0;32m-> 1057\u001b[0;31m                 \u001b[0mtime_number\u001b[0m \u001b[0;34m=\u001b[0m \u001b[0mtimer\u001b[0m\u001b[0;34m.\u001b[0m\u001b[0mtimeit\u001b[0m\u001b[0;34m(\u001b[0m\u001b[0mnumber\u001b[0m\u001b[0;34m)\u001b[0m\u001b[0;34m\u001b[0m\u001b[0m\n\u001b[0m\u001b[1;32m   1058\u001b[0m                 \u001b[0mworst_tuning\u001b[0m \u001b[0;34m=\u001b[0m \u001b[0mmax\u001b[0m\u001b[0;34m(\u001b[0m\u001b[0mworst_tuning\u001b[0m\u001b[0;34m,\u001b[0m \u001b[0mtime_number\u001b[0m \u001b[0;34m/\u001b[0m \u001b[0mnumber\u001b[0m\u001b[0;34m)\u001b[0m\u001b[0;34m\u001b[0m\u001b[0m\n\u001b[1;32m   1059\u001b[0m                 \u001b[0;32mif\u001b[0m \u001b[0mtime_number\u001b[0m \u001b[0;34m>=\u001b[0m \u001b[0;36m0.2\u001b[0m\u001b[0;34m:\u001b[0m\u001b[0;34m\u001b[0m\u001b[0m\n",
      "\u001b[0;32m/home/bay001/anaconda2/envs/brian/lib/python2.7/site-packages/IPython/core/magics/execution.pyc\u001b[0m in \u001b[0;36mtimeit\u001b[0;34m(self, number)\u001b[0m\n\u001b[1;32m    137\u001b[0m         \u001b[0mgc\u001b[0m\u001b[0;34m.\u001b[0m\u001b[0mdisable\u001b[0m\u001b[0;34m(\u001b[0m\u001b[0;34m)\u001b[0m\u001b[0;34m\u001b[0m\u001b[0m\n\u001b[1;32m    138\u001b[0m         \u001b[0;32mtry\u001b[0m\u001b[0;34m:\u001b[0m\u001b[0;34m\u001b[0m\u001b[0m\n\u001b[0;32m--> 139\u001b[0;31m             \u001b[0mtiming\u001b[0m \u001b[0;34m=\u001b[0m \u001b[0mself\u001b[0m\u001b[0;34m.\u001b[0m\u001b[0minner\u001b[0m\u001b[0;34m(\u001b[0m\u001b[0mit\u001b[0m\u001b[0;34m,\u001b[0m \u001b[0mself\u001b[0m\u001b[0;34m.\u001b[0m\u001b[0mtimer\u001b[0m\u001b[0;34m)\u001b[0m\u001b[0;34m\u001b[0m\u001b[0m\n\u001b[0m\u001b[1;32m    140\u001b[0m         \u001b[0;32mfinally\u001b[0m\u001b[0;34m:\u001b[0m\u001b[0;34m\u001b[0m\u001b[0m\n\u001b[1;32m    141\u001b[0m             \u001b[0;32mif\u001b[0m \u001b[0mgcold\u001b[0m\u001b[0;34m:\u001b[0m\u001b[0;34m\u001b[0m\u001b[0m\n",
      "\u001b[0;32m<magic-timeit>\u001b[0m in \u001b[0;36minner\u001b[0;34m(_it, _timer)\u001b[0m\n",
      "\u001b[0;32m<ipython-input-48-d60357ab511f>\u001b[0m in \u001b[0;36mget_mrna_lengths\u001b[0;34m(gene_id, exons_dict, genes_dict)\u001b[0m\n\u001b[1;32m      4\u001b[0m     \u001b[0;32mfor\u001b[0m \u001b[0mtranscript\u001b[0m \u001b[0;32min\u001b[0m \u001b[0mgenes_dict\u001b[0m\u001b[0;34m[\u001b[0m\u001b[0mgene_id\u001b[0m\u001b[0;34m]\u001b[0m\u001b[0;34m:\u001b[0m\u001b[0;34m\u001b[0m\u001b[0m\n\u001b[1;32m      5\u001b[0m         \u001b[0;32mfor\u001b[0m \u001b[0mexon\u001b[0m \u001b[0;32min\u001b[0m \u001b[0mexons_dict\u001b[0m\u001b[0;34m[\u001b[0m\u001b[0mtranscript\u001b[0m\u001b[0;34m]\u001b[0m\u001b[0;34m:\u001b[0m\u001b[0;34m\u001b[0m\u001b[0m\n\u001b[0;32m----> 6\u001b[0;31m             exons_list.append(pybedtools.create_interval_from_list(\n\u001b[0m\u001b[1;32m      7\u001b[0m                 [exon['chrom'],\n\u001b[1;32m      8\u001b[0m                 \u001b[0mstr\u001b[0m\u001b[0;34m(\u001b[0m\u001b[0mexon\u001b[0m\u001b[0;34m[\u001b[0m\u001b[0;34m'start'\u001b[0m\u001b[0;34m]\u001b[0m \u001b[0;34m-\u001b[0m \u001b[0;36m1\u001b[0m\u001b[0;34m)\u001b[0m\u001b[0;34m,\u001b[0m  \u001b[0;31m# since we're converting to bedtool, use 0-based\u001b[0m\u001b[0;34m\u001b[0m\u001b[0m\n",
      "\u001b[0;31mAttributeError\u001b[0m: 'BedTool' object has no attribute 'append'"
     ]
    }
   ],
   "source": [
    "%%timeit\n",
    "get_mrna_lengths('ENSG00000095587.8', exons, genes)"
   ]
  },
  {
   "cell_type": "code",
   "execution_count": 26,
   "metadata": {},
   "outputs": [
    {
     "name": "stdout",
     "output_type": "stream",
     "text": [
      "The slowest run took 29.90 times longer than the fastest. This could mean that an intermediate result is being cached.\n",
      "1000000 loops, best of 3: 335 ns per loop\n"
     ]
    }
   ],
   "source": [
    "%%timeit\n",
    "get_premrna_lengths('ENSG00000095587.8', upstream_downstream, transcripts)"
   ]
  },
  {
   "cell_type": "code",
   "execution_count": 27,
   "metadata": {},
   "outputs": [
    {
     "data": {
      "application/vnd.jupyter.widget-view+json": {
       "model_id": "55e8dd117ecb4b1889b6b030ffabf246",
       "version_major": 2,
       "version_minor": 0
      },
      "text/html": [
       "<p>Failed to display Jupyter Widget of type <code>HBox</code>.</p>\n",
       "<p>\n",
       "  If you're reading this message in the Jupyter Notebook or JupyterLab Notebook, it may mean\n",
       "  that the widgets JavaScript is still loading. If this message persists, it\n",
       "  likely means that the widgets JavaScript library is either not installed or\n",
       "  not enabled. See the <a href=\"https://ipywidgets.readthedocs.io/en/stable/user_install.html\">Jupyter\n",
       "  Widgets Documentation</a> for setup instructions.\n",
       "</p>\n",
       "<p>\n",
       "  If you're reading this message in another frontend (for example, a static\n",
       "  rendering on GitHub or <a href=\"https://nbviewer.jupyter.org/\">NBViewer</a>),\n",
       "  it may mean that your frontend doesn't currently support widgets.\n",
       "</p>\n"
      ],
      "text/plain": [
       "HBox(children=(IntProgress(value=0, max=57281), HTML(value=u'')))"
      ]
     },
     "metadata": {},
     "output_type": "display_data"
    },
    {
     "name": "stdout",
     "output_type": "stream",
     "text": [
      "\n"
     ]
    },
    {
     "name": "stderr",
     "output_type": "stream",
     "text": [
      "Exception in thread Thread-5:\n",
      "Traceback (most recent call last):\n",
      "  File \"/home/bay001/anaconda2/envs/brian/lib/python2.7/threading.py\", line 801, in __bootstrap_inner\n",
      "    self.run()\n",
      "  File \"/home/bay001/anaconda2/envs/brian/lib/python2.7/site-packages/tqdm/_tqdm.py\", line 144, in run\n",
      "    for instance in self.tqdm_cls._instances:\n",
      "  File \"/home/bay001/anaconda2/envs/brian/lib/python2.7/_weakrefset.py\", line 60, in __iter__\n",
      "    for itemref in self.data:\n",
      "RuntimeError: Set changed size during iteration\n",
      "\n"
     ]
    }
   ],
   "source": [
    "from tqdm import trange, tqdm_notebook, tnrange\n",
    "out_file= '/home/bay001/projects/codebase/annotator/tests/create_as_structure/outputs/test/hg19.AS.STRUCTURE.COMPILED.gff'\n",
    "progress = tnrange(db.count_features_of_type(keys['gene']))\n",
    "with open(out_file, 'w') as f:\n",
    "    for gene in db.features_of_type('gene'):\n",
    "        gene_id = gene.attributes[keys['gene_id']][0]  # just take first gene_id\n",
    "        f.write(\n",
    "            '{}\\t{}\\t{}\\t{}\\t{}\\t{}\\t{}\\t{}\\t{}\\n'.format(\n",
    "                gene.seqid,\n",
    "                \"AS_STRUCTURE\",\n",
    "                \"gene\",\n",
    "                upstream_downstream[gene_id]['start'],\n",
    "                upstream_downstream[gene_id]['end'],\n",
    "                '.',\n",
    "                gene.strand,\n",
    "                '.',\n",
    "                \"gene_id={};mrna_length={};premrna_length={}\".format(\n",
    "                    gene_id,\n",
    "                    get_mrna_lengths(gene_id, exons, genes),\n",
    "                    get_premrna_lengths(gene_id, upstream_downstream, transcripts)\n",
    "                )\n",
    "            )\n",
    "        )\n",
    "        progress.update(1)"
   ]
  },
  {
   "cell_type": "markdown",
   "metadata": {},
   "source": [
    "# create gencode v17 db for comparison against old"
   ]
  },
  {
   "cell_type": "code",
   "execution_count": 17,
   "metadata": {},
   "outputs": [],
   "source": [
    "gtf_file = '/projects/ps-yeolab/genomes/hg19/gencode_v17/gencode.v17.annotation.gtf'\n",
    "db_file = '/projects/ps-yeolab/genomes/hg19/gencode_v17/gencode.v17.annotation.gtf.db'"
   ]
  },
  {
   "cell_type": "code",
   "execution_count": 18,
   "metadata": {},
   "outputs": [],
   "source": [
    "def build_db(annotation_file, db_file, force=True, disable_infer_genes=True, disable_infer_transcripts=True):\n",
    "    db = gffutils.create_db(\n",
    "        annotation_file, dbfn=db_file, force=force, # change to True if we need to create a new db\n",
    "        keep_order=True, merge_strategy='merge', sort_attribute_values=True,\n",
    "        disable_infer_genes=disable_infer_genes,\n",
    "        disable_infer_transcripts=disable_infer_transcripts\n",
    "    )\n",
    "    \n",
    "# build_db(gtf_file, db_file, disable_infer_genes=True, disable_infer_transcripts=True)"
   ]
  },
  {
   "cell_type": "code",
   "execution_count": 21,
   "metadata": {},
   "outputs": [
    {
     "data": {
      "text/plain": [
       "57281"
      ]
     },
     "execution_count": 21,
     "metadata": {},
     "output_type": "execute_result"
    }
   ],
   "source": [
    "\n",
    "db.count_features_of_type('gene')"
   ]
  },
  {
   "cell_type": "code",
   "execution_count": null,
   "metadata": {},
   "outputs": [],
   "source": []
  }
 ],
 "metadata": {
  "kernelspec": {
   "display_name": "Python 2",
   "language": "python",
   "name": "python2"
  },
  "language_info": {
   "codemirror_mode": {
    "name": "ipython",
    "version": 2
   },
   "file_extension": ".py",
   "mimetype": "text/x-python",
   "name": "python",
   "nbconvert_exporter": "python",
   "pygments_lexer": "ipython2",
   "version": "2.7.14"
  }
 },
 "nbformat": 4,
 "nbformat_minor": 2
}
