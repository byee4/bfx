{
 "cells": [
  {
   "cell_type": "markdown",
   "metadata": {},
   "source": [
    "# https://www.nature.com/articles/ncomms9864\n",
    "- trying to get potential chimeric sequences"
   ]
  },
  {
   "cell_type": "code",
   "execution_count": 1,
   "metadata": {},
   "outputs": [],
   "source": [
    "from collections import defaultdict\n",
    "import os\n",
    "import glob\n",
    "from Bio import SeqIO\n",
    "from Bio.Seq import Seq\n",
    "from Bio.Alphabet import generic_dna\n",
    "from tqdm import tnrange, tqdm_notebook"
   ]
  },
  {
   "cell_type": "code",
   "execution_count": 2,
   "metadata": {},
   "outputs": [],
   "source": [
    "fn = '/home/bay001/projects/codebase/clash_seq_pipeline/tests/wf_clash_seq/wf_clash_seq/results/miRNA.sam'\n",
    "fa_file = '/home/bay001/projects/codebase/clash_seq_pipeline/tests/wf_clash_seq/wf_clash_seq/results/SRR2413156.filtered.collapsed.3trim.5trim.fa'"
   ]
  },
  {
   "cell_type": "code",
   "execution_count": 3,
   "metadata": {},
   "outputs": [],
   "source": [
    "mir_reads = defaultdict(dict)\n",
    "\n",
    "with open(fn, 'r') as f:\n",
    "    for line in f:\n",
    "        mir, strand, read_name, _, sequence, _, _, _ = line.split('\\t')\n",
    "        mir_reads[mir][read_name] = sequence"
   ]
  },
  {
   "cell_type": "code",
   "execution_count": 4,
   "metadata": {},
   "outputs": [],
   "source": [
    "for key, value in mir_reads.iteritems():\n",
    "    if (len(mir_reads[key])) > 1:\n",
    "        print(mir_reads[key])"
   ]
  },
  {
   "cell_type": "code",
   "execution_count": 11,
   "metadata": {},
   "outputs": [],
   "source": [
    "def get_reference_seq_from_query(row):\n",
    "    \"\"\" from a bowtie standard output row, return the reference sequence \"\"\"\n",
    "    mir, strand, ref_name, offset0base, qseq, qualities, alt_alignments, mutation_string = row.rstrip('\\n').split('\\t')\n",
    "    # if strand == \"-\":\n",
    "    #     qseq = str(Seq(qseq, generic_dna).reverse_complement())\n",
    "    # elif strand == \"+\":\n",
    "    #     pass\n",
    "    # else:\n",
    "    #     return 1\n",
    "    \n",
    "    rseq = qseq\n",
    "    mutations = mutation_string.split(',') if mutation_string != \"\" else []\n",
    "    for mutation in mutations:\n",
    "        pos0base, change = mutation.split(':')\n",
    "        ref, query = change.split('>')\n",
    "        \n",
    "        if strand == \"-\":\n",
    "            pos0base = (len(rseq)-1) - int(pos0base)\n",
    "        else:\n",
    "            pos0base = int(pos0base)\n",
    "            \n",
    "        rseq = rseq[:pos0base] + ref + rseq[pos0base+1:]\n",
    "        try:\n",
    "            assert qseq[pos0base] == query\n",
    "        except AssertionError:\n",
    "            print(qseq, strand, pos0base, ref, query)\n",
    "        \n",
    "        \n",
    "    return ref_name, rseq, strand\n",
    "\n",
    "def get_name2seq_dict(fa_file, names):\n",
    "    \"\"\" \n",
    "    Takes a fasta file and a list of names, \n",
    "    returns a dictionary containing {read_name:sequence}\n",
    "    \"\"\"\n",
    "    name2seq_dict = {}\n",
    "    handle = open(fa_file, \"rU\")\n",
    "    for record in SeqIO.parse(handle, \"fasta\"):\n",
    "        if record.id in names:\n",
    "            name2seq_dict[record.id] = str(record.seq)\n",
    "    handle.close()\n",
    "    return name2seq_dict"
   ]
  },
  {
   "cell_type": "code",
   "execution_count": 12,
   "metadata": {},
   "outputs": [],
   "source": [
    "def get_rnames_and_rseq_fragments_from_bowtie_output(fn):\n",
    "    rnames = defaultdict(dict)\n",
    "    with open(fn, 'r') as f:\n",
    "        for line in f:\n",
    "            rname, rseq, strand = get_reference_seq_from_query(line)\n",
    "            rnames[\"#\".join(rname.split(\"#\")[:-1])] = {\"fragment\":rseq, \"strand\":strand} # may need to change based on read names\n",
    "    return rnames"
   ]
  },
  {
   "cell_type": "code",
   "execution_count": 7,
   "metadata": {},
   "outputs": [
    {
     "data": {
      "application/vnd.jupyter.widget-view+json": {
       "model_id": "eeb80aa4ef174eaa80c4459188f32f12",
       "version_major": 2,
       "version_minor": 0
      },
      "text/html": [
       "<p>Failed to display Jupyter Widget of type <code>HBox</code>.</p>\n",
       "<p>\n",
       "  If you're reading this message in the Jupyter Notebook or JupyterLab Notebook, it may mean\n",
       "  that the widgets JavaScript is still loading. If this message persists, it\n",
       "  likely means that the widgets JavaScript library is either not installed or\n",
       "  not enabled. See the <a href=\"https://ipywidgets.readthedocs.io/en/stable/user_install.html\">Jupyter\n",
       "  Widgets Documentation</a> for setup instructions.\n",
       "</p>\n",
       "<p>\n",
       "  If you're reading this message in another frontend (for example, a static\n",
       "  rendering on GitHub or <a href=\"https://nbviewer.jupyter.org/\">NBViewer</a>),\n",
       "  it may mean that your frontend doesn't currently support widgets.\n",
       "</p>\n"
      ],
      "text/plain": [
       "HBox(children=(IntProgress(value=0, max=35137334), HTML(value=u'')))"
      ]
     },
     "metadata": {},
     "output_type": "display_data"
    }
   ],
   "source": [
    "name2seq = get_name2seq_dict(fa_file, set(rnames.keys()))"
   ]
  },
  {
   "cell_type": "code",
   "execution_count": 30,
   "metadata": {},
   "outputs": [],
   "source": [
    "def write_candidate_chimeric_targets_to_file(rnames, name2seq, output_file, min_seq_len=18):\n",
    "    with open(output_file, 'w') as o:\n",
    "        for rname, d in rnames.iteritems():\n",
    "            rseq = d['fragment']\n",
    "            strand = d['strand']\n",
    "            fullseq = name2seq[rname]\n",
    "            assert fullseq.find(rseq) != -1 # cannot find the sequence, mutation must be wrong.\n",
    "            lo = fullseq[:fullseq.find(rseq)]\n",
    "            hi = fullseq[(fullseq.find(rseq)+len(rseq)):]\n",
    "            if strand == \"-\":\n",
    "                downstream_seq = lo\n",
    "                upstream_seq = hi\n",
    "            elif strand == \"+\":\n",
    "                downstream_seq = hi\n",
    "                upstream_seq = lo\n",
    "            else:\n",
    "                return 1\n",
    "            if len(downstream_seq) > min_seq_len:\n",
    "                o.write(\">{}_{}_downstream\\n{}\\n\".format(rname, strand, downstream_seq))\n",
    "            if len(upstream_seq) > min_seq_len:\n",
    "                o.write(\">{}_{}_upstream\\n{}\\n\".format(rname, strand, upstream_seq))\n",
    "                "
   ]
  },
  {
   "cell_type": "code",
   "execution_count": 31,
   "metadata": {},
   "outputs": [],
   "source": [
    "out_file = '/home/bay001/projects/codebase/clash_seq_pipeline/tests/wf_clash_seq/wf_clash_seq/results/candidate_chimerics.fa'\n",
    "write_candidate_chimeric_targets_to_file(rnames, name2seq, out_file)"
   ]
  },
  {
   "cell_type": "code",
   "execution_count": null,
   "metadata": {},
   "outputs": [],
   "source": [
    "rnames = get_rnames_and_rseq_fragments_from_bowtie_output(fn)\n",
    "name2seq = get_name2seq_dict(fa_file, set(rnames.keys()))\n",
    "write_candidate_chimeric_targets_to_file()"
   ]
  }
 ],
 "metadata": {
  "kernelspec": {
   "display_name": "brian",
   "language": "python",
   "name": "brian"
  },
  "language_info": {
   "codemirror_mode": {
    "name": "ipython",
    "version": 2
   },
   "file_extension": ".py",
   "mimetype": "text/x-python",
   "name": "python",
   "nbconvert_exporter": "python",
   "pygments_lexer": "ipython2",
   "version": "2.7.15"
  }
 },
 "nbformat": 4,
 "nbformat_minor": 2
}
