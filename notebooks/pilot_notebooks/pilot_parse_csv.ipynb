{
 "cells": [
  {
   "cell_type": "code",
   "execution_count": 1,
   "metadata": {
    "collapsed": true
   },
   "outputs": [],
   "source": [
    "from openpyxl import load_workbook\n",
    "import sys\n",
    "from StringIO import StringIO\n",
    "import pandas as pd\n",
    "import re\n"
   ]
  },
  {
   "cell_type": "code",
   "execution_count": 56,
   "metadata": {},
   "outputs": [],
   "source": [
    "IGM_SAMPLE_METADATA_MAPPER = {\n",
    "    'quantification':'Quantification Method',\n",
    "    'library_prep':'Library Prep Method',\n",
    "    'uid':'Sample Code',\n",
    "    'size':'Library Size (bp)',\n",
    "    'volume':'Volume (ml)',\n",
    "    'concentration':'Conc. (nM)',\n",
    "    'total_ng':'Total ng',\n",
    "    'comment':'Comment',\n",
    "    'index_1':'Index 1 (Name)',\n",
    "    'index_2':'Index 2 (Name)',\n",
    "}\n",
    "IGM_EXPT_MAPPER = {\n",
    "    'investigator':'Contact Name',\n",
    "    'contact_email':'Contact Email',\n",
    "    'study_date':'Date of Sample Submission',\n",
    "    'institute':'Institute/Company Name',\n",
    "    'pi_name':'PI Name',\n",
    "    'pi_email':'PI Email',\n",
    "    'member_of_MCC':'Member of MCC',\n",
    "    'member_of_DRC':'Member of DRC',\n",
    "    'po_number':'Index number or PO',\n",
    "    'type_of_run':'Type of Run',\n",
    "    'sequencing_platform':'Sequencing Platform',\n",
    "    'number_of_cycles':'Number of cycles',\n",
    "    'run_bioanalyzer_or_tapestation':'Run Bioanalyzer/Tape Station',\n",
    "    'perform_qpcr':'Perform qPCR',\n",
    "    'phix_spike_in_requested':'PhiX Spike In Requested?',\n",
    "    'percentage_of_phix_if_applicable':'Percentage of PhiX if applicable',\n",
    "    'indexing_system':'Indexing System',\n",
    "    'total_number_of_lanes':'Total number of lanes',\n",
    "    'total_number_of_samples':'Total number of samples'\n",
    "}"
   ]
  },
  {
   "cell_type": "code",
   "execution_count": 11,
   "metadata": {
    "collapsed": true
   },
   "outputs": [],
   "source": [
    "def get_max_lines(sheet):\n",
    "    \"\"\"\n",
    "    returns the max dimension (either row or col) of a sheet.\n",
    "    \"\"\"\n",
    "    dim = sheet.calculate_dimension()\n",
    "    return max(\n",
    "        [int(i) for i in re.findall('[\\d]+',dim)]\n",
    "    )\n",
    "\n",
    "\n",
    "def fill_sample_details_from_string(st, sheet, igm_sample_metadata_mapper, sep='\\t'):\n",
    "    df = pd.read_csv(st, sep=sep, index_col=0)\n",
    "    offset = 1\n",
    "    fields = df.columns\n",
    "    for _, sample_id in df.iterrows():\n",
    "        offset += 1\n",
    "        for field in fields:\n",
    "            row, col = get_tofill(sheet, field, offset=offset, horizontal=False)\n",
    "            sheet.cell(row=row, column=col).value = sample_id[field]\n",
    "        "
   ]
  },
  {
   "cell_type": "code",
   "execution_count": 12,
   "metadata": {
    "collapsed": true
   },
   "outputs": [],
   "source": [
    "def get_tofill(sheet, label, row_start=1, col_start=1, horizontal=True, offset=1):\n",
    "    \"\"\"\n",
    "    returns the cell that needs to be filled given a field label.\n",
    "    params:\n",
    "\n",
    "    sheet: openpyxl.Worksheet\n",
    "    label: Worksheet cell value\n",
    "    row_start: int\n",
    "        topmost value in workbook (1 = 1)\n",
    "    col_start: int\n",
    "        leftmost value in workbook (A = 1)\n",
    "    horizontal:\n",
    "        if True, return position of label + offset (to the right, horizontally)\n",
    "        if False, return position of label + offset (downward, vertically)\n",
    "    offset: int\n",
    "    \"\"\"\n",
    "    for i in range(row_start, get_max_lines(sheet) + 1):\n",
    "        for j in range(col_start, get_max_lines(sheet) + 1):\n",
    "            field = sheet.cell(row=i, column=j).value\n",
    "            if label == field:\n",
    "                if horizontal:\n",
    "                    return i, (j + offset)\n",
    "                else:\n",
    "                    return (i + offset), j\n",
    "    print(\"found nothing for label: {}\".format(label))\n",
    "    return -1, -1"
   ]
  },
  {
   "cell_type": "code",
   "execution_count": 42,
   "metadata": {
    "collapsed": true
   },
   "outputs": [],
   "source": [
    "st=StringIO(\"\"\"\n",
    "Sample Name\\tSample Code\\tLibrary Size (bp)\\tConc. (nM)\\tVolume (ml)\\tIndex 1 (Sequence)\\n\n",
    "Epool_e7.5\\tEpool\\t300\\t6.46\\t34\\tA12\\n\n",
    "Epool_e7.6\\tEpool2\\t300\\t7.46\\t44\\tA22\\n\n",
    "\"\"\")\n",
    "active_sheet = 'Sample Information'\n",
    "xlsx_template = '/home/bay001/projects/codebase/yaml2seq-manifest/data/template.xlsx'\n",
    "wb = load_workbook(\n",
    "    filename=xlsx_template\n",
    ")\n",
    "sheet = wb[active_sheet]"
   ]
  },
  {
   "cell_type": "code",
   "execution_count": 14,
   "metadata": {
    "collapsed": true
   },
   "outputs": [],
   "source": [
    "fill_sample_details_from_string(st, sheet, IGM_SAMPLE_METADATA_MAPPER)"
   ]
  },
  {
   "cell_type": "code",
   "execution_count": 15,
   "metadata": {
    "collapsed": true
   },
   "outputs": [],
   "source": [
    "wb.save('/home/bay001/projects/codebase/yaml2seq-manifest/data/output.xlsx')"
   ]
  },
  {
   "cell_type": "code",
   "execution_count": 10,
   "metadata": {},
   "outputs": [
    {
     "data": {
      "text/html": [
       "<div>\n",
       "<table border=\"1\" class=\"dataframe\">\n",
       "  <thead>\n",
       "    <tr style=\"text-align: right;\">\n",
       "      <th></th>\n",
       "      <th>Sample Code</th>\n",
       "      <th>Library Size (bp)</th>\n",
       "      <th>Conc. (nM)</th>\n",
       "      <th>Volume (ml)</th>\n",
       "      <th>Index 1 (Sequence)</th>\n",
       "    </tr>\n",
       "    <tr>\n",
       "      <th>Sample Name</th>\n",
       "      <th></th>\n",
       "      <th></th>\n",
       "      <th></th>\n",
       "      <th></th>\n",
       "      <th></th>\n",
       "    </tr>\n",
       "  </thead>\n",
       "  <tbody>\n",
       "    <tr>\n",
       "      <th>Epool_e7.5</th>\n",
       "      <td>Epool</td>\n",
       "      <td>300</td>\n",
       "      <td>6.46</td>\n",
       "      <td>34</td>\n",
       "      <td>A12</td>\n",
       "    </tr>\n",
       "    <tr>\n",
       "      <th>Epool_e7.6</th>\n",
       "      <td>Epool2</td>\n",
       "      <td>300</td>\n",
       "      <td>7.46</td>\n",
       "      <td>44</td>\n",
       "      <td>A22</td>\n",
       "    </tr>\n",
       "  </tbody>\n",
       "</table>\n",
       "</div>"
      ],
      "text/plain": [
       "            Sample Code  Library Size (bp)  Conc. (nM)  Volume (ml)  \\\n",
       "Sample Name                                                           \n",
       "Epool_e7.5        Epool                300        6.46           34   \n",
       "Epool_e7.6       Epool2                300        7.46           44   \n",
       "\n",
       "            Index 1 (Sequence)  \n",
       "Sample Name                     \n",
       "Epool_e7.5                 A12  \n",
       "Epool_e7.6                 A22  "
      ]
     },
     "execution_count": 10,
     "metadata": {},
     "output_type": "execute_result"
    }
   ],
   "source": [
    "st=StringIO(\"\"\"\n",
    "Sample Name\\tSample Code\\tLibrary Size (bp)\\tConc. (nM)\\tVolume (ml)\\tIndex 1 (Sequence)\\n\n",
    "Epool_e7.5\\tEpool\\t300\\t6.46\\t34\\tA12\\n\n",
    "Epool_e7.6\\tEpool2\\t300\\t7.46\\t44\\tA22\\n\n",
    "\"\"\")\n",
    "df = pd.read_csv(st, sep='\\t', index_col=0)\n",
    "df"
   ]
  },
  {
   "cell_type": "code",
   "execution_count": 59,
   "metadata": {},
   "outputs": [],
   "source": [
    "st=\"\"\"\n",
    "investigator\\tiachaim\\n\n",
    "contact_email\\tiachaim@ucsd.edu\\n\n",
    "institute\\tUCSD\\n\n",
    "study_date\\t8/10/2017\\n\n",
    "\"\"\"\n",
    "active_sheet = 'Sample Information'\n",
    "xlsx_template = '/home/bay001/projects/codebase/yaml2seq-manifest/data/template.xlsx'\n",
    "wb = load_workbook(\n",
    "    filename=xlsx_template\n",
    ")\n",
    "sheet = wb[active_sheet]"
   ]
  },
  {
   "cell_type": "code",
   "execution_count": 72,
   "metadata": {
    "collapsed": true
   },
   "outputs": [],
   "source": [
    "def fill_expt_details_from_string(st, sheet, igm_expt_mapper, sep='\\t'):\n",
    "    df = pd.read_csv(StringIO(st), sep=sep, index_col=0, names=['value'])\n",
    "    df.index = [igm_expt_mapper[c] for c in df.index]\n",
    "    for field, _ in df.iterrows():\n",
    "        print(\"field: \", field)\n",
    "        row, col = get_tofill(\n",
    "            sheet, field, offset=1, horizontal=True\n",
    "        )\n",
    "        print('add {} to: {}, {}'.format(df.ix[field][0], row, col))\n",
    "    return df"
   ]
  },
  {
   "cell_type": "code",
   "execution_count": 73,
   "metadata": {},
   "outputs": [
    {
     "name": "stdout",
     "output_type": "stream",
     "text": [
      "('field: ', 'Contact Name')\n",
      "add iachaim to: 8, 2\n",
      "('field: ', 'Contact Email')\n",
      "add iachaim@ucsd.edu to: 9, 2\n",
      "('field: ', 'Institute/Company Name')\n",
      "add UCSD to: 3, 2\n",
      "('field: ', 'Date of Sample Submission')\n",
      "add 8/10/2017 to: 2, 2\n"
     ]
    },
    {
     "data": {
      "text/html": [
       "<div>\n",
       "<table border=\"1\" class=\"dataframe\">\n",
       "  <thead>\n",
       "    <tr style=\"text-align: right;\">\n",
       "      <th></th>\n",
       "      <th>value</th>\n",
       "    </tr>\n",
       "  </thead>\n",
       "  <tbody>\n",
       "    <tr>\n",
       "      <th>Contact Name</th>\n",
       "      <td>iachaim</td>\n",
       "    </tr>\n",
       "    <tr>\n",
       "      <th>Contact Email</th>\n",
       "      <td>iachaim@ucsd.edu</td>\n",
       "    </tr>\n",
       "    <tr>\n",
       "      <th>Institute/Company Name</th>\n",
       "      <td>UCSD</td>\n",
       "    </tr>\n",
       "    <tr>\n",
       "      <th>Date of Sample Submission</th>\n",
       "      <td>8/10/2017</td>\n",
       "    </tr>\n",
       "  </tbody>\n",
       "</table>\n",
       "</div>"
      ],
      "text/plain": [
       "                                      value\n",
       "Contact Name                        iachaim\n",
       "Contact Email              iachaim@ucsd.edu\n",
       "Institute/Company Name                 UCSD\n",
       "Date of Sample Submission         8/10/2017"
      ]
     },
     "execution_count": 73,
     "metadata": {},
     "output_type": "execute_result"
    }
   ],
   "source": [
    "fill_expt_details_from_string(st, sheet, IGM_EXPT_MAPPER)"
   ]
  },
  {
   "cell_type": "code",
   "execution_count": null,
   "metadata": {
    "collapsed": true
   },
   "outputs": [],
   "source": []
  },
  {
   "cell_type": "code",
   "execution_count": null,
   "metadata": {
    "collapsed": true
   },
   "outputs": [],
   "source": []
  }
 ],
 "metadata": {
  "kernelspec": {
   "display_name": "Python 2",
   "language": "python",
   "name": "python2"
  },
  "language_info": {
   "codemirror_mode": {
    "name": "ipython",
    "version": 2
   },
   "file_extension": ".py",
   "mimetype": "text/x-python",
   "name": "python",
   "nbconvert_exporter": "python",
   "pygments_lexer": "ipython2",
   "version": "2.7.13"
  }
 },
 "nbformat": 4,
 "nbformat_minor": 2
}
