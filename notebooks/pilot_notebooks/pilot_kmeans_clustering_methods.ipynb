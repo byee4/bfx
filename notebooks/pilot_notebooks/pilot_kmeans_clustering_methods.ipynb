{
 "cells": [
  {
   "cell_type": "code",
   "execution_count": 1,
   "metadata": {
    "collapsed": true
   },
   "outputs": [],
   "source": [
    "import argparse\n",
    "import numpy as np\n",
    "import pandas as pd\n",
    "from sklearn.cluster import KMeans\n"
   ]
  },
  {
   "cell_type": "code",
   "execution_count": 2,
   "metadata": {
    "collapsed": true
   },
   "outputs": [],
   "source": [
    "fn = '/home/bay001/projects/codebase/clustering_tools/data/raj_6_star_gene_exon_tagged.dge.tsv'"
   ]
  },
  {
   "cell_type": "code",
   "execution_count": 5,
   "metadata": {
    "collapsed": true
   },
   "outputs": [],
   "source": [
    "def run_kmeans_clustering(fn, k, seed):\n",
    "    df = read_exprs_as_df(fn)\n",
    "    arr = df.T.values\n",
    "    km = KMeans(n_clusters=k)\n",
    "    km.fit(arr)\n",
    "\n",
    "    # labels = km.labels_\n",
    "    # results = pd.DataFrame([df.index, labels]).T\n",
    "    # print(results.head())\n",
    "\n",
    "def read_exprs_as_df(fn):\n",
    "    \"\"\"\n",
    "    Reads in a file as a dataframe, expects genes as rownames, cells as colnames\n",
    "\n",
    "    :param fn:\n",
    "    :return:\n",
    "    \"\"\"\n",
    "    df = pd.read_table(fn, index_col=0)\n",
    "    return df"
   ]
  },
  {
   "cell_type": "code",
   "execution_count": 6,
   "metadata": {},
   "outputs": [],
   "source": [
    "run_kmeans_clustering(fn, 5, 1)"
   ]
  },
  {
   "cell_type": "code",
   "execution_count": null,
   "metadata": {
    "collapsed": true
   },
   "outputs": [],
   "source": []
  }
 ],
 "metadata": {
  "kernelspec": {
   "display_name": "Python 2",
   "language": "python",
   "name": "python2"
  },
  "language_info": {
   "codemirror_mode": {
    "name": "ipython",
    "version": 2
   },
   "file_extension": ".py",
   "mimetype": "text/x-python",
   "name": "python",
   "nbconvert_exporter": "python",
   "pygments_lexer": "ipython2",
   "version": "2.7.15"
  }
 },
 "nbformat": 4,
 "nbformat_minor": 2
}
