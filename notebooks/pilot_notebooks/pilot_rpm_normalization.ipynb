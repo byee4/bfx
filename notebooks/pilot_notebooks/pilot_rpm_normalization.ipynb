{
 "cells": [
  {
   "cell_type": "code",
   "execution_count": 38,
   "metadata": {},
   "outputs": [],
   "source": [
    "import pysam"
   ]
  },
  {
   "cell_type": "code",
   "execution_count": 39,
   "metadata": {},
   "outputs": [],
   "source": [
    "bam = '/home/bay001/projects/brian_rbpmaps_20180202/permanent_data/maps/adhoc/inputs/204_01_RBFOX2.merged.r2.bam'\n",
    "samfile = pysam.AlignmentFile(bam)"
   ]
  },
  {
   "cell_type": "code",
   "execution_count": 40,
   "metadata": {},
   "outputs": [
    {
     "data": {
      "text/plain": [
       "4275451"
      ]
     },
     "execution_count": 40,
     "metadata": {},
     "output_type": "execute_result"
    }
   ],
   "source": [
    "samfile.count()"
   ]
  },
  {
   "cell_type": "code",
   "execution_count": 41,
   "metadata": {},
   "outputs": [
    {
     "data": {
      "text/plain": [
       "4275451L"
      ]
     },
     "execution_count": 41,
     "metadata": {},
     "output_type": "execute_result"
    }
   ],
   "source": [
    "samfile.mapped"
   ]
  },
  {
   "cell_type": "code",
   "execution_count": 42,
   "metadata": {},
   "outputs": [],
   "source": [
    "bam = '/home/bay001/projects/codebase/makebigwigfiles/tests/inputs/rnaseq/ENCFF347ERZ.bam'\n",
    "samfile = pysam.Samfile(bam)"
   ]
  },
  {
   "cell_type": "code",
   "execution_count": 43,
   "metadata": {},
   "outputs": [
    {
     "data": {
      "text/plain": [
       "68352122L"
      ]
     },
     "execution_count": 43,
     "metadata": {},
     "output_type": "execute_result"
    }
   ],
   "source": [
    "samfile.mapped"
   ]
  },
  {
   "cell_type": "code",
   "execution_count": 44,
   "metadata": {},
   "outputs": [
    {
     "data": {
      "text/plain": [
       "68352122"
      ]
     },
     "execution_count": 44,
     "metadata": {},
     "output_type": "execute_result"
    }
   ],
   "source": [
    "samfile.count()"
   ]
  },
  {
   "cell_type": "code",
   "execution_count": 37,
   "metadata": {},
   "outputs": [
    {
     "name": "stdout",
     "output_type": "stream",
     "text": [
      "wha\n"
     ]
    },
    {
     "data": {
      "text/plain": [
       "0.0292602473994882"
      ]
     },
     "execution_count": 37,
     "metadata": {},
     "output_type": "execute_result"
    }
   ],
   "source": [
    "def get_norm_constant(in_bam):\n",
    "    samfile = pysam.AlignmentFile(in_bam)\n",
    "\n",
    "    if False:\n",
    "        mapped_reads = float(samfile.mapped) / 1000000\n",
    "    else:  # approx mapped reads, not fragments.\n",
    "        print('wha')\n",
    "        mapped_reads = (float(samfile.mapped) / 1000000) / 2.\n",
    "\n",
    "    norm_constant = 1. / mapped_reads\n",
    "    return norm_constant\n",
    "get_norm_constant(bam)"
   ]
  },
  {
   "cell_type": "code",
   "execution_count": 34,
   "metadata": {},
   "outputs": [
    {
     "data": {
      "text/plain": [
       "'/home/bay001/projects/codebase/makebigwigfiles/tests/inputs/rnaseq/ENCFF347ERZ.bam'"
      ]
     },
     "execution_count": 34,
     "metadata": {},
     "output_type": "execute_result"
    }
   ],
   "source": [
    "bam"
   ]
  },
  {
   "cell_type": "code",
   "execution_count": null,
   "metadata": {},
   "outputs": [],
   "source": []
  }
 ],
 "metadata": {
  "kernelspec": {
   "display_name": "brian",
   "language": "python",
   "name": "brian"
  },
  "language_info": {
   "codemirror_mode": {
    "name": "ipython",
    "version": 2
   },
   "file_extension": ".py",
   "mimetype": "text/x-python",
   "name": "python",
   "nbconvert_exporter": "python",
   "pygments_lexer": "ipython2",
   "version": "2.7.11"
  }
 },
 "nbformat": 4,
 "nbformat_minor": 2
}
