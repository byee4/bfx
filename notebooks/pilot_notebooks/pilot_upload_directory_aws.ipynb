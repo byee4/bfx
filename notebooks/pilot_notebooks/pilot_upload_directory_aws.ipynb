{
 "cells": [
  {
   "cell_type": "code",
   "execution_count": 11,
   "metadata": {},
   "outputs": [],
   "source": [
    "import sys\n",
    "import boto3\n",
    "import botocore\n",
    "import os\n",
    "import subprocess\n",
    "import shutil\n",
    "import errno\n",
    "import re"
   ]
  },
  {
   "cell_type": "code",
   "execution_count": 12,
   "metadata": {},
   "outputs": [],
   "source": [
    "directory = '/projects/ps-yeolab3/bay001/codebase/metadata/results_dir/john_doe_20180412/'"
   ]
  },
  {
   "cell_type": "code",
   "execution_count": 13,
   "metadata": {},
   "outputs": [],
   "source": [
    "def copy_dir_aws(src, bucket):\n",
    "    \"\"\"\n",
    "    Copies a directory from local to AWS\n",
    "\n",
    "    :param src:\n",
    "    :param dest:\n",
    "    :param logger:\n",
    "    :return:\n",
    "    \"\"\"\n",
    "    if not bucket.startswith('s3://'):\n",
    "        bucket = 's3://' + bucket\n",
    "\n",
    "    if not src.endswith('/'):\n",
    "        src = src + '/'\n",
    "\n",
    "    upload_dir = os.path.dirname(src).split('/')[-1] + \"/\"\n",
    "\n",
    "    cmd = 'aws s3 cp {} {} --recursive'.format(\n",
    "        src,\n",
    "        os.path.join(bucket, upload_dir)\n",
    "    )\n",
    "    try:\n",
    "        print(\"Uploading to aws: {}\".format(cmd))\n",
    "        subprocess.check_call(cmd, shell=True)\n",
    "        print(\"Done uploading {} to aws ({})\".format(src, bucket))\n",
    "    except Exception as e:\n",
    "        print(e)"
   ]
  },
  {
   "cell_type": "code",
   "execution_count": 14,
   "metadata": {},
   "outputs": [
    {
     "name": "stdout",
     "output_type": "stream",
     "text": [
      "Uploading to aws: aws s3 cp /projects/ps-yeolab3/bay001/codebase/metadata/results_dir/john_doe_20180412/ s3://metadata-results/john_doe_20180412/ --recursive\n",
      "Done uploading /projects/ps-yeolab3/bay001/codebase/metadata/results_dir/john_doe_20180412/ to aws (s3://metadata-results)\n"
     ]
    }
   ],
   "source": [
    "copy_dir_aws(\n",
    "    directory, 'metadata-results'\n",
    ")"
   ]
  },
  {
   "cell_type": "code",
   "execution_count": null,
   "metadata": {},
   "outputs": [],
   "source": [
    "def copy_dir_aws(src, bucket):\n",
    "    client = boto3.client('s3')\n",
    "    destination = src.split('/')[-1]\n",
    "    print(\"Destination: {}\".format(destination))\n",
    "    # enumerate local files recursively\n",
    "    for root, dirs, files in os.walk(local_directory):\n",
    "\n",
    "        for filename in files:\n",
    "\n",
    "        # construct the full local path\n",
    "        local_path = os.path.join(root, filename)\n",
    "\n",
    "        # construct the full Dropbox path\n",
    "        relative_path = os.path.relpath(local_path, local_directory)\n",
    "        s3_path = os.path.join(destination, relative_path)\n",
    "\n",
    "        # relative_path = os.path.relpath(os.path.join(root, filename))\n",
    "\n",
    "        print('Searching \"%s\" in \"%s\"' % (s3_path, bucket))\n",
    "        try:\n",
    "            client.head_object(Bucket=bucket, Key=s3_path)\n",
    "            print(\"Path found on S3! Skipping %s...\" % s3_path)\n",
    "\n",
    "            # try:\n",
    "                # client.delete_object(Bucket=bucket, Key=s3_path)\n",
    "            # except:\n",
    "                # print \"Unable to delete %s...\" % s3_path\n",
    "        except:\n",
    "            print(\"Uploading {} to bucket {} with path {}\".format(local_path, bucket, s3_path))\n",
    "            # client.upload_file(local_path, bucket, s3_path)"
   ]
  },
  {
   "cell_type": "code",
   "execution_count": null,
   "metadata": {},
   "outputs": [],
   "source": [
    "def copy_dir(src, dest):\n",
    "    \"\"\" Copies a file or directory \"\"\"\n",
    "    \n",
    "    copy_directory = os.path.join(dest, os.path.dirname(src).split('/')[-1] + \"/\")\n",
    "    try:\n",
    "        shutil.copytree(src, copy_directory)\n",
    "    except OSError as exc:  # python >2.5\n",
    "        if exc.errno == errno.ENOTDIR:\n",
    "            shutil.copy(src, copy_directory)\n",
    "        elif exc.errno == errno.EEXIST:\n",
    "            print(\"Folder exists, will not overwrite.\")\n",
    "        else:\n",
    "            raise"
   ]
  },
  {
   "cell_type": "code",
   "execution_count": null,
   "metadata": {},
   "outputs": [],
   "source": [
    "src = '/projects/ps-yeolab3/bay001/codebase/metadata/work_dir/test_upload/'\n",
    "dest = '/projects/ps-yeolab3/bay001/codebase/metadata/results_dir/'"
   ]
  },
  {
   "cell_type": "code",
   "execution_count": null,
   "metadata": {},
   "outputs": [],
   "source": [
    "copy_dir(src, dest)"
   ]
  },
  {
   "cell_type": "code",
   "execution_count": null,
   "metadata": {},
   "outputs": [],
   "source": [
    "dest = 's3://metadata-results'\n",
    "if not src.endswith('/'):\n",
    "    src = src + '/'\n",
    "    \n",
    "copy_directory = os.path.join(\n",
    "    dest, os.path.dirname(src).split('/')[-1] + \"/\"\n",
    ")\n",
    "\n",
    "copy_directory"
   ]
  },
  {
   "cell_type": "code",
   "execution_count": 25,
   "metadata": {},
   "outputs": [],
   "source": [
    "res = '/projects/ps-yeolab3/bay001/codebase/metadata/results_dir/john_doe_20180412/'\n",
    "\n",
    "def remove_file(to_remove, logger):\n",
    "    logger.info(\"Removing {}\".format(to_remove))\n",
    "    os.remove(to_remove)\n",
    "    time.sleep(1)\n",
    "    \n",
    "def remove_unnecessary_intermediates(res, pipeline='dropseqtools'):\n",
    "    print(\"Removing unnecessary intermediate files.\")\n",
    "    if pipeline == 'dropseqtools':\n",
    "        suffixes_to_remove = [\n",
    "            \".sam$\",\n",
    "            \".tagged([\\d]+-[\\d]+).bam$\",\n",
    "            '.tagged([\\d]+-[\\d]+).tagged([\\d]+-[\\d]+).bam$',\n",
    "            '.tagged([\\d]+-[\\d]+).tagged([\\d]+-[\\d]+).filtered.trimmed_smart.bam$',\n",
    "            '.tagged([\\d]+-[\\d]+).tagged([\\d]+-[\\d]+).filtered.trimmed_smart.polyA_filtered.bam$',\n",
    "            '.tagged([\\d]+-[\\d]+).tagged([\\d]+-[\\d]+).filtered.trimmed_smart.polyA_filtered.STARAligned.out.bam$',\n",
    "            '.tagged([\\d]+-[\\d]+).tagged([\\d]+-[\\d]+).filtered.trimmed_smart.polyA_filtered.STARUnmapped.out.mate1$',\n",
    "            '.tagged([\\d]+-[\\d]+).tagged([\\d]+-[\\d]+).filtered.trimmed_smart.polyA_filtered.STARAligned.out.namesorted.bam$',\n",
    "            '.tagged([\\d]+-[\\d]+).tagged([\\d]+-[\\d]+).filtered.trimmed_smart.polyA_filtered.STARAligned.out.namesorted.merged.bam$',\n",
    "            '.tagged([\\d]+-[\\d]+).tagged([\\d]+-[\\d]+).filtered.trimmed_smart.polyA_filtered.STARAligned.out.namesorted.merged.TaggedGeneExon.bam$',\n",
    "        ]\n",
    "    else:\n",
    "        suffixes_to_remove = []  # TODO: cellranger\n",
    "    for suffix in suffixes_to_remove:\n",
    "        for f in os.listdir(os.path.join(res, \"results\")):\n",
    "            regex = '[\\w\\d]+' + suffix\n",
    "            match = re.compile(regex).match\n",
    "            if match(f):\n",
    "                print(\"Removing: {} ({})\".format(f, regex))\n",
    "                # remove_file(to_remove=os.path.join(res, \"results\", f), logger=logger)\n",
    "    print(\"Done removing unnecessary files.\")"
   ]
  },
  {
   "cell_type": "code",
   "execution_count": 26,
   "metadata": {},
   "outputs": [
    {
     "name": "stdout",
     "output_type": "stream",
     "text": [
      "Removing unnecessary intermediate files.\n",
      "Removing: run_01_sample_01.sam ([\\w\\d]+.sam$)\n",
      "Removing: run_01_sample_01.tagged1-12.bam ([\\w\\d]+.tagged([\\d]+-[\\d]+).bam$)\n",
      "Removing: run_01_sample_01.tagged1-12.tagged13-20.bam ([\\w\\d]+.tagged([\\d]+-[\\d]+).tagged([\\d]+-[\\d]+).bam$)\n",
      "Removing: run_01_sample_01.tagged1-12.tagged13-20.filtered.trimmed_smart.bam ([\\w\\d]+.tagged([\\d]+-[\\d]+).tagged([\\d]+-[\\d]+).filtered.trimmed_smart.bam$)\n",
      "Removing: run_01_sample_01.tagged1-12.tagged13-20.filtered.trimmed_smart.polyA_filtered.bam ([\\w\\d]+.tagged([\\d]+-[\\d]+).tagged([\\d]+-[\\d]+).filtered.trimmed_smart.polyA_filtered.bam$)\n",
      "Removing: run_01_sample_01.tagged1-12.tagged13-20.filtered.trimmed_smart.polyA_filtered.STARAligned.out.bam ([\\w\\d]+.tagged([\\d]+-[\\d]+).tagged([\\d]+-[\\d]+).filtered.trimmed_smart.polyA_filtered.STARAligned.out.bam$)\n",
      "Removing: run_01_sample_01.tagged1-12.tagged13-20.filtered.trimmed_smart.polyA_filtered.STARUnmapped.out.mate1 ([\\w\\d]+.tagged([\\d]+-[\\d]+).tagged([\\d]+-[\\d]+).filtered.trimmed_smart.polyA_filtered.STARUnmapped.out.mate1$)\n",
      "Removing: run_01_sample_01.tagged1-12.tagged13-20.filtered.trimmed_smart.polyA_filtered.STARAligned.out.namesorted.bam ([\\w\\d]+.tagged([\\d]+-[\\d]+).tagged([\\d]+-[\\d]+).filtered.trimmed_smart.polyA_filtered.STARAligned.out.namesorted.bam$)\n",
      "Removing: run_01_sample_01.tagged1-12.tagged13-20.filtered.trimmed_smart.polyA_filtered.STARAligned.out.namesorted.merged.bam ([\\w\\d]+.tagged([\\d]+-[\\d]+).tagged([\\d]+-[\\d]+).filtered.trimmed_smart.polyA_filtered.STARAligned.out.namesorted.merged.bam$)\n",
      "Removing: run_01_sample_01.tagged1-12.tagged13-20.filtered.trimmed_smart.polyA_filtered.STARAligned.out.namesorted.merged.TaggedGeneExon.bam ([\\w\\d]+.tagged([\\d]+-[\\d]+).tagged([\\d]+-[\\d]+).filtered.trimmed_smart.polyA_filtered.STARAligned.out.namesorted.merged.TaggedGeneExon.bam$)\n",
      "Done removing unnecessary files.\n"
     ]
    }
   ],
   "source": [
    "remove_unnecessary_intermediates(res)"
   ]
  },
  {
   "cell_type": "code",
   "execution_count": null,
   "metadata": {},
   "outputs": [],
   "source": []
  },
  {
   "cell_type": "code",
   "execution_count": 27,
   "metadata": {},
   "outputs": [],
   "source": [
    "def copy_dir(src, dest):\n",
    "    \"\"\"\n",
    "    Copies a file or directory locally.\n",
    "    ie. copying path/to/src/ to otherpath/to/dest/ -> otherpath/to/dest/src\n",
    "\n",
    "    :param src: basestring\n",
    "    :param dest: basestring\n",
    "        local destination\n",
    "    :param logger: logging.Logger\n",
    "        Logger object\n",
    "    :return:\n",
    "    \"\"\"\n",
    "\n",
    "    if not src.endswith('/'):\n",
    "        src = src + '/'\n",
    "\n",
    "    copy_directory = os.path.join(\n",
    "        dest, os.path.dirname(src).split('/')[-1] + \"/\"\n",
    "    )\n",
    "\n",
    "    try:\n",
    "        print(\"Copying {} to {}.\".format(src, copy_directory))\n",
    "        shutil.copytree(src, copy_directory)\n",
    "        print(\"Done copying {} to {}\".format(src, copy_directory))\n",
    "    except OSError as exc:  # python >2.5\n",
    "        if exc.errno == errno.ENOTDIR:\n",
    "            print(\"Warning, {} not a directory.\".format(src))\n",
    "            shutil.copy(src, copy_directory)\n",
    "        elif exc.errno == errno.EEXIST:\n",
    "            print(\"Warning, folder {} exists, will not overwrite.\".format(src))\n",
    "        else:\n",
    "            logger.error(exc)\n",
    "            raise"
   ]
  },
  {
   "cell_type": "code",
   "execution_count": 28,
   "metadata": {},
   "outputs": [
    {
     "name": "stdout",
     "output_type": "stream",
     "text": [
      "Copying /projects/ps-yeolab3/bay001/codebase/metadata/results_dir/aichaim_cortical_organoids_20180424/ to /oasis/tscc/scratch/bay001/metadata/aichaim_cortical_organoids_20180424/.\n",
      "Done copying /projects/ps-yeolab3/bay001/codebase/metadata/results_dir/aichaim_cortical_organoids_20180424/ to /oasis/tscc/scratch/bay001/metadata/aichaim_cortical_organoids_20180424/\n"
     ]
    }
   ],
   "source": [
    "src = '/projects/ps-yeolab3/bay001/codebase/metadata/results_dir/aichaim_cortical_organoids_20180424/'\n",
    "dest = '/oasis/tscc/scratch/bay001/metadata/'\n",
    "copy_dir(src, dest)"
   ]
  },
  {
   "cell_type": "code",
   "execution_count": 30,
   "metadata": {},
   "outputs": [],
   "source": [
    "def copy_files(src, dest):\n",
    "    \"\"\"\n",
    "    Copies a file locally.\n",
    "\n",
    "    :param src: basestring\n",
    "        source file\n",
    "    :param dest: basestring\n",
    "        destination\n",
    "    :param logger: logging.Logger()\n",
    "        Logger object.\n",
    "    :return:\n",
    "    \"\"\"\n",
    "    try:\n",
    "        print(\"Copying {} to {}\".format(src, dest))\n",
    "        shutil.copy(src, dest)\n",
    "        print(\"Done copying {} to {}\".format(src, dest))\n",
    "    except Exception as e:\n",
    "        print(e)\n",
    "        raise"
   ]
  },
  {
   "cell_type": "code",
   "execution_count": 32,
   "metadata": {},
   "outputs": [
    {
     "name": "stdout",
     "output_type": "stream",
     "text": [
      "Copying /oasis/tscc/scratch/bay001/metadata/aichaim_cortical_organoids_20180424/DROPSEQ_aichaim_cortical_organoids_20180424_INPUT.yaml to /home/bay001/DROPSEQ_aichaim_cortical_organoids_20180424_INPUT.yaml\n",
      "Done copying /oasis/tscc/scratch/bay001/metadata/aichaim_cortical_organoids_20180424/DROPSEQ_aichaim_cortical_organoids_20180424_INPUT.yaml to /home/bay001/DROPSEQ_aichaim_cortical_organoids_20180424_INPUT.yaml\n"
     ]
    }
   ],
   "source": [
    "src = '/oasis/tscc/scratch/bay001/metadata/aichaim_cortical_organoids_20180424/DROPSEQ_aichaim_cortical_organoids_20180424_INPUT.yaml'\n",
    "dest = '/home/bay001/DROPSEQ_aichaim_cortical_organoids_20180424_INPUT.yaml'\n",
    "copy_files(src, dest)"
   ]
  },
  {
   "cell_type": "code",
   "execution_count": null,
   "metadata": {},
   "outputs": [],
   "source": []
  }
 ],
 "metadata": {
  "kernelspec": {
   "display_name": "Python 2",
   "language": "python",
   "name": "python2"
  }
 },
 "nbformat": 4,
 "nbformat_minor": 2
}
