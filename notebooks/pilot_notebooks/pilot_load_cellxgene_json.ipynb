{
 "cells": [
  {
   "cell_type": "code",
   "execution_count": 1,
   "metadata": {},
   "outputs": [],
   "source": [
    "import argparse\n",
    "import json\n",
    "import os\n",
    "import glob\n",
    "import subprocess\n",
    "import shutil\n",
    "import boto3\n",
    "import botocore\n",
    "import logging\n",
    "import datetime\n",
    "import time\n",
    "import hashlib\n",
    "\n",
    "EOL_UNIX = '\\n'\n",
    "EOL_WINDOWS = '\\r\\n'\n",
    "PROFILE = 'ncrcrg.u19@gmail.com'"
   ]
  },
  {
   "cell_type": "code",
   "execution_count": 2,
   "metadata": {},
   "outputs": [],
   "source": [
    "input_dir = '/projects/ps-yeolab4/NCRCRG/home/bay001/json_dir/'\n",
    "output_dir = '/home/bay001/scratch/NCRCRG/'\n",
    "\n",
    "log_dir = '/projects/ps-yeolab4/NCRCRG/bin/test_data/'\n",
    "user = 'bay001'"
   ]
  },
  {
   "cell_type": "code",
   "execution_count": 3,
   "metadata": {},
   "outputs": [],
   "source": [
    "cellxgene_json = os.path.join(input_dir, 'cellxgene.json')"
   ]
  },
  {
   "cell_type": "code",
   "execution_count": 4,
   "metadata": {},
   "outputs": [],
   "source": [
    "def load_data_from_json_or_jsonlike(fn, logger):\n",
    "    \"\"\"\n",
    "    Returns data stored in JSON files as a dictionary.\n",
    "    Also handles cases where a shebang line exists (legacy)\n",
    "    \"\"\"\n",
    "    try:\n",
    "        with open(fn, 'r') as f:\n",
    "            return json.load(f)\n",
    "    except Exception as e:\n",
    "        with open(fn, 'r') as f:\n",
    "            f.readline()  # skips the /usr/bin/env line\n",
    "            try:\n",
    "                return json.load(f)\n",
    "            except ValueError:\n",
    "                logger.error(\"Couldn't load {}\".format(fn))\n",
    "                return fn\n",
    "\n",
    "\n",
    "def download_raw_files_from_cellxgene_json(fn, output_dir, bucket, logger):\n",
    "    session = boto3.Session(profile_name=PROFILE)\n",
    "    s3client = session.client(\n",
    "        's3',\n",
    "    )\n",
    "    user = get_user(fn)  # we aren't dealing with buckets but rather with users within a bucket.\n",
    "    files_captured = 0  # if we're looking for sample_ids, make sure we capture at least one file\n",
    "    \n",
    "    data = load_data_from_json_or_jsonlike(fn, logger)\n",
    "    dest_dir = os.path.join(output_dir, data['path']['path'])\n",
    "    if not os.path.exists(dest_dir):\n",
    "        logger.info(\"Downloading {}\".format(data['path']['path']))\n",
    "        os.makedirs(dest_dir)\n",
    "    # Get the path relative to the json file location\n",
    "    src_full_dir = os.path.join(\n",
    "        bucket, \n",
    "        get_parent_directory_and_file(\n",
    "            fn, \n",
    "            level=2, \n",
    "            include_file=False\n",
    "        ), \n",
    "        \"results_dir\",\n",
    "        data['path']['path']\n",
    "    )\n",
    "    copy_dir_from_aws(src_full_dir, dest_dir, logger=logger)"
   ]
  },
  {
   "cell_type": "code",
   "execution_count": 5,
   "metadata": {},
   "outputs": [],
   "source": [
    "# copy logger code\n",
    "\n",
    "def append_date(fn):\n",
    "    \"\"\"\n",
    "    Appends the date to a filename.\n",
    "\n",
    "    :param fn: basestring\n",
    "        file name.\n",
    "    :return fn.datetime:\n",
    "    \"\"\"\n",
    "    f, ext = os.path.splitext(fn)\n",
    "    return '{}_{:%Y%m%d%z}{}'.format(\n",
    "        f, datetime.datetime.now(), ext\n",
    "    )\n",
    "\n",
    "def get_user(fn):\n",
    "    \"\"\"\n",
    "    Given a properly formatted filename, return a user\n",
    "    Here is an example of a properly formatted filename:\n",
    "\n",
    "    /projects/ps-yeolab4/NCRCRG/home/bay001/work_dir/MIT_S1_L001_R1_001.fastq.gz\n",
    "\n",
    "    :param fn: basestring\n",
    "        full path where the USER is the 2nd level parent directory from base file.\n",
    "    :return user: basestring\n",
    "        the user\n",
    "    \"\"\"\n",
    "    return os.path.basename(get_parent_directory_and_file(fn, level=2, include_file=False))\n",
    "\n",
    "def get_parent_directory_and_file(fn, level=1, include_file=True):\n",
    "    \"\"\"\n",
    "    [2]\n",
    "    \n",
    "    Returns the base filename and its parent directory.\n",
    "\n",
    "    :param fn: string\n",
    "        full file path (ie: /home/bay001/projects/some/path/to.fastq.gz\n",
    "    :param level: int\n",
    "        1= parent directory, 2=grandparent directory, etc.\n",
    "    :return parent_and_file : string\n",
    "        (ie. path/to.fastq.gz)\n",
    "    \"\"\"\n",
    "    relpath = \"\"\n",
    "    subdirs = []\n",
    "    dirlevel = os.path.dirname(fn)\n",
    "    file_name = os.path.basename(fn)\n",
    "    # print(\"fn: {}, dirlevel: {}, filename: {}\".format(fn, dirlevel, file_name))\n",
    "    for l in range(0, level):\n",
    "        dirlevel = os.path.dirname(dirlevel)\n",
    "        if dirlevel != '/':  # we hit the root before hitting level cap.\n",
    "            subdirs.append(os.path.basename(dirlevel))\n",
    "\n",
    "    for l in range(0, level):\n",
    "        if len(subdirs) > 0:  # still more levels to pop\n",
    "            relpath = os.path.join(relpath, subdirs.pop())\n",
    "        else:\n",
    "            if include_file:\n",
    "                return os.path.join('/', relpath, file_name)\n",
    "            else:\n",
    "                return os.path.join('/', relpath)\n",
    "    if include_file:\n",
    "        return os.path.join(relpath, file_name)\n",
    "    else:\n",
    "        return relpath\n",
    "    \n",
    "\n",
    "# Process logs\n",
    "logger = logging.getLogger('status')\n",
    "logger.setLevel(logging.INFO)\n",
    "\n",
    "ih = logging.FileHandler(os.path.join(log_dir, append_date('{}-status.txt'.format(user))))\n",
    "ih.setLevel(logging.INFO)\n",
    "logger.addHandler(ih)\n",
    "\n",
    "eh = logging.FileHandler(os.path.join(log_dir, append_date('{}-status.err'.format(user))))\n",
    "eh.setLevel(logging.ERROR)\n",
    "logger.addHandler(eh)\n",
    "\n",
    "formatter = logging.Formatter(\n",
    "    '%(asctime)s - %(name)s - %(levelname)s - %(message)s')\n",
    "ih.setFormatter(formatter)\n",
    "eh.setFormatter(formatter)\n",
    "logger.info(\"Starting download program\")"
   ]
  },
  {
   "cell_type": "code",
   "execution_count": null,
   "metadata": {},
   "outputs": [],
   "source": []
  },
  {
   "cell_type": "code",
   "execution_count": 6,
   "metadata": {},
   "outputs": [],
   "source": [
    "def copy_dir_from_aws(src, dest, logger):\n",
    "    \"\"\"\n",
    "    Copies a directory from AWS to local\n",
    "    :param bucket: basestring\n",
    "        aws s3 source path directory\n",
    "    :param dest: basestring\n",
    "        local destination directory\n",
    "    :param logger: logging.Logger()\n",
    "        Logger object\n",
    "    :return:\n",
    "    \"\"\"\n",
    "    if not src.startswith('s3://'):\n",
    "        src = 's3://' + src\n",
    "\n",
    "    if not dest.endswith('/'):\n",
    "        dest = dest + '/'\n",
    "\n",
    "    upload_dir = os.path.dirname(dest).split('/')[-1] + \"/\"\n",
    "    \n",
    "    cmd = 'aws s3 sync {} {} --profile {}'.format(\n",
    "        src,\n",
    "        dest,\n",
    "        PROFILE\n",
    "    )\n",
    "    print(cmd)"
   ]
  },
  {
   "cell_type": "code",
   "execution_count": 7,
   "metadata": {},
   "outputs": [
    {
     "name": "stdout",
     "output_type": "stream",
     "text": [
      "aws s3 sync s3://u19/home/bay001/results_dir/6mo_cortical_organoids_wt_cellranger3_feab5103e16ff600793fea28bb618f63558e6392/results/WT/outs/filtered_feature_bc_matrix/ /projects/ps-yeolab4/NCRCRG/home/bay001/work_dir/6mo_cortical_organoids_wt_cellranger3_feab5103e16ff600793fea28bb618f63558e6392/results/WT/outs/filtered_feature_bc_matrix/ --profile ncrcrg.u19@gmail.com\n"
     ]
    }
   ],
   "source": [
    "download_raw_files_from_cellxgene_json(\n",
    "    fn=cellxgene_json,\n",
    "    output_dir='/projects/ps-yeolab4/NCRCRG/home/bay001/work_dir',\n",
    "    bucket='u19',\n",
    "    logger=logger,\n",
    ")"
   ]
  },
  {
   "cell_type": "code",
   "execution_count": 8,
   "metadata": {},
   "outputs": [
    {
     "ename": "NameError",
     "evalue": "name 'bucket' is not defined",
     "output_type": "error",
     "traceback": [
      "\u001b[0;31m---------------------------------------------------------------------------\u001b[0m",
      "\u001b[0;31mNameError\u001b[0m                                 Traceback (most recent call last)",
      "\u001b[0;32m<ipython-input-8-862dd4494b2d>\u001b[0m in \u001b[0;36m<module>\u001b[0;34m\u001b[0m\n\u001b[0;32m----> 1\u001b[0;31m \u001b[0mbucket\u001b[0m\u001b[0;34m\u001b[0m\u001b[0;34m\u001b[0m\u001b[0m\n\u001b[0m",
      "\u001b[0;31mNameError\u001b[0m: name 'bucket' is not defined"
     ]
    }
   ],
   "source": [
    "bucket"
   ]
  },
  {
   "cell_type": "code",
   "execution_count": null,
   "metadata": {},
   "outputs": [],
   "source": []
  }
 ],
 "metadata": {
  "kernelspec": {
   "display_name": "python3-essential",
   "language": "python",
   "name": "python3-essential"
  },
  "language_info": {
   "codemirror_mode": {
    "name": "ipython",
    "version": 3
   },
   "file_extension": ".py",
   "mimetype": "text/x-python",
   "name": "python",
   "nbconvert_exporter": "python",
   "pygments_lexer": "ipython3",
   "version": "3.6.7"
  }
 },
 "nbformat": 4,
 "nbformat_minor": 2
}
