{
 "cells": [
  {
   "cell_type": "code",
   "execution_count": 5,
   "metadata": {},
   "outputs": [],
   "source": [
    "def determine_pipeline(fn):\n",
    "    \"\"\"\n",
    "    From a json-like file, return the name of the associated pipeline.\n",
    "    Assumes (asserts) that the first line is always:\n",
    "\n",
    "    #!/usr/bin/env PIPELINE_NAME\n",
    "\n",
    "    :param fn: basestring\n",
    "    :return pipeline: basestring\n",
    "        one of: dropseq-runner, cellranger-runner\n",
    "    \"\"\"\n",
    "    with open(fn, 'r') as f:\n",
    "        env_line = f.readline().rstrip()\n",
    "        try:\n",
    "            assert env_line.startswith(\"#!/usr/bin/env\")\n",
    "        except AssertionError:\n",
    "            print(\"Pipeline not defined within jsonlike file!\")\n",
    "            return 1\n",
    "        _, env = env_line.split(' ')\n",
    "        return env"
   ]
  },
  {
   "cell_type": "code",
   "execution_count": 7,
   "metadata": {},
   "outputs": [
    {
     "data": {
      "text/plain": [
       "'dropseq-runner'"
      ]
     },
     "execution_count": 7,
     "metadata": {},
     "output_type": "execute_result"
    }
   ],
   "source": [
    "json = '/projects/ps-yeolab3/bay001/codebase/metadata/json_dir/SRX2556654.json'\n",
    "\n",
    "determine_pipeline(json)"
   ]
  },
  {
   "cell_type": "code",
   "execution_count": 8,
   "metadata": {},
   "outputs": [
    {
     "data": {
      "text/plain": [
       "'cellranger-runner'"
      ]
     },
     "execution_count": 8,
     "metadata": {},
     "output_type": "execute_result"
    }
   ],
   "source": [
    "json = '/projects/ps-yeolab3/bay001/codebase/metadata/results_dir/yan_YS16/CELLRANGER_yan_YS16_INPUT.yaml'\n",
    "\n",
    "determine_pipeline(json)"
   ]
  },
  {
   "cell_type": "code",
   "execution_count": null,
   "metadata": {},
   "outputs": [],
   "source": []
  }
 ],
 "metadata": {
  "kernelspec": {
   "display_name": "Python 2",
   "language": "python",
   "name": "python2"
  },
  "language_info": {
   "codemirror_mode": {
    "name": "ipython",
    "version": 2
   },
   "file_extension": ".py",
   "mimetype": "text/x-python",
   "name": "python",
   "nbconvert_exporter": "python",
   "pygments_lexer": "ipython2",
   "version": "2.7.14"
  }
 },
 "nbformat": 4,
 "nbformat_minor": 2
}
