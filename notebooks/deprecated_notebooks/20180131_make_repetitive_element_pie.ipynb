{
 "cells": [
  {
   "cell_type": "code",
   "execution_count": 1,
   "metadata": {},
   "outputs": [],
   "source": [
    "# %matplotlib inline\n",
    "import matplotlib.pyplot as plt\n",
    "import seaborn as sns\n",
    "import pandas as pd\n",
    "import numpy as np\n",
    "import os\n",
    "import matplotlib.gridspec as gridspec\n"
   ]
  },
  {
   "cell_type": "code",
   "execution_count": 2,
   "metadata": {},
   "outputs": [],
   "source": [
    "input_dir = 'inputs'\n",
    "output_dir = 'outputs'"
   ]
  },
  {
   "cell_type": "code",
   "execution_count": 3,
   "metadata": {},
   "outputs": [],
   "source": [
    "def get_start(current_width, previous_width, previous_step):\n",
    "    \"\"\"\n",
    "    Returns the appropriate start offset based on \n",
    "    \"\"\"\n",
    "    circle = np.pi*2 # 1 radian = 6.28\n",
    "    if previous_width is None:\n",
    "        previous_width = 0\n",
    "    stepper = circle * 0.05  # okay honestly don't really know why this needs to be 0.05\n",
    "    return previous_step + stepper * (current_width*10 + previous_width*10) \n",
    "\n",
    "def sunburst(widths, heights, labels, colors, output_file):\n",
    "    \"\"\"\n",
    "    Make a sunburst pie chart (pie chart with different heights for each pie)\n",
    "    \"\"\"\n",
    "    try:\n",
    "        assert float(sum(widths)) == 1.0  # make sure all slices equal 1\n",
    "    except AssertionError:\n",
    "        print(\"Pie slices do not equal 1! Pie chart may be incomplete! {}, {}\".format(output_file, sum(widths)))\n",
    "\n",
    "    previous_step = 0\n",
    "    previous_width = None\n",
    "\n",
    "    starts = []\n",
    "    for w in range(len(widths)):\n",
    "        starts.append(get_start(widths[w], previous_width, previous_step))\n",
    "        previous_step = get_start(widths[w], previous_width, previous_step)\n",
    "        previous_width = widths[w]\n",
    "    \n",
    "    circle = np.pi*2 # 1 radian = 6.28\n",
    "    widths = [circle*x for x in widths]\n",
    "    \n",
    "    fig = plt.figure(figsize=(10, 5))\n",
    "    gs = gridspec.GridSpec(1, 2)\n",
    "    ax = plt.subplot(gs[:,:1], projection='polar')\n",
    "    legend_ax = plt.subplot(gs[:,1:])\n",
    "    bars = ax.bar(starts, heights, widths, bottom=0.0)  # change bottom to 1 for 'donut' look\n",
    "\n",
    "    # Use custom colors and opacity\n",
    "    i = 0\n",
    "    for r, bar in zip(heights, bars):\n",
    "        bar.set_alpha(0.5)\n",
    "        bar.set_color(colors[labels[i]])\n",
    "        bar.set_linewidth(0)\n",
    "        bar.set_label(\"{} w={} h={}\".format(labels[i], widths[i], heights[i]))\n",
    "        i += 1\n",
    "    plt.setp(ax.get_xticklabels(), visible=False)\n",
    "    # plt.setp(ax.get_yticklabels(), visible=False)\n",
    "    # plt.show()\n",
    "    set_legend(ax, legend_ax)\n",
    "    fig.savefig(output_file)\n",
    "    plt.cla()\n",
    "    plt.clf()\n",
    "    \n",
    "def set_legend(ax, legend_ax):\n",
    "    sns.despine(\n",
    "        ax=legend_ax, \n",
    "        bottom=True, \n",
    "        top=True, \n",
    "        left=True,\n",
    "        right=True\n",
    "    )\n",
    "    legend_ax.yaxis.set_visible(False)\n",
    "    legend_ax.xaxis.set_visible(False)\n",
    "\n",
    "    leg_handles, leg_labels = ax.get_legend_handles_labels()\n",
    "\n",
    "    leg = legend_ax.legend(\n",
    "        leg_handles, leg_labels, loc=10,\n",
    "        mode=\"expand\", ncol=1)\n",
    "\n",
    "    # for legobj in leg.legendHandles:\n",
    "    #     legobj.set_linewidth(4.0)"
   ]
  },
  {
   "cell_type": "code",
   "execution_count": 4,
   "metadata": {},
   "outputs": [
    {
     "name": "stdout",
     "output_type": "stream",
     "text": [
      "65884\n"
     ]
    },
    {
     "data": {
      "text/html": [
       "<div>\n",
       "<style scoped>\n",
       "    .dataframe tbody tr th:only-of-type {\n",
       "        vertical-align: middle;\n",
       "    }\n",
       "\n",
       "    .dataframe tbody tr th {\n",
       "        vertical-align: top;\n",
       "    }\n",
       "\n",
       "    .dataframe thead th {\n",
       "        text-align: right;\n",
       "    }\n",
       "</style>\n",
       "<table border=\"1\" class=\"dataframe\">\n",
       "  <thead>\n",
       "    <tr style=\"text-align: right;\">\n",
       "      <th></th>\n",
       "      <th>RBP</th>\n",
       "      <th>cell</th>\n",
       "      <th>element</th>\n",
       "      <th>uID</th>\n",
       "      <th>uID2</th>\n",
       "      <th>ip_reads</th>\n",
       "      <th>ip_rpr</th>\n",
       "      <th>input_</th>\n",
       "      <th>input_rpr</th>\n",
       "      <th>fold_change</th>\n",
       "      <th>information_content</th>\n",
       "    </tr>\n",
       "  </thead>\n",
       "  <tbody>\n",
       "    <tr>\n",
       "      <th>206_01_HNRNPK</th>\n",
       "      <td>HNRNPK</td>\n",
       "      <td>HepG2</td>\n",
       "      <td>Alu</td>\n",
       "      <td>206_01_HNRNPK</td>\n",
       "      <td>HNRNPK-HepG2_01</td>\n",
       "      <td>70957</td>\n",
       "      <td>0.014171</td>\n",
       "      <td>116845</td>\n",
       "      <td>0.016044</td>\n",
       "      <td>0.883225</td>\n",
       "      <td>-0.002539</td>\n",
       "    </tr>\n",
       "    <tr>\n",
       "      <th>206_02_HNRNPK</th>\n",
       "      <td>HNRNPK</td>\n",
       "      <td>HepG2</td>\n",
       "      <td>Alu</td>\n",
       "      <td>206_02_HNRNPK</td>\n",
       "      <td>HNRNPK-HepG2_02</td>\n",
       "      <td>73372</td>\n",
       "      <td>0.014843</td>\n",
       "      <td>116845</td>\n",
       "      <td>0.016044</td>\n",
       "      <td>0.925101</td>\n",
       "      <td>-0.001667</td>\n",
       "    </tr>\n",
       "    <tr>\n",
       "      <th>358_01_GNL3</th>\n",
       "      <td>GNL3</td>\n",
       "      <td>K562</td>\n",
       "      <td>Alu</td>\n",
       "      <td>358_01_GNL3</td>\n",
       "      <td>GNL3-K562_01</td>\n",
       "      <td>13374</td>\n",
       "      <td>0.003358</td>\n",
       "      <td>254075</td>\n",
       "      <td>0.012172</td>\n",
       "      <td>0.275841</td>\n",
       "      <td>-0.006239</td>\n",
       "    </tr>\n",
       "    <tr>\n",
       "      <th>358_02_GNL3</th>\n",
       "      <td>GNL3</td>\n",
       "      <td>K562</td>\n",
       "      <td>Alu</td>\n",
       "      <td>358_02_GNL3</td>\n",
       "      <td>GNL3-K562_02</td>\n",
       "      <td>29507</td>\n",
       "      <td>0.005196</td>\n",
       "      <td>254075</td>\n",
       "      <td>0.012172</td>\n",
       "      <td>0.426899</td>\n",
       "      <td>-0.006381</td>\n",
       "    </tr>\n",
       "    <tr>\n",
       "      <th>331_01_RBM22</th>\n",
       "      <td>RBM22</td>\n",
       "      <td>K562</td>\n",
       "      <td>Alu</td>\n",
       "      <td>331_01_RBM22</td>\n",
       "      <td>RBM22-K562_01</td>\n",
       "      <td>24679</td>\n",
       "      <td>0.009018</td>\n",
       "      <td>52744</td>\n",
       "      <td>0.006284</td>\n",
       "      <td>1.435128</td>\n",
       "      <td>0.004700</td>\n",
       "    </tr>\n",
       "  </tbody>\n",
       "</table>\n",
       "</div>"
      ],
      "text/plain": [
       "                  RBP   cell element            uID             uID2  \\\n",
       "206_01_HNRNPK  HNRNPK  HepG2     Alu  206_01_HNRNPK  HNRNPK-HepG2_01   \n",
       "206_02_HNRNPK  HNRNPK  HepG2     Alu  206_02_HNRNPK  HNRNPK-HepG2_02   \n",
       "358_01_GNL3      GNL3   K562     Alu    358_01_GNL3     GNL3-K562_01   \n",
       "358_02_GNL3      GNL3   K562     Alu    358_02_GNL3     GNL3-K562_02   \n",
       "331_01_RBM22    RBM22   K562     Alu   331_01_RBM22    RBM22-K562_01   \n",
       "\n",
       "               ip_reads    ip_rpr  input_  input_rpr  fold_change  \\\n",
       "206_01_HNRNPK     70957  0.014171  116845   0.016044     0.883225   \n",
       "206_02_HNRNPK     73372  0.014843  116845   0.016044     0.925101   \n",
       "358_01_GNL3       13374  0.003358  254075   0.012172     0.275841   \n",
       "358_02_GNL3       29507  0.005196  254075   0.012172     0.426899   \n",
       "331_01_RBM22      24679  0.009018   52744   0.006284     1.435128   \n",
       "\n",
       "               information_content  \n",
       "206_01_HNRNPK            -0.002539  \n",
       "206_02_HNRNPK            -0.001667  \n",
       "358_01_GNL3              -0.006239  \n",
       "358_02_GNL3              -0.006381  \n",
       "331_01_RBM22              0.004700  "
      ]
     },
     "execution_count": 4,
     "metadata": {},
     "output_type": "execute_result"
    }
   ],
   "source": [
    "df = pd.read_table(\n",
    "    os.path.join(input_dir, '20170505.ALLENCODEinclnotsubmitted.txt.nopipes.txt.submitted_only'),\n",
    "    names=[\n",
    "        'RBP','cell','element','uID','uID2',\n",
    "        'ip_reads','ip_rpr',\n",
    "        'input_','input_rpr','fold_change',\n",
    "        'information_content'\n",
    "    ],\n",
    "    index_col=0\n",
    ")\n",
    "print(df.shape[0])\n",
    "df.head()"
   ]
  },
  {
   "cell_type": "code",
   "execution_count": 5,
   "metadata": {},
   "outputs": [],
   "source": [
    "# 5% without fold chnge cutoff\n",
    "# 1% with fold change cutoff of 4 or something\n",
    "# fold change cutoff isn't log"
   ]
  },
  {
   "cell_type": "code",
   "execution_count": 6,
   "metadata": {},
   "outputs": [],
   "source": [
    "def split_others(df, fold_change_cutoff, soft_cutoff, hard_cutoff):\n",
    "    \n",
    "    pass1 = df[\n",
    "        (df['ip_rpr'] >= soft_cutoff) & \\\n",
    "        (df['fold_change'] >= 1)\n",
    "    ]\n",
    "    pass2 = df[\n",
    "        (df['ip_rpr'] >= hard_cutoff) & \\\n",
    "        (df['fold_change'] >= fold_change_cutoff)\n",
    "    ]\n",
    "    passed = pd.Index(set(pass1.index).union(set(pass2.index)))\n",
    "    failed = df.index.difference(passed)\n",
    "    return df.loc[passed], df.loc[failed]\n",
    "    \n",
    "def get_pie_values(df, rbp, fold_change_cutoff=4, soft_cutoff=0.05, hard_cutoff=0.01):\n",
    "    dx = df.loc[rbp][['element','ip_rpr','fold_change']]\n",
    "    dx.set_index('element', inplace=True)\n",
    "    dpass, dfail = split_others(dx, fold_change_cutoff, soft_cutoff, hard_cutoff)\n",
    "    others = pd.DataFrame(columns=['ip_rpr','fold_change'],index=['others'])\n",
    "    others.loc['others']['ip_rpr'] = dfail['ip_rpr'].sum()\n",
    "    others.loc['others']['fold_change'] = dfail['fold_change'].mean() if dfail['fold_change'].mean() >=0 else 0\n",
    "    merged = pd.concat([dpass, others])\n",
    "    # because the ip_circular_... doesn't always add up to 1\n",
    "    if merged['ip_rpr'].sum(axis=0) < 1:\n",
    "        merged.loc['others', 'ip_rpr'] += (\n",
    "            1 - merged['ip_rpr'].sum(axis=0)\n",
    "        )\n",
    "    return merged\n",
    "\n"
   ]
  },
  {
   "cell_type": "code",
   "execution_count": 7,
   "metadata": {},
   "outputs": [],
   "source": [
    "# vals = get_pie_values(df, '204_01_RBFOX2')\n",
    "# colors = sns.color_palette(\"hls\", vals.shape[0])\n",
    "# sunburst(vals['ip_rpr'], vals['fold_change'], vals.index, colors)"
   ]
  },
  {
   "cell_type": "code",
   "execution_count": 8,
   "metadata": {},
   "outputs": [],
   "source": [
    "# vals = get_pie_values(df, '203_01_HNRNPC')\n",
    "# colors = sns.color_palette(\"hls\", vals.shape[0])\n",
    "# sunburst(vals['ip_rpr'], vals['fold_change'], vals.index, colors)"
   ]
  },
  {
   "cell_type": "code",
   "execution_count": 9,
   "metadata": {},
   "outputs": [
    {
     "name": "stderr",
     "output_type": "stream",
     "text": [
      "  6%|▌         | 20/362 [00:06<01:46,  3.22it/s]/home/bay001/anaconda2/envs/brian/lib/python2.7/site-packages/matplotlib/pyplot.py:528: RuntimeWarning: More than 20 figures have been opened. Figures created through the pyplot interface (`matplotlib.pyplot.figure`) are retained until explicitly closed and may consume too much memory. (To control this warning, see the rcParam `figure.max_open_warning`).\n",
      "  max_open_warning, RuntimeWarning)\n",
      " 24%|██▍       | 88/362 [00:28<01:41,  2.69it/s]"
     ]
    },
    {
     "name": "stdout",
     "output_type": "stream",
     "text": [
      "Pie slices do not equal 1! Pie chart may be incomplete! outputs/278_02_PRPF8.png, 1.0\n"
     ]
    },
    {
     "name": "stderr",
     "output_type": "stream",
     "text": [
      " 67%|██████▋   | 242/362 [01:21<00:41,  2.91it/s]"
     ]
    },
    {
     "name": "stdout",
     "output_type": "stream",
     "text": [
      "Pie slices do not equal 1! Pie chart may be incomplete! outputs/652_02_SUGP2.png, 1.0\n"
     ]
    },
    {
     "name": "stderr",
     "output_type": "stream",
     "text": [
      "100%|██████████| 362/362 [02:06<00:00,  2.81it/s]"
     ]
    },
    {
     "data": {
      "text/plain": [
       "<matplotlib.figure.Figure at 0x2ad5f8b08f90>"
      ]
     },
     "metadata": {},
     "output_type": "display_data"
    },
    {
     "data": {
      "text/plain": [
       "<matplotlib.figure.Figure at 0x2ad5f9b1eed0>"
      ]
     },
     "metadata": {},
     "output_type": "display_data"
    },
    {
     "data": {
      "text/plain": [
       "<matplotlib.figure.Figure at 0x2ad5fbe0dc50>"
      ]
     },
     "metadata": {},
     "output_type": "display_data"
    },
    {
     "data": {
      "text/plain": [
       "<matplotlib.figure.Figure at 0x2ad6000524d0>"
      ]
     },
     "metadata": {},
     "output_type": "display_data"
    },
    {
     "data": {
      "text/plain": [
       "<matplotlib.figure.Figure at 0x2ad60018be50>"
      ]
     },
     "metadata": {},
     "output_type": "display_data"
    },
    {
     "data": {
      "text/plain": [
       "<matplotlib.figure.Figure at 0x2ad600032050>"
      ]
     },
     "metadata": {},
     "output_type": "display_data"
    },
    {
     "data": {
      "text/plain": [
       "<matplotlib.figure.Figure at 0x2ad600000710>"
      ]
     },
     "metadata": {},
     "output_type": "display_data"
    },
    {
     "data": {
      "text/plain": [
       "<matplotlib.figure.Figure at 0x2ad600581c90>"
      ]
     },
     "metadata": {},
     "output_type": "display_data"
    },
    {
     "data": {
      "text/plain": [
       "<matplotlib.figure.Figure at 0x2ad6006ff050>"
      ]
     },
     "metadata": {},
     "output_type": "display_data"
    },
    {
     "data": {
      "text/plain": [
       "<matplotlib.figure.Figure at 0x2ad60044d950>"
      ]
     },
     "metadata": {},
     "output_type": "display_data"
    },
    {
     "data": {
      "text/plain": [
       "<matplotlib.figure.Figure at 0x2ad5fbe45b90>"
      ]
     },
     "metadata": {},
     "output_type": "display_data"
    },
    {
     "data": {
      "text/plain": [
       "<matplotlib.figure.Figure at 0x2ad600716d50>"
      ]
     },
     "metadata": {},
     "output_type": "display_data"
    },
    {
     "data": {
      "text/plain": [
       "<matplotlib.figure.Figure at 0x2ad600322650>"
      ]
     },
     "metadata": {},
     "output_type": "display_data"
    },
    {
     "data": {
      "text/plain": [
       "<matplotlib.figure.Figure at 0x2ad5fbdff390>"
      ]
     },
     "metadata": {},
     "output_type": "display_data"
    },
    {
     "data": {
      "text/plain": [
       "<matplotlib.figure.Figure at 0x2ad60083ef10>"
      ]
     },
     "metadata": {},
     "output_type": "display_data"
    },
    {
     "data": {
      "text/plain": [
       "<matplotlib.figure.Figure at 0x2ad6005d2790>"
      ]
     },
     "metadata": {},
     "output_type": "display_data"
    },
    {
     "data": {
      "text/plain": [
       "<matplotlib.figure.Figure at 0x2ad600f9dc90>"
      ]
     },
     "metadata": {},
     "output_type": "display_data"
    },
    {
     "data": {
      "text/plain": [
       "<matplotlib.figure.Figure at 0x2ad6001a9d90>"
      ]
     },
     "metadata": {},
     "output_type": "display_data"
    },
    {
     "data": {
      "text/plain": [
       "<matplotlib.figure.Figure at 0x2ad60120ad10>"
      ]
     },
     "metadata": {},
     "output_type": "display_data"
    },
    {
     "data": {
      "text/plain": [
       "<matplotlib.figure.Figure at 0x2ad6012586d0>"
      ]
     },
     "metadata": {},
     "output_type": "display_data"
    },
    {
     "data": {
      "text/plain": [
       "<matplotlib.figure.Figure at 0x2ad6014b5a90>"
      ]
     },
     "metadata": {},
     "output_type": "display_data"
    },
    {
     "data": {
      "text/plain": [
       "<matplotlib.figure.Figure at 0x2ad6014d7390>"
      ]
     },
     "metadata": {},
     "output_type": "display_data"
    },
    {
     "data": {
      "text/plain": [
       "<matplotlib.figure.Figure at 0x2ad60177c510>"
      ]
     },
     "metadata": {},
     "output_type": "display_data"
    },
    {
     "data": {
      "text/plain": [
       "<matplotlib.figure.Figure at 0x2ad6018f28d0>"
      ]
     },
     "metadata": {},
     "output_type": "display_data"
    },
    {
     "data": {
      "text/plain": [
       "<matplotlib.figure.Figure at 0x2ad601223c90>"
      ]
     },
     "metadata": {},
     "output_type": "display_data"
    },
    {
     "data": {
      "text/plain": [
       "<matplotlib.figure.Figure at 0x2ad60136a190>"
      ]
     },
     "metadata": {},
     "output_type": "display_data"
    },
    {
     "data": {
      "text/plain": [
       "<matplotlib.figure.Figure at 0x2ad5f8b08890>"
      ]
     },
     "metadata": {},
     "output_type": "display_data"
    },
    {
     "data": {
      "text/plain": [
       "<matplotlib.figure.Figure at 0x2ad600072250>"
      ]
     },
     "metadata": {},
     "output_type": "display_data"
    },
    {
     "data": {
      "text/plain": [
       "<matplotlib.figure.Figure at 0x2ad6006ffa50>"
      ]
     },
     "metadata": {},
     "output_type": "display_data"
    },
    {
     "data": {
      "text/plain": [
       "<matplotlib.figure.Figure at 0x2ad6005ad0d0>"
      ]
     },
     "metadata": {},
     "output_type": "display_data"
    },
    {
     "data": {
      "text/plain": [
       "<matplotlib.figure.Figure at 0x2ad600000210>"
      ]
     },
     "metadata": {},
     "output_type": "display_data"
    },
    {
     "data": {
      "text/plain": [
       "<matplotlib.figure.Figure at 0x2ad6014d76d0>"
      ]
     },
     "metadata": {},
     "output_type": "display_data"
    },
    {
     "data": {
      "text/plain": [
       "<matplotlib.figure.Figure at 0x2ad5fbdd6990>"
      ]
     },
     "metadata": {},
     "output_type": "display_data"
    },
    {
     "data": {
      "text/plain": [
       "<matplotlib.figure.Figure at 0x2ad60120acd0>"
      ]
     },
     "metadata": {},
     "output_type": "display_data"
    },
    {
     "data": {
      "text/plain": [
       "<matplotlib.figure.Figure at 0x2ad601910fd0>"
      ]
     },
     "metadata": {},
     "output_type": "display_data"
    },
    {
     "data": {
      "text/plain": [
       "<matplotlib.figure.Figure at 0x2ad60123b710>"
      ]
     },
     "metadata": {},
     "output_type": "display_data"
    },
    {
     "data": {
      "text/plain": [
       "<matplotlib.figure.Figure at 0x2ad600479a50>"
      ]
     },
     "metadata": {},
     "output_type": "display_data"
    },
    {
     "data": {
      "text/plain": [
       "<matplotlib.figure.Figure at 0x2ad60178f6d0>"
      ]
     },
     "metadata": {},
     "output_type": "display_data"
    },
    {
     "data": {
      "text/plain": [
       "<matplotlib.figure.Figure at 0x2ad6017c10d0>"
      ]
     },
     "metadata": {},
     "output_type": "display_data"
    },
    {
     "data": {
      "text/plain": [
       "<matplotlib.figure.Figure at 0x2ad600863090>"
      ]
     },
     "metadata": {},
     "output_type": "display_data"
    },
    {
     "data": {
      "text/plain": [
       "<matplotlib.figure.Figure at 0x2ad600f7ed10>"
      ]
     },
     "metadata": {},
     "output_type": "display_data"
    },
    {
     "data": {
      "text/plain": [
       "<matplotlib.figure.Figure at 0x2ad600f7e350>"
      ]
     },
     "metadata": {},
     "output_type": "display_data"
    },
    {
     "data": {
      "text/plain": [
       "<matplotlib.figure.Figure at 0x2ad600052950>"
      ]
     },
     "metadata": {},
     "output_type": "display_data"
    },
    {
     "data": {
      "text/plain": [
       "<matplotlib.figure.Figure at 0x2ad5f9b1e250>"
      ]
     },
     "metadata": {},
     "output_type": "display_data"
    },
    {
     "data": {
      "text/plain": [
       "<matplotlib.figure.Figure at 0x2ad5f9b1e0d0>"
      ]
     },
     "metadata": {},
     "output_type": "display_data"
    },
    {
     "data": {
      "text/plain": [
       "<matplotlib.figure.Figure at 0x2ad6001d6410>"
      ]
     },
     "metadata": {},
     "output_type": "display_data"
    },
    {
     "data": {
      "text/plain": [
       "<matplotlib.figure.Figure at 0x2ad5f9af1310>"
      ]
     },
     "metadata": {},
     "output_type": "display_data"
    },
    {
     "data": {
      "text/plain": [
       "<matplotlib.figure.Figure at 0x2ad60083e390>"
      ]
     },
     "metadata": {},
     "output_type": "display_data"
    },
    {
     "data": {
      "text/plain": [
       "<matplotlib.figure.Figure at 0x2ad5f9af4bd0>"
      ]
     },
     "metadata": {},
     "output_type": "display_data"
    },
    {
     "data": {
      "text/plain": [
       "<matplotlib.figure.Figure at 0x2ad60046a150>"
      ]
     },
     "metadata": {},
     "output_type": "display_data"
    },
    {
     "data": {
      "text/plain": [
       "<matplotlib.figure.Figure at 0x2ad60177c890>"
      ]
     },
     "metadata": {},
     "output_type": "display_data"
    },
    {
     "data": {
      "text/plain": [
       "<matplotlib.figure.Figure at 0x2ad6011ed310>"
      ]
     },
     "metadata": {},
     "output_type": "display_data"
    },
    {
     "data": {
      "text/plain": [
       "<matplotlib.figure.Figure at 0x2ad5fbe2e5d0>"
      ]
     },
     "metadata": {},
     "output_type": "display_data"
    },
    {
     "data": {
      "text/plain": [
       "<matplotlib.figure.Figure at 0x2ad603688110>"
      ]
     },
     "metadata": {},
     "output_type": "display_data"
    },
    {
     "data": {
      "text/plain": [
       "<matplotlib.figure.Figure at 0x2ad60043e110>"
      ]
     },
     "metadata": {},
     "output_type": "display_data"
    },
    {
     "data": {
      "text/plain": [
       "<matplotlib.figure.Figure at 0x2ad60003c9d0>"
      ]
     },
     "metadata": {},
     "output_type": "display_data"
    },
    {
     "data": {
      "text/plain": [
       "<matplotlib.figure.Figure at 0x2ad6001dfad0>"
      ]
     },
     "metadata": {},
     "output_type": "display_data"
    },
    {
     "data": {
      "text/plain": [
       "<matplotlib.figure.Figure at 0x2ad5fbe39210>"
      ]
     },
     "metadata": {},
     "output_type": "display_data"
    },
    {
     "data": {
      "text/plain": [
       "<matplotlib.figure.Figure at 0x2ad600052e50>"
      ]
     },
     "metadata": {},
     "output_type": "display_data"
    },
    {
     "data": {
      "text/plain": [
       "<matplotlib.figure.Figure at 0x2ad60086fdd0>"
      ]
     },
     "metadata": {},
     "output_type": "display_data"
    },
    {
     "data": {
      "text/plain": [
       "<matplotlib.figure.Figure at 0x2ad60163df10>"
      ]
     },
     "metadata": {},
     "output_type": "display_data"
    },
    {
     "data": {
      "text/plain": [
       "<matplotlib.figure.Figure at 0x2ad60123b890>"
      ]
     },
     "metadata": {},
     "output_type": "display_data"
    },
    {
     "data": {
      "text/plain": [
       "<matplotlib.figure.Figure at 0x2ad5fbe0a250>"
      ]
     },
     "metadata": {},
     "output_type": "display_data"
    },
    {
     "data": {
      "text/plain": [
       "<matplotlib.figure.Figure at 0x2ad601258c50>"
      ]
     },
     "metadata": {},
     "output_type": "display_data"
    },
    {
     "data": {
      "text/plain": [
       "<matplotlib.figure.Figure at 0x2ad601258210>"
      ]
     },
     "metadata": {},
     "output_type": "display_data"
    },
    {
     "data": {
      "text/plain": [
       "<matplotlib.figure.Figure at 0x2ad600f88610>"
      ]
     },
     "metadata": {},
     "output_type": "display_data"
    },
    {
     "data": {
      "text/plain": [
       "<matplotlib.figure.Figure at 0x2ad6044e6810>"
      ]
     },
     "metadata": {},
     "output_type": "display_data"
    },
    {
     "data": {
      "text/plain": [
       "<matplotlib.figure.Figure at 0x2ad60469c250>"
      ]
     },
     "metadata": {},
     "output_type": "display_data"
    },
    {
     "data": {
      "text/plain": [
       "<matplotlib.figure.Figure at 0x2ad60178f990>"
      ]
     },
     "metadata": {},
     "output_type": "display_data"
    },
    {
     "data": {
      "text/plain": [
       "<matplotlib.figure.Figure at 0x2ad6005d2090>"
      ]
     },
     "metadata": {},
     "output_type": "display_data"
    },
    {
     "data": {
      "text/plain": [
       "<matplotlib.figure.Figure at 0x2ad601650810>"
      ]
     },
     "metadata": {},
     "output_type": "display_data"
    },
    {
     "data": {
      "text/plain": [
       "<matplotlib.figure.Figure at 0x2ad5fbe24690>"
      ]
     },
     "metadata": {},
     "output_type": "display_data"
    },
    {
     "data": {
      "text/plain": [
       "<matplotlib.figure.Figure at 0x2ad5f9b04e90>"
      ]
     },
     "metadata": {},
     "output_type": "display_data"
    },
    {
     "data": {
      "text/plain": [
       "<matplotlib.figure.Figure at 0x2ad600f9d310>"
      ]
     },
     "metadata": {},
     "output_type": "display_data"
    },
    {
     "data": {
      "text/plain": [
       "<matplotlib.figure.Figure at 0x2ad601223f90>"
      ]
     },
     "metadata": {},
     "output_type": "display_data"
    },
    {
     "data": {
      "text/plain": [
       "<matplotlib.figure.Figure at 0x2ad6017d0050>"
      ]
     },
     "metadata": {},
     "output_type": "display_data"
    },
    {
     "data": {
      "text/plain": [
       "<matplotlib.figure.Figure at 0x2ad601941490>"
      ]
     },
     "metadata": {},
     "output_type": "display_data"
    },
    {
     "data": {
      "text/plain": [
       "<matplotlib.figure.Figure at 0x2ad5fbdffd10>"
      ]
     },
     "metadata": {},
     "output_type": "display_data"
    },
    {
     "data": {
      "text/plain": [
       "<matplotlib.figure.Figure at 0x2ad6005c5c90>"
      ]
     },
     "metadata": {},
     "output_type": "display_data"
    },
    {
     "data": {
      "text/plain": [
       "<matplotlib.figure.Figure at 0x2ad60120a1d0>"
      ]
     },
     "metadata": {},
     "output_type": "display_data"
    },
    {
     "data": {
      "text/plain": [
       "<matplotlib.figure.Figure at 0x2ad604527450>"
      ]
     },
     "metadata": {},
     "output_type": "display_data"
    },
    {
     "data": {
      "text/plain": [
       "<matplotlib.figure.Figure at 0x2ad6044df690>"
      ]
     },
     "metadata": {},
     "output_type": "display_data"
    },
    {
     "data": {
      "text/plain": [
       "<matplotlib.figure.Figure at 0x2ad602861350>"
      ]
     },
     "metadata": {},
     "output_type": "display_data"
    },
    {
     "data": {
      "text/plain": [
       "<matplotlib.figure.Figure at 0x2ad6018f2550>"
      ]
     },
     "metadata": {},
     "output_type": "display_data"
    },
    {
     "data": {
      "text/plain": [
       "<matplotlib.figure.Figure at 0x2ad60046aa90>"
      ]
     },
     "metadata": {},
     "output_type": "display_data"
    },
    {
     "data": {
      "text/plain": [
       "<matplotlib.figure.Figure at 0x2ad6001bf850>"
      ]
     },
     "metadata": {},
     "output_type": "display_data"
    },
    {
     "data": {
      "text/plain": [
       "<matplotlib.figure.Figure at 0x2ad601910dd0>"
      ]
     },
     "metadata": {},
     "output_type": "display_data"
    },
    {
     "data": {
      "text/plain": [
       "<matplotlib.figure.Figure at 0x2ad5f9b32950>"
      ]
     },
     "metadata": {},
     "output_type": "display_data"
    },
    {
     "data": {
      "text/plain": [
       "<matplotlib.figure.Figure at 0x2ad6014e3c90>"
      ]
     },
     "metadata": {},
     "output_type": "display_data"
    },
    {
     "data": {
      "text/plain": [
       "<matplotlib.figure.Figure at 0x2ad60466ddd0>"
      ]
     },
     "metadata": {},
     "output_type": "display_data"
    },
    {
     "data": {
      "text/plain": [
       "<matplotlib.figure.Figure at 0x2ad6004410d0>"
      ]
     },
     "metadata": {},
     "output_type": "display_data"
    },
    {
     "data": {
      "text/plain": [
       "<matplotlib.figure.Figure at 0x2ad6010bad50>"
      ]
     },
     "metadata": {},
     "output_type": "display_data"
    },
    {
     "data": {
      "text/plain": [
       "<matplotlib.figure.Figure at 0x2ad5fbdff710>"
      ]
     },
     "metadata": {},
     "output_type": "display_data"
    },
    {
     "data": {
      "text/plain": [
       "<matplotlib.figure.Figure at 0x2ad5fbe0d810>"
      ]
     },
     "metadata": {},
     "output_type": "display_data"
    },
    {
     "data": {
      "text/plain": [
       "<matplotlib.figure.Figure at 0x2ad6037ccfd0>"
      ]
     },
     "metadata": {},
     "output_type": "display_data"
    },
    {
     "data": {
      "text/plain": [
       "<matplotlib.figure.Figure at 0x2ad6005d2490>"
      ]
     },
     "metadata": {},
     "output_type": "display_data"
    },
    {
     "data": {
      "text/plain": [
       "<matplotlib.figure.Figure at 0x2ad606456710>"
      ]
     },
     "metadata": {},
     "output_type": "display_data"
    },
    {
     "data": {
      "text/plain": [
       "<matplotlib.figure.Figure at 0x2ad60001dd50>"
      ]
     },
     "metadata": {},
     "output_type": "display_data"
    },
    {
     "data": {
      "text/plain": [
       "<matplotlib.figure.Figure at 0x2ad6037ccc10>"
      ]
     },
     "metadata": {},
     "output_type": "display_data"
    },
    {
     "data": {
      "text/plain": [
       "<matplotlib.figure.Figure at 0x2ad60469cf90>"
      ]
     },
     "metadata": {},
     "output_type": "display_data"
    },
    {
     "data": {
      "text/plain": [
       "<matplotlib.figure.Figure at 0x2ad60151b550>"
      ]
     },
     "metadata": {},
     "output_type": "display_data"
    },
    {
     "data": {
      "text/plain": [
       "<matplotlib.figure.Figure at 0x2ad5fbf7d790>"
      ]
     },
     "metadata": {},
     "output_type": "display_data"
    },
    {
     "data": {
      "text/plain": [
       "<matplotlib.figure.Figure at 0x2ad5f9af4090>"
      ]
     },
     "metadata": {},
     "output_type": "display_data"
    },
    {
     "data": {
      "text/plain": [
       "<matplotlib.figure.Figure at 0x2ad600597110>"
      ]
     },
     "metadata": {},
     "output_type": "display_data"
    },
    {
     "data": {
      "text/plain": [
       "<matplotlib.figure.Figure at 0x2ad600303150>"
      ]
     },
     "metadata": {},
     "output_type": "display_data"
    },
    {
     "data": {
      "text/plain": [
       "<matplotlib.figure.Figure at 0x2ad6001f33d0>"
      ]
     },
     "metadata": {},
     "output_type": "display_data"
    },
    {
     "data": {
      "text/plain": [
       "<matplotlib.figure.Figure at 0x2ad60120a150>"
      ]
     },
     "metadata": {},
     "output_type": "display_data"
    },
    {
     "data": {
      "text/plain": [
       "<matplotlib.figure.Figure at 0x2ad6047c9c50>"
      ]
     },
     "metadata": {},
     "output_type": "display_data"
    },
    {
     "data": {
      "text/plain": [
       "<matplotlib.figure.Figure at 0x2ad6047f78d0>"
      ]
     },
     "metadata": {},
     "output_type": "display_data"
    },
    {
     "data": {
      "text/plain": [
       "<matplotlib.figure.Figure at 0x2ad6071ae590>"
      ]
     },
     "metadata": {},
     "output_type": "display_data"
    },
    {
     "data": {
      "text/plain": [
       "<matplotlib.figure.Figure at 0x2ad602840ad0>"
      ]
     },
     "metadata": {},
     "output_type": "display_data"
    },
    {
     "data": {
      "text/plain": [
       "<matplotlib.figure.Figure at 0x2ad6071e33d0>"
      ]
     },
     "metadata": {},
     "output_type": "display_data"
    },
    {
     "data": {
      "text/plain": [
       "<matplotlib.figure.Figure at 0x2ad601907d90>"
      ]
     },
     "metadata": {},
     "output_type": "display_data"
    },
    {
     "data": {
      "text/plain": [
       "<matplotlib.figure.Figure at 0x2ad601399090>"
      ]
     },
     "metadata": {},
     "output_type": "display_data"
    },
    {
     "data": {
      "text/plain": [
       "<matplotlib.figure.Figure at 0x2ad6014fcdd0>"
      ]
     },
     "metadata": {},
     "output_type": "display_data"
    },
    {
     "data": {
      "text/plain": [
       "<matplotlib.figure.Figure at 0x2ad6014fcad0>"
      ]
     },
     "metadata": {},
     "output_type": "display_data"
    },
    {
     "data": {
      "text/plain": [
       "<matplotlib.figure.Figure at 0x2ad6071e3310>"
      ]
     },
     "metadata": {},
     "output_type": "display_data"
    },
    {
     "data": {
      "text/plain": [
       "<matplotlib.figure.Figure at 0x2ad60467e490>"
      ]
     },
     "metadata": {},
     "output_type": "display_data"
    },
    {
     "data": {
      "text/plain": [
       "<matplotlib.figure.Figure at 0x2ad6037b8c10>"
      ]
     },
     "metadata": {},
     "output_type": "display_data"
    },
    {
     "data": {
      "text/plain": [
       "<matplotlib.figure.Figure at 0x2ad6037b0750>"
      ]
     },
     "metadata": {},
     "output_type": "display_data"
    },
    {
     "data": {
      "text/plain": [
       "<matplotlib.figure.Figure at 0x2ad5fbe0a5d0>"
      ]
     },
     "metadata": {},
     "output_type": "display_data"
    },
    {
     "data": {
      "text/plain": [
       "<matplotlib.figure.Figure at 0x2ad607302510>"
      ]
     },
     "metadata": {},
     "output_type": "display_data"
    },
    {
     "data": {
      "text/plain": [
       "<matplotlib.figure.Figure at 0x2ad600f7e210>"
      ]
     },
     "metadata": {},
     "output_type": "display_data"
    },
    {
     "data": {
      "text/plain": [
       "<matplotlib.figure.Figure at 0x2ad600303e90>"
      ]
     },
     "metadata": {},
     "output_type": "display_data"
    },
    {
     "data": {
      "text/plain": [
       "<matplotlib.figure.Figure at 0x2ad604517210>"
      ]
     },
     "metadata": {},
     "output_type": "display_data"
    },
    {
     "data": {
      "text/plain": [
       "<matplotlib.figure.Figure at 0x2ad60748de10>"
      ]
     },
     "metadata": {},
     "output_type": "display_data"
    },
    {
     "data": {
      "text/plain": [
       "<matplotlib.figure.Figure at 0x2ad6071d4f90>"
      ]
     },
     "metadata": {},
     "output_type": "display_data"
    },
    {
     "data": {
      "text/plain": [
       "<matplotlib.figure.Figure at 0x2ad6055ee250>"
      ]
     },
     "metadata": {},
     "output_type": "display_data"
    },
    {
     "data": {
      "text/plain": [
       "<matplotlib.figure.Figure at 0x2ad6071d4bd0>"
      ]
     },
     "metadata": {},
     "output_type": "display_data"
    },
    {
     "data": {
      "text/plain": [
       "<matplotlib.figure.Figure at 0x2ad606488c50>"
      ]
     },
     "metadata": {},
     "output_type": "display_data"
    },
    {
     "data": {
      "text/plain": [
       "<matplotlib.figure.Figure at 0x2ad6045099d0>"
      ]
     },
     "metadata": {},
     "output_type": "display_data"
    },
    {
     "data": {
      "text/plain": [
       "<matplotlib.figure.Figure at 0x2ad6055ee6d0>"
      ]
     },
     "metadata": {},
     "output_type": "display_data"
    },
    {
     "data": {
      "text/plain": [
       "<matplotlib.figure.Figure at 0x2ad6055ee790>"
      ]
     },
     "metadata": {},
     "output_type": "display_data"
    },
    {
     "data": {
      "text/plain": [
       "<matplotlib.figure.Figure at 0x2ad60369b110>"
      ]
     },
     "metadata": {},
     "output_type": "display_data"
    },
    {
     "data": {
      "text/plain": [
       "<matplotlib.figure.Figure at 0x2ad601927810>"
      ]
     },
     "metadata": {},
     "output_type": "display_data"
    },
    {
     "data": {
      "text/plain": [
       "<matplotlib.figure.Figure at 0x2ad6046a6f50>"
      ]
     },
     "metadata": {},
     "output_type": "display_data"
    },
    {
     "data": {
      "text/plain": [
       "<matplotlib.figure.Figure at 0x2ad60560fd90>"
      ]
     },
     "metadata": {},
     "output_type": "display_data"
    },
    {
     "data": {
      "text/plain": [
       "<matplotlib.figure.Figure at 0x2ad607474910>"
      ]
     },
     "metadata": {},
     "output_type": "display_data"
    },
    {
     "data": {
      "text/plain": [
       "<matplotlib.figure.Figure at 0x2ad6071c1b10>"
      ]
     },
     "metadata": {},
     "output_type": "display_data"
    },
    {
     "data": {
      "text/plain": [
       "<matplotlib.figure.Figure at 0x2ad60177c950>"
      ]
     },
     "metadata": {},
     "output_type": "display_data"
    },
    {
     "data": {
      "text/plain": [
       "<matplotlib.figure.Figure at 0x2ad600475a50>"
      ]
     },
     "metadata": {},
     "output_type": "display_data"
    },
    {
     "data": {
      "text/plain": [
       "<matplotlib.figure.Figure at 0x2ad600f9df90>"
      ]
     },
     "metadata": {},
     "output_type": "display_data"
    },
    {
     "data": {
      "text/plain": [
       "<matplotlib.figure.Figure at 0x2ad601214390>"
      ]
     },
     "metadata": {},
     "output_type": "display_data"
    },
    {
     "data": {
      "text/plain": [
       "<matplotlib.figure.Figure at 0x2ad601214bd0>"
      ]
     },
     "metadata": {},
     "output_type": "display_data"
    },
    {
     "data": {
      "text/plain": [
       "<matplotlib.figure.Figure at 0x2ad6019101d0>"
      ]
     },
     "metadata": {},
     "output_type": "display_data"
    },
    {
     "data": {
      "text/plain": [
       "<matplotlib.figure.Figure at 0x2ad60044d410>"
      ]
     },
     "metadata": {},
     "output_type": "display_data"
    },
    {
     "data": {
      "text/plain": [
       "<matplotlib.figure.Figure at 0x2ad601772c50>"
      ]
     },
     "metadata": {},
     "output_type": "display_data"
    },
    {
     "data": {
      "text/plain": [
       "<matplotlib.figure.Figure at 0x2ad606465650>"
      ]
     },
     "metadata": {},
     "output_type": "display_data"
    },
    {
     "data": {
      "text/plain": [
       "<matplotlib.figure.Figure at 0x2ad600720090>"
      ]
     },
     "metadata": {},
     "output_type": "display_data"
    },
    {
     "data": {
      "text/plain": [
       "<matplotlib.figure.Figure at 0x2ad607474590>"
      ]
     },
     "metadata": {},
     "output_type": "display_data"
    },
    {
     "data": {
      "text/plain": [
       "<matplotlib.figure.Figure at 0x2ad6019078d0>"
      ]
     },
     "metadata": {},
     "output_type": "display_data"
    },
    {
     "data": {
      "text/plain": [
       "<matplotlib.figure.Figure at 0x2ad6019072d0>"
      ]
     },
     "metadata": {},
     "output_type": "display_data"
    },
    {
     "data": {
      "text/plain": [
       "<matplotlib.figure.Figure at 0x2ad60136aa50>"
      ]
     },
     "metadata": {},
     "output_type": "display_data"
    },
    {
     "data": {
      "text/plain": [
       "<matplotlib.figure.Figure at 0x2ad5fbdff610>"
      ]
     },
     "metadata": {},
     "output_type": "display_data"
    },
    {
     "data": {
      "text/plain": [
       "<matplotlib.figure.Figure at 0x2ad60a00b4d0>"
      ]
     },
     "metadata": {},
     "output_type": "display_data"
    },
    {
     "data": {
      "text/plain": [
       "<matplotlib.figure.Figure at 0x2ad600f7eb10>"
      ]
     },
     "metadata": {},
     "output_type": "display_data"
    },
    {
     "data": {
      "text/plain": [
       "<matplotlib.figure.Figure at 0x2ad60748dc50>"
      ]
     },
     "metadata": {},
     "output_type": "display_data"
    },
    {
     "data": {
      "text/plain": [
       "<matplotlib.figure.Figure at 0x2ad605648590>"
      ]
     },
     "metadata": {},
     "output_type": "display_data"
    },
    {
     "data": {
      "text/plain": [
       "<matplotlib.figure.Figure at 0x2ad60748dad0>"
      ]
     },
     "metadata": {},
     "output_type": "display_data"
    },
    {
     "data": {
      "text/plain": [
       "<matplotlib.figure.Figure at 0x2ad6071b7e10>"
      ]
     },
     "metadata": {},
     "output_type": "display_data"
    },
    {
     "data": {
      "text/plain": [
       "<matplotlib.figure.Figure at 0x2ad5fbf5e190>"
      ]
     },
     "metadata": {},
     "output_type": "display_data"
    },
    {
     "data": {
      "text/plain": [
       "<matplotlib.figure.Figure at 0x2ad60086d1d0>"
      ]
     },
     "metadata": {},
     "output_type": "display_data"
    },
    {
     "data": {
      "text/plain": [
       "<matplotlib.figure.Figure at 0x2ad6046a6510>"
      ]
     },
     "metadata": {},
     "output_type": "display_data"
    },
    {
     "data": {
      "text/plain": [
       "<matplotlib.figure.Figure at 0x2ad600475ed0>"
      ]
     },
     "metadata": {},
     "output_type": "display_data"
    },
    {
     "data": {
      "text/plain": [
       "<matplotlib.figure.Figure at 0x2ad5f9afbb10>"
      ]
     },
     "metadata": {},
     "output_type": "display_data"
    },
    {
     "data": {
      "text/plain": [
       "<matplotlib.figure.Figure at 0x2ad602861a90>"
      ]
     },
     "metadata": {},
     "output_type": "display_data"
    },
    {
     "data": {
      "text/plain": [
       "<matplotlib.figure.Figure at 0x2ad601659d10>"
      ]
     },
     "metadata": {},
     "output_type": "display_data"
    },
    {
     "data": {
      "text/plain": [
       "<matplotlib.figure.Figure at 0x2ad60ad832d0>"
      ]
     },
     "metadata": {},
     "output_type": "display_data"
    },
    {
     "data": {
      "text/plain": [
       "<matplotlib.figure.Figure at 0x2ad60adab850>"
      ]
     },
     "metadata": {},
     "output_type": "display_data"
    },
    {
     "data": {
      "text/plain": [
       "<matplotlib.figure.Figure at 0x2ad601360a50>"
      ]
     },
     "metadata": {},
     "output_type": "display_data"
    },
    {
     "data": {
      "text/plain": [
       "<matplotlib.figure.Figure at 0x2ad6044ff8d0>"
      ]
     },
     "metadata": {},
     "output_type": "display_data"
    },
    {
     "data": {
      "text/plain": [
       "<matplotlib.figure.Figure at 0x2ad6014b5f10>"
      ]
     },
     "metadata": {},
     "output_type": "display_data"
    },
    {
     "data": {
      "text/plain": [
       "<matplotlib.figure.Figure at 0x2ad600581150>"
      ]
     },
     "metadata": {},
     "output_type": "display_data"
    },
    {
     "data": {
      "text/plain": [
       "<matplotlib.figure.Figure at 0x2ad6045096d0>"
      ]
     },
     "metadata": {},
     "output_type": "display_data"
    },
    {
     "data": {
      "text/plain": [
       "<matplotlib.figure.Figure at 0x2ad600850890>"
      ]
     },
     "metadata": {},
     "output_type": "display_data"
    },
    {
     "data": {
      "text/plain": [
       "<matplotlib.figure.Figure at 0x2ad6047c9350>"
      ]
     },
     "metadata": {},
     "output_type": "display_data"
    },
    {
     "data": {
      "text/plain": [
       "<matplotlib.figure.Figure at 0x2ad6014fc0d0>"
      ]
     },
     "metadata": {},
     "output_type": "display_data"
    },
    {
     "data": {
      "text/plain": [
       "<matplotlib.figure.Figure at 0x2ad5fbe36a10>"
      ]
     },
     "metadata": {},
     "output_type": "display_data"
    },
    {
     "data": {
      "text/plain": [
       "<matplotlib.figure.Figure at 0x2ad605618810>"
      ]
     },
     "metadata": {},
     "output_type": "display_data"
    },
    {
     "data": {
      "text/plain": [
       "<matplotlib.figure.Figure at 0x2ad601659f50>"
      ]
     },
     "metadata": {},
     "output_type": "display_data"
    },
    {
     "data": {
      "text/plain": [
       "<matplotlib.figure.Figure at 0x2ad60aed0f10>"
      ]
     },
     "metadata": {},
     "output_type": "display_data"
    },
    {
     "data": {
      "text/plain": [
       "<matplotlib.figure.Figure at 0x2ad607316b10>"
      ]
     },
     "metadata": {},
     "output_type": "display_data"
    },
    {
     "data": {
      "text/plain": [
       "<matplotlib.figure.Figure at 0x2ad60ad83850>"
      ]
     },
     "metadata": {},
     "output_type": "display_data"
    },
    {
     "data": {
      "text/plain": [
       "<matplotlib.figure.Figure at 0x2ad60be912d0>"
      ]
     },
     "metadata": {},
     "output_type": "display_data"
    },
    {
     "data": {
      "text/plain": [
       "<matplotlib.figure.Figure at 0x2ad5fbf7d810>"
      ]
     },
     "metadata": {},
     "output_type": "display_data"
    },
    {
     "data": {
      "text/plain": [
       "<matplotlib.figure.Figure at 0x2ad5f9a9ec50>"
      ]
     },
     "metadata": {},
     "output_type": "display_data"
    },
    {
     "data": {
      "text/plain": [
       "<matplotlib.figure.Figure at 0x2ad5fbf58110>"
      ]
     },
     "metadata": {},
     "output_type": "display_data"
    },
    {
     "data": {
      "text/plain": [
       "<matplotlib.figure.Figure at 0x2ad6005c57d0>"
      ]
     },
     "metadata": {},
     "output_type": "display_data"
    },
    {
     "data": {
      "text/plain": [
       "<matplotlib.figure.Figure at 0x2ad6004554d0>"
      ]
     },
     "metadata": {},
     "output_type": "display_data"
    },
    {
     "data": {
      "text/plain": [
       "<matplotlib.figure.Figure at 0x2ad6001cecd0>"
      ]
     },
     "metadata": {},
     "output_type": "display_data"
    },
    {
     "data": {
      "text/plain": [
       "<matplotlib.figure.Figure at 0x2ad600f9d5d0>"
      ]
     },
     "metadata": {},
     "output_type": "display_data"
    },
    {
     "data": {
      "text/plain": [
       "<matplotlib.figure.Figure at 0x2ad6019411d0>"
      ]
     },
     "metadata": {},
     "output_type": "display_data"
    },
    {
     "data": {
      "text/plain": [
       "<matplotlib.figure.Figure at 0x2ad6047e6fd0>"
      ]
     },
     "metadata": {},
     "output_type": "display_data"
    },
    {
     "data": {
      "text/plain": [
       "<matplotlib.figure.Figure at 0x2ad604527890>"
      ]
     },
     "metadata": {},
     "output_type": "display_data"
    },
    {
     "data": {
      "text/plain": [
       "<matplotlib.figure.Figure at 0x2ad6000327d0>"
      ]
     },
     "metadata": {},
     "output_type": "display_data"
    },
    {
     "data": {
      "text/plain": [
       "<matplotlib.figure.Figure at 0x2ad5fbe2ea50>"
      ]
     },
     "metadata": {},
     "output_type": "display_data"
    },
    {
     "data": {
      "text/plain": [
       "<matplotlib.figure.Figure at 0x2ad601947f10>"
      ]
     },
     "metadata": {},
     "output_type": "display_data"
    },
    {
     "data": {
      "text/plain": [
       "<matplotlib.figure.Figure at 0x2ad60a047b50>"
      ]
     },
     "metadata": {},
     "output_type": "display_data"
    },
    {
     "data": {
      "text/plain": [
       "<matplotlib.figure.Figure at 0x2ad6005f7a10>"
      ]
     },
     "metadata": {},
     "output_type": "display_data"
    },
    {
     "data": {
      "text/plain": [
       "<matplotlib.figure.Figure at 0x2ad60001d850>"
      ]
     },
     "metadata": {},
     "output_type": "display_data"
    },
    {
     "data": {
      "text/plain": [
       "<matplotlib.figure.Figure at 0x2ad5f9ab1610>"
      ]
     },
     "metadata": {},
     "output_type": "display_data"
    },
    {
     "data": {
      "text/plain": [
       "<matplotlib.figure.Figure at 0x2ad60adabd10>"
      ]
     },
     "metadata": {},
     "output_type": "display_data"
    },
    {
     "data": {
      "text/plain": [
       "<matplotlib.figure.Figure at 0x2ad604692ad0>"
      ]
     },
     "metadata": {},
     "output_type": "display_data"
    },
    {
     "data": {
      "text/plain": [
       "<matplotlib.figure.Figure at 0x2ad5fbe2f290>"
      ]
     },
     "metadata": {},
     "output_type": "display_data"
    },
    {
     "data": {
      "text/plain": [
       "<matplotlib.figure.Figure at 0x2ad60bea8810>"
      ]
     },
     "metadata": {},
     "output_type": "display_data"
    },
    {
     "data": {
      "text/plain": [
       "<matplotlib.figure.Figure at 0x2ad609ed3dd0>"
      ]
     },
     "metadata": {},
     "output_type": "display_data"
    },
    {
     "data": {
      "text/plain": [
       "<matplotlib.figure.Figure at 0x2ad60be6c110>"
      ]
     },
     "metadata": {},
     "output_type": "display_data"
    },
    {
     "data": {
      "text/plain": [
       "<matplotlib.figure.Figure at 0x2ad60730ca90>"
      ]
     },
     "metadata": {},
     "output_type": "display_data"
    },
    {
     "data": {
      "text/plain": [
       "<matplotlib.figure.Figure at 0x2ad6018f22d0>"
      ]
     },
     "metadata": {},
     "output_type": "display_data"
    },
    {
     "data": {
      "text/plain": [
       "<matplotlib.figure.Figure at 0x2ad6071c1a10>"
      ]
     },
     "metadata": {},
     "output_type": "display_data"
    },
    {
     "data": {
      "text/plain": [
       "<matplotlib.figure.Figure at 0x2ad60aedaf90>"
      ]
     },
     "metadata": {},
     "output_type": "display_data"
    },
    {
     "data": {
      "text/plain": [
       "<matplotlib.figure.Figure at 0x2ad6047f7090>"
      ]
     },
     "metadata": {},
     "output_type": "display_data"
    },
    {
     "data": {
      "text/plain": [
       "<matplotlib.figure.Figure at 0x2ad60dc4d410>"
      ]
     },
     "metadata": {},
     "output_type": "display_data"
    },
    {
     "data": {
      "text/plain": [
       "<matplotlib.figure.Figure at 0x2ad601206610>"
      ]
     },
     "metadata": {},
     "output_type": "display_data"
    },
    {
     "data": {
      "text/plain": [
       "<matplotlib.figure.Figure at 0x2ad60a186110>"
      ]
     },
     "metadata": {},
     "output_type": "display_data"
    },
    {
     "data": {
      "text/plain": [
       "<matplotlib.figure.Figure at 0x2ad60a1862d0>"
      ]
     },
     "metadata": {},
     "output_type": "display_data"
    },
    {
     "data": {
      "text/plain": [
       "<matplotlib.figure.Figure at 0x2ad60beca090>"
      ]
     },
     "metadata": {},
     "output_type": "display_data"
    },
    {
     "data": {
      "text/plain": [
       "<matplotlib.figure.Figure at 0x2ad606488f50>"
      ]
     },
     "metadata": {},
     "output_type": "display_data"
    },
    {
     "data": {
      "text/plain": [
       "<matplotlib.figure.Figure at 0x2ad6005adf50>"
      ]
     },
     "metadata": {},
     "output_type": "display_data"
    },
    {
     "data": {
      "text/plain": [
       "<matplotlib.figure.Figure at 0x2ad601907690>"
      ]
     },
     "metadata": {},
     "output_type": "display_data"
    },
    {
     "data": {
      "text/plain": [
       "<matplotlib.figure.Figure at 0x2ad6017c1290>"
      ]
     },
     "metadata": {},
     "output_type": "display_data"
    },
    {
     "data": {
      "text/plain": [
       "<matplotlib.figure.Figure at 0x2ad600f7edd0>"
      ]
     },
     "metadata": {},
     "output_type": "display_data"
    },
    {
     "data": {
      "text/plain": [
       "<matplotlib.figure.Figure at 0x2ad6018e1190>"
      ]
     },
     "metadata": {},
     "output_type": "display_data"
    },
    {
     "data": {
      "text/plain": [
       "<matplotlib.figure.Figure at 0x2ad609eb26d0>"
      ]
     },
     "metadata": {},
     "output_type": "display_data"
    },
    {
     "data": {
      "text/plain": [
       "<matplotlib.figure.Figure at 0x2ad6037b0e50>"
      ]
     },
     "metadata": {},
     "output_type": "display_data"
    },
    {
     "data": {
      "text/plain": [
       "<matplotlib.figure.Figure at 0x2ad60dae1ed0>"
      ]
     },
     "metadata": {},
     "output_type": "display_data"
    },
    {
     "data": {
      "text/plain": [
       "<matplotlib.figure.Figure at 0x2ad60eaeb950>"
      ]
     },
     "metadata": {},
     "output_type": "display_data"
    },
    {
     "data": {
      "text/plain": [
       "<matplotlib.figure.Figure at 0x2ad609ec3110>"
      ]
     },
     "metadata": {},
     "output_type": "display_data"
    },
    {
     "data": {
      "text/plain": [
       "<matplotlib.figure.Figure at 0x2ad609ec3310>"
      ]
     },
     "metadata": {},
     "output_type": "display_data"
    },
    {
     "data": {
      "text/plain": [
       "<matplotlib.figure.Figure at 0x2ad6005c5f90>"
      ]
     },
     "metadata": {},
     "output_type": "display_data"
    },
    {
     "data": {
      "text/plain": [
       "<matplotlib.figure.Figure at 0x2ad602861250>"
      ]
     },
     "metadata": {},
     "output_type": "display_data"
    },
    {
     "data": {
      "text/plain": [
       "<matplotlib.figure.Figure at 0x2ad5f9a9ec10>"
      ]
     },
     "metadata": {},
     "output_type": "display_data"
    },
    {
     "data": {
      "text/plain": [
       "<matplotlib.figure.Figure at 0x2ad605618c10>"
      ]
     },
     "metadata": {},
     "output_type": "display_data"
    },
    {
     "data": {
      "text/plain": [
       "<matplotlib.figure.Figure at 0x2ad6071ae3d0>"
      ]
     },
     "metadata": {},
     "output_type": "display_data"
    },
    {
     "data": {
      "text/plain": [
       "<matplotlib.figure.Figure at 0x2ad602858a10>"
      ]
     },
     "metadata": {},
     "output_type": "display_data"
    },
    {
     "data": {
      "text/plain": [
       "<matplotlib.figure.Figure at 0x2ad6044df990>"
      ]
     },
     "metadata": {},
     "output_type": "display_data"
    },
    {
     "data": {
      "text/plain": [
       "<matplotlib.figure.Figure at 0x2ad60dc6afd0>"
      ]
     },
     "metadata": {},
     "output_type": "display_data"
    },
    {
     "data": {
      "text/plain": [
       "<matplotlib.figure.Figure at 0x2ad6082aef50>"
      ]
     },
     "metadata": {},
     "output_type": "display_data"
    },
    {
     "data": {
      "text/plain": [
       "<matplotlib.figure.Figure at 0x2ad60daf6c10>"
      ]
     },
     "metadata": {},
     "output_type": "display_data"
    },
    {
     "data": {
      "text/plain": [
       "<matplotlib.figure.Figure at 0x2ad60ada0cd0>"
      ]
     },
     "metadata": {},
     "output_type": "display_data"
    },
    {
     "data": {
      "text/plain": [
       "<matplotlib.figure.Figure at 0x2ad60e99b590>"
      ]
     },
     "metadata": {},
     "output_type": "display_data"
    },
    {
     "data": {
      "text/plain": [
       "<matplotlib.figure.Figure at 0x2ad60fb6c110>"
      ]
     },
     "metadata": {},
     "output_type": "display_data"
    },
    {
     "data": {
      "text/plain": [
       "<matplotlib.figure.Figure at 0x2ad60aeda810>"
      ]
     },
     "metadata": {},
     "output_type": "display_data"
    },
    {
     "data": {
      "text/plain": [
       "<matplotlib.figure.Figure at 0x2ad6010abe50>"
      ]
     },
     "metadata": {},
     "output_type": "display_data"
    },
    {
     "data": {
      "text/plain": [
       "<matplotlib.figure.Figure at 0x2ad6047ee050>"
      ]
     },
     "metadata": {},
     "output_type": "display_data"
    },
    {
     "data": {
      "text/plain": [
       "<matplotlib.figure.Figure at 0x2ad6010ba6d0>"
      ]
     },
     "metadata": {},
     "output_type": "display_data"
    },
    {
     "data": {
      "text/plain": [
       "<matplotlib.figure.Figure at 0x2ad602858f90>"
      ]
     },
     "metadata": {},
     "output_type": "display_data"
    },
    {
     "data": {
      "text/plain": [
       "<matplotlib.figure.Figure at 0x2ad601931ad0>"
      ]
     },
     "metadata": {},
     "output_type": "display_data"
    },
    {
     "data": {
      "text/plain": [
       "<matplotlib.figure.Figure at 0x2ad601503f90>"
      ]
     },
     "metadata": {},
     "output_type": "display_data"
    },
    {
     "data": {
      "text/plain": [
       "<matplotlib.figure.Figure at 0x2ad60a18fbd0>"
      ]
     },
     "metadata": {},
     "output_type": "display_data"
    },
    {
     "data": {
      "text/plain": [
       "<matplotlib.figure.Figure at 0x2ad601927190>"
      ]
     },
     "metadata": {},
     "output_type": "display_data"
    },
    {
     "data": {
      "text/plain": [
       "<matplotlib.figure.Figure at 0x2ad601947a90>"
      ]
     },
     "metadata": {},
     "output_type": "display_data"
    },
    {
     "data": {
      "text/plain": [
       "<matplotlib.figure.Figure at 0x2ad607302ad0>"
      ]
     },
     "metadata": {},
     "output_type": "display_data"
    },
    {
     "data": {
      "text/plain": [
       "<matplotlib.figure.Figure at 0x2ad60dc6b810>"
      ]
     },
     "metadata": {},
     "output_type": "display_data"
    },
    {
     "data": {
      "text/plain": [
       "<matplotlib.figure.Figure at 0x2ad60178fc50>"
      ]
     },
     "metadata": {},
     "output_type": "display_data"
    },
    {
     "data": {
      "text/plain": [
       "<matplotlib.figure.Figure at 0x2ad6074993d0>"
      ]
     },
     "metadata": {},
     "output_type": "display_data"
    },
    {
     "data": {
      "text/plain": [
       "<matplotlib.figure.Figure at 0x2ad60bfe6c50>"
      ]
     },
     "metadata": {},
     "output_type": "display_data"
    },
    {
     "data": {
      "text/plain": [
       "<matplotlib.figure.Figure at 0x2ad610b142d0>"
      ]
     },
     "metadata": {},
     "output_type": "display_data"
    },
    {
     "data": {
      "text/plain": [
       "<matplotlib.figure.Figure at 0x2ad609eb2cd0>"
      ]
     },
     "metadata": {},
     "output_type": "display_data"
    },
    {
     "data": {
      "text/plain": [
       "<matplotlib.figure.Figure at 0x2ad5f9ab1a10>"
      ]
     },
     "metadata": {},
     "output_type": "display_data"
    },
    {
     "data": {
      "text/plain": [
       "<matplotlib.figure.Figure at 0x2ad6019104d0>"
      ]
     },
     "metadata": {},
     "output_type": "display_data"
    },
    {
     "data": {
      "text/plain": [
       "<matplotlib.figure.Figure at 0x2ad600441a50>"
      ]
     },
     "metadata": {},
     "output_type": "display_data"
    },
    {
     "data": {
      "text/plain": [
       "<matplotlib.figure.Figure at 0x2ad601214990>"
      ]
     },
     "metadata": {},
     "output_type": "display_data"
    },
    {
     "data": {
      "text/plain": [
       "<matplotlib.figure.Figure at 0x2ad6001bf390>"
      ]
     },
     "metadata": {},
     "output_type": "display_data"
    },
    {
     "data": {
      "text/plain": [
       "<matplotlib.figure.Figure at 0x2ad6046a6e90>"
      ]
     },
     "metadata": {},
     "output_type": "display_data"
    },
    {
     "data": {
      "text/plain": [
       "<matplotlib.figure.Figure at 0x2ad600597410>"
      ]
     },
     "metadata": {},
     "output_type": "display_data"
    },
    {
     "data": {
      "text/plain": [
       "<matplotlib.figure.Figure at 0x2ad60eada390>"
      ]
     },
     "metadata": {},
     "output_type": "display_data"
    },
    {
     "data": {
      "text/plain": [
       "<matplotlib.figure.Figure at 0x2ad60829f2d0>"
      ]
     },
     "metadata": {},
     "output_type": "display_data"
    },
    {
     "data": {
      "text/plain": [
       "<matplotlib.figure.Figure at 0x2ad60ead10d0>"
      ]
     },
     "metadata": {},
     "output_type": "display_data"
    },
    {
     "data": {
      "text/plain": [
       "<matplotlib.figure.Figure at 0x2ad60dc6bed0>"
      ]
     },
     "metadata": {},
     "output_type": "display_data"
    },
    {
     "data": {
      "text/plain": [
       "<matplotlib.figure.Figure at 0x2ad611846990>"
      ]
     },
     "metadata": {},
     "output_type": "display_data"
    },
    {
     "data": {
      "text/plain": [
       "<matplotlib.figure.Figure at 0x2ad611999650>"
      ]
     },
     "metadata": {},
     "output_type": "display_data"
    },
    {
     "data": {
      "text/plain": [
       "<matplotlib.figure.Figure at 0x2ad600716990>"
      ]
     },
     "metadata": {},
     "output_type": "display_data"
    },
    {
     "data": {
      "text/plain": [
       "<matplotlib.figure.Figure at 0x2ad60fa4c750>"
      ]
     },
     "metadata": {},
     "output_type": "display_data"
    },
    {
     "data": {
      "text/plain": [
       "<matplotlib.figure.Figure at 0x2ad60163d250>"
      ]
     },
     "metadata": {},
     "output_type": "display_data"
    },
    {
     "data": {
      "text/plain": [
       "<matplotlib.figure.Figure at 0x2ad60369b810>"
      ]
     },
     "metadata": {},
     "output_type": "display_data"
    },
    {
     "data": {
      "text/plain": [
       "<matplotlib.figure.Figure at 0x2ad5f9b803d0>"
      ]
     },
     "metadata": {},
     "output_type": "display_data"
    },
    {
     "data": {
      "text/plain": [
       "<matplotlib.figure.Figure at 0x2ad600441d50>"
      ]
     },
     "metadata": {},
     "output_type": "display_data"
    },
    {
     "data": {
      "text/plain": [
       "<matplotlib.figure.Figure at 0x2ad600303f90>"
      ]
     },
     "metadata": {},
     "output_type": "display_data"
    },
    {
     "data": {
      "text/plain": [
       "<matplotlib.figure.Figure at 0x2ad6044ff810>"
      ]
     },
     "metadata": {},
     "output_type": "display_data"
    },
    {
     "data": {
      "text/plain": [
       "<matplotlib.figure.Figure at 0x2ad60120a990>"
      ]
     },
     "metadata": {},
     "output_type": "display_data"
    },
    {
     "data": {
      "text/plain": [
       "<matplotlib.figure.Figure at 0x2ad60fb754d0>"
      ]
     },
     "metadata": {},
     "output_type": "display_data"
    },
    {
     "data": {
      "text/plain": [
       "<matplotlib.figure.Figure at 0x2ad607474890>"
      ]
     },
     "metadata": {},
     "output_type": "display_data"
    },
    {
     "data": {
      "text/plain": [
       "<matplotlib.figure.Figure at 0x2ad60dc4da50>"
      ]
     },
     "metadata": {},
     "output_type": "display_data"
    },
    {
     "data": {
      "text/plain": [
       "<matplotlib.figure.Figure at 0x2ad61185dd90>"
      ]
     },
     "metadata": {},
     "output_type": "display_data"
    },
    {
     "data": {
      "text/plain": [
       "<matplotlib.figure.Figure at 0x2ad611846950>"
      ]
     },
     "metadata": {},
     "output_type": "display_data"
    },
    {
     "data": {
      "text/plain": [
       "<matplotlib.figure.Figure at 0x2ad612956dd0>"
      ]
     },
     "metadata": {},
     "output_type": "display_data"
    },
    {
     "data": {
      "text/plain": [
       "<matplotlib.figure.Figure at 0x2ad611852e10>"
      ]
     },
     "metadata": {},
     "output_type": "display_data"
    },
    {
     "data": {
      "text/plain": [
       "<matplotlib.figure.Figure at 0x2ad6119b7e10>"
      ]
     },
     "metadata": {},
     "output_type": "display_data"
    },
    {
     "data": {
      "text/plain": [
       "<matplotlib.figure.Figure at 0x2ad60085b7d0>"
      ]
     },
     "metadata": {},
     "output_type": "display_data"
    },
    {
     "data": {
      "text/plain": [
       "<matplotlib.figure.Figure at 0x2ad60e9a4750>"
      ]
     },
     "metadata": {},
     "output_type": "display_data"
    },
    {
     "data": {
      "text/plain": [
       "<matplotlib.figure.Figure at 0x2ad60086ff50>"
      ]
     },
     "metadata": {},
     "output_type": "display_data"
    },
    {
     "data": {
      "text/plain": [
       "<matplotlib.figure.Figure at 0x2ad6014d7290>"
      ]
     },
     "metadata": {},
     "output_type": "display_data"
    },
    {
     "data": {
      "text/plain": [
       "<matplotlib.figure.Figure at 0x2ad6071d4190>"
      ]
     },
     "metadata": {},
     "output_type": "display_data"
    },
    {
     "data": {
      "text/plain": [
       "<matplotlib.figure.Figure at 0x2ad60560f210>"
      ]
     },
     "metadata": {},
     "output_type": "display_data"
    },
    {
     "data": {
      "text/plain": [
       "<matplotlib.figure.Figure at 0x2ad600f99b90>"
      ]
     },
     "metadata": {},
     "output_type": "display_data"
    },
    {
     "data": {
      "text/plain": [
       "<matplotlib.figure.Figure at 0x2ad60dc62550>"
      ]
     },
     "metadata": {},
     "output_type": "display_data"
    },
    {
     "data": {
      "text/plain": [
       "<matplotlib.figure.Figure at 0x2ad5f9b80c50>"
      ]
     },
     "metadata": {},
     "output_type": "display_data"
    },
    {
     "data": {
      "text/plain": [
       "<matplotlib.figure.Figure at 0x2ad60bea8650>"
      ]
     },
     "metadata": {},
     "output_type": "display_data"
    },
    {
     "data": {
      "text/plain": [
       "<matplotlib.figure.Figure at 0x2ad60aeda2d0>"
      ]
     },
     "metadata": {},
     "output_type": "display_data"
    },
    {
     "data": {
      "text/plain": [
       "<matplotlib.figure.Figure at 0x2ad6036604d0>"
      ]
     },
     "metadata": {},
     "output_type": "display_data"
    },
    {
     "data": {
      "text/plain": [
       "<matplotlib.figure.Figure at 0x2ad612976a50>"
      ]
     },
     "metadata": {},
     "output_type": "display_data"
    },
    {
     "data": {
      "text/plain": [
       "<matplotlib.figure.Figure at 0x2ad6139fc8d0>"
      ]
     },
     "metadata": {},
     "output_type": "display_data"
    },
    {
     "data": {
      "text/plain": [
       "<matplotlib.figure.Figure at 0x2ad5fbdf4710>"
      ]
     },
     "metadata": {},
     "output_type": "display_data"
    },
    {
     "data": {
      "text/plain": [
       "<matplotlib.figure.Figure at 0x2ad5f8b2acd0>"
      ]
     },
     "metadata": {},
     "output_type": "display_data"
    },
    {
     "data": {
      "text/plain": [
       "<matplotlib.figure.Figure at 0x2ad60fa2c1d0>"
      ]
     },
     "metadata": {},
     "output_type": "display_data"
    },
    {
     "data": {
      "text/plain": [
       "<matplotlib.figure.Figure at 0x2ad6044e63d0>"
      ]
     },
     "metadata": {},
     "output_type": "display_data"
    },
    {
     "data": {
      "text/plain": [
       "<matplotlib.figure.Figure at 0x2ad611999ad0>"
      ]
     },
     "metadata": {},
     "output_type": "display_data"
    },
    {
     "data": {
      "text/plain": [
       "<matplotlib.figure.Figure at 0x2ad604517290>"
      ]
     },
     "metadata": {},
     "output_type": "display_data"
    },
    {
     "data": {
      "text/plain": [
       "<matplotlib.figure.Figure at 0x2ad6139dbe50>"
      ]
     },
     "metadata": {},
     "output_type": "display_data"
    },
    {
     "data": {
      "text/plain": [
       "<matplotlib.figure.Figure at 0x2ad60178f410>"
      ]
     },
     "metadata": {},
     "output_type": "display_data"
    },
    {
     "data": {
      "text/plain": [
       "<matplotlib.figure.Figure at 0x2ad6109ea6d0>"
      ]
     },
     "metadata": {},
     "output_type": "display_data"
    },
    {
     "data": {
      "text/plain": [
       "<matplotlib.figure.Figure at 0x2ad609fd88d0>"
      ]
     },
     "metadata": {},
     "output_type": "display_data"
    },
    {
     "data": {
      "text/plain": [
       "<matplotlib.figure.Figure at 0x2ad612a93a50>"
      ]
     },
     "metadata": {},
     "output_type": "display_data"
    },
    {
     "data": {
      "text/plain": [
       "<matplotlib.figure.Figure at 0x2ad5fbe24a10>"
      ]
     },
     "metadata": {},
     "output_type": "display_data"
    },
    {
     "data": {
      "text/plain": [
       "<matplotlib.figure.Figure at 0x2ad60bfe6550>"
      ]
     },
     "metadata": {},
     "output_type": "display_data"
    },
    {
     "data": {
      "text/plain": [
       "<matplotlib.figure.Figure at 0x2ad612a93a90>"
      ]
     },
     "metadata": {},
     "output_type": "display_data"
    },
    {
     "data": {
      "text/plain": [
       "<matplotlib.figure.Figure at 0x2ad613b38a90>"
      ]
     },
     "metadata": {},
     "output_type": "display_data"
    },
    {
     "data": {
      "text/plain": [
       "<matplotlib.figure.Figure at 0x2ad614a5af90>"
      ]
     },
     "metadata": {},
     "output_type": "display_data"
    },
    {
     "data": {
      "text/plain": [
       "<matplotlib.figure.Figure at 0x2ad60a0153d0>"
      ]
     },
     "metadata": {},
     "output_type": "display_data"
    },
    {
     "data": {
      "text/plain": [
       "<matplotlib.figure.Figure at 0x2ad611b17f50>"
      ]
     },
     "metadata": {},
     "output_type": "display_data"
    },
    {
     "data": {
      "text/plain": [
       "<matplotlib.figure.Figure at 0x2ad612976050>"
      ]
     },
     "metadata": {},
     "output_type": "display_data"
    },
    {
     "data": {
      "text/plain": [
       "<matplotlib.figure.Figure at 0x2ad5f9ab1750>"
      ]
     },
     "metadata": {},
     "output_type": "display_data"
    },
    {
     "data": {
      "text/plain": [
       "<matplotlib.figure.Figure at 0x2ad60369b410>"
      ]
     },
     "metadata": {},
     "output_type": "display_data"
    },
    {
     "data": {
      "text/plain": [
       "<matplotlib.figure.Figure at 0x2ad602858d90>"
      ]
     },
     "metadata": {},
     "output_type": "display_data"
    },
    {
     "data": {
      "text/plain": [
       "<matplotlib.figure.Figure at 0x2ad60dc6a450>"
      ]
     },
     "metadata": {},
     "output_type": "display_data"
    },
    {
     "data": {
      "text/plain": [
       "<matplotlib.figure.Figure at 0x2ad604517ed0>"
      ]
     },
     "metadata": {},
     "output_type": "display_data"
    },
    {
     "data": {
      "text/plain": [
       "<matplotlib.figure.Figure at 0x2ad600716b10>"
      ]
     },
     "metadata": {},
     "output_type": "display_data"
    },
    {
     "data": {
      "text/plain": [
       "<matplotlib.figure.Figure at 0x2ad604517c50>"
      ]
     },
     "metadata": {},
     "output_type": "display_data"
    },
    {
     "data": {
      "text/plain": [
       "<matplotlib.figure.Figure at 0x2ad603688e50>"
      ]
     },
     "metadata": {},
     "output_type": "display_data"
    },
    {
     "data": {
      "text/plain": [
       "<matplotlib.figure.Figure at 0x2ad613b60ad0>"
      ]
     },
     "metadata": {},
     "output_type": "display_data"
    },
    {
     "data": {
      "text/plain": [
       "<matplotlib.figure.Figure at 0x2ad6109f9e10>"
      ]
     },
     "metadata": {},
     "output_type": "display_data"
    },
    {
     "data": {
      "text/plain": [
       "<matplotlib.figure.Figure at 0x2ad60daf6190>"
      ]
     },
     "metadata": {},
     "output_type": "display_data"
    },
    {
     "data": {
      "text/plain": [
       "<matplotlib.figure.Figure at 0x2ad6109f9310>"
      ]
     },
     "metadata": {},
     "output_type": "display_data"
    },
    {
     "data": {
      "text/plain": [
       "<matplotlib.figure.Figure at 0x2ad60646fd10>"
      ]
     },
     "metadata": {},
     "output_type": "display_data"
    },
    {
     "data": {
      "text/plain": [
       "<matplotlib.figure.Figure at 0x2ad615c0b6d0>"
      ]
     },
     "metadata": {},
     "output_type": "display_data"
    },
    {
     "data": {
      "text/plain": [
       "<matplotlib.figure.Figure at 0x2ad615c43fd0>"
      ]
     },
     "metadata": {},
     "output_type": "display_data"
    },
    {
     "data": {
      "text/plain": [
       "<matplotlib.figure.Figure at 0x2ad612956350>"
      ]
     },
     "metadata": {},
     "output_type": "display_data"
    },
    {
     "data": {
      "text/plain": [
       "<matplotlib.figure.Figure at 0x2ad607302110>"
      ]
     },
     "metadata": {},
     "output_type": "display_data"
    },
    {
     "data": {
      "text/plain": [
       "<matplotlib.figure.Figure at 0x2ad6010abf50>"
      ]
     },
     "metadata": {},
     "output_type": "display_data"
    },
    {
     "data": {
      "text/plain": [
       "<matplotlib.figure.Figure at 0x2ad610997b10>"
      ]
     },
     "metadata": {},
     "output_type": "display_data"
    },
    {
     "data": {
      "text/plain": [
       "<matplotlib.figure.Figure at 0x2ad60be6cd10>"
      ]
     },
     "metadata": {},
     "output_type": "display_data"
    },
    {
     "data": {
      "text/plain": [
       "<matplotlib.figure.Figure at 0x2ad6037cecd0>"
      ]
     },
     "metadata": {},
     "output_type": "display_data"
    },
    {
     "data": {
      "text/plain": [
       "<matplotlib.figure.Figure at 0x2ad60829f210>"
      ]
     },
     "metadata": {},
     "output_type": "display_data"
    },
    {
     "data": {
      "text/plain": [
       "<matplotlib.figure.Figure at 0x2ad60bed5510>"
      ]
     },
     "metadata": {},
     "output_type": "display_data"
    },
    {
     "data": {
      "text/plain": [
       "<matplotlib.figure.Figure at 0x2ad610b067d0>"
      ]
     },
     "metadata": {},
     "output_type": "display_data"
    },
    {
     "data": {
      "text/plain": [
       "<matplotlib.figure.Figure at 0x2ad602858610>"
      ]
     },
     "metadata": {},
     "output_type": "display_data"
    },
    {
     "data": {
      "text/plain": [
       "<matplotlib.figure.Figure at 0x2ad6119a3150>"
      ]
     },
     "metadata": {},
     "output_type": "display_data"
    },
    {
     "data": {
      "text/plain": [
       "<matplotlib.figure.Figure at 0x2ad60fb62f90>"
      ]
     },
     "metadata": {},
     "output_type": "display_data"
    },
    {
     "data": {
      "text/plain": [
       "<matplotlib.figure.Figure at 0x2ad61185d710>"
      ]
     },
     "metadata": {},
     "output_type": "display_data"
    },
    {
     "data": {
      "text/plain": [
       "<matplotlib.figure.Figure at 0x2ad60dc7d290>"
      ]
     },
     "metadata": {},
     "output_type": "display_data"
    },
    {
     "data": {
      "text/plain": [
       "<matplotlib.figure.Figure at 0x2ad6119ad050>"
      ]
     },
     "metadata": {},
     "output_type": "display_data"
    },
    {
     "data": {
      "text/plain": [
       "<matplotlib.figure.Figure at 0x2ad616d94910>"
      ]
     },
     "metadata": {},
     "output_type": "display_data"
    },
    {
     "data": {
      "text/plain": [
       "<matplotlib.figure.Figure at 0x2ad616f10f50>"
      ]
     },
     "metadata": {},
     "output_type": "display_data"
    },
    {
     "data": {
      "text/plain": [
       "<matplotlib.figure.Figure at 0x2ad615ad2d10>"
      ]
     },
     "metadata": {},
     "output_type": "display_data"
    },
    {
     "data": {
      "text/plain": [
       "<matplotlib.figure.Figure at 0x2ad614a65d90>"
      ]
     },
     "metadata": {},
     "output_type": "display_data"
    },
    {
     "data": {
      "text/plain": [
       "<matplotlib.figure.Figure at 0x2ad60aef46d0>"
      ]
     },
     "metadata": {},
     "output_type": "display_data"
    },
    {
     "data": {
      "text/plain": [
       "<matplotlib.figure.Figure at 0x2ad60164e710>"
      ]
     },
     "metadata": {},
     "output_type": "display_data"
    },
    {
     "data": {
      "text/plain": [
       "<matplotlib.figure.Figure at 0x2ad60bed5150>"
      ]
     },
     "metadata": {},
     "output_type": "display_data"
    },
    {
     "data": {
      "text/plain": [
       "<matplotlib.figure.Figure at 0x2ad5fbe249d0>"
      ]
     },
     "metadata": {},
     "output_type": "display_data"
    },
    {
     "data": {
      "text/plain": [
       "<matplotlib.figure.Figure at 0x2ad5fbe36750>"
      ]
     },
     "metadata": {},
     "output_type": "display_data"
    },
    {
     "data": {
      "text/plain": [
       "<matplotlib.figure.Figure at 0x2ad60dc6b8d0>"
      ]
     },
     "metadata": {},
     "output_type": "display_data"
    }
   ],
   "source": [
    "from tqdm import trange, tqdm_notebook\n",
    "\n",
    "def make_colordict(elements, color_fn):\n",
    "    colors = {}\n",
    "    with open(color_fn, 'r') as f:\n",
    "        colors['others'] = f.readline().rstrip() # don't like black, it's the first color so... skip\n",
    "        for element in elements:\n",
    "            colors[element] = f.readline().rstrip()\n",
    "    \n",
    "    return colors\n",
    "\n",
    "color_fn = os.path.join(input_dir, 'color_list_269.lines')\n",
    "colors = make_colordict(set(df['element']), color_fn)\n",
    "progress = trange(len(set(df.index)))\n",
    "\n",
    "for rbp in set(df.index):\n",
    "    vals = get_pie_values(df, rbp)\n",
    "\n",
    "    output_file = os.path.join(output_dir, '{}.png'.format(rbp))\n",
    "    # l2fc = [np.log2(f) for f in vals['fold_change']]\n",
    "    # sunburst(vals['ip_rpr'], vals['fold_change'], vals.index, colors, output_file)\n",
    "    sunburst(vals['ip_rpr'], vals['fold_change'], vals.index, colors, output_file)\n",
    "    progress.update(1)"
   ]
  },
  {
   "cell_type": "code",
   "execution_count": 10,
   "metadata": {},
   "outputs": [
    {
     "data": {
      "text/html": [
       "<div>\n",
       "<style scoped>\n",
       "    .dataframe tbody tr th:only-of-type {\n",
       "        vertical-align: middle;\n",
       "    }\n",
       "\n",
       "    .dataframe tbody tr th {\n",
       "        vertical-align: top;\n",
       "    }\n",
       "\n",
       "    .dataframe thead th {\n",
       "        text-align: right;\n",
       "    }\n",
       "</style>\n",
       "<table border=\"1\" class=\"dataframe\">\n",
       "  <thead>\n",
       "    <tr style=\"text-align: right;\">\n",
       "      <th></th>\n",
       "      <th>RBP</th>\n",
       "      <th>cell</th>\n",
       "      <th>element</th>\n",
       "      <th>uID</th>\n",
       "      <th>uID2</th>\n",
       "      <th>ip_reads</th>\n",
       "      <th>ip_rpr</th>\n",
       "      <th>input_</th>\n",
       "      <th>input_rpr</th>\n",
       "      <th>fold_change</th>\n",
       "      <th>information_content</th>\n",
       "    </tr>\n",
       "  </thead>\n",
       "  <tbody>\n",
       "    <tr>\n",
       "      <th>203_02_HNRNPC</th>\n",
       "      <td>HNRNPC</td>\n",
       "      <td>HepG2</td>\n",
       "      <td>unique_distintron</td>\n",
       "      <td>203_02_HNRNPC</td>\n",
       "      <td>HNRNPC-HepG2_02</td>\n",
       "      <td>2959472</td>\n",
       "      <td>2.298698e-01</td>\n",
       "      <td>1537674</td>\n",
       "      <td>1.371478e-01</td>\n",
       "      <td>1.676073</td>\n",
       "      <td>1.712726e-01</td>\n",
       "    </tr>\n",
       "    <tr>\n",
       "      <th>203_02_HNRNPC</th>\n",
       "      <td>HNRNPC</td>\n",
       "      <td>HepG2</td>\n",
       "      <td>antisense_Alu</td>\n",
       "      <td>203_02_HNRNPC</td>\n",
       "      <td>HNRNPC-HepG2_02</td>\n",
       "      <td>2464377</td>\n",
       "      <td>1.914145e-01</td>\n",
       "      <td>303999</td>\n",
       "      <td>2.711420e-02</td>\n",
       "      <td>7.059567</td>\n",
       "      <td>5.397084e-01</td>\n",
       "    </tr>\n",
       "    <tr>\n",
       "      <th>203_02_HNRNPC</th>\n",
       "      <td>HNRNPC</td>\n",
       "      <td>HepG2</td>\n",
       "      <td>antisense_L1</td>\n",
       "      <td>203_02_HNRNPC</td>\n",
       "      <td>HNRNPC-HepG2_02</td>\n",
       "      <td>928277</td>\n",
       "      <td>7.210167e-02</td>\n",
       "      <td>381758</td>\n",
       "      <td>3.404966e-02</td>\n",
       "      <td>2.117544</td>\n",
       "      <td>7.804227e-02</td>\n",
       "    </tr>\n",
       "    <tr>\n",
       "      <th>203_02_HNRNPC</th>\n",
       "      <td>HNRNPC</td>\n",
       "      <td>HepG2</td>\n",
       "      <td>antisense_RN7SL</td>\n",
       "      <td>203_02_HNRNPC</td>\n",
       "      <td>HNRNPC-HepG2_02</td>\n",
       "      <td>771448</td>\n",
       "      <td>5.992035e-02</td>\n",
       "      <td>70388</td>\n",
       "      <td>6.278029e-03</td>\n",
       "      <td>9.544454</td>\n",
       "      <td>1.950205e-01</td>\n",
       "    </tr>\n",
       "    <tr>\n",
       "      <th>203_02_HNRNPC</th>\n",
       "      <td>HNRNPC</td>\n",
       "      <td>HepG2</td>\n",
       "      <td>unique_proxintron</td>\n",
       "      <td>203_02_HNRNPC</td>\n",
       "      <td>HNRNPC-HepG2_02</td>\n",
       "      <td>659869</td>\n",
       "      <td>5.125372e-02</td>\n",
       "      <td>472735</td>\n",
       "      <td>4.216406e-02</td>\n",
       "      <td>1.215579</td>\n",
       "      <td>1.443526e-02</td>\n",
       "    </tr>\n",
       "    <tr>\n",
       "      <th>203_02_HNRNPC</th>\n",
       "      <td>HNRNPC</td>\n",
       "      <td>HepG2</td>\n",
       "      <td>Alu</td>\n",
       "      <td>203_02_HNRNPC</td>\n",
       "      <td>HNRNPC-HepG2_02</td>\n",
       "      <td>489499</td>\n",
       "      <td>3.802065e-02</td>\n",
       "      <td>173589</td>\n",
       "      <td>1.548271e-02</td>\n",
       "      <td>2.455685</td>\n",
       "      <td>4.927953e-02</td>\n",
       "    </tr>\n",
       "    <tr>\n",
       "      <th>203_02_HNRNPC</th>\n",
       "      <td>HNRNPC</td>\n",
       "      <td>HepG2</td>\n",
       "      <td>RN7SL</td>\n",
       "      <td>203_02_HNRNPC</td>\n",
       "      <td>HNRNPC-HepG2_02</td>\n",
       "      <td>334110</td>\n",
       "      <td>2.595118e-02</td>\n",
       "      <td>83520</td>\n",
       "      <td>7.449294e-03</td>\n",
       "      <td>3.483710</td>\n",
       "      <td>4.672834e-02</td>\n",
       "    </tr>\n",
       "    <tr>\n",
       "      <th>203_02_HNRNPC</th>\n",
       "      <td>HNRNPC</td>\n",
       "      <td>HepG2</td>\n",
       "      <td>unique_3utr</td>\n",
       "      <td>203_02_HNRNPC</td>\n",
       "      <td>HNRNPC-HepG2_02</td>\n",
       "      <td>307038</td>\n",
       "      <td>2.384843e-02</td>\n",
       "      <td>317789</td>\n",
       "      <td>2.834416e-02</td>\n",
       "      <td>0.841388</td>\n",
       "      <td>-5.942000e-03</td>\n",
       "    </tr>\n",
       "    <tr>\n",
       "      <th>203_02_HNRNPC</th>\n",
       "      <td>HNRNPC</td>\n",
       "      <td>HepG2</td>\n",
       "      <td>unique_intergenic</td>\n",
       "      <td>203_02_HNRNPC</td>\n",
       "      <td>HNRNPC-HepG2_02</td>\n",
       "      <td>274467</td>\n",
       "      <td>2.131856e-02</td>\n",
       "      <td>179612</td>\n",
       "      <td>1.601991e-02</td>\n",
       "      <td>1.330754</td>\n",
       "      <td>8.788450e-03</td>\n",
       "    </tr>\n",
       "    <tr>\n",
       "      <th>203_02_HNRNPC</th>\n",
       "      <td>HNRNPC</td>\n",
       "      <td>HepG2</td>\n",
       "      <td>RNA28S</td>\n",
       "      <td>203_02_HNRNPC</td>\n",
       "      <td>HNRNPC-HepG2_02</td>\n",
       "      <td>216623</td>\n",
       "      <td>1.682567e-02</td>\n",
       "      <td>2352664</td>\n",
       "      <td>2.098382e-01</td>\n",
       "      <td>0.080184</td>\n",
       "      <td>-6.125454e-02</td>\n",
       "    </tr>\n",
       "    <tr>\n",
       "      <th>203_02_HNRNPC</th>\n",
       "      <td>HNRNPC</td>\n",
       "      <td>HepG2</td>\n",
       "      <td>unique_noncoding_distintron</td>\n",
       "      <td>203_02_HNRNPC</td>\n",
       "      <td>HNRNPC-HepG2_02</td>\n",
       "      <td>193766</td>\n",
       "      <td>1.505030e-02</td>\n",
       "      <td>115202</td>\n",
       "      <td>1.027507e-02</td>\n",
       "      <td>1.464740</td>\n",
       "      <td>8.287372e-03</td>\n",
       "    </tr>\n",
       "    <tr>\n",
       "      <th>203_02_HNRNPC</th>\n",
       "      <td>HNRNPC</td>\n",
       "      <td>HepG2</td>\n",
       "      <td>antisense_L2</td>\n",
       "      <td>203_02_HNRNPC</td>\n",
       "      <td>HNRNPC-HepG2_02</td>\n",
       "      <td>167391</td>\n",
       "      <td>1.300169e-02</td>\n",
       "      <td>115403</td>\n",
       "      <td>1.029299e-02</td>\n",
       "      <td>1.263159</td>\n",
       "      <td>4.382042e-03</td>\n",
       "    </tr>\n",
       "    <tr>\n",
       "      <th>203_02_HNRNPC</th>\n",
       "      <td>HNRNPC</td>\n",
       "      <td>HepG2</td>\n",
       "      <td>unique_noncoding_exon</td>\n",
       "      <td>203_02_HNRNPC</td>\n",
       "      <td>HNRNPC-HepG2_02</td>\n",
       "      <td>161930</td>\n",
       "      <td>1.257752e-02</td>\n",
       "      <td>124493</td>\n",
       "      <td>1.110375e-02</td>\n",
       "      <td>1.132727</td>\n",
       "      <td>2.261448e-03</td>\n",
       "    </tr>\n",
       "    <tr>\n",
       "      <th>203_02_HNRNPC</th>\n",
       "      <td>HNRNPC</td>\n",
       "      <td>HepG2</td>\n",
       "      <td>antisense_MIR</td>\n",
       "      <td>203_02_HNRNPC</td>\n",
       "      <td>HNRNPC-HepG2_02</td>\n",
       "      <td>139732</td>\n",
       "      <td>1.085334e-02</td>\n",
       "      <td>89956</td>\n",
       "      <td>8.023333e-03</td>\n",
       "      <td>1.352723</td>\n",
       "      <td>4.730605e-03</td>\n",
       "    </tr>\n",
       "    <tr>\n",
       "      <th>203_02_HNRNPC</th>\n",
       "      <td>HNRNPC</td>\n",
       "      <td>HepG2</td>\n",
       "      <td>unique_CDS</td>\n",
       "      <td>203_02_HNRNPC</td>\n",
       "      <td>HNRNPC-HepG2_02</td>\n",
       "      <td>138057</td>\n",
       "      <td>1.072324e-02</td>\n",
       "      <td>567305</td>\n",
       "      <td>5.059892e-02</td>\n",
       "      <td>0.211926</td>\n",
       "      <td>-2.400254e-02</td>\n",
       "    </tr>\n",
       "    <tr>\n",
       "      <th>203_02_HNRNPC</th>\n",
       "      <td>HNRNPC</td>\n",
       "      <td>HepG2</td>\n",
       "      <td>MIR</td>\n",
       "      <td>203_02_HNRNPC</td>\n",
       "      <td>HNRNPC-HepG2_02</td>\n",
       "      <td>134661</td>\n",
       "      <td>1.045947e-02</td>\n",
       "      <td>86527</td>\n",
       "      <td>7.717494e-03</td>\n",
       "      <td>1.355293</td>\n",
       "      <td>4.587574e-03</td>\n",
       "    </tr>\n",
       "    <tr>\n",
       "      <th>203_02_HNRNPC</th>\n",
       "      <td>HNRNPC</td>\n",
       "      <td>HepG2</td>\n",
       "      <td>L2</td>\n",
       "      <td>203_02_HNRNPC</td>\n",
       "      <td>HNRNPC-HepG2_02</td>\n",
       "      <td>128142</td>\n",
       "      <td>9.953119e-03</td>\n",
       "      <td>89340</td>\n",
       "      <td>7.968390e-03</td>\n",
       "      <td>1.249075</td>\n",
       "      <td>3.193562e-03</td>\n",
       "    </tr>\n",
       "    <tr>\n",
       "      <th>203_02_HNRNPC</th>\n",
       "      <td>HNRNPC</td>\n",
       "      <td>HepG2</td>\n",
       "      <td>antisense_ERVL-MaLR</td>\n",
       "      <td>203_02_HNRNPC</td>\n",
       "      <td>HNRNPC-HepG2_02</td>\n",
       "      <td>120197</td>\n",
       "      <td>9.336011e-03</td>\n",
       "      <td>69781</td>\n",
       "      <td>6.223889e-03</td>\n",
       "      <td>1.500028</td>\n",
       "      <td>5.461471e-03</td>\n",
       "    </tr>\n",
       "    <tr>\n",
       "      <th>203_02_HNRNPC</th>\n",
       "      <td>HNRNPC</td>\n",
       "      <td>HepG2</td>\n",
       "      <td>RNA18S</td>\n",
       "      <td>203_02_HNRNPC</td>\n",
       "      <td>HNRNPC-HepG2_02</td>\n",
       "      <td>117988</td>\n",
       "      <td>9.164432e-03</td>\n",
       "      <td>1553014</td>\n",
       "      <td>1.385160e-01</td>\n",
       "      <td>0.066162</td>\n",
       "      <td>-3.590499e-02</td>\n",
       "    </tr>\n",
       "    <tr>\n",
       "      <th>203_02_HNRNPC</th>\n",
       "      <td>HNRNPC</td>\n",
       "      <td>HepG2</td>\n",
       "      <td>antisense_hAT-Charlie</td>\n",
       "      <td>203_02_HNRNPC</td>\n",
       "      <td>HNRNPC-HepG2_02</td>\n",
       "      <td>96474</td>\n",
       "      <td>7.493384e-03</td>\n",
       "      <td>47517</td>\n",
       "      <td>4.238124e-03</td>\n",
       "      <td>1.768090</td>\n",
       "      <td>6.160997e-03</td>\n",
       "    </tr>\n",
       "    <tr>\n",
       "      <th>203_02_HNRNPC</th>\n",
       "      <td>HNRNPC</td>\n",
       "      <td>HepG2</td>\n",
       "      <td>unique_antisense_gencode</td>\n",
       "      <td>203_02_HNRNPC</td>\n",
       "      <td>HNRNPC-HepG2_02</td>\n",
       "      <td>94301</td>\n",
       "      <td>7.324602e-03</td>\n",
       "      <td>72717</td>\n",
       "      <td>6.485756e-03</td>\n",
       "      <td>1.129337</td>\n",
       "      <td>1.285288e-03</td>\n",
       "    </tr>\n",
       "    <tr>\n",
       "      <th>203_02_HNRNPC</th>\n",
       "      <td>HNRNPC</td>\n",
       "      <td>HepG2</td>\n",
       "      <td>L1</td>\n",
       "      <td>203_02_HNRNPC</td>\n",
       "      <td>HNRNPC-HepG2_02</td>\n",
       "      <td>93832</td>\n",
       "      <td>7.288173e-03</td>\n",
       "      <td>129094</td>\n",
       "      <td>1.151412e-02</td>\n",
       "      <td>0.632977</td>\n",
       "      <td>-4.808554e-03</td>\n",
       "    </tr>\n",
       "    <tr>\n",
       "      <th>203_02_HNRNPC</th>\n",
       "      <td>HNRNPC</td>\n",
       "      <td>HepG2</td>\n",
       "      <td>antisense_ERV1</td>\n",
       "      <td>203_02_HNRNPC</td>\n",
       "      <td>HNRNPC-HepG2_02</td>\n",
       "      <td>91385</td>\n",
       "      <td>7.098108e-03</td>\n",
       "      <td>45279</td>\n",
       "      <td>4.038513e-03</td>\n",
       "      <td>1.757604</td>\n",
       "      <td>5.775095e-03</td>\n",
       "    </tr>\n",
       "    <tr>\n",
       "      <th>203_02_HNRNPC</th>\n",
       "      <td>HNRNPC</td>\n",
       "      <td>HepG2</td>\n",
       "      <td>hAT-Charlie</td>\n",
       "      <td>203_02_HNRNPC</td>\n",
       "      <td>HNRNPC-HepG2_02</td>\n",
       "      <td>88510</td>\n",
       "      <td>6.874800e-03</td>\n",
       "      <td>43727</td>\n",
       "      <td>3.900087e-03</td>\n",
       "      <td>1.762730</td>\n",
       "      <td>5.622288e-03</td>\n",
       "    </tr>\n",
       "    <tr>\n",
       "      <th>203_02_HNRNPC</th>\n",
       "      <td>HNRNPC</td>\n",
       "      <td>HepG2</td>\n",
       "      <td>chrM</td>\n",
       "      <td>203_02_HNRNPC</td>\n",
       "      <td>HNRNPC-HepG2_02</td>\n",
       "      <td>75813</td>\n",
       "      <td>5.888591e-03</td>\n",
       "      <td>530282</td>\n",
       "      <td>4.729678e-02</td>\n",
       "      <td>0.124503</td>\n",
       "      <td>-1.769962e-02</td>\n",
       "    </tr>\n",
       "    <tr>\n",
       "      <th>203_02_HNRNPC</th>\n",
       "      <td>HNRNPC</td>\n",
       "      <td>HepG2</td>\n",
       "      <td>Simple_repeat</td>\n",
       "      <td>203_02_HNRNPC</td>\n",
       "      <td>HNRNPC-HepG2_02</td>\n",
       "      <td>72170</td>\n",
       "      <td>5.605630e-03</td>\n",
       "      <td>50587</td>\n",
       "      <td>4.511943e-03</td>\n",
       "      <td>1.242398</td>\n",
       "      <td>1.755278e-03</td>\n",
       "    </tr>\n",
       "    <tr>\n",
       "      <th>203_02_HNRNPC</th>\n",
       "      <td>HNRNPC</td>\n",
       "      <td>HepG2</td>\n",
       "      <td>unique_5utr</td>\n",
       "      <td>203_02_HNRNPC</td>\n",
       "      <td>HNRNPC-HepG2_02</td>\n",
       "      <td>69490</td>\n",
       "      <td>5.397467e-03</td>\n",
       "      <td>71787</td>\n",
       "      <td>6.402808e-03</td>\n",
       "      <td>0.842984</td>\n",
       "      <td>-1.330055e-03</td>\n",
       "    </tr>\n",
       "    <tr>\n",
       "      <th>203_02_HNRNPC</th>\n",
       "      <td>HNRNPC</td>\n",
       "      <td>HepG2</td>\n",
       "      <td>RNU2</td>\n",
       "      <td>203_02_HNRNPC</td>\n",
       "      <td>HNRNPC-HepG2_02</td>\n",
       "      <td>57905</td>\n",
       "      <td>4.497630e-03</td>\n",
       "      <td>105315</td>\n",
       "      <td>9.393229e-03</td>\n",
       "      <td>0.478816</td>\n",
       "      <td>-4.778534e-03</td>\n",
       "    </tr>\n",
       "    <tr>\n",
       "      <th>203_02_HNRNPC</th>\n",
       "      <td>HNRNPC</td>\n",
       "      <td>HepG2</td>\n",
       "      <td>antisense_TcMar-Tigger</td>\n",
       "      <td>203_02_HNRNPC</td>\n",
       "      <td>HNRNPC-HepG2_02</td>\n",
       "      <td>56910</td>\n",
       "      <td>4.420346e-03</td>\n",
       "      <td>30967</td>\n",
       "      <td>2.762001e-03</td>\n",
       "      <td>1.600415</td>\n",
       "      <td>2.998965e-03</td>\n",
       "    </tr>\n",
       "    <tr>\n",
       "      <th>203_02_HNRNPC</th>\n",
       "      <td>HNRNPC</td>\n",
       "      <td>HepG2</td>\n",
       "      <td>ERVL-MaLR</td>\n",
       "      <td>203_02_HNRNPC</td>\n",
       "      <td>HNRNPC-HepG2_02</td>\n",
       "      <td>54713</td>\n",
       "      <td>4.249700e-03</td>\n",
       "      <td>35125</td>\n",
       "      <td>3.132860e-03</td>\n",
       "      <td>1.356492</td>\n",
       "      <td>1.869360e-03</td>\n",
       "    </tr>\n",
       "    <tr>\n",
       "      <th>...</th>\n",
       "      <td>...</td>\n",
       "      <td>...</td>\n",
       "      <td>...</td>\n",
       "      <td>...</td>\n",
       "      <td>...</td>\n",
       "      <td>...</td>\n",
       "      <td>...</td>\n",
       "      <td>...</td>\n",
       "      <td>...</td>\n",
       "      <td>...</td>\n",
       "      <td>...</td>\n",
       "    </tr>\n",
       "    <tr>\n",
       "      <th>203_02_HNRNPC</th>\n",
       "      <td>HNRNPC</td>\n",
       "      <td>HepG2</td>\n",
       "      <td>antisense_Penelope</td>\n",
       "      <td>203_02_HNRNPC</td>\n",
       "      <td>HNRNPC-HepG2_02</td>\n",
       "      <td>5</td>\n",
       "      <td>3.883629e-07</td>\n",
       "      <td>3</td>\n",
       "      <td>2.675752e-07</td>\n",
       "      <td>1.451416</td>\n",
       "      <td>2.087298e-07</td>\n",
       "    </tr>\n",
       "    <tr>\n",
       "      <th>203_02_HNRNPC</th>\n",
       "      <td>HNRNPC</td>\n",
       "      <td>HepG2</td>\n",
       "      <td>antisense_RNU4ATAC</td>\n",
       "      <td>203_02_HNRNPC</td>\n",
       "      <td>HNRNPC-HepG2_02</td>\n",
       "      <td>5</td>\n",
       "      <td>3.883629e-07</td>\n",
       "      <td>1</td>\n",
       "      <td>8.919174e-08</td>\n",
       "      <td>4.354247</td>\n",
       "      <td>8.242704e-07</td>\n",
       "    </tr>\n",
       "    <tr>\n",
       "      <th>203_02_HNRNPC</th>\n",
       "      <td>HNRNPC</td>\n",
       "      <td>HepG2</td>\n",
       "      <td>antisense_RNU11</td>\n",
       "      <td>203_02_HNRNPC</td>\n",
       "      <td>HNRNPC-HepG2_02</td>\n",
       "      <td>4</td>\n",
       "      <td>3.106903e-07</td>\n",
       "      <td>1</td>\n",
       "      <td>8.919174e-08</td>\n",
       "      <td>3.483398</td>\n",
       "      <td>5.593964e-07</td>\n",
       "    </tr>\n",
       "    <tr>\n",
       "      <th>203_02_HNRNPC</th>\n",
       "      <td>HNRNPC</td>\n",
       "      <td>HepG2</td>\n",
       "      <td>antisense_rRNA_extra</td>\n",
       "      <td>203_02_HNRNPC</td>\n",
       "      <td>HNRNPC-HepG2_02</td>\n",
       "      <td>4</td>\n",
       "      <td>3.106903e-07</td>\n",
       "      <td>13</td>\n",
       "      <td>1.159493e-06</td>\n",
       "      <td>0.267954</td>\n",
       "      <td>-5.902944e-07</td>\n",
       "    </tr>\n",
       "    <tr>\n",
       "      <th>203_02_HNRNPC</th>\n",
       "      <td>HNRNPC</td>\n",
       "      <td>HepG2</td>\n",
       "      <td>antisense_RNU5A</td>\n",
       "      <td>203_02_HNRNPC</td>\n",
       "      <td>HNRNPC-HepG2_02</td>\n",
       "      <td>3</td>\n",
       "      <td>2.330177e-07</td>\n",
       "      <td>1</td>\n",
       "      <td>8.919174e-08</td>\n",
       "      <td>2.612548</td>\n",
       "      <td>3.228362e-07</td>\n",
       "    </tr>\n",
       "    <tr>\n",
       "      <th>203_02_HNRNPC</th>\n",
       "      <td>HNRNPC</td>\n",
       "      <td>HepG2</td>\n",
       "      <td>RNU105</td>\n",
       "      <td>203_02_HNRNPC</td>\n",
       "      <td>HNRNPC-HepG2_02</td>\n",
       "      <td>3</td>\n",
       "      <td>2.330177e-07</td>\n",
       "      <td>17</td>\n",
       "      <td>1.516260e-06</td>\n",
       "      <td>0.153679</td>\n",
       "      <td>-6.296151e-07</td>\n",
       "    </tr>\n",
       "    <tr>\n",
       "      <th>203_02_HNRNPC</th>\n",
       "      <td>HNRNPC</td>\n",
       "      <td>HepG2</td>\n",
       "      <td>antisense_RNU12</td>\n",
       "      <td>203_02_HNRNPC</td>\n",
       "      <td>HNRNPC-HepG2_02</td>\n",
       "      <td>2</td>\n",
       "      <td>1.553452e-07</td>\n",
       "      <td>2</td>\n",
       "      <td>1.783835e-07</td>\n",
       "      <td>0.870849</td>\n",
       "      <td>-3.099212e-08</td>\n",
       "    </tr>\n",
       "    <tr>\n",
       "      <th>203_02_HNRNPC</th>\n",
       "      <td>HNRNPC</td>\n",
       "      <td>HepG2</td>\n",
       "      <td>ERV3</td>\n",
       "      <td>203_02_HNRNPC</td>\n",
       "      <td>HNRNPC-HepG2_02</td>\n",
       "      <td>1</td>\n",
       "      <td>7.767258e-08</td>\n",
       "      <td>1</td>\n",
       "      <td>8.919174e-08</td>\n",
       "      <td>0.870849</td>\n",
       "      <td>-1.549606e-08</td>\n",
       "    </tr>\n",
       "    <tr>\n",
       "      <th>203_02_HNRNPC</th>\n",
       "      <td>HNRNPC</td>\n",
       "      <td>HepG2</td>\n",
       "      <td>KER</td>\n",
       "      <td>203_02_HNRNPC</td>\n",
       "      <td>HNRNPC-HepG2_02</td>\n",
       "      <td>1</td>\n",
       "      <td>7.767258e-08</td>\n",
       "      <td>1</td>\n",
       "      <td>8.919174e-08</td>\n",
       "      <td>0.870849</td>\n",
       "      <td>-1.549606e-08</td>\n",
       "    </tr>\n",
       "    <tr>\n",
       "      <th>203_02_HNRNPC</th>\n",
       "      <td>HNRNPC</td>\n",
       "      <td>HepG2</td>\n",
       "      <td>antisense_RNU5E</td>\n",
       "      <td>203_02_HNRNPC</td>\n",
       "      <td>HNRNPC-HepG2_02</td>\n",
       "      <td>1</td>\n",
       "      <td>7.767258e-08</td>\n",
       "      <td>1</td>\n",
       "      <td>8.919174e-08</td>\n",
       "      <td>0.870849</td>\n",
       "      <td>-1.549606e-08</td>\n",
       "    </tr>\n",
       "    <tr>\n",
       "      <th>203_02_HNRNPC</th>\n",
       "      <td>HNRNPC</td>\n",
       "      <td>HepG2</td>\n",
       "      <td>antisense_ERV3</td>\n",
       "      <td>203_02_HNRNPC</td>\n",
       "      <td>HNRNPC-HepG2_02</td>\n",
       "      <td>0</td>\n",
       "      <td>0.000000e+00</td>\n",
       "      <td>1</td>\n",
       "      <td>8.919174e-08</td>\n",
       "      <td>0.000000</td>\n",
       "      <td>0.000000e+00</td>\n",
       "    </tr>\n",
       "    <tr>\n",
       "      <th>203_02_HNRNPC</th>\n",
       "      <td>HNRNPC</td>\n",
       "      <td>HepG2</td>\n",
       "      <td>antisense_U17</td>\n",
       "      <td>203_02_HNRNPC</td>\n",
       "      <td>HNRNPC-HepG2_02</td>\n",
       "      <td>0</td>\n",
       "      <td>0.000000e+00</td>\n",
       "      <td>1</td>\n",
       "      <td>8.919174e-08</td>\n",
       "      <td>0.000000</td>\n",
       "      <td>0.000000e+00</td>\n",
       "    </tr>\n",
       "    <tr>\n",
       "      <th>203_02_HNRNPC</th>\n",
       "      <td>HNRNPC</td>\n",
       "      <td>HepG2</td>\n",
       "      <td>ERV2</td>\n",
       "      <td>203_02_HNRNPC</td>\n",
       "      <td>HNRNPC-HepG2_02</td>\n",
       "      <td>0</td>\n",
       "      <td>0.000000e+00</td>\n",
       "      <td>1</td>\n",
       "      <td>8.919174e-08</td>\n",
       "      <td>0.000000</td>\n",
       "      <td>0.000000e+00</td>\n",
       "    </tr>\n",
       "    <tr>\n",
       "      <th>203_02_HNRNPC</th>\n",
       "      <td>HNRNPC</td>\n",
       "      <td>HepG2</td>\n",
       "      <td>VTRNA2</td>\n",
       "      <td>203_02_HNRNPC</td>\n",
       "      <td>HNRNPC-HepG2_02</td>\n",
       "      <td>0</td>\n",
       "      <td>0.000000e+00</td>\n",
       "      <td>2</td>\n",
       "      <td>1.783835e-07</td>\n",
       "      <td>0.000000</td>\n",
       "      <td>0.000000e+00</td>\n",
       "    </tr>\n",
       "    <tr>\n",
       "      <th>203_02_HNRNPC</th>\n",
       "      <td>HNRNPC</td>\n",
       "      <td>HepG2</td>\n",
       "      <td>VTRNA3</td>\n",
       "      <td>203_02_HNRNPC</td>\n",
       "      <td>HNRNPC-HepG2_02</td>\n",
       "      <td>0</td>\n",
       "      <td>0.000000e+00</td>\n",
       "      <td>1</td>\n",
       "      <td>8.919174e-08</td>\n",
       "      <td>0.000000</td>\n",
       "      <td>0.000000e+00</td>\n",
       "    </tr>\n",
       "    <tr>\n",
       "      <th>203_02_HNRNPC</th>\n",
       "      <td>HNRNPC</td>\n",
       "      <td>HepG2</td>\n",
       "      <td>antisense_Eutr</td>\n",
       "      <td>203_02_HNRNPC</td>\n",
       "      <td>HNRNPC-HepG2_02</td>\n",
       "      <td>0</td>\n",
       "      <td>0.000000e+00</td>\n",
       "      <td>1</td>\n",
       "      <td>8.919174e-08</td>\n",
       "      <td>0.000000</td>\n",
       "      <td>0.000000e+00</td>\n",
       "    </tr>\n",
       "    <tr>\n",
       "      <th>203_02_HNRNPC</th>\n",
       "      <td>HNRNPC</td>\n",
       "      <td>HepG2</td>\n",
       "      <td>antisense_U14</td>\n",
       "      <td>203_02_HNRNPC</td>\n",
       "      <td>HNRNPC-HepG2_02</td>\n",
       "      <td>0</td>\n",
       "      <td>0.000000e+00</td>\n",
       "      <td>1</td>\n",
       "      <td>8.919174e-08</td>\n",
       "      <td>0.000000</td>\n",
       "      <td>0.000000e+00</td>\n",
       "    </tr>\n",
       "    <tr>\n",
       "      <th>203_02_HNRNPC</th>\n",
       "      <td>HNRNPC</td>\n",
       "      <td>HepG2</td>\n",
       "      <td>antisense_HSFAU</td>\n",
       "      <td>203_02_HNRNPC</td>\n",
       "      <td>HNRNPC-HepG2_02</td>\n",
       "      <td>0</td>\n",
       "      <td>0.000000e+00</td>\n",
       "      <td>1</td>\n",
       "      <td>8.919174e-08</td>\n",
       "      <td>0.000000</td>\n",
       "      <td>0.000000e+00</td>\n",
       "    </tr>\n",
       "    <tr>\n",
       "      <th>203_02_HNRNPC</th>\n",
       "      <td>HNRNPC</td>\n",
       "      <td>HepG2</td>\n",
       "      <td>antisense_VTRNA1</td>\n",
       "      <td>203_02_HNRNPC</td>\n",
       "      <td>HNRNPC-HepG2_02</td>\n",
       "      <td>0</td>\n",
       "      <td>0.000000e+00</td>\n",
       "      <td>1</td>\n",
       "      <td>8.919174e-08</td>\n",
       "      <td>0.000000</td>\n",
       "      <td>0.000000e+00</td>\n",
       "    </tr>\n",
       "    <tr>\n",
       "      <th>203_02_HNRNPC</th>\n",
       "      <td>HNRNPC</td>\n",
       "      <td>HepG2</td>\n",
       "      <td>antisense_snRNA</td>\n",
       "      <td>203_02_HNRNPC</td>\n",
       "      <td>HNRNPC-HepG2_02</td>\n",
       "      <td>0</td>\n",
       "      <td>0.000000e+00</td>\n",
       "      <td>1</td>\n",
       "      <td>8.919174e-08</td>\n",
       "      <td>0.000000</td>\n",
       "      <td>0.000000e+00</td>\n",
       "    </tr>\n",
       "    <tr>\n",
       "      <th>203_02_HNRNPC</th>\n",
       "      <td>HNRNPC</td>\n",
       "      <td>HepG2</td>\n",
       "      <td>antisense_RNU5F</td>\n",
       "      <td>203_02_HNRNPC</td>\n",
       "      <td>HNRNPC-HepG2_02</td>\n",
       "      <td>0</td>\n",
       "      <td>0.000000e+00</td>\n",
       "      <td>1</td>\n",
       "      <td>8.919174e-08</td>\n",
       "      <td>0.000000</td>\n",
       "      <td>0.000000e+00</td>\n",
       "    </tr>\n",
       "    <tr>\n",
       "      <th>203_02_HNRNPC</th>\n",
       "      <td>HNRNPC</td>\n",
       "      <td>HepG2</td>\n",
       "      <td>antisense_VTRNA2</td>\n",
       "      <td>203_02_HNRNPC</td>\n",
       "      <td>HNRNPC-HepG2_02</td>\n",
       "      <td>0</td>\n",
       "      <td>0.000000e+00</td>\n",
       "      <td>1</td>\n",
       "      <td>8.919174e-08</td>\n",
       "      <td>0.000000</td>\n",
       "      <td>0.000000e+00</td>\n",
       "    </tr>\n",
       "    <tr>\n",
       "      <th>203_02_HNRNPC</th>\n",
       "      <td>HNRNPC</td>\n",
       "      <td>HepG2</td>\n",
       "      <td>antisense_KER</td>\n",
       "      <td>203_02_HNRNPC</td>\n",
       "      <td>HNRNPC-HepG2_02</td>\n",
       "      <td>0</td>\n",
       "      <td>0.000000e+00</td>\n",
       "      <td>1</td>\n",
       "      <td>8.919174e-08</td>\n",
       "      <td>0.000000</td>\n",
       "      <td>0.000000e+00</td>\n",
       "    </tr>\n",
       "    <tr>\n",
       "      <th>203_02_HNRNPC</th>\n",
       "      <td>HNRNPC</td>\n",
       "      <td>HepG2</td>\n",
       "      <td>antisense_VTRNA3</td>\n",
       "      <td>203_02_HNRNPC</td>\n",
       "      <td>HNRNPC-HepG2_02</td>\n",
       "      <td>0</td>\n",
       "      <td>0.000000e+00</td>\n",
       "      <td>1</td>\n",
       "      <td>8.919174e-08</td>\n",
       "      <td>0.000000</td>\n",
       "      <td>0.000000e+00</td>\n",
       "    </tr>\n",
       "    <tr>\n",
       "      <th>203_02_HNRNPC</th>\n",
       "      <td>HNRNPC</td>\n",
       "      <td>HepG2</td>\n",
       "      <td>antisense_H1RNA</td>\n",
       "      <td>203_02_HNRNPC</td>\n",
       "      <td>HNRNPC-HepG2_02</td>\n",
       "      <td>0</td>\n",
       "      <td>0.000000e+00</td>\n",
       "      <td>1</td>\n",
       "      <td>8.919174e-08</td>\n",
       "      <td>0.000000</td>\n",
       "      <td>0.000000e+00</td>\n",
       "    </tr>\n",
       "    <tr>\n",
       "      <th>203_02_HNRNPC</th>\n",
       "      <td>HNRNPC</td>\n",
       "      <td>HepG2</td>\n",
       "      <td>antisense_RNU5D</td>\n",
       "      <td>203_02_HNRNPC</td>\n",
       "      <td>HNRNPC-HepG2_02</td>\n",
       "      <td>0</td>\n",
       "      <td>0.000000e+00</td>\n",
       "      <td>1</td>\n",
       "      <td>8.919174e-08</td>\n",
       "      <td>0.000000</td>\n",
       "      <td>0.000000e+00</td>\n",
       "    </tr>\n",
       "    <tr>\n",
       "      <th>203_02_HNRNPC</th>\n",
       "      <td>HNRNPC</td>\n",
       "      <td>HepG2</td>\n",
       "      <td>antisense_RNU105</td>\n",
       "      <td>203_02_HNRNPC</td>\n",
       "      <td>HNRNPC-HepG2_02</td>\n",
       "      <td>0</td>\n",
       "      <td>0.000000e+00</td>\n",
       "      <td>1</td>\n",
       "      <td>8.919174e-08</td>\n",
       "      <td>0.000000</td>\n",
       "      <td>0.000000e+00</td>\n",
       "    </tr>\n",
       "    <tr>\n",
       "      <th>203_02_HNRNPC</th>\n",
       "      <td>HNRNPC</td>\n",
       "      <td>HepG2</td>\n",
       "      <td>Eutr</td>\n",
       "      <td>203_02_HNRNPC</td>\n",
       "      <td>HNRNPC-HepG2_02</td>\n",
       "      <td>0</td>\n",
       "      <td>0.000000e+00</td>\n",
       "      <td>1</td>\n",
       "      <td>8.919174e-08</td>\n",
       "      <td>0.000000</td>\n",
       "      <td>0.000000e+00</td>\n",
       "    </tr>\n",
       "    <tr>\n",
       "      <th>203_02_HNRNPC</th>\n",
       "      <td>HNRNPC</td>\n",
       "      <td>HepG2</td>\n",
       "      <td>antisense_ERV2</td>\n",
       "      <td>203_02_HNRNPC</td>\n",
       "      <td>HNRNPC-HepG2_02</td>\n",
       "      <td>0</td>\n",
       "      <td>0.000000e+00</td>\n",
       "      <td>1</td>\n",
       "      <td>8.919174e-08</td>\n",
       "      <td>0.000000</td>\n",
       "      <td>0.000000e+00</td>\n",
       "    </tr>\n",
       "    <tr>\n",
       "      <th>203_02_HNRNPC</th>\n",
       "      <td>HNRNPC</td>\n",
       "      <td>HepG2</td>\n",
       "      <td>antisense_RNA5-8S</td>\n",
       "      <td>203_02_HNRNPC</td>\n",
       "      <td>HNRNPC-HepG2_02</td>\n",
       "      <td>0</td>\n",
       "      <td>0.000000e+00</td>\n",
       "      <td>1</td>\n",
       "      <td>8.919174e-08</td>\n",
       "      <td>0.000000</td>\n",
       "      <td>0.000000e+00</td>\n",
       "    </tr>\n",
       "  </tbody>\n",
       "</table>\n",
       "<p>182 rows × 11 columns</p>\n",
       "</div>"
      ],
      "text/plain": [
       "                  RBP   cell                      element            uID  \\\n",
       "203_02_HNRNPC  HNRNPC  HepG2            unique_distintron  203_02_HNRNPC   \n",
       "203_02_HNRNPC  HNRNPC  HepG2                antisense_Alu  203_02_HNRNPC   \n",
       "203_02_HNRNPC  HNRNPC  HepG2                 antisense_L1  203_02_HNRNPC   \n",
       "203_02_HNRNPC  HNRNPC  HepG2              antisense_RN7SL  203_02_HNRNPC   \n",
       "203_02_HNRNPC  HNRNPC  HepG2            unique_proxintron  203_02_HNRNPC   \n",
       "203_02_HNRNPC  HNRNPC  HepG2                          Alu  203_02_HNRNPC   \n",
       "203_02_HNRNPC  HNRNPC  HepG2                        RN7SL  203_02_HNRNPC   \n",
       "203_02_HNRNPC  HNRNPC  HepG2                  unique_3utr  203_02_HNRNPC   \n",
       "203_02_HNRNPC  HNRNPC  HepG2            unique_intergenic  203_02_HNRNPC   \n",
       "203_02_HNRNPC  HNRNPC  HepG2                       RNA28S  203_02_HNRNPC   \n",
       "203_02_HNRNPC  HNRNPC  HepG2  unique_noncoding_distintron  203_02_HNRNPC   \n",
       "203_02_HNRNPC  HNRNPC  HepG2                 antisense_L2  203_02_HNRNPC   \n",
       "203_02_HNRNPC  HNRNPC  HepG2        unique_noncoding_exon  203_02_HNRNPC   \n",
       "203_02_HNRNPC  HNRNPC  HepG2                antisense_MIR  203_02_HNRNPC   \n",
       "203_02_HNRNPC  HNRNPC  HepG2                   unique_CDS  203_02_HNRNPC   \n",
       "203_02_HNRNPC  HNRNPC  HepG2                          MIR  203_02_HNRNPC   \n",
       "203_02_HNRNPC  HNRNPC  HepG2                           L2  203_02_HNRNPC   \n",
       "203_02_HNRNPC  HNRNPC  HepG2          antisense_ERVL-MaLR  203_02_HNRNPC   \n",
       "203_02_HNRNPC  HNRNPC  HepG2                       RNA18S  203_02_HNRNPC   \n",
       "203_02_HNRNPC  HNRNPC  HepG2        antisense_hAT-Charlie  203_02_HNRNPC   \n",
       "203_02_HNRNPC  HNRNPC  HepG2     unique_antisense_gencode  203_02_HNRNPC   \n",
       "203_02_HNRNPC  HNRNPC  HepG2                           L1  203_02_HNRNPC   \n",
       "203_02_HNRNPC  HNRNPC  HepG2               antisense_ERV1  203_02_HNRNPC   \n",
       "203_02_HNRNPC  HNRNPC  HepG2                  hAT-Charlie  203_02_HNRNPC   \n",
       "203_02_HNRNPC  HNRNPC  HepG2                         chrM  203_02_HNRNPC   \n",
       "203_02_HNRNPC  HNRNPC  HepG2                Simple_repeat  203_02_HNRNPC   \n",
       "203_02_HNRNPC  HNRNPC  HepG2                  unique_5utr  203_02_HNRNPC   \n",
       "203_02_HNRNPC  HNRNPC  HepG2                         RNU2  203_02_HNRNPC   \n",
       "203_02_HNRNPC  HNRNPC  HepG2       antisense_TcMar-Tigger  203_02_HNRNPC   \n",
       "203_02_HNRNPC  HNRNPC  HepG2                    ERVL-MaLR  203_02_HNRNPC   \n",
       "...               ...    ...                          ...            ...   \n",
       "203_02_HNRNPC  HNRNPC  HepG2           antisense_Penelope  203_02_HNRNPC   \n",
       "203_02_HNRNPC  HNRNPC  HepG2           antisense_RNU4ATAC  203_02_HNRNPC   \n",
       "203_02_HNRNPC  HNRNPC  HepG2              antisense_RNU11  203_02_HNRNPC   \n",
       "203_02_HNRNPC  HNRNPC  HepG2         antisense_rRNA_extra  203_02_HNRNPC   \n",
       "203_02_HNRNPC  HNRNPC  HepG2              antisense_RNU5A  203_02_HNRNPC   \n",
       "203_02_HNRNPC  HNRNPC  HepG2                       RNU105  203_02_HNRNPC   \n",
       "203_02_HNRNPC  HNRNPC  HepG2              antisense_RNU12  203_02_HNRNPC   \n",
       "203_02_HNRNPC  HNRNPC  HepG2                         ERV3  203_02_HNRNPC   \n",
       "203_02_HNRNPC  HNRNPC  HepG2                          KER  203_02_HNRNPC   \n",
       "203_02_HNRNPC  HNRNPC  HepG2              antisense_RNU5E  203_02_HNRNPC   \n",
       "203_02_HNRNPC  HNRNPC  HepG2               antisense_ERV3  203_02_HNRNPC   \n",
       "203_02_HNRNPC  HNRNPC  HepG2                antisense_U17  203_02_HNRNPC   \n",
       "203_02_HNRNPC  HNRNPC  HepG2                         ERV2  203_02_HNRNPC   \n",
       "203_02_HNRNPC  HNRNPC  HepG2                       VTRNA2  203_02_HNRNPC   \n",
       "203_02_HNRNPC  HNRNPC  HepG2                       VTRNA3  203_02_HNRNPC   \n",
       "203_02_HNRNPC  HNRNPC  HepG2               antisense_Eutr  203_02_HNRNPC   \n",
       "203_02_HNRNPC  HNRNPC  HepG2                antisense_U14  203_02_HNRNPC   \n",
       "203_02_HNRNPC  HNRNPC  HepG2              antisense_HSFAU  203_02_HNRNPC   \n",
       "203_02_HNRNPC  HNRNPC  HepG2             antisense_VTRNA1  203_02_HNRNPC   \n",
       "203_02_HNRNPC  HNRNPC  HepG2              antisense_snRNA  203_02_HNRNPC   \n",
       "203_02_HNRNPC  HNRNPC  HepG2              antisense_RNU5F  203_02_HNRNPC   \n",
       "203_02_HNRNPC  HNRNPC  HepG2             antisense_VTRNA2  203_02_HNRNPC   \n",
       "203_02_HNRNPC  HNRNPC  HepG2                antisense_KER  203_02_HNRNPC   \n",
       "203_02_HNRNPC  HNRNPC  HepG2             antisense_VTRNA3  203_02_HNRNPC   \n",
       "203_02_HNRNPC  HNRNPC  HepG2              antisense_H1RNA  203_02_HNRNPC   \n",
       "203_02_HNRNPC  HNRNPC  HepG2              antisense_RNU5D  203_02_HNRNPC   \n",
       "203_02_HNRNPC  HNRNPC  HepG2             antisense_RNU105  203_02_HNRNPC   \n",
       "203_02_HNRNPC  HNRNPC  HepG2                         Eutr  203_02_HNRNPC   \n",
       "203_02_HNRNPC  HNRNPC  HepG2               antisense_ERV2  203_02_HNRNPC   \n",
       "203_02_HNRNPC  HNRNPC  HepG2            antisense_RNA5-8S  203_02_HNRNPC   \n",
       "\n",
       "                          uID2  ip_reads        ip_rpr   input_     input_rpr  \\\n",
       "203_02_HNRNPC  HNRNPC-HepG2_02   2959472  2.298698e-01  1537674  1.371478e-01   \n",
       "203_02_HNRNPC  HNRNPC-HepG2_02   2464377  1.914145e-01   303999  2.711420e-02   \n",
       "203_02_HNRNPC  HNRNPC-HepG2_02    928277  7.210167e-02   381758  3.404966e-02   \n",
       "203_02_HNRNPC  HNRNPC-HepG2_02    771448  5.992035e-02    70388  6.278029e-03   \n",
       "203_02_HNRNPC  HNRNPC-HepG2_02    659869  5.125372e-02   472735  4.216406e-02   \n",
       "203_02_HNRNPC  HNRNPC-HepG2_02    489499  3.802065e-02   173589  1.548271e-02   \n",
       "203_02_HNRNPC  HNRNPC-HepG2_02    334110  2.595118e-02    83520  7.449294e-03   \n",
       "203_02_HNRNPC  HNRNPC-HepG2_02    307038  2.384843e-02   317789  2.834416e-02   \n",
       "203_02_HNRNPC  HNRNPC-HepG2_02    274467  2.131856e-02   179612  1.601991e-02   \n",
       "203_02_HNRNPC  HNRNPC-HepG2_02    216623  1.682567e-02  2352664  2.098382e-01   \n",
       "203_02_HNRNPC  HNRNPC-HepG2_02    193766  1.505030e-02   115202  1.027507e-02   \n",
       "203_02_HNRNPC  HNRNPC-HepG2_02    167391  1.300169e-02   115403  1.029299e-02   \n",
       "203_02_HNRNPC  HNRNPC-HepG2_02    161930  1.257752e-02   124493  1.110375e-02   \n",
       "203_02_HNRNPC  HNRNPC-HepG2_02    139732  1.085334e-02    89956  8.023333e-03   \n",
       "203_02_HNRNPC  HNRNPC-HepG2_02    138057  1.072324e-02   567305  5.059892e-02   \n",
       "203_02_HNRNPC  HNRNPC-HepG2_02    134661  1.045947e-02    86527  7.717494e-03   \n",
       "203_02_HNRNPC  HNRNPC-HepG2_02    128142  9.953119e-03    89340  7.968390e-03   \n",
       "203_02_HNRNPC  HNRNPC-HepG2_02    120197  9.336011e-03    69781  6.223889e-03   \n",
       "203_02_HNRNPC  HNRNPC-HepG2_02    117988  9.164432e-03  1553014  1.385160e-01   \n",
       "203_02_HNRNPC  HNRNPC-HepG2_02     96474  7.493384e-03    47517  4.238124e-03   \n",
       "203_02_HNRNPC  HNRNPC-HepG2_02     94301  7.324602e-03    72717  6.485756e-03   \n",
       "203_02_HNRNPC  HNRNPC-HepG2_02     93832  7.288173e-03   129094  1.151412e-02   \n",
       "203_02_HNRNPC  HNRNPC-HepG2_02     91385  7.098108e-03    45279  4.038513e-03   \n",
       "203_02_HNRNPC  HNRNPC-HepG2_02     88510  6.874800e-03    43727  3.900087e-03   \n",
       "203_02_HNRNPC  HNRNPC-HepG2_02     75813  5.888591e-03   530282  4.729678e-02   \n",
       "203_02_HNRNPC  HNRNPC-HepG2_02     72170  5.605630e-03    50587  4.511943e-03   \n",
       "203_02_HNRNPC  HNRNPC-HepG2_02     69490  5.397467e-03    71787  6.402808e-03   \n",
       "203_02_HNRNPC  HNRNPC-HepG2_02     57905  4.497630e-03   105315  9.393229e-03   \n",
       "203_02_HNRNPC  HNRNPC-HepG2_02     56910  4.420346e-03    30967  2.762001e-03   \n",
       "203_02_HNRNPC  HNRNPC-HepG2_02     54713  4.249700e-03    35125  3.132860e-03   \n",
       "...                        ...       ...           ...      ...           ...   \n",
       "203_02_HNRNPC  HNRNPC-HepG2_02         5  3.883629e-07        3  2.675752e-07   \n",
       "203_02_HNRNPC  HNRNPC-HepG2_02         5  3.883629e-07        1  8.919174e-08   \n",
       "203_02_HNRNPC  HNRNPC-HepG2_02         4  3.106903e-07        1  8.919174e-08   \n",
       "203_02_HNRNPC  HNRNPC-HepG2_02         4  3.106903e-07       13  1.159493e-06   \n",
       "203_02_HNRNPC  HNRNPC-HepG2_02         3  2.330177e-07        1  8.919174e-08   \n",
       "203_02_HNRNPC  HNRNPC-HepG2_02         3  2.330177e-07       17  1.516260e-06   \n",
       "203_02_HNRNPC  HNRNPC-HepG2_02         2  1.553452e-07        2  1.783835e-07   \n",
       "203_02_HNRNPC  HNRNPC-HepG2_02         1  7.767258e-08        1  8.919174e-08   \n",
       "203_02_HNRNPC  HNRNPC-HepG2_02         1  7.767258e-08        1  8.919174e-08   \n",
       "203_02_HNRNPC  HNRNPC-HepG2_02         1  7.767258e-08        1  8.919174e-08   \n",
       "203_02_HNRNPC  HNRNPC-HepG2_02         0  0.000000e+00        1  8.919174e-08   \n",
       "203_02_HNRNPC  HNRNPC-HepG2_02         0  0.000000e+00        1  8.919174e-08   \n",
       "203_02_HNRNPC  HNRNPC-HepG2_02         0  0.000000e+00        1  8.919174e-08   \n",
       "203_02_HNRNPC  HNRNPC-HepG2_02         0  0.000000e+00        2  1.783835e-07   \n",
       "203_02_HNRNPC  HNRNPC-HepG2_02         0  0.000000e+00        1  8.919174e-08   \n",
       "203_02_HNRNPC  HNRNPC-HepG2_02         0  0.000000e+00        1  8.919174e-08   \n",
       "203_02_HNRNPC  HNRNPC-HepG2_02         0  0.000000e+00        1  8.919174e-08   \n",
       "203_02_HNRNPC  HNRNPC-HepG2_02         0  0.000000e+00        1  8.919174e-08   \n",
       "203_02_HNRNPC  HNRNPC-HepG2_02         0  0.000000e+00        1  8.919174e-08   \n",
       "203_02_HNRNPC  HNRNPC-HepG2_02         0  0.000000e+00        1  8.919174e-08   \n",
       "203_02_HNRNPC  HNRNPC-HepG2_02         0  0.000000e+00        1  8.919174e-08   \n",
       "203_02_HNRNPC  HNRNPC-HepG2_02         0  0.000000e+00        1  8.919174e-08   \n",
       "203_02_HNRNPC  HNRNPC-HepG2_02         0  0.000000e+00        1  8.919174e-08   \n",
       "203_02_HNRNPC  HNRNPC-HepG2_02         0  0.000000e+00        1  8.919174e-08   \n",
       "203_02_HNRNPC  HNRNPC-HepG2_02         0  0.000000e+00        1  8.919174e-08   \n",
       "203_02_HNRNPC  HNRNPC-HepG2_02         0  0.000000e+00        1  8.919174e-08   \n",
       "203_02_HNRNPC  HNRNPC-HepG2_02         0  0.000000e+00        1  8.919174e-08   \n",
       "203_02_HNRNPC  HNRNPC-HepG2_02         0  0.000000e+00        1  8.919174e-08   \n",
       "203_02_HNRNPC  HNRNPC-HepG2_02         0  0.000000e+00        1  8.919174e-08   \n",
       "203_02_HNRNPC  HNRNPC-HepG2_02         0  0.000000e+00        1  8.919174e-08   \n",
       "\n",
       "               fold_change  information_content  \n",
       "203_02_HNRNPC     1.676073         1.712726e-01  \n",
       "203_02_HNRNPC     7.059567         5.397084e-01  \n",
       "203_02_HNRNPC     2.117544         7.804227e-02  \n",
       "203_02_HNRNPC     9.544454         1.950205e-01  \n",
       "203_02_HNRNPC     1.215579         1.443526e-02  \n",
       "203_02_HNRNPC     2.455685         4.927953e-02  \n",
       "203_02_HNRNPC     3.483710         4.672834e-02  \n",
       "203_02_HNRNPC     0.841388        -5.942000e-03  \n",
       "203_02_HNRNPC     1.330754         8.788450e-03  \n",
       "203_02_HNRNPC     0.080184        -6.125454e-02  \n",
       "203_02_HNRNPC     1.464740         8.287372e-03  \n",
       "203_02_HNRNPC     1.263159         4.382042e-03  \n",
       "203_02_HNRNPC     1.132727         2.261448e-03  \n",
       "203_02_HNRNPC     1.352723         4.730605e-03  \n",
       "203_02_HNRNPC     0.211926        -2.400254e-02  \n",
       "203_02_HNRNPC     1.355293         4.587574e-03  \n",
       "203_02_HNRNPC     1.249075         3.193562e-03  \n",
       "203_02_HNRNPC     1.500028         5.461471e-03  \n",
       "203_02_HNRNPC     0.066162        -3.590499e-02  \n",
       "203_02_HNRNPC     1.768090         6.160997e-03  \n",
       "203_02_HNRNPC     1.129337         1.285288e-03  \n",
       "203_02_HNRNPC     0.632977        -4.808554e-03  \n",
       "203_02_HNRNPC     1.757604         5.775095e-03  \n",
       "203_02_HNRNPC     1.762730         5.622288e-03  \n",
       "203_02_HNRNPC     0.124503        -1.769962e-02  \n",
       "203_02_HNRNPC     1.242398         1.755278e-03  \n",
       "203_02_HNRNPC     0.842984        -1.330055e-03  \n",
       "203_02_HNRNPC     0.478816        -4.778534e-03  \n",
       "203_02_HNRNPC     1.600415         2.998965e-03  \n",
       "203_02_HNRNPC     1.356492         1.869360e-03  \n",
       "...                    ...                  ...  \n",
       "203_02_HNRNPC     1.451416         2.087298e-07  \n",
       "203_02_HNRNPC     4.354247         8.242704e-07  \n",
       "203_02_HNRNPC     3.483398         5.593964e-07  \n",
       "203_02_HNRNPC     0.267954        -5.902944e-07  \n",
       "203_02_HNRNPC     2.612548         3.228362e-07  \n",
       "203_02_HNRNPC     0.153679        -6.296151e-07  \n",
       "203_02_HNRNPC     0.870849        -3.099212e-08  \n",
       "203_02_HNRNPC     0.870849        -1.549606e-08  \n",
       "203_02_HNRNPC     0.870849        -1.549606e-08  \n",
       "203_02_HNRNPC     0.870849        -1.549606e-08  \n",
       "203_02_HNRNPC     0.000000         0.000000e+00  \n",
       "203_02_HNRNPC     0.000000         0.000000e+00  \n",
       "203_02_HNRNPC     0.000000         0.000000e+00  \n",
       "203_02_HNRNPC     0.000000         0.000000e+00  \n",
       "203_02_HNRNPC     0.000000         0.000000e+00  \n",
       "203_02_HNRNPC     0.000000         0.000000e+00  \n",
       "203_02_HNRNPC     0.000000         0.000000e+00  \n",
       "203_02_HNRNPC     0.000000         0.000000e+00  \n",
       "203_02_HNRNPC     0.000000         0.000000e+00  \n",
       "203_02_HNRNPC     0.000000         0.000000e+00  \n",
       "203_02_HNRNPC     0.000000         0.000000e+00  \n",
       "203_02_HNRNPC     0.000000         0.000000e+00  \n",
       "203_02_HNRNPC     0.000000         0.000000e+00  \n",
       "203_02_HNRNPC     0.000000         0.000000e+00  \n",
       "203_02_HNRNPC     0.000000         0.000000e+00  \n",
       "203_02_HNRNPC     0.000000         0.000000e+00  \n",
       "203_02_HNRNPC     0.000000         0.000000e+00  \n",
       "203_02_HNRNPC     0.000000         0.000000e+00  \n",
       "203_02_HNRNPC     0.000000         0.000000e+00  \n",
       "203_02_HNRNPC     0.000000         0.000000e+00  \n",
       "\n",
       "[182 rows x 11 columns]"
      ]
     },
     "execution_count": 10,
     "metadata": {},
     "output_type": "execute_result"
    }
   ],
   "source": [
    "df.loc['203_02_HNRNPC'].sort_values(by=['ip_rpr'], ascending=False)"
   ]
  },
  {
   "cell_type": "code",
   "execution_count": 11,
   "metadata": {},
   "outputs": [
    {
     "data": {
      "text/plain": [
       "182"
      ]
     },
     "execution_count": 11,
     "metadata": {},
     "output_type": "execute_result"
    }
   ],
   "source": [
    "\n",
    "len(set(df['element']))"
   ]
  },
  {
   "cell_type": "code",
   "execution_count": null,
   "metadata": {},
   "outputs": [],
   "source": []
  },
  {
   "cell_type": "code",
   "execution_count": null,
   "metadata": {},
   "outputs": [],
   "source": []
  }
 ],
 "metadata": {
  "kernelspec": {
   "display_name": "Python 2",
   "language": "python",
   "name": "python2"
  },
  "language_info": {
   "codemirror_mode": {
    "name": "ipython",
    "version": 2
   },
   "file_extension": ".py",
   "mimetype": "text/x-python",
   "name": "python",
   "nbconvert_exporter": "python",
   "pygments_lexer": "ipython2",
   "version": "2.7.14"
  }
 },
 "nbformat": 4,
 "nbformat_minor": 2
}
