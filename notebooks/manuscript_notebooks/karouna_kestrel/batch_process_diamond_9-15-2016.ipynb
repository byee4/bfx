{
 "cells": [
  {
   "cell_type": "markdown",
   "metadata": {},
   "source": [
    "# Creates master commandline script for running blast/diamond\n",
    "- these scripts can be submitted to the cluster whenever space opens up."
   ]
  },
  {
   "cell_type": "code",
   "execution_count": 2,
   "metadata": {
    "collapsed": true
   },
   "outputs": [],
   "source": [
    "import numpy as np\n",
    "import pandas as pd\n",
    "import os"
   ]
  },
  {
   "cell_type": "code",
   "execution_count": 13,
   "metadata": {
    "collapsed": false
   },
   "outputs": [],
   "source": [
    "outdir = '/home/bay001/projects/kes_20160307/data/diamond'\n",
    "script = open('/home/bay001/projects/kes_20160307/data/diamond/runme.sh','w')\n",
    "for i in range(6,285):\n",
    "    \n",
    "    template = '~/software/diamond blastx -d uniref90.dmnd -q ~/projects/kes_20160307/permanent_data/parts/part_{}.fas -o {}/part_{}.blast --more-sensitive > {}/part_{}.log;\\n'.format(\n",
    "      i,\n",
    "      outdir,\n",
    "      i,\n",
    "      outdir,\n",
    "      i)\n",
    "    script.write(template)\n",
    "script.close()"
   ]
  },
  {
   "cell_type": "code",
   "execution_count": 14,
   "metadata": {
    "collapsed": false
   },
   "outputs": [
    {
     "name": "stdout",
     "output_type": "stream",
     "text": [
      "/bin/sh: -c: line 0: syntax error near unexpected token `newline'\r\n",
      "/bin/sh: -c: line 0: ` head <closed file '/home/bay001/projects/kes_20160307/data/diamond/runme.sh', mode 'w' at 0x2ae45b2e6390>'\r\n"
     ]
    }
   ],
   "source": [
    "! head $script"
   ]
  },
  {
   "cell_type": "code",
   "execution_count": null,
   "metadata": {
    "collapsed": true
   },
   "outputs": [],
   "source": []
  }
 ],
 "metadata": {
  "kernelspec": {
   "display_name": "Python 2",
   "language": "python",
   "name": "python2"
  },
  "language_info": {
   "codemirror_mode": {
    "name": "ipython",
    "version": 2
   },
   "file_extension": ".py",
   "mimetype": "text/x-python",
   "name": "python",
   "nbconvert_exporter": "python",
   "pygments_lexer": "ipython2",
   "version": "2.7.12"
  }
 },
 "nbformat": 4,
 "nbformat_minor": 1
}
