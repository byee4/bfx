{
 "cells": [
  {
   "cell_type": "markdown",
   "metadata": {},
   "source": [
    "# Creates a gene-to-trans map of the current assembly\n",
    "- intersects blast hits with the assembly, annotating them by their top blast hit.\n"
   ]
  },
  {
   "cell_type": "code",
   "execution_count": 1,
   "metadata": {
    "collapsed": true
   },
   "outputs": [],
   "source": [
    "import pandas as pd\n",
    "import numpy as np"
   ]
  },
  {
   "cell_type": "code",
   "execution_count": 2,
   "metadata": {
    "collapsed": false
   },
   "outputs": [
    {
     "data": {
      "text/html": [
       "<div>\n",
       "<table border=\"1\" class=\"dataframe\">\n",
       "  <thead>\n",
       "    <tr style=\"text-align: right;\">\n",
       "      <th></th>\n",
       "      <th>qseqid</th>\n",
       "      <th>sseqid</th>\n",
       "      <th>pident</th>\n",
       "      <th>length</th>\n",
       "      <th>mismatch</th>\n",
       "      <th>gapopen</th>\n",
       "      <th>qstart</th>\n",
       "      <th>qend</th>\n",
       "      <th>sstart</th>\n",
       "      <th>send</th>\n",
       "      <th>evalue</th>\n",
       "      <th>bitscore</th>\n",
       "    </tr>\n",
       "  </thead>\n",
       "  <tbody>\n",
       "    <tr>\n",
       "      <th>0</th>\n",
       "      <td>unmapped-49-contig_list_contig_324-0</td>\n",
       "      <td>UniRef90_UPI000529CB21</td>\n",
       "      <td>99.5</td>\n",
       "      <td>187</td>\n",
       "      <td>1</td>\n",
       "      <td>0</td>\n",
       "      <td>31453</td>\n",
       "      <td>30893</td>\n",
       "      <td>70</td>\n",
       "      <td>256</td>\n",
       "      <td>2.300000e-104</td>\n",
       "      <td>392.1</td>\n",
       "    </tr>\n",
       "    <tr>\n",
       "      <th>1</th>\n",
       "      <td>unmapped-49-contig_list_contig_324-0</td>\n",
       "      <td>UniRef90_UPI000529CB21</td>\n",
       "      <td>82.5</td>\n",
       "      <td>80</td>\n",
       "      <td>9</td>\n",
       "      <td>3</td>\n",
       "      <td>36063</td>\n",
       "      <td>35827</td>\n",
       "      <td>1</td>\n",
       "      <td>76</td>\n",
       "      <td>3.100000e-24</td>\n",
       "      <td>125.9</td>\n",
       "    </tr>\n",
       "    <tr>\n",
       "      <th>2</th>\n",
       "      <td>unmapped-49-contig_list_contig_324-0</td>\n",
       "      <td>UniRef90_UPI000529CB21</td>\n",
       "      <td>100.0</td>\n",
       "      <td>26</td>\n",
       "      <td>0</td>\n",
       "      <td>0</td>\n",
       "      <td>27759</td>\n",
       "      <td>27682</td>\n",
       "      <td>256</td>\n",
       "      <td>281</td>\n",
       "      <td>2.700000e-04</td>\n",
       "      <td>59.7</td>\n",
       "    </tr>\n",
       "    <tr>\n",
       "      <th>3</th>\n",
       "      <td>unmapped-49-contig_list_contig_324-0</td>\n",
       "      <td>UniRef90_E1BYF3</td>\n",
       "      <td>99.5</td>\n",
       "      <td>187</td>\n",
       "      <td>1</td>\n",
       "      <td>0</td>\n",
       "      <td>31453</td>\n",
       "      <td>30893</td>\n",
       "      <td>70</td>\n",
       "      <td>256</td>\n",
       "      <td>2.300000e-104</td>\n",
       "      <td>392.1</td>\n",
       "    </tr>\n",
       "    <tr>\n",
       "      <th>4</th>\n",
       "      <td>unmapped-49-contig_list_contig_324-0</td>\n",
       "      <td>UniRef90_E1BYF3</td>\n",
       "      <td>97.5</td>\n",
       "      <td>121</td>\n",
       "      <td>3</td>\n",
       "      <td>0</td>\n",
       "      <td>27759</td>\n",
       "      <td>27397</td>\n",
       "      <td>256</td>\n",
       "      <td>376</td>\n",
       "      <td>2.600000e-60</td>\n",
       "      <td>245.7</td>\n",
       "    </tr>\n",
       "  </tbody>\n",
       "</table>\n",
       "</div>"
      ],
      "text/plain": [
       "                                 qseqid                  sseqid  pident  \\\n",
       "0  unmapped-49-contig_list_contig_324-0  UniRef90_UPI000529CB21    99.5   \n",
       "1  unmapped-49-contig_list_contig_324-0  UniRef90_UPI000529CB21    82.5   \n",
       "2  unmapped-49-contig_list_contig_324-0  UniRef90_UPI000529CB21   100.0   \n",
       "3  unmapped-49-contig_list_contig_324-0         UniRef90_E1BYF3    99.5   \n",
       "4  unmapped-49-contig_list_contig_324-0         UniRef90_E1BYF3    97.5   \n",
       "\n",
       "   length  mismatch  gapopen  qstart   qend  sstart  send         evalue  \\\n",
       "0     187         1        0   31453  30893      70   256  2.300000e-104   \n",
       "1      80         9        3   36063  35827       1    76   3.100000e-24   \n",
       "2      26         0        0   27759  27682     256   281   2.700000e-04   \n",
       "3     187         1        0   31453  30893      70   256  2.300000e-104   \n",
       "4     121         3        0   27759  27397     256   376   2.600000e-60   \n",
       "\n",
       "   bitscore  \n",
       "0     392.1  \n",
       "1     125.9  \n",
       "2      59.7  \n",
       "3     392.1  \n",
       "4     245.7  "
      ]
     },
     "execution_count": 2,
     "metadata": {},
     "output_type": "execute_result"
    }
   ],
   "source": [
    "current = '/home/bay001/projects/kes_20160307/data/kestrel5-reclustered.no-aerv.no-mtdna.no-vec.no-virus.no-bac.200.fasta'\n",
    "blast_file = '/home/bay001/projects/kes_20160307/data/diamond/all.blast'\n",
    "blast_head = ['qseqid', 'sseqid', 'pident', 'length', 'mismatch',\n",
    "              'gapopen', 'qstart', 'qend', 'sstart', 'send',\n",
    "              'evalue', 'bitscore']\n",
    "blast = pd.read_table(blast_file,names=blast_head)\n",
    "blast.head()"
   ]
  },
  {
   "cell_type": "code",
   "execution_count": 5,
   "metadata": {
    "collapsed": false
   },
   "outputs": [
    {
     "name": "stdout",
     "output_type": "stream",
     "text": [
      "284635 records parsed.\n"
     ]
    }
   ],
   "source": [
    "from Bio import SeqIO\n",
    "records = {'header':list()}\n",
    "i = 0\n",
    "handle = open(current, \"rU\")\n",
    "for record in SeqIO.parse(handle, \"fasta\"):\n",
    "    records['header'].append(record.id)\n",
    "    i = i + 1\n",
    "handle.close()\n",
    "print('{} records parsed.'.format(i))\n",
    "records = pd.DataFrame(records)"
   ]
  },
  {
   "cell_type": "code",
   "execution_count": 9,
   "metadata": {
    "collapsed": false
   },
   "outputs": [
    {
     "data": {
      "text/html": [
       "<div>\n",
       "<table border=\"1\" class=\"dataframe\">\n",
       "  <thead>\n",
       "    <tr style=\"text-align: right;\">\n",
       "      <th></th>\n",
       "      <th>qseqid</th>\n",
       "      <th>sseqid</th>\n",
       "    </tr>\n",
       "  </thead>\n",
       "  <tbody>\n",
       "    <tr>\n",
       "      <th>0</th>\n",
       "      <td>unmapped-49-contig_list_contig_324-0</td>\n",
       "      <td>UniRef90_UPI000529CB21</td>\n",
       "    </tr>\n",
       "    <tr>\n",
       "      <th>3</th>\n",
       "      <td>unmapped-49-contig_list_contig_324-0</td>\n",
       "      <td>UniRef90_E1BYF3</td>\n",
       "    </tr>\n",
       "    <tr>\n",
       "      <th>6</th>\n",
       "      <td>unmapped-49-contig_list_contig_324-0</td>\n",
       "      <td>UniRef90_A0A091MSQ3</td>\n",
       "    </tr>\n",
       "    <tr>\n",
       "      <th>8</th>\n",
       "      <td>unmapped-49-contig_list_contig_324-0</td>\n",
       "      <td>UniRef90_V8NW96</td>\n",
       "    </tr>\n",
       "    <tr>\n",
       "      <th>11</th>\n",
       "      <td>unmapped-49-contig_list_contig_324-0</td>\n",
       "      <td>UniRef90_UPI0003EDEAFD</td>\n",
       "    </tr>\n",
       "  </tbody>\n",
       "</table>\n",
       "</div>"
      ],
      "text/plain": [
       "                                  qseqid                  sseqid\n",
       "0   unmapped-49-contig_list_contig_324-0  UniRef90_UPI000529CB21\n",
       "3   unmapped-49-contig_list_contig_324-0         UniRef90_E1BYF3\n",
       "6   unmapped-49-contig_list_contig_324-0     UniRef90_A0A091MSQ3\n",
       "8   unmapped-49-contig_list_contig_324-0         UniRef90_V8NW96\n",
       "11  unmapped-49-contig_list_contig_324-0  UniRef90_UPI0003EDEAFD"
      ]
     },
     "execution_count": 9,
     "metadata": {},
     "output_type": "execute_result"
    }
   ],
   "source": [
    "genes_from_blast = pd.concat([blast['qseqid'],blast['sseqid']],axis=1)\n",
    "genes_from_blast.drop_duplicates(inplace=True)\n",
    "genes_from_blast.head()"
   ]
  },
  {
   "cell_type": "code",
   "execution_count": 12,
   "metadata": {
    "collapsed": false
   },
   "outputs": [],
   "source": [
    "gene_to_trans = pd.concat([records['header'],records['header']],axis=1)\n",
    "gene_to_trans.to_csv('/home/bay001/projects/kes_20160307/data/RSEM/gene_to_trans.map',\n",
    "                    sep='\\t',\n",
    "                    header=None,\n",
    "                    index=None)"
   ]
  },
  {
   "cell_type": "code",
   "execution_count": null,
   "metadata": {
    "collapsed": true
   },
   "outputs": [],
   "source": []
  }
 ],
 "metadata": {
  "kernelspec": {
   "display_name": "Python 2",
   "language": "python",
   "name": "python2"
  },
  "language_info": {
   "codemirror_mode": {
    "name": "ipython",
    "version": 2
   },
   "file_extension": ".py",
   "mimetype": "text/x-python",
   "name": "python",
   "nbconvert_exporter": "python",
   "pygments_lexer": "ipython2",
   "version": "2.7.12"
  }
 },
 "nbformat": 4,
 "nbformat_minor": 1
}
