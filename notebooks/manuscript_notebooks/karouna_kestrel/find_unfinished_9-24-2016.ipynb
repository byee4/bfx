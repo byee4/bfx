{
 "cells": [
  {
   "cell_type": "markdown",
   "metadata": {},
   "source": [
    "# Search log files for unfinished alignments.\n",
    "- logic: each successful alignment will always report the number of queries aligned. If walltime exceeds limit, the logfile will not report this. With this notebook, I can check for the existence of 'queries aligned' in each logfile, and determine which alignment has quit unexpectedly."
   ]
  },
  {
   "cell_type": "code",
   "execution_count": 1,
   "metadata": {
    "collapsed": true
   },
   "outputs": [],
   "source": [
    "import pandas as pd"
   ]
  },
  {
   "cell_type": "code",
   "execution_count": 2,
   "metadata": {
    "collapsed": true
   },
   "outputs": [],
   "source": [
    "wd = '/home/bay001/projects/kes_20160307/data/diamond/part*.log'"
   ]
  },
  {
   "cell_type": "code",
   "execution_count": 3,
   "metadata": {
    "collapsed": true
   },
   "outputs": [],
   "source": [
    "d = !grep -L 'queries aligned.' $wd"
   ]
  },
  {
   "cell_type": "code",
   "execution_count": 4,
   "metadata": {
    "collapsed": false
   },
   "outputs": [
    {
     "data": {
      "text/plain": [
       "['/home/bay001/projects/kes_20160307/data/diamond/part_199.log']"
      ]
     },
     "execution_count": 4,
     "metadata": {},
     "output_type": "execute_result"
    }
   ],
   "source": [
    "d"
   ]
  },
  {
   "cell_type": "code",
   "execution_count": 8,
   "metadata": {
    "collapsed": false
   },
   "outputs": [
    {
     "name": "stdout",
     "output_type": "stream",
     "text": [
      "==> /home/bay001/projects/kes_20160307/data/diamond/part_199.blast <==\n",
      "unmapped-49-contig_list_contig_48772-0\tUniRef90_K9IRA3\t72.5\t120\t29\t2\t1\t360\t2\t117\t1.1e-38\t166.8\n",
      "unmapped-49-contig_list_contig_48772-0\tUniRef90_UPI000625F7DC\t72.5\t120\t29\t2\t1\t360\t85\t200\t1.1e-38\t166.8\n",
      "unmapped-49-contig_list_contig_48772-0\tUniRef90_B4DI77\t72.5\t120\t29\t2\t1\t360\t229\t344\t1.1e-38\t166.8\n",
      "unmapped-49-contig_list_contig_48772-0\tUniRef90_UPI0003288E02\t72.5\t120\t29\t2\t1\t360\t210\t325\t1.9e-38\t166.0\n",
      "unmapped-49-contig_list_contig_48772-0\tUniRef90_U4MKU1\t71.7\t120\t30\t2\t1\t360\t229\t344\t1.9e-38\t166.0\n",
      "unmapped-49-contig_list_contig_90355-0\tUniRef90_K7G2I0\t81.7\t82\t15\t0\t117\t362\t2\t83\t3.2e-33\t148.7\n",
      "unmapped-49-contig_list_contig_90355-0\tUniRef90_B5FY46\t96.6\t29\t1\t0\t276\t362\t1\t29\t1.0e-07\t63.9\n",
      "unmapped-49-contig_list_contig_90355-0\tUniRef90_UPI00046C0E7B\t86.2\t29\t4\t0\t276\t362\t1\t29\t7.4e-06\t57.8\n",
      "unmapped-49-contig_list_contig_90355-0\tUniRef90_F6T6I1\t86.2\t29\t4\t0\t276\t362\t1\t29\t7.4e-06\t57.8\n",
      "unmapped-49-contig_list_contig_90355-0\tUniRef90_UPI0003EACA46\t75.9\t29\t7\t0\t276\t362\t1\t29\t5.3e-04\t51.6\n",
      "\n",
      "==> /home/bay001/projects/kes_20160307/data/diamond/part_199.log <==\n",
      "\n",
      "==> /home/bay001/projects/kes_20160307/data/diamond/part_199.log.original <==\n",
      "Loading reference sequences...  [3e-05s]\n",
      "Deallocating buffers...  [2e-06s]\n",
      "Joining output blocks...  [0.087036s]\n",
      "Deallocating queries...  [5e-06s]\n",
      "Loading query sequences...  [9e-06s]\n",
      "Closing the output file...  [0.000144s]\n",
      "Closing the database file...  [4e-06s]\n",
      "Total time = 30680.9s\n",
      "Reported 1343 pairwise alignments, 2194 HSSPs.\n",
      "72 queries aligned.\n"
     ]
    }
   ],
   "source": [
    "! tail /home/bay001/projects/kes_20160307/data/diamond/part_199*"
   ]
  },
  {
   "cell_type": "code",
   "execution_count": 7,
   "metadata": {
    "collapsed": false
   },
   "outputs": [
    {
     "name": "stdout",
     "output_type": "stream",
     "text": [
      "2194 /home/bay001/projects/kes_20160307/data/diamond/part_199.blast\r\n"
     ]
    }
   ],
   "source": [
    "! wc -l /home/bay001/projects/kes_20160307/data/diamond/part_199.blast"
   ]
  },
  {
   "cell_type": "code",
   "execution_count": null,
   "metadata": {
    "collapsed": true
   },
   "outputs": [],
   "source": []
  }
 ],
 "metadata": {
  "kernelspec": {
   "display_name": "Python 2",
   "language": "python",
   "name": "python2"
  },
  "language_info": {
   "codemirror_mode": {
    "name": "ipython",
    "version": 2
   },
   "file_extension": ".py",
   "mimetype": "text/x-python",
   "name": "python",
   "nbconvert_exporter": "python",
   "pygments_lexer": "ipython2",
   "version": "2.7.12"
  }
 },
 "nbformat": 4,
 "nbformat_minor": 1
}
