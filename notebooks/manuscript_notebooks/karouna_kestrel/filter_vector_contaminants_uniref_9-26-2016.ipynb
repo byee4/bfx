{
 "cells": [
  {
   "cell_type": "code",
   "execution_count": 1,
   "metadata": {
    "collapsed": true
   },
   "outputs": [],
   "source": [
    "import pandas as pd\n",
    "import numpy as np\n",
    "import os"
   ]
  },
  {
   "cell_type": "code",
   "execution_count": 10,
   "metadata": {
    "collapsed": true
   },
   "outputs": [],
   "source": [
    "previous = '/home/bay001/projects/kes_20160307/data/kestrel5-reclustered.no-aerv.no-mtdna.fasta'\n",
    "current = '/home/bay001/projects/kes_20160307/data/kestrel5-reclustered.no-aerv.no-mtdna.no-vec.fasta'\n",
    "blast_file = '/home/bay001/projects/kes_20160307/data/blast/univec.outfmt6'\n",
    "blast_head = ['qseqid', 'sseqid', 'pident', 'length', 'mismatch',\n",
    "              'gapopen', 'qstart', 'qend', 'sstart', 'send',\n",
    "              'evalue', 'bitscore']"
   ]
  },
  {
   "cell_type": "code",
   "execution_count": 11,
   "metadata": {
    "collapsed": false
   },
   "outputs": [
    {
     "data": {
      "text/html": [
       "<div>\n",
       "<table border=\"1\" class=\"dataframe\">\n",
       "  <thead>\n",
       "    <tr style=\"text-align: right;\">\n",
       "      <th></th>\n",
       "      <th>qseqid</th>\n",
       "      <th>sseqid</th>\n",
       "      <th>pident</th>\n",
       "      <th>length</th>\n",
       "      <th>mismatch</th>\n",
       "      <th>gapopen</th>\n",
       "      <th>qstart</th>\n",
       "      <th>qend</th>\n",
       "      <th>sstart</th>\n",
       "      <th>send</th>\n",
       "      <th>evalue</th>\n",
       "      <th>bitscore</th>\n",
       "    </tr>\n",
       "  </thead>\n",
       "  <tbody>\n",
       "    <tr>\n",
       "      <th>0</th>\n",
       "      <td>unmapped-49-contig_list_contig_12847-0</td>\n",
       "      <td>gnl|uv|AF102576.1:1-3461</td>\n",
       "      <td>84.433</td>\n",
       "      <td>3122</td>\n",
       "      <td>466</td>\n",
       "      <td>12</td>\n",
       "      <td>200</td>\n",
       "      <td>3314</td>\n",
       "      <td>109</td>\n",
       "      <td>3217</td>\n",
       "      <td>0.000000e+00</td>\n",
       "      <td>3055.0</td>\n",
       "    </tr>\n",
       "    <tr>\n",
       "      <th>1</th>\n",
       "      <td>EC-4AK111_TAGCTT_R1_(paired)_contig_2865-0</td>\n",
       "      <td>gnl|uv|NGB00856.1:1-64</td>\n",
       "      <td>100.000</td>\n",
       "      <td>37</td>\n",
       "      <td>0</td>\n",
       "      <td>0</td>\n",
       "      <td>5567</td>\n",
       "      <td>5603</td>\n",
       "      <td>64</td>\n",
       "      <td>28</td>\n",
       "      <td>6.410000e-12</td>\n",
       "      <td>69.4</td>\n",
       "    </tr>\n",
       "    <tr>\n",
       "      <th>2</th>\n",
       "      <td>EC-4AK111_TAGCTT_R1_(paired)_contig_2865-0</td>\n",
       "      <td>gnl|uv|NGB00856.1:1-64</td>\n",
       "      <td>100.000</td>\n",
       "      <td>30</td>\n",
       "      <td>0</td>\n",
       "      <td>0</td>\n",
       "      <td>4367</td>\n",
       "      <td>4396</td>\n",
       "      <td>35</td>\n",
       "      <td>64</td>\n",
       "      <td>4.990000e-08</td>\n",
       "      <td>56.5</td>\n",
       "    </tr>\n",
       "    <tr>\n",
       "      <th>3</th>\n",
       "      <td>unmapped-49-contig_list_contig_10383-0</td>\n",
       "      <td>gnl|uv|J02482.1:1-5386-49</td>\n",
       "      <td>99.684</td>\n",
       "      <td>5065</td>\n",
       "      <td>16</td>\n",
       "      <td>0</td>\n",
       "      <td>322</td>\n",
       "      <td>5386</td>\n",
       "      <td>5435</td>\n",
       "      <td>371</td>\n",
       "      <td>0.000000e+00</td>\n",
       "      <td>9265.0</td>\n",
       "    </tr>\n",
       "    <tr>\n",
       "      <th>4</th>\n",
       "      <td>unmapped-49-contig_list_contig_10383-0</td>\n",
       "      <td>gnl|uv|J02482.1:1-5386-49</td>\n",
       "      <td>100.000</td>\n",
       "      <td>370</td>\n",
       "      <td>0</td>\n",
       "      <td>0</td>\n",
       "      <td>1</td>\n",
       "      <td>370</td>\n",
       "      <td>370</td>\n",
       "      <td>1</td>\n",
       "      <td>0.000000e+00</td>\n",
       "      <td>684.0</td>\n",
       "    </tr>\n",
       "  </tbody>\n",
       "</table>\n",
       "</div>"
      ],
      "text/plain": [
       "                                       qseqid                     sseqid  \\\n",
       "0      unmapped-49-contig_list_contig_12847-0   gnl|uv|AF102576.1:1-3461   \n",
       "1  EC-4AK111_TAGCTT_R1_(paired)_contig_2865-0     gnl|uv|NGB00856.1:1-64   \n",
       "2  EC-4AK111_TAGCTT_R1_(paired)_contig_2865-0     gnl|uv|NGB00856.1:1-64   \n",
       "3      unmapped-49-contig_list_contig_10383-0  gnl|uv|J02482.1:1-5386-49   \n",
       "4      unmapped-49-contig_list_contig_10383-0  gnl|uv|J02482.1:1-5386-49   \n",
       "\n",
       "    pident  length  mismatch  gapopen  qstart  qend  sstart  send  \\\n",
       "0   84.433    3122       466       12     200  3314     109  3217   \n",
       "1  100.000      37         0        0    5567  5603      64    28   \n",
       "2  100.000      30         0        0    4367  4396      35    64   \n",
       "3   99.684    5065        16        0     322  5386    5435   371   \n",
       "4  100.000     370         0        0       1   370     370     1   \n",
       "\n",
       "         evalue  bitscore  \n",
       "0  0.000000e+00    3055.0  \n",
       "1  6.410000e-12      69.4  \n",
       "2  4.990000e-08      56.5  \n",
       "3  0.000000e+00    9265.0  \n",
       "4  0.000000e+00     684.0  "
      ]
     },
     "execution_count": 11,
     "metadata": {},
     "output_type": "execute_result"
    }
   ],
   "source": [
    "blast = pd.read_table(blast_file,names=blast_head)\n",
    "blast.head()"
   ]
  },
  {
   "cell_type": "code",
   "execution_count": 12,
   "metadata": {
    "collapsed": false
   },
   "outputs": [
    {
     "name": "stdout",
     "output_type": "stream",
     "text": [
      "(152, 12)\n",
      "(79, 12)\n",
      "(78, 13)\n"
     ]
    },
    {
     "data": {
      "text/html": [
       "<div>\n",
       "<table border=\"1\" class=\"dataframe\">\n",
       "  <thead>\n",
       "    <tr style=\"text-align: right;\">\n",
       "      <th></th>\n",
       "      <th>qseqid</th>\n",
       "      <th>sseqid</th>\n",
       "      <th>pident</th>\n",
       "      <th>length</th>\n",
       "      <th>mismatch</th>\n",
       "      <th>gapopen</th>\n",
       "      <th>qstart</th>\n",
       "      <th>qend</th>\n",
       "      <th>sstart</th>\n",
       "      <th>send</th>\n",
       "      <th>evalue</th>\n",
       "      <th>bitscore</th>\n",
       "      <th>uniref</th>\n",
       "    </tr>\n",
       "  </thead>\n",
       "  <tbody>\n",
       "    <tr>\n",
       "      <th>0</th>\n",
       "      <td>unmapped-49-contig_list_contig_12847-0</td>\n",
       "      <td>gnl|uv|AF102576.1:1-3461</td>\n",
       "      <td>84.433</td>\n",
       "      <td>3122</td>\n",
       "      <td>466</td>\n",
       "      <td>12</td>\n",
       "      <td>200</td>\n",
       "      <td>3314</td>\n",
       "      <td>109</td>\n",
       "      <td>3217</td>\n",
       "      <td>0.000000e+00</td>\n",
       "      <td>3055.0</td>\n",
       "      <td>gnl|uv|AF102576.1:1-3461</td>\n",
       "    </tr>\n",
       "    <tr>\n",
       "      <th>3</th>\n",
       "      <td>unmapped-49-contig_list_contig_10383-0</td>\n",
       "      <td>gnl|uv|J02482.1:1-5386-49</td>\n",
       "      <td>99.684</td>\n",
       "      <td>5065</td>\n",
       "      <td>16</td>\n",
       "      <td>0</td>\n",
       "      <td>322</td>\n",
       "      <td>5386</td>\n",
       "      <td>5435</td>\n",
       "      <td>371</td>\n",
       "      <td>0.000000e+00</td>\n",
       "      <td>9265.0</td>\n",
       "      <td>gnl|uv|J02482.1:1-5386-49</td>\n",
       "    </tr>\n",
       "    <tr>\n",
       "      <th>31</th>\n",
       "      <td>unmapped-49-contig_list_contig_52224-0</td>\n",
       "      <td>gnl|uv|AF102576.1:1-3461</td>\n",
       "      <td>85.179</td>\n",
       "      <td>560</td>\n",
       "      <td>81</td>\n",
       "      <td>2</td>\n",
       "      <td>8</td>\n",
       "      <td>566</td>\n",
       "      <td>1090</td>\n",
       "      <td>532</td>\n",
       "      <td>4.680000e-164</td>\n",
       "      <td>573.0</td>\n",
       "      <td>gnl|uv|AF102576.1:1-3461</td>\n",
       "    </tr>\n",
       "    <tr>\n",
       "      <th>92</th>\n",
       "      <td>unmapped-49-contig_list_contig_38808-0</td>\n",
       "      <td>gnl|uv|AF102576.1:1-3461</td>\n",
       "      <td>75.763</td>\n",
       "      <td>557</td>\n",
       "      <td>120</td>\n",
       "      <td>14</td>\n",
       "      <td>178</td>\n",
       "      <td>727</td>\n",
       "      <td>561</td>\n",
       "      <td>13</td>\n",
       "      <td>3.740000e-72</td>\n",
       "      <td>267.0</td>\n",
       "      <td>gnl|uv|AF102576.1:1-3461</td>\n",
       "    </tr>\n",
       "    <tr>\n",
       "      <th>109</th>\n",
       "      <td>unmapped-49-contig_list_contig_51291-0</td>\n",
       "      <td>gnl|uv|JN874480.1:6795-9434</td>\n",
       "      <td>88.608</td>\n",
       "      <td>158</td>\n",
       "      <td>18</td>\n",
       "      <td>0</td>\n",
       "      <td>361</td>\n",
       "      <td>518</td>\n",
       "      <td>2431</td>\n",
       "      <td>2588</td>\n",
       "      <td>4.870000e-50</td>\n",
       "      <td>193.0</td>\n",
       "      <td>gnl|uv|JN874480.1:6795-9434</td>\n",
       "    </tr>\n",
       "  </tbody>\n",
       "</table>\n",
       "</div>"
      ],
      "text/plain": [
       "                                     qseqid                       sseqid  \\\n",
       "0    unmapped-49-contig_list_contig_12847-0     gnl|uv|AF102576.1:1-3461   \n",
       "3    unmapped-49-contig_list_contig_10383-0    gnl|uv|J02482.1:1-5386-49   \n",
       "31   unmapped-49-contig_list_contig_52224-0     gnl|uv|AF102576.1:1-3461   \n",
       "92   unmapped-49-contig_list_contig_38808-0     gnl|uv|AF102576.1:1-3461   \n",
       "109  unmapped-49-contig_list_contig_51291-0  gnl|uv|JN874480.1:6795-9434   \n",
       "\n",
       "     pident  length  mismatch  gapopen  qstart  qend  sstart  send  \\\n",
       "0    84.433    3122       466       12     200  3314     109  3217   \n",
       "3    99.684    5065        16        0     322  5386    5435   371   \n",
       "31   85.179     560        81        2       8   566    1090   532   \n",
       "92   75.763     557       120       14     178   727     561    13   \n",
       "109  88.608     158        18        0     361   518    2431  2588   \n",
       "\n",
       "            evalue  bitscore                       uniref  \n",
       "0     0.000000e+00    3055.0     gnl|uv|AF102576.1:1-3461  \n",
       "3     0.000000e+00    9265.0    gnl|uv|J02482.1:1-5386-49  \n",
       "31   4.680000e-164     573.0     gnl|uv|AF102576.1:1-3461  \n",
       "92    3.740000e-72     267.0     gnl|uv|AF102576.1:1-3461  \n",
       "109   4.870000e-50     193.0  gnl|uv|JN874480.1:6795-9434  "
      ]
     },
     "execution_count": 12,
     "metadata": {},
     "output_type": "execute_result"
    }
   ],
   "source": [
    "print(blast.shape)\n",
    "blast = blast[blast['evalue'] < 1e-10]\n",
    "print(blast.shape)\n",
    "blast['uniref'] = blast['sseqid'].str.replace('UniRef90_','')\n",
    "blast.sort_values(by='evalue',inplace=True)\n",
    "blast.drop_duplicates('qseqid',inplace=True)\n",
    "print(blast.shape)\n",
    "blast.head()"
   ]
  },
  {
   "cell_type": "code",
   "execution_count": 13,
   "metadata": {
    "collapsed": false
   },
   "outputs": [
    {
     "data": {
      "text/plain": [
       "78"
      ]
     },
     "execution_count": 13,
     "metadata": {},
     "output_type": "execute_result"
    }
   ],
   "source": [
    "filter_these_contigs = list(blast['qseqid'])\n",
    "len(filter_these_contigs)"
   ]
  },
  {
   "cell_type": "code",
   "execution_count": 6,
   "metadata": {
    "collapsed": false
   },
   "outputs": [],
   "source": []
  },
  {
   "cell_type": "code",
   "execution_count": 14,
   "metadata": {
    "collapsed": false
   },
   "outputs": [
    {
     "name": "stdout",
     "output_type": "stream",
     "text": [
      "1 2 3 4 5 6 7 8 9 10 11 12 13 14 15 16 17 18 19 20 21 22 23 24 25 26 27 28 29 30 31 32 33 34 35 36 37 38 39 40 41 42 43 44 45 46 47 48 49 50 51 52 53 54 55 56 57 58 59 60 61 62 63 64 65 66 67 68 69 70 71 72 73 74 75 76 77 78\n"
     ]
    }
   ],
   "source": [
    "from Bio import SeqIO\n",
    "records = []\n",
    "i = 0\n",
    "handle = open(previous, \"rU\")\n",
    "for record in SeqIO.parse(handle, \"fasta\"):\n",
    "    if record.id not in filter_these_contigs:\n",
    "        records.append(record)\n",
    "    else:\n",
    "        i = i + 1\n",
    "        print(i),\n",
    "        \n",
    "SeqIO.write(records,current,\"fasta\")\n",
    "handle.close()"
   ]
  },
  {
   "cell_type": "code",
   "execution_count": 17,
   "metadata": {
    "collapsed": false
   },
   "outputs": [
    {
     "name": "stdout",
     "output_type": "stream",
     "text": [
      "284808\r\n"
     ]
    }
   ],
   "source": [
    "! grep '>' $previous | wc -l"
   ]
  },
  {
   "cell_type": "code",
   "execution_count": 18,
   "metadata": {
    "collapsed": false
   },
   "outputs": [
    {
     "name": "stdout",
     "output_type": "stream",
     "text": [
      "284730\r\n"
     ]
    }
   ],
   "source": [
    "! grep '>' $current | wc -l"
   ]
  },
  {
   "cell_type": "code",
   "execution_count": null,
   "metadata": {
    "collapsed": true
   },
   "outputs": [],
   "source": []
  }
 ],
 "metadata": {
  "kernelspec": {
   "display_name": "Python 2",
   "language": "python",
   "name": "python2"
  },
  "language_info": {
   "codemirror_mode": {
    "name": "ipython",
    "version": 2
   },
   "file_extension": ".py",
   "mimetype": "text/x-python",
   "name": "python",
   "nbconvert_exporter": "python",
   "pygments_lexer": "ipython2",
   "version": "2.7.12"
  }
 },
 "nbformat": 4,
 "nbformat_minor": 1
}
