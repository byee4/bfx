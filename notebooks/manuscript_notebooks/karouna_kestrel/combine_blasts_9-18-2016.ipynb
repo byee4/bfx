{
 "cells": [
  {
   "cell_type": "markdown",
   "metadata": {},
   "source": [
    "# Concatenates all separate blast/diamond hits from split scripts into one (all.blast)"
   ]
  },
  {
   "cell_type": "code",
   "execution_count": 7,
   "metadata": {
    "collapsed": true
   },
   "outputs": [],
   "source": [
    "import pandas as pd\n",
    "import os"
   ]
  },
  {
   "cell_type": "code",
   "execution_count": 8,
   "metadata": {
    "collapsed": true
   },
   "outputs": [],
   "source": [
    "wd = '/home/bay001/projects/kes_20160307/org/03_output/blast_diamond/all.blast'\n",
    "# wd = '/home/bay001/projects/kes_20160307/data/diamond/' # original location\n",
    "allfile = os.path.join(wd,'all.blast')"
   ]
  },
  {
   "cell_type": "code",
   "execution_count": 11,
   "metadata": {
    "collapsed": true
   },
   "outputs": [],
   "source": [
    "blasts = ! find $wd*.blast -type f ! -empty"
   ]
  },
  {
   "cell_type": "code",
   "execution_count": 12,
   "metadata": {
    "collapsed": false
   },
   "outputs": [],
   "source": [
    "o = open(allfile,'w')\n",
    "for i in range(0,len(blasts)):\n",
    "    a = open(blasts[i],'r')\n",
    "    for line in a:\n",
    "        o.write(line)\n",
    "    a.close()\n",
    "o.close()"
   ]
  },
  {
   "cell_type": "code",
   "execution_count": 13,
   "metadata": {
    "collapsed": false
   },
   "outputs": [
    {
     "name": "stdout",
     "output_type": "stream",
     "text": [
      "unmapped-49-contig_list_contig_324-0\tUniRef90_UPI000529CB21\t99.5\t187\t1\t0\t31453\t30893\t70\t256\t2.3e-104\t392.1\r\n",
      "unmapped-49-contig_list_contig_324-0\tUniRef90_UPI000529CB21\t82.5\t80\t9\t3\t36063\t35827\t1\t76\t3.1e-24\t125.9\r\n",
      "unmapped-49-contig_list_contig_324-0\tUniRef90_UPI000529CB21\t100.0\t26\t0\t0\t27759\t27682\t256\t281\t2.7e-04\t59.7\r\n",
      "unmapped-49-contig_list_contig_324-0\tUniRef90_E1BYF3\t99.5\t187\t1\t0\t31453\t30893\t70\t256\t2.3e-104\t392.1\r\n",
      "unmapped-49-contig_list_contig_324-0\tUniRef90_E1BYF3\t97.5\t121\t3\t0\t27759\t27397\t256\t376\t2.6e-60\t245.7\r\n",
      "unmapped-49-contig_list_contig_324-0\tUniRef90_E1BYF3\t82.5\t80\t9\t3\t36063\t35827\t1\t76\t3.1e-24\t125.9\r\n",
      "unmapped-49-contig_list_contig_324-0\tUniRef90_A0A091MSQ3\t98.9\t187\t2\t0\t31453\t30893\t70\t256\t6.7e-104\t390.6\r\n",
      "unmapped-49-contig_list_contig_324-0\tUniRef90_A0A091MSQ3\t81.2\t80\t10\t3\t36063\t35827\t1\t76\t1.5e-23\t123.6\r\n",
      "unmapped-49-contig_list_contig_324-0\tUniRef90_V8NW96\t91.3\t196\t15\t1\t31453\t30872\t70\t265\t4.5e-100\t377.9\r\n",
      "unmapped-49-contig_list_contig_324-0\tUniRef90_V8NW96\t89.5\t95\t10\t0\t27681\t27397\t255\t349\t1.5e-39\t176.8\r\n"
     ]
    }
   ],
   "source": [
    "! head /home/bay001/projects/kes_20160307/data/diamond/all.blast"
   ]
  },
  {
   "cell_type": "code",
   "execution_count": null,
   "metadata": {
    "collapsed": true
   },
   "outputs": [],
   "source": []
  }
 ],
 "metadata": {
  "kernelspec": {
   "display_name": "Python 2",
   "language": "python",
   "name": "python2"
  },
  "language_info": {
   "codemirror_mode": {
    "name": "ipython",
    "version": 2
   },
   "file_extension": ".py",
   "mimetype": "text/x-python",
   "name": "python",
   "nbconvert_exporter": "python",
   "pygments_lexer": "ipython2",
   "version": "2.7.12"
  }
 },
 "nbformat": 4,
 "nbformat_minor": 1
}
