{
 "cells": [
  {
   "cell_type": "markdown",
   "metadata": {},
   "source": [
    "# Provides an ensembl id -> gene name translation using biomart"
   ]
  },
  {
   "cell_type": "code",
   "execution_count": 2,
   "metadata": {},
   "outputs": [],
   "source": [
    "import pandas as pd"
   ]
  },
  {
   "cell_type": "code",
   "execution_count": 3,
   "metadata": {},
   "outputs": [
    {
     "data": {
      "text/html": [
       "<div>\n",
       "<table border=\"1\" class=\"dataframe\">\n",
       "  <thead>\n",
       "    <tr style=\"text-align: right;\">\n",
       "      <th></th>\n",
       "      <th>Associated Gene Name</th>\n",
       "      <th>Description</th>\n",
       "      <th>WikiGene Description</th>\n",
       "      <th>Gene type</th>\n",
       "    </tr>\n",
       "    <tr>\n",
       "      <th>Ensembl Gene ID</th>\n",
       "      <th></th>\n",
       "      <th></th>\n",
       "      <th></th>\n",
       "      <th></th>\n",
       "    </tr>\n",
       "  </thead>\n",
       "  <tbody>\n",
       "    <tr>\n",
       "      <th>ENSGALG00000041922</th>\n",
       "      <td>-</td>\n",
       "      <td>-</td>\n",
       "      <td>-</td>\n",
       "      <td>Mt_tRNA</td>\n",
       "    </tr>\n",
       "    <tr>\n",
       "      <th>ENSGALG00000036956</th>\n",
       "      <td>-</td>\n",
       "      <td>-</td>\n",
       "      <td>-</td>\n",
       "      <td>Mt_rRNA</td>\n",
       "    </tr>\n",
       "  </tbody>\n",
       "</table>\n",
       "</div>"
      ]
     },
     "output_type": "execute_result",
     "metadata": {}
    }
   ],
   "source": [
    "ens2gene = pd.read_table('/home/bay001/projects/kes_20160307/org/00_data/references/biomart/chicken_biomart.txt',\n",
    "                        index_col=0).fillna('-')\n",
    "ens2gene.head(2)"
   ]
  },
  {
   "cell_type": "code",
   "execution_count": 46,
   "metadata": {},
   "outputs": [],
   "source": [
    "# uses an old directory convention. These should now be in: /home/bay001/projects/kes_20160307/org/03_output/differential_expression/current\n",
    "date = \"10-11-2016\"\n",
    "sccp = '/home/bay001/projects/kes_20160307/permanent_data/{}/SCCP_vs_CONTROL/diffexp.csv'.format(date)\n",
    "sccp_m = '/home/bay001/projects/kes_20160307/permanent_data/{}/SCCP_vs_CONTROL_MALE/diffexp.csv'.format(date)\n",
    "sccp_f = '/home/bay001/projects/kes_20160307/permanent_data/{}/SCCP_vs_CONTROL_FEMALE/diffexp.csv'.format(date)\n",
    "\n",
    "tbbpa = '/home/bay001/projects/kes_20160307/permanent_data/{}/TBBPA_vs_CONTROL/diffexp.csv'.format(date)\n",
    "tbbpa_m = '/home/bay001/projects/kes_20160307/permanent_data/{}/TBBPA_vs_CONTROL_MALE/diffexp.csv'.format(date)\n",
    "tbbpa_f = '/home/bay001/projects/kes_20160307/permanent_data/{}/TBBPA_vs_CONTROL_FEMALE/diffexp.csv'.format(date)"
   ]
  },
  {
   "cell_type": "code",
   "execution_count": 47,
   "metadata": {},
   "outputs": [],
   "source": [
    "tomap = [sccp,sccp_m,sccp_f,tbbpa,tbbpa_m,tbbpa_f]\n",
    "for m in tomap:\n",
    "    df = pd.read_table(m,sep=',',index_col=0).fillna('-')\n",
    "    X = pd.merge(ens2gene,df,how='right',left_index=True,right_index=True).sort_values(['pvalue','log2FoldChange'])\n",
    "    X.to_csv(m.replace('.csv','.annotated.csv'))"
   ]
  },
  {
   "cell_type": "code",
   "execution_count": 31,
   "metadata": {},
   "outputs": [
    {
     "name": "stdout",
     "output_type": "stream",
     "text": [
      "/home/bay001/processing_scripts/kes_20160307/scripts\r\n"
     ]
    }
   ],
   "source": [
    ""
   ]
  },
  {
   "cell_type": "code",
   "execution_count": null,
   "metadata": {},
   "outputs": [],
   "source": [
    ""
   ]
  }
 ],
 "metadata": {
  "kernelspec": {
   "display_name": "Python 2",
   "language": "python",
   "name": "python2"
  },
  "language_info": {
   "codemirror_mode": {
    "name": "ipython",
    "version": 2.0
   },
   "file_extension": ".py",
   "mimetype": "text/x-python",
   "name": "python",
   "nbconvert_exporter": "python",
   "pygments_lexer": "ipython2",
   "version": "2.7.12"
  }
 },
 "nbformat": 4,
 "nbformat_minor": 1
}