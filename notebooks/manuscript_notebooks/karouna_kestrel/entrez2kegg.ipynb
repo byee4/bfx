{
 "cells": [
  {
   "cell_type": "markdown",
   "metadata": {},
   "source": [
    "# From the fasta and clustered fasta gene sequences, return a list of genes that are interesting to the study."
   ]
  },
  {
   "cell_type": "code",
   "execution_count": 1,
   "metadata": {
    "collapsed": true
   },
   "outputs": [],
   "source": [
    "import pandas as pd\n",
    "import numpy as np\n",
    "import os\n",
    "import glob\n",
    "from tqdm import tnrange, tqdm_notebook\n",
    "from Bio import SeqIO"
   ]
  },
  {
   "cell_type": "code",
   "execution_count": 2,
   "metadata": {
    "collapsed": true
   },
   "outputs": [],
   "source": [
    "def get_seq(row):\n",
    "    if row['contig_name'] == '-':\n",
    "        return '-'\n",
    "    assembly = '/home/bay001/projects/kes_20160307/org/03_output/assembly/gene_sequences/kestrel_blast_clustered_transcripts.fa'\n",
    "    name = row['contig_name']\n",
    "    handle = open(assembly, \"rU\")\n",
    "    for record in SeqIO.parse(handle, \"fasta\"):\n",
    "        if name in record.id:\n",
    "            handle.close()\n",
    "            return(str(record.seq))"
   ]
  },
  {
   "cell_type": "code",
   "execution_count": 3,
   "metadata": {
    "collapsed": true
   },
   "outputs": [],
   "source": [
    "# get all the genes\n",
    "seqs = glob.glob('/home/bay001/projects/kes_20160307/org/03_output/assembly/gene_sequences/*.clustered.fasta')\n",
    "ensembl_genes = '/home/bay001/projects/kes_20160307/org/03_output/assembly/ensembl_genes.txt'\n",
    "if not os.path.exists(ensembl_genes):\n",
    "    with open(ensembl_genes,'w') as f:\n",
    "        f.write('Gene\\n')\n",
    "        for seq in seqs:\n",
    "            f.write(os.path.basename(seq.replace('.clustered.fasta','')+\"\\n\"))"
   ]
  },
  {
   "cell_type": "code",
   "execution_count": 4,
   "metadata": {
    "collapsed": false
   },
   "outputs": [
    {
     "data": {
      "text/plain": [
       "(12756, 3)"
      ]
     },
     "execution_count": 4,
     "metadata": {},
     "output_type": "execute_result"
    }
   ],
   "source": [
    "ensembl2desc = pd.read_table(\n",
    "    '/home/bay001/projects/kes_20160307/org/03_output/csvs/ensembl-genename-description.tsv',\n",
    "    sep='\\t'\n",
    ")\n",
    "ensembl2desc.head(2)\n",
    "ensembl2desc.shape"
   ]
  },
  {
   "cell_type": "code",
   "execution_count": 5,
   "metadata": {
    "collapsed": false
   },
   "outputs": [
    {
     "data": {
      "text/plain": [
       "(38289, 3)"
      ]
     },
     "execution_count": 5,
     "metadata": {},
     "output_type": "execute_result"
    }
   ],
   "source": [
    "# apply sequence attributes\n",
    "contig2ensembl = pd.read_table(\n",
    "    '/home/bay001/projects/kes_20160307/org/03_output/csvs/contig_and_gene_name.txt'\n",
    ")\n",
    "contig2ensembl.shape"
   ]
  },
  {
   "cell_type": "code",
   "execution_count": 6,
   "metadata": {
    "collapsed": false
   },
   "outputs": [
    {
     "data": {
      "text/html": [
       "<div>\n",
       "<table border=\"1\" class=\"dataframe\">\n",
       "  <thead>\n",
       "    <tr style=\"text-align: right;\">\n",
       "      <th></th>\n",
       "      <th>contig_name</th>\n",
       "      <th>Gene ID</th>\n",
       "      <th>Description</th>\n",
       "      <th>Associated Gene Name</th>\n",
       "    </tr>\n",
       "  </thead>\n",
       "  <tbody>\n",
       "    <tr>\n",
       "      <th>0</th>\n",
       "      <td>unmapped-49-contig_list_contig_33037-0</td>\n",
       "      <td>ENSGALG00000012304</td>\n",
       "      <td>Gallus gallus nuclear factor of kappa light po...</td>\n",
       "      <td>NFKB1</td>\n",
       "    </tr>\n",
       "    <tr>\n",
       "      <th>1</th>\n",
       "      <td>EC-4AK111_TAGCTT_R1_(paired)_contig_2427-0</td>\n",
       "      <td>ENSGALG00000012304</td>\n",
       "      <td>Gallus gallus nuclear factor of kappa light po...</td>\n",
       "      <td>NFKB1</td>\n",
       "    </tr>\n",
       "  </tbody>\n",
       "</table>\n",
       "</div>"
      ],
      "text/plain": [
       "                                  contig_name             Gene ID  \\\n",
       "0      unmapped-49-contig_list_contig_33037-0  ENSGALG00000012304   \n",
       "1  EC-4AK111_TAGCTT_R1_(paired)_contig_2427-0  ENSGALG00000012304   \n",
       "\n",
       "                                         Description Associated Gene Name  \n",
       "0  Gallus gallus nuclear factor of kappa light po...                NFKB1  \n",
       "1  Gallus gallus nuclear factor of kappa light po...                NFKB1  "
      ]
     },
     "execution_count": 6,
     "metadata": {},
     "output_type": "execute_result"
    }
   ],
   "source": [
    "# merge the contigs to the gene name/description attributes\n",
    "contig2name = pd.merge(\n",
    "    contig2ensembl,\n",
    "    ensembl2desc,\n",
    "    how='left',\n",
    "    left_on=['ensembl','name'],\n",
    "    right_on=['Gene ID','Associated Gene Name'],\n",
    "    copy=False,\n",
    ")\n",
    "del contig2name['ensembl'] # redundant after merge\n",
    "del contig2name['name'] # redundant after merge\n",
    "contig2name.head(2)"
   ]
  },
  {
   "cell_type": "code",
   "execution_count": 7,
   "metadata": {
    "collapsed": false
   },
   "outputs": [
    {
     "data": {
      "text/html": [
       "<div>\n",
       "<table border=\"1\" class=\"dataframe\">\n",
       "  <thead>\n",
       "    <tr style=\"text-align: right;\">\n",
       "      <th></th>\n",
       "      <th>Gene ID</th>\n",
       "      <th>EntrezGene ID</th>\n",
       "    </tr>\n",
       "  </thead>\n",
       "  <tbody>\n",
       "    <tr>\n",
       "      <th>0</th>\n",
       "      <td>ENSGALG00000041922</td>\n",
       "      <td>-</td>\n",
       "    </tr>\n",
       "    <tr>\n",
       "      <th>1</th>\n",
       "      <td>ENSGALG00000036956</td>\n",
       "      <td>-</td>\n",
       "    </tr>\n",
       "    <tr>\n",
       "      <th>2</th>\n",
       "      <td>ENSGALG00000032059</td>\n",
       "      <td>-</td>\n",
       "    </tr>\n",
       "    <tr>\n",
       "      <th>3</th>\n",
       "      <td>ENSGALG00000043598</td>\n",
       "      <td>-</td>\n",
       "    </tr>\n",
       "    <tr>\n",
       "      <th>4</th>\n",
       "      <td>ENSGALG00000040296</td>\n",
       "      <td>-</td>\n",
       "    </tr>\n",
       "  </tbody>\n",
       "</table>\n",
       "</div>"
      ],
      "text/plain": [
       "              Gene ID EntrezGene ID\n",
       "0  ENSGALG00000041922             -\n",
       "1  ENSGALG00000036956             -\n",
       "2  ENSGALG00000032059             -\n",
       "3  ENSGALG00000043598             -\n",
       "4  ENSGALG00000040296             -"
      ]
     },
     "execution_count": 7,
     "metadata": {},
     "output_type": "execute_result"
    }
   ],
   "source": [
    "# with the help of biomart output\n",
    "ens2entrez = pd.read_table(\n",
    "    '/home/bay001/projects/kes_20160307/org/00_data/references/biomart/ensembl2entrez.txt',\n",
    "    dtype={'EntrezGene ID': str}).fillna('-')\n",
    "ens2entrez.head()"
   ]
  },
  {
   "cell_type": "code",
   "execution_count": 8,
   "metadata": {
    "collapsed": false
   },
   "outputs": [
    {
     "data": {
      "text/html": [
       "<div>\n",
       "<table border=\"1\" class=\"dataframe\">\n",
       "  <thead>\n",
       "    <tr style=\"text-align: right;\">\n",
       "      <th></th>\n",
       "      <th>contig_name</th>\n",
       "      <th>Gene ID</th>\n",
       "      <th>Description</th>\n",
       "      <th>Associated Gene Name</th>\n",
       "      <th>EntrezGene ID</th>\n",
       "    </tr>\n",
       "  </thead>\n",
       "  <tbody>\n",
       "    <tr>\n",
       "      <th>0</th>\n",
       "      <td>unmapped-49-contig_list_contig_33037-0</td>\n",
       "      <td>ENSGALG00000012304</td>\n",
       "      <td>Gallus gallus nuclear factor of kappa light po...</td>\n",
       "      <td>NFKB1</td>\n",
       "      <td>396033</td>\n",
       "    </tr>\n",
       "    <tr>\n",
       "      <th>1</th>\n",
       "      <td>EC-4AK111_TAGCTT_R1_(paired)_contig_2427-0</td>\n",
       "      <td>ENSGALG00000012304</td>\n",
       "      <td>Gallus gallus nuclear factor of kappa light po...</td>\n",
       "      <td>NFKB1</td>\n",
       "      <td>396033</td>\n",
       "    </tr>\n",
       "    <tr>\n",
       "      <th>2</th>\n",
       "      <td>unmapped-49-contig_list_contig_117584-0</td>\n",
       "      <td>ENSGALG00000012304</td>\n",
       "      <td>Gallus gallus nuclear factor of kappa light po...</td>\n",
       "      <td>NFKB1</td>\n",
       "      <td>396033</td>\n",
       "    </tr>\n",
       "    <tr>\n",
       "      <th>3</th>\n",
       "      <td>unmapped-49-contig_list_contig_288882-0</td>\n",
       "      <td>ENSGALG00000012304</td>\n",
       "      <td>Gallus gallus nuclear factor of kappa light po...</td>\n",
       "      <td>NFKB1</td>\n",
       "      <td>396033</td>\n",
       "    </tr>\n",
       "    <tr>\n",
       "      <th>4</th>\n",
       "      <td>unmapped-49-contig_list_contig_35316-0</td>\n",
       "      <td>ENSGALG00000012304</td>\n",
       "      <td>Gallus gallus nuclear factor of kappa light po...</td>\n",
       "      <td>NFKB1</td>\n",
       "      <td>396033</td>\n",
       "    </tr>\n",
       "  </tbody>\n",
       "</table>\n",
       "</div>"
      ],
      "text/plain": [
       "                                  contig_name             Gene ID  \\\n",
       "0      unmapped-49-contig_list_contig_33037-0  ENSGALG00000012304   \n",
       "1  EC-4AK111_TAGCTT_R1_(paired)_contig_2427-0  ENSGALG00000012304   \n",
       "2     unmapped-49-contig_list_contig_117584-0  ENSGALG00000012304   \n",
       "3     unmapped-49-contig_list_contig_288882-0  ENSGALG00000012304   \n",
       "4      unmapped-49-contig_list_contig_35316-0  ENSGALG00000012304   \n",
       "\n",
       "                                         Description Associated Gene Name  \\\n",
       "0  Gallus gallus nuclear factor of kappa light po...                NFKB1   \n",
       "1  Gallus gallus nuclear factor of kappa light po...                NFKB1   \n",
       "2  Gallus gallus nuclear factor of kappa light po...                NFKB1   \n",
       "3  Gallus gallus nuclear factor of kappa light po...                NFKB1   \n",
       "4  Gallus gallus nuclear factor of kappa light po...                NFKB1   \n",
       "\n",
       "  EntrezGene ID  \n",
       "0        396033  \n",
       "1        396033  \n",
       "2        396033  \n",
       "3        396033  \n",
       "4        396033  "
      ]
     },
     "execution_count": 8,
     "metadata": {},
     "output_type": "execute_result"
    }
   ],
   "source": [
    "# merge the ensembl+contig information to the entrez info\n",
    "merged = pd.merge(\n",
    "    contig2name,\n",
    "    ens2entrez,\n",
    "    how='left',\n",
    "    left_on='Gene ID',\n",
    "    right_on='Gene ID'\n",
    ").fillna('-')\n",
    "merged.head()"
   ]
  },
  {
   "cell_type": "markdown",
   "metadata": {},
   "source": [
    "# Map to KEGG"
   ]
  },
  {
   "cell_type": "code",
   "execution_count": 9,
   "metadata": {
    "collapsed": false
   },
   "outputs": [
    {
     "name": "stdout",
     "output_type": "stream",
     "text": [
      "154\n"
     ]
    },
    {
     "data": {
      "text/plain": [
       "['/home/bay001/projects/kes_20160307/org/00_data/references/kegg/gga00650 Butanoate metabolism.txt',\n",
       " '/home/bay001/projects/kes_20160307/org/00_data/references/kegg/gga00591 Linoleic acid metabolism.txt',\n",
       " '/home/bay001/projects/kes_20160307/org/00_data/references/kegg/gga00380 Tryptophan metabolism.txt']"
      ]
     },
     "execution_count": 9,
     "metadata": {},
     "output_type": "execute_result"
    }
   ],
   "source": [
    "# list pathways, from R script output\n",
    "kegg_pathways = glob.glob(\n",
    "    '/home/bay001/projects/kes_20160307/org/00_data/references/kegg/gga*'\n",
    ")\n",
    "print(len(kegg_pathways))\n",
    "kegg_pathways[:3]"
   ]
  },
  {
   "cell_type": "code",
   "execution_count": 22,
   "metadata": {
    "collapsed": false
   },
   "outputs": [],
   "source": [
    "out_dir = '/home/bay001/projects/kes_20160307/org/03_output/kegg/'\n",
    "assembly = '/home/bay001/projects/kes_20160307/org/03_output/assembly/gene_sequences/kestrel_blast_clustered_transcripts.fa'\n",
    "\n",
    "def get_seq(row, assembly=assembly):\n",
    "    if row['contig_name'] == '-':\n",
    "        return '-'\n",
    "    name = row['contig_name']\n",
    "    handle = open(assembly, \"rU\")\n",
    "    for record in SeqIO.parse(handle, \"fasta\"):\n",
    "        if name in record.id:\n",
    "            handle.close()\n",
    "            return(str(record.seq))\n",
    "\n",
    "def create_pathway_lists_and_seq(kegg_pathways, merged):\n",
    "    progress = tnrange(len(kegg_pathways))\n",
    "    for pathway in kegg_pathways:\n",
    "        header = os.path.basename(pathway)\n",
    "        out_file = os.path.join(\n",
    "            out_dir,\n",
    "            header.replace('.txt','.mapped2kestrel.txt').replace(' ','_')\n",
    "        )\n",
    "        pathway_df = pd.read_table(\n",
    "            pathway,\n",
    "            names=[header],\n",
    "            skiprows=1,\n",
    "            dtype={header:str}\n",
    "        )\n",
    "        entrez2kegg = pd.merge(\n",
    "            pathway_df, \n",
    "            merged, \n",
    "            how='left', \n",
    "            left_on=[os.path.basename(pathway)],\n",
    "            right_on=['EntrezGene ID']\n",
    "        ).fillna('-')\n",
    "        entrez2kegg['seq'] = entrez2kegg.apply(get_seq,axis=1)\n",
    "        entrez2kegg.to_csv(\n",
    "            out_file,\n",
    "            sep='\\t',\n",
    "            index=False,\n",
    "        )\n",
    "        progress.update(1)\n",
    "        \n",
    "# create_pathway_lists_and_seq(kegg_pathways, merged)"
   ]
  },
  {
   "cell_type": "code",
   "execution_count": null,
   "metadata": {
    "collapsed": false
   },
   "outputs": [],
   "source": []
  },
  {
   "cell_type": "markdown",
   "metadata": {
    "collapsed": true
   },
   "source": [
    "# Convert KO -> swissprot -> ensembl"
   ]
  },
  {
   "cell_type": "code",
   "execution_count": null,
   "metadata": {
    "collapsed": false
   },
   "outputs": [],
   "source": []
  },
  {
   "cell_type": "code",
   "execution_count": 14,
   "metadata": {
    "collapsed": false
   },
   "outputs": [
    {
     "data": {
      "text/html": [
       "<div>\n",
       "<table border=\"1\" class=\"dataframe\">\n",
       "  <thead>\n",
       "    <tr style=\"text-align: right;\">\n",
       "      <th></th>\n",
       "      <th>ko</th>\n",
       "      <th>sp</th>\n",
       "      <th>direction</th>\n",
       "    </tr>\n",
       "  </thead>\n",
       "  <tbody>\n",
       "    <tr>\n",
       "      <th>0</th>\n",
       "      <td>ko:K00001</td>\n",
       "      <td>A1L4Y2</td>\n",
       "      <td>reverse</td>\n",
       "    </tr>\n",
       "    <tr>\n",
       "      <th>1</th>\n",
       "      <td>ko:K00001</td>\n",
       "      <td>B4M8Y0</td>\n",
       "      <td>reverse</td>\n",
       "    </tr>\n",
       "    <tr>\n",
       "      <th>2</th>\n",
       "      <td>ko:K00001</td>\n",
       "      <td>P00334</td>\n",
       "      <td>reverse</td>\n",
       "    </tr>\n",
       "    <tr>\n",
       "      <th>3</th>\n",
       "      <td>ko:K00001</td>\n",
       "      <td>P09369</td>\n",
       "      <td>reverse</td>\n",
       "    </tr>\n",
       "    <tr>\n",
       "      <th>4</th>\n",
       "      <td>ko:K00001</td>\n",
       "      <td>P09370</td>\n",
       "      <td>reverse</td>\n",
       "    </tr>\n",
       "  </tbody>\n",
       "</table>\n",
       "</div>"
      ],
      "text/plain": [
       "          ko      sp direction\n",
       "0  ko:K00001  A1L4Y2   reverse\n",
       "1  ko:K00001  B4M8Y0   reverse\n",
       "2  ko:K00001  P00334   reverse\n",
       "3  ko:K00001  P09369   reverse\n",
       "4  ko:K00001  P09370   reverse"
      ]
     },
     "execution_count": 14,
     "metadata": {},
     "output_type": "execute_result"
    }
   ],
   "source": [
    "# one (KO) to many (sp)\n",
    "ko2swiss = pd.read_table(\n",
    "    '/home/bay001/projects/kes_20160307/org/00_data/references/orthology_swiss-prot.list', \n",
    "    names=['ko','sp','direction']\n",
    ")\n",
    "ko2swiss['sp'] = ko2swiss['sp'].str.replace('sp:','')\n",
    "ko2swiss.head()"
   ]
  },
  {
   "cell_type": "code",
   "execution_count": 15,
   "metadata": {
    "collapsed": false
   },
   "outputs": [
    {
     "data": {
      "text/html": [
       "<div>\n",
       "<table border=\"1\" class=\"dataframe\">\n",
       "  <thead>\n",
       "    <tr style=\"text-align: right;\">\n",
       "      <th></th>\n",
       "      <th>sp</th>\n",
       "      <th>gga</th>\n",
       "      <th>eq</th>\n",
       "    </tr>\n",
       "  </thead>\n",
       "  <tbody>\n",
       "    <tr>\n",
       "      <th>0</th>\n",
       "      <td>A0A1D5PRR9</td>\n",
       "      <td>gga:100857997</td>\n",
       "      <td>equivalent</td>\n",
       "    </tr>\n",
       "    <tr>\n",
       "      <th>1</th>\n",
       "      <td>A0AVX7</td>\n",
       "      <td>gga:771113</td>\n",
       "      <td>equivalent</td>\n",
       "    </tr>\n",
       "    <tr>\n",
       "      <th>2</th>\n",
       "      <td>A0M8U1</td>\n",
       "      <td>gga:417770</td>\n",
       "      <td>equivalent</td>\n",
       "    </tr>\n",
       "    <tr>\n",
       "      <th>3</th>\n",
       "      <td>A1KXM5</td>\n",
       "      <td>gga:418848</td>\n",
       "      <td>equivalent</td>\n",
       "    </tr>\n",
       "    <tr>\n",
       "      <th>4</th>\n",
       "      <td>A3R064</td>\n",
       "      <td>gga:429960</td>\n",
       "      <td>equivalent</td>\n",
       "    </tr>\n",
       "  </tbody>\n",
       "</table>\n",
       "</div>"
      ],
      "text/plain": [
       "           sp            gga          eq\n",
       "0  A0A1D5PRR9  gga:100857997  equivalent\n",
       "1      A0AVX7     gga:771113  equivalent\n",
       "2      A0M8U1     gga:417770  equivalent\n",
       "3      A1KXM5     gga:418848  equivalent\n",
       "4      A3R064     gga:429960  equivalent"
      ]
     },
     "execution_count": 15,
     "metadata": {},
     "output_type": "execute_result"
    }
   ],
   "source": [
    "# one (gga) to one (sp)\n",
    "gga2swiss = pd.read_table(\n",
    "    '/home/bay001/projects/kes_20160307/org/00_data/references/swiss_gga.list',\n",
    "    names=['sp','gga','eq']\n",
    ")\n",
    "gga2swiss['sp'] = gga2swiss['sp'].str.replace('sp:','')\n",
    "\n",
    "gga2swiss.head()"
   ]
  },
  {
   "cell_type": "code",
   "execution_count": 16,
   "metadata": {
    "collapsed": false
   },
   "outputs": [
    {
     "data": {
      "text/html": [
       "<div>\n",
       "<table border=\"1\" class=\"dataframe\">\n",
       "  <thead>\n",
       "    <tr style=\"text-align: right;\">\n",
       "      <th></th>\n",
       "      <th>gga</th>\n",
       "      <th>ensembl</th>\n",
       "      <th>what</th>\n",
       "    </tr>\n",
       "  </thead>\n",
       "  <tbody>\n",
       "    <tr>\n",
       "      <th>0</th>\n",
       "      <td>gga:100008585</td>\n",
       "      <td>ENSGALG00000026850</td>\n",
       "      <td>original</td>\n",
       "    </tr>\n",
       "    <tr>\n",
       "      <th>1</th>\n",
       "      <td>gga:100034745</td>\n",
       "      <td>ENSGALG00000012396</td>\n",
       "      <td>original</td>\n",
       "    </tr>\n",
       "    <tr>\n",
       "      <th>2</th>\n",
       "      <td>gga:100049617</td>\n",
       "      <td>ENSGALG00000042215</td>\n",
       "      <td>original</td>\n",
       "    </tr>\n",
       "    <tr>\n",
       "      <th>3</th>\n",
       "      <td>gga:100049619</td>\n",
       "      <td>ENSGALG00000032986</td>\n",
       "      <td>original</td>\n",
       "    </tr>\n",
       "    <tr>\n",
       "      <th>4</th>\n",
       "      <td>gga:100113359</td>\n",
       "      <td>ENSGALG00000037735</td>\n",
       "      <td>original</td>\n",
       "    </tr>\n",
       "  </tbody>\n",
       "</table>\n",
       "</div>"
      ],
      "text/plain": [
       "             gga             ensembl      what\n",
       "0  gga:100008585  ENSGALG00000026850  original\n",
       "1  gga:100034745  ENSGALG00000012396  original\n",
       "2  gga:100049617  ENSGALG00000042215  original\n",
       "3  gga:100049619  ENSGALG00000032986  original\n",
       "4  gga:100113359  ENSGALG00000037735  original"
      ]
     },
     "execution_count": 16,
     "metadata": {},
     "output_type": "execute_result"
    }
   ],
   "source": [
    "gga2ensembl = pd.read_table(\n",
    "    '/home/bay001/projects/kes_20160307/org/00_data/references/gga_ensembl.list',\n",
    "    names=['gga','ensembl','what']\n",
    ")\n",
    "gga2ensembl['ensembl'] = gga2ensembl['ensembl'].str.replace('ensembl:','')\n",
    "gga2ensembl.head()"
   ]
  },
  {
   "cell_type": "code",
   "execution_count": 17,
   "metadata": {
    "collapsed": true
   },
   "outputs": [],
   "source": [
    "def ko_to_ensembl():\n",
    "    \"\"\" maps KEGG ortholog IDs to chicken ensembl gene IDs \"\"\"\n",
    "    ko_to_gga = pd.merge(ko2swiss, gga2swiss, how='right', on='sp')\n",
    "    ko_to_ensembl = pd.merge(ko_to_gga, gga2ensembl, how='left', on='gga')\n",
    "    return ko_to_ensembl"
   ]
  },
  {
   "cell_type": "code",
   "execution_count": 18,
   "metadata": {
    "collapsed": false
   },
   "outputs": [
    {
     "data": {
      "text/html": [
       "<div>\n",
       "<table border=\"1\" class=\"dataframe\">\n",
       "  <thead>\n",
       "    <tr style=\"text-align: right;\">\n",
       "      <th></th>\n",
       "      <th>KEGG Orthology ID</th>\n",
       "      <th>Swissprot ID</th>\n",
       "      <th>KEGG Organism-specific ID</th>\n",
       "      <th>Ensembl ID</th>\n",
       "    </tr>\n",
       "  </thead>\n",
       "  <tbody>\n",
       "    <tr>\n",
       "      <th>0</th>\n",
       "      <td>K00002</td>\n",
       "      <td>Q5ZK84</td>\n",
       "      <td>gga:424599</td>\n",
       "      <td>ENSGALG00000010244</td>\n",
       "    </tr>\n",
       "    <tr>\n",
       "      <th>1</th>\n",
       "      <td>K00012</td>\n",
       "      <td>Q5F3T9</td>\n",
       "      <td>gga:422792</td>\n",
       "      <td>ENSGALG00000041993</td>\n",
       "    </tr>\n",
       "    <tr>\n",
       "      <th>2</th>\n",
       "      <td>K00016</td>\n",
       "      <td>P00337</td>\n",
       "      <td>gga:373997</td>\n",
       "      <td>ENSGALG00000035836</td>\n",
       "    </tr>\n",
       "    <tr>\n",
       "      <th>3</th>\n",
       "      <td>K00016</td>\n",
       "      <td>P00340</td>\n",
       "      <td>gga:396221</td>\n",
       "      <td>ENSGALG00000006300</td>\n",
       "    </tr>\n",
       "    <tr>\n",
       "      <th>4</th>\n",
       "      <td>K00025</td>\n",
       "      <td>Q5ZME2</td>\n",
       "      <td>gga:421281</td>\n",
       "      <td>ENSGALG00000008858</td>\n",
       "    </tr>\n",
       "  </tbody>\n",
       "</table>\n",
       "</div>"
      ],
      "text/plain": [
       "  KEGG Orthology ID Swissprot ID KEGG Organism-specific ID          Ensembl ID\n",
       "0            K00002       Q5ZK84                gga:424599  ENSGALG00000010244\n",
       "1            K00012       Q5F3T9                gga:422792  ENSGALG00000041993\n",
       "2            K00016       P00337                gga:373997  ENSGALG00000035836\n",
       "3            K00016       P00340                gga:396221  ENSGALG00000006300\n",
       "4            K00025       Q5ZME2                gga:421281  ENSGALG00000008858"
      ]
     },
     "execution_count": 18,
     "metadata": {},
     "output_type": "execute_result"
    }
   ],
   "source": [
    "# format the dataframe\n",
    "ko2ensembl_df = ko_to_ensembl()\n",
    "ko2ensembl_df['ko'] = ko2ensembl_df['ko'].str.replace('ko:','')\n",
    "ko2ensembl_df = ko2ensembl_df[['ko','sp','gga','ensembl']]\n",
    "ko2ensembl_df.columns = ['KEGG Orthology ID', 'Swissprot ID', 'KEGG Organism-specific ID', 'Ensembl ID']\n",
    "ko2ensembl_df.head()"
   ]
  },
  {
   "cell_type": "code",
   "execution_count": 19,
   "metadata": {
    "collapsed": false
   },
   "outputs": [
    {
     "data": {
      "text/html": [
       "<div>\n",
       "<table border=\"1\" class=\"dataframe\">\n",
       "  <thead>\n",
       "    <tr style=\"text-align: right;\">\n",
       "      <th></th>\n",
       "      <th>contig_name</th>\n",
       "      <th>Gene ID</th>\n",
       "      <th>Description</th>\n",
       "      <th>Associated Gene Name</th>\n",
       "      <th>EntrezGene ID</th>\n",
       "      <th>KEGG Orthology ID</th>\n",
       "      <th>Swissprot ID</th>\n",
       "      <th>KEGG Organism-specific ID</th>\n",
       "      <th>Ensembl ID</th>\n",
       "    </tr>\n",
       "  </thead>\n",
       "  <tbody>\n",
       "    <tr>\n",
       "      <th>0</th>\n",
       "      <td>unmapped-49-contig_list_contig_33037-0</td>\n",
       "      <td>ENSGALG00000012304</td>\n",
       "      <td>Gallus gallus nuclear factor of kappa light po...</td>\n",
       "      <td>NFKB1</td>\n",
       "      <td>396033</td>\n",
       "      <td>K02580</td>\n",
       "      <td>Q04861</td>\n",
       "      <td>gga:396033</td>\n",
       "      <td>ENSGALG00000012304</td>\n",
       "    </tr>\n",
       "    <tr>\n",
       "      <th>1</th>\n",
       "      <td>EC-4AK111_TAGCTT_R1_(paired)_contig_2427-0</td>\n",
       "      <td>ENSGALG00000012304</td>\n",
       "      <td>Gallus gallus nuclear factor of kappa light po...</td>\n",
       "      <td>NFKB1</td>\n",
       "      <td>396033</td>\n",
       "      <td>K02580</td>\n",
       "      <td>Q04861</td>\n",
       "      <td>gga:396033</td>\n",
       "      <td>ENSGALG00000012304</td>\n",
       "    </tr>\n",
       "    <tr>\n",
       "      <th>2</th>\n",
       "      <td>unmapped-49-contig_list_contig_117584-0</td>\n",
       "      <td>ENSGALG00000012304</td>\n",
       "      <td>Gallus gallus nuclear factor of kappa light po...</td>\n",
       "      <td>NFKB1</td>\n",
       "      <td>396033</td>\n",
       "      <td>K02580</td>\n",
       "      <td>Q04861</td>\n",
       "      <td>gga:396033</td>\n",
       "      <td>ENSGALG00000012304</td>\n",
       "    </tr>\n",
       "    <tr>\n",
       "      <th>3</th>\n",
       "      <td>unmapped-49-contig_list_contig_288882-0</td>\n",
       "      <td>ENSGALG00000012304</td>\n",
       "      <td>Gallus gallus nuclear factor of kappa light po...</td>\n",
       "      <td>NFKB1</td>\n",
       "      <td>396033</td>\n",
       "      <td>K02580</td>\n",
       "      <td>Q04861</td>\n",
       "      <td>gga:396033</td>\n",
       "      <td>ENSGALG00000012304</td>\n",
       "    </tr>\n",
       "    <tr>\n",
       "      <th>4</th>\n",
       "      <td>unmapped-49-contig_list_contig_35316-0</td>\n",
       "      <td>ENSGALG00000012304</td>\n",
       "      <td>Gallus gallus nuclear factor of kappa light po...</td>\n",
       "      <td>NFKB1</td>\n",
       "      <td>396033</td>\n",
       "      <td>K02580</td>\n",
       "      <td>Q04861</td>\n",
       "      <td>gga:396033</td>\n",
       "      <td>ENSGALG00000012304</td>\n",
       "    </tr>\n",
       "  </tbody>\n",
       "</table>\n",
       "</div>"
      ],
      "text/plain": [
       "                                  contig_name             Gene ID  \\\n",
       "0      unmapped-49-contig_list_contig_33037-0  ENSGALG00000012304   \n",
       "1  EC-4AK111_TAGCTT_R1_(paired)_contig_2427-0  ENSGALG00000012304   \n",
       "2     unmapped-49-contig_list_contig_117584-0  ENSGALG00000012304   \n",
       "3     unmapped-49-contig_list_contig_288882-0  ENSGALG00000012304   \n",
       "4      unmapped-49-contig_list_contig_35316-0  ENSGALG00000012304   \n",
       "\n",
       "                                         Description Associated Gene Name  \\\n",
       "0  Gallus gallus nuclear factor of kappa light po...                NFKB1   \n",
       "1  Gallus gallus nuclear factor of kappa light po...                NFKB1   \n",
       "2  Gallus gallus nuclear factor of kappa light po...                NFKB1   \n",
       "3  Gallus gallus nuclear factor of kappa light po...                NFKB1   \n",
       "4  Gallus gallus nuclear factor of kappa light po...                NFKB1   \n",
       "\n",
       "  EntrezGene ID KEGG Orthology ID Swissprot ID KEGG Organism-specific ID  \\\n",
       "0        396033            K02580       Q04861                gga:396033   \n",
       "1        396033            K02580       Q04861                gga:396033   \n",
       "2        396033            K02580       Q04861                gga:396033   \n",
       "3        396033            K02580       Q04861                gga:396033   \n",
       "4        396033            K02580       Q04861                gga:396033   \n",
       "\n",
       "           Ensembl ID  \n",
       "0  ENSGALG00000012304  \n",
       "1  ENSGALG00000012304  \n",
       "2  ENSGALG00000012304  \n",
       "3  ENSGALG00000012304  \n",
       "4  ENSGALG00000012304  "
      ]
     },
     "execution_count": 19,
     "metadata": {},
     "output_type": "execute_result"
    }
   ],
   "source": [
    "# merge with main annotation dataframe\n",
    "merged_with_ko = pd.merge(\n",
    "    merged, \n",
    "    ko2ensembl_df, \n",
    "    how='left', \n",
    "    left_on=['Gene ID'],\n",
    "    right_on=['Ensembl ID']\n",
    ").fillna('-')\n",
    "merged_with_ko.head()"
   ]
  },
  {
   "cell_type": "code",
   "execution_count": 29,
   "metadata": {
    "collapsed": false,
    "scrolled": false
   },
   "outputs": [
    {
     "name": "stdout",
     "output_type": "stream",
     "text": [
      "0\n"
     ]
    }
   ],
   "source": [
    "# list pathways, from R script output\n",
    "kegg_pathways = glob.glob(\n",
    "    '/home/bay001/projects/kes_20160307/org/00_data/references/kegg/ko*thyroid*'\n",
    ")\n",
    "print(len(kegg_pathways))\n",
    "out_dir = '/home/bay001/projects/kes_20160307/org/03_output/kegg_reference/'\n",
    "\n",
    "def create_pathway_lists_and_seq(kegg_pathways, annotation_df):\n",
    "    progress = tnrange(len(kegg_pathways))\n",
    "    for pathway in kegg_pathways:\n",
    "        header = os.path.basename(pathway)\n",
    "        out_file = os.path.join(\n",
    "            out_dir,\n",
    "            header.replace('.txt','.mapped2kestrel.txt').replace(' ','_')\n",
    "        )\n",
    "        pathway_df = pd.read_table(\n",
    "            pathway,\n",
    "            names=[header],\n",
    "            skiprows=1,\n",
    "            dtype={header:str}\n",
    "        )\n",
    "        transcript2kegg = pd.merge(\n",
    "            pathway_df, \n",
    "            annotation_df, \n",
    "            how='left', \n",
    "            left_on=[os.path.basename(pathway)],\n",
    "            right_on=['KEGG Orthology ID']\n",
    "        ).fillna('-')\n",
    "        transcript2kegg['seq'] = transcript2kegg.apply(get_seq,axis=1)\n",
    "        transcript2kegg.to_csv(out_file, sep='\\t', index=False)\n",
    "        progress.update(1)\n",
    "create_pathway_lists_and_seq(kegg_pathways, merged_with_ko)"
   ]
  },
  {
   "cell_type": "code",
   "execution_count": 26,
   "metadata": {
    "collapsed": false
   },
   "outputs": [
    {
     "ename": "NameError",
     "evalue": "name 'transcript2kegg' is not defined",
     "output_type": "error",
     "traceback": [
      "\u001b[0;31m---------------------------------------------------------------------------\u001b[0m",
      "\u001b[0;31mNameError\u001b[0m                                 Traceback (most recent call last)",
      "\u001b[0;32m<ipython-input-26-9e249e121913>\u001b[0m in \u001b[0;36m<module>\u001b[0;34m()\u001b[0m\n\u001b[0;32m----> 1\u001b[0;31m \u001b[0mtranscript2kegg\u001b[0m\u001b[0;34m\u001b[0m\u001b[0m\n\u001b[0m",
      "\u001b[0;31mNameError\u001b[0m: name 'transcript2kegg' is not defined"
     ]
    }
   ],
   "source": [
    "transcript2kegg"
   ]
  },
  {
   "cell_type": "code",
   "execution_count": null,
   "metadata": {
    "collapsed": false
   },
   "outputs": [],
   "source": []
  },
  {
   "cell_type": "code",
   "execution_count": null,
   "metadata": {
    "collapsed": true
   },
   "outputs": [],
   "source": []
  }
 ],
 "metadata": {
  "kernelspec": {
   "display_name": "Python 2",
   "language": "python",
   "name": "python2"
  },
  "language_info": {
   "codemirror_mode": {
    "name": "ipython",
    "version": 2
   },
   "file_extension": ".py",
   "mimetype": "text/x-python",
   "name": "python",
   "nbconvert_exporter": "python",
   "pygments_lexer": "ipython2",
   "version": "2.7.12"
  },
  "widgets": {
   "state": {
    "eaf61ec7dda54a5b989381dc8bb456ad": {
     "views": [
      {
       "cell_index": 21
      }
     ]
    }
   },
   "version": "1.2.0"
  }
 },
 "nbformat": 4,
 "nbformat_minor": 1
}
