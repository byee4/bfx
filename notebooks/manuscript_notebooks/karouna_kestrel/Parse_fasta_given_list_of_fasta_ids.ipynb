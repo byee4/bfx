{
 "cells": [
  {
   "cell_type": "markdown",
   "metadata": {},
   "source": [
    "# Helpful notebook for finding specific sequences in our assembly given the name"
   ]
  },
  {
   "cell_type": "code",
   "execution_count": 5,
   "metadata": {
    "collapsed": false
   },
   "outputs": [],
   "source": [
    "names_to_search = [\"unmapped-49-contig_list_contig_67081-0\"]\n",
    "\n",
    "\n"
   ]
  },
  {
   "cell_type": "code",
   "execution_count": 6,
   "metadata": {
    "collapsed": false,
    "scrolled": true
   },
   "outputs": [
    {
     "name": "stdout",
     "output_type": "stream",
     "text": [
      "unmapped-49-contig_list_contig_67081-0\n",
      "AAGTCATGAAGATAAACCAGTCAGTTTATGCTGTCTGCAAATATAATTCTTATTCTCTTAAGCATGAATATTTACTGCATCACATCCCAATGATGGGAGGTGGAGGAGGACAGGGTGTGCAGTATATTGGTCTGGCTTGAATAAGGAAGCGTGAATTTACGATGTGTGATTTTATTTCCAAACAGATTTCCTTAAACTTGTCAGGGGCAGTTGTCTTTCAGTGAAGCATGAATACATTAAGGTTTTAAGTAAATCTGCAGCACAGACATCAAAGAGGCTTGCTGCGTTATTTAACTGAAAATCTAAGGATGAACTTTCACAAGATGGCTGAGCCAAACTAATGGCTTGCTGCTGCCTAAAGGGACAACTGCTCTGGTCCTTCTGAGTCCTGCTCCGAGTTATCTGGTGTTGCCTCTGCCTTTAATGCAGGCTCTGGCATCACTTGGATCATTCAGATCACTTTATCTGTTGGTTGGTTTGTGTTTTTTTAAATAAAAACCCACAAACCAAACAAAAACCCACAAACAAAAACTGGCAAAGATTTGCAACCCCTACCACTTGACTTTTGTTCCAGACAACTAGCAGCAAACAGGAGAAAACAAACAAACAAAAAACCAACCCAAAAACAACAGTGTATGTTTGTGTATGTACATATATATAAAGATGCCAGCTTTTGTACTTAAACATCTAGTACTGTAGAAGATATCCTGCAAGTCCAACTAATAGAAATACCCTAGTTAAGAATAATATACACAGCTCCAGTTTTTCCTTGCTGTTTCTACAAAATTATTCCACAAAGAAAGCCAGCTATCTACTTTAATTGCAGAATAGGTTCAAAAATGTTGGTAGAGTTCTTTTTAATTAAATAAATTAATATTAGTTTTATCTGAATAAATTGTTAAATATTGCTATTATTATGCCCAAGTGTCCCAAATCCCTGTGCTAAAATCTGCAGCACACACACACACGAAAAAGGCAGATAAAGCAGTGTCTACAGAAACCTTCAACAGTTCTACTCGCTGTAGCAAATGGTACAAAGTGGAAGGATGGGCAAGACCAGCAGAAGCTTTTCACAAGTGTAGAAGCCTAAATCAGTGTCATCCACACGCTCATGTGGGCAATTCACAATGAGGCACTGTCCATCCCATCCTGTGCAAAGCCCTTTTTTGAGGATTCCTCCCCTACCCCTCCCTGTTCCTTATACACTGAAGTTTTTTTACCATCTTTTTTTCCAAACCAAGAGTTAGCTGCCACGCTCAGAGATTTTTCCCTGGTGGGTGTCTCTTCACAAAGCAGTCAATGCTTCTTGCTCTAGAGGGGCAGATTAAATGAGATGATATTTTTCTCTGTTTTGTGTGTCAGGTGGCTCAGGGTGGGGTTTGTTTGTTTTTGTTTCTTGGCTGACTTTCATAAGAGTTTGAAATGTGTATCCACATAAGCAATGAGACATGAGAAGAAAAAGAGAGGGCTCCATTCATCAGCATTTCTTCTGGGAGAGCAGGTCTTTCCTACAGTCTTGTGTAGGTACGTTGAGTGCATGTGCAAATGTATTCATGGCCAGGGACATGTCAGCCTGCCCAGCCACGTACTCACTTACAGGTATATACTTCTGTTCTTTCACTGCATGTGTTACATTTAACATAGCAGCACCAATGAAATTTGCAGTTGCACTGCCACACTCTCGAGTACTGGTGTGTATTGTAACCGCGACCACAGCACATCAGATCGCAGCCGTTGGACTGCTGCGCTGTCTTGTTGCACATCCTTCCCTGCGTTCCCAAGCTGCCAGTGACAGGGTCCTCTTCACAATAATTGGGAGATTTTTCTATGTACACTAAATCTGTATCCATGGGTTTGCGATAGGAAAGTGGCTTCTTTATTTTGAGGAAGGTTGGACGCTTGTTGCGACTTGCCCTCACCGGTTCGACTTGAACAGCTTCATTGTATTTGTCCTTGAGGATGTAGCCCAACTCCCGGAATTTAGGCAGAGTTGTCCAGCATGTTTTAGTGGTACAGGATCCTGAGACCCCATGGCACTTGCACTCTAACTTCATGTTTTCTTCCAAAATCTTCCGCCCGGCCTCGTTGTTGTGCAGGTTCATGAGTGTCCTTGCATTTTGCTTAATCTCCCGGGCATCCACAAACACTTTGGCAAATCCTATTCCATATCTGATGTCAGCAGAGCAGCCTCCCCATTTCCATCCTTCCTCTTTATGGTACTGTCCTTGTTTTTCTTTGTCACAACCACAGTCACTCAGGTTGCCTTGGGTACAGGCAGCCGTGATGGCGTGTGCTACTCCAGCAGCAATGATGGCGTACGTGAATGCTGCCTCTCTGCTCCCCACTTTCAGCTCCTTCCCGAAGACGGTCCTCTCTCCTAGGGCTGAGCAGTTCCAGCGCCCGTTGCGAAACTGGAACTGGCACTCGTTGATGCCCATCTGGGACCCTTCCCCGATGACGATAATAGCGTCGGGCCTGCTCTGGCAGATCGCCCGCTGCCTGGGGGCAAGACCCGGGATCTTGTTACAGATGATGCTGGCTCCCAGGGCCACCACAGAGGAAAAACCCCCGATCTTGATATACACAATCCCCAGGCTCAGGAAGATGTGGAAGATCCAGCGCCTTGTTTTCCTGTTCATATTCCTTGCTTGCCGTGTCTCAGGACCAACATGCGAAACGATGCGTGCCACGCTCCGGCCCGGGGCCGTCTCCGGCGGTGCAGCCGCGGGTCACGGCAGCGCGGCCGAGAGGGGCAG\n"
     ]
    }
   ],
   "source": [
    "### This parses a fasta file and searches for a particular set of ids (names_to_search), and printing\n",
    "\n",
    "# names_to_search = ['TRINITY_DN68727_c0_g1','TRINITY_DN73280_c0_g1']\n",
    "from Bio import SeqIO\n",
    "handle = open(\"/home/bay001/projects/kes_20160307/data/kestrel5-reclustered.no-aerv.no-mtdna.no-vec.no-virus.no-bac.200.fasta\", \"rU\")\n",
    "for record in SeqIO.parse(handle, \"fasta\"):\n",
    "    for name in names_to_search:\n",
    "        if name in record.id:\n",
    "            print(record.id)\n",
    "            print(record.seq)\n",
    "handle.close()"
   ]
  },
  {
   "cell_type": "code",
   "execution_count": 6,
   "metadata": {
    "collapsed": false
   },
   "outputs": [
    {
     "name": "stdout",
     "output_type": "stream",
     "text": [
      "[1] [2] [3] [4] [5] [6] [7] [8] [9] [10] [11] [12] [13] [14] [15] [16] [17] [18] [19] [20] [21]\n"
     ]
    }
   ],
   "source": [
    "### This parses a fasta file and searches for a particular set of ids (names_to_search), and writing to a separate file\n",
    "\n",
    "from Bio import SeqIO\n",
    "handle = open(\"/home/bay001/projects/kes_20160307/analysis/final_scaffolds/Trinity/Trinity.fixheader.fasta\", \"rU\")\n",
    "outfile = \"/home/bay001/projects/kes_20160307/analysis/final_scaffolds/Trinity/diffexp/tbbpa-unannotated.fasta\"\n",
    "records = []\n",
    "x = 0\n",
    "for record in SeqIO.parse(handle, \"fasta\"):\n",
    "    for name in names_to_search:\n",
    "        if name in record.id:\n",
    "            x = x + 1\n",
    "            print('[{}]'.format(x)),\n",
    "            record.id = record.id.split(' ')[0]\n",
    "            records.append(record)\n",
    "SeqIO.write(records,outfile,\"fasta\")\n",
    "handle.close()\n"
   ]
  },
  {
   "cell_type": "code",
   "execution_count": null,
   "metadata": {
    "collapsed": true
   },
   "outputs": [],
   "source": []
  }
 ],
 "metadata": {
  "kernelspec": {
   "display_name": "Python 2",
   "language": "python",
   "name": "python2"
  },
  "language_info": {
   "codemirror_mode": {
    "name": "ipython",
    "version": 2
   },
   "file_extension": ".py",
   "mimetype": "text/x-python",
   "name": "python",
   "nbconvert_exporter": "python",
   "pygments_lexer": "ipython2",
   "version": "2.7.12"
  }
 },
 "nbformat": 4,
 "nbformat_minor": 0
}
