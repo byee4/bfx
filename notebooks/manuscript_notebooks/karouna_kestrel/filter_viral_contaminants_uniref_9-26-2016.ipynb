{
 "cells": [
  {
   "cell_type": "code",
   "execution_count": 1,
   "metadata": {
    "collapsed": true
   },
   "outputs": [],
   "source": [
    "import pandas as pd\n",
    "import numpy as np\n",
    "import os"
   ]
  },
  {
   "cell_type": "code",
   "execution_count": 10,
   "metadata": {
    "collapsed": true
   },
   "outputs": [],
   "source": [
    "previous = '/home/bay001/projects/kes_20160307/data/kestrel5-reclustered.no-aerv.no-mtdna.no-vec.fasta'\n",
    "current = '/home/bay001/projects/kes_20160307/data/kestrel5-reclustered.no-aerv.no-mtdna.no-vec.no-virus.fasta'\n",
    "viruslist = '/home/bay001/projects/kes_20160307/data/virus.headers'\n",
    "blast_file = '/home/bay001/projects/kes_20160307/data/diamond/all.blast'\n",
    "blast_head = ['qseqid', 'sseqid', 'pident', 'length', 'mismatch',\n",
    "              'gapopen', 'qstart', 'qend', 'sstart', 'send',\n",
    "              'evalue', 'bitscore']"
   ]
  },
  {
   "cell_type": "code",
   "execution_count": 3,
   "metadata": {
    "collapsed": false
   },
   "outputs": [
    {
     "data": {
      "text/html": [
       "<div>\n",
       "<table border=\"1\" class=\"dataframe\">\n",
       "  <thead>\n",
       "    <tr style=\"text-align: right;\">\n",
       "      <th></th>\n",
       "      <th>qseqid</th>\n",
       "      <th>sseqid</th>\n",
       "      <th>pident</th>\n",
       "      <th>length</th>\n",
       "      <th>mismatch</th>\n",
       "      <th>gapopen</th>\n",
       "      <th>qstart</th>\n",
       "      <th>qend</th>\n",
       "      <th>sstart</th>\n",
       "      <th>send</th>\n",
       "      <th>evalue</th>\n",
       "      <th>bitscore</th>\n",
       "    </tr>\n",
       "  </thead>\n",
       "  <tbody>\n",
       "    <tr>\n",
       "      <th>0</th>\n",
       "      <td>unmapped-49-contig_list_contig_324-0</td>\n",
       "      <td>UniRef90_UPI000529CB21</td>\n",
       "      <td>99.5</td>\n",
       "      <td>187</td>\n",
       "      <td>1</td>\n",
       "      <td>0</td>\n",
       "      <td>31453</td>\n",
       "      <td>30893</td>\n",
       "      <td>70</td>\n",
       "      <td>256</td>\n",
       "      <td>2.300000e-104</td>\n",
       "      <td>392.1</td>\n",
       "    </tr>\n",
       "    <tr>\n",
       "      <th>1</th>\n",
       "      <td>unmapped-49-contig_list_contig_324-0</td>\n",
       "      <td>UniRef90_UPI000529CB21</td>\n",
       "      <td>82.5</td>\n",
       "      <td>80</td>\n",
       "      <td>9</td>\n",
       "      <td>3</td>\n",
       "      <td>36063</td>\n",
       "      <td>35827</td>\n",
       "      <td>1</td>\n",
       "      <td>76</td>\n",
       "      <td>3.100000e-24</td>\n",
       "      <td>125.9</td>\n",
       "    </tr>\n",
       "    <tr>\n",
       "      <th>2</th>\n",
       "      <td>unmapped-49-contig_list_contig_324-0</td>\n",
       "      <td>UniRef90_UPI000529CB21</td>\n",
       "      <td>100.0</td>\n",
       "      <td>26</td>\n",
       "      <td>0</td>\n",
       "      <td>0</td>\n",
       "      <td>27759</td>\n",
       "      <td>27682</td>\n",
       "      <td>256</td>\n",
       "      <td>281</td>\n",
       "      <td>2.700000e-04</td>\n",
       "      <td>59.7</td>\n",
       "    </tr>\n",
       "    <tr>\n",
       "      <th>3</th>\n",
       "      <td>unmapped-49-contig_list_contig_324-0</td>\n",
       "      <td>UniRef90_E1BYF3</td>\n",
       "      <td>99.5</td>\n",
       "      <td>187</td>\n",
       "      <td>1</td>\n",
       "      <td>0</td>\n",
       "      <td>31453</td>\n",
       "      <td>30893</td>\n",
       "      <td>70</td>\n",
       "      <td>256</td>\n",
       "      <td>2.300000e-104</td>\n",
       "      <td>392.1</td>\n",
       "    </tr>\n",
       "    <tr>\n",
       "      <th>4</th>\n",
       "      <td>unmapped-49-contig_list_contig_324-0</td>\n",
       "      <td>UniRef90_E1BYF3</td>\n",
       "      <td>97.5</td>\n",
       "      <td>121</td>\n",
       "      <td>3</td>\n",
       "      <td>0</td>\n",
       "      <td>27759</td>\n",
       "      <td>27397</td>\n",
       "      <td>256</td>\n",
       "      <td>376</td>\n",
       "      <td>2.600000e-60</td>\n",
       "      <td>245.7</td>\n",
       "    </tr>\n",
       "  </tbody>\n",
       "</table>\n",
       "</div>"
      ],
      "text/plain": [
       "                                 qseqid                  sseqid  pident  \\\n",
       "0  unmapped-49-contig_list_contig_324-0  UniRef90_UPI000529CB21    99.5   \n",
       "1  unmapped-49-contig_list_contig_324-0  UniRef90_UPI000529CB21    82.5   \n",
       "2  unmapped-49-contig_list_contig_324-0  UniRef90_UPI000529CB21   100.0   \n",
       "3  unmapped-49-contig_list_contig_324-0         UniRef90_E1BYF3    99.5   \n",
       "4  unmapped-49-contig_list_contig_324-0         UniRef90_E1BYF3    97.5   \n",
       "\n",
       "   length  mismatch  gapopen  qstart   qend  sstart  send         evalue  \\\n",
       "0     187         1        0   31453  30893      70   256  2.300000e-104   \n",
       "1      80         9        3   36063  35827       1    76   3.100000e-24   \n",
       "2      26         0        0   27759  27682     256   281   2.700000e-04   \n",
       "3     187         1        0   31453  30893      70   256  2.300000e-104   \n",
       "4     121         3        0   27759  27397     256   376   2.600000e-60   \n",
       "\n",
       "   bitscore  \n",
       "0     392.1  \n",
       "1     125.9  \n",
       "2      59.7  \n",
       "3     392.1  \n",
       "4     245.7  "
      ]
     },
     "execution_count": 3,
     "metadata": {},
     "output_type": "execute_result"
    }
   ],
   "source": [
    "virus = pd.read_table(viruslist,names=['virus'])\n",
    "blast = pd.read_table(blast_file,names=blast_head)\n",
    "blast.head()"
   ]
  },
  {
   "cell_type": "code",
   "execution_count": 4,
   "metadata": {
    "collapsed": false
   },
   "outputs": [
    {
     "name": "stdout",
     "output_type": "stream",
     "text": [
      "(3001772, 12)\n",
      "(1944271, 12)\n",
      "(60670, 13)\n"
     ]
    },
    {
     "data": {
      "text/html": [
       "<div>\n",
       "<table border=\"1\" class=\"dataframe\">\n",
       "  <thead>\n",
       "    <tr style=\"text-align: right;\">\n",
       "      <th></th>\n",
       "      <th>qseqid</th>\n",
       "      <th>sseqid</th>\n",
       "      <th>pident</th>\n",
       "      <th>length</th>\n",
       "      <th>mismatch</th>\n",
       "      <th>gapopen</th>\n",
       "      <th>qstart</th>\n",
       "      <th>qend</th>\n",
       "      <th>sstart</th>\n",
       "      <th>send</th>\n",
       "      <th>evalue</th>\n",
       "      <th>bitscore</th>\n",
       "      <th>uniref</th>\n",
       "    </tr>\n",
       "  </thead>\n",
       "  <tbody>\n",
       "    <tr>\n",
       "      <th>1363364</th>\n",
       "      <td>unmapped-49-contig_list_contig_64936-0</td>\n",
       "      <td>UniRef90_G1KX46</td>\n",
       "      <td>74.5</td>\n",
       "      <td>768</td>\n",
       "      <td>190</td>\n",
       "      <td>3</td>\n",
       "      <td>265</td>\n",
       "      <td>2565</td>\n",
       "      <td>1</td>\n",
       "      <td>763</td>\n",
       "      <td>0.0</td>\n",
       "      <td>1107.0</td>\n",
       "      <td>G1KX46</td>\n",
       "    </tr>\n",
       "    <tr>\n",
       "      <th>928192</th>\n",
       "      <td>unmapped-49-contig_list_contig_6250-0</td>\n",
       "      <td>UniRef90_A0A091G0Z8</td>\n",
       "      <td>92.1</td>\n",
       "      <td>1077</td>\n",
       "      <td>76</td>\n",
       "      <td>2</td>\n",
       "      <td>499</td>\n",
       "      <td>3714</td>\n",
       "      <td>1</td>\n",
       "      <td>1073</td>\n",
       "      <td>0.0</td>\n",
       "      <td>1980.7</td>\n",
       "      <td>A0A091G0Z8</td>\n",
       "    </tr>\n",
       "    <tr>\n",
       "      <th>75828</th>\n",
       "      <td>unmapped-49-contig_list_contig_29731-0</td>\n",
       "      <td>UniRef90_UPI0005226B71</td>\n",
       "      <td>82.5</td>\n",
       "      <td>1056</td>\n",
       "      <td>185</td>\n",
       "      <td>0</td>\n",
       "      <td>5095</td>\n",
       "      <td>1928</td>\n",
       "      <td>1233</td>\n",
       "      <td>2288</td>\n",
       "      <td>0.0</td>\n",
       "      <td>1697.2</td>\n",
       "      <td>UPI0005226B71</td>\n",
       "    </tr>\n",
       "    <tr>\n",
       "      <th>1255090</th>\n",
       "      <td>EC-4AK111_TAGCTT_R1_(paired)_contig_6330-0</td>\n",
       "      <td>UniRef90_V8NBR3</td>\n",
       "      <td>78.4</td>\n",
       "      <td>828</td>\n",
       "      <td>177</td>\n",
       "      <td>2</td>\n",
       "      <td>2712</td>\n",
       "      <td>232</td>\n",
       "      <td>23</td>\n",
       "      <td>849</td>\n",
       "      <td>0.0</td>\n",
       "      <td>1323.1</td>\n",
       "      <td>V8NBR3</td>\n",
       "    </tr>\n",
       "    <tr>\n",
       "      <th>1254783</th>\n",
       "      <td>unmapped-49-contig_list_contig_56574-0</td>\n",
       "      <td>UniRef90_UPI000642AD0D</td>\n",
       "      <td>71.4</td>\n",
       "      <td>767</td>\n",
       "      <td>199</td>\n",
       "      <td>6</td>\n",
       "      <td>2794</td>\n",
       "      <td>539</td>\n",
       "      <td>394</td>\n",
       "      <td>1155</td>\n",
       "      <td>0.0</td>\n",
       "      <td>1077.0</td>\n",
       "      <td>UPI000642AD0D</td>\n",
       "    </tr>\n",
       "  </tbody>\n",
       "</table>\n",
       "</div>"
      ],
      "text/plain": [
       "                                             qseqid                  sseqid  \\\n",
       "1363364      unmapped-49-contig_list_contig_64936-0         UniRef90_G1KX46   \n",
       "928192        unmapped-49-contig_list_contig_6250-0     UniRef90_A0A091G0Z8   \n",
       "75828        unmapped-49-contig_list_contig_29731-0  UniRef90_UPI0005226B71   \n",
       "1255090  EC-4AK111_TAGCTT_R1_(paired)_contig_6330-0         UniRef90_V8NBR3   \n",
       "1254783      unmapped-49-contig_list_contig_56574-0  UniRef90_UPI000642AD0D   \n",
       "\n",
       "         pident  length  mismatch  gapopen  qstart  qend  sstart  send  \\\n",
       "1363364    74.5     768       190        3     265  2565       1   763   \n",
       "928192     92.1    1077        76        2     499  3714       1  1073   \n",
       "75828      82.5    1056       185        0    5095  1928    1233  2288   \n",
       "1255090    78.4     828       177        2    2712   232      23   849   \n",
       "1254783    71.4     767       199        6    2794   539     394  1155   \n",
       "\n",
       "         evalue  bitscore         uniref  \n",
       "1363364     0.0    1107.0         G1KX46  \n",
       "928192      0.0    1980.7     A0A091G0Z8  \n",
       "75828       0.0    1697.2  UPI0005226B71  \n",
       "1255090     0.0    1323.1         V8NBR3  \n",
       "1254783     0.0    1077.0  UPI000642AD0D  "
      ]
     },
     "execution_count": 4,
     "metadata": {},
     "output_type": "execute_result"
    }
   ],
   "source": [
    "print(blast.shape)\n",
    "blast = blast[blast['evalue'] < 1e-10]\n",
    "print(blast.shape)\n",
    "blast['uniref'] = blast['sseqid'].str.replace('UniRef90_','')\n",
    "blast.sort_values(by='evalue',inplace=True)\n",
    "blast.drop_duplicates('qseqid',inplace=True)\n",
    "print(blast.shape)\n",
    "blast.head()"
   ]
  },
  {
   "cell_type": "code",
   "execution_count": 5,
   "metadata": {
    "collapsed": false
   },
   "outputs": [
    {
     "name": "stderr",
     "output_type": "stream",
     "text": [
      "/home/bay001/anaconda/lib/python2.7/site-packages/ipykernel/__main__.py:1: FutureWarning: currently extract(expand=None) means expand=False (return Index/Series/DataFrame) but in a future version of pandas this will be changed to expand=True (return DataFrame)\n",
      "  if __name__ == '__main__':\n"
     ]
    },
    {
     "data": {
      "text/html": [
       "<div>\n",
       "<table border=\"1\" class=\"dataframe\">\n",
       "  <thead>\n",
       "    <tr style=\"text-align: right;\">\n",
       "      <th></th>\n",
       "      <th>virus</th>\n",
       "    </tr>\n",
       "  </thead>\n",
       "  <tbody>\n",
       "    <tr>\n",
       "      <th>0</th>\n",
       "      <td>UniRef90_Q6GZX4</td>\n",
       "    </tr>\n",
       "    <tr>\n",
       "      <th>1</th>\n",
       "      <td>UniRef90_Q6GZX3</td>\n",
       "    </tr>\n",
       "    <tr>\n",
       "      <th>2</th>\n",
       "      <td>UniRef90_Q197F8</td>\n",
       "    </tr>\n",
       "    <tr>\n",
       "      <th>3</th>\n",
       "      <td>UniRef90_Q197F7</td>\n",
       "    </tr>\n",
       "    <tr>\n",
       "      <th>4</th>\n",
       "      <td>UniRef90_Q6GZX2</td>\n",
       "    </tr>\n",
       "  </tbody>\n",
       "</table>\n",
       "</div>"
      ],
      "text/plain": [
       "             virus\n",
       "0  UniRef90_Q6GZX4\n",
       "1  UniRef90_Q6GZX3\n",
       "2  UniRef90_Q197F8\n",
       "3  UniRef90_Q197F7\n",
       "4  UniRef90_Q6GZX2"
      ]
     },
     "execution_count": 5,
     "metadata": {},
     "output_type": "execute_result"
    }
   ],
   "source": [
    "some_series = virus['virus'].str.extract('>([\\w\\d]+)')\n",
    "to_filter_out = pd.DataFrame(some_series)\n",
    "to_filter_out.head()"
   ]
  },
  {
   "cell_type": "code",
   "execution_count": 6,
   "metadata": {
    "collapsed": false
   },
   "outputs": [],
   "source": [
    "filter_these_contigs = list(pd.merge(blast,to_filter_out,how='left',left_on='sseqid',right_on='virus').dropna()['qseqid'])"
   ]
  },
  {
   "cell_type": "code",
   "execution_count": 7,
   "metadata": {
    "collapsed": false
   },
   "outputs": [
    {
     "name": "stdout",
     "output_type": "stream",
     "text": [
      "1 2 3 4 5 6 7 8 9 10 11 12 13 14 15 16 17 18 19 20 21 22 23 24 25 26 27 28 29 30 31 32 33 34 35 36 37 38 39 40 41 42 43 44 45 46 47 48 49 50 51 52 53 54 55 56 57 58 59 60 61 62 63 64 65 66 67 68 69 70 71 72 73 74 75 76 77 78 79 80 81 82 83 84 85 86 87 88 89 90\n"
     ]
    }
   ],
   "source": [
    "from Bio import SeqIO\n",
    "records = []\n",
    "i = 0\n",
    "handle = open(previous, \"rU\")\n",
    "for record in SeqIO.parse(handle, \"fasta\"):\n",
    "    if record.id not in filter_these_contigs:\n",
    "        records.append(record)\n",
    "    else:\n",
    "        i = i + 1\n",
    "        print(i),\n",
    "        \n",
    "SeqIO.write(records,current,\"fasta\")\n",
    "handle.close()"
   ]
  },
  {
   "cell_type": "code",
   "execution_count": 8,
   "metadata": {
    "collapsed": false
   },
   "outputs": [
    {
     "name": "stdout",
     "output_type": "stream",
     "text": [
      "284730\r\n"
     ]
    }
   ],
   "source": [
    "! grep '>' $previous | wc -l"
   ]
  },
  {
   "cell_type": "code",
   "execution_count": 9,
   "metadata": {
    "collapsed": false
   },
   "outputs": [
    {
     "name": "stdout",
     "output_type": "stream",
     "text": [
      "284640\r\n"
     ]
    }
   ],
   "source": [
    "! grep '>' $current | wc -l"
   ]
  },
  {
   "cell_type": "code",
   "execution_count": null,
   "metadata": {
    "collapsed": true
   },
   "outputs": [],
   "source": []
  }
 ],
 "metadata": {
  "kernelspec": {
   "display_name": "Python 2",
   "language": "python",
   "name": "python2"
  },
  "language_info": {
   "codemirror_mode": {
    "name": "ipython",
    "version": 2
   },
   "file_extension": ".py",
   "mimetype": "text/x-python",
   "name": "python",
   "nbconvert_exporter": "python",
   "pygments_lexer": "ipython2",
   "version": "2.7.12"
  }
 },
 "nbformat": 4,
 "nbformat_minor": 1
}
