{
 "cells": [
  {
   "cell_type": "markdown",
   "metadata": {},
   "source": [
    "# formerly intersect_counts_with_blast_9-27-2016\n",
    "- Intersects the filtered assembly with the blast results to annotate contigs with high scoring matches\n",
    "- Clusters contigs according to their blast result."
   ]
  },
  {
   "cell_type": "code",
   "execution_count": 41,
   "metadata": {
    "collapsed": true
   },
   "outputs": [],
   "source": [
    "import pandas as pd\n",
    "import numpy as np\n",
    "import os\n",
    "from Bio.Seq import Seq\n",
    "from Bio import SeqIO\n",
    "from Bio.SeqRecord import SeqRecord\n",
    "from Bio.Alphabet import IUPAC"
   ]
  },
  {
   "cell_type": "code",
   "execution_count": 2,
   "metadata": {},
   "outputs": [],
   "source": [
    "wd = '/home/bay001/projects/kes_20160307/data/'\n",
    "blast_head = ['qseqid', 'sseqid', 'pident', 'length', 'mismatch',\n",
    "              'gapopen', 'qstart', 'qend', 'sstart', 'send',\n",
    "              'evalue', 'bitscore']"
   ]
  },
  {
   "cell_type": "markdown",
   "metadata": {},
   "source": [
    "### Load BLAST results from blastx to chicken ensembl protein\n",
    "- Filter out e-value less than threshold (set at 1e-10)\n",
    "- Sort by e-value (ascending)\n",
    "- Remove duplicate contigs (contigs which map to multiple proteins, only take the lowest e-value)"
   ]
  },
  {
   "cell_type": "code",
   "execution_count": 3,
   "metadata": {},
   "outputs": [
    {
     "name": "stdout",
     "output_type": "stream",
     "text": [
      "number of starting hits: 331175\n",
      "number of filtered for e-value hits: 83725\n",
      "number of filtered hits for de-duplicated contigs: 55116\n"
     ]
    },
    {
     "data": {
      "text/html": [
       "<div>\n",
       "<table border=\"1\" class=\"dataframe\">\n",
       "  <thead>\n",
       "    <tr style=\"text-align: right;\">\n",
       "      <th></th>\n",
       "      <th>sseqid</th>\n",
       "      <th>pident</th>\n",
       "      <th>length</th>\n",
       "      <th>mismatch</th>\n",
       "      <th>gapopen</th>\n",
       "      <th>qstart</th>\n",
       "      <th>qend</th>\n",
       "      <th>sstart</th>\n",
       "      <th>send</th>\n",
       "      <th>evalue</th>\n",
       "      <th>bitscore</th>\n",
       "    </tr>\n",
       "    <tr>\n",
       "      <th>qseqid</th>\n",
       "      <th></th>\n",
       "      <th></th>\n",
       "      <th></th>\n",
       "      <th></th>\n",
       "      <th></th>\n",
       "      <th></th>\n",
       "      <th></th>\n",
       "      <th></th>\n",
       "      <th></th>\n",
       "      <th></th>\n",
       "      <th></th>\n",
       "    </tr>\n",
       "  </thead>\n",
       "  <tbody>\n",
       "    <tr>\n",
       "      <th>unmapped-49-contig_list_contig_207806-0</th>\n",
       "      <td>ENSGALG00000028975</td>\n",
       "      <td>84.913</td>\n",
       "      <td>517</td>\n",
       "      <td>74</td>\n",
       "      <td>2</td>\n",
       "      <td>1549</td>\n",
       "      <td>2</td>\n",
       "      <td>375</td>\n",
       "      <td>888</td>\n",
       "      <td>0.0</td>\n",
       "      <td>853.0</td>\n",
       "    </tr>\n",
       "    <tr>\n",
       "      <th>unmapped-49-contig_list_contig_48921-0</th>\n",
       "      <td>ENSGALG00000002638</td>\n",
       "      <td>92.483</td>\n",
       "      <td>439</td>\n",
       "      <td>33</td>\n",
       "      <td>0</td>\n",
       "      <td>6438</td>\n",
       "      <td>5122</td>\n",
       "      <td>1</td>\n",
       "      <td>439</td>\n",
       "      <td>0.0</td>\n",
       "      <td>815.0</td>\n",
       "    </tr>\n",
       "    <tr>\n",
       "      <th>unmapped-49-contig_list_contig_33476-0</th>\n",
       "      <td>ENSGALG00000002798</td>\n",
       "      <td>98.047</td>\n",
       "      <td>717</td>\n",
       "      <td>14</td>\n",
       "      <td>0</td>\n",
       "      <td>3247</td>\n",
       "      <td>1097</td>\n",
       "      <td>16</td>\n",
       "      <td>732</td>\n",
       "      <td>0.0</td>\n",
       "      <td>1429.0</td>\n",
       "    </tr>\n",
       "    <tr>\n",
       "      <th>unmapped-49-contig_list_contig_67081-0</th>\n",
       "      <td>ENSGALG00000005123</td>\n",
       "      <td>99.714</td>\n",
       "      <td>350</td>\n",
       "      <td>1</td>\n",
       "      <td>0</td>\n",
       "      <td>2639</td>\n",
       "      <td>1590</td>\n",
       "      <td>1</td>\n",
       "      <td>350</td>\n",
       "      <td>0.0</td>\n",
       "      <td>697.0</td>\n",
       "    </tr>\n",
       "    <tr>\n",
       "      <th>EC-4AK111_TAGCTT_R1_(paired)_contig_5821-0</th>\n",
       "      <td>ENSGALG00000006425</td>\n",
       "      <td>94.286</td>\n",
       "      <td>315</td>\n",
       "      <td>10</td>\n",
       "      <td>2</td>\n",
       "      <td>54</td>\n",
       "      <td>992</td>\n",
       "      <td>3</td>\n",
       "      <td>311</td>\n",
       "      <td>0.0</td>\n",
       "      <td>559.0</td>\n",
       "    </tr>\n",
       "  </tbody>\n",
       "</table>\n",
       "</div>"
      ],
      "text/plain": [
       "                                                        sseqid  pident  \\\n",
       "qseqid                                                                   \n",
       "unmapped-49-contig_list_contig_207806-0     ENSGALG00000028975  84.913   \n",
       "unmapped-49-contig_list_contig_48921-0      ENSGALG00000002638  92.483   \n",
       "unmapped-49-contig_list_contig_33476-0      ENSGALG00000002798  98.047   \n",
       "unmapped-49-contig_list_contig_67081-0      ENSGALG00000005123  99.714   \n",
       "EC-4AK111_TAGCTT_R1_(paired)_contig_5821-0  ENSGALG00000006425  94.286   \n",
       "\n",
       "                                            length  mismatch  gapopen  qstart  \\\n",
       "qseqid                                                                          \n",
       "unmapped-49-contig_list_contig_207806-0        517        74        2    1549   \n",
       "unmapped-49-contig_list_contig_48921-0         439        33        0    6438   \n",
       "unmapped-49-contig_list_contig_33476-0         717        14        0    3247   \n",
       "unmapped-49-contig_list_contig_67081-0         350         1        0    2639   \n",
       "EC-4AK111_TAGCTT_R1_(paired)_contig_5821-0     315        10        2      54   \n",
       "\n",
       "                                            qend  sstart  send  evalue  \\\n",
       "qseqid                                                                   \n",
       "unmapped-49-contig_list_contig_207806-0        2     375   888     0.0   \n",
       "unmapped-49-contig_list_contig_48921-0      5122       1   439     0.0   \n",
       "unmapped-49-contig_list_contig_33476-0      1097      16   732     0.0   \n",
       "unmapped-49-contig_list_contig_67081-0      1590       1   350     0.0   \n",
       "EC-4AK111_TAGCTT_R1_(paired)_contig_5821-0   992       3   311     0.0   \n",
       "\n",
       "                                            bitscore  \n",
       "qseqid                                                \n",
       "unmapped-49-contig_list_contig_207806-0        853.0  \n",
       "unmapped-49-contig_list_contig_48921-0         815.0  \n",
       "unmapped-49-contig_list_contig_33476-0        1429.0  \n",
       "unmapped-49-contig_list_contig_67081-0         697.0  \n",
       "EC-4AK111_TAGCTT_R1_(paired)_contig_5821-0     559.0  "
      ]
     },
     "execution_count": 3,
     "metadata": {},
     "output_type": "execute_result"
    }
   ],
   "source": [
    "evalue_threshold = 1e-10\n",
    "blast = pd.read_table(os.path.join(wd,'blast/chicken.blastx'),names=blast_head)\n",
    "print(\"number of starting hits: {}\".format(blast.shape[0]))\n",
    "blast = blast[blast['evalue'] < evalue_threshold]\n",
    "print(\"number of filtered for e-value hits: {}\".format(blast.shape[0])) \n",
    "blast.sort_values(by='evalue',inplace=True) # sort by evalue (lower is better)\n",
    "blast.drop_duplicates('qseqid',inplace=True, keep='first') # keep only the top hit per query\n",
    "print(\"number of filtered hits for de-duplicated contigs: {}\".format(blast.shape[0]))\n",
    "blast.set_index('qseqid',inplace=True)\n",
    "blast.head()"
   ]
  },
  {
   "cell_type": "code",
   "execution_count": 4,
   "metadata": {
    "collapsed": true
   },
   "outputs": [],
   "source": [
    "def get_start(row):\n",
    "    \"\"\" Returns 1-based position of contig start \"\"\"\n",
    "    return row['qstart'] if row['qstart'] < row['qend'] else row['qend']\n",
    "def get_end(row):\n",
    "    \"\"\" Returns the closed contig end \"\"\"\n",
    "    return row['qend'] if row['qend'] > row['qstart'] else row['qstart']\n",
    "def is_reversed(row):\n",
    "    \"\"\" If the reported query end < query start, that's a reversed. returns 1 if reversed \"\"\"\n",
    "    return 1 if row['qend'] < row['qstart'] else 0\n",
    "def revcomp(seq):\n",
    "    \"\"\" Returns reverse complement \"\"\"\n",
    "    seq2 = Seq(seq)\n",
    "    return str(seq2.reverse_complement())\n",
    "    \n",
    "def get_blast_seq(row):\n",
    "    \"\"\" Returns the part of the contig sequence that BLAST matched \"\"\"\n",
    "    if(row['reverse']==1):\n",
    "        return revcomp(row['seq'][row['start']-1:row['end']])\n",
    "    else:\n",
    "        return row['seq'][row['start']-1:row['end']]"
   ]
  },
  {
   "cell_type": "code",
   "execution_count": 5,
   "metadata": {},
   "outputs": [
    {
     "data": {
      "text/html": [
       "<div>\n",
       "<table border=\"1\" class=\"dataframe\">\n",
       "  <thead>\n",
       "    <tr style=\"text-align: right;\">\n",
       "      <th></th>\n",
       "      <th>length</th>\n",
       "      <th>qstart</th>\n",
       "      <th>qend</th>\n",
       "      <th>sstart</th>\n",
       "      <th>send</th>\n",
       "      <th>sseqid</th>\n",
       "      <th>start</th>\n",
       "      <th>end</th>\n",
       "      <th>reverse</th>\n",
       "    </tr>\n",
       "    <tr>\n",
       "      <th>qseqid</th>\n",
       "      <th></th>\n",
       "      <th></th>\n",
       "      <th></th>\n",
       "      <th></th>\n",
       "      <th></th>\n",
       "      <th></th>\n",
       "      <th></th>\n",
       "      <th></th>\n",
       "      <th></th>\n",
       "    </tr>\n",
       "  </thead>\n",
       "  <tbody>\n",
       "    <tr>\n",
       "      <th>unmapped-49-contig_list_contig_207806-0</th>\n",
       "      <td>517</td>\n",
       "      <td>1549</td>\n",
       "      <td>2</td>\n",
       "      <td>375</td>\n",
       "      <td>888</td>\n",
       "      <td>ENSGALG00000028975</td>\n",
       "      <td>2</td>\n",
       "      <td>1549</td>\n",
       "      <td>1</td>\n",
       "    </tr>\n",
       "    <tr>\n",
       "      <th>unmapped-49-contig_list_contig_48921-0</th>\n",
       "      <td>439</td>\n",
       "      <td>6438</td>\n",
       "      <td>5122</td>\n",
       "      <td>1</td>\n",
       "      <td>439</td>\n",
       "      <td>ENSGALG00000002638</td>\n",
       "      <td>5122</td>\n",
       "      <td>6438</td>\n",
       "      <td>1</td>\n",
       "    </tr>\n",
       "    <tr>\n",
       "      <th>unmapped-49-contig_list_contig_33476-0</th>\n",
       "      <td>717</td>\n",
       "      <td>3247</td>\n",
       "      <td>1097</td>\n",
       "      <td>16</td>\n",
       "      <td>732</td>\n",
       "      <td>ENSGALG00000002798</td>\n",
       "      <td>1097</td>\n",
       "      <td>3247</td>\n",
       "      <td>1</td>\n",
       "    </tr>\n",
       "    <tr>\n",
       "      <th>unmapped-49-contig_list_contig_67081-0</th>\n",
       "      <td>350</td>\n",
       "      <td>2639</td>\n",
       "      <td>1590</td>\n",
       "      <td>1</td>\n",
       "      <td>350</td>\n",
       "      <td>ENSGALG00000005123</td>\n",
       "      <td>1590</td>\n",
       "      <td>2639</td>\n",
       "      <td>1</td>\n",
       "    </tr>\n",
       "    <tr>\n",
       "      <th>EC-4AK111_TAGCTT_R1_(paired)_contig_5821-0</th>\n",
       "      <td>315</td>\n",
       "      <td>54</td>\n",
       "      <td>992</td>\n",
       "      <td>3</td>\n",
       "      <td>311</td>\n",
       "      <td>ENSGALG00000006425</td>\n",
       "      <td>54</td>\n",
       "      <td>992</td>\n",
       "      <td>0</td>\n",
       "    </tr>\n",
       "  </tbody>\n",
       "</table>\n",
       "</div>"
      ],
      "text/plain": [
       "                                            length  qstart  qend  sstart  \\\n",
       "qseqid                                                                     \n",
       "unmapped-49-contig_list_contig_207806-0        517    1549     2     375   \n",
       "unmapped-49-contig_list_contig_48921-0         439    6438  5122       1   \n",
       "unmapped-49-contig_list_contig_33476-0         717    3247  1097      16   \n",
       "unmapped-49-contig_list_contig_67081-0         350    2639  1590       1   \n",
       "EC-4AK111_TAGCTT_R1_(paired)_contig_5821-0     315      54   992       3   \n",
       "\n",
       "                                            send              sseqid  start  \\\n",
       "qseqid                                                                        \n",
       "unmapped-49-contig_list_contig_207806-0      888  ENSGALG00000028975      2   \n",
       "unmapped-49-contig_list_contig_48921-0       439  ENSGALG00000002638   5122   \n",
       "unmapped-49-contig_list_contig_33476-0       732  ENSGALG00000002798   1097   \n",
       "unmapped-49-contig_list_contig_67081-0       350  ENSGALG00000005123   1590   \n",
       "EC-4AK111_TAGCTT_R1_(paired)_contig_5821-0   311  ENSGALG00000006425     54   \n",
       "\n",
       "                                             end  reverse  \n",
       "qseqid                                                     \n",
       "unmapped-49-contig_list_contig_207806-0     1549        1  \n",
       "unmapped-49-contig_list_contig_48921-0      6438        1  \n",
       "unmapped-49-contig_list_contig_33476-0      3247        1  \n",
       "unmapped-49-contig_list_contig_67081-0      2639        1  \n",
       "EC-4AK111_TAGCTT_R1_(paired)_contig_5821-0   992        0  "
      ]
     },
     "execution_count": 5,
     "metadata": {},
     "output_type": "execute_result"
    }
   ],
   "source": [
    "contig2chicken = blast.loc[:,['length','qstart','qend','sstart','send','sseqid']]\n",
    "contig2chicken['start'] = contig2chicken.apply(get_start,axis=1)\n",
    "contig2chicken['end'] = contig2chicken.apply(get_end,axis=1)\n",
    "contig2chicken['reverse'] = contig2chicken.apply(is_reversed,axis=1)\n",
    "contig2chicken.head()"
   ]
  },
  {
   "cell_type": "code",
   "execution_count": 8,
   "metadata": {},
   "outputs": [],
   "source": [
    "# build a header:seq dictionary\n",
    "\n",
    "def get_full_seq():\n",
    "    seq_dict = {}\n",
    "    handle = open(\"/home/bay001/projects/kes_20160307/data/kestrel5-reclustered.no-aerv.no-mtdna.no-vec.no-virus.no-bac.200.fasta\", \"rU\")\n",
    "    for record in SeqIO.parse(handle, \"fasta\"):\n",
    "        seq_dict[record.id] = str(record.seq)\n",
    "    return seq_dict\n",
    "\n",
    "seq_dictionary = get_full_seq()"
   ]
  },
  {
   "cell_type": "code",
   "execution_count": 9,
   "metadata": {},
   "outputs": [
    {
     "data": {
      "text/html": [
       "<div>\n",
       "<table border=\"1\" class=\"dataframe\">\n",
       "  <thead>\n",
       "    <tr style=\"text-align: right;\">\n",
       "      <th></th>\n",
       "      <th>seq</th>\n",
       "    </tr>\n",
       "    <tr>\n",
       "      <th>id</th>\n",
       "      <th></th>\n",
       "    </tr>\n",
       "  </thead>\n",
       "  <tbody>\n",
       "    <tr>\n",
       "      <th>unmapped-49-contig_list_contig_164132-0</th>\n",
       "      <td>CTATGAACAACTGGACTACCCTTTTGGAGAACAGCAGGCATTGCCT...</td>\n",
       "    </tr>\n",
       "    <tr>\n",
       "      <th>unmapped-49-contig_list_contig_190596-0</th>\n",
       "      <td>CATCTGGAAGGCTTAAGAGCATTTGGAATGTATTATTCAGTTATAT...</td>\n",
       "    </tr>\n",
       "    <tr>\n",
       "      <th>unmapped-49-contig_list_contig_69758-0</th>\n",
       "      <td>CTGCCTTCACAAAGCTTCCTGACTGCGTCTGATTTGGGAGGGCGAA...</td>\n",
       "    </tr>\n",
       "    <tr>\n",
       "      <th>unmapped-49-contig_list_contig_98789-0</th>\n",
       "      <td>CTGATTGCCCGGTCGTACATCTAAAGCAACATCACCAGGCACAGTT...</td>\n",
       "    </tr>\n",
       "    <tr>\n",
       "      <th>unmapped-49-contig_list_contig_251301-0</th>\n",
       "      <td>GGATTTTAAAAGAATATTTCCAATCCACAAAAGCCCACTAAAGTTG...</td>\n",
       "    </tr>\n",
       "  </tbody>\n",
       "</table>\n",
       "</div>"
      ],
      "text/plain": [
       "                                                                                       seq\n",
       "id                                                                                        \n",
       "unmapped-49-contig_list_contig_164132-0  CTATGAACAACTGGACTACCCTTTTGGAGAACAGCAGGCATTGCCT...\n",
       "unmapped-49-contig_list_contig_190596-0  CATCTGGAAGGCTTAAGAGCATTTGGAATGTATTATTCAGTTATAT...\n",
       "unmapped-49-contig_list_contig_69758-0   CTGCCTTCACAAAGCTTCCTGACTGCGTCTGATTTGGGAGGGCGAA...\n",
       "unmapped-49-contig_list_contig_98789-0   CTGATTGCCCGGTCGTACATCTAAAGCAACATCACCAGGCACAGTT...\n",
       "unmapped-49-contig_list_contig_251301-0  GGATTTTAAAAGAATATTTCCAATCCACAAAAGCCCACTAAAGTTG..."
      ]
     },
     "execution_count": 9,
     "metadata": {},
     "output_type": "execute_result"
    }
   ],
   "source": [
    "seq_df = pd.DataFrame(seq_dictionary.items(), columns=['id','seq'])\n",
    "seq_df.set_index('id',inplace=True)\n",
    "seq_df.head()"
   ]
  },
  {
   "cell_type": "code",
   "execution_count": 10,
   "metadata": {},
   "outputs": [
    {
     "data": {
      "text/html": [
       "<div>\n",
       "<table border=\"1\" class=\"dataframe\">\n",
       "  <thead>\n",
       "    <tr style=\"text-align: right;\">\n",
       "      <th></th>\n",
       "      <th>length</th>\n",
       "      <th>qstart</th>\n",
       "      <th>qend</th>\n",
       "      <th>sstart</th>\n",
       "      <th>send</th>\n",
       "      <th>sseqid</th>\n",
       "      <th>start</th>\n",
       "      <th>end</th>\n",
       "      <th>reverse</th>\n",
       "      <th>seq</th>\n",
       "    </tr>\n",
       "    <tr>\n",
       "      <th>qseqid</th>\n",
       "      <th></th>\n",
       "      <th></th>\n",
       "      <th></th>\n",
       "      <th></th>\n",
       "      <th></th>\n",
       "      <th></th>\n",
       "      <th></th>\n",
       "      <th></th>\n",
       "      <th></th>\n",
       "      <th></th>\n",
       "    </tr>\n",
       "  </thead>\n",
       "  <tbody>\n",
       "    <tr>\n",
       "      <th>unmapped-49-contig_list_contig_207806-0</th>\n",
       "      <td>517</td>\n",
       "      <td>1549</td>\n",
       "      <td>2</td>\n",
       "      <td>375</td>\n",
       "      <td>888</td>\n",
       "      <td>ENSGALG00000028975</td>\n",
       "      <td>2</td>\n",
       "      <td>1549</td>\n",
       "      <td>1</td>\n",
       "      <td>CTGGAGCCCCCCTGTCCTGCTCATTAACCTGGGGGGTCAGCACCGG...</td>\n",
       "    </tr>\n",
       "    <tr>\n",
       "      <th>unmapped-49-contig_list_contig_48921-0</th>\n",
       "      <td>439</td>\n",
       "      <td>6438</td>\n",
       "      <td>5122</td>\n",
       "      <td>1</td>\n",
       "      <td>439</td>\n",
       "      <td>ENSGALG00000002638</td>\n",
       "      <td>5122</td>\n",
       "      <td>6438</td>\n",
       "      <td>1</td>\n",
       "      <td>GGGGGAAATGCAACTGCCAGACCTTGTTCCTGAGGATGCATCTATT...</td>\n",
       "    </tr>\n",
       "    <tr>\n",
       "      <th>unmapped-49-contig_list_contig_33476-0</th>\n",
       "      <td>717</td>\n",
       "      <td>3247</td>\n",
       "      <td>1097</td>\n",
       "      <td>16</td>\n",
       "      <td>732</td>\n",
       "      <td>ENSGALG00000002798</td>\n",
       "      <td>1097</td>\n",
       "      <td>3247</td>\n",
       "      <td>1</td>\n",
       "      <td>AGCTGCGAGTAATGAGCCAGCCTGGGAAATCAAAAAGACAGACAGT...</td>\n",
       "    </tr>\n",
       "    <tr>\n",
       "      <th>unmapped-49-contig_list_contig_67081-0</th>\n",
       "      <td>350</td>\n",
       "      <td>2639</td>\n",
       "      <td>1590</td>\n",
       "      <td>1</td>\n",
       "      <td>350</td>\n",
       "      <td>ENSGALG00000005123</td>\n",
       "      <td>1590</td>\n",
       "      <td>2639</td>\n",
       "      <td>1</td>\n",
       "      <td>AAGTCATGAAGATAAACCAGTCAGTTTATGCTGTCTGCAAATATAA...</td>\n",
       "    </tr>\n",
       "    <tr>\n",
       "      <th>EC-4AK111_TAGCTT_R1_(paired)_contig_5821-0</th>\n",
       "      <td>315</td>\n",
       "      <td>54</td>\n",
       "      <td>992</td>\n",
       "      <td>3</td>\n",
       "      <td>311</td>\n",
       "      <td>ENSGALG00000006425</td>\n",
       "      <td>54</td>\n",
       "      <td>992</td>\n",
       "      <td>0</td>\n",
       "      <td>CGCCGCACCGCTCCGCCGGACGCGCCGCACCGCCGCAGGGGCGCAG...</td>\n",
       "    </tr>\n",
       "  </tbody>\n",
       "</table>\n",
       "</div>"
      ],
      "text/plain": [
       "                                            length  qstart  qend  sstart  \\\n",
       "qseqid                                                                     \n",
       "unmapped-49-contig_list_contig_207806-0        517    1549     2     375   \n",
       "unmapped-49-contig_list_contig_48921-0         439    6438  5122       1   \n",
       "unmapped-49-contig_list_contig_33476-0         717    3247  1097      16   \n",
       "unmapped-49-contig_list_contig_67081-0         350    2639  1590       1   \n",
       "EC-4AK111_TAGCTT_R1_(paired)_contig_5821-0     315      54   992       3   \n",
       "\n",
       "                                            send              sseqid  start  \\\n",
       "qseqid                                                                        \n",
       "unmapped-49-contig_list_contig_207806-0      888  ENSGALG00000028975      2   \n",
       "unmapped-49-contig_list_contig_48921-0       439  ENSGALG00000002638   5122   \n",
       "unmapped-49-contig_list_contig_33476-0       732  ENSGALG00000002798   1097   \n",
       "unmapped-49-contig_list_contig_67081-0       350  ENSGALG00000005123   1590   \n",
       "EC-4AK111_TAGCTT_R1_(paired)_contig_5821-0   311  ENSGALG00000006425     54   \n",
       "\n",
       "                                             end  reverse  \\\n",
       "qseqid                                                      \n",
       "unmapped-49-contig_list_contig_207806-0     1549        1   \n",
       "unmapped-49-contig_list_contig_48921-0      6438        1   \n",
       "unmapped-49-contig_list_contig_33476-0      3247        1   \n",
       "unmapped-49-contig_list_contig_67081-0      2639        1   \n",
       "EC-4AK111_TAGCTT_R1_(paired)_contig_5821-0   992        0   \n",
       "\n",
       "                                                                                          seq  \n",
       "qseqid                                                                                         \n",
       "unmapped-49-contig_list_contig_207806-0     CTGGAGCCCCCCTGTCCTGCTCATTAACCTGGGGGGTCAGCACCGG...  \n",
       "unmapped-49-contig_list_contig_48921-0      GGGGGAAATGCAACTGCCAGACCTTGTTCCTGAGGATGCATCTATT...  \n",
       "unmapped-49-contig_list_contig_33476-0      AGCTGCGAGTAATGAGCCAGCCTGGGAAATCAAAAAGACAGACAGT...  \n",
       "unmapped-49-contig_list_contig_67081-0      AAGTCATGAAGATAAACCAGTCAGTTTATGCTGTCTGCAAATATAA...  \n",
       "EC-4AK111_TAGCTT_R1_(paired)_contig_5821-0  CGCCGCACCGCTCCGCCGGACGCGCCGCACCGCCGCAGGGGCGCAG...  "
      ]
     },
     "execution_count": 10,
     "metadata": {},
     "output_type": "execute_result"
    }
   ],
   "source": [
    "blast_with_seqs = pd.merge(contig2chicken,seq_df,how='left',left_index=True,right_index=True)\n",
    "blast_with_seqs.head()"
   ]
  },
  {
   "cell_type": "code",
   "execution_count": 11,
   "metadata": {},
   "outputs": [],
   "source": [
    "blast_with_seqs['blast_seq_only'] = blast_with_seqs.apply(get_blast_seq,axis=1)"
   ]
  },
  {
   "cell_type": "markdown",
   "metadata": {},
   "source": [
    "# Sort and see if there are overlapping or contigs which can be patched together by sseqid\n",
    "- need to resolve areas where multiple contigs map to the same gene.\n",
    "- traditionally we've clustered them using cd-hit-est\n",
    "- need to subset each gene then."
   ]
  },
  {
   "cell_type": "code",
   "execution_count": 17,
   "metadata": {},
   "outputs": [
    {
     "data": {
      "text/html": [
       "<div>\n",
       "<table border=\"1\" class=\"dataframe\">\n",
       "  <thead>\n",
       "    <tr style=\"text-align: right;\">\n",
       "      <th></th>\n",
       "      <th>length</th>\n",
       "      <th>qstart</th>\n",
       "      <th>qend</th>\n",
       "      <th>sstart</th>\n",
       "      <th>send</th>\n",
       "      <th>sseqid</th>\n",
       "      <th>start</th>\n",
       "      <th>end</th>\n",
       "      <th>reverse</th>\n",
       "      <th>seq</th>\n",
       "      <th>blast_seq_only</th>\n",
       "    </tr>\n",
       "    <tr>\n",
       "      <th>qseqid</th>\n",
       "      <th></th>\n",
       "      <th></th>\n",
       "      <th></th>\n",
       "      <th></th>\n",
       "      <th></th>\n",
       "      <th></th>\n",
       "      <th></th>\n",
       "      <th></th>\n",
       "      <th></th>\n",
       "      <th></th>\n",
       "      <th></th>\n",
       "    </tr>\n",
       "  </thead>\n",
       "  <tbody>\n",
       "    <tr>\n",
       "      <th>unmapped-49-contig_list_contig_81985-0</th>\n",
       "      <td>440</td>\n",
       "      <td>569</td>\n",
       "      <td>1888</td>\n",
       "      <td>66</td>\n",
       "      <td>505</td>\n",
       "      <td>ENSGALG00000000003</td>\n",
       "      <td>569</td>\n",
       "      <td>1888</td>\n",
       "      <td>0</td>\n",
       "      <td>AGTTAACACACGAGACTCTGTCCTGGTTAGTCACACTTTAATTCAA...</td>\n",
       "      <td>TTTTCTCTCTGTTATACAGAGGAGCCAATATACTGTTACACACCAC...</td>\n",
       "    </tr>\n",
       "    <tr>\n",
       "      <th>unmapped-49-contig_list_contig_48481-0</th>\n",
       "      <td>44</td>\n",
       "      <td>2267</td>\n",
       "      <td>2136</td>\n",
       "      <td>27</td>\n",
       "      <td>70</td>\n",
       "      <td>ENSGALG00000000004</td>\n",
       "      <td>2136</td>\n",
       "      <td>2267</td>\n",
       "      <td>1</td>\n",
       "      <td>GGGGGCTGTATCCAGCCCATGGGCCGTAGTTTGAGGACCCCTGAAT...</td>\n",
       "      <td>GCAGGTAACTTTTCTGAGCAAGCAGTTGAAAACTTTCCATCTTATA...</td>\n",
       "    </tr>\n",
       "    <tr>\n",
       "      <th>unmapped-49-contig_list_contig_35267-0</th>\n",
       "      <td>37</td>\n",
       "      <td>114</td>\n",
       "      <td>4</td>\n",
       "      <td>79</td>\n",
       "      <td>115</td>\n",
       "      <td>ENSGALG00000000004</td>\n",
       "      <td>4</td>\n",
       "      <td>114</td>\n",
       "      <td>1</td>\n",
       "      <td>CTAAAAGGCCTCTAAGGAATCAAAGTTTTTTTCTGGTCGAATATAT...</td>\n",
       "      <td>GAAACACACATTATCCATACCTTCAAAGAAGACTTTTATGGAGAAA...</td>\n",
       "    </tr>\n",
       "    <tr>\n",
       "      <th>unmapped-49-contig_list_contig_35266-0</th>\n",
       "      <td>94</td>\n",
       "      <td>283</td>\n",
       "      <td>2</td>\n",
       "      <td>27</td>\n",
       "      <td>120</td>\n",
       "      <td>ENSGALG00000000004</td>\n",
       "      <td>2</td>\n",
       "      <td>283</td>\n",
       "      <td>1</td>\n",
       "      <td>ATTGAATTGCTGAAATGAGCGCCTCTAAGGAATCAAAGTTTTTTTC...</td>\n",
       "      <td>ACCGCTAACTTTTCTGACCAAGTAGTTGAAAGCTTTCCGTCTGATA...</td>\n",
       "    </tr>\n",
       "    <tr>\n",
       "      <th>EC-4AK111_TAGCTT_R1_(paired)_contig_5796-0</th>\n",
       "      <td>81</td>\n",
       "      <td>3</td>\n",
       "      <td>245</td>\n",
       "      <td>76</td>\n",
       "      <td>156</td>\n",
       "      <td>ENSGALG00000000004</td>\n",
       "      <td>3</td>\n",
       "      <td>245</td>\n",
       "      <td>0</td>\n",
       "      <td>GGAAATCAGTGGAAACACACATTATCCATACCTTCAAAGAAGACTT...</td>\n",
       "      <td>AAATCAGTGGAAACACACATTATCCATACCTTCAAAGAAGACTTTT...</td>\n",
       "    </tr>\n",
       "  </tbody>\n",
       "</table>\n",
       "</div>"
      ],
      "text/plain": [
       "                                            length  qstart  qend  sstart  \\\n",
       "qseqid                                                                     \n",
       "unmapped-49-contig_list_contig_81985-0         440     569  1888      66   \n",
       "unmapped-49-contig_list_contig_48481-0          44    2267  2136      27   \n",
       "unmapped-49-contig_list_contig_35267-0          37     114     4      79   \n",
       "unmapped-49-contig_list_contig_35266-0          94     283     2      27   \n",
       "EC-4AK111_TAGCTT_R1_(paired)_contig_5796-0      81       3   245      76   \n",
       "\n",
       "                                            send              sseqid  start  \\\n",
       "qseqid                                                                        \n",
       "unmapped-49-contig_list_contig_81985-0       505  ENSGALG00000000003    569   \n",
       "unmapped-49-contig_list_contig_48481-0        70  ENSGALG00000000004   2136   \n",
       "unmapped-49-contig_list_contig_35267-0       115  ENSGALG00000000004      4   \n",
       "unmapped-49-contig_list_contig_35266-0       120  ENSGALG00000000004      2   \n",
       "EC-4AK111_TAGCTT_R1_(paired)_contig_5796-0   156  ENSGALG00000000004      3   \n",
       "\n",
       "                                             end  reverse  \\\n",
       "qseqid                                                      \n",
       "unmapped-49-contig_list_contig_81985-0      1888        0   \n",
       "unmapped-49-contig_list_contig_48481-0      2267        1   \n",
       "unmapped-49-contig_list_contig_35267-0       114        1   \n",
       "unmapped-49-contig_list_contig_35266-0       283        1   \n",
       "EC-4AK111_TAGCTT_R1_(paired)_contig_5796-0   245        0   \n",
       "\n",
       "                                                                                          seq  \\\n",
       "qseqid                                                                                          \n",
       "unmapped-49-contig_list_contig_81985-0      AGTTAACACACGAGACTCTGTCCTGGTTAGTCACACTTTAATTCAA...   \n",
       "unmapped-49-contig_list_contig_48481-0      GGGGGCTGTATCCAGCCCATGGGCCGTAGTTTGAGGACCCCTGAAT...   \n",
       "unmapped-49-contig_list_contig_35267-0      CTAAAAGGCCTCTAAGGAATCAAAGTTTTTTTCTGGTCGAATATAT...   \n",
       "unmapped-49-contig_list_contig_35266-0      ATTGAATTGCTGAAATGAGCGCCTCTAAGGAATCAAAGTTTTTTTC...   \n",
       "EC-4AK111_TAGCTT_R1_(paired)_contig_5796-0  GGAAATCAGTGGAAACACACATTATCCATACCTTCAAAGAAGACTT...   \n",
       "\n",
       "                                                                               blast_seq_only  \n",
       "qseqid                                                                                         \n",
       "unmapped-49-contig_list_contig_81985-0      TTTTCTCTCTGTTATACAGAGGAGCCAATATACTGTTACACACCAC...  \n",
       "unmapped-49-contig_list_contig_48481-0      GCAGGTAACTTTTCTGAGCAAGCAGTTGAAAACTTTCCATCTTATA...  \n",
       "unmapped-49-contig_list_contig_35267-0      GAAACACACATTATCCATACCTTCAAAGAAGACTTTTATGGAGAAA...  \n",
       "unmapped-49-contig_list_contig_35266-0      ACCGCTAACTTTTCTGACCAAGTAGTTGAAAGCTTTCCGTCTGATA...  \n",
       "EC-4AK111_TAGCTT_R1_(paired)_contig_5796-0  AAATCAGTGGAAACACACATTATCCATACCTTCAAAGAAGACTTTT...  "
      ]
     },
     "execution_count": 17,
     "metadata": {},
     "output_type": "execute_result"
    }
   ],
   "source": [
    "blast_with_seqs.sort_values('sseqid',inplace=True)\n",
    "blast_with_seqs.head()"
   ]
  },
  {
   "cell_type": "code",
   "execution_count": 106,
   "metadata": {},
   "outputs": [
    {
     "name": "stdout",
     "output_type": "stream",
     "text": [
      "GCAGGTAACTTTTCTGAGCAAGCAGTTGAAAACTTTCCATCTTATATCTGTACTGGTATATACTATGGATGGTCCTGTGCTGGAAATGGAGATGTGCATAAAATGGTTTTGAACACAGGATGGAATCCTTTC\n",
      "ACCGCTAACTTTTCTGACCAAGTAGTTGAAAGCTTTCCGTCTGATATCTCTACTGGTATATACTATGGATGGGCCTGTGTTGGAAATGGAGATGTGCATAAAATGGTTTTGAGCATAGGATGGAATCCTTTCTATAAGAATATTAAGAAATCAGTGGAAACACACATTATCCATACCTTCAAAGAAGACTTTTATGGAGAAATTCTTAGTATAGTCATAATTGGATATATTCGACCAGAAAAAAACTTTGATTCCTTAGAGGCGCTCATTTCAGCAATTCAA\n"
     ]
    },
    {
     "data": {
      "text/plain": [
       "55116"
      ]
     },
     "execution_count": 106,
     "metadata": {},
     "output_type": "execute_result"
    }
   ],
   "source": [
    "# These such sequences need to be clustered together since they are part of the same gene and shouldn't be treated as separate\n",
    "print(blast_with_seqs.ix['unmapped-49-contig_list_contig_48481-0']['blast_seq_only'])\n",
    "print(blast_with_seqs.ix['unmapped-49-contig_list_contig_35266-0']['blast_seq_only'])\n",
    "# Number of unclustered de-duped contigs annotated (should be the same as above)\n",
    "len((blast_with_seqs['sseqid']))"
   ]
  },
  {
   "cell_type": "code",
   "execution_count": 102,
   "metadata": {},
   "outputs": [
    {
     "data": {
      "text/plain": [
       "12756"
      ]
     },
     "execution_count": 102,
     "metadata": {},
     "output_type": "execute_result"
    }
   ],
   "source": [
    "# Number of genes partially annotated\n",
    "X = blast_with_seqs.reset_index().set_index(['sseqid']) # switch indices\n",
    "len(set(X.index))"
   ]
  },
  {
   "cell_type": "code",
   "execution_count": 90,
   "metadata": {},
   "outputs": [
    {
     "name": "stdout",
     "output_type": "stream",
     "text": [
      ". . . . . . . . . . . . . . . . . . . . . . . . . . . . . . . . . . . . . . . . . . . . . . . . . . . . . . . . . . . . . . . . . . . . . . . . . . . . . . . . . . . . . . . . . . . . . . . . . . . . . . . . . . . . . . . . . . . . . . . . . . . . . . .\n"
     ]
    }
   ],
   "source": [
    "def group_by_geneid_and_cluster():\n",
    "    \"\"\"\n",
    "    This function groups sequences by their gene id and runs cd-hit-est to cluster the groups once more.\n",
    "    \"\"\"\n",
    "    unclustered_dir = '/home/bay001/projects/kes_20160307/data/unclustered_genes'\n",
    "    clustered_dir = '/home/bay001/projects/kes_20160307/data/clustered_genes'\n",
    "    x = 0  # just a counter that prints a dot every 100 entries (use tqdm for this!!)\n",
    "    log = {} # capture the log file to look at maybe\n",
    "    skip = False  # If True, don't run cd hit \n",
    "    for gene in list(set(X.index)):\n",
    "        outfile = os.path.join(unclustered_dir,'{}.fasta'.format(gene))\n",
    "        clustered_file = os.path.join(clustered_dir,'{}.clustered.fasta'.format(gene))\n",
    "        dfx = X.ix[gene]\n",
    "        if(type(dfx)==pd.core.series.Series): # if dfx is a series, we just have one sequence in gene.\n",
    "            dfx = pd.DataFrame(X.ix[gene]).T\n",
    "            skip = True\n",
    "        records = [] # list of records per gene\n",
    "        try:\n",
    "            for col,row in dfx.iterrows():\n",
    "                i = row['qseqid']\n",
    "                j = row['blast_seq_only']\n",
    "                record = SeqRecord(Seq(j,IUPAC.IUPACUnambiguousDNA),id=i,description=\"unclustered_contig_of_{}\".format(gene))\n",
    "                records.append(record)\n",
    "            SeqIO.write(records,outfile,\"fasta\")\n",
    "            if(skip!=True):\n",
    "                capture = ! /projects/ps-yeolab3/bay001/software/cdhit/cd-hit-est -i $outfile -o $clustered_file -c 0.95\n",
    "                log[gene] = capture\n",
    "            else:\n",
    "                ! mv $outfile $clustered_file\n",
    "            x = x + 1\n",
    "            if x%100 == 0:\n",
    "                print('.'),\n",
    "        except Exception as e:\n",
    "            print(e)\n",
    "            print(gene)\n",
    "        \n",
    "log = group_by_geneid_and_cluster()"
   ]
  },
  {
   "cell_type": "markdown",
   "metadata": {},
   "source": [
    "# Concatenate all clustered fasta sequences to get the final gene annotations"
   ]
  },
  {
   "cell_type": "code",
   "execution_count": 100,
   "metadata": {},
   "outputs": [
    {
     "data": {
      "text/plain": [
       "12756"
      ]
     },
     "execution_count": 100,
     "metadata": {},
     "output_type": "execute_result"
    }
   ],
   "source": [
    "allgenes = ! ls /home/bay001/projects/kes_20160307/data/clustered_genes/*.fasta\n",
    "len(allgenes)"
   ]
  },
  {
   "cell_type": "code",
   "execution_count": 101,
   "metadata": {},
   "outputs": [
    {
     "data": {
      "text/plain": [
       "38289"
      ]
     },
     "execution_count": 101,
     "metadata": {},
     "output_type": "execute_result"
    }
   ],
   "source": [
    "full_clustered_output = '/home/bay001/projects/kes_20160307/data/clustered_genes/kestrel_blast_clustered_transcripts.fa'\n",
    "records = []\n",
    "for gene in allgenes:\n",
    "    handle = open(gene, \"rU\")\n",
    "    for record in SeqIO.parse(handle, \"fasta\"):\n",
    "        new_record = SeqIO.SeqRecord(record.seq,record.id,description=record.description.replace('unclustered','clustered'))\n",
    "        \n",
    "        records.append(new_record)\n",
    "SeqIO.write(records,full_clustered_output,\"fasta\")"
   ]
  },
  {
   "cell_type": "code",
   "execution_count": null,
   "metadata": {
    "collapsed": true
   },
   "outputs": [],
   "source": [
    "\n",
    "full_clustered_output = '/home/bay001/projects/kes_20160307/data/unclustered_genes/kestrel_blast_unclustered_transcripts.fa'\n",
    "records = []\n",
    "for gene in allgenes:\n",
    "    handle = open(gene, \"rU\")\n",
    "    for record in SeqIO.parse(handle, \"fasta\"):\n",
    "        new_record = SeqIO.SeqRecord(record.seq,record.id,description=record.description.replace('unclustered','clustered'))\n",
    "        \n",
    "        records.append(new_record)\n",
    "SeqIO.write(records,full_clustered_output,\"fasta\")"
   ]
  },
  {
   "cell_type": "code",
   "execution_count": null,
   "metadata": {},
   "outputs": [],
   "source": [
    "to_export = pd.concat([blast_with_seqs['sseqid'],blast_with_seqs['blast_seq_only']],axis=1)\n",
    "to_export_full = pd.concat([blast_with_seqs['sseqid'],blast_with_seqs['seq']],axis=1)"
   ]
  },
  {
   "cell_type": "code",
   "execution_count": null,
   "metadata": {},
   "outputs": [],
   "source": [
    "o = open('/home/bay001/projects/kes_20160307/data/clustered_genes/log.txt','w')\n",
    "for gene, out in log.iteritems():\n",
    "    o.write(gene)\n",
    "    for line in out:\n",
    "        o.write(line+'\\n')\n",
    "o.close()"
   ]
  },
  {
   "cell_type": "code",
   "execution_count": null,
   "metadata": {},
   "outputs": [],
   "source": [
    "to_export.to_csv(os.path.join(wd,'blast_seq_only.txt'),sep=\"\\t\",header=None)\n",
    "to_export_full.to_csv(os.path.join(wd,'blast_seq_full.txt'),sep=\"\\t\",header=None)"
   ]
  },
  {
   "cell_type": "markdown",
   "metadata": {},
   "source": [
    "### Load BLAST results from blastx (actually used diamond for this analysis because it's faster) to uniref90\n",
    "- Filter out e-value less than threshold (set at 1e-10)\n",
    "- Sort by e-value (ascending)\n",
    "- Remove duplicate contigs (contigs which map to multiple proteins, only take the lowest e-value)"
   ]
  },
  {
   "cell_type": "code",
   "execution_count": null,
   "metadata": {},
   "outputs": [],
   "source": [
    "uniref = pd.read_table(os.path.join(wd,'diamond/all.blast'),names=blast_head)\n",
    "print(\"number of starting hits: {}\".format(uniref.shape[0]))\n",
    "uniref = uniref[uniref['evalue'] < 1e-10]\n",
    "print(\"number of filtered for e-value hits: {}\".format(uniref.shape[0]))\n",
    "uniref.sort_values(by='evalue',inplace=True)\n",
    "uniref.drop_duplicates('qseqid',inplace=True, keep='first')\n",
    "print(\"number of filtered hits for de-duplicated contigs: {}\".format(uniref.shape[0]))\n",
    "uniref.head()"
   ]
  },
  {
   "cell_type": "markdown",
   "metadata": {},
   "source": [
    "### This is a silly converter since it's difficult to map existing sseqids to any database. So I need to re-map them to their RepID (gene name).\n",
    "- grep '>' uniref90.fasta > uniref90.headers\n",
    "- extract from the fasta header the RepID\n",
    "- create translation table (UniRef90_* -> RepID)"
   ]
  },
  {
   "cell_type": "code",
   "execution_count": null,
   "metadata": {},
   "outputs": [],
   "source": [
    "uniref_translation = pd.read_table('/home/bay001/projects/kes_20160307/data/uniref90.headers',names=['uniref'])\n",
    "uniref_translation.head(2)"
   ]
  },
  {
   "cell_type": "code",
   "execution_count": null,
   "metadata": {
    "collapsed": true
   },
   "outputs": [],
   "source": [
    "uniref_translation = uniref_translation['uniref'].str.replace('>','')"
   ]
  },
  {
   "cell_type": "code",
   "execution_count": null,
   "metadata": {},
   "outputs": [],
   "source": [
    "uniref2gene = uniref_translation.str.extract('(^[\\w\\d-]+).+ RepID=([\\w-]+)$')"
   ]
  },
  {
   "cell_type": "code",
   "execution_count": null,
   "metadata": {},
   "outputs": [],
   "source": [
    "uniref2gene.reset_index(inplace=True)\n",
    "uniref2gene.head()"
   ]
  },
  {
   "cell_type": "code",
   "execution_count": null,
   "metadata": {},
   "outputs": [],
   "source": [
    "# save this intermediate step because this takes a long time.\n",
    "uniref2gene.to_csv('/home/bay001/projects/kes_20160307/data/uniref2gene.txt',sep='\\t',header=None,index=None)"
   ]
  },
  {
   "cell_type": "code",
   "execution_count": null,
   "metadata": {},
   "outputs": [],
   "source": [
    "uniref2gene = pd.read_table('/home/bay001/projects/kes_20160307/data/uniref2gene.txt',names=[0,1])\n",
    "uniref2gene.head(2)"
   ]
  },
  {
   "cell_type": "code",
   "execution_count": null,
   "metadata": {},
   "outputs": [],
   "source": [
    "# make sure we capture all annotations, that the regex expression is correct. This list should be empty.\n",
    "uniref2gene[uniref2gene.isnull().any(axis=1)]"
   ]
  },
  {
   "cell_type": "code",
   "execution_count": null,
   "metadata": {},
   "outputs": [],
   "source": [
    "uniref2blast = pd.merge(uniref,uniref2gene,how='left',left_on='sseqid',right_on=0)\n",
    "uniref2blast.head()"
   ]
  },
  {
   "cell_type": "markdown",
   "metadata": {},
   "source": []
  },
  {
   "cell_type": "code",
   "execution_count": null,
   "metadata": {},
   "outputs": [],
   "source": [
    "contig2uniref = uniref2blast.loc[:,['qseqid','sseqid']]\n",
    "contig2uniref.set_index('qseqid',inplace=True)\n",
    "contig2uniref.rename(columns={'sseqid':'uniref'},inplace=True)\n",
    "print(contig2uniref.shape)\n",
    "contig2uniref.drop_duplicates() # Sanity check.\n",
    "print(contig2uniref.shape)\n",
    "contig2uniref.head()"
   ]
  },
  {
   "cell_type": "code",
   "execution_count": null,
   "metadata": {},
   "outputs": [],
   "source": [
    "uniref2blast[uniref2blast[0]=='UniRef90_Q9H3D4'] # more sanity check. Make sure this is mapping to just one"
   ]
  },
  {
   "cell_type": "markdown",
   "metadata": {},
   "source": [
    "# Append the annotations to our read counts table.\n",
    "- merge chicken ensembl blast hits\n",
    "- merge uniref90 blast hits"
   ]
  },
  {
   "cell_type": "code",
   "execution_count": null,
   "metadata": {},
   "outputs": [],
   "source": [
    "countsdf = pd.read_table(counts,index_col=0)\n",
    "print(countsdf.shape[0])\n",
    "countsdf.head(2)"
   ]
  },
  {
   "cell_type": "code",
   "execution_count": null,
   "metadata": {},
   "outputs": [],
   "source": [
    "merged_ensembl = pd.merge(countsdf,contig2chicken,how='left',left_index=True,right_index=True)\n",
    "merged_ensembl.head(2)"
   ]
  },
  {
   "cell_type": "code",
   "execution_count": null,
   "metadata": {},
   "outputs": [],
   "source": [
    "# contig2chicken.ix['EC-4AK111_TAGCTT_R1_(paired)_contig_1003-0']\n",
    "contig2chicken.drop_duplicates().shape"
   ]
  },
  {
   "cell_type": "code",
   "execution_count": null,
   "metadata": {},
   "outputs": [],
   "source": [
    "# Print some basic stats after annotating with ensembl blast hits\n",
    "print(\"number of total contigs: {}\".format(merged_ensembl.shape[0]))\n",
    "print(\"number of annotated contigs: {}\".format(merged_ensembl.shape[0] - \n",
    "                                               merged_ensembl[merged_ensembl.isnull().any(axis=1)].shape[0]))\n",
    "print(\"number of still missing annotated contigs: {}\".format(merged_ensembl[merged_ensembl.isnull().any(axis=1)].shape[0]))"
   ]
  },
  {
   "cell_type": "code",
   "execution_count": null,
   "metadata": {},
   "outputs": [],
   "source": [
    "merged_ensembl_uniref = pd.merge(merged_ensembl,contig2uniref,how='left',left_index=True,right_index=True)\n",
    "merged_ensembl_uniref.head(2)"
   ]
  },
  {
   "cell_type": "code",
   "execution_count": null,
   "metadata": {},
   "outputs": [],
   "source": [
    "merged_ensembl_uniref['annotation'] = merged_ensembl_uniref['ensembl']\n",
    "merged_ensembl_uniref['annotation'].fillna(merged_ensembl_uniref['uniref'],inplace=True)\n",
    "merged_ensembl_uniref.head()"
   ]
  },
  {
   "cell_type": "code",
   "execution_count": null,
   "metadata": {},
   "outputs": [],
   "source": [
    "# Print some basic stats after annotating with ensembl blast hits\n",
    "print(\"number of total contigs: {}\".format(merged_ensembl_uniref.shape[0]))\n",
    "print(\"number of annotated contigs: {}\".format(merged_ensembl_uniref.dropna(subset=['annotation']).shape[0]))\n",
    "print(\"number of uniref annotations not ensembl: {}\".format(merged_ensembl_uniref[merged_ensembl_uniref['annotation'].str.contains('(UniRef)')==True].shape[0]))\n",
    "print(\"number of ensembl annotations: {}\".format(merged_ensembl_uniref[merged_ensembl_uniref['annotation'].str.contains('(ENSG)')==True].shape[0]))"
   ]
  },
  {
   "cell_type": "code",
   "execution_count": null,
   "metadata": {},
   "outputs": [],
   "source": [
    "# translate counts into an annotated counts table.\n",
    "merged_ensembl_uniref.to_csv('/home/bay001/projects/kes_20160307/permanent_data/9-27-2016/annotations.txt',sep='\\t')\n",
    "new_counts_df = merged_ensembl_uniref.reset_index()\n",
    "new_counts_df['annotation'].fillna(new_counts_df['gene_id'],inplace=True)\n",
    "del new_counts_df['ensembl']\n",
    "del new_counts_df['uniref']\n",
    "del new_counts_df['gene_id']\n",
    "cols = new_counts_df.columns.tolist()\n",
    "cols.insert(0,cols.pop(cols.index('annotation')))\n",
    "new_counts_df = new_counts_df.reindex(columns = cols)\n",
    "new_counts_df.to_csv('/home/bay001/projects/kes_20160307/permanent_data/9-27-2016/counts.RSEM.txt.annotated',sep='\\t',\n",
    "                    index=None)\n",
    "new_counts_df.head()\n"
   ]
  },
  {
   "cell_type": "code",
   "execution_count": null,
   "metadata": {},
   "outputs": [],
   "source": [
    "# give the counts table gene names\n",
    "merged_ensembl_uniref['uniref'].dropna().to_csv('/home/bay001/projects/kes_20160307/data/uniref_ids.txt',index=None)"
   ]
  },
  {
   "cell_type": "code",
   "execution_count": null,
   "metadata": {},
   "outputs": [],
   "source": [
    "ensembl2name = pd.read_table('/home/bay001/projects/kes_20160307/permanent_data/9-27-2016/ensembl_to_genename.txt')\n",
    "ensembl2name.head(2)"
   ]
  },
  {
   "cell_type": "code",
   "execution_count": null,
   "metadata": {},
   "outputs": [],
   "source": [
    "new_counts_df2 = pd.merge(new_counts_df,ensembl2name,how='left',left_on='annotation',right_on='Ensembl Gene ID')\n",
    "new_counts_df2['Associated Gene Name'].fillna(new_counts_df2['annotation'],inplace=True)\n",
    "del new_counts_df2['Ensembl Gene ID']\n",
    "del new_counts_df2['annotation']\n",
    "cols = new_counts_df2.columns.tolist()\n",
    "cols.insert(0,cols.pop(cols.index('Associated Gene Name')))\n",
    "new_counts_df2 = new_counts_df2.reindex(columns = cols)\n",
    "# new_counts_df2.rename(columns={'Associated Gene Name':'annotation'},inplace=True)\n",
    "new_counts_df2.to_csv('/home/bay001/projects/kes_20160307/permanent_data/9-27-2016/counts.RSEM.txt.gene-name.annotated',sep='\\t',\n",
    "                    index=None)\n",
    "new_counts_df2.head()"
   ]
  },
  {
   "cell_type": "markdown",
   "metadata": {},
   "source": [
    "# Create a new gene to trans map with the blast hits"
   ]
  },
  {
   "cell_type": "code",
   "execution_count": null,
   "metadata": {},
   "outputs": [],
   "source": [
    "allcontigs = pd.DataFrame(countsdf.reset_index()['gene_id'])\n",
    "allcontigs.rename(columns = {'gene_id':'qseqid'},inplace=True)\n",
    "allcontigs['gene'] = np.nan\n",
    "\n",
    "gene_to_trans = pd.concat([contig2chicken.rename(columns={'ensembl':'gene'}),\n",
    "                           contig2uniref.rename(columns={'uniref':'gene'}),\n",
    "                           allcontigs.set_index('qseqid')])\n",
    "\n",
    "gene_to_trans = gene_to_trans.reset_index().drop_duplicates(subset='qseqid')\n",
    "gene_to_trans.head()"
   ]
  },
  {
   "cell_type": "code",
   "execution_count": null,
   "metadata": {},
   "outputs": [],
   "source": [
    "# reorder gene-to-trans map\n",
    "cols = gene_to_trans.columns.tolist()\n",
    "cols.insert(0,cols.pop(cols.index('gene')))\n",
    "gene_to_trans = gene_to_trans.reindex(columns = cols)\n",
    "gene_to_trans.head()"
   ]
  },
  {
   "cell_type": "code",
   "execution_count": null,
   "metadata": {},
   "outputs": [],
   "source": [
    "# Uh oh. Looks like the gene to trans map contains more transcripts that don't exist in the current assembly.\n",
    "print(gene_to_trans.shape[0])\n",
    "! wc -l /home/bay001/projects/kes_20160307/data/kestrel.headers"
   ]
  },
  {
   "cell_type": "markdown",
   "metadata": {},
   "source": [
    "# Creating new gene-to-trans-map\n",
    "##### There are more contigs in our map than what exists in the filtered assembly. This is due to the fact that I used the blast hits (which will include some filtered vectors/viruses/bacteria/etc., so I'll need to re-make the trans-to-gene map without this. \n",
    "- import headers from the assembly\n",
    "- join assembly headers with existing gene-to-trans-map and remove the contigs that dropped out"
   ]
  },
  {
   "cell_type": "code",
   "execution_count": null,
   "metadata": {},
   "outputs": [],
   "source": [
    "X = pd.read_table('/home/bay001/projects/kes_20160307/data/kestrel.headers',names=['headers'])\n",
    "X['qseqid'] = X['headers'].str.replace('>','')\n",
    "del X['headers']\n",
    "Y = pd.merge(X,gene_to_trans,how='left', on='qseqid')\n",
    "Y['gene'].fillna(Y['qseqid'],inplace=True)\n",
    "# reorder gene-to-trans map\n",
    "cols = Y.columns.tolist()\n",
    "cols.insert(0,cols.pop(cols.index('gene')))\n",
    "Y = Y.reindex(columns = cols)\n",
    "Y.to_csv('/home/bay001/projects/kes_20160307/permanent_data/9-27-2016/gene_to_trans.map',\n",
    "                    sep='\\t',header=None,index=None)"
   ]
  },
  {
   "cell_type": "code",
   "execution_count": null,
   "metadata": {},
   "outputs": [],
   "source": [
    "Y.shape # now contains the exact number of contigs (transcripts) to corresponding genes. "
   ]
  },
  {
   "cell_type": "code",
   "execution_count": null,
   "metadata": {},
   "outputs": [],
   "source": [
    "# How many gene names are captured?\n",
    "new_counts_df3 = pd.merge(new_counts_df,ensembl2name,how='left',left_on='annotation',right_on='Ensembl Gene ID')\n",
    "len(set(new_counts_df3['Associated Gene Name'].dropna()))"
   ]
  },
  {
   "cell_type": "markdown",
   "metadata": {},
   "source": [
    "# Create test counts matrix for deseq2 (while we wait for RSEM to finish)"
   ]
  },
  {
   "cell_type": "code",
   "execution_count": null,
   "metadata": {},
   "outputs": [],
   "source": [
    "testdf = new_counts_df3[new_counts_df3['annotation'].duplicated()==True].sort_values('annotation').drop_duplicates('annotation')\n",
    "del testdf['Ensembl Gene ID']\n",
    "del testdf['Associated Gene Name']\n",
    "testdf.to_csv('/home/bay001/projects/kes_20160307/data/counts.TEST.txt',sep='\\t',index=None)"
   ]
  },
  {
   "cell_type": "markdown",
   "metadata": {},
   "source": [
    "# load up new countsdf"
   ]
  },
  {
   "cell_type": "code",
   "execution_count": null,
   "metadata": {
    "collapsed": true
   },
   "outputs": [],
   "source": [
    "cdf = pd.read_table('/home/bay001/projects/kes_20160307/permanent_data/9-27-2016/counts.RSEM.txt')"
   ]
  },
  {
   "cell_type": "code",
   "execution_count": null,
   "metadata": {},
   "outputs": [],
   "source": [
    "cdf[cdf['gene_id'].str.contains('ENSG')].shape"
   ]
  },
  {
   "cell_type": "code",
   "execution_count": null,
   "metadata": {
    "collapsed": true
   },
   "outputs": [],
   "source": []
  }
 ],
 "metadata": {
  "kernelspec": {
   "display_name": "Python 2",
   "language": "python",
   "name": "python2"
  },
  "language_info": {
   "codemirror_mode": {
    "name": "ipython",
    "version": 2
   },
   "file_extension": ".py",
   "mimetype": "text/x-python",
   "name": "python",
   "nbconvert_exporter": "python",
   "pygments_lexer": "ipython2",
   "version": "2.7.13"
  }
 },
 "nbformat": 4,
 "nbformat_minor": 1
}
