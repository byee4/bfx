{
 "cells": [
  {
   "cell_type": "markdown",
   "metadata": {
    "collapsed": false
   },
   "source": [
    "# Perform DESeq2 again to make sure results are consistent with the past run (they really should be...)"
   ]
  },
  {
   "cell_type": "code",
   "execution_count": 2,
   "metadata": {
    "collapsed": false
   },
   "outputs": [
    {
     "name": "stderr",
     "output_type": "stream",
     "text": [
      "Loading required package: S4Vectors\n",
      "Loading required package: stats4\n",
      "Loading required package: BiocGenerics\n",
      "Loading required package: parallel\n",
      "\n",
      "Attaching package: 'BiocGenerics'\n",
      "\n",
      "The following objects are masked from 'package:parallel':\n",
      "\n",
      "    clusterApply, clusterApplyLB, clusterCall, clusterEvalQ,\n",
      "    clusterExport, clusterMap, parApply, parCapply, parLapply,\n",
      "    parLapplyLB, parRapply, parSapply, parSapplyLB\n",
      "\n",
      "The following objects are masked from 'package:stats':\n",
      "\n",
      "    IQR, mad, xtabs\n",
      "\n",
      "The following objects are masked from 'package:base':\n",
      "\n",
      "    Filter, Find, Map, Position, Reduce, anyDuplicated, append,\n",
      "    as.data.frame, as.vector, cbind, colnames, do.call, duplicated,\n",
      "    eval, evalq, get, grep, grepl, intersect, is.unsorted, lapply,\n",
      "    lengths, mapply, match, mget, order, paste, pmax, pmax.int, pmin,\n",
      "    pmin.int, rank, rbind, rownames, sapply, setdiff, sort, table,\n",
      "    tapply, union, unique, unlist, unsplit\n",
      "\n",
      "Loading required package: IRanges\n",
      "Loading required package: GenomicRanges\n",
      "Loading required package: GenomeInfoDb\n",
      "Loading required package: SummarizedExperiment\n",
      "Loading required package: Biobase\n",
      "Welcome to Bioconductor\n",
      "\n",
      "    Vignettes contain introductory material; view with\n",
      "    'browseVignettes()'. To cite Bioconductor, see\n",
      "    'citation(\"Biobase\")', and for packages 'citation(\"pkgname\")'.\n",
      "\n",
      "Loading required package: Rcpp\n",
      "Loading required package: RcppArmadillo\n",
      "Warning message:\n",
      "\"package 'RColorBrewer' was built under R version 3.3.1\"\n",
      "Attaching package: 'dplyr'\n",
      "\n",
      "The following object is masked from 'package:Biobase':\n",
      "\n",
      "    combine\n",
      "\n",
      "The following objects are masked from 'package:GenomicRanges':\n",
      "\n",
      "    intersect, setdiff, union\n",
      "\n",
      "The following object is masked from 'package:GenomeInfoDb':\n",
      "\n",
      "    intersect\n",
      "\n",
      "The following objects are masked from 'package:IRanges':\n",
      "\n",
      "    collapse, desc, intersect, setdiff, slice, union\n",
      "\n",
      "The following objects are masked from 'package:S4Vectors':\n",
      "\n",
      "    intersect, rename, setdiff, union\n",
      "\n",
      "The following objects are masked from 'package:BiocGenerics':\n",
      "\n",
      "    combine, intersect, setdiff, union\n",
      "\n",
      "The following objects are masked from 'package:stats':\n",
      "\n",
      "    filter, lag\n",
      "\n",
      "The following objects are masked from 'package:base':\n",
      "\n",
      "    intersect, setdiff, setequal, union\n",
      "\n",
      "Loading required package: org.Hs.eg.db\n",
      "Loading required package: AnnotationDbi\n",
      "\n",
      "Attaching package: 'AnnotationDbi'\n",
      "\n",
      "The following object is masked from 'package:dplyr':\n",
      "\n",
      "    select\n",
      "\n",
      "Loading required package: DBI\n",
      "\n",
      "##############################################################################\n",
      "Pathview is an open source software package distributed under GNU General\n",
      "Public License version 3 (GPLv3). Details of GPLv3 is available at\n",
      "http://www.gnu.org/licenses/gpl-3.0.html.\n",
      "\n",
      "The pathview downloads and uses KEGG data. Academic users may freely use the\n",
      "KEGG website at http://www.kegg.jp/ or its mirror site at GenomeNet\n",
      "http://www.genome.jp/kegg/. Academic users may also freely link to the KEGG\n",
      "website. Non-academic users may use the KEGG website as end users for\n",
      "non-commercial purposes, but any other use requires a license agreement\n",
      "(details at http://www.kegg.jp/kegg/legal.html).\n",
      "##############################################################################\n",
      "\n"
     ]
    }
   ],
   "source": [
    "library(\"DESeq2\")\n",
    "library(\"RColorBrewer\")\n",
    "library(\"ggplot2\")\n",
    "library(\"pheatmap\")\n",
    "library('dplyr') # we need to unload this package eventually as it masks some essential downstream functions\n",
    "\n",
    "library('pathview')\n",
    "library('gage')\n",
    "library('org.Gg.eg.db')\n",
    "library(\"AnnotationDbi\")"
   ]
  },
  {
   "cell_type": "code",
   "execution_count": 5,
   "metadata": {
    "collapsed": false
   },
   "outputs": [
    {
     "data": {
      "text/html": [
       "<dl>\n",
       "\t<dt>$`gga00970 Aminoacyl-tRNA biosynthesis`</dt>\n",
       "\t\t<dd><ol class=list-inline>\n",
       "\t<li>'100858214'</li>\n",
       "\t<li>'100859604'</li>\n",
       "\t<li>'415389'</li>\n",
       "\t<li>'415532'</li>\n",
       "\t<li>'415668'</li>\n",
       "\t<li>'415885'</li>\n",
       "\t<li>'415957'</li>\n",
       "\t<li>'416057'</li>\n",
       "\t<li>'416132'</li>\n",
       "\t<li>'416168'</li>\n",
       "\t<li>'416347'</li>\n",
       "\t<li>'416976'</li>\n",
       "\t<li>'418131'</li>\n",
       "\t<li>'418312'</li>\n",
       "\t<li>'418757'</li>\n",
       "\t<li>'419026'</li>\n",
       "\t<li>'419666'</li>\n",
       "\t<li>'420702'</li>\n",
       "\t<li>'421346'</li>\n",
       "\t<li>'421348'</li>\n",
       "\t<li>'421436'</li>\n",
       "\t<li>'421781'</li>\n",
       "\t<li>'421823'</li>\n",
       "\t<li>'422480'</li>\n",
       "\t<li>'422808'</li>\n",
       "\t<li>'423086'</li>\n",
       "\t<li>'423458'</li>\n",
       "\t<li>'424296'</li>\n",
       "\t<li>'424408'</li>\n",
       "\t<li>'424659'</li>\n",
       "\t<li>'424812'</li>\n",
       "\t<li>'425613'</li>\n",
       "\t<li>'426697'</li>\n",
       "\t<li>'426856'</li>\n",
       "\t<li>'427427'</li>\n",
       "\t<li>'427672'</li>\n",
       "\t<li>'428403'</li>\n",
       "\t<li>'428482'</li>\n",
       "\t<li>'428689'</li>\n",
       "\t<li>'768802'</li>\n",
       "\t<li>'770407'</li>\n",
       "\t<li>'771778'</li>\n",
       "\t<li>'tRNA-Ala'</li>\n",
       "\t<li>'tRNA-Arg'</li>\n",
       "\t<li>'tRNA-Asn'</li>\n",
       "\t<li>'tRNA-Asp'</li>\n",
       "\t<li>'tRNA-Cys'</li>\n",
       "\t<li>'tRNA-Gln'</li>\n",
       "\t<li>'tRNA-Glu'</li>\n",
       "\t<li>'tRNA-Gly'</li>\n",
       "\t<li>'tRNA-His'</li>\n",
       "\t<li>'tRNA-Ile'</li>\n",
       "\t<li>'tRNA-Leu-1'</li>\n",
       "\t<li>'tRNA-Leu-2'</li>\n",
       "\t<li>'tRNA-Lys'</li>\n",
       "\t<li>'tRNA-Met'</li>\n",
       "\t<li>'tRNA-Phe'</li>\n",
       "\t<li>'tRNA-Pro'</li>\n",
       "\t<li>'tRNA-Ser-1'</li>\n",
       "\t<li>'tRNA-Ser-2'</li>\n",
       "\t<li>'tRNA-Thr'</li>\n",
       "\t<li>'tRNA-Trp'</li>\n",
       "\t<li>'tRNA-Tyr'</li>\n",
       "\t<li>'tRNA-Val'</li>\n",
       "</ol>\n",
       "</dd>\n",
       "\t<dt>$`gga02010 ABC transporters`</dt>\n",
       "\t\t<dd><ol class=list-inline>\n",
       "\t<li>'100049619'</li>\n",
       "\t<li>'107055879'</li>\n",
       "\t<li>'373945'</li>\n",
       "\t<li>'395416'</li>\n",
       "\t<li>'395712'</li>\n",
       "\t<li>'416386'</li>\n",
       "\t<li>'416600'</li>\n",
       "\t<li>'416834'</li>\n",
       "\t<li>'417440'</li>\n",
       "\t<li>'417443'</li>\n",
       "\t<li>'417444'</li>\n",
       "\t<li>'417694'</li>\n",
       "\t<li>'418200'</li>\n",
       "\t<li>'418468'</li>\n",
       "\t<li>'418533'</li>\n",
       "\t<li>'418791'</li>\n",
       "\t<li>'420534'</li>\n",
       "\t<li>'420606'</li>\n",
       "\t<li>'420943'</li>\n",
       "\t<li>'421401'</li>\n",
       "\t<li>'421402'</li>\n",
       "\t<li>'421456'</li>\n",
       "\t<li>'421537'</li>\n",
       "\t<li>'422099'</li>\n",
       "\t<li>'422326'</li>\n",
       "\t<li>'423072'</li>\n",
       "\t<li>'423349'</li>\n",
       "\t<li>'423767'</li>\n",
       "\t<li>'423828'</li>\n",
       "\t<li>'424011'</li>\n",
       "\t<li>'424170'</li>\n",
       "\t<li>'424487'</li>\n",
       "\t<li>'424490'</li>\n",
       "\t<li>'424947'</li>\n",
       "\t<li>'425721'</li>\n",
       "\t<li>'426955'</li>\n",
       "\t<li>'427727'</li>\n",
       "\t<li>'427728'</li>\n",
       "\t<li>'428242'</li>\n",
       "</ol>\n",
       "</dd>\n",
       "\t<dt>$`gga03008 Ribosome biogenesis in eukaryotes`</dt>\n",
       "\t\t<dd><ol class=list-inline>\n",
       "\t<li>'100857200'</li>\n",
       "\t<li>'100858366'</li>\n",
       "\t<li>'100861562'</li>\n",
       "\t<li>'100873151'</li>\n",
       "\t<li>'101748079'</li>\n",
       "\t<li>'107053172'</li>\n",
       "\t<li>'107055627'</li>\n",
       "\t<li>'396193'</li>\n",
       "\t<li>'415384'</li>\n",
       "\t<li>'415467'</li>\n",
       "\t<li>'415609'</li>\n",
       "\t<li>'415626'</li>\n",
       "\t<li>'415867'</li>\n",
       "\t<li>'415897'</li>\n",
       "\t<li>'416218'</li>\n",
       "\t<li>'416276'</li>\n",
       "\t<li>'416545'</li>\n",
       "\t<li>'416973'</li>\n",
       "\t<li>'417388'</li>\n",
       "\t<li>'417405'</li>\n",
       "\t<li>'417477'</li>\n",
       "\t<li>'417975'</li>\n",
       "\t<li>'417986'</li>\n",
       "\t<li>'418292'</li>\n",
       "\t<li>'418551'</li>\n",
       "\t<li>'419140'</li>\n",
       "\t<li>'419614'</li>\n",
       "\t<li>'419761'</li>\n",
       "\t<li>'420458'</li>\n",
       "\t<li>'420530'</li>\n",
       "\t<li>'420870'</li>\n",
       "\t<li>'420876'</li>\n",
       "\t<li>'420911'</li>\n",
       "\t<li>'421192'</li>\n",
       "\t<li>'421236'</li>\n",
       "\t<li>'421295'</li>\n",
       "\t<li>'421326'</li>\n",
       "\t<li>'421811'</li>\n",
       "\t<li>'422140'</li>\n",
       "\t<li>'422196'</li>\n",
       "\t<li>'422346'</li>\n",
       "\t<li>'422665'</li>\n",
       "\t<li>'422697'</li>\n",
       "\t<li>'423355'</li>\n",
       "\t<li>'423633'</li>\n",
       "\t<li>'423795'</li>\n",
       "\t<li>'423985'</li>\n",
       "\t<li>'424087'</li>\n",
       "\t<li>'424778'</li>\n",
       "\t<li>'424897'</li>\n",
       "\t<li>'425009'</li>\n",
       "\t<li>'425215'</li>\n",
       "\t<li>'425567'</li>\n",
       "\t<li>'425734'</li>\n",
       "\t<li>'426152'</li>\n",
       "\t<li>'426574'</li>\n",
       "\t<li>'426609'</li>\n",
       "\t<li>'427001'</li>\n",
       "\t<li>'427222'</li>\n",
       "\t<li>'427278'</li>\n",
       "\t<li>'427403'</li>\n",
       "\t<li>'427952'</li>\n",
       "\t<li>'430848'</li>\n",
       "\t<li>'432370'</li>\n",
       "\t<li>'768362'</li>\n",
       "\t<li>'769632'</li>\n",
       "\t<li>'l-rRNA'</li>\n",
       "\t<li>'s-rRNA'</li>\n",
       "</ol>\n",
       "</dd>\n",
       "</dl>\n"
      ],
      "text/latex": [
       "\\begin{description}\n",
       "\\item[\\$`gga00970 Aminoacyl-tRNA biosynthesis`] \\begin{enumerate*}\n",
       "\\item '100858214'\n",
       "\\item '100859604'\n",
       "\\item '415389'\n",
       "\\item '415532'\n",
       "\\item '415668'\n",
       "\\item '415885'\n",
       "\\item '415957'\n",
       "\\item '416057'\n",
       "\\item '416132'\n",
       "\\item '416168'\n",
       "\\item '416347'\n",
       "\\item '416976'\n",
       "\\item '418131'\n",
       "\\item '418312'\n",
       "\\item '418757'\n",
       "\\item '419026'\n",
       "\\item '419666'\n",
       "\\item '420702'\n",
       "\\item '421346'\n",
       "\\item '421348'\n",
       "\\item '421436'\n",
       "\\item '421781'\n",
       "\\item '421823'\n",
       "\\item '422480'\n",
       "\\item '422808'\n",
       "\\item '423086'\n",
       "\\item '423458'\n",
       "\\item '424296'\n",
       "\\item '424408'\n",
       "\\item '424659'\n",
       "\\item '424812'\n",
       "\\item '425613'\n",
       "\\item '426697'\n",
       "\\item '426856'\n",
       "\\item '427427'\n",
       "\\item '427672'\n",
       "\\item '428403'\n",
       "\\item '428482'\n",
       "\\item '428689'\n",
       "\\item '768802'\n",
       "\\item '770407'\n",
       "\\item '771778'\n",
       "\\item 'tRNA-Ala'\n",
       "\\item 'tRNA-Arg'\n",
       "\\item 'tRNA-Asn'\n",
       "\\item 'tRNA-Asp'\n",
       "\\item 'tRNA-Cys'\n",
       "\\item 'tRNA-Gln'\n",
       "\\item 'tRNA-Glu'\n",
       "\\item 'tRNA-Gly'\n",
       "\\item 'tRNA-His'\n",
       "\\item 'tRNA-Ile'\n",
       "\\item 'tRNA-Leu-1'\n",
       "\\item 'tRNA-Leu-2'\n",
       "\\item 'tRNA-Lys'\n",
       "\\item 'tRNA-Met'\n",
       "\\item 'tRNA-Phe'\n",
       "\\item 'tRNA-Pro'\n",
       "\\item 'tRNA-Ser-1'\n",
       "\\item 'tRNA-Ser-2'\n",
       "\\item 'tRNA-Thr'\n",
       "\\item 'tRNA-Trp'\n",
       "\\item 'tRNA-Tyr'\n",
       "\\item 'tRNA-Val'\n",
       "\\end{enumerate*}\n",
       "\n",
       "\\item[\\$`gga02010 ABC transporters`] \\begin{enumerate*}\n",
       "\\item '100049619'\n",
       "\\item '107055879'\n",
       "\\item '373945'\n",
       "\\item '395416'\n",
       "\\item '395712'\n",
       "\\item '416386'\n",
       "\\item '416600'\n",
       "\\item '416834'\n",
       "\\item '417440'\n",
       "\\item '417443'\n",
       "\\item '417444'\n",
       "\\item '417694'\n",
       "\\item '418200'\n",
       "\\item '418468'\n",
       "\\item '418533'\n",
       "\\item '418791'\n",
       "\\item '420534'\n",
       "\\item '420606'\n",
       "\\item '420943'\n",
       "\\item '421401'\n",
       "\\item '421402'\n",
       "\\item '421456'\n",
       "\\item '421537'\n",
       "\\item '422099'\n",
       "\\item '422326'\n",
       "\\item '423072'\n",
       "\\item '423349'\n",
       "\\item '423767'\n",
       "\\item '423828'\n",
       "\\item '424011'\n",
       "\\item '424170'\n",
       "\\item '424487'\n",
       "\\item '424490'\n",
       "\\item '424947'\n",
       "\\item '425721'\n",
       "\\item '426955'\n",
       "\\item '427727'\n",
       "\\item '427728'\n",
       "\\item '428242'\n",
       "\\end{enumerate*}\n",
       "\n",
       "\\item[\\$`gga03008 Ribosome biogenesis in eukaryotes`] \\begin{enumerate*}\n",
       "\\item '100857200'\n",
       "\\item '100858366'\n",
       "\\item '100861562'\n",
       "\\item '100873151'\n",
       "\\item '101748079'\n",
       "\\item '107053172'\n",
       "\\item '107055627'\n",
       "\\item '396193'\n",
       "\\item '415384'\n",
       "\\item '415467'\n",
       "\\item '415609'\n",
       "\\item '415626'\n",
       "\\item '415867'\n",
       "\\item '415897'\n",
       "\\item '416218'\n",
       "\\item '416276'\n",
       "\\item '416545'\n",
       "\\item '416973'\n",
       "\\item '417388'\n",
       "\\item '417405'\n",
       "\\item '417477'\n",
       "\\item '417975'\n",
       "\\item '417986'\n",
       "\\item '418292'\n",
       "\\item '418551'\n",
       "\\item '419140'\n",
       "\\item '419614'\n",
       "\\item '419761'\n",
       "\\item '420458'\n",
       "\\item '420530'\n",
       "\\item '420870'\n",
       "\\item '420876'\n",
       "\\item '420911'\n",
       "\\item '421192'\n",
       "\\item '421236'\n",
       "\\item '421295'\n",
       "\\item '421326'\n",
       "\\item '421811'\n",
       "\\item '422140'\n",
       "\\item '422196'\n",
       "\\item '422346'\n",
       "\\item '422665'\n",
       "\\item '422697'\n",
       "\\item '423355'\n",
       "\\item '423633'\n",
       "\\item '423795'\n",
       "\\item '423985'\n",
       "\\item '424087'\n",
       "\\item '424778'\n",
       "\\item '424897'\n",
       "\\item '425009'\n",
       "\\item '425215'\n",
       "\\item '425567'\n",
       "\\item '425734'\n",
       "\\item '426152'\n",
       "\\item '426574'\n",
       "\\item '426609'\n",
       "\\item '427001'\n",
       "\\item '427222'\n",
       "\\item '427278'\n",
       "\\item '427403'\n",
       "\\item '427952'\n",
       "\\item '430848'\n",
       "\\item '432370'\n",
       "\\item '768362'\n",
       "\\item '769632'\n",
       "\\item 'l-rRNA'\n",
       "\\item 's-rRNA'\n",
       "\\end{enumerate*}\n",
       "\n",
       "\\end{description}\n"
      ],
      "text/markdown": [
       "$`gga00970 Aminoacyl-tRNA biosynthesis`\n",
       ":   1. '100858214'\n",
       "2. '100859604'\n",
       "3. '415389'\n",
       "4. '415532'\n",
       "5. '415668'\n",
       "6. '415885'\n",
       "7. '415957'\n",
       "8. '416057'\n",
       "9. '416132'\n",
       "10. '416168'\n",
       "11. '416347'\n",
       "12. '416976'\n",
       "13. '418131'\n",
       "14. '418312'\n",
       "15. '418757'\n",
       "16. '419026'\n",
       "17. '419666'\n",
       "18. '420702'\n",
       "19. '421346'\n",
       "20. '421348'\n",
       "21. '421436'\n",
       "22. '421781'\n",
       "23. '421823'\n",
       "24. '422480'\n",
       "25. '422808'\n",
       "26. '423086'\n",
       "27. '423458'\n",
       "28. '424296'\n",
       "29. '424408'\n",
       "30. '424659'\n",
       "31. '424812'\n",
       "32. '425613'\n",
       "33. '426697'\n",
       "34. '426856'\n",
       "35. '427427'\n",
       "36. '427672'\n",
       "37. '428403'\n",
       "38. '428482'\n",
       "39. '428689'\n",
       "40. '768802'\n",
       "41. '770407'\n",
       "42. '771778'\n",
       "43. 'tRNA-Ala'\n",
       "44. 'tRNA-Arg'\n",
       "45. 'tRNA-Asn'\n",
       "46. 'tRNA-Asp'\n",
       "47. 'tRNA-Cys'\n",
       "48. 'tRNA-Gln'\n",
       "49. 'tRNA-Glu'\n",
       "50. 'tRNA-Gly'\n",
       "51. 'tRNA-His'\n",
       "52. 'tRNA-Ile'\n",
       "53. 'tRNA-Leu-1'\n",
       "54. 'tRNA-Leu-2'\n",
       "55. 'tRNA-Lys'\n",
       "56. 'tRNA-Met'\n",
       "57. 'tRNA-Phe'\n",
       "58. 'tRNA-Pro'\n",
       "59. 'tRNA-Ser-1'\n",
       "60. 'tRNA-Ser-2'\n",
       "61. 'tRNA-Thr'\n",
       "62. 'tRNA-Trp'\n",
       "63. 'tRNA-Tyr'\n",
       "64. 'tRNA-Val'\n",
       "\n",
       "\n",
       "\n",
       "$`gga02010 ABC transporters`\n",
       ":   1. '100049619'\n",
       "2. '107055879'\n",
       "3. '373945'\n",
       "4. '395416'\n",
       "5. '395712'\n",
       "6. '416386'\n",
       "7. '416600'\n",
       "8. '416834'\n",
       "9. '417440'\n",
       "10. '417443'\n",
       "11. '417444'\n",
       "12. '417694'\n",
       "13. '418200'\n",
       "14. '418468'\n",
       "15. '418533'\n",
       "16. '418791'\n",
       "17. '420534'\n",
       "18. '420606'\n",
       "19. '420943'\n",
       "20. '421401'\n",
       "21. '421402'\n",
       "22. '421456'\n",
       "23. '421537'\n",
       "24. '422099'\n",
       "25. '422326'\n",
       "26. '423072'\n",
       "27. '423349'\n",
       "28. '423767'\n",
       "29. '423828'\n",
       "30. '424011'\n",
       "31. '424170'\n",
       "32. '424487'\n",
       "33. '424490'\n",
       "34. '424947'\n",
       "35. '425721'\n",
       "36. '426955'\n",
       "37. '427727'\n",
       "38. '427728'\n",
       "39. '428242'\n",
       "\n",
       "\n",
       "\n",
       "$`gga03008 Ribosome biogenesis in eukaryotes`\n",
       ":   1. '100857200'\n",
       "2. '100858366'\n",
       "3. '100861562'\n",
       "4. '100873151'\n",
       "5. '101748079'\n",
       "6. '107053172'\n",
       "7. '107055627'\n",
       "8. '396193'\n",
       "9. '415384'\n",
       "10. '415467'\n",
       "11. '415609'\n",
       "12. '415626'\n",
       "13. '415867'\n",
       "14. '415897'\n",
       "15. '416218'\n",
       "16. '416276'\n",
       "17. '416545'\n",
       "18. '416973'\n",
       "19. '417388'\n",
       "20. '417405'\n",
       "21. '417477'\n",
       "22. '417975'\n",
       "23. '417986'\n",
       "24. '418292'\n",
       "25. '418551'\n",
       "26. '419140'\n",
       "27. '419614'\n",
       "28. '419761'\n",
       "29. '420458'\n",
       "30. '420530'\n",
       "31. '420870'\n",
       "32. '420876'\n",
       "33. '420911'\n",
       "34. '421192'\n",
       "35. '421236'\n",
       "36. '421295'\n",
       "37. '421326'\n",
       "38. '421811'\n",
       "39. '422140'\n",
       "40. '422196'\n",
       "41. '422346'\n",
       "42. '422665'\n",
       "43. '422697'\n",
       "44. '423355'\n",
       "45. '423633'\n",
       "46. '423795'\n",
       "47. '423985'\n",
       "48. '424087'\n",
       "49. '424778'\n",
       "50. '424897'\n",
       "51. '425009'\n",
       "52. '425215'\n",
       "53. '425567'\n",
       "54. '425734'\n",
       "55. '426152'\n",
       "56. '426574'\n",
       "57. '426609'\n",
       "58. '427001'\n",
       "59. '427222'\n",
       "60. '427278'\n",
       "61. '427403'\n",
       "62. '427952'\n",
       "63. '430848'\n",
       "64. '432370'\n",
       "65. '768362'\n",
       "66. '769632'\n",
       "67. 'l-rRNA'\n",
       "68. 's-rRNA'\n",
       "\n",
       "\n",
       "\n",
       "\n",
       "\n"
      ],
      "text/plain": [
       "$`gga00970 Aminoacyl-tRNA biosynthesis`\n",
       " [1] \"100858214\"  \"100859604\"  \"415389\"     \"415532\"     \"415668\"    \n",
       " [6] \"415885\"     \"415957\"     \"416057\"     \"416132\"     \"416168\"    \n",
       "[11] \"416347\"     \"416976\"     \"418131\"     \"418312\"     \"418757\"    \n",
       "[16] \"419026\"     \"419666\"     \"420702\"     \"421346\"     \"421348\"    \n",
       "[21] \"421436\"     \"421781\"     \"421823\"     \"422480\"     \"422808\"    \n",
       "[26] \"423086\"     \"423458\"     \"424296\"     \"424408\"     \"424659\"    \n",
       "[31] \"424812\"     \"425613\"     \"426697\"     \"426856\"     \"427427\"    \n",
       "[36] \"427672\"     \"428403\"     \"428482\"     \"428689\"     \"768802\"    \n",
       "[41] \"770407\"     \"771778\"     \"tRNA-Ala\"   \"tRNA-Arg\"   \"tRNA-Asn\"  \n",
       "[46] \"tRNA-Asp\"   \"tRNA-Cys\"   \"tRNA-Gln\"   \"tRNA-Glu\"   \"tRNA-Gly\"  \n",
       "[51] \"tRNA-His\"   \"tRNA-Ile\"   \"tRNA-Leu-1\" \"tRNA-Leu-2\" \"tRNA-Lys\"  \n",
       "[56] \"tRNA-Met\"   \"tRNA-Phe\"   \"tRNA-Pro\"   \"tRNA-Ser-1\" \"tRNA-Ser-2\"\n",
       "[61] \"tRNA-Thr\"   \"tRNA-Trp\"   \"tRNA-Tyr\"   \"tRNA-Val\"  \n",
       "\n",
       "$`gga02010 ABC transporters`\n",
       " [1] \"100049619\" \"107055879\" \"373945\"    \"395416\"    \"395712\"    \"416386\"   \n",
       " [7] \"416600\"    \"416834\"    \"417440\"    \"417443\"    \"417444\"    \"417694\"   \n",
       "[13] \"418200\"    \"418468\"    \"418533\"    \"418791\"    \"420534\"    \"420606\"   \n",
       "[19] \"420943\"    \"421401\"    \"421402\"    \"421456\"    \"421537\"    \"422099\"   \n",
       "[25] \"422326\"    \"423072\"    \"423349\"    \"423767\"    \"423828\"    \"424011\"   \n",
       "[31] \"424170\"    \"424487\"    \"424490\"    \"424947\"    \"425721\"    \"426955\"   \n",
       "[37] \"427727\"    \"427728\"    \"428242\"   \n",
       "\n",
       "$`gga03008 Ribosome biogenesis in eukaryotes`\n",
       " [1] \"100857200\" \"100858366\" \"100861562\" \"100873151\" \"101748079\" \"107053172\"\n",
       " [7] \"107055627\" \"396193\"    \"415384\"    \"415467\"    \"415609\"    \"415626\"   \n",
       "[13] \"415867\"    \"415897\"    \"416218\"    \"416276\"    \"416545\"    \"416973\"   \n",
       "[19] \"417388\"    \"417405\"    \"417477\"    \"417975\"    \"417986\"    \"418292\"   \n",
       "[25] \"418551\"    \"419140\"    \"419614\"    \"419761\"    \"420458\"    \"420530\"   \n",
       "[31] \"420870\"    \"420876\"    \"420911\"    \"421192\"    \"421236\"    \"421295\"   \n",
       "[37] \"421326\"    \"421811\"    \"422140\"    \"422196\"    \"422346\"    \"422665\"   \n",
       "[43] \"422697\"    \"423355\"    \"423633\"    \"423795\"    \"423985\"    \"424087\"   \n",
       "[49] \"424778\"    \"424897\"    \"425009\"    \"425215\"    \"425567\"    \"425734\"   \n",
       "[55] \"426152\"    \"426574\"    \"426609\"    \"427001\"    \"427222\"    \"427278\"   \n",
       "[61] \"427403\"    \"427952\"    \"430848\"    \"432370\"    \"768362\"    \"769632\"   \n",
       "[67] \"l-rRNA\"    \"s-rRNA\"   \n"
      ]
     },
     "metadata": {},
     "output_type": "display_data"
    }
   ],
   "source": [
    "setwd(\"/home/bay001/projects/kes_20160307/permanent_data/11-3-2016/\")\n",
    "out_dir <- \"/home/bay001/projects/kes_20160307/permanent_data/11-3-2016/\"\n",
    "\n",
    "# Load some KEGG Pathway modules\n",
    "\n",
    "kegg.sets.gal = kegg.gsets(\"chicken\")\n",
    "kegg.sets.gs = kegg.sets.gal$kg.sets[kegg.sets.gal$sigmet.idx]\n",
    "head(kegg.sets.gs,3)"
   ]
  },
  {
   "cell_type": "code",
   "execution_count": 6,
   "metadata": {
    "collapsed": false
   },
   "outputs": [
    {
     "data": {
      "text/html": [
       "<ol class=list-inline>\n",
       "\t<li>'EC.1AK228_CAGATC'</li>\n",
       "\t<li>'EC.2AK546_ACTTGA'</li>\n",
       "\t<li>'EC.3AK436_GATCAG'</li>\n",
       "\t<li>'EC.4AK111_TAGCTT'</li>\n",
       "\t<li>'EC.5AK453_GGCTAC'</li>\n",
       "\t<li>'EC.6AK100_CTTGTA'</li>\n",
       "\t<li>'EC.7AK501_AGTCAA'</li>\n",
       "\t<li>'EC.8AK511_AGTTCC'</li>\n",
       "\t<li>'EC.9AK123_ATGTCA'</li>\n",
       "\t<li>'EC.10AK244_CCGTCC'</li>\n",
       "\t<li>'EC.11AK330_GTCCGC'</li>\n",
       "\t<li>'EC.12AK422_GTGAAA'</li>\n",
       "\t<li>'EC.13AK430_GTGGCC'</li>\n",
       "\t<li>'EC.14AK418_GTTTCG'</li>\n",
       "\t<li>'EC.15AK219_CGTACG'</li>\n",
       "\t<li>'EC.16AK327_GAGTGG'</li>\n",
       "\t<li>'EC.17AK506_ACTGAT'</li>\n",
       "\t<li>'EC.18AK105_ATTCCT'</li>\n",
       "</ol>\n"
      ],
      "text/latex": [
       "\\begin{enumerate*}\n",
       "\\item 'EC.1AK228\\_CAGATC'\n",
       "\\item 'EC.2AK546\\_ACTTGA'\n",
       "\\item 'EC.3AK436\\_GATCAG'\n",
       "\\item 'EC.4AK111\\_TAGCTT'\n",
       "\\item 'EC.5AK453\\_GGCTAC'\n",
       "\\item 'EC.6AK100\\_CTTGTA'\n",
       "\\item 'EC.7AK501\\_AGTCAA'\n",
       "\\item 'EC.8AK511\\_AGTTCC'\n",
       "\\item 'EC.9AK123\\_ATGTCA'\n",
       "\\item 'EC.10AK244\\_CCGTCC'\n",
       "\\item 'EC.11AK330\\_GTCCGC'\n",
       "\\item 'EC.12AK422\\_GTGAAA'\n",
       "\\item 'EC.13AK430\\_GTGGCC'\n",
       "\\item 'EC.14AK418\\_GTTTCG'\n",
       "\\item 'EC.15AK219\\_CGTACG'\n",
       "\\item 'EC.16AK327\\_GAGTGG'\n",
       "\\item 'EC.17AK506\\_ACTGAT'\n",
       "\\item 'EC.18AK105\\_ATTCCT'\n",
       "\\end{enumerate*}\n"
      ],
      "text/markdown": [
       "1. 'EC.1AK228_CAGATC'\n",
       "2. 'EC.2AK546_ACTTGA'\n",
       "3. 'EC.3AK436_GATCAG'\n",
       "4. 'EC.4AK111_TAGCTT'\n",
       "5. 'EC.5AK453_GGCTAC'\n",
       "6. 'EC.6AK100_CTTGTA'\n",
       "7. 'EC.7AK501_AGTCAA'\n",
       "8. 'EC.8AK511_AGTTCC'\n",
       "9. 'EC.9AK123_ATGTCA'\n",
       "10. 'EC.10AK244_CCGTCC'\n",
       "11. 'EC.11AK330_GTCCGC'\n",
       "12. 'EC.12AK422_GTGAAA'\n",
       "13. 'EC.13AK430_GTGGCC'\n",
       "14. 'EC.14AK418_GTTTCG'\n",
       "15. 'EC.15AK219_CGTACG'\n",
       "16. 'EC.16AK327_GAGTGG'\n",
       "17. 'EC.17AK506_ACTGAT'\n",
       "18. 'EC.18AK105_ATTCCT'\n",
       "\n",
       "\n"
      ],
      "text/plain": [
       " [1] \"EC.1AK228_CAGATC\"  \"EC.2AK546_ACTTGA\"  \"EC.3AK436_GATCAG\" \n",
       " [4] \"EC.4AK111_TAGCTT\"  \"EC.5AK453_GGCTAC\"  \"EC.6AK100_CTTGTA\" \n",
       " [7] \"EC.7AK501_AGTCAA\"  \"EC.8AK511_AGTTCC\"  \"EC.9AK123_ATGTCA\" \n",
       "[10] \"EC.10AK244_CCGTCC\" \"EC.11AK330_GTCCGC\" \"EC.12AK422_GTGAAA\"\n",
       "[13] \"EC.13AK430_GTGGCC\" \"EC.14AK418_GTTTCG\" \"EC.15AK219_CGTACG\"\n",
       "[16] \"EC.16AK327_GAGTGG\" \"EC.17AK506_ACTGAT\" \"EC.18AK105_ATTCCT\""
      ]
     },
     "metadata": {},
     "output_type": "display_data"
    }
   ],
   "source": [
    "tab <- read.table(\"counts.RSEM.txt\",header=TRUE,sep=\"\\t\",row.names=1)\n",
    "samples <- tab\n",
    "samples <- as.matrix(samples)\n",
    "colnames(samples)"
   ]
  },
  {
   "cell_type": "markdown",
   "metadata": {},
   "source": [
    "### Check integrity of matrix (they're in the correct order, etc.) "
   ]
  },
  {
   "cell_type": "code",
   "execution_count": 7,
   "metadata": {
    "collapsed": false
   },
   "outputs": [
    {
     "data": {
      "text/html": [
       "<table>\n",
       "<thead><tr><th></th><th scope=col>EC.1AK228_CAGATC</th><th scope=col>EC.2AK546_ACTTGA</th><th scope=col>EC.3AK436_GATCAG</th><th scope=col>EC.4AK111_TAGCTT</th><th scope=col>EC.5AK453_GGCTAC</th><th scope=col>EC.6AK100_CTTGTA</th><th scope=col>EC.7AK501_AGTCAA</th><th scope=col>EC.8AK511_AGTTCC</th><th scope=col>EC.9AK123_ATGTCA</th><th scope=col>EC.10AK244_CCGTCC</th><th scope=col>EC.11AK330_GTCCGC</th><th scope=col>EC.12AK422_GTGAAA</th><th scope=col>EC.13AK430_GTGGCC</th><th scope=col>EC.14AK418_GTTTCG</th><th scope=col>EC.15AK219_CGTACG</th><th scope=col>EC.16AK327_GAGTGG</th><th scope=col>EC.17AK506_ACTGAT</th><th scope=col>EC.18AK105_ATTCCT</th></tr></thead>\n",
       "<tbody>\n",
       "\t<tr><th scope=row>EC-4AK111_TAGCTT_R1_(paired)_contig_1003-0</th><td>858 </td><td>916 </td><td>863 </td><td>2406</td><td>978 </td><td>1103</td><td>805 </td><td>919 </td><td>801 </td><td>998 </td><td>960 </td><td>788 </td><td>774 </td><td>1143</td><td>1523</td><td>1334</td><td>1335</td><td>971 </td></tr>\n",
       "\t<tr><th scope=row>EC-4AK111_TAGCTT_R1_(paired)_contig_10031-0</th><td>404 </td><td>390 </td><td>596 </td><td> 754</td><td>585 </td><td> 348</td><td>422 </td><td>460 </td><td>602 </td><td>633 </td><td>615 </td><td>388 </td><td>531 </td><td> 447</td><td> 563</td><td> 549</td><td> 537</td><td>434 </td></tr>\n",
       "\t<tr><th scope=row>EC-4AK111_TAGCTT_R1_(paired)_contig_10050-0</th><td>218 </td><td>174 </td><td>211 </td><td> 664</td><td>283 </td><td> 315</td><td>169 </td><td>148 </td><td>254 </td><td>243 </td><td>180 </td><td>190 </td><td>371 </td><td> 253</td><td> 210</td><td> 287</td><td> 354</td><td>300 </td></tr>\n",
       "</tbody>\n",
       "</table>\n"
      ],
      "text/latex": [
       "\\begin{tabular}{r|llllllllllllllllll}\n",
       "  & EC.1AK228\\_CAGATC & EC.2AK546\\_ACTTGA & EC.3AK436\\_GATCAG & EC.4AK111\\_TAGCTT & EC.5AK453\\_GGCTAC & EC.6AK100\\_CTTGTA & EC.7AK501\\_AGTCAA & EC.8AK511\\_AGTTCC & EC.9AK123\\_ATGTCA & EC.10AK244\\_CCGTCC & EC.11AK330\\_GTCCGC & EC.12AK422\\_GTGAAA & EC.13AK430\\_GTGGCC & EC.14AK418\\_GTTTCG & EC.15AK219\\_CGTACG & EC.16AK327\\_GAGTGG & EC.17AK506\\_ACTGAT & EC.18AK105\\_ATTCCT\\\\\n",
       "\\hline\n",
       "\tEC-4AK111\\_TAGCTT\\_R1\\_(paired)\\_contig\\_1003-0 & 858  & 916  & 863  & 2406 & 978  & 1103 & 805  & 919  & 801  & 998  & 960  & 788  & 774  & 1143 & 1523 & 1334 & 1335 & 971 \\\\\n",
       "\tEC-4AK111\\_TAGCTT\\_R1\\_(paired)\\_contig\\_10031-0 & 404  & 390  & 596  &  754 & 585  &  348 & 422  & 460  & 602  & 633  & 615  & 388  & 531  &  447 &  563 &  549 &  537 & 434 \\\\\n",
       "\tEC-4AK111\\_TAGCTT\\_R1\\_(paired)\\_contig\\_10050-0 & 218  & 174  & 211  &  664 & 283  &  315 & 169  & 148  & 254  & 243  & 180  & 190  & 371  &  253 &  210 &  287 &  354 & 300 \\\\\n",
       "\\end{tabular}\n"
      ],
      "text/markdown": [
       "1. 858\n",
       "2. 404\n",
       "3. 218\n",
       "4. 916\n",
       "5. 390\n",
       "6. 174\n",
       "7. 863\n",
       "8. 596\n",
       "9. 211\n",
       "10. 2406\n",
       "11. 754\n",
       "12. 664\n",
       "13. 978\n",
       "14. 585\n",
       "15. 283\n",
       "16. 1103\n",
       "17. 348\n",
       "18. 315\n",
       "19. 805\n",
       "20. 422\n",
       "21. 169\n",
       "22. 919\n",
       "23. 460\n",
       "24. 148\n",
       "25. 801\n",
       "26. 602\n",
       "27. 254\n",
       "28. 998\n",
       "29. 633\n",
       "30. 243\n",
       "31. 960\n",
       "32. 615\n",
       "33. 180\n",
       "34. 788\n",
       "35. 388\n",
       "36. 190\n",
       "37. 774\n",
       "38. 531\n",
       "39. 371\n",
       "40. 1143\n",
       "41. 447\n",
       "42. 253\n",
       "43. 1523\n",
       "44. 563\n",
       "45. 210\n",
       "46. 1334\n",
       "47. 549\n",
       "48. 287\n",
       "49. 1335\n",
       "50. 537\n",
       "51. 354\n",
       "52. 971\n",
       "53. 434\n",
       "54. 300\n",
       "\n",
       "\n"
      ],
      "text/plain": [
       "                                            EC.1AK228_CAGATC EC.2AK546_ACTTGA\n",
       "EC-4AK111_TAGCTT_R1_(paired)_contig_1003-0  858              916             \n",
       "EC-4AK111_TAGCTT_R1_(paired)_contig_10031-0 404              390             \n",
       "EC-4AK111_TAGCTT_R1_(paired)_contig_10050-0 218              174             \n",
       "                                            EC.3AK436_GATCAG EC.4AK111_TAGCTT\n",
       "EC-4AK111_TAGCTT_R1_(paired)_contig_1003-0  863              2406            \n",
       "EC-4AK111_TAGCTT_R1_(paired)_contig_10031-0 596               754            \n",
       "EC-4AK111_TAGCTT_R1_(paired)_contig_10050-0 211               664            \n",
       "                                            EC.5AK453_GGCTAC EC.6AK100_CTTGTA\n",
       "EC-4AK111_TAGCTT_R1_(paired)_contig_1003-0  978              1103            \n",
       "EC-4AK111_TAGCTT_R1_(paired)_contig_10031-0 585               348            \n",
       "EC-4AK111_TAGCTT_R1_(paired)_contig_10050-0 283               315            \n",
       "                                            EC.7AK501_AGTCAA EC.8AK511_AGTTCC\n",
       "EC-4AK111_TAGCTT_R1_(paired)_contig_1003-0  805              919             \n",
       "EC-4AK111_TAGCTT_R1_(paired)_contig_10031-0 422              460             \n",
       "EC-4AK111_TAGCTT_R1_(paired)_contig_10050-0 169              148             \n",
       "                                            EC.9AK123_ATGTCA EC.10AK244_CCGTCC\n",
       "EC-4AK111_TAGCTT_R1_(paired)_contig_1003-0  801              998              \n",
       "EC-4AK111_TAGCTT_R1_(paired)_contig_10031-0 602              633              \n",
       "EC-4AK111_TAGCTT_R1_(paired)_contig_10050-0 254              243              \n",
       "                                            EC.11AK330_GTCCGC EC.12AK422_GTGAAA\n",
       "EC-4AK111_TAGCTT_R1_(paired)_contig_1003-0  960               788              \n",
       "EC-4AK111_TAGCTT_R1_(paired)_contig_10031-0 615               388              \n",
       "EC-4AK111_TAGCTT_R1_(paired)_contig_10050-0 180               190              \n",
       "                                            EC.13AK430_GTGGCC EC.14AK418_GTTTCG\n",
       "EC-4AK111_TAGCTT_R1_(paired)_contig_1003-0  774               1143             \n",
       "EC-4AK111_TAGCTT_R1_(paired)_contig_10031-0 531                447             \n",
       "EC-4AK111_TAGCTT_R1_(paired)_contig_10050-0 371                253             \n",
       "                                            EC.15AK219_CGTACG EC.16AK327_GAGTGG\n",
       "EC-4AK111_TAGCTT_R1_(paired)_contig_1003-0  1523              1334             \n",
       "EC-4AK111_TAGCTT_R1_(paired)_contig_10031-0  563               549             \n",
       "EC-4AK111_TAGCTT_R1_(paired)_contig_10050-0  210               287             \n",
       "                                            EC.17AK506_ACTGAT EC.18AK105_ATTCCT\n",
       "EC-4AK111_TAGCTT_R1_(paired)_contig_1003-0  1335              971              \n",
       "EC-4AK111_TAGCTT_R1_(paired)_contig_10031-0  537              434              \n",
       "EC-4AK111_TAGCTT_R1_(paired)_contig_10050-0  354              300              "
      ]
     },
     "metadata": {},
     "output_type": "display_data"
    },
    {
     "data": {
      "text/html": [
       "<ol class=list-inline>\n",
       "\t<li>239837</li>\n",
       "\t<li>18</li>\n",
       "</ol>\n"
      ],
      "text/latex": [
       "\\begin{enumerate*}\n",
       "\\item 239837\n",
       "\\item 18\n",
       "\\end{enumerate*}\n"
      ],
      "text/markdown": [
       "1. 239837\n",
       "2. 18\n",
       "\n",
       "\n"
      ],
      "text/plain": [
       "[1] 239837     18"
      ]
     },
     "metadata": {},
     "output_type": "display_data"
    }
   ],
   "source": [
    "samples[1:3,]\n",
    "dim(samples)"
   ]
  },
  {
   "cell_type": "markdown",
   "metadata": {},
   "source": [
    "### Basic filtering out any samples with a mean count of less than 1 "
   ]
  },
  {
   "cell_type": "code",
   "execution_count": 8,
   "metadata": {
    "collapsed": false
   },
   "outputs": [
    {
     "data": {
      "text/html": [
       "<ol class=list-inline>\n",
       "\t<li>26625</li>\n",
       "\t<li>18</li>\n",
       "</ol>\n"
      ],
      "text/latex": [
       "\\begin{enumerate*}\n",
       "\\item 26625\n",
       "\\item 18\n",
       "\\end{enumerate*}\n"
      ],
      "text/markdown": [
       "1. 26625\n",
       "2. 18\n",
       "\n",
       "\n"
      ],
      "text/plain": [
       "[1] 26625    18"
      ]
     },
     "metadata": {},
     "output_type": "display_data"
    }
   ],
   "source": [
    "rs <- rowMeans(samples)\n",
    "use <- (rs > 18)\n",
    "samples <- samples[ use, ]\n",
    "\n",
    "samples <- as.matrix(samples)\n",
    "dim(samples)"
   ]
  },
  {
   "cell_type": "markdown",
   "metadata": {},
   "source": [
    "### The original list has sample 7 (AK501) as male, but it is actually female.  "
   ]
  },
  {
   "cell_type": "code",
   "execution_count": 9,
   "metadata": {
    "collapsed": false
   },
   "outputs": [
    {
     "data": {
      "text/html": [
       "<table>\n",
       "<thead><tr><th></th><th scope=col>factors</th><th scope=col>type</th></tr></thead>\n",
       "<tbody>\n",
       "\t<tr><th scope=row>EC.1AK228_CAGATC</th><td>SCCP   </td><td>m      </td></tr>\n",
       "\t<tr><th scope=row>EC.2AK546_ACTTGA</th><td>SCCP   </td><td>f      </td></tr>\n",
       "\t<tr><th scope=row>EC.3AK436_GATCAG</th><td>SCCP   </td><td>f      </td></tr>\n",
       "\t<tr><th scope=row>EC.4AK111_TAGCTT</th><td>SCCP   </td><td>m      </td></tr>\n",
       "\t<tr><th scope=row>EC.5AK453_GGCTAC</th><td>SCCP   </td><td>m      </td></tr>\n",
       "\t<tr><th scope=row>EC.6AK100_CTTGTA</th><td>SCCP   </td><td>f      </td></tr>\n",
       "\t<tr><th scope=row>EC.7AK501_AGTCAA</th><td>TBBPA  </td><td>f      </td></tr>\n",
       "\t<tr><th scope=row>EC.8AK511_AGTTCC</th><td>TBBPA  </td><td>f      </td></tr>\n",
       "\t<tr><th scope=row>EC.9AK123_ATGTCA</th><td>TBBPA  </td><td>m      </td></tr>\n",
       "\t<tr><th scope=row>EC.10AK244_CCGTCC</th><td>TBBPA  </td><td>f      </td></tr>\n",
       "\t<tr><th scope=row>EC.11AK330_GTCCGC</th><td>TBBPA  </td><td>m      </td></tr>\n",
       "\t<tr><th scope=row>EC.12AK422_GTGAAA</th><td>TBBPA  </td><td>f      </td></tr>\n",
       "\t<tr><th scope=row>EC.13AK430_GTGGCC</th><td>CONTROL</td><td>f      </td></tr>\n",
       "\t<tr><th scope=row>EC.14AK418_GTTTCG</th><td>CONTROL</td><td>m      </td></tr>\n",
       "\t<tr><th scope=row>EC.15AK219_CGTACG</th><td>CONTROL</td><td>f      </td></tr>\n",
       "\t<tr><th scope=row>EC.16AK327_GAGTGG</th><td>CONTROL</td><td>m      </td></tr>\n",
       "\t<tr><th scope=row>EC.17AK506_ACTGAT</th><td>CONTROL</td><td>m      </td></tr>\n",
       "\t<tr><th scope=row>EC.18AK105_ATTCCT</th><td>CONTROL</td><td>f      </td></tr>\n",
       "</tbody>\n",
       "</table>\n"
      ],
      "text/latex": [
       "\\begin{tabular}{r|ll}\n",
       "  & factors & type\\\\\n",
       "\\hline\n",
       "\tEC.1AK228\\_CAGATC & SCCP    & m      \\\\\n",
       "\tEC.2AK546\\_ACTTGA & SCCP    & f      \\\\\n",
       "\tEC.3AK436\\_GATCAG & SCCP    & f      \\\\\n",
       "\tEC.4AK111\\_TAGCTT & SCCP    & m      \\\\\n",
       "\tEC.5AK453\\_GGCTAC & SCCP    & m      \\\\\n",
       "\tEC.6AK100\\_CTTGTA & SCCP    & f      \\\\\n",
       "\tEC.7AK501\\_AGTCAA & TBBPA   & f      \\\\\n",
       "\tEC.8AK511\\_AGTTCC & TBBPA   & f      \\\\\n",
       "\tEC.9AK123\\_ATGTCA & TBBPA   & m      \\\\\n",
       "\tEC.10AK244\\_CCGTCC & TBBPA   & f      \\\\\n",
       "\tEC.11AK330\\_GTCCGC & TBBPA   & m      \\\\\n",
       "\tEC.12AK422\\_GTGAAA & TBBPA   & f      \\\\\n",
       "\tEC.13AK430\\_GTGGCC & CONTROL & f      \\\\\n",
       "\tEC.14AK418\\_GTTTCG & CONTROL & m      \\\\\n",
       "\tEC.15AK219\\_CGTACG & CONTROL & f      \\\\\n",
       "\tEC.16AK327\\_GAGTGG & CONTROL & m      \\\\\n",
       "\tEC.17AK506\\_ACTGAT & CONTROL & m      \\\\\n",
       "\tEC.18AK105\\_ATTCCT & CONTROL & f      \\\\\n",
       "\\end{tabular}\n"
      ],
      "text/plain": [
       "                  factors type\n",
       "EC.1AK228_CAGATC  SCCP    m   \n",
       "EC.2AK546_ACTTGA  SCCP    f   \n",
       "EC.3AK436_GATCAG  SCCP    f   \n",
       "EC.4AK111_TAGCTT  SCCP    m   \n",
       "EC.5AK453_GGCTAC  SCCP    m   \n",
       "EC.6AK100_CTTGTA  SCCP    f   \n",
       "EC.7AK501_AGTCAA  TBBPA   f   \n",
       "EC.8AK511_AGTTCC  TBBPA   f   \n",
       "EC.9AK123_ATGTCA  TBBPA   m   \n",
       "EC.10AK244_CCGTCC TBBPA   f   \n",
       "EC.11AK330_GTCCGC TBBPA   m   \n",
       "EC.12AK422_GTGAAA TBBPA   f   \n",
       "EC.13AK430_GTGGCC CONTROL f   \n",
       "EC.14AK418_GTTTCG CONTROL m   \n",
       "EC.15AK219_CGTACG CONTROL f   \n",
       "EC.16AK327_GAGTGG CONTROL m   \n",
       "EC.17AK506_ACTGAT CONTROL m   \n",
       "EC.18AK105_ATTCCT CONTROL f   "
      ]
     },
     "metadata": {},
     "output_type": "display_data"
    }
   ],
   "source": [
    "\n",
    "factors <- as.factor(c(rep(\"SCCP\",6),rep(\"TBBPA\",6),rep(\"CONTROL\",6)))\n",
    "type <- c('m','f','f','m','m','f','f','f','m','f','m','f','f','m','f','m','m','f')\n",
    "# type <- c('f1','m2','f3','f4','m5','f6','m7','m8','f9','m10','f11','f12','m13','m14','f15','m16','f17','m18')\n",
    "(coldata <- data.frame(row.names=colnames(samples), factors, type)\n",
    ")\n",
    "\n",
    "dds <- DESeqDataSetFromMatrix(countData=samples, colData=coldata, design=~factors)\n",
    "dds$factors <- relevel(dds$factors, ref=\"CONTROL\")"
   ]
  },
  {
   "cell_type": "code",
   "execution_count": 10,
   "metadata": {
    "collapsed": false
   },
   "outputs": [],
   "source": [
    "dds_rlog <- rlogTransformation(dds)"
   ]
  },
  {
   "cell_type": "markdown",
   "metadata": {},
   "source": [
    "# Comparing all samples (PCA and Heatmap)"
   ]
  },
  {
   "cell_type": "code",
   "execution_count": 11,
   "metadata": {
    "collapsed": false
   },
   "outputs": [
    {
     "data": {},
     "metadata": {},
     "output_type": "display_data"
    },
    {
     "data": {
      "text/html": [
       "<strong>png:</strong> 2"
      ],
      "text/latex": [
       "\\textbf{png:} 2"
      ],
      "text/markdown": [
       "**png:** 2"
      ],
      "text/plain": [
       "png \n",
       "  2 "
      ]
     },
     "metadata": {},
     "output_type": "display_data"
    },
    {
     "data": {
      "text/html": [
       "<strong>png:</strong> 2"
      ],
      "text/latex": [
       "\\textbf{png:} 2"
      ],
      "text/markdown": [
       "**png:** 2"
      ],
      "text/plain": [
       "png \n",
       "  2 "
      ]
     },
     "metadata": {},
     "output_type": "display_data"
    }
   ],
   "source": [
    "png(paste0(out_dir,\"all_samples_pca.png\"))\n",
    "data <- plotPCA(dds_rlog, intgroup=c(\"factors\", \"type\"), returnData=TRUE)\n",
    "percentVar <- round(100 * attr(data, \"percentVar\"))\n",
    "ggplot(data, aes(PC1, PC2, color=factors, shape=type),\n",
    "       main = \"PCA Plot\") +\n",
    "  geom_point(size=3) +\n",
    "  scale_shape_manual(values=seq(0,8)) +\n",
    "  xlab(paste0(\"PC1: \",percentVar[1],\"% variance\")) +\n",
    "  ylab(paste0(\"PC2: \",percentVar[2],\"% variance\"))\n",
    "dev.off()\n",
    "\n",
    "sampleDists <- dist(t(assay(dds_rlog)))\n",
    "sampleDistMatrix <- as.matrix(sampleDists)\n",
    "rownames(sampleDistMatrix) <- paste(dds_rlog$factors, dds_rlog$type, sep=\"-\")\n",
    "#colnames(sampleDistMatrix) <- NULL\n",
    "colors <- colorRampPalette( rev(brewer.pal(9, \"Blues\")) )(255)\n",
    "png(paste0(out_dir,\"all_samples_heatmap.png\"))\n",
    "pheatmap(sampleDistMatrix,\n",
    "         clustering_distance_rows=sampleDists,\n",
    "         clustering_distance_cols=sampleDists,\n",
    "         col=colors,\n",
    "         main = \"Heatmap\")\n",
    "dev.off()"
   ]
  },
  {
   "cell_type": "code",
   "execution_count": 12,
   "metadata": {
    "collapsed": false
   },
   "outputs": [
    {
     "data": {
      "text/plain": [
       "class: DESeqTransform \n",
       "dim: 26625 18 \n",
       "metadata(0):\n",
       "assays(1): ''\n",
       "rownames(26625): EC-4AK111_TAGCTT_R1_(paired)_contig_1003-0\n",
       "  EC-4AK111_TAGCTT_R1_(paired)_contig_10031-0 ...\n",
       "  unmapped-49-contig_list_contig_99982-0\n",
       "  unmapped-49-contig_list_contig_9999-0\n",
       "rowRanges metadata column names(6): baseMean baseVar ... dispFit\n",
       "  rlogIntercept\n",
       "colnames(18): EC.1AK228_CAGATC EC.2AK546_ACTTGA ... EC.17AK506_ACTGAT\n",
       "  EC.18AK105_ATTCCT\n",
       "colData names(3): factors type sizeFactor"
      ]
     },
     "metadata": {},
     "output_type": "display_data"
    }
   ],
   "source": [
    "dds_rlog"
   ]
  },
  {
   "cell_type": "markdown",
   "metadata": {},
   "source": [
    "# Comparing SCCP vs Control (Male)"
   ]
  },
  {
   "cell_type": "code",
   "execution_count": 16,
   "metadata": {
    "collapsed": false
   },
   "outputs": [
    {
     "data": {
      "text/html": [
       "<table>\n",
       "<thead><tr><th></th><th scope=col>factors</th><th scope=col>type</th></tr></thead>\n",
       "<tbody>\n",
       "\t<tr><th scope=row>EC.1AK228_CAGATC</th><td>SCCP   </td><td>m      </td></tr>\n",
       "\t<tr><th scope=row>EC.4AK111_TAGCTT</th><td>SCCP   </td><td>m      </td></tr>\n",
       "\t<tr><th scope=row>EC.5AK453_GGCTAC</th><td>SCCP   </td><td>m      </td></tr>\n",
       "\t<tr><th scope=row>EC.14AK418_GTTTCG</th><td>CONTROL</td><td>m      </td></tr>\n",
       "\t<tr><th scope=row>EC.16AK327_GAGTGG</th><td>CONTROL</td><td>m      </td></tr>\n",
       "\t<tr><th scope=row>EC.17AK506_ACTGAT</th><td>CONTROL</td><td>m      </td></tr>\n",
       "</tbody>\n",
       "</table>\n"
      ],
      "text/latex": [
       "\\begin{tabular}{r|ll}\n",
       "  & factors & type\\\\\n",
       "\\hline\n",
       "\tEC.1AK228\\_CAGATC & SCCP    & m      \\\\\n",
       "\tEC.4AK111\\_TAGCTT & SCCP    & m      \\\\\n",
       "\tEC.5AK453\\_GGCTAC & SCCP    & m      \\\\\n",
       "\tEC.14AK418\\_GTTTCG & CONTROL & m      \\\\\n",
       "\tEC.16AK327\\_GAGTGG & CONTROL & m      \\\\\n",
       "\tEC.17AK506\\_ACTGAT & CONTROL & m      \\\\\n",
       "\\end{tabular}\n"
      ],
      "text/plain": [
       "                  factors type\n",
       "EC.1AK228_CAGATC  SCCP    m   \n",
       "EC.4AK111_TAGCTT  SCCP    m   \n",
       "EC.5AK453_GGCTAC  SCCP    m   \n",
       "EC.14AK418_GTTTCG CONTROL m   \n",
       "EC.16AK327_GAGTGG CONTROL m   \n",
       "EC.17AK506_ACTGAT CONTROL m   "
      ]
     },
     "metadata": {},
     "output_type": "display_data"
    },
    {
     "name": "stderr",
     "output_type": "stream",
     "text": [
      "estimating size factors\n",
      "estimating dispersions\n",
      "gene-wise dispersion estimates\n",
      "mean-dispersion relationship\n",
      "final dispersion estimates\n",
      "fitting model and testing\n"
     ]
    },
    {
     "data": {
      "text/html": [
       "<strong>png:</strong> 2"
      ],
      "text/latex": [
       "\\textbf{png:} 2"
      ],
      "text/markdown": [
       "**png:** 2"
      ],
      "text/plain": [
       "png \n",
       "  2 "
      ]
     },
     "metadata": {},
     "output_type": "display_data"
    },
    {
     "data": {
      "text/html": [
       "<strong>png:</strong> 2"
      ],
      "text/latex": [
       "\\textbf{png:} 2"
      ],
      "text/markdown": [
       "**png:** 2"
      ],
      "text/plain": [
       "png \n",
       "  2 "
      ]
     },
     "metadata": {},
     "output_type": "display_data"
    },
    {
     "data": {
      "text/html": [
       "'/home/bay001/projects/kes_20160307/permanent_data/11-3-2016/SCCP_vs_CONTROL_MALE'"
      ],
      "text/latex": [
       "'/home/bay001/projects/kes\\_20160307/permanent\\_data/11-3-2016/SCCP\\_vs\\_CONTROL\\_MALE'"
      ],
      "text/markdown": [
       "'/home/bay001/projects/kes_20160307/permanent_data/11-3-2016/SCCP_vs_CONTROL_MALE'"
      ],
      "text/plain": [
       "[1] \"/home/bay001/projects/kes_20160307/permanent_data/11-3-2016/SCCP_vs_CONTROL_MALE\""
      ]
     },
     "metadata": {},
     "output_type": "display_data"
    }
   ],
   "source": [
    "prefix <- \"SCCP_vs_CONTROL_MALE\"\n",
    "\n",
    "dir.create(file.path(getwd(), prefix), showWarnings = FALSE)\n",
    "\n",
    "samples_2 <- samples[,c(1,4,5,14,16,17)]\n",
    "factors <- as.factor(c(rep(\"SCCP\",3),rep(\"CONTROL\",3)))\n",
    "type <- c(rep('m',6))\n",
    "\n",
    "(coldata <- data.frame(row.names=colnames(samples_2), factors, type)\n",
    ")\n",
    "dds <- DESeqDataSetFromMatrix(countData=samples_2, colData=coldata, design=~factors)\n",
    "dds$factors <- relevel(dds$factors, ref=\"CONTROL\")\n",
    "\n",
    "dds <- DESeq(dds)\n",
    "res <- results(dds)\n",
    "resOrdered <- res[order(res$padj,res$log2FoldChange),] # orders by foldchange and padj\n",
    "write.csv(as.data.frame(resOrdered),file=paste0(file.path(getwd(), prefix),'/diffexp.csv'))\n",
    "\n",
    "png(paste0(file.path(getwd(), prefix),'/maplot.png'))\n",
    "DESeq2::plotMA(res, main=\"MA Plot\", ylim=c(-7,6) )\n",
    "legend(\"topright\",c(\"pval > 0.01\",\"pval < 0.01\"),col=c(\"grey\",\"red\"),pch=16)\n",
    "topGene <- rownames(res)[which.min(res$padj)]\n",
    "with(res[topGene, ], {\n",
    "  points(baseMean, log2FoldChange, col=\"dodgerblue\", cex=2, lwd=2)\n",
    "  text(baseMean, log2FoldChange, topGene, pos=2, col=\"dodgerblue\")\n",
    "})\n",
    "dev.off()\n",
    "\n",
    "png(paste0(file.path(getwd(), prefix),'/volcano.png'))\n",
    "plot( res$log2FoldChange, -log10( res$padj ), \n",
    "      col = ifelse( res$padj < .05, \"red\", \"black\" ),\n",
    "      main = \"Volcano Plot\",\n",
    "      ylim = c(0,15)\n",
    "    )\n",
    "legend(\"topright\",c(\"pval > 0.05\",\"pval < 0.05\"),col=c(\"grey\",\"red\"),pch=16)\n",
    "with(res[topGene, ], {\n",
    "  points(baseMean, log2FoldChange, col=\"dodgerblue\", cex=2, lwd=2)\n",
    "  text(baseMean, log2FoldChange, topGene, pos=2, col=\"dodgerblue\")\n",
    "})\n",
    "dev.off()\n",
    "paste0(file.path(getwd(), prefix))"
   ]
  },
  {
   "cell_type": "code",
   "execution_count": 16,
   "metadata": {
    "collapsed": false
   },
   "outputs": [
    {
     "data": {
      "text/plain": [
       "log2 fold change (MAP): factors SCCP vs CONTROL \n",
       "Wald test p-value: factors SCCP vs CONTROL \n",
       "DataFrame with 3 rows and 9 columns\n",
       "                                             baseMean log2FoldChange     lfcSE\n",
       "                                            <numeric>      <numeric> <numeric>\n",
       "EC-4AK111_TAGCTT_R1_(paired)_contig_1003-0  1274.8218     0.08076285 0.2138344\n",
       "EC-4AK111_TAGCTT_R1_(paired)_contig_10031-0  532.9849     0.18740006 0.1708637\n",
       "EC-4AK111_TAGCTT_R1_(paired)_contig_10050-0  324.7375     0.25734656 0.2402052\n",
       "                                                 stat    pvalue      padj\n",
       "                                            <numeric> <numeric> <numeric>\n",
       "EC-4AK111_TAGCTT_R1_(paired)_contig_1003-0  0.3776887 0.7056619 0.9065259\n",
       "EC-4AK111_TAGCTT_R1_(paired)_contig_10031-0 1.0967812 0.2727370 0.6483455\n",
       "EC-4AK111_TAGCTT_R1_(paired)_contig_10050-0 1.0713613 0.2840070 0.6569354\n",
       "                                                 symbol      entrez        name\n",
       "                                            <character> <character> <character>\n",
       "EC-4AK111_TAGCTT_R1_(paired)_contig_1003-0           NA          NA          NA\n",
       "EC-4AK111_TAGCTT_R1_(paired)_contig_10031-0          NA          NA          NA\n",
       "EC-4AK111_TAGCTT_R1_(paired)_contig_10050-0          NA          NA          NA"
      ]
     },
     "metadata": {},
     "output_type": "display_data"
    }
   ],
   "source": [
    "# Credit: http://www.gettinggeneticsdone.com/2015/12/tutorial-rna-seq-differential.html\n",
    "\n",
    "res$symbol = mapIds(org.Gg.eg.db,\n",
    "                     keys=row.names(res), \n",
    "                     column=\"SYMBOL\",\n",
    "                     keytype=\"ENSEMBL\",\n",
    "                     multiVals=\"first\")\n",
    "res$entrez = mapIds(org.Gg.eg.db,\n",
    "                     keys=row.names(res), \n",
    "                     column=\"ENTREZID\",\n",
    "                     keytype=\"ENSEMBL\",\n",
    "                     multiVals=\"first\")\n",
    "res$name =   mapIds(org.Gg.eg.db,\n",
    "                     keys=row.names(res), \n",
    "                     column=\"GENENAME\",\n",
    "                     keytype=\"ENSEMBL\",\n",
    "                     multiVals=\"first\")\n",
    "\n",
    "head(res, 3)"
   ]
  },
  {
   "cell_type": "code",
   "execution_count": 17,
   "metadata": {
    "collapsed": false
   },
   "outputs": [
    {
     "data": {
      "text/html": [
       "<dl>\n",
       "\t<dt>$greater</dt>\n",
       "\t\t<dd><table>\n",
       "<thead><tr><th></th><th scope=col>p.geomean</th><th scope=col>stat.mean</th><th scope=col>p.val</th><th scope=col>q.val</th><th scope=col>set.size</th><th scope=col>exp1</th></tr></thead>\n",
       "<tbody>\n",
       "\t<tr><th scope=row>gga03010 Ribosome</th><td>3.494614e-10</td><td>6.4891959   </td><td>3.494614e-10</td><td>4.682783e-08</td><td>101         </td><td>3.494614e-10</td></tr>\n",
       "\t<tr><th scope=row>gga00190 Oxidative phosphorylation</th><td>1.118861e-02</td><td>2.3049833   </td><td>1.118861e-02</td><td>7.496368e-01</td><td> 86         </td><td>1.118861e-02</td></tr>\n",
       "\t<tr><th scope=row>gga00982 Drug metabolism - cytochrome P450</th><td>3.673580e-02</td><td>1.8387114   </td><td>3.673580e-02</td><td>1.000000e+00</td><td> 21         </td><td>3.673580e-02</td></tr>\n",
       "\t<tr><th scope=row>gga04260 Cardiac muscle contraction</th><td>1.342654e-01</td><td>1.1150970   </td><td>1.342654e-01</td><td>1.000000e+00</td><td> 38         </td><td>1.342654e-01</td></tr>\n",
       "\t<tr><th scope=row>gga00980 Metabolism of xenobiotics by cytochrome P450</th><td>1.377748e-01</td><td>1.1036139   </td><td>1.377748e-01</td><td>1.000000e+00</td><td> 24         </td><td>1.377748e-01</td></tr>\n",
       "\t<tr><th scope=row>gga03060 Protein export</th><td>1.882168e-01</td><td>0.8945251   </td><td>1.882168e-01</td><td>1.000000e+00</td><td> 21         </td><td>1.882168e-01</td></tr>\n",
       "</tbody>\n",
       "</table>\n",
       "</dd>\n",
       "\t<dt>$less</dt>\n",
       "\t\t<dd><table>\n",
       "<thead><tr><th></th><th scope=col>p.geomean</th><th scope=col>stat.mean</th><th scope=col>p.val</th><th scope=col>q.val</th><th scope=col>set.size</th><th scope=col>exp1</th></tr></thead>\n",
       "<tbody>\n",
       "\t<tr><th scope=row>gga04510 Focal adhesion</th><td>3.188623e-12</td><td>-7.153050   </td><td>3.188623e-12</td><td>4.272755e-10</td><td>153         </td><td>3.188623e-12</td></tr>\n",
       "\t<tr><th scope=row>gga04810 Regulation of actin cytoskeleton</th><td>4.944981e-08</td><td>-5.477506   </td><td>4.944981e-08</td><td>3.313137e-06</td><td>136         </td><td>4.944981e-08</td></tr>\n",
       "\t<tr><th scope=row>gga04512 ECM-receptor interaction</th><td>1.597564e-07</td><td>-5.450778   </td><td>1.597564e-07</td><td>6.315038e-06</td><td> 55         </td><td>1.597564e-07</td></tr>\n",
       "\t<tr><th scope=row>gga04144 Endocytosis</th><td>1.885086e-07</td><td>-5.168802   </td><td>1.885086e-07</td><td>6.315038e-06</td><td>203         </td><td>1.885086e-07</td></tr>\n",
       "\t<tr><th scope=row>gga04010 MAPK signaling pathway</th><td>2.883595e-05</td><td>-4.076891   </td><td>2.883595e-05</td><td>7.728033e-04</td><td>161         </td><td>2.883595e-05</td></tr>\n",
       "\t<tr><th scope=row>gga04530 Tight junction</th><td>5.283704e-05</td><td>-3.970597   </td><td>5.283704e-05</td><td>1.180027e-03</td><td> 87         </td><td>5.283704e-05</td></tr>\n",
       "</tbody>\n",
       "</table>\n",
       "</dd>\n",
       "\t<dt>$stats</dt>\n",
       "\t\t<dd><table>\n",
       "<thead><tr><th></th><th scope=col>stat.mean</th><th scope=col>exp1</th></tr></thead>\n",
       "<tbody>\n",
       "\t<tr><th scope=row>gga03010 Ribosome</th><td>6.4891959</td><td>6.4891959</td></tr>\n",
       "\t<tr><th scope=row>gga00190 Oxidative phosphorylation</th><td>2.3049833</td><td>2.3049833</td></tr>\n",
       "\t<tr><th scope=row>gga00982 Drug metabolism - cytochrome P450</th><td>1.8387114</td><td>1.8387114</td></tr>\n",
       "\t<tr><th scope=row>gga04260 Cardiac muscle contraction</th><td>1.1150970</td><td>1.1150970</td></tr>\n",
       "\t<tr><th scope=row>gga00980 Metabolism of xenobiotics by cytochrome P450</th><td>1.1036139</td><td>1.1036139</td></tr>\n",
       "\t<tr><th scope=row>gga03060 Protein export</th><td>0.8945251</td><td>0.8945251</td></tr>\n",
       "</tbody>\n",
       "</table>\n",
       "</dd>\n",
       "</dl>\n"
      ],
      "text/latex": [
       "\\begin{description}\n",
       "\\item[\\$greater] \\begin{tabular}{r|llllll}\n",
       "  & p.geomean & stat.mean & p.val & q.val & set.size & exp1\\\\\n",
       "\\hline\n",
       "\tgga03010 Ribosome & 3.494614e-10 & 6.4891959    & 3.494614e-10 & 4.682783e-08 & 101          & 3.494614e-10\\\\\n",
       "\tgga00190 Oxidative phosphorylation & 1.118861e-02 & 2.3049833    & 1.118861e-02 & 7.496368e-01 &  86          & 1.118861e-02\\\\\n",
       "\tgga00982 Drug metabolism - cytochrome P450 & 3.673580e-02 & 1.8387114    & 3.673580e-02 & 1.000000e+00 &  21          & 3.673580e-02\\\\\n",
       "\tgga04260 Cardiac muscle contraction & 1.342654e-01 & 1.1150970    & 1.342654e-01 & 1.000000e+00 &  38          & 1.342654e-01\\\\\n",
       "\tgga00980 Metabolism of xenobiotics by cytochrome P450 & 1.377748e-01 & 1.1036139    & 1.377748e-01 & 1.000000e+00 &  24          & 1.377748e-01\\\\\n",
       "\tgga03060 Protein export & 1.882168e-01 & 0.8945251    & 1.882168e-01 & 1.000000e+00 &  21          & 1.882168e-01\\\\\n",
       "\\end{tabular}\n",
       "\n",
       "\\item[\\$less] \\begin{tabular}{r|llllll}\n",
       "  & p.geomean & stat.mean & p.val & q.val & set.size & exp1\\\\\n",
       "\\hline\n",
       "\tgga04510 Focal adhesion & 3.188623e-12 & -7.153050    & 3.188623e-12 & 4.272755e-10 & 153          & 3.188623e-12\\\\\n",
       "\tgga04810 Regulation of actin cytoskeleton & 4.944981e-08 & -5.477506    & 4.944981e-08 & 3.313137e-06 & 136          & 4.944981e-08\\\\\n",
       "\tgga04512 ECM-receptor interaction & 1.597564e-07 & -5.450778    & 1.597564e-07 & 6.315038e-06 &  55          & 1.597564e-07\\\\\n",
       "\tgga04144 Endocytosis & 1.885086e-07 & -5.168802    & 1.885086e-07 & 6.315038e-06 & 203          & 1.885086e-07\\\\\n",
       "\tgga04010 MAPK signaling pathway & 2.883595e-05 & -4.076891    & 2.883595e-05 & 7.728033e-04 & 161          & 2.883595e-05\\\\\n",
       "\tgga04530 Tight junction & 5.283704e-05 & -3.970597    & 5.283704e-05 & 1.180027e-03 &  87          & 5.283704e-05\\\\\n",
       "\\end{tabular}\n",
       "\n",
       "\\item[\\$stats] \\begin{tabular}{r|ll}\n",
       "  & stat.mean & exp1\\\\\n",
       "\\hline\n",
       "\tgga03010 Ribosome & 6.4891959 & 6.4891959\\\\\n",
       "\tgga00190 Oxidative phosphorylation & 2.3049833 & 2.3049833\\\\\n",
       "\tgga00982 Drug metabolism - cytochrome P450 & 1.8387114 & 1.8387114\\\\\n",
       "\tgga04260 Cardiac muscle contraction & 1.1150970 & 1.1150970\\\\\n",
       "\tgga00980 Metabolism of xenobiotics by cytochrome P450 & 1.1036139 & 1.1036139\\\\\n",
       "\tgga03060 Protein export & 0.8945251 & 0.8945251\\\\\n",
       "\\end{tabular}\n",
       "\n",
       "\\end{description}\n"
      ],
      "text/markdown": [
       "$greater\n",
       ":   1. 3.49461408105183e-10\n",
       "2. 0.0111886083771969\n",
       "3. 0.0367357974084117\n",
       "4. 0.134265354354763\n",
       "5. 0.137774806482487\n",
       "6. 0.18821683512247\n",
       "7. 6.48919592563192\n",
       "8. 2.304983327865\n",
       "9. 1.83871138440316\n",
       "10. 1.11509702254142\n",
       "11. 1.10361389611778\n",
       "12. 0.894525056441278\n",
       "13. 3.49461408105184e-10\n",
       "14. 0.0111886083771969\n",
       "15. 0.0367357974084118\n",
       "16. 0.134265354354763\n",
       "17. 0.137774806482487\n",
       "18. 0.18821683512247\n",
       "19. 4.68278286860946e-08\n",
       "20. 0.749636761272193\n",
       "21. 0.999999999996811\n",
       "22. 0.999999999996811\n",
       "23. 0.999999999996811\n",
       "24. 0.999999999996811\n",
       "25. 101\n",
       "26. 86\n",
       "27. 21\n",
       "28. 38\n",
       "29. 24\n",
       "30. 21\n",
       "31. 3.49461408105182e-10\n",
       "32. 0.0111886083771969\n",
       "33. 0.0367357974084117\n",
       "34. 0.134265354354763\n",
       "35. 0.137774806482487\n",
       "36. 0.18821683512247\n",
       "\n",
       "\n",
       "\n",
       "$less\n",
       ":   1. 3.18862306343536e-12\n",
       "2. 4.94498115584298e-08\n",
       "3. 1.59756358070718e-07\n",
       "4. 1.88508602080874e-07\n",
       "5. 2.88359454817117e-05\n",
       "6. 5.28370395898351e-05\n",
       "7. -7.15305036861687\n",
       "8. -5.47750568569052\n",
       "9. -5.45077810797401\n",
       "10. -5.16880203764747\n",
       "11. -4.07689147728561\n",
       "12. -3.97059696617488\n",
       "13. 3.18862306343539e-12\n",
       "14. 4.94498115584302e-08\n",
       "15. 1.59756358070718e-07\n",
       "16. 1.88508602080873e-07\n",
       "17. 2.88359454817116e-05\n",
       "18. 5.28370395898352e-05\n",
       "19. 4.27275490500342e-10\n",
       "20. 3.31313737441482e-06\n",
       "21. 6.31503816970924e-06\n",
       "22. 6.31503816970924e-06\n",
       "23. 0.00077280333890987\n",
       "24. 0.00118002721750632\n",
       "25. 153\n",
       "26. 136\n",
       "27. 55\n",
       "28. 203\n",
       "29. 161\n",
       "30. 87\n",
       "31. 3.18862306343536e-12\n",
       "32. 4.94498115584297e-08\n",
       "33. 1.59756358070718e-07\n",
       "34. 1.88508602080874e-07\n",
       "35. 2.88359454817116e-05\n",
       "36. 5.28370395898351e-05\n",
       "\n",
       "\n",
       "\n",
       "$stats\n",
       ":   1. 6.48919592563192\n",
       "2. 2.304983327865\n",
       "3. 1.83871138440316\n",
       "4. 1.11509702254142\n",
       "5. 1.10361389611778\n",
       "6. 0.894525056441278\n",
       "7. 6.48919592563192\n",
       "8. 2.304983327865\n",
       "9. 1.83871138440316\n",
       "10. 1.11509702254142\n",
       "11. 1.10361389611778\n",
       "12. 0.894525056441278\n",
       "\n",
       "\n",
       "\n",
       "\n",
       "\n"
      ],
      "text/plain": [
       "$greater\n",
       "                                                         p.geomean stat.mean\n",
       "gga03010 Ribosome                                     3.494614e-10 6.4891959\n",
       "gga00190 Oxidative phosphorylation                    1.118861e-02 2.3049833\n",
       "gga00982 Drug metabolism - cytochrome P450            3.673580e-02 1.8387114\n",
       "gga04260 Cardiac muscle contraction                   1.342654e-01 1.1150970\n",
       "gga00980 Metabolism of xenobiotics by cytochrome P450 1.377748e-01 1.1036139\n",
       "gga03060 Protein export                               1.882168e-01 0.8945251\n",
       "                                                             p.val        q.val\n",
       "gga03010 Ribosome                                     3.494614e-10 4.682783e-08\n",
       "gga00190 Oxidative phosphorylation                    1.118861e-02 7.496368e-01\n",
       "gga00982 Drug metabolism - cytochrome P450            3.673580e-02 1.000000e+00\n",
       "gga04260 Cardiac muscle contraction                   1.342654e-01 1.000000e+00\n",
       "gga00980 Metabolism of xenobiotics by cytochrome P450 1.377748e-01 1.000000e+00\n",
       "gga03060 Protein export                               1.882168e-01 1.000000e+00\n",
       "                                                      set.size         exp1\n",
       "gga03010 Ribosome                                          101 3.494614e-10\n",
       "gga00190 Oxidative phosphorylation                          86 1.118861e-02\n",
       "gga00982 Drug metabolism - cytochrome P450                  21 3.673580e-02\n",
       "gga04260 Cardiac muscle contraction                         38 1.342654e-01\n",
       "gga00980 Metabolism of xenobiotics by cytochrome P450       24 1.377748e-01\n",
       "gga03060 Protein export                                     21 1.882168e-01\n",
       "\n",
       "$less\n",
       "                                             p.geomean stat.mean        p.val\n",
       "gga04510 Focal adhesion                   3.188623e-12 -7.153050 3.188623e-12\n",
       "gga04810 Regulation of actin cytoskeleton 4.944981e-08 -5.477506 4.944981e-08\n",
       "gga04512 ECM-receptor interaction         1.597564e-07 -5.450778 1.597564e-07\n",
       "gga04144 Endocytosis                      1.885086e-07 -5.168802 1.885086e-07\n",
       "gga04010 MAPK signaling pathway           2.883595e-05 -4.076891 2.883595e-05\n",
       "gga04530 Tight junction                   5.283704e-05 -3.970597 5.283704e-05\n",
       "                                                 q.val set.size         exp1\n",
       "gga04510 Focal adhesion                   4.272755e-10      153 3.188623e-12\n",
       "gga04810 Regulation of actin cytoskeleton 3.313137e-06      136 4.944981e-08\n",
       "gga04512 ECM-receptor interaction         6.315038e-06       55 1.597564e-07\n",
       "gga04144 Endocytosis                      6.315038e-06      203 1.885086e-07\n",
       "gga04010 MAPK signaling pathway           7.728033e-04      161 2.883595e-05\n",
       "gga04530 Tight junction                   1.180027e-03       87 5.283704e-05\n",
       "\n",
       "$stats\n",
       "                                                      stat.mean      exp1\n",
       "gga03010 Ribosome                                     6.4891959 6.4891959\n",
       "gga00190 Oxidative phosphorylation                    2.3049833 2.3049833\n",
       "gga00982 Drug metabolism - cytochrome P450            1.8387114 1.8387114\n",
       "gga04260 Cardiac muscle contraction                   1.1150970 1.1150970\n",
       "gga00980 Metabolism of xenobiotics by cytochrome P450 1.1036139 1.1036139\n",
       "gga03060 Protein export                               0.8945251 0.8945251\n"
      ]
     },
     "metadata": {},
     "output_type": "display_data"
    }
   ],
   "source": [
    "foldchanges = res$log2FoldChange\n",
    "names(foldchanges) = res$entrez\n",
    "keggres = gage(foldchanges, gsets=kegg.sets.gs, same.dir=TRUE)\n",
    "lapply(keggres, head)"
   ]
  },
  {
   "cell_type": "code",
   "execution_count": 18,
   "metadata": {
    "collapsed": false
   },
   "outputs": [
    {
     "data": {
      "text/html": [
       "<ol class=list-inline>\n",
       "\t<li>'gga03010 Ribosome'</li>\n",
       "\t<li>'gga00190 Oxidative phosphorylation'</li>\n",
       "\t<li>'gga00982 Drug metabolism - cytochrome P450'</li>\n",
       "\t<li>'gga04260 Cardiac muscle contraction'</li>\n",
       "\t<li>'gga00980 Metabolism of xenobiotics by cytochrome P450'</li>\n",
       "</ol>\n"
      ],
      "text/latex": [
       "\\begin{enumerate*}\n",
       "\\item 'gga03010 Ribosome'\n",
       "\\item 'gga00190 Oxidative phosphorylation'\n",
       "\\item 'gga00982 Drug metabolism - cytochrome P450'\n",
       "\\item 'gga04260 Cardiac muscle contraction'\n",
       "\\item 'gga00980 Metabolism of xenobiotics by cytochrome P450'\n",
       "\\end{enumerate*}\n"
      ],
      "text/markdown": [
       "1. 'gga03010 Ribosome'\n",
       "2. 'gga00190 Oxidative phosphorylation'\n",
       "3. 'gga00982 Drug metabolism - cytochrome P450'\n",
       "4. 'gga04260 Cardiac muscle contraction'\n",
       "5. 'gga00980 Metabolism of xenobiotics by cytochrome P450'\n",
       "\n",
       "\n"
      ],
      "text/plain": [
       "[1] \"gga03010 Ribosome\"                                    \n",
       "[2] \"gga00190 Oxidative phosphorylation\"                   \n",
       "[3] \"gga00982 Drug metabolism - cytochrome P450\"           \n",
       "[4] \"gga04260 Cardiac muscle contraction\"                  \n",
       "[5] \"gga00980 Metabolism of xenobiotics by cytochrome P450\""
      ]
     },
     "metadata": {},
     "output_type": "display_data"
    },
    {
     "data": {
      "text/html": [
       "<ol class=list-inline>\n",
       "\t<li>'gga03010'</li>\n",
       "\t<li>'gga00190'</li>\n",
       "\t<li>'gga00982'</li>\n",
       "\t<li>'gga04260'</li>\n",
       "\t<li>'gga00980'</li>\n",
       "</ol>\n"
      ],
      "text/latex": [
       "\\begin{enumerate*}\n",
       "\\item 'gga03010'\n",
       "\\item 'gga00190'\n",
       "\\item 'gga00982'\n",
       "\\item 'gga04260'\n",
       "\\item 'gga00980'\n",
       "\\end{enumerate*}\n"
      ],
      "text/markdown": [
       "1. 'gga03010'\n",
       "2. 'gga00190'\n",
       "3. 'gga00982'\n",
       "4. 'gga04260'\n",
       "5. 'gga00980'\n",
       "\n",
       "\n"
      ],
      "text/plain": [
       "[1] \"gga03010\" \"gga00190\" \"gga00982\" \"gga04260\" \"gga00980\""
      ]
     },
     "metadata": {},
     "output_type": "display_data"
    }
   ],
   "source": [
    "library('dplyr')\n",
    "(keggrespathways = data.frame(id=rownames(keggres$greater), keggres$greater) %>% \n",
    "  tbl_df() %>% \n",
    "  filter(row_number()<=5) %>% \n",
    "  .$id %>% \n",
    "  as.character())\n",
    "(keggresids = substr(keggrespathways, start=1, stop=8)\n",
    ")\n",
    "detach(\"package:dplyr\", unload=TRUE)\n"
   ]
  },
  {
   "cell_type": "code",
   "execution_count": null,
   "metadata": {
    "collapsed": false
   },
   "outputs": [],
   "source": []
  },
  {
   "cell_type": "code",
   "execution_count": 19,
   "metadata": {
    "collapsed": false
   },
   "outputs": [
    {
     "name": "stderr",
     "output_type": "stream",
     "text": [
      "Info: Downloading xml files for gga03010, 1/1 pathways..\n",
      "Info: Downloading png files for gga03010, 1/1 pathways..\n",
      "Info: Working in directory /home/bay001/projects/kes_20160307/permanent_data/10-11-2016\n",
      "Info: Writing image file gga03010.pathview.png\n",
      "Info: Downloading xml files for gga00190, 1/1 pathways..\n",
      "Info: Downloading png files for gga00190, 1/1 pathways..\n",
      "'select()' returned 1:1 mapping between keys and columns\n"
     ]
    },
    {
     "name": "stdout",
     "output_type": "stream",
     "text": [
      "[1] \"Note: 3 of 100 unique input IDs unmapped.\"\n"
     ]
    },
    {
     "name": "stderr",
     "output_type": "stream",
     "text": [
      "Info: Working in directory /home/bay001/projects/kes_20160307/permanent_data/10-11-2016\n",
      "Info: Writing image file gga00190.pathview.png\n",
      "Info: some node width is different from others, and hence adjusted!\n",
      "Info: Downloading xml files for gga00982, 1/1 pathways..\n",
      "Info: Downloading png files for gga00982, 1/1 pathways..\n",
      "'select()' returned 1:1 mapping between keys and columns\n",
      "Info: Working in directory /home/bay001/projects/kes_20160307/permanent_data/10-11-2016\n",
      "Info: Writing image file gga00982.pathview.png\n",
      "Info: Downloading xml files for gga04260, 1/1 pathways..\n",
      "Info: Downloading png files for gga04260, 1/1 pathways..\n",
      "'select()' returned 1:1 mapping between keys and columns\n",
      "Info: Working in directory /home/bay001/projects/kes_20160307/permanent_data/10-11-2016\n",
      "Info: Writing image file gga04260.pathview.png\n",
      "Info: Downloading xml files for gga00980, 1/1 pathways..\n",
      "Info: Downloading png files for gga00980, 1/1 pathways..\n",
      "'select()' returned 1:1 mapping between keys and columns\n",
      "Info: Working in directory /home/bay001/projects/kes_20160307/permanent_data/10-11-2016\n",
      "Info: Writing image file gga00980.pathview.png\n"
     ]
    }
   ],
   "source": [
    "# plot_pathway = function(pid) pathview(gene.data=foldchanges, pathway.id=pid, species=\"gga\", new.signature=FALSE)\n",
    "tmp = sapply(keggresids, function(pid) pathview(gene.data=foldchanges, pathway.id=pid, species=\"gga\",\n",
    "                                                kegg.dir=file.path(getwd(), prefix)))"
   ]
  },
  {
   "cell_type": "code",
   "execution_count": 22,
   "metadata": {
    "collapsed": false
   },
   "outputs": [
    {
     "name": "stderr",
     "output_type": "stream",
     "text": [
      "\n",
      "Attaching package: 'dplyr'\n",
      "\n",
      "The following object is masked from 'package:AnnotationDbi':\n",
      "\n",
      "    select\n",
      "\n",
      "The following object is masked from 'package:Biobase':\n",
      "\n",
      "    combine\n",
      "\n",
      "The following objects are masked from 'package:GenomicRanges':\n",
      "\n",
      "    intersect, setdiff, union\n",
      "\n",
      "The following object is masked from 'package:GenomeInfoDb':\n",
      "\n",
      "    intersect\n",
      "\n",
      "The following objects are masked from 'package:IRanges':\n",
      "\n",
      "    collapse, desc, intersect, setdiff, slice, union\n",
      "\n",
      "The following objects are masked from 'package:S4Vectors':\n",
      "\n",
      "    intersect, rename, setdiff, union\n",
      "\n",
      "The following objects are masked from 'package:BiocGenerics':\n",
      "\n",
      "    combine, intersect, setdiff, union\n",
      "\n",
      "The following objects are masked from 'package:stats':\n",
      "\n",
      "    filter, lag\n",
      "\n",
      "The following objects are masked from 'package:base':\n",
      "\n",
      "    intersect, setdiff, setequal, union\n",
      "\n"
     ]
    },
    {
     "data": {
      "text/html": [
       "<ol class=list-inline>\n",
       "\t<li>'gga04510 Focal adhesion'</li>\n",
       "\t<li>'gga04810 Regulation of actin cytoskeleton'</li>\n",
       "\t<li>'gga04512 ECM-receptor interaction'</li>\n",
       "\t<li>'gga04144 Endocytosis'</li>\n",
       "\t<li>'gga04010 MAPK signaling pathway'</li>\n",
       "</ol>\n"
      ],
      "text/latex": [
       "\\begin{enumerate*}\n",
       "\\item 'gga04510 Focal adhesion'\n",
       "\\item 'gga04810 Regulation of actin cytoskeleton'\n",
       "\\item 'gga04512 ECM-receptor interaction'\n",
       "\\item 'gga04144 Endocytosis'\n",
       "\\item 'gga04010 MAPK signaling pathway'\n",
       "\\end{enumerate*}\n"
      ],
      "text/markdown": [
       "1. 'gga04510 Focal adhesion'\n",
       "2. 'gga04810 Regulation of actin cytoskeleton'\n",
       "3. 'gga04512 ECM-receptor interaction'\n",
       "4. 'gga04144 Endocytosis'\n",
       "5. 'gga04010 MAPK signaling pathway'\n",
       "\n",
       "\n"
      ],
      "text/plain": [
       "[1] \"gga04510 Focal adhesion\"                  \n",
       "[2] \"gga04810 Regulation of actin cytoskeleton\"\n",
       "[3] \"gga04512 ECM-receptor interaction\"        \n",
       "[4] \"gga04144 Endocytosis\"                     \n",
       "[5] \"gga04010 MAPK signaling pathway\"          "
      ]
     },
     "metadata": {},
     "output_type": "display_data"
    },
    {
     "data": {
      "text/html": [
       "<ol class=list-inline>\n",
       "\t<li>'gga04510'</li>\n",
       "\t<li>'gga04810'</li>\n",
       "\t<li>'gga04512'</li>\n",
       "\t<li>'gga04144'</li>\n",
       "\t<li>'gga04010'</li>\n",
       "</ol>\n"
      ],
      "text/latex": [
       "\\begin{enumerate*}\n",
       "\\item 'gga04510'\n",
       "\\item 'gga04810'\n",
       "\\item 'gga04512'\n",
       "\\item 'gga04144'\n",
       "\\item 'gga04010'\n",
       "\\end{enumerate*}\n"
      ],
      "text/markdown": [
       "1. 'gga04510'\n",
       "2. 'gga04810'\n",
       "3. 'gga04512'\n",
       "4. 'gga04144'\n",
       "5. 'gga04010'\n",
       "\n",
       "\n"
      ],
      "text/plain": [
       "[1] \"gga04510\" \"gga04810\" \"gga04512\" \"gga04144\" \"gga04010\""
      ]
     },
     "metadata": {},
     "output_type": "display_data"
    }
   ],
   "source": [
    "library('dplyr')\n",
    "(keggrespathways = data.frame(id=rownames(keggres$less), keggres$less) %>% \n",
    "  tbl_df() %>% \n",
    "  filter(row_number()<=5) %>% \n",
    "  .$id %>% \n",
    "  as.character())\n",
    "(keggresids = substr(keggrespathways, start=1, stop=8)\n",
    ")\n",
    "detach(\"package:dplyr\", unload=TRUE)"
   ]
  },
  {
   "cell_type": "code",
   "execution_count": 23,
   "metadata": {
    "collapsed": false
   },
   "outputs": [
    {
     "name": "stderr",
     "output_type": "stream",
     "text": [
      "Info: Downloading xml files for gga04510, 1/1 pathways..\n",
      "Info: Downloading png files for gga04510, 1/1 pathways..\n",
      "'select()' returned 1:1 mapping between keys and columns\n",
      "Info: Working in directory /home/bay001/projects/kes_20160307/permanent_data/10-11-2016\n",
      "Info: Writing image file gga04510.pathview.png\n",
      "Info: Downloading xml files for gga04810, 1/1 pathways..\n",
      "Info: Downloading png files for gga04810, 1/1 pathways..\n",
      "'select()' returned 1:1 mapping between keys and columns\n"
     ]
    },
    {
     "name": "stdout",
     "output_type": "stream",
     "text": [
      "[1] \"Note: 1 of 64 unique input IDs unmapped.\"\n"
     ]
    },
    {
     "name": "stderr",
     "output_type": "stream",
     "text": [
      "Info: Working in directory /home/bay001/projects/kes_20160307/permanent_data/10-11-2016\n",
      "Info: Writing image file gga04810.pathview.png\n",
      "Info: Downloading xml files for gga04512, 1/1 pathways..\n",
      "Info: Downloading png files for gga04512, 1/1 pathways..\n",
      "'select()' returned 1:1 mapping between keys and columns\n"
     ]
    },
    {
     "name": "stdout",
     "output_type": "stream",
     "text": [
      "[1] \"Note: 2 of 41 unique input IDs unmapped.\"\n"
     ]
    },
    {
     "name": "stderr",
     "output_type": "stream",
     "text": [
      "Info: Working in directory /home/bay001/projects/kes_20160307/permanent_data/10-11-2016\n",
      "Info: Writing image file gga04512.pathview.png\n",
      "Info: Downloading xml files for gga04144, 1/1 pathways..\n",
      "Info: Downloading png files for gga04144, 1/1 pathways..\n",
      "'select()' returned 1:1 mapping between keys and columns\n",
      "Info: Working in directory /home/bay001/projects/kes_20160307/permanent_data/10-11-2016\n",
      "Info: Writing image file gga04144.pathview.png\n",
      "Info: some node width is different from others, and hence adjusted!\n",
      "Info: Downloading xml files for gga04010, 1/1 pathways..\n",
      "Info: Downloading png files for gga04010, 1/1 pathways..\n",
      "'select()' returned 1:1 mapping between keys and columns\n"
     ]
    },
    {
     "name": "stdout",
     "output_type": "stream",
     "text": [
      "[1] \"Note: 3 of 111 unique input IDs unmapped.\"\n"
     ]
    },
    {
     "name": "stderr",
     "output_type": "stream",
     "text": [
      "Info: Working in directory /home/bay001/projects/kes_20160307/permanent_data/10-11-2016\n",
      "Info: Writing image file gga04010.pathview.png\n"
     ]
    }
   ],
   "source": [
    "tmp = sapply(keggresids, function(pid) pathview(gene.data=foldchanges, pathway.id=pid, species=\"gga\", \n",
    "                                                kegg.dir=file.path(getwd(), prefix)))"
   ]
  },
  {
   "cell_type": "markdown",
   "metadata": {},
   "source": [
    "# Comparing SCCP vs Control (Female)"
   ]
  },
  {
   "cell_type": "code",
   "execution_count": 25,
   "metadata": {
    "collapsed": false
   },
   "outputs": [
    {
     "data": {
      "text/html": [
       "<table>\n",
       "<thead><tr><th></th><th scope=col>factors</th><th scope=col>type</th></tr></thead>\n",
       "<tbody>\n",
       "\t<tr><th scope=row>EC.2AK546_ACTTGA</th><td>SCCP   </td><td>f      </td></tr>\n",
       "\t<tr><th scope=row>EC.3AK436_GATCAG</th><td>SCCP   </td><td>f      </td></tr>\n",
       "\t<tr><th scope=row>EC.6AK100_CTTGTA</th><td>SCCP   </td><td>f      </td></tr>\n",
       "\t<tr><th scope=row>EC.13AK430_GTGGCC</th><td>CONTROL</td><td>f      </td></tr>\n",
       "\t<tr><th scope=row>EC.15AK219_CGTACG</th><td>CONTROL</td><td>f      </td></tr>\n",
       "\t<tr><th scope=row>EC.18AK105_ATTCCT</th><td>CONTROL</td><td>f      </td></tr>\n",
       "</tbody>\n",
       "</table>\n"
      ],
      "text/latex": [
       "\\begin{tabular}{r|ll}\n",
       "  & factors & type\\\\\n",
       "\\hline\n",
       "\tEC.2AK546\\_ACTTGA & SCCP    & f      \\\\\n",
       "\tEC.3AK436\\_GATCAG & SCCP    & f      \\\\\n",
       "\tEC.6AK100\\_CTTGTA & SCCP    & f      \\\\\n",
       "\tEC.13AK430\\_GTGGCC & CONTROL & f      \\\\\n",
       "\tEC.15AK219\\_CGTACG & CONTROL & f      \\\\\n",
       "\tEC.18AK105\\_ATTCCT & CONTROL & f      \\\\\n",
       "\\end{tabular}\n"
      ],
      "text/plain": [
       "                  factors type\n",
       "EC.2AK546_ACTTGA  SCCP    f   \n",
       "EC.3AK436_GATCAG  SCCP    f   \n",
       "EC.6AK100_CTTGTA  SCCP    f   \n",
       "EC.13AK430_GTGGCC CONTROL f   \n",
       "EC.15AK219_CGTACG CONTROL f   \n",
       "EC.18AK105_ATTCCT CONTROL f   "
      ]
     },
     "metadata": {},
     "output_type": "display_data"
    },
    {
     "name": "stderr",
     "output_type": "stream",
     "text": [
      "estimating size factors\n",
      "estimating dispersions\n",
      "gene-wise dispersion estimates\n",
      "mean-dispersion relationship\n",
      "final dispersion estimates\n",
      "fitting model and testing\n"
     ]
    },
    {
     "data": {
      "text/html": [
       "<strong>png:</strong> 2"
      ],
      "text/latex": [
       "\\textbf{png:} 2"
      ],
      "text/markdown": [
       "**png:** 2"
      ],
      "text/plain": [
       "png \n",
       "  2 "
      ]
     },
     "metadata": {},
     "output_type": "display_data"
    },
    {
     "data": {
      "text/html": [
       "<strong>png:</strong> 2"
      ],
      "text/latex": [
       "\\textbf{png:} 2"
      ],
      "text/markdown": [
       "**png:** 2"
      ],
      "text/plain": [
       "png \n",
       "  2 "
      ]
     },
     "metadata": {},
     "output_type": "display_data"
    }
   ],
   "source": [
    "prefix <- \"SCCP_vs_CONTROL_FEMALE\"\n",
    "\n",
    "dir.create(file.path(getwd(), prefix), showWarnings = FALSE)\n",
    "\n",
    "samples_2 <- samples[,c(2,3,6,13,15,18)]\n",
    "factors <- as.factor(c(rep(\"SCCP\",3),rep(\"CONTROL\",3)))\n",
    "type <- c(rep('f',6))\n",
    "\n",
    "(coldata <- data.frame(row.names=colnames(samples_2), factors, type)\n",
    ")\n",
    "dds <- DESeqDataSetFromMatrix(countData=samples_2, colData=coldata, design=~factors)\n",
    "dds$factors <- relevel(dds$factors, ref=\"CONTROL\")\n",
    "\n",
    "dds <- DESeq(dds)\n",
    "res <- results(dds)\n",
    "\n",
    "resOrdered <- res[order(res$padj,res$log2FoldChange),] # orders by foldchange and padj\n",
    "write.csv(as.data.frame(resOrdered),file=paste0(file.path(getwd(), prefix),'/diffexp.csv'))\n",
    "\n",
    "png(paste0(file.path(getwd(), prefix),'/maplot.png'))\n",
    "\n",
    "DESeq2::plotMA(res, main=\"MA Plot\", ylim=c(-7,6) )\n",
    "legend(\"topright\",c(\"pval > 0.01\",\"pval < 0.01\"),col=c(\"grey\",\"red\"),pch=16)\n",
    "topGene <- rownames(res)[which.min(res$padj)]\n",
    "with(res[topGene, ], {\n",
    "  points(baseMean, log2FoldChange, col=\"dodgerblue\", cex=2, lwd=2)\n",
    "  text(baseMean, log2FoldChange, topGene, pos=2, col=\"dodgerblue\")\n",
    "})\n",
    "dev.off()\n",
    "\n",
    "png(paste0(file.path(getwd(), prefix),'/volcano.png'))\n",
    "plot( res$log2FoldChange, -log10( res$padj ), \n",
    "      col = ifelse( res$padj < .05, \"red\", \"black\" ),\n",
    "      main = \"Volcano Plot\")\n",
    "legend(\"topright\",c(\"pval > 0.05\",\"pval < 0.05\"),col=c(\"grey\",\"red\"),pch=16)\n",
    "with(res[topGene, ], {\n",
    "  points(baseMean, log2FoldChange, col=\"dodgerblue\", cex=2, lwd=2)\n",
    "  text(baseMean, log2FoldChange, topGene, pos=2, col=\"dodgerblue\")\n",
    "})\n",
    "dev.off()"
   ]
  },
  {
   "cell_type": "code",
   "execution_count": 26,
   "metadata": {
    "collapsed": false
   },
   "outputs": [
    {
     "name": "stderr",
     "output_type": "stream",
     "text": [
      "\n",
      "Attaching package: 'dplyr'\n",
      "\n",
      "The following object is masked from 'package:AnnotationDbi':\n",
      "\n",
      "    select\n",
      "\n",
      "The following object is masked from 'package:Biobase':\n",
      "\n",
      "    combine\n",
      "\n",
      "The following objects are masked from 'package:GenomicRanges':\n",
      "\n",
      "    intersect, setdiff, union\n",
      "\n",
      "The following object is masked from 'package:GenomeInfoDb':\n",
      "\n",
      "    intersect\n",
      "\n",
      "The following objects are masked from 'package:IRanges':\n",
      "\n",
      "    collapse, desc, intersect, setdiff, slice, union\n",
      "\n",
      "The following objects are masked from 'package:S4Vectors':\n",
      "\n",
      "    intersect, rename, setdiff, union\n",
      "\n",
      "The following objects are masked from 'package:BiocGenerics':\n",
      "\n",
      "    combine, intersect, setdiff, union\n",
      "\n",
      "The following objects are masked from 'package:stats':\n",
      "\n",
      "    filter, lag\n",
      "\n",
      "The following objects are masked from 'package:base':\n",
      "\n",
      "    intersect, setdiff, setequal, union\n",
      "\n"
     ]
    },
    {
     "data": {
      "text/html": [
       "<ol class=list-inline>\n",
       "\t<li>'gga03010 Ribosome'</li>\n",
       "\t<li>'gga00190 Oxidative phosphorylation'</li>\n",
       "\t<li>'gga03420 Nucleotide excision repair'</li>\n",
       "\t<li>'gga04260 Cardiac muscle contraction'</li>\n",
       "\t<li>'gga00980 Metabolism of xenobiotics by cytochrome P450'</li>\n",
       "</ol>\n"
      ],
      "text/latex": [
       "\\begin{enumerate*}\n",
       "\\item 'gga03010 Ribosome'\n",
       "\\item 'gga00190 Oxidative phosphorylation'\n",
       "\\item 'gga03420 Nucleotide excision repair'\n",
       "\\item 'gga04260 Cardiac muscle contraction'\n",
       "\\item 'gga00980 Metabolism of xenobiotics by cytochrome P450'\n",
       "\\end{enumerate*}\n"
      ],
      "text/markdown": [
       "1. 'gga03010 Ribosome'\n",
       "2. 'gga00190 Oxidative phosphorylation'\n",
       "3. 'gga03420 Nucleotide excision repair'\n",
       "4. 'gga04260 Cardiac muscle contraction'\n",
       "5. 'gga00980 Metabolism of xenobiotics by cytochrome P450'\n",
       "\n",
       "\n"
      ],
      "text/plain": [
       "[1] \"gga03010 Ribosome\"                                    \n",
       "[2] \"gga00190 Oxidative phosphorylation\"                   \n",
       "[3] \"gga03420 Nucleotide excision repair\"                  \n",
       "[4] \"gga04260 Cardiac muscle contraction\"                  \n",
       "[5] \"gga00980 Metabolism of xenobiotics by cytochrome P450\""
      ]
     },
     "metadata": {},
     "output_type": "display_data"
    },
    {
     "data": {
      "text/html": [
       "<ol class=list-inline>\n",
       "\t<li>'gga03010'</li>\n",
       "\t<li>'gga00190'</li>\n",
       "\t<li>'gga03420'</li>\n",
       "\t<li>'gga04260'</li>\n",
       "\t<li>'gga00980'</li>\n",
       "</ol>\n"
      ],
      "text/latex": [
       "\\begin{enumerate*}\n",
       "\\item 'gga03010'\n",
       "\\item 'gga00190'\n",
       "\\item 'gga03420'\n",
       "\\item 'gga04260'\n",
       "\\item 'gga00980'\n",
       "\\end{enumerate*}\n"
      ],
      "text/markdown": [
       "1. 'gga03010'\n",
       "2. 'gga00190'\n",
       "3. 'gga03420'\n",
       "4. 'gga04260'\n",
       "5. 'gga00980'\n",
       "\n",
       "\n"
      ],
      "text/plain": [
       "[1] \"gga03010\" \"gga00190\" \"gga03420\" \"gga04260\" \"gga00980\""
      ]
     },
     "metadata": {},
     "output_type": "display_data"
    },
    {
     "name": "stderr",
     "output_type": "stream",
     "text": [
      "Info: Downloading xml files for gga03010, 1/1 pathways..\n",
      "Info: Downloading png files for gga03010, 1/1 pathways..\n",
      "Info: Working in directory /home/bay001/projects/kes_20160307/permanent_data/10-11-2016\n",
      "Info: Writing image file gga03010.pathview.png\n",
      "Info: Downloading xml files for gga00190, 1/1 pathways..\n",
      "Info: Downloading png files for gga00190, 1/1 pathways..\n",
      "'select()' returned 1:1 mapping between keys and columns\n"
     ]
    },
    {
     "name": "stdout",
     "output_type": "stream",
     "text": [
      "[1] \"Note: 3 of 100 unique input IDs unmapped.\"\n"
     ]
    },
    {
     "name": "stderr",
     "output_type": "stream",
     "text": [
      "Info: Working in directory /home/bay001/projects/kes_20160307/permanent_data/10-11-2016\n",
      "Info: Writing image file gga00190.pathview.png\n",
      "Info: some node width is different from others, and hence adjusted!\n",
      "Info: Downloading xml files for gga03420, 1/1 pathways..\n",
      "Info: Downloading png files for gga03420, 1/1 pathways..\n",
      "'select()' returned 1:1 mapping between keys and columns\n",
      "Info: Working in directory /home/bay001/projects/kes_20160307/permanent_data/10-11-2016\n",
      "Info: Writing image file gga03420.pathview.png\n",
      "Info: Downloading xml files for gga04260, 1/1 pathways..\n",
      "Info: Downloading png files for gga04260, 1/1 pathways..\n",
      "'select()' returned 1:1 mapping between keys and columns\n",
      "Info: Working in directory /home/bay001/projects/kes_20160307/permanent_data/10-11-2016\n",
      "Info: Writing image file gga04260.pathview.png\n",
      "Info: Downloading xml files for gga00980, 1/1 pathways..\n",
      "Info: Downloading png files for gga00980, 1/1 pathways..\n",
      "'select()' returned 1:1 mapping between keys and columns\n",
      "Info: Working in directory /home/bay001/projects/kes_20160307/permanent_data/10-11-2016\n",
      "Info: Writing image file gga00980.pathview.png\n"
     ]
    }
   ],
   "source": [
    "# Credit: http://www.gettinggeneticsdone.com/2015/12/tutorial-rna-seq-differential.html\n",
    "\n",
    "res$symbol = mapIds(org.Gg.eg.db, keys=row.names(res), column=\"SYMBOL\", keytype=\"ENSEMBL\", multiVals=\"first\")\n",
    "res$entrez = mapIds(org.Gg.eg.db, keys=row.names(res), column=\"ENTREZID\", keytype=\"ENSEMBL\", multiVals=\"first\")\n",
    "res$name =   mapIds(org.Gg.eg.db, keys=row.names(res), column=\"GENENAME\", keytype=\"ENSEMBL\", multiVals=\"first\")\n",
    "\n",
    "foldchanges = res$log2FoldChange\n",
    "names(foldchanges) = res$entrez\n",
    "keggres = gage(foldchanges, gsets=kegg.sets.gs, same.dir=TRUE)\n",
    "\n",
    "library('dplyr')\n",
    "(keggrespathways = data.frame(id=rownames(keggres$greater), keggres$greater) %>% \n",
    "  tbl_df() %>% \n",
    "  filter(row_number()<=5) %>% \n",
    "  .$id %>% \n",
    "  as.character())\n",
    "(keggresids = substr(keggrespathways, start=1, stop=8)\n",
    ")\n",
    "detach(\"package:dplyr\", unload=TRUE)\n",
    "\n",
    "tmp = sapply(keggresids, function(pid) pathview(gene.data=foldchanges, pathway.id=pid, species=\"gga\", \n",
    "                                                kegg.dir=file.path(getwd(), prefix)))    "
   ]
  },
  {
   "cell_type": "code",
   "execution_count": 27,
   "metadata": {
    "collapsed": false
   },
   "outputs": [
    {
     "name": "stderr",
     "output_type": "stream",
     "text": [
      "\n",
      "Attaching package: 'dplyr'\n",
      "\n",
      "The following object is masked from 'package:AnnotationDbi':\n",
      "\n",
      "    select\n",
      "\n",
      "The following object is masked from 'package:Biobase':\n",
      "\n",
      "    combine\n",
      "\n",
      "The following objects are masked from 'package:GenomicRanges':\n",
      "\n",
      "    intersect, setdiff, union\n",
      "\n",
      "The following object is masked from 'package:GenomeInfoDb':\n",
      "\n",
      "    intersect\n",
      "\n",
      "The following objects are masked from 'package:IRanges':\n",
      "\n",
      "    collapse, desc, intersect, setdiff, slice, union\n",
      "\n",
      "The following objects are masked from 'package:S4Vectors':\n",
      "\n",
      "    intersect, rename, setdiff, union\n",
      "\n",
      "The following objects are masked from 'package:BiocGenerics':\n",
      "\n",
      "    combine, intersect, setdiff, union\n",
      "\n",
      "The following objects are masked from 'package:stats':\n",
      "\n",
      "    filter, lag\n",
      "\n",
      "The following objects are masked from 'package:base':\n",
      "\n",
      "    intersect, setdiff, setequal, union\n",
      "\n"
     ]
    },
    {
     "data": {
      "text/html": [
       "<ol class=list-inline>\n",
       "\t<li>'gga04510 Focal adhesion'</li>\n",
       "\t<li>'gga04810 Regulation of actin cytoskeleton'</li>\n",
       "\t<li>'gga04010 MAPK signaling pathway'</li>\n",
       "\t<li>'gga04530 Tight junction'</li>\n",
       "\t<li>'gga04512 ECM-receptor interaction'</li>\n",
       "</ol>\n"
      ],
      "text/latex": [
       "\\begin{enumerate*}\n",
       "\\item 'gga04510 Focal adhesion'\n",
       "\\item 'gga04810 Regulation of actin cytoskeleton'\n",
       "\\item 'gga04010 MAPK signaling pathway'\n",
       "\\item 'gga04530 Tight junction'\n",
       "\\item 'gga04512 ECM-receptor interaction'\n",
       "\\end{enumerate*}\n"
      ],
      "text/markdown": [
       "1. 'gga04510 Focal adhesion'\n",
       "2. 'gga04810 Regulation of actin cytoskeleton'\n",
       "3. 'gga04010 MAPK signaling pathway'\n",
       "4. 'gga04530 Tight junction'\n",
       "5. 'gga04512 ECM-receptor interaction'\n",
       "\n",
       "\n"
      ],
      "text/plain": [
       "[1] \"gga04510 Focal adhesion\"                  \n",
       "[2] \"gga04810 Regulation of actin cytoskeleton\"\n",
       "[3] \"gga04010 MAPK signaling pathway\"          \n",
       "[4] \"gga04530 Tight junction\"                  \n",
       "[5] \"gga04512 ECM-receptor interaction\"        "
      ]
     },
     "metadata": {},
     "output_type": "display_data"
    },
    {
     "data": {
      "text/html": [
       "<ol class=list-inline>\n",
       "\t<li>'gga04510'</li>\n",
       "\t<li>'gga04810'</li>\n",
       "\t<li>'gga04010'</li>\n",
       "\t<li>'gga04530'</li>\n",
       "\t<li>'gga04512'</li>\n",
       "</ol>\n"
      ],
      "text/latex": [
       "\\begin{enumerate*}\n",
       "\\item 'gga04510'\n",
       "\\item 'gga04810'\n",
       "\\item 'gga04010'\n",
       "\\item 'gga04530'\n",
       "\\item 'gga04512'\n",
       "\\end{enumerate*}\n"
      ],
      "text/markdown": [
       "1. 'gga04510'\n",
       "2. 'gga04810'\n",
       "3. 'gga04010'\n",
       "4. 'gga04530'\n",
       "5. 'gga04512'\n",
       "\n",
       "\n"
      ],
      "text/plain": [
       "[1] \"gga04510\" \"gga04810\" \"gga04010\" \"gga04530\" \"gga04512\""
      ]
     },
     "metadata": {},
     "output_type": "display_data"
    },
    {
     "name": "stderr",
     "output_type": "stream",
     "text": [
      "Info: Downloading xml files for gga04510, 1/1 pathways..\n",
      "Info: Downloading png files for gga04510, 1/1 pathways..\n",
      "'select()' returned 1:1 mapping between keys and columns\n",
      "Info: Working in directory /home/bay001/projects/kes_20160307/permanent_data/10-11-2016\n",
      "Info: Writing image file gga04510.pathview.png\n",
      "Info: Downloading xml files for gga04810, 1/1 pathways..\n",
      "Info: Downloading png files for gga04810, 1/1 pathways..\n",
      "'select()' returned 1:1 mapping between keys and columns\n"
     ]
    },
    {
     "name": "stdout",
     "output_type": "stream",
     "text": [
      "[1] \"Note: 1 of 64 unique input IDs unmapped.\"\n"
     ]
    },
    {
     "name": "stderr",
     "output_type": "stream",
     "text": [
      "Info: Working in directory /home/bay001/projects/kes_20160307/permanent_data/10-11-2016\n",
      "Info: Writing image file gga04810.pathview.png\n",
      "Info: Downloading xml files for gga04010, 1/1 pathways..\n",
      "Info: Downloading png files for gga04010, 1/1 pathways..\n",
      "'select()' returned 1:1 mapping between keys and columns\n"
     ]
    },
    {
     "name": "stdout",
     "output_type": "stream",
     "text": [
      "[1] \"Note: 3 of 111 unique input IDs unmapped.\"\n"
     ]
    },
    {
     "name": "stderr",
     "output_type": "stream",
     "text": [
      "Info: Working in directory /home/bay001/projects/kes_20160307/permanent_data/10-11-2016\n",
      "Info: Writing image file gga04010.pathview.png\n",
      "Info: Downloading xml files for gga04530, 1/1 pathways..\n",
      "Info: Downloading png files for gga04530, 1/1 pathways..\n",
      "'select()' returned 1:1 mapping between keys and columns\n",
      "Info: Working in directory /home/bay001/projects/kes_20160307/permanent_data/10-11-2016\n",
      "Info: Writing image file gga04530.pathview.png\n",
      "Info: Downloading xml files for gga04512, 1/1 pathways..\n",
      "Info: Downloading png files for gga04512, 1/1 pathways..\n",
      "'select()' returned 1:1 mapping between keys and columns\n"
     ]
    },
    {
     "name": "stdout",
     "output_type": "stream",
     "text": [
      "[1] \"Note: 2 of 41 unique input IDs unmapped.\"\n"
     ]
    },
    {
     "name": "stderr",
     "output_type": "stream",
     "text": [
      "Info: Working in directory /home/bay001/projects/kes_20160307/permanent_data/10-11-2016\n",
      "Info: Writing image file gga04512.pathview.png\n"
     ]
    }
   ],
   "source": [
    "library('dplyr')\n",
    "(keggrespathways = data.frame(id=rownames(keggres$less), keggres$less) %>% \n",
    "  tbl_df() %>% \n",
    "  filter(row_number()<=5) %>% \n",
    "  .$id %>% \n",
    "  as.character())\n",
    "(keggresids = substr(keggrespathways, start=1, stop=8)\n",
    ")\n",
    "detach(\"package:dplyr\", unload=TRUE)\n",
    "\n",
    "tmp = sapply(keggresids, function(pid) pathview(gene.data=foldchanges, pathway.id=pid, species=\"gga\", \n",
    "                                                kegg.dir=file.path(getwd(), prefix)))"
   ]
  },
  {
   "cell_type": "markdown",
   "metadata": {},
   "source": [
    "# Comparing TBBPA and Control (Male)"
   ]
  },
  {
   "cell_type": "code",
   "execution_count": 28,
   "metadata": {
    "collapsed": false
   },
   "outputs": [
    {
     "data": {
      "text/html": [
       "<table>\n",
       "<thead><tr><th></th><th scope=col>factors</th><th scope=col>type</th></tr></thead>\n",
       "<tbody>\n",
       "\t<tr><th scope=row>EC.9AK123_ATGTCA</th><td>TBBPA  </td><td>m      </td></tr>\n",
       "\t<tr><th scope=row>EC.11AK330_GTCCGC</th><td>TBBPA  </td><td>m      </td></tr>\n",
       "\t<tr><th scope=row>EC.14AK418_GTTTCG</th><td>CONTROL</td><td>m      </td></tr>\n",
       "\t<tr><th scope=row>EC.16AK327_GAGTGG</th><td>CONTROL</td><td>m      </td></tr>\n",
       "\t<tr><th scope=row>EC.17AK506_ACTGAT</th><td>CONTROL</td><td>m      </td></tr>\n",
       "</tbody>\n",
       "</table>\n"
      ],
      "text/latex": [
       "\\begin{tabular}{r|ll}\n",
       "  & factors & type\\\\\n",
       "\\hline\n",
       "\tEC.9AK123\\_ATGTCA & TBBPA   & m      \\\\\n",
       "\tEC.11AK330\\_GTCCGC & TBBPA   & m      \\\\\n",
       "\tEC.14AK418\\_GTTTCG & CONTROL & m      \\\\\n",
       "\tEC.16AK327\\_GAGTGG & CONTROL & m      \\\\\n",
       "\tEC.17AK506\\_ACTGAT & CONTROL & m      \\\\\n",
       "\\end{tabular}\n"
      ],
      "text/plain": [
       "                  factors type\n",
       "EC.9AK123_ATGTCA  TBBPA   m   \n",
       "EC.11AK330_GTCCGC TBBPA   m   \n",
       "EC.14AK418_GTTTCG CONTROL m   \n",
       "EC.16AK327_GAGTGG CONTROL m   \n",
       "EC.17AK506_ACTGAT CONTROL m   "
      ]
     },
     "metadata": {},
     "output_type": "display_data"
    },
    {
     "name": "stderr",
     "output_type": "stream",
     "text": [
      "estimating size factors\n",
      "estimating dispersions\n",
      "gene-wise dispersion estimates\n",
      "mean-dispersion relationship\n",
      "final dispersion estimates\n",
      "fitting model and testing\n"
     ]
    },
    {
     "data": {
      "text/html": [
       "<strong>png:</strong> 2"
      ],
      "text/latex": [
       "\\textbf{png:} 2"
      ],
      "text/markdown": [
       "**png:** 2"
      ],
      "text/plain": [
       "png \n",
       "  2 "
      ]
     },
     "metadata": {},
     "output_type": "display_data"
    },
    {
     "data": {
      "text/html": [
       "<strong>png:</strong> 2"
      ],
      "text/latex": [
       "\\textbf{png:} 2"
      ],
      "text/markdown": [
       "**png:** 2"
      ],
      "text/plain": [
       "png \n",
       "  2 "
      ]
     },
     "metadata": {},
     "output_type": "display_data"
    }
   ],
   "source": [
    "prefix <- \"TBBPA_vs_CONTROL_MALE\"\n",
    "\n",
    "dir.create(file.path(getwd(), prefix), showWarnings = FALSE)\n",
    "\n",
    "samples_2 <- samples[,c(9,11,14,16,17)]\n",
    "factors <- as.factor(c(rep(\"TBBPA\",2),rep(\"CONTROL\",3)))\n",
    "type <- c(rep('m',5))\n",
    "\n",
    "(coldata <- data.frame(row.names=colnames(samples_2), factors, type)\n",
    ")\n",
    "dds <- DESeqDataSetFromMatrix(countData=samples_2, colData=coldata, design=~factors)\n",
    "dds$factors <- relevel(dds$factors, ref=\"CONTROL\")\n",
    "\n",
    "dds <- DESeq(dds)\n",
    "res <- results(dds)\n",
    "\n",
    "resOrdered <- res[order(res$padj,res$log2FoldChange),] # orders by foldchange and padj\n",
    "write.csv(as.data.frame(resOrdered),file=paste0(file.path(getwd(), prefix),'/diffexp.csv'))\n",
    "\n",
    "png(paste0(file.path(getwd(), prefix),'/maplot.png'))\n",
    "DESeq2::plotMA(res, main=\"MA Plot\", ylim=c(-7,6) )\n",
    "legend(\"topright\",c(\"pval > 0.01\",\"pval < 0.01\"),col=c(\"grey\",\"red\"),pch=16)\n",
    "topGene <- rownames(res)[which.min(res$padj)]\n",
    "with(res[topGene, ], {\n",
    "  points(baseMean, log2FoldChange, col=\"dodgerblue\", cex=2, lwd=2)\n",
    "  text(baseMean, log2FoldChange, topGene, pos=2, col=\"dodgerblue\")\n",
    "})\n",
    "dev.off()\n",
    "\n",
    "png(paste0(file.path(getwd(), prefix),'/volcano.png'))\n",
    "plot( res$log2FoldChange, -log10( res$padj ), \n",
    "      col = ifelse( res$padj < .05, \"red\", \"black\" ),\n",
    "      main = \"Volcano Plot\")\n",
    "legend(\"topright\",c(\"pval > 0.05\",\"pval < 0.05\"),col=c(\"grey\",\"red\"),pch=16)\n",
    "with(res[topGene, ], {\n",
    "  points(baseMean, log2FoldChange, col=\"dodgerblue\", cex=2, lwd=2)\n",
    "  text(baseMean, log2FoldChange, topGene, pos=2, col=\"dodgerblue\")\n",
    "})\n",
    "dev.off()"
   ]
  },
  {
   "cell_type": "code",
   "execution_count": 29,
   "metadata": {
    "collapsed": false
   },
   "outputs": [
    {
     "name": "stderr",
     "output_type": "stream",
     "text": [
      "\n",
      "Attaching package: 'dplyr'\n",
      "\n",
      "The following object is masked from 'package:AnnotationDbi':\n",
      "\n",
      "    select\n",
      "\n",
      "The following object is masked from 'package:Biobase':\n",
      "\n",
      "    combine\n",
      "\n",
      "The following objects are masked from 'package:GenomicRanges':\n",
      "\n",
      "    intersect, setdiff, union\n",
      "\n",
      "The following object is masked from 'package:GenomeInfoDb':\n",
      "\n",
      "    intersect\n",
      "\n",
      "The following objects are masked from 'package:IRanges':\n",
      "\n",
      "    collapse, desc, intersect, setdiff, slice, union\n",
      "\n",
      "The following objects are masked from 'package:S4Vectors':\n",
      "\n",
      "    intersect, rename, setdiff, union\n",
      "\n",
      "The following objects are masked from 'package:BiocGenerics':\n",
      "\n",
      "    combine, intersect, setdiff, union\n",
      "\n",
      "The following objects are masked from 'package:stats':\n",
      "\n",
      "    filter, lag\n",
      "\n",
      "The following objects are masked from 'package:base':\n",
      "\n",
      "    intersect, setdiff, setequal, union\n",
      "\n"
     ]
    },
    {
     "data": {
      "text/html": [
       "<ol class=list-inline>\n",
       "\t<li>'gga03010 Ribosome'</li>\n",
       "\t<li>'gga00190 Oxidative phosphorylation'</li>\n",
       "\t<li>'gga00982 Drug metabolism - cytochrome P450'</li>\n",
       "\t<li>'gga00980 Metabolism of xenobiotics by cytochrome P450'</li>\n",
       "\t<li>'gga03060 Protein export'</li>\n",
       "</ol>\n"
      ],
      "text/latex": [
       "\\begin{enumerate*}\n",
       "\\item 'gga03010 Ribosome'\n",
       "\\item 'gga00190 Oxidative phosphorylation'\n",
       "\\item 'gga00982 Drug metabolism - cytochrome P450'\n",
       "\\item 'gga00980 Metabolism of xenobiotics by cytochrome P450'\n",
       "\\item 'gga03060 Protein export'\n",
       "\\end{enumerate*}\n"
      ],
      "text/markdown": [
       "1. 'gga03010 Ribosome'\n",
       "2. 'gga00190 Oxidative phosphorylation'\n",
       "3. 'gga00982 Drug metabolism - cytochrome P450'\n",
       "4. 'gga00980 Metabolism of xenobiotics by cytochrome P450'\n",
       "5. 'gga03060 Protein export'\n",
       "\n",
       "\n"
      ],
      "text/plain": [
       "[1] \"gga03010 Ribosome\"                                    \n",
       "[2] \"gga00190 Oxidative phosphorylation\"                   \n",
       "[3] \"gga00982 Drug metabolism - cytochrome P450\"           \n",
       "[4] \"gga00980 Metabolism of xenobiotics by cytochrome P450\"\n",
       "[5] \"gga03060 Protein export\"                              "
      ]
     },
     "metadata": {},
     "output_type": "display_data"
    },
    {
     "data": {
      "text/html": [
       "<ol class=list-inline>\n",
       "\t<li>'gga03010'</li>\n",
       "\t<li>'gga00190'</li>\n",
       "\t<li>'gga00982'</li>\n",
       "\t<li>'gga00980'</li>\n",
       "\t<li>'gga03060'</li>\n",
       "</ol>\n"
      ],
      "text/latex": [
       "\\begin{enumerate*}\n",
       "\\item 'gga03010'\n",
       "\\item 'gga00190'\n",
       "\\item 'gga00982'\n",
       "\\item 'gga00980'\n",
       "\\item 'gga03060'\n",
       "\\end{enumerate*}\n"
      ],
      "text/markdown": [
       "1. 'gga03010'\n",
       "2. 'gga00190'\n",
       "3. 'gga00982'\n",
       "4. 'gga00980'\n",
       "5. 'gga03060'\n",
       "\n",
       "\n"
      ],
      "text/plain": [
       "[1] \"gga03010\" \"gga00190\" \"gga00982\" \"gga00980\" \"gga03060\""
      ]
     },
     "metadata": {},
     "output_type": "display_data"
    },
    {
     "name": "stderr",
     "output_type": "stream",
     "text": [
      "Info: Downloading xml files for gga03010, 1/1 pathways..\n",
      "Info: Downloading png files for gga03010, 1/1 pathways..\n",
      "Info: Working in directory /home/bay001/projects/kes_20160307/permanent_data/10-11-2016\n",
      "Info: Writing image file gga03010.pathview.png\n",
      "Info: Downloading xml files for gga00190, 1/1 pathways..\n",
      "Info: Downloading png files for gga00190, 1/1 pathways..\n",
      "'select()' returned 1:1 mapping between keys and columns\n"
     ]
    },
    {
     "name": "stdout",
     "output_type": "stream",
     "text": [
      "[1] \"Note: 3 of 100 unique input IDs unmapped.\"\n"
     ]
    },
    {
     "name": "stderr",
     "output_type": "stream",
     "text": [
      "Info: Working in directory /home/bay001/projects/kes_20160307/permanent_data/10-11-2016\n",
      "Info: Writing image file gga00190.pathview.png\n",
      "Info: some node width is different from others, and hence adjusted!\n",
      "Info: Downloading xml files for gga00982, 1/1 pathways..\n",
      "Info: Downloading png files for gga00982, 1/1 pathways..\n",
      "'select()' returned 1:1 mapping between keys and columns\n",
      "Info: Working in directory /home/bay001/projects/kes_20160307/permanent_data/10-11-2016\n",
      "Info: Writing image file gga00982.pathview.png\n",
      "Info: Downloading xml files for gga00980, 1/1 pathways..\n",
      "Info: Downloading png files for gga00980, 1/1 pathways..\n",
      "'select()' returned 1:1 mapping between keys and columns\n",
      "Info: Working in directory /home/bay001/projects/kes_20160307/permanent_data/10-11-2016\n",
      "Info: Writing image file gga00980.pathview.png\n",
      "Info: Downloading xml files for gga03060, 1/1 pathways..\n",
      "Info: Downloading png files for gga03060, 1/1 pathways..\n",
      "'select()' returned 1:1 mapping between keys and columns\n",
      "Info: Working in directory /home/bay001/projects/kes_20160307/permanent_data/10-11-2016\n",
      "Info: Writing image file gga03060.pathview.png\n"
     ]
    }
   ],
   "source": [
    "# Credit: http://www.gettinggeneticsdone.com/2015/12/tutorial-rna-seq-differential.html\n",
    "\n",
    "res$symbol = mapIds(org.Gg.eg.db, keys=row.names(res), column=\"SYMBOL\", keytype=\"ENSEMBL\", multiVals=\"first\")\n",
    "res$entrez = mapIds(org.Gg.eg.db, keys=row.names(res), column=\"ENTREZID\", keytype=\"ENSEMBL\", multiVals=\"first\")\n",
    "res$name =   mapIds(org.Gg.eg.db, keys=row.names(res), column=\"GENENAME\", keytype=\"ENSEMBL\", multiVals=\"first\")\n",
    "\n",
    "foldchanges = res$log2FoldChange\n",
    "names(foldchanges) = res$entrez\n",
    "keggres = gage(foldchanges, gsets=kegg.sets.gs, same.dir=TRUE)\n",
    "\n",
    "library('dplyr')\n",
    "(keggrespathways = data.frame(id=rownames(keggres$greater), keggres$greater) %>% \n",
    "  tbl_df() %>% \n",
    "  filter(row_number()<=5) %>% \n",
    "  .$id %>% \n",
    "  as.character())\n",
    "(keggresids = substr(keggrespathways, start=1, stop=8)\n",
    ")\n",
    "detach(\"package:dplyr\", unload=TRUE)\n",
    "\n",
    "tmp = sapply(keggresids, function(pid) pathview(gene.data=foldchanges, pathway.id=pid, species=\"gga\", \n",
    "                                                kegg.dir=file.path(getwd(), prefix)))    \n"
   ]
  },
  {
   "cell_type": "code",
   "execution_count": 30,
   "metadata": {
    "collapsed": false
   },
   "outputs": [
    {
     "name": "stderr",
     "output_type": "stream",
     "text": [
      "\n",
      "Attaching package: 'dplyr'\n",
      "\n",
      "The following object is masked from 'package:AnnotationDbi':\n",
      "\n",
      "    select\n",
      "\n",
      "The following object is masked from 'package:Biobase':\n",
      "\n",
      "    combine\n",
      "\n",
      "The following objects are masked from 'package:GenomicRanges':\n",
      "\n",
      "    intersect, setdiff, union\n",
      "\n",
      "The following object is masked from 'package:GenomeInfoDb':\n",
      "\n",
      "    intersect\n",
      "\n",
      "The following objects are masked from 'package:IRanges':\n",
      "\n",
      "    collapse, desc, intersect, setdiff, slice, union\n",
      "\n",
      "The following objects are masked from 'package:S4Vectors':\n",
      "\n",
      "    intersect, rename, setdiff, union\n",
      "\n",
      "The following objects are masked from 'package:BiocGenerics':\n",
      "\n",
      "    combine, intersect, setdiff, union\n",
      "\n",
      "The following objects are masked from 'package:stats':\n",
      "\n",
      "    filter, lag\n",
      "\n",
      "The following objects are masked from 'package:base':\n",
      "\n",
      "    intersect, setdiff, setequal, union\n",
      "\n"
     ]
    },
    {
     "data": {
      "text/html": [
       "<ol class=list-inline>\n",
       "\t<li>'gga04110 Cell cycle'</li>\n",
       "\t<li>'gga04144 Endocytosis'</li>\n",
       "\t<li>'gga04810 Regulation of actin cytoskeleton'</li>\n",
       "\t<li>'gga03015 mRNA surveillance pathway'</li>\n",
       "\t<li>'gga03018 RNA degradation'</li>\n",
       "</ol>\n"
      ],
      "text/latex": [
       "\\begin{enumerate*}\n",
       "\\item 'gga04110 Cell cycle'\n",
       "\\item 'gga04144 Endocytosis'\n",
       "\\item 'gga04810 Regulation of actin cytoskeleton'\n",
       "\\item 'gga03015 mRNA surveillance pathway'\n",
       "\\item 'gga03018 RNA degradation'\n",
       "\\end{enumerate*}\n"
      ],
      "text/markdown": [
       "1. 'gga04110 Cell cycle'\n",
       "2. 'gga04144 Endocytosis'\n",
       "3. 'gga04810 Regulation of actin cytoskeleton'\n",
       "4. 'gga03015 mRNA surveillance pathway'\n",
       "5. 'gga03018 RNA degradation'\n",
       "\n",
       "\n"
      ],
      "text/plain": [
       "[1] \"gga04110 Cell cycle\"                      \n",
       "[2] \"gga04144 Endocytosis\"                     \n",
       "[3] \"gga04810 Regulation of actin cytoskeleton\"\n",
       "[4] \"gga03015 mRNA surveillance pathway\"       \n",
       "[5] \"gga03018 RNA degradation\"                 "
      ]
     },
     "metadata": {},
     "output_type": "display_data"
    },
    {
     "data": {
      "text/html": [
       "<ol class=list-inline>\n",
       "\t<li>'gga04110'</li>\n",
       "\t<li>'gga04144'</li>\n",
       "\t<li>'gga04810'</li>\n",
       "\t<li>'gga03015'</li>\n",
       "\t<li>'gga03018'</li>\n",
       "</ol>\n"
      ],
      "text/latex": [
       "\\begin{enumerate*}\n",
       "\\item 'gga04110'\n",
       "\\item 'gga04144'\n",
       "\\item 'gga04810'\n",
       "\\item 'gga03015'\n",
       "\\item 'gga03018'\n",
       "\\end{enumerate*}\n"
      ],
      "text/markdown": [
       "1. 'gga04110'\n",
       "2. 'gga04144'\n",
       "3. 'gga04810'\n",
       "4. 'gga03015'\n",
       "5. 'gga03018'\n",
       "\n",
       "\n"
      ],
      "text/plain": [
       "[1] \"gga04110\" \"gga04144\" \"gga04810\" \"gga03015\" \"gga03018\""
      ]
     },
     "metadata": {},
     "output_type": "display_data"
    },
    {
     "name": "stderr",
     "output_type": "stream",
     "text": [
      "Info: Downloading xml files for gga04110, 1/1 pathways..\n",
      "Info: Downloading png files for gga04110, 1/1 pathways..\n",
      "'select()' returned 1:1 mapping between keys and columns\n"
     ]
    },
    {
     "name": "stdout",
     "output_type": "stream",
     "text": [
      "[1] \"Note: 2 of 73 unique input IDs unmapped.\"\n"
     ]
    },
    {
     "name": "stderr",
     "output_type": "stream",
     "text": [
      "Info: Working in directory /home/bay001/projects/kes_20160307/permanent_data/10-11-2016\n",
      "Info: Writing image file gga04110.pathview.png\n",
      "Info: Downloading xml files for gga04144, 1/1 pathways..\n",
      "Info: Downloading png files for gga04144, 1/1 pathways..\n",
      "'select()' returned 1:1 mapping between keys and columns\n",
      "Info: Working in directory /home/bay001/projects/kes_20160307/permanent_data/10-11-2016\n",
      "Info: Writing image file gga04144.pathview.png\n",
      "Info: some node width is different from others, and hence adjusted!\n",
      "Info: Downloading xml files for gga04810, 1/1 pathways..\n",
      "Info: Downloading png files for gga04810, 1/1 pathways..\n",
      "'select()' returned 1:1 mapping between keys and columns\n"
     ]
    },
    {
     "name": "stdout",
     "output_type": "stream",
     "text": [
      "[1] \"Note: 1 of 64 unique input IDs unmapped.\"\n"
     ]
    },
    {
     "name": "stderr",
     "output_type": "stream",
     "text": [
      "Info: Working in directory /home/bay001/projects/kes_20160307/permanent_data/10-11-2016\n",
      "Info: Writing image file gga04810.pathview.png\n",
      "Info: Downloading xml files for gga03015, 1/1 pathways..\n",
      "Info: Downloading png files for gga03015, 1/1 pathways..\n",
      "'select()' returned 1:1 mapping between keys and columns\n"
     ]
    },
    {
     "name": "stdout",
     "output_type": "stream",
     "text": [
      "[1] \"Note: 1 of 47 unique input IDs unmapped.\"\n"
     ]
    },
    {
     "name": "stderr",
     "output_type": "stream",
     "text": [
      "Info: Working in directory /home/bay001/projects/kes_20160307/permanent_data/10-11-2016\n",
      "Info: Writing image file gga03015.pathview.png\n",
      "Info: Downloading xml files for gga03018, 1/1 pathways..\n",
      "Info: Downloading png files for gga03018, 1/1 pathways..\n",
      "'select()' returned 1:1 mapping between keys and columns\n"
     ]
    },
    {
     "name": "stdout",
     "output_type": "stream",
     "text": [
      "[1] \"Note: 2 of 54 unique input IDs unmapped.\"\n"
     ]
    },
    {
     "name": "stderr",
     "output_type": "stream",
     "text": [
      "Info: Working in directory /home/bay001/projects/kes_20160307/permanent_data/10-11-2016\n",
      "Info: Writing image file gga03018.pathview.png\n"
     ]
    }
   ],
   "source": [
    "library('dplyr')\n",
    "(keggrespathways = data.frame(id=rownames(keggres$less), keggres$less) %>% \n",
    "  tbl_df() %>% \n",
    "  filter(row_number()<=5) %>% \n",
    "  .$id %>% \n",
    "  as.character())\n",
    "(keggresids = substr(keggrespathways, start=1, stop=8)\n",
    ")\n",
    "detach(\"package:dplyr\", unload=TRUE)\n",
    "\n",
    "tmp = sapply(keggresids, function(pid) pathview(gene.data=foldchanges, pathway.id=pid, species=\"gga\", \n",
    "                                                kegg.dir=file.path(getwd(), prefix)))"
   ]
  },
  {
   "cell_type": "markdown",
   "metadata": {},
   "source": [
    "# Comparing TBBPA and Control (Female)"
   ]
  },
  {
   "cell_type": "code",
   "execution_count": 31,
   "metadata": {
    "collapsed": false
   },
   "outputs": [
    {
     "data": {
      "text/html": [
       "<table>\n",
       "<thead><tr><th></th><th scope=col>factors</th><th scope=col>type</th></tr></thead>\n",
       "<tbody>\n",
       "\t<tr><th scope=row>EC.7AK501_AGTCAA</th><td>TBBPA  </td><td>f      </td></tr>\n",
       "\t<tr><th scope=row>EC.8AK511_AGTTCC</th><td>TBBPA  </td><td>f      </td></tr>\n",
       "\t<tr><th scope=row>EC.10AK244_CCGTCC</th><td>TBBPA  </td><td>f      </td></tr>\n",
       "\t<tr><th scope=row>EC.12AK422_GTGAAA</th><td>TBBPA  </td><td>f      </td></tr>\n",
       "\t<tr><th scope=row>EC.13AK430_GTGGCC</th><td>CONTROL</td><td>f      </td></tr>\n",
       "\t<tr><th scope=row>EC.15AK219_CGTACG</th><td>CONTROL</td><td>f      </td></tr>\n",
       "\t<tr><th scope=row>EC.18AK105_ATTCCT</th><td>CONTROL</td><td>f      </td></tr>\n",
       "</tbody>\n",
       "</table>\n"
      ],
      "text/latex": [
       "\\begin{tabular}{r|ll}\n",
       "  & factors & type\\\\\n",
       "\\hline\n",
       "\tEC.7AK501\\_AGTCAA & TBBPA   & f      \\\\\n",
       "\tEC.8AK511\\_AGTTCC & TBBPA   & f      \\\\\n",
       "\tEC.10AK244\\_CCGTCC & TBBPA   & f      \\\\\n",
       "\tEC.12AK422\\_GTGAAA & TBBPA   & f      \\\\\n",
       "\tEC.13AK430\\_GTGGCC & CONTROL & f      \\\\\n",
       "\tEC.15AK219\\_CGTACG & CONTROL & f      \\\\\n",
       "\tEC.18AK105\\_ATTCCT & CONTROL & f      \\\\\n",
       "\\end{tabular}\n"
      ],
      "text/plain": [
       "                  factors type\n",
       "EC.7AK501_AGTCAA  TBBPA   f   \n",
       "EC.8AK511_AGTTCC  TBBPA   f   \n",
       "EC.10AK244_CCGTCC TBBPA   f   \n",
       "EC.12AK422_GTGAAA TBBPA   f   \n",
       "EC.13AK430_GTGGCC CONTROL f   \n",
       "EC.15AK219_CGTACG CONTROL f   \n",
       "EC.18AK105_ATTCCT CONTROL f   "
      ]
     },
     "metadata": {},
     "output_type": "display_data"
    },
    {
     "name": "stderr",
     "output_type": "stream",
     "text": [
      "estimating size factors\n",
      "estimating dispersions\n",
      "gene-wise dispersion estimates\n",
      "mean-dispersion relationship\n",
      "final dispersion estimates\n",
      "fitting model and testing\n"
     ]
    },
    {
     "data": {
      "text/html": [
       "<strong>png:</strong> 2"
      ],
      "text/latex": [
       "\\textbf{png:} 2"
      ],
      "text/markdown": [
       "**png:** 2"
      ],
      "text/plain": [
       "png \n",
       "  2 "
      ]
     },
     "metadata": {},
     "output_type": "display_data"
    },
    {
     "data": {
      "text/html": [
       "<strong>png:</strong> 2"
      ],
      "text/latex": [
       "\\textbf{png:} 2"
      ],
      "text/markdown": [
       "**png:** 2"
      ],
      "text/plain": [
       "png \n",
       "  2 "
      ]
     },
     "metadata": {},
     "output_type": "display_data"
    }
   ],
   "source": [
    "prefix <- \"TBBPA_vs_CONTROL_FEMALE\"\n",
    "\n",
    "dir.create(file.path(getwd(), prefix), showWarnings = FALSE)\n",
    "\n",
    "samples_2 <- samples[,c(7,8,10,12,13,15,18)]\n",
    "factors <- as.factor(c(rep(\"TBBPA\",4),rep(\"CONTROL\",3)))\n",
    "type <- c(rep('f',7))\n",
    "\n",
    "(coldata <- data.frame(row.names=colnames(samples_2), factors, type)\n",
    ")\n",
    "dds <- DESeqDataSetFromMatrix(countData=samples_2, colData=coldata, design=~factors)\n",
    "dds$factors <- relevel(dds$factors, ref=\"CONTROL\")\n",
    "\n",
    "dds <- DESeq(dds)\n",
    "res <- results(dds)\n",
    "\n",
    "resOrdered <- res[order(res$padj,res$log2FoldChange),] # orders by foldchange and padj\n",
    "write.csv(as.data.frame(resOrdered),file=paste0(file.path(getwd(), prefix),'/diffexp.csv'))\n",
    "\n",
    "png(paste0(file.path(getwd(), prefix),'/maplot.png'))\n",
    "DESeq2::plotMA(res, main=\"MA Plot\", ylim=c(-7,6) )\n",
    "legend(\"topright\",c(\"pval > 0.01\",\"pval < 0.01\"),col=c(\"grey\",\"red\"),pch=16)\n",
    "topGene <- rownames(res)[which.min(res$padj)]\n",
    "with(res[topGene, ], {\n",
    "  points(baseMean, log2FoldChange, col=\"dodgerblue\", cex=2, lwd=2)\n",
    "  text(baseMean, log2FoldChange, topGene, pos=2, col=\"dodgerblue\")\n",
    "})\n",
    "dev.off()\n",
    "\n",
    "png(paste0(file.path(getwd(), prefix),'/volcano.png'))\n",
    "plot( res$log2FoldChange, -log10( res$padj ), \n",
    "      col = ifelse( res$padj < .05, \"red\", \"black\" ),\n",
    "      main = \"Volcano Plot\")\n",
    "legend(\"topright\",c(\"pval > 0.05\",\"pval < 0.05\"),col=c(\"grey\",\"red\"),pch=16)\n",
    "with(res[topGene, ], {\n",
    "  points(baseMean, log2FoldChange, col=\"dodgerblue\", cex=2, lwd=2)\n",
    "  text(baseMean, log2FoldChange, topGene, pos=2, col=\"dodgerblue\")\n",
    "})\n",
    "dev.off()"
   ]
  },
  {
   "cell_type": "code",
   "execution_count": 32,
   "metadata": {
    "collapsed": false
   },
   "outputs": [
    {
     "name": "stderr",
     "output_type": "stream",
     "text": [
      "\n",
      "Attaching package: 'dplyr'\n",
      "\n",
      "The following object is masked from 'package:AnnotationDbi':\n",
      "\n",
      "    select\n",
      "\n",
      "The following object is masked from 'package:Biobase':\n",
      "\n",
      "    combine\n",
      "\n",
      "The following objects are masked from 'package:GenomicRanges':\n",
      "\n",
      "    intersect, setdiff, union\n",
      "\n",
      "The following object is masked from 'package:GenomeInfoDb':\n",
      "\n",
      "    intersect\n",
      "\n",
      "The following objects are masked from 'package:IRanges':\n",
      "\n",
      "    collapse, desc, intersect, setdiff, slice, union\n",
      "\n",
      "The following objects are masked from 'package:S4Vectors':\n",
      "\n",
      "    intersect, rename, setdiff, union\n",
      "\n",
      "The following objects are masked from 'package:BiocGenerics':\n",
      "\n",
      "    combine, intersect, setdiff, union\n",
      "\n",
      "The following objects are masked from 'package:stats':\n",
      "\n",
      "    filter, lag\n",
      "\n",
      "The following objects are masked from 'package:base':\n",
      "\n",
      "    intersect, setdiff, setequal, union\n",
      "\n"
     ]
    },
    {
     "data": {
      "text/html": [
       "<ol class=list-inline>\n",
       "\t<li>'gga03010 Ribosome'</li>\n",
       "\t<li>'gga00190 Oxidative phosphorylation'</li>\n",
       "\t<li>'gga00563 Glycosylphosphatidylinositol(GPI)-anchor biosynthesis'</li>\n",
       "\t<li>'gga00140 Steroid hormone biosynthesis'</li>\n",
       "\t<li>'gga04146 Peroxisome'</li>\n",
       "</ol>\n"
      ],
      "text/latex": [
       "\\begin{enumerate*}\n",
       "\\item 'gga03010 Ribosome'\n",
       "\\item 'gga00190 Oxidative phosphorylation'\n",
       "\\item 'gga00563 Glycosylphosphatidylinositol(GPI)-anchor biosynthesis'\n",
       "\\item 'gga00140 Steroid hormone biosynthesis'\n",
       "\\item 'gga04146 Peroxisome'\n",
       "\\end{enumerate*}\n"
      ],
      "text/markdown": [
       "1. 'gga03010 Ribosome'\n",
       "2. 'gga00190 Oxidative phosphorylation'\n",
       "3. 'gga00563 Glycosylphosphatidylinositol(GPI)-anchor biosynthesis'\n",
       "4. 'gga00140 Steroid hormone biosynthesis'\n",
       "5. 'gga04146 Peroxisome'\n",
       "\n",
       "\n"
      ],
      "text/plain": [
       "[1] \"gga03010 Ribosome\"                                             \n",
       "[2] \"gga00190 Oxidative phosphorylation\"                            \n",
       "[3] \"gga00563 Glycosylphosphatidylinositol(GPI)-anchor biosynthesis\"\n",
       "[4] \"gga00140 Steroid hormone biosynthesis\"                         \n",
       "[5] \"gga04146 Peroxisome\"                                           "
      ]
     },
     "metadata": {},
     "output_type": "display_data"
    },
    {
     "data": {
      "text/html": [
       "<ol class=list-inline>\n",
       "\t<li>'gga03010'</li>\n",
       "\t<li>'gga00190'</li>\n",
       "\t<li>'gga00563'</li>\n",
       "\t<li>'gga00140'</li>\n",
       "\t<li>'gga04146'</li>\n",
       "</ol>\n"
      ],
      "text/latex": [
       "\\begin{enumerate*}\n",
       "\\item 'gga03010'\n",
       "\\item 'gga00190'\n",
       "\\item 'gga00563'\n",
       "\\item 'gga00140'\n",
       "\\item 'gga04146'\n",
       "\\end{enumerate*}\n"
      ],
      "text/markdown": [
       "1. 'gga03010'\n",
       "2. 'gga00190'\n",
       "3. 'gga00563'\n",
       "4. 'gga00140'\n",
       "5. 'gga04146'\n",
       "\n",
       "\n"
      ],
      "text/plain": [
       "[1] \"gga03010\" \"gga00190\" \"gga00563\" \"gga00140\" \"gga04146\""
      ]
     },
     "metadata": {},
     "output_type": "display_data"
    },
    {
     "name": "stderr",
     "output_type": "stream",
     "text": [
      "Info: Downloading xml files for gga03010, 1/1 pathways..\n",
      "Info: Downloading png files for gga03010, 1/1 pathways..\n",
      "Info: Working in directory /home/bay001/projects/kes_20160307/permanent_data/10-11-2016\n",
      "Info: Writing image file gga03010.pathview.png\n",
      "Info: Downloading xml files for gga00190, 1/1 pathways..\n",
      "Info: Downloading png files for gga00190, 1/1 pathways..\n",
      "'select()' returned 1:1 mapping between keys and columns\n"
     ]
    },
    {
     "name": "stdout",
     "output_type": "stream",
     "text": [
      "[1] \"Note: 3 of 100 unique input IDs unmapped.\"\n"
     ]
    },
    {
     "name": "stderr",
     "output_type": "stream",
     "text": [
      "Info: Working in directory /home/bay001/projects/kes_20160307/permanent_data/10-11-2016\n",
      "Info: Writing image file gga00190.pathview.png\n",
      "Info: some node width is different from others, and hence adjusted!\n",
      "Info: Downloading xml files for gga00563, 1/1 pathways..\n",
      "Info: Downloading png files for gga00563, 1/1 pathways..\n",
      "'select()' returned 1:1 mapping between keys and columns\n",
      "Info: Working in directory /home/bay001/projects/kes_20160307/permanent_data/10-11-2016\n",
      "Info: Writing image file gga00563.pathview.png\n",
      "Info: Downloading xml files for gga00140, 1/1 pathways..\n",
      "Info: Downloading png files for gga00140, 1/1 pathways..\n",
      "'select()' returned 1:1 mapping between keys and columns\n",
      "Info: Working in directory /home/bay001/projects/kes_20160307/permanent_data/10-11-2016\n",
      "Info: Writing image file gga00140.pathview.png\n",
      "Info: Downloading xml files for gga04146, 1/1 pathways..\n",
      "Info: Downloading png files for gga04146, 1/1 pathways..\n",
      "'select()' returned 1:1 mapping between keys and columns\n"
     ]
    },
    {
     "name": "stdout",
     "output_type": "stream",
     "text": [
      "[1] \"Note: 1 of 62 unique input IDs unmapped.\"\n"
     ]
    },
    {
     "name": "stderr",
     "output_type": "stream",
     "text": [
      "Info: Working in directory /home/bay001/projects/kes_20160307/permanent_data/10-11-2016\n",
      "Info: Writing image file gga04146.pathview.png\n"
     ]
    }
   ],
   "source": [
    "# Credit: http://www.gettinggeneticsdone.com/2015/12/tutorial-rna-seq-differential.html\n",
    "\n",
    "res$symbol = mapIds(org.Gg.eg.db, keys=row.names(res), column=\"SYMBOL\", keytype=\"ENSEMBL\", multiVals=\"first\")\n",
    "res$entrez = mapIds(org.Gg.eg.db, keys=row.names(res), column=\"ENTREZID\", keytype=\"ENSEMBL\", multiVals=\"first\")\n",
    "res$name =   mapIds(org.Gg.eg.db, keys=row.names(res), column=\"GENENAME\", keytype=\"ENSEMBL\", multiVals=\"first\")\n",
    "\n",
    "foldchanges = res$log2FoldChange\n",
    "names(foldchanges) = res$entrez\n",
    "keggres = gage(foldchanges, gsets=kegg.sets.gs, same.dir=TRUE)\n",
    "\n",
    "library('dplyr')\n",
    "(keggrespathways = data.frame(id=rownames(keggres$greater), keggres$greater) %>% \n",
    "  tbl_df() %>% \n",
    "  filter(row_number()<=5) %>% \n",
    "  .$id %>% \n",
    "  as.character())\n",
    "(keggresids = substr(keggrespathways, start=1, stop=8)\n",
    ")\n",
    "detach(\"package:dplyr\", unload=TRUE)\n",
    "\n",
    "tmp = sapply(keggresids, function(pid) pathview(gene.data=foldchanges, pathway.id=pid, species=\"gga\", \n",
    "                                                kegg.dir=file.path(getwd(), prefix)))    \n"
   ]
  },
  {
   "cell_type": "code",
   "execution_count": 33,
   "metadata": {
    "collapsed": false
   },
   "outputs": [
    {
     "name": "stderr",
     "output_type": "stream",
     "text": [
      "\n",
      "Attaching package: 'dplyr'\n",
      "\n",
      "The following object is masked from 'package:AnnotationDbi':\n",
      "\n",
      "    select\n",
      "\n",
      "The following object is masked from 'package:Biobase':\n",
      "\n",
      "    combine\n",
      "\n",
      "The following objects are masked from 'package:GenomicRanges':\n",
      "\n",
      "    intersect, setdiff, union\n",
      "\n",
      "The following object is masked from 'package:GenomeInfoDb':\n",
      "\n",
      "    intersect\n",
      "\n",
      "The following objects are masked from 'package:IRanges':\n",
      "\n",
      "    collapse, desc, intersect, setdiff, slice, union\n",
      "\n",
      "The following objects are masked from 'package:S4Vectors':\n",
      "\n",
      "    intersect, rename, setdiff, union\n",
      "\n",
      "The following objects are masked from 'package:BiocGenerics':\n",
      "\n",
      "    combine, intersect, setdiff, union\n",
      "\n",
      "The following objects are masked from 'package:stats':\n",
      "\n",
      "    filter, lag\n",
      "\n",
      "The following objects are masked from 'package:base':\n",
      "\n",
      "    intersect, setdiff, setequal, union\n",
      "\n"
     ]
    },
    {
     "data": {
      "text/html": [
       "<ol class=list-inline>\n",
       "\t<li>'gga04510 Focal adhesion'</li>\n",
       "\t<li>'gga04010 MAPK signaling pathway'</li>\n",
       "\t<li>'gga04150 mTOR signaling pathway'</li>\n",
       "\t<li>'gga04810 Regulation of actin cytoskeleton'</li>\n",
       "\t<li>'gga04310 Wnt signaling pathway'</li>\n",
       "</ol>\n"
      ],
      "text/latex": [
       "\\begin{enumerate*}\n",
       "\\item 'gga04510 Focal adhesion'\n",
       "\\item 'gga04010 MAPK signaling pathway'\n",
       "\\item 'gga04150 mTOR signaling pathway'\n",
       "\\item 'gga04810 Regulation of actin cytoskeleton'\n",
       "\\item 'gga04310 Wnt signaling pathway'\n",
       "\\end{enumerate*}\n"
      ],
      "text/markdown": [
       "1. 'gga04510 Focal adhesion'\n",
       "2. 'gga04010 MAPK signaling pathway'\n",
       "3. 'gga04150 mTOR signaling pathway'\n",
       "4. 'gga04810 Regulation of actin cytoskeleton'\n",
       "5. 'gga04310 Wnt signaling pathway'\n",
       "\n",
       "\n"
      ],
      "text/plain": [
       "[1] \"gga04510 Focal adhesion\"                  \n",
       "[2] \"gga04010 MAPK signaling pathway\"          \n",
       "[3] \"gga04150 mTOR signaling pathway\"          \n",
       "[4] \"gga04810 Regulation of actin cytoskeleton\"\n",
       "[5] \"gga04310 Wnt signaling pathway\"           "
      ]
     },
     "metadata": {},
     "output_type": "display_data"
    },
    {
     "data": {
      "text/html": [
       "<ol class=list-inline>\n",
       "\t<li>'gga04510'</li>\n",
       "\t<li>'gga04010'</li>\n",
       "\t<li>'gga04150'</li>\n",
       "\t<li>'gga04810'</li>\n",
       "\t<li>'gga04310'</li>\n",
       "</ol>\n"
      ],
      "text/latex": [
       "\\begin{enumerate*}\n",
       "\\item 'gga04510'\n",
       "\\item 'gga04010'\n",
       "\\item 'gga04150'\n",
       "\\item 'gga04810'\n",
       "\\item 'gga04310'\n",
       "\\end{enumerate*}\n"
      ],
      "text/markdown": [
       "1. 'gga04510'\n",
       "2. 'gga04010'\n",
       "3. 'gga04150'\n",
       "4. 'gga04810'\n",
       "5. 'gga04310'\n",
       "\n",
       "\n"
      ],
      "text/plain": [
       "[1] \"gga04510\" \"gga04010\" \"gga04150\" \"gga04810\" \"gga04310\""
      ]
     },
     "metadata": {},
     "output_type": "display_data"
    },
    {
     "name": "stderr",
     "output_type": "stream",
     "text": [
      "Info: Downloading xml files for gga04510, 1/1 pathways..\n",
      "Info: Downloading png files for gga04510, 1/1 pathways..\n",
      "'select()' returned 1:1 mapping between keys and columns\n",
      "Info: Working in directory /home/bay001/projects/kes_20160307/permanent_data/10-11-2016\n",
      "Info: Writing image file gga04510.pathview.png\n",
      "Info: Downloading xml files for gga04010, 1/1 pathways..\n",
      "Info: Downloading png files for gga04010, 1/1 pathways..\n",
      "'select()' returned 1:1 mapping between keys and columns\n"
     ]
    },
    {
     "name": "stdout",
     "output_type": "stream",
     "text": [
      "[1] \"Note: 3 of 111 unique input IDs unmapped.\"\n"
     ]
    },
    {
     "name": "stderr",
     "output_type": "stream",
     "text": [
      "Info: Working in directory /home/bay001/projects/kes_20160307/permanent_data/10-11-2016\n",
      "Info: Writing image file gga04010.pathview.png\n",
      "Info: Downloading xml files for gga04150, 1/1 pathways..\n",
      "Info: Downloading png files for gga04150, 1/1 pathways..\n",
      "'select()' returned 1:1 mapping between keys and columns\n"
     ]
    },
    {
     "name": "stdout",
     "output_type": "stream",
     "text": [
      "[1] \"Note: 1 of 63 unique input IDs unmapped.\"\n"
     ]
    },
    {
     "name": "stderr",
     "output_type": "stream",
     "text": [
      "Info: Working in directory /home/bay001/projects/kes_20160307/permanent_data/10-11-2016\n",
      "Info: Writing image file gga04150.pathview.png\n",
      "Info: Downloading xml files for gga04810, 1/1 pathways..\n",
      "Info: Downloading png files for gga04810, 1/1 pathways..\n",
      "'select()' returned 1:1 mapping between keys and columns\n"
     ]
    },
    {
     "name": "stdout",
     "output_type": "stream",
     "text": [
      "[1] \"Note: 1 of 64 unique input IDs unmapped.\"\n"
     ]
    },
    {
     "name": "stderr",
     "output_type": "stream",
     "text": [
      "Info: Working in directory /home/bay001/projects/kes_20160307/permanent_data/10-11-2016\n",
      "Info: Writing image file gga04810.pathview.png\n",
      "Info: Downloading xml files for gga04310, 1/1 pathways..\n",
      "Info: Downloading png files for gga04310, 1/1 pathways..\n",
      "'select()' returned 1:1 mapping between keys and columns\n"
     ]
    },
    {
     "name": "stdout",
     "output_type": "stream",
     "text": [
      "[1] \"Note: 4 of 64 unique input IDs unmapped.\"\n"
     ]
    },
    {
     "name": "stderr",
     "output_type": "stream",
     "text": [
      "Info: Working in directory /home/bay001/projects/kes_20160307/permanent_data/10-11-2016\n",
      "Info: Writing image file gga04310.pathview.png\n"
     ]
    }
   ],
   "source": [
    "library('dplyr')\n",
    "(keggrespathways = data.frame(id=rownames(keggres$less), keggres$less) %>% \n",
    "  tbl_df() %>% \n",
    "  filter(row_number()<=5) %>% \n",
    "  .$id %>% \n",
    "  as.character())\n",
    "(keggresids = substr(keggrespathways, start=1, stop=8)\n",
    ")\n",
    "detach(\"package:dplyr\", unload=TRUE)\n",
    "\n",
    "tmp = sapply(keggresids, function(pid) pathview(gene.data=foldchanges, pathway.id=pid, species=\"gga\", \n",
    "                                                kegg.dir=file.path(getwd(), prefix)))"
   ]
  },
  {
   "cell_type": "markdown",
   "metadata": {},
   "source": [
    "# SCCP vs CONTROL (ALL)"
   ]
  },
  {
   "cell_type": "code",
   "execution_count": 34,
   "metadata": {
    "collapsed": false
   },
   "outputs": [
    {
     "data": {
      "text/html": [
       "<table>\n",
       "<thead><tr><th></th><th scope=col>factors</th></tr></thead>\n",
       "<tbody>\n",
       "\t<tr><th scope=row>EC.1AK228_CAGATC</th><td>SCCP   </td></tr>\n",
       "\t<tr><th scope=row>EC.2AK546_ACTTGA</th><td>SCCP   </td></tr>\n",
       "\t<tr><th scope=row>EC.3AK436_GATCAG</th><td>SCCP   </td></tr>\n",
       "\t<tr><th scope=row>EC.4AK111_TAGCTT</th><td>SCCP   </td></tr>\n",
       "\t<tr><th scope=row>EC.5AK453_GGCTAC</th><td>SCCP   </td></tr>\n",
       "\t<tr><th scope=row>EC.6AK100_CTTGTA</th><td>SCCP   </td></tr>\n",
       "\t<tr><th scope=row>EC.13AK430_GTGGCC</th><td>CONTROL</td></tr>\n",
       "\t<tr><th scope=row>EC.14AK418_GTTTCG</th><td>CONTROL</td></tr>\n",
       "\t<tr><th scope=row>EC.15AK219_CGTACG</th><td>CONTROL</td></tr>\n",
       "\t<tr><th scope=row>EC.16AK327_GAGTGG</th><td>CONTROL</td></tr>\n",
       "\t<tr><th scope=row>EC.17AK506_ACTGAT</th><td>CONTROL</td></tr>\n",
       "\t<tr><th scope=row>EC.18AK105_ATTCCT</th><td>CONTROL</td></tr>\n",
       "</tbody>\n",
       "</table>\n"
      ],
      "text/latex": [
       "\\begin{tabular}{r|l}\n",
       "  & factors\\\\\n",
       "\\hline\n",
       "\tEC.1AK228\\_CAGATC & SCCP   \\\\\n",
       "\tEC.2AK546\\_ACTTGA & SCCP   \\\\\n",
       "\tEC.3AK436\\_GATCAG & SCCP   \\\\\n",
       "\tEC.4AK111\\_TAGCTT & SCCP   \\\\\n",
       "\tEC.5AK453\\_GGCTAC & SCCP   \\\\\n",
       "\tEC.6AK100\\_CTTGTA & SCCP   \\\\\n",
       "\tEC.13AK430\\_GTGGCC & CONTROL\\\\\n",
       "\tEC.14AK418\\_GTTTCG & CONTROL\\\\\n",
       "\tEC.15AK219\\_CGTACG & CONTROL\\\\\n",
       "\tEC.16AK327\\_GAGTGG & CONTROL\\\\\n",
       "\tEC.17AK506\\_ACTGAT & CONTROL\\\\\n",
       "\tEC.18AK105\\_ATTCCT & CONTROL\\\\\n",
       "\\end{tabular}\n"
      ],
      "text/plain": [
       "                  factors\n",
       "EC.1AK228_CAGATC  SCCP   \n",
       "EC.2AK546_ACTTGA  SCCP   \n",
       "EC.3AK436_GATCAG  SCCP   \n",
       "EC.4AK111_TAGCTT  SCCP   \n",
       "EC.5AK453_GGCTAC  SCCP   \n",
       "EC.6AK100_CTTGTA  SCCP   \n",
       "EC.13AK430_GTGGCC CONTROL\n",
       "EC.14AK418_GTTTCG CONTROL\n",
       "EC.15AK219_CGTACG CONTROL\n",
       "EC.16AK327_GAGTGG CONTROL\n",
       "EC.17AK506_ACTGAT CONTROL\n",
       "EC.18AK105_ATTCCT CONTROL"
      ]
     },
     "metadata": {},
     "output_type": "display_data"
    },
    {
     "name": "stderr",
     "output_type": "stream",
     "text": [
      "estimating size factors\n",
      "estimating dispersions\n",
      "gene-wise dispersion estimates\n",
      "mean-dispersion relationship\n",
      "final dispersion estimates\n",
      "fitting model and testing\n"
     ]
    },
    {
     "data": {
      "text/html": [
       "<strong>png:</strong> 2"
      ],
      "text/latex": [
       "\\textbf{png:} 2"
      ],
      "text/markdown": [
       "**png:** 2"
      ],
      "text/plain": [
       "png \n",
       "  2 "
      ]
     },
     "metadata": {},
     "output_type": "display_data"
    },
    {
     "data": {
      "text/html": [
       "<strong>png:</strong> 2"
      ],
      "text/latex": [
       "\\textbf{png:} 2"
      ],
      "text/markdown": [
       "**png:** 2"
      ],
      "text/plain": [
       "png \n",
       "  2 "
      ]
     },
     "metadata": {},
     "output_type": "display_data"
    }
   ],
   "source": [
    "prefix <- \"SCCP_vs_CONTROL\"\n",
    "\n",
    "dir.create(file.path(getwd(), prefix), showWarnings = FALSE)\n",
    "\n",
    "samples_2 <- samples[,c(1:6,13:18)]\n",
    "factors <- as.factor(c(rep(\"SCCP\",6),rep(\"CONTROL\",6)))\n",
    "\n",
    "(coldata <- data.frame(row.names=colnames(samples_2), factors)\n",
    ")\n",
    "dds <- DESeqDataSetFromMatrix(countData=samples_2, colData=coldata, design=~factors)\n",
    "dds$factors <- relevel(dds$factors, ref=\"CONTROL\")\n",
    "\n",
    "dds <- DESeq(dds)\n",
    "res <- results(dds)\n",
    "resOrdered <- res[order(res$padj,res$log2FoldChange),] # orders by foldchange and padj\n",
    "write.csv(as.data.frame(resOrdered),file=paste0(file.path(getwd(), prefix),'/diffexp.csv'))\n",
    "\n",
    "png(paste0(file.path(getwd(), prefix),'/maplot.png'))\n",
    "DESeq2::plotMA(res, main=\"MA Plot\", ylim=c(-7,6) )\n",
    "legend(\"topright\",c(\"pval > 0.01\",\"pval < 0.01\"),col=c(\"grey\",\"red\"),pch=16)\n",
    "topGene <- rownames(res)[which.min(res$padj)]\n",
    "with(res[topGene, ], {\n",
    "  points(baseMean, log2FoldChange, col=\"dodgerblue\", cex=2, lwd=2)\n",
    "  text(baseMean, log2FoldChange, topGene, pos=2, col=\"dodgerblue\")\n",
    "})\n",
    "dev.off()\n",
    "\n",
    "png(paste0(file.path(getwd(), prefix),'/volcano.png'))\n",
    "plot( res$log2FoldChange, -log10( res$padj ), \n",
    "      col = ifelse( res$padj < .05, \"red\", \"black\" ),\n",
    "      main = \"Volcano Plot\")\n",
    "legend(\"topright\",c(\"pval > 0.05\",\"pval < 0.05\"),col=c(\"grey\",\"red\"),pch=16)\n",
    "with(res[topGene, ], {\n",
    "  points(baseMean, log2FoldChange, col=\"dodgerblue\", cex=2, lwd=2)\n",
    "  text(baseMean, log2FoldChange, topGene, pos=2, col=\"dodgerblue\")\n",
    "})\n",
    "dev.off()"
   ]
  },
  {
   "cell_type": "code",
   "execution_count": 35,
   "metadata": {
    "collapsed": false
   },
   "outputs": [
    {
     "name": "stderr",
     "output_type": "stream",
     "text": [
      "\n",
      "Attaching package: 'dplyr'\n",
      "\n",
      "The following object is masked from 'package:AnnotationDbi':\n",
      "\n",
      "    select\n",
      "\n",
      "The following object is masked from 'package:Biobase':\n",
      "\n",
      "    combine\n",
      "\n",
      "The following objects are masked from 'package:GenomicRanges':\n",
      "\n",
      "    intersect, setdiff, union\n",
      "\n",
      "The following object is masked from 'package:GenomeInfoDb':\n",
      "\n",
      "    intersect\n",
      "\n",
      "The following objects are masked from 'package:IRanges':\n",
      "\n",
      "    collapse, desc, intersect, setdiff, slice, union\n",
      "\n",
      "The following objects are masked from 'package:S4Vectors':\n",
      "\n",
      "    intersect, rename, setdiff, union\n",
      "\n",
      "The following objects are masked from 'package:BiocGenerics':\n",
      "\n",
      "    combine, intersect, setdiff, union\n",
      "\n",
      "The following objects are masked from 'package:stats':\n",
      "\n",
      "    filter, lag\n",
      "\n",
      "The following objects are masked from 'package:base':\n",
      "\n",
      "    intersect, setdiff, setequal, union\n",
      "\n"
     ]
    },
    {
     "data": {
      "text/html": [
       "<ol class=list-inline>\n",
       "\t<li>'gga03010 Ribosome'</li>\n",
       "\t<li>'gga00190 Oxidative phosphorylation'</li>\n",
       "\t<li>'gga04260 Cardiac muscle contraction'</li>\n",
       "\t<li>'gga00982 Drug metabolism - cytochrome P450'</li>\n",
       "\t<li>'gga00980 Metabolism of xenobiotics by cytochrome P450'</li>\n",
       "</ol>\n"
      ],
      "text/latex": [
       "\\begin{enumerate*}\n",
       "\\item 'gga03010 Ribosome'\n",
       "\\item 'gga00190 Oxidative phosphorylation'\n",
       "\\item 'gga04260 Cardiac muscle contraction'\n",
       "\\item 'gga00982 Drug metabolism - cytochrome P450'\n",
       "\\item 'gga00980 Metabolism of xenobiotics by cytochrome P450'\n",
       "\\end{enumerate*}\n"
      ],
      "text/markdown": [
       "1. 'gga03010 Ribosome'\n",
       "2. 'gga00190 Oxidative phosphorylation'\n",
       "3. 'gga04260 Cardiac muscle contraction'\n",
       "4. 'gga00982 Drug metabolism - cytochrome P450'\n",
       "5. 'gga00980 Metabolism of xenobiotics by cytochrome P450'\n",
       "\n",
       "\n"
      ],
      "text/plain": [
       "[1] \"gga03010 Ribosome\"                                    \n",
       "[2] \"gga00190 Oxidative phosphorylation\"                   \n",
       "[3] \"gga04260 Cardiac muscle contraction\"                  \n",
       "[4] \"gga00982 Drug metabolism - cytochrome P450\"           \n",
       "[5] \"gga00980 Metabolism of xenobiotics by cytochrome P450\""
      ]
     },
     "metadata": {},
     "output_type": "display_data"
    },
    {
     "data": {
      "text/html": [
       "<ol class=list-inline>\n",
       "\t<li>'gga03010'</li>\n",
       "\t<li>'gga00190'</li>\n",
       "\t<li>'gga04260'</li>\n",
       "\t<li>'gga00982'</li>\n",
       "\t<li>'gga00980'</li>\n",
       "</ol>\n"
      ],
      "text/latex": [
       "\\begin{enumerate*}\n",
       "\\item 'gga03010'\n",
       "\\item 'gga00190'\n",
       "\\item 'gga04260'\n",
       "\\item 'gga00982'\n",
       "\\item 'gga00980'\n",
       "\\end{enumerate*}\n"
      ],
      "text/markdown": [
       "1. 'gga03010'\n",
       "2. 'gga00190'\n",
       "3. 'gga04260'\n",
       "4. 'gga00982'\n",
       "5. 'gga00980'\n",
       "\n",
       "\n"
      ],
      "text/plain": [
       "[1] \"gga03010\" \"gga00190\" \"gga04260\" \"gga00982\" \"gga00980\""
      ]
     },
     "metadata": {},
     "output_type": "display_data"
    },
    {
     "name": "stderr",
     "output_type": "stream",
     "text": [
      "Info: Downloading xml files for gga03010, 1/1 pathways..\n",
      "Info: Downloading png files for gga03010, 1/1 pathways..\n",
      "Info: Working in directory /home/bay001/projects/kes_20160307/permanent_data/10-11-2016\n",
      "Info: Writing image file gga03010.pathview.png\n",
      "Info: Downloading xml files for gga00190, 1/1 pathways..\n",
      "Info: Downloading png files for gga00190, 1/1 pathways..\n",
      "'select()' returned 1:1 mapping between keys and columns\n"
     ]
    },
    {
     "name": "stdout",
     "output_type": "stream",
     "text": [
      "[1] \"Note: 3 of 100 unique input IDs unmapped.\"\n"
     ]
    },
    {
     "name": "stderr",
     "output_type": "stream",
     "text": [
      "Info: Working in directory /home/bay001/projects/kes_20160307/permanent_data/10-11-2016\n",
      "Info: Writing image file gga00190.pathview.png\n",
      "Info: some node width is different from others, and hence adjusted!\n",
      "Info: Downloading xml files for gga04260, 1/1 pathways..\n",
      "Info: Downloading png files for gga04260, 1/1 pathways..\n",
      "'select()' returned 1:1 mapping between keys and columns\n",
      "Info: Working in directory /home/bay001/projects/kes_20160307/permanent_data/10-11-2016\n",
      "Info: Writing image file gga04260.pathview.png\n",
      "Info: Downloading xml files for gga00982, 1/1 pathways..\n",
      "Info: Downloading png files for gga00982, 1/1 pathways..\n",
      "'select()' returned 1:1 mapping between keys and columns\n",
      "Info: Working in directory /home/bay001/projects/kes_20160307/permanent_data/10-11-2016\n",
      "Info: Writing image file gga00982.pathview.png\n",
      "Info: Downloading xml files for gga00980, 1/1 pathways..\n",
      "Info: Downloading png files for gga00980, 1/1 pathways..\n",
      "'select()' returned 1:1 mapping between keys and columns\n",
      "Info: Working in directory /home/bay001/projects/kes_20160307/permanent_data/10-11-2016\n",
      "Info: Writing image file gga00980.pathview.png\n"
     ]
    }
   ],
   "source": [
    "# Credit: http://www.gettinggeneticsdone.com/2015/12/tutorial-rna-seq-differential.html\n",
    "\n",
    "res$symbol = mapIds(org.Gg.eg.db, keys=row.names(res), column=\"SYMBOL\", keytype=\"ENSEMBL\", multiVals=\"first\")\n",
    "res$entrez = mapIds(org.Gg.eg.db, keys=row.names(res), column=\"ENTREZID\", keytype=\"ENSEMBL\", multiVals=\"first\")\n",
    "res$name =   mapIds(org.Gg.eg.db, keys=row.names(res), column=\"GENENAME\", keytype=\"ENSEMBL\", multiVals=\"first\")\n",
    "\n",
    "foldchanges = res$log2FoldChange\n",
    "names(foldchanges) = res$entrez\n",
    "keggres = gage(foldchanges, gsets=kegg.sets.gs, same.dir=TRUE)\n",
    "\n",
    "library('dplyr')\n",
    "(keggrespathways = data.frame(id=rownames(keggres$greater), keggres$greater) %>% \n",
    "  tbl_df() %>% \n",
    "  filter(row_number()<=5) %>% \n",
    "  .$id %>% \n",
    "  as.character())\n",
    "(keggresids = substr(keggrespathways, start=1, stop=8)\n",
    ")\n",
    "detach(\"package:dplyr\", unload=TRUE)\n",
    "\n",
    "tmp = sapply(keggresids, function(pid) pathview(gene.data=foldchanges, pathway.id=pid, species=\"gga\", \n",
    "                                                kegg.dir=file.path(getwd(), prefix)))    \n"
   ]
  },
  {
   "cell_type": "code",
   "execution_count": 36,
   "metadata": {
    "collapsed": false
   },
   "outputs": [
    {
     "name": "stderr",
     "output_type": "stream",
     "text": [
      "\n",
      "Attaching package: 'dplyr'\n",
      "\n",
      "The following object is masked from 'package:AnnotationDbi':\n",
      "\n",
      "    select\n",
      "\n",
      "The following object is masked from 'package:Biobase':\n",
      "\n",
      "    combine\n",
      "\n",
      "The following objects are masked from 'package:GenomicRanges':\n",
      "\n",
      "    intersect, setdiff, union\n",
      "\n",
      "The following object is masked from 'package:GenomeInfoDb':\n",
      "\n",
      "    intersect\n",
      "\n",
      "The following objects are masked from 'package:IRanges':\n",
      "\n",
      "    collapse, desc, intersect, setdiff, slice, union\n",
      "\n",
      "The following objects are masked from 'package:S4Vectors':\n",
      "\n",
      "    intersect, rename, setdiff, union\n",
      "\n",
      "The following objects are masked from 'package:BiocGenerics':\n",
      "\n",
      "    combine, intersect, setdiff, union\n",
      "\n",
      "The following objects are masked from 'package:stats':\n",
      "\n",
      "    filter, lag\n",
      "\n",
      "The following objects are masked from 'package:base':\n",
      "\n",
      "    intersect, setdiff, setequal, union\n",
      "\n"
     ]
    },
    {
     "data": {
      "text/html": [
       "<ol class=list-inline>\n",
       "\t<li>'gga04510 Focal adhesion'</li>\n",
       "\t<li>'gga04810 Regulation of actin cytoskeleton'</li>\n",
       "\t<li>'gga04512 ECM-receptor interaction'</li>\n",
       "\t<li>'gga04010 MAPK signaling pathway'</li>\n",
       "\t<li>'gga04144 Endocytosis'</li>\n",
       "</ol>\n"
      ],
      "text/latex": [
       "\\begin{enumerate*}\n",
       "\\item 'gga04510 Focal adhesion'\n",
       "\\item 'gga04810 Regulation of actin cytoskeleton'\n",
       "\\item 'gga04512 ECM-receptor interaction'\n",
       "\\item 'gga04010 MAPK signaling pathway'\n",
       "\\item 'gga04144 Endocytosis'\n",
       "\\end{enumerate*}\n"
      ],
      "text/markdown": [
       "1. 'gga04510 Focal adhesion'\n",
       "2. 'gga04810 Regulation of actin cytoskeleton'\n",
       "3. 'gga04512 ECM-receptor interaction'\n",
       "4. 'gga04010 MAPK signaling pathway'\n",
       "5. 'gga04144 Endocytosis'\n",
       "\n",
       "\n"
      ],
      "text/plain": [
       "[1] \"gga04510 Focal adhesion\"                  \n",
       "[2] \"gga04810 Regulation of actin cytoskeleton\"\n",
       "[3] \"gga04512 ECM-receptor interaction\"        \n",
       "[4] \"gga04010 MAPK signaling pathway\"          \n",
       "[5] \"gga04144 Endocytosis\"                     "
      ]
     },
     "metadata": {},
     "output_type": "display_data"
    },
    {
     "data": {
      "text/html": [
       "<ol class=list-inline>\n",
       "\t<li>'gga04510'</li>\n",
       "\t<li>'gga04810'</li>\n",
       "\t<li>'gga04512'</li>\n",
       "\t<li>'gga04010'</li>\n",
       "\t<li>'gga04144'</li>\n",
       "</ol>\n"
      ],
      "text/latex": [
       "\\begin{enumerate*}\n",
       "\\item 'gga04510'\n",
       "\\item 'gga04810'\n",
       "\\item 'gga04512'\n",
       "\\item 'gga04010'\n",
       "\\item 'gga04144'\n",
       "\\end{enumerate*}\n"
      ],
      "text/markdown": [
       "1. 'gga04510'\n",
       "2. 'gga04810'\n",
       "3. 'gga04512'\n",
       "4. 'gga04010'\n",
       "5. 'gga04144'\n",
       "\n",
       "\n"
      ],
      "text/plain": [
       "[1] \"gga04510\" \"gga04810\" \"gga04512\" \"gga04010\" \"gga04144\""
      ]
     },
     "metadata": {},
     "output_type": "display_data"
    },
    {
     "name": "stderr",
     "output_type": "stream",
     "text": [
      "Info: Downloading xml files for gga04510, 1/1 pathways..\n",
      "Info: Downloading png files for gga04510, 1/1 pathways..\n",
      "'select()' returned 1:1 mapping between keys and columns\n",
      "Info: Working in directory /home/bay001/projects/kes_20160307/permanent_data/10-11-2016\n",
      "Info: Writing image file gga04510.pathview.png\n",
      "Info: Downloading xml files for gga04810, 1/1 pathways..\n",
      "Info: Downloading png files for gga04810, 1/1 pathways..\n",
      "'select()' returned 1:1 mapping between keys and columns\n"
     ]
    },
    {
     "name": "stdout",
     "output_type": "stream",
     "text": [
      "[1] \"Note: 1 of 64 unique input IDs unmapped.\"\n"
     ]
    },
    {
     "name": "stderr",
     "output_type": "stream",
     "text": [
      "Info: Working in directory /home/bay001/projects/kes_20160307/permanent_data/10-11-2016\n",
      "Info: Writing image file gga04810.pathview.png\n",
      "Info: Downloading xml files for gga04512, 1/1 pathways..\n",
      "Info: Downloading png files for gga04512, 1/1 pathways..\n",
      "'select()' returned 1:1 mapping between keys and columns\n"
     ]
    },
    {
     "name": "stdout",
     "output_type": "stream",
     "text": [
      "[1] \"Note: 2 of 41 unique input IDs unmapped.\"\n"
     ]
    },
    {
     "name": "stderr",
     "output_type": "stream",
     "text": [
      "Info: Working in directory /home/bay001/projects/kes_20160307/permanent_data/10-11-2016\n",
      "Info: Writing image file gga04512.pathview.png\n",
      "Info: Downloading xml files for gga04010, 1/1 pathways..\n",
      "Info: Downloading png files for gga04010, 1/1 pathways..\n",
      "'select()' returned 1:1 mapping between keys and columns\n"
     ]
    },
    {
     "name": "stdout",
     "output_type": "stream",
     "text": [
      "[1] \"Note: 3 of 111 unique input IDs unmapped.\"\n"
     ]
    },
    {
     "name": "stderr",
     "output_type": "stream",
     "text": [
      "Info: Working in directory /home/bay001/projects/kes_20160307/permanent_data/10-11-2016\n",
      "Info: Writing image file gga04010.pathview.png\n",
      "Info: Downloading xml files for gga04144, 1/1 pathways..\n",
      "Info: Downloading png files for gga04144, 1/1 pathways..\n",
      "'select()' returned 1:1 mapping between keys and columns\n",
      "Info: Working in directory /home/bay001/projects/kes_20160307/permanent_data/10-11-2016\n",
      "Info: Writing image file gga04144.pathview.png\n",
      "Info: some node width is different from others, and hence adjusted!\n"
     ]
    }
   ],
   "source": [
    "library('dplyr')\n",
    "(keggrespathways = data.frame(id=rownames(keggres$less), keggres$less) %>% \n",
    "  tbl_df() %>% \n",
    "  filter(row_number()<=5) %>% \n",
    "  .$id %>% \n",
    "  as.character())\n",
    "(keggresids = substr(keggrespathways, start=1, stop=8)\n",
    ")\n",
    "detach(\"package:dplyr\", unload=TRUE)\n",
    "\n",
    "tmp = sapply(keggresids, function(pid) pathview(gene.data=foldchanges, pathway.id=pid, species=\"gga\", \n",
    "                                                kegg.dir=file.path(getwd(), prefix)))"
   ]
  },
  {
   "cell_type": "markdown",
   "metadata": {},
   "source": [
    "# TBBPA vs Control (ALL)"
   ]
  },
  {
   "cell_type": "code",
   "execution_count": 37,
   "metadata": {
    "collapsed": false
   },
   "outputs": [
    {
     "data": {
      "text/html": [
       "<table>\n",
       "<thead><tr><th></th><th scope=col>factors</th></tr></thead>\n",
       "<tbody>\n",
       "\t<tr><th scope=row>EC.7AK501_AGTCAA</th><td>TBBPA  </td></tr>\n",
       "\t<tr><th scope=row>EC.8AK511_AGTTCC</th><td>TBBPA  </td></tr>\n",
       "\t<tr><th scope=row>EC.9AK123_ATGTCA</th><td>TBBPA  </td></tr>\n",
       "\t<tr><th scope=row>EC.10AK244_CCGTCC</th><td>TBBPA  </td></tr>\n",
       "\t<tr><th scope=row>EC.11AK330_GTCCGC</th><td>TBBPA  </td></tr>\n",
       "\t<tr><th scope=row>EC.12AK422_GTGAAA</th><td>TBBPA  </td></tr>\n",
       "\t<tr><th scope=row>EC.13AK430_GTGGCC</th><td>CONTROL</td></tr>\n",
       "\t<tr><th scope=row>EC.14AK418_GTTTCG</th><td>CONTROL</td></tr>\n",
       "\t<tr><th scope=row>EC.15AK219_CGTACG</th><td>CONTROL</td></tr>\n",
       "\t<tr><th scope=row>EC.16AK327_GAGTGG</th><td>CONTROL</td></tr>\n",
       "\t<tr><th scope=row>EC.17AK506_ACTGAT</th><td>CONTROL</td></tr>\n",
       "\t<tr><th scope=row>EC.18AK105_ATTCCT</th><td>CONTROL</td></tr>\n",
       "</tbody>\n",
       "</table>\n"
      ],
      "text/latex": [
       "\\begin{tabular}{r|l}\n",
       "  & factors\\\\\n",
       "\\hline\n",
       "\tEC.7AK501\\_AGTCAA & TBBPA  \\\\\n",
       "\tEC.8AK511\\_AGTTCC & TBBPA  \\\\\n",
       "\tEC.9AK123\\_ATGTCA & TBBPA  \\\\\n",
       "\tEC.10AK244\\_CCGTCC & TBBPA  \\\\\n",
       "\tEC.11AK330\\_GTCCGC & TBBPA  \\\\\n",
       "\tEC.12AK422\\_GTGAAA & TBBPA  \\\\\n",
       "\tEC.13AK430\\_GTGGCC & CONTROL\\\\\n",
       "\tEC.14AK418\\_GTTTCG & CONTROL\\\\\n",
       "\tEC.15AK219\\_CGTACG & CONTROL\\\\\n",
       "\tEC.16AK327\\_GAGTGG & CONTROL\\\\\n",
       "\tEC.17AK506\\_ACTGAT & CONTROL\\\\\n",
       "\tEC.18AK105\\_ATTCCT & CONTROL\\\\\n",
       "\\end{tabular}\n"
      ],
      "text/plain": [
       "                  factors\n",
       "EC.7AK501_AGTCAA  TBBPA  \n",
       "EC.8AK511_AGTTCC  TBBPA  \n",
       "EC.9AK123_ATGTCA  TBBPA  \n",
       "EC.10AK244_CCGTCC TBBPA  \n",
       "EC.11AK330_GTCCGC TBBPA  \n",
       "EC.12AK422_GTGAAA TBBPA  \n",
       "EC.13AK430_GTGGCC CONTROL\n",
       "EC.14AK418_GTTTCG CONTROL\n",
       "EC.15AK219_CGTACG CONTROL\n",
       "EC.16AK327_GAGTGG CONTROL\n",
       "EC.17AK506_ACTGAT CONTROL\n",
       "EC.18AK105_ATTCCT CONTROL"
      ]
     },
     "metadata": {},
     "output_type": "display_data"
    },
    {
     "name": "stderr",
     "output_type": "stream",
     "text": [
      "estimating size factors\n",
      "estimating dispersions\n",
      "gene-wise dispersion estimates\n",
      "mean-dispersion relationship\n",
      "final dispersion estimates\n",
      "fitting model and testing\n"
     ]
    },
    {
     "data": {
      "text/html": [
       "<strong>png:</strong> 2"
      ],
      "text/latex": [
       "\\textbf{png:} 2"
      ],
      "text/markdown": [
       "**png:** 2"
      ],
      "text/plain": [
       "png \n",
       "  2 "
      ]
     },
     "metadata": {},
     "output_type": "display_data"
    },
    {
     "data": {
      "text/html": [
       "<strong>png:</strong> 2"
      ],
      "text/latex": [
       "\\textbf{png:} 2"
      ],
      "text/markdown": [
       "**png:** 2"
      ],
      "text/plain": [
       "png \n",
       "  2 "
      ]
     },
     "metadata": {},
     "output_type": "display_data"
    }
   ],
   "source": [
    "prefix <- \"TBBPA_vs_CONTROL\"\n",
    "\n",
    "dir.create(file.path(getwd(), prefix), showWarnings = FALSE)\n",
    "\n",
    "samples_2 <- samples[,c(7:12,13:18)]\n",
    "factors <- as.factor(c(rep(\"TBBPA\",6),rep(\"CONTROL\",6)))\n",
    "\n",
    "(coldata <- data.frame(row.names=colnames(samples_2), factors)\n",
    ")\n",
    "dds <- DESeqDataSetFromMatrix(countData=samples_2, colData=coldata, design=~factors)\n",
    "dds$factors <- relevel(dds$factors, ref=\"CONTROL\")\n",
    "\n",
    "dds <- DESeq(dds)\n",
    "res <- results(dds)\n",
    "resOrdered <- res[order(res$padj,res$log2FoldChange),] # orders by foldchange and padj\n",
    "write.csv(as.data.frame(resOrdered),file=paste0(file.path(getwd(), prefix),'/diffexp.csv'))\n",
    "\n",
    "png(paste0(file.path(getwd(), prefix),'/maplot.png'))\n",
    "DESeq2::plotMA(res, main=\"MA Plot\", ylim=c(-7,6) )\n",
    "legend(\"topright\",c(\"pval > 0.01\",\"pval < 0.01\"),col=c(\"grey\",\"red\"),pch=16)\n",
    "topGene <- rownames(res)[which.min(res$padj)]\n",
    "with(res[topGene, ], {\n",
    "  points(baseMean, log2FoldChange, col=\"dodgerblue\", cex=2, lwd=2)\n",
    "  text(baseMean, log2FoldChange, topGene, pos=2, col=\"dodgerblue\")\n",
    "})\n",
    "dev.off()\n",
    "\n",
    "png(paste0(file.path(getwd(), prefix),'/volcano.png'))\n",
    "plot( res$log2FoldChange, -log10( res$padj ), \n",
    "      col = ifelse( res$padj < .05, \"red\", \"black\" ),\n",
    "      main = \"Volcano Plot\")\n",
    "legend(\"topright\",c(\"pval > 0.05\",\"pval < 0.05\"),col=c(\"grey\",\"red\"),pch=16)\n",
    "with(res[topGene, ], {\n",
    "  points(baseMean, log2FoldChange, col=\"dodgerblue\", cex=2, lwd=2)\n",
    "  text(baseMean, log2FoldChange, topGene, pos=2, col=\"dodgerblue\")\n",
    "})\n",
    "dev.off()"
   ]
  },
  {
   "cell_type": "code",
   "execution_count": 38,
   "metadata": {
    "collapsed": false
   },
   "outputs": [
    {
     "name": "stderr",
     "output_type": "stream",
     "text": [
      "\n",
      "Attaching package: 'dplyr'\n",
      "\n",
      "The following object is masked from 'package:AnnotationDbi':\n",
      "\n",
      "    select\n",
      "\n",
      "The following object is masked from 'package:Biobase':\n",
      "\n",
      "    combine\n",
      "\n",
      "The following objects are masked from 'package:GenomicRanges':\n",
      "\n",
      "    intersect, setdiff, union\n",
      "\n",
      "The following object is masked from 'package:GenomeInfoDb':\n",
      "\n",
      "    intersect\n",
      "\n",
      "The following objects are masked from 'package:IRanges':\n",
      "\n",
      "    collapse, desc, intersect, setdiff, slice, union\n",
      "\n",
      "The following objects are masked from 'package:S4Vectors':\n",
      "\n",
      "    intersect, rename, setdiff, union\n",
      "\n",
      "The following objects are masked from 'package:BiocGenerics':\n",
      "\n",
      "    combine, intersect, setdiff, union\n",
      "\n",
      "The following objects are masked from 'package:stats':\n",
      "\n",
      "    filter, lag\n",
      "\n",
      "The following objects are masked from 'package:base':\n",
      "\n",
      "    intersect, setdiff, setequal, union\n",
      "\n"
     ]
    },
    {
     "data": {
      "text/html": [
       "<ol class=list-inline>\n",
       "\t<li>'gga03010 Ribosome'</li>\n",
       "\t<li>'gga00190 Oxidative phosphorylation'</li>\n",
       "\t<li>'gga00982 Drug metabolism - cytochrome P450'</li>\n",
       "\t<li>'gga00980 Metabolism of xenobiotics by cytochrome P450'</li>\n",
       "\t<li>'gga00140 Steroid hormone biosynthesis'</li>\n",
       "</ol>\n"
      ],
      "text/latex": [
       "\\begin{enumerate*}\n",
       "\\item 'gga03010 Ribosome'\n",
       "\\item 'gga00190 Oxidative phosphorylation'\n",
       "\\item 'gga00982 Drug metabolism - cytochrome P450'\n",
       "\\item 'gga00980 Metabolism of xenobiotics by cytochrome P450'\n",
       "\\item 'gga00140 Steroid hormone biosynthesis'\n",
       "\\end{enumerate*}\n"
      ],
      "text/markdown": [
       "1. 'gga03010 Ribosome'\n",
       "2. 'gga00190 Oxidative phosphorylation'\n",
       "3. 'gga00982 Drug metabolism - cytochrome P450'\n",
       "4. 'gga00980 Metabolism of xenobiotics by cytochrome P450'\n",
       "5. 'gga00140 Steroid hormone biosynthesis'\n",
       "\n",
       "\n"
      ],
      "text/plain": [
       "[1] \"gga03010 Ribosome\"                                    \n",
       "[2] \"gga00190 Oxidative phosphorylation\"                   \n",
       "[3] \"gga00982 Drug metabolism - cytochrome P450\"           \n",
       "[4] \"gga00980 Metabolism of xenobiotics by cytochrome P450\"\n",
       "[5] \"gga00140 Steroid hormone biosynthesis\"                "
      ]
     },
     "metadata": {},
     "output_type": "display_data"
    },
    {
     "data": {
      "text/html": [
       "<ol class=list-inline>\n",
       "\t<li>'gga03010'</li>\n",
       "\t<li>'gga00190'</li>\n",
       "\t<li>'gga00982'</li>\n",
       "\t<li>'gga00980'</li>\n",
       "\t<li>'gga00140'</li>\n",
       "</ol>\n"
      ],
      "text/latex": [
       "\\begin{enumerate*}\n",
       "\\item 'gga03010'\n",
       "\\item 'gga00190'\n",
       "\\item 'gga00982'\n",
       "\\item 'gga00980'\n",
       "\\item 'gga00140'\n",
       "\\end{enumerate*}\n"
      ],
      "text/markdown": [
       "1. 'gga03010'\n",
       "2. 'gga00190'\n",
       "3. 'gga00982'\n",
       "4. 'gga00980'\n",
       "5. 'gga00140'\n",
       "\n",
       "\n"
      ],
      "text/plain": [
       "[1] \"gga03010\" \"gga00190\" \"gga00982\" \"gga00980\" \"gga00140\""
      ]
     },
     "metadata": {},
     "output_type": "display_data"
    },
    {
     "name": "stderr",
     "output_type": "stream",
     "text": [
      "Info: Downloading xml files for gga03010, 1/1 pathways..\n",
      "Info: Downloading png files for gga03010, 1/1 pathways..\n",
      "Info: Working in directory /home/bay001/projects/kes_20160307/permanent_data/10-11-2016\n",
      "Info: Writing image file gga03010.pathview.png\n",
      "Info: Downloading xml files for gga00190, 1/1 pathways..\n",
      "Info: Downloading png files for gga00190, 1/1 pathways..\n",
      "'select()' returned 1:1 mapping between keys and columns\n"
     ]
    },
    {
     "name": "stdout",
     "output_type": "stream",
     "text": [
      "[1] \"Note: 3 of 100 unique input IDs unmapped.\"\n"
     ]
    },
    {
     "name": "stderr",
     "output_type": "stream",
     "text": [
      "Info: Working in directory /home/bay001/projects/kes_20160307/permanent_data/10-11-2016\n",
      "Info: Writing image file gga00190.pathview.png\n",
      "Info: some node width is different from others, and hence adjusted!\n",
      "Info: Downloading xml files for gga00982, 1/1 pathways..\n",
      "Info: Downloading png files for gga00982, 1/1 pathways..\n",
      "'select()' returned 1:1 mapping between keys and columns\n",
      "Info: Working in directory /home/bay001/projects/kes_20160307/permanent_data/10-11-2016\n",
      "Info: Writing image file gga00982.pathview.png\n",
      "Info: Downloading xml files for gga00980, 1/1 pathways..\n",
      "Info: Downloading png files for gga00980, 1/1 pathways..\n",
      "'select()' returned 1:1 mapping between keys and columns\n",
      "Info: Working in directory /home/bay001/projects/kes_20160307/permanent_data/10-11-2016\n",
      "Info: Writing image file gga00980.pathview.png\n",
      "Info: Downloading xml files for gga00140, 1/1 pathways..\n",
      "Info: Downloading png files for gga00140, 1/1 pathways..\n",
      "'select()' returned 1:1 mapping between keys and columns\n",
      "Info: Working in directory /home/bay001/projects/kes_20160307/permanent_data/10-11-2016\n",
      "Info: Writing image file gga00140.pathview.png\n"
     ]
    }
   ],
   "source": [
    "# Credit: http://www.gettinggeneticsdone.com/2015/12/tutorial-rna-seq-differential.html\n",
    "\n",
    "res$symbol = mapIds(org.Gg.eg.db, keys=row.names(res), column=\"SYMBOL\", keytype=\"ENSEMBL\", multiVals=\"first\")\n",
    "res$entrez = mapIds(org.Gg.eg.db, keys=row.names(res), column=\"ENTREZID\", keytype=\"ENSEMBL\", multiVals=\"first\")\n",
    "res$name =   mapIds(org.Gg.eg.db, keys=row.names(res), column=\"GENENAME\", keytype=\"ENSEMBL\", multiVals=\"first\")\n",
    "\n",
    "foldchanges = res$log2FoldChange\n",
    "names(foldchanges) = res$entrez\n",
    "keggres = gage(foldchanges, gsets=kegg.sets.gs, same.dir=TRUE)\n",
    "\n",
    "library('dplyr')\n",
    "(keggrespathways = data.frame(id=rownames(keggres$greater), keggres$greater) %>% \n",
    "  tbl_df() %>% \n",
    "  filter(row_number()<=5) %>% \n",
    "  .$id %>% \n",
    "  as.character())\n",
    "(keggresids = substr(keggrespathways, start=1, stop=8)\n",
    ")\n",
    "detach(\"package:dplyr\", unload=TRUE)\n",
    "\n",
    "tmp = sapply(keggresids, function(pid) pathview(gene.data=foldchanges, pathway.id=pid, species=\"gga\", \n",
    "                                                kegg.dir=file.path(getwd(), prefix)))    \n"
   ]
  },
  {
   "cell_type": "code",
   "execution_count": 39,
   "metadata": {
    "collapsed": false
   },
   "outputs": [
    {
     "name": "stderr",
     "output_type": "stream",
     "text": [
      "\n",
      "Attaching package: 'dplyr'\n",
      "\n",
      "The following object is masked from 'package:AnnotationDbi':\n",
      "\n",
      "    select\n",
      "\n",
      "The following object is masked from 'package:Biobase':\n",
      "\n",
      "    combine\n",
      "\n",
      "The following objects are masked from 'package:GenomicRanges':\n",
      "\n",
      "    intersect, setdiff, union\n",
      "\n",
      "The following object is masked from 'package:GenomeInfoDb':\n",
      "\n",
      "    intersect\n",
      "\n",
      "The following objects are masked from 'package:IRanges':\n",
      "\n",
      "    collapse, desc, intersect, setdiff, slice, union\n",
      "\n",
      "The following objects are masked from 'package:S4Vectors':\n",
      "\n",
      "    intersect, rename, setdiff, union\n",
      "\n",
      "The following objects are masked from 'package:BiocGenerics':\n",
      "\n",
      "    combine, intersect, setdiff, union\n",
      "\n",
      "The following objects are masked from 'package:stats':\n",
      "\n",
      "    filter, lag\n",
      "\n",
      "The following objects are masked from 'package:base':\n",
      "\n",
      "    intersect, setdiff, setequal, union\n",
      "\n"
     ]
    },
    {
     "data": {
      "text/html": [
       "<ol class=list-inline>\n",
       "\t<li>'gga04510 Focal adhesion'</li>\n",
       "\t<li>'gga04810 Regulation of actin cytoskeleton'</li>\n",
       "\t<li>'gga04144 Endocytosis'</li>\n",
       "\t<li>'gga04110 Cell cycle'</li>\n",
       "\t<li>'gga04010 MAPK signaling pathway'</li>\n",
       "</ol>\n"
      ],
      "text/latex": [
       "\\begin{enumerate*}\n",
       "\\item 'gga04510 Focal adhesion'\n",
       "\\item 'gga04810 Regulation of actin cytoskeleton'\n",
       "\\item 'gga04144 Endocytosis'\n",
       "\\item 'gga04110 Cell cycle'\n",
       "\\item 'gga04010 MAPK signaling pathway'\n",
       "\\end{enumerate*}\n"
      ],
      "text/markdown": [
       "1. 'gga04510 Focal adhesion'\n",
       "2. 'gga04810 Regulation of actin cytoskeleton'\n",
       "3. 'gga04144 Endocytosis'\n",
       "4. 'gga04110 Cell cycle'\n",
       "5. 'gga04010 MAPK signaling pathway'\n",
       "\n",
       "\n"
      ],
      "text/plain": [
       "[1] \"gga04510 Focal adhesion\"                  \n",
       "[2] \"gga04810 Regulation of actin cytoskeleton\"\n",
       "[3] \"gga04144 Endocytosis\"                     \n",
       "[4] \"gga04110 Cell cycle\"                      \n",
       "[5] \"gga04010 MAPK signaling pathway\"          "
      ]
     },
     "metadata": {},
     "output_type": "display_data"
    },
    {
     "data": {
      "text/html": [
       "<ol class=list-inline>\n",
       "\t<li>'gga04510'</li>\n",
       "\t<li>'gga04810'</li>\n",
       "\t<li>'gga04144'</li>\n",
       "\t<li>'gga04110'</li>\n",
       "\t<li>'gga04010'</li>\n",
       "</ol>\n"
      ],
      "text/latex": [
       "\\begin{enumerate*}\n",
       "\\item 'gga04510'\n",
       "\\item 'gga04810'\n",
       "\\item 'gga04144'\n",
       "\\item 'gga04110'\n",
       "\\item 'gga04010'\n",
       "\\end{enumerate*}\n"
      ],
      "text/markdown": [
       "1. 'gga04510'\n",
       "2. 'gga04810'\n",
       "3. 'gga04144'\n",
       "4. 'gga04110'\n",
       "5. 'gga04010'\n",
       "\n",
       "\n"
      ],
      "text/plain": [
       "[1] \"gga04510\" \"gga04810\" \"gga04144\" \"gga04110\" \"gga04010\""
      ]
     },
     "metadata": {},
     "output_type": "display_data"
    },
    {
     "name": "stderr",
     "output_type": "stream",
     "text": [
      "Info: Downloading xml files for gga04510, 1/1 pathways..\n",
      "Info: Downloading png files for gga04510, 1/1 pathways..\n",
      "'select()' returned 1:1 mapping between keys and columns\n",
      "Info: Working in directory /home/bay001/projects/kes_20160307/permanent_data/10-11-2016\n",
      "Info: Writing image file gga04510.pathview.png\n",
      "Info: Downloading xml files for gga04810, 1/1 pathways..\n",
      "Info: Downloading png files for gga04810, 1/1 pathways..\n",
      "'select()' returned 1:1 mapping between keys and columns\n"
     ]
    },
    {
     "name": "stdout",
     "output_type": "stream",
     "text": [
      "[1] \"Note: 1 of 64 unique input IDs unmapped.\"\n"
     ]
    },
    {
     "name": "stderr",
     "output_type": "stream",
     "text": [
      "Info: Working in directory /home/bay001/projects/kes_20160307/permanent_data/10-11-2016\n",
      "Info: Writing image file gga04810.pathview.png\n",
      "Info: Downloading xml files for gga04144, 1/1 pathways..\n",
      "Info: Downloading png files for gga04144, 1/1 pathways..\n",
      "'select()' returned 1:1 mapping between keys and columns\n",
      "Info: Working in directory /home/bay001/projects/kes_20160307/permanent_data/10-11-2016\n",
      "Info: Writing image file gga04144.pathview.png\n",
      "Info: some node width is different from others, and hence adjusted!\n",
      "Info: Downloading xml files for gga04110, 1/1 pathways..\n",
      "Info: Downloading png files for gga04110, 1/1 pathways..\n",
      "'select()' returned 1:1 mapping between keys and columns\n"
     ]
    },
    {
     "name": "stdout",
     "output_type": "stream",
     "text": [
      "[1] \"Note: 2 of 73 unique input IDs unmapped.\"\n"
     ]
    },
    {
     "name": "stderr",
     "output_type": "stream",
     "text": [
      "Info: Working in directory /home/bay001/projects/kes_20160307/permanent_data/10-11-2016\n",
      "Info: Writing image file gga04110.pathview.png\n",
      "Info: Downloading xml files for gga04010, 1/1 pathways..\n",
      "Info: Downloading png files for gga04010, 1/1 pathways..\n",
      "'select()' returned 1:1 mapping between keys and columns\n"
     ]
    },
    {
     "name": "stdout",
     "output_type": "stream",
     "text": [
      "[1] \"Note: 3 of 111 unique input IDs unmapped.\"\n"
     ]
    },
    {
     "name": "stderr",
     "output_type": "stream",
     "text": [
      "Info: Working in directory /home/bay001/projects/kes_20160307/permanent_data/10-11-2016\n",
      "Info: Writing image file gga04010.pathview.png\n"
     ]
    }
   ],
   "source": [
    "library('dplyr')\n",
    "(keggrespathways = data.frame(id=rownames(keggres$less), keggres$less) %>% \n",
    "  tbl_df() %>% \n",
    "  filter(row_number()<=5) %>% \n",
    "  .$id %>% \n",
    "  as.character())\n",
    "(keggresids = substr(keggrespathways, start=1, stop=8)\n",
    ")\n",
    "detach(\"package:dplyr\", unload=TRUE)\n",
    "\n",
    "tmp = sapply(keggresids, function(pid) pathview(gene.data=foldchanges, pathway.id=pid, species=\"gga\", \n",
    "                                                kegg.dir=file.path(getwd(), prefix)))"
   ]
  },
  {
   "cell_type": "code",
   "execution_count": null,
   "metadata": {
    "collapsed": true
   },
   "outputs": [],
   "source": []
  }
 ],
 "metadata": {
  "kernelspec": {
   "display_name": "R",
   "language": "R",
   "name": "ir"
  },
  "language_info": {
   "codemirror_mode": "r",
   "file_extension": ".r",
   "mimetype": "text/x-r-source",
   "name": "R",
   "pygments_lexer": "r",
   "version": "3.2.2"
  }
 },
 "nbformat": 4,
 "nbformat_minor": 1
}
