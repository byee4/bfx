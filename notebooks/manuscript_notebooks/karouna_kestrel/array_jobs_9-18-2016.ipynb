{
 "cells": [
  {
   "cell_type": "code",
   "execution_count": 43,
   "metadata": {
    "collapsed": true
   },
   "outputs": [],
   "source": [
    "import os\n",
    "import glob\n",
    "import qtools"
   ]
  },
  {
   "cell_type": "code",
   "execution_count": 44,
   "metadata": {
    "collapsed": true
   },
   "outputs": [],
   "source": [
    "date = '9-18-2016'\n",
    "outdir = '/home/bay001/projects/kes_20160307/data/diamond/'\n",
    "partsdir = '/home/bay001/projects/kes_20160307/data/kes/'\n",
    "dbdir = '/home/bay001/projects/kes_20160307/data/diamond/uniref90.dmnd'"
   ]
  },
  {
   "cell_type": "code",
   "execution_count": 47,
   "metadata": {
    "collapsed": false
   },
   "outputs": [
    {
     "name": "stdout",
     "output_type": "stream",
     "text": [
      "/home/bay001/projects/kes_20160307/data/diamond/\n"
     ]
    }
   ],
   "source": [
    "i = 36\n",
    "commands = []\n",
    "ost = os.path.join(outdir,'runme_{}-{}.sh'.format(\n",
    "        i,i+3))\n",
    "print(outdir)\n",
    "o = open(ost,'w')\n",
    "for i in range(135,199):\n",
    "    if i%3 == 0:\n",
    "        o.close()\n",
    "        o = open(os.path.join(outdir,'runme_{}-{}.sh'.format(\n",
    "                i,i+2)),'w')\n",
    "    st = '/home/bay001/software/diamond blastx -d {} -q {} -o {} --more-sensitive --threads 8 > {};\\n'.format(dbdir, \n",
    "                                                                                                              partsdir+'part_{}.fas'.format(i),\n",
    "                                                                                                              outdir+'part_{}.blast'.format(i),\n",
    "                                                                                                              outdir+'part_{}.log'.format(i))\n",
    "    o.write(st)"
   ]
  },
  {
   "cell_type": "code",
   "execution_count": 46,
   "metadata": {
    "collapsed": false
   },
   "outputs": [
    {
     "data": {
      "text/plain": [
       "[]"
      ]
     },
     "execution_count": 46,
     "metadata": {},
     "output_type": "execute_result"
    }
   ],
   "source": [
    "commands"
   ]
  },
  {
   "cell_type": "code",
   "execution_count": null,
   "metadata": {
    "collapsed": true
   },
   "outputs": [],
   "source": [
    "qtools.Submitter()"
   ]
  }
 ],
 "metadata": {
  "kernelspec": {
   "display_name": "Python 2",
   "language": "python",
   "name": "python2"
  },
  "language_info": {
   "codemirror_mode": {
    "name": "ipython",
    "version": 2
   },
   "file_extension": ".py",
   "mimetype": "text/x-python",
   "name": "python",
   "nbconvert_exporter": "python",
   "pygments_lexer": "ipython2",
   "version": "2.7.12"
  }
 },
 "nbformat": 4,
 "nbformat_minor": 1
}
