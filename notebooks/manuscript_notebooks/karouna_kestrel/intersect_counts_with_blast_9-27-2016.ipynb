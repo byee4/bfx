{
 "cells": [
  {
   "cell_type": "code",
   "execution_count": 1,
   "metadata": {
    "collapsed": true
   },
   "outputs": [],
   "source": [
    "import pandas as pd\n",
    "import numpy as np\n",
    "import os"
   ]
  },
  {
   "cell_type": "code",
   "execution_count": 2,
   "metadata": {},
   "outputs": [
    {
     "name": "stdout",
     "output_type": "stream",
     "text": [
      "239838 /home/bay001/projects/kes_20160307/permanent_data/9-27-2016/counts.RSEM.txt\r\n"
     ]
    }
   ],
   "source": [
    "wd = '/home/bay001/projects/kes_20160307/data/'\n",
    "blast_head = ['qseqid', 'sseqid', 'pident', 'length', 'mismatch',\n",
    "              'gapopen', 'qstart', 'qend', 'sstart', 'send',\n",
    "              'evalue', 'bitscore']\n",
    "counts = '/home/bay001/projects/kes_20160307/permanent_data/9-27-2016/counts.RSEM.txt'\n",
    "! wc -l $counts"
   ]
  },
  {
   "cell_type": "markdown",
   "metadata": {},
   "source": [
    "### Load BLAST results from blastx to chicken ensembl protein\n",
    "- Filter out e-value less than threshold (set at 1e-10)\n",
    "- Sort by e-value (ascending)\n",
    "- Remove duplicate contigs (contigs which map to multiple proteins, only take the lowest e-value)"
   ]
  },
  {
   "cell_type": "code",
   "execution_count": 3,
   "metadata": {},
   "outputs": [
    {
     "name": "stdout",
     "output_type": "stream",
     "text": [
      "number of starting hits: 331175\n",
      "number of filtered for e-value hits: 83725\n",
      "number of filtered hits for de-duplicated contigs: 55116\n"
     ]
    },
    {
     "data": {
      "text/html": [
       "<div>\n",
       "<table border=\"1\" class=\"dataframe\">\n",
       "  <thead>\n",
       "    <tr style=\"text-align: right;\">\n",
       "      <th></th>\n",
       "      <th>sseqid</th>\n",
       "      <th>pident</th>\n",
       "      <th>length</th>\n",
       "      <th>mismatch</th>\n",
       "      <th>gapopen</th>\n",
       "      <th>qstart</th>\n",
       "      <th>qend</th>\n",
       "      <th>sstart</th>\n",
       "      <th>send</th>\n",
       "      <th>evalue</th>\n",
       "      <th>bitscore</th>\n",
       "    </tr>\n",
       "    <tr>\n",
       "      <th>qseqid</th>\n",
       "      <th></th>\n",
       "      <th></th>\n",
       "      <th></th>\n",
       "      <th></th>\n",
       "      <th></th>\n",
       "      <th></th>\n",
       "      <th></th>\n",
       "      <th></th>\n",
       "      <th></th>\n",
       "      <th></th>\n",
       "      <th></th>\n",
       "    </tr>\n",
       "  </thead>\n",
       "  <tbody>\n",
       "    <tr>\n",
       "      <th>unmapped-49-contig_list_contig_207806-0</th>\n",
       "      <td>ENSGALG00000028975</td>\n",
       "      <td>84.913</td>\n",
       "      <td>517</td>\n",
       "      <td>74</td>\n",
       "      <td>2</td>\n",
       "      <td>1549</td>\n",
       "      <td>2</td>\n",
       "      <td>375</td>\n",
       "      <td>888</td>\n",
       "      <td>0.0</td>\n",
       "      <td>853.0</td>\n",
       "    </tr>\n",
       "    <tr>\n",
       "      <th>unmapped-49-contig_list_contig_48921-0</th>\n",
       "      <td>ENSGALG00000002638</td>\n",
       "      <td>92.483</td>\n",
       "      <td>439</td>\n",
       "      <td>33</td>\n",
       "      <td>0</td>\n",
       "      <td>6438</td>\n",
       "      <td>5122</td>\n",
       "      <td>1</td>\n",
       "      <td>439</td>\n",
       "      <td>0.0</td>\n",
       "      <td>815.0</td>\n",
       "    </tr>\n",
       "    <tr>\n",
       "      <th>unmapped-49-contig_list_contig_33476-0</th>\n",
       "      <td>ENSGALG00000002798</td>\n",
       "      <td>98.047</td>\n",
       "      <td>717</td>\n",
       "      <td>14</td>\n",
       "      <td>0</td>\n",
       "      <td>3247</td>\n",
       "      <td>1097</td>\n",
       "      <td>16</td>\n",
       "      <td>732</td>\n",
       "      <td>0.0</td>\n",
       "      <td>1429.0</td>\n",
       "    </tr>\n",
       "    <tr>\n",
       "      <th>unmapped-49-contig_list_contig_67081-0</th>\n",
       "      <td>ENSGALG00000005123</td>\n",
       "      <td>99.714</td>\n",
       "      <td>350</td>\n",
       "      <td>1</td>\n",
       "      <td>0</td>\n",
       "      <td>2639</td>\n",
       "      <td>1590</td>\n",
       "      <td>1</td>\n",
       "      <td>350</td>\n",
       "      <td>0.0</td>\n",
       "      <td>697.0</td>\n",
       "    </tr>\n",
       "    <tr>\n",
       "      <th>EC-4AK111_TAGCTT_R1_(paired)_contig_5821-0</th>\n",
       "      <td>ENSGALG00000006425</td>\n",
       "      <td>94.286</td>\n",
       "      <td>315</td>\n",
       "      <td>10</td>\n",
       "      <td>2</td>\n",
       "      <td>54</td>\n",
       "      <td>992</td>\n",
       "      <td>3</td>\n",
       "      <td>311</td>\n",
       "      <td>0.0</td>\n",
       "      <td>559.0</td>\n",
       "    </tr>\n",
       "  </tbody>\n",
       "</table>\n",
       "</div>"
      ],
      "text/plain": [
       "                                                        sseqid  pident  \\\n",
       "qseqid                                                                   \n",
       "unmapped-49-contig_list_contig_207806-0     ENSGALG00000028975  84.913   \n",
       "unmapped-49-contig_list_contig_48921-0      ENSGALG00000002638  92.483   \n",
       "unmapped-49-contig_list_contig_33476-0      ENSGALG00000002798  98.047   \n",
       "unmapped-49-contig_list_contig_67081-0      ENSGALG00000005123  99.714   \n",
       "EC-4AK111_TAGCTT_R1_(paired)_contig_5821-0  ENSGALG00000006425  94.286   \n",
       "\n",
       "                                            length  mismatch  gapopen  qstart  \\\n",
       "qseqid                                                                          \n",
       "unmapped-49-contig_list_contig_207806-0        517        74        2    1549   \n",
       "unmapped-49-contig_list_contig_48921-0         439        33        0    6438   \n",
       "unmapped-49-contig_list_contig_33476-0         717        14        0    3247   \n",
       "unmapped-49-contig_list_contig_67081-0         350         1        0    2639   \n",
       "EC-4AK111_TAGCTT_R1_(paired)_contig_5821-0     315        10        2      54   \n",
       "\n",
       "                                            qend  sstart  send  evalue  \\\n",
       "qseqid                                                                   \n",
       "unmapped-49-contig_list_contig_207806-0        2     375   888     0.0   \n",
       "unmapped-49-contig_list_contig_48921-0      5122       1   439     0.0   \n",
       "unmapped-49-contig_list_contig_33476-0      1097      16   732     0.0   \n",
       "unmapped-49-contig_list_contig_67081-0      1590       1   350     0.0   \n",
       "EC-4AK111_TAGCTT_R1_(paired)_contig_5821-0   992       3   311     0.0   \n",
       "\n",
       "                                            bitscore  \n",
       "qseqid                                                \n",
       "unmapped-49-contig_list_contig_207806-0        853.0  \n",
       "unmapped-49-contig_list_contig_48921-0         815.0  \n",
       "unmapped-49-contig_list_contig_33476-0        1429.0  \n",
       "unmapped-49-contig_list_contig_67081-0         697.0  \n",
       "EC-4AK111_TAGCTT_R1_(paired)_contig_5821-0     559.0  "
      ]
     },
     "execution_count": 3,
     "metadata": {},
     "output_type": "execute_result"
    }
   ],
   "source": [
    "evalue_threshold = 1e-10\n",
    "blast = pd.read_table(os.path.join(wd,'blast/chicken.blastx'),names=blast_head)\n",
    "print(\"number of starting hits: {}\".format(blast.shape[0]))\n",
    "blast = blast[blast['evalue'] < evalue_threshold]\n",
    "print(\"number of filtered for e-value hits: {}\".format(blast.shape[0]))\n",
    "blast.sort_values(by='evalue',inplace=True)\n",
    "blast.drop_duplicates('qseqid',inplace=True, keep='first')\n",
    "print(\"number of filtered hits for de-duplicated contigs: {}\".format(blast.shape[0]))\n",
    "blast.set_index('qseqid',inplace=True)\n",
    "blast.head()"
   ]
  },
  {
   "cell_type": "markdown",
   "metadata": {},
   "source": [
    "### Reformat BLAST hits into a translation table (contig -> ensembl id)"
   ]
  },
  {
   "cell_type": "code",
   "execution_count": 4,
   "metadata": {},
   "outputs": [
    {
     "data": {
      "text/html": [
       "<div>\n",
       "<table border=\"1\" class=\"dataframe\">\n",
       "  <thead>\n",
       "    <tr style=\"text-align: right;\">\n",
       "      <th></th>\n",
       "      <th>ensembl</th>\n",
       "    </tr>\n",
       "    <tr>\n",
       "      <th>qseqid</th>\n",
       "      <th></th>\n",
       "    </tr>\n",
       "  </thead>\n",
       "  <tbody>\n",
       "    <tr>\n",
       "      <th>unmapped-49-contig_list_contig_207806-0</th>\n",
       "      <td>ENSGALG00000028975</td>\n",
       "    </tr>\n",
       "    <tr>\n",
       "      <th>unmapped-49-contig_list_contig_48921-0</th>\n",
       "      <td>ENSGALG00000002638</td>\n",
       "    </tr>\n",
       "    <tr>\n",
       "      <th>unmapped-49-contig_list_contig_33476-0</th>\n",
       "      <td>ENSGALG00000002798</td>\n",
       "    </tr>\n",
       "    <tr>\n",
       "      <th>unmapped-49-contig_list_contig_67081-0</th>\n",
       "      <td>ENSGALG00000005123</td>\n",
       "    </tr>\n",
       "    <tr>\n",
       "      <th>EC-4AK111_TAGCTT_R1_(paired)_contig_5821-0</th>\n",
       "      <td>ENSGALG00000006425</td>\n",
       "    </tr>\n",
       "  </tbody>\n",
       "</table>\n",
       "</div>"
      ],
      "text/plain": [
       "                                                       ensembl\n",
       "qseqid                                                        \n",
       "unmapped-49-contig_list_contig_207806-0     ENSGALG00000028975\n",
       "unmapped-49-contig_list_contig_48921-0      ENSGALG00000002638\n",
       "unmapped-49-contig_list_contig_33476-0      ENSGALG00000002798\n",
       "unmapped-49-contig_list_contig_67081-0      ENSGALG00000005123\n",
       "EC-4AK111_TAGCTT_R1_(paired)_contig_5821-0  ENSGALG00000006425"
      ]
     },
     "execution_count": 4,
     "metadata": {},
     "output_type": "execute_result"
    }
   ],
   "source": [
    "contig2chicken = blast.loc[:,['sseqid']]\n",
    "contig2chicken.rename(columns={'sseqid':'ensembl'},inplace=True)\n",
    "contig2chicken.head()"
   ]
  },
  {
   "cell_type": "markdown",
   "metadata": {},
   "source": [
    "### Load BLAST results from blastx (actually used diamond for this analysis because it's faster) to uniref90\n",
    "- Filter out e-value less than threshold (set at 1e-10)\n",
    "- Sort by e-value (ascending)\n",
    "- Remove duplicate contigs (contigs which map to multiple proteins, only take the lowest e-value)"
   ]
  },
  {
   "cell_type": "code",
   "execution_count": 5,
   "metadata": {},
   "outputs": [
    {
     "name": "stdout",
     "output_type": "stream",
     "text": [
      "number of starting hits: 3001772\n",
      "number of filtered for e-value hits: 1944271\n",
      "number of filtered hits for de-duplicated contigs: 60670\n"
     ]
    },
    {
     "data": {
      "text/html": [
       "<div>\n",
       "<table border=\"1\" class=\"dataframe\">\n",
       "  <thead>\n",
       "    <tr style=\"text-align: right;\">\n",
       "      <th></th>\n",
       "      <th>qseqid</th>\n",
       "      <th>sseqid</th>\n",
       "      <th>pident</th>\n",
       "      <th>length</th>\n",
       "      <th>mismatch</th>\n",
       "      <th>gapopen</th>\n",
       "      <th>qstart</th>\n",
       "      <th>qend</th>\n",
       "      <th>sstart</th>\n",
       "      <th>send</th>\n",
       "      <th>evalue</th>\n",
       "      <th>bitscore</th>\n",
       "    </tr>\n",
       "  </thead>\n",
       "  <tbody>\n",
       "    <tr>\n",
       "      <th>1363364</th>\n",
       "      <td>unmapped-49-contig_list_contig_64936-0</td>\n",
       "      <td>UniRef90_G1KX46</td>\n",
       "      <td>74.5</td>\n",
       "      <td>768</td>\n",
       "      <td>190</td>\n",
       "      <td>3</td>\n",
       "      <td>265</td>\n",
       "      <td>2565</td>\n",
       "      <td>1</td>\n",
       "      <td>763</td>\n",
       "      <td>0.0</td>\n",
       "      <td>1107.0</td>\n",
       "    </tr>\n",
       "    <tr>\n",
       "      <th>928192</th>\n",
       "      <td>unmapped-49-contig_list_contig_6250-0</td>\n",
       "      <td>UniRef90_A0A091G0Z8</td>\n",
       "      <td>92.1</td>\n",
       "      <td>1077</td>\n",
       "      <td>76</td>\n",
       "      <td>2</td>\n",
       "      <td>499</td>\n",
       "      <td>3714</td>\n",
       "      <td>1</td>\n",
       "      <td>1073</td>\n",
       "      <td>0.0</td>\n",
       "      <td>1980.7</td>\n",
       "    </tr>\n",
       "    <tr>\n",
       "      <th>75828</th>\n",
       "      <td>unmapped-49-contig_list_contig_29731-0</td>\n",
       "      <td>UniRef90_UPI0005226B71</td>\n",
       "      <td>82.5</td>\n",
       "      <td>1056</td>\n",
       "      <td>185</td>\n",
       "      <td>0</td>\n",
       "      <td>5095</td>\n",
       "      <td>1928</td>\n",
       "      <td>1233</td>\n",
       "      <td>2288</td>\n",
       "      <td>0.0</td>\n",
       "      <td>1697.2</td>\n",
       "    </tr>\n",
       "    <tr>\n",
       "      <th>1255090</th>\n",
       "      <td>EC-4AK111_TAGCTT_R1_(paired)_contig_6330-0</td>\n",
       "      <td>UniRef90_V8NBR3</td>\n",
       "      <td>78.4</td>\n",
       "      <td>828</td>\n",
       "      <td>177</td>\n",
       "      <td>2</td>\n",
       "      <td>2712</td>\n",
       "      <td>232</td>\n",
       "      <td>23</td>\n",
       "      <td>849</td>\n",
       "      <td>0.0</td>\n",
       "      <td>1323.1</td>\n",
       "    </tr>\n",
       "    <tr>\n",
       "      <th>1254783</th>\n",
       "      <td>unmapped-49-contig_list_contig_56574-0</td>\n",
       "      <td>UniRef90_UPI000642AD0D</td>\n",
       "      <td>71.4</td>\n",
       "      <td>767</td>\n",
       "      <td>199</td>\n",
       "      <td>6</td>\n",
       "      <td>2794</td>\n",
       "      <td>539</td>\n",
       "      <td>394</td>\n",
       "      <td>1155</td>\n",
       "      <td>0.0</td>\n",
       "      <td>1077.0</td>\n",
       "    </tr>\n",
       "  </tbody>\n",
       "</table>\n",
       "</div>"
      ],
      "text/plain": [
       "                                             qseqid                  sseqid  \\\n",
       "1363364      unmapped-49-contig_list_contig_64936-0         UniRef90_G1KX46   \n",
       "928192        unmapped-49-contig_list_contig_6250-0     UniRef90_A0A091G0Z8   \n",
       "75828        unmapped-49-contig_list_contig_29731-0  UniRef90_UPI0005226B71   \n",
       "1255090  EC-4AK111_TAGCTT_R1_(paired)_contig_6330-0         UniRef90_V8NBR3   \n",
       "1254783      unmapped-49-contig_list_contig_56574-0  UniRef90_UPI000642AD0D   \n",
       "\n",
       "         pident  length  mismatch  gapopen  qstart  qend  sstart  send  \\\n",
       "1363364    74.5     768       190        3     265  2565       1   763   \n",
       "928192     92.1    1077        76        2     499  3714       1  1073   \n",
       "75828      82.5    1056       185        0    5095  1928    1233  2288   \n",
       "1255090    78.4     828       177        2    2712   232      23   849   \n",
       "1254783    71.4     767       199        6    2794   539     394  1155   \n",
       "\n",
       "         evalue  bitscore  \n",
       "1363364     0.0    1107.0  \n",
       "928192      0.0    1980.7  \n",
       "75828       0.0    1697.2  \n",
       "1255090     0.0    1323.1  \n",
       "1254783     0.0    1077.0  "
      ]
     },
     "execution_count": 5,
     "metadata": {},
     "output_type": "execute_result"
    }
   ],
   "source": [
    "uniref = pd.read_table(os.path.join(wd,'diamond/all.blast'),names=blast_head)\n",
    "print(\"number of starting hits: {}\".format(uniref.shape[0]))\n",
    "uniref = uniref[uniref['evalue'] < 1e-10]\n",
    "print(\"number of filtered for e-value hits: {}\".format(uniref.shape[0]))\n",
    "uniref.sort_values(by='evalue',inplace=True)\n",
    "uniref.drop_duplicates('qseqid',inplace=True, keep='first')\n",
    "print(\"number of filtered hits for de-duplicated contigs: {}\".format(uniref.shape[0]))\n",
    "uniref.head()"
   ]
  },
  {
   "cell_type": "markdown",
   "metadata": {},
   "source": [
    "### This is a silly converter since it's difficult to map existing sseqids to any database. So I need to re-map them to their RepID (gene name).\n",
    "- grep '>' uniref90.fasta > uniref90.headers\n",
    "- extract from the fasta header the RepID\n",
    "- create translation table (UniRef90_* -> RepID)"
   ]
  },
  {
   "cell_type": "code",
   "execution_count": null,
   "metadata": {},
   "outputs": [],
   "source": [
    "uniref_translation = pd.read_table('/home/bay001/projects/kes_20160307/data/uniref90.headers',names=['uniref'])\n",
    "uniref_translation.head(2)"
   ]
  },
  {
   "cell_type": "code",
   "execution_count": null,
   "metadata": {
    "collapsed": true
   },
   "outputs": [],
   "source": [
    "uniref_translation = uniref_translation['uniref'].str.replace('>','')"
   ]
  },
  {
   "cell_type": "code",
   "execution_count": null,
   "metadata": {},
   "outputs": [],
   "source": [
    "uniref2gene = uniref_translation.str.extract('(^[\\w\\d-]+).+ RepID=([\\w-]+)$')"
   ]
  },
  {
   "cell_type": "code",
   "execution_count": null,
   "metadata": {},
   "outputs": [],
   "source": [
    "uniref2gene.reset_index(inplace=True)\n",
    "uniref2gene.head()"
   ]
  },
  {
   "cell_type": "code",
   "execution_count": null,
   "metadata": {},
   "outputs": [],
   "source": [
    "# save this intermediate step because this takes a long time.\n",
    "uniref2gene.to_csv('/home/bay001/projects/kes_20160307/data/uniref2gene.txt',sep='\\t',header=None,index=None)"
   ]
  },
  {
   "cell_type": "code",
   "execution_count": 6,
   "metadata": {},
   "outputs": [
    {
     "data": {
      "text/html": [
       "<div>\n",
       "<table border=\"1\" class=\"dataframe\">\n",
       "  <thead>\n",
       "    <tr style=\"text-align: right;\">\n",
       "      <th></th>\n",
       "      <th>0</th>\n",
       "      <th>1</th>\n",
       "    </tr>\n",
       "  </thead>\n",
       "  <tbody>\n",
       "    <tr>\n",
       "      <th>0</th>\n",
       "      <td>UniRef90_Q6GZX4</td>\n",
       "      <td>001R_FRG3G</td>\n",
       "    </tr>\n",
       "    <tr>\n",
       "      <th>1</th>\n",
       "      <td>UniRef90_Q6GZX3</td>\n",
       "      <td>002L_FRG3G</td>\n",
       "    </tr>\n",
       "  </tbody>\n",
       "</table>\n",
       "</div>"
      ],
      "text/plain": [
       "                 0           1\n",
       "0  UniRef90_Q6GZX4  001R_FRG3G\n",
       "1  UniRef90_Q6GZX3  002L_FRG3G"
      ]
     },
     "execution_count": 6,
     "metadata": {},
     "output_type": "execute_result"
    }
   ],
   "source": [
    "uniref2gene = pd.read_table('/home/bay001/projects/kes_20160307/data/uniref2gene.txt',names=[0,1])\n",
    "uniref2gene.head(2)"
   ]
  },
  {
   "cell_type": "code",
   "execution_count": 7,
   "metadata": {},
   "outputs": [
    {
     "data": {
      "text/html": [
       "<div>\n",
       "<table border=\"1\" class=\"dataframe\">\n",
       "  <thead>\n",
       "    <tr style=\"text-align: right;\">\n",
       "      <th></th>\n",
       "      <th>0</th>\n",
       "      <th>1</th>\n",
       "    </tr>\n",
       "  </thead>\n",
       "  <tbody>\n",
       "  </tbody>\n",
       "</table>\n",
       "</div>"
      ],
      "text/plain": [
       "Empty DataFrame\n",
       "Columns: [0, 1]\n",
       "Index: []"
      ]
     },
     "execution_count": 7,
     "metadata": {},
     "output_type": "execute_result"
    }
   ],
   "source": [
    "# make sure we capture all annotations, that the regex expression is correct. This list should be empty.\n",
    "uniref2gene[uniref2gene.isnull().any(axis=1)]"
   ]
  },
  {
   "cell_type": "code",
   "execution_count": 8,
   "metadata": {},
   "outputs": [
    {
     "data": {
      "text/html": [
       "<div>\n",
       "<table border=\"1\" class=\"dataframe\">\n",
       "  <thead>\n",
       "    <tr style=\"text-align: right;\">\n",
       "      <th></th>\n",
       "      <th>qseqid</th>\n",
       "      <th>sseqid</th>\n",
       "      <th>pident</th>\n",
       "      <th>length</th>\n",
       "      <th>mismatch</th>\n",
       "      <th>gapopen</th>\n",
       "      <th>qstart</th>\n",
       "      <th>qend</th>\n",
       "      <th>sstart</th>\n",
       "      <th>send</th>\n",
       "      <th>evalue</th>\n",
       "      <th>bitscore</th>\n",
       "      <th>0</th>\n",
       "      <th>1</th>\n",
       "    </tr>\n",
       "  </thead>\n",
       "  <tbody>\n",
       "    <tr>\n",
       "      <th>0</th>\n",
       "      <td>unmapped-49-contig_list_contig_64936-0</td>\n",
       "      <td>UniRef90_G1KX46</td>\n",
       "      <td>74.5</td>\n",
       "      <td>768</td>\n",
       "      <td>190</td>\n",
       "      <td>3</td>\n",
       "      <td>265</td>\n",
       "      <td>2565</td>\n",
       "      <td>1</td>\n",
       "      <td>763</td>\n",
       "      <td>0.0</td>\n",
       "      <td>1107.0</td>\n",
       "      <td>UniRef90_G1KX46</td>\n",
       "      <td>G1KX46_ANOCA</td>\n",
       "    </tr>\n",
       "    <tr>\n",
       "      <th>1</th>\n",
       "      <td>unmapped-49-contig_list_contig_6250-0</td>\n",
       "      <td>UniRef90_A0A091G0Z8</td>\n",
       "      <td>92.1</td>\n",
       "      <td>1077</td>\n",
       "      <td>76</td>\n",
       "      <td>2</td>\n",
       "      <td>499</td>\n",
       "      <td>3714</td>\n",
       "      <td>1</td>\n",
       "      <td>1073</td>\n",
       "      <td>0.0</td>\n",
       "      <td>1980.7</td>\n",
       "      <td>UniRef90_A0A091G0Z8</td>\n",
       "      <td>A0A091G0Z8_9AVES</td>\n",
       "    </tr>\n",
       "    <tr>\n",
       "      <th>2</th>\n",
       "      <td>unmapped-49-contig_list_contig_29731-0</td>\n",
       "      <td>UniRef90_UPI0005226B71</td>\n",
       "      <td>82.5</td>\n",
       "      <td>1056</td>\n",
       "      <td>185</td>\n",
       "      <td>0</td>\n",
       "      <td>5095</td>\n",
       "      <td>1928</td>\n",
       "      <td>1233</td>\n",
       "      <td>2288</td>\n",
       "      <td>0.0</td>\n",
       "      <td>1697.2</td>\n",
       "      <td>UniRef90_UPI0005226B71</td>\n",
       "      <td>UPI0005226B71</td>\n",
       "    </tr>\n",
       "    <tr>\n",
       "      <th>3</th>\n",
       "      <td>EC-4AK111_TAGCTT_R1_(paired)_contig_6330-0</td>\n",
       "      <td>UniRef90_V8NBR3</td>\n",
       "      <td>78.4</td>\n",
       "      <td>828</td>\n",
       "      <td>177</td>\n",
       "      <td>2</td>\n",
       "      <td>2712</td>\n",
       "      <td>232</td>\n",
       "      <td>23</td>\n",
       "      <td>849</td>\n",
       "      <td>0.0</td>\n",
       "      <td>1323.1</td>\n",
       "      <td>UniRef90_V8NBR3</td>\n",
       "      <td>V8NBR3_OPHHA</td>\n",
       "    </tr>\n",
       "    <tr>\n",
       "      <th>4</th>\n",
       "      <td>unmapped-49-contig_list_contig_56574-0</td>\n",
       "      <td>UniRef90_UPI000642AD0D</td>\n",
       "      <td>71.4</td>\n",
       "      <td>767</td>\n",
       "      <td>199</td>\n",
       "      <td>6</td>\n",
       "      <td>2794</td>\n",
       "      <td>539</td>\n",
       "      <td>394</td>\n",
       "      <td>1155</td>\n",
       "      <td>0.0</td>\n",
       "      <td>1077.0</td>\n",
       "      <td>UniRef90_UPI000642AD0D</td>\n",
       "      <td>UPI000642AD0D</td>\n",
       "    </tr>\n",
       "  </tbody>\n",
       "</table>\n",
       "</div>"
      ],
      "text/plain": [
       "                                       qseqid                  sseqid  pident  \\\n",
       "0      unmapped-49-contig_list_contig_64936-0         UniRef90_G1KX46    74.5   \n",
       "1       unmapped-49-contig_list_contig_6250-0     UniRef90_A0A091G0Z8    92.1   \n",
       "2      unmapped-49-contig_list_contig_29731-0  UniRef90_UPI0005226B71    82.5   \n",
       "3  EC-4AK111_TAGCTT_R1_(paired)_contig_6330-0         UniRef90_V8NBR3    78.4   \n",
       "4      unmapped-49-contig_list_contig_56574-0  UniRef90_UPI000642AD0D    71.4   \n",
       "\n",
       "   length  mismatch  gapopen  qstart  qend  sstart  send  evalue  bitscore  \\\n",
       "0     768       190        3     265  2565       1   763     0.0    1107.0   \n",
       "1    1077        76        2     499  3714       1  1073     0.0    1980.7   \n",
       "2    1056       185        0    5095  1928    1233  2288     0.0    1697.2   \n",
       "3     828       177        2    2712   232      23   849     0.0    1323.1   \n",
       "4     767       199        6    2794   539     394  1155     0.0    1077.0   \n",
       "\n",
       "                        0                 1  \n",
       "0         UniRef90_G1KX46      G1KX46_ANOCA  \n",
       "1     UniRef90_A0A091G0Z8  A0A091G0Z8_9AVES  \n",
       "2  UniRef90_UPI0005226B71     UPI0005226B71  \n",
       "3         UniRef90_V8NBR3      V8NBR3_OPHHA  \n",
       "4  UniRef90_UPI000642AD0D     UPI000642AD0D  "
      ]
     },
     "execution_count": 8,
     "metadata": {},
     "output_type": "execute_result"
    }
   ],
   "source": [
    "uniref2blast = pd.merge(uniref,uniref2gene,how='left',left_on='sseqid',right_on=0)\n",
    "uniref2blast.head()"
   ]
  },
  {
   "cell_type": "code",
   "execution_count": null,
   "metadata": {
    "collapsed": true
   },
   "outputs": [],
   "source": []
  },
  {
   "cell_type": "code",
   "execution_count": 9,
   "metadata": {},
   "outputs": [
    {
     "name": "stdout",
     "output_type": "stream",
     "text": [
      "(60670, 1)\n",
      "(60670, 1)\n"
     ]
    },
    {
     "data": {
      "text/html": [
       "<div>\n",
       "<table border=\"1\" class=\"dataframe\">\n",
       "  <thead>\n",
       "    <tr style=\"text-align: right;\">\n",
       "      <th></th>\n",
       "      <th>uniref</th>\n",
       "    </tr>\n",
       "    <tr>\n",
       "      <th>qseqid</th>\n",
       "      <th></th>\n",
       "    </tr>\n",
       "  </thead>\n",
       "  <tbody>\n",
       "    <tr>\n",
       "      <th>unmapped-49-contig_list_contig_64936-0</th>\n",
       "      <td>UniRef90_G1KX46</td>\n",
       "    </tr>\n",
       "    <tr>\n",
       "      <th>unmapped-49-contig_list_contig_6250-0</th>\n",
       "      <td>UniRef90_A0A091G0Z8</td>\n",
       "    </tr>\n",
       "    <tr>\n",
       "      <th>unmapped-49-contig_list_contig_29731-0</th>\n",
       "      <td>UniRef90_UPI0005226B71</td>\n",
       "    </tr>\n",
       "    <tr>\n",
       "      <th>EC-4AK111_TAGCTT_R1_(paired)_contig_6330-0</th>\n",
       "      <td>UniRef90_V8NBR3</td>\n",
       "    </tr>\n",
       "    <tr>\n",
       "      <th>unmapped-49-contig_list_contig_56574-0</th>\n",
       "      <td>UniRef90_UPI000642AD0D</td>\n",
       "    </tr>\n",
       "  </tbody>\n",
       "</table>\n",
       "</div>"
      ],
      "text/plain": [
       "                                                            uniref\n",
       "qseqid                                                            \n",
       "unmapped-49-contig_list_contig_64936-0             UniRef90_G1KX46\n",
       "unmapped-49-contig_list_contig_6250-0          UniRef90_A0A091G0Z8\n",
       "unmapped-49-contig_list_contig_29731-0      UniRef90_UPI0005226B71\n",
       "EC-4AK111_TAGCTT_R1_(paired)_contig_6330-0         UniRef90_V8NBR3\n",
       "unmapped-49-contig_list_contig_56574-0      UniRef90_UPI000642AD0D"
      ]
     },
     "execution_count": 9,
     "metadata": {},
     "output_type": "execute_result"
    }
   ],
   "source": [
    "contig2uniref = uniref2blast.loc[:,['qseqid','sseqid']]\n",
    "contig2uniref.set_index('qseqid',inplace=True)\n",
    "contig2uniref.rename(columns={'sseqid':'uniref'},inplace=True)\n",
    "print(contig2uniref.shape)\n",
    "contig2uniref.drop_duplicates() # Sanity check.\n",
    "print(contig2uniref.shape)\n",
    "contig2uniref.head()"
   ]
  },
  {
   "cell_type": "code",
   "execution_count": 10,
   "metadata": {},
   "outputs": [
    {
     "data": {
      "text/html": [
       "<div>\n",
       "<table border=\"1\" class=\"dataframe\">\n",
       "  <thead>\n",
       "    <tr style=\"text-align: right;\">\n",
       "      <th></th>\n",
       "      <th>qseqid</th>\n",
       "      <th>sseqid</th>\n",
       "      <th>pident</th>\n",
       "      <th>length</th>\n",
       "      <th>mismatch</th>\n",
       "      <th>gapopen</th>\n",
       "      <th>qstart</th>\n",
       "      <th>qend</th>\n",
       "      <th>sstart</th>\n",
       "      <th>send</th>\n",
       "      <th>evalue</th>\n",
       "      <th>bitscore</th>\n",
       "      <th>0</th>\n",
       "      <th>1</th>\n",
       "    </tr>\n",
       "  </thead>\n",
       "  <tbody>\n",
       "    <tr>\n",
       "      <th>10</th>\n",
       "      <td>unmapped-49-contig_list_contig_124317-0</td>\n",
       "      <td>UniRef90_Q9H3D4</td>\n",
       "      <td>93.0</td>\n",
       "      <td>572</td>\n",
       "      <td>40</td>\n",
       "      <td>0</td>\n",
       "      <td>2143</td>\n",
       "      <td>428</td>\n",
       "      <td>109</td>\n",
       "      <td>680</td>\n",
       "      <td>0.0</td>\n",
       "      <td>1083.2</td>\n",
       "      <td>UniRef90_Q9H3D4</td>\n",
       "      <td>P63_HUMAN</td>\n",
       "    </tr>\n",
       "  </tbody>\n",
       "</table>\n",
       "</div>"
      ],
      "text/plain": [
       "                                     qseqid           sseqid  pident  length  \\\n",
       "10  unmapped-49-contig_list_contig_124317-0  UniRef90_Q9H3D4    93.0     572   \n",
       "\n",
       "    mismatch  gapopen  qstart  qend  sstart  send  evalue  bitscore  \\\n",
       "10        40        0    2143   428     109   680     0.0    1083.2   \n",
       "\n",
       "                  0          1  \n",
       "10  UniRef90_Q9H3D4  P63_HUMAN  "
      ]
     },
     "execution_count": 10,
     "metadata": {},
     "output_type": "execute_result"
    }
   ],
   "source": [
    "uniref2blast[uniref2blast[0]=='UniRef90_Q9H3D4'] # more sanity check. Make sure this is mapping to just one"
   ]
  },
  {
   "cell_type": "markdown",
   "metadata": {},
   "source": [
    "# Append the annotations to our read counts table.\n",
    "- merge chicken ensembl blast hits\n",
    "- merge uniref90 blast hits"
   ]
  },
  {
   "cell_type": "code",
   "execution_count": 18,
   "metadata": {},
   "outputs": [
    {
     "name": "stdout",
     "output_type": "stream",
     "text": [
      "239837\n"
     ]
    },
    {
     "data": {
      "text/html": [
       "<div>\n",
       "<table border=\"1\" class=\"dataframe\">\n",
       "  <thead>\n",
       "    <tr style=\"text-align: right;\">\n",
       "      <th></th>\n",
       "      <th>EC-1AK228_CAGATC</th>\n",
       "      <th>EC-2AK546_ACTTGA</th>\n",
       "      <th>EC-3AK436_GATCAG</th>\n",
       "      <th>EC-4AK111_TAGCTT</th>\n",
       "      <th>EC-5AK453_GGCTAC</th>\n",
       "      <th>EC-6AK100_CTTGTA</th>\n",
       "      <th>EC-7AK501_AGTCAA</th>\n",
       "      <th>EC-8AK511_AGTTCC</th>\n",
       "      <th>EC-9AK123_ATGTCA</th>\n",
       "      <th>EC-10AK244_CCGTCC</th>\n",
       "      <th>EC-11AK330_GTCCGC</th>\n",
       "      <th>EC-12AK422_GTGAAA</th>\n",
       "      <th>EC-13AK430_GTGGCC</th>\n",
       "      <th>EC-14AK418_GTTTCG</th>\n",
       "      <th>EC-15AK219_CGTACG</th>\n",
       "      <th>EC-16AK327_GAGTGG</th>\n",
       "      <th>EC-17AK506_ACTGAT</th>\n",
       "      <th>EC-18AK105_ATTCCT</th>\n",
       "    </tr>\n",
       "    <tr>\n",
       "      <th>gene_id</th>\n",
       "      <th></th>\n",
       "      <th></th>\n",
       "      <th></th>\n",
       "      <th></th>\n",
       "      <th></th>\n",
       "      <th></th>\n",
       "      <th></th>\n",
       "      <th></th>\n",
       "      <th></th>\n",
       "      <th></th>\n",
       "      <th></th>\n",
       "      <th></th>\n",
       "      <th></th>\n",
       "      <th></th>\n",
       "      <th></th>\n",
       "      <th></th>\n",
       "      <th></th>\n",
       "      <th></th>\n",
       "    </tr>\n",
       "  </thead>\n",
       "  <tbody>\n",
       "    <tr>\n",
       "      <th>EC-4AK111_TAGCTT_R1_(paired)_contig_1003-0</th>\n",
       "      <td>858</td>\n",
       "      <td>916</td>\n",
       "      <td>863</td>\n",
       "      <td>2406</td>\n",
       "      <td>978</td>\n",
       "      <td>1103</td>\n",
       "      <td>805</td>\n",
       "      <td>919</td>\n",
       "      <td>801</td>\n",
       "      <td>998</td>\n",
       "      <td>960</td>\n",
       "      <td>788</td>\n",
       "      <td>774</td>\n",
       "      <td>1143</td>\n",
       "      <td>1523</td>\n",
       "      <td>1334</td>\n",
       "      <td>1335</td>\n",
       "      <td>971</td>\n",
       "    </tr>\n",
       "    <tr>\n",
       "      <th>EC-4AK111_TAGCTT_R1_(paired)_contig_10031-0</th>\n",
       "      <td>404</td>\n",
       "      <td>390</td>\n",
       "      <td>596</td>\n",
       "      <td>754</td>\n",
       "      <td>585</td>\n",
       "      <td>348</td>\n",
       "      <td>422</td>\n",
       "      <td>460</td>\n",
       "      <td>602</td>\n",
       "      <td>633</td>\n",
       "      <td>615</td>\n",
       "      <td>388</td>\n",
       "      <td>531</td>\n",
       "      <td>447</td>\n",
       "      <td>563</td>\n",
       "      <td>549</td>\n",
       "      <td>537</td>\n",
       "      <td>434</td>\n",
       "    </tr>\n",
       "  </tbody>\n",
       "</table>\n",
       "</div>"
      ],
      "text/plain": [
       "                                             EC-1AK228_CAGATC  \\\n",
       "gene_id                                                         \n",
       "EC-4AK111_TAGCTT_R1_(paired)_contig_1003-0                858   \n",
       "EC-4AK111_TAGCTT_R1_(paired)_contig_10031-0               404   \n",
       "\n",
       "                                             EC-2AK546_ACTTGA  \\\n",
       "gene_id                                                         \n",
       "EC-4AK111_TAGCTT_R1_(paired)_contig_1003-0                916   \n",
       "EC-4AK111_TAGCTT_R1_(paired)_contig_10031-0               390   \n",
       "\n",
       "                                             EC-3AK436_GATCAG  \\\n",
       "gene_id                                                         \n",
       "EC-4AK111_TAGCTT_R1_(paired)_contig_1003-0                863   \n",
       "EC-4AK111_TAGCTT_R1_(paired)_contig_10031-0               596   \n",
       "\n",
       "                                             EC-4AK111_TAGCTT  \\\n",
       "gene_id                                                         \n",
       "EC-4AK111_TAGCTT_R1_(paired)_contig_1003-0               2406   \n",
       "EC-4AK111_TAGCTT_R1_(paired)_contig_10031-0               754   \n",
       "\n",
       "                                             EC-5AK453_GGCTAC  \\\n",
       "gene_id                                                         \n",
       "EC-4AK111_TAGCTT_R1_(paired)_contig_1003-0                978   \n",
       "EC-4AK111_TAGCTT_R1_(paired)_contig_10031-0               585   \n",
       "\n",
       "                                             EC-6AK100_CTTGTA  \\\n",
       "gene_id                                                         \n",
       "EC-4AK111_TAGCTT_R1_(paired)_contig_1003-0               1103   \n",
       "EC-4AK111_TAGCTT_R1_(paired)_contig_10031-0               348   \n",
       "\n",
       "                                             EC-7AK501_AGTCAA  \\\n",
       "gene_id                                                         \n",
       "EC-4AK111_TAGCTT_R1_(paired)_contig_1003-0                805   \n",
       "EC-4AK111_TAGCTT_R1_(paired)_contig_10031-0               422   \n",
       "\n",
       "                                             EC-8AK511_AGTTCC  \\\n",
       "gene_id                                                         \n",
       "EC-4AK111_TAGCTT_R1_(paired)_contig_1003-0                919   \n",
       "EC-4AK111_TAGCTT_R1_(paired)_contig_10031-0               460   \n",
       "\n",
       "                                             EC-9AK123_ATGTCA  \\\n",
       "gene_id                                                         \n",
       "EC-4AK111_TAGCTT_R1_(paired)_contig_1003-0                801   \n",
       "EC-4AK111_TAGCTT_R1_(paired)_contig_10031-0               602   \n",
       "\n",
       "                                             EC-10AK244_CCGTCC  \\\n",
       "gene_id                                                          \n",
       "EC-4AK111_TAGCTT_R1_(paired)_contig_1003-0                 998   \n",
       "EC-4AK111_TAGCTT_R1_(paired)_contig_10031-0                633   \n",
       "\n",
       "                                             EC-11AK330_GTCCGC  \\\n",
       "gene_id                                                          \n",
       "EC-4AK111_TAGCTT_R1_(paired)_contig_1003-0                 960   \n",
       "EC-4AK111_TAGCTT_R1_(paired)_contig_10031-0                615   \n",
       "\n",
       "                                             EC-12AK422_GTGAAA  \\\n",
       "gene_id                                                          \n",
       "EC-4AK111_TAGCTT_R1_(paired)_contig_1003-0                 788   \n",
       "EC-4AK111_TAGCTT_R1_(paired)_contig_10031-0                388   \n",
       "\n",
       "                                             EC-13AK430_GTGGCC  \\\n",
       "gene_id                                                          \n",
       "EC-4AK111_TAGCTT_R1_(paired)_contig_1003-0                 774   \n",
       "EC-4AK111_TAGCTT_R1_(paired)_contig_10031-0                531   \n",
       "\n",
       "                                             EC-14AK418_GTTTCG  \\\n",
       "gene_id                                                          \n",
       "EC-4AK111_TAGCTT_R1_(paired)_contig_1003-0                1143   \n",
       "EC-4AK111_TAGCTT_R1_(paired)_contig_10031-0                447   \n",
       "\n",
       "                                             EC-15AK219_CGTACG  \\\n",
       "gene_id                                                          \n",
       "EC-4AK111_TAGCTT_R1_(paired)_contig_1003-0                1523   \n",
       "EC-4AK111_TAGCTT_R1_(paired)_contig_10031-0                563   \n",
       "\n",
       "                                             EC-16AK327_GAGTGG  \\\n",
       "gene_id                                                          \n",
       "EC-4AK111_TAGCTT_R1_(paired)_contig_1003-0                1334   \n",
       "EC-4AK111_TAGCTT_R1_(paired)_contig_10031-0                549   \n",
       "\n",
       "                                             EC-17AK506_ACTGAT  \\\n",
       "gene_id                                                          \n",
       "EC-4AK111_TAGCTT_R1_(paired)_contig_1003-0                1335   \n",
       "EC-4AK111_TAGCTT_R1_(paired)_contig_10031-0                537   \n",
       "\n",
       "                                             EC-18AK105_ATTCCT  \n",
       "gene_id                                                         \n",
       "EC-4AK111_TAGCTT_R1_(paired)_contig_1003-0                 971  \n",
       "EC-4AK111_TAGCTT_R1_(paired)_contig_10031-0                434  "
      ]
     },
     "execution_count": 18,
     "metadata": {},
     "output_type": "execute_result"
    }
   ],
   "source": [
    "countsdf = pd.read_table(counts,index_col=0)\n",
    "print(countsdf.shape[0])\n",
    "countsdf.head(2)"
   ]
  },
  {
   "cell_type": "code",
   "execution_count": 12,
   "metadata": {},
   "outputs": [
    {
     "data": {
      "text/html": [
       "<div>\n",
       "<table border=\"1\" class=\"dataframe\">\n",
       "  <thead>\n",
       "    <tr style=\"text-align: right;\">\n",
       "      <th></th>\n",
       "      <th>EC-1AK228_CAGATC</th>\n",
       "      <th>EC-2AK546_ACTTGA</th>\n",
       "      <th>EC-3AK436_GATCAG</th>\n",
       "      <th>EC-4AK111_TAGCTT</th>\n",
       "      <th>EC-5AK453_GGCTAC</th>\n",
       "      <th>EC-6AK100_CTTGTA</th>\n",
       "      <th>EC-7AK501_AGTCAA</th>\n",
       "      <th>EC-8AK511_AGTTCC</th>\n",
       "      <th>EC-9AK123_ATGTCA</th>\n",
       "      <th>EC-10AK244_CCGTCC</th>\n",
       "      <th>EC-11AK330_GTCCGC</th>\n",
       "      <th>EC-12AK422_GTGAAA</th>\n",
       "      <th>EC-13AK430_GTGGCC</th>\n",
       "      <th>EC-14AK418_GTTTCG</th>\n",
       "      <th>EC-15AK219_CGTACG</th>\n",
       "      <th>EC-16AK327_GAGTGG</th>\n",
       "      <th>EC-17AK506_ACTGAT</th>\n",
       "      <th>EC-18AK105_ATTCCT</th>\n",
       "      <th>ensembl</th>\n",
       "    </tr>\n",
       "    <tr>\n",
       "      <th>gene_id</th>\n",
       "      <th></th>\n",
       "      <th></th>\n",
       "      <th></th>\n",
       "      <th></th>\n",
       "      <th></th>\n",
       "      <th></th>\n",
       "      <th></th>\n",
       "      <th></th>\n",
       "      <th></th>\n",
       "      <th></th>\n",
       "      <th></th>\n",
       "      <th></th>\n",
       "      <th></th>\n",
       "      <th></th>\n",
       "      <th></th>\n",
       "      <th></th>\n",
       "      <th></th>\n",
       "      <th></th>\n",
       "      <th></th>\n",
       "    </tr>\n",
       "  </thead>\n",
       "  <tbody>\n",
       "    <tr>\n",
       "      <th>EC-4AK111_TAGCTT_R1_(paired)_contig_1003-0</th>\n",
       "      <td>858</td>\n",
       "      <td>916</td>\n",
       "      <td>863</td>\n",
       "      <td>2406</td>\n",
       "      <td>978</td>\n",
       "      <td>1103</td>\n",
       "      <td>805</td>\n",
       "      <td>919</td>\n",
       "      <td>801</td>\n",
       "      <td>998</td>\n",
       "      <td>960</td>\n",
       "      <td>788</td>\n",
       "      <td>774</td>\n",
       "      <td>1143</td>\n",
       "      <td>1523</td>\n",
       "      <td>1334</td>\n",
       "      <td>1335</td>\n",
       "      <td>971</td>\n",
       "      <td>NaN</td>\n",
       "    </tr>\n",
       "    <tr>\n",
       "      <th>EC-4AK111_TAGCTT_R1_(paired)_contig_10031-0</th>\n",
       "      <td>404</td>\n",
       "      <td>390</td>\n",
       "      <td>596</td>\n",
       "      <td>754</td>\n",
       "      <td>585</td>\n",
       "      <td>348</td>\n",
       "      <td>422</td>\n",
       "      <td>460</td>\n",
       "      <td>602</td>\n",
       "      <td>633</td>\n",
       "      <td>615</td>\n",
       "      <td>388</td>\n",
       "      <td>531</td>\n",
       "      <td>447</td>\n",
       "      <td>563</td>\n",
       "      <td>549</td>\n",
       "      <td>537</td>\n",
       "      <td>434</td>\n",
       "      <td>NaN</td>\n",
       "    </tr>\n",
       "  </tbody>\n",
       "</table>\n",
       "</div>"
      ],
      "text/plain": [
       "                                             EC-1AK228_CAGATC  \\\n",
       "gene_id                                                         \n",
       "EC-4AK111_TAGCTT_R1_(paired)_contig_1003-0                858   \n",
       "EC-4AK111_TAGCTT_R1_(paired)_contig_10031-0               404   \n",
       "\n",
       "                                             EC-2AK546_ACTTGA  \\\n",
       "gene_id                                                         \n",
       "EC-4AK111_TAGCTT_R1_(paired)_contig_1003-0                916   \n",
       "EC-4AK111_TAGCTT_R1_(paired)_contig_10031-0               390   \n",
       "\n",
       "                                             EC-3AK436_GATCAG  \\\n",
       "gene_id                                                         \n",
       "EC-4AK111_TAGCTT_R1_(paired)_contig_1003-0                863   \n",
       "EC-4AK111_TAGCTT_R1_(paired)_contig_10031-0               596   \n",
       "\n",
       "                                             EC-4AK111_TAGCTT  \\\n",
       "gene_id                                                         \n",
       "EC-4AK111_TAGCTT_R1_(paired)_contig_1003-0               2406   \n",
       "EC-4AK111_TAGCTT_R1_(paired)_contig_10031-0               754   \n",
       "\n",
       "                                             EC-5AK453_GGCTAC  \\\n",
       "gene_id                                                         \n",
       "EC-4AK111_TAGCTT_R1_(paired)_contig_1003-0                978   \n",
       "EC-4AK111_TAGCTT_R1_(paired)_contig_10031-0               585   \n",
       "\n",
       "                                             EC-6AK100_CTTGTA  \\\n",
       "gene_id                                                         \n",
       "EC-4AK111_TAGCTT_R1_(paired)_contig_1003-0               1103   \n",
       "EC-4AK111_TAGCTT_R1_(paired)_contig_10031-0               348   \n",
       "\n",
       "                                             EC-7AK501_AGTCAA  \\\n",
       "gene_id                                                         \n",
       "EC-4AK111_TAGCTT_R1_(paired)_contig_1003-0                805   \n",
       "EC-4AK111_TAGCTT_R1_(paired)_contig_10031-0               422   \n",
       "\n",
       "                                             EC-8AK511_AGTTCC  \\\n",
       "gene_id                                                         \n",
       "EC-4AK111_TAGCTT_R1_(paired)_contig_1003-0                919   \n",
       "EC-4AK111_TAGCTT_R1_(paired)_contig_10031-0               460   \n",
       "\n",
       "                                             EC-9AK123_ATGTCA  \\\n",
       "gene_id                                                         \n",
       "EC-4AK111_TAGCTT_R1_(paired)_contig_1003-0                801   \n",
       "EC-4AK111_TAGCTT_R1_(paired)_contig_10031-0               602   \n",
       "\n",
       "                                             EC-10AK244_CCGTCC  \\\n",
       "gene_id                                                          \n",
       "EC-4AK111_TAGCTT_R1_(paired)_contig_1003-0                 998   \n",
       "EC-4AK111_TAGCTT_R1_(paired)_contig_10031-0                633   \n",
       "\n",
       "                                             EC-11AK330_GTCCGC  \\\n",
       "gene_id                                                          \n",
       "EC-4AK111_TAGCTT_R1_(paired)_contig_1003-0                 960   \n",
       "EC-4AK111_TAGCTT_R1_(paired)_contig_10031-0                615   \n",
       "\n",
       "                                             EC-12AK422_GTGAAA  \\\n",
       "gene_id                                                          \n",
       "EC-4AK111_TAGCTT_R1_(paired)_contig_1003-0                 788   \n",
       "EC-4AK111_TAGCTT_R1_(paired)_contig_10031-0                388   \n",
       "\n",
       "                                             EC-13AK430_GTGGCC  \\\n",
       "gene_id                                                          \n",
       "EC-4AK111_TAGCTT_R1_(paired)_contig_1003-0                 774   \n",
       "EC-4AK111_TAGCTT_R1_(paired)_contig_10031-0                531   \n",
       "\n",
       "                                             EC-14AK418_GTTTCG  \\\n",
       "gene_id                                                          \n",
       "EC-4AK111_TAGCTT_R1_(paired)_contig_1003-0                1143   \n",
       "EC-4AK111_TAGCTT_R1_(paired)_contig_10031-0                447   \n",
       "\n",
       "                                             EC-15AK219_CGTACG  \\\n",
       "gene_id                                                          \n",
       "EC-4AK111_TAGCTT_R1_(paired)_contig_1003-0                1523   \n",
       "EC-4AK111_TAGCTT_R1_(paired)_contig_10031-0                563   \n",
       "\n",
       "                                             EC-16AK327_GAGTGG  \\\n",
       "gene_id                                                          \n",
       "EC-4AK111_TAGCTT_R1_(paired)_contig_1003-0                1334   \n",
       "EC-4AK111_TAGCTT_R1_(paired)_contig_10031-0                549   \n",
       "\n",
       "                                             EC-17AK506_ACTGAT  \\\n",
       "gene_id                                                          \n",
       "EC-4AK111_TAGCTT_R1_(paired)_contig_1003-0                1335   \n",
       "EC-4AK111_TAGCTT_R1_(paired)_contig_10031-0                537   \n",
       "\n",
       "                                             EC-18AK105_ATTCCT ensembl  \n",
       "gene_id                                                                 \n",
       "EC-4AK111_TAGCTT_R1_(paired)_contig_1003-0                 971     NaN  \n",
       "EC-4AK111_TAGCTT_R1_(paired)_contig_10031-0                434     NaN  "
      ]
     },
     "execution_count": 12,
     "metadata": {},
     "output_type": "execute_result"
    }
   ],
   "source": [
    "merged_ensembl = pd.merge(countsdf,contig2chicken,how='left',left_index=True,right_index=True)\n",
    "merged_ensembl.head(2)"
   ]
  },
  {
   "cell_type": "code",
   "execution_count": 22,
   "metadata": {},
   "outputs": [
    {
     "data": {
      "text/plain": [
       "(12756, 1)"
      ]
     },
     "execution_count": 22,
     "metadata": {},
     "output_type": "execute_result"
    }
   ],
   "source": [
    "# contig2chicken.ix['EC-4AK111_TAGCTT_R1_(paired)_contig_1003-0']\n",
    "contig2chicken.drop_duplicates().shape"
   ]
  },
  {
   "cell_type": "code",
   "execution_count": 13,
   "metadata": {},
   "outputs": [
    {
     "name": "stdout",
     "output_type": "stream",
     "text": [
      "number of total contigs: 239837\n",
      "number of annotated contigs: 0\n",
      "number of still missing annotated contigs: 239837\n"
     ]
    }
   ],
   "source": [
    "# Print some basic stats after annotating with ensembl blast hits\n",
    "print(\"number of total contigs: {}\".format(merged_ensembl.shape[0]))\n",
    "print(\"number of annotated contigs: {}\".format(merged_ensembl.shape[0] - \n",
    "                                               merged_ensembl[merged_ensembl.isnull().any(axis=1)].shape[0]))\n",
    "print(\"number of still missing annotated contigs: {}\".format(merged_ensembl[merged_ensembl.isnull().any(axis=1)].shape[0]))"
   ]
  },
  {
   "cell_type": "code",
   "execution_count": null,
   "metadata": {},
   "outputs": [],
   "source": [
    "merged_ensembl_uniref = pd.merge(merged_ensembl,contig2uniref,how='left',left_index=True,right_index=True)\n",
    "merged_ensembl_uniref.head(2)"
   ]
  },
  {
   "cell_type": "code",
   "execution_count": null,
   "metadata": {},
   "outputs": [],
   "source": [
    "merged_ensembl_uniref['annotation'] = merged_ensembl_uniref['ensembl']\n",
    "merged_ensembl_uniref['annotation'].fillna(merged_ensembl_uniref['uniref'],inplace=True)\n",
    "merged_ensembl_uniref.head()"
   ]
  },
  {
   "cell_type": "code",
   "execution_count": null,
   "metadata": {},
   "outputs": [],
   "source": [
    "# Print some basic stats after annotating with ensembl blast hits\n",
    "print(\"number of total contigs: {}\".format(merged_ensembl_uniref.shape[0]))\n",
    "print(\"number of annotated contigs: {}\".format(merged_ensembl_uniref.dropna(subset=['annotation']).shape[0]))\n",
    "print(\"number of uniref annotations not ensembl: {}\".format(merged_ensembl_uniref[merged_ensembl_uniref['annotation'].str.contains('(UniRef)')==True].shape[0]))\n",
    "print(\"number of ensembl annotations: {}\".format(merged_ensembl_uniref[merged_ensembl_uniref['annotation'].str.contains('(ENSG)')==True].shape[0]))"
   ]
  },
  {
   "cell_type": "code",
   "execution_count": null,
   "metadata": {},
   "outputs": [],
   "source": [
    "# translate counts into an annotated counts table.\n",
    "merged_ensembl_uniref.to_csv('/home/bay001/projects/kes_20160307/permanent_data/9-27-2016/annotations.txt',sep='\\t')\n",
    "new_counts_df = merged_ensembl_uniref.reset_index()\n",
    "new_counts_df['annotation'].fillna(new_counts_df['gene_id'],inplace=True)\n",
    "del new_counts_df['ensembl']\n",
    "del new_counts_df['uniref']\n",
    "del new_counts_df['gene_id']\n",
    "cols = new_counts_df.columns.tolist()\n",
    "cols.insert(0,cols.pop(cols.index('annotation')))\n",
    "new_counts_df = new_counts_df.reindex(columns = cols)\n",
    "new_counts_df.to_csv('/home/bay001/projects/kes_20160307/permanent_data/9-27-2016/counts.RSEM.txt.annotated',sep='\\t',\n",
    "                    index=None)\n",
    "new_counts_df.head()\n"
   ]
  },
  {
   "cell_type": "code",
   "execution_count": null,
   "metadata": {},
   "outputs": [],
   "source": [
    "# give the counts table gene names\n",
    "merged_ensembl_uniref['uniref'].dropna().to_csv('/home/bay001/projects/kes_20160307/data/uniref_ids.txt',index=None)"
   ]
  },
  {
   "cell_type": "code",
   "execution_count": null,
   "metadata": {},
   "outputs": [],
   "source": [
    "ensembl2name = pd.read_table('/home/bay001/projects/kes_20160307/permanent_data/9-27-2016/ensembl_to_genename.txt')\n",
    "ensembl2name.head(2)"
   ]
  },
  {
   "cell_type": "code",
   "execution_count": null,
   "metadata": {},
   "outputs": [],
   "source": [
    "new_counts_df2 = pd.merge(new_counts_df,ensembl2name,how='left',left_on='annotation',right_on='Ensembl Gene ID')\n",
    "new_counts_df2['Associated Gene Name'].fillna(new_counts_df2['annotation'],inplace=True)\n",
    "del new_counts_df2['Ensembl Gene ID']\n",
    "del new_counts_df2['annotation']\n",
    "cols = new_counts_df2.columns.tolist()\n",
    "cols.insert(0,cols.pop(cols.index('Associated Gene Name')))\n",
    "new_counts_df2 = new_counts_df2.reindex(columns = cols)\n",
    "# new_counts_df2.rename(columns={'Associated Gene Name':'annotation'},inplace=True)\n",
    "new_counts_df2.to_csv('/home/bay001/projects/kes_20160307/permanent_data/9-27-2016/counts.RSEM.txt.gene-name.annotated',sep='\\t',\n",
    "                    index=None)\n",
    "new_counts_df2.head()"
   ]
  },
  {
   "cell_type": "markdown",
   "metadata": {},
   "source": [
    "# Create a new gene to trans map with the blast hits"
   ]
  },
  {
   "cell_type": "code",
   "execution_count": null,
   "metadata": {},
   "outputs": [],
   "source": [
    "allcontigs = pd.DataFrame(countsdf.reset_index()['gene_id'])\n",
    "allcontigs.rename(columns = {'gene_id':'qseqid'},inplace=True)\n",
    "allcontigs['gene'] = np.nan\n",
    "\n",
    "gene_to_trans = pd.concat([contig2chicken.rename(columns={'ensembl':'gene'}),\n",
    "                           contig2uniref.rename(columns={'uniref':'gene'}),\n",
    "                           allcontigs.set_index('qseqid')])\n",
    "\n",
    "gene_to_trans = gene_to_trans.reset_index().drop_duplicates(subset='qseqid')\n",
    "gene_to_trans.head()"
   ]
  },
  {
   "cell_type": "code",
   "execution_count": null,
   "metadata": {},
   "outputs": [],
   "source": [
    "# reorder gene-to-trans map\n",
    "cols = gene_to_trans.columns.tolist()\n",
    "cols.insert(0,cols.pop(cols.index('gene')))\n",
    "gene_to_trans = gene_to_trans.reindex(columns = cols)\n",
    "gene_to_trans.head()"
   ]
  },
  {
   "cell_type": "code",
   "execution_count": null,
   "metadata": {},
   "outputs": [],
   "source": [
    "# Uh oh. Looks like the gene to trans map contains more transcripts that don't exist in the current assembly.\n",
    "print(gene_to_trans.shape[0])\n",
    "! wc -l /home/bay001/projects/kes_20160307/data/kestrel.headers"
   ]
  },
  {
   "cell_type": "markdown",
   "metadata": {},
   "source": [
    "# Creating new gene-to-trans-map\n",
    "##### There are more contigs in our map than what exists in the filtered assembly. This is due to the fact that I used the blast hits (which will include some filtered vectors/viruses/bacteria/etc., so I'll need to re-make the trans-to-gene map without this. \n",
    "- import headers from the assembly\n",
    "- join assembly headers with existing gene-to-trans-map and remove the contigs that dropped out"
   ]
  },
  {
   "cell_type": "code",
   "execution_count": null,
   "metadata": {},
   "outputs": [],
   "source": [
    "X = pd.read_table('/home/bay001/projects/kes_20160307/data/kestrel.headers',names=['headers'])\n",
    "X['qseqid'] = X['headers'].str.replace('>','')\n",
    "del X['headers']\n",
    "Y = pd.merge(X,gene_to_trans,how='left', on='qseqid')\n",
    "Y['gene'].fillna(Y['qseqid'],inplace=True)\n",
    "# reorder gene-to-trans map\n",
    "cols = Y.columns.tolist()\n",
    "cols.insert(0,cols.pop(cols.index('gene')))\n",
    "Y = Y.reindex(columns = cols)\n",
    "Y.to_csv('/home/bay001/projects/kes_20160307/permanent_data/9-27-2016/gene_to_trans.map',\n",
    "                    sep='\\t',header=None,index=None)"
   ]
  },
  {
   "cell_type": "code",
   "execution_count": null,
   "metadata": {},
   "outputs": [],
   "source": [
    "Y.shape # now contains the exact number of contigs (transcripts) to corresponding genes. "
   ]
  },
  {
   "cell_type": "code",
   "execution_count": null,
   "metadata": {},
   "outputs": [],
   "source": [
    "# How many gene names are captured?\n",
    "new_counts_df3 = pd.merge(new_counts_df,ensembl2name,how='left',left_on='annotation',right_on='Ensembl Gene ID')\n",
    "len(set(new_counts_df3['Associated Gene Name'].dropna()))"
   ]
  },
  {
   "cell_type": "markdown",
   "metadata": {},
   "source": [
    "# Create test counts matrix for deseq2 (while we wait for RSEM to finish)"
   ]
  },
  {
   "cell_type": "code",
   "execution_count": null,
   "metadata": {},
   "outputs": [],
   "source": [
    "testdf = new_counts_df3[new_counts_df3['annotation'].duplicated()==True].sort_values('annotation').drop_duplicates('annotation')\n",
    "del testdf['Ensembl Gene ID']\n",
    "del testdf['Associated Gene Name']\n",
    "testdf.to_csv('/home/bay001/projects/kes_20160307/data/counts.TEST.txt',sep='\\t',index=None)"
   ]
  },
  {
   "cell_type": "markdown",
   "metadata": {},
   "source": [
    "# load up new countsdf"
   ]
  },
  {
   "cell_type": "code",
   "execution_count": 23,
   "metadata": {
    "collapsed": true
   },
   "outputs": [],
   "source": [
    "cdf = pd.read_table('/home/bay001/projects/kes_20160307/permanent_data/9-27-2016/counts.RSEM.txt')"
   ]
  },
  {
   "cell_type": "code",
   "execution_count": 26,
   "metadata": {},
   "outputs": [
    {
     "data": {
      "text/plain": [
       "(12756, 19)"
      ]
     },
     "execution_count": 26,
     "metadata": {},
     "output_type": "execute_result"
    }
   ],
   "source": [
    "cdf[cdf['gene_id'].str.contains('ENSG')].shape"
   ]
  },
  {
   "cell_type": "code",
   "execution_count": null,
   "metadata": {
    "collapsed": true
   },
   "outputs": [],
   "source": []
  }
 ],
 "metadata": {
  "kernelspec": {
   "display_name": "Python 2",
   "language": "python",
   "name": "python2"
  },
  "language_info": {
   "codemirror_mode": {
    "name": "ipython",
    "version": 2
   },
   "file_extension": ".py",
   "mimetype": "text/x-python",
   "name": "python",
   "nbconvert_exporter": "python",
   "pygments_lexer": "ipython2",
   "version": "2.7.13"
  }
 },
 "nbformat": 4,
 "nbformat_minor": 1
}
