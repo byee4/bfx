{
 "cells": [
  {
   "cell_type": "markdown",
   "metadata": {},
   "source": [
    "# Handy helper notebook that splits the final assembly into parts for more parallel blast\n",
    "- blast takes a long time, i didn't have blastMPI setup and nodes were limited, so i ended up breaking the assembly into parts and blast/diamond-ing them as they finished (and validated them using another notebook)"
   ]
  },
  {
   "cell_type": "code",
   "execution_count": 4,
   "metadata": {},
   "outputs": [],
   "source": [
    "from Bio import SeqIO\n",
    "handle = open(\"/home/bay001/projects/kes_20160307/permanent_data/kestrel5-reclustered.no-aerv.no-mtdna.fasta\", \"rU\")\n",
    "outpref = \"/home/bay001/projects/kes_20160307/permanent_data/parts/part_\"\n",
    "part = 0\n",
    "count = 0\n",
    "records = []\n",
    "for record in SeqIO.parse(handle, \"fasta\"):\n",
    "    part = part + 1\n",
    "    records.append(record)\n",
    "    if(part%1000 == 0):\n",
    "        count = count + 1\n",
    "        SeqIO.write(records,outpref+\"{}.fas\".format(count),\"fasta\")\n",
    "        records = []\n",
    "handle.close()"
   ]
  },
  {
   "cell_type": "code",
   "execution_count": null,
   "metadata": {
    "collapsed": true
   },
   "outputs": [],
   "source": []
  },
  {
   "cell_type": "code",
   "execution_count": null,
   "metadata": {
    "collapsed": true
   },
   "outputs": [],
   "source": []
  }
 ],
 "metadata": {
  "kernelspec": {
   "display_name": "Python 2",
   "language": "python",
   "name": "python2"
  },
  "language_info": {
   "codemirror_mode": {
    "name": "ipython",
    "version": 2
   },
   "file_extension": ".py",
   "mimetype": "text/x-python",
   "name": "python",
   "nbconvert_exporter": "python",
   "pygments_lexer": "ipython2",
   "version": "2.7.13"
  }
 },
 "nbformat": 4,
 "nbformat_minor": 1
}
