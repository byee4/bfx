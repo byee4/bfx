{
 "cells": [
  {
   "cell_type": "code",
   "execution_count": 1,
   "metadata": {},
   "outputs": [
    {
     "name": "stderr",
     "output_type": "stream",
     "text": [
      "/home/bay001/anaconda2/envs/brian/lib/python2.7/site-packages/matplotlib/__init__.py:1405: UserWarning: \n",
      "This call to matplotlib.use() has no effect because the backend has already\n",
      "been chosen; matplotlib.use() must be called *before* pylab, matplotlib.pyplot,\n",
      "or matplotlib.backends is imported for the first time.\n",
      "\n",
      "  warnings.warn(_use_error_msg)\n"
     ]
    }
   ],
   "source": [
    "%matplotlib inline\n",
    "\n",
    "import matplotlib\n",
    "matplotlib.use('Agg')\n",
    "\n",
    "from matplotlib import rc\n",
    "rc('text', usetex=False)\n",
    "matplotlib.rcParams['svg.fonttype'] = 'none'\n",
    "rc('font', **{'family': 'sans-serif', 'sans-serif': ['Helvetica']})\n",
    "import matplotlib.gridspec as gridspec\n",
    "import matplotlib.patches as patches\n",
    "from matplotlib import patches as mpatches\n",
    "from collections import OrderedDict, defaultdict\n",
    "import seaborn as sns\n",
    "sns.set_style(\"ticks\")\n",
    "# sns.set_context(\"talk\", font_scale=1.4)\n",
    "\n",
    "from tqdm import tnrange, tqdm_notebook\n",
    "import matplotlib.gridspec as gridspec\n",
    "import matplotlib.pyplot as plt\n",
    "import pandas as pd\n",
    "import numpy as np\n",
    "import os"
   ]
  },
  {
   "cell_type": "code",
   "execution_count": 2,
   "metadata": {},
   "outputs": [
    {
     "data": {
      "image/png": "[encoded data removed]",
      "text/plain": [
       "<matplotlib.figure.Figure at 0x2af8d0001810>"
      ]
     },
     "metadata": {},
     "output_type": "display_data"
    }
   ],
   "source": [
    "sns.set_style(\"ticks\")\n",
    "# sns.set_context(\"talk\", font_scale=1.4)\n",
    "\n",
    "sns.palplot(sns.color_palette(\"hls\", 16))\n",
    "colors = sns.color_palette(\"hls\", 16)\n",
    "density_colors = [colors[0], colors[9], 'black']"
   ]
  },
  {
   "cell_type": "markdown",
   "metadata": {},
   "source": [
    "# Plot RBP map (raw density)"
   ]
  },
  {
   "cell_type": "code",
   "execution_count": 3,
   "metadata": {
    "collapsed": true
   },
   "outputs": [],
   "source": [
    "import sys\n",
    "sys.path.insert(0, '/home/bay001/projects/codebase/rbp-maps/maps/')\n",
    "from density import Map\n",
    "from density import ReadDensity\n",
    "from density import normalization_functions\n",
    "from plotter import Plotter\n",
    "from density import LineObject as dline\n",
    "\n",
    "def get_lines(d, c=0.95):\n",
    "    density_incl = dline.LineObject(\n",
    "        event_matrix=pd.read_table(d['included']['matrix'], sep=',', index_col=0),\n",
    "        annotation='Included upon knockdown',\n",
    "        conf=c,\n",
    "        color=d['included']['color'],\n",
    "        min_event_threshold=100\n",
    "    )\n",
    "    density_excl = dline.LineObject(\n",
    "        event_matrix=pd.read_table(d['excluded']['matrix'], sep=',', index_col=0),\n",
    "        annotation='Excluded upon knockdown',\n",
    "        conf=c,\n",
    "        color=d['excluded']['color'],\n",
    "        min_event_threshold=100\n",
    "    )\n",
    "    density_bg = dline.LineObject(\n",
    "        event_matrix=pd.read_table(d['background']['matrix'], sep=',', index_col=0),\n",
    "        annotation='Native cassettes',\n",
    "        conf=c,\n",
    "        color=d['background']['color'],\n",
    "        min_event_threshold=100\n",
    "    )\n",
    "    return density_incl, density_excl, density_bg"
   ]
  },
  {
   "cell_type": "code",
   "execution_count": 4,
   "metadata": {
    "collapsed": true
   },
   "outputs": [],
   "source": [
    "import matplotlib\n",
    "\n",
    "def _remove_outliers(df, conf=0.95):\n",
    "    \"\"\"\n",
    "    Sets the means and standard error values after outlier\n",
    "    removal. Returns dataframe. Replaces _get_means_and_sems.\n",
    "\n",
    "    Parameters\n",
    "    ----------\n",
    "    df : pandas.DataFrame\n",
    "        table of densities or values\n",
    "    conf : float\n",
    "        keep {conf}% of densities present at every given position\n",
    "\n",
    "    Returns\n",
    "    -------\n",
    "\n",
    "    merged : pandas.DataFrame\n",
    "        dataframe of outlier-removed events\n",
    "        (masked) with the same shape as the input. \n",
    "        \n",
    "    \"\"\"\n",
    "\n",
    "    merged = pd.DataFrame(index=df.index)\n",
    "    progress = tnrange(df.shape[1])\n",
    "    for col, row in df.iteritems():\n",
    "        single_col = df[col].dropna()\n",
    "        single_col = single_col.sort_values()\n",
    "        nums = len(single_col)\n",
    "        droppercent = (1 - conf) / 2.0\n",
    "        dropnum = int(nums * droppercent)\n",
    "        if dropnum > 0:\n",
    "            single_col = single_col[dropnum:-dropnum]\n",
    "        merged = pd.merge(merged, pd.DataFrame(single_col), how='left', left_index=True, right_index=True)\n",
    "        progress.update(1)\n",
    "    assert merged.shape[0] == df.shape[0]\n",
    "    return merged\n",
    "\n",
    "def plot_heatmap(df, font_size=8):\n",
    "    sns.set(font_scale=1)\n",
    "    r1 = df.iloc[:,:350]\n",
    "    r2 = df.iloc[:,350:700]\n",
    "    r3 = df.iloc[:,700:1050]\n",
    "    r4 = df.iloc[:,1050:]\n",
    "    vmin = min(df.min())\n",
    "    vmax = max(df.max())\n",
    "    regions = [r2, r3]\n",
    "\n",
    "    gs_hm = gridspec.GridSpec(\n",
    "                ncols=2, nrows=1, width_ratios=[1, 1]\n",
    "    )\n",
    "    f = plt.figure(figsize=(2, 2))\n",
    "    plot_axs = []\n",
    "    \n",
    "    for i in range(0, 2):\n",
    "        plot_axs.append(f.add_subplot(gs_hm[i]))\n",
    "        \n",
    "        if i < 3:\n",
    "\n",
    "            sns.heatmap(\n",
    "                regions[i], \n",
    "                xticklabels=False, \n",
    "                yticklabels=False, \n",
    "                ax=plot_axs[i], \n",
    "                vmin=vmin, \n",
    "                vmax=vmax,\n",
    "                cbar=False,\n",
    "            )\n",
    "        else:\n",
    "            cb = matplotlib.colorbar.ColorbarBase(ax=plot_axs[i], )\n",
    "            cb.ax.tick_params(labelsize=font_size)\n",
    "\n",
    "            sns.heatmap(\n",
    "                regions[i], \n",
    "                xticklabels=False, \n",
    "                yticklabels=False, \n",
    "                ax=plot_axs[i], \n",
    "                vmin=vmin, \n",
    "                vmax=vmax,\n",
    "                # cbar=True,\n",
    "            )\n",
    "            plot_axs[i].tick_params(labelsize=font_size)\n"
   ]
  },
  {
   "cell_type": "code",
   "execution_count": null,
   "metadata": {
    "collapsed": true
   },
   "outputs": [],
   "source": []
  },
  {
   "cell_type": "code",
   "execution_count": null,
   "metadata": {
    "collapsed": true
   },
   "outputs": [],
   "source": []
  },
  {
   "cell_type": "code",
   "execution_count": null,
   "metadata": {},
   "outputs": [],
   "source": []
  },
  {
   "cell_type": "code",
   "execution_count": 5,
   "metadata": {
    "collapsed": true
   },
   "outputs": [],
   "source": [
    "FONTSIZE=8\n",
    "mag = 1\n",
    "\n",
    "def bulk_lw_adjuster(ax, lw=1):\n",
    "        for ln in ax.lines:\n",
    "            ln.set_linewidth(lw)\n",
    "            \n",
    "def plot_two_panel(incl, excl, bg, mag, read_ymin, read_ymax, output_file, label):\n",
    "    fig = plt.figure(figsize=(4*mag, 1*mag))\n",
    "    full_grid = gridspec.GridSpec(1, 2, height_ratios=[1], )\n",
    "\n",
    "    map_row = gridspec.GridSpecFromSubplotSpec(1, 2, subplot_spec=full_grid[0, 1:3])\n",
    "\n",
    "    read_map_regions = [plt.subplot()]*4\n",
    "\n",
    "    for i in range(1,3):\n",
    "        read_map_regions[i] = (plt.subplot(map_row[i-1:i]))\n",
    "\n",
    "    density_plotter = Plotter._SEPlotter(lines=[incl, excl, bg], num_regions=4)\n",
    "    read_map_regions = density_plotter.plot(read_map_regions, None)\n",
    "    density_plotter.renumber_axes(2, read_map_regions)\n",
    "\n",
    "    # RDPlotter.plot_se([density_incl, density_excl], read_map_regions, density_colors) # density_bg\n",
    "    # read_map_regions = Plotter.plot_se([peak_incl, peak_excl], 'tmp.out') # peak_bg\n",
    "\n",
    "    # despine stuff\n",
    "    for region in read_map_regions[1:3]:\n",
    "        sns.despine(ax=region, top=True, left=True, right=True, bottom=False)\n",
    "        # region.yaxis.set_visible(False)\n",
    "\n",
    "    read_map_regions[1].set_ylabel(label, size=FONTSIZE)\n",
    "    read_map_regions[2].yaxis.set_visible(False)\n",
    "\n",
    "    # read_ymin = 0\n",
    "    # read_ymax = 0.5\n",
    "\n",
    "    for ax in read_map_regions:\n",
    "        ax.tick_params(labelsize=FONTSIZE)\n",
    "        ax.set_ylim(read_ymin, read_ymax)\n",
    "        bulk_lw_adjuster(ax)\n",
    "    \n",
    "    if read_ymin != 0 and read_ymax != 0:\n",
    "        read_map_regions[1].yaxis.set_ticks([read_ymin, 0, read_ymax])\n",
    "        read_map_regions[1].yaxis.set_ticklabels([read_ymin, '0', read_ymax])\n",
    "    else:\n",
    "        read_map_regions[1].yaxis.set_ticks([read_ymin, read_ymax])\n",
    "        read_map_regions[1].yaxis.set_ticklabels([read_ymin, read_ymax])\n",
    "    \n",
    "    for i in range(0, len(read_map_regions)):\n",
    "        renumber_axes(i, read_map_regions)\n",
    "    read_map_regions[1].yaxis.set_visible(True)\n",
    "    sns.despine(ax=read_map_regions[1], top=True, left=False, right=True)\n",
    "    read_map_regions[1].axvline(350, alpha=0.3, linestyle=':', linewidth=0.5) # What why doesn't this line show up??? Produce it manually...\n",
    "    \n",
    "\n",
    "    fig.savefig(output_file)\n",
    "    # plt.close()\n",
    "    \n",
    "def plot_four_panel(incl, excl, bg, mag, read_ymin, read_ymax, output_file, label):\n",
    "    fig = plt.figure(figsize=(4*mag, 1*mag))\n",
    "    full_grid = gridspec.GridSpec(1, 4, height_ratios=[1], )\n",
    "\n",
    "    map_row = gridspec.GridSpecFromSubplotSpec(1, 4, subplot_spec=full_grid[0, 1:4])\n",
    "\n",
    "    read_map_regions = [plt.subplot()]*4\n",
    "\n",
    "    for i in range(4):\n",
    "        read_map_regions[i] = (plt.subplot(map_row[i:i+1]))\n",
    "\n",
    "    density_plotter = Plotter._SEPlotter(lines=[incl, excl, bg], num_regions=4)\n",
    "    read_map_regions = density_plotter.plot(read_map_regions, None)\n",
    "    density_plotter.renumber_axes(2, read_map_regions)\n",
    "\n",
    "    # RDPlotter.plot_se([density_incl, density_excl], read_map_regions, density_colors) # density_bg\n",
    "    # read_map_regions = Plotter.plot_se([peak_incl, peak_excl], 'tmp.out') # peak_bg\n",
    "\n",
    "    # despine stuff\n",
    "    for region in read_map_regions[1:3]:\n",
    "        sns.despine(ax=region, top=True, left=True, right=True, bottom=False)\n",
    "        # region.yaxis.set_visible(False)\n",
    "        \n",
    "    sns.despine(ax=read_map_regions[0], top=True, left=False, right=True, bottom=False)\n",
    "    sns.despine(ax=read_map_regions[3], top=True, left=True, right=False, bottom=False)\n",
    "\n",
    "    read_map_regions[0].set_ylabel(label, size=FONTSIZE)\n",
    "    read_map_regions[3].yaxis.set_visible(False)\n",
    "\n",
    "    # read_ymin = 0\n",
    "    # read_ymax = 0.5\n",
    "\n",
    "    for ax in read_map_regions:\n",
    "        ax.tick_params(labelsize=FONTSIZE)\n",
    "        ax.set_ylim(read_ymin, read_ymax)\n",
    "        bulk_lw_adjuster(ax)\n",
    "        if read_ymin != 0 and read_ymax != 0:\n",
    "            ax.yaxis.set_ticks([read_ymin, 0, read_ymax])\n",
    "            ax.yaxis.set_ticklabels([read_ymin, '0', read_ymax])\n",
    "        else:\n",
    "            ax.yaxis.set_ticks([read_ymin, read_ymax])\n",
    "            ax.yaxis.set_ticklabels([read_ymin, read_ymax])\n",
    "    for i in range(0, len(read_map_regions)):\n",
    "        renumber_axes(i, read_map_regions)\n",
    "    # read_map_regions[1].yaxis.set_visible(True)\n",
    "    # sns.despine(ax=read_map_regions[1], top=True, left=False, right=True)\n",
    "    # read_map_regions[1].axvline(350, alpha=0.3, linestyle=':', linewidth=0.5) # What why doesn't this line show up??? Produce it manually...\n",
    "# incl_peak_patch = mpatches.Patch(color=peak_colors[0], label='Included upon KD (Peak)')\n",
    "# excl_peak_patch = mpatches.Patch(color=peak_colors[1], label='Excluded upon KD (Peak)')\n",
    "# incl_density_patch = mpatches.Patch(color=density_colors[0], label='Included upon KD (Density)')\n",
    "# excl_density_patch = mpatches.Patch(color=density_colors[1], label='Excluded upon KD (Density)')\n",
    "\n",
    "# leg = read_map_regions[0].legend(\n",
    "#     bbox_to_anchor=(2.5, -1.3), loc=1, mode=\"expand\",\n",
    "#     handles=[incl_density_patch, excl_density_patch, incl_peak_patch, excl_peak_patch],\n",
    "#     borderaxespad=0., ncol=2, fontsize=FONTSIZE\n",
    "# )\n",
    "    \n",
    "    fig.savefig(output_file)\n",
    "    # plt.close()\n",
    "\n",
    "def renumber_axes(i, axs):  # TODO dynamically scale this.\n",
    "    if i % 2 == 1:\n",
    "        axs[i].set_xticks([0, 300, 350])\n",
    "        axs[i].set_xticklabels(['-300', '0', '50'])\n",
    "\n",
    "        axs[i].axvline(\n",
    "            300, alpha=0.3, linestyle=':', linewidth=0.5\n",
    "        )\n",
    "        axs[i].axvline(\n",
    "            350, alpha=0.3, linestyle=':', linewidth=0.5\n",
    "        )\n",
    "        axs[i].set_xlim(0, 351)\n",
    "    else:\n",
    "        axs[i].set_xticks([0, 50, 350])\n",
    "        axs[i].set_xticklabels(['-50', '0', '300'])\n",
    "\n",
    "        axs[i].axvline(\n",
    "            0, alpha=0.3, linestyle=':', linewidth=0.5\n",
    "        )\n",
    "        axs[i].axvline(\n",
    "            50, alpha=0.3, linestyle=':', linewidth=0.5\n",
    "        )\n",
    "        axs[i].set_xlim(0, 351)\n",
    "    for tick in axs[i].get_xticklabels():\n",
    "        tick.set_rotation(90)\n",
    "    axs[0].set_ylabel(\"Normalized density\")"
   ]
  },
  {
   "cell_type": "code",
   "execution_count": 6,
   "metadata": {
    "collapsed": true
   },
   "outputs": [],
   "source": [
    "density_dir = '/home/bay001/projects/gabe_qc_20170612/data/'\n",
    "density = defaultdict(dict)\n",
    "\n",
    "hnrnpk_density_included = os.path.join(density_dir, '206_01_HNRNPK.merged.r2.0.conf0.95.HNRNPK-BGHLV12-HepG2-included-upon-knockdown.normed_matrix.txt')\n",
    "hnrnpk_density_excluded = os.path.join(density_dir, '206_01_HNRNPK.merged.r2.0.conf0.95.HNRNPK-BGHLV12-HepG2-excluded-upon-knockdown.normed_matrix.txt')\n",
    "hnrnpk_density_native_cass = os.path.join(density_dir, '206_01_HNRNPK.merged.r2.0.conf0.95.HepG2_native_cassette_exons.normed_matrix.txt')\n",
    "\n",
    "density['included'] = {\n",
    "    'matrix':hnrnpk_density_included,\n",
    "    'color':density_colors[0]\n",
    "}\n",
    "density['excluded'] = {\n",
    "    'matrix':hnrnpk_density_excluded,\n",
    "    'color':density_colors[1]\n",
    "}\n",
    "density['background'] = {\n",
    "    'matrix':hnrnpk_density_native_cass,\n",
    "    'color':density_colors[2]\n",
    "}"
   ]
  },
  {
   "cell_type": "code",
   "execution_count": 7,
   "metadata": {},
   "outputs": [
    {
     "name": "stdout",
     "output_type": "stream",
     "text": [
      "((860, 1400), 'Included upon knockdown (860 events)')\n",
      "((523, 1400), 'Excluded upon knockdown (523 events)')\n",
      "((2555, 1400), 'Native cassettes (2555 events)')\n"
     ]
    },
    {
     "name": "stderr",
     "output_type": "stream",
     "text": [
      "/home/bay001/anaconda2/envs/brian/lib/python2.7/site-packages/matplotlib/font_manager.py:1297: UserWarning: findfont: Font family [u'sans-serif'] not found. Falling back to DejaVu Sans\n",
      "  (prop.get_family(), self.defaultFamily[fontext]))\n"
     ]
    },
    {
     "data": {
      "image/png": "[encoded data removed]",
      "text/plain": [
       "<matplotlib.figure.Figure at 0x2af90310cd90>"
      ]
     },
     "metadata": {},
     "output_type": "display_data"
    }
   ],
   "source": [
    "# plot once with the axes labels\n",
    "incl, excl, bg = get_lines(density)\n",
    "output_file = '/home/bay001/projects/gabe_qc_20170612/analysis/206_01_HNRNPK_ip_density.2pane.svg'\n",
    "plot_two_panel(incl, excl, bg, mag, 0, 0.5, output_file, \"Read Density\")"
   ]
  },
  {
   "cell_type": "code",
   "execution_count": 8,
   "metadata": {},
   "outputs": [
    {
     "data": {
      "image/png": "[encoded data removed]",
      "text/plain": [
       "<matplotlib.figure.Figure at 0x2af90341da90>"
      ]
     },
     "metadata": {},
     "output_type": "display_data"
    }
   ],
   "source": [
    "output_file = '/home/bay001/projects/gabe_qc_20170612/analysis/206_01_HNRNPK_ip_density.svg'\n",
    "plot_four_panel(incl, excl, bg, mag, 0, 0.5, output_file, \"Read Density\")"
   ]
  },
  {
   "cell_type": "code",
   "execution_count": 9,
   "metadata": {},
   "outputs": [],
   "source": [
    "# plot_heatmap(_remove_outliers(pd.read_table(hnrnpk_density_included, sep=',', index_col=0)))\n",
    "# plt.savefig('/home/bay001/projects/gabe_qc_20170612/analysis/206_01_HNRNPK_ip_density.2pane.heatmap.svg')"
   ]
  },
  {
   "cell_type": "markdown",
   "metadata": {},
   "source": [
    "# Plot RBP map  (Input)"
   ]
  },
  {
   "cell_type": "code",
   "execution_count": 10,
   "metadata": {
    "collapsed": true
   },
   "outputs": [],
   "source": [
    "density_dir = '/home/bay001/projects/gabe_qc_20170612/data/'\n",
    "\n",
    "hnrnpk_density_included = os.path.join(density_dir, '206_01_HNRNPK.merged.r2.3.conf0.95.HNRNPK-BGHLV12-HepG2-included-upon-knockdown.normed_matrix.txt')\n",
    "hnrnpk_density_excluded = os.path.join(density_dir, '206_01_HNRNPK.merged.r2.3.conf0.95.HNRNPK-BGHLV12-HepG2-excluded-upon-knockdown.normed_matrix.txt')\n",
    "hnrnpk_density_native_cass = os.path.join(density_dir, '206_01_HNRNPK.merged.r2.3.conf0.95.HepG2_native_cassette_exons.normed_matrix.txt')"
   ]
  },
  {
   "cell_type": "code",
   "execution_count": 11,
   "metadata": {
    "collapsed": true
   },
   "outputs": [],
   "source": [
    "density = defaultdict(dict)\n",
    "\n",
    "density['included'] = {\n",
    "    'matrix':hnrnpk_density_included,\n",
    "    'color':density_colors[0]\n",
    "}\n",
    "density['excluded'] = {\n",
    "    'matrix':hnrnpk_density_excluded,\n",
    "    'color':density_colors[1]\n",
    "}\n",
    "density['background'] = {\n",
    "    'matrix':hnrnpk_density_native_cass,\n",
    "    'color':density_colors[2]\n",
    "}"
   ]
  },
  {
   "cell_type": "code",
   "execution_count": 12,
   "metadata": {},
   "outputs": [
    {
     "name": "stdout",
     "output_type": "stream",
     "text": [
      "((860, 1400), 'Included upon knockdown (860 events)')\n",
      "((523, 1400), 'Excluded upon knockdown (523 events)')\n",
      "((2555, 1400), 'Native cassettes (2555 events)')\n"
     ]
    },
    {
     "data": {
      "image/png": "[encoded data removed]",
      "text/plain": [
       "<matplotlib.figure.Figure at 0x2af90b912cd0>"
      ]
     },
     "metadata": {},
     "output_type": "display_data"
    }
   ],
   "source": [
    "# plot once with the axes labels\n",
    "incl, excl, bg = get_lines(density)\n",
    "output_file = '/home/bay001/projects/gabe_qc_20170612/analysis/206_01_HNRNPK_input_density.2pane.svg'\n",
    "\n",
    "plot_two_panel(incl, excl, bg, mag, 0, 0.5, output_file, \"Read Density\")"
   ]
  },
  {
   "cell_type": "code",
   "execution_count": 13,
   "metadata": {},
   "outputs": [
    {
     "name": "stdout",
     "output_type": "stream",
     "text": [
      "((860, 1400), 'Included upon knockdown (860 events)')\n",
      "((523, 1400), 'Excluded upon knockdown (523 events)')\n",
      "((2555, 1400), 'Native cassettes (2555 events)')\n"
     ]
    },
    {
     "data": {
      "image/png": "[encoded data removed]",
      "text/plain": [
       "<matplotlib.figure.Figure at 0x2af9064fc210>"
      ]
     },
     "metadata": {},
     "output_type": "display_data"
    }
   ],
   "source": [
    "# plot once with the axes labels\n",
    "incl, excl, bg = get_lines(density)\n",
    "output_file = '/home/bay001/projects/gabe_qc_20170612/analysis/206_01_HNRNPK_input_density.svg'\n",
    "\n",
    "plot_four_panel(incl, excl, bg, mag, 0, 0.5, output_file, \"Read Density\")"
   ]
  },
  {
   "cell_type": "code",
   "execution_count": 14,
   "metadata": {},
   "outputs": [],
   "source": [
    "# plot_heatmap(_remove_outliers(pd.read_table(hnrnpk_density_included, sep=',', index_col=0)))\n",
    "# plt.savefig('/home/bay001/projects/gabe_qc_20170612/analysis/206_01_HNRNPK_input_density.2pane.heatmap.svg')"
   ]
  },
  {
   "cell_type": "markdown",
   "metadata": {},
   "source": [
    "# Now plot the normalized version"
   ]
  },
  {
   "cell_type": "code",
   "execution_count": 15,
   "metadata": {
    "collapsed": true
   },
   "outputs": [],
   "source": [
    "density_dir = '/home/bay001/projects/gabe_qc_20170612/data/'\n",
    "hnrnpk_density_included = os.path.join(density_dir, '206_01_HNRNPK.merged.r2.1.conf0.95.HNRNPK-BGHLV12-HepG2-included-upon-knockdown.normed_matrix.txt')\n",
    "hnrnpk_density_excluded = os.path.join(density_dir, '206_01_HNRNPK.merged.r2.1.conf0.95.HNRNPK-BGHLV12-HepG2-excluded-upon-knockdown.normed_matrix.txt')\n",
    "hnrnpk_density_native_cass = os.path.join(density_dir, '206_01_HNRNPK.merged.r2.1.conf0.95.HepG2_native_cassette_exons.normed_matrix.txt')"
   ]
  },
  {
   "cell_type": "code",
   "execution_count": 16,
   "metadata": {
    "collapsed": true
   },
   "outputs": [],
   "source": [
    "density = defaultdict(dict)\n",
    "\n",
    "density['included'] = {\n",
    "    'matrix':hnrnpk_density_included,\n",
    "    'color':density_colors[0]\n",
    "}\n",
    "density['excluded'] = {\n",
    "    'matrix':hnrnpk_density_excluded,\n",
    "    'color':density_colors[1]\n",
    "}\n",
    "density['background'] = {\n",
    "    'matrix':hnrnpk_density_native_cass,\n",
    "    'color':density_colors[2]\n",
    "}"
   ]
  },
  {
   "cell_type": "code",
   "execution_count": 17,
   "metadata": {},
   "outputs": [
    {
     "name": "stdout",
     "output_type": "stream",
     "text": [
      "((860, 1400), 'Included upon knockdown (860 events)')\n",
      "((523, 1400), 'Excluded upon knockdown (523 events)')\n",
      "((2555, 1400), 'Native cassettes (2555 events)')\n"
     ]
    },
    {
     "data": {
      "image/png": "[encoded data removed]",
      "text/plain": [
       "<matplotlib.figure.Figure at 0x2af908c22810>"
      ]
     },
     "metadata": {},
     "output_type": "display_data"
    }
   ],
   "source": [
    "# plot once with the axes labels\n",
    "incl, excl, bg = get_lines(density)\n",
    "output_file = '/home/bay001/projects/gabe_qc_20170612/analysis/206_01_HNRNPK_normalized_subtract_density.2pane.svg'\n",
    "\n",
    "plot_two_panel(incl, excl, bg, mag, -0.0004, 0.0002, output_file, \"Read Density\")"
   ]
  },
  {
   "cell_type": "code",
   "execution_count": 18,
   "metadata": {},
   "outputs": [
    {
     "name": "stdout",
     "output_type": "stream",
     "text": [
      "((860, 1400), 'Included upon knockdown (860 events)')\n",
      "((523, 1400), 'Excluded upon knockdown (523 events)')\n",
      "((2555, 1400), 'Native cassettes (2555 events)')\n"
     ]
    },
    {
     "data": {
      "image/png": "[encoded data removed]",
      "text/plain": [
       "<matplotlib.figure.Figure at 0x2af8bc851f50>"
      ]
     },
     "metadata": {},
     "output_type": "display_data"
    }
   ],
   "source": [
    "# plot once with the axes labels\n",
    "incl, excl, bg = get_lines(density)\n",
    "output_file = '/home/bay001/projects/gabe_qc_20170612/analysis/206_01_HNRNPK_normalized_subtract_density.svg'\n",
    "\n",
    "plot_four_panel(incl, excl, bg, mag, -0.0004, 0.0002, output_file, \"Read Density\")"
   ]
  },
  {
   "cell_type": "code",
   "execution_count": 19,
   "metadata": {},
   "outputs": [],
   "source": [
    "# plot_heatmap(_remove_outliers(pd.read_table(hnrnpk_density_included, sep=',', index_col=0)))\n",
    "# plt.savefig('/home/bay001/projects/gabe_qc_20170612/analysis/206_01_HNRNPK_normalized_subtract_density.2pane.heatmap.svg')"
   ]
  },
  {
   "cell_type": "markdown",
   "metadata": {
    "collapsed": true
   },
   "source": [
    "# Plot the entropy normalized version"
   ]
  },
  {
   "cell_type": "code",
   "execution_count": 20,
   "metadata": {
    "collapsed": true
   },
   "outputs": [],
   "source": [
    "density_dir = '/home/bay001/projects/gabe_qc_20170612/data/'\n",
    "hnrnpk_density_included = os.path.join(density_dir, '206_01_HNRNPK.merged.r2.2.conf0.95.HNRNPK-BGHLV12-HepG2-included-upon-knockdown.normed_matrix.txt')\n",
    "hnrnpk_density_excluded = os.path.join(density_dir, '206_01_HNRNPK.merged.r2.2.conf0.95.HNRNPK-BGHLV12-HepG2-excluded-upon-knockdown.normed_matrix.txt')\n",
    "hnrnpk_density_native_cass = os.path.join(density_dir, '206_01_HNRNPK.merged.r2.2.conf0.95.HepG2_native_cassette_exons.normed_matrix.txt')"
   ]
  },
  {
   "cell_type": "code",
   "execution_count": 21,
   "metadata": {
    "collapsed": true
   },
   "outputs": [],
   "source": [
    "density = defaultdict(dict)\n",
    "\n",
    "density['included'] = {\n",
    "    'matrix':hnrnpk_density_included,\n",
    "    'color':density_colors[0]\n",
    "}\n",
    "density['excluded'] = {\n",
    "    'matrix':hnrnpk_density_excluded,\n",
    "    'color':density_colors[1]\n",
    "}\n",
    "density['background'] = {\n",
    "    'matrix':hnrnpk_density_native_cass,\n",
    "    'color':density_colors[2]\n",
    "}"
   ]
  },
  {
   "cell_type": "code",
   "execution_count": 22,
   "metadata": {},
   "outputs": [
    {
     "name": "stdout",
     "output_type": "stream",
     "text": [
      "((860, 1400), 'Included upon knockdown (860 events)')\n",
      "((523, 1400), 'Excluded upon knockdown (523 events)')\n",
      "((2555, 1400), 'Native cassettes (2555 events)')\n"
     ]
    },
    {
     "data": {
      "image/png": "[encoded data removed]",
      "text/plain": [
       "<matplotlib.figure.Figure at 0x2af9099ac990>"
      ]
     },
     "metadata": {},
     "output_type": "display_data"
    }
   ],
   "source": [
    "# plot once with the axes labels\n",
    "incl, excl, bg = get_lines(density)\n",
    "output_file = '/home/bay001/projects/gabe_qc_20170612/analysis/206_01_HNRNPK_normalized_entropy_density.2pane.svg'\n",
    "\n",
    "plot_two_panel(incl, excl, bg, mag, -0.0000003, 0.0000006, output_file, \"Read Density\")"
   ]
  },
  {
   "cell_type": "code",
   "execution_count": 23,
   "metadata": {},
   "outputs": [
    {
     "name": "stdout",
     "output_type": "stream",
     "text": [
      "((860, 1400), 'Included upon knockdown (860 events)')\n",
      "((523, 1400), 'Excluded upon knockdown (523 events)')\n",
      "((2555, 1400), 'Native cassettes (2555 events)')\n"
     ]
    },
    {
     "data": {
      "image/png": "[encoded data removed]",
      "text/plain": [
       "<matplotlib.figure.Figure at 0x2af8bcd70c10>"
      ]
     },
     "metadata": {},
     "output_type": "display_data"
    }
   ],
   "source": [
    "# plot once with the axes labels\n",
    "incl, excl, bg = get_lines(density)\n",
    "output_file = '/home/bay001/projects/gabe_qc_20170612/analysis/206_01_HNRNPK_normalized_entropy_density.svg'\n",
    "\n",
    "plot_four_panel(incl, excl, bg, mag, -0.0000003, 0.0000006, output_file, \"Read Density\")"
   ]
  },
  {
   "cell_type": "code",
   "execution_count": 24,
   "metadata": {},
   "outputs": [],
   "source": [
    "# plot_heatmap(_remove_outliers(pd.read_table(hnrnpk_density_included, sep=',', index_col=0)))\n",
    "# plt.savefig('/home/bay001/projects/gabe_qc_20170612/analysis/206_01_HNRNPK_normalized_entropy_density.2pane.heatmap.svg')"
   ]
  },
  {
   "cell_type": "markdown",
   "metadata": {
    "collapsed": true
   },
   "source": [
    "# 11/10 changes\n",
    "- Plot accompanying heatmaps\n",
    "    - see above plot_heatmap() function "
   ]
  },
  {
   "cell_type": "code",
   "execution_count": null,
   "metadata": {
    "collapsed": true
   },
   "outputs": [],
   "source": []
  },
  {
   "cell_type": "code",
   "execution_count": null,
   "metadata": {
    "collapsed": true
   },
   "outputs": [],
   "source": []
  },
  {
   "cell_type": "code",
   "execution_count": null,
   "metadata": {
    "collapsed": true
   },
   "outputs": [],
   "source": []
  }
 ],
 "metadata": {
  "kernelspec": {
   "display_name": "anchor",
   "language": "python",
   "name": "python2"
  },
  "language_info": {
   "codemirror_mode": {
    "name": "ipython",
    "version": 2
   },
   "file_extension": ".py",
   "mimetype": "text/x-python",
   "name": "python",
   "nbconvert_exporter": "python",
   "pygments_lexer": "ipython2",
   "version": "2.7.13"
  }
 },
 "nbformat": 4,
 "nbformat_minor": 2
}
