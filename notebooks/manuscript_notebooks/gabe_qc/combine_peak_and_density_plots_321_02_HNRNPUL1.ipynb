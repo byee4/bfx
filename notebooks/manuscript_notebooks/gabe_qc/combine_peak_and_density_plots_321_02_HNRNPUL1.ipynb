{
 "cells": [
  {
   "cell_type": "code",
   "execution_count": 2,
   "metadata": {},
   "outputs": [
    {
     "name": "stderr",
     "output_type": "stream",
     "text": [
      "/home/bay001/anaconda2/envs/brian/lib/python2.7/site-packages/matplotlib/__init__.py:1350: UserWarning:  This call to matplotlib.use() has no effect\n",
      "because the backend has already been chosen;\n",
      "matplotlib.use() must be called *before* pylab, matplotlib.pyplot,\n",
      "or matplotlib.backends is imported for the first time.\n",
      "\n",
      "  warnings.warn(_use_error_msg)\n"
     ]
    },
    {
     "data": {
      "image/png": "[encoded data removed]",
      "text/plain": [
       "<matplotlib.figure.Figure at 0x2b2235d27c90>"
      ]
     },
     "metadata": {},
     "output_type": "display_data"
    }
   ],
   "source": [
    "%matplotlib inline\n",
    "import seaborn as sns\n",
    "import pandas as pd\n",
    "import numpy as np\n",
    "import os\n",
    "import sys\n",
    "import matplotlib\n",
    "import matplotlib.pyplot as plt\n",
    "from matplotlib import rc\n",
    "\n",
    "rc('text', usetex=False)\n",
    "matplotlib.rcParams['svg.fonttype'] = 'none'\n",
    "rc('font', **{'family': 'sans-serif', 'sans-serif': ['Helvetica']})\n",
    "\n",
    "sys.path.insert(0, '/home/bay001/projects/codebase/rbp-maps/maps/')\n",
    "from density import Map\n",
    "from density import ReadDensity\n",
    "from density import normalization_functions\n",
    "from density import RDPlotter\n",
    "from density import LineObject as dline\n",
    "from peak import LineObject as pline\n",
    "from peak import PeakPlotter\n",
    "\n",
    "sns.set_style(\"ticks\")\n",
    "sns.set_context(\"talk\", font_scale=1.4)\n",
    "\n",
    "sns.palplot(sns.color_palette(\"hls\", 16))\n",
    "colors = sns.color_palette(\"hls\", 16)\n",
    "density_colors = [colors[0], colors[15], 'black']\n",
    "peak_colors = [colors[9], colors[8], 'black']"
   ]
  },
  {
   "cell_type": "code",
   "execution_count": 3,
   "metadata": {
    "collapsed": true
   },
   "outputs": [],
   "source": [
    "density_dir = '/projects/ps-yeolab3/bay001/maps/current/se'\n",
    "peak_dir = '/projects/ps-yeolab3/bay001/maps/current/se_peak'\n",
    "\n",
    "rbfox2_density_included = os.path.join(density_dir, '321_02_HNRNPUL1.merged.r2.1.HNRNPUL1-BGHLV26-HepG2-included-upon-knockdown.normed_matrix.txt')\n",
    "rbfox2_density_excluded = os.path.join(density_dir, '321_02_HNRNPUL1.merged.r2.1.HNRNPUL1-BGHLV26-HepG2-excluded-upon-knockdown.normed_matrix.txt')\n",
    "rbfox2_density_native_cass = os.path.join(density_dir, '321_02_HNRNPUL1.merged.r2.1.HepG2_native_cassette_exons.normed_matrix.txt')\n"
   ]
  },
  {
   "cell_type": "code",
   "execution_count": 4,
   "metadata": {},
   "outputs": [
    {
     "data": {
      "text/plain": [
       "\"\\npeak_bg = pline.LineObject(\\n    infile=rbfox2_peak_bed,\\n    out_hist=out_excl_hist,\\n    annotation=peak_bg_annotation,\\n    l10p_cutoff=p,\\n    l2fc_cutoff=fc,\\n    hashing_val=100000,\\n    event_type='se',\\n    exon_overhang=50,\\n    intron_overhang=300,\\n    color='black',\\n    min_event_threshold=10000000\\n)\""
      ]
     },
     "execution_count": 4,
     "metadata": {},
     "output_type": "execute_result"
    }
   ],
   "source": [
    "p=0\n",
    "fc=0\n",
    "\n",
    "peak_dir = '/home/elvannostrand/data/clip/CLIPseq_analysis/ENCODE_CLIPperv2_20161120/'\n",
    "peak_annotation_dir = '/projects/ps-yeolab3/bay001/maps/current_annotations/as_miso_renamed'\n",
    "\n",
    "out_incl_hist = '/projects/ps-yeolab3/bay001/maps/test/incl.txt'# temp file\n",
    "out_excl_hist = '/projects/ps-yeolab3/bay001/maps/test/excl.txt'# temp file\n",
    "out_excl_hist = '/projects/ps-yeolab3/bay001/maps/test/bg.txt'# temp file\n",
    "\n",
    "rbfox2_peak_bed = os.path.join(peak_dir, '321_02.basedon_321_02.peaks.l2inputnormnew.bed.compressed.bed')\n",
    "peak_included_annotation = os.path.join(peak_annotation_dir, 'HNRNPUL1-BGHLV26-HepG2-included-upon-knockdown')\n",
    "peak_excluded_annotation = os.path.join(peak_annotation_dir, 'HNRNPUL1-BGHLV26-HepG2-excluded-upon-knockdown')\n",
    "peak_bg_annotation = os.path.join(peak_annotation_dir, 'HepG2-native-cassette-exons.miso')\n",
    "\n",
    "peak_incl = pline.LineObject(\n",
    "    infile=rbfox2_peak_bed,\n",
    "    out_hist=out_incl_hist,\n",
    "    annotation=peak_included_annotation,\n",
    "    l10p_cutoff=p,\n",
    "    l2fc_cutoff=fc,\n",
    "    hashing_val=100000,\n",
    "    event_type='se',\n",
    "    exon_overhang=50,\n",
    "    intron_overhang=300,\n",
    "    color=peak_colors[0],\n",
    "    min_event_threshold=100\n",
    ")\n",
    "\n",
    "peak_excl = pline.LineObject(\n",
    "    infile=rbfox2_peak_bed,\n",
    "    out_hist=out_excl_hist,\n",
    "    annotation=peak_excluded_annotation,\n",
    "    l10p_cutoff=p,\n",
    "    l2fc_cutoff=fc,\n",
    "    hashing_val=100000,\n",
    "    event_type='se',\n",
    "    exon_overhang=50,\n",
    "    intron_overhang=300,\n",
    "    color=peak_colors[1],\n",
    "    min_event_threshold=100\n",
    ")\n",
    "\"\"\"\n",
    "peak_bg = pline.LineObject(\n",
    "    infile=rbfox2_peak_bed,\n",
    "    out_hist=out_excl_hist,\n",
    "    annotation=peak_bg_annotation,\n",
    "    l10p_cutoff=p,\n",
    "    l2fc_cutoff=fc,\n",
    "    hashing_val=100000,\n",
    "    event_type='se',\n",
    "    exon_overhang=50,\n",
    "    intron_overhang=300,\n",
    "    color='black',\n",
    "    min_event_threshold=10000000\n",
    ")\"\"\""
   ]
  },
  {
   "cell_type": "code",
   "execution_count": 5,
   "metadata": {},
   "outputs": [
    {
     "name": "stdout",
     "output_type": "stream",
     "text": [
      "((126, 1400), 'Included upon knockdown (126 events)')\n",
      "((102, 1400), 'Excluded upon knockdown (102 events)')\n"
     ]
    },
    {
     "data": {
      "text/plain": [
       "\"\\ndensity_bg = dline.LineObject(\\n    event_matrix=pd.read_table(rbfox2_density_native_cass, sep=',', index_col=0),\\n    annotation='Native cassettes',\\n    conf=0.95,\\n    color='black',\\n    min_event_threshold=100000000\\n)\""
      ]
     },
     "execution_count": 5,
     "metadata": {},
     "output_type": "execute_result"
    }
   ],
   "source": [
    "density_incl = dline.LineObject(\n",
    "    event_matrix=pd.read_table(rbfox2_density_included, sep=',', index_col=0),\n",
    "    annotation='Included upon knockdown',\n",
    "    conf=0.95,\n",
    "    color=density_colors[0], # blueish\n",
    "    min_event_threshold=100\n",
    ")\n",
    "density_excl = dline.LineObject(\n",
    "    event_matrix=pd.read_table(rbfox2_density_excluded, sep=',', index_col=0),\n",
    "    annotation='Excluded upon knockdown',\n",
    "    conf=0.95,\n",
    "    color=density_colors[1], # reddish\n",
    "    min_event_threshold=100\n",
    ")\n",
    "\"\"\"\n",
    "density_bg = dline.LineObject(\n",
    "    event_matrix=pd.read_table(rbfox2_density_native_cass, sep=',', index_col=0),\n",
    "    annotation='Native cassettes',\n",
    "    conf=0.95,\n",
    "    color='black',\n",
    "    min_event_threshold=100000000\n",
    ")\"\"\""
   ]
  },
  {
   "cell_type": "code",
   "execution_count": 7,
   "metadata": {},
   "outputs": [
    {
     "data": {
      "image/png": "[encoded data removed]",
      "text/plain": [
       "<matplotlib.figure.Figure at 0x2b2239db1410>"
      ]
     },
     "metadata": {},
     "output_type": "display_data"
    }
   ],
   "source": [
    "import matplotlib.patches as mpatches\n",
    "import matplotlib\n",
    "\n",
    "f, (ax1, ax2, ax3, ax4) = plt.subplots(1, 4, sharey=True, figsize=(4, 1))\n",
    "\n",
    "\n",
    "axs = [ax1, ax2, ax3, ax4]\n",
    "\n",
    "ax5 = ax1.twinx()\n",
    "ax6 = ax2.twinx()\n",
    "ax7 = ax3.twinx()\n",
    "ax8 = ax4.twinx()\n",
    "\n",
    "paxs = [ax5, ax6, ax7, ax8]\n",
    "\n",
    "\n",
    "    \n",
    "# ax1.set_ylim(-0.001, 0.001)\n",
    "FONTSIZE = 8\n",
    "\n",
    "RDPlotter.plot_se([density_incl, density_excl], axs, density_colors) # density_bg\n",
    "PeakPlotter.plot_se([peak_incl, peak_excl], paxs, legend=False) # peak_bg\n",
    "ax1.set_ylabel(\"Normalized Read Density\\n(1e-4)\", size=FONTSIZE)\n",
    "ax5.yaxis.set_visible(False)\n",
    "ax8.yaxis.set_visible(True)\n",
    "ax8.set_ylabel(\"Normalized Peak Density\", rotation=270, size=FONTSIZE)\n",
    "\n",
    "\n",
    "# plt.tight_layout()\n",
    "\n",
    "for ax in axs:\n",
    "    ax.tick_params(labelsize=FONTSIZE)\n",
    "    ax.set_ylim(-0.0007, 0.0007)\n",
    "    \n",
    "for ax in paxs:\n",
    "    ax.tick_params(labelsize=FONTSIZE)\n",
    "    ax.set_ylim(-0.1, 0.1)\n",
    "\n",
    "ax1.yaxis.set_ticks([-.0007,0,0.0007])\n",
    "ax1.yaxis.set_ticklabels([-7, 0,7])\n",
    "sns.despine(ax=ax1, top=True, left=False, right=True)\n",
    "\n",
    "ax8.yaxis.set_ticks([-.1,0,0.1])\n",
    "ax8.yaxis.set_ticklabels([-0.1,0,0.1])\n",
    "sns.despine(ax=ax8, top=True, left=True, right=False)\n",
    "ax8.yaxis.tick_right()\n",
    "ax8.yaxis.set_label_coords(2, 0.5) \n",
    "\n",
    "incl_peak_patch = mpatches.Patch(color=peak_colors[0], label='Included upon KD (Peak)')\n",
    "excl_peak_patch = mpatches.Patch(color=peak_colors[1], label='Excluded upon KD (Peak)')\n",
    "incl_density_patch = mpatches.Patch(color=density_colors[0], label='Included upon KD (Density)')\n",
    "excl_density_patch = mpatches.Patch(color=density_colors[1], label='Excluded upon KD (Density)')\n",
    "\n",
    "leg = axs[0].legend(\n",
    "    bbox_to_anchor=(2.5, -0.6), loc=1, mode=\"expand\",\n",
    "    handles=[incl_density_patch, excl_density_patch, incl_peak_patch, excl_peak_patch],\n",
    "    borderaxespad=0., ncol=2, fontsize=FONTSIZE\n",
    ")\n",
    "f.savefig('/home/bay001/projects/gabe_qc_20170612/analysis/321_02_HNRNPUL1_peak_vs_density.svg')"
   ]
  },
  {
   "cell_type": "code",
   "execution_count": null,
   "metadata": {
    "collapsed": true
   },
   "outputs": [],
   "source": []
  },
  {
   "cell_type": "code",
   "execution_count": null,
   "metadata": {
    "collapsed": true
   },
   "outputs": [],
   "source": []
  },
  {
   "cell_type": "code",
   "execution_count": null,
   "metadata": {
    "collapsed": true
   },
   "outputs": [],
   "source": []
  }
 ],
 "metadata": {
  "kernelspec": {
   "display_name": "Python 2",
   "language": "python",
   "name": "python2"
  },
  "language_info": {
   "codemirror_mode": {
    "name": "ipython",
    "version": 2
   },
   "file_extension": ".py",
   "mimetype": "text/x-python",
   "name": "python",
   "nbconvert_exporter": "python",
   "pygments_lexer": "ipython2",
   "version": "2.7.13"
  }
 },
 "nbformat": 4,
 "nbformat_minor": 2
}
