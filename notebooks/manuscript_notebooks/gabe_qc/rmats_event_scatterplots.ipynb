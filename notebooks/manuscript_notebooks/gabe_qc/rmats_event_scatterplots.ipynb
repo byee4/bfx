{
 "cells": [
  {
   "cell_type": "code",
   "execution_count": 70,
   "metadata": {
    "collapsed": true
   },
   "outputs": [],
   "source": [
    "% matplotlib inline\n",
    "import matplotlib.pyplot as plt\n",
    "import seaborn as sns\n",
    "import pandas as pd\n",
    "import os\n",
    "import glob\n",
    "import numpy as np\n",
    "from tqdm import tnrange, tqdm_notebook\n",
    "from collections import defaultdict"
   ]
  },
  {
   "cell_type": "code",
   "execution_count": 2,
   "metadata": {
    "collapsed": true
   },
   "outputs": [],
   "source": [
    "wd = '/projects/ps-yeolab3/bay001/maps/current_annotations/se/'\n",
    "all_positive_events = glob.glob(os.path.join(wd,'*.positive.nr.txt'))\n",
    "all_negative_events = glob.glob(os.path.join(wd,'*.negative.nr.txt'))\n"
   ]
  },
  {
   "cell_type": "code",
   "execution_count": 159,
   "metadata": {
    "collapsed": true
   },
   "outputs": [],
   "source": [
    "def calculate_event_num(df, fdr, dpsi):\n",
    "    dfx = df[(df['FDR'] < fdr) & (df['IncLevelDifference'] < -dpsi)]\n",
    "    num_events = dfx.shape[0]\n",
    "    return num_events\n",
    "\n",
    "def calculate_event_nums_in_range(rmats_file, fdr_range, dpsi_range, pass_threshold=100):\n",
    "    results_dict = defaultdict(list)\n",
    "    nice_name = os.path.basename(rmats_file).replace('-SE.MATS.JunctionCountOnly','').replace('.nr.txt','')\n",
    "    df = pd.read_table(rmats_file)\n",
    "    for fdr in fdr_range:\n",
    "        for dpsi in dpsi_range:\n",
    "            key = fdr, dpsi\n",
    "            if calculate_event_num(df, fdr, dpsi) >= pass_threshold:\n",
    "                results_dict[key].append(1)\n",
    "            else:\n",
    "                results_dict[key].append(0)\n",
    "    dfs = pd.DataFrame(results_dict).T # .reset_index()\n",
    "    dfs.columns = [nice_name]\n",
    "    return dfs"
   ]
  },
  {
   "cell_type": "code",
   "execution_count": 94,
   "metadata": {},
   "outputs": [
    {
     "data": {
      "application/vnd.jupyter.widget-view+json": {
       "model_id": "3a82e5337f90415d92e3322b454d6e94"
      }
     },
     "metadata": {},
     "output_type": "display_data"
    }
   ],
   "source": [
    "fdr_range = map(lambda x: x/100.0, range(0, 100, 1))\n",
    "dpsi_range = map(lambda x: x/100.0, range(0, 100, 1))\n",
    "\n",
    "progress = tnrange(len(all_positive_events))\n",
    "\n",
    "merged = calculate_event_nums_in_range(\n",
    "    all_positive_events[0],\n",
    "    fdr_range, \n",
    "    dpsi_range\n",
    ")\n",
    "progress.update(1)\n",
    "for event in all_positive_events[1:]:\n",
    "    s = calculate_event_nums_in_range(\n",
    "        event, \n",
    "        fdr_range, \n",
    "        dpsi_range\n",
    "    )\n",
    "    merged = pd.merge(merged, s, how='left', left_index=True, right_index=True)\n",
    "    progress.update(1)\n",
    "merged['summed'] = merged.sum(axis=1)\n",
    "merged = merged.reset_index()\n",
    "merged = merged[['level_0', 'level_1', 'summed']]"
   ]
  },
  {
   "cell_type": "code",
   "execution_count": 119,
   "metadata": {},
   "outputs": [],
   "source": [
    "merged.columns = ['FDR','IncLevelDifference','Number RBPs with at least 100 events']"
   ]
  },
  {
   "cell_type": "code",
   "execution_count": 154,
   "metadata": {},
   "outputs": [
    {
     "data": {
      "text/plain": [
       "<matplotlib.text.Text at 0x2b18b0b765d0>"
      ]
     },
     "execution_count": 154,
     "metadata": {},
     "output_type": "execute_result"
    },
    {
     "data": {
      "image/png": "[encoded data removed]",
      "text/plain": [
       "<matplotlib.figure.Figure at 0x2b18b0449c50>"
      ]
     },
     "metadata": {},
     "output_type": "display_data"
    }
   ],
   "source": [
    "plt.scatter(\n",
    "    merged['IncLevelDifference'], \n",
    "    merged['FDR'], \n",
    "    c=merged['Number RBPs with at least 100 events'],\n",
    "    cmap='Blues',\n",
    "    marker='s',\n",
    "    s=200\n",
    ")\n",
    "cb = plt.colorbar()\n",
    "cb.set_label(\n",
    "    \"Number of Significant RBPs\", \n",
    "    labelpad=10)\n",
    "\n",
    "plt.xlabel('IncLevelDifference')\n",
    "plt.ylabel('FDR')\n",
    "plt.ylim(0, 0.2)\n",
    "plt.xlim(0, 0.5)\n",
    "plt.title(\"RBPs with at least 100 significant Included Events\", y=1.08)"
   ]
  },
  {
   "cell_type": "code",
   "execution_count": 160,
   "metadata": {},
   "outputs": [
    {
     "data": {
      "application/vnd.jupyter.widget-view+json": {
       "model_id": "d922c4dfdaf34d32bb8fd839c54261e0"
      }
     },
     "metadata": {},
     "output_type": "display_data"
    }
   ],
   "source": [
    "fdr_range = map(lambda x: x/100.0, range(0, 100, 1))\n",
    "dpsi_range = map(lambda x: x/100.0, range(0, 100, 1))\n",
    "\n",
    "progress = tnrange(len(all_negative_events))\n",
    "\n",
    "n_merged = calculate_event_nums_in_range(\n",
    "    all_negative_events[0],\n",
    "    fdr_range, \n",
    "    dpsi_range\n",
    ")\n",
    "progress.update(1)\n",
    "for event in all_negative_events[1:]:\n",
    "    s = calculate_event_nums_in_range(\n",
    "        event, \n",
    "        fdr_range, \n",
    "        dpsi_range\n",
    "    )\n",
    "    n_merged = pd.merge(\n",
    "        n_merged, \n",
    "        s, \n",
    "        how='left', \n",
    "        left_index=True, \n",
    "        right_index=True\n",
    "    )\n",
    "    progress.update(1)\n",
    "n_merged['summed'] = n_merged.sum(axis=1)\n",
    "n_merged = n_merged.reset_index()\n",
    "n_merged = n_merged[['level_0', 'level_1', 'summed']]"
   ]
  },
  {
   "cell_type": "code",
   "execution_count": 161,
   "metadata": {},
   "outputs": [
    {
     "data": {
      "text/plain": [
       "<matplotlib.text.Text at 0x2b18b00df2d0>"
      ]
     },
     "execution_count": 161,
     "metadata": {},
     "output_type": "execute_result"
    },
    {
     "data": {
      "image/png": "[encoded data removed]",
      "text/plain": [
       "<matplotlib.figure.Figure at 0x2b18b138d910>"
      ]
     },
     "metadata": {},
     "output_type": "display_data"
    }
   ],
   "source": [
    "n_merged.columns = ['FDR','IncLevelDifference','Number RBPs with at least 100 events']\n",
    "plt.scatter(\n",
    "    n_merged['IncLevelDifference'], \n",
    "    n_merged['FDR'], \n",
    "    c=n_merged['Number RBPs with at least 100 events'],\n",
    "    cmap='Reds',\n",
    "    marker='s',\n",
    "    s=200\n",
    ")\n",
    "cb = plt.colorbar()\n",
    "cb.set_label(\n",
    "    \"Number of Significant RBPs\", \n",
    "    labelpad=10)\n",
    "\n",
    "plt.xlabel('IncLevelDifference')\n",
    "plt.ylabel('FDR')\n",
    "plt.ylim(0, 0.2)\n",
    "plt.xlim(0, 0.5)\n",
    "plt.title(\"RBPs with at least 100 significant Excluded Events\", y=1.08)"
   ]
  },
  {
   "cell_type": "code",
   "execution_count": 54,
   "metadata": {},
   "outputs": [],
   "source": []
  },
  {
   "cell_type": "code",
   "execution_count": null,
   "metadata": {
    "collapsed": true
   },
   "outputs": [],
   "source": []
  }
 ],
 "metadata": {
  "kernelspec": {
   "display_name": "Python 2",
   "language": "python",
   "name": "python2"
  },
  "language_info": {
   "codemirror_mode": {
    "name": "ipython",
    "version": 2
   },
   "file_extension": ".py",
   "mimetype": "text/x-python",
   "name": "python",
   "nbconvert_exporter": "python",
   "pygments_lexer": "ipython2",
   "version": "2.7.13"
  }
 },
 "nbformat": 4,
 "nbformat_minor": 2
}
