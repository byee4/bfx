{
 "cells": [
  {
   "cell_type": "code",
   "execution_count": null,
   "metadata": {
    "collapsed": true
   },
   "outputs": [],
   "source": []
  },
  {
   "cell_type": "code",
   "execution_count": 1,
   "metadata": {},
   "outputs": [
    {
     "name": "stderr",
     "output_type": "stream",
     "text": [
      "/home/bay001/anaconda2/envs/brian/lib/python2.7/site-packages/matplotlib/__init__.py:1405: UserWarning: \n",
      "This call to matplotlib.use() has no effect because the backend has already\n",
      "been chosen; matplotlib.use() must be called *before* pylab, matplotlib.pyplot,\n",
      "or matplotlib.backends is imported for the first time.\n",
      "\n",
      "  warnings.warn(_use_error_msg)\n"
     ]
    },
    {
     "data": {
      "image/png": "[encoded data removed]",
      "text/plain": [
       "<matplotlib.figure.Figure at 0x2ab0b2efa110>"
      ]
     },
     "metadata": {},
     "output_type": "display_data"
    }
   ],
   "source": [
    "%matplotlib inline\n",
    "import seaborn as sns\n",
    "import pandas as pd\n",
    "import numpy as np\n",
    "import os\n",
    "import sys\n",
    "import matplotlib\n",
    "import matplotlib.pyplot as plt\n",
    "from matplotlib import rc\n",
    "import matplotlib.gridspec as gridspec\n",
    "import matplotlib.patches as mpatches\n",
    "\n",
    "rc('text', usetex=False)\n",
    "matplotlib.rcParams['svg.fonttype'] = 'none'\n",
    "rc('font', **{'family': 'sans-serif', 'sans-serif': ['Helvetica']})\n",
    "\n",
    "sys.path.insert(0, '/home/bay001/projects/codebase/rbp-maps/maps/')\n",
    "from density import Map\n",
    "from density import ReadDensity\n",
    "from density import normalization_functions\n",
    "from density import LineObject as dline\n",
    "from peak import LineObject as pline\n",
    "from plotter import Plotter\n",
    "\n",
    "sns.set_style(\"ticks\")\n",
    "sns.set_context(\"talk\", font_scale=1.4)\n",
    "\n",
    "sns.palplot(sns.color_palette(\"hls\", 16))\n",
    "colors = sns.color_palette(\"hls\", 16)\n",
    "density_colors = [colors[0], colors[15]]\n",
    "fivep_density_colors = [colors[8], colors[9]]\n"
   ]
  },
  {
   "cell_type": "code",
   "execution_count": 2,
   "metadata": {
    "collapsed": true
   },
   "outputs": [],
   "source": [
    "density_dir = '/projects/ps-yeolab3/bay001/maps/current/se_zscore'\n",
    "\n",
    "\"\"\"density_included = os.path.join(density_dir, '204_01_RBFOX2.merged.r2.1.RBFOX2-BGHLV26-HepG2-included-upon-knockdown.normed_matrix.txt')\n",
    "density_excluded = os.path.join(density_dir, '204_01_RBFOX2.merged.r2.1.RBFOX2-BGHLV26-HepG2-excluded-upon-knockdown.normed_matrix.txt')\n",
    "density_native_cass = os.path.join(density_dir, '204_01_RBFOX2.merged.r2.1.HepG2_native_cassette_exons.normed_matrix.txt')\n",
    "\n",
    "density_included = os.path.join(density_dir, '218_01_TRA2A.merged.r2.1.TRA2A-BGHLV14-HepG2-included-upon-knockdown.normed_matrix.txt')\n",
    "density_excluded = os.path.join(density_dir, '218_01_TRA2A.merged.r2.1.TRA2A-BGHLV14-HepG2-excluded-upon-knockdown.normed_matrix.txt')\n",
    "density_native_cass = os.path.join(density_dir, '218_01_TRA2A.merged.r2.1.HepG2_native_cassette_exons.normed_matrix.txt')\n",
    "\"\"\"\n",
    "\n",
    "density_included = os.path.join(density_dir, '272_01_U2AF2.merged.r2.1.U2AF2-BGHLV26-HepG2-included-upon-knockdown.normed_matrix.txt')\n",
    "density_excluded = os.path.join(density_dir, '272_01_U2AF2.merged.r2.1.U2AF2-BGHLV26-HepG2-excluded-upon-knockdown.normed_matrix.txt')\n",
    "density_native_cass = os.path.join(density_dir, '272_01_U2AF2.merged.r2.1.HepG2_native_cassette_exons.normed_matrix.txt')\n",
    "\n"
   ]
  },
  {
   "cell_type": "code",
   "execution_count": 3,
   "metadata": {
    "collapsed": true
   },
   "outputs": [],
   "source": [
    "density_5p_dir = '/projects/ps-yeolab3/bay001/maps/current/se_5p/'\n",
    "\n",
    "\"\"\"density_included_5p = os.path.join(density_5p_dir, '204_01_RBFOX2.merged.r2.5.1.RBFOX2-BGHLV26-HepG2-included-upon-knockdown.normed_matrix.txt')\n",
    "density_excluded_5p = os.path.join(density_5p_dir, '204_01_RBFOX2.merged.r2.5.1.RBFOX2-BGHLV26-HepG2-excluded-upon-knockdown.normed_matrix.txt')\n",
    "density_native_cass_5p = os.path.join(density_5p_dir, '204_01_RBFOX2.merged.r2.5.1.HepG2_native_cassette_exons.normed_matrix.txt')\n",
    "\n",
    "density_included_5p = os.path.join(density_5p_dir, '218_01_TRA2A.merged.r2.5.1.TRA2A-BGHLV14-HepG2-included-upon-knockdown.normed_matrix.txt')\n",
    "density_excluded_5p = os.path.join(density_5p_dir, '218_01_TRA2A.merged.r2.5.1.TRA2A-BGHLV14-HepG2-excluded-upon-knockdown.normed_matrix.txt')\n",
    "density_native_cass_5p = os.path.join(density_5p_dir, '218_01_TRA2A.merged.r2.5.1.HepG2_native_cassette_exons.normed_matrix.txt')\n",
    "\"\"\"\n",
    "\n",
    "density_included_5p = os.path.join(density_5p_dir, '272_01_U2AF2.merged.r2.5.1.U2AF2-BGHLV26-HepG2-included-upon-knockdown.normed_matrix.txt')\n",
    "density_excluded_5p = os.path.join(density_5p_dir, '272_01_U2AF2.merged.r2.5.1.U2AF2-BGHLV26-HepG2-excluded-upon-knockdown.normed_matrix.txt')\n",
    "density_native_cass_5p = os.path.join(density_5p_dir, '272_01_U2AF2.merged.r2.5.1.HepG2_native_cassette_exons.normed_matrix.txt')\n"
   ]
  },
  {
   "cell_type": "code",
   "execution_count": 4,
   "metadata": {},
   "outputs": [
    {
     "name": "stdout",
     "output_type": "stream",
     "text": [
      "((796, 1400), 'Included upon knockdown (796 events)')\n",
      "((2285, 1400), 'Excluded upon knockdown (2285 events)')\n",
      "((796, 1400), 'Included upon knockdown (5p) (796 events)')\n",
      "((2285, 1400), 'Excluded upon knockdown (5p) (2285 events)')\n"
     ]
    }
   ],
   "source": [
    "density_incl = dline.LineObject(\n",
    "    event_matrix=pd.read_table(density_included, sep=',', index_col=0),\n",
    "    annotation='Included upon knockdown',\n",
    "    conf=0.95,\n",
    "    color=density_colors[0], # blueish\n",
    "    min_event_threshold=100\n",
    ")\n",
    "density_excl = dline.LineObject(\n",
    "    event_matrix=pd.read_table(density_excluded, sep=',', index_col=0),\n",
    "    annotation='Excluded upon knockdown',\n",
    "    conf=0.95,\n",
    "    color=density_colors[1], # reddish\n",
    "    min_event_threshold=100\n",
    ")\n",
    "density_incl_5p = dline.LineObject(\n",
    "    event_matrix=pd.read_table(density_included_5p, sep=',', index_col=0),\n",
    "    annotation='Included upon knockdown (5p)',\n",
    "    conf=0.95,\n",
    "    color=fivep_density_colors[0], # blueish\n",
    "    min_event_threshold=1000000\n",
    ")\n",
    "density_excl_5p = dline.LineObject(\n",
    "    event_matrix=pd.read_table(density_excluded_5p, sep=',', index_col=0),\n",
    "    annotation='Excluded upon knockdown (5p)',\n",
    "    conf=0.95,\n",
    "    color=fivep_density_colors[1], # reddish\n",
    "    min_event_threshold=1000000\n",
    ")"
   ]
  },
  {
   "cell_type": "code",
   "execution_count": 5,
   "metadata": {},
   "outputs": [
    {
     "name": "stderr",
     "output_type": "stream",
     "text": [
      "/home/bay001/anaconda2/envs/brian/lib/python2.7/site-packages/matplotlib/font_manager.py:1297: UserWarning: findfont: Font family [u'sans-serif'] not found. Falling back to DejaVu Sans\n",
      "  (prop.get_family(), self.defaultFamily[fontext]))\n"
     ]
    },
    {
     "data": {
      "image/png": "[encoded data removed]",
      "text/plain": [
       "<matplotlib.figure.Figure at 0x2ab0bda69490>"
      ]
     },
     "metadata": {},
     "output_type": "display_data"
    }
   ],
   "source": [
    "FONTSIZE=8\n",
    "mag = 1\n",
    "fig = plt.figure(figsize=(4*mag, 1*mag))\n",
    "full_grid = gridspec.GridSpec(1, 4, height_ratios=[1], )\n",
    "\n",
    "map_row = gridspec.GridSpecFromSubplotSpec(1, 4, subplot_spec=full_grid[0, 1:4])\n",
    "\n",
    "read_map_regions = []\n",
    "peak_map_regions = []\n",
    "\n",
    "for i in range(4):\n",
    "    read_map_regions.append(plt.subplot(map_row[i:i+1]))\n",
    "    peak_map_regions.append(read_map_regions[i].twinx())\n",
    "\n",
    "density_plotter = Plotter._SEPlotter(lines=[density_incl, density_excl], num_regions=4)\n",
    "read_map_regions = density_plotter.plot(read_map_regions, None)\n",
    "read_plotter = Plotter._SEPlotter(lines=[density_incl_5p, density_excl_5p], num_regions=4)\n",
    "peak_map_regions = read_plotter.plot(peak_map_regions, None)\n",
    "\n",
    "# density_plotter.renumber_axes(4, read_map_regions)\n",
    "# read_plotter.renumber_axes(4, peak_map_regions)\n",
    "\n",
    "read_map_regions[0].set_ylabel(\"Read Density\\n(1e-4)\", size=FONTSIZE)\n",
    "read_map_regions[0].yaxis.set_visible(True)\n",
    "read_map_regions[3].yaxis.set_visible(False)\n",
    "\n",
    "peak_map_regions[0].yaxis.set_visible(False)\n",
    "peak_map_regions[3].yaxis.set_visible(True)\n",
    "peak_map_regions[3].set_ylabel(\"Peak Histogram\", rotation=270, size=FONTSIZE)\n",
    "peak_map_regions[3].yaxis.tick_right()\n",
    "\n",
    "read_ymin = -0.002\n",
    "read_ymax = 0.002\n",
    "peak_ymin = -0.0004\n",
    "peak_ymax = 0.0004\n",
    "\n",
    "for ax in read_map_regions:\n",
    "    ax.tick_params(labelsize=FONTSIZE)\n",
    "    ax.set_ylim(read_ymin, read_ymax)\n",
    "    \n",
    "for ax in peak_map_regions:\n",
    "    ax.tick_params(labelsize=FONTSIZE)\n",
    "    ax.set_ylim(peak_ymin, peak_ymax)\n",
    "\n",
    "read_map_regions[0].yaxis.set_ticks([read_ymin, read_ymax])\n",
    "read_map_regions[0].yaxis.set_ticklabels([read_ymin*1000, read_ymax*1000])\n",
    "peak_map_regions[3].yaxis.set_ticks([peak_ymin, peak_ymax])\n",
    "peak_map_regions[3].yaxis.set_ticklabels([peak_ymin, peak_ymax])\n",
    "\n",
    "sns.despine(ax=read_map_regions[0], top=True, left=False, right=True)\n",
    "sns.despine(ax=peak_map_regions[3], top=True, left=True, right=False)\n",
    "\n",
    "# despine stuff\n",
    "for region in read_map_regions[1:3]:\n",
    "    sns.despine(ax=region, top=True, left=True, right=True, bottom=False)\n",
    "    region.yaxis.set_visible(False)\n",
    "    \n",
    "for region in peak_map_regions[1:3]:\n",
    "    sns.despine(ax=region, top=True, left=True, right=True, bottom=False)\n",
    "    region.yaxis.set_visible(False)\n",
    "\n",
    "sns.despine(ax=peak_map_regions[0], top=True, left=False, right=True, bottom=False)\n",
    "sns.despine(ax=read_map_regions[0], top=True, left=False, right=True, bottom=False)\n",
    "sns.despine(ax=read_map_regions[3], top=True, left=True, right=False, bottom=False)\n",
    "sns.despine(ax=peak_map_regions[3], top=True, left=True, right=False, bottom=False)\n",
    "\n",
    "\n",
    "incl_density_patch = mpatches.Patch(color=density_colors[0], label='Included upon KD (Density)')\n",
    "excl_density_patch = mpatches.Patch(color=density_colors[1], label='Excluded upon KD (Density)')\n",
    "incl_peak_patch = mpatches.Patch(color=fivep_density_colors[0], label='Included upon KD (5p)')\n",
    "excl_peak_patch = mpatches.Patch(color=fivep_density_colors[1], label='Excluded upon KD (5p)')\n",
    "\n",
    "leg = read_map_regions[0].legend(\n",
    "    bbox_to_anchor=(2.5, -1.3), loc=1, mode=\"expand\",\n",
    "    handles=[incl_density_patch, excl_density_patch, incl_peak_patch, excl_peak_patch],\n",
    "    borderaxespad=0., ncol=2, fontsize=FONTSIZE\n",
    ")\n",
    "output_file = '/home/bay001/projects/gabe_qc_20170612/analysis/272_01_U2AF2_whole_vs_5p_read_density.svg'\n",
    "fig.savefig(output_file)"
   ]
  },
  {
   "cell_type": "code",
   "execution_count": 16,
   "metadata": {},
   "outputs": [
    {
     "data": {
      "image/png": "[encoded data removed]",
      "text/plain": [
       "<matplotlib.figure.Figure at 0x2ab0bda19a90>"
      ]
     },
     "metadata": {},
     "output_type": "display_data"
    }
   ],
   "source": [
    "FONTSIZE=8\n",
    "mag = 1\n",
    "fig = plt.figure(figsize=(1*mag, 1*mag))\n",
    "full_grid = gridspec.GridSpec(1, 1, height_ratios=[1], )\n",
    "\n",
    "map_row = gridspec.GridSpecFromSubplotSpec(1, 1, subplot_spec=full_grid[0, 0])\n",
    "\n",
    "read_map_regions = [plt.subplot()]*4\n",
    "peak_map_regions = [plt.subplot()]*4\n",
    "\n",
    "read_map_regions[1] = (plt.subplot(map_row[0]))\n",
    "peak_map_regions[1] = (read_map_regions[0].twinx())\n",
    "\n",
    "density_plotter = Plotter._SEPlotter(lines=[density_incl], num_regions=4)\n",
    "read_map_regions = density_plotter.plot(read_map_regions, None)\n",
    "read_plotter = Plotter._SEPlotter(lines=[density_incl_5p], num_regions=4)\n",
    "peak_map_regions = read_plotter.plot(peak_map_regions, None)\n",
    "\n",
    "# density_plotter.renumber_axes(4, read_map_regions)\n",
    "# read_plotter.renumber_axes(4, peak_map_regions)\n",
    "\n",
    "read_map_regions[1].set_ylabel(\"Read Density\\n(1e-3)\", size=FONTSIZE)\n",
    "read_map_regions[1].yaxis.set_visible(True)\n",
    "# read_map_regions[3].yaxis.set_visible(False)\n",
    "\n",
    "# peak_map_regions[0].yaxis.set_visible(False)\n",
    "peak_map_regions[1].yaxis.set_visible(True)\n",
    "peak_map_regions[1].set_ylabel(\"5' Read Density\\n(1e-4)\", rotation=270, size=FONTSIZE)\n",
    "peak_map_regions[1].yaxis.tick_right()\n",
    "\n",
    "read_ymin = -0.0005\n",
    "read_ymax = 0.0025\n",
    "peak_ymin = -0.00005\n",
    "peak_ymax = 0.00025\n",
    "\n",
    "for ax in read_map_regions:\n",
    "    ax.tick_params(labelsize=FONTSIZE)\n",
    "    ax.set_ylim(read_ymin, read_ymax)\n",
    "    \n",
    "for ax in peak_map_regions:\n",
    "    ax.tick_params(labelsize=FONTSIZE)\n",
    "    ax.set_ylim(peak_ymin, peak_ymax)\n",
    "\n",
    "read_map_regions[1].yaxis.set_ticks([read_ymin, read_ymax])\n",
    "read_map_regions[1].yaxis.set_ticklabels([read_ymin*1000, read_ymax*1000])\n",
    "peak_map_regions[1].yaxis.set_ticks([peak_ymin, peak_ymax])\n",
    "peak_map_regions[1].yaxis.set_ticklabels([peak_ymin*10000, peak_ymax*10000])\n",
    "\n",
    "sns.despine(ax=read_map_regions[1], top=True, left=False, right=True)\n",
    "sns.despine(ax=peak_map_regions[1], top=True, left=True, right=False)\n",
    "\n",
    "\n",
    "sns.despine(ax=peak_map_regions[1], top=True, left=False, right=True, bottom=False)\n",
    "sns.despine(ax=read_map_regions[1], top=True, left=True, right=False, bottom=False)\n",
    "\n",
    "\n",
    "incl_density_patch = mpatches.Patch(color=density_colors[0], label='Included upon KD (Whole read)')\n",
    "# excl_density_patch = mpatches.Patch(color=density_colors[1], label='Excluded upon KD (Density)')\n",
    "incl_peak_patch = mpatches.Patch(color=fivep_density_colors[0], label='Included upon KD (5p end)')\n",
    "# excl_peak_patch = mpatches.Patch(color=fivep_density_colors[1], label='Excluded upon KD (Peak)')\n",
    "\n",
    "leg = read_map_regions[1].legend(\n",
    "    bbox_to_anchor=(-0.75,-1.25), loc=10, mode=\"expand\",\n",
    "    handles=[incl_density_patch, incl_peak_patch],\n",
    "    borderaxespad=0., ncol=1, fontsize=FONTSIZE\n",
    ")\n",
    "output_file = '/home/bay001/projects/gabe_qc_20170612/scratch/272_01_U2AF2_whole_vs_5p_read_density.1pane.svg'\n",
    "fig.savefig(output_file)"
   ]
  },
  {
   "cell_type": "markdown",
   "metadata": {
    "collapsed": true
   },
   "source": [
    "# 11/14 changes - decrease window 300nt to 50nt"
   ]
  },
  {
   "cell_type": "code",
   "execution_count": 20,
   "metadata": {},
   "outputs": [
    {
     "data": {
      "image/png": "[encoded data removed]",
      "text/plain": [
       "<matplotlib.figure.Figure at 0x2ab0be65fd90>"
      ]
     },
     "metadata": {},
     "output_type": "display_data"
    }
   ],
   "source": [
    "density_incl.color = '#fc8d59'\n",
    "density_incl_5p.color = '#91cf60'\n",
    "\n",
    "FONTSIZE=8\n",
    "mag = 1\n",
    "fig = plt.figure(figsize=(1*mag, 1*mag))\n",
    "full_grid = gridspec.GridSpec(1, 1, height_ratios=[1], )\n",
    "\n",
    "map_row = gridspec.GridSpecFromSubplotSpec(1, 1, subplot_spec=full_grid[0, 0])\n",
    "\n",
    "read_map_regions = [plt.subplot()]*4\n",
    "peak_map_regions = [plt.subplot()]*4\n",
    "\n",
    "read_map_regions[1] = (plt.subplot(map_row[0]))\n",
    "peak_map_regions[1] = (read_map_regions[0].twinx())\n",
    "\n",
    "density_plotter = Plotter._SEPlotter(lines=[density_incl], num_regions=4)\n",
    "read_map_regions = density_plotter.plot(read_map_regions, None)\n",
    "read_plotter = Plotter._SEPlotter(lines=[density_incl_5p], num_regions=4)\n",
    "peak_map_regions = read_plotter.plot(peak_map_regions, None)\n",
    "\n",
    "# density_plotter.renumber_axes(4, read_map_regions)\n",
    "# read_plotter.renumber_axes(4, peak_map_regions)\n",
    "\n",
    "read_map_regions[1].set_ylabel(\"Read Density\", size=FONTSIZE)\n",
    "read_map_regions[1].yaxis.set_visible(True)\n",
    "# read_map_regions[3].yaxis.set_visible(False)\n",
    "\n",
    "# peak_map_regions[0].yaxis.set_visible(False)\n",
    "peak_map_regions[1].yaxis.set_visible(True)\n",
    "peak_map_regions[1].set_ylabel(\"5' Read Density\", rotation=270, size=FONTSIZE)\n",
    "peak_map_regions[1].yaxis.tick_right()\n",
    "\n",
    "read_ymin = -0.0005\n",
    "read_ymax = 0.0025\n",
    "peak_ymin = -0.00005\n",
    "peak_ymax = 0.00025\n",
    "\n",
    "for ax in read_map_regions:\n",
    "    ax.tick_params(labelsize=FONTSIZE)\n",
    "    ax.set_ylim(read_ymin, read_ymax)\n",
    "    \n",
    "for ax in peak_map_regions:\n",
    "    ax.tick_params(labelsize=FONTSIZE)\n",
    "    ax.set_ylim(peak_ymin, peak_ymax)\n",
    "\n",
    "read_map_regions[1].yaxis.set_ticks([read_ymin, read_ymax])\n",
    "read_map_regions[1].yaxis.set_ticklabels([read_ymin, read_ymax])\n",
    "# read_map_regions[1].yaxis.set_ticklabels([read_ymin*1000, read_ymax*1000])\n",
    "peak_map_regions[1].yaxis.set_ticks([peak_ymin, peak_ymax])\n",
    "peak_map_regions[1].yaxis.set_ticklabels([\"{:04f}\".format(peak_ymin), peak_ymax])\n",
    "# peak_map_regions[1].yaxis.set_ticklabels([peak_ymin*10000, peak_ymax*10000])\n",
    "\n",
    "sns.despine(ax=read_map_regions[1], top=True, left=False, right=True)\n",
    "sns.despine(ax=peak_map_regions[1], top=True, left=True, right=False)\n",
    "\n",
    "\n",
    "sns.despine(ax=peak_map_regions[1], top=True, left=False, right=True, bottom=False)\n",
    "sns.despine(ax=read_map_regions[1], top=True, left=True, right=False, bottom=False)\n",
    "\n",
    "\n",
    "incl_density_patch = mpatches.Patch(color=density_incl.color, label='Included upon KD (Whole read)')\n",
    "# excl_density_patch = mpatches.Patch(color=density_colors[1], label='Excluded upon KD (Density)')\n",
    "incl_peak_patch = mpatches.Patch(color=density_incl_5p.color, label='Included upon KD (5p end)')\n",
    "# excl_peak_patch = mpatches.Patch(color=fivep_density_colors[1], label='Excluded upon KD (Peak)')\n",
    "\n",
    "leg = read_map_regions[1].legend(\n",
    "    bbox_to_anchor=(-0.75,-1.25), loc=10, mode=\"expand\",\n",
    "    handles=[incl_density_patch, incl_peak_patch],\n",
    "    borderaxespad=0., ncol=1, fontsize=FONTSIZE\n",
    ")\n",
    "\n",
    "read_map_regions[1].set_xlim(250,350)\n",
    "peak_map_regions[1].set_xlim(250,350)\n",
    "read_map_regions[1].set_xticks([250, 300, 350])\n",
    "read_map_regions[1].set_xticklabels(['-50','0','50'])\n",
    "\n",
    "output_file = '/home/bay001/projects/gabe_qc_20170612/analysis/272_01_U2AF2_whole_vs_5p_read_density.1pane.zoomed.svg'\n",
    "fig.savefig(output_file)"
   ]
  },
  {
   "cell_type": "markdown",
   "metadata": {},
   "source": [
    "# 11/14 Make maps for TRA2A"
   ]
  },
  {
   "cell_type": "code",
   "execution_count": 8,
   "metadata": {
    "collapsed": true
   },
   "outputs": [],
   "source": [
    "density_included = os.path.join(density_dir, '218_01_TRA2A.merged.r2.1.TRA2A-BGHLV14-HepG2-included-upon-knockdown.normed_matrix.txt')\n",
    "density_excluded = os.path.join(density_dir, '218_01_TRA2A.merged.r2.1.TRA2A-BGHLV14-HepG2-excluded-upon-knockdown.normed_matrix.txt')\n",
    "density_native_cass = os.path.join(density_dir, '218_01_TRA2A.merged.r2.1.HepG2_native_cassette_exons.normed_matrix.txt')\n",
    "\n",
    "density_included_5p = os.path.join(density_5p_dir, '218_01_TRA2A.merged.r2.5.1.TRA2A-BGHLV14-HepG2-included-upon-knockdown.normed_matrix.txt')\n",
    "density_excluded_5p = os.path.join(density_5p_dir, '218_01_TRA2A.merged.r2.5.1.TRA2A-BGHLV14-HepG2-excluded-upon-knockdown.normed_matrix.txt')\n",
    "density_native_cass_5p = os.path.join(density_5p_dir, '218_01_TRA2A.merged.r2.5.1.HepG2_native_cassette_exons.normed_matrix.txt')\n"
   ]
  },
  {
   "cell_type": "code",
   "execution_count": 9,
   "metadata": {},
   "outputs": [
    {
     "name": "stdout",
     "output_type": "stream",
     "text": [
      "((22, 1400), 'Included upon knockdown (22 events)')\n",
      "((15, 1400), 'Excluded upon knockdown (15 events)')\n",
      "((22, 1400), 'Included upon knockdown (5p) (22 events)')\n",
      "((15, 1400), 'Excluded upon knockdown (5p) (15 events)')\n"
     ]
    }
   ],
   "source": [
    "density_incl = dline.LineObject(\n",
    "    event_matrix=pd.read_table(density_included, sep=',', index_col=0),\n",
    "    annotation='Included upon knockdown',\n",
    "    conf=0.95,\n",
    "    color=density_colors[0], # blueish\n",
    "    min_event_threshold=100\n",
    ")\n",
    "density_excl = dline.LineObject(\n",
    "    event_matrix=pd.read_table(density_excluded, sep=',', index_col=0),\n",
    "    annotation='Excluded upon knockdown',\n",
    "    conf=0.95,\n",
    "    color=density_colors[1], # reddish\n",
    "    min_event_threshold=100\n",
    ")\n",
    "density_incl_5p = dline.LineObject(\n",
    "    event_matrix=pd.read_table(density_included_5p, sep=',', index_col=0),\n",
    "    annotation='Included upon knockdown (5p)',\n",
    "    conf=0.95,\n",
    "    color=fivep_density_colors[0], # blueish\n",
    "    min_event_threshold=1000000\n",
    ")\n",
    "density_excl_5p = dline.LineObject(\n",
    "    event_matrix=pd.read_table(density_excluded_5p, sep=',', index_col=0),\n",
    "    annotation='Excluded upon knockdown (5p)',\n",
    "    conf=0.95,\n",
    "    color=fivep_density_colors[1], # reddish\n",
    "    min_event_threshold=1000000\n",
    ")"
   ]
  },
  {
   "cell_type": "code",
   "execution_count": 15,
   "metadata": {},
   "outputs": [
    {
     "data": {
      "image/png": "[encoded data removed]",
      "text/plain": [
       "<matplotlib.figure.Figure at 0x2b7491d6f210>"
      ]
     },
     "metadata": {},
     "output_type": "display_data"
    }
   ],
   "source": [
    "FONTSIZE=8\n",
    "mag = 1\n",
    "fig = plt.figure(figsize=(4*mag, 1*mag))\n",
    "full_grid = gridspec.GridSpec(1, 4, height_ratios=[1], )\n",
    "\n",
    "map_row = gridspec.GridSpecFromSubplotSpec(1, 4, subplot_spec=full_grid[0, 1:4])\n",
    "\n",
    "read_map_regions = []\n",
    "peak_map_regions = []\n",
    "\n",
    "for i in range(4):\n",
    "    read_map_regions.append(plt.subplot(map_row[i:i+1]))\n",
    "    peak_map_regions.append(read_map_regions[i].twinx())\n",
    "\n",
    "density_plotter = Plotter._SEPlotter(lines=[density_incl, density_excl], num_regions=4)\n",
    "read_map_regions = density_plotter.plot(read_map_regions, None)\n",
    "read_plotter = Plotter._SEPlotter(lines=[density_incl_5p, density_excl_5p], num_regions=4)\n",
    "peak_map_regions = read_plotter.plot(peak_map_regions, None)\n",
    "\n",
    "# density_plotter.renumber_axes(4, read_map_regions)\n",
    "# read_plotter.renumber_axes(4, peak_map_regions)\n",
    "\n",
    "read_map_regions[0].set_ylabel(\"Read Density\\n(1e-3)\", size=FONTSIZE)\n",
    "read_map_regions[0].yaxis.set_visible(True)\n",
    "read_map_regions[3].yaxis.set_visible(False)\n",
    "\n",
    "peak_map_regions[0].yaxis.set_visible(False)\n",
    "peak_map_regions[3].yaxis.set_visible(True)\n",
    "peak_map_regions[3].set_ylabel(\"5' Read Density\\n(1e-3)\", rotation=270, size=FONTSIZE)\n",
    "peak_map_regions[3].yaxis.tick_right()\n",
    "\n",
    "read_ymin = -0.001\n",
    "read_ymax = 0.001\n",
    "peak_ymin = -0.001\n",
    "peak_ymax = 0.001\n",
    "\n",
    "for ax in read_map_regions:\n",
    "    ax.tick_params(labelsize=FONTSIZE)\n",
    "    ax.set_ylim(read_ymin, read_ymax)\n",
    "    \n",
    "for ax in peak_map_regions:\n",
    "    ax.tick_params(labelsize=FONTSIZE)\n",
    "    ax.set_ylim(peak_ymin, peak_ymax)\n",
    "\n",
    "read_map_regions[0].yaxis.set_ticks([read_ymin, read_ymax])\n",
    "read_map_regions[0].yaxis.set_ticklabels([read_ymin*1000, read_ymax*1000])\n",
    "peak_map_regions[3].yaxis.set_ticks([peak_ymin, peak_ymax])\n",
    "peak_map_regions[3].yaxis.set_ticklabels([peak_ymin*1000, peak_ymax*1000])\n",
    "\n",
    "sns.despine(ax=read_map_regions[0], top=True, left=False, right=True)\n",
    "sns.despine(ax=peak_map_regions[3], top=True, left=True, right=False)\n",
    "\n",
    "# despine stuff\n",
    "for region in read_map_regions[1:3]:\n",
    "    sns.despine(ax=region, top=True, left=True, right=True, bottom=False)\n",
    "    region.yaxis.set_visible(False)\n",
    "    \n",
    "for region in peak_map_regions[1:3]:\n",
    "    sns.despine(ax=region, top=True, left=True, right=True, bottom=False)\n",
    "    region.yaxis.set_visible(False)\n",
    "\n",
    "sns.despine(ax=peak_map_regions[0], top=True, left=False, right=True, bottom=False)\n",
    "sns.despine(ax=read_map_regions[0], top=True, left=False, right=True, bottom=False)\n",
    "sns.despine(ax=read_map_regions[3], top=True, left=True, right=False, bottom=False)\n",
    "sns.despine(ax=peak_map_regions[3], top=True, left=True, right=False, bottom=False)\n",
    "\n",
    "\n",
    "incl_density_patch = mpatches.Patch(color=density_colors[0], label='Included upon KD (Density)')\n",
    "excl_density_patch = mpatches.Patch(color=density_colors[1], label='Excluded upon KD (Density)')\n",
    "incl_peak_patch = mpatches.Patch(color=fivep_density_colors[0], label='Included upon KD (5p)')\n",
    "excl_peak_patch = mpatches.Patch(color=fivep_density_colors[1], label='Excluded upon KD (5p)')\n",
    "\n",
    "leg = read_map_regions[0].legend(\n",
    "    bbox_to_anchor=(2.5, -1.3), loc=1, mode=\"expand\",\n",
    "    handles=[incl_density_patch, excl_density_patch, incl_peak_patch, excl_peak_patch],\n",
    "    borderaxespad=0., ncol=2, fontsize=FONTSIZE\n",
    ")\n",
    "output_file = '/home/bay001/projects/gabe_qc_20170612/analysis/218_01_TRA2A_whole_vs_5p_read_density.svg'\n",
    "fig.savefig(output_file)"
   ]
  },
  {
   "cell_type": "markdown",
   "metadata": {
    "collapsed": true
   },
   "source": [
    "# 11/20 Make this for RBFOX2"
   ]
  },
  {
   "cell_type": "code",
   "execution_count": 21,
   "metadata": {
    "collapsed": true
   },
   "outputs": [],
   "source": [
    "density_included = os.path.join(density_dir, '204_01_RBFOX2.merged.r2.1.RBFOX2-BGHLV26-HepG2-included-upon-knockdown.normed_matrix.txt')\n",
    "density_excluded = os.path.join(density_dir, '204_01_RBFOX2.merged.r2.1.RBFOX2-BGHLV26-HepG2-excluded-upon-knockdown.normed_matrix.txt')\n",
    "density_native_cass = os.path.join(density_dir, '204_01_RBFOX2.merged.r2.1.HepG2_native_cassette_exons.normed_matrix.txt')\n",
    "\n",
    "density_included_5p = os.path.join(density_5p_dir, '204_01_RBFOX2.merged.r2.5.1.RBFOX2-BGHLV26-HepG2-included-upon-knockdown.normed_matrix.txt')\n",
    "density_excluded_5p = os.path.join(density_5p_dir, '204_01_RBFOX2.merged.r2.5.1.RBFOX2-BGHLV26-HepG2-excluded-upon-knockdown.normed_matrix.txt')\n",
    "density_native_cass_5p = os.path.join(density_5p_dir, '204_01_RBFOX2.merged.r2.5.1.HepG2_native_cassette_exons.normed_matrix.txt')\n"
   ]
  },
  {
   "cell_type": "code",
   "execution_count": 22,
   "metadata": {},
   "outputs": [
    {
     "name": "stdout",
     "output_type": "stream",
     "text": [
      "((113, 1400), 'Included upon knockdown (113 events)')\n",
      "((138, 1400), 'Excluded upon knockdown (138 events)')\n",
      "((113, 1400), 'Included upon knockdown (5p) (113 events)')\n",
      "((138, 1400), 'Excluded upon knockdown (5p) (138 events)')\n"
     ]
    }
   ],
   "source": [
    "density_incl = dline.LineObject(\n",
    "    event_matrix=pd.read_table(density_included, sep=',', index_col=0),\n",
    "    annotation='Included upon knockdown',\n",
    "    conf=0.95,\n",
    "    color=density_colors[0], # blueish\n",
    "    min_event_threshold=100\n",
    ")\n",
    "density_excl = dline.LineObject(\n",
    "    event_matrix=pd.read_table(density_excluded, sep=',', index_col=0),\n",
    "    annotation='Excluded upon knockdown',\n",
    "    conf=0.95,\n",
    "    color=density_colors[1], # reddish\n",
    "    min_event_threshold=100\n",
    ")\n",
    "density_incl_5p = dline.LineObject(\n",
    "    event_matrix=pd.read_table(density_included_5p, sep=',', index_col=0),\n",
    "    annotation='Included upon knockdown (5p)',\n",
    "    conf=0.95,\n",
    "    color=fivep_density_colors[0], # blueish\n",
    "    min_event_threshold=1000000\n",
    ")\n",
    "density_excl_5p = dline.LineObject(\n",
    "    event_matrix=pd.read_table(density_excluded_5p, sep=',', index_col=0),\n",
    "    annotation='Excluded upon knockdown (5p)',\n",
    "    conf=0.95,\n",
    "    color=fivep_density_colors[1], # reddish\n",
    "    min_event_threshold=1000000\n",
    ")"
   ]
  },
  {
   "cell_type": "code",
   "execution_count": 27,
   "metadata": {},
   "outputs": [
    {
     "data": {
      "image/png": "[encoded data removed]",
      "text/plain": [
       "<matplotlib.figure.Figure at 0x2ab0bdd60890>"
      ]
     },
     "metadata": {},
     "output_type": "display_data"
    }
   ],
   "source": [
    "FONTSIZE=8\n",
    "mag = 1\n",
    "fig = plt.figure(figsize=(4*mag, 1*mag))\n",
    "full_grid = gridspec.GridSpec(1, 4, height_ratios=[1], )\n",
    "\n",
    "map_row = gridspec.GridSpecFromSubplotSpec(1, 4, subplot_spec=full_grid[0, 1:4])\n",
    "\n",
    "read_map_regions = []\n",
    "peak_map_regions = []\n",
    "\n",
    "for i in range(4):\n",
    "    read_map_regions.append(plt.subplot(map_row[i:i+1]))\n",
    "    peak_map_regions.append(read_map_regions[i].twinx())\n",
    "\n",
    "density_plotter = Plotter._SEPlotter(lines=[density_incl, density_excl], num_regions=4)\n",
    "read_map_regions = density_plotter.plot(read_map_regions, None)\n",
    "read_plotter = Plotter._SEPlotter(lines=[density_incl_5p, density_excl_5p], num_regions=4)\n",
    "peak_map_regions = read_plotter.plot(peak_map_regions, None)\n",
    "\n",
    "# density_plotter.renumber_axes(4, read_map_regions)\n",
    "# read_plotter.renumber_axes(4, peak_map_regions)\n",
    "\n",
    "read_map_regions[0].set_ylabel(\"Read Density\\n(1e-3)\", size=FONTSIZE)\n",
    "read_map_regions[0].yaxis.set_visible(True)\n",
    "read_map_regions[3].yaxis.set_visible(False)\n",
    "\n",
    "peak_map_regions[0].yaxis.set_visible(False)\n",
    "peak_map_regions[3].yaxis.set_visible(True)\n",
    "peak_map_regions[3].set_ylabel(\"5' Read Density\\n(1e-4)\", rotation=270, size=FONTSIZE)\n",
    "peak_map_regions[3].yaxis.tick_right()\n",
    "\n",
    "read_ymin = -0.001\n",
    "read_ymax = 0.001\n",
    "peak_ymin = -0.0001\n",
    "peak_ymax = 0.0001\n",
    "\n",
    "for ax in read_map_regions:\n",
    "    ax.tick_params(labelsize=FONTSIZE)\n",
    "    ax.set_ylim(read_ymin, read_ymax)\n",
    "    \n",
    "for ax in peak_map_regions:\n",
    "    ax.tick_params(labelsize=FONTSIZE)\n",
    "    ax.set_ylim(peak_ymin, peak_ymax)\n",
    "\n",
    "read_map_regions[0].yaxis.set_ticks([read_ymin, read_ymax])\n",
    "read_map_regions[0].yaxis.set_ticklabels([read_ymin*1000, read_ymax*1000])\n",
    "peak_map_regions[3].yaxis.set_ticks([peak_ymin, peak_ymax])\n",
    "peak_map_regions[3].yaxis.set_ticklabels([peak_ymin*10000, peak_ymax*10000])\n",
    "\n",
    "sns.despine(ax=read_map_regions[0], top=True, left=False, right=True)\n",
    "sns.despine(ax=peak_map_regions[3], top=True, left=True, right=False)\n",
    "\n",
    "# despine stuff\n",
    "for region in read_map_regions[1:3]:\n",
    "    sns.despine(ax=region, top=True, left=True, right=True, bottom=False)\n",
    "    region.yaxis.set_visible(False)\n",
    "    \n",
    "for region in peak_map_regions[1:3]:\n",
    "    sns.despine(ax=region, top=True, left=True, right=True, bottom=False)\n",
    "    region.yaxis.set_visible(False)\n",
    "\n",
    "sns.despine(ax=peak_map_regions[0], top=True, left=False, right=True, bottom=False)\n",
    "sns.despine(ax=read_map_regions[0], top=True, left=False, right=True, bottom=False)\n",
    "sns.despine(ax=read_map_regions[3], top=True, left=True, right=False, bottom=False)\n",
    "sns.despine(ax=peak_map_regions[3], top=True, left=True, right=False, bottom=False)\n",
    "\n",
    "\n",
    "incl_density_patch = mpatches.Patch(color=density_colors[0], label='Included upon KD (Density)')\n",
    "excl_density_patch = mpatches.Patch(color=density_colors[1], label='Excluded upon KD (Density)')\n",
    "incl_peak_patch = mpatches.Patch(color=fivep_density_colors[0], label='Included upon KD (5p)')\n",
    "excl_peak_patch = mpatches.Patch(color=fivep_density_colors[1], label='Excluded upon KD (5p)')\n",
    "\n",
    "leg = read_map_regions[0].legend(\n",
    "    bbox_to_anchor=(2.5, -1.3), loc=1, mode=\"expand\",\n",
    "    handles=[incl_density_patch, excl_density_patch, incl_peak_patch, excl_peak_patch],\n",
    "    borderaxespad=0., ncol=2, fontsize=FONTSIZE\n",
    ")\n",
    "output_file = '/home/bay001/projects/gabe_qc_20170612/analysis/204_01_RBFOX2_whole_vs_5p_read_density.svg'\n",
    "fig.savefig(output_file)"
   ]
  },
  {
   "cell_type": "code",
   "execution_count": null,
   "metadata": {
    "collapsed": true
   },
   "outputs": [],
   "source": []
  }
 ],
 "metadata": {
  "kernelspec": {
   "display_name": "Python 2",
   "language": "python",
   "name": "python2"
  },
  "language_info": {
   "codemirror_mode": {
    "name": "ipython",
    "version": 2
   },
   "file_extension": ".py",
   "mimetype": "text/x-python",
   "name": "python",
   "nbconvert_exporter": "python",
   "pygments_lexer": "ipython2",
   "version": "2.7.13"
  }
 },
 "nbformat": 4,
 "nbformat_minor": 2
}
