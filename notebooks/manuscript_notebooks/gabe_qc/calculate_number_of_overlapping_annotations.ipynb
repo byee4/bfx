{
 "cells": [
  {
   "cell_type": "code",
   "execution_count": 1,
   "metadata": {
    "collapsed": true
   },
   "outputs": [],
   "source": [
    "%matplotlib inline\n",
    "import matplotlib.pyplot as plt\n",
    "import seaborn as sns\n",
    "from rnaseq import subset_rmats_junctioncountonly as subset\n",
    "import pandas as pd\n",
    "import pybedtools as bt\n",
    "import glob\n",
    "import os\n",
    "from tqdm import tnrange, tqdm_notebook"
   ]
  },
  {
   "cell_type": "code",
   "execution_count": 2,
   "metadata": {
    "collapsed": true
   },
   "outputs": [],
   "source": [
    "all_positive = glob.glob('/projects/ps-yeolab3/bay001/maps/current_annotations/se/*.positive.txt')\n",
    "all_negative = glob.glob('/projects/ps-yeolab3/bay001/maps/current_annotations/se/*.negative.txt')\n",
    "\n",
    "all_jxc = all_positive + all_negative"
   ]
  },
  {
   "cell_type": "code",
   "execution_count": 3,
   "metadata": {},
   "outputs": [
    {
     "data": {
      "application/vnd.jupyter.widget-view+json": {
       "model_id": "1cf3eddb8d1346739dee9def0546a92d"
      }
     },
     "metadata": {},
     "output_type": "display_data"
    }
   ],
   "source": [
    "bars = 3\n",
    "\n",
    "def create_merged_df_for_boxplot(samples, o, e='se'):\n",
    "    progress = tnrange(len(samples))\n",
    "    merged = pd.DataFrame(index=range(1,4))\n",
    "\n",
    "    for i in samples:\n",
    "        df = subset.run_subset_rmats_junctioncountonly(i, o, e)\n",
    "        if df.shape[0] > 100:\n",
    "            df['num_overlapping'] = df.apply(lambda x: len(str(x['name']).split(',')), axis=1)\n",
    "            df['num_toplot'] = df['num_overlapping'].apply(lambda x: bars if x > bars else x)\n",
    "            percentages = pd.DataFrame(df['num_toplot'].value_counts().div(df['num_toplot'].value_counts().sum()))\n",
    "            percentages.columns = [os.path.basename(i)]\n",
    "            \"\"\".replace(\n",
    "                '-SE.MATS.JunctionCountOnly.positive.txt','').replace(\n",
    "                '-SE.MATS.JunctionCountOnly.negative.txt','')\n",
    "                                  ]\"\"\"\n",
    "            merged = pd.merge(merged, percentages, how='left', left_index=True, right_index=True)\n",
    "        progress.update(1)\n",
    "    return merged.T\n",
    "\n",
    "o = '/projects/ps-yeolab3/bay001/tmp/test.jxc'\n",
    "merged = create_merged_df_for_boxplot(all_jxc, o)"
   ]
  },
  {
   "cell_type": "code",
   "execution_count": 7,
   "metadata": {},
   "outputs": [
    {
     "data": {
      "text/plain": [
       "<matplotlib.text.Text at 0x2af2703c8cd0>"
      ]
     },
     "execution_count": 7,
     "metadata": {},
     "output_type": "execute_result"
    },
    {
     "data": {
      "image/png": "[encoded data removed]",
      "text/plain": [
       "<matplotlib.figure.Figure at 0x2af26bc040d0>"
      ]
     },
     "metadata": {},
     "output_type": "display_data"
    }
   ],
   "source": [
    "sns.boxplot(merged)\n",
    "plt.title(\"Unique/doubly/triply+ called (Inclusion + Exclusion upon KD) events\")\n",
    "plt.ylabel(\"Percent\")\n",
    "plt.xlabel(\"Overlap count\")"
   ]
  },
  {
   "cell_type": "markdown",
   "metadata": {},
   "source": [
    "# find some examples\n",
    "- AQR seems like an outlier"
   ]
  },
  {
   "cell_type": "code",
   "execution_count": 14,
   "metadata": {},
   "outputs": [
    {
     "data": {
      "text/plain": [
       "AQR-BGKLV38-K562-SE.MATS.JunctionCountOnly.negative.txt         0.372177\n",
       "AQR-BGKLV38-K562                                                0.133174\n",
       "PUF60-BGKLV25-K562-SE.MATS.JunctionCountOnly.negative.txt       0.119500\n",
       "TARDBP-LV11-K562-SE.MATS.JunctionCountOnly.negative.txt         0.117268\n",
       "PUS1-BGKLV32-K562-SE.MATS.JunctionCountOnly.negative.txt        0.110988\n",
       "SRFBP1-BGHLV37-HepG2-SE.MATS.JunctionCountOnly.negative.txt     0.107928\n",
       "EWSR1-BGHLV31-HepG2-SE.MATS.JunctionCountOnly.negative.txt      0.105516\n",
       "EIF4A3-LV08-K562-SE.MATS.JunctionCountOnly.negative.txt         0.104096\n",
       "RBM22-BGHLV37-HepG2-SE.MATS.JunctionCountOnly.negative.txt      0.103359\n",
       "APOBEC3C-BGKLV25-K562-SE.MATS.JunctionCountOnly.negative.txt    0.102941\n",
       "PRPF8-BGKLV19-K562-SE.MATS.JunctionCountOnly.negative.txt       0.102851\n",
       "AKAP8L-BGHLV31-HepG2                                            0.102804\n",
       "SF3A3-BGHLV33-HepG2-SE.MATS.JunctionCountOnly.negative.txt      0.101983\n",
       "SF3A3-BGKLV34-K562                                              0.100719\n",
       "EFTUD2-BGKLV19-K562-SE.MATS.JunctionCountOnly.negative.txt      0.094003\n",
       "TIA1-BGHLV12-HepG2                                              0.093750\n",
       "SRSF7-BGKcLV02-K562-SE.MATS.JunctionCountOnly.negative.txt      0.093567\n",
       "UTP3-BGHLV33-HepG2                                              0.092664\n",
       "PCBP1-BGHLV12-HepG2-SE.MATS.JunctionCountOnly.negative.txt      0.091255\n",
       "RPS3A-BGHLV22-HepG2-SE.MATS.JunctionCountOnly.negative.txt      0.089947\n",
       "SF3B4-BGHLV12-HepG2-SE.MATS.JunctionCountOnly.negative.txt      0.089789\n",
       "DDX59-BGHLV35-HepG2                                             0.089655\n",
       "SRSF3-BGHLV35-HepG2-SE.MATS.JunctionCountOnly.negative.txt      0.087479\n",
       "U2AF1-BGHLV30-HepG2-SE.MATS.JunctionCountOnly.negative.txt      0.087383\n",
       "SRSF1-LV11-K562-SE.MATS.JunctionCountOnly.negative.txt          0.086957\n",
       "Name: 3, dtype: float64"
      ]
     },
     "execution_count": 14,
     "metadata": {},
     "output_type": "execute_result"
    }
   ],
   "source": [
    "merged[3].sort_values(ascending=False).head(25)"
   ]
  },
  {
   "cell_type": "code",
   "execution_count": 24,
   "metadata": {},
   "outputs": [
    {
     "data": {
      "text/html": [
       "<div>\n",
       "<style>\n",
       "    .dataframe thead tr:only-child th {\n",
       "        text-align: right;\n",
       "    }\n",
       "\n",
       "    .dataframe thead th {\n",
       "        text-align: left;\n",
       "    }\n",
       "\n",
       "    .dataframe tbody tr th {\n",
       "        vertical-align: top;\n",
       "    }\n",
       "</style>\n",
       "<table border=\"1\" class=\"dataframe\">\n",
       "  <thead>\n",
       "    <tr style=\"text-align: right;\">\n",
       "      <th></th>\n",
       "      <th>chrom</th>\n",
       "      <th>start</th>\n",
       "      <th>end</th>\n",
       "      <th>name</th>\n",
       "    </tr>\n",
       "  </thead>\n",
       "  <tbody>\n",
       "    <tr>\n",
       "      <th>0</th>\n",
       "      <td>chr1</td>\n",
       "      <td>1154013</td>\n",
       "      <td>1158623</td>\n",
       "      <td>593,658,700,712,718</td>\n",
       "    </tr>\n",
       "    <tr>\n",
       "      <th>1</th>\n",
       "      <td>chr1</td>\n",
       "      <td>1250998</td>\n",
       "      <td>1255835</td>\n",
       "      <td>1452</td>\n",
       "    </tr>\n",
       "    <tr>\n",
       "      <th>2</th>\n",
       "      <td>chr1</td>\n",
       "      <td>1422048</td>\n",
       "      <td>1424583</td>\n",
       "      <td>514</td>\n",
       "    </tr>\n",
       "    <tr>\n",
       "      <th>3</th>\n",
       "      <td>chr1</td>\n",
       "      <td>1684499</td>\n",
       "      <td>1685722</td>\n",
       "      <td>436,223,196</td>\n",
       "    </tr>\n",
       "    <tr>\n",
       "      <th>4</th>\n",
       "      <td>chr1</td>\n",
       "      <td>1770677</td>\n",
       "      <td>1822258</td>\n",
       "      <td>1185</td>\n",
       "    </tr>\n",
       "  </tbody>\n",
       "</table>\n",
       "</div>"
      ],
      "text/plain": [
       "  chrom    start      end                 name\n",
       "0  chr1  1154013  1158623  593,658,700,712,718\n",
       "1  chr1  1250998  1255835                 1452\n",
       "2  chr1  1422048  1424583                  514\n",
       "3  chr1  1684499  1685722          436,223,196\n",
       "4  chr1  1770677  1822258                 1185"
      ]
     },
     "execution_count": 24,
     "metadata": {},
     "output_type": "execute_result"
    }
   ],
   "source": [
    "\n",
    "wd = '/projects/ps-yeolab3/bay001/maps/current_annotations/se/'\n",
    "i = os.path.join(wd,'PRPF8-BGKLV19-K562-SE.MATS.JunctionCountOnly.negative.txt')\n",
    "o = '/projects/ps-yeolab3/bay001/tmp/test.jxc'\n",
    "annotation_df = subset.run_subset_rmats_junctioncountonly(i, o, e)\n",
    "annotation_df.head()"
   ]
  },
  {
   "cell_type": "code",
   "execution_count": null,
   "metadata": {
    "collapsed": true
   },
   "outputs": [],
   "source": []
  }
 ],
 "metadata": {
  "kernelspec": {
   "display_name": "Python 2",
   "language": "python",
   "name": "python2"
  },
  "language_info": {
   "codemirror_mode": {
    "name": "ipython",
    "version": 2
   },
   "file_extension": ".py",
   "mimetype": "text/x-python",
   "name": "python",
   "nbconvert_exporter": "python",
   "pygments_lexer": "ipython2",
   "version": "2.7.13"
  }
 },
 "nbformat": 4,
 "nbformat_minor": 2
}
