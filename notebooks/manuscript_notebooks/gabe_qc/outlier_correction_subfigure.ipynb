{
 "cells": [
  {
   "cell_type": "code",
   "execution_count": 1,
   "metadata": {},
   "outputs": [
    {
     "name": "stderr",
     "output_type": "stream",
     "text": [
      "/home/bay001/anaconda2/envs/brian/lib/python2.7/site-packages/matplotlib/__init__.py:1350: UserWarning:  This call to matplotlib.use() has no effect\n",
      "because the backend has already been chosen;\n",
      "matplotlib.use() must be called *before* pylab, matplotlib.pyplot,\n",
      "or matplotlib.backends is imported for the first time.\n",
      "\n",
      "  warnings.warn(_use_error_msg)\n"
     ]
    }
   ],
   "source": [
    "%matplotlib inline\n",
    "\n",
    "import matplotlib\n",
    "matplotlib.use('Agg')\n",
    "\n",
    "from matplotlib import rc\n",
    "rc('text', usetex=False)\n",
    "matplotlib.rcParams['svg.fonttype'] = 'none'\n",
    "rc('font', **{'family': 'sans-serif', 'sans-serif': ['Helvetica']})\n",
    "\n",
    "import matplotlib.patches as patches\n",
    "from collections import OrderedDict, defaultdict\n",
    "import seaborn as sns\n",
    "sns.set_style(\"ticks\")\n",
    "sns.set_context(\"talk\", font_scale=1.4)\n",
    "\n",
    "from tqdm import tnrange, tqdm_notebook\n",
    "import matplotlib.gridspec as gridspec\n",
    "import matplotlib.pyplot as plt\n",
    "import pandas as pd\n",
    "import numpy as np\n",
    "import os"
   ]
  },
  {
   "cell_type": "code",
   "execution_count": 2,
   "metadata": {},
   "outputs": [
    {
     "data": {
      "image/png": "[encoded data removed]",
      "text/plain": [
       "<matplotlib.figure.Figure at 0x2b7abc7c0c50>"
      ]
     },
     "metadata": {},
     "output_type": "display_data"
    }
   ],
   "source": [
    "sns.set_style(\"white\")\n",
    "sns.set_context(\"talk\", font_scale=1.4)\n",
    "\n",
    "sns.palplot(sns.color_palette(\"hls\", 16))\n",
    "colors = sns.color_palette(\"hls\", 16)\n",
    "density_colors = [colors[0], colors[9], 'black']"
   ]
  },
  {
   "cell_type": "code",
   "execution_count": 3,
   "metadata": {
    "collapsed": true
   },
   "outputs": [],
   "source": [
    "import matplotlib\n",
    "\n",
    "def plot_heatmap(df, font_size=8):\n",
    "    sns.set(font_scale=1)\n",
    "    r1 = df.iloc[:,:350]\n",
    "    r2 = df.iloc[:,350:700]\n",
    "    r3 = df.iloc[:,700:1050]\n",
    "    r4 = df.iloc[:,1050:]\n",
    "    vmin = min(df.min())\n",
    "    vmax = max(df.max())\n",
    "    regions = [r1, r2, r3, r4]\n",
    "\n",
    "    gs_hm = gridspec.GridSpec(\n",
    "                ncols=4, nrows=1, width_ratios=[1, 1, 1, 1]\n",
    "    )\n",
    "    f = plt.figure(figsize=(4, 2))\n",
    "    plot_axs = []\n",
    "    \n",
    "    for i in range(0, 4):\n",
    "        plot_axs.append(f.add_subplot(gs_hm[i]))\n",
    "        \n",
    "        if i < 3:\n",
    "            \"\"\"\n",
    "            plt.pcolor(\n",
    "                regions[i],\n",
    "                vmin=vmin,\n",
    "                vmax=vmax\n",
    "            )\n",
    "            \"\"\"\n",
    "            sns.heatmap(\n",
    "                regions[i], \n",
    "                xticklabels=False, \n",
    "                yticklabels=False, \n",
    "                ax=plot_axs[i], \n",
    "                vmin=vmin, \n",
    "                vmax=vmax,\n",
    "                cbar=False,\n",
    "            )\n",
    "        else:\n",
    "            cb = matplotlib.colorbar.ColorbarBase(ax=plot_axs[i], )\n",
    "            cb.ax.tick_params(labelsize=font_size)\n",
    "            \"\"\"\n",
    "            plt.pcolor(\n",
    "                regions[i],\n",
    "                vmin=vmin,\n",
    "                vmax=vmax,\n",
    "                cbar=True\n",
    "            )\n",
    "            \"\"\"\n",
    "            sns.heatmap(\n",
    "                regions[i], \n",
    "                xticklabels=False, \n",
    "                yticklabels=False, \n",
    "                ax=plot_axs[i], \n",
    "                vmin=vmin, \n",
    "                vmax=vmax,\n",
    "                # cbar=True,\n",
    "            )\n",
    "            plot_axs[i].tick_params(labelsize=font_size)\n",
    "    \n",
    "    \n",
    "    \"\"\"\n",
    "    sns.heatmap(\n",
    "        regions[3], \n",
    "        xticklabels=False, \n",
    "        yticklabels=False, \n",
    "        ax=plot_axs[3], \n",
    "        vmin=vmin, \n",
    "        vmax=vmax,\n",
    "        cbar=cb\n",
    "    )\n",
    "    \"\"\"\n"
   ]
  },
  {
   "cell_type": "code",
   "execution_count": null,
   "metadata": {
    "collapsed": true
   },
   "outputs": [],
   "source": []
  },
  {
   "cell_type": "code",
   "execution_count": 4,
   "metadata": {
    "collapsed": true
   },
   "outputs": [],
   "source": [
    "def _get_means_and_sems(df, conf=0.95):\n",
    "    \"\"\"\n",
    "    Sets the means and standard error values after outlier\n",
    "    removal. Replaces remove_outliers.\n",
    "\n",
    "    Parameters\n",
    "    ----------\n",
    "    df : pandas.DataFrame\n",
    "        table of densities or values\n",
    "    conf : float\n",
    "        keep {conf}% of densities present at every given position\n",
    "\n",
    "    Returns\n",
    "    -------\n",
    "\n",
    "    means : list\n",
    "        mean value for each position in the dataframe df\n",
    "    sems : list\n",
    "        standard error of the mean\n",
    "    \"\"\"\n",
    "\n",
    "    merged = pd.DataFrame(index=df.index)\n",
    "    progress = tnrange(df.shape[1])\n",
    "    for col, row in df.iteritems():\n",
    "        single_col = df[col].dropna()\n",
    "        single_col = single_col.sort_values()\n",
    "        nums = len(single_col)\n",
    "        droppercent = (1 - conf) / 2.0\n",
    "        dropnum = int(nums * droppercent)\n",
    "        if dropnum > 0:\n",
    "            single_col = single_col[dropnum:-dropnum]\n",
    "        merged = pd.merge(merged, pd.DataFrame(single_col), how='left', left_index=True, right_index=True)\n",
    "        progress.update(1)\n",
    "    return merged"
   ]
  },
  {
   "cell_type": "markdown",
   "metadata": {},
   "source": [
    "# Plot the heatmap of both the normalized densities with and without outlier removal (for excluded upon KD events):"
   ]
  },
  {
   "cell_type": "code",
   "execution_count": 5,
   "metadata": {},
   "outputs": [
    {
     "data": {
      "application/vnd.jupyter.widget-view+json": {
       "model_id": "5ded16183a9144af97926659efe96fe9"
      }
     },
     "metadata": {},
     "output_type": "display_data"
    }
   ],
   "source": [
    "wd = '/home/bay001/projects/gabe_qc_20170612/data/'\n",
    "conf_1 = '203_02_HNRNPC.merged.r2.2.conf1.HNRNPC-BGHLV20-HepG2-excluded-upon-knockdown.normed_matrix.txt'\n",
    "conf1_df = pd.read_table(os.path.join(wd,conf_1), sep=',', index_col=0)\n",
    "merged = _get_means_and_sems(conf1_df)"
   ]
  },
  {
   "cell_type": "code",
   "execution_count": 6,
   "metadata": {},
   "outputs": [
    {
     "name": "stderr",
     "output_type": "stream",
     "text": [
      "/home/bay001/anaconda2/envs/brian/lib/python2.7/site-packages/matplotlib/colorbar.py:215: UserWarning: Use the colorbar set_ticks() method instead.\n",
      "  warnings.warn(\"Use the colorbar set_ticks() method instead.\")\n"
     ]
    },
    {
     "data": {
      "image/png": "[encoded data removed]",
      "text/plain": [
       "<matplotlib.figure.Figure at 0x2b7af75bddd0>"
      ]
     },
     "metadata": {},
     "output_type": "display_data"
    }
   ],
   "source": [
    "# Plots the non-outlier-removed heatmap (see how a few signals dominate the global heatmap?)\n",
    "plot_heatmap(conf1_df.fillna(0))\n",
    "plt.savefig(\n",
    "    '/home/bay001/projects/gabe_qc_20170612/analysis/203_02_HNRNPC_heatmap_excl_on_kd_keep_outliers.pdf',\n",
    "    rasterized=True\n",
    ")\n",
    "# plt.cla()\n",
    "# plt.clf()"
   ]
  },
  {
   "cell_type": "code",
   "execution_count": 7,
   "metadata": {},
   "outputs": [
    {
     "data": {
      "image/png": "[encoded data removed]",
      "text/plain": [
       "<matplotlib.figure.Figure at 0x2b7abc7c0c10>"
      ]
     },
     "metadata": {},
     "output_type": "display_data"
    }
   ],
   "source": [
    "# Plots the outlier-removed heatmap (see how more global signal shows up?)\n",
    "plot_heatmap(merged.fillna(0))\n",
    "plt.savefig(\n",
    "    '/home/bay001/projects/gabe_qc_20170612/analysis/203_02_HNRNPC_heatmap_excl_on_kd_remove_outliers.pdf',\n",
    "    rasterized=True\n",
    ")\n",
    "# plt.cla()\n",
    "# plt.clf()"
   ]
  },
  {
   "cell_type": "markdown",
   "metadata": {},
   "source": [
    "# Plot the heatmap of both the normalized densities with and without outlier removal (for included upon KD events):"
   ]
  },
  {
   "cell_type": "code",
   "execution_count": 8,
   "metadata": {
    "collapsed": true
   },
   "outputs": [],
   "source": [
    "wd = '/home/bay001/projects/gabe_qc_20170612/data/'\n",
    "conf_1 = '203_02_HNRNPC.merged.r2.2.conf1.HNRNPC-BGHLV20-HepG2-included-upon-knockdown.normed_matrix.txt'\n",
    "conf_095 = '203_02_HNRNPC.merged.r2.2.conf0.95.HNRNPC-BGHLV20-HepG2-included-upon-knockdown.normed_matrix.txt'"
   ]
  },
  {
   "cell_type": "code",
   "execution_count": 9,
   "metadata": {
    "collapsed": true
   },
   "outputs": [],
   "source": [
    "conf1_df = pd.read_table(os.path.join(wd,conf_1), sep=',', index_col=0)\n",
    "conf095_df = pd.read_table(os.path.join(wd,conf_095), sep=',', index_col=0)"
   ]
  },
  {
   "cell_type": "code",
   "execution_count": 10,
   "metadata": {},
   "outputs": [
    {
     "data": {
      "image/png": "[encoded data removed]",
      "text/plain": [
       "<matplotlib.figure.Figure at 0x2b7aa5acecd0>"
      ]
     },
     "metadata": {},
     "output_type": "display_data"
    }
   ],
   "source": [
    "# Plots the non-outlier-removed heatmap (see how a few signals dominate the global heatmap?)\n",
    "plot_heatmap(conf1_df.dropna())\n",
    "plt.savefig(\n",
    "    '/home/bay001/projects/gabe_qc_20170612/analysis/203_02_HNRNPC_heatmap_incl_on_kd_keep_outliers.pdf',\n",
    "    rasterized=True\n",
    ")\n",
    "# plt.cla()\n",
    "# plt.clf()"
   ]
  },
  {
   "cell_type": "code",
   "execution_count": 11,
   "metadata": {},
   "outputs": [
    {
     "data": {
      "application/vnd.jupyter.widget-view+json": {
       "model_id": "b0f36e96e90f4cfa94b8ae6a6711a5be"
      }
     },
     "metadata": {},
     "output_type": "display_data"
    },
    {
     "name": "stdout",
     "output_type": "stream",
     "text": [
      "\n"
     ]
    },
    {
     "data": {
      "image/png": "[encoded data removed]",
      "text/plain": [
       "<matplotlib.figure.Figure at 0x2b7abc797d50>"
      ]
     },
     "metadata": {},
     "output_type": "display_data"
    }
   ],
   "source": [
    "# Plots the outlier-removed heatmap (see how more global signal shows up?)\n",
    "merged = _get_means_and_sems(conf095_df)\n",
    "plot_heatmap(merged.fillna(0))\n",
    "plt.savefig(\n",
    "    '/home/bay001/projects/gabe_qc_20170612/analysis/203_02_HNRNPC_heatmap_incl_on_kd_remove_outliers.pdf',\n",
    "    rasterized=True\n",
    ")\n",
    "# plt.cla()\n",
    "# plt.clf()"
   ]
  },
  {
   "cell_type": "code",
   "execution_count": null,
   "metadata": {},
   "outputs": [],
   "source": []
  },
  {
   "cell_type": "code",
   "execution_count": null,
   "metadata": {
    "collapsed": true
   },
   "outputs": [],
   "source": []
  },
  {
   "cell_type": "markdown",
   "metadata": {},
   "source": [
    "# Plot the companion RBP map\n",
    "- hopefully these are the same size/dimensions as their respective heatmaps, so that they can be easily lined up in a figure :) "
   ]
  },
  {
   "cell_type": "code",
   "execution_count": 12,
   "metadata": {
    "collapsed": true
   },
   "outputs": [],
   "source": [
    "import sys\n",
    "sys.path.insert(0, '/home/bay001/projects/codebase/rbp-maps/maps/')\n",
    "from density import Map\n",
    "from density import ReadDensity\n",
    "from density import normalization_functions\n",
    "from density import RDPlotter\n",
    "from density import LineObject as dline"
   ]
  },
  {
   "cell_type": "code",
   "execution_count": 13,
   "metadata": {
    "collapsed": true
   },
   "outputs": [],
   "source": [
    "density_dir = '/home/bay001/projects/gabe_qc_20170612/data/'\n",
    "\n",
    "hnrnpc_density_included = os.path.join(density_dir, '203_02_HNRNPC.merged.r2.2.conf1.HNRNPC-BGHLV20-HepG2-included-upon-knockdown.normed_matrix.txt')\n",
    "hnrnpc_density_excluded = os.path.join(density_dir, '203_02_HNRNPC.merged.r2.2.conf1.HNRNPC-BGHLV20-HepG2-excluded-upon-knockdown.normed_matrix.txt')\n",
    "hnrnpc_density_native_cass = os.path.join(density_dir, '203_02_HNRNPC.merged.r2.2.HepG2_native_cassette_exons.normed_matrix.txt')"
   ]
  },
  {
   "cell_type": "code",
   "execution_count": 14,
   "metadata": {
    "collapsed": true
   },
   "outputs": [],
   "source": [
    "entropy = defaultdict(dict)\n",
    "subtraction = defaultdict(dict)\n",
    "\n",
    "entropy['included'] = {\n",
    "    'matrix':hnrnpc_density_included,\n",
    "    'color':density_colors[0]\n",
    "}\n",
    "entropy['excluded'] = {\n",
    "    'matrix':hnrnpc_density_excluded,\n",
    "    'color':density_colors[1]\n",
    "}\n",
    "entropy['background'] = {\n",
    "    'matrix':hnrnpc_density_native_cass,\n",
    "    'color':density_colors[2]\n",
    "}"
   ]
  },
  {
   "cell_type": "code",
   "execution_count": 15,
   "metadata": {},
   "outputs": [
    {
     "name": "stdout",
     "output_type": "stream",
     "text": [
      "((492, 1400), 'Included upon knockdown (492 events)')\n",
      "((476, 1400), 'Excluded upon knockdown (476 events)')\n",
      "((2555, 1400), 'Native cassettes (2555 events)')\n"
     ]
    }
   ],
   "source": [
    "d = entropy\n",
    "\n",
    "density_incl = dline.LineObject(\n",
    "    event_matrix=pd.read_table(d['included']['matrix'], sep=',', index_col=0),\n",
    "    annotation='Included upon knockdown',\n",
    "    conf=1,\n",
    "    color=d['included']['color'],\n",
    "    min_event_threshold=100\n",
    ")\n",
    "density_excl = dline.LineObject(\n",
    "    event_matrix=pd.read_table(d['excluded']['matrix'], sep=',', index_col=0),\n",
    "    annotation='Excluded upon knockdown',\n",
    "    conf=1,\n",
    "    color=d['excluded']['color'],\n",
    "    min_event_threshold=100\n",
    ")\n",
    "density_bg = dline.LineObject(\n",
    "    event_matrix=pd.read_table(d['background']['matrix'], sep=',', index_col=0),\n",
    "    annotation='Native cassettes',\n",
    "    conf=1,\n",
    "    color=d['background']['color'],\n",
    "    min_event_threshold=100\n",
    ")"
   ]
  },
  {
   "cell_type": "code",
   "execution_count": 16,
   "metadata": {},
   "outputs": [
    {
     "data": {
      "image/png": "[encoded data removed]",
      "text/plain": [
       "<matplotlib.figure.Figure at 0x2b7b13971650>"
      ]
     },
     "metadata": {},
     "output_type": "display_data"
    }
   ],
   "source": [
    "# plot once with the axes labels\n",
    "import matplotlib.patches as mpatches\n",
    "\n",
    "FONTSIZE=8\n",
    "\n",
    "f, (ax1, ax2, ax3, ax4) = plt.subplots(1, 4, sharey=True, figsize=(4, 1))\n",
    "\n",
    "axs = [ax1, ax2, ax3, ax4]\n",
    "\n",
    "RDPlotter.plot_se([density_incl, density_excl, density_bg], axs, density_colors) # density_bg\n",
    "ax1.set_ylabel(\"Normalized Read Density\\n(1e-6)\", size=FONTSIZE)\n",
    "\n",
    "# plt.tight_layout()\n",
    "for ax in axs:\n",
    "        ax.tick_params(labelsize=FONTSIZE)\n",
    "\n",
    "ax1.yaxis.set_ticks([-0.000001, 0, 0.000003])\n",
    "ax2.yaxis.set_ticks([-0.000001, 0, 0.000003])\n",
    "ax3.yaxis.set_ticks([-0.000001, 0, 0.000003])\n",
    "ax4.yaxis.set_ticks([-0.000001, 0, 0.000003])\n",
    "\n",
    "ax1.yaxis.set_ticklabels(['-1','0','3'])\n",
    "\n",
    "for ax in axs[1:3]:\n",
    "    sns.despine(ax=ax, top=True, left=True, right=True)\n",
    "    \n",
    "sns.despine(ax=axs[0], top=True, left=False, right=True)\n",
    "sns.despine(ax=axs[3], top=True, left=True, right=False)\n",
    "    \n",
    "incl_density_patch = mpatches.Patch(color=d['included']['color'], label='Included upon KD')\n",
    "excl_density_patch = mpatches.Patch(color=d['excluded']['color'], label='Excluded upon KD')\n",
    "\n",
    "leg = axs[0].legend(\n",
    "    bbox_to_anchor=(2.3, -0.6), loc=1, mode=\"expand\",\n",
    "    handles=[incl_density_patch, excl_density_patch],\n",
    "    borderaxespad=0., ncol=2, fontsize=FONTSIZE\n",
    ")\n",
    "plt.savefig('/home/bay001/projects/gabe_qc_20170612/analysis/203_02_HNRNPC_splicemap_keep_outliers.svg')\n"
   ]
  },
  {
   "cell_type": "code",
   "execution_count": null,
   "metadata": {
    "collapsed": true
   },
   "outputs": [],
   "source": []
  },
  {
   "cell_type": "markdown",
   "metadata": {},
   "source": [
    "# change conf to 0.95"
   ]
  },
  {
   "cell_type": "code",
   "execution_count": 17,
   "metadata": {},
   "outputs": [
    {
     "name": "stdout",
     "output_type": "stream",
     "text": [
      "((492, 1400), 'Included upon knockdown (492 events)')\n",
      "((476, 1400), 'Excluded upon knockdown (476 events)')\n",
      "((2555, 1400), 'Native cassettes (2555 events)')\n"
     ]
    }
   ],
   "source": [
    "d = entropy\n",
    "\n",
    "density_incl = dline.LineObject(\n",
    "    event_matrix=pd.read_table(d['included']['matrix'], sep=',', index_col=0),\n",
    "    annotation='Included upon knockdown',\n",
    "    conf=0.95,\n",
    "    color=d['included']['color'],\n",
    "    min_event_threshold=100\n",
    ")\n",
    "density_excl = dline.LineObject(\n",
    "    event_matrix=pd.read_table(d['excluded']['matrix'], sep=',', index_col=0),\n",
    "    annotation='Excluded upon knockdown',\n",
    "    conf=0.95,\n",
    "    color=d['excluded']['color'],\n",
    "    min_event_threshold=100\n",
    ")\n",
    "density_bg = dline.LineObject(\n",
    "    event_matrix=pd.read_table(d['background']['matrix'], sep=',', index_col=0),\n",
    "    annotation='Native cassettes',\n",
    "    conf=0.95,\n",
    "    color=d['background']['color'],\n",
    "    min_event_threshold=100\n",
    ")"
   ]
  },
  {
   "cell_type": "code",
   "execution_count": 18,
   "metadata": {},
   "outputs": [
    {
     "data": {
      "image/png": "[encoded data removed]",
      "text/plain": [
       "<matplotlib.figure.Figure at 0x2b7b13958990>"
      ]
     },
     "metadata": {},
     "output_type": "display_data"
    }
   ],
   "source": [
    "# plot once with the axes labels\n",
    "import matplotlib.patches as mpatches\n",
    "\n",
    "FONTSIZE=8\n",
    "\n",
    "f, (ax1, ax2, ax3, ax4) = plt.subplots(1, 4, sharey=True, figsize=(4, 1))\n",
    "\n",
    "axs = [ax1, ax2, ax3, ax4]\n",
    "\n",
    "RDPlotter.plot_se([density_incl, density_excl, density_bg], axs, density_colors) # density_bg\n",
    "ax1.set_ylabel(\"Normalized Read Density\\n(1e-6)\", size=FONTSIZE)\n",
    "\n",
    "# plt.tight_layout()\n",
    "for ax in axs:\n",
    "        ax.tick_params(labelsize=FONTSIZE)\n",
    "\n",
    "ax1.yaxis.set_ticks([-0.0000003, 0, 0.0000006])\n",
    "ax2.yaxis.set_ticks([-0.0000003, 0, 0.0000006])\n",
    "ax3.yaxis.set_ticks([-0.0000003, 0, 0.0000006])\n",
    "ax4.yaxis.set_ticks([-0.0000003, 0, 0.0000006])\n",
    "\n",
    "ax1.yaxis.set_ticklabels(['-3','0','6'])\n",
    "\n",
    "for ax in axs[1:3]:\n",
    "    sns.despine(ax=ax, top=True, left=True, right=True)\n",
    "    \n",
    "sns.despine(ax=axs[0], top=True, left=False, right=True)\n",
    "sns.despine(ax=axs[3], top=True, left=True, right=False)\n",
    "    \n",
    "# ax1.yaxis.set_ticklabels(['-3e-7','','',0,'','','','','','6e-7'])\n",
    "\n",
    "incl_density_patch = mpatches.Patch(color=d['included']['color'], label='Incl upon KD')\n",
    "excl_density_patch = mpatches.Patch(color=d['excluded']['color'], label='Excl upon KD')\n",
    "\n",
    "leg = axs[0].legend(\n",
    "    bbox_to_anchor=(2.3, -0.6), loc=1, mode=\"expand\",\n",
    "    handles=[incl_density_patch, excl_density_patch],\n",
    "    borderaxespad=0., ncol=2, fontsize=FONTSIZE\n",
    ")\n",
    "plt.savefig('/home/bay001/projects/gabe_qc_20170612/analysis/203_02_HNRNPC_splicemap_remove_outliers.svg')"
   ]
  },
  {
   "cell_type": "code",
   "execution_count": null,
   "metadata": {
    "collapsed": true
   },
   "outputs": [],
   "source": []
  },
  {
   "cell_type": "code",
   "execution_count": null,
   "metadata": {
    "collapsed": true
   },
   "outputs": [],
   "source": []
  },
  {
   "cell_type": "code",
   "execution_count": null,
   "metadata": {
    "collapsed": true
   },
   "outputs": [],
   "source": []
  }
 ],
 "metadata": {
  "kernelspec": {
   "display_name": "Python 2",
   "language": "python",
   "name": "python2"
  },
  "language_info": {
   "codemirror_mode": {
    "name": "ipython",
    "version": 2
   },
   "file_extension": ".py",
   "mimetype": "text/x-python",
   "name": "python",
   "nbconvert_exporter": "python",
   "pygments_lexer": "ipython2",
   "version": "2.7.13"
  }
 },
 "nbformat": 4,
 "nbformat_minor": 2
}
