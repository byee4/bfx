{
 "cells": [
  {
   "cell_type": "code",
   "execution_count": 1,
   "metadata": {
    "collapsed": true
   },
   "outputs": [],
   "source": [
    "import pandas as pd\n",
    "import os\n",
    "import json\n",
    "import yaml\n",
    "import glob\n",
    "# import rethinkdb as r\n",
    "from collections import defaultdict\n",
    "from qtools import Submitter\n",
    "from encode import manifest_helpers as m\n",
    "\n",
    "from tqdm import tnrange, tqdm_notebook\n",
    "pd.set_option(\"display.max_colwidth\", 10000)"
   ]
  },
  {
   "cell_type": "code",
   "execution_count": 2,
   "metadata": {
    "collapsed": true
   },
   "outputs": [],
   "source": [
    "current_date = '7-3-2017'\n",
    "density_runner = '/home/bay001/projects/codebase/rbp-maps/maps/plot_density.py'\n",
    "peak_runner = '/home/bay001/projects/codebase/rbp-maps/maps/plot_peak.py'\n",
    "out_dir = '/home/bay001/projects/gabe_qc_20170612/data/'\n",
    "miso_annotation_dir = '/projects/ps-yeolab3/bay001/maps/current_annotations/as_miso_renamed'\n",
    "annotation_dir = '/projects/ps-yeolab3/bay001/maps/current_annotations/se_renamed/'\n",
    "# annotation_dir = '/projects/ps-yeolab3/bay001/maps/current_annotations/se/'"
   ]
  },
  {
   "cell_type": "code",
   "execution_count": 8,
   "metadata": {
    "collapsed": true
   },
   "outputs": [],
   "source": [
    "params = {\n",
    "    'whole_read':{\n",
    "        # 'output_dir' : '/home/bay001/projects/gabe_qc_20170612/data/maps_w_redundant_annotations/',\n",
    "        'output_dir' : '/home/bay001/projects/gabe_qc_20170612/data/',\n",
    "        'clip_manifest' : '/home/bay001/projects/maps_20160420/permanent_data/ALLDATASETS_submittedonly.txt',\n",
    "        # 'clip_manifest' : '/home/bay001/projects/gabe_qc_20170612/permanent_data/gabe_manifest_examples.txt',\n",
    "        'prefix' : 'whole_read',\n",
    "        'confidence' : 1\n",
    "    },\n",
    "}"
   ]
  },
  {
   "cell_type": "code",
   "execution_count": 9,
   "metadata": {
    "collapsed": true
   },
   "outputs": [],
   "source": [
    "hepg2_rnaseq_manifest = '/home/bay001/projects/maps_20160420/permanent_data/RNASeq_final_exp_list_HepG2.csv'\n",
    "k562_rnaseq_manifest = '/home/bay001/projects/maps_20160420/permanent_data/RNASeq_final_exp_list_K562.csv'\n",
    "rnaseq_manifests = {'HepG2':hepg2_rnaseq_manifest, 'K562':k562_rnaseq_manifest}\n",
    "chrom_sizes = '/projects/ps-yeolab/genomes/hg19/hg19.chrom.sizes'"
   ]
  },
  {
   "cell_type": "code",
   "execution_count": 10,
   "metadata": {},
   "outputs": [
    {
     "name": "stdout",
     "output_type": "stream",
     "text": [
      "mkdir: cannot create directory `/projects/ps-yeolab3/bay001/gabe_qc_20170612/bash_scripts/7-3-2017': File exists\r\n"
     ]
    }
   ],
   "source": [
    "bash_scripts_dir = '/projects/ps-yeolab3/bay001/gabe_qc_20170612/bash_scripts/{}'.format(current_date)\n",
    "! mkdir $bash_scripts_dir"
   ]
  },
  {
   "cell_type": "code",
   "execution_count": 11,
   "metadata": {
    "collapsed": true
   },
   "outputs": [],
   "source": [
    "img_extension = ['png']\n",
    "pos_splicing_suffix = '-included-upon-knockdown'\n",
    "neg_splicing_suffix = '-excluded-upon-knockdown'\n",
    "# pos_splicing_suffix = '-SE.MATS.JunctionCountOnly.positive.txt'\n",
    "# neg_splicing_suffix = '-SE.MATS.JunctionCountOnly.negative.txt'\n",
    "\n",
    "read_type = 'whole_read'\n",
    "\n",
    "### DEFINE BACKGROUNDS (THESE ARE STATIC AND DON'T CHANGE) ###\n",
    "k562_background_ce = os.path.join(annotation_dir, 'K562_constitutive_exons')\n",
    "k562_background_nse_all = os.path.join(annotation_dir, 'K562_native_cassette_exons')\n",
    "k562_background_nse_inc = os.path.join(annotation_dir, 'K562_natively_included_exons')\n",
    "k562_background_nse_exc = os.path.join(annotation_dir, 'K562_natively_excluded_exons')\n",
    "\n",
    "hepg2_background_ce = os.path.join(annotation_dir, 'HepG2_constitutive_exons')\n",
    "hepg2_background_nse_all = os.path.join(annotation_dir, 'HepG2_native_cassette_exons')\n",
    "hepg2_background_nse_inc = os.path.join(annotation_dir, 'HepG2_natively_included_exons')\n",
    "hepg2_background_nse_exc = os.path.join(annotation_dir, 'HepG2_natively_excluded_exons')\n"
   ]
  },
  {
   "cell_type": "code",
   "execution_count": 12,
   "metadata": {
    "scrolled": true
   },
   "outputs": [
    {
     "name": "stdout",
     "output_type": "stream",
     "text": [
      "warning, these dont match: DROSHA, RNASEN50-BGKLV28-K562-included-upon-knockdown, RNASEN50-BGKLV28-K562-excluded-upon-knockdown\n",
      "warning, these dont match: YBX3, CSDA-BGKLV24-K562-included-upon-knockdown, CSDA-BGKLV24-K562-excluded-upon-knockdown\n",
      "warning, these dont match: DROSHA, RNASEN50-BGKLV28-K562-included-upon-knockdown, RNASEN50-BGKLV28-K562-excluded-upon-knockdown\n",
      "warning, these dont match: YBX3, CSDA-BGKLV24-K562-included-upon-knockdown, CSDA-BGKLV24-K562-excluded-upon-knockdown\n",
      "uIDs for which we don't have splicing data for: 46\n",
      "uIDs for which we have an RNASEQ ID, but we don't have the splicing data yet: 14\n"
     ]
    },
    {
     "name": "stderr",
     "output_type": "stream",
     "text": [
      "Writing 500 tasks as an array-job.\n",
      "Wrote commands to /projects/ps-yeolab3/bay001/gabe_qc_20170612/bash_scripts/7-3-2017/whole_read.conf1.-SE_NR_png.NR1.sh.\n",
      "Submitted script to queue home-scrm.\n",
      " Job ID: 8912391\n",
      "Writing 104 tasks as an array-job.\n",
      "Wrote commands to /projects/ps-yeolab3/bay001/gabe_qc_20170612/bash_scripts/7-3-2017/whole_read.conf1.-SE_NR_png.NR2.sh.\n",
      "Submitted script to queue home-scrm.\n",
      " Job ID: 8912392\n"
     ]
    }
   ],
   "source": [
    "clip_df = pd.read_table(params[read_type]['clip_manifest'])\n",
    "confidence = params[read_type]['confidence']\n",
    "no_rnaseq = [] # uIDs for which we don't have rna seq expt ids for\n",
    "no_rnaseq_yet = [] # uIDs for which we have an expt id, but haven't downloaded the data yet (or there were no significant splice events)\n",
    "cmds = []\n",
    "\n",
    "normalization_levels = [1,2]\n",
    "\n",
    "for level in normalization_levels:\n",
    "    for ext in img_extension:\n",
    "        for uid in clip_df['uID']:\n",
    "\n",
    "            r1, r2, i, rbp, cell = m.get_clip_file_from_uid(clip_df, uid)\n",
    "\n",
    "            if cell == 'K562':\n",
    "                background1 = k562_background_ce\n",
    "                background2 = k562_background_nse_all\n",
    "                background3 = k562_background_nse_inc\n",
    "                background4 = k562_background_nse_exc\n",
    "            elif cell == 'HepG2':\n",
    "                background1 = hepg2_background_ce\n",
    "                background2 = hepg2_background_nse_all\n",
    "                background3 = hepg2_background_nse_inc\n",
    "                background4 = hepg2_background_nse_exc\n",
    "            else:\n",
    "                print(cell)\n",
    "\n",
    "            ##### Given RBP name, cell line, return the Graveley lab ID (ie. RBFOX2-BGHLV19-HepG2) #####\n",
    "            splicing_prefix = m.get_rnaseq_splicing_prefix_from_rbpname(\n",
    "                rnaseq_manifests, rbp, cell\n",
    "            )\n",
    "            if(splicing_prefix == \"NO_RNASEQ\"): # we don't have an rna seq expt for this clip:\n",
    "                no_rnaseq.append(uid)\n",
    "            else:\n",
    "                ##### get the positive and negative associated annotations using this prefix #####\n",
    "                positive, negative = m.get_annotations_from_splicing_prefix(\n",
    "                    annotation_dir, splicing_prefix, \n",
    "                    pos_splicing_suffix, neg_splicing_suffix\n",
    "                )\n",
    "                ### we HAVE to have at both positive and negative annotations to plot ###\n",
    "                if(positive == None or negative == None):\n",
    "                    no_rnaseq_yet.append(uid)\n",
    "                else:\n",
    "                    ### uses RBP name to ensure positive and negative annotations are being pulled ###\n",
    "                    pos_prefix = os.path.basename(positive).split('-')[0]\n",
    "                    neg_prefix = os.path.basename(negative).split('-')[0]\n",
    "                    if not (pos_prefix in rbp and neg_prefix in rbp):\n",
    "                        print(\n",
    "                            'warning, these dont match: {}, {}, {}'.format(\n",
    "                                rbp, \n",
    "                                os.path.basename(positive),\n",
    "                                os.path.basename(negative)\n",
    "                            )\n",
    "                        )\n",
    "                    ### Foreach replicate, build teh command used to call the python script.\n",
    "                    for r in [r1, r2]:\n",
    "                        name = os.path.basename(r).replace('.bam','.{}.conf{}.{}'.format(level, confidence, ext))\n",
    "                        output_filename = os.path.join(\n",
    "                            params[read_type]['output_dir'],\n",
    "                            name\n",
    "                        )\n",
    "\n",
    "                        # Build the cmd line\n",
    "                        cmd = \"python \" + density_runner\n",
    "                        cmd = cmd + \" --event {}\".format('se')\n",
    "                        cmd = cmd + \" --ipbam {}\".format(r)\n",
    "                        cmd = cmd + \" --inputbam {}\".format(i)\n",
    "                        cmd = cmd + \" --output {}\".format(output_filename)\n",
    "                        cmd = cmd + \" --annotations {} {} {} {} {} {}\".format(\n",
    "                            positive, negative, background1, background2, background3, background4\n",
    "                        )\n",
    "                        cmd = cmd + \" --annotation_type {} {} {} {} {} {}\".format(\n",
    "                            'rmats', 'rmats', 'eric', 'eric', 'eric', 'eric' \n",
    "                        )\n",
    "                        cmd = cmd + \" --chrom_sizes {}\".format(chrom_sizes)\n",
    "                        cmd = cmd + \" --to_test {} {}\".format(positive, negative)\n",
    "                        cmd = cmd + \" --bgnum {}\".format(3) # test against native SE\n",
    "                        cmd = cmd + \" --normalization_level {}\".format(level)\n",
    "                        cmd = cmd + \" --confidence {}\".format(confidence)\n",
    "                        cmds.append(cmd)\n",
    "\n",
    "bash_script_sh = '/projects/ps-yeolab3/bay001/gabe_qc_20170612/bash_scripts/{}/{}.conf{}.-SE_NR_{}.NR.sh'.format(\n",
    "    current_date, \n",
    "    params[read_type]['prefix'], \n",
    "    confidence,\n",
    "    ext\n",
    ")\n",
    "with open(bash_script_sh,'w') as o:\n",
    "    o.write(\"#!/bin/bash\\n\")\n",
    "    for cmd in cmds:\n",
    "        o.write(cmd + '\\n')\n",
    "\n",
    "Submitter(\n",
    "    cmds, \n",
    "    \"{}-SE_NR_{}\".format(params[read_type]['prefix'], ext), \n",
    "    sh=bash_script_sh,\n",
    "    submit=False,\n",
    "    array=True,\n",
    "    walltime='3:00:00',\n",
    "    queue='home-scrm'\n",
    ")\n",
    "\n",
    "### Print any missing/unavailable annotations to check over ###\n",
    "print(\"uIDs for which we don't have splicing data for: {}\".format(\n",
    "        len(no_rnaseq))\n",
    "     )\n",
    "print(\"uIDs for which we have an RNASEQ ID, but we don't have the splicing data yet: {}\".format(\n",
    "        len(no_rnaseq_yet))\n",
    "     )"
   ]
  },
  {
   "cell_type": "code",
   "execution_count": 60,
   "metadata": {},
   "outputs": [
    {
     "data": {
      "text/plain": [
       "[332, 332, 332, 332]"
      ]
     },
     "execution_count": 60,
     "metadata": {},
     "output_type": "execute_result"
    }
   ],
   "source": [
    "no_rnaseq"
   ]
  },
  {
   "cell_type": "markdown",
   "metadata": {
    "collapsed": true
   },
   "source": [
    "# "
   ]
  },
  {
   "cell_type": "code",
   "execution_count": null,
   "metadata": {
    "collapsed": true
   },
   "outputs": [],
   "source": []
  }
 ],
 "metadata": {
  "kernelspec": {
   "display_name": "Python 2",
   "language": "python",
   "name": "python2"
  },
  "language_info": {
   "codemirror_mode": {
    "name": "ipython",
    "version": 2
   },
   "file_extension": ".py",
   "mimetype": "text/x-python",
   "name": "python",
   "nbconvert_exporter": "python",
   "pygments_lexer": "ipython2",
   "version": "2.7.13"
  }
 },
 "nbformat": 4,
 "nbformat_minor": 2
}
