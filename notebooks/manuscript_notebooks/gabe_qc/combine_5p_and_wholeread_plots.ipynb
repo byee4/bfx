{
 "cells": [
  {
   "cell_type": "code",
   "execution_count": null,
   "metadata": {
    "collapsed": true
   },
   "outputs": [],
   "source": []
  },
  {
   "cell_type": "code",
   "execution_count": 1,
   "metadata": {},
   "outputs": [
    {
     "name": "stderr",
     "output_type": "stream",
     "text": [
      "/home/bay001/anaconda2/envs/brian/lib/python2.7/site-packages/matplotlib/__init__.py:1350: UserWarning:  This call to matplotlib.use() has no effect\n",
      "because the backend has already been chosen;\n",
      "matplotlib.use() must be called *before* pylab, matplotlib.pyplot,\n",
      "or matplotlib.backends is imported for the first time.\n",
      "\n",
      "  warnings.warn(_use_error_msg)\n"
     ]
    },
    {
     "data": {
      "image/png": "[encoded data removed]",
      "text/plain": [
       "<matplotlib.figure.Figure at 0x2b6bfde49f10>"
      ]
     },
     "metadata": {},
     "output_type": "display_data"
    }
   ],
   "source": [
    "%matplotlib inline\n",
    "import seaborn as sns\n",
    "import pandas as pd\n",
    "import numpy as np\n",
    "import os\n",
    "import sys\n",
    "import matplotlib\n",
    "import matplotlib.pyplot as plt\n",
    "from matplotlib import rc\n",
    "\n",
    "rc('text', usetex=False)\n",
    "matplotlib.rcParams['svg.fonttype'] = 'none'\n",
    "rc('font', **{'family': 'sans-serif', 'sans-serif': ['Helvetica']})\n",
    "\n",
    "sys.path.insert(0, '/home/bay001/projects/codebase/rbp-maps/maps/')\n",
    "from density import Map\n",
    "from density import ReadDensity\n",
    "from density import normalization_functions\n",
    "from density import RDPlotter\n",
    "from density import LineObject as dline\n",
    "from peak import LineObject as pline\n",
    "from peak import PeakPlotter\n",
    "\n",
    "\n",
    "sns.set_style(\"ticks\")\n",
    "sns.set_context(\"talk\", font_scale=1.4)\n",
    "\n",
    "sns.palplot(sns.color_palette(\"hls\", 16))\n",
    "colors = sns.color_palette(\"hls\", 16)\n",
    "density_colors = [colors[0], colors[15]]\n",
    "fivep_density_colors = [colors[8], colors[9]]\n"
   ]
  },
  {
   "cell_type": "code",
   "execution_count": 2,
   "metadata": {
    "collapsed": true
   },
   "outputs": [],
   "source": [
    "density_dir = '/projects/ps-yeolab3/bay001/maps/current/se'\n",
    "\n",
    "\"\"\"density_included = os.path.join(density_dir, '204_01_RBFOX2.merged.r2.1.RBFOX2-BGHLV26-HepG2-included-upon-knockdown.normed_matrix.txt')\n",
    "density_excluded = os.path.join(density_dir, '204_01_RBFOX2.merged.r2.1.RBFOX2-BGHLV26-HepG2-excluded-upon-knockdown.normed_matrix.txt')\n",
    "density_native_cass = os.path.join(density_dir, '204_01_RBFOX2.merged.r2.1.HepG2_native_cassette_exons.normed_matrix.txt')\n",
    "\n",
    "density_included = os.path.join(density_dir, '218_01_TRA2A.merged.r2.1.TRA2A-BGHLV14-HepG2-included-upon-knockdown.normed_matrix.txt')\n",
    "density_excluded = os.path.join(density_dir, '218_01_TRA2A.merged.r2.1.TRA2A-BGHLV14-HepG2-excluded-upon-knockdown.normed_matrix.txt')\n",
    "density_native_cass = os.path.join(density_dir, '218_01_TRA2A.merged.r2.1.HepG2_native_cassette_exons.normed_matrix.txt')\n",
    "\"\"\"\n",
    "\n",
    "density_included = os.path.join(density_dir, '272_01_U2AF2.merged.r2.1.U2AF2-BGHLV26-HepG2-included-upon-knockdown.normed_matrix.txt')\n",
    "density_excluded = os.path.join(density_dir, '272_01_U2AF2.merged.r2.1.U2AF2-BGHLV26-HepG2-excluded-upon-knockdown.normed_matrix.txt')\n",
    "density_native_cass = os.path.join(density_dir, '272_01_U2AF2.merged.r2.1.HepG2_native_cassette_exons.normed_matrix.txt')\n",
    "\n"
   ]
  },
  {
   "cell_type": "code",
   "execution_count": 3,
   "metadata": {
    "collapsed": true
   },
   "outputs": [],
   "source": [
    "density_5p_dir = '/projects/ps-yeolab3/bay001/maps/current/se_5p/'\n",
    "\n",
    "\"\"\"density_included_5p = os.path.join(density_5p_dir, '204_01_RBFOX2.merged.r2.5.1.RBFOX2-BGHLV26-HepG2-included-upon-knockdown.normed_matrix.txt')\n",
    "density_excluded_5p = os.path.join(density_5p_dir, '204_01_RBFOX2.merged.r2.5.1.RBFOX2-BGHLV26-HepG2-excluded-upon-knockdown.normed_matrix.txt')\n",
    "density_native_cass_5p = os.path.join(density_5p_dir, '204_01_RBFOX2.merged.r2.5.1.HepG2_native_cassette_exons.normed_matrix.txt')\n",
    "\n",
    "density_included_5p = os.path.join(density_5p_dir, '218_01_TRA2A.merged.r2.5.1.TRA2A-BGHLV14-HepG2-included-upon-knockdown.normed_matrix.txt')\n",
    "density_excluded_5p = os.path.join(density_5p_dir, '218_01_TRA2A.merged.r2.5.1.TRA2A-BGHLV14-HepG2-excluded-upon-knockdown.normed_matrix.txt')\n",
    "density_native_cass_5p = os.path.join(density_5p_dir, '218_01_TRA2A.merged.r2.5.1.HepG2_native_cassette_exons.normed_matrix.txt')\n",
    "\"\"\"\n",
    "\n",
    "density_included_5p = os.path.join(density_5p_dir, '272_01_U2AF2.merged.r2.5.1.U2AF2-BGHLV26-HepG2-included-upon-knockdown.normed_matrix.txt')\n",
    "density_excluded_5p = os.path.join(density_5p_dir, '272_01_U2AF2.merged.r2.5.1.U2AF2-BGHLV26-HepG2-excluded-upon-knockdown.normed_matrix.txt')\n",
    "density_native_cass_5p = os.path.join(density_5p_dir, '272_01_U2AF2.merged.r2.5.1.HepG2_native_cassette_exons.normed_matrix.txt')\n"
   ]
  },
  {
   "cell_type": "code",
   "execution_count": 4,
   "metadata": {},
   "outputs": [
    {
     "name": "stdout",
     "output_type": "stream",
     "text": [
      "((796, 1400), 'Included upon knockdown (796 events)')\n",
      "((2285, 1400), 'Excluded upon knockdown (2285 events)')\n",
      "((796, 1400), 'Included upon knockdown (5p) (796 events)')\n",
      "((2285, 1400), 'Excluded upon knockdown (5p) (2285 events)')\n"
     ]
    }
   ],
   "source": [
    "density_incl = dline.LineObject(\n",
    "    event_matrix=pd.read_table(density_included, sep=',', index_col=0),\n",
    "    annotation='Included upon knockdown',\n",
    "    conf=0.95,\n",
    "    color=density_colors[0], # blueish\n",
    "    min_event_threshold=100\n",
    ")\n",
    "density_excl = dline.LineObject(\n",
    "    event_matrix=pd.read_table(density_excluded, sep=',', index_col=0),\n",
    "    annotation='Excluded upon knockdown',\n",
    "    conf=0.95,\n",
    "    color=density_colors[1], # reddish\n",
    "    min_event_threshold=100\n",
    ")\n",
    "density_incl_5p = dline.LineObject(\n",
    "    event_matrix=pd.read_table(density_included_5p, sep=',', index_col=0),\n",
    "    annotation='Included upon knockdown (5p)',\n",
    "    conf=0.95,\n",
    "    color=fivep_density_colors[0], # blueish\n",
    "    min_event_threshold=1000000\n",
    ")\n",
    "density_excl_5p = dline.LineObject(\n",
    "    event_matrix=pd.read_table(density_excluded_5p, sep=',', index_col=0),\n",
    "    annotation='Excluded upon knockdown (5p)',\n",
    "    conf=0.95,\n",
    "    color=fivep_density_colors[1], # reddish\n",
    "    min_event_threshold=1000000\n",
    ")"
   ]
  },
  {
   "cell_type": "code",
   "execution_count": 11,
   "metadata": {},
   "outputs": [
    {
     "data": {
      "image/png": "[encoded data removed]",
      "text/plain": [
       "<matplotlib.figure.Figure at 0x2b6c0252f950>"
      ]
     },
     "metadata": {},
     "output_type": "display_data"
    }
   ],
   "source": [
    "import matplotlib.patches as mpatches\n",
    "\n",
    "f, (ax1, ax2, ax3, ax4) = plt.subplots(1, 4, sharey=True, figsize=(4, 1))\n",
    "\n",
    "axs = [ax1, ax2, ax3, ax4]\n",
    "\n",
    "ax5 = ax1.twinx()\n",
    "ax6 = ax2.twinx()\n",
    "ax7 = ax3.twinx()\n",
    "ax8 = ax4.twinx()\n",
    "\n",
    "paxs = [ax5, ax6, ax7, ax8]\n",
    "\n",
    "fontsize = 8\n",
    "    \n",
    "# ax1.set_ylim(-0.001, 0.001)\n",
    "\n",
    "RDPlotter.plot_se([density_incl, density_excl], axs, fivep_density_colors ) # density_bg\n",
    "RDPlotter.plot_se([density_incl_5p, density_excl_5p], paxs, density_colors)\n",
    "\n",
    "ax1.set_ylabel(\"Whole Read Density\\n(1e-3)\", size=fontsize)\n",
    "ax5.yaxis.set_visible(False)\n",
    "ax8.yaxis.set_visible(True)\n",
    "ax8.set_ylabel(\"5' Read Density\\n(1e-4)\", rotation=270, size=fontsize)\n",
    "ax8.yaxis.tick_right()\n",
    "ax8.yaxis.set_label_coords(2, 0.5)\n",
    "\n",
    "ax1_ytick_min = -0.002\n",
    "ax1_ytick_max = 0.002\n",
    "\n",
    "ax8_ytick_min = -0.0004\n",
    "ax8_ytick_max = 0.0004\n",
    "\n",
    "for ax in axs:\n",
    "    ax.set_ylim(ax1_ytick_min, ax1_ytick_max)\n",
    "    ax.tick_params(labelsize=fontsize)\n",
    "    try:\n",
    "        ax.legend_.remove()\n",
    "    except AttributeError:\n",
    "        pass\n",
    "    \n",
    "for ax in paxs:\n",
    "    ax.set_ylim(ax8_ytick_min, ax8_ytick_max)\n",
    "    ax.tick_params(labelsize=fontsize)\n",
    "    try:\n",
    "        ax.legend_.remove()\n",
    "    except AttributeError:\n",
    "        pass\n",
    "    \n",
    "ax1.yaxis.set_ticks([ax1_ytick_min,0,ax1_ytick_max])\n",
    "ax8.yaxis.set_ticks([ax8_ytick_min,0,ax8_ytick_max])\n",
    "\n",
    "ax1.yaxis.set_ticklabels([-2,0,2])\n",
    "ax8.yaxis.set_ticklabels([-4,0,4])\n",
    "\n",
    "incl_density_patch = mpatches.Patch(color=density_colors[0], label='Included upon KD (5p)')\n",
    "excl_density_patch = mpatches.Patch(color=density_colors[1], label='Excluded upon KD (5p)')\n",
    "incl_density_patch_5p = mpatches.Patch(color=fivep_density_colors[0], label='Included upon KD (whole read)')\n",
    "excl_density_patch_5p = mpatches.Patch(color=fivep_density_colors[1], label='Excluded upon KD (whole read)')\n",
    "\n",
    "leg = axs[0].legend(\n",
    "    bbox_to_anchor=(2.75, -0.6), loc=1, mode=\"expand\",\n",
    "    handles=[incl_density_patch, excl_density_patch, incl_density_patch_5p, excl_density_patch_5p],\n",
    "    borderaxespad=0., ncol=2, fontsize=fontsize\n",
    ")\n",
    "# f.savefig('/home/bay001/projects/gabe_qc_20170612/analysis/204_01_RBFOX2_whole_vs_5p_read_density.svg')\n",
    "f.savefig('/home/bay001/projects/gabe_qc_20170612/analysis/272_01_U2AF2_whole_vs_5p_read_density.svg')"
   ]
  },
  {
   "cell_type": "code",
   "execution_count": null,
   "metadata": {
    "collapsed": true
   },
   "outputs": [],
   "source": []
  },
  {
   "cell_type": "code",
   "execution_count": null,
   "metadata": {
    "collapsed": true
   },
   "outputs": [],
   "source": []
  }
 ],
 "metadata": {
  "kernelspec": {
   "display_name": "Python 2",
   "language": "python",
   "name": "python2"
  },
  "language_info": {
   "codemirror_mode": {
    "name": "ipython",
    "version": 2
   },
   "file_extension": ".py",
   "mimetype": "text/x-python",
   "name": "python",
   "nbconvert_exporter": "python",
   "pygments_lexer": "ipython2",
   "version": "2.7.13"
  }
 },
 "nbformat": 4,
 "nbformat_minor": 2
}
