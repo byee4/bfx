{
 "cells": [
  {
   "cell_type": "code",
   "execution_count": 2,
   "metadata": {},
   "outputs": [
    {
     "name": "stderr",
     "output_type": "stream",
     "text": [
      "/home/bay001/anaconda2/envs/brian/lib/python2.7/site-packages/matplotlib/__init__.py:1405: UserWarning: \n",
      "This call to matplotlib.use() has no effect because the backend has already\n",
      "been chosen; matplotlib.use() must be called *before* pylab, matplotlib.pyplot,\n",
      "or matplotlib.backends is imported for the first time.\n",
      "\n",
      "  warnings.warn(_use_error_msg)\n"
     ]
    }
   ],
   "source": [
    "%matplotlib inline\n",
    "\n",
    "import matplotlib\n",
    "matplotlib.use('Agg')\n",
    "\n",
    "from matplotlib import rc\n",
    "rc('text', usetex=False)\n",
    "matplotlib.rcParams['svg.fonttype'] = 'none'\n",
    "rc('font', **{'family': 'sans-serif', 'sans-serif': ['Helvetica']})\n",
    "\n",
    "import matplotlib.patches as patches\n",
    "from matplotlib import patches as mpatches\n",
    "from collections import OrderedDict, defaultdict\n",
    "import seaborn as sns\n",
    "sns.set_style(\"ticks\")\n",
    "sns.set_context(\"talk\", font_scale=1.4)\n",
    "\n",
    "from tqdm import tnrange, tqdm_notebook\n",
    "import matplotlib.gridspec as gridspec\n",
    "import matplotlib.pyplot as plt\n",
    "import pandas as pd\n",
    "import numpy as np\n",
    "import os"
   ]
  },
  {
   "cell_type": "code",
   "execution_count": 3,
   "metadata": {},
   "outputs": [
    {
     "data": {
      "image/png": "[encoded data removed]",
      "text/plain": [
       "<matplotlib.figure.Figure at 0x2b1e280062d0>"
      ]
     },
     "metadata": {},
     "output_type": "display_data"
    }
   ],
   "source": [
    "sns.set_style(\"white\")\n",
    "sns.set_context(\"talk\", font_scale=1.4)\n",
    "\n",
    "sns.palplot(sns.color_palette(\"hls\", 16))\n",
    "colors = sns.color_palette(\"hls\", 16)\n",
    "density_colors = [colors[0], colors[9], 'black']"
   ]
  },
  {
   "cell_type": "markdown",
   "metadata": {},
   "source": [
    "# Plot RBP map (raw density)"
   ]
  },
  {
   "cell_type": "code",
   "execution_count": 4,
   "metadata": {
    "collapsed": true
   },
   "outputs": [],
   "source": [
    "import sys\n",
    "sys.path.insert(0, '/projects/ps-yeolab3/bay001/software/stable_code/rbp-maps/maps')\n",
    "from density import Map\n",
    "from density import ReadDensity\n",
    "from density import normalization_functions\n",
    "from density import RDPlotter\n",
    "from density import LineObject as dline\n",
    "\n",
    "def get_lines(d, c=0.95):\n",
    "    density_incl = dline.LineObject(\n",
    "        event_matrix=pd.read_table(d['included']['matrix'], sep=',', index_col=0),\n",
    "        annotation='Included upon knockdown',\n",
    "        conf=c,\n",
    "        color=d['included']['color'],\n",
    "        min_event_threshold=100\n",
    "    )\n",
    "    density_excl = dline.LineObject(\n",
    "        event_matrix=pd.read_table(d['excluded']['matrix'], sep=',', index_col=0),\n",
    "        annotation='Excluded upon knockdown',\n",
    "        conf=c,\n",
    "        color=d['excluded']['color'],\n",
    "        min_event_threshold=100\n",
    "    )\n",
    "    density_bg = dline.LineObject(\n",
    "        event_matrix=pd.read_table(d['background']['matrix'], sep=',', index_col=0),\n",
    "        annotation='Native cassettes',\n",
    "        conf=c,\n",
    "        color=d['background']['color'],\n",
    "        min_event_threshold=100\n",
    "    )\n",
    "    return density_incl, density_excl, density_bg"
   ]
  },
  {
   "cell_type": "code",
   "execution_count": 5,
   "metadata": {
    "collapsed": true
   },
   "outputs": [],
   "source": [
    "density_dir = '/home/bay001/projects/gabe_qc_20170612/data/'"
   ]
  },
  {
   "cell_type": "code",
   "execution_count": 6,
   "metadata": {
    "collapsed": true
   },
   "outputs": [],
   "source": [
    "density = defaultdict(dict)\n",
    "\n",
    "hnrnpk_density_included = os.path.join(density_dir, '206_01_HNRNPK.merged.r2.0.conf0.95.HNRNPK-BGHLV12-HepG2-included-upon-knockdown.normed_matrix.txt')\n",
    "hnrnpk_density_excluded = os.path.join(density_dir, '206_01_HNRNPK.merged.r2.0.conf0.95.HNRNPK-BGHLV12-HepG2-excluded-upon-knockdown.normed_matrix.txt')\n",
    "hnrnpk_density_native_cass = os.path.join(density_dir, '206_01_HNRNPK.merged.r2.0.conf0.95.HepG2_native_cassette_exons.normed_matrix.txt')\n",
    "\n",
    "density['included'] = {\n",
    "    'matrix':hnrnpk_density_included,\n",
    "    'color':density_colors[0]\n",
    "}\n",
    "density['excluded'] = {\n",
    "    'matrix':hnrnpk_density_excluded,\n",
    "    'color':density_colors[1]\n",
    "}\n",
    "density['background'] = {\n",
    "    'matrix':hnrnpk_density_native_cass,\n",
    "    'color':density_colors[2]\n",
    "}"
   ]
  },
  {
   "cell_type": "code",
   "execution_count": 7,
   "metadata": {
    "collapsed": true
   },
   "outputs": [],
   "source": [
    "def plot(incl, excl, bg, d, fontsize=8, yticks=[], yticklabels=[], title='Normalized Read Density'):\n",
    "    \n",
    "    f, (ax1, ax2, ax3, ax4) = plt.subplots(1, 4, sharey=True, figsize=(4, 1))\n",
    "\n",
    "    axs = [ax1, ax2, ax3, ax4]\n",
    "\n",
    "    RDPlotter.plot_se([incl, excl, bg], axs, density_colors) # density_bg\n",
    "    ax1.set_ylabel(title, size=fontsize)\n",
    "    if len(yticklabels) != 0:\n",
    "        ax1.yaxis.set_ticks(yticks)\n",
    "        ax2.yaxis.set_ticks(yticks)\n",
    "        ax3.yaxis.set_ticks(yticks)\n",
    "        ax4.yaxis.set_ticks(yticks)\n",
    "        ax1.yaxis.set_ticklabels(yticklabels)\n",
    "        \n",
    "\n",
    "    # plt.tight_layout()\n",
    "    \n",
    "    incl_density_patch = mpatches.Patch(color=d['included']['color'], label='Included upon KD')\n",
    "    excl_density_patch = mpatches.Patch(color=d['excluded']['color'], label='Excluded upon KD')\n",
    "    \n",
    "    for ax in axs:\n",
    "        ax.tick_params(labelsize=fontsize)\n",
    "    for ax in axs[1:3]:\n",
    "        sns.despine(ax=ax, top=True, left=True, right=True)\n",
    "    \n",
    "    sns.despine(ax=axs[0], top=True, left=False, right=True)\n",
    "    sns.despine(ax=axs[3], top=True, left=True, right=False)\n",
    "    \n",
    "    # ax1.yaxis.set_ticks([0,0.1,0.2,0.3])\n",
    "    # ax1.yaxis.set_ticklabels([-2,0,2])\n",
    "    \n",
    "    leg = axs[0].legend(\n",
    "        bbox_to_anchor=(2.5, -0.6), loc=1, mode=\"expand\",\n",
    "        # bbox_to_anchor=(2.35, -0.5), loc=1, mode=\"expand\",\n",
    "        handles=[incl_density_patch, excl_density_patch],\n",
    "        borderaxespad=0., ncol=2, fontsize=fontsize\n",
    "    )"
   ]
  },
  {
   "cell_type": "code",
   "execution_count": 8,
   "metadata": {},
   "outputs": [
    {
     "name": "stdout",
     "output_type": "stream",
     "text": [
      "((860, 1400), 'Included upon knockdown (860 events)')\n",
      "((523, 1400), 'Excluded upon knockdown (523 events)')\n",
      "((2555, 1400), 'Native cassettes (2555 events)')\n"
     ]
    },
    {
     "name": "stderr",
     "output_type": "stream",
     "text": [
      "/home/bay001/anaconda2/envs/brian/lib/python2.7/site-packages/matplotlib/font_manager.py:1297: UserWarning: findfont: Font family [u'sans-serif'] not found. Falling back to DejaVu Sans\n",
      "  (prop.get_family(), self.defaultFamily[fontext]))\n"
     ]
    },
    {
     "data": {
      "image/png": "[encoded data removed]",
      "text/plain": [
       "<matplotlib.figure.Figure at 0x2b1e051937d0>"
      ]
     },
     "metadata": {},
     "output_type": "display_data"
    }
   ],
   "source": [
    "# plot once with the axes labels\n",
    "incl, excl, bg = get_lines(density)\n",
    "plot(incl, excl, bg, density, yticks=[0,0.1,0.2,0.3],yticklabels=[0,0.1,0.2,0.3], title='IP Density')\n",
    "plt.savefig('/home/bay001/projects/gabe_qc_20170612/analysis/206_01_HNRNPK_ip_density.svg')\n",
    "# plt.clf()\n",
    "# plt.cla()"
   ]
  },
  {
   "cell_type": "markdown",
   "metadata": {},
   "source": [
    "# Plot RBP map  (Input)"
   ]
  },
  {
   "cell_type": "code",
   "execution_count": 9,
   "metadata": {
    "collapsed": true
   },
   "outputs": [],
   "source": [
    "density_dir = '/home/bay001/projects/gabe_qc_20170612/data/'\n",
    "\n",
    "hnrnpk_density_included = os.path.join(density_dir, '206_01_HNRNPK.merged.r2.3.conf0.95.HNRNPK-BGHLV12-HepG2-included-upon-knockdown.normed_matrix.txt')\n",
    "hnrnpk_density_excluded = os.path.join(density_dir, '206_01_HNRNPK.merged.r2.3.conf0.95.HNRNPK-BGHLV12-HepG2-excluded-upon-knockdown.normed_matrix.txt')\n",
    "hnrnpk_density_native_cass = os.path.join(density_dir, '206_01_HNRNPK.merged.r2.3.conf0.95.HepG2_native_cassette_exons.normed_matrix.txt')"
   ]
  },
  {
   "cell_type": "code",
   "execution_count": 10,
   "metadata": {
    "collapsed": true
   },
   "outputs": [],
   "source": [
    "density = defaultdict(dict)\n",
    "\n",
    "density['included'] = {\n",
    "    'matrix':hnrnpk_density_included,\n",
    "    'color':density_colors[0]\n",
    "}\n",
    "density['excluded'] = {\n",
    "    'matrix':hnrnpk_density_excluded,\n",
    "    'color':density_colors[1]\n",
    "}\n",
    "density['background'] = {\n",
    "    'matrix':hnrnpk_density_native_cass,\n",
    "    'color':density_colors[2]\n",
    "}"
   ]
  },
  {
   "cell_type": "code",
   "execution_count": 11,
   "metadata": {},
   "outputs": [
    {
     "name": "stdout",
     "output_type": "stream",
     "text": [
      "((860, 1400), 'Included upon knockdown (860 events)')\n",
      "((523, 1400), 'Excluded upon knockdown (523 events)')\n",
      "((2555, 1400), 'Native cassettes (2555 events)')\n"
     ]
    },
    {
     "data": {
      "image/png": "[encoded data removed]",
      "text/plain": [
       "<matplotlib.figure.Figure at 0x2b1e62013610>"
      ]
     },
     "metadata": {},
     "output_type": "display_data"
    }
   ],
   "source": [
    "# plot once with the axes labels\n",
    "incl, excl, bg = get_lines(density)\n",
    "plot(incl, excl, bg, density, yticks=[0,0.1,0.2,0.3], yticklabels=[0,0.1,0.2,0.3], title=\"Input Density\")\n",
    "plt.savefig('/home/bay001/projects/gabe_qc_20170612/analysis/206_01_HNRNPK_input_density.svg')\n",
    "# plt.clf()\n",
    "# plt.cla()"
   ]
  },
  {
   "cell_type": "code",
   "execution_count": null,
   "metadata": {
    "collapsed": true
   },
   "outputs": [],
   "source": []
  },
  {
   "cell_type": "markdown",
   "metadata": {},
   "source": [
    "# Now plot the normalized version"
   ]
  },
  {
   "cell_type": "code",
   "execution_count": 12,
   "metadata": {
    "collapsed": true
   },
   "outputs": [],
   "source": [
    "density_dir = '/home/bay001/projects/gabe_qc_20170612/data/'\n",
    "hnrnpk_density_included = os.path.join(density_dir, '206_01_HNRNPK.merged.r2.1.conf0.95.HNRNPK-BGHLV12-HepG2-included-upon-knockdown.normed_matrix.txt')\n",
    "hnrnpk_density_excluded = os.path.join(density_dir, '206_01_HNRNPK.merged.r2.1.conf0.95.HNRNPK-BGHLV12-HepG2-excluded-upon-knockdown.normed_matrix.txt')\n",
    "hnrnpk_density_native_cass = os.path.join(density_dir, '206_01_HNRNPK.merged.r2.1.conf0.95.HepG2_native_cassette_exons.normed_matrix.txt')"
   ]
  },
  {
   "cell_type": "code",
   "execution_count": 13,
   "metadata": {
    "collapsed": true
   },
   "outputs": [],
   "source": [
    "density = defaultdict(dict)\n",
    "\n",
    "density['included'] = {\n",
    "    'matrix':hnrnpk_density_included,\n",
    "    'color':density_colors[0]\n",
    "}\n",
    "density['excluded'] = {\n",
    "    'matrix':hnrnpk_density_excluded,\n",
    "    'color':density_colors[1]\n",
    "}\n",
    "density['background'] = {\n",
    "    'matrix':hnrnpk_density_native_cass,\n",
    "    'color':density_colors[2]\n",
    "}"
   ]
  },
  {
   "cell_type": "code",
   "execution_count": 14,
   "metadata": {},
   "outputs": [
    {
     "name": "stdout",
     "output_type": "stream",
     "text": [
      "((860, 1400), 'Included upon knockdown (860 events)')\n",
      "((523, 1400), 'Excluded upon knockdown (523 events)')\n",
      "((2555, 1400), 'Native cassettes (2555 events)')\n"
     ]
    },
    {
     "data": {
      "image/png": "[encoded data removed]",
      "text/plain": [
       "<matplotlib.figure.Figure at 0x2b1e65082a50>"
      ]
     },
     "metadata": {},
     "output_type": "display_data"
    }
   ],
   "source": [
    "# plot once with the axes labels\n",
    "incl, excl, bg = get_lines(density)\n",
    "plot(incl, excl, bg, density, yticks=[-0.0004,0,0.0002], yticklabels=['-4','0','2'], title=\"Normalized Density\\n(1e-4)\")\n",
    "plt.savefig('/home/bay001/projects/gabe_qc_20170612/analysis/206_01_HNRNPK_normalized_subtract_density.svg')\n",
    "# plt.clf()\n",
    "# plt.cla()"
   ]
  },
  {
   "cell_type": "markdown",
   "metadata": {
    "collapsed": true
   },
   "source": [
    "# Plot the entropy normalized version"
   ]
  },
  {
   "cell_type": "code",
   "execution_count": 15,
   "metadata": {
    "collapsed": true
   },
   "outputs": [],
   "source": [
    "density_dir = '/home/bay001/projects/gabe_qc_20170612/data/'\n",
    "hnrnpk_density_included = os.path.join(density_dir, '206_01_HNRNPK.merged.r2.2.conf0.95.HNRNPK-BGHLV12-HepG2-included-upon-knockdown.normed_matrix.txt')\n",
    "hnrnpk_density_excluded = os.path.join(density_dir, '206_01_HNRNPK.merged.r2.2.conf0.95.HNRNPK-BGHLV12-HepG2-excluded-upon-knockdown.normed_matrix.txt')\n",
    "hnrnpk_density_native_cass = os.path.join(density_dir, '206_01_HNRNPK.merged.r2.2.conf0.95.HepG2_native_cassette_exons.normed_matrix.txt')"
   ]
  },
  {
   "cell_type": "code",
   "execution_count": 16,
   "metadata": {
    "collapsed": true
   },
   "outputs": [],
   "source": [
    "density = defaultdict(dict)\n",
    "\n",
    "density['included'] = {\n",
    "    'matrix':hnrnpk_density_included,\n",
    "    'color':density_colors[0]\n",
    "}\n",
    "density['excluded'] = {\n",
    "    'matrix':hnrnpk_density_excluded,\n",
    "    'color':density_colors[1]\n",
    "}\n",
    "density['background'] = {\n",
    "    'matrix':hnrnpk_density_native_cass,\n",
    "    'color':density_colors[2]\n",
    "}"
   ]
  },
  {
   "cell_type": "code",
   "execution_count": 17,
   "metadata": {},
   "outputs": [
    {
     "name": "stdout",
     "output_type": "stream",
     "text": [
      "((860, 1400), 'Included upon knockdown (860 events)')\n",
      "((523, 1400), 'Excluded upon knockdown (523 events)')\n",
      "((2555, 1400), 'Native cassettes (2555 events)')\n"
     ]
    },
    {
     "data": {
      "image/png": "[encoded data removed]",
      "text/plain": [
       "<matplotlib.figure.Figure at 0x2b1e61567190>"
      ]
     },
     "metadata": {},
     "output_type": "display_data"
    }
   ],
   "source": [
    "# plot once with the axes labels\n",
    "incl, excl, bg = get_lines(density)\n",
    "plot(incl, excl, bg, density, yticks=[-0.0000003, 0, 0.0000006], yticklabels=['-3','0','6'], title='Normalized Density\\n(1e-7)')\n",
    "plt.savefig('/home/bay001/projects/gabe_qc_20170612/analysis/206_01_HNRNPK_normalized_entropy_density.svg')\n",
    "# plt.clf()\n",
    "# plt.cla()"
   ]
  },
  {
   "cell_type": "code",
   "execution_count": null,
   "metadata": {
    "collapsed": true
   },
   "outputs": [],
   "source": []
  }
 ],
 "metadata": {
  "kernelspec": {
   "display_name": "Python 2",
   "language": "python",
   "name": "python2"
  },
  "language_info": {
   "codemirror_mode": {
    "name": "ipython",
    "version": 2
   },
   "file_extension": ".py",
   "mimetype": "text/x-python",
   "name": "python",
   "nbconvert_exporter": "python",
   "pygments_lexer": "ipython2",
   "version": "2.7.13"
  }
 },
 "nbformat": 4,
 "nbformat_minor": 2
}
