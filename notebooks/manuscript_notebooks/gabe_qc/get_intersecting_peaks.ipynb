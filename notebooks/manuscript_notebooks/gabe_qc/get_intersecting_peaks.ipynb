{
 "cells": [
  {
   "cell_type": "markdown",
   "metadata": {},
   "source": [
    "# Gets the average number of peaks that intersect skipped exon regions\n",
    "- spans: | ]----[   ]----[ |\n",
    "- 2244 native cassette exons for K562: \n",
    "    - /projects/ps-yeolab3/encode/k562_brenton-graveley_ambiguous_bams_for_integrated_analysis.txt.nSEall_0.5_20170805.NR\n",
    "- 1832 native cassette exons for HepG2: \n",
    "    - /projects/ps-yeolab3/encode/hepg2_brenton-graveley_ambiguous_bams_for_integrated_analysis.txt.nSEall_0.5_20170805.NR"
   ]
  },
  {
   "cell_type": "code",
   "execution_count": 2,
   "metadata": {},
   "outputs": [],
   "source": [
    "%matplotlib inline\n",
    "import matplotlib.pyplot as plt\n",
    "import seaborn as sns\n",
    "import pandas as pd\n",
    "import numpy as np\n",
    "import os\n",
    "import glob\n",
    "from collections import defaultdict\n",
    "from tqdm import tnrange, tqdm_notebook\n",
    "sns.set_style(\"ticks\")\n",
    "import matplotlib\n",
    "from matplotlib import rc\n",
    "rc('text', usetex=False)\n",
    "matplotlib.rcParams['svg.fonttype'] = 'none'\n",
    "rc('font', **{'family': 'sans-serif', 'sans-serif': ['Helvetica']})\n"
   ]
  },
  {
   "cell_type": "code",
   "execution_count": 3,
   "metadata": {},
   "outputs": [
    {
     "data": {
      "text/plain": [
       "302"
      ]
     },
     "execution_count": 3,
     "metadata": {},
     "output_type": "execute_result"
    }
   ],
   "source": [
    "wd = '/projects/ps-yeolab3/bay001/maps/current/se_peak/'\n",
    "# wd = '/projects/ps-yeolab3/bay001/maps/current/idr_peaks/'\n",
    "output_dir = '/home/bay001/projects/gabe_qc_20170612/analysis/'\n",
    "# peak_hist contains a file with the number of peaks intersecting a region and the number of peaks that don't.\n",
    "# choose native cassette exons (all skipped exon regions)\n",
    "# peak_hist = glob.glob(os.path.join(wd, '*native-cassette-exons.miso.hist.overlapping_peaks'))\n",
    "peak_hist_excl = glob.glob(os.path.join(wd,'*excluded-upon-knockdown.hist.overlapping_peaks'))\n",
    "peak_hist_incl = glob.glob(os.path.join(wd,'*included-upon-knockdown.hist.overlapping_peaks'))\n",
    "len(peak_hist_excl)"
   ]
  },
  {
   "cell_type": "code",
   "execution_count": 4,
   "metadata": {},
   "outputs": [
    {
     "name": "stderr",
     "output_type": "stream",
     "text": [
      "Widget Javascript not detected.  It may not be installed or enabled properly.\n"
     ]
    },
    {
     "data": {
      "application/vnd.jupyter.widget-view+json": {
       "model_id": "57b38ce1c2c74fc3a1d77088eaaa3ae5"
      }
     },
     "metadata": {},
     "output_type": "display_data"
    },
    {
     "name": "stderr",
     "output_type": "stream",
     "text": [
      "/home/bay001/anaconda2/envs/brian/lib/python2.7/site-packages/ipykernel_launcher.py:16: DeprecationWarning: \n",
      ".ix is deprecated. Please use\n",
      ".loc for label based indexing or\n",
      ".iloc for positional indexing\n",
      "\n",
      "See the documentation here:\n",
      "http://pandas.pydata.org/pandas-docs/stable/indexing.html#ix-indexer-is-deprecated\n",
      "  app.launch_new_instance()\n",
      "Widget Javascript not detected.  It may not be installed or enabled properly.\n"
     ]
    },
    {
     "data": {
      "application/vnd.jupyter.widget-view+json": {
       "model_id": "b56c65ef54ef4f65989da02a02872e3a"
      }
     },
     "metadata": {},
     "output_type": "display_data"
    },
    {
     "name": "stdout",
     "output_type": "stream",
     "text": [
      "\n",
      "total number of peaks for all rbps: 18647\n",
      "total number of events for all rbps: 4621656\n",
      "total sample count: 604\n",
      "percentage of overlapping peaks: 0.00403470098164\n"
     ]
    }
   ],
   "source": [
    "peak_hist = peak_hist_incl\n",
    "label='significantly included'\n",
    "\n",
    "summed = 0 # sum of all peaks intersecting an event region\n",
    "total_events = 0 # sum of all events combined\n",
    "total_count = 0 # total number of RBPs counted.\n",
    "\n",
    "all_percentages = defaultdict() # percent of intersecting/(intersecting+nonintersecting) peaks for each file\n",
    "all_overlapping = defaultdict() # number of intersecting peaks for each file\n",
    "\n",
    "for peak_hist in [peak_hist_incl, peak_hist_excl]:\n",
    "    progress = tnrange(len(peak_hist))\n",
    "    for fn in peak_hist:\n",
    "        df = pd.read_table(fn)\n",
    "        df['percentage'] = df['intersect'].div((df['intersect'] + df['no_intersect']))\n",
    "        summed += df.ix[0]['intersect']\n",
    "        total_events += (df.ix[0]['intersect'] + df.ix[0]['no_intersect'])\n",
    "        total_count += 1\n",
    "        all_overlapping[fn] = df['intersect']\n",
    "        all_percentages[fn] = df['percentage']\n",
    "        progress.update(1)\n",
    "\n",
    "print(\"total number of peaks for all rbps: {}\".format(summed))\n",
    "print(\"total number of events for all rbps: {}\".format(total_events))\n",
    "print(\"total sample count: {}\".format(total_count))\n",
    "print(\"percentage of overlapping peaks: {}\".format(summed/float(total_events)))"
   ]
  },
  {
   "cell_type": "code",
   "execution_count": 5,
   "metadata": {},
   "outputs": [
    {
     "data": {
      "text/plain": [
       "30.872516556291391"
      ]
     },
     "execution_count": 5,
     "metadata": {},
     "output_type": "execute_result"
    }
   ],
   "source": [
    "number_overlapping = pd.DataFrame(all_overlapping).T\n",
    "number_overlapping.columns = ['Number']\n",
    "number_overlapping['Number'].mean()"
   ]
  },
  {
   "cell_type": "code",
   "execution_count": 24,
   "metadata": {},
   "outputs": [
    {
     "data": {
      "text/plain": [
       "'/home/bay001/projects/gabe_qc_20170612/analysis/'"
      ]
     },
     "execution_count": 24,
     "metadata": {},
     "output_type": "execute_result"
    },
    {
     "data": {
      "image/png": "[encoded data removed]",
      "text/plain": [
       "<matplotlib.figure.Figure at 0x2b24d7119790>"
      ]
     },
     "metadata": {},
     "output_type": "display_data"
    }
   ],
   "source": [
    "fig, ax = plt.subplots(figsize=(2.5, 2.5))\n",
    "ax.xaxis.set_visible(True)\n",
    "number_overlapping['Number'].plot(kind='hist', bins=50, ax=ax)\n",
    "plt.xlabel('Event/peaks overlaps')\n",
    "plt.savefig(os.path.join(output_dir, 'overlapping_inputnormed_peaks.histogram.svg'))\n",
    "output_dir"
   ]
  },
  {
   "cell_type": "code",
   "execution_count": 7,
   "metadata": {},
   "outputs": [
    {
     "name": "stdout",
     "output_type": "stream",
     "text": [
      "\r",
      "          \r",
      "302/|/100%|| 302/302 [00:15<00:00, 92.91it/s]"
     ]
    },
    {
     "data": {
      "text/plain": [
       "<matplotlib.text.Text at 0x2b24d6a51f50>"
      ]
     },
     "execution_count": 7,
     "metadata": {},
     "output_type": "execute_result"
    },
    {
     "data": {
      "image/png": "[encoded data removed]",
      "text/plain": [
       "<matplotlib.figure.Figure at 0x2b24cf780190>"
      ]
     },
     "metadata": {},
     "output_type": "display_data"
    }
   ],
   "source": [
    "sns.swarmplot(number_overlapping['Number'])\n",
    "plt.figsize = (1,1)\n",
    "plt.title('Number {} events overlapping peaks'.format(label))\n",
    "# plt.savefig(os.path.join(output_dir, '{}_overlapping_inputnormed_peaks.svg'.format(label.replace(' ','_'))))"
   ]
  },
  {
   "cell_type": "code",
   "execution_count": 8,
   "metadata": {
    "collapsed": true
   },
   "outputs": [],
   "source": [
    "percent_overlapping = pd.DataFrame(all_percentages).T\n",
    "percent_overlapping = percent_overlapping*100\n",
    "percent_overlapping.columns = ['Percent']"
   ]
  },
  {
   "cell_type": "code",
   "execution_count": 9,
   "metadata": {},
   "outputs": [
    {
     "data": {
      "text/plain": [
       "<matplotlib.text.Text at 0x2b24d6b25cd0>"
      ]
     },
     "execution_count": 9,
     "metadata": {},
     "output_type": "execute_result"
    },
    {
     "data": {
      "image/png": "[encoded data removed]",
      "text/plain": [
       "<matplotlib.figure.Figure at 0x2b24d6aaea90>"
      ]
     },
     "metadata": {},
     "output_type": "display_data"
    }
   ],
   "source": [
    "sns.swarmplot(percent_overlapping['Percent'])\n",
    "plt.title('Percentage of {} events with overlapping peaks'.format(label))\n",
    "# plt.savefig(os.path.join(output_dir, '{}_overlapping_inputnormed_peaks_percentage.svg'.format(label.replace(' ','_'))))"
   ]
  },
  {
   "cell_type": "markdown",
   "metadata": {},
   "source": [
    "# Checks to make sure the right numbers are adding up."
   ]
  },
  {
   "cell_type": "code",
   "execution_count": 10,
   "metadata": {},
   "outputs": [
    {
     "data": {
      "text/html": [
       "<div>\n",
       "<style>\n",
       "    .dataframe thead tr:only-child th {\n",
       "        text-align: right;\n",
       "    }\n",
       "\n",
       "    .dataframe thead th {\n",
       "        text-align: left;\n",
       "    }\n",
       "\n",
       "    .dataframe tbody tr th {\n",
       "        vertical-align: top;\n",
       "    }\n",
       "</style>\n",
       "<table border=\"1\" class=\"dataframe\">\n",
       "  <thead>\n",
       "    <tr style=\"text-align: right;\">\n",
       "      <th></th>\n",
       "      <th>infile</th>\n",
       "      <th>intersect</th>\n",
       "      <th>no_intersect</th>\n",
       "    </tr>\n",
       "  </thead>\n",
       "  <tbody>\n",
       "    <tr>\n",
       "      <th>0</th>\n",
       "      <td>/home/elvannostrand/data/clip/CLIPseq_analysis...</td>\n",
       "      <td>2</td>\n",
       "      <td>13242</td>\n",
       "    </tr>\n",
       "  </tbody>\n",
       "</table>\n",
       "</div>"
      ],
      "text/plain": [
       "                                              infile  intersect  no_intersect\n",
       "0  /home/elvannostrand/data/clip/CLIPseq_analysis...          2         13242"
      ]
     },
     "execution_count": 10,
     "metadata": {},
     "output_type": "execute_result"
    }
   ],
   "source": [
    "pd.read_table(peak_hist[1])"
   ]
  },
  {
   "cell_type": "code",
   "execution_count": 11,
   "metadata": {},
   "outputs": [
    {
     "data": {
      "text/plain": [
       "(13244, 6)"
      ]
     },
     "execution_count": 11,
     "metadata": {},
     "output_type": "execute_result"
    }
   ],
   "source": [
    "df = pd.read_table(\n",
    "    pd.read_table(peak_hist[1])['infile'][0], \n",
    "    names=['chrom','start','end','p','f','strand']\n",
    ")\n",
    "df[(df['p']>3) & (df['f']>3)].shape"
   ]
  },
  {
   "cell_type": "code",
   "execution_count": 12,
   "metadata": {},
   "outputs": [
    {
     "data": {
      "text/plain": [
       "4399"
      ]
     },
     "execution_count": 12,
     "metadata": {},
     "output_type": "execute_result"
    }
   ],
   "source": [
    "106+4293"
   ]
  },
  {
   "cell_type": "markdown",
   "metadata": {},
   "source": [
    "# Same swarm plot except using the sum of incl+excl events\n",
    "- plot vertically"
   ]
  },
  {
   "cell_type": "code",
   "execution_count": 13,
   "metadata": {},
   "outputs": [
    {
     "name": "stderr",
     "output_type": "stream",
     "text": [
      "Widget Javascript not detected.  It may not be installed or enabled properly.\n"
     ]
    },
    {
     "data": {
      "application/vnd.jupyter.widget-view+json": {
       "model_id": "3671a834ffe04f818f94d8e335bc65d9"
      }
     },
     "metadata": {},
     "output_type": "display_data"
    },
    {
     "data": {
      "text/html": [
       "<div>\n",
       "<style>\n",
       "    .dataframe thead tr:only-child th {\n",
       "        text-align: right;\n",
       "    }\n",
       "\n",
       "    .dataframe thead th {\n",
       "        text-align: left;\n",
       "    }\n",
       "\n",
       "    .dataframe tbody tr th {\n",
       "        vertical-align: top;\n",
       "    }\n",
       "</style>\n",
       "<table border=\"1\" class=\"dataframe\">\n",
       "  <thead>\n",
       "    <tr style=\"text-align: right;\">\n",
       "      <th></th>\n",
       "      <th>Included</th>\n",
       "      <th>Excluded</th>\n",
       "    </tr>\n",
       "  </thead>\n",
       "  <tbody>\n",
       "    <tr>\n",
       "      <th>203_01.basedon_203_01.peaks.l2inputnormnew.bed.compressed.HNRNPC-BGHLV20-HepG2</th>\n",
       "      <td>27</td>\n",
       "      <td>10</td>\n",
       "    </tr>\n",
       "    <tr>\n",
       "      <th>203_02.basedon_203_02.peaks.l2inputnormnew.bed.compressed.HNRNPC-BGHLV20-HepG2</th>\n",
       "      <td>40</td>\n",
       "      <td>5</td>\n",
       "    </tr>\n",
       "    <tr>\n",
       "      <th>204_01.basedon_204_01.peaks.l2inputnormnew.bed.compressed.RBFOX2-BGHLV26-HepG2</th>\n",
       "      <td>11</td>\n",
       "      <td>72</td>\n",
       "    </tr>\n",
       "    <tr>\n",
       "      <th>204_02.basedon_204_02.peaks.l2inputnormnew.bed.compressed.RBFOX2-BGHLV26-HepG2</th>\n",
       "      <td>15</td>\n",
       "      <td>100</td>\n",
       "    </tr>\n",
       "    <tr>\n",
       "      <th>205_01.basedon_205_01.peaks.l2inputnormnew.bed.compressed.IGF2BP1-BGHcLV03-HepG2</th>\n",
       "      <td>0</td>\n",
       "      <td>0</td>\n",
       "    </tr>\n",
       "  </tbody>\n",
       "</table>\n",
       "</div>"
      ],
      "text/plain": [
       "                                                    Included  Excluded\n",
       "203_01.basedon_203_01.peaks.l2inputnormnew.bed....        27        10\n",
       "203_02.basedon_203_02.peaks.l2inputnormnew.bed....        40         5\n",
       "204_01.basedon_204_01.peaks.l2inputnormnew.bed....        11        72\n",
       "204_02.basedon_204_02.peaks.l2inputnormnew.bed....        15       100\n",
       "205_01.basedon_205_01.peaks.l2inputnormnew.bed....         0         0"
      ]
     },
     "execution_count": 13,
     "metadata": {},
     "output_type": "execute_result"
    }
   ],
   "source": [
    "from collections import defaultdict\n",
    "\n",
    "peaks_intersecting = defaultdict(list)\n",
    "\n",
    "progress = tnrange(len(peak_hist_excl)) # for each count of peak overlaps in excluded/kd sample:\n",
    "for fn in peak_hist_excl:\n",
    "    label = os.path.basename(fn).split('-excluded')[0] # just get the prefix (everything before -excluded-upon-knockdown)\n",
    "    excl_df = pd.read_table(fn)\n",
    "    if os.path.exists(fn.replace('excluded','included')): # if an 'included' file exists, read an append count\n",
    "        incl_df = pd.read_table(fn.replace('excluded','included'))\n",
    "        peaks_intersecting[label].append(incl_df.iloc[0]['intersect'])\n",
    "    peaks_intersecting[label].append(excl_df.iloc[0]['intersect'])\n",
    "    progress.update(1)\n",
    "df = pd.DataFrame(peaks_intersecting).T\n",
    "df.columns = ['Included','Excluded']\n",
    "df.head()"
   ]
  },
  {
   "cell_type": "code",
   "execution_count": 14,
   "metadata": {},
   "outputs": [
    {
     "name": "stderr",
     "output_type": "stream",
     "text": [
      "/home/bay001/anaconda2/envs/brian/lib/python2.7/site-packages/ipykernel_launcher.py:2: RuntimeWarning: divide by zero encountered in log10\n",
      "  \n"
     ]
    }
   ],
   "source": [
    "df['Total'] = df.sum(axis=1)\n",
    "df['log10Total'] = np.log10(df['Total'])\n",
    "# df.to_csv(os.path.join(output_dir,'overlapping_peaks.txt'), sep='\\t')"
   ]
  },
  {
   "cell_type": "code",
   "execution_count": 15,
   "metadata": {
    "collapsed": true
   },
   "outputs": [],
   "source": [
    "# sns.swarmplot(df['Total'], orient='v')\n",
    "# plt.title('Significant events with overlapping peaks')\n",
    "# plt.savefig(os.path.join(output_dir, 'overlapping_inputnormed_peaks.svg'))"
   ]
  },
  {
   "cell_type": "code",
   "execution_count": 16,
   "metadata": {
    "collapsed": true
   },
   "outputs": [],
   "source": [
    "# plt.title('Significant events with overlapping peaks (log10)')\n",
    "# fig, ax = plt.subplots(111)\n",
    "# 2.5 by 2.5\n",
    "# dots smaller (3 or 4)\n",
    "# font size 8?\n",
    "# \n",
    "# ax = sns.swarmplot(df['log10Total'], orient='v')\n",
    "# plt.savefig(os.path.join(output_dir, 'overlapping_inputnormed_peaks.log10.svg'))\n"
   ]
  },
  {
   "cell_type": "markdown",
   "metadata": {
    "collapsed": true
   },
   "source": [
    "# Plot a histogram"
   ]
  },
  {
   "cell_type": "code",
   "execution_count": 17,
   "metadata": {},
   "outputs": [
    {
     "data": {
      "text/plain": [
       "'/home/bay001/projects/gabe_qc_20170612/analysis/'"
      ]
     },
     "execution_count": 17,
     "metadata": {},
     "output_type": "execute_result"
    },
    {
     "data": {
      "image/png": "[encoded data removed]",
      "text/plain": [
       "<matplotlib.figure.Figure at 0x2b24d6aaea10>"
      ]
     },
     "metadata": {},
     "output_type": "display_data"
    }
   ],
   "source": [
    "### Don't use this - this plots the total overlap (incl + excl), whereas we really want incl, excl separately (they plot separate lines)\n",
    "# fig, ax = plt.subplots(figsize=(2.5, 2.5))\n",
    "# ax.xaxis.set_visible(True)\n",
    "# df['Total'].plot(kind='hist', bins=50, ax=ax)\n",
    "# plt.xlabel('Event/peaks overlaps')\n",
    "# plt.savefig(os.path.join(output_dir, 'overlapping_inputnormed_peaks.histogram.svg'))\n",
    "# output_dir"
   ]
  },
  {
   "cell_type": "markdown",
   "metadata": {
    "collapsed": true
   },
   "source": [
    "# How to get the average number of overlapping events?"
   ]
  },
  {
   "cell_type": "code",
   "execution_count": 18,
   "metadata": {},
   "outputs": [
    {
     "data": {
      "text/plain": [
       "8.0"
      ]
     },
     "execution_count": 18,
     "metadata": {},
     "output_type": "execute_result"
    }
   ],
   "source": [
    "df['Total'].median()"
   ]
  },
  {
   "cell_type": "code",
   "execution_count": 19,
   "metadata": {},
   "outputs": [
    {
     "data": {
      "text/plain": [
       "61.745033112582782"
      ]
     },
     "execution_count": 19,
     "metadata": {},
     "output_type": "execute_result"
    }
   ],
   "source": [
    "df['Total'].mean()"
   ]
  },
  {
   "cell_type": "code",
   "execution_count": 20,
   "metadata": {},
   "outputs": [
    {
     "data": {
      "text/html": [
       "<div>\n",
       "<style>\n",
       "    .dataframe thead tr:only-child th {\n",
       "        text-align: right;\n",
       "    }\n",
       "\n",
       "    .dataframe thead th {\n",
       "        text-align: left;\n",
       "    }\n",
       "\n",
       "    .dataframe tbody tr th {\n",
       "        vertical-align: top;\n",
       "    }\n",
       "</style>\n",
       "<table border=\"1\" class=\"dataframe\">\n",
       "  <thead>\n",
       "    <tr style=\"text-align: right;\">\n",
       "      <th></th>\n",
       "      <th>Included</th>\n",
       "      <th>Excluded</th>\n",
       "      <th>Total</th>\n",
       "      <th>log10Total</th>\n",
       "    </tr>\n",
       "  </thead>\n",
       "  <tbody>\n",
       "    <tr>\n",
       "      <th>354_02.basedon_354_02.peaks.l2inputnormnew.bed.compressed.NPM1-BGKLV28-K562</th>\n",
       "      <td>0</td>\n",
       "      <td>0</td>\n",
       "      <td>0</td>\n",
       "      <td>-inf</td>\n",
       "    </tr>\n",
       "    <tr>\n",
       "      <th>596_01.basedon_596_01.peaks.l2inputnormnew.bed.compressed.GRSF1-BGHLV22-HepG2</th>\n",
       "      <td>0</td>\n",
       "      <td>0</td>\n",
       "      <td>0</td>\n",
       "      <td>-inf</td>\n",
       "    </tr>\n",
       "    <tr>\n",
       "      <th>283_02.basedon_283_02.peaks.l2inputnormnew.bed.compressed.HNRNPA1-BGHLV20-HepG2</th>\n",
       "      <td>0</td>\n",
       "      <td>0</td>\n",
       "      <td>0</td>\n",
       "      <td>-inf</td>\n",
       "    </tr>\n",
       "    <tr>\n",
       "      <th>283_01.basedon_283_01.peaks.l2inputnormnew.bed.compressed.HNRNPA1-BGHLV20-HepG2</th>\n",
       "      <td>0</td>\n",
       "      <td>0</td>\n",
       "      <td>0</td>\n",
       "      <td>-inf</td>\n",
       "    </tr>\n",
       "    <tr>\n",
       "      <th>281_02.basedon_281_02.peaks.l2inputnormnew.bed.compressed.HNRNPU-BGHLV20-HepG2</th>\n",
       "      <td>0</td>\n",
       "      <td>0</td>\n",
       "      <td>0</td>\n",
       "      <td>-inf</td>\n",
       "    </tr>\n",
       "    <tr>\n",
       "      <th>575_02.basedon_575_02.peaks.l2inputnormnew.bed.compressed.DROSHA-BGHcLV05-HepG2</th>\n",
       "      <td>0</td>\n",
       "      <td>0</td>\n",
       "      <td>0</td>\n",
       "      <td>-inf</td>\n",
       "    </tr>\n",
       "    <tr>\n",
       "      <th>280_02.basedon_280_02.peaks.l2inputnormnew.bed.compressed.AUH-BGHLV37-HepG2</th>\n",
       "      <td>0</td>\n",
       "      <td>0</td>\n",
       "      <td>0</td>\n",
       "      <td>-inf</td>\n",
       "    </tr>\n",
       "    <tr>\n",
       "      <th>452_02.basedon_452_02.peaks.l2inputnormnew.bed.compressed.NSUN2-BGKLV34-K562</th>\n",
       "      <td>0</td>\n",
       "      <td>0</td>\n",
       "      <td>0</td>\n",
       "      <td>-inf</td>\n",
       "    </tr>\n",
       "    <tr>\n",
       "      <th>452_01.basedon_452_01.peaks.l2inputnormnew.bed.compressed.NSUN2-BGKLV34-K562</th>\n",
       "      <td>0</td>\n",
       "      <td>0</td>\n",
       "      <td>0</td>\n",
       "      <td>-inf</td>\n",
       "    </tr>\n",
       "    <tr>\n",
       "      <th>280_01.basedon_280_01.peaks.l2inputnormnew.bed.compressed.AUH-BGHLV37-HepG2</th>\n",
       "      <td>0</td>\n",
       "      <td>0</td>\n",
       "      <td>0</td>\n",
       "      <td>-inf</td>\n",
       "    </tr>\n",
       "    <tr>\n",
       "      <th>240_01.basedon_240_01.peaks.l2inputnormnew.bed.compressed.TRA2A-LV11-K562</th>\n",
       "      <td>0</td>\n",
       "      <td>0</td>\n",
       "      <td>0</td>\n",
       "      <td>-inf</td>\n",
       "    </tr>\n",
       "    <tr>\n",
       "      <th>240_02.basedon_240_02.peaks.l2inputnormnew.bed.compressed.TRA2A-LV11-K562</th>\n",
       "      <td>0</td>\n",
       "      <td>0</td>\n",
       "      <td>0</td>\n",
       "      <td>-inf</td>\n",
       "    </tr>\n",
       "    <tr>\n",
       "      <th>447_02.basedon_447_02.peaks.l2inputnormnew.bed.compressed.TROVE2-BGKLV19-K562</th>\n",
       "      <td>0</td>\n",
       "      <td>0</td>\n",
       "      <td>0</td>\n",
       "      <td>-inf</td>\n",
       "    </tr>\n",
       "    <tr>\n",
       "      <th>649_02.basedon_649_02.peaks.l2inputnormnew.bed.compressed.FASTKD2-BGHLV14-HepG2</th>\n",
       "      <td>0</td>\n",
       "      <td>0</td>\n",
       "      <td>0</td>\n",
       "      <td>-inf</td>\n",
       "    </tr>\n",
       "    <tr>\n",
       "      <th>243_01.basedon_243_01.peaks.l2inputnormnew.bed.compressed.LARP7-BGKLV21-K562</th>\n",
       "      <td>0</td>\n",
       "      <td>0</td>\n",
       "      <td>0</td>\n",
       "      <td>-inf</td>\n",
       "    </tr>\n",
       "    <tr>\n",
       "      <th>388_01.basedon_388_01.peaks.l2inputnormnew.bed.compressed.TAF15-BGHLV12-HepG2</th>\n",
       "      <td>0</td>\n",
       "      <td>0</td>\n",
       "      <td>0</td>\n",
       "      <td>-inf</td>\n",
       "    </tr>\n",
       "    <tr>\n",
       "      <th>654_01.basedon_654_01.peaks.l2inputnormnew.bed.compressed.DHX30-BGHLV20-HepG2</th>\n",
       "      <td>0</td>\n",
       "      <td>0</td>\n",
       "      <td>0</td>\n",
       "      <td>-inf</td>\n",
       "    </tr>\n",
       "    <tr>\n",
       "      <th>267_02.basedon_267_02.peaks.l2inputnormnew.bed.compressed.SAFB2-BGKLV24-K562</th>\n",
       "      <td>0</td>\n",
       "      <td>0</td>\n",
       "      <td>0</td>\n",
       "      <td>-inf</td>\n",
       "    </tr>\n",
       "    <tr>\n",
       "      <th>447_01.basedon_447_01.peaks.l2inputnormnew.bed.compressed.TROVE2-BGKLV19-K562</th>\n",
       "      <td>0</td>\n",
       "      <td>0</td>\n",
       "      <td>0</td>\n",
       "      <td>-inf</td>\n",
       "    </tr>\n",
       "    <tr>\n",
       "      <th>267_01.basedon_267_01.peaks.l2inputnormnew.bed.compressed.SAFB2-BGKLV24-K562</th>\n",
       "      <td>0</td>\n",
       "      <td>0</td>\n",
       "      <td>0</td>\n",
       "      <td>-inf</td>\n",
       "    </tr>\n",
       "    <tr>\n",
       "      <th>247_01.basedon_247_01.peaks.l2inputnormnew.bed.compressed.HNRNPA1-BGKLV21-K562</th>\n",
       "      <td>0</td>\n",
       "      <td>0</td>\n",
       "      <td>0</td>\n",
       "      <td>-inf</td>\n",
       "    </tr>\n",
       "    <tr>\n",
       "      <th>414_01.basedon_414_01.peaks.l2inputnormnew.bed.compressed.PPIL4-BGKLV24-K562</th>\n",
       "      <td>0</td>\n",
       "      <td>0</td>\n",
       "      <td>0</td>\n",
       "      <td>-inf</td>\n",
       "    </tr>\n",
       "    <tr>\n",
       "      <th>440_02.basedon_440_02.peaks.l2inputnormnew.bed.compressed.EWSR1-LV08-K562</th>\n",
       "      <td>0</td>\n",
       "      <td>0</td>\n",
       "      <td>0</td>\n",
       "      <td>-inf</td>\n",
       "    </tr>\n",
       "    <tr>\n",
       "      <th>414_02.basedon_414_02.peaks.l2inputnormnew.bed.compressed.PPIL4-BGKLV24-K562</th>\n",
       "      <td>0</td>\n",
       "      <td>0</td>\n",
       "      <td>0</td>\n",
       "      <td>-inf</td>\n",
       "    </tr>\n",
       "    <tr>\n",
       "      <th>440_01.basedon_440_01.peaks.l2inputnormnew.bed.compressed.EWSR1-LV08-K562</th>\n",
       "      <td>0</td>\n",
       "      <td>0</td>\n",
       "      <td>0</td>\n",
       "      <td>-inf</td>\n",
       "    </tr>\n",
       "    <tr>\n",
       "      <th>632x_01.basedon_632x_01.peaks.l2inputnormnew.bed.compressed.SUB1-BGHLV14-HepG2</th>\n",
       "      <td>0</td>\n",
       "      <td>0</td>\n",
       "      <td>0</td>\n",
       "      <td>-inf</td>\n",
       "    </tr>\n",
       "    <tr>\n",
       "      <th>584_02.basedon_584_02.peaks.l2inputnormnew.bed.compressed.TBRG4-LV08-K562</th>\n",
       "      <td>0</td>\n",
       "      <td>0</td>\n",
       "      <td>0</td>\n",
       "      <td>-inf</td>\n",
       "    </tr>\n",
       "    <tr>\n",
       "      <th>353_01.basedon_353_01.peaks.l2inputnormnew.bed.compressed.KHDRBS1-BGKLV24-K562</th>\n",
       "      <td>0</td>\n",
       "      <td>0</td>\n",
       "      <td>0</td>\n",
       "      <td>-inf</td>\n",
       "    </tr>\n",
       "    <tr>\n",
       "      <th>339_01.basedon_339_01.peaks.l2inputnormnew.bed.compressed.TAF15-LV08-K562</th>\n",
       "      <td>0</td>\n",
       "      <td>0</td>\n",
       "      <td>0</td>\n",
       "      <td>-inf</td>\n",
       "    </tr>\n",
       "    <tr>\n",
       "      <th>316_02.basedon_316_02.peaks.l2inputnormnew.bed.compressed.SND1-BGKLV13-K562</th>\n",
       "      <td>0</td>\n",
       "      <td>0</td>\n",
       "      <td>0</td>\n",
       "      <td>-inf</td>\n",
       "    </tr>\n",
       "    <tr>\n",
       "      <th>...</th>\n",
       "      <td>...</td>\n",
       "      <td>...</td>\n",
       "      <td>...</td>\n",
       "      <td>...</td>\n",
       "    </tr>\n",
       "    <tr>\n",
       "      <th>206_01.basedon_206_01.peaks.l2inputnormnew.bed.compressed.HNRNPK-BGHLV12-HepG2</th>\n",
       "      <td>115</td>\n",
       "      <td>69</td>\n",
       "      <td>184</td>\n",
       "      <td>2.264818</td>\n",
       "    </tr>\n",
       "    <tr>\n",
       "      <th>282_01.basedon_282_01.peaks.l2inputnormnew.bed.compressed.U2AF1-BGHLV30-HepG2</th>\n",
       "      <td>86</td>\n",
       "      <td>104</td>\n",
       "      <td>190</td>\n",
       "      <td>2.278754</td>\n",
       "    </tr>\n",
       "    <tr>\n",
       "      <th>478_02.basedon_478_02.peaks.l2inputnormnew.bed.compressed.QKI-BGHLV12-HepG2</th>\n",
       "      <td>103</td>\n",
       "      <td>94</td>\n",
       "      <td>197</td>\n",
       "      <td>2.294466</td>\n",
       "    </tr>\n",
       "    <tr>\n",
       "      <th>312_02.basedon_312_02.peaks.l2inputnormnew.bed.compressed.SRSF1-LV11-K562</th>\n",
       "      <td>80</td>\n",
       "      <td>119</td>\n",
       "      <td>199</td>\n",
       "      <td>2.298853</td>\n",
       "    </tr>\n",
       "    <tr>\n",
       "      <th>514_01.basedon_514_01.peaks.l2inputnormnew.bed.compressed.RBM15-BGKLV32-K562</th>\n",
       "      <td>40</td>\n",
       "      <td>160</td>\n",
       "      <td>200</td>\n",
       "      <td>2.301030</td>\n",
       "    </tr>\n",
       "    <tr>\n",
       "      <th>312_01.basedon_312_01.peaks.l2inputnormnew.bed.compressed.SRSF1-LV11-K562</th>\n",
       "      <td>73</td>\n",
       "      <td>133</td>\n",
       "      <td>206</td>\n",
       "      <td>2.313867</td>\n",
       "    </tr>\n",
       "    <tr>\n",
       "      <th>478_01.basedon_478_01.peaks.l2inputnormnew.bed.compressed.QKI-BGHLV12-HepG2</th>\n",
       "      <td>120</td>\n",
       "      <td>91</td>\n",
       "      <td>211</td>\n",
       "      <td>2.324282</td>\n",
       "    </tr>\n",
       "    <tr>\n",
       "      <th>506_01.basedon_506_01.peaks.l2inputnormnew.bed.compressed.SF3B1-BGKLV36-K562</th>\n",
       "      <td>61</td>\n",
       "      <td>153</td>\n",
       "      <td>214</td>\n",
       "      <td>2.330414</td>\n",
       "    </tr>\n",
       "    <tr>\n",
       "      <th>626_01.basedon_626_01.peaks.l2inputnormnew.bed.compressed.EIF4B-BGHLV12-HepG2</th>\n",
       "      <td>129</td>\n",
       "      <td>88</td>\n",
       "      <td>217</td>\n",
       "      <td>2.336460</td>\n",
       "    </tr>\n",
       "    <tr>\n",
       "      <th>492_01.basedon_492_01.peaks.l2inputnormnew.bed.compressed.DDX3X-BGHLV12-HepG2</th>\n",
       "      <td>54</td>\n",
       "      <td>170</td>\n",
       "      <td>224</td>\n",
       "      <td>2.350248</td>\n",
       "    </tr>\n",
       "    <tr>\n",
       "      <th>282_02.basedon_282_02.peaks.l2inputnormnew.bed.compressed.U2AF1-BGHLV30-HepG2</th>\n",
       "      <td>88</td>\n",
       "      <td>149</td>\n",
       "      <td>237</td>\n",
       "      <td>2.374748</td>\n",
       "    </tr>\n",
       "    <tr>\n",
       "      <th>228_01.basedon_228_01.peaks.l2inputnormnew.bed.compressed.SF3B4-BGHLV12-HepG2</th>\n",
       "      <td>40</td>\n",
       "      <td>209</td>\n",
       "      <td>249</td>\n",
       "      <td>2.396199</td>\n",
       "    </tr>\n",
       "    <tr>\n",
       "      <th>514_02.basedon_514_02.peaks.l2inputnormnew.bed.compressed.RBM15-BGKLV32-K562</th>\n",
       "      <td>57</td>\n",
       "      <td>239</td>\n",
       "      <td>296</td>\n",
       "      <td>2.471292</td>\n",
       "    </tr>\n",
       "    <tr>\n",
       "      <th>626_02.basedon_626_02.peaks.l2inputnormnew.bed.compressed.EIF4B-BGHLV12-HepG2</th>\n",
       "      <td>202</td>\n",
       "      <td>129</td>\n",
       "      <td>331</td>\n",
       "      <td>2.519828</td>\n",
       "    </tr>\n",
       "    <tr>\n",
       "      <th>228_02.basedon_228_02.peaks.l2inputnormnew.bed.compressed.SF3B4-BGHLV12-HepG2</th>\n",
       "      <td>62</td>\n",
       "      <td>279</td>\n",
       "      <td>341</td>\n",
       "      <td>2.532754</td>\n",
       "    </tr>\n",
       "    <tr>\n",
       "      <th>506_02.basedon_506_02.peaks.l2inputnormnew.bed.compressed.SF3B1-BGKLV36-K562</th>\n",
       "      <td>88</td>\n",
       "      <td>254</td>\n",
       "      <td>342</td>\n",
       "      <td>2.534026</td>\n",
       "    </tr>\n",
       "    <tr>\n",
       "      <th>582_01.basedon_582_01.peaks.l2inputnormnew.bed.compressed.EFTUD2-BGKLV19-K562</th>\n",
       "      <td>70</td>\n",
       "      <td>279</td>\n",
       "      <td>349</td>\n",
       "      <td>2.542825</td>\n",
       "    </tr>\n",
       "    <tr>\n",
       "      <th>291_01.basedon_291_01.peaks.l2inputnormnew.bed.compressed.PRPF8-BGHLV17-HepG2</th>\n",
       "      <td>87</td>\n",
       "      <td>283</td>\n",
       "      <td>370</td>\n",
       "      <td>2.568202</td>\n",
       "    </tr>\n",
       "    <tr>\n",
       "      <th>582_02.basedon_582_02.peaks.l2inputnormnew.bed.compressed.EFTUD2-BGKLV19-K562</th>\n",
       "      <td>88</td>\n",
       "      <td>321</td>\n",
       "      <td>409</td>\n",
       "      <td>2.611723</td>\n",
       "    </tr>\n",
       "    <tr>\n",
       "      <th>291_02.basedon_291_02.peaks.l2inputnormnew.bed.compressed.PRPF8-BGHLV17-HepG2</th>\n",
       "      <td>115</td>\n",
       "      <td>316</td>\n",
       "      <td>431</td>\n",
       "      <td>2.634477</td>\n",
       "    </tr>\n",
       "    <tr>\n",
       "      <th>393_01.basedon_393_01.peaks.l2inputnormnew.bed.compressed.SF3A3-BGHLV33-HepG2</th>\n",
       "      <td>87</td>\n",
       "      <td>345</td>\n",
       "      <td>432</td>\n",
       "      <td>2.635484</td>\n",
       "    </tr>\n",
       "    <tr>\n",
       "      <th>242_01.basedon_242_01.peaks.l2inputnormnew.bed.compressed.U2AF2-LV08-K562</th>\n",
       "      <td>126</td>\n",
       "      <td>314</td>\n",
       "      <td>440</td>\n",
       "      <td>2.643453</td>\n",
       "    </tr>\n",
       "    <tr>\n",
       "      <th>242_02.basedon_242_02.peaks.l2inputnormnew.bed.compressed.U2AF2-LV08-K562</th>\n",
       "      <td>143</td>\n",
       "      <td>304</td>\n",
       "      <td>447</td>\n",
       "      <td>2.650308</td>\n",
       "    </tr>\n",
       "    <tr>\n",
       "      <th>278_01.basedon_278_01.peaks.l2inputnormnew.bed.compressed.PRPF8-BGKLV19-K562</th>\n",
       "      <td>115</td>\n",
       "      <td>463</td>\n",
       "      <td>578</td>\n",
       "      <td>2.761928</td>\n",
       "    </tr>\n",
       "    <tr>\n",
       "      <th>393_02.basedon_393_02.peaks.l2inputnormnew.bed.compressed.SF3A3-BGHLV33-HepG2</th>\n",
       "      <td>151</td>\n",
       "      <td>537</td>\n",
       "      <td>688</td>\n",
       "      <td>2.837588</td>\n",
       "    </tr>\n",
       "    <tr>\n",
       "      <th>278_02.basedon_278_02.peaks.l2inputnormnew.bed.compressed.PRPF8-BGKLV19-K562</th>\n",
       "      <td>120</td>\n",
       "      <td>577</td>\n",
       "      <td>697</td>\n",
       "      <td>2.843233</td>\n",
       "    </tr>\n",
       "    <tr>\n",
       "      <th>507_01.basedon_507_01.peaks.l2inputnormnew.bed.compressed.SF3B4-LV08-K562</th>\n",
       "      <td>113</td>\n",
       "      <td>932</td>\n",
       "      <td>1045</td>\n",
       "      <td>3.019116</td>\n",
       "    </tr>\n",
       "    <tr>\n",
       "      <th>272_02.basedon_272_02.peaks.l2inputnormnew.bed.compressed.U2AF2-BGHLV26-HepG2</th>\n",
       "      <td>346</td>\n",
       "      <td>755</td>\n",
       "      <td>1101</td>\n",
       "      <td>3.041787</td>\n",
       "    </tr>\n",
       "    <tr>\n",
       "      <th>272_01.basedon_272_01.peaks.l2inputnormnew.bed.compressed.U2AF2-BGHLV26-HepG2</th>\n",
       "      <td>384</td>\n",
       "      <td>754</td>\n",
       "      <td>1138</td>\n",
       "      <td>3.056142</td>\n",
       "    </tr>\n",
       "    <tr>\n",
       "      <th>507_02.basedon_507_02.peaks.l2inputnormnew.bed.compressed.SF3B4-LV08-K562</th>\n",
       "      <td>127</td>\n",
       "      <td>1076</td>\n",
       "      <td>1203</td>\n",
       "      <td>3.080266</td>\n",
       "    </tr>\n",
       "  </tbody>\n",
       "</table>\n",
       "<p>302 rows × 4 columns</p>\n",
       "</div>"
      ],
      "text/plain": [
       "                                                    Included  Excluded  Total  \\\n",
       "354_02.basedon_354_02.peaks.l2inputnormnew.bed....         0         0      0   \n",
       "596_01.basedon_596_01.peaks.l2inputnormnew.bed....         0         0      0   \n",
       "283_02.basedon_283_02.peaks.l2inputnormnew.bed....         0         0      0   \n",
       "283_01.basedon_283_01.peaks.l2inputnormnew.bed....         0         0      0   \n",
       "281_02.basedon_281_02.peaks.l2inputnormnew.bed....         0         0      0   \n",
       "575_02.basedon_575_02.peaks.l2inputnormnew.bed....         0         0      0   \n",
       "280_02.basedon_280_02.peaks.l2inputnormnew.bed....         0         0      0   \n",
       "452_02.basedon_452_02.peaks.l2inputnormnew.bed....         0         0      0   \n",
       "452_01.basedon_452_01.peaks.l2inputnormnew.bed....         0         0      0   \n",
       "280_01.basedon_280_01.peaks.l2inputnormnew.bed....         0         0      0   \n",
       "240_01.basedon_240_01.peaks.l2inputnormnew.bed....         0         0      0   \n",
       "240_02.basedon_240_02.peaks.l2inputnormnew.bed....         0         0      0   \n",
       "447_02.basedon_447_02.peaks.l2inputnormnew.bed....         0         0      0   \n",
       "649_02.basedon_649_02.peaks.l2inputnormnew.bed....         0         0      0   \n",
       "243_01.basedon_243_01.peaks.l2inputnormnew.bed....         0         0      0   \n",
       "388_01.basedon_388_01.peaks.l2inputnormnew.bed....         0         0      0   \n",
       "654_01.basedon_654_01.peaks.l2inputnormnew.bed....         0         0      0   \n",
       "267_02.basedon_267_02.peaks.l2inputnormnew.bed....         0         0      0   \n",
       "447_01.basedon_447_01.peaks.l2inputnormnew.bed....         0         0      0   \n",
       "267_01.basedon_267_01.peaks.l2inputnormnew.bed....         0         0      0   \n",
       "247_01.basedon_247_01.peaks.l2inputnormnew.bed....         0         0      0   \n",
       "414_01.basedon_414_01.peaks.l2inputnormnew.bed....         0         0      0   \n",
       "440_02.basedon_440_02.peaks.l2inputnormnew.bed....         0         0      0   \n",
       "414_02.basedon_414_02.peaks.l2inputnormnew.bed....         0         0      0   \n",
       "440_01.basedon_440_01.peaks.l2inputnormnew.bed....         0         0      0   \n",
       "632x_01.basedon_632x_01.peaks.l2inputnormnew.be...         0         0      0   \n",
       "584_02.basedon_584_02.peaks.l2inputnormnew.bed....         0         0      0   \n",
       "353_01.basedon_353_01.peaks.l2inputnormnew.bed....         0         0      0   \n",
       "339_01.basedon_339_01.peaks.l2inputnormnew.bed....         0         0      0   \n",
       "316_02.basedon_316_02.peaks.l2inputnormnew.bed....         0         0      0   \n",
       "...                                                      ...       ...    ...   \n",
       "206_01.basedon_206_01.peaks.l2inputnormnew.bed....       115        69    184   \n",
       "282_01.basedon_282_01.peaks.l2inputnormnew.bed....        86       104    190   \n",
       "478_02.basedon_478_02.peaks.l2inputnormnew.bed....       103        94    197   \n",
       "312_02.basedon_312_02.peaks.l2inputnormnew.bed....        80       119    199   \n",
       "514_01.basedon_514_01.peaks.l2inputnormnew.bed....        40       160    200   \n",
       "312_01.basedon_312_01.peaks.l2inputnormnew.bed....        73       133    206   \n",
       "478_01.basedon_478_01.peaks.l2inputnormnew.bed....       120        91    211   \n",
       "506_01.basedon_506_01.peaks.l2inputnormnew.bed....        61       153    214   \n",
       "626_01.basedon_626_01.peaks.l2inputnormnew.bed....       129        88    217   \n",
       "492_01.basedon_492_01.peaks.l2inputnormnew.bed....        54       170    224   \n",
       "282_02.basedon_282_02.peaks.l2inputnormnew.bed....        88       149    237   \n",
       "228_01.basedon_228_01.peaks.l2inputnormnew.bed....        40       209    249   \n",
       "514_02.basedon_514_02.peaks.l2inputnormnew.bed....        57       239    296   \n",
       "626_02.basedon_626_02.peaks.l2inputnormnew.bed....       202       129    331   \n",
       "228_02.basedon_228_02.peaks.l2inputnormnew.bed....        62       279    341   \n",
       "506_02.basedon_506_02.peaks.l2inputnormnew.bed....        88       254    342   \n",
       "582_01.basedon_582_01.peaks.l2inputnormnew.bed....        70       279    349   \n",
       "291_01.basedon_291_01.peaks.l2inputnormnew.bed....        87       283    370   \n",
       "582_02.basedon_582_02.peaks.l2inputnormnew.bed....        88       321    409   \n",
       "291_02.basedon_291_02.peaks.l2inputnormnew.bed....       115       316    431   \n",
       "393_01.basedon_393_01.peaks.l2inputnormnew.bed....        87       345    432   \n",
       "242_01.basedon_242_01.peaks.l2inputnormnew.bed....       126       314    440   \n",
       "242_02.basedon_242_02.peaks.l2inputnormnew.bed....       143       304    447   \n",
       "278_01.basedon_278_01.peaks.l2inputnormnew.bed....       115       463    578   \n",
       "393_02.basedon_393_02.peaks.l2inputnormnew.bed....       151       537    688   \n",
       "278_02.basedon_278_02.peaks.l2inputnormnew.bed....       120       577    697   \n",
       "507_01.basedon_507_01.peaks.l2inputnormnew.bed....       113       932   1045   \n",
       "272_02.basedon_272_02.peaks.l2inputnormnew.bed....       346       755   1101   \n",
       "272_01.basedon_272_01.peaks.l2inputnormnew.bed....       384       754   1138   \n",
       "507_02.basedon_507_02.peaks.l2inputnormnew.bed....       127      1076   1203   \n",
       "\n",
       "                                                    log10Total  \n",
       "354_02.basedon_354_02.peaks.l2inputnormnew.bed....        -inf  \n",
       "596_01.basedon_596_01.peaks.l2inputnormnew.bed....        -inf  \n",
       "283_02.basedon_283_02.peaks.l2inputnormnew.bed....        -inf  \n",
       "283_01.basedon_283_01.peaks.l2inputnormnew.bed....        -inf  \n",
       "281_02.basedon_281_02.peaks.l2inputnormnew.bed....        -inf  \n",
       "575_02.basedon_575_02.peaks.l2inputnormnew.bed....        -inf  \n",
       "280_02.basedon_280_02.peaks.l2inputnormnew.bed....        -inf  \n",
       "452_02.basedon_452_02.peaks.l2inputnormnew.bed....        -inf  \n",
       "452_01.basedon_452_01.peaks.l2inputnormnew.bed....        -inf  \n",
       "280_01.basedon_280_01.peaks.l2inputnormnew.bed....        -inf  \n",
       "240_01.basedon_240_01.peaks.l2inputnormnew.bed....        -inf  \n",
       "240_02.basedon_240_02.peaks.l2inputnormnew.bed....        -inf  \n",
       "447_02.basedon_447_02.peaks.l2inputnormnew.bed....        -inf  \n",
       "649_02.basedon_649_02.peaks.l2inputnormnew.bed....        -inf  \n",
       "243_01.basedon_243_01.peaks.l2inputnormnew.bed....        -inf  \n",
       "388_01.basedon_388_01.peaks.l2inputnormnew.bed....        -inf  \n",
       "654_01.basedon_654_01.peaks.l2inputnormnew.bed....        -inf  \n",
       "267_02.basedon_267_02.peaks.l2inputnormnew.bed....        -inf  \n",
       "447_01.basedon_447_01.peaks.l2inputnormnew.bed....        -inf  \n",
       "267_01.basedon_267_01.peaks.l2inputnormnew.bed....        -inf  \n",
       "247_01.basedon_247_01.peaks.l2inputnormnew.bed....        -inf  \n",
       "414_01.basedon_414_01.peaks.l2inputnormnew.bed....        -inf  \n",
       "440_02.basedon_440_02.peaks.l2inputnormnew.bed....        -inf  \n",
       "414_02.basedon_414_02.peaks.l2inputnormnew.bed....        -inf  \n",
       "440_01.basedon_440_01.peaks.l2inputnormnew.bed....        -inf  \n",
       "632x_01.basedon_632x_01.peaks.l2inputnormnew.be...        -inf  \n",
       "584_02.basedon_584_02.peaks.l2inputnormnew.bed....        -inf  \n",
       "353_01.basedon_353_01.peaks.l2inputnormnew.bed....        -inf  \n",
       "339_01.basedon_339_01.peaks.l2inputnormnew.bed....        -inf  \n",
       "316_02.basedon_316_02.peaks.l2inputnormnew.bed....        -inf  \n",
       "...                                                        ...  \n",
       "206_01.basedon_206_01.peaks.l2inputnormnew.bed....    2.264818  \n",
       "282_01.basedon_282_01.peaks.l2inputnormnew.bed....    2.278754  \n",
       "478_02.basedon_478_02.peaks.l2inputnormnew.bed....    2.294466  \n",
       "312_02.basedon_312_02.peaks.l2inputnormnew.bed....    2.298853  \n",
       "514_01.basedon_514_01.peaks.l2inputnormnew.bed....    2.301030  \n",
       "312_01.basedon_312_01.peaks.l2inputnormnew.bed....    2.313867  \n",
       "478_01.basedon_478_01.peaks.l2inputnormnew.bed....    2.324282  \n",
       "506_01.basedon_506_01.peaks.l2inputnormnew.bed....    2.330414  \n",
       "626_01.basedon_626_01.peaks.l2inputnormnew.bed....    2.336460  \n",
       "492_01.basedon_492_01.peaks.l2inputnormnew.bed....    2.350248  \n",
       "282_02.basedon_282_02.peaks.l2inputnormnew.bed....    2.374748  \n",
       "228_01.basedon_228_01.peaks.l2inputnormnew.bed....    2.396199  \n",
       "514_02.basedon_514_02.peaks.l2inputnormnew.bed....    2.471292  \n",
       "626_02.basedon_626_02.peaks.l2inputnormnew.bed....    2.519828  \n",
       "228_02.basedon_228_02.peaks.l2inputnormnew.bed....    2.532754  \n",
       "506_02.basedon_506_02.peaks.l2inputnormnew.bed....    2.534026  \n",
       "582_01.basedon_582_01.peaks.l2inputnormnew.bed....    2.542825  \n",
       "291_01.basedon_291_01.peaks.l2inputnormnew.bed....    2.568202  \n",
       "582_02.basedon_582_02.peaks.l2inputnormnew.bed....    2.611723  \n",
       "291_02.basedon_291_02.peaks.l2inputnormnew.bed....    2.634477  \n",
       "393_01.basedon_393_01.peaks.l2inputnormnew.bed....    2.635484  \n",
       "242_01.basedon_242_01.peaks.l2inputnormnew.bed....    2.643453  \n",
       "242_02.basedon_242_02.peaks.l2inputnormnew.bed....    2.650308  \n",
       "278_01.basedon_278_01.peaks.l2inputnormnew.bed....    2.761928  \n",
       "393_02.basedon_393_02.peaks.l2inputnormnew.bed....    2.837588  \n",
       "278_02.basedon_278_02.peaks.l2inputnormnew.bed....    2.843233  \n",
       "507_01.basedon_507_01.peaks.l2inputnormnew.bed....    3.019116  \n",
       "272_02.basedon_272_02.peaks.l2inputnormnew.bed....    3.041787  \n",
       "272_01.basedon_272_01.peaks.l2inputnormnew.bed....    3.056142  \n",
       "507_02.basedon_507_02.peaks.l2inputnormnew.bed....    3.080266  \n",
       "\n",
       "[302 rows x 4 columns]"
      ]
     },
     "execution_count": 20,
     "metadata": {},
     "output_type": "execute_result"
    }
   ],
   "source": [
    "df.sort_values(by='Total', ascending=True)"
   ]
  },
  {
   "cell_type": "code",
   "execution_count": 21,
   "metadata": {},
   "outputs": [
    {
     "data": {
      "text/plain": [
       "(21571, 6)"
      ]
     },
     "execution_count": 21,
     "metadata": {},
     "output_type": "execute_result"
    },
    {
     "name": "stdout",
     "output_type": "stream",
     "text": [
      "\r",
      "          \r",
      "302/|/100%|| 302/302 [00:20<00:00, 112.98it/s]"
     ]
    }
   ],
   "source": [
    "df = pd.read_table(\n",
    "    '/home/elvannostrand/data/clip/CLIPseq_analysis/ENCODE_FINALforpapers_20170325/507_02.basedon_507_02.peaks.l2inputnormnew.bed.compressed.bed',\n",
    "    names=['chrom','start','end','name','score','strand']\n",
    ")\n",
    "df = df[(df['name']>=3) & (df['score']>=3)]\n",
    "df.shape"
   ]
  },
  {
   "cell_type": "code",
   "execution_count": null,
   "metadata": {
    "collapsed": true
   },
   "outputs": [],
   "source": []
  },
  {
   "cell_type": "code",
   "execution_count": null,
   "metadata": {
    "collapsed": true
   },
   "outputs": [],
   "source": []
  }
 ],
 "metadata": {
  "kernelspec": {
   "display_name": "Python 2",
   "language": "python",
   "name": "python2"
  },
  "language_info": {
   "codemirror_mode": {
    "name": "ipython",
    "version": 2
   },
   "file_extension": ".py",
   "mimetype": "text/x-python",
   "name": "python",
   "nbconvert_exporter": "python",
   "pygments_lexer": "ipython2",
   "version": "2.7.13"
  }
 },
 "nbformat": 4,
 "nbformat_minor": 2
}
