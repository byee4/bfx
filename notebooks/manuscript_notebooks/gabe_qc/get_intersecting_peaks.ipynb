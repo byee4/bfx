{
 "cells": [
  {
   "cell_type": "markdown",
   "metadata": {},
   "source": [
    "# Gets the average number of peaks that intersect skipped exon regions\n",
    "- spans: | ]----[   ]----[ |\n",
    "- 2244 native cassette exons for K562: \n",
    "    - /projects/ps-yeolab3/encode/k562_brenton-graveley_ambiguous_bams_for_integrated_analysis.txt.nSEall_0.5_20170805.NR\n",
    "- 1832 native cassette exons for HepG2: \n",
    "    - /projects/ps-yeolab3/encode/hepg2_brenton-graveley_ambiguous_bams_for_integrated_analysis.txt.nSEall_0.5_20170805.NR"
   ]
  },
  {
   "cell_type": "code",
   "execution_count": 1,
   "metadata": {},
   "outputs": [],
   "source": [
    "import pandas as pd\n",
    "import os\n",
    "import glob"
   ]
  },
  {
   "cell_type": "code",
   "execution_count": 2,
   "metadata": {},
   "outputs": [],
   "source": [
    "wd = '/projects/ps-yeolab3/bay001/maps/current/se_peak/'\n",
    "\n",
    "# peak_hist contains a file with the number of peaks intersecting a region and the number of peaks that don't.\n",
    "# choose native cassette exons (all skipped exon regions)\n",
    "peak_hist = glob.glob(os.path.join(wd, '*native-cassette-exons.miso.hist.overlapping_peaks'))"
   ]
  },
  {
   "cell_type": "code",
   "execution_count": 5,
   "metadata": {},
   "outputs": [
    {
     "name": "stdout",
     "output_type": "stream",
     "text": [
      "total number of peaks for all rbps: 58488\n",
      "total count: 348\n"
     ]
    }
   ],
   "source": [
    "summed = 0 # sum of all peaks intersecting an event region\n",
    "total_count = 0 # total number of RBPs counted.\n",
    "\n",
    "for fn in peak_hist:\n",
    "    df = pd.read_table(fn)\n",
    "    df['percentage'] = df['intersect'].div((df['intersect'] + df['no_intersect']))\n",
    "    summed += df.ix[0]['intersect']\n",
    "    total_count += 1\n",
    "\n",
    "\n",
    "print(\"total number of peaks for all rbps: {}\".format(summed))\n",
    "print(\"total count: {}\".format(total_count))"
   ]
  },
  {
   "cell_type": "code",
   "execution_count": 4,
   "metadata": {},
   "outputs": [
    {
     "data": {
      "text/plain": [
       "168.06896551724137"
      ]
     },
     "execution_count": 4,
     "metadata": {},
     "output_type": "execute_result"
    }
   ],
   "source": [
    "summed/float(total_count)"
   ]
  },
  {
   "cell_type": "code",
   "execution_count": null,
   "metadata": {},
   "outputs": [],
   "source": []
  },
  {
   "cell_type": "code",
   "execution_count": null,
   "metadata": {
    "collapsed": true
   },
   "outputs": [],
   "source": []
  }
 ],
 "metadata": {
  "kernelspec": {
   "display_name": "Python 2",
   "language": "python",
   "name": "python2"
  },
  "language_info": {
   "codemirror_mode": {
    "name": "ipython",
    "version": 2
   },
   "file_extension": ".py",
   "mimetype": "text/x-python",
   "name": "python",
   "nbconvert_exporter": "python",
   "pygments_lexer": "ipython2",
   "version": "2.7.13"
  }
 },
 "nbformat": 4,
 "nbformat_minor": 2
}
