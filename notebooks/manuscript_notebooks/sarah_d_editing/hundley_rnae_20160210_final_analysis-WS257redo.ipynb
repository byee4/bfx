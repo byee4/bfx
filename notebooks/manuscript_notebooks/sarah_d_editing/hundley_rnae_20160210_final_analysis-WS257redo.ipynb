{
 "cells": [
  {
   "cell_type": "markdown",
   "metadata": {},
   "source": [
    "# packages needed to run this file:\n",
    "- conda install pandas pybedtools matplotlib seaborn numpy tqdm gffutils"
   ]
  },
  {
   "cell_type": "code",
   "execution_count": 1,
   "metadata": {
    "ExecuteTime": {
     "end_time": "2017-05-30T15:52:31.544963Z",
     "start_time": "2017-05-30T15:52:29.919547Z"
    },
    "collapsed": true
   },
   "outputs": [],
   "source": [
    "%matplotlib inline\n",
    "import pandas as pd\n",
    "import pybedtools as bt\n",
    "import matplotlib.pyplot as plt\n",
    "import seaborn as sns\n",
    "import os\n",
    "import glob\n",
    "import numpy as np\n",
    "import math\n",
    "import pybedtools\n",
    "import gffutils\n",
    "from tqdm import tnrange, tqdm_notebook\n",
    "from collections import OrderedDict, defaultdict\n",
    "pd.set_option(\"display.max_rows\",500)\n",
    "gffhead = ['seqname','source','feature','start','end','score','strand','frame','attribute']"
   ]
  },
  {
   "cell_type": "markdown",
   "metadata": {},
   "source": [
    "# Define constants and annotations"
   ]
  },
  {
   "cell_type": "code",
   "execution_count": 2,
   "metadata": {
    "ExecuteTime": {
     "end_time": "2017-05-30T15:52:31.554112Z",
     "start_time": "2017-05-30T15:52:31.547988Z"
    },
    "collapsed": true
   },
   "outputs": [],
   "source": [
    "geneset = 'ws257'\n",
    "# original gff file contains a bunch of other annotations we don't want to use... let's just use wormbase.\n",
    "original_gff = '/projects/ps-yeolab3/bay001/annotations/c_elegans.PRJNA13758.WS257.annotations.gff3'\n",
    "\n",
    "wormbase_gff = '/projects/ps-yeolab3/bay001/annotations/c_elegans.PRJNA13758.WS257.annotations.wormbase.gff3'\n",
    "canonical_geneset = '/projects/ps-yeolab3/bay001/annotations/c_elegans.PRJNA13758.WS257.canonical_geneset.gtf'\n",
    "\n",
    "extended_geneset = '/projects/ps-yeolab3/bay001/annotations/c_elegans.PRJNA13758.WS257.canonical_geneset.extend_utr.gtf'\n",
    "db_file = '/projects/ps-yeolab3/bay001/annotations/c_elegans.PRJNA13758.WS257.canonical_geneset.extend_utr.gtf.db'\n",
    "wormbase_db_file = '/projects/ps-yeolab3/bay001/annotations/c_elegans.PRJNA13758.WS257.annotations.wormbase.gff3.db'\n",
    "\n",
    "priority = '/projects/ps-yeolab3/bay001/hundley_rnae_20160210/analysis/editor_response_minor_1/priority.txt'\n",
    "priority_udfirst = '/projects/ps-yeolab3/bay001/hundley_rnae_20160210/analysis/editor_response_minor_1/priority2.txt'\n",
    "\n",
    "# list of validated differentially expressed genes by qPCR\n",
    "VALIDATED = ['WBGene00007153','WBGene00000831','WBGene00022644','WBGene00002013','WBGene00009242']"
   ]
  },
  {
   "cell_type": "markdown",
   "metadata": {},
   "source": [
    "# Specify input directory and files"
   ]
  },
  {
   "cell_type": "code",
   "execution_count": 3,
   "metadata": {
    "ExecuteTime": {
     "end_time": "2017-05-30T15:52:45.010674Z",
     "start_time": "2017-05-30T15:52:44.991967Z"
    },
    "collapsed": true
   },
   "outputs": [],
   "source": [
    "wd = '/projects/ps-yeolab3/bay001/hundley_rnae_20160210/analysis/editing_calls_v18/{}/'.format(geneset)\n",
    "# directory where the bam files are. Needed only for exon coverage calculations.\n",
    "bamdir = '/projects/ps-yeolab3/bay001/hundley_rnae_20160210/analysis/rnae_v6' \n",
    "# known edited genes (used to intersect called events with known edited genes)\n",
    "existing_transcripts = '/projects/ps-yeolab3/bay001/hundley_rnae_20160210/data/other_papers_called_transcripts.tab' \n",
    "# adr1 RIP targets (used to intersect edited genes with genes bound by adr1)\n",
    "adr_common_targets_list = '/projects/ps-yeolab3/bay001/hundley_rnae_20160210/analysis/ADR-1-RIP-targets-sent-to-Yeo-lab-May-2017.txt' \n",
    "# list of validated events\n",
    "validated_events_from_sarah = '/projects/ps-yeolab3/bay001/hundley_rnae_20160210/040517_supplemental_document_1_validated.events.csv' \n",
    "# go annotations downloaded from: http://geneontology.org/page/download-annotations\n",
    "go_association_file = '/projects/ps-yeolab3/bay001/hundley_rnae_20160210/gene_association.wb' \n",
    "# deseq2 differential expression results table.\n",
    "from_deseq2 = '/projects/ps-yeolab3/bay001/hundley_rnae_20160210/analysis/differential_expression/{}/diffexp.tsv'.format(\n",
    "    geneset\n",
    ")\n",
    "\n",
    "# filter settings\n",
    "min_confidence = 0.99\n",
    "\n",
    "fwd_bed = os.path.join(\n",
    "    wd, 'WT.fwd.sorted.rmdup.readfiltered.formatted.varfiltered.snpfiltered.ranked.bed')\n",
    "rev_bed = os.path.join(\n",
    "    wd, 'WT.rev.sorted.rmdup.readfiltered.formatted.varfiltered.snpfiltered.ranked.bed')\n",
    "\n",
    "fwd_adr = os.path.join(\n",
    "    wd, 'adr2ko.fwd.sorted.rmdup.readfiltered.formatted.varfiltered.snpfiltered.ranked.bed')\n",
    "rev_adr = os.path.join(\n",
    "    wd, 'adr2ko.rev.sorted.rmdup.readfiltered.formatted.varfiltered.snpfiltered.ranked.bed')\n",
    "\n",
    "editing_calls_dir = '/projects/ps-yeolab3/bay001/hundley_rnae_20160210/analysis/editing_test_against_aiden/'"
   ]
  },
  {
   "cell_type": "markdown",
   "metadata": {
    "collapsed": true
   },
   "source": [
    "# Specify output directory and files"
   ]
  },
  {
   "cell_type": "code",
   "execution_count": 4,
   "metadata": {
    "ExecuteTime": {
     "end_time": "2017-05-30T15:50:11.158366Z",
     "start_time": "2017-05-30T15:50:11.136905Z"
    },
    "collapsed": true
   },
   "outputs": [],
   "source": [
    "output_directory = '/projects/ps-yeolab3/bay001/hundley_rnae_20160210/analysis/editor_response_minor_1/{}/'.format(geneset)\n",
    "known_snp_bed3file = os.path.join(output_directory,'known_snps.bed3')\n",
    "all_output_regions_piechart = os.path.join(output_directory,'all_pie.svg')\n",
    "all_output_regions_annotations = os.path.join(output_directory,'annotations.txt')\n",
    "all_output_regions_wbgene_annotations = os.path.join(output_directory,'annotations_wbgene.txt')\n",
    "chemotaxis_locomotion_goterms = os.path.join(output_directory,'annotations_locomotion_and_chemotaxis.txt')\n",
    "validation_comparisons = os.path.join(output_directory,'validation_comparisons.txt')\n",
    "existing_transcripts_wbgene = os.path.join(output_directory, 'other_papers_called_transcripts.with_names.{}.tab'.format(geneset)) # known edited genes with wbgene names\n",
    "\n",
    "supplemental_doc1_edited_genes = os.path.join(output_directory,'supplemental_doc_1.txt')\n",
    "supplemental_doc1_sanger = os.path.join(output_directory,'supplemental_doc_1.sanger.txt')\n",
    "supplemental_doc1_genes = os.path.join(output_directory,'supplemental_doc_1.genes.txt')\n",
    "supplemental_doc1_novel = os.path.join(output_directory,'supplemental_doc_1.novel.txt')\n",
    "supplemental_doc1_locomotion = os.path.join(output_directory,'supplemental_doc_1.locomotion.txt')\n",
    "\n",
    "supplemental_doc2_upregulated_genes = os.path.join(output_directory,'supplemental_doc_2_upregulated_genes.txt')\n",
    "supplemental_doc2_downregulated_genes = os.path.join(output_directory,'supplemental_doc_2_downregulated_genes.txt')"
   ]
  },
  {
   "cell_type": "markdown",
   "metadata": {},
   "source": [
    "# Create annotation file for known SNPs"
   ]
  },
  {
   "cell_type": "code",
   "execution_count": 5,
   "metadata": {},
   "outputs": [
    {
     "data": {
      "text/plain": [
       "'/projects/ps-yeolab3/bay001/annotations/c_elegans.PRJNA13758.WS257.annotations.gff3'"
      ]
     },
     "execution_count": 5,
     "metadata": {},
     "output_type": "execute_result"
    }
   ],
   "source": [
    "# let's also parse this file while we have it to get the 'known SNP and point mutations'\n",
    "def make_snp_file(original_gff, known_snp_bed3file):\n",
    "    \"\"\"\n",
    "    Use the original GFF file to create a 'known snps' BED file.\n",
    "    Conservatively checking both strands, so we only need a BED3 file.\n",
    "    \"\"\"\n",
    "    original_gff_df = pd.read_table(original_gff,names=gffhead)\n",
    "    snp = original_gff_df[\n",
    "        (original_gff_df['feature']=='SNP') | (original_gff_df['feature']=='point_mutation')\n",
    "    ]\n",
    "    snp['seqname_chr_formatted'] = 'chr' + snp['seqname']\n",
    "    snp['start_formatted'] = snp['start'].astype(int) - 1\n",
    "    snp['end_formatted'] = snp['end'].astype(int)\n",
    "    snp = snp[['seqname_chr_formatted','start_formatted','end_formatted']]\n",
    "    snp.drop_duplicates(inplace=True)\n",
    "    print('number of snps and single point mutations: {}'.format(snp.shape[0]))\n",
    "    snp.to_csv(known_snp_bed3file, sep='\\t', index=False, header=False)\n",
    "\n",
    "def make_wormbase_and_format(original_gff, editing_annotation_file):\n",
    "    \"\"\"\n",
    "    pulls just the wormbase annotations\n",
    "    need to reformat the chromosome names from 'I, II' to 'chrI and chrII etc.'\n",
    "    \"\"\"\n",
    "    original_gff_df = pd.read_table(original_gff,names=gffhead, comment='#')\n",
    "    print(\"size of the original gff: {}\".format(original_gff_df.shape[0]))  # wow... lots of entries\n",
    "    wormbase = original_gff_df[original_gff_df['source']=='WormBase']\n",
    "    wormbase['seqname'] = 'chr'+wormbase['seqname'].replace('MtDNA','M')\n",
    "    wormbase[['start','end']] = wormbase[['start','end']].astype(int)  # change positions to INT from FLOAT\n",
    "    wormbase.sort_values(by=['seqname','start','end'], inplace=True)\n",
    "    wormbase.to_csv(editing_annotation_file, sep='\\t', index=None, header=None)\n",
    "\n",
    "    print(\"size of the wormbase gff: {}\".format(wormbase.shape[0]))  # better...\n",
    "    \n",
    "if not os.path.exists(known_snp_bed3file):\n",
    "    make_snp_file(original_gff, known_snp_bed3file)\n",
    "if not os.path.exists(wormbase_gff):\n",
    "    make_wormbase_and_format(original_gff, wormbase_gff)\n",
    "original_gff"
   ]
  },
  {
   "cell_type": "markdown",
   "metadata": {},
   "source": [
    "# Run the editing pipeline\n",
    "- Use the 'known_snps' bed3 file\n",
    "\n",
    "# Run DESeq2 for differential expression\n",
    "- Use the WS257 \"canonical geneset\" annotations"
   ]
  },
  {
   "cell_type": "markdown",
   "metadata": {},
   "source": [
    "# Analyses in this notebook:\n",
    "- filter confidence, \n",
    "- remove 'false positives' from KO\n",
    "- 'forward' and 'reverse' are designated based on editing site strand \n",
    "- annotation using Annotator: https://github.com/byee4/annotator\n",
    "- intersection of editing sites and differential expression\n",
    "- intersection of editing sites and known edited genes from other publications\n",
    "- intersection of editing sites and experimentally validated editing sites (sanger sequencing)\n",
    "- intersection of editing sites and GO terms"
   ]
  },
  {
   "cell_type": "markdown",
   "metadata": {},
   "source": [
    "# Concatenate and assign false positives from ADR KO to WT"
   ]
  },
  {
   "cell_type": "code",
   "execution_count": 6,
   "metadata": {},
   "outputs": [
    {
     "name": "stdout",
     "output_type": "stream",
     "text": [
      "Number of editing sites called: 7362\n"
     ]
    },
    {
     "data": {
      "text/html": [
       "<div>\n",
       "<table border=\"1\" class=\"dataframe\">\n",
       "  <thead>\n",
       "    <tr style=\"text-align: right;\">\n",
       "      <th></th>\n",
       "      <th>chrom</th>\n",
       "      <th>start</th>\n",
       "      <th>end</th>\n",
       "      <th>name</th>\n",
       "      <th>score</th>\n",
       "      <th>strand</th>\n",
       "    </tr>\n",
       "  </thead>\n",
       "  <tbody>\n",
       "    <tr>\n",
       "      <th>57</th>\n",
       "      <td>chrI</td>\n",
       "      <td>454105</td>\n",
       "      <td>454106</td>\n",
       "      <td>5|A&gt;G|0.8</td>\n",
       "      <td>1.000000</td>\n",
       "      <td>+</td>\n",
       "    </tr>\n",
       "    <tr>\n",
       "      <th>58</th>\n",
       "      <td>chrI</td>\n",
       "      <td>454110</td>\n",
       "      <td>454111</td>\n",
       "      <td>5|A&gt;G|0.4</td>\n",
       "      <td>0.999408</td>\n",
       "      <td>+</td>\n",
       "    </tr>\n",
       "    <tr>\n",
       "      <th>60</th>\n",
       "      <td>chrI</td>\n",
       "      <td>454112</td>\n",
       "      <td>454113</td>\n",
       "      <td>5|A&gt;G|0.6</td>\n",
       "      <td>0.999996</td>\n",
       "      <td>+</td>\n",
       "    </tr>\n",
       "    <tr>\n",
       "      <th>61</th>\n",
       "      <td>chrI</td>\n",
       "      <td>454117</td>\n",
       "      <td>454118</td>\n",
       "      <td>5|A&gt;G|0.6</td>\n",
       "      <td>0.999996</td>\n",
       "      <td>+</td>\n",
       "    </tr>\n",
       "    <tr>\n",
       "      <th>63</th>\n",
       "      <td>chrI</td>\n",
       "      <td>454329</td>\n",
       "      <td>454330</td>\n",
       "      <td>5|A&gt;G|0.4</td>\n",
       "      <td>0.999408</td>\n",
       "      <td>+</td>\n",
       "    </tr>\n",
       "  </tbody>\n",
       "</table>\n",
       "</div>"
      ],
      "text/plain": [
       "   chrom   start     end       name     score strand\n",
       "57  chrI  454105  454106  5|A>G|0.8  1.000000      +\n",
       "58  chrI  454110  454111  5|A>G|0.4  0.999408      +\n",
       "60  chrI  454112  454113  5|A>G|0.6  0.999996      +\n",
       "61  chrI  454117  454118  5|A>G|0.6  0.999996      +\n",
       "63  chrI  454329  454330  5|A>G|0.4  0.999408      +"
      ]
     },
     "execution_count": 6,
     "metadata": {},
     "output_type": "execute_result"
    }
   ],
   "source": [
    "# format the bedfile\n",
    "out_filtered_bed = os.path.join(output_directory,'filtered.bed')\n",
    "\n",
    "fwd = pd.read_table(fwd_bed, names=['chrom','start','end','name','score','strand'])\n",
    "rev = pd.read_table(rev_bed, names=['chrom','start','end','name','score','strand'])\n",
    "\n",
    "adrf = pd.read_table(fwd_adr, names=['chrom','start','end','name','score','strand'])\n",
    "adrr = pd.read_table(rev_adr, names=['chrom','start','end','name','score','strand'])\n",
    "\n",
    "bed = pd.concat([fwd, rev])\n",
    "bed = bed[bed['score']>min_confidence]\n",
    "bed.shape\n",
    "\n",
    "bed_a = pd.concat([adrf, adrr])\n",
    "bed_a = bed_a[bed_a['score']>min_confidence]\n",
    "\n",
    "keys = ['chrom', 'start', 'end', 'strand']\n",
    "i1 = bed.set_index(keys).index\n",
    "i2 = bed_a.set_index(keys).index\n",
    "filtered_bed = bed\n",
    "\n",
    "filtered_bed = bed[~i1.isin(i2)]\n",
    "filtered_bed.to_csv(out_filtered_bed, sep='\\t', index=False, header=False)\n",
    "print(\"Number of editing sites called: {}\".format(filtered_bed.shape[0]))\n",
    "filtered_bed.head()"
   ]
  },
  {
   "cell_type": "markdown",
   "metadata": {},
   "source": [
    "# Annotation of WT\n",
    "- build a gtf file that contains annotations for not only the annotated regions, but also the up/downstream regions as well.\n",
    "- For genes, look for 5'UTR, 3'UTR features, and create new GTF entries for each that are 2000bp up/downstream\n",
    "- Also, look for start/stop codon features, there are some genes with unannotated/missing/nonexistant UTR regions\n",
    "- For noncoding genes/transcripts, create new GTF entries 2000bp up/downstream each found transcript.\n",
    "- Pay attention to the coordinates such that no new feature has negative start/stop positions\n",
    "- build an SQLITE database using this GTF file using build_db()"
   ]
  },
  {
   "cell_type": "code",
   "execution_count": 7,
   "metadata": {
    "collapsed": true
   },
   "outputs": [],
   "source": [
    "import copy\n",
    "# This section appends to genes a 2000bp window extending each featuretype by 2000bp\n",
    "o = open(extended_geneset, 'w')\n",
    "with open(canonical_geneset, 'r') as f:\n",
    "    for line in f:\n",
    "        ### If we have a comment, leave it alone and write it.\n",
    "        if line.startswith('#'):\n",
    "            o.write(line)\n",
    "        else:\n",
    "            ### write the original annotation.\n",
    "            o.write(line)\n",
    "            newline = copy.deepcopy(line).split('\\t')\n",
    "            ### If we find an annotated 5' UTR, create an 'upstream' region 2000bp upstream of that.\n",
    "            if (newline[2] == 'five_prime_utr') or (newline[2] == 'start_codon'):\n",
    "                name = 'upstream_gene'\n",
    "                if newline[6] == '+':\n",
    "                    newstart = int(newline[3]) - 2000\n",
    "                    newend = int(newline[3]) - 1\n",
    "                elif newline[6] == '-':\n",
    "                    newstart = int(newline[4]) + 1\n",
    "                    newend = int(newline[4]) + 2000\n",
    "                o.write('{}\\t{}\\t{}\\t{}\\t{}\\t{}\\t{}\\t{}\\t{}\\n'.format(\n",
    "                    newline[0],newline[1],name,newstart,newend,newline[5],newline[6],newline[7],newline[8]\n",
    "                ))\n",
    "                name = ''\n",
    "                newstart = 0\n",
    "                newend = 0\n",
    "            ### If we find an annotated 3' UTR, create a 'downstream' region 2000bp long.\n",
    "            elif (newline[2] == 'three_prime_utr') or (newline[2] == 'stop_codon'):\n",
    "                name = 'downstream_gene'\n",
    "                if newline[6] == '+':\n",
    "                    newstart = int(newline[4]) + 1\n",
    "                    newend = int(newline[4]) + 2000\n",
    "                elif newline[6] == '-':\n",
    "                    newstart = int(newline[3]) - 2000\n",
    "                    newend = int(newline[3]) - 1\n",
    "                o.write('{}\\t{}\\t{}\\t{}\\t{}\\t{}\\t{}\\t{}\\t{}\\n'.format(\n",
    "                    newline[0],newline[1],name,newstart,newend,newline[5],newline[6],newline[7],newline[8]\n",
    "                ))\n",
    "                name = ''\n",
    "                newstart = 0\n",
    "                newend = 0\n",
    "            ### If we find an annotated non-protein-coding gene/transcript, \n",
    "            elif newline[2] == 'gene' and 'protein_coding' not in newline[8]:\n",
    "                name = 'upstream_noncoding_gene'\n",
    "                if newline[6] == '+':\n",
    "                    newstart = str(max(int(newline[3]) - 2000, 1))\n",
    "                    newend = int(newline[3]) - 1\n",
    "                elif newline[6] == '-':\n",
    "                    newstart = int(newline[4]) + 1\n",
    "                    newend = str(int(newline[4]) + 2000)\n",
    "                o.write('{}\\t{}\\t{}\\t{}\\t{}\\t{}\\t{}\\t{}\\t{}\\n'.format(\n",
    "                    newline[0],newline[1],name,newstart,newend,newline[5],newline[6],newline[7],newline[8]\n",
    "                ))\n",
    "                name = ''\n",
    "                newstart = 0\n",
    "                newend = 0\n",
    "                name = 'downstream_noncoding_gene'\n",
    "                if newline[6] == '+':\n",
    "                    newstart = int(newline[4]) - 1\n",
    "                    newend = str(int(newline[4]) + 2000)\n",
    "                elif newline[6] == '-':\n",
    "                    newstart = str(max(int(newline[3]) - 2000, 1))\n",
    "                    newend = int(newline[3]) - 1\n",
    "                o.write('{}\\t{}\\t{}\\t{}\\t{}\\t{}\\t{}\\t{}\\t{}\\n'.format(\n",
    "                    newline[0],newline[1],name,newstart,newend,newline[5],newline[6],newline[7],newline[8]\n",
    "                ))\n",
    "                name = ''\n",
    "                newstart = 0\n",
    "                newend = 0\n",
    "            elif newline[2] == 'transcript' and 'protein_coding' not in newline[8]:\n",
    "                name = 'upstream_noncoding_transcript'\n",
    "                if newline[6] == '+':\n",
    "                    newstart = str(max(int(newline[3]) - 2000, 1))\n",
    "                    newend = int(newline[3]) - 1\n",
    "                elif newline[6] == '-':\n",
    "                    newstart = int(newline[4]) + 1\n",
    "                    newend = str(int(newline[4]) + 2000)\n",
    "                o.write('{}\\t{}\\t{}\\t{}\\t{}\\t{}\\t{}\\t{}\\t{}\\n'.format(\n",
    "                    newline[0],newline[1],name,newstart,newend,newline[5],newline[6],newline[7],newline[8]\n",
    "                ))\n",
    "                name = ''\n",
    "                newstart = 0\n",
    "                newend = 0\n",
    "                name = 'downstream_noncoding_transcript'\n",
    "                if newline[6] == '+':\n",
    "                    newstart = int(newline[4]) + 1\n",
    "                    newend = str(int(newline[4]) + 2000)\n",
    "                elif newline[6] == '-':\n",
    "                    newstart = str(max(int(newline[3]) - 2000, 1))\n",
    "                    newend = int(newline[3]) - 1\n",
    "                o.write('{}\\t{}\\t{}\\t{}\\t{}\\t{}\\t{}\\t{}\\t{}\\n'.format(\n",
    "                    newline[0],newline[1],name,newstart,newend,newline[5],newline[6],newline[7],newline[8]\n",
    "                ))\n",
    "                name = ''\n",
    "                newstart = 0\n",
    "                newend = 0\n",
    "            else:\n",
    "                pass\n",
    "o.close()"
   ]
  },
  {
   "cell_type": "code",
   "execution_count": 8,
   "metadata": {
    "collapsed": true
   },
   "outputs": [],
   "source": [
    "# build a databse using this new set of annotations.\n",
    "import gffutils\n",
    "\n",
    "def build_db(annotation_file, db_file, force=True, disable_infer_genes=True, disable_infer_transcripts=True):\n",
    "    db = gffutils.create_db(\n",
    "        annotation_file, dbfn=db_file, force=force, # change to True if we need to create a new db\n",
    "        keep_order=True, merge_strategy='merge', sort_attribute_values=True,\n",
    "        disable_infer_genes=disable_infer_genes,\n",
    "        disable_infer_transcripts=disable_infer_transcripts\n",
    "    )\n",
    "build_db(extended_geneset, db_file, disable_infer_genes=True, disable_infer_transcripts=True)"
   ]
  },
  {
   "cell_type": "code",
   "execution_count": 9,
   "metadata": {},
   "outputs": [
    {
     "name": "stdout",
     "output_type": "stream",
     "text": [
      "protein_coding,three_prime_utr\r\n",
      "protein_coding,five_prime_utr\r\n",
      "protein_coding,CDS\r\n",
      "protein_coding,start_codon\r\n",
      "protein_coding,stop_codon\r\n",
      "protein_coding,exon\r\n",
      "protein_coding,intron\r\n",
      "protein_coding,transcript\r\n",
      "non_coding,exon\r\n",
      "non_coding,intron\r\n"
     ]
    }
   ],
   "source": [
    "# Build a priority\n",
    "priority_list = ['protein_coding,three_prime_utr',\n",
    "'protein_coding,five_prime_utr',\n",
    "'protein_coding,CDS',\n",
    "'protein_coding,start_codon',\n",
    "'protein_coding,stop_codon',\n",
    "'protein_coding,exon',\n",
    "'protein_coding,intron',\n",
    "'protein_coding,transcript',\n",
    "'non_coding,exon',\n",
    "'non_coding,intron',\n",
    "'protein_coding,downstream_gene',\n",
    "'protein_coding,upstream_gene',\n",
    "'non_coding,downstream_noncoding_transcript',\n",
    "'non_coding,upstream_noncoding_transcript']\n",
    "\n",
    "o = open(priority, 'w')\n",
    "for p in priority_list:\n",
    "    o.write('{}\\n'.format(p))\n",
    "o.close()\n",
    "!head /projects/ps-yeolab3/bay001/hundley_rnae_20160210/analysis/editor_response_minor_1/priority.txt"
   ]
  },
  {
   "cell_type": "markdown",
   "metadata": {},
   "source": [
    "# Run annotation script"
   ]
  },
  {
   "cell_type": "code",
   "execution_count": 10,
   "metadata": {},
   "outputs": [
    {
     "name": "stdout",
     "output_type": "stream",
     "text": [
      "Initializing/creating defs:  14%|##4              | 1/7 [00:00<00:01,  5.53it/s]featuretypes = ['cds', 'downstream_gene', 'downstream_noncoding_gene', 'downstream_noncoding_transcript', 'exon', 'five_prime_utr', 'gene', 'start_codon', 'stop_codon', 'three_prime_utr', 'transcript', 'upstream_gene', 'upstream_noncoding_gene', 'upstream_noncoding_transcript']\n",
      "Building gene ids -> gene names dictionary:  29%|2| 2/7 [00:03<00:05,  1.19s/it]\n",
      "Building feature index:   0%|                             | 0/7 [00:00<?, ?it/s]\u001b[A\n",
      "Adding I...:  14%|####5                           | 1/7 [00:10<01:02, 10.45s/it]\u001b[A\n",
      "Adding IV...:  29%|########8                      | 2/7 [00:31<01:08, 13.73s/it]\u001b[A\n",
      "Adding II...:  43%|#############2                 | 3/7 [00:42<00:51, 12.83s/it]\u001b[A\n",
      "Adding V...:  57%|##################2             | 4/7 [00:56<00:39, 13.07s/it]\u001b[A\n",
      "Adding X...:  71%|######################8         | 5/7 [01:08<00:25, 12.81s/it]\u001b[A\n",
      "Adding MtDNA...:  86%|########################    | 6/7 [01:09<00:09,  9.21s/it]\u001b[A\n",
      "Adding III...: 100%|##############################| 7/7 [01:20<00:00,  9.89s/it]\u001b[A955058 features hashed.\n",
      "Adding all features in DB to dictionary:  43%|#7  | 3/7 [01:25<01:41, 25.48s/it]\n",
      "Adding all CDS boundaries: 100%|##################| 7/7 [02:45<00:00, 22.08s/it]\u001b[A"
     ]
    }
   ],
   "source": [
    "# run annotation script\n",
    "species = 'ce11'\n",
    "\n",
    "cmd = 'python /home/bay001/projects/codebase/annotator/annotator/annotate.py '\n",
    "cmd = cmd + '--input {} '.format(out_filtered_bed)\n",
    "cmd = cmd + '--output {} '.format(out_filtered_bed + '.annotated')\n",
    "cmd = cmd + '--gtfdb {} '.format(db_file)\n",
    "cmd = cmd + '--transcript-priority-file {} '.format(priority)\n",
    "cmd = cmd + '--gene-priority-file {} '.format(priority)\n",
    "cmd = cmd + '--append_chr '\n",
    "cmd = cmd + '--species {} '.format(species)\n",
    "! $cmd"
   ]
  },
  {
   "cell_type": "markdown",
   "metadata": {},
   "source": [
    "# Plot pie chart of annotated sites in which we prioritize introns over up/downstream genic regions "
   ]
  },
  {
   "cell_type": "code",
   "execution_count": 11,
   "metadata": {},
   "outputs": [
    {
     "data": {
      "image/png": "[encoded data removed]",
      "text/plain": [
       "<matplotlib.figure.Figure at 0x2b616825bed0>"
      ]
     },
     "metadata": {},
     "output_type": "display_data"
    }
   ],
   "source": [
    "import matplotlib.pyplot as plt\n",
    "\n",
    "def get_region(row):\n",
    "    try:\n",
    "        if 'INTERGENIC' in row['priority']:\n",
    "            return 'intergenic'\n",
    "        else:\n",
    "            return row['priority'].split(':')[4]\n",
    "    except Exception as e:\n",
    "        print(e, row['priority'])\n",
    "        \n",
    "        \n",
    "annotated = pd.read_table(\n",
    "    out_filtered_bed + '.annotated', \n",
    "    names=['chrom','start','stop','name','score','strand','priority','annotated']\n",
    ")\n",
    "annotated['region'] = annotated.apply(get_region, axis=1)\n",
    "# Pie chart, where the slices will be ordered and plotted counter-clockwise:\n",
    "labels = list(annotated['region'].value_counts().keys())\n",
    "sizes = list(annotated['region'].value_counts())\n",
    "\n",
    "fig1, ax1 = plt.subplots()\n",
    "ax1.pie(sizes, labels=labels, autopct='%1.1f%%',\n",
    "        shadow=True, startangle=90)\n",
    "ax1.axis('equal')  # Equal aspect ratio ensures that pie is drawn as a circle.\n",
    "\n",
    "plt.show()"
   ]
  },
  {
   "cell_type": "code",
   "execution_count": 12,
   "metadata": {},
   "outputs": [
    {
     "data": {
      "text/html": [
       "<div>\n",
       "<table border=\"1\" class=\"dataframe\">\n",
       "  <thead>\n",
       "    <tr style=\"text-align: right;\">\n",
       "      <th></th>\n",
       "      <th>chrom</th>\n",
       "      <th>start</th>\n",
       "      <th>stop</th>\n",
       "      <th>name</th>\n",
       "      <th>score</th>\n",
       "      <th>strand</th>\n",
       "      <th>priority</th>\n",
       "      <th>annotated</th>\n",
       "      <th>region</th>\n",
       "    </tr>\n",
       "  </thead>\n",
       "  <tbody>\n",
       "  </tbody>\n",
       "</table>\n",
       "</div>"
      ],
      "text/plain": [
       "Empty DataFrame\n",
       "Columns: [chrom, start, stop, name, score, strand, priority, annotated, region]\n",
       "Index: []"
      ]
     },
     "execution_count": 12,
     "metadata": {},
     "output_type": "execute_result"
    }
   ],
   "source": [
    "annotated[annotated['region']=='exon'] # we shouldn't have 'just protein coding exon', 3/5UTR/CDS should all be prioritized first."
   ]
  },
  {
   "cell_type": "markdown",
   "metadata": {},
   "source": [
    "# Plot pie chart except we now prioritize upstream and downstream genes ahead of introns\n",
    "- just call this annotated1 for now, we don't know which priority we'll ultimately roll with\n",
    "- let's use the first priority and discard this one... the few instances we checked individually look more like introns than they do up/downstream genes. "
   ]
  },
  {
   "cell_type": "code",
   "execution_count": 13,
   "metadata": {},
   "outputs": [
    {
     "name": "stdout",
     "output_type": "stream",
     "text": [
      "Initializing/creating defs:  14%|##4              | 1/7 [00:00<00:00,  8.01it/s]featuretypes = ['cds', 'downstream_gene', 'downstream_noncoding_gene', 'downstream_noncoding_transcript', 'exon', 'five_prime_utr', 'gene', 'start_codon', 'stop_codon', 'three_prime_utr', 'transcript', 'upstream_gene', 'upstream_noncoding_gene', 'upstream_noncoding_transcript']\n",
      "Building gene ids -> gene names dictionary:  29%|2| 2/7 [00:03<00:05,  1.11s/it]\n",
      "Building feature index:   0%|                             | 0/7 [00:00<?, ?it/s]\u001b[A\n",
      "Adding I...:  14%|####5                           | 1/7 [00:10<01:02, 10.37s/it]\u001b[A\n",
      "Adding IV...:  29%|########8                      | 2/7 [00:30<01:07, 13.43s/it]\u001b[A\n",
      "Adding II...:  43%|#############2                 | 3/7 [00:41<00:50, 12.65s/it]\u001b[A\n",
      "Adding V...:  57%|##################2             | 4/7 [00:55<00:38, 12.92s/it]\u001b[A\n",
      "Adding X...:  71%|######################8         | 5/7 [01:07<00:25, 12.73s/it]\u001b[A\n",
      "Adding MtDNA...:  86%|########################    | 6/7 [01:08<00:09,  9.22s/it]\u001b[A\n",
      "Adding III...: 100%|##############################| 7/7 [01:19<00:00,  9.81s/it]\u001b[A955058 features hashed.\n",
      "Adding all features in DB to dictionary:  43%|#7  | 3/7 [01:25<01:41, 25.32s/it]\n",
      "Adding all CDS boundaries: 100%|##################| 7/7 [02:45<00:00, 22.10s/it]\u001b[A"
     ]
    },
    {
     "data": {
      "image/png": "[encoded data removed]",
      "text/plain": [
       "<matplotlib.figure.Figure at 0x2b6168b0de10>"
      ]
     },
     "metadata": {},
     "output_type": "display_data"
    }
   ],
   "source": [
    "# Build a priority\n",
    "priority_list = [\n",
    "    'protein_coding,three_prime_utr',\n",
    "    'protein_coding,downstream_gene', # this above introns\n",
    "    'protein_coding,five_prime_utr', \n",
    "    'protein_coding,upstream_gene', # this above introns\n",
    "    'protein_coding,CDS',\n",
    "    'protein_coding,start_codon',\n",
    "    'protein_coding,stop_codon',\n",
    "    'protein_coding,exon',\n",
    "    'protein_coding,intron',\n",
    "    'protein_coding,transcript',\n",
    "    'non_coding,exon',\n",
    "    'non_coding,intron',\n",
    "    'non_coding,downstream_noncoding_transcript',\n",
    "    'non_coding,upstream_noncoding_transcript'\n",
    "]\n",
    "\n",
    "o = open(priority_udfirst, 'w')\n",
    "for p in priority_list:\n",
    "    o.write('{}\\n'.format(p))\n",
    "o.close()\n",
    "\n",
    "# run annotation script\n",
    "species = 'ce11'\n",
    "\n",
    "cmd = 'python /home/bay001/projects/codebase/annotator/annotator/annotate.py '\n",
    "cmd = cmd + '--input {} '.format(out_filtered_bed)\n",
    "cmd = cmd + '--output {} '.format(out_filtered_bed + '.annotated_ud')\n",
    "cmd = cmd + '--gtfdb {} '.format(db_file)\n",
    "cmd = cmd + '--transcript-priority-file {} '.format(priority_udfirst)\n",
    "cmd = cmd + '--gene-priority-file {} '.format(priority_udfirst)\n",
    "cmd = cmd + '--append_chr '\n",
    "cmd = cmd + '--species {} '.format(species)\n",
    "! $cmd\n",
    "        \n",
    "annotated1 = pd.read_table(\n",
    "    out_filtered_bed + '.annotated_ud', \n",
    "    names=['chrom','start','stop','name','score','strand','priority','annotated']\n",
    ")\n",
    "annotated1['region'] = annotated1.apply(get_region, axis=1)\n",
    "# Pie chart, where the slices will be ordered and plotted counter-clockwise:\n",
    "labels = list(annotated1['region'].value_counts().keys())\n",
    "sizes = list(annotated1['region'].value_counts())\n",
    "\n",
    "fig1, ax1 = plt.subplots()\n",
    "ax1.pie(sizes, labels=labels, autopct='%1.1f%%',\n",
    "        shadow=True, startangle=90)\n",
    "ax1.axis('equal')  # Equal aspect ratio ensures that pie is drawn as a circle.\n",
    "\n",
    "plt.show()\n"
   ]
  },
  {
   "cell_type": "markdown",
   "metadata": {},
   "source": [
    "# Print the false positives and look to see if they make sense..."
   ]
  },
  {
   "cell_type": "code",
   "execution_count": 14,
   "metadata": {},
   "outputs": [
    {
     "data": {
      "text/html": [
       "<div>\n",
       "<table border=\"1\" class=\"dataframe\">\n",
       "  <thead>\n",
       "    <tr style=\"text-align: right;\">\n",
       "      <th></th>\n",
       "      <th>chrom</th>\n",
       "      <th>start</th>\n",
       "      <th>end</th>\n",
       "      <th>name</th>\n",
       "      <th>score</th>\n",
       "      <th>strand</th>\n",
       "    </tr>\n",
       "  </thead>\n",
       "  <tbody>\n",
       "    <tr>\n",
       "      <th>882</th>\n",
       "      <td>chrI</td>\n",
       "      <td>6560744</td>\n",
       "      <td>6560745</td>\n",
       "      <td>16|A&gt;G|0.125</td>\n",
       "      <td>0.990370</td>\n",
       "      <td>+</td>\n",
       "    </tr>\n",
       "    <tr>\n",
       "      <th>1406</th>\n",
       "      <td>chrI</td>\n",
       "      <td>9972128</td>\n",
       "      <td>9972129</td>\n",
       "      <td>6|A&gt;G|0.333333333</td>\n",
       "      <td>0.999020</td>\n",
       "      <td>+</td>\n",
       "    </tr>\n",
       "    <tr>\n",
       "      <th>2273</th>\n",
       "      <td>chrII</td>\n",
       "      <td>3817204</td>\n",
       "      <td>3817205</td>\n",
       "      <td>69|A&gt;G|0.086956522</td>\n",
       "      <td>0.999936</td>\n",
       "      <td>+</td>\n",
       "    </tr>\n",
       "    <tr>\n",
       "      <th>2780</th>\n",
       "      <td>chrII</td>\n",
       "      <td>7123750</td>\n",
       "      <td>7123751</td>\n",
       "      <td>13|A&gt;G|0.153846154</td>\n",
       "      <td>0.993825</td>\n",
       "      <td>+</td>\n",
       "    </tr>\n",
       "    <tr>\n",
       "      <th>2782</th>\n",
       "      <td>chrII</td>\n",
       "      <td>7123997</td>\n",
       "      <td>7123998</td>\n",
       "      <td>6|A&gt;G|0.5</td>\n",
       "      <td>0.999990</td>\n",
       "      <td>+</td>\n",
       "    </tr>\n",
       "    <tr>\n",
       "      <th>2926</th>\n",
       "      <td>chrII</td>\n",
       "      <td>8059074</td>\n",
       "      <td>8059075</td>\n",
       "      <td>10|A&gt;G|0.3</td>\n",
       "      <td>0.999920</td>\n",
       "      <td>+</td>\n",
       "    </tr>\n",
       "    <tr>\n",
       "      <th>3414</th>\n",
       "      <td>chrII</td>\n",
       "      <td>11216019</td>\n",
       "      <td>11216020</td>\n",
       "      <td>5|A&gt;G|0.6</td>\n",
       "      <td>0.999996</td>\n",
       "      <td>+</td>\n",
       "    </tr>\n",
       "    <tr>\n",
       "      <th>5821</th>\n",
       "      <td>chrIII</td>\n",
       "      <td>12944195</td>\n",
       "      <td>12944196</td>\n",
       "      <td>7|A&gt;G|0.285714286</td>\n",
       "      <td>0.998540</td>\n",
       "      <td>+</td>\n",
       "    </tr>\n",
       "    <tr>\n",
       "      <th>6515</th>\n",
       "      <td>chrIV</td>\n",
       "      <td>5716593</td>\n",
       "      <td>5716594</td>\n",
       "      <td>6|A&gt;G|0.333333333</td>\n",
       "      <td>0.999020</td>\n",
       "      <td>+</td>\n",
       "    </tr>\n",
       "    <tr>\n",
       "      <th>6811</th>\n",
       "      <td>chrIV</td>\n",
       "      <td>7595253</td>\n",
       "      <td>7595254</td>\n",
       "      <td>5|A&gt;G|0.6</td>\n",
       "      <td>0.999996</td>\n",
       "      <td>+</td>\n",
       "    </tr>\n",
       "    <tr>\n",
       "      <th>7847</th>\n",
       "      <td>chrIV</td>\n",
       "      <td>15909266</td>\n",
       "      <td>15909267</td>\n",
       "      <td>7|A&gt;G|0.571428571</td>\n",
       "      <td>1.000000</td>\n",
       "      <td>+</td>\n",
       "    </tr>\n",
       "    <tr>\n",
       "      <th>7848</th>\n",
       "      <td>chrIV</td>\n",
       "      <td>15909268</td>\n",
       "      <td>15909269</td>\n",
       "      <td>7|A&gt;G|0.571428571</td>\n",
       "      <td>1.000000</td>\n",
       "      <td>+</td>\n",
       "    </tr>\n",
       "    <tr>\n",
       "      <th>9628</th>\n",
       "      <td>chrV</td>\n",
       "      <td>20301516</td>\n",
       "      <td>20301517</td>\n",
       "      <td>6|A&gt;G|0.333333333</td>\n",
       "      <td>0.999020</td>\n",
       "      <td>+</td>\n",
       "    </tr>\n",
       "    <tr>\n",
       "      <th>10120</th>\n",
       "      <td>chrX</td>\n",
       "      <td>4459292</td>\n",
       "      <td>4459293</td>\n",
       "      <td>9|A&gt;G|0.555555556</td>\n",
       "      <td>1.000000</td>\n",
       "      <td>+</td>\n",
       "    </tr>\n",
       "    <tr>\n",
       "      <th>1526</th>\n",
       "      <td>chrI</td>\n",
       "      <td>10271088</td>\n",
       "      <td>10271089</td>\n",
       "      <td>15|T&gt;C|0.2</td>\n",
       "      <td>0.999665</td>\n",
       "      <td>-</td>\n",
       "    </tr>\n",
       "    <tr>\n",
       "      <th>1588</th>\n",
       "      <td>chrI</td>\n",
       "      <td>10819270</td>\n",
       "      <td>10819271</td>\n",
       "      <td>11|T&gt;C|0.181818182</td>\n",
       "      <td>0.995734</td>\n",
       "      <td>-</td>\n",
       "    </tr>\n",
       "    <tr>\n",
       "      <th>1589</th>\n",
       "      <td>chrI</td>\n",
       "      <td>10819271</td>\n",
       "      <td>10819272</td>\n",
       "      <td>11|T&gt;C|0.181818182</td>\n",
       "      <td>0.995734</td>\n",
       "      <td>-</td>\n",
       "    </tr>\n",
       "    <tr>\n",
       "      <th>1592</th>\n",
       "      <td>chrI</td>\n",
       "      <td>10819311</td>\n",
       "      <td>10819312</td>\n",
       "      <td>7|T&gt;C|0.285714286</td>\n",
       "      <td>0.998540</td>\n",
       "      <td>-</td>\n",
       "    </tr>\n",
       "    <tr>\n",
       "      <th>1595</th>\n",
       "      <td>chrI</td>\n",
       "      <td>10819328</td>\n",
       "      <td>10819329</td>\n",
       "      <td>9|T&gt;C|0.222222222</td>\n",
       "      <td>0.997310</td>\n",
       "      <td>-</td>\n",
       "    </tr>\n",
       "    <tr>\n",
       "      <th>2297</th>\n",
       "      <td>chrII</td>\n",
       "      <td>3335472</td>\n",
       "      <td>3335473</td>\n",
       "      <td>14|T&gt;C|0.142857143</td>\n",
       "      <td>0.992751</td>\n",
       "      <td>-</td>\n",
       "    </tr>\n",
       "    <tr>\n",
       "      <th>2940</th>\n",
       "      <td>chrII</td>\n",
       "      <td>8031383</td>\n",
       "      <td>8031384</td>\n",
       "      <td>7|T&gt;C|0.571428571</td>\n",
       "      <td>1.000000</td>\n",
       "      <td>-</td>\n",
       "    </tr>\n",
       "    <tr>\n",
       "      <th>4157</th>\n",
       "      <td>chrIII</td>\n",
       "      <td>3061582</td>\n",
       "      <td>3061583</td>\n",
       "      <td>15|T&gt;C|0.133333333</td>\n",
       "      <td>0.991599</td>\n",
       "      <td>-</td>\n",
       "    </tr>\n",
       "    <tr>\n",
       "      <th>4377</th>\n",
       "      <td>chrIII</td>\n",
       "      <td>4252920</td>\n",
       "      <td>4252921</td>\n",
       "      <td>15|T&gt;C|0.133333333</td>\n",
       "      <td>0.991599</td>\n",
       "      <td>-</td>\n",
       "    </tr>\n",
       "    <tr>\n",
       "      <th>5728</th>\n",
       "      <td>chrIII</td>\n",
       "      <td>13480781</td>\n",
       "      <td>13480782</td>\n",
       "      <td>10|T&gt;C|0.3</td>\n",
       "      <td>0.999920</td>\n",
       "      <td>-</td>\n",
       "    </tr>\n",
       "    <tr>\n",
       "      <th>6802</th>\n",
       "      <td>chrIV</td>\n",
       "      <td>10177377</td>\n",
       "      <td>10177378</td>\n",
       "      <td>13|T&gt;C|0.153846154</td>\n",
       "      <td>0.993825</td>\n",
       "      <td>-</td>\n",
       "    </tr>\n",
       "    <tr>\n",
       "      <th>7793</th>\n",
       "      <td>chrV</td>\n",
       "      <td>5581405</td>\n",
       "      <td>5581406</td>\n",
       "      <td>6|T&gt;C|0.833333333</td>\n",
       "      <td>1.000000</td>\n",
       "      <td>-</td>\n",
       "    </tr>\n",
       "    <tr>\n",
       "      <th>9377</th>\n",
       "      <td>chrX</td>\n",
       "      <td>237228</td>\n",
       "      <td>237229</td>\n",
       "      <td>7|T&gt;C|0.285714286</td>\n",
       "      <td>0.998540</td>\n",
       "      <td>-</td>\n",
       "    </tr>\n",
       "    <tr>\n",
       "      <th>9551</th>\n",
       "      <td>chrX</td>\n",
       "      <td>2095953</td>\n",
       "      <td>2095954</td>\n",
       "      <td>10|T&gt;C|0.2</td>\n",
       "      <td>0.996564</td>\n",
       "      <td>-</td>\n",
       "    </tr>\n",
       "  </tbody>\n",
       "</table>\n",
       "</div>"
      ],
      "text/plain": [
       "        chrom     start       end                name     score strand\n",
       "882      chrI   6560744   6560745        16|A>G|0.125  0.990370      +\n",
       "1406     chrI   9972128   9972129   6|A>G|0.333333333  0.999020      +\n",
       "2273    chrII   3817204   3817205  69|A>G|0.086956522  0.999936      +\n",
       "2780    chrII   7123750   7123751  13|A>G|0.153846154  0.993825      +\n",
       "2782    chrII   7123997   7123998           6|A>G|0.5  0.999990      +\n",
       "2926    chrII   8059074   8059075          10|A>G|0.3  0.999920      +\n",
       "3414    chrII  11216019  11216020           5|A>G|0.6  0.999996      +\n",
       "5821   chrIII  12944195  12944196   7|A>G|0.285714286  0.998540      +\n",
       "6515    chrIV   5716593   5716594   6|A>G|0.333333333  0.999020      +\n",
       "6811    chrIV   7595253   7595254           5|A>G|0.6  0.999996      +\n",
       "7847    chrIV  15909266  15909267   7|A>G|0.571428571  1.000000      +\n",
       "7848    chrIV  15909268  15909269   7|A>G|0.571428571  1.000000      +\n",
       "9628     chrV  20301516  20301517   6|A>G|0.333333333  0.999020      +\n",
       "10120    chrX   4459292   4459293   9|A>G|0.555555556  1.000000      +\n",
       "1526     chrI  10271088  10271089          15|T>C|0.2  0.999665      -\n",
       "1588     chrI  10819270  10819271  11|T>C|0.181818182  0.995734      -\n",
       "1589     chrI  10819271  10819272  11|T>C|0.181818182  0.995734      -\n",
       "1592     chrI  10819311  10819312   7|T>C|0.285714286  0.998540      -\n",
       "1595     chrI  10819328  10819329   9|T>C|0.222222222  0.997310      -\n",
       "2297    chrII   3335472   3335473  14|T>C|0.142857143  0.992751      -\n",
       "2940    chrII   8031383   8031384   7|T>C|0.571428571  1.000000      -\n",
       "4157   chrIII   3061582   3061583  15|T>C|0.133333333  0.991599      -\n",
       "4377   chrIII   4252920   4252921  15|T>C|0.133333333  0.991599      -\n",
       "5728   chrIII  13480781  13480782          10|T>C|0.3  0.999920      -\n",
       "6802    chrIV  10177377  10177378  13|T>C|0.153846154  0.993825      -\n",
       "7793     chrV   5581405   5581406   6|T>C|0.833333333  1.000000      -\n",
       "9377     chrX    237228    237229   7|T>C|0.285714286  0.998540      -\n",
       "9551     chrX   2095953   2095954          10|T>C|0.2  0.996564      -"
      ]
     },
     "execution_count": 14,
     "metadata": {},
     "output_type": "execute_result"
    }
   ],
   "source": [
    "bed_a"
   ]
  },
  {
   "cell_type": "markdown",
   "metadata": {},
   "source": [
    "# Add wbgenes (parse my annotation structure to more easily read genic info)"
   ]
  },
  {
   "cell_type": "code",
   "execution_count": 15,
   "metadata": {},
   "outputs": [
    {
     "data": {
      "text/html": [
       "<div>\n",
       "<table border=\"1\" class=\"dataframe\">\n",
       "  <thead>\n",
       "    <tr style=\"text-align: right;\">\n",
       "      <th></th>\n",
       "      <th>chrom</th>\n",
       "      <th>start</th>\n",
       "      <th>stop</th>\n",
       "      <th>name</th>\n",
       "      <th>score</th>\n",
       "      <th>strand</th>\n",
       "      <th>priority</th>\n",
       "      <th>annotated</th>\n",
       "      <th>region</th>\n",
       "      <th>wbgene</th>\n",
       "      <th>edit_fraction</th>\n",
       "      <th>coverage</th>\n",
       "      <th>edit</th>\n",
       "    </tr>\n",
       "  </thead>\n",
       "  <tbody>\n",
       "    <tr>\n",
       "      <th>0</th>\n",
       "      <td>chrI</td>\n",
       "      <td>454105</td>\n",
       "      <td>454106</td>\n",
       "      <td>5|A&gt;G|0.8</td>\n",
       "      <td>1.000000</td>\n",
       "      <td>+</td>\n",
       "      <td>C07F11.1:451461:455355:+:intron:WBGene00006593...</td>\n",
       "      <td>C07F11.1:443998:461605:+:transcript:WBGene0000...</td>\n",
       "      <td>intron</td>\n",
       "      <td>WBGene00006593</td>\n",
       "      <td>0.8</td>\n",
       "      <td>5</td>\n",
       "      <td>A&gt;G</td>\n",
       "    </tr>\n",
       "    <tr>\n",
       "      <th>1</th>\n",
       "      <td>chrI</td>\n",
       "      <td>454110</td>\n",
       "      <td>454111</td>\n",
       "      <td>5|A&gt;G|0.4</td>\n",
       "      <td>0.999408</td>\n",
       "      <td>+</td>\n",
       "      <td>C07F11.1:451461:455355:+:intron:WBGene00006593...</td>\n",
       "      <td>C07F11.1:443998:461605:+:transcript:WBGene0000...</td>\n",
       "      <td>intron</td>\n",
       "      <td>WBGene00006593</td>\n",
       "      <td>0.4</td>\n",
       "      <td>5</td>\n",
       "      <td>A&gt;G</td>\n",
       "    </tr>\n",
       "    <tr>\n",
       "      <th>2</th>\n",
       "      <td>chrI</td>\n",
       "      <td>454112</td>\n",
       "      <td>454113</td>\n",
       "      <td>5|A&gt;G|0.6</td>\n",
       "      <td>0.999996</td>\n",
       "      <td>+</td>\n",
       "      <td>C07F11.1:451461:455355:+:intron:WBGene00006593...</td>\n",
       "      <td>C07F11.1:443998:461605:+:transcript:WBGene0000...</td>\n",
       "      <td>intron</td>\n",
       "      <td>WBGene00006593</td>\n",
       "      <td>0.6</td>\n",
       "      <td>5</td>\n",
       "      <td>A&gt;G</td>\n",
       "    </tr>\n",
       "    <tr>\n",
       "      <th>3</th>\n",
       "      <td>chrI</td>\n",
       "      <td>454117</td>\n",
       "      <td>454118</td>\n",
       "      <td>5|A&gt;G|0.6</td>\n",
       "      <td>0.999996</td>\n",
       "      <td>+</td>\n",
       "      <td>C07F11.1:451461:455355:+:intron:WBGene00006593...</td>\n",
       "      <td>C07F11.1:443998:461605:+:transcript:WBGene0000...</td>\n",
       "      <td>intron</td>\n",
       "      <td>WBGene00006593</td>\n",
       "      <td>0.6</td>\n",
       "      <td>5</td>\n",
       "      <td>A&gt;G</td>\n",
       "    </tr>\n",
       "    <tr>\n",
       "      <th>4</th>\n",
       "      <td>chrI</td>\n",
       "      <td>454329</td>\n",
       "      <td>454330</td>\n",
       "      <td>5|A&gt;G|0.4</td>\n",
       "      <td>0.999408</td>\n",
       "      <td>+</td>\n",
       "      <td>C07F11.1:451461:455355:+:intron:WBGene00006593...</td>\n",
       "      <td>C07F11.1:443998:461605:+:transcript:WBGene0000...</td>\n",
       "      <td>intron</td>\n",
       "      <td>WBGene00006593</td>\n",
       "      <td>0.4</td>\n",
       "      <td>5</td>\n",
       "      <td>A&gt;G</td>\n",
       "    </tr>\n",
       "  </tbody>\n",
       "</table>\n",
       "</div>"
      ],
      "text/plain": [
       "  chrom   start    stop       name     score strand  \\\n",
       "0  chrI  454105  454106  5|A>G|0.8  1.000000      +   \n",
       "1  chrI  454110  454111  5|A>G|0.4  0.999408      +   \n",
       "2  chrI  454112  454113  5|A>G|0.6  0.999996      +   \n",
       "3  chrI  454117  454118  5|A>G|0.6  0.999996      +   \n",
       "4  chrI  454329  454330  5|A>G|0.4  0.999408      +   \n",
       "\n",
       "                                            priority  \\\n",
       "0  C07F11.1:451461:455355:+:intron:WBGene00006593...   \n",
       "1  C07F11.1:451461:455355:+:intron:WBGene00006593...   \n",
       "2  C07F11.1:451461:455355:+:intron:WBGene00006593...   \n",
       "3  C07F11.1:451461:455355:+:intron:WBGene00006593...   \n",
       "4  C07F11.1:451461:455355:+:intron:WBGene00006593...   \n",
       "\n",
       "                                           annotated  region          wbgene  \\\n",
       "0  C07F11.1:443998:461605:+:transcript:WBGene0000...  intron  WBGene00006593   \n",
       "1  C07F11.1:443998:461605:+:transcript:WBGene0000...  intron  WBGene00006593   \n",
       "2  C07F11.1:443998:461605:+:transcript:WBGene0000...  intron  WBGene00006593   \n",
       "3  C07F11.1:443998:461605:+:transcript:WBGene0000...  intron  WBGene00006593   \n",
       "4  C07F11.1:443998:461605:+:transcript:WBGene0000...  intron  WBGene00006593   \n",
       "\n",
       "  edit_fraction coverage edit  \n",
       "0           0.8        5  A>G  \n",
       "1           0.4        5  A>G  \n",
       "2           0.6        5  A>G  \n",
       "3           0.6        5  A>G  \n",
       "4           0.4        5  A>G  "
      ]
     },
     "execution_count": 15,
     "metadata": {},
     "output_type": "execute_result"
    }
   ],
   "source": [
    "def get_wbgene(row):\n",
    "    try:\n",
    "        if 'INTERGENIC' in row['priority']:\n",
    "            return 'intergenic'\n",
    "        else:\n",
    "            return row['priority'].split(':')[5]\n",
    "    except Exception as e:\n",
    "        print(e, row['priority'])\n",
    "\n",
    "def get_coverage(row):\n",
    "    return row['name'].split('|')[0]\n",
    "\n",
    "def get_edit(row):\n",
    "    return row['name'].split('|')[1]\n",
    "\n",
    "def get_edit_fraction(row):\n",
    "    return row['name'].split('|')[2]\n",
    "\n",
    "def get_gene_name(row):\n",
    "    if row['wbgene'] == 'intergenic':\n",
    "        return 'intergenic'\n",
    "    else:\n",
    "        return \n",
    "    \n",
    "annotated['wbgene'] = annotated.apply(get_wbgene, axis=1)\n",
    "annotated['edit_fraction'] = annotated.apply(get_edit_fraction, axis=1)\n",
    "annotated['coverage'] = annotated.apply(get_coverage, axis=1)\n",
    "annotated['edit'] = annotated.apply(get_edit, axis=1)\n",
    "annotated.head()"
   ]
  },
  {
   "cell_type": "code",
   "execution_count": 16,
   "metadata": {},
   "outputs": [
    {
     "data": {
      "text/plain": [
       "'C07F11.1:451461:455355:+:intron:WBGene00006593:C07F11.1:protein_coding:feature_contains_query'"
      ]
     },
     "execution_count": 16,
     "metadata": {},
     "output_type": "execute_result"
    }
   ],
   "source": [
    "# check a random annotation to make sure this makes sense.\n",
    "annotated.ix[1]['priority']"
   ]
  },
  {
   "cell_type": "markdown",
   "metadata": {
    "collapsed": true
   },
   "source": [
    "# Write annotated editing sites to csv as intermediate"
   ]
  },
  {
   "cell_type": "code",
   "execution_count": 17,
   "metadata": {
    "collapsed": true
   },
   "outputs": [],
   "source": [
    "annotated.to_csv(\n",
    "    all_output_regions_wbgene_annotations,\n",
    "    sep='\\t',\n",
    "    index=None,\n",
    ")"
   ]
  },
  {
   "cell_type": "markdown",
   "metadata": {},
   "source": [
    "# Using an existing list of edited sites, check to see how many we've found/are novel\n",
    "- Give wbgene names to other discovered transcripts\n",
    "- transform existing editing sites (from other papers) into their wbgene name, to compare to our calls."
   ]
  },
  {
   "cell_type": "code",
   "execution_count": 18,
   "metadata": {},
   "outputs": [
    {
     "data": {
      "text/html": [
       "<div>\n",
       "<table border=\"1\" class=\"dataframe\">\n",
       "  <thead>\n",
       "    <tr style=\"text-align: right;\">\n",
       "      <th></th>\n",
       "      <th>transcript1</th>\n",
       "      <th>name1</th>\n",
       "      <th>transcript2</th>\n",
       "      <th>name2</th>\n",
       "      <th>transcript3</th>\n",
       "      <th>name3</th>\n",
       "    </tr>\n",
       "  </thead>\n",
       "  <tbody>\n",
       "    <tr>\n",
       "      <th>0</th>\n",
       "      <td>3R5.1</td>\n",
       "      <td>.</td>\n",
       "      <td>3R5.1</td>\n",
       "      <td>.</td>\n",
       "      <td>2L52.1</td>\n",
       "      <td>.</td>\n",
       "    </tr>\n",
       "    <tr>\n",
       "      <th>1</th>\n",
       "      <td>3R5.1</td>\n",
       "      <td>.</td>\n",
       "      <td>3R5.1</td>\n",
       "      <td>.</td>\n",
       "      <td>2L52.1</td>\n",
       "      <td>.</td>\n",
       "    </tr>\n",
       "    <tr>\n",
       "      <th>2</th>\n",
       "      <td>3R5.1</td>\n",
       "      <td>.</td>\n",
       "      <td>B0035.14</td>\n",
       "      <td>.</td>\n",
       "      <td>2L52.1</td>\n",
       "      <td>.</td>\n",
       "    </tr>\n",
       "    <tr>\n",
       "      <th>3</th>\n",
       "      <td>3R5.1</td>\n",
       "      <td>.</td>\n",
       "      <td>B0041.5</td>\n",
       "      <td>.</td>\n",
       "      <td>2L52.1</td>\n",
       "      <td>.</td>\n",
       "    </tr>\n",
       "    <tr>\n",
       "      <th>4</th>\n",
       "      <td>3R5.1</td>\n",
       "      <td>.</td>\n",
       "      <td>B0281.1</td>\n",
       "      <td>.</td>\n",
       "      <td>2RSSE.1</td>\n",
       "      <td>.</td>\n",
       "    </tr>\n",
       "  </tbody>\n",
       "</table>\n",
       "</div>"
      ],
      "text/plain": [
       "  transcript1 name1 transcript2 name2 transcript3 name3\n",
       "0       3R5.1     .       3R5.1     .      2L52.1     .\n",
       "1       3R5.1     .       3R5.1     .      2L52.1     .\n",
       "2       3R5.1     .    B0035.14     .      2L52.1     .\n",
       "3       3R5.1     .     B0041.5     .      2L52.1     .\n",
       "4       3R5.1     .     B0281.1     .     2RSSE.1     ."
      ]
     },
     "execution_count": 18,
     "metadata": {},
     "output_type": "execute_result"
    }
   ],
   "source": [
    "genes_from_sarah = pd.read_table(\n",
    "    existing_transcripts,\n",
    "    names=['transcript1','name1','transcript2','name2','transcript3','name3']\n",
    ")\n",
    "genes_from_sarah.fillna('.',inplace=True)\n",
    "genes_from_sarah.head()"
   ]
  },
  {
   "cell_type": "markdown",
   "metadata": {},
   "source": [
    "# Convert transcript names to their wbgene IDs\n",
    "- This makes things easier to go back/forth between old/new annotations\n",
    "- The canonical geneset gtf file does not contain many of the older names that are listed in the 'previously found' list. We need to use a database generated from the gff which contains all transcript IDs. "
   ]
  },
  {
   "cell_type": "code",
   "execution_count": 19,
   "metadata": {
    "collapsed": true
   },
   "outputs": [],
   "source": [
    "## USE A DIFFERENT \"GFF\" DB FILE BECAUSE it still has the older annotations \n",
    "## (ie. 3R5.1 instead of 3R5.1a, 3R5.1b)\n",
    "\n",
    "if not os.path.exists(wormbase_db_file):\n",
    "    build_db(wormbase_gff, wormbase_db_file)\n",
    "    \n",
    "DATABASE = gffutils.FeatureDB(\n",
    "    wormbase_db_file\n",
    ")"
   ]
  },
  {
   "cell_type": "code",
   "execution_count": 20,
   "metadata": {
    "collapsed": true
   },
   "outputs": [],
   "source": [
    "# helper functions to build the gene-to-id dictionaries/hash\n",
    "\n",
    "def gene_id_to_name(db, attribute='Name'):\n",
    "    '''\n",
    "    takes a gene id and returns the first name associated (one-to-one)\n",
    "    '''\n",
    "    # db = gffutils.FeatureDB(db)\n",
    "    genes = db.features_of_type('gene')\n",
    "    gene_name_dict = {}\n",
    "    for gene in genes:\n",
    "        gene_id = gene.attributes['Name'][0] if type(gene.attributes['Name']) == list else gene.attributes['Name']\n",
    "        try:\n",
    "            gene_name_dict[gene_id] = gene.attributes['Alias'][0]\n",
    "        except KeyError:\n",
    "            print(\"Warning. Key not found for {}\".format(gene))\n",
    "    return gene_name_dict\n",
    "\n",
    "def gene_name_to_id(db, attribute='Name'):\n",
    "    '''\n",
    "    takes the name and returns a list of associated IDs (one-to-many)\n",
    "    '''\n",
    "    # db = gffutils.FeatureDB(db)\n",
    "    genes = db.features_of_type('gene')\n",
    "    gene_name_dict = defaultdict(list)\n",
    "    for gene in genes:\n",
    "        try:\n",
    "            gene_name_dict[gene.attributes['sequence_name'][0]].append(gene.attributes['Name'][0])\n",
    "        except KeyError as e:\n",
    "            print(e)\n",
    "            return 1\n",
    "            # print(\"Warning. Key not found for {}\".format(gene))\n",
    "    return gene_name_dict"
   ]
  },
  {
   "cell_type": "code",
   "execution_count": 21,
   "metadata": {
    "collapsed": true
   },
   "outputs": [],
   "source": [
    "id2name_dict = gene_id_to_name(DATABASE)\n",
    "name2id_dict = gene_name_to_id(DATABASE)"
   ]
  },
  {
   "cell_type": "code",
   "execution_count": 22,
   "metadata": {
    "collapsed": true
   },
   "outputs": [],
   "source": [
    "# Helper functions to use to apply translations across all rows/columns\n",
    "\n",
    "def name2id(row, col='transcript1'):\n",
    "    if row[col] == '.':\n",
    "        return '.'\n",
    "    else:\n",
    "        ret = name2id_dict[row[col]]\n",
    "    if len(ret) == 0:\n",
    "        return '.'\n",
    "    else:\n",
    "        return ret[0]\n",
    "    \n",
    "def add_name(row, col='wbgene1'):\n",
    "    if row[col] == '.' or row[col] == 'intergenic':\n",
    "        return '.'\n",
    "    else:\n",
    "        ret = id2name_dict[row[col]]\n",
    "    if len(ret) == 0:\n",
    "        return '.'\n",
    "    else:\n",
    "        return ret"
   ]
  },
  {
   "cell_type": "code",
   "execution_count": 23,
   "metadata": {},
   "outputs": [
    {
     "data": {
      "text/html": [
       "<div>\n",
       "<table border=\"1\" class=\"dataframe\">\n",
       "  <thead>\n",
       "    <tr style=\"text-align: right;\">\n",
       "      <th></th>\n",
       "      <th>chrom</th>\n",
       "      <th>start</th>\n",
       "      <th>stop</th>\n",
       "      <th>name</th>\n",
       "      <th>score</th>\n",
       "      <th>strand</th>\n",
       "      <th>priority</th>\n",
       "      <th>annotated</th>\n",
       "      <th>region</th>\n",
       "      <th>wbgene</th>\n",
       "      <th>edit_fraction</th>\n",
       "      <th>coverage</th>\n",
       "      <th>edit</th>\n",
       "      <th>gene</th>\n",
       "    </tr>\n",
       "  </thead>\n",
       "  <tbody>\n",
       "    <tr>\n",
       "      <th>0</th>\n",
       "      <td>chrI</td>\n",
       "      <td>454105</td>\n",
       "      <td>454106</td>\n",
       "      <td>5|A&gt;G|0.8</td>\n",
       "      <td>1.000000</td>\n",
       "      <td>+</td>\n",
       "      <td>C07F11.1:451461:455355:+:intron:WBGene00006593...</td>\n",
       "      <td>C07F11.1:443998:461605:+:transcript:WBGene0000...</td>\n",
       "      <td>intron</td>\n",
       "      <td>WBGene00006593</td>\n",
       "      <td>0.8</td>\n",
       "      <td>5</td>\n",
       "      <td>A&gt;G</td>\n",
       "      <td>tol-1</td>\n",
       "    </tr>\n",
       "    <tr>\n",
       "      <th>1</th>\n",
       "      <td>chrI</td>\n",
       "      <td>454110</td>\n",
       "      <td>454111</td>\n",
       "      <td>5|A&gt;G|0.4</td>\n",
       "      <td>0.999408</td>\n",
       "      <td>+</td>\n",
       "      <td>C07F11.1:451461:455355:+:intron:WBGene00006593...</td>\n",
       "      <td>C07F11.1:443998:461605:+:transcript:WBGene0000...</td>\n",
       "      <td>intron</td>\n",
       "      <td>WBGene00006593</td>\n",
       "      <td>0.4</td>\n",
       "      <td>5</td>\n",
       "      <td>A&gt;G</td>\n",
       "      <td>tol-1</td>\n",
       "    </tr>\n",
       "    <tr>\n",
       "      <th>2</th>\n",
       "      <td>chrI</td>\n",
       "      <td>454112</td>\n",
       "      <td>454113</td>\n",
       "      <td>5|A&gt;G|0.6</td>\n",
       "      <td>0.999996</td>\n",
       "      <td>+</td>\n",
       "      <td>C07F11.1:451461:455355:+:intron:WBGene00006593...</td>\n",
       "      <td>C07F11.1:443998:461605:+:transcript:WBGene0000...</td>\n",
       "      <td>intron</td>\n",
       "      <td>WBGene00006593</td>\n",
       "      <td>0.6</td>\n",
       "      <td>5</td>\n",
       "      <td>A&gt;G</td>\n",
       "      <td>tol-1</td>\n",
       "    </tr>\n",
       "    <tr>\n",
       "      <th>3</th>\n",
       "      <td>chrI</td>\n",
       "      <td>454117</td>\n",
       "      <td>454118</td>\n",
       "      <td>5|A&gt;G|0.6</td>\n",
       "      <td>0.999996</td>\n",
       "      <td>+</td>\n",
       "      <td>C07F11.1:451461:455355:+:intron:WBGene00006593...</td>\n",
       "      <td>C07F11.1:443998:461605:+:transcript:WBGene0000...</td>\n",
       "      <td>intron</td>\n",
       "      <td>WBGene00006593</td>\n",
       "      <td>0.6</td>\n",
       "      <td>5</td>\n",
       "      <td>A&gt;G</td>\n",
       "      <td>tol-1</td>\n",
       "    </tr>\n",
       "    <tr>\n",
       "      <th>4</th>\n",
       "      <td>chrI</td>\n",
       "      <td>454329</td>\n",
       "      <td>454330</td>\n",
       "      <td>5|A&gt;G|0.4</td>\n",
       "      <td>0.999408</td>\n",
       "      <td>+</td>\n",
       "      <td>C07F11.1:451461:455355:+:intron:WBGene00006593...</td>\n",
       "      <td>C07F11.1:443998:461605:+:transcript:WBGene0000...</td>\n",
       "      <td>intron</td>\n",
       "      <td>WBGene00006593</td>\n",
       "      <td>0.4</td>\n",
       "      <td>5</td>\n",
       "      <td>A&gt;G</td>\n",
       "      <td>tol-1</td>\n",
       "    </tr>\n",
       "  </tbody>\n",
       "</table>\n",
       "</div>"
      ],
      "text/plain": [
       "  chrom   start    stop       name     score strand  \\\n",
       "0  chrI  454105  454106  5|A>G|0.8  1.000000      +   \n",
       "1  chrI  454110  454111  5|A>G|0.4  0.999408      +   \n",
       "2  chrI  454112  454113  5|A>G|0.6  0.999996      +   \n",
       "3  chrI  454117  454118  5|A>G|0.6  0.999996      +   \n",
       "4  chrI  454329  454330  5|A>G|0.4  0.999408      +   \n",
       "\n",
       "                                            priority  \\\n",
       "0  C07F11.1:451461:455355:+:intron:WBGene00006593...   \n",
       "1  C07F11.1:451461:455355:+:intron:WBGene00006593...   \n",
       "2  C07F11.1:451461:455355:+:intron:WBGene00006593...   \n",
       "3  C07F11.1:451461:455355:+:intron:WBGene00006593...   \n",
       "4  C07F11.1:451461:455355:+:intron:WBGene00006593...   \n",
       "\n",
       "                                           annotated  region          wbgene  \\\n",
       "0  C07F11.1:443998:461605:+:transcript:WBGene0000...  intron  WBGene00006593   \n",
       "1  C07F11.1:443998:461605:+:transcript:WBGene0000...  intron  WBGene00006593   \n",
       "2  C07F11.1:443998:461605:+:transcript:WBGene0000...  intron  WBGene00006593   \n",
       "3  C07F11.1:443998:461605:+:transcript:WBGene0000...  intron  WBGene00006593   \n",
       "4  C07F11.1:443998:461605:+:transcript:WBGene0000...  intron  WBGene00006593   \n",
       "\n",
       "  edit_fraction coverage edit   gene  \n",
       "0           0.8        5  A>G  tol-1  \n",
       "1           0.4        5  A>G  tol-1  \n",
       "2           0.6        5  A>G  tol-1  \n",
       "3           0.6        5  A>G  tol-1  \n",
       "4           0.4        5  A>G  tol-1  "
      ]
     },
     "execution_count": 23,
     "metadata": {},
     "output_type": "execute_result"
    }
   ],
   "source": [
    "# may as well convert the wbgene ids in our annotated file to names here:\n",
    "annotated['gene'] = annotated.apply(add_name, axis=1, args=['wbgene'])\n",
    "annotated.head()"
   ]
  },
  {
   "cell_type": "code",
   "execution_count": 24,
   "metadata": {},
   "outputs": [
    {
     "name": "stderr",
     "output_type": "stream",
     "text": [
      "Widget Javascript not detected.  It may not be installed or enabled properly.\n"
     ]
    },
    {
     "data": {
      "application/vnd.jupyter.widget-view+json": {
       "model_id": "c6f830486eb24af3810a774b647660e9"
      }
     },
     "metadata": {},
     "output_type": "display_data"
    },
    {
     "data": {
      "text/html": [
       "<div>\n",
       "<table border=\"1\" class=\"dataframe\">\n",
       "  <thead>\n",
       "    <tr style=\"text-align: right;\">\n",
       "      <th></th>\n",
       "      <th>transcript1</th>\n",
       "      <th>name1</th>\n",
       "      <th>transcript2</th>\n",
       "      <th>name2</th>\n",
       "      <th>transcript3</th>\n",
       "      <th>name3</th>\n",
       "      <th>wbgene1</th>\n",
       "      <th>wbgene2</th>\n",
       "      <th>wbgene3</th>\n",
       "    </tr>\n",
       "  </thead>\n",
       "  <tbody>\n",
       "    <tr>\n",
       "      <th>0</th>\n",
       "      <td>3R5.1</td>\n",
       "      <td>pot-3</td>\n",
       "      <td>3R5.1</td>\n",
       "      <td>pot-3</td>\n",
       "      <td>2L52.1</td>\n",
       "      <td>2L52.1</td>\n",
       "      <td>WBGene00007065</td>\n",
       "      <td>WBGene00007065</td>\n",
       "      <td>WBGene00007063</td>\n",
       "    </tr>\n",
       "    <tr>\n",
       "      <th>1</th>\n",
       "      <td>3R5.1</td>\n",
       "      <td>pot-3</td>\n",
       "      <td>3R5.1</td>\n",
       "      <td>pot-3</td>\n",
       "      <td>2L52.1</td>\n",
       "      <td>2L52.1</td>\n",
       "      <td>WBGene00007065</td>\n",
       "      <td>WBGene00007065</td>\n",
       "      <td>WBGene00007063</td>\n",
       "    </tr>\n",
       "    <tr>\n",
       "      <th>2</th>\n",
       "      <td>3R5.1</td>\n",
       "      <td>pot-3</td>\n",
       "      <td>B0035.14</td>\n",
       "      <td>dnj-1</td>\n",
       "      <td>2L52.1</td>\n",
       "      <td>2L52.1</td>\n",
       "      <td>WBGene00007065</td>\n",
       "      <td>WBGene00001019</td>\n",
       "      <td>WBGene00007063</td>\n",
       "    </tr>\n",
       "    <tr>\n",
       "      <th>3</th>\n",
       "      <td>3R5.1</td>\n",
       "      <td>pot-3</td>\n",
       "      <td>B0041.5</td>\n",
       "      <td>B0041.5</td>\n",
       "      <td>2L52.1</td>\n",
       "      <td>2L52.1</td>\n",
       "      <td>WBGene00007065</td>\n",
       "      <td>WBGene00015009</td>\n",
       "      <td>WBGene00007063</td>\n",
       "    </tr>\n",
       "    <tr>\n",
       "      <th>4</th>\n",
       "      <td>3R5.1</td>\n",
       "      <td>pot-3</td>\n",
       "      <td>B0281.1</td>\n",
       "      <td>B0281.1</td>\n",
       "      <td>2RSSE.1</td>\n",
       "      <td>2RSSE.1</td>\n",
       "      <td>WBGene00007065</td>\n",
       "      <td>WBGene00015108</td>\n",
       "      <td>WBGene00007064</td>\n",
       "    </tr>\n",
       "  </tbody>\n",
       "</table>\n",
       "</div>"
      ],
      "text/plain": [
       "  transcript1  name1 transcript2    name2 transcript3    name3  \\\n",
       "0       3R5.1  pot-3       3R5.1    pot-3      2L52.1   2L52.1   \n",
       "1       3R5.1  pot-3       3R5.1    pot-3      2L52.1   2L52.1   \n",
       "2       3R5.1  pot-3    B0035.14    dnj-1      2L52.1   2L52.1   \n",
       "3       3R5.1  pot-3     B0041.5  B0041.5      2L52.1   2L52.1   \n",
       "4       3R5.1  pot-3     B0281.1  B0281.1     2RSSE.1  2RSSE.1   \n",
       "\n",
       "          wbgene1         wbgene2         wbgene3  \n",
       "0  WBGene00007065  WBGene00007065  WBGene00007063  \n",
       "1  WBGene00007065  WBGene00007065  WBGene00007063  \n",
       "2  WBGene00007065  WBGene00001019  WBGene00007063  \n",
       "3  WBGene00007065  WBGene00015009  WBGene00007063  \n",
       "4  WBGene00007065  WBGene00015108  WBGene00007064  "
      ]
     },
     "execution_count": 24,
     "metadata": {},
     "output_type": "execute_result"
    }
   ],
   "source": [
    "# For each transcript ID given, annotate with the proper wbgene ID and its proper name\n",
    "\n",
    "progress = tnrange(6)\n",
    "genes_from_sarah['wbgene1'] = genes_from_sarah.apply(name2id, axis=1, args=['transcript1'])\n",
    "progress.update(1)\n",
    "genes_from_sarah['wbgene2'] = genes_from_sarah.apply(name2id, axis=1, args=['transcript2'])\n",
    "progress.update(1)\n",
    "genes_from_sarah['wbgene3'] = genes_from_sarah.apply(name2id, axis=1, args=['transcript3'])\n",
    "progress.update(1)\n",
    "genes_from_sarah['name1'] = genes_from_sarah.apply(add_name, axis=1, args=['wbgene1'])\n",
    "progress.update(1)\n",
    "genes_from_sarah['name2'] = genes_from_sarah.apply(add_name, axis=1, args=['wbgene2'])\n",
    "progress.update(1)\n",
    "genes_from_sarah['name3'] = genes_from_sarah.apply(add_name, axis=1, args=['wbgene3'])\n",
    "progress.update(1)\n",
    "genes_from_sarah.head()"
   ]
  },
  {
   "cell_type": "markdown",
   "metadata": {},
   "source": [
    "# Get list of already discovered edited genes and compare against ours\n",
    "- get unique set of gene names known to be edited from previous manuscripts\n",
    "- print number of edited genes"
   ]
  },
  {
   "cell_type": "code",
   "execution_count": 25,
   "metadata": {},
   "outputs": [
    {
     "name": "stdout",
     "output_type": "stream",
     "text": [
      "total number of known edited genes: 8904\n"
     ]
    }
   ],
   "source": [
    "g1 = list(set(genes_from_sarah['wbgene1'])) # wbgenes edited from list 1\n",
    "g2 = list(set(genes_from_sarah['wbgene2'])) # wbgenes edited from list 2\n",
    "g3 = list(set(genes_from_sarah['wbgene3'])) # wbgenes edited from list 3\n",
    "\n",
    "g_all = []\n",
    "g_all.append(g1)\n",
    "g_all.append(g2)\n",
    "g_all.append(g3)\n",
    "g = [item for sublist in g_all for item in sublist]\n",
    "g = set(g)\n",
    "print(\"total number of known edited genes: {}\".format(len(g)))"
   ]
  },
  {
   "cell_type": "code",
   "execution_count": 26,
   "metadata": {},
   "outputs": [
    {
     "name": "stdout",
     "output_type": "stream",
     "text": [
      "(7362, 14)\n",
      "(6819, 14)\n"
     ]
    },
    {
     "data": {
      "text/plain": [
       "<matplotlib_venn._common.VennDiagram instance at 0x2b616d1da128>"
      ]
     },
     "execution_count": 26,
     "metadata": {},
     "output_type": "execute_result"
    },
    {
     "data": {
      "image/png": "[encoded data removed]",
      "text/plain": [
       "<matplotlib.figure.Figure at 0x2b61683d7a50>"
      ]
     },
     "metadata": {},
     "output_type": "display_data"
    }
   ],
   "source": [
    "\n",
    "all_annotations_no_intergenic = annotated[annotated['wbgene']!='intergenic'] \n",
    "our_g = set(all_annotations_no_intergenic['wbgene']) # full set of genes we've found to be edited (that aren't intergenic)\n",
    "\n",
    "print(annotated.shape)\n",
    "print(all_annotations_no_intergenic.shape)\n",
    "from matplotlib_venn import venn2, venn3\n",
    "venn2([our_g,g])"
   ]
  },
  {
   "cell_type": "code",
   "execution_count": null,
   "metadata": {
    "collapsed": true
   },
   "outputs": [],
   "source": []
  },
  {
   "cell_type": "code",
   "execution_count": 27,
   "metadata": {
    "collapsed": true
   },
   "outputs": [],
   "source": [
    "with open(supplemental_doc1_genes, 'w') as f:\n",
    "    f.write(\"Genes Identified as Edited\\n\")\n",
    "    f.write(\"Wormbase ID\\tGene Name\\n\")\n",
    "    for gene in our_g:\n",
    "        f.write('{}\\t{}\\n'.format(gene,id2name_dict[gene]))\n",
    "with open(supplemental_doc1_novel, 'w') as f:\n",
    "    f.write(\"Novel Genes Identified as Edited\\n\")\n",
    "    f.write(\"Wormbase ID\\tGene Name\\n\")\n",
    "    for gene in (our_g - g):\n",
    "        f.write('{}\\t{}\\n'.format(gene,id2name_dict[gene]))"
   ]
  },
  {
   "cell_type": "code",
   "execution_count": 28,
   "metadata": {
    "collapsed": true
   },
   "outputs": [],
   "source": [
    "genes_from_sarah[\n",
    "    ['transcript1','wbgene1','name1','transcript2','wbgene2','name2','transcript3','wbgene3','name3']\n",
    "].to_csv(\n",
    "    existing_transcripts_wbgene,\n",
    "    sep='\\t',\n",
    "    index=None,\n",
    ")"
   ]
  },
  {
   "cell_type": "markdown",
   "metadata": {},
   "source": [
    "# Check to see how many genes were edited"
   ]
  },
  {
   "cell_type": "code",
   "execution_count": 29,
   "metadata": {},
   "outputs": [
    {
     "data": {
      "text/plain": [
       "WBGene00016458    241\n",
       "WBGene00001895    139\n",
       "WBGene00003153    134\n",
       "WBGene00004267    117\n",
       "WBGene00000135    114\n",
       "Name: wbgene, dtype: int64"
      ]
     },
     "execution_count": 29,
     "metadata": {},
     "output_type": "execute_result"
    }
   ],
   "source": [
    "pd.options.display.max_rows = 999\n",
    "all_annotations_no_intergenic = annotated[annotated['wbgene']!='intergenic']\n",
    "all_annotations_no_intergenic['wbgene'].value_counts().head() # these genes have the most editing sites"
   ]
  },
  {
   "cell_type": "code",
   "execution_count": 30,
   "metadata": {},
   "outputs": [
    {
     "name": "stdout",
     "output_type": "stream",
     "text": [
      "Number of edited genes: 530\n"
     ]
    }
   ],
   "source": [
    "print(\"Number of edited genes: {}\".format(len(set(all_annotations_no_intergenic['wbgene']))))"
   ]
  },
  {
   "cell_type": "code",
   "execution_count": 31,
   "metadata": {},
   "outputs": [
    {
     "data": {
      "text/html": [
       "<div>\n",
       "<table border=\"1\" class=\"dataframe\">\n",
       "  <thead>\n",
       "    <tr style=\"text-align: right;\">\n",
       "      <th></th>\n",
       "      <th>chrom</th>\n",
       "      <th>start</th>\n",
       "      <th>stop</th>\n",
       "      <th>name</th>\n",
       "      <th>score</th>\n",
       "      <th>strand</th>\n",
       "      <th>priority</th>\n",
       "      <th>annotated</th>\n",
       "      <th>region</th>\n",
       "      <th>wbgene</th>\n",
       "      <th>edit_fraction</th>\n",
       "      <th>coverage</th>\n",
       "      <th>edit</th>\n",
       "      <th>gene</th>\n",
       "    </tr>\n",
       "  </thead>\n",
       "  <tbody>\n",
       "  </tbody>\n",
       "</table>\n",
       "</div>"
      ],
      "text/plain": [
       "Empty DataFrame\n",
       "Columns: [chrom, start, stop, name, score, strand, priority, annotated, region, wbgene, edit_fraction, coverage, edit, gene]\n",
       "Index: []"
      ]
     },
     "execution_count": 31,
     "metadata": {},
     "output_type": "execute_result"
    }
   ],
   "source": [
    "# check to see that we've assigned all genic regions. Some may be missed due to inexact matching of IDs in database\n",
    "all_annotations_no_intergenic[all_annotations_no_intergenic['gene']=='']"
   ]
  },
  {
   "cell_type": "markdown",
   "metadata": {},
   "source": [
    "# Check against validated sanger editing"
   ]
  },
  {
   "cell_type": "code",
   "execution_count": 32,
   "metadata": {
    "scrolled": false
   },
   "outputs": [
    {
     "data": {
      "text/html": [
       "<div>\n",
       "<table border=\"1\" class=\"dataframe\">\n",
       "  <thead>\n",
       "    <tr style=\"text-align: right;\">\n",
       "      <th></th>\n",
       "      <th>Gene</th>\n",
       "      <th>Chromosome</th>\n",
       "      <th>Editing site position</th>\n",
       "      <th>% edited (RNA seq)</th>\n",
       "      <th>Identified in Sanger Sequencing</th>\n",
       "      <th>Predicted by RNA-Seq Pipeline</th>\n",
       "    </tr>\n",
       "  </thead>\n",
       "  <tbody>\n",
       "    <tr>\n",
       "      <th>0</th>\n",
       "      <td>crtc-1</td>\n",
       "      <td>chrI</td>\n",
       "      <td>2033866</td>\n",
       "      <td>NaN</td>\n",
       "      <td>Yes</td>\n",
       "      <td>No</td>\n",
       "    </tr>\n",
       "    <tr>\n",
       "      <th>1</th>\n",
       "      <td>crtc-1</td>\n",
       "      <td>chrI</td>\n",
       "      <td>2033878</td>\n",
       "      <td>72.0</td>\n",
       "      <td>Yes</td>\n",
       "      <td>Yes</td>\n",
       "    </tr>\n",
       "    <tr>\n",
       "      <th>2</th>\n",
       "      <td>crtc-1</td>\n",
       "      <td>chrI</td>\n",
       "      <td>2033879</td>\n",
       "      <td>10.0</td>\n",
       "      <td>Yes</td>\n",
       "      <td>Yes</td>\n",
       "    </tr>\n",
       "    <tr>\n",
       "      <th>3</th>\n",
       "      <td>crtc-1</td>\n",
       "      <td>chrI</td>\n",
       "      <td>2033881</td>\n",
       "      <td>12.0</td>\n",
       "      <td>Yes</td>\n",
       "      <td>Yes</td>\n",
       "    </tr>\n",
       "    <tr>\n",
       "      <th>4</th>\n",
       "      <td>crtc-1</td>\n",
       "      <td>chrI</td>\n",
       "      <td>2033888</td>\n",
       "      <td>38.0</td>\n",
       "      <td>Yes</td>\n",
       "      <td>Yes</td>\n",
       "    </tr>\n",
       "  </tbody>\n",
       "</table>\n",
       "</div>"
      ],
      "text/plain": [
       "     Gene Chromosome  Editing site position  % edited (RNA seq)  \\\n",
       "0  crtc-1       chrI                2033866                 NaN   \n",
       "1  crtc-1       chrI                2033878                72.0   \n",
       "2  crtc-1       chrI                2033879                10.0   \n",
       "3  crtc-1       chrI                2033881                12.0   \n",
       "4  crtc-1       chrI                2033888                38.0   \n",
       "\n",
       "  Identified in Sanger Sequencing Predicted by RNA-Seq Pipeline  \n",
       "0                             Yes                            No  \n",
       "1                             Yes                           Yes  \n",
       "2                             Yes                           Yes  \n",
       "3                             Yes                           Yes  \n",
       "4                             Yes                           Yes  "
      ]
     },
     "execution_count": 32,
     "metadata": {},
     "output_type": "execute_result"
    }
   ],
   "source": [
    "# this was the original validation table - we now need to compare the current (0.0.3 pipeline) set with the original (0.0.2) results. \n",
    "validated_sites = pd.read_table(\n",
    "    validated_events_from_sarah,\n",
    "    sep='\\t'\n",
    ")\n",
    "validated_sites.head()"
   ]
  },
  {
   "cell_type": "markdown",
   "metadata": {},
   "source": [
    "# Append current annotations to validated dataframe and compare\n",
    "- should be mostly identical\n",
    "- differences should come only from changes in pipeline filters"
   ]
  },
  {
   "cell_type": "code",
   "execution_count": 33,
   "metadata": {},
   "outputs": [
    {
     "data": {
      "text/html": [
       "<div>\n",
       "<table border=\"1\" class=\"dataframe\">\n",
       "  <thead>\n",
       "    <tr style=\"text-align: right;\">\n",
       "      <th></th>\n",
       "      <th>Chromosome</th>\n",
       "      <th>Editing site position</th>\n",
       "      <th>0.0.3 % edited (RNA seq)</th>\n",
       "      <th>Gene</th>\n",
       "      <th>% edited (RNA seq)</th>\n",
       "      <th>Identified in Sanger Sequencing</th>\n",
       "      <th>Predicted by RNA-Seq Pipeline</th>\n",
       "    </tr>\n",
       "  </thead>\n",
       "  <tbody>\n",
       "    <tr>\n",
       "      <th>0</th>\n",
       "      <td>chrI</td>\n",
       "      <td>2033878.0</td>\n",
       "      <td>0.727272727</td>\n",
       "      <td>crtc-1</td>\n",
       "      <td>72.0</td>\n",
       "      <td>Yes</td>\n",
       "      <td>Yes</td>\n",
       "    </tr>\n",
       "    <tr>\n",
       "      <th>1</th>\n",
       "      <td>chrI</td>\n",
       "      <td>2033879.0</td>\n",
       "      <td>0.106060606</td>\n",
       "      <td>crtc-1</td>\n",
       "      <td>10.0</td>\n",
       "      <td>Yes</td>\n",
       "      <td>Yes</td>\n",
       "    </tr>\n",
       "    <tr>\n",
       "      <th>2</th>\n",
       "      <td>chrI</td>\n",
       "      <td>2033881.0</td>\n",
       "      <td>0.123076923</td>\n",
       "      <td>crtc-1</td>\n",
       "      <td>12.0</td>\n",
       "      <td>Yes</td>\n",
       "      <td>Yes</td>\n",
       "    </tr>\n",
       "    <tr>\n",
       "      <th>3</th>\n",
       "      <td>chrI</td>\n",
       "      <td>2033888.0</td>\n",
       "      <td>0.383333333</td>\n",
       "      <td>crtc-1</td>\n",
       "      <td>38.0</td>\n",
       "      <td>Yes</td>\n",
       "      <td>Yes</td>\n",
       "    </tr>\n",
       "    <tr>\n",
       "      <th>4</th>\n",
       "      <td>chrI</td>\n",
       "      <td>2033911.0</td>\n",
       "      <td>0.133333333</td>\n",
       "      <td>crtc-1</td>\n",
       "      <td>13.0</td>\n",
       "      <td>Yes</td>\n",
       "      <td>Yes</td>\n",
       "    </tr>\n",
       "  </tbody>\n",
       "</table>\n",
       "</div>"
      ],
      "text/plain": [
       "  Chromosome  Editing site position 0.0.3 % edited (RNA seq)    Gene  \\\n",
       "0       chrI              2033878.0              0.727272727  crtc-1   \n",
       "1       chrI              2033879.0              0.106060606  crtc-1   \n",
       "2       chrI              2033881.0              0.123076923  crtc-1   \n",
       "3       chrI              2033888.0              0.383333333  crtc-1   \n",
       "4       chrI              2033911.0              0.133333333  crtc-1   \n",
       "\n",
       "   % edited (RNA seq) Identified in Sanger Sequencing  \\\n",
       "0                72.0                             Yes   \n",
       "1                10.0                             Yes   \n",
       "2                12.0                             Yes   \n",
       "3                38.0                             Yes   \n",
       "4                13.0                             Yes   \n",
       "\n",
       "  Predicted by RNA-Seq Pipeline  \n",
       "0                           Yes  \n",
       "1                           Yes  \n",
       "2                           Yes  \n",
       "3                           Yes  \n",
       "4                           Yes  "
      ]
     },
     "execution_count": 33,
     "metadata": {},
     "output_type": "execute_result"
    }
   ],
   "source": [
    "all_annotations_edit_frac = annotated[['chrom','stop','edit_fraction']]\n",
    "all_annotations_edit_frac.columns = ['Chromosome', 'Editing site position', '0.0.3 % edited (RNA seq)']\n",
    "validated_df = pd.merge(\n",
    "    all_annotations_edit_frac, \n",
    "    validated_sites, \n",
    "    how='right', \n",
    "    # on=['Chromosome','Editing site position']\n",
    "    left_on=['Chromosome', 'Editing site position'], \n",
    "    right_on=['Chromosome','Editing site position']\n",
    ")\n",
    "validated_df.to_csv(validation_comparisons,sep='\\t', index=None)\n",
    "validated_df.head()"
   ]
  },
  {
   "cell_type": "markdown",
   "metadata": {},
   "source": [
    "# Compare editing sites discovered by validation (Sanger) that were not picked up by our pipeline"
   ]
  },
  {
   "cell_type": "code",
   "execution_count": 34,
   "metadata": {},
   "outputs": [
    {
     "name": "stdout",
     "output_type": "stream",
     "text": [
      "Number of sites not captured by pipeline but discovered to be edited via sanger: 87\n",
      "Number of sites captured by pipeline AND discovered to be edited via sanger: 86\n"
     ]
    }
   ],
   "source": [
    "vdf = validated_df.fillna('NONE')\n",
    "print(\"Number of sites not captured by pipeline but discovered to be edited via sanger: {}\".format(vdf[\n",
    "    (vdf['Identified in Sanger Sequencing']=='Yes') &\n",
    "    (vdf['0.0.3 % edited (RNA seq)']=='NONE')\n",
    "].shape[0]))\n",
    "print(\"Number of sites captured by pipeline AND discovered to be edited via sanger: {}\".format(vdf[\n",
    "    (vdf['Identified in Sanger Sequencing']=='Yes') &\n",
    "    (vdf['0.0.3 % edited (RNA seq)']!='NONE')\n",
    "].shape[0]))"
   ]
  },
  {
   "cell_type": "code",
   "execution_count": 35,
   "metadata": {},
   "outputs": [
    {
     "data": {
      "text/html": [
       "<div>\n",
       "<table border=\"1\" class=\"dataframe\">\n",
       "  <thead>\n",
       "    <tr style=\"text-align: right;\">\n",
       "      <th></th>\n",
       "      <th>Chromosome</th>\n",
       "      <th>Editing site position</th>\n",
       "      <th>0.0.3 % edited (RNA seq)</th>\n",
       "      <th>Gene</th>\n",
       "      <th>% edited (RNA seq)</th>\n",
       "      <th>Identified in Sanger Sequencing</th>\n",
       "      <th>Predicted by RNA-Seq Pipeline</th>\n",
       "    </tr>\n",
       "  </thead>\n",
       "  <tbody>\n",
       "    <tr>\n",
       "      <th>0</th>\n",
       "      <td>chrI</td>\n",
       "      <td>2033878.0</td>\n",
       "      <td>0.727272727</td>\n",
       "      <td>crtc-1</td>\n",
       "      <td>72.0</td>\n",
       "      <td>Yes</td>\n",
       "      <td>Yes</td>\n",
       "    </tr>\n",
       "    <tr>\n",
       "      <th>1</th>\n",
       "      <td>chrI</td>\n",
       "      <td>2033879.0</td>\n",
       "      <td>0.106060606</td>\n",
       "      <td>crtc-1</td>\n",
       "      <td>10.0</td>\n",
       "      <td>Yes</td>\n",
       "      <td>Yes</td>\n",
       "    </tr>\n",
       "    <tr>\n",
       "      <th>2</th>\n",
       "      <td>chrI</td>\n",
       "      <td>2033881.0</td>\n",
       "      <td>0.123076923</td>\n",
       "      <td>crtc-1</td>\n",
       "      <td>12.0</td>\n",
       "      <td>Yes</td>\n",
       "      <td>Yes</td>\n",
       "    </tr>\n",
       "    <tr>\n",
       "      <th>3</th>\n",
       "      <td>chrI</td>\n",
       "      <td>2033888.0</td>\n",
       "      <td>0.383333333</td>\n",
       "      <td>crtc-1</td>\n",
       "      <td>38.0</td>\n",
       "      <td>Yes</td>\n",
       "      <td>Yes</td>\n",
       "    </tr>\n",
       "    <tr>\n",
       "      <th>4</th>\n",
       "      <td>chrI</td>\n",
       "      <td>2033911.0</td>\n",
       "      <td>0.133333333</td>\n",
       "      <td>crtc-1</td>\n",
       "      <td>13.0</td>\n",
       "      <td>Yes</td>\n",
       "      <td>Yes</td>\n",
       "    </tr>\n",
       "  </tbody>\n",
       "</table>\n",
       "</div>"
      ],
      "text/plain": [
       "  Chromosome  Editing site position 0.0.3 % edited (RNA seq)    Gene  \\\n",
       "0       chrI              2033878.0              0.727272727  crtc-1   \n",
       "1       chrI              2033879.0              0.106060606  crtc-1   \n",
       "2       chrI              2033881.0              0.123076923  crtc-1   \n",
       "3       chrI              2033888.0              0.383333333  crtc-1   \n",
       "4       chrI              2033911.0              0.133333333  crtc-1   \n",
       "\n",
       "   % edited (RNA seq) Identified in Sanger Sequencing  \\\n",
       "0                72.0                             Yes   \n",
       "1                10.0                             Yes   \n",
       "2                12.0                             Yes   \n",
       "3                38.0                             Yes   \n",
       "4                13.0                             Yes   \n",
       "\n",
       "  Predicted by RNA-Seq Pipeline  \n",
       "0                           Yes  \n",
       "1                           Yes  \n",
       "2                           Yes  \n",
       "3                           Yes  \n",
       "4                           Yes  "
      ]
     },
     "execution_count": 35,
     "metadata": {},
     "output_type": "execute_result"
    }
   ],
   "source": [
    "# Number of sites captured by the pipeline against Sanger validations\n",
    "validated_df.dropna(subset=['0.0.3 % edited (RNA seq)'])['Identified in Sanger Sequencing'].value_counts()\n",
    "validated_df.head()"
   ]
  },
  {
   "cell_type": "code",
   "execution_count": 36,
   "metadata": {},
   "outputs": [
    {
     "name": "stderr",
     "output_type": "stream",
     "text": [
      "/home/bay001/anaconda2/envs/brian/lib/python2.7/site-packages/ipykernel_launcher.py:6: SettingWithCopyWarning: \n",
      "A value is trying to be set on a copy of a slice from a DataFrame.\n",
      "Try using .loc[row_indexer,col_indexer] = value instead\n",
      "\n",
      "See the caveats in the documentation: http://pandas.pydata.org/pandas-docs/stable/indexing.html#indexing-view-versus-copy\n",
      "  \n"
     ]
    }
   ],
   "source": [
    "verification_table = validated_df[\n",
    "    ['Gene','Chromosome','Editing site position','0.0.3 % edited (RNA seq)',\n",
    "     'Identified in Sanger Sequencing','Predicted by RNA-Seq Pipeline'\n",
    "    ]\n",
    "]\n",
    "verification_table['Editing site position'] = verification_table['Editing site position'].astype(int)\n",
    "verification_table.columns = [\n",
    "    'Gene','Chromosome','Editing site position','0.0.3 % edited (RNA seq)','Identified in Sanger Sequencing','Predicted by RNA-Seq pipeline'\n",
    "]\n",
    "verification_table.to_csv(supplemental_doc1_sanger, sep='\\t', index=False)"
   ]
  },
  {
   "cell_type": "markdown",
   "metadata": {},
   "source": [
    "# Check differential expression output\n",
    "- Not using padj... but this is okay since we're validating our genes of interest anyway."
   ]
  },
  {
   "cell_type": "code",
   "execution_count": 37,
   "metadata": {
    "collapsed": true
   },
   "outputs": [],
   "source": [
    "deseq2_df = pd.read_table(from_deseq2)\n",
    "deseq2_df.sort_values(by='padj',inplace=True)\n",
    "l2fc_threshold = 1"
   ]
  },
  {
   "cell_type": "code",
   "execution_count": 38,
   "metadata": {},
   "outputs": [
    {
     "name": "stdout",
     "output_type": "stream",
     "text": [
      "Number of upregulated genes (with respect to WT): 76\n",
      "Number of downregulated genes (with respect to WT): 93\n"
     ]
    }
   ],
   "source": [
    "print(\n",
    "    \"Number of upregulated genes (with respect to WT): {}\".format(\n",
    "        deseq2_df[(deseq2_df['log2FoldChange']>=l2fc_threshold)].shape[0]\n",
    "    )\n",
    ")#  & (deseq2_df['padj']<0.05)].shape\n",
    "print(\n",
    "    \"Number of downregulated genes (with respect to WT): {}\".format(\n",
    "        deseq2_df[(deseq2_df['log2FoldChange']<=-l2fc_threshold)].shape[0]\n",
    "    )\n",
    ")#  & (deseq2_df['padj']<0.05)].shape"
   ]
  },
  {
   "cell_type": "markdown",
   "metadata": {},
   "source": [
    "# Check against qPCR Differential Expression validated results:\n",
    "- These should not change no matter what annotation we use."
   ]
  },
  {
   "cell_type": "code",
   "execution_count": null,
   "metadata": {
    "collapsed": true
   },
   "outputs": [],
   "source": []
  },
  {
   "cell_type": "code",
   "execution_count": 39,
   "metadata": {},
   "outputs": [
    {
     "name": "stdout",
     "output_type": "stream",
     "text": [
      "('clec-41',                   baseMean  log2FoldChange    lfcSE      stat    pvalue  \\\n",
      "WBGene00007153  635.049676        -1.07128  0.30673 -3.492582  0.000478   \n",
      "\n",
      "                   padj  \n",
      "WBGene00007153  0.07828  )\n",
      "('ctl-2',                    baseMean  log2FoldChange     lfcSE      stat   pvalue  \\\n",
      "WBGene00000831  3338.624703        -1.33492  0.345161 -3.867535  0.00011   \n",
      "\n",
      "                    padj  \n",
      "WBGene00000831  0.032608  )\n",
      "('dod-19',                    baseMean  log2FoldChange     lfcSE     stat    pvalue  \\\n",
      "WBGene00022644  1770.670854       -1.482839  0.337484 -4.39381  0.000011   \n",
      "\n",
      "                    padj  \n",
      "WBGene00022644  0.011746  )\n",
      "('hsp-12.6',                   baseMean  log2FoldChange     lfcSE     stat    pvalue  \\\n",
      "WBGene00002013  487.679274          1.8306  0.390039  4.69338  0.000003   \n",
      "\n",
      "                    padj  \n",
      "WBGene00002013  0.008502  )\n",
      "('sre-6',                   baseMean  log2FoldChange    lfcSE      stat    pvalue  \\\n",
      "WBGene00009242  257.787263        1.299709  0.31454  4.132097  0.000036   \n",
      "\n",
      "                    padj  \n",
      "WBGene00009242  0.020098  )\n"
     ]
    }
   ],
   "source": [
    "for i in range(0,len(VALIDATED)):\n",
    "    print(id2name_dict[VALIDATED[i]], pd.DataFrame(deseq2_df.ix[VALIDATED[i]]).T) # clec-41 (should be downregulated)"
   ]
  },
  {
   "cell_type": "code",
   "execution_count": 40,
   "metadata": {},
   "outputs": [
    {
     "data": {
      "text/html": [
       "<div>\n",
       "<table border=\"1\" class=\"dataframe\">\n",
       "  <thead>\n",
       "    <tr style=\"text-align: right;\">\n",
       "      <th></th>\n",
       "      <th>baseMean</th>\n",
       "      <th>log2FoldChange</th>\n",
       "      <th>lfcSE</th>\n",
       "      <th>stat</th>\n",
       "      <th>pvalue</th>\n",
       "      <th>padj</th>\n",
       "    </tr>\n",
       "  </thead>\n",
       "  <tbody>\n",
       "    <tr>\n",
       "      <th>WBGene00000831</th>\n",
       "      <td>3338.624703</td>\n",
       "      <td>-1.33492</td>\n",
       "      <td>0.345161</td>\n",
       "      <td>-3.867535</td>\n",
       "      <td>0.00011</td>\n",
       "      <td>0.032608</td>\n",
       "    </tr>\n",
       "  </tbody>\n",
       "</table>\n",
       "</div>"
      ],
      "text/plain": [
       "                   baseMean  log2FoldChange     lfcSE      stat   pvalue  \\\n",
       "WBGene00000831  3338.624703        -1.33492  0.345161 -3.867535  0.00011   \n",
       "\n",
       "                    padj  \n",
       "WBGene00000831  0.032608  "
      ]
     },
     "execution_count": 40,
     "metadata": {},
     "output_type": "execute_result"
    }
   ],
   "source": [
    "pd.DataFrame(deseq2_df.ix['WBGene00000831']).T # ctl-2 (should be downregulated)"
   ]
  },
  {
   "cell_type": "code",
   "execution_count": 41,
   "metadata": {},
   "outputs": [
    {
     "data": {
      "text/html": [
       "<div>\n",
       "<table border=\"1\" class=\"dataframe\">\n",
       "  <thead>\n",
       "    <tr style=\"text-align: right;\">\n",
       "      <th></th>\n",
       "      <th>baseMean</th>\n",
       "      <th>log2FoldChange</th>\n",
       "      <th>lfcSE</th>\n",
       "      <th>stat</th>\n",
       "      <th>pvalue</th>\n",
       "      <th>padj</th>\n",
       "    </tr>\n",
       "  </thead>\n",
       "  <tbody>\n",
       "    <tr>\n",
       "      <th>WBGene00022644</th>\n",
       "      <td>1770.670854</td>\n",
       "      <td>-1.482839</td>\n",
       "      <td>0.337484</td>\n",
       "      <td>-4.39381</td>\n",
       "      <td>0.000011</td>\n",
       "      <td>0.011746</td>\n",
       "    </tr>\n",
       "  </tbody>\n",
       "</table>\n",
       "</div>"
      ],
      "text/plain": [
       "                   baseMean  log2FoldChange     lfcSE     stat    pvalue  \\\n",
       "WBGene00022644  1770.670854       -1.482839  0.337484 -4.39381  0.000011   \n",
       "\n",
       "                    padj  \n",
       "WBGene00022644  0.011746  "
      ]
     },
     "execution_count": 41,
     "metadata": {},
     "output_type": "execute_result"
    }
   ],
   "source": [
    "pd.DataFrame(deseq2_df.ix['WBGene00022644']).T # dod-19 (should be downregulated)"
   ]
  },
  {
   "cell_type": "code",
   "execution_count": 42,
   "metadata": {},
   "outputs": [
    {
     "data": {
      "text/html": [
       "<div>\n",
       "<table border=\"1\" class=\"dataframe\">\n",
       "  <thead>\n",
       "    <tr style=\"text-align: right;\">\n",
       "      <th></th>\n",
       "      <th>baseMean</th>\n",
       "      <th>log2FoldChange</th>\n",
       "      <th>lfcSE</th>\n",
       "      <th>stat</th>\n",
       "      <th>pvalue</th>\n",
       "      <th>padj</th>\n",
       "    </tr>\n",
       "  </thead>\n",
       "  <tbody>\n",
       "    <tr>\n",
       "      <th>WBGene00002013</th>\n",
       "      <td>487.679274</td>\n",
       "      <td>1.8306</td>\n",
       "      <td>0.390039</td>\n",
       "      <td>4.69338</td>\n",
       "      <td>0.000003</td>\n",
       "      <td>0.008502</td>\n",
       "    </tr>\n",
       "  </tbody>\n",
       "</table>\n",
       "</div>"
      ],
      "text/plain": [
       "                  baseMean  log2FoldChange     lfcSE     stat    pvalue  \\\n",
       "WBGene00002013  487.679274          1.8306  0.390039  4.69338  0.000003   \n",
       "\n",
       "                    padj  \n",
       "WBGene00002013  0.008502  "
      ]
     },
     "execution_count": 42,
     "metadata": {},
     "output_type": "execute_result"
    }
   ],
   "source": [
    "pd.DataFrame(deseq2_df.ix['WBGene00002013']).T # hsp-12.6 (should be upregulated)"
   ]
  },
  {
   "cell_type": "code",
   "execution_count": 43,
   "metadata": {},
   "outputs": [
    {
     "data": {
      "text/html": [
       "<div>\n",
       "<table border=\"1\" class=\"dataframe\">\n",
       "  <thead>\n",
       "    <tr style=\"text-align: right;\">\n",
       "      <th></th>\n",
       "      <th>baseMean</th>\n",
       "      <th>log2FoldChange</th>\n",
       "      <th>lfcSE</th>\n",
       "      <th>stat</th>\n",
       "      <th>pvalue</th>\n",
       "      <th>padj</th>\n",
       "    </tr>\n",
       "  </thead>\n",
       "  <tbody>\n",
       "    <tr>\n",
       "      <th>WBGene00009242</th>\n",
       "      <td>257.787263</td>\n",
       "      <td>1.299709</td>\n",
       "      <td>0.31454</td>\n",
       "      <td>4.132097</td>\n",
       "      <td>0.000036</td>\n",
       "      <td>0.020098</td>\n",
       "    </tr>\n",
       "  </tbody>\n",
       "</table>\n",
       "</div>"
      ],
      "text/plain": [
       "                  baseMean  log2FoldChange    lfcSE      stat    pvalue  \\\n",
       "WBGene00009242  257.787263        1.299709  0.31454  4.132097  0.000036   \n",
       "\n",
       "                    padj  \n",
       "WBGene00009242  0.020098  "
      ]
     },
     "execution_count": 43,
     "metadata": {},
     "output_type": "execute_result"
    }
   ],
   "source": [
    "pd.DataFrame(deseq2_df.ix['WBGene00009242']).T # sre-6 (should be upregulated)"
   ]
  },
  {
   "cell_type": "markdown",
   "metadata": {},
   "source": [
    "# Check the number of genes DE that were edited"
   ]
  },
  {
   "cell_type": "code",
   "execution_count": 44,
   "metadata": {},
   "outputs": [
    {
     "name": "stdout",
     "output_type": "stream",
     "text": [
      "DOWNREGULATED + EDITED GENES\n",
      "('WBGene00007153', 'clec-41')\n",
      "('WBGene00000081', 'ads-1')\n",
      "UPREGULATED + EDITED GENES\n",
      "('WBGene00022370', 'Y92H12BR.4')\n",
      "('WBGene00018204', 'F39F10.4')\n"
     ]
    }
   ],
   "source": [
    "upregulated = deseq2_df[(deseq2_df['log2FoldChange']>=1)] # this was criteria for filtering\n",
    "downregulated = deseq2_df[(deseq2_df['log2FoldChange']<=-1)] # this was criteria for filtering\n",
    "upregulated_genes = set(list(upregulated.index))\n",
    "downregulated_genes = set(list(downregulated.index))\n",
    "edited_genes = set(list(all_annotations_no_intergenic['wbgene']))\n",
    "print(\"DOWNREGULATED + EDITED GENES\")\n",
    "for gene in downregulated_genes.intersection(edited_genes):\n",
    "    print(gene, id2name_dict[gene])\n",
    "print(\"UPREGULATED + EDITED GENES\")\n",
    "for gene in upregulated_genes.intersection(edited_genes):\n",
    "    print(gene, id2name_dict[gene])"
   ]
  },
  {
   "cell_type": "code",
   "execution_count": 45,
   "metadata": {
    "collapsed": true
   },
   "outputs": [],
   "source": [
    "adr1_list = pd.read_table(\n",
    "    adr_common_targets_list,\n",
    ")\n",
    "ADR1_LIST = list(adr1_list['Common targets'])"
   ]
  },
  {
   "cell_type": "markdown",
   "metadata": {},
   "source": [
    "# Check number of genes involved in chemotaxis that are edited"
   ]
  },
  {
   "cell_type": "code",
   "execution_count": 46,
   "metadata": {
    "scrolled": false
   },
   "outputs": [
    {
     "name": "stderr",
     "output_type": "stream",
     "text": [
      "/home/bay001/anaconda2/envs/brian/lib/python2.7/site-packages/IPython/core/interactiveshell.py:2717: DtypeWarning: Columns (3,15) have mixed types. Specify dtype option on import or set low_memory=False.\n",
      "  interactivity=interactivity, compiler=compiler, result=result)\n"
     ]
    }
   ],
   "source": [
    "def bound_by_adr1(row, adr1_list=ADR1_LIST):\n",
    "    if row['gene'] in adr1_list:\n",
    "        return 'Yes'\n",
    "    else:\n",
    "        return ''\n",
    "    \n",
    "GO_TERMS = [\n",
    "    'GO:0040011',\n",
    "    'GO:0043058',\n",
    "    'GO:0040012',\n",
    "    'GO:0006935',\n",
    "    'GO:0040017',\n",
    "    'GO:0043059',\n",
    "    'GO:0050919'\n",
    "] # these are GO terms that are associated with chemotaxis and locomotion\n",
    "go = go_association_file\n",
    "go_df = pd.read_table(go, comment='!', sep='\\t', names=range(0,17))\n",
    "go_df = go_df[go_df[4].isin(GO_TERMS)]\n",
    "go_df_genes = list(set(go_df[1]))\n",
    "genes_in_go = annotated[\n",
    "    (annotated['wbgene'].isin(go_df_genes)) & (annotated['wbgene']!='intergenic')\n",
    "]\n",
    "genes_in_go = genes_in_go[['wbgene','gene']]\n",
    "genes_in_go.drop_duplicates(inplace=True)"
   ]
  },
  {
   "cell_type": "code",
   "execution_count": 47,
   "metadata": {
    "collapsed": true
   },
   "outputs": [],
   "source": [
    "genes_in_go['Bound by Adr-1'] = genes_in_go.apply(bound_by_adr1, axis=1)\n",
    "genes_in_go.columns = ['Wormbase ID','Gene Name', 'Bound by Adr-1']\n",
    "genes_in_go.to_csv(supplemental_doc1_locomotion, sep='\\t', index=False)"
   ]
  },
  {
   "cell_type": "code",
   "execution_count": 48,
   "metadata": {
    "collapsed": true
   },
   "outputs": [],
   "source": [
    "annotated[\n",
    "    (annotated['wbgene'].isin(go_df_genes)) & (annotated['wbgene']!='intergenic')\n",
    "].to_csv(chemotaxis_locomotion_goterms,sep='\\t')"
   ]
  },
  {
   "cell_type": "markdown",
   "metadata": {},
   "source": [
    "# Look at individual editing site calls for our gene of interest (clec-41)"
   ]
  },
  {
   "cell_type": "code",
   "execution_count": 49,
   "metadata": {},
   "outputs": [
    {
     "name": "stdout",
     "output_type": "stream",
     "text": [
      "Number of editing sites found in gene clec-41: 9\n"
     ]
    },
    {
     "data": {
      "text/html": [
       "<div>\n",
       "<table border=\"1\" class=\"dataframe\">\n",
       "  <thead>\n",
       "    <tr style=\"text-align: right;\">\n",
       "      <th></th>\n",
       "      <th>chrom</th>\n",
       "      <th>start</th>\n",
       "      <th>stop</th>\n",
       "      <th>name</th>\n",
       "      <th>score</th>\n",
       "      <th>strand</th>\n",
       "      <th>priority</th>\n",
       "      <th>annotated</th>\n",
       "      <th>region</th>\n",
       "      <th>wbgene</th>\n",
       "      <th>edit_fraction</th>\n",
       "      <th>coverage</th>\n",
       "      <th>edit</th>\n",
       "      <th>gene</th>\n",
       "    </tr>\n",
       "  </thead>\n",
       "  <tbody>\n",
       "    <tr>\n",
       "      <th>7017</th>\n",
       "      <td>chrV</td>\n",
       "      <td>13135041</td>\n",
       "      <td>13135042</td>\n",
       "      <td>5|T&gt;C|0.4</td>\n",
       "      <td>0.999408</td>\n",
       "      <td>-</td>\n",
       "      <td>B0365.6.4:13134992:13135128:-:three_prime_utr:...</td>\n",
       "      <td>B0365.9:13133479:13135479:-:upstream_gene:WBGe...</td>\n",
       "      <td>three_prime_utr</td>\n",
       "      <td>WBGene00007153</td>\n",
       "      <td>0.4</td>\n",
       "      <td>5</td>\n",
       "      <td>T&gt;C</td>\n",
       "      <td>clec-41</td>\n",
       "    </tr>\n",
       "    <tr>\n",
       "      <th>7018</th>\n",
       "      <td>chrV</td>\n",
       "      <td>13135042</td>\n",
       "      <td>13135043</td>\n",
       "      <td>5|T&gt;C|0.4</td>\n",
       "      <td>0.999408</td>\n",
       "      <td>-</td>\n",
       "      <td>B0365.6.4:13134992:13135128:-:three_prime_utr:...</td>\n",
       "      <td>B0365.9:13133479:13135479:-:upstream_gene:WBGe...</td>\n",
       "      <td>three_prime_utr</td>\n",
       "      <td>WBGene00007153</td>\n",
       "      <td>0.4</td>\n",
       "      <td>5</td>\n",
       "      <td>T&gt;C</td>\n",
       "      <td>clec-41</td>\n",
       "    </tr>\n",
       "    <tr>\n",
       "      <th>7019</th>\n",
       "      <td>chrV</td>\n",
       "      <td>13135048</td>\n",
       "      <td>13135049</td>\n",
       "      <td>5|T&gt;C|0.4</td>\n",
       "      <td>0.999408</td>\n",
       "      <td>-</td>\n",
       "      <td>B0365.6.4:13134992:13135128:-:three_prime_utr:...</td>\n",
       "      <td>B0365.9:13133479:13135479:-:upstream_gene:WBGe...</td>\n",
       "      <td>three_prime_utr</td>\n",
       "      <td>WBGene00007153</td>\n",
       "      <td>0.4</td>\n",
       "      <td>5</td>\n",
       "      <td>T&gt;C</td>\n",
       "      <td>clec-41</td>\n",
       "    </tr>\n",
       "    <tr>\n",
       "      <th>7020</th>\n",
       "      <td>chrV</td>\n",
       "      <td>13135848</td>\n",
       "      <td>13135849</td>\n",
       "      <td>6|T&gt;C|0.5</td>\n",
       "      <td>0.999990</td>\n",
       "      <td>-</td>\n",
       "      <td>B0365.6.4:13135819:13135944:-:three_prime_utr:...</td>\n",
       "      <td>B0365.5b:13134838:13136838:-:upstream_gene:WBG...</td>\n",
       "      <td>three_prime_utr</td>\n",
       "      <td>WBGene00007153</td>\n",
       "      <td>0.5</td>\n",
       "      <td>6</td>\n",
       "      <td>T&gt;C</td>\n",
       "      <td>clec-41</td>\n",
       "    </tr>\n",
       "    <tr>\n",
       "      <th>7021</th>\n",
       "      <td>chrV</td>\n",
       "      <td>13135853</td>\n",
       "      <td>13135854</td>\n",
       "      <td>6|T&gt;C|0.833333333</td>\n",
       "      <td>1.000000</td>\n",
       "      <td>-</td>\n",
       "      <td>B0365.6.4:13135819:13135944:-:three_prime_utr:...</td>\n",
       "      <td>B0365.5b:13134838:13136838:-:upstream_gene:WBG...</td>\n",
       "      <td>three_prime_utr</td>\n",
       "      <td>WBGene00007153</td>\n",
       "      <td>0.833333333</td>\n",
       "      <td>6</td>\n",
       "      <td>T&gt;C</td>\n",
       "      <td>clec-41</td>\n",
       "    </tr>\n",
       "    <tr>\n",
       "      <th>7022</th>\n",
       "      <td>chrV</td>\n",
       "      <td>13135854</td>\n",
       "      <td>13135855</td>\n",
       "      <td>6|T&gt;C|0.666666667</td>\n",
       "      <td>1.000000</td>\n",
       "      <td>-</td>\n",
       "      <td>B0365.6.4:13135819:13135944:-:three_prime_utr:...</td>\n",
       "      <td>B0365.5b:13134838:13136838:-:upstream_gene:WBG...</td>\n",
       "      <td>three_prime_utr</td>\n",
       "      <td>WBGene00007153</td>\n",
       "      <td>0.666666667</td>\n",
       "      <td>6</td>\n",
       "      <td>T&gt;C</td>\n",
       "      <td>clec-41</td>\n",
       "    </tr>\n",
       "    <tr>\n",
       "      <th>7023</th>\n",
       "      <td>chrV</td>\n",
       "      <td>13135860</td>\n",
       "      <td>13135861</td>\n",
       "      <td>8|T&gt;C|0.25</td>\n",
       "      <td>0.997969</td>\n",
       "      <td>-</td>\n",
       "      <td>B0365.6.4:13135819:13135944:-:three_prime_utr:...</td>\n",
       "      <td>B0365.5b:13134838:13136838:-:upstream_gene:WBG...</td>\n",
       "      <td>three_prime_utr</td>\n",
       "      <td>WBGene00007153</td>\n",
       "      <td>0.25</td>\n",
       "      <td>8</td>\n",
       "      <td>T&gt;C</td>\n",
       "      <td>clec-41</td>\n",
       "    </tr>\n",
       "    <tr>\n",
       "      <th>7024</th>\n",
       "      <td>chrV</td>\n",
       "      <td>13135913</td>\n",
       "      <td>13135914</td>\n",
       "      <td>22|T&gt;C|0.181818182</td>\n",
       "      <td>0.999948</td>\n",
       "      <td>-</td>\n",
       "      <td>B0365.6.4:13135819:13135944:-:three_prime_utr:...</td>\n",
       "      <td>B0365.5b:13134838:13136838:-:upstream_gene:WBG...</td>\n",
       "      <td>three_prime_utr</td>\n",
       "      <td>WBGene00007153</td>\n",
       "      <td>0.181818182</td>\n",
       "      <td>22</td>\n",
       "      <td>T&gt;C</td>\n",
       "      <td>clec-41</td>\n",
       "    </tr>\n",
       "    <tr>\n",
       "      <th>7025</th>\n",
       "      <td>chrV</td>\n",
       "      <td>13135914</td>\n",
       "      <td>13135915</td>\n",
       "      <td>22|T&gt;C|0.454545455</td>\n",
       "      <td>1.000000</td>\n",
       "      <td>-</td>\n",
       "      <td>B0365.6.4:13135819:13135944:-:three_prime_utr:...</td>\n",
       "      <td>B0365.5b:13134838:13136838:-:upstream_gene:WBG...</td>\n",
       "      <td>three_prime_utr</td>\n",
       "      <td>WBGene00007153</td>\n",
       "      <td>0.454545455</td>\n",
       "      <td>22</td>\n",
       "      <td>T&gt;C</td>\n",
       "      <td>clec-41</td>\n",
       "    </tr>\n",
       "  </tbody>\n",
       "</table>\n",
       "</div>"
      ],
      "text/plain": [
       "     chrom     start      stop                name     score strand  \\\n",
       "7017  chrV  13135041  13135042           5|T>C|0.4  0.999408      -   \n",
       "7018  chrV  13135042  13135043           5|T>C|0.4  0.999408      -   \n",
       "7019  chrV  13135048  13135049           5|T>C|0.4  0.999408      -   \n",
       "7020  chrV  13135848  13135849           6|T>C|0.5  0.999990      -   \n",
       "7021  chrV  13135853  13135854   6|T>C|0.833333333  1.000000      -   \n",
       "7022  chrV  13135854  13135855   6|T>C|0.666666667  1.000000      -   \n",
       "7023  chrV  13135860  13135861          8|T>C|0.25  0.997969      -   \n",
       "7024  chrV  13135913  13135914  22|T>C|0.181818182  0.999948      -   \n",
       "7025  chrV  13135914  13135915  22|T>C|0.454545455  1.000000      -   \n",
       "\n",
       "                                               priority  \\\n",
       "7017  B0365.6.4:13134992:13135128:-:three_prime_utr:...   \n",
       "7018  B0365.6.4:13134992:13135128:-:three_prime_utr:...   \n",
       "7019  B0365.6.4:13134992:13135128:-:three_prime_utr:...   \n",
       "7020  B0365.6.4:13135819:13135944:-:three_prime_utr:...   \n",
       "7021  B0365.6.4:13135819:13135944:-:three_prime_utr:...   \n",
       "7022  B0365.6.4:13135819:13135944:-:three_prime_utr:...   \n",
       "7023  B0365.6.4:13135819:13135944:-:three_prime_utr:...   \n",
       "7024  B0365.6.4:13135819:13135944:-:three_prime_utr:...   \n",
       "7025  B0365.6.4:13135819:13135944:-:three_prime_utr:...   \n",
       "\n",
       "                                              annotated           region  \\\n",
       "7017  B0365.9:13133479:13135479:-:upstream_gene:WBGe...  three_prime_utr   \n",
       "7018  B0365.9:13133479:13135479:-:upstream_gene:WBGe...  three_prime_utr   \n",
       "7019  B0365.9:13133479:13135479:-:upstream_gene:WBGe...  three_prime_utr   \n",
       "7020  B0365.5b:13134838:13136838:-:upstream_gene:WBG...  three_prime_utr   \n",
       "7021  B0365.5b:13134838:13136838:-:upstream_gene:WBG...  three_prime_utr   \n",
       "7022  B0365.5b:13134838:13136838:-:upstream_gene:WBG...  three_prime_utr   \n",
       "7023  B0365.5b:13134838:13136838:-:upstream_gene:WBG...  three_prime_utr   \n",
       "7024  B0365.5b:13134838:13136838:-:upstream_gene:WBG...  three_prime_utr   \n",
       "7025  B0365.5b:13134838:13136838:-:upstream_gene:WBG...  three_prime_utr   \n",
       "\n",
       "              wbgene edit_fraction coverage edit     gene  \n",
       "7017  WBGene00007153           0.4        5  T>C  clec-41  \n",
       "7018  WBGene00007153           0.4        5  T>C  clec-41  \n",
       "7019  WBGene00007153           0.4        5  T>C  clec-41  \n",
       "7020  WBGene00007153           0.5        6  T>C  clec-41  \n",
       "7021  WBGene00007153   0.833333333        6  T>C  clec-41  \n",
       "7022  WBGene00007153   0.666666667        6  T>C  clec-41  \n",
       "7023  WBGene00007153          0.25        8  T>C  clec-41  \n",
       "7024  WBGene00007153   0.181818182       22  T>C  clec-41  \n",
       "7025  WBGene00007153   0.454545455       22  T>C  clec-41  "
      ]
     },
     "execution_count": 49,
     "metadata": {},
     "output_type": "execute_result"
    }
   ],
   "source": [
    "gene = 'clec-41'\n",
    "print(\"Number of editing sites found in gene {}: {}\".format(\n",
    "        gene, annotated[annotated['gene']==gene].shape[0]\n",
    "    )\n",
    "     )\n",
    "annotated[annotated['gene']==gene]"
   ]
  },
  {
   "cell_type": "markdown",
   "metadata": {
    "collapsed": true
   },
   "source": [
    "# Generate supplemental table 1"
   ]
  },
  {
   "cell_type": "code",
   "execution_count": 50,
   "metadata": {
    "collapsed": true
   },
   "outputs": [],
   "source": [
    "table_s1 = annotated[['chrom','stop','edit_fraction','coverage','region','wbgene','gene']]\n",
    "table_s1.columns = ['Chromosome','Position','% Edit','Coverage','Region','Wormbase ID','Gene Name']\n",
    "table_s1.to_csv(supplemental_doc1_edited_genes, sep='\\t', index=None)"
   ]
  },
  {
   "cell_type": "markdown",
   "metadata": {
    "collapsed": true
   },
   "source": [
    "# Generate supplemental table 2"
   ]
  },
  {
   "cell_type": "code",
   "execution_count": 51,
   "metadata": {},
   "outputs": [
    {
     "name": "stderr",
     "output_type": "stream",
     "text": [
      "/home/bay001/anaconda2/envs/brian/lib/python2.7/site-packages/ipykernel_launcher.py:31: SettingWithCopyWarning: \n",
      "A value is trying to be set on a copy of a slice from a DataFrame.\n",
      "Try using .loc[row_indexer,col_indexer] = value instead\n",
      "\n",
      "See the caveats in the documentation: http://pandas.pydata.org/pandas-docs/stable/indexing.html#indexing-view-versus-copy\n",
      "/home/bay001/anaconda2/envs/brian/lib/python2.7/site-packages/ipykernel_launcher.py:32: SettingWithCopyWarning: \n",
      "A value is trying to be set on a copy of a slice from a DataFrame.\n",
      "Try using .loc[row_indexer,col_indexer] = value instead\n",
      "\n",
      "See the caveats in the documentation: http://pandas.pydata.org/pandas-docs/stable/indexing.html#indexing-view-versus-copy\n",
      "/home/bay001/anaconda2/envs/brian/lib/python2.7/site-packages/pandas/core/generic.py:3191: SettingWithCopyWarning: \n",
      "A value is trying to be set on a copy of a slice from a DataFrame\n",
      "\n",
      "See the caveats in the documentation: http://pandas.pydata.org/pandas-docs/stable/indexing.html#indexing-view-versus-copy\n",
      "  self._update_inplace(new_data)\n",
      "/home/bay001/anaconda2/envs/brian/lib/python2.7/site-packages/ipykernel_launcher.py:34: SettingWithCopyWarning: \n",
      "A value is trying to be set on a copy of a slice from a DataFrame.\n",
      "Try using .loc[row_indexer,col_indexer] = value instead\n",
      "\n",
      "See the caveats in the documentation: http://pandas.pydata.org/pandas-docs/stable/indexing.html#indexing-view-versus-copy\n",
      "/home/bay001/anaconda2/envs/brian/lib/python2.7/site-packages/ipykernel_launcher.py:35: SettingWithCopyWarning: \n",
      "A value is trying to be set on a copy of a slice from a DataFrame.\n",
      "Try using .loc[row_indexer,col_indexer] = value instead\n",
      "\n",
      "See the caveats in the documentation: http://pandas.pydata.org/pandas-docs/stable/indexing.html#indexing-view-versus-copy\n"
     ]
    }
   ],
   "source": [
    "deseq2_df = pd.read_table(\n",
    "    from_deseq2, names=['Wormbase ID','baseMean','log2FoldChange','lfcSE','stat','pvalue','adjusted p-value'],skiprows=1\n",
    ")\n",
    "\n",
    "del deseq2_df['pvalue']\n",
    "del deseq2_df['stat']\n",
    "del deseq2_df['lfcSE']\n",
    "\n",
    "l2fc_threshold = 1\n",
    "\n",
    "def fold_ratio(row):\n",
    "    return math.pow(2, row['log2FoldChange'])\n",
    "\n",
    "def add_gene_name(row):\n",
    "    return id2name_dict[row['Wormbase ID']]\n",
    "\n",
    "def is_validated(row, validated_list=VALIDATED):\n",
    "    if row['Wormbase ID'] in validated_list:\n",
    "        return 'Verified'\n",
    "    else:\n",
    "        return ''\n",
    "\n",
    "def is_edited(row, edited_list=list(all_annotations_no_intergenic['wbgene'])):\n",
    "    if row['Wormbase ID'] in edited_list:\n",
    "        return 'Edited'\n",
    "    else:\n",
    "        return ''\n",
    "\n",
    "def create_supplemental_doc2(dysregulated_genes):\n",
    "\n",
    "    dysregulated_genes['Fold Ratio'] = dysregulated_genes.apply(fold_ratio, axis=1)\n",
    "    dysregulated_genes['Gene'] = dysregulated_genes.apply(add_gene_name, axis=1)\n",
    "    dysregulated_genes['adjusted p-value'].fillna(1, inplace=True)\n",
    "    dysregulated_genes['Verified'] = dysregulated_genes.apply(is_validated, axis=1)\n",
    "    dysregulated_genes['Edited'] = dysregulated_genes.apply(is_edited, axis=1)\n",
    "    return dysregulated_genes\n",
    "\n",
    "upregulated_genes = deseq2_df[(deseq2_df['log2FoldChange']>=l2fc_threshold)]\n",
    "upregulated_genes = create_supplemental_doc2(upregulated_genes)\n",
    "upregulated_genes[['Gene','Wormbase ID','baseMean','Fold Ratio','adjusted p-value','Verified','Edited']].to_csv(\n",
    "    supplemental_doc2_upregulated_genes, sep='\\t', index=False\n",
    ")\n",
    "\n",
    "downregulated_genes = deseq2_df[(deseq2_df['log2FoldChange']<=-l2fc_threshold)]\n",
    "downregulated_genes = create_supplemental_doc2(downregulated_genes)\n",
    "downregulated_genes[['Gene','Wormbase ID','baseMean','Fold Ratio','adjusted p-value','Verified','Edited']].to_csv(\n",
    "    supplemental_doc2_downregulated_genes, sep='\\t', index=False\n",
    ")\n"
   ]
  },
  {
   "cell_type": "code",
   "execution_count": null,
   "metadata": {
    "collapsed": true
   },
   "outputs": [],
   "source": []
  },
  {
   "cell_type": "code",
   "execution_count": null,
   "metadata": {
    "collapsed": true
   },
   "outputs": [],
   "source": []
  },
  {
   "cell_type": "code",
   "execution_count": null,
   "metadata": {
    "collapsed": true
   },
   "outputs": [],
   "source": []
  }
 ],
 "metadata": {
  "kernelspec": {
   "display_name": "Python 2",
   "language": "python",
   "name": "python2"
  },
  "language_info": {
   "codemirror_mode": {
    "name": "ipython",
    "version": 2
   },
   "file_extension": ".py",
   "mimetype": "text/x-python",
   "name": "python",
   "nbconvert_exporter": "python",
   "pygments_lexer": "ipython2",
   "version": "2.7.13"
  },
  "toc": {
   "colors": {
    "hover_highlight": "#DAA520",
    "navigate_num": "#000000",
    "navigate_text": "#333333",
    "running_highlight": "#FF0000",
    "selected_highlight": "#FFD700",
    "sidebar_border": "#EEEEEE",
    "wrapper_background": "#FFFFFF"
   },
   "moveMenuLeft": true,
   "nav_menu": {
    "height": "512px",
    "width": "252px"
   },
   "navigate_menu": true,
   "number_sections": true,
   "sideBar": true,
   "threshold": 4,
   "toc_cell": false,
   "toc_section_display": "block",
   "toc_window_display": false,
   "widenNotebook": false
  }
 },
 "nbformat": 4,
 "nbformat_minor": 1
}
