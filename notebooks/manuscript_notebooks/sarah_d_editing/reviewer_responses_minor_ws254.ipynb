{
 "cells": [
  {
   "cell_type": "markdown",
   "metadata": {
    "collapsed": true
   },
   "source": [
    "- 1. The authors mention that they do poly-A selection of the RNA samples (p.6). What proportion of\n",
    "transcripts identified are actually unspliced? Given that more than 50% of the identified A-to- I edits are in the\n",
    "introns, the data sets examined may actually be an under representation of the true unspliced\n",
    "transcriptome. \n",
    "    - get the introns where each editing site occurs\n",
    "    - count reads supporting splicing versus reads supporting splicing versus retained intron\n",
    "    - calculate the difference between intron and exon reads"
   ]
  },
  {
   "cell_type": "markdown",
   "metadata": {},
   "source": [
    "# Minor point 1\n",
    "### Check why there are so many intronic editing sites:\n",
    "- Check intron retention between introns that were edited versus a background (all introns that were spliced)"
   ]
  },
  {
   "cell_type": "code",
   "execution_count": 1,
   "metadata": {
    "collapsed": true
   },
   "outputs": [],
   "source": [
    "%matplotlib inline\n",
    "import matplotlib.pyplot as plt\n",
    "import seaborn as sns\n",
    "import pandas as pd\n",
    "import numpy as np\n",
    "import os\n",
    "import glob\n",
    "\n",
    "rnaseq_dir = '/projects/ps-yeolab3/bay001/hundley_rnae_20160210/analysis/rnae_v6/'\n",
    "editing_calls_dir = '/projects/ps-yeolab3/bay001/hundley_rnae_20160210/analysis/editing_calls_v15_final'\n",
    "wd = '/projects/ps-yeolab3/bay001/hundley_rnae_20160210/analysis/editor_response_minor_1/ws254/'"
   ]
  },
  {
   "cell_type": "code",
   "execution_count": 2,
   "metadata": {},
   "outputs": [
    {
     "name": "stdout",
     "output_type": "stream",
     "text": [
      "/projects/ps-yeolab3/bay001/hundley_rnae_20160210/analysis/editor_response_minor_1/ws254/supplemental_doc_1.txt\r\n"
     ]
    }
   ],
   "source": [
    "x = os.path.join(wd, 'supplemental_doc_1.txt')\n",
    "! ls $x"
   ]
  },
  {
   "cell_type": "markdown",
   "metadata": {},
   "source": [
    "# Look at inclusion in all introns found"
   ]
  },
  {
   "cell_type": "code",
   "execution_count": 3,
   "metadata": {},
   "outputs": [
    {
     "data": {
      "text/plain": [
       "['/projects/ps-yeolab3/bay001/hundley_rnae_20160210/analysis/rnae_v6/GSF973-Hundley-SarahD-1_S1_R1_001.polyATrim.adapterTrim.rmRep.bamSJ.out.tab',\n",
       " '/projects/ps-yeolab3/bay001/hundley_rnae_20160210/analysis/rnae_v6/GSF973-Hundley-SarahD-6_S6_R1_001.polyATrim.adapterTrim.rmRep.bamSJ.out.tab',\n",
       " '/projects/ps-yeolab3/bay001/hundley_rnae_20160210/analysis/rnae_v6/GSF973-Hundley-SarahD-2_S2_R1_001.polyATrim.adapterTrim.rmRep.bamSJ.out.tab',\n",
       " '/projects/ps-yeolab3/bay001/hundley_rnae_20160210/analysis/rnae_v6/GSF973-Hundley-SarahD-5_S5_R1_001.polyATrim.adapterTrim.rmRep.bamSJ.out.tab',\n",
       " '/projects/ps-yeolab3/bay001/hundley_rnae_20160210/analysis/rnae_v6/GSF973-Hundley-SarahD-7_S7_R1_001.polyATrim.adapterTrim.rmRep.bamSJ.out.tab',\n",
       " '/projects/ps-yeolab3/bay001/hundley_rnae_20160210/analysis/rnae_v6/GSF973-Hundley-SarahD-4_S4_R1_001.polyATrim.adapterTrim.rmRep.bamSJ.out.tab',\n",
       " '/projects/ps-yeolab3/bay001/hundley_rnae_20160210/analysis/rnae_v6/GSF973-Hundley-SarahD-3_S3_R1_001.polyATrim.adapterTrim.rmRep.bamSJ.out.tab']"
      ]
     },
     "execution_count": 3,
     "metadata": {},
     "output_type": "execute_result"
    }
   ],
   "source": [
    "# first find the sj out files\n",
    "SJOuts = glob.glob(os.path.join(rnaseq_dir,\"*.rmRep.bamSJ.out.tab\"))\n",
    "SJOuts"
   ]
  },
  {
   "cell_type": "code",
   "execution_count": 4,
   "metadata": {},
   "outputs": [
    {
     "name": "stdout",
     "output_type": "stream",
     "text": [
      "('number of introns with undefined strand (discarding): ', (253, 10))\n",
      "('Number of introns discovered in WT1 sample: ', (63091, 10))\n",
      "('number of introns with undefined strand (discarding): ', (209, 10))\n",
      "('Number of introns discovered in WT3 sample: ', (63681, 10))\n",
      "('number of introns with undefined strand (discarding): ', (132, 10))\n",
      "('Number of introns discovered in WT6 sample: ', (63328, 10))\n",
      "('Number of introns discovered in WT sample: ', (75965, 10))\n"
     ]
    }
   ],
   "source": [
    "wt1 = '/projects/ps-yeolab3/bay001/hundley_rnae_20160210/analysis/rnae_v6/GSF973-Hundley-SarahD-1_S1_R1_001.polyATrim.adapterTrim.rmRep.bamSJ.out.tab'\n",
    "wt3 = '/projects/ps-yeolab3/bay001/hundley_rnae_20160210/analysis/rnae_v6/GSF973-Hundley-SarahD-3_S3_R1_001.polyATrim.adapterTrim.rmRep.bamSJ.out.tab'\n",
    "wt6 = '/projects/ps-yeolab3/bay001/hundley_rnae_20160210/analysis/rnae_v6/GSF973-Hundley-SarahD-6_S6_R1_001.polyATrim.adapterTrim.rmRep.bamSJ.out.tab'\n",
    "\n",
    "sjout_names = ['chrom','start','end','n_strand','motif','annotated','unique','multi','max_spliced_overhang']\n",
    "\n",
    "def strand(row):\n",
    "    \"\"\"\n",
    "    Converts numeric strand info to canonical.\n",
    "    \"\"\"\n",
    "    if row['n_strand'] == 0:\n",
    "        return 'x'\n",
    "    elif row['n_strand'] == 1:\n",
    "        return '+'\n",
    "    elif row['n_strand'] == 2:\n",
    "        return '-'\n",
    "    else:\n",
    "        return 'x'\n",
    "        \n",
    "def read(fn):\n",
    "    \"\"\"\n",
    "    Read in sj.out.tab file, return just introns whose strand is \n",
    "    determined and who has at least 10 reads supporting it.\n",
    "    \"\"\"\n",
    "    df = pd.read_table(fn, names=sjout_names)\n",
    "    df['strand'] = df.apply(strand, axis=1)\n",
    "    df['start'] = df['start'] - 1 # turn one based start into 0 based \n",
    "    print('number of introns with undefined strand (discarding): ', df[df['strand']=='x'].shape)\n",
    "    df = df[df['unique']>=10]\n",
    "    df = df[df['strand']!='x']\n",
    "    return df\n",
    "\n",
    "wts = [wt1, wt3, wt6]\n",
    "\n",
    "\n",
    "wt1_df = read(wts[0])\n",
    "print(\"Number of introns discovered in WT1 sample: \", wt1_df.shape)\n",
    "wt3_df = read(wts[1])\n",
    "print(\"Number of introns discovered in WT3 sample: \", wt3_df.shape)\n",
    "wt6_df = read(wts[2])\n",
    "print(\"Number of introns discovered in WT6 sample: \", wt6_df.shape)\n",
    "\n",
    "# merge all and drop duplicates, returning the set of all introns in the combined WT sample.\n",
    "merged = pd.concat([wt1_df, wt3_df, wt6_df], axis=0).drop_duplicates(['chrom','start','end','strand'])\n",
    "print(\"Number of introns discovered in WT sample: \", merged.shape)"
   ]
  },
  {
   "cell_type": "code",
   "execution_count": 5,
   "metadata": {
    "collapsed": true
   },
   "outputs": [],
   "source": [
    "# Save all background introns as a bedfile (tabbed)\n",
    "out_bed = os.path.join(wd,'WT.introns.bed')\n",
    "merged[['chrom','start','end','annotated','unique','strand']].to_csv(\n",
    "    out_bed, sep='\\t', header=False, index=False\n",
    ")"
   ]
  },
  {
   "cell_type": "markdown",
   "metadata": {},
   "source": [
    "# Run junction counter to count number of reads supporting splicing/intron retention for all discovered introns\n",
    "- https://github.com/byee4/junction-counter"
   ]
  },
  {
   "cell_type": "code",
   "execution_count": 6,
   "metadata": {
    "collapsed": true
   },
   "outputs": [],
   "source": [
    "junc = '/home/bay001/projects/codebase/junction-counter/junction_counter/count_junctions.py'\n",
    "bam = os.path.join(editing_calls_dir,'WT.sorted.rmdup.readfiltered.bam')\n",
    "outfile = os.path.join(wd,'WT.jxc')"
   ]
  },
  {
   "cell_type": "code",
   "execution_count": 7,
   "metadata": {},
   "outputs": [
    {
     "name": "stdout",
     "output_type": "stream",
     "text": [
      "100%|####################################9| 75955/75965 [10:29<00:00, 85.36it/s]"
     ]
    }
   ],
   "source": [
    "cmd = 'python {} '.format(junc)\n",
    "cmd = cmd + '--bed {} '.format(out_bed)\n",
    "cmd = cmd + '--bam {} '.format(bam)\n",
    "cmd = cmd + '--min_overlap {} '.format(10)\n",
    "cmd = cmd + '--library {} '.format('reverse_se')\n",
    "cmd = cmd + '--outfile {}'.format(outfile)\n",
    "! $cmd"
   ]
  },
  {
   "cell_type": "markdown",
   "metadata": {},
   "source": [
    "# Run junction counter to count number of reads supporting splicing/intron retention for edited introns"
   ]
  },
  {
   "cell_type": "code",
   "execution_count": 8,
   "metadata": {},
   "outputs": [
    {
     "data": {
      "text/html": [
       "<div>\n",
       "<table border=\"1\" class=\"dataframe\">\n",
       "  <thead>\n",
       "    <tr style=\"text-align: right;\">\n",
       "      <th></th>\n",
       "      <th>chrom</th>\n",
       "      <th>pos-1</th>\n",
       "      <th>pos</th>\n",
       "      <th>approx_edit_fraction</th>\n",
       "      <th>approx_coverage</th>\n",
       "      <th>strand</th>\n",
       "      <th>region_chrom</th>\n",
       "      <th>source</th>\n",
       "      <th>region_start</th>\n",
       "      <th>region_end</th>\n",
       "      <th>region_strand</th>\n",
       "      <th>attributes</th>\n",
       "      <th>region</th>\n",
       "      <th>id</th>\n",
       "      <th>wbgene</th>\n",
       "      <th>gene</th>\n",
       "    </tr>\n",
       "  </thead>\n",
       "  <tbody>\n",
       "    <tr>\n",
       "      <th>0</th>\n",
       "      <td>chrI</td>\n",
       "      <td>3033978</td>\n",
       "      <td>3033979</td>\n",
       "      <td>80</td>\n",
       "      <td>20</td>\n",
       "      <td>+</td>\n",
       "      <td>chrI</td>\n",
       "      <td>WormBase</td>\n",
       "      <td>3033825</td>\n",
       "      <td>3034140</td>\n",
       "      <td>+</td>\n",
       "      <td>Parent=Transcript:Y54E10BR.2.1</td>\n",
       "      <td>three prime UTR</td>\n",
       "      <td>Y54E10BR.2.1</td>\n",
       "      <td>WBGene00021841</td>\n",
       "      <td>Y54E10BR.2</td>\n",
       "    </tr>\n",
       "    <tr>\n",
       "      <th>1</th>\n",
       "      <td>chrV</td>\n",
       "      <td>4627758</td>\n",
       "      <td>4627759</td>\n",
       "      <td>14</td>\n",
       "      <td>21</td>\n",
       "      <td>+</td>\n",
       "      <td>chrV</td>\n",
       "      <td>WormBase</td>\n",
       "      <td>4627581</td>\n",
       "      <td>4628252</td>\n",
       "      <td>+</td>\n",
       "      <td>Parent=Transcript:F54D11.2.1</td>\n",
       "      <td>three prime UTR</td>\n",
       "      <td>F54D11.2.1</td>\n",
       "      <td>WBGene00018812</td>\n",
       "      <td>sumv-2</td>\n",
       "    </tr>\n",
       "    <tr>\n",
       "      <th>2</th>\n",
       "      <td>chrI</td>\n",
       "      <td>10819580</td>\n",
       "      <td>10819581</td>\n",
       "      <td>50</td>\n",
       "      <td>102</td>\n",
       "      <td>+</td>\n",
       "      <td>chrI</td>\n",
       "      <td>WormBase</td>\n",
       "      <td>10819110</td>\n",
       "      <td>10819963</td>\n",
       "      <td>+</td>\n",
       "      <td>Parent=Transcript:C35E7.6</td>\n",
       "      <td>three prime UTR</td>\n",
       "      <td>C35E7.6</td>\n",
       "      <td>WBGene00016458</td>\n",
       "      <td>C35E7.6</td>\n",
       "    </tr>\n",
       "    <tr>\n",
       "      <th>3</th>\n",
       "      <td>chrIII</td>\n",
       "      <td>12623280</td>\n",
       "      <td>12623281</td>\n",
       "      <td>15</td>\n",
       "      <td>19</td>\n",
       "      <td>+</td>\n",
       "      <td>chrIII</td>\n",
       "      <td>WormBase</td>\n",
       "      <td>12622539</td>\n",
       "      <td>12623740</td>\n",
       "      <td>+</td>\n",
       "      <td>Parent=Transcript:Y111B2A.12a</td>\n",
       "      <td>three prime UTR</td>\n",
       "      <td>Y111B2A.12a</td>\n",
       "      <td>WBGene00013735</td>\n",
       "      <td>Y111B2A.12</td>\n",
       "    </tr>\n",
       "    <tr>\n",
       "      <th>4</th>\n",
       "      <td>chrV</td>\n",
       "      <td>4627769</td>\n",
       "      <td>4627770</td>\n",
       "      <td>66</td>\n",
       "      <td>21</td>\n",
       "      <td>+</td>\n",
       "      <td>chrV</td>\n",
       "      <td>WormBase</td>\n",
       "      <td>4627581</td>\n",
       "      <td>4628252</td>\n",
       "      <td>+</td>\n",
       "      <td>Parent=Transcript:F54D11.2.1</td>\n",
       "      <td>three prime UTR</td>\n",
       "      <td>F54D11.2.1</td>\n",
       "      <td>WBGene00018812</td>\n",
       "      <td>sumv-2</td>\n",
       "    </tr>\n",
       "  </tbody>\n",
       "</table>\n",
       "</div>"
      ],
      "text/plain": [
       "    chrom     pos-1       pos  approx_edit_fraction  approx_coverage strand  \\\n",
       "0    chrI   3033978   3033979                    80               20      +   \n",
       "1    chrV   4627758   4627759                    14               21      +   \n",
       "2    chrI  10819580  10819581                    50              102      +   \n",
       "3  chrIII  12623280  12623281                    15               19      +   \n",
       "4    chrV   4627769   4627770                    66               21      +   \n",
       "\n",
       "  region_chrom    source  region_start  region_end region_strand  \\\n",
       "0         chrI  WormBase       3033825     3034140             +   \n",
       "1         chrV  WormBase       4627581     4628252             +   \n",
       "2         chrI  WormBase      10819110    10819963             +   \n",
       "3       chrIII  WormBase      12622539    12623740             +   \n",
       "4         chrV  WormBase       4627581     4628252             +   \n",
       "\n",
       "                       attributes           region            id  \\\n",
       "0  Parent=Transcript:Y54E10BR.2.1  three prime UTR  Y54E10BR.2.1   \n",
       "1    Parent=Transcript:F54D11.2.1  three prime UTR    F54D11.2.1   \n",
       "2       Parent=Transcript:C35E7.6  three prime UTR       C35E7.6   \n",
       "3   Parent=Transcript:Y111B2A.12a  three prime UTR   Y111B2A.12a   \n",
       "4    Parent=Transcript:F54D11.2.1  three prime UTR    F54D11.2.1   \n",
       "\n",
       "           wbgene        gene  \n",
       "0  WBGene00021841  Y54E10BR.2  \n",
       "1  WBGene00018812      sumv-2  \n",
       "2  WBGene00016458     C35E7.6  \n",
       "3  WBGene00013735  Y111B2A.12  \n",
       "4  WBGene00018812      sumv-2  "
      ]
     },
     "execution_count": 8,
     "metadata": {},
     "output_type": "execute_result"
    }
   ],
   "source": [
    "editing_sites = pd.read_table(\n",
    "    os.path.join(wd, 'annotations_wbgene.txt'),\n",
    ") # this comes from the 'final analysis notebook'\n",
    "editing_sites.head()"
   ]
  },
  {
   "cell_type": "code",
   "execution_count": null,
   "metadata": {
    "collapsed": true
   },
   "outputs": [],
   "source": []
  },
  {
   "cell_type": "markdown",
   "metadata": {},
   "source": [
    "### Keep only the 'intronic' edited sites and convert into a BED file"
   ]
  },
  {
   "cell_type": "code",
   "execution_count": 9,
   "metadata": {},
   "outputs": [
    {
     "name": "stdout",
     "output_type": "stream",
     "text": [
      "('number of total sites edited: ', (3630, 6))\n",
      "('number of unique introns: ', (441, 6))\n"
     ]
    },
    {
     "data": {
      "text/html": [
       "<div>\n",
       "<table border=\"1\" class=\"dataframe\">\n",
       "  <thead>\n",
       "    <tr style=\"text-align: right;\">\n",
       "      <th></th>\n",
       "      <th>chrom</th>\n",
       "      <th>region_start</th>\n",
       "      <th>region_end</th>\n",
       "      <th>wbgene</th>\n",
       "      <th>approx_coverage</th>\n",
       "      <th>strand</th>\n",
       "    </tr>\n",
       "  </thead>\n",
       "  <tbody>\n",
       "    <tr>\n",
       "      <th>507</th>\n",
       "      <td>chrIV</td>\n",
       "      <td>191251</td>\n",
       "      <td>191884</td>\n",
       "      <td>WBGene00021395</td>\n",
       "      <td>9</td>\n",
       "      <td>+</td>\n",
       "    </tr>\n",
       "    <tr>\n",
       "      <th>510</th>\n",
       "      <td>chrI</td>\n",
       "      <td>12819455</td>\n",
       "      <td>12820534</td>\n",
       "      <td>WBGene00001746</td>\n",
       "      <td>6</td>\n",
       "      <td>+</td>\n",
       "    </tr>\n",
       "    <tr>\n",
       "      <th>512</th>\n",
       "      <td>chrIII</td>\n",
       "      <td>13201021</td>\n",
       "      <td>13203865</td>\n",
       "      <td>WBGene00001630</td>\n",
       "      <td>9</td>\n",
       "      <td>+</td>\n",
       "    </tr>\n",
       "    <tr>\n",
       "      <th>514</th>\n",
       "      <td>chrIII</td>\n",
       "      <td>13280658</td>\n",
       "      <td>13283786</td>\n",
       "      <td>WBGene00006798</td>\n",
       "      <td>70</td>\n",
       "      <td>+</td>\n",
       "    </tr>\n",
       "    <tr>\n",
       "      <th>517</th>\n",
       "      <td>chrIII</td>\n",
       "      <td>13347135</td>\n",
       "      <td>13352067</td>\n",
       "      <td>WBGene00003478</td>\n",
       "      <td>12</td>\n",
       "      <td>+</td>\n",
       "    </tr>\n",
       "  </tbody>\n",
       "</table>\n",
       "</div>"
      ],
      "text/plain": [
       "      chrom  region_start  region_end          wbgene  approx_coverage strand\n",
       "507   chrIV        191251      191884  WBGene00021395                9      +\n",
       "510    chrI      12819455    12820534  WBGene00001746                6      +\n",
       "512  chrIII      13201021    13203865  WBGene00001630                9      +\n",
       "514  chrIII      13280658    13283786  WBGene00006798               70      +\n",
       "517  chrIII      13347135    13352067  WBGene00003478               12      +"
      ]
     },
     "execution_count": 9,
     "metadata": {},
     "output_type": "execute_result"
    }
   ],
   "source": [
    "edited_introns_bed = os.path.join(wd, 'intronic_sites.bed')\n",
    "introns = editing_sites[editing_sites['region']=='intron'][['chrom','region_start','region_end','wbgene','approx_coverage','strand']]\n",
    "print(\"number of total sites edited: \", introns.shape)\n",
    "introns.drop_duplicates(['chrom','region_start','region_end','strand'], inplace=True)\n",
    "print(\"number of unique introns: \", introns.shape)\n",
    "introns.to_csv(\n",
    "    edited_introns_bed,\n",
    "    sep='\\t', header=False, index=False\n",
    ")\n",
    "introns.head()"
   ]
  },
  {
   "cell_type": "markdown",
   "metadata": {},
   "source": [
    "# "
   ]
  },
  {
   "cell_type": "code",
   "execution_count": 10,
   "metadata": {},
   "outputs": [
    {
     "name": "stdout",
     "output_type": "stream",
     "text": [
      "100%|#########################################| 441/441 [00:04<00:00, 90.60it/s]\n"
     ]
    }
   ],
   "source": [
    "outfile = os.path.join(wd,'WT.edited.jxc')\n",
    "cmd = 'python {} '.format(junc)\n",
    "cmd = cmd + '--bed {} '.format(edited_introns_bed)\n",
    "cmd = cmd + '--bam {} '.format(bam)\n",
    "cmd = cmd + '--min_overlap {} '.format(10)\n",
    "cmd = cmd + '--library {} '.format('reverse_se')\n",
    "cmd = cmd + '--outfile {}'.format(outfile)\n",
    "! $cmd"
   ]
  },
  {
   "cell_type": "markdown",
   "metadata": {},
   "source": [
    "# Emily's code goes here..."
   ]
  },
  {
   "cell_type": "code",
   "execution_count": null,
   "metadata": {
    "collapsed": true
   },
   "outputs": [],
   "source": []
  },
  {
   "cell_type": "code",
   "execution_count": null,
   "metadata": {
    "collapsed": true
   },
   "outputs": [],
   "source": []
  },
  {
   "cell_type": "markdown",
   "metadata": {
    "collapsed": true
   },
   "source": [
    "# Minor point 5\n",
    "##### Can the authors speculate on why they identified 87 editing sites by Sanger sequencing that were not found by SAILOR? What does this say about the sensitivity of their pipeline? Possibly these sites would have been found using less stringent parameters?\n",
    "- use code from analysis notebook to gather the 87 sites"
   ]
  },
  {
   "cell_type": "code",
   "execution_count": 11,
   "metadata": {},
   "outputs": [
    {
     "data": {
      "text/html": [
       "<div>\n",
       "<table border=\"1\" class=\"dataframe\">\n",
       "  <thead>\n",
       "    <tr style=\"text-align: right;\">\n",
       "      <th></th>\n",
       "      <th>chrom</th>\n",
       "      <th>pos-1</th>\n",
       "      <th>pos</th>\n",
       "      <th>approx_edit_fraction</th>\n",
       "      <th>approx_coverage</th>\n",
       "      <th>strand</th>\n",
       "      <th>region_chrom</th>\n",
       "      <th>source</th>\n",
       "      <th>region_start</th>\n",
       "      <th>region_end</th>\n",
       "      <th>region_strand</th>\n",
       "      <th>attributes</th>\n",
       "      <th>region</th>\n",
       "      <th>id</th>\n",
       "      <th>wbgene</th>\n",
       "      <th>gene</th>\n",
       "    </tr>\n",
       "  </thead>\n",
       "  <tbody>\n",
       "    <tr>\n",
       "      <th>0</th>\n",
       "      <td>chrI</td>\n",
       "      <td>3033978</td>\n",
       "      <td>3033979</td>\n",
       "      <td>80</td>\n",
       "      <td>20</td>\n",
       "      <td>+</td>\n",
       "      <td>chrI</td>\n",
       "      <td>WormBase</td>\n",
       "      <td>3033825</td>\n",
       "      <td>3034140</td>\n",
       "      <td>+</td>\n",
       "      <td>Parent=Transcript:Y54E10BR.2.1</td>\n",
       "      <td>three prime UTR</td>\n",
       "      <td>Y54E10BR.2.1</td>\n",
       "      <td>WBGene00021841</td>\n",
       "      <td>Y54E10BR.2</td>\n",
       "    </tr>\n",
       "    <tr>\n",
       "      <th>1</th>\n",
       "      <td>chrV</td>\n",
       "      <td>4627758</td>\n",
       "      <td>4627759</td>\n",
       "      <td>14</td>\n",
       "      <td>21</td>\n",
       "      <td>+</td>\n",
       "      <td>chrV</td>\n",
       "      <td>WormBase</td>\n",
       "      <td>4627581</td>\n",
       "      <td>4628252</td>\n",
       "      <td>+</td>\n",
       "      <td>Parent=Transcript:F54D11.2.1</td>\n",
       "      <td>three prime UTR</td>\n",
       "      <td>F54D11.2.1</td>\n",
       "      <td>WBGene00018812</td>\n",
       "      <td>sumv-2</td>\n",
       "    </tr>\n",
       "    <tr>\n",
       "      <th>2</th>\n",
       "      <td>chrI</td>\n",
       "      <td>10819580</td>\n",
       "      <td>10819581</td>\n",
       "      <td>50</td>\n",
       "      <td>102</td>\n",
       "      <td>+</td>\n",
       "      <td>chrI</td>\n",
       "      <td>WormBase</td>\n",
       "      <td>10819110</td>\n",
       "      <td>10819963</td>\n",
       "      <td>+</td>\n",
       "      <td>Parent=Transcript:C35E7.6</td>\n",
       "      <td>three prime UTR</td>\n",
       "      <td>C35E7.6</td>\n",
       "      <td>WBGene00016458</td>\n",
       "      <td>C35E7.6</td>\n",
       "    </tr>\n",
       "    <tr>\n",
       "      <th>3</th>\n",
       "      <td>chrIII</td>\n",
       "      <td>12623280</td>\n",
       "      <td>12623281</td>\n",
       "      <td>15</td>\n",
       "      <td>19</td>\n",
       "      <td>+</td>\n",
       "      <td>chrIII</td>\n",
       "      <td>WormBase</td>\n",
       "      <td>12622539</td>\n",
       "      <td>12623740</td>\n",
       "      <td>+</td>\n",
       "      <td>Parent=Transcript:Y111B2A.12a</td>\n",
       "      <td>three prime UTR</td>\n",
       "      <td>Y111B2A.12a</td>\n",
       "      <td>WBGene00013735</td>\n",
       "      <td>Y111B2A.12</td>\n",
       "    </tr>\n",
       "    <tr>\n",
       "      <th>4</th>\n",
       "      <td>chrV</td>\n",
       "      <td>4627769</td>\n",
       "      <td>4627770</td>\n",
       "      <td>66</td>\n",
       "      <td>21</td>\n",
       "      <td>+</td>\n",
       "      <td>chrV</td>\n",
       "      <td>WormBase</td>\n",
       "      <td>4627581</td>\n",
       "      <td>4628252</td>\n",
       "      <td>+</td>\n",
       "      <td>Parent=Transcript:F54D11.2.1</td>\n",
       "      <td>three prime UTR</td>\n",
       "      <td>F54D11.2.1</td>\n",
       "      <td>WBGene00018812</td>\n",
       "      <td>sumv-2</td>\n",
       "    </tr>\n",
       "  </tbody>\n",
       "</table>\n",
       "</div>"
      ],
      "text/plain": [
       "    chrom     pos-1       pos  approx_edit_fraction  approx_coverage strand  \\\n",
       "0    chrI   3033978   3033979                    80               20      +   \n",
       "1    chrV   4627758   4627759                    14               21      +   \n",
       "2    chrI  10819580  10819581                    50              102      +   \n",
       "3  chrIII  12623280  12623281                    15               19      +   \n",
       "4    chrV   4627769   4627770                    66               21      +   \n",
       "\n",
       "  region_chrom    source  region_start  region_end region_strand  \\\n",
       "0         chrI  WormBase       3033825     3034140             +   \n",
       "1         chrV  WormBase       4627581     4628252             +   \n",
       "2         chrI  WormBase      10819110    10819963             +   \n",
       "3       chrIII  WormBase      12622539    12623740             +   \n",
       "4         chrV  WormBase       4627581     4628252             +   \n",
       "\n",
       "                       attributes           region            id  \\\n",
       "0  Parent=Transcript:Y54E10BR.2.1  three prime UTR  Y54E10BR.2.1   \n",
       "1    Parent=Transcript:F54D11.2.1  three prime UTR    F54D11.2.1   \n",
       "2       Parent=Transcript:C35E7.6  three prime UTR       C35E7.6   \n",
       "3   Parent=Transcript:Y111B2A.12a  three prime UTR   Y111B2A.12a   \n",
       "4    Parent=Transcript:F54D11.2.1  three prime UTR    F54D11.2.1   \n",
       "\n",
       "           wbgene        gene  \n",
       "0  WBGene00021841  Y54E10BR.2  \n",
       "1  WBGene00018812      sumv-2  \n",
       "2  WBGene00016458     C35E7.6  \n",
       "3  WBGene00013735  Y111B2A.12  \n",
       "4  WBGene00018812      sumv-2  "
      ]
     },
     "execution_count": 11,
     "metadata": {},
     "output_type": "execute_result"
    }
   ],
   "source": [
    "editing_sites.head()"
   ]
  },
  {
   "cell_type": "code",
   "execution_count": 12,
   "metadata": {},
   "outputs": [
    {
     "name": "stdout",
     "output_type": "stream",
     "text": [
      "Number of sites not captured by pipeline but discovered to be edited via sanger: 87\n",
      "Number of sites captured by pipeline AND discovered to be edited via sanger: 86\n"
     ]
    }
   ],
   "source": [
    "validation_comparisons = os.path.join(wd,'validation_comparisons.txt')\n",
    "validated_df = pd.read_table(validation_comparisons)\n",
    "vdf = validated_df.fillna('NONE')\n",
    "print(\"Number of sites not captured by pipeline but discovered to be edited via sanger: {}\".format(vdf[\n",
    "    (vdf['Identified in Sanger Sequencing']=='Yes') &\n",
    "    (vdf['0.0.3 % edited (RNA seq)']=='NONE')\n",
    "].shape[0]))\n",
    "print(\"Number of sites captured by pipeline AND discovered to be edited via sanger: {}\".format(vdf[\n",
    "    (vdf['Identified in Sanger Sequencing']=='Yes') &\n",
    "    (vdf['0.0.3 % edited (RNA seq)']!='NONE')\n",
    "].shape[0]))"
   ]
  },
  {
   "cell_type": "code",
   "execution_count": 13,
   "metadata": {},
   "outputs": [
    {
     "data": {
      "text/html": [
       "<div>\n",
       "<table border=\"1\" class=\"dataframe\">\n",
       "  <thead>\n",
       "    <tr style=\"text-align: right;\">\n",
       "      <th></th>\n",
       "      <th>Chromosome</th>\n",
       "      <th>start</th>\n",
       "      <th>end</th>\n",
       "    </tr>\n",
       "  </thead>\n",
       "  <tbody>\n",
       "    <tr>\n",
       "      <th>90</th>\n",
       "      <td>chrI</td>\n",
       "      <td>2033865</td>\n",
       "      <td>2033866</td>\n",
       "    </tr>\n",
       "    <tr>\n",
       "      <th>91</th>\n",
       "      <td>chrI</td>\n",
       "      <td>2033892</td>\n",
       "      <td>2033893</td>\n",
       "    </tr>\n",
       "    <tr>\n",
       "      <th>92</th>\n",
       "      <td>chrI</td>\n",
       "      <td>2033893</td>\n",
       "      <td>2033894</td>\n",
       "    </tr>\n",
       "    <tr>\n",
       "      <th>93</th>\n",
       "      <td>chrI</td>\n",
       "      <td>2034070</td>\n",
       "      <td>2034071</td>\n",
       "    </tr>\n",
       "    <tr>\n",
       "      <th>94</th>\n",
       "      <td>chrI</td>\n",
       "      <td>2034071</td>\n",
       "      <td>2034072</td>\n",
       "    </tr>\n",
       "  </tbody>\n",
       "</table>\n",
       "</div>"
      ],
      "text/plain": [
       "   Chromosome    start      end\n",
       "90       chrI  2033865  2033866\n",
       "91       chrI  2033892  2033893\n",
       "92       chrI  2033893  2033894\n",
       "93       chrI  2034070  2034071\n",
       "94       chrI  2034071  2034072"
      ]
     },
     "execution_count": 13,
     "metadata": {},
     "output_type": "execute_result"
    }
   ],
   "source": [
    "notfound = vdf[\n",
    "    (vdf['Identified in Sanger Sequencing']=='Yes') &\n",
    "    (vdf['0.0.3 % edited (RNA seq)']=='NONE')\n",
    "][['Chromosome','Editing site position']]\n",
    "notfound['start'] = notfound['Editing site position'].astype(int) -1\n",
    "notfound['end'] = notfound['Editing site position'].astype(int)\n",
    "notfound = notfound[['Chromosome','start','end']]\n",
    "notfound.head()"
   ]
  },
  {
   "cell_type": "code",
   "execution_count": 14,
   "metadata": {
    "collapsed": true
   },
   "outputs": [],
   "source": [
    "notfound_bed = os.path.join(wd,'validation_comparisons.notfound.bed')\n",
    "notfound.to_csv(\n",
    "    notfound_bed,\n",
    "    sep='\\t',\n",
    "    index=False,\n",
    "    header=False\n",
    ")"
   ]
  },
  {
   "cell_type": "markdown",
   "metadata": {},
   "source": [
    "# of the 87 sites, how many of them don't have sufficient coverage?"
   ]
  },
  {
   "cell_type": "code",
   "execution_count": 15,
   "metadata": {
    "collapsed": true
   },
   "outputs": [],
   "source": [
    "bam = '/projects/ps-yeolab3/bay001/hundley_rnae_20160210/analysis/rnae_v6/WT.bam'\n",
    "outfile = os.path.join(wd,'depth.txt')\n",
    "cmd = 'samtools depth '\n",
    "cmd = cmd + '-b {} '.format(notfound_bed)\n",
    "cmd = cmd + '{} '.format(bam) # bam is the original combined WT bam\n",
    "cmd = cmd + '> {}'.format(outfile)\n",
    "! $cmd"
   ]
  },
  {
   "cell_type": "code",
   "execution_count": 16,
   "metadata": {},
   "outputs": [
    {
     "name": "stdout",
     "output_type": "stream",
     "text": [
      "number of sites with coverage greater than 100: 19\n",
      "number of sites with coverage less than 5: 27\n"
     ]
    },
    {
     "data": {
      "text/plain": [
       "<matplotlib.text.Text at 0x2b3a0767b550>"
      ]
     },
     "execution_count": 16,
     "metadata": {},
     "output_type": "execute_result"
    },
    {
     "data": {
      "image/png": "[encoded data removed]",
      "text/plain": [
       "<matplotlib.figure.Figure at 0x2b3a0763e7d0>"
      ]
     },
     "metadata": {},
     "output_type": "display_data"
    }
   ],
   "source": [
    "df = pd.read_table(outfile, names=['chrom','position','depth'])\n",
    "print(\"number of sites with coverage greater than 100: {}\".format(df[df['depth']>100].shape[0]))\n",
    "print(\"number of sites with coverage less than 5: {}\".format(df[df['depth']<5].shape[0]))\n",
    "\n",
    "ax = df['depth'].hist(bins=300)\n",
    "ax.set_xlim(0,100)\n",
    "ax.set_xlabel('Depth')\n",
    "ax.set_ylabel('Number of sites')\n"
   ]
  },
  {
   "cell_type": "markdown",
   "metadata": {},
   "source": [
    "# Re-do the coverage counts with filtered bam (34 sites have less than 5 reads)\n",
    "- This is basically the set of reads that we call 'True': filtered for potential sequencing defects and PCR-duplicate removed (via coordinates... no UMIs used in this library). We have justified why we include the PCR-duplicate removal step in the manuscript?"
   ]
  },
  {
   "cell_type": "code",
   "execution_count": 17,
   "metadata": {},
   "outputs": [],
   "source": [
    "bam = os.path.join(editing_calls_dir, 'WT.sorted.rmdup.readfiltered.bam')\n",
    "outfile = os.path.join(wd,'depth.rmdup.readfiltered.txt')\n",
    "cmd = 'samtools depth '\n",
    "cmd = cmd + '-b {} '.format(notfound_bed)\n",
    "cmd = cmd + '{} '.format(bam) # bam is the original combined WT bam\n",
    "cmd = cmd + '> {}'.format(outfile)\n",
    "! $cmd"
   ]
  },
  {
   "cell_type": "code",
   "execution_count": 18,
   "metadata": {},
   "outputs": [
    {
     "name": "stdout",
     "output_type": "stream",
     "text": [
      "number of sites with coverage greater than 100: 0\n",
      "number of sites with coverage less than 5: 34\n"
     ]
    },
    {
     "data": {
      "text/plain": [
       "<matplotlib.text.Text at 0x2b3a09e05c10>"
      ]
     },
     "execution_count": 18,
     "metadata": {},
     "output_type": "execute_result"
    },
    {
     "data": {
      "image/png": "[encoded data removed]",
      "text/plain": [
       "<matplotlib.figure.Figure at 0x2b3a07110550>"
      ]
     },
     "metadata": {},
     "output_type": "display_data"
    }
   ],
   "source": [
    "df = pd.read_table(outfile, names=['chrom','position','depth'])\n",
    "print(\"number of sites with coverage greater than 100: {}\".format(df[df['depth']>100].shape[0]))\n",
    "print(\"number of sites with coverage less than 5: {}\".format(df[df['depth']<5].shape[0]))\n",
    "\n",
    "ax = df['depth'].hist(bins=300)\n",
    "ax.set_xlim(0,100)\n",
    "ax.set_xlabel('Depth')\n",
    "ax.set_ylabel('Number of sites')\n"
   ]
  },
  {
   "cell_type": "markdown",
   "metadata": {},
   "source": [
    "# Of the sites with sufficient coverage, how many just miss conf cutoff? (30 sites missed cutoffs, 20 sites have score of over 90%)\n",
    "- 30 sites had a confidence score, which means that it was an editing candidate. Of these:\n",
    "    - (1) site had a zero confidence score because it was 100% edited and was called as a possible snp\n",
    "    - 20 sites had a confidence score above 90%"
   ]
  },
  {
   "cell_type": "code",
   "execution_count": 19,
   "metadata": {},
   "outputs": [
    {
     "name": "stdout",
     "output_type": "stream",
     "text": [
      "Number of sites that did not meet our cutoffs: 30\n",
      "Number of sites that have greater than 90% confidence: 20\n"
     ]
    },
    {
     "data": {
      "text/plain": [
       "<matplotlib.text.Text at 0x2b3a0a383fd0>"
      ]
     },
     "execution_count": 19,
     "metadata": {},
     "output_type": "execute_result"
    },
    {
     "data": {
      "image/png": "[encoded data removed]",
      "text/plain": [
       "<matplotlib.figure.Figure at 0x2b3a09daf2d0>"
      ]
     },
     "metadata": {},
     "output_type": "display_data"
    }
   ],
   "source": [
    "# format the bedfile\n",
    "out_filtered_bed = os.path.join(wd,'filtered.bed')\n",
    "fwd_bed = os.path.join(\n",
    "    editing_calls_dir, 'WT.fwd.sorted.rmdup.readfiltered.formatted.varfiltered.snpfiltered.ranked.bed'\n",
    ")\n",
    "rev_bed = os.path.join(\n",
    "    editing_calls_dir, 'WT.rev.sorted.rmdup.readfiltered.formatted.varfiltered.snpfiltered.ranked.bed'\n",
    ")\n",
    "\n",
    "fwd = pd.read_table(fwd_bed, names=['chrom','start','end','name','score','strand'])\n",
    "rev = pd.read_table(rev_bed, names=['chrom','start','end','name','score','strand'])\n",
    "\n",
    "bed = pd.concat([fwd, rev])\n",
    "\n",
    "df_sufficient_coverage = df[df['depth']>=5]\n",
    "lowly_scored = pd.merge(\n",
    "    df_sufficient_coverage, bed, how='left', \n",
    "    left_on=['chrom','position'], right_on=['chrom','end']\n",
    ")\n",
    "lowly_scored_90 = lowly_scored[lowly_scored['score']>0.9]\n",
    "print(\"Number of sites that did not meet our cutoffs: {}\".format(lowly_scored.dropna().shape[0]))\n",
    "print(\"Number of sites that have greater than 90% confidence: {}\".format(lowly_scored_90.shape[0]))\n",
    "ax = lowly_scored.dropna()['score'].hist(bins=100)\n",
    "ax.set_xlabel('Confidence')\n",
    "ax.set_ylabel('Number of sites')"
   ]
  },
  {
   "cell_type": "markdown",
   "metadata": {},
   "source": [
    "# Of the 10 that did not have a score of over 90, 9 reported editing at less than 10%, 1 reported editing at 100% (could be a SNP)"
   ]
  },
  {
   "cell_type": "code",
   "execution_count": 20,
   "metadata": {},
   "outputs": [
    {
     "data": {
      "text/html": [
       "<div>\n",
       "<table border=\"1\" class=\"dataframe\">\n",
       "  <thead>\n",
       "    <tr style=\"text-align: right;\">\n",
       "      <th></th>\n",
       "      <th>chrom</th>\n",
       "      <th>position</th>\n",
       "      <th>depth</th>\n",
       "      <th>start</th>\n",
       "      <th>end</th>\n",
       "      <th>name</th>\n",
       "      <th>score</th>\n",
       "      <th>strand</th>\n",
       "    </tr>\n",
       "  </thead>\n",
       "  <tbody>\n",
       "    <tr>\n",
       "      <th>1</th>\n",
       "      <td>chrI</td>\n",
       "      <td>2033893</td>\n",
       "      <td>59</td>\n",
       "      <td>2033892.0</td>\n",
       "      <td>2033893.0</td>\n",
       "      <td>58|A&gt;G|0.034482759</td>\n",
       "      <td>0.888578</td>\n",
       "      <td>+</td>\n",
       "    </tr>\n",
       "    <tr>\n",
       "      <th>2</th>\n",
       "      <td>chrI</td>\n",
       "      <td>2033894</td>\n",
       "      <td>58</td>\n",
       "      <td>2033893.0</td>\n",
       "      <td>2033894.0</td>\n",
       "      <td>57|A&gt;G|0.01754386</td>\n",
       "      <td>0.569601</td>\n",
       "      <td>+</td>\n",
       "    </tr>\n",
       "    <tr>\n",
       "      <th>3</th>\n",
       "      <td>chrI</td>\n",
       "      <td>2034071</td>\n",
       "      <td>30</td>\n",
       "      <td>2034070.0</td>\n",
       "      <td>2034071.0</td>\n",
       "      <td>30|A&gt;G|0.033333333</td>\n",
       "      <td>0.747172</td>\n",
       "      <td>+</td>\n",
       "    </tr>\n",
       "    <tr>\n",
       "      <th>23</th>\n",
       "      <td>chrIII</td>\n",
       "      <td>3028198</td>\n",
       "      <td>9</td>\n",
       "      <td>3028197.0</td>\n",
       "      <td>3028198.0</td>\n",
       "      <td>9|T&gt;C|1.0</td>\n",
       "      <td>0.000000</td>\n",
       "      <td>-</td>\n",
       "    </tr>\n",
       "    <tr>\n",
       "      <th>26</th>\n",
       "      <td>chrIII</td>\n",
       "      <td>3028445</td>\n",
       "      <td>12</td>\n",
       "      <td>3028444.0</td>\n",
       "      <td>3028445.0</td>\n",
       "      <td>12|T&gt;C|0.083333333</td>\n",
       "      <td>0.895338</td>\n",
       "      <td>-</td>\n",
       "    </tr>\n",
       "    <tr>\n",
       "      <th>33</th>\n",
       "      <td>chrIII</td>\n",
       "      <td>6701729</td>\n",
       "      <td>26</td>\n",
       "      <td>6701728.0</td>\n",
       "      <td>6701729.0</td>\n",
       "      <td>25|A&gt;G|0.04</td>\n",
       "      <td>0.785678</td>\n",
       "      <td>+</td>\n",
       "    </tr>\n",
       "    <tr>\n",
       "      <th>34</th>\n",
       "      <td>chrIII</td>\n",
       "      <td>6701761</td>\n",
       "      <td>30</td>\n",
       "      <td>6701760.0</td>\n",
       "      <td>6701761.0</td>\n",
       "      <td>29|A&gt;G|0.034482759</td>\n",
       "      <td>0.754719</td>\n",
       "      <td>+</td>\n",
       "    </tr>\n",
       "    <tr>\n",
       "      <th>42</th>\n",
       "      <td>chrV</td>\n",
       "      <td>9556359</td>\n",
       "      <td>63</td>\n",
       "      <td>9556358.0</td>\n",
       "      <td>9556359.0</td>\n",
       "      <td>63|T&gt;C|0.015873016</td>\n",
       "      <td>0.536268</td>\n",
       "      <td>-</td>\n",
       "    </tr>\n",
       "    <tr>\n",
       "      <th>49</th>\n",
       "      <td>chrV</td>\n",
       "      <td>13135916</td>\n",
       "      <td>22</td>\n",
       "      <td>13135915.0</td>\n",
       "      <td>13135916.0</td>\n",
       "      <td>22|T&gt;C|0.045454545</td>\n",
       "      <td>0.809728</td>\n",
       "      <td>-</td>\n",
       "    </tr>\n",
       "    <tr>\n",
       "      <th>52</th>\n",
       "      <td>chrX</td>\n",
       "      <td>16224184</td>\n",
       "      <td>12</td>\n",
       "      <td>16224183.0</td>\n",
       "      <td>16224184.0</td>\n",
       "      <td>12|A&gt;G|0.083333333</td>\n",
       "      <td>0.895338</td>\n",
       "      <td>+</td>\n",
       "    </tr>\n",
       "  </tbody>\n",
       "</table>\n",
       "</div>"
      ],
      "text/plain": [
       "     chrom  position  depth       start         end                name  \\\n",
       "1     chrI   2033893     59   2033892.0   2033893.0  58|A>G|0.034482759   \n",
       "2     chrI   2033894     58   2033893.0   2033894.0   57|A>G|0.01754386   \n",
       "3     chrI   2034071     30   2034070.0   2034071.0  30|A>G|0.033333333   \n",
       "23  chrIII   3028198      9   3028197.0   3028198.0           9|T>C|1.0   \n",
       "26  chrIII   3028445     12   3028444.0   3028445.0  12|T>C|0.083333333   \n",
       "33  chrIII   6701729     26   6701728.0   6701729.0         25|A>G|0.04   \n",
       "34  chrIII   6701761     30   6701760.0   6701761.0  29|A>G|0.034482759   \n",
       "42    chrV   9556359     63   9556358.0   9556359.0  63|T>C|0.015873016   \n",
       "49    chrV  13135916     22  13135915.0  13135916.0  22|T>C|0.045454545   \n",
       "52    chrX  16224184     12  16224183.0  16224184.0  12|A>G|0.083333333   \n",
       "\n",
       "       score strand  \n",
       "1   0.888578      +  \n",
       "2   0.569601      +  \n",
       "3   0.747172      +  \n",
       "23  0.000000      -  \n",
       "26  0.895338      -  \n",
       "33  0.785678      +  \n",
       "34  0.754719      +  \n",
       "42  0.536268      -  \n",
       "49  0.809728      -  \n",
       "52  0.895338      +  "
      ]
     },
     "execution_count": 20,
     "metadata": {},
     "output_type": "execute_result"
    }
   ],
   "source": [
    "lowly_scored.dropna()[lowly_scored.dropna()['score']<0.9]"
   ]
  },
  {
   "cell_type": "markdown",
   "metadata": {},
   "source": [
    "# The rest do not have confidence scores, so either did not see any variants or something else (23 sites did not contain variants of 'high quality' - specified by the DP4 field in the VCF file produced by samtools mpileup)\n",
    "- 34 don't have coverage after read filtering\n",
    "- 30 don't have sufficient confidence score \n",
    "- 23 don't have variant info"
   ]
  },
  {
   "cell_type": "code",
   "execution_count": 21,
   "metadata": {},
   "outputs": [
    {
     "name": "stdout",
     "output_type": "stream",
     "text": [
      "('number of positions potentially non variants', (23, 2))\n"
     ]
    },
    {
     "data": {
      "text/html": [
       "<div>\n",
       "<table border=\"1\" class=\"dataframe\">\n",
       "  <thead>\n",
       "    <tr style=\"text-align: right;\">\n",
       "      <th></th>\n",
       "      <th>chrom</th>\n",
       "      <th>position</th>\n",
       "    </tr>\n",
       "  </thead>\n",
       "  <tbody>\n",
       "    <tr>\n",
       "      <th>6</th>\n",
       "      <td>chrIII</td>\n",
       "      <td>3028098</td>\n",
       "    </tr>\n",
       "    <tr>\n",
       "      <th>7</th>\n",
       "      <td>chrIII</td>\n",
       "      <td>3028125</td>\n",
       "    </tr>\n",
       "    <tr>\n",
       "      <th>8</th>\n",
       "      <td>chrIII</td>\n",
       "      <td>3028130</td>\n",
       "    </tr>\n",
       "    <tr>\n",
       "      <th>9</th>\n",
       "      <td>chrIII</td>\n",
       "      <td>3028141</td>\n",
       "    </tr>\n",
       "    <tr>\n",
       "      <th>10</th>\n",
       "      <td>chrIII</td>\n",
       "      <td>3028147</td>\n",
       "    </tr>\n",
       "  </tbody>\n",
       "</table>\n",
       "</div>"
      ],
      "text/plain": [
       "     chrom  position\n",
       "6   chrIII   3028098\n",
       "7   chrIII   3028125\n",
       "8   chrIII   3028130\n",
       "9   chrIII   3028141\n",
       "10  chrIII   3028147"
      ]
     },
     "execution_count": 21,
     "metadata": {},
     "output_type": "execute_result"
    }
   ],
   "source": [
    "potential_nonvariants = lowly_scored[pd.isnull(lowly_scored).any(axis=1)][['chrom','position']]\n",
    "print(\"number of positions potentially non variants\", potential_nonvariants.shape)\n",
    "potential_nonvariants.head()"
   ]
  },
  {
   "cell_type": "code",
   "execution_count": 22,
   "metadata": {},
   "outputs": [
    {
     "name": "stderr",
     "output_type": "stream",
     "text": [
      "/home/bay001/anaconda2/envs/brian/lib/python2.7/site-packages/ipykernel_launcher.py:11: FutureWarning: currently extract(expand=None) means expand=False (return Index/Series/DataFrame) but in a future version of pandas this will be changed to expand=True (return DataFrame)\n",
      "  # This is added back by InteractiveShellApp.init_path()\n",
      "/home/bay001/anaconda2/envs/brian/lib/python2.7/site-packages/ipykernel_launcher.py:12: FutureWarning: currently extract(expand=None) means expand=False (return Index/Series/DataFrame) but in a future version of pandas this will be changed to expand=True (return DataFrame)\n",
      "  if sys.path[0] == '':\n"
     ]
    },
    {
     "data": {
      "text/html": [
       "<div>\n",
       "<table border=\"1\" class=\"dataframe\">\n",
       "  <thead>\n",
       "    <tr style=\"text-align: right;\">\n",
       "      <th></th>\n",
       "      <th>chrom</th>\n",
       "      <th>position</th>\n",
       "      <th>id</th>\n",
       "      <th>ref</th>\n",
       "      <th>alt</th>\n",
       "      <th>qual</th>\n",
       "      <th>filter</th>\n",
       "      <th>info</th>\n",
       "      <th>format</th>\n",
       "      <th>baz</th>\n",
       "      <th>dp4</th>\n",
       "    </tr>\n",
       "  </thead>\n",
       "  <tbody>\n",
       "    <tr>\n",
       "      <th>0</th>\n",
       "      <td>chrI</td>\n",
       "      <td>9229</td>\n",
       "      <td>.</td>\n",
       "      <td>A</td>\n",
       "      <td>G</td>\n",
       "      <td>4.6171</td>\n",
       "      <td>.</td>\n",
       "      <td>DP=2;DPR=0,2;VDB=0.06;SGB=-0.453602;MQ0F=0;AF1...</td>\n",
       "      <td>GT:PL:DP:DV:SP:DP4:DPR</td>\n",
       "      <td>0/0:36,6,0:2:2:0:0,0,0,2:0,2</td>\n",
       "      <td>0,0,0,2</td>\n",
       "    </tr>\n",
       "    <tr>\n",
       "      <th>1</th>\n",
       "      <td>chrI</td>\n",
       "      <td>9461</td>\n",
       "      <td>.</td>\n",
       "      <td>A</td>\n",
       "      <td>G</td>\n",
       "      <td>17.6055</td>\n",
       "      <td>.</td>\n",
       "      <td>DP=1;DPR=0,1;SGB=-0.379885;MQ0F=0;AF1=1;AC1=2;...</td>\n",
       "      <td>GT:PL:DP:DV:SP:DP4:DPR</td>\n",
       "      <td>0/0:20,3,0:1:1:0:0,0,0,1:0,1</td>\n",
       "      <td>0,0,0,1</td>\n",
       "    </tr>\n",
       "    <tr>\n",
       "      <th>2</th>\n",
       "      <td>chrI</td>\n",
       "      <td>9510</td>\n",
       "      <td>.</td>\n",
       "      <td>C</td>\n",
       "      <td>T</td>\n",
       "      <td>17.6055</td>\n",
       "      <td>.</td>\n",
       "      <td>DP=1;DPR=0,1;SGB=-0.379885;MQ0F=0;AF1=1;AC1=2;...</td>\n",
       "      <td>GT:PL:DP:DV:SP:DP4:DPR</td>\n",
       "      <td>0/0:20,3,0:1:1:0:0,0,0,1:0,1</td>\n",
       "      <td>0,0,0,1</td>\n",
       "    </tr>\n",
       "    <tr>\n",
       "      <th>3</th>\n",
       "      <td>chrI</td>\n",
       "      <td>11643</td>\n",
       "      <td>.</td>\n",
       "      <td>G</td>\n",
       "      <td>T</td>\n",
       "      <td>140.5470</td>\n",
       "      <td>.</td>\n",
       "      <td>DP=111;DPR=110,1;SGB=-0.379885;RPB=1;MQB=1;BQB...</td>\n",
       "      <td>GT:PL:DP:DV:SP:DP4:DPR</td>\n",
       "      <td>0/0:0,255,100:111:1:0:0,110,0,1:110,1</td>\n",
       "      <td>0,110,0,1</td>\n",
       "    </tr>\n",
       "    <tr>\n",
       "      <th>4</th>\n",
       "      <td>chrI</td>\n",
       "      <td>11689</td>\n",
       "      <td>.</td>\n",
       "      <td>G</td>\n",
       "      <td>A</td>\n",
       "      <td>139.5460</td>\n",
       "      <td>.</td>\n",
       "      <td>DP=110;DPR=109,1;SGB=-0.379885;RPB=1;MQB=1;BQB...</td>\n",
       "      <td>GT:PL:DP:DV:SP:DP4:DPR</td>\n",
       "      <td>0/0:0,255,99:110:1:0:0,109,0,1:109,1</td>\n",
       "      <td>0,109,0,1</td>\n",
       "    </tr>\n",
       "  </tbody>\n",
       "</table>\n",
       "</div>"
      ],
      "text/plain": [
       "  chrom  position id ref alt      qual filter  \\\n",
       "0  chrI      9229  .   A   G    4.6171      .   \n",
       "1  chrI      9461  .   A   G   17.6055      .   \n",
       "2  chrI      9510  .   C   T   17.6055      .   \n",
       "3  chrI     11643  .   G   T  140.5470      .   \n",
       "4  chrI     11689  .   G   A  139.5460      .   \n",
       "\n",
       "                                                info                  format  \\\n",
       "0  DP=2;DPR=0,2;VDB=0.06;SGB=-0.453602;MQ0F=0;AF1...  GT:PL:DP:DV:SP:DP4:DPR   \n",
       "1  DP=1;DPR=0,1;SGB=-0.379885;MQ0F=0;AF1=1;AC1=2;...  GT:PL:DP:DV:SP:DP4:DPR   \n",
       "2  DP=1;DPR=0,1;SGB=-0.379885;MQ0F=0;AF1=1;AC1=2;...  GT:PL:DP:DV:SP:DP4:DPR   \n",
       "3  DP=111;DPR=110,1;SGB=-0.379885;RPB=1;MQB=1;BQB...  GT:PL:DP:DV:SP:DP4:DPR   \n",
       "4  DP=110;DPR=109,1;SGB=-0.379885;RPB=1;MQB=1;BQB...  GT:PL:DP:DV:SP:DP4:DPR   \n",
       "\n",
       "                                     baz        dp4  \n",
       "0           0/0:36,6,0:2:2:0:0,0,0,2:0,2    0,0,0,2  \n",
       "1           0/0:20,3,0:1:1:0:0,0,0,1:0,1    0,0,0,1  \n",
       "2           0/0:20,3,0:1:1:0:0,0,0,1:0,1    0,0,0,1  \n",
       "3  0/0:0,255,100:111:1:0:0,110,0,1:110,1  0,110,0,1  \n",
       "4   0/0:0,255,99:110:1:0:0,109,0,1:109,1  0,109,0,1  "
      ]
     },
     "execution_count": 22,
     "metadata": {},
     "output_type": "execute_result"
    }
   ],
   "source": [
    "vcf_fwd = pd.read_table(\n",
    "    os.path.join(editing_calls_dir, 'WT.fwd.sorted.rmdup.readfiltered.formatted.vcf'), \n",
    "    comment='#',\n",
    "    names=['chrom','position','id','ref','alt','qual','filter','info','format','baz']\n",
    ")\n",
    "vcf_rev = pd.read_table(\n",
    "    os.path.join(editing_calls_dir, 'WT.rev.sorted.rmdup.readfiltered.formatted.vcf'), \n",
    "    comment='#',\n",
    "    names=['chrom','position','id','ref','alt','qual','filter','info','format','baz']\n",
    ")\n",
    "vcf_fwd['dp4'] = vcf_fwd['info'].str.extract(\"DP4=([\\d,]+);\")\n",
    "vcf_rev['dp4'] = vcf_rev['info'].str.extract(\"DP4=([\\d,]+);\")\n",
    "\n",
    "vcf = pd.concat([vcf_fwd, vcf_rev])\n",
    "vcf.head()"
   ]
  },
  {
   "cell_type": "code",
   "execution_count": 23,
   "metadata": {},
   "outputs": [
    {
     "data": {
      "text/html": [
       "<div>\n",
       "<table border=\"1\" class=\"dataframe\">\n",
       "  <thead>\n",
       "    <tr style=\"text-align: right;\">\n",
       "      <th></th>\n",
       "      <th>chrom</th>\n",
       "      <th>position</th>\n",
       "      <th>id</th>\n",
       "      <th>ref</th>\n",
       "      <th>alt</th>\n",
       "      <th>qual</th>\n",
       "      <th>filter</th>\n",
       "      <th>info</th>\n",
       "      <th>format</th>\n",
       "      <th>baz</th>\n",
       "      <th>dp4</th>\n",
       "    </tr>\n",
       "  </thead>\n",
       "  <tbody>\n",
       "  </tbody>\n",
       "</table>\n",
       "</div>"
      ],
      "text/plain": [
       "Empty DataFrame\n",
       "Columns: [chrom, position, id, ref, alt, qual, filter, info, format, baz, dp4]\n",
       "Index: []"
      ]
     },
     "execution_count": 23,
     "metadata": {},
     "output_type": "execute_result"
    }
   ],
   "source": [
    "# intersection between variants found and positions yields empty dataframe\n",
    "pd.merge(potential_nonvariants, vcf, how='left', on=['chrom','position']).dropna()"
   ]
  },
  {
   "cell_type": "markdown",
   "metadata": {},
   "source": [
    "# Of the 87 uncalled sites: 34 did not have sufficient coverage, 30 did not have a high enough score, 23 did not see variants"
   ]
  },
  {
   "cell_type": "code",
   "execution_count": 24,
   "metadata": {},
   "outputs": [
    {
     "data": {
      "image/png": "[encoded data removed]",
      "text/plain": [
       "<matplotlib.figure.Figure at 0x2b3a07629e50>"
      ]
     },
     "metadata": {},
     "output_type": "display_data"
    }
   ],
   "source": [
    "# Pie chart, where the slices will be ordered and plotted counter-clockwise:\n",
    "labels = ['Coverage < 5','Confidence < 0.99','No variant reads']\n",
    "sizes = [34,30,23]\n",
    "\n",
    "fig1, ax1 = plt.subplots()\n",
    "ax1.pie(sizes, labels=labels, autopct='%1.1f%%',\n",
    "        shadow=True, startangle=90)\n",
    "ax1.axis('equal')  # Equal aspect ratio ensures that pie is drawn as a circle.\n",
    "plt.suptitle(\"Breakdown of 87 editing sites uncalled by SAILOR\")\n",
    "plt.show()"
   ]
  },
  {
   "cell_type": "code",
   "execution_count": null,
   "metadata": {
    "collapsed": true
   },
   "outputs": [],
   "source": []
  }
 ],
 "metadata": {
  "kernelspec": {
   "display_name": "Python 2",
   "language": "python",
   "name": "python2"
  },
  "language_info": {
   "codemirror_mode": {
    "name": "ipython",
    "version": 2
   },
   "file_extension": ".py",
   "mimetype": "text/x-python",
   "name": "python",
   "nbconvert_exporter": "python",
   "pygments_lexer": "ipython2",
   "version": "2.7.13"
  }
 },
 "nbformat": 4,
 "nbformat_minor": 2
}
