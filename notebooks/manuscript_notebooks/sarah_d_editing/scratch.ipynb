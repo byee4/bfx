{
 "cells": [
  {
   "cell_type": "code",
   "execution_count": 31,
   "metadata": {
    "collapsed": true
   },
   "outputs": [],
   "source": [
    "import pandas as pd\n",
    "pd.options.display.max_rows = 999\n"
   ]
  },
  {
   "cell_type": "code",
   "execution_count": 40,
   "metadata": {},
   "outputs": [
    {
     "name": "stdout",
     "output_type": "stream",
     "text": [
      "(7362, 8)\n"
     ]
    },
    {
     "data": {
      "text/html": [
       "<div>\n",
       "<table border=\"1\" class=\"dataframe\">\n",
       "  <thead>\n",
       "    <tr style=\"text-align: right;\">\n",
       "      <th></th>\n",
       "      <th>chrom</th>\n",
       "      <th>start</th>\n",
       "      <th>stop</th>\n",
       "      <th>name</th>\n",
       "      <th>score</th>\n",
       "      <th>strand</th>\n",
       "      <th>priority</th>\n",
       "      <th>annotation</th>\n",
       "    </tr>\n",
       "  </thead>\n",
       "  <tbody>\n",
       "    <tr>\n",
       "      <th>0</th>\n",
       "      <td>chrI</td>\n",
       "      <td>454105</td>\n",
       "      <td>454106</td>\n",
       "      <td>5|A&gt;G|0.8</td>\n",
       "      <td>1.000000</td>\n",
       "      <td>+</td>\n",
       "      <td>C07F11.1:451462:455355:+:intron:WBGene00006593...</td>\n",
       "      <td>C07F11.1:443999:461605:+:transcript:WBGene0000...</td>\n",
       "    </tr>\n",
       "    <tr>\n",
       "      <th>1</th>\n",
       "      <td>chrI</td>\n",
       "      <td>454110</td>\n",
       "      <td>454111</td>\n",
       "      <td>5|A&gt;G|0.4</td>\n",
       "      <td>0.999408</td>\n",
       "      <td>+</td>\n",
       "      <td>C07F11.1:451462:455355:+:intron:WBGene00006593...</td>\n",
       "      <td>C07F11.1:443999:461605:+:transcript:WBGene0000...</td>\n",
       "    </tr>\n",
       "    <tr>\n",
       "      <th>2</th>\n",
       "      <td>chrI</td>\n",
       "      <td>454112</td>\n",
       "      <td>454113</td>\n",
       "      <td>5|A&gt;G|0.6</td>\n",
       "      <td>0.999996</td>\n",
       "      <td>+</td>\n",
       "      <td>C07F11.1:451462:455355:+:intron:WBGene00006593...</td>\n",
       "      <td>C07F11.1:443999:461605:+:transcript:WBGene0000...</td>\n",
       "    </tr>\n",
       "    <tr>\n",
       "      <th>3</th>\n",
       "      <td>chrI</td>\n",
       "      <td>454117</td>\n",
       "      <td>454118</td>\n",
       "      <td>5|A&gt;G|0.6</td>\n",
       "      <td>0.999996</td>\n",
       "      <td>+</td>\n",
       "      <td>C07F11.1:451462:455355:+:intron:WBGene00006593...</td>\n",
       "      <td>C07F11.1:443999:461605:+:transcript:WBGene0000...</td>\n",
       "    </tr>\n",
       "    <tr>\n",
       "      <th>4</th>\n",
       "      <td>chrI</td>\n",
       "      <td>454329</td>\n",
       "      <td>454330</td>\n",
       "      <td>5|A&gt;G|0.4</td>\n",
       "      <td>0.999408</td>\n",
       "      <td>+</td>\n",
       "      <td>C07F11.1:451462:455355:+:intron:WBGene00006593...</td>\n",
       "      <td>C07F11.1:443999:461605:+:transcript:WBGene0000...</td>\n",
       "    </tr>\n",
       "  </tbody>\n",
       "</table>\n",
       "</div>"
      ],
      "text/plain": [
       "  chrom   start    stop       name     score strand  \\\n",
       "0  chrI  454105  454106  5|A>G|0.8  1.000000      +   \n",
       "1  chrI  454110  454111  5|A>G|0.4  0.999408      +   \n",
       "2  chrI  454112  454113  5|A>G|0.6  0.999996      +   \n",
       "3  chrI  454117  454118  5|A>G|0.6  0.999996      +   \n",
       "4  chrI  454329  454330  5|A>G|0.4  0.999408      +   \n",
       "\n",
       "                                            priority  \\\n",
       "0  C07F11.1:451462:455355:+:intron:WBGene00006593...   \n",
       "1  C07F11.1:451462:455355:+:intron:WBGene00006593...   \n",
       "2  C07F11.1:451462:455355:+:intron:WBGene00006593...   \n",
       "3  C07F11.1:451462:455355:+:intron:WBGene00006593...   \n",
       "4  C07F11.1:451462:455355:+:intron:WBGene00006593...   \n",
       "\n",
       "                                          annotation  \n",
       "0  C07F11.1:443999:461605:+:transcript:WBGene0000...  \n",
       "1  C07F11.1:443999:461605:+:transcript:WBGene0000...  \n",
       "2  C07F11.1:443999:461605:+:transcript:WBGene0000...  \n",
       "3  C07F11.1:443999:461605:+:transcript:WBGene0000...  \n",
       "4  C07F11.1:443999:461605:+:transcript:WBGene0000...  "
      ]
     },
     "execution_count": 40,
     "metadata": {},
     "output_type": "execute_result"
    }
   ],
   "source": [
    "ud = pd.read_table(\n",
    "    '/projects/ps-yeolab3/bay001/hundley_rnae_20160210/analysis/editor_response_minor_1/ws257/filtered.bed.annotated',\n",
    "    names=['chrom','start','stop','name','score','strand','priority','annotation']\n",
    ")\n",
    "print(ud.shape)\n",
    "ud.head()"
   ]
  },
  {
   "cell_type": "code",
   "execution_count": 33,
   "metadata": {
    "collapsed": true
   },
   "outputs": [],
   "source": [
    "ud = ud[ud['priority']!='INTERGENIC']"
   ]
  },
  {
   "cell_type": "code",
   "execution_count": 34,
   "metadata": {},
   "outputs": [
    {
     "name": "stdout",
     "output_type": "stream",
     "text": [
      "(6819, 8)\n"
     ]
    }
   ],
   "source": [
    "print(ud.shape)"
   ]
  },
  {
   "cell_type": "code",
   "execution_count": 38,
   "metadata": {},
   "outputs": [
    {
     "data": {
      "text/html": [
       "<div>\n",
       "<table border=\"1\" class=\"dataframe\">\n",
       "  <thead>\n",
       "    <tr style=\"text-align: right;\">\n",
       "      <th></th>\n",
       "      <th>chrom</th>\n",
       "      <th>start</th>\n",
       "      <th>stop</th>\n",
       "      <th>name</th>\n",
       "      <th>score</th>\n",
       "      <th>strand</th>\n",
       "      <th>priority</th>\n",
       "      <th>annotation</th>\n",
       "      <th>region</th>\n",
       "      <th>cov</th>\n",
       "      <th>gene</th>\n",
       "    </tr>\n",
       "  </thead>\n",
       "  <tbody>\n",
       "  </tbody>\n",
       "</table>\n",
       "</div>"
      ],
      "text/plain": [
       "Empty DataFrame\n",
       "Columns: [chrom, start, stop, name, score, strand, priority, annotation, region, cov, gene]\n",
       "Index: []"
      ]
     },
     "execution_count": 38,
     "metadata": {},
     "output_type": "execute_result"
    }
   ],
   "source": [
    "ud['region'] = ud['priority'].apply(lambda x: x.split(':')[4])\n",
    "ud['gene'] = ud['priority'].apply(lambda x: x.split(':')[0])\n",
    "ud['cov'] = ud['name'].apply(lambda x: int(x.split('|')[0]))\n",
    "ud[(ud['region']=='downstream_gene') & (ud['gene']=='T08H4.1c')]"
   ]
  },
  {
   "cell_type": "code",
   "execution_count": null,
   "metadata": {
    "collapsed": true
   },
   "outputs": [],
   "source": []
  }
 ],
 "metadata": {
  "kernelspec": {
   "display_name": "Python 2",
   "language": "python",
   "name": "python2"
  },
  "language_info": {
   "codemirror_mode": {
    "name": "ipython",
    "version": 2
   },
   "file_extension": ".py",
   "mimetype": "text/x-python",
   "name": "python",
   "nbconvert_exporter": "python",
   "pygments_lexer": "ipython2",
   "version": "2.7.13"
  }
 },
 "nbformat": 4,
 "nbformat_minor": 2
}
