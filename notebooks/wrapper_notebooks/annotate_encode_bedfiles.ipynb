{
 "cells": [
  {
   "cell_type": "code",
   "execution_count": 18,
   "metadata": {
    "collapsed": true
   },
   "outputs": [],
   "source": [
    "import pandas as pd\n",
    "import os\n",
    "import glob\n",
    "from qtools import Submitter"
   ]
  },
  {
   "cell_type": "code",
   "execution_count": 19,
   "metadata": {},
   "outputs": [
    {
     "data": {
      "text/plain": [
       "12"
      ]
     },
     "execution_count": 19,
     "metadata": {},
     "output_type": "execute_result"
    }
   ],
   "source": [
    "cmds = []\n",
    "gtf = '/projects/ps-yeolab/genomes/hg19/gencode_v19/gencode.v19.annotation.gtf.db'\n",
    "all_beds = glob.glob('/home/bay001/projects/encode/analysis/conservation_analysis/idr_peaks/*merged.bed')\n",
    "for bed in all_beds:\n",
    "    if not os.path.exists(bed.replace('merged.bed','merged.annotated.bed')):\n",
    "        cmd = 'python /home/bay001/projects/codebase/annotator/annotate.py'\n",
    "        cmd = cmd + ' --input {}'.format(bed)\n",
    "        cmd = cmd + ' --output {}'.format(bed.replace('.bed','.annotated.bed'))\n",
    "        cmd = cmd + ' --gtfdb {}'.format(gtf)\n",
    "        cmds.append(cmd)\n",
    "len(cmds)"
   ]
  },
  {
   "cell_type": "code",
   "execution_count": 17,
   "metadata": {},
   "outputs": [
    {
     "name": "stderr",
     "output_type": "stream",
     "text": [
      "Writing 12 tasks as an array-job.\n",
      "Wrote commands to /home/bay001/projects/encode/analysis/conservation_analysis/bash_scripts/annotate.sh.\n",
      "Submitted script to queue home.\n",
      " Job ID: 8867242\n"
     ]
    },
    {
     "data": {
      "text/plain": [
       "<qtools.submitter.Submitter at 0x2ade2a09ae50>"
      ]
     },
     "execution_count": 17,
     "metadata": {},
     "output_type": "execute_result"
    }
   ],
   "source": [
    "sh_file = '/home/bay001/projects/encode/analysis/conservation_analysis/bash_scripts/annotate.sh'\n",
    "job_name = 'annotate_idr'\n",
    "Submitter(cmds, job_name, sh=sh_file, submit=True, array=True)"
   ]
  },
  {
   "cell_type": "code",
   "execution_count": null,
   "metadata": {
    "collapsed": true
   },
   "outputs": [],
   "source": []
  }
 ],
 "metadata": {
  "kernelspec": {
   "display_name": "Python 2",
   "language": "python",
   "name": "python2"
  },
  "language_info": {
   "codemirror_mode": {
    "name": "ipython",
    "version": 2
   },
   "file_extension": ".py",
   "mimetype": "text/x-python",
   "name": "python",
   "nbconvert_exporter": "python",
   "pygments_lexer": "ipython2",
   "version": "2.7.13"
  }
 },
 "nbformat": 4,
 "nbformat_minor": 2
}
