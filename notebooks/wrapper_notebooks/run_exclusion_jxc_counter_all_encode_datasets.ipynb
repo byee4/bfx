{
 "cells": [
  {
   "cell_type": "markdown",
   "metadata": {},
   "source": [
    "# create a bash script that will run through all of the bams and count atac intron junctions"
   ]
  },
  {
   "cell_type": "code",
   "execution_count": 13,
   "metadata": {
    "collapsed": true
   },
   "outputs": [],
   "source": [
    "import glob\n",
    "import os"
   ]
  },
  {
   "cell_type": "code",
   "execution_count": 14,
   "metadata": {},
   "outputs": [
    {
     "data": {
      "text/plain": [
       "1006"
      ]
     },
     "execution_count": 14,
     "metadata": {},
     "output_type": "execute_result"
    }
   ],
   "source": [
    "jxn_list_file = '/home/bay001/projects/codebase/junction-counter/data/jxnlist.txt'\n",
    "out_dir = '/home/bay001/projects/encode/analysis/tests/eric_jxc_tests/all_jxc/'\n",
    "bam_loc = '/projects/ps-yeolab3/encode/rnaseq/shrna_knockdown_graveley_tophat/'\n",
    "bams = glob.glob(os.path.join(bam_loc, '*.bam'))\n",
    "\n",
    "len(bams)"
   ]
  },
  {
   "cell_type": "code",
   "execution_count": 18,
   "metadata": {
    "collapsed": true
   },
   "outputs": [],
   "source": [
    "cmds = []\n",
    "for bam in bams:\n",
    "    out_file = os.path.join(out_dir, '{}.jxc'.format(os.path.basename(bam)))\n",
    "    if not os.path.exists(out_file):\n",
    "        cmd = 'python /home/bay001/projects/codebase/stable/junction-counter/junction_counter/count_junctions.py '\n",
    "        cmd = cmd + '--jxn_file {} '.format(jxn_list_file)\n",
    "        cmd = cmd + '--outfile {} '.format(out_file)\n",
    "        cmd = cmd + '--min_overlap 10 '\n",
    "        cmd = cmd + '--bam {}'.format(bam)\n",
    "        cmds.append(cmd)"
   ]
  },
  {
   "cell_type": "code",
   "execution_count": 19,
   "metadata": {
    "collapsed": true
   },
   "outputs": [],
   "source": [
    "o = open('/home/bay001/projects/encode/analysis/tests/eric_jxc_tests/run_all_jxc.sh', 'w') \n",
    "o.write('#!/bin/bash\\n')\n",
    "for cmd in cmds:\n",
    "    o.write(cmd + '\\n')\n",
    "o.close()"
   ]
  },
  {
   "cell_type": "code",
   "execution_count": 17,
   "metadata": {},
   "outputs": [
    {
     "ename": "SyntaxError",
     "evalue": "invalid syntax (<ipython-input-17-de5de782d031>, line 1)",
     "output_type": "error",
     "traceback": [
      "\u001b[0;36m  File \u001b[0;32m\"<ipython-input-17-de5de782d031>\"\u001b[0;36m, line \u001b[0;32m1\u001b[0m\n\u001b[0;31m    projects(/ps-yeolab3/encode/rnaseq/shrna_knockdown_graveley_tophat/ENCFF819AEP.bam)\u001b[0m\n\u001b[0m             ^\u001b[0m\n\u001b[0;31mSyntaxError\u001b[0m\u001b[0;31m:\u001b[0m invalid syntax\n"
     ]
    }
   ],
   "source": [
    "/projects/ps-yeolab3/encode/rnaseq/shrna_knockdown_graveley_tophat/ENCFF819AEP.bam"
   ]
  }
 ],
 "metadata": {
  "kernelspec": {
   "display_name": "Python 2",
   "language": "python",
   "name": "python2"
  },
  "language_info": {
   "codemirror_mode": {
    "name": "ipython",
    "version": 2
   },
   "file_extension": ".py",
   "mimetype": "text/x-python",
   "name": "python",
   "nbconvert_exporter": "python",
   "pygments_lexer": "ipython2",
   "version": "2.7.13"
  }
 },
 "nbformat": 4,
 "nbformat_minor": 2
}
