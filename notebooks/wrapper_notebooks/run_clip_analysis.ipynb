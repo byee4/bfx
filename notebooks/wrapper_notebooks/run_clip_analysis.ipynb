{
 "cells": [
  {
   "cell_type": "code",
   "execution_count": 1,
   "metadata": {
    "collapsed": true
   },
   "outputs": [],
   "source": [
    "import pandas as pd\n",
    "import os\n",
    "import glob"
   ]
  },
  {
   "cell_type": "code",
   "execution_count": 4,
   "metadata": {
    "collapsed": false
   },
   "outputs": [],
   "source": [
    "wd = '/oasis/tscc/scratch/shsathe/projects/Leo_RBPMS_eCLIP/v2/analysis_v2/input_normalization/'\n",
    "output_folder = '/oasis/tscc/scratch/shsathe/projects/Leo_RBPMS_eCLIP/v2/analysis_v2/input_normalization/clip_analysis/'\n",
    "\n",
    "bams = glob.glob(os.path.join(wd,'*.r2.bam'))\n",
    "beds = glob.glob(os.path.join(wd,'*filtered'))"
   ]
  },
  {
   "cell_type": "code",
   "execution_count": 5,
   "metadata": {
    "collapsed": false
   },
   "outputs": [
    {
     "data": {
      "text/plain": [
       "['/oasis/tscc/scratch/shsathe/projects/Leo_RBPMS_eCLIP/v2/analysis_v2/input_normalization/ms1_stress_r1_v2_01.basedon_ms1_stress_r1_v2_01.peaks.l2inputnormnew.bed.compressed.bed.annotated.filtered',\n",
       " '/oasis/tscc/scratch/shsathe/projects/Leo_RBPMS_eCLIP/v2/analysis_v2/input_normalization/ms1_ctrl_r2_01.basedon_ms1_ctrl_r2_01.peaks.l2inputnormnew.bed.compressed.bed.annotated.filtered',\n",
       " '/oasis/tscc/scratch/shsathe/projects/Leo_RBPMS_eCLIP/v2/analysis_v2/input_normalization/ms2_stress_r1_v2_01.basedon_ms2_stress_r1_v2_01.peaks.l2inputnormnew.bed.compressed.bed.annotated.filtered',\n",
       " '/oasis/tscc/scratch/shsathe/projects/Leo_RBPMS_eCLIP/v2/analysis_v2/input_normalization/ms2_ctrl_r1_01.basedon_ms2_ctrl_r1_01.peaks.l2inputnormnew.bed.compressed.bed.annotated.filtered',\n",
       " '/oasis/tscc/scratch/shsathe/projects/Leo_RBPMS_eCLIP/v2/analysis_v2/input_normalization/ms1_ctrl_r1_01.basedon_ms1_ctrl_r1_01.peaks.l2inputnormnew.bed.compressed.bed.annotated.filtered',\n",
       " '/oasis/tscc/scratch/shsathe/projects/Leo_RBPMS_eCLIP/v2/analysis_v2/input_normalization/ms2_stress_r1_01.basedon_ms2_stress_r1_v2_01.peaks.l2inputnormnew.bed.compressed.bed.annotated.filtered',\n",
       " '/oasis/tscc/scratch/shsathe/projects/Leo_RBPMS_eCLIP/v2/analysis_v2/input_normalization/ms2_ctrl_r2_01.basedon_ms2_ctrl_r2_01.peaks.l2inputnormnew.bed.compressed.bed.annotated.filtered',\n",
       " '/oasis/tscc/scratch/shsathe/projects/Leo_RBPMS_eCLIP/v2/analysis_v2/input_normalization/ms1_stress_r1_01.basedon_ms1_stress_r1_v2_01.peaks.l2inputnormnew.bed.compressed.bed.annotated.filtered']"
      ]
     },
     "execution_count": 5,
     "metadata": {},
     "output_type": "execute_result"
    }
   ],
   "source": [
    "beds"
   ]
  },
  {
   "cell_type": "code",
   "execution_count": 6,
   "metadata": {
    "collapsed": false
   },
   "outputs": [
    {
     "data": {
      "text/plain": [
       "['/oasis/tscc/scratch/shsathe/projects/Leo_RBPMS_eCLIP/v2/analysis_v2/input_normalization/RBPMS1_CONTROL_CLIP_R2_S4_MS1.merged.r2.bam',\n",
       " '/oasis/tscc/scratch/shsathe/projects/Leo_RBPMS_eCLIP/v2/analysis_v2/input_normalization/RBPMS1_STRESSED_CLIP_R1_S6_MS1.merged.r2.bam',\n",
       " '/oasis/tscc/scratch/shsathe/projects/Leo_RBPMS_eCLIP/v2/analysis_v2/input_normalization/RBPMS2_CONTROL_CLIP_R1_S9_MS2.merged.r2.bam',\n",
       " '/oasis/tscc/scratch/shsathe/projects/Leo_RBPMS_eCLIP/v2/analysis_v2/input_normalization/RBPMS1_CONTROL_INPUT_R1_S1_L001_R1_001.unassigned.adapterTrim.round2.rmRep.rmDup.sorted.r2.bam',\n",
       " '/oasis/tscc/scratch/shsathe/projects/Leo_RBPMS_eCLIP/v2/analysis_v2/input_normalization/RBPMS1_STRESSED_INPUT_R1_S5_L001_R1_001.unassigned.adapterTrim.round2.rmRep.rmDup.sorted.r2.bam',\n",
       " '/oasis/tscc/scratch/shsathe/projects/Leo_RBPMS_eCLIP/v2/analysis_v2/input_normalization/RBPMS2_STRESSED_CLIP_R1_S13_MS2.merged.r2.bam',\n",
       " '/oasis/tscc/scratch/shsathe/projects/Leo_RBPMS_eCLIP/v2/analysis_v2/input_normalization/RBPMS2_CONTROL_INPUT_R2_S10_L001_R1_001.unassigned.adapterTrim.round2.rmRep.rmDup.sorted.r2.bam',\n",
       " '/oasis/tscc/scratch/shsathe/projects/Leo_RBPMS_eCLIP/v2/analysis_v2/input_normalization/RBPMS1_CONTROL_INPUT_R2_S3_L001_R1_001.unassigned.adapterTrim.round2.rmRep.rmDup.sorted.r2.bam',\n",
       " '/oasis/tscc/scratch/shsathe/projects/Leo_RBPMS_eCLIP/v2/analysis_v2/input_normalization/RBPMS1_STRESSED_INPUT_R2_S7_L001_R1_001.unassigned.adapterTrim.round2.rmRep.rmDup.sorted.r2.bam',\n",
       " '/oasis/tscc/scratch/shsathe/projects/Leo_RBPMS_eCLIP/v2/analysis_v2/input_normalization/RBPMS2_CONTROL_INPUT_R1_S8_L001_R1_001.unassigned.adapterTrim.round2.rmRep.rmDup.sorted.r2.bam',\n",
       " '/oasis/tscc/scratch/shsathe/projects/Leo_RBPMS_eCLIP/v2/analysis_v2/input_normalization/RBPMS2_CONTROL_CLIP_R2_S11_MS2.merged.r2.bam',\n",
       " '/oasis/tscc/scratch/shsathe/projects/Leo_RBPMS_eCLIP/v2/analysis_v2/input_normalization/RBPMS1_CONTROL_CLIP_R1_S2_MS1.merged.r2.bam']"
      ]
     },
     "execution_count": 6,
     "metadata": {},
     "output_type": "execute_result"
    }
   ],
   "source": [
    "bams"
   ]
  },
  {
   "cell_type": "code",
   "execution_count": null,
   "metadata": {
    "collapsed": true
   },
   "outputs": [],
   "source": []
  }
 ],
 "metadata": {
  "kernelspec": {
   "display_name": "Python 2",
   "language": "python",
   "name": "python2"
  },
  "language_info": {
   "codemirror_mode": {
    "name": "ipython",
    "version": 2
   },
   "file_extension": ".py",
   "mimetype": "text/x-python",
   "name": "python",
   "nbconvert_exporter": "python",
   "pygments_lexer": "ipython2",
   "version": "2.7.12"
  }
 },
 "nbformat": 4,
 "nbformat_minor": 1
}
