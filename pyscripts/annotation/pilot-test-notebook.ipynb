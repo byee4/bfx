{
 "cells": [
  {
   "cell_type": "code",
   "execution_count": 1,
   "metadata": {
    "collapsed": true
   },
   "outputs": [],
   "source": [
    "import Annotator\n",
    "import gff_helpers\n",
    "import gffutils\n",
    "import region_helpers as r\n",
    "import pybedtools\n",
    "import os\n",
    "from tqdm import tnrange, tqdm_notebook"
   ]
  },
  {
   "cell_type": "code",
   "execution_count": 2,
   "metadata": {
    "collapsed": true
   },
   "outputs": [],
   "source": [
    "db_file = '/projects/ps-yeolab/genomes/hg19/gencode_v19/gencode.v19.annotation.gtf.db'\n",
    "# db_file = '/projects/ps-yeolab3/bay001/annotations/gencode.vM10.annotation.db'"
   ]
  },
  {
   "cell_type": "code",
   "execution_count": 3,
   "metadata": {},
   "outputs": [
    {
     "name": "stderr",
     "output_type": "stream",
     "text": [
      "                                                                   \r"
     ]
    }
   ],
   "source": [
    "a = Annotator.Annotator(db_file, chroms=['chr7'])"
   ]
  },
  {
   "cell_type": "code",
   "execution_count": 4,
   "metadata": {
    "collapsed": true
   },
   "outputs": [],
   "source": [
    "d = '/home/bay001/projects/codebase/bfx/pyscripts/data/'\n",
    "bed = pybedtools.BedTool(os.path.join(d,'WTV5_02_01.basedon_WTV5_02_01.peaks.l2inputnormnew.bed.compressed.chr7.bed'))"
   ]
  },
  {
   "cell_type": "code",
   "execution_count": null,
   "metadata": {
    "collapsed": true
   },
   "outputs": [],
   "source": []
  },
  {
   "cell_type": "code",
   "execution_count": 7,
   "metadata": {},
   "outputs": [
    {
     "name": "stderr",
     "output_type": "stream",
     "text": [
      "Widget Javascript not detected.  It may not be installed or enabled properly.\n"
     ]
    },
    {
     "data": {
      "application/vnd.jupyter.widget-view+json": {
       "model_id": "0ca2b82686d1465ba53bc63ab857a4ca"
      }
     },
     "metadata": {},
     "output_type": "display_data"
    },
    {
     "name": "stdout",
     "output_type": "stream",
     "text": [
      "\n",
      "65440963\n",
      "ENSG00000169919.12\n",
      "('UTR', ['ENST00000446111.1'], ['ENSG00000169919.12'], 65440839, 65441189)\n",
      "('gene', ['ENSG00000169919.12'], ['ENSG00000169919.12'], 65425671, 65447301)\n",
      "('exon', ['ENST00000466883.1'], ['ENSG00000169919.12'], 65439282, 65441147)\n",
      "('exon', ['ENST00000446111.1'], ['ENSG00000169919.12'], 65440839, 65441189)\n",
      "('transcript', ['ENST00000304895.4'], ['ENSG00000169919.12'], 65425671, 65447301)\n",
      "('transcript', ['ENST00000466883.1'], ['ENSG00000169919.12'], 65425675, 65441147)\n",
      "('transcript', ['ENST00000447929.1'], ['ENSG00000169919.12'], 65425685, 65447183)\n",
      "('transcript', ['ENST00000430730.1'], ['ENSG00000169919.12'], 65425685, 65447202)\n",
      "('transcript', ['ENST00000421103.1'], ['ENSG00000169919.12'], 65425688, 65447198)\n",
      "('transcript', ['ENST00000345660.6'], ['ENSG00000169919.12'], 65425688, 65447198)\n",
      "('transcript', ['ENST00000465785.1'], ['ENSG00000169919.12'], 65439281, 65444495)\n",
      "('transcript', ['ENST00000479038.1'], ['ENSG00000169919.12'], 65439344, 65445398)\n",
      "('transcript', ['ENST00000475316.1'], ['ENSG00000169919.12'], 65439490, 65447075)\n",
      "('transcript', ['ENST00000476486.1'], ['ENSG00000169919.12'], 65439999, 65446958)\n",
      "('transcript', ['ENST00000446111.1'], ['ENSG00000169919.12'], 65440839, 65447200)\n"
     ]
    }
   ],
   "source": [
    "features = {}\n",
    "with open('/home/bay001/test.bed','w') as f:\n",
    "    progress = tnrange(len(bed))\n",
    "    for interval in bed:\n",
    "        fs = a.get_all_overlapping_features_from_query(interval.chrom, interval.start, interval.end, interval.strand)\n",
    "        features['{}:{}-{}'.format(interval.chrom, interval.start, interval.end)] = fs\n",
    "        f.write('{}\\t{}\\t{}\\t{}\\t{}\\t{}\\t{}\\n'.format(\n",
    "            interval.chrom,\n",
    "            interval.start,\n",
    "            interval.end,\n",
    "            interval.name,\n",
    "            interval.score,\n",
    "            interval.strand,\n",
    "            a.prioritize(fs, v=False)\n",
    "        ))\n",
    "        if interval.start == 65440934:\n",
    "            print(interval.end)\n",
    "            a.prioritize(fs, v=True)\n",
    "        progress.update(1)"
   ]
  },
  {
   "cell_type": "code",
   "execution_count": 6,
   "metadata": {},
   "outputs": [
    {
     "ename": "SyntaxError",
     "evalue": "invalid syntax (<ipython-input-6-2f4194e568f6>, line 1)",
     "output_type": "error",
     "traceback": [
      "\u001b[0;36m  File \u001b[0;32m\"<ipython-input-6-2f4194e568f6>\"\u001b[0;36m, line \u001b[0;32m1\u001b[0m\n\u001b[0;31m    chr7:65440934-65440963\u001b[0m\n\u001b[0m        ^\u001b[0m\n\u001b[0;31mSyntaxError\u001b[0m\u001b[0;31m:\u001b[0m invalid syntax\n"
     ]
    }
   ],
   "source": [
    "chr7:65440934-65440963"
   ]
  },
  {
   "cell_type": "code",
   "execution_count": null,
   "metadata": {
    "collapsed": true,
    "scrolled": true
   },
   "outputs": [],
   "source": [
    "len(a.get_all_overlapping_features_from_query(u'chr7',98479373,98479416))"
   ]
  },
  {
   "cell_type": "code",
   "execution_count": null,
   "metadata": {
    "collapsed": true
   },
   "outputs": [],
   "source": [
    "features['chr7:104742399-104742504']"
   ]
  },
  {
   "cell_type": "code",
   "execution_count": null,
   "metadata": {
    "collapsed": true
   },
   "outputs": [],
   "source": [
    "r.classify(features['chr7:104742399-104742504'])"
   ]
  },
  {
   "cell_type": "code",
   "execution_count": null,
   "metadata": {
    "collapsed": true
   },
   "outputs": [],
   "source": []
  },
  {
   "cell_type": "code",
   "execution_count": null,
   "metadata": {
    "collapsed": true
   },
   "outputs": [],
   "source": []
  },
  {
   "cell_type": "code",
   "execution_count": null,
   "metadata": {
    "collapsed": true
   },
   "outputs": [],
   "source": [
    "genes = gene_dict(features['chr7:104742399-104742504'])"
   ]
  },
  {
   "cell_type": "code",
   "execution_count": null,
   "metadata": {
    "collapsed": true
   },
   "outputs": [],
   "source": [
    "def transcript_dict(features, priority=PRIORITY):\n",
    "    \"\"\"\n",
    "    Groups each transcript feature into genes.\n",
    "    \"\"\"\n",
    "    transcripts = defaultdict(list)\n",
    "    for feature in features:\n",
    "        for transcript_id in feature.attributes['transcript_id']:\n",
    "            transcripts[transcript_id].append(feature)\n",
    "    for transcript, features in transcripts.iteritems():\n",
    "        features.sort(key=lambda x: priority.index(x.featuretype.upper()))\n",
    "    return transcripts"
   ]
  },
  {
   "cell_type": "code",
   "execution_count": null,
   "metadata": {
    "collapsed": true
   },
   "outputs": [],
   "source": [
    "from collections import defaultdict\n",
    "\n",
    "# PRIORITY = ['UTR', 'CDS', 'utr3', 'EXON', 'GENE', 'TRANSCRIPT']\n",
    "PRIORITY = ['CDS', 'UTR', 'GENE', 'EXON', 'TRANSCRIPT', 'START_CODON', 'STOP_CODON']\n",
    "\n",
    "def prioritize(features, priority=PRIORITY):\n",
    "    \"\"\"\n",
    "    # Groups each transcript feature into genes.\n",
    "    \"\"\"\n",
    "    hi = [] # contains highest priority genic feature for each gene\n",
    "    genes = defaultdict(list)\n",
    "    for feature in features:\n",
    "        for gene_id in feature.attributes['gene_id']:\n",
    "            genes[gene_id].append(feature)\n",
    "    for gene, features in genes.iteritems():\n",
    "        features.sort(key=lambda x: priority.index(x.featuretype.upper()))\n",
    "    for gene_id, overlapping_features in genes.iteritems():\n",
    "        \n",
    "        hi.append('{}|{}'.format(overlapping_features[0].featuretype.replace('gene','INTRON'), gene_id))\n",
    "    return hi"
   ]
  },
  {
   "cell_type": "code",
   "execution_count": null,
   "metadata": {
    "collapsed": true
   },
   "outputs": [],
   "source": [
    "genes"
   ]
  },
  {
   "cell_type": "code",
   "execution_count": null,
   "metadata": {
    "collapsed": true
   },
   "outputs": [],
   "source": []
  },
  {
   "cell_type": "code",
   "execution_count": null,
   "metadata": {
    "collapsed": true
   },
   "outputs": [],
   "source": []
  }
 ],
 "metadata": {
  "kernelspec": {
   "display_name": "Python 2",
   "language": "python",
   "name": "python2"
  },
  "language_info": {
   "codemirror_mode": {
    "name": "ipython",
    "version": 2
   },
   "file_extension": ".py",
   "mimetype": "text/x-python",
   "name": "python",
   "nbconvert_exporter": "python",
   "pygments_lexer": "ipython2",
   "version": "2.7.13"
  }
 },
 "nbformat": 4,
 "nbformat_minor": 2
}
