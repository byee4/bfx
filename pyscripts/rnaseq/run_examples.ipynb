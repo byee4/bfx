{
 "cells": [
  {
   "cell_type": "code",
   "execution_count": 1,
   "metadata": {},
   "outputs": [],
   "source": [
    "import pandas as pd\n",
    "import rmats_inclevel_analysis as r"
   ]
  },
  {
   "cell_type": "code",
   "execution_count": 2,
   "metadata": {},
   "outputs": [],
   "source": [
    "clip_manifest = pd.read_table('/home/bay001/projects/maps_20160420/permanent_data/ALLDATASETS_submittedonly.txt')\n",
    "annotation_dir = '/projects/ps-yeolab3/bay001/maps/current_annotations/se/'\n",
    "hepg2_rnaseq_manifest = '/home/bay001/projects/maps_20160420/permanent_data/RNASeq_final_exp_list_HepG2.csv'\n",
    "k562_rnaseq_manifest = '/home/bay001/projects/maps_20160420/permanent_data/RNASeq_final_exp_list_K562.csv'\n",
    "rnaseq_manifests = {'HepG2':hepg2_rnaseq_manifest, 'K562':k562_rnaseq_manifest}\n",
    "pos_suffix = '.positive.nr.txt'\n",
    "neg_suffix = '.negative.nr.txt'"
   ]
  },
  {
   "cell_type": "markdown",
   "metadata": {},
   "source": [
    "# Write to file all the significant positive/negative significant junctioncount differences in a folder."
   ]
  },
  {
   "cell_type": "code",
   "execution_count": 3,
   "metadata": {},
   "outputs": [
    {
     "name": "stdout",
     "output_type": "stream",
     "text": [
      "Missing from folder:\tuID\tCELL\tRBP\tREASON\n",
      "Missing from folder:\t241\tK562\tDDX42\tNO_RNASEQ\n",
      "Missing from folder:\t246\tK562\tAUH\tNO POS SIG EVENTS\n",
      "Missing from folder:\t246\tK562\tAUH\tNO NEG SIG EVENTS\n",
      "Missing from folder:\t256\tK562\tSLTM\tNO POS SIG EVENTS\n",
      "Missing from folder:\t256\tK562\tSLTM\tNO NEG SIG EVENTS\n",
      "Missing from folder:\t275\tK562\tCSTF2T\tNO POS SIG EVENTS\n",
      "Missing from folder:\t275\tK562\tCSTF2T\tNO NEG SIG EVENTS\n",
      "Missing from folder:\t279\tK562\tFAM120A\tNO POS SIG EVENTS\n",
      "Missing from folder:\t279\tK562\tFAM120A\tNO NEG SIG EVENTS\n",
      "Missing from folder:\t332\tK562\tRBM27\tNO_RNASEQ\n",
      "Missing from folder:\t341\tK562\tDGCR8\tNO_RNASEQ\n",
      "Missing from folder:\t358\tK562\tGNL3\tNO_RNASEQ\n",
      "Missing from folder:\t366\tK562\tTNRC6A\tNO_RNASEQ\n",
      "Missing from folder:\t367\tK562\tYWHAG\tNO_RNASEQ\n",
      "Missing from folder:\t383\tHepG2\tDGCR8\tNO_RNASEQ\n",
      "Missing from folder:\t415\tHepG2\tTNRC6A\tNO_RNASEQ\n",
      "Missing from folder:\t417\tK562\tPOLR2G\tNO_RNASEQ\n",
      "Missing from folder:\t444\tK562\tLSM11\tNO POS SIG EVENTS\n",
      "Missing from folder:\t444\tK562\tLSM11\tNO NEG SIG EVENTS\n",
      "Missing from folder:\t460\tK562\tFASTKD2\tNO POS SIG EVENTS\n",
      "Missing from folder:\t460\tK562\tFASTKD2\tNO NEG SIG EVENTS\n",
      "Missing from folder:\t484\tHepG2\tPOLR2G\tNO_RNASEQ\n",
      "Missing from folder:\t516\tK562\tNOLC1\tNO_RNASEQ\n",
      "Missing from folder:\t540\tHepG2\tRPS3\tNO_RNASEQ\n",
      "Missing from folder:\t543\tHepG2\tAGGF1\tNO_RNASEQ\n",
      "Missing from folder:\t553\tHepG2\tNOLC1\tNO_RNASEQ\n",
      "Missing from folder:\t491\tK562\tEXOSC5\tNO_RNASEQ\n",
      "Missing from folder:\t529\tK562\tRPS24\tNO_RNASEQ\n",
      "Missing from folder:\t531\tK562\tRPS5\tNO_RNASEQ\n",
      "Missing from folder:\t614\tK562\tRPS11\tNO_RNASEQ\n",
      "Missing from folder:\t641\tHepG2\tZC3H11A\tNO_RNASEQ\n",
      "Missing from folder:\t570\tK562\tZNF622\tNO_RNASEQ\n",
      "Missing from folder:\t545\tHepG2\tEIF3H\tNO_RNASEQ\n",
      "Missing from folder:\t390x4000\tHepG2\tDDX20\tNO_RNASEQ\n",
      "Missing from folder:\t679\tHepG2\tRPL23A\tNO POS SIG EVENTS\n",
      "Missing from folder:\t679\tHepG2\tRPL23A\tNO NEG SIG EVENTS\n",
      "Missing from folder:\t684\tK562\tZC3H11A\tNO_RNASEQ\n"
     ]
    }
   ],
   "source": [
    "out_file = '/home/bay001/projects/codebase/data/test_num_differential_events.txt'\n",
    "\n",
    "df = r.run_num_differential_events(\n",
    "    clip_manifest_df=clip_manifest, \n",
    "    rnaseq_manifests_dict=rnaseq_manifests, \n",
    "    annotation_dir=annotation_dir, \n",
    "    pos_suffix=pos_suffix, \n",
    "    neg_suffix=neg_suffix, \n",
    ")"
   ]
  },
  {
   "cell_type": "markdown",
   "metadata": {},
   "source": [
    "# Violin plot of junction counts example"
   ]
  },
  {
   "cell_type": "code",
   "execution_count": 11,
   "metadata": {},
   "outputs": [],
   "source": [
    "f = '/projects/ps-yeolab3/bay001/maps/current_annotations/se/RBFOX2-BGHLV26-HepG2-SE.MATS.JunctionCountOnly.txt'\n",
    "out_file = '/home/bay001/projects/codebase/data/test_num_differential_events_violin.png'\n",
    "\n",
    "violin_df = r.make_df_for_violin_plot(f) # to just get the underlying dataframe\n",
    "r.make_violin_plot_single_rbp(f, out_file)"
   ]
  },
  {
   "cell_type": "markdown",
   "metadata": {},
   "source": [
    "# Histogram of average junction counts example"
   ]
  },
  {
   "cell_type": "code",
   "execution_count": 9,
   "metadata": {},
   "outputs": [
    {
     "data": {
      "text/plain": [
       "array([  5979.,   1149.,    669.,    507.,    436.,    347.,    282.,\n",
       "          241.,    325.,    217.,    218.,    195.,    639.,    238.,\n",
       "          247.,    313.,    408.,    339.,    459.,    457.,    629.,\n",
       "          808.,   1078.,   1969.,  14674.])"
      ]
     },
     "execution_count": 9,
     "metadata": {},
     "output_type": "execute_result"
    }
   ],
   "source": [
    "f = '/projects/ps-yeolab3/bay001/maps/current_annotations/se/RBFOX2-BGHLV26-HepG2-SE.MATS.JunctionCountOnly.txt'\n",
    "df = pd.read_table(f)\n",
    "r.get_hist(df)"
   ]
  },
  {
   "cell_type": "code",
   "execution_count": null,
   "metadata": {},
   "outputs": [],
   "source": [
    ""
   ]
  }
 ],
 "metadata": {
  "kernelspec": {
   "display_name": "Python 2",
   "language": "python",
   "name": "python2"
  },
  "language_info": {
   "codemirror_mode": {
    "name": "ipython",
    "version": 2.0
   },
   "file_extension": ".py",
   "mimetype": "text/x-python",
   "name": "python",
   "nbconvert_exporter": "python",
   "pygments_lexer": "ipython2",
   "version": "2.7.12"
  }
 },
 "nbformat": 4,
 "nbformat_minor": 0
}